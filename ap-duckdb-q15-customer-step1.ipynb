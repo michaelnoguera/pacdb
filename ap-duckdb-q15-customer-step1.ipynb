{
 "cells": [
  {
   "cell_type": "markdown",
   "id": "60040e10",
   "metadata": {
    "papermill": {
     "duration": 0.00797,
     "end_time": "2025-05-01T09:34:08.686249",
     "exception": false,
     "start_time": "2025-05-01T09:34:08.678279",
     "status": "completed"
    },
    "tags": []
   },
   "source": [
    "## DuckDB Notebook\n",
    "\n",
    "This notebook generates a bunch of raw outputs, without applying PAC, to be consumed by a second stage."
   ]
  },
  {
   "cell_type": "markdown",
   "id": "ad6388d8",
   "metadata": {
    "papermill": {
     "duration": 0.002837,
     "end_time": "2025-05-01T09:34:08.692976",
     "exception": false,
     "start_time": "2025-05-01T09:34:08.690139",
     "status": "completed"
    },
    "tags": []
   },
   "source": [
    "```\n",
    " group by              output cols                        \n",
    " key cols ┌────────┬────────┬────────┬────────┐           \n",
    "        │ │   A    │   B    │   C    │   D    │           \n",
    "      ┌─▼─┼────────┼────────┼────────┼────────┤           \n",
    "      │ 1 │   2    │        │        │        │           \n",
    "      ├───┼───|────┼────────┼────────┼────────┤           \n",
    "      │ 2 │   │    │        │        │        │           \n",
    "      ├───┼───┼────┼────────┼────────┼────────┤           \n",
    "      │ 3 │   │    │        │        │        │           \n",
    "      └───┴───┼────┴────────┴────────┴────────┘           \n",
    "              ▼                 A_1.json                  \n",
    "       Sample 0:   A1=2        ┌─────────────────────────┐\n",
    "       Sample 1:   A1=4  ───▶  │{                        │\n",
    "             ...               │    col: A               │\n",
    "       Sample 999: A1=3        │    row: 1               │\n",
    "                               │    value: [2, 4, ... 3] │\n",
    "                               │}                        │\n",
    "                               └─────────────────────────┘\n",
    "```"
   ]
  },
  {
   "cell_type": "code",
   "execution_count": 1,
   "id": "59836cc9",
   "metadata": {
    "execution": {
     "iopub.execute_input": "2025-05-01T09:34:08.699287Z",
     "iopub.status.busy": "2025-05-01T09:34:08.699065Z",
     "iopub.status.idle": "2025-05-01T09:34:08.783808Z",
     "shell.execute_reply": "2025-05-01T09:34:08.783538Z"
    },
    "papermill": {
     "duration": 0.089322,
     "end_time": "2025-05-01T09:34:08.784653",
     "exception": false,
     "start_time": "2025-05-01T09:34:08.695331",
     "status": "completed"
    },
    "tags": []
   },
   "outputs": [],
   "source": [
    "#!/usr/bin/env python\n",
    "# coding: utf-8\n",
    "\n",
    "import os\n",
    "import pickle\n",
    "import shutil\n",
    "\n",
    "import duckdb\n",
    "import polars as pl"
   ]
  },
  {
   "cell_type": "code",
   "execution_count": 2,
   "id": "e054c6fa",
   "metadata": {
    "execution": {
     "iopub.execute_input": "2025-05-01T09:34:08.787723Z",
     "iopub.status.busy": "2025-05-01T09:34:08.787616Z",
     "iopub.status.idle": "2025-05-01T09:34:08.790110Z",
     "shell.execute_reply": "2025-05-01T09:34:08.789888Z"
    },
    "papermill": {
     "duration": 0.004647,
     "end_time": "2025-05-01T09:34:08.790745",
     "exception": false,
     "start_time": "2025-05-01T09:34:08.786098",
     "status": "completed"
    },
    "tags": [
     "parameters"
    ]
   },
   "outputs": [],
   "source": [
    "EXPERIMENT = \"pac-duckdb-q1\"\n",
    "OUTPUT_DIR = f\"./outputs/{EXPERIMENT}-step1\"\n",
    "SAMPLES = 1024\n",
    "\n",
    "SAMPLE_STEP = f\"\"\"\n",
    "DROP TABLE IF EXISTS random_samples;\n",
    "\n",
    "CREATE TABLE random_samples AS\n",
    "WITH sample_numbers AS MATERIALIZED (\n",
    "    SELECT range AS sample_id FROM range({SAMPLES//2})\n",
    "), random_values AS MATERIALIZED (\n",
    "    SELECT \n",
    "        sample_numbers.sample_id,\n",
    "        customer.rowid AS row_id,\n",
    "        (RANDOM() > 0.5)::BOOLEAN AS random_binary\n",
    "    FROM sample_numbers\n",
    "    JOIN customer ON TRUE  -- Cross join to duplicate rows for each sample\n",
    ")\n",
    "SELECT\n",
    "    sample_id,\n",
    "    row_id,\n",
    "    random_binary\n",
    "FROM random_values\n",
    "UNION ALL\n",
    "SELECT -- select the complementary samples too\n",
    "    ({SAMPLES//2}) + sample_id,\n",
    "    row_id,\n",
    "    NOT random_binary  -- Inverse the random_binary to get the complementary sample\n",
    "FROM random_values\n",
    "ORDER BY sample_id, row_id;\n",
    "\"\"\"\n",
    "\n",
    "PREPARE_STEP = \"\"\"\n",
    "DEALLOCATE PREPARE run_query;\n",
    "\n",
    "PREPARE run_query AS \n",
    "SELECT\n",
    "    l_returnflag,\n",
    "    l_linestatus,\n",
    "    2*sum(l_quantity) AS sum_qty,\n",
    "    2*sum(l_extendedprice) AS sum_base_price,\n",
    "    2*sum(l_extendedprice * (1 - l_discount)) AS sum_disc_price,\n",
    "    2*sum(l_extendedprice * (1 - l_discount) * (1 + l_tax)) AS sum_charge,\n",
    "    avg(l_quantity) AS avg_qty,\n",
    "    avg(l_extendedprice) AS avg_price,\n",
    "    avg(l_discount) AS avg_disc,\n",
    "    2*count(*) AS count_order\n",
    "FROM\n",
    "    lineitem\n",
    "JOIN orders ON lineitem.l_orderkey = orders.o_orderkey\n",
    "JOIN customer ON orders.o_custkey = customer.c_custkey\n",
    "JOIN random_samples AS rs\n",
    "    ON rs.row_id = customer.rowid\n",
    "WHERE\n",
    "    l_shipdate <= CAST('1998-09-02' AS date)\n",
    "    AND rs.random_binary = TRUE\n",
    "    AND rs.sample_id = $sample\n",
    "GROUP BY\n",
    "    l_returnflag,\n",
    "    l_linestatus\n",
    "ORDER BY\n",
    "    l_returnflag,\n",
    "    l_linestatus;\n",
    "\"\"\"\n",
    "\n",
    "INDEX_COLS = ['l_returnflag', 'l_linestatus']\n",
    "OUTPUT_COLS = ['sum_qty', 'sum_base_price', 'sum_disc_price', 'sum_charge', 'avg_qty', 'avg_price', 'avg_disc', 'count_order']"
   ]
  },
  {
   "cell_type": "code",
   "execution_count": 3,
   "id": "adeef81a",
   "metadata": {
    "execution": {
     "iopub.execute_input": "2025-05-01T09:34:08.793767Z",
     "iopub.status.busy": "2025-05-01T09:34:08.793671Z",
     "iopub.status.idle": "2025-05-01T09:34:08.795635Z",
     "shell.execute_reply": "2025-05-01T09:34:08.795426Z"
    },
    "papermill": {
     "duration": 0.004105,
     "end_time": "2025-05-01T09:34:08.796246",
     "exception": false,
     "start_time": "2025-05-01T09:34:08.792141",
     "status": "completed"
    },
    "tags": [
     "injected-parameters"
    ]
   },
   "outputs": [],
   "source": [
    "# Parameters\n",
    "EXPERIMENT = \"ap-duckdb-q15-customer\"\n",
    "OUTPUT_DIR = \"./outputs/ap-duckdb-q15-customer-step1\"\n",
    "SAMPLES = 1024\n",
    "SAMPLE_STEP = \"DROP TABLE IF EXISTS random_samples;\\n\\nCREATE TABLE random_samples AS\\nWITH sample_numbers AS MATERIALIZED (\\n    SELECT range AS sample_id FROM range(1024 // 2)\\n), random_values AS MATERIALIZED (\\n    SELECT \\n        sample_numbers.sample_id,\\n        customer.rowid AS row_id,\\n        (RANDOM() > 0.5)::BOOLEAN AS random_binary\\n    FROM sample_numbers\\n    JOIN customer ON TRUE  -- Cross join to duplicate rows for each sample\\n)\\nSELECT\\n    sample_id,\\n    row_id,\\n    random_binary\\nFROM random_values\\nUNION ALL\\nSELECT -- select the complementary samples too\\n    (1024 // 2) + sample_id,\\n    row_id,\\n    NOT random_binary  -- Inverse the random_binary to get the complementary sample\\nFROM random_values\\nORDER BY sample_id, row_id;\"\n",
    "PREPARE_STEP = \"DEALLOCATE PREPARE run_query;\\n\\nPREPARE run_query AS \\nWITH revenue AS (\\n    SELECT\\n        l_suppkey AS supplier_no,\\n        sum(l_extendedprice * (1 - l_discount)) AS total_revenue\\n    FROM\\n        lineitem,\\n        orders,\\n        customer,\\n        random_samples AS rs\\n    WHERE\\n        rs.row_id = customer.rowid\\n        AND rs.random_binary = TRUE\\n        AND rs.sample_id = $sample\\n        AND o_custkey = c_custkey\\n        AND o_orderkey = l_orderkey\\n        AND l_shipdate >= CAST('1996-01-01' AS date)\\n        AND l_shipdate < CAST('1996-04-01' AS date)\\n    GROUP BY\\n        supplier_no\\n)\\nSELECT\\n    s_suppkey,\\n    s_name,\\n    s_address,\\n    s_phone,\\n    total_revenue\\nFROM\\n    supplier,\\n    revenue\\nWHERE\\n    s_suppkey = supplier_no\\n    AND total_revenue = (\\n        SELECT\\n            max(total_revenue)\\n        FROM revenue)\\nORDER BY\\n    s_suppkey;\"\n",
    "INDEX_COLS = [\"s_suppkey\", \"s_name\", \"s_address\", \"s_phone\"]\n",
    "OUTPUT_COLS = [\"total_revenue\"]\n"
   ]
  },
  {
   "cell_type": "code",
   "execution_count": 4,
   "id": "e51d22d5",
   "metadata": {
    "execution": {
     "iopub.execute_input": "2025-05-01T09:34:08.799592Z",
     "iopub.status.busy": "2025-05-01T09:34:08.799475Z",
     "iopub.status.idle": "2025-05-01T09:34:08.801112Z",
     "shell.execute_reply": "2025-05-01T09:34:08.800909Z"
    },
    "papermill": {
     "duration": 0.004254,
     "end_time": "2025-05-01T09:34:08.801741",
     "exception": false,
     "start_time": "2025-05-01T09:34:08.797487",
     "status": "completed"
    },
    "tags": []
   },
   "outputs": [],
   "source": [
    "if not os.path.exists(OUTPUT_DIR):\n",
    "    os.makedirs(OUTPUT_DIR)"
   ]
  },
  {
   "cell_type": "code",
   "execution_count": 5,
   "id": "b5956f24",
   "metadata": {
    "execution": {
     "iopub.execute_input": "2025-05-01T09:34:08.804644Z",
     "iopub.status.busy": "2025-05-01T09:34:08.804537Z",
     "iopub.status.idle": "2025-05-01T09:34:09.120891Z",
     "shell.execute_reply": "2025-05-01T09:34:09.120620Z"
    },
    "papermill": {
     "duration": 0.318696,
     "end_time": "2025-05-01T09:34:09.121716",
     "exception": false,
     "start_time": "2025-05-01T09:34:08.803020",
     "status": "completed"
    },
    "tags": []
   },
   "outputs": [],
   "source": [
    "# duckdb load data/tpch/tpch.duckdb into the temporary in-memory database\n",
    "con = duckdb.connect(database=':memory:')\n",
    "tables = [\"customer\", \"lineitem\", \"nation\", \"orders\", \"part\", \"partsupp\", \"region\", \"supplier\"]\n",
    "for t in tables:\n",
    "    con.execute(f\"CREATE TABLE {t} AS SELECT * FROM 'data/tpch/{t}.parquet'\")"
   ]
  },
  {
   "cell_type": "code",
   "execution_count": 6,
   "id": "b9b0a588",
   "metadata": {
    "execution": {
     "iopub.execute_input": "2025-05-01T09:34:09.125172Z",
     "iopub.status.busy": "2025-05-01T09:34:09.125060Z",
     "iopub.status.idle": "2025-05-01T09:34:10.109668Z",
     "shell.execute_reply": "2025-05-01T09:34:10.109412Z"
    },
    "papermill": {
     "duration": 0.987136,
     "end_time": "2025-05-01T09:34:10.110513",
     "exception": false,
     "start_time": "2025-05-01T09:34:09.123377",
     "status": "completed"
    },
    "tags": []
   },
   "outputs": [],
   "source": [
    "# Construct the table of random samples\n",
    "# to use, join it with the lineitem table (for specific sample # s) and filter to just the\n",
    "# rows where random_binary = 1.0\n",
    "# This will give us a 50% sample of the lineitem table for each sample # s\n",
    "\n",
    "assert SAMPLES % 2 == 0, \"SAMPLES must be even to create complementary samples.\"\n",
    "\n",
    "random_samples = con.execute(SAMPLE_STEP)"
   ]
  },
  {
   "cell_type": "markdown",
   "id": "12666461",
   "metadata": {
    "papermill": {
     "duration": 0.001229,
     "end_time": "2025-05-01T09:34:10.113278",
     "exception": false,
     "start_time": "2025-05-01T09:34:10.112049",
     "status": "completed"
    },
    "tags": []
   },
   "source": [
    "The randomness of what rows are chosen is saved to disk in `random_binary.json`. For each sample #, there is an array with one entry per row, where 1 means the row was chosen and 0 means it was not."
   ]
  },
  {
   "cell_type": "code",
   "execution_count": 7,
   "id": "d2fbaaa5",
   "metadata": {
    "execution": {
     "iopub.execute_input": "2025-05-01T09:34:10.116684Z",
     "iopub.status.busy": "2025-05-01T09:34:10.116571Z",
     "iopub.status.idle": "2025-05-01T09:34:10.457801Z",
     "shell.execute_reply": "2025-05-01T09:34:10.457516Z"
    },
    "papermill": {
     "duration": 0.344096,
     "end_time": "2025-05-01T09:34:10.458704",
     "exception": false,
     "start_time": "2025-05-01T09:34:10.114608",
     "status": "completed"
    },
    "tags": []
   },
   "outputs": [],
   "source": [
    "con.execute(\"\"\"\n",
    "SELECT sample_id, array_agg(random_binary::TINYINT) as random_binary\n",
    "FROM random_samples\n",
    "GROUP BY sample_id;\n",
    "\"\"\").pl().write_json(f\"{OUTPUT_DIR}/random_binary.json\")"
   ]
  },
  {
   "cell_type": "markdown",
   "id": "91e68d82",
   "metadata": {
    "papermill": {
     "duration": 0.001356,
     "end_time": "2025-05-01T09:34:10.461724",
     "exception": false,
     "start_time": "2025-05-01T09:34:10.460368",
     "status": "completed"
    },
    "tags": []
   },
   "source": [
    "Query is specified as a prepared statement. We will then execute it once per sample."
   ]
  },
  {
   "cell_type": "code",
   "execution_count": 8,
   "id": "f025ab0b",
   "metadata": {
    "execution": {
     "iopub.execute_input": "2025-05-01T09:34:10.464965Z",
     "iopub.status.busy": "2025-05-01T09:34:10.464690Z",
     "iopub.status.idle": "2025-05-01T09:34:10.534207Z",
     "shell.execute_reply": "2025-05-01T09:34:10.533910Z"
    },
    "papermill": {
     "duration": 0.071859,
     "end_time": "2025-05-01T09:34:10.534881",
     "exception": false,
     "start_time": "2025-05-01T09:34:10.463022",
     "status": "completed"
    },
    "tags": []
   },
   "outputs": [
    {
     "data": {
      "text/html": [
       "<div><style>\n",
       ".dataframe > thead > tr,\n",
       ".dataframe > tbody > tr {\n",
       "  text-align: right;\n",
       "  white-space: pre-wrap;\n",
       "}\n",
       "</style>\n",
       "<small>shape: (1, 5)</small><table border=\"1\" class=\"dataframe\"><thead><tr><th>s_suppkey</th><th>s_name</th><th>s_address</th><th>s_phone</th><th>total_revenue</th></tr><tr><td>i64</td><td>str</td><td>str</td><td>str</td><td>decimal[38,4]</td></tr></thead><tbody><tr><td>913</td><td>&quot;Supplier#000000913&quot;</td><td>&quot;PTSEe31GjmUGy58DpRn&quot;</td><td>&quot;34-601-419-1634&quot;</td><td>1096848.4787</td></tr></tbody></table></div>"
      ],
      "text/plain": [
       "shape: (1, 5)\n",
       "┌───────────┬────────────────────┬─────────────────────┬─────────────────┬───────────────┐\n",
       "│ s_suppkey ┆ s_name             ┆ s_address           ┆ s_phone         ┆ total_revenue │\n",
       "│ ---       ┆ ---                ┆ ---                 ┆ ---             ┆ ---           │\n",
       "│ i64       ┆ str                ┆ str                 ┆ str             ┆ decimal[38,4] │\n",
       "╞═══════════╪════════════════════╪═════════════════════╪═════════════════╪═══════════════╡\n",
       "│ 913       ┆ Supplier#000000913 ┆ PTSEe31GjmUGy58DpRn ┆ 34-601-419-1634 ┆ 1096848.4787  │\n",
       "└───────────┴────────────────────┴─────────────────────┴─────────────────┴───────────────┘"
      ]
     },
     "execution_count": 8,
     "metadata": {},
     "output_type": "execute_result"
    }
   ],
   "source": [
    "# Query\n",
    "con.execute(PREPARE_STEP)\n",
    "\n",
    "# Run query to see output\n",
    "dfs0 = con.execute(f\"EXECUTE run_query(sample := {0});\").pl()\n",
    "\n",
    "# Save csv copies of the first 5 samples\n",
    "os.makedirs(f\"{OUTPUT_DIR}/csv\", exist_ok=True)\n",
    "for s in range(5):\n",
    "    con.execute(f\"EXECUTE run_query(sample := {s});\").pl().write_csv(f\"{OUTPUT_DIR}/csv/sample_{s}.csv\")\n",
    "\n",
    "dfs0"
   ]
  },
  {
   "cell_type": "code",
   "execution_count": 9,
   "id": "8d926510",
   "metadata": {
    "execution": {
     "iopub.execute_input": "2025-05-01T09:34:10.538182Z",
     "iopub.status.busy": "2025-05-01T09:34:10.538071Z",
     "iopub.status.idle": "2025-05-01T09:34:19.057401Z",
     "shell.execute_reply": "2025-05-01T09:34:19.057119Z"
    },
    "papermill": {
     "duration": 8.52168,
     "end_time": "2025-05-01T09:34:19.058121",
     "exception": false,
     "start_time": "2025-05-01T09:34:10.536441",
     "status": "completed"
    },
    "tags": []
   },
   "outputs": [
    {
     "data": {
      "text/html": [
       "<div><style>\n",
       ".dataframe > thead > tr,\n",
       ".dataframe > tbody > tr {\n",
       "  text-align: right;\n",
       "  white-space: pre-wrap;\n",
       "}\n",
       "</style>\n",
       "<small>shape: (1_024, 6)</small><table border=\"1\" class=\"dataframe\"><thead><tr><th>sample</th><th>s_suppkey</th><th>s_name</th><th>s_address</th><th>s_phone</th><th>total_revenue</th></tr><tr><td>i32</td><td>i64</td><td>str</td><td>str</td><td>str</td><td>decimal[38,4]</td></tr></thead><tbody><tr><td>0</td><td>913</td><td>&quot;Supplier#000000913&quot;</td><td>&quot;PTSEe31GjmUGy58DpRn&quot;</td><td>&quot;34-601-419-1634&quot;</td><td>1096848.4787</td></tr><tr><td>1</td><td>474</td><td>&quot;Supplier#000000474&quot;</td><td>&quot;78jpeO3SIlDN6&quot;</td><td>&quot;10-327-319-7717&quot;</td><td>850900.5840</td></tr><tr><td>2</td><td>677</td><td>&quot;Supplier#000000677&quot;</td><td>&quot;TEJ LMkTnY5hp8aQckzyb&quot;</td><td>&quot;23-290-639-3315&quot;</td><td>1036983.5762</td></tr><tr><td>3</td><td>378</td><td>&quot;Supplier#000000378&quot;</td><td>&quot;mLPJtpu4wOc cSFzBR&quot;</td><td>&quot;13-930-567-5190&quot;</td><td>936489.1162</td></tr><tr><td>4</td><td>220</td><td>&quot;Supplier#000000220&quot;</td><td>&quot;yw45wy2XyjPmY4XXHOcVYSvtU&quot;</td><td>&quot;29-197-645-8102&quot;</td><td>1038827.3707</td></tr><tr><td>&hellip;</td><td>&hellip;</td><td>&hellip;</td><td>&hellip;</td><td>&hellip;</td><td>&hellip;</td></tr><tr><td>1019</td><td>187</td><td>&quot;Supplier#000000187&quot;</td><td>&quot;Deyt7GUJ7tgaJIpw 6QQXYsgcILdCP…</td><td>&quot;28-127-320-9230&quot;</td><td>965828.4291</td></tr><tr><td>1020</td><td>696</td><td>&quot;Supplier#000000696&quot;</td><td>&quot;K4wgrSdZma4,GHmj&quot;</td><td>&quot;10-745-572-7198&quot;</td><td>935633.5501</td></tr><tr><td>1021</td><td>677</td><td>&quot;Supplier#000000677&quot;</td><td>&quot;TEJ LMkTnY5hp8aQckzyb&quot;</td><td>&quot;23-290-639-3315&quot;</td><td>962028.3048</td></tr><tr><td>1022</td><td>677</td><td>&quot;Supplier#000000677&quot;</td><td>&quot;TEJ LMkTnY5hp8aQckzyb&quot;</td><td>&quot;23-290-639-3315&quot;</td><td>1064487.8757</td></tr><tr><td>1023</td><td>677</td><td>&quot;Supplier#000000677&quot;</td><td>&quot;TEJ LMkTnY5hp8aQckzyb&quot;</td><td>&quot;23-290-639-3315&quot;</td><td>958369.5758</td></tr></tbody></table></div>"
      ],
      "text/plain": [
       "shape: (1_024, 6)\n",
       "┌────────┬───────────┬────────────────────┬──────────────────────┬─────────────────┬───────────────┐\n",
       "│ sample ┆ s_suppkey ┆ s_name             ┆ s_address            ┆ s_phone         ┆ total_revenue │\n",
       "│ ---    ┆ ---       ┆ ---                ┆ ---                  ┆ ---             ┆ ---           │\n",
       "│ i32    ┆ i64       ┆ str                ┆ str                  ┆ str             ┆ decimal[38,4] │\n",
       "╞════════╪═══════════╪════════════════════╪══════════════════════╪═════════════════╪═══════════════╡\n",
       "│ 0      ┆ 913       ┆ Supplier#000000913 ┆ PTSEe31GjmUGy58DpRn  ┆ 34-601-419-1634 ┆ 1096848.4787  │\n",
       "│ 1      ┆ 474       ┆ Supplier#000000474 ┆ 78jpeO3SIlDN6        ┆ 10-327-319-7717 ┆ 850900.5840   │\n",
       "│ 2      ┆ 677       ┆ Supplier#000000677 ┆ TEJ                  ┆ 23-290-639-3315 ┆ 1036983.5762  │\n",
       "│        ┆           ┆                    ┆ LMkTnY5hp8aQckzyb    ┆                 ┆               │\n",
       "│ 3      ┆ 378       ┆ Supplier#000000378 ┆ mLPJtpu4wOc cSFzBR   ┆ 13-930-567-5190 ┆ 936489.1162   │\n",
       "│ 4      ┆ 220       ┆ Supplier#000000220 ┆ yw45wy2XyjPmY4XXHOcV ┆ 29-197-645-8102 ┆ 1038827.3707  │\n",
       "│        ┆           ┆                    ┆ YSvtU                ┆                 ┆               │\n",
       "│ …      ┆ …         ┆ …                  ┆ …                    ┆ …               ┆ …             │\n",
       "│ 1019   ┆ 187       ┆ Supplier#000000187 ┆ Deyt7GUJ7tgaJIpw     ┆ 28-127-320-9230 ┆ 965828.4291   │\n",
       "│        ┆           ┆                    ┆ 6QQXYsgcILdCP…       ┆                 ┆               │\n",
       "│ 1020   ┆ 696       ┆ Supplier#000000696 ┆ K4wgrSdZma4,GHmj     ┆ 10-745-572-7198 ┆ 935633.5501   │\n",
       "│ 1021   ┆ 677       ┆ Supplier#000000677 ┆ TEJ                  ┆ 23-290-639-3315 ┆ 962028.3048   │\n",
       "│        ┆           ┆                    ┆ LMkTnY5hp8aQckzyb    ┆                 ┆               │\n",
       "│ 1022   ┆ 677       ┆ Supplier#000000677 ┆ TEJ                  ┆ 23-290-639-3315 ┆ 1064487.8757  │\n",
       "│        ┆           ┆                    ┆ LMkTnY5hp8aQckzyb    ┆                 ┆               │\n",
       "│ 1023   ┆ 677       ┆ Supplier#000000677 ┆ TEJ                  ┆ 23-290-639-3315 ┆ 958369.5758   │\n",
       "│        ┆           ┆                    ┆ LMkTnY5hp8aQckzyb    ┆                 ┆               │\n",
       "└────────┴───────────┴────────────────────┴──────────────────────┴─────────────────┴───────────────┘"
      ]
     },
     "execution_count": 9,
     "metadata": {},
     "output_type": "execute_result"
    }
   ],
   "source": [
    "# Run the query for each sample, but accumulate in a pl.DataFrame instead of a list\n",
    "dfsdf: pl.DataFrame = pl.concat(\n",
    "    con.execute(f\"EXECUTE run_query(sample := {s});\").pl().insert_column(0, pl.lit(s).alias(\"sample\"))\n",
    "    for s in range(SAMPLES)\n",
    ")\n",
    "dfsdf"
   ]
  },
  {
   "cell_type": "code",
   "execution_count": 10,
   "id": "ebd375b9",
   "metadata": {
    "execution": {
     "iopub.execute_input": "2025-05-01T09:34:19.061953Z",
     "iopub.status.busy": "2025-05-01T09:34:19.061849Z",
     "iopub.status.idle": "2025-05-01T09:34:19.064056Z",
     "shell.execute_reply": "2025-05-01T09:34:19.063832Z"
    },
    "papermill": {
     "duration": 0.004636,
     "end_time": "2025-05-01T09:34:19.064711",
     "exception": false,
     "start_time": "2025-05-01T09:34:19.060075",
     "status": "completed"
    },
    "tags": []
   },
   "outputs": [],
   "source": [
    "# Define which columns are the group-by keys (INDEX_COLS) and which are the output columns (OUTPUT_COLS)\n",
    "# - moved to parameters cell at top of notebook\n",
    "\n",
    "# Save these to disk for later use\n",
    "with open(f\"{OUTPUT_DIR}/INDEX_COLS.pkl\", 'wb') as f:\n",
    "    pickle.dump(INDEX_COLS, f)\n",
    "with open(f\"{OUTPUT_DIR}/OUTPUT_COLS.pkl\", 'wb') as f:\n",
    "    pickle.dump(OUTPUT_COLS, f)"
   ]
  },
  {
   "cell_type": "code",
   "execution_count": 11,
   "id": "07cb55c5",
   "metadata": {
    "execution": {
     "iopub.execute_input": "2025-05-01T09:34:19.068257Z",
     "iopub.status.busy": "2025-05-01T09:34:19.068149Z",
     "iopub.status.idle": "2025-05-01T09:34:19.078204Z",
     "shell.execute_reply": "2025-05-01T09:34:19.077941Z"
    },
    "papermill": {
     "duration": 0.012661,
     "end_time": "2025-05-01T09:34:19.078880",
     "exception": false,
     "start_time": "2025-05-01T09:34:19.066219",
     "status": "completed"
    },
    "tags": []
   },
   "outputs": [
    {
     "data": {
      "text/html": [
       "<div><style>\n",
       ".dataframe > thead > tr,\n",
       ".dataframe > tbody > tr {\n",
       "  text-align: right;\n",
       "  white-space: pre-wrap;\n",
       "}\n",
       "</style>\n",
       "<small>shape: (85, 5)</small><table border=\"1\" class=\"dataframe\"><thead><tr><th>s_suppkey</th><th>s_name</th><th>s_address</th><th>s_phone</th><th>total_revenue</th></tr><tr><td>i64</td><td>str</td><td>str</td><td>str</td><td>list[decimal[38,4]]</td></tr></thead><tbody><tr><td>913</td><td>&quot;Supplier#000000913&quot;</td><td>&quot;PTSEe31GjmUGy58DpRn&quot;</td><td>&quot;34-601-419-1634&quot;</td><td>[1096848.4787, 939060.0882, … 830340.4582]</td></tr><tr><td>474</td><td>&quot;Supplier#000000474&quot;</td><td>&quot;78jpeO3SIlDN6&quot;</td><td>&quot;10-327-319-7717&quot;</td><td>[850900.5840, 883250.3175]</td></tr><tr><td>677</td><td>&quot;Supplier#000000677&quot;</td><td>&quot;TEJ LMkTnY5hp8aQckzyb&quot;</td><td>&quot;23-290-639-3315&quot;</td><td>[1036983.5762, 1129443.7702, … 958369.5758]</td></tr><tr><td>378</td><td>&quot;Supplier#000000378&quot;</td><td>&quot;mLPJtpu4wOc cSFzBR&quot;</td><td>&quot;13-930-567-5190&quot;</td><td>[936489.1162, 996449.0641, … 919534.9702]</td></tr><tr><td>220</td><td>&quot;Supplier#000000220&quot;</td><td>&quot;yw45wy2XyjPmY4XXHOcVYSvtU&quot;</td><td>&quot;29-197-645-8102&quot;</td><td>[1038827.3707, 900669.1939, … 874586.9189]</td></tr><tr><td>&hellip;</td><td>&hellip;</td><td>&hellip;</td><td>&hellip;</td><td>&hellip;</td></tr><tr><td>157</td><td>&quot;Supplier#000000157&quot;</td><td>&quot;1EmkCApL5iF&quot;</td><td>&quot;13-776-259-5994&quot;</td><td>[824768.0440]</td></tr><tr><td>402</td><td>&quot;Supplier#000000402&quot;</td><td>&quot;JR8vWoCteJtJg3okRpt0r28KEo&quot;</td><td>&quot;13-109-731-3195&quot;</td><td>[889440.1401]</td></tr><tr><td>496</td><td>&quot;Supplier#000000496&quot;</td><td>&quot;QMWQx2utAqLlVtzkXD34POTPn dKN1&quot;</td><td>&quot;30-810-880-3654&quot;</td><td>[880258.6398]</td></tr><tr><td>925</td><td>&quot;Supplier#000000925&quot;</td><td>&quot;vXDWBL0AYSnOG2c1UZXkUzMCqF7b83…</td><td>&quot;29-398-723-8226&quot;</td><td>[912189.7834]</td></tr><tr><td>511</td><td>&quot;Supplier#000000511&quot;</td><td>&quot;a4dN7nM05hmQ dWcxT3F&quot;</td><td>&quot;33-476-213-8045&quot;</td><td>[907335.5089]</td></tr></tbody></table></div>"
      ],
      "text/plain": [
       "shape: (85, 5)\n",
       "┌───────────┬────────────────────┬───────────────────────┬─────────────────┬───────────────────────┐\n",
       "│ s_suppkey ┆ s_name             ┆ s_address             ┆ s_phone         ┆ total_revenue         │\n",
       "│ ---       ┆ ---                ┆ ---                   ┆ ---             ┆ ---                   │\n",
       "│ i64       ┆ str                ┆ str                   ┆ str             ┆ list[decimal[38,4]]   │\n",
       "╞═══════════╪════════════════════╪═══════════════════════╪═════════════════╪═══════════════════════╡\n",
       "│ 913       ┆ Supplier#000000913 ┆ PTSEe31GjmUGy58DpRn   ┆ 34-601-419-1634 ┆ [1096848.4787,        │\n",
       "│           ┆                    ┆                       ┆                 ┆ 939060.0882, … …      │\n",
       "│ 474       ┆ Supplier#000000474 ┆ 78jpeO3SIlDN6         ┆ 10-327-319-7717 ┆ [850900.5840,         │\n",
       "│           ┆                    ┆                       ┆                 ┆ 883250.3175]          │\n",
       "│ 677       ┆ Supplier#000000677 ┆ TEJ LMkTnY5hp8aQckzyb ┆ 23-290-639-3315 ┆ [1036983.5762,        │\n",
       "│           ┆                    ┆                       ┆                 ┆ 1129443.7702, ……      │\n",
       "│ 378       ┆ Supplier#000000378 ┆ mLPJtpu4wOc cSFzBR    ┆ 13-930-567-5190 ┆ [936489.1162,         │\n",
       "│           ┆                    ┆                       ┆                 ┆ 996449.0641, … 9…     │\n",
       "│ 220       ┆ Supplier#000000220 ┆ yw45wy2XyjPmY4XXHOcVY ┆ 29-197-645-8102 ┆ [1038827.3707,        │\n",
       "│           ┆                    ┆ SvtU                  ┆                 ┆ 900669.1939, … …      │\n",
       "│ …         ┆ …                  ┆ …                     ┆ …               ┆ …                     │\n",
       "│ 157       ┆ Supplier#000000157 ┆ 1EmkCApL5iF           ┆ 13-776-259-5994 ┆ [824768.0440]         │\n",
       "│ 402       ┆ Supplier#000000402 ┆ JR8vWoCteJtJg3okRpt0r ┆ 13-109-731-3195 ┆ [889440.1401]         │\n",
       "│           ┆                    ┆ 28KEo                 ┆                 ┆                       │\n",
       "│ 496       ┆ Supplier#000000496 ┆ QMWQx2utAqLlVtzkXD34P ┆ 30-810-880-3654 ┆ [880258.6398]         │\n",
       "│           ┆                    ┆ OTPn dKN1             ┆                 ┆                       │\n",
       "│ 925       ┆ Supplier#000000925 ┆ vXDWBL0AYSnOG2c1UZXkU ┆ 29-398-723-8226 ┆ [912189.7834]         │\n",
       "│           ┆                    ┆ zMCqF7b83…            ┆                 ┆                       │\n",
       "│ 511       ┆ Supplier#000000511 ┆ a4dN7nM05hmQ dWcxT3F  ┆ 33-476-213-8045 ┆ [907335.5089]         │\n",
       "└───────────┴────────────────────┴───────────────────────┴─────────────────┴───────────────────────┘"
      ]
     },
     "execution_count": 11,
     "metadata": {},
     "output_type": "execute_result"
    }
   ],
   "source": [
    "# Combine all the samples into one table, grouped-by the group-by keys. Each cell contains an n <= # of samples length array of values.\n",
    "listdf = dfsdf.drop(\"sample\").group_by(INDEX_COLS or pl.lit(0).alias(\"\"), maintain_order=True).all()\n",
    "listdf"
   ]
  },
  {
   "cell_type": "code",
   "execution_count": 12,
   "id": "5bfae796",
   "metadata": {
    "execution": {
     "iopub.execute_input": "2025-05-01T09:34:19.083567Z",
     "iopub.status.busy": "2025-05-01T09:34:19.083462Z",
     "iopub.status.idle": "2025-05-01T09:34:19.088371Z",
     "shell.execute_reply": "2025-05-01T09:34:19.088150Z"
    },
    "papermill": {
     "duration": 0.008344,
     "end_time": "2025-05-01T09:34:19.089023",
     "exception": false,
     "start_time": "2025-05-01T09:34:19.080679",
     "status": "completed"
    },
    "tags": []
   },
   "outputs": [
    {
     "data": {
      "text/plain": [
       "[{'s_suppkey': 913,\n",
       "  's_name': 'Supplier#000000913',\n",
       "  's_address': 'PTSEe31GjmUGy58DpRn',\n",
       "  's_phone': '34-601-419-1634'},\n",
       " {'s_suppkey': 474,\n",
       "  's_name': 'Supplier#000000474',\n",
       "  's_address': '78jpeO3SIlDN6',\n",
       "  's_phone': '10-327-319-7717'},\n",
       " {'s_suppkey': 677,\n",
       "  's_name': 'Supplier#000000677',\n",
       "  's_address': 'TEJ LMkTnY5hp8aQckzyb',\n",
       "  's_phone': '23-290-639-3315'},\n",
       " {'s_suppkey': 378,\n",
       "  's_name': 'Supplier#000000378',\n",
       "  's_address': 'mLPJtpu4wOc cSFzBR',\n",
       "  's_phone': '13-930-567-5190'},\n",
       " {'s_suppkey': 220,\n",
       "  's_name': 'Supplier#000000220',\n",
       "  's_address': 'yw45wy2XyjPmY4XXHOcVYSvtU',\n",
       "  's_phone': '29-197-645-8102'},\n",
       " {'s_suppkey': 315,\n",
       "  's_name': 'Supplier#000000315',\n",
       "  's_address': 'k9fJuxApb0M0dHM7I7',\n",
       "  's_phone': '12-574-691-2832'},\n",
       " {'s_suppkey': 641,\n",
       "  's_name': 'Supplier#000000641',\n",
       "  's_address': 's,fStDiv8ocWmhtn8irUQ5jRG',\n",
       "  's_phone': '27-393-904-4536'},\n",
       " {'s_suppkey': 953,\n",
       "  's_name': 'Supplier#000000953',\n",
       "  's_address': 'w77P,JF6UdQQZ5f jHUG0I6yW8lleUAwy3ztsqr',\n",
       "  's_phone': '31-642-490-3022'},\n",
       " {'s_suppkey': 238,\n",
       "  's_name': 'Supplier#000000238',\n",
       "  's_address': 'vH81dBrqiAF 5r6MutkO9,W92ds4',\n",
       "  's_phone': '18-950-354-3488'},\n",
       " {'s_suppkey': 164,\n",
       "  's_name': 'Supplier#000000164',\n",
       "  's_address': 'Uj0,Jr1GFzWA58rVzHPD6DayBIeDkmxXKg368',\n",
       "  's_phone': '12-414-446-6598'},\n",
       " {'s_suppkey': 966,\n",
       "  's_name': 'Supplier#000000966',\n",
       "  's_address': 'm9Fh4uXYiU8zm9 lnA0k9T',\n",
       "  's_phone': '14-681-361-1636'},\n",
       " {'s_suppkey': 987,\n",
       "  's_name': 'Supplier#000000987',\n",
       "  's_address': 'oq4hZGnJtPQ8cXEEKAnYTQ3',\n",
       "  's_phone': '28-375-179-1732'},\n",
       " {'s_suppkey': 984,\n",
       "  's_name': 'Supplier#000000984',\n",
       "  's_address': 'VjUAAuMrI2Q2soEw4JH',\n",
       "  's_phone': '31-519-879-5266'},\n",
       " {'s_suppkey': 187,\n",
       "  's_name': 'Supplier#000000187',\n",
       "  's_address': 'Deyt7GUJ7tgaJIpw 6QQXYsgcILdCPnA',\n",
       "  's_phone': '28-127-320-9230'},\n",
       " {'s_suppkey': 317,\n",
       "  's_name': 'Supplier#000000317',\n",
       "  's_address': 'nvxebmGPXiA8AIy4SNNKvtra4K3uMeX9CcxZN',\n",
       "  's_phone': '27-131-276-7910'},\n",
       " {'s_suppkey': 742,\n",
       "  's_name': 'Supplier#000000742',\n",
       "  's_address': 'uQ3V,Hvi5DmM2X',\n",
       "  's_phone': '10-673-629-5928'},\n",
       " {'s_suppkey': 846,\n",
       "  's_name': 'Supplier#000000846',\n",
       "  's_address': 'pZozXtjFOMaeuFQcipB poTUuXfg5NkXaJ1',\n",
       "  's_phone': '30-283-261-2020'},\n",
       " {'s_suppkey': 422,\n",
       "  's_name': 'Supplier#000000422',\n",
       "  's_address': 'JxWOTAGllddwELu1Q8zUZi',\n",
       "  's_phone': '20-645-417-6790'},\n",
       " {'s_suppkey': 865,\n",
       "  's_name': 'Supplier#000000865',\n",
       "  's_address': 't25EWlbbFw6ZetzIAn6izMJs6SJn,yjQjMK',\n",
       "  's_phone': '27-993-155-8321'},\n",
       " {'s_suppkey': 887,\n",
       "  's_name': 'Supplier#000000887',\n",
       "  's_address': 'y mQ7NHjVbdqnbYr9 L',\n",
       "  's_phone': '13-738-297-6117'},\n",
       " {'s_suppkey': 736,\n",
       "  's_name': 'Supplier#000000736',\n",
       "  's_address': 'GUIYDfv5xCxLgDx6KQ8khY ntVVnFqmfMKIgT',\n",
       "  's_phone': '13-681-806-8650'},\n",
       " {'s_suppkey': 679,\n",
       "  's_name': 'Supplier#000000679',\n",
       "  's_address': 'BfsNlaP5nMnj',\n",
       "  's_phone': '14-771-110-7666'},\n",
       " {'s_suppkey': 756,\n",
       "  's_name': 'Supplier#000000756',\n",
       "  's_address': 'u83kAQaB2P4fCQlfgAiNkVbQI',\n",
       "  's_phone': '17-726-757-7711'},\n",
       " {'s_suppkey': 91,\n",
       "  's_name': 'Supplier#000000091',\n",
       "  's_address': '35WVnU7GLNbQDcc2TARavGtk6RB6ZCd46UAY',\n",
       "  's_phone': '13-604-986-9056'},\n",
       " {'s_suppkey': 385,\n",
       "  's_name': 'Supplier#000000385',\n",
       "  's_address': 'X9nvgpdOUrup2',\n",
       "  's_phone': '28-730-866-8837'},\n",
       " {'s_suppkey': 634,\n",
       "  's_name': 'Supplier#000000634',\n",
       "  's_address': 'K8UYwAQCCtk4Degu15XL,k8bMhh0TxagUeV',\n",
       "  's_phone': '33-105-608-2902'},\n",
       " {'s_suppkey': 921,\n",
       "  's_name': 'Supplier#000000921',\n",
       "  's_address': 'ZNzg,SXxDld',\n",
       "  's_phone': '12-670-146-9689'},\n",
       " {'s_suppkey': 470,\n",
       "  's_name': 'Supplier#000000470',\n",
       "  's_address': '4OGPs qKpfQ6GNLIKhmbIE6e7fSMP8fmwi',\n",
       "  's_phone': '29-165-289-1523'},\n",
       " {'s_suppkey': 423,\n",
       "  's_name': 'Supplier#000000423',\n",
       "  's_address': '6oKeHpFxWioQ55ewe4,qaLZJC',\n",
       "  's_phone': '34-577-174-3894'},\n",
       " {'s_suppkey': 322,\n",
       "  's_name': 'Supplier#000000322',\n",
       "  's_address': 'GpYAOmo vQtFTaQ',\n",
       "  's_phone': '16-803-605-4129'},\n",
       " {'s_suppkey': 696,\n",
       "  's_name': 'Supplier#000000696',\n",
       "  's_address': 'K4wgrSdZma4,GHmj',\n",
       "  's_phone': '10-745-572-7198'},\n",
       " {'s_suppkey': 718,\n",
       "  's_name': 'Supplier#000000718',\n",
       "  's_address': '5RPt3ayAwdObIwDvkTU V',\n",
       "  's_phone': '30-551-841-7946'},\n",
       " {'s_suppkey': 878,\n",
       "  's_name': 'Supplier#000000878',\n",
       "  's_address': 'PMDDcCDMH3mxvuzv LCsV604ds7oT',\n",
       "  's_phone': '18-462-213-5795'},\n",
       " {'s_suppkey': 971,\n",
       "  's_name': 'Supplier#000000971',\n",
       "  's_address': 'ZX3Q66f2xoYyaibkoxffLeV6Qwf',\n",
       "  's_phone': '13-380-957-8529'},\n",
       " {'s_suppkey': 590,\n",
       "  's_name': 'Supplier#000000590',\n",
       "  's_address': 'hJ9yzgWlCtPBYJ6wKrPmkGnxz4qL',\n",
       "  's_phone': '19-277-247-1833'},\n",
       " {'s_suppkey': 379,\n",
       "  's_name': 'Supplier#000000379',\n",
       "  's_address': 'Itk4sjh7qNj,iGCZC',\n",
       "  's_phone': '30-202-917-6929'},\n",
       " {'s_suppkey': 856,\n",
       "  's_name': 'Supplier#000000856',\n",
       "  's_address': '70kjY2HFEqUSh9PI4JPLUHoK 7TQ,nv',\n",
       "  's_phone': '14-216-125-2920'},\n",
       " {'s_suppkey': 230,\n",
       "  's_name': 'Supplier#000000230',\n",
       "  's_address': '8K7ZWVoFxRdnP22quW4NTCM',\n",
       "  's_phone': '11-819-222-2128'},\n",
       " {'s_suppkey': 228,\n",
       "  's_name': 'Supplier#000000228',\n",
       "  's_address': 'Ct72ryCOQ8Rzi6FAj6Ppwe0 0',\n",
       "  's_phone': '24-920-216-6514'},\n",
       " {'s_suppkey': 964,\n",
       "  's_name': 'Supplier#000000964',\n",
       "  's_address': 'iBjR27aHk3oZkoJ5ObHRgmkedTuv1GpsBNkTjFdP',\n",
       "  's_phone': '17-693-102-9498'},\n",
       " {'s_suppkey': 896,\n",
       "  's_name': 'Supplier#000000896',\n",
       "  's_address': 'uwd1tPxa2ESNRqSxZE',\n",
       "  's_phone': '17-790-100-9143'},\n",
       " {'s_suppkey': 731,\n",
       "  's_name': 'Supplier#000000731',\n",
       "  's_address': 'Ouq oNogB26Wtpcp1c1PYR2XzUmJiIYN',\n",
       "  's_phone': '31-306-298-2911'},\n",
       " {'s_suppkey': 170,\n",
       "  's_name': 'Supplier#000000170',\n",
       "  's_address': 'ayz3a18xDGrr3jtS',\n",
       "  's_phone': '33-803-340-5398'},\n",
       " {'s_suppkey': 740,\n",
       "  's_name': 'Supplier#000000740',\n",
       "  's_address': 'xISYluAkMFl4,kZFBbZTNnophaKdfweIr',\n",
       "  's_phone': '33-714-391-9055'},\n",
       " {'s_suppkey': 988,\n",
       "  's_name': 'Supplier#000000988',\n",
       "  's_address': 'OlyTXi4e2z9u9Xr7adrgYlqs',\n",
       "  's_phone': '10-630-928-4130'},\n",
       " {'s_suppkey': 935,\n",
       "  's_name': 'Supplier#000000935',\n",
       "  's_address': 'JHRSOterYgt4MTNo7cupTzA,6MoNw 4',\n",
       "  's_phone': '13-437-885-9309'},\n",
       " {'s_suppkey': 657,\n",
       "  's_name': 'Supplier#000000657',\n",
       "  's_address': 'EQzYLK9veRU4SmmB2Bpd',\n",
       "  's_phone': '13-546-747-5121'},\n",
       " {'s_suppkey': 192,\n",
       "  's_name': 'Supplier#000000192',\n",
       "  's_address': '8xPZyX6Fhv2V6',\n",
       "  's_phone': '25-585-189-5975'},\n",
       " {'s_suppkey': 745,\n",
       "  's_name': 'Supplier#000000745',\n",
       "  's_address': 'hpQ5cur09gp4JfI3u4',\n",
       "  's_phone': '31-469-792-6546'},\n",
       " {'s_suppkey': 735,\n",
       "  's_name': 'Supplier#000000735',\n",
       "  's_address': 'UlA6 OQoTXZwp3XiT xw05WrhMBuSW',\n",
       "  's_phone': '27-984-128-6691'},\n",
       " {'s_suppkey': 675,\n",
       "  's_name': 'Supplier#000000675',\n",
       "  's_address': 'CPnv9f1UDd7BOlIAoww',\n",
       "  's_phone': '25-499-280-9384'},\n",
       " {'s_suppkey': 472,\n",
       "  's_name': 'Supplier#000000472',\n",
       "  's_address': 'eFh5YR,CwPDELCzLj6puVzK7',\n",
       "  's_phone': '30-976-134-3524'},\n",
       " {'s_suppkey': 481,\n",
       "  's_name': 'Supplier#000000481',\n",
       "  's_address': '6Al8Yob4roJY7BGMn',\n",
       "  's_phone': '19-951-947-8520'},\n",
       " {'s_suppkey': 656,\n",
       "  's_name': 'Supplier#000000656',\n",
       "  's_address': 'Fa3A9fKzywdi',\n",
       "  's_phone': '29-633-362-8481'},\n",
       " {'s_suppkey': 762,\n",
       "  's_name': 'Supplier#000000762',\n",
       "  's_address': 'l95MNgloZRydRCSQdtd15vsOPo6CYM8',\n",
       "  's_phone': '30-393-711-8623'},\n",
       " {'s_suppkey': 185,\n",
       "  's_name': 'Supplier#000000185',\n",
       "  's_address': 'mWo,q59bGX',\n",
       "  's_phone': '27-586-282-7422'},\n",
       " {'s_suppkey': 884,\n",
       "  's_name': 'Supplier#000000884',\n",
       "  's_address': 'QEJm8KMHQ8',\n",
       "  's_phone': '13-498-258-4793'},\n",
       " {'s_suppkey': 877,\n",
       "  's_name': 'Supplier#000000877',\n",
       "  's_address': 'XtdRIWoPaS8vZ3VjDzeFdHHJkLSeqOJ7k',\n",
       "  's_phone': '14-685-851-5424'},\n",
       " {'s_suppkey': 518,\n",
       "  's_name': 'Supplier#000000518',\n",
       "  's_address': 'LYPxnxT4sPHdn6UYidVQM,IU8rN6uIKI 8Y4',\n",
       "  's_phone': '11-853-939-1266'},\n",
       " {'s_suppkey': 119,\n",
       "  's_name': 'Supplier#000000119',\n",
       "  's_address': 'Xoup f,CWtzUf2lv1it1TR3DLTf1dDVgO2O',\n",
       "  's_phone': '28-558-264-1202'},\n",
       " {'s_suppkey': 182,\n",
       "  's_name': 'Supplier#000000182',\n",
       "  's_address': 'hx83kOzqN2OGJs5gEKCW4z',\n",
       "  's_phone': '17-825-333-7344'},\n",
       " {'s_suppkey': 578,\n",
       "  's_name': 'Supplier#000000578',\n",
       "  's_address': 'QDVh,rWWYUoBO4TFr aR1AuAh,gd',\n",
       "  's_phone': '30-105-334-1726'},\n",
       " {'s_suppkey': 497,\n",
       "  's_name': 'Supplier#000000497',\n",
       "  's_address': 'JfqAFpgnf6lAj HycOiNUrx2C8EBq',\n",
       "  's_phone': '22-895-454-2151'},\n",
       " {'s_suppkey': 406,\n",
       "  's_name': 'Supplier#000000406',\n",
       "  's_address': 'teJ6VTonlWRj7MCOuKRiL91KA',\n",
       "  's_phone': '31-926-216-4352'},\n",
       " {'s_suppkey': 236,\n",
       "  's_name': 'Supplier#000000236',\n",
       "  's_address': 'O1muyOZNFeu bN8BnoX',\n",
       "  's_phone': '25-250-525-2436'},\n",
       " {'s_suppkey': 722,\n",
       "  's_name': 'Supplier#000000722',\n",
       "  's_address': '44tOlazmlW8kJk pbDeZUh9p',\n",
       "  's_phone': '12-909-341-4605'},\n",
       " {'s_suppkey': 254,\n",
       "  's_name': 'Supplier#000000254',\n",
       "  's_address': 'PUJWEJshq58,cs',\n",
       "  's_phone': '17-100-212-8737'},\n",
       " {'s_suppkey': 439,\n",
       "  's_name': 'Supplier#000000439',\n",
       "  's_address': 'O7DoOwbpg8shr49Fy0mEJrgDigOvO9S2c Ngx4nY',\n",
       "  's_phone': '19-415-856-7881'},\n",
       " {'s_suppkey': 890,\n",
       "  's_name': 'Supplier#000000890',\n",
       "  's_address': 'u2T3JMNhMWNvJS91ruj90Vaqp8',\n",
       "  's_phone': '21-196-765-4250'},\n",
       " {'s_suppkey': 898,\n",
       "  's_name': 'Supplier#000000898',\n",
       "  's_address': '7xNXAr6oRZpt0O',\n",
       "  's_phone': '14-247-832-2299'},\n",
       " {'s_suppkey': 463,\n",
       "  's_name': 'Supplier#000000463',\n",
       "  's_address': '4cPWnRye6tBexleSY19QRBvzmb',\n",
       "  's_phone': '10-178-678-7353'},\n",
       " {'s_suppkey': 491,\n",
       "  's_name': 'Supplier#000000491',\n",
       "  's_address': 'F7PnOijaTN',\n",
       "  's_phone': '10-361-729-1693'},\n",
       " {'s_suppkey': 154,\n",
       "  's_name': 'Supplier#000000154',\n",
       "  's_address': 'LpVZccF2rtGMlnD1BDn9QznAt,K2e09d9PC',\n",
       "  's_phone': '23-471-808-2661'},\n",
       " {'s_suppkey': 425,\n",
       "  's_name': 'Supplier#000000425',\n",
       "  's_address': 'RrgDmlL0PAnDkNY5NR7F',\n",
       "  's_phone': '10-262-132-6639'},\n",
       " {'s_suppkey': 739,\n",
       "  's_name': 'Supplier#000000739',\n",
       "  's_address': 'OT naEM1oQNRmVTyXf8AUg',\n",
       "  's_phone': '21-304-934-6837'},\n",
       " {'s_suppkey': 791,\n",
       "  's_name': 'Supplier#000000791',\n",
       "  's_address': 'ZNlL5U6ZGprn43F1dBKb0',\n",
       "  's_phone': '32-320-959-1370'},\n",
       " {'s_suppkey': 941,\n",
       "  's_name': 'Supplier#000000941',\n",
       "  's_address': 'LAkY3nD5Fs7JHHLbk2kFwG0HORdzBFjS9FML',\n",
       "  's_phone': '31-412-752-5573'},\n",
       " {'s_suppkey': 295,\n",
       "  's_name': 'Supplier#000000295',\n",
       "  's_address': 'LBETLRJ2RHV2t7 snCsxG',\n",
       "  's_phone': '33-998-989-3147'},\n",
       " {'s_suppkey': 833,\n",
       "  's_name': 'Supplier#000000833',\n",
       "  's_address': 'JKYw2vx0SuwmsF,7LqWyW5h',\n",
       "  's_phone': '27-470-524-5760'},\n",
       " {'s_suppkey': 468,\n",
       "  's_name': 'Supplier#000000468',\n",
       "  's_address': '80Bvm1zGP2I VnornYmLFmjdtPJAlgwZFCl',\n",
       "  's_phone': '16-494-568-3545'},\n",
       " {'s_suppkey': 157,\n",
       "  's_name': 'Supplier#000000157',\n",
       "  's_address': '1EmkCApL5iF',\n",
       "  's_phone': '13-776-259-5994'},\n",
       " {'s_suppkey': 402,\n",
       "  's_name': 'Supplier#000000402',\n",
       "  's_address': 'JR8vWoCteJtJg3okRpt0r28KEo',\n",
       "  's_phone': '13-109-731-3195'},\n",
       " {'s_suppkey': 496,\n",
       "  's_name': 'Supplier#000000496',\n",
       "  's_address': 'QMWQx2utAqLlVtzkXD34POTPn dKN1',\n",
       "  's_phone': '30-810-880-3654'},\n",
       " {'s_suppkey': 925,\n",
       "  's_name': 'Supplier#000000925',\n",
       "  's_address': 'vXDWBL0AYSnOG2c1UZXkUzMCqF7b830I7wnxeY6',\n",
       "  's_phone': '29-398-723-8226'},\n",
       " {'s_suppkey': 511,\n",
       "  's_name': 'Supplier#000000511',\n",
       "  's_address': 'a4dN7nM05hmQ dWcxT3F',\n",
       "  's_phone': '33-476-213-8045'}]"
      ]
     },
     "execution_count": 12,
     "metadata": {},
     "output_type": "execute_result"
    }
   ],
   "source": [
    "# What are all the possible group-by key combinations?\n",
    "allgroups: pl.DataFrame = listdf.select(INDEX_COLS or pl.lit(0).alias(\"\"))\n",
    "allgroups.to_dicts()"
   ]
  },
  {
   "cell_type": "code",
   "execution_count": 13,
   "id": "d7f73911",
   "metadata": {
    "execution": {
     "iopub.execute_input": "2025-05-01T09:34:19.093053Z",
     "iopub.status.busy": "2025-05-01T09:34:19.092953Z",
     "iopub.status.idle": "2025-05-01T09:34:19.109394Z",
     "shell.execute_reply": "2025-05-01T09:34:19.109106Z"
    },
    "papermill": {
     "duration": 0.019414,
     "end_time": "2025-05-01T09:34:19.110336",
     "exception": false,
     "start_time": "2025-05-01T09:34:19.090922",
     "status": "completed"
    },
    "tags": []
   },
   "outputs": [],
   "source": [
    "# Template for the final output, including all possible group-by groups\n",
    "# Obtained by collecting all the samples in a big table and then keeping only the first occurrence of each groupby key.\n",
    "# Then, fill all OUTPUT_COLS with nulls\n",
    "templatedf = dfsdf.drop(\"sample\").group_by(INDEX_COLS or pl.lit(0).alias(\"\"), maintain_order=True).first()\n",
    "templatedf = templatedf.clear(n=len(allgroups)).with_columns(allgroups)\n",
    "templatedf\n",
    "\n",
    "with open(f\"{OUTPUT_DIR}/template.pkl\", \"wb\") as f:\n",
    "    pickle.dump(templatedf, f)"
   ]
  },
  {
   "cell_type": "code",
   "execution_count": 14,
   "id": "a3d0d6e4",
   "metadata": {
    "execution": {
     "iopub.execute_input": "2025-05-01T09:34:19.114605Z",
     "iopub.status.busy": "2025-05-01T09:34:19.114472Z",
     "iopub.status.idle": "2025-05-01T09:34:19.413407Z",
     "shell.execute_reply": "2025-05-01T09:34:19.412890Z"
    },
    "papermill": {
     "duration": 0.302625,
     "end_time": "2025-05-01T09:34:19.414889",
     "exception": false,
     "start_time": "2025-05-01T09:34:19.112264",
     "status": "completed"
    },
    "tags": []
   },
   "outputs": [],
   "source": [
    "# Write all table entries in the output table to their own JSON files. Each file has a number, the information of which file corresponds to which table entry\n",
    "# is stored in reverse_map.json (as well as in the files themselves)\n",
    "os.makedirs(f\"{OUTPUT_DIR}/json\", exist_ok=True)\n",
    "i: int = 0\n",
    "for col in OUTPUT_COLS:\n",
    "    for group in allgroups.iter_rows(named=True):\n",
    "        values = listdf.filter(pl.col(k).eq(v) for k, v in group.items()).select(col).to_series()\n",
    "        j = pl.DataFrame().with_columns([\n",
    "            pl.lit(col).alias(\"col\"),\n",
    "            pl.lit(group).alias(\"row\"),\n",
    "            pl.lit(values.explode().dtype.__repr__()).alias(\"dtype\"),\n",
    "            values.alias(\"values\"),\n",
    "        ])\n",
    "        j.write_json(f\"{OUTPUT_DIR}/json/{i}.json\")\n",
    "        i+=1"
   ]
  },
  {
   "cell_type": "code",
   "execution_count": 15,
   "id": "abd48e07",
   "metadata": {
    "execution": {
     "iopub.execute_input": "2025-05-01T09:34:19.422681Z",
     "iopub.status.busy": "2025-05-01T09:34:19.422527Z",
     "iopub.status.idle": "2025-05-01T09:34:21.542978Z",
     "shell.execute_reply": "2025-05-01T09:34:21.542703Z"
    },
    "papermill": {
     "duration": 2.12485,
     "end_time": "2025-05-01T09:34:21.543653",
     "exception": false,
     "start_time": "2025-05-01T09:34:19.418803",
     "status": "completed"
    },
    "tags": []
   },
   "outputs": [
    {
     "data": {
      "text/plain": [
       "'/Users/michael/projects/dpdb/pacdb/outputs/ap-duckdb-q15-customer-step1.zip'"
      ]
     },
     "execution_count": 15,
     "metadata": {},
     "output_type": "execute_result"
    }
   ],
   "source": [
    "# zip the OUTPUT_DIR\n",
    "shutil.make_archive(OUTPUT_DIR, 'zip', OUTPUT_DIR)"
   ]
  }
 ],
 "metadata": {
  "kernelspec": {
   "display_name": ".venv",
   "language": "python",
   "name": "python3"
  },
  "language_info": {
   "codemirror_mode": {
    "name": "ipython",
    "version": 3
   },
   "file_extension": ".py",
   "mimetype": "text/x-python",
   "name": "python",
   "nbconvert_exporter": "python",
   "pygments_lexer": "ipython3",
   "version": "3.11.7"
  },
  "papermill": {
   "default_parameters": {},
   "duration": 13.914449,
   "end_time": "2025-05-01T09:34:21.963245",
   "environment_variables": {},
   "exception": null,
   "input_path": "autopac-duckdb-step1.ipynb",
   "output_path": "./ap-duckdb-q15-customer-step1.ipynb",
   "parameters": {
    "EXPERIMENT": "ap-duckdb-q15-customer",
    "INDEX_COLS": [
     "s_suppkey",
     "s_name",
     "s_address",
     "s_phone"
    ],
    "OUTPUT_COLS": [
     "total_revenue"
    ],
    "OUTPUT_DIR": "./outputs/ap-duckdb-q15-customer-step1",
    "PREPARE_STEP": "DEALLOCATE PREPARE run_query;\n\nPREPARE run_query AS \nWITH revenue AS (\n    SELECT\n        l_suppkey AS supplier_no,\n        sum(l_extendedprice * (1 - l_discount)) AS total_revenue\n    FROM\n        lineitem,\n        orders,\n        customer,\n        random_samples AS rs\n    WHERE\n        rs.row_id = customer.rowid\n        AND rs.random_binary = TRUE\n        AND rs.sample_id = $sample\n        AND o_custkey = c_custkey\n        AND o_orderkey = l_orderkey\n        AND l_shipdate >= CAST('1996-01-01' AS date)\n        AND l_shipdate < CAST('1996-04-01' AS date)\n    GROUP BY\n        supplier_no\n)\nSELECT\n    s_suppkey,\n    s_name,\n    s_address,\n    s_phone,\n    total_revenue\nFROM\n    supplier,\n    revenue\nWHERE\n    s_suppkey = supplier_no\n    AND total_revenue = (\n        SELECT\n            max(total_revenue)\n        FROM revenue)\nORDER BY\n    s_suppkey;",
    "SAMPLES": 1024,
    "SAMPLE_STEP": "DROP TABLE IF EXISTS random_samples;\n\nCREATE TABLE random_samples AS\nWITH sample_numbers AS MATERIALIZED (\n    SELECT range AS sample_id FROM range(1024 // 2)\n), random_values AS MATERIALIZED (\n    SELECT \n        sample_numbers.sample_id,\n        customer.rowid AS row_id,\n        (RANDOM() > 0.5)::BOOLEAN AS random_binary\n    FROM sample_numbers\n    JOIN customer ON TRUE  -- Cross join to duplicate rows for each sample\n)\nSELECT\n    sample_id,\n    row_id,\n    random_binary\nFROM random_values\nUNION ALL\nSELECT -- select the complementary samples too\n    (1024 // 2) + sample_id,\n    row_id,\n    NOT random_binary  -- Inverse the random_binary to get the complementary sample\nFROM random_values\nORDER BY sample_id, row_id;"
   },
   "start_time": "2025-05-01T09:34:08.048796",
   "version": "2.6.0"
  }
 },
 "nbformat": 4,
 "nbformat_minor": 5
}