{
 "cells": [
  {
   "cell_type": "markdown",
   "metadata": {},
   "source": [
    "## DuckDB Notebook\n",
    "\n",
    "This notebook generates a bunch of raw outputs, without applying PAC, to be consumed by a second stage."
   ]
  },
  {
   "cell_type": "markdown",
   "metadata": {},
   "source": [
    "```\n",
    " group by              output cols                        \n",
    " key cols ┌────────┬────────┬────────┬────────┐           \n",
    "        │ │   A    │   B    │   C    │   D    │           \n",
    "      ┌─▼─┼────────┼────────┼────────┼────────┤           \n",
    "      │ 1 │   2    │        │        │        │           \n",
    "      ├───┼───|────┼────────┼────────┼────────┤           \n",
    "      │ 2 │   │    │        │        │        │           \n",
    "      ├───┼───┼────┼────────┼────────┼────────┤           \n",
    "      │ 3 │   │    │        │        │        │           \n",
    "      └───┴───┼────┴────────┴────────┴────────┘           \n",
    "              ▼                 A_1.json                  \n",
    "       Sample 0:   A1=2        ┌─────────────────────────┐\n",
    "       Sample 1:   A1=4  ───▶  │{                        │\n",
    "             ...               │    col: A               │\n",
    "       Sample 999: A1=3        │    row: 1               │\n",
    "                               │    value: [2, 4, ... 3] │\n",
    "                               │}                        │\n",
    "                               └─────────────────────────┘\n",
    "```"
   ]
  },
  {
   "cell_type": "code",
   "execution_count": null,
   "metadata": {},
   "outputs": [],
   "source": [
    "#!/usr/bin/env python\n",
    "# coding: utf-8\n",
    "\n",
    "import os\n",
    "import pickle\n",
    "import shutil\n",
    "\n",
    "import duckdb\n",
    "import polars as pl\n",
    "\n",
    "EXPERIMENT = \"pac-duckdb-q1\"\n",
    "OUTPUT_DIR = f\"./outputs/{EXPERIMENT}-step1\"\n",
    "\n",
    "if not os.path.exists(OUTPUT_DIR):\n",
    "    os.makedirs(OUTPUT_DIR)"
   ]
  },
  {
   "cell_type": "code",
   "execution_count": null,
   "metadata": {},
   "outputs": [],
   "source": [
    "# duckdb load data/tpch/tpch.duckdb into the temporary in-memory database\n",
    "con = duckdb.connect(database=':memory:')\n",
    "tables = [\"customer\", \"lineitem\", \"nation\", \"orders\", \"part\", \"partsupp\", \"region\", \"supplier\"]\n",
    "for t in tables:\n",
    "    con.execute(f\"CREATE TABLE {t} AS SELECT * FROM 'data/tpch/{t}.parquet'\")"
   ]
  },
  {
   "cell_type": "code",
   "execution_count": 3,
   "metadata": {},
   "outputs": [],
   "source": [
    "# Construct the table of random samples\n",
    "# to use, join it with the lineitem table (for specific sample # s) and filter to just the\n",
    "# rows where random_binary = 1.0\n",
    "# This will give us a 50% sample of the lineitem table for each sample # s\n",
    "\n",
    "SAMPLES = 1024\n",
    "assert SAMPLES % 2 == 0, \"SAMPLES must be even to create complementary samples.\"\n",
    "\n",
    "random_samples = con.execute(f\"\"\"\n",
    "DROP TABLE IF EXISTS random_samples;\n",
    "\n",
    "CREATE TABLE random_samples AS\n",
    "WITH sample_numbers AS MATERIALIZED (\n",
    "    SELECT range AS sample_id FROM range({SAMPLES//2})\n",
    "), random_values AS MATERIALIZED (\n",
    "    SELECT \n",
    "        sample_numbers.sample_id,\n",
    "        customer.rowid AS row_id,\n",
    "        (RANDOM() > 0.5)::BOOLEAN AS random_binary\n",
    "    FROM sample_numbers\n",
    "    JOIN customer ON TRUE  -- Cross join to duplicate rows for each sample\n",
    ")\n",
    "SELECT\n",
    "    sample_id,\n",
    "    row_id,\n",
    "    random_binary\n",
    "FROM random_values\n",
    "UNION ALL\n",
    "SELECT -- select the complementary samples too\n",
    "    ({SAMPLES//2}) + sample_id,\n",
    "    row_id,\n",
    "    NOT random_binary  -- Inverse the random_binary to get the complementary sample\n",
    "FROM random_values\n",
    "ORDER BY sample_id, row_id;\n",
    "\"\"\")"
   ]
  },
  {
   "cell_type": "markdown",
   "metadata": {},
   "source": [
    "The randomness of what rows are chosen is saved to disk in `random_binary.json`. For each sample #, there is an array with one entry per row, where 1 means the row was chosen and 0 means it was not."
   ]
  },
  {
   "cell_type": "code",
   "execution_count": null,
   "metadata": {},
   "outputs": [],
   "source": [
    "con.execute(\"\"\"\n",
    "SELECT sample_id, array_agg(random_binary::TINYINT) as random_binary\n",
    "FROM random_samples\n",
    "GROUP BY sample_id;\n",
    "\"\"\").pl().write_json(f\"{OUTPUT_DIR}/random_binary.json\")"
   ]
  },
  {
   "cell_type": "markdown",
   "metadata": {},
   "source": [
    "Query is specified as a prepared statement. We will then execute it once per sample."
   ]
  },
  {
   "cell_type": "code",
   "execution_count": 5,
   "metadata": {},
   "outputs": [
    {
     "data": {
      "text/html": [
       "<div><style>\n",
       ".dataframe > thead > tr,\n",
       ".dataframe > tbody > tr {\n",
       "  text-align: right;\n",
       "  white-space: pre-wrap;\n",
       "}\n",
       "</style>\n",
       "<small>shape: (4, 10)</small><table border=\"1\" class=\"dataframe\"><thead><tr><th>l_returnflag</th><th>l_linestatus</th><th>sum_qty</th><th>sum_base_price</th><th>sum_disc_price</th><th>sum_charge</th><th>avg_qty</th><th>avg_price</th><th>avg_disc</th><th>count_order</th></tr><tr><td>str</td><td>str</td><td>decimal[38,2]</td><td>decimal[38,2]</td><td>decimal[38,4]</td><td>decimal[38,6]</td><td>f64</td><td>f64</td><td>f64</td><td>i64</td></tr></thead><tbody><tr><td>&quot;A&quot;</td><td>&quot;F&quot;</td><td>3791676.00</td><td>5351765685.40</td><td>5083008647.1406</td><td>5286718430.029160</td><td>25.449198</td><td>35920.301265</td><td>0.050199</td><td>148990</td></tr><tr><td>&quot;N&quot;</td><td>&quot;F&quot;</td><td>100104.00</td><td>140553074.82</td><td>133770473.6764</td><td>139278347.251978</td><td>25.342785</td><td>35583.056916</td><td>0.049068</td><td>3950</td></tr><tr><td>&quot;N&quot;</td><td>&quot;O&quot;</td><td>7516068.00</td><td>10596761557.36</td><td>10068215898.2626</td><td>10471192286.896000</td><td>25.539491</td><td>36007.643964</td><td>0.049963</td><td>294292</td></tr><tr><td>&quot;R&quot;</td><td>&quot;F&quot;</td><td>3834252.00</td><td>5400670658.52</td><td>5130673456.0062</td><td>5335965413.754750</td><td>25.527643</td><td>35956.529018</td><td>0.050039</td><td>150200</td></tr></tbody></table></div>"
      ],
      "text/plain": [
       "shape: (4, 10)\n",
       "┌───────────┬───────────┬───────────┬───────────┬───┬───────────┬───────────┬──────────┬───────────┐\n",
       "│ l_returnf ┆ l_linesta ┆ sum_qty   ┆ sum_base_ ┆ … ┆ avg_qty   ┆ avg_price ┆ avg_disc ┆ count_ord │\n",
       "│ lag       ┆ tus       ┆ ---       ┆ price     ┆   ┆ ---       ┆ ---       ┆ ---      ┆ er        │\n",
       "│ ---       ┆ ---       ┆ decimal[3 ┆ ---       ┆   ┆ f64       ┆ f64       ┆ f64      ┆ ---       │\n",
       "│ str       ┆ str       ┆ 8,2]      ┆ decimal[3 ┆   ┆           ┆           ┆          ┆ i64       │\n",
       "│           ┆           ┆           ┆ 8,2]      ┆   ┆           ┆           ┆          ┆           │\n",
       "╞═══════════╪═══════════╪═══════════╪═══════════╪═══╪═══════════╪═══════════╪══════════╪═══════════╡\n",
       "│ A         ┆ F         ┆ 3791676.0 ┆ 535176568 ┆ … ┆ 25.449198 ┆ 35920.301 ┆ 0.050199 ┆ 148990    │\n",
       "│           ┆           ┆ 0         ┆ 5.40      ┆   ┆           ┆ 265       ┆          ┆           │\n",
       "│ N         ┆ F         ┆ 100104.00 ┆ 140553074 ┆ … ┆ 25.342785 ┆ 35583.056 ┆ 0.049068 ┆ 3950      │\n",
       "│           ┆           ┆           ┆ .82       ┆   ┆           ┆ 916       ┆          ┆           │\n",
       "│ N         ┆ O         ┆ 7516068.0 ┆ 105967615 ┆ … ┆ 25.539491 ┆ 36007.643 ┆ 0.049963 ┆ 294292    │\n",
       "│           ┆           ┆ 0         ┆ 57.36     ┆   ┆           ┆ 964       ┆          ┆           │\n",
       "│ R         ┆ F         ┆ 3834252.0 ┆ 540067065 ┆ … ┆ 25.527643 ┆ 35956.529 ┆ 0.050039 ┆ 150200    │\n",
       "│           ┆           ┆ 0         ┆ 8.52      ┆   ┆           ┆ 018       ┆          ┆           │\n",
       "└───────────┴───────────┴───────────┴───────────┴───┴───────────┴───────────┴──────────┴───────────┘"
      ]
     },
     "execution_count": 5,
     "metadata": {},
     "output_type": "execute_result"
    }
   ],
   "source": [
    "# Query\n",
    "con.execute(\"\"\"\n",
    "DEALLOCATE PREPARE run_query;\n",
    "\n",
    "PREPARE run_query AS \n",
    "SELECT\n",
    "    l_returnflag,\n",
    "    l_linestatus,\n",
    "    2*sum(l_quantity) AS sum_qty,\n",
    "    2*sum(l_extendedprice) AS sum_base_price,\n",
    "    2*sum(l_extendedprice * (1 - l_discount)) AS sum_disc_price,\n",
    "    2*sum(l_extendedprice * (1 - l_discount) * (1 + l_tax)) AS sum_charge,\n",
    "    avg(l_quantity) AS avg_qty,\n",
    "    avg(l_extendedprice) AS avg_price,\n",
    "    avg(l_discount) AS avg_disc,\n",
    "    2*count(*) AS count_order\n",
    "FROM\n",
    "    lineitem\n",
    "JOIN orders ON lineitem.l_orderkey = orders.o_orderkey\n",
    "JOIN customer ON orders.o_custkey = customer.c_custkey\n",
    "JOIN random_samples AS rs\n",
    "    ON rs.row_id = customer.rowid\n",
    "WHERE\n",
    "    l_shipdate <= CAST('1998-09-02' AS date)\n",
    "    AND rs.random_binary = TRUE\n",
    "    AND rs.sample_id = $sample\n",
    "GROUP BY\n",
    "    l_returnflag,\n",
    "    l_linestatus\n",
    "ORDER BY\n",
    "    l_returnflag,\n",
    "    l_linestatus;\n",
    "\"\"\")\n",
    "\n",
    "# Run query to see output\n",
    "dfs0 = con.execute(f\"EXECUTE run_query(sample := {0});\").pl()\n",
    "\n",
    "# Save csv copies of the first 5 samples\n",
    "os.makedirs(f\"{OUTPUT_DIR}/csv\", exist_ok=True)\n",
    "for s in range(5):\n",
    "    con.execute(f\"EXECUTE run_query(sample := {s});\").pl().write_csv(f\"{OUTPUT_DIR}/csv/sample_{s}.csv\")\n",
    "\n",
    "dfs0"
   ]
  },
  {
   "cell_type": "code",
   "execution_count": 6,
   "metadata": {},
   "outputs": [
    {
     "data": {
      "text/html": [
       "<div><style>\n",
       ".dataframe > thead > tr,\n",
       ".dataframe > tbody > tr {\n",
       "  text-align: right;\n",
       "  white-space: pre-wrap;\n",
       "}\n",
       "</style>\n",
       "<small>shape: (4_096, 11)</small><table border=\"1\" class=\"dataframe\"><thead><tr><th>sample</th><th>l_returnflag</th><th>l_linestatus</th><th>sum_qty</th><th>sum_base_price</th><th>sum_disc_price</th><th>sum_charge</th><th>avg_qty</th><th>avg_price</th><th>avg_disc</th><th>count_order</th></tr><tr><td>i32</td><td>str</td><td>str</td><td>decimal[38,2]</td><td>decimal[38,2]</td><td>decimal[38,4]</td><td>decimal[38,6]</td><td>f64</td><td>f64</td><td>f64</td><td>i64</td></tr></thead><tbody><tr><td>0</td><td>&quot;A&quot;</td><td>&quot;F&quot;</td><td>3791676.00</td><td>5351765685.40</td><td>5083008647.1406</td><td>5286718430.029160</td><td>25.449198</td><td>35920.301265</td><td>0.050199</td><td>148990</td></tr><tr><td>0</td><td>&quot;N&quot;</td><td>&quot;F&quot;</td><td>100104.00</td><td>140553074.82</td><td>133770473.6764</td><td>139278347.251978</td><td>25.342785</td><td>35583.056916</td><td>0.049068</td><td>3950</td></tr><tr><td>0</td><td>&quot;N&quot;</td><td>&quot;O&quot;</td><td>7516068.00</td><td>10596761557.36</td><td>10068215898.2626</td><td>10471192286.896000</td><td>25.539491</td><td>36007.643964</td><td>0.049963</td><td>294292</td></tr><tr><td>0</td><td>&quot;R&quot;</td><td>&quot;F&quot;</td><td>3834252.00</td><td>5400670658.52</td><td>5130673456.0062</td><td>5335965413.754750</td><td>25.527643</td><td>35956.529018</td><td>0.050039</td><td>150200</td></tr><tr><td>1</td><td>&quot;A&quot;</td><td>&quot;F&quot;</td><td>3724948.00</td><td>5244212391.34</td><td>4981605096.1900</td><td>5181199915.415726</td><td>25.514741</td><td>35921.231241</td><td>0.050157</td><td>145992</td></tr><tr><td>&hellip;</td><td>&hellip;</td><td>&hellip;</td><td>&hellip;</td><td>&hellip;</td><td>&hellip;</td><td>&hellip;</td><td>&hellip;</td><td>&hellip;</td><td>&hellip;</td><td>&hellip;</td></tr><tr><td>1022</td><td>&quot;R&quot;</td><td>&quot;F&quot;</td><td>3762092.00</td><td>5304647607.48</td><td>5039948782.4190</td><td>5240935423.689340</td><td>25.550747</td><td>36027.218198</td><td>0.050043</td><td>147240</td></tr><tr><td>1023</td><td>&quot;A&quot;</td><td>&quot;F&quot;</td><td>3783344.00</td><td>5327770298.30</td><td>5060606960.2794</td><td>5263480920.673996</td><td>25.56659</td><td>36003.313274</td><td>0.050173</td><td>147980</td></tr><tr><td>1023</td><td>&quot;N&quot;</td><td>&quot;F&quot;</td><td>93542.00</td><td>130623449.26</td><td>124241875.3832</td><td>129253497.349744</td><td>25.038009</td><td>34963.450016</td><td>0.049165</td><td>3736</td></tr><tr><td>1023</td><td>&quot;N&quot;</td><td>&quot;O&quot;</td><td>7526684.00</td><td>10601942279.80</td><td>10071554341.9056</td><td>10474066577.609106</td><td>25.508649</td><td>35930.992191</td><td>0.05009</td><td>295064</td></tr><tr><td>1023</td><td>&quot;R&quot;</td><td>&quot;F&quot;</td><td>3763328.00</td><td>5310744180.06</td><td>5046454919.0130</td><td>5248122617.420026</td><td>25.503368</td><td>35989.917323</td><td>0.049933</td><td>147562</td></tr></tbody></table></div>"
      ],
      "text/plain": [
       "shape: (4_096, 11)\n",
       "┌────────┬────────────┬────────────┬────────────┬───┬───────────┬───────────┬──────────┬───────────┐\n",
       "│ sample ┆ l_returnfl ┆ l_linestat ┆ sum_qty    ┆ … ┆ avg_qty   ┆ avg_price ┆ avg_disc ┆ count_ord │\n",
       "│ ---    ┆ ag         ┆ us         ┆ ---        ┆   ┆ ---       ┆ ---       ┆ ---      ┆ er        │\n",
       "│ i32    ┆ ---        ┆ ---        ┆ decimal[38 ┆   ┆ f64       ┆ f64       ┆ f64      ┆ ---       │\n",
       "│        ┆ str        ┆ str        ┆ ,2]        ┆   ┆           ┆           ┆          ┆ i64       │\n",
       "╞════════╪════════════╪════════════╪════════════╪═══╪═══════════╪═══════════╪══════════╪═══════════╡\n",
       "│ 0      ┆ A          ┆ F          ┆ 3791676.00 ┆ … ┆ 25.449198 ┆ 35920.301 ┆ 0.050199 ┆ 148990    │\n",
       "│        ┆            ┆            ┆            ┆   ┆           ┆ 265       ┆          ┆           │\n",
       "│ 0      ┆ N          ┆ F          ┆ 100104.00  ┆ … ┆ 25.342785 ┆ 35583.056 ┆ 0.049068 ┆ 3950      │\n",
       "│        ┆            ┆            ┆            ┆   ┆           ┆ 916       ┆          ┆           │\n",
       "│ 0      ┆ N          ┆ O          ┆ 7516068.00 ┆ … ┆ 25.539491 ┆ 36007.643 ┆ 0.049963 ┆ 294292    │\n",
       "│        ┆            ┆            ┆            ┆   ┆           ┆ 964       ┆          ┆           │\n",
       "│ 0      ┆ R          ┆ F          ┆ 3834252.00 ┆ … ┆ 25.527643 ┆ 35956.529 ┆ 0.050039 ┆ 150200    │\n",
       "│        ┆            ┆            ┆            ┆   ┆           ┆ 018       ┆          ┆           │\n",
       "│ 1      ┆ A          ┆ F          ┆ 3724948.00 ┆ … ┆ 25.514741 ┆ 35921.231 ┆ 0.050157 ┆ 145992    │\n",
       "│        ┆            ┆            ┆            ┆   ┆           ┆ 241       ┆          ┆           │\n",
       "│ …      ┆ …          ┆ …          ┆ …          ┆ … ┆ …         ┆ …         ┆ …        ┆ …         │\n",
       "│ 1022   ┆ R          ┆ F          ┆ 3762092.00 ┆ … ┆ 25.550747 ┆ 36027.218 ┆ 0.050043 ┆ 147240    │\n",
       "│        ┆            ┆            ┆            ┆   ┆           ┆ 198       ┆          ┆           │\n",
       "│ 1023   ┆ A          ┆ F          ┆ 3783344.00 ┆ … ┆ 25.56659  ┆ 36003.313 ┆ 0.050173 ┆ 147980    │\n",
       "│        ┆            ┆            ┆            ┆   ┆           ┆ 274       ┆          ┆           │\n",
       "│ 1023   ┆ N          ┆ F          ┆ 93542.00   ┆ … ┆ 25.038009 ┆ 34963.450 ┆ 0.049165 ┆ 3736      │\n",
       "│        ┆            ┆            ┆            ┆   ┆           ┆ 016       ┆          ┆           │\n",
       "│ 1023   ┆ N          ┆ O          ┆ 7526684.00 ┆ … ┆ 25.508649 ┆ 35930.992 ┆ 0.05009  ┆ 295064    │\n",
       "│        ┆            ┆            ┆            ┆   ┆           ┆ 191       ┆          ┆           │\n",
       "│ 1023   ┆ R          ┆ F          ┆ 3763328.00 ┆ … ┆ 25.503368 ┆ 35989.917 ┆ 0.049933 ┆ 147562    │\n",
       "│        ┆            ┆            ┆            ┆   ┆           ┆ 323       ┆          ┆           │\n",
       "└────────┴────────────┴────────────┴────────────┴───┴───────────┴───────────┴──────────┴───────────┘"
      ]
     },
     "execution_count": 6,
     "metadata": {},
     "output_type": "execute_result"
    }
   ],
   "source": [
    "# Run the query for each sample, but accumulate in a pl.DataFrame instead of a list\n",
    "dfsdf: pl.DataFrame = pl.concat(\n",
    "    con.execute(f\"EXECUTE run_query(sample := {s});\").pl().insert_column(0, pl.lit(s).alias(\"sample\"))\n",
    "    for s in range(SAMPLES)\n",
    ")\n",
    "dfsdf"
   ]
  },
  {
   "cell_type": "code",
   "execution_count": 7,
   "metadata": {},
   "outputs": [],
   "source": [
    "# Define which columns are the group-by keys (INDEX_COLS) and which are the output columns (OUTPUT_COLS)\n",
    "INDEX_COLS = ['l_returnflag', 'l_linestatus']\n",
    "OUTPUT_COLS = ['sum_qty', 'sum_base_price', 'sum_disc_price', 'sum_charge', 'avg_qty', 'avg_price', 'avg_disc', 'count_order']\n",
    "\n",
    "# Save these to disk for later use\n",
    "with open(f\"{OUTPUT_DIR}/INDEX_COLS.pkl\", 'wb') as f:\n",
    "    pickle.dump(INDEX_COLS, f)\n",
    "with open(f\"{OUTPUT_DIR}/OUTPUT_COLS.pkl\", 'wb') as f:\n",
    "    pickle.dump(OUTPUT_COLS, f)"
   ]
  },
  {
   "cell_type": "code",
   "execution_count": 8,
   "metadata": {},
   "outputs": [
    {
     "data": {
      "text/html": [
       "<div><style>\n",
       ".dataframe > thead > tr,\n",
       ".dataframe > tbody > tr {\n",
       "  text-align: right;\n",
       "  white-space: pre-wrap;\n",
       "}\n",
       "</style>\n",
       "<small>shape: (4, 10)</small><table border=\"1\" class=\"dataframe\"><thead><tr><th>l_returnflag</th><th>l_linestatus</th><th>sum_qty</th><th>sum_base_price</th><th>sum_disc_price</th><th>sum_charge</th><th>avg_qty</th><th>avg_price</th><th>avg_disc</th><th>count_order</th></tr><tr><td>str</td><td>str</td><td>list[decimal[38,2]]</td><td>list[decimal[38,2]]</td><td>list[decimal[38,4]]</td><td>list[decimal[38,6]]</td><td>list[f64]</td><td>list[f64]</td><td>list[f64]</td><td>list[i64]</td></tr></thead><tbody><tr><td>&quot;A&quot;</td><td>&quot;F&quot;</td><td>[3791676.00, 3724948.00, … 3783344.00]</td><td>[5351765685.40, 5244212391.34, … 5327770298.30]</td><td>[5083008647.1406, 4981605096.1900, … 5060606960.2794]</td><td>[5286718430.029160, 5181199915.415726, … 5263480920.673996]</td><td>[25.449198, 25.514741, … 25.56659]</td><td>[35920.301265, 35921.231241, … 36003.313274]</td><td>[0.050199, 0.050157, … 0.050173]</td><td>[148990, 145992, … 147980]</td></tr><tr><td>&quot;N&quot;</td><td>&quot;F&quot;</td><td>[100104.00, 93042.00, … 93542.00]</td><td>[140553074.82, 131121182.32, … 130623449.26]</td><td>[133770473.6764, 124607445.1570, … 124241875.3832]</td><td>[139278347.251978, 129742432.305700, … 129253497.349744]</td><td>[25.342785, 25.01129, … 25.038009]</td><td>[35583.056916, 35247.629656, … 34963.450016]</td><td>[0.049068, 0.049758, … 0.049165]</td><td>[3950, 3720, … 3736]</td></tr><tr><td>&quot;N&quot;</td><td>&quot;O&quot;</td><td>[7516068.00, 7371370.00, … 7526684.00]</td><td>[10596761557.36, 10388044683.56, … 10601942279.80]</td><td>[10068215898.2626, 9868300586.3280, … 10071554341.9056]</td><td>[10471192286.896000, 10263196654.802480, … 10474066577.609106]</td><td>[25.539491, 25.531914, … 25.508649]</td><td>[36007.643964, 35980.64744, … 35930.992191]</td><td>[0.049963, 0.050061, … 0.05009]</td><td>[294292, 288712, … 295064]</td></tr><tr><td>&quot;R&quot;</td><td>&quot;F&quot;</td><td>[3834252.00, 3752446.00, … 3763328.00]</td><td>[5400670658.52, 5292495252.38, … 5310744180.06]</td><td>[5130673456.0062, 5028903141.5798, … 5046454919.0130]</td><td>[5335965413.754750, 5229450740.866620, … 5248122617.420026]</td><td>[25.527643, 25.608023, … 25.503368]</td><td>[35956.529018, 36117.865153, … 35989.917323]</td><td>[0.050039, 0.049967, … 0.049933]</td><td>[150200, 146534, … 147562]</td></tr></tbody></table></div>"
      ],
      "text/plain": [
       "shape: (4, 10)\n",
       "┌───────────┬───────────┬───────────┬───────────┬───┬───────────┬───────────┬───────────┬──────────┐\n",
       "│ l_returnf ┆ l_linesta ┆ sum_qty   ┆ sum_base_ ┆ … ┆ avg_qty   ┆ avg_price ┆ avg_disc  ┆ count_or │\n",
       "│ lag       ┆ tus       ┆ ---       ┆ price     ┆   ┆ ---       ┆ ---       ┆ ---       ┆ der      │\n",
       "│ ---       ┆ ---       ┆ list[deci ┆ ---       ┆   ┆ list[f64] ┆ list[f64] ┆ list[f64] ┆ ---      │\n",
       "│ str       ┆ str       ┆ mal[38,2] ┆ list[deci ┆   ┆           ┆           ┆           ┆ list[i64 │\n",
       "│           ┆           ┆ ]         ┆ mal[38,2] ┆   ┆           ┆           ┆           ┆ ]        │\n",
       "│           ┆           ┆           ┆ ]         ┆   ┆           ┆           ┆           ┆          │\n",
       "╞═══════════╪═══════════╪═══════════╪═══════════╪═══╪═══════════╪═══════════╪═══════════╪══════════╡\n",
       "│ A         ┆ F         ┆ [3791676. ┆ [53517656 ┆ … ┆ [25.44919 ┆ [35920.30 ┆ [0.050199 ┆ [148990, │\n",
       "│           ┆           ┆ 00, 37249 ┆ 85.40,    ┆   ┆ 8, 25.514 ┆ 1265, 359 ┆ ,         ┆ 145992,  │\n",
       "│           ┆           ┆ 48.00, …  ┆ 524421239 ┆   ┆ 741, …    ┆ 21.231241 ┆ 0.050157, ┆ …        │\n",
       "│           ┆           ┆ 378…      ┆ 1.34,…    ┆   ┆ 25.56…    ┆ , ……      ┆ …         ┆ 147980]  │\n",
       "│           ┆           ┆           ┆           ┆   ┆           ┆           ┆ 0.05017…  ┆          │\n",
       "│ N         ┆ F         ┆ [100104.0 ┆ [14055307 ┆ … ┆ [25.34278 ┆ [35583.05 ┆ [0.049068 ┆ [3950,   │\n",
       "│           ┆           ┆ 0,        ┆ 4.82, 131 ┆   ┆ 5,        ┆ 6916, 352 ┆ ,         ┆ 3720, …  │\n",
       "│           ┆           ┆ 93042.00, ┆ 121182.32 ┆   ┆ 25.01129, ┆ 47.629656 ┆ 0.049758, ┆ 3736]    │\n",
       "│           ┆           ┆ … 93542.… ┆ , ……      ┆   ┆ … 25.038… ┆ , ……      ┆ …         ┆          │\n",
       "│           ┆           ┆           ┆           ┆   ┆           ┆           ┆ 0.04916…  ┆          │\n",
       "│ N         ┆ O         ┆ [7516068. ┆ [10596761 ┆ … ┆ [25.53949 ┆ [36007.64 ┆ [0.049963 ┆ [294292, │\n",
       "│           ┆           ┆ 00, 73713 ┆ 557.36,   ┆   ┆ 1, 25.531 ┆ 3964, 359 ┆ ,         ┆ 288712,  │\n",
       "│           ┆           ┆ 70.00, …  ┆ 103880446 ┆   ┆ 914, …    ┆ 80.64744, ┆ 0.050061, ┆ …        │\n",
       "│           ┆           ┆ 752…      ┆ 83.5…     ┆   ┆ 25.50…    ┆ … …       ┆ …         ┆ 295064]  │\n",
       "│           ┆           ┆           ┆           ┆   ┆           ┆           ┆ 0.05009…  ┆          │\n",
       "│ R         ┆ F         ┆ [3834252. ┆ [54006706 ┆ … ┆ [25.52764 ┆ [35956.52 ┆ [0.050039 ┆ [150200, │\n",
       "│           ┆           ┆ 00, 37524 ┆ 58.52,    ┆   ┆ 3, 25.608 ┆ 9018, 361 ┆ ,         ┆ 146534,  │\n",
       "│           ┆           ┆ 46.00, …  ┆ 529249525 ┆   ┆ 023, …    ┆ 17.865153 ┆ 0.049967, ┆ …        │\n",
       "│           ┆           ┆ 376…      ┆ 2.38,…    ┆   ┆ 25.50…    ┆ , ……      ┆ …         ┆ 147562]  │\n",
       "│           ┆           ┆           ┆           ┆   ┆           ┆           ┆ 0.04993…  ┆          │\n",
       "└───────────┴───────────┴───────────┴───────────┴───┴───────────┴───────────┴───────────┴──────────┘"
      ]
     },
     "execution_count": 8,
     "metadata": {},
     "output_type": "execute_result"
    }
   ],
   "source": [
    "# Combine all the samples into one table, grouped-by the group-by keys. Each cell contains an n <= # of samples length array of values.\n",
    "listdf = (dfsdf.group_by(INDEX_COLS, maintain_order=True)\n",
    "      .all()\n",
    "      .drop(\"sample\"))\n",
    "listdf"
   ]
  },
  {
   "cell_type": "code",
   "execution_count": 9,
   "metadata": {},
   "outputs": [
    {
     "data": {
      "text/plain": [
       "[{'l_returnflag': 'A', 'l_linestatus': 'F'},\n",
       " {'l_returnflag': 'N', 'l_linestatus': 'F'},\n",
       " {'l_returnflag': 'N', 'l_linestatus': 'O'},\n",
       " {'l_returnflag': 'R', 'l_linestatus': 'F'}]"
      ]
     },
     "execution_count": 9,
     "metadata": {},
     "output_type": "execute_result"
    }
   ],
   "source": [
    "# What are all the possible group-by key combinations?\n",
    "allgroups: pl.DataFrame = listdf.select(INDEX_COLS)\n",
    "allgroups.to_dicts()"
   ]
  },
  {
   "cell_type": "code",
   "execution_count": 10,
   "metadata": {},
   "outputs": [],
   "source": [
    "# Template for the final output, including all possible group-by groups\n",
    "# Obtained by collecting all the samples in a big table and then keeping only the first occurrence of each groupby key.\n",
    "# Then, fill all OUTPUT_COLS with nulls\n",
    "templatedf = dfsdf.drop(\"sample\").group_by(INDEX_COLS, maintain_order=True).first()\n",
    "templatedf = templatedf.clear(n=len(allgroups)).with_columns(allgroups)\n",
    "templatedf\n",
    "\n",
    "with open(f\"{OUTPUT_DIR}/template.pkl\", \"wb\") as f:\n",
    "    pickle.dump(templatedf, f)"
   ]
  },
  {
   "cell_type": "code",
   "execution_count": 11,
   "metadata": {},
   "outputs": [],
   "source": [
    "# Write all table entries in the output table to their own JSON files. Each file has a number, the information of which file corresponds to which table entry\n",
    "# is stored in reverse_map.json (as well as in the files themselves)\n",
    "os.makedirs(f\"{OUTPUT_DIR}/json\", exist_ok=True)\n",
    "os.makedirs(f\"{OUTPUT_DIR}/pkl\", exist_ok=True)\n",
    "i: int = 0\n",
    "for col in OUTPUT_COLS:\n",
    "    for group in allgroups.iter_rows(named=True):\n",
    "        values = listdf.filter(pl.col(k).eq(v) for k, v in group.items()).select(col).to_series()\n",
    "        j = pl.DataFrame().with_columns([\n",
    "            pl.lit(col).alias(\"col\"),\n",
    "            pl.lit(group).alias(\"row\"),\n",
    "            pl.lit(values.explode().dtype.__repr__()).alias(\"dtype\"),\n",
    "            values.alias(\"values\"),\n",
    "        ])\n",
    "        j.write_json(f\"{OUTPUT_DIR}/json/{i}.json\")\n",
    "        i+=1"
   ]
  },
  {
   "cell_type": "code",
   "execution_count": 12,
   "metadata": {},
   "outputs": [
    {
     "data": {
      "text/plain": [
       "'/Users/michael/projects/dpdb/pacdb/outputs/pac-duckdb-q1-step1.zip'"
      ]
     },
     "execution_count": 12,
     "metadata": {},
     "output_type": "execute_result"
    }
   ],
   "source": [
    "# zip the OUTPUT_DIR\n",
    "shutil.make_archive(OUTPUT_DIR, 'zip', OUTPUT_DIR)"
   ]
  }
 ],
 "metadata": {
  "kernelspec": {
   "display_name": ".venv",
   "language": "python",
   "name": "python3"
  },
  "language_info": {
   "codemirror_mode": {
    "name": "ipython",
    "version": 3
   },
   "file_extension": ".py",
   "mimetype": "text/x-python",
   "name": "python",
   "nbconvert_exporter": "python",
   "pygments_lexer": "ipython3",
   "version": "3.11.7"
  }
 },
 "nbformat": 4,
 "nbformat_minor": 2
}
