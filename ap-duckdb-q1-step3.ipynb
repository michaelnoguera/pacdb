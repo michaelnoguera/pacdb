{
 "cells": [
  {
   "cell_type": "code",
   "execution_count": 1,
   "id": "eba650e4",
   "metadata": {
    "execution": {
     "iopub.execute_input": "2025-04-25T05:04:46.664771Z",
     "iopub.status.busy": "2025-04-25T05:04:46.664314Z",
     "iopub.status.idle": "2025-04-25T05:04:46.722397Z",
     "shell.execute_reply": "2025-04-25T05:04:46.722014Z"
    },
    "papermill": {
     "duration": 0.067879,
     "end_time": "2025-04-25T05:04:46.723350",
     "exception": false,
     "start_time": "2025-04-25T05:04:46.655471",
     "status": "completed"
    },
    "tags": []
   },
   "outputs": [],
   "source": [
    "#!/usr/bin/env python\n",
    "# coding: utf-8\n",
    "\n",
    "import json\n",
    "import os\n",
    "import pickle\n",
    "import shutil\n",
    "import zipfile\n",
    "\n",
    "import parse\n",
    "import polars as pl"
   ]
  },
  {
   "cell_type": "code",
   "execution_count": 2,
   "id": "5bbee7d0",
   "metadata": {
    "execution": {
     "iopub.execute_input": "2025-04-25T05:04:46.726642Z",
     "iopub.status.busy": "2025-04-25T05:04:46.726529Z",
     "iopub.status.idle": "2025-04-25T05:04:46.728571Z",
     "shell.execute_reply": "2025-04-25T05:04:46.728315Z"
    },
    "papermill": {
     "duration": 0.00418,
     "end_time": "2025-04-25T05:04:46.729271",
     "exception": false,
     "start_time": "2025-04-25T05:04:46.725091",
     "status": "completed"
    },
    "tags": [
     "parameters"
    ]
   },
   "outputs": [],
   "source": [
    "#EXPERIMENT = \"asdf\"\n",
    "#INPUT_ZIP = f\"./outputs/{EXPERIMENT}-step2.zip\"\n",
    "#OUTPUT_DIR = f\"./outputs/{EXPERIMENT}-step3\"\n",
    "#INDEX_COLS = pickle.load(open(f'./outputs/{EXPERIMENT}-step1/INDEX_COLS.pkl', 'rb'))\n",
    "#OUTPUT_COLS = pickle.load(open(f'./outputs/{EXPERIMENT}-step1/OUTPUT_COLS.pkl', 'rb'))\n",
    "#templatedf_path = f\"./outputs/{EXPERIMENT}-step2/templatedf.csv\"\n",
    "EXPERIMENT = \"\"\n",
    "INPUT_ZIP = \"\"\n",
    "OUTPUT_DIR = \"\"\n",
    "INDEX_COLS = []\n",
    "OUTPUT_COLS = []\n",
    "templatedf_path = \"\""
   ]
  },
  {
   "cell_type": "code",
   "execution_count": 3,
   "id": "178cd727",
   "metadata": {
    "execution": {
     "iopub.execute_input": "2025-04-25T05:04:46.731879Z",
     "iopub.status.busy": "2025-04-25T05:04:46.731783Z",
     "iopub.status.idle": "2025-04-25T05:04:46.733552Z",
     "shell.execute_reply": "2025-04-25T05:04:46.733334Z"
    },
    "papermill": {
     "duration": 0.003782,
     "end_time": "2025-04-25T05:04:46.734205",
     "exception": false,
     "start_time": "2025-04-25T05:04:46.730423",
     "status": "completed"
    },
    "tags": [
     "injected-parameters"
    ]
   },
   "outputs": [],
   "source": [
    "# Parameters\n",
    "EXPERIMENT = \"ap-duckdb-q1\"\n",
    "OUTPUT_DIR = \"./outputs/ap-duckdb-q1-step3\"\n",
    "INPUT_ZIP = \"./outputs/ap-duckdb-q1-step2.zip\"\n",
    "INDEX_COLS = [\"l_returnflag\", \"l_linestatus\"]\n",
    "OUTPUT_COLS = [\"sum_qty\", \"sum_base_price\", \"sum_disc_price\", \"sum_charge\", \"avg_qty\", \"avg_price\", \"avg_disc\", \"count_order\"]\n",
    "templatedf_path = \"./outputs/ap-duckdb-q1-step1/template.pkl\"\n"
   ]
  },
  {
   "cell_type": "code",
   "execution_count": 4,
   "id": "7eeff702",
   "metadata": {
    "execution": {
     "iopub.execute_input": "2025-04-25T05:04:46.736997Z",
     "iopub.status.busy": "2025-04-25T05:04:46.736895Z",
     "iopub.status.idle": "2025-04-25T05:04:46.738604Z",
     "shell.execute_reply": "2025-04-25T05:04:46.738368Z"
    },
    "papermill": {
     "duration": 0.003809,
     "end_time": "2025-04-25T05:04:46.739237",
     "exception": false,
     "start_time": "2025-04-25T05:04:46.735428",
     "status": "completed"
    },
    "tags": []
   },
   "outputs": [],
   "source": [
    "if not os.path.exists(OUTPUT_DIR):\n",
    "    os.makedirs(OUTPUT_DIR)"
   ]
  },
  {
   "cell_type": "code",
   "execution_count": 5,
   "id": "257dec28",
   "metadata": {
    "execution": {
     "iopub.execute_input": "2025-04-25T05:04:46.741723Z",
     "iopub.status.busy": "2025-04-25T05:04:46.741635Z",
     "iopub.status.idle": "2025-04-25T05:04:46.743606Z",
     "shell.execute_reply": "2025-04-25T05:04:46.743407Z"
    },
    "papermill": {
     "duration": 0.003872,
     "end_time": "2025-04-25T05:04:46.744228",
     "exception": false,
     "start_time": "2025-04-25T05:04:46.740356",
     "status": "completed"
    },
    "tags": []
   },
   "outputs": [],
   "source": [
    "# Import saved variables from the first step\n",
    "templatedf: pl.DataFrame = pickle.load(open(templatedf_path, 'rb'))"
   ]
  },
  {
   "cell_type": "code",
   "execution_count": 6,
   "id": "ab3a80fe",
   "metadata": {
    "execution": {
     "iopub.execute_input": "2025-04-25T05:04:46.746859Z",
     "iopub.status.busy": "2025-04-25T05:04:46.746755Z",
     "iopub.status.idle": "2025-04-25T05:04:46.752024Z",
     "shell.execute_reply": "2025-04-25T05:04:46.751787Z"
    },
    "papermill": {
     "duration": 0.007306,
     "end_time": "2025-04-25T05:04:46.752650",
     "exception": false,
     "start_time": "2025-04-25T05:04:46.745344",
     "status": "completed"
    },
    "tags": []
   },
   "outputs": [
    {
     "data": {
      "text/plain": [
       "dict_keys([20, 16, 6, 7, 17, 21, 10, 0, 26, 30, 31, 27, 1, 11, 2, 28, 12, 24, 25, 13, 29, 3, 8, 22, 18, 4, 14, 15, 5, 19, 23, 9])"
      ]
     },
     "execution_count": 6,
     "metadata": {},
     "output_type": "execute_result"
    }
   ],
   "source": [
    "# load the json input files from step 2\n",
    "# {'col': column name as string,\n",
    "#  'row': group-by column values as dict (effectively a row id),\n",
    "#  'values': [ 1000x values ] }\n",
    "alldata = {}\n",
    "\n",
    "pattern = parse.compile(\"{n}.json\")\n",
    "\n",
    "with zipfile.ZipFile(INPUT_ZIP, 'r') as zf:\n",
    "    for filename in zf.namelist():\n",
    "        if filename.endswith('.json'):\n",
    "            with zf.open(filename) as f:\n",
    "                filenumber = int(pattern.parse(filename).named['n'])\n",
    "                data = json.load(f)\n",
    "                d: dict = data\n",
    "                alldata[filenumber] = d\n",
    "alldata.keys()"
   ]
  },
  {
   "cell_type": "code",
   "execution_count": 7,
   "id": "fa47deff",
   "metadata": {
    "execution": {
     "iopub.execute_input": "2025-04-25T05:04:46.755363Z",
     "iopub.status.busy": "2025-04-25T05:04:46.755275Z",
     "iopub.status.idle": "2025-04-25T05:04:46.760455Z",
     "shell.execute_reply": "2025-04-25T05:04:46.760229Z"
    },
    "papermill": {
     "duration": 0.007167,
     "end_time": "2025-04-25T05:04:46.761141",
     "exception": false,
     "start_time": "2025-04-25T05:04:46.753974",
     "status": "completed"
    },
    "tags": []
   },
   "outputs": [],
   "source": [
    "# Make sure the data types of the row fields are correct\n",
    "for i in range(len(alldata)):\n",
    "    alldata[i]['row'] = pl.DataFrame(alldata[i]['row']).cast(templatedf.select(INDEX_COLS).schema).to_dicts()[0]"
   ]
  },
  {
   "cell_type": "code",
   "execution_count": 8,
   "id": "1d086fc3",
   "metadata": {
    "execution": {
     "iopub.execute_input": "2025-04-25T05:04:46.763860Z",
     "iopub.status.busy": "2025-04-25T05:04:46.763747Z",
     "iopub.status.idle": "2025-04-25T05:04:46.766205Z",
     "shell.execute_reply": "2025-04-25T05:04:46.765996Z"
    },
    "papermill": {
     "duration": 0.004552,
     "end_time": "2025-04-25T05:04:46.766842",
     "exception": false,
     "start_time": "2025-04-25T05:04:46.762290",
     "status": "completed"
    },
    "tags": []
   },
   "outputs": [
    {
     "data": {
      "text/html": [
       "<div><style>\n",
       ".dataframe > thead > tr,\n",
       ".dataframe > tbody > tr {\n",
       "  text-align: right;\n",
       "  white-space: pre-wrap;\n",
       "}\n",
       "</style>\n",
       "<small>shape: (4, 2)</small><table border=\"1\" class=\"dataframe\"><thead><tr><th>l_returnflag</th><th>l_linestatus</th></tr><tr><td>str</td><td>str</td></tr></thead><tbody><tr><td>&quot;A&quot;</td><td>&quot;F&quot;</td></tr><tr><td>&quot;N&quot;</td><td>&quot;F&quot;</td></tr><tr><td>&quot;R&quot;</td><td>&quot;F&quot;</td></tr><tr><td>&quot;N&quot;</td><td>&quot;O&quot;</td></tr></tbody></table></div>"
      ],
      "text/plain": [
       "shape: (4, 2)\n",
       "┌──────────────┬──────────────┐\n",
       "│ l_returnflag ┆ l_linestatus │\n",
       "│ ---          ┆ ---          │\n",
       "│ str          ┆ str          │\n",
       "╞══════════════╪══════════════╡\n",
       "│ A            ┆ F            │\n",
       "│ N            ┆ F            │\n",
       "│ R            ┆ F            │\n",
       "│ N            ┆ O            │\n",
       "└──────────────┴──────────────┘"
      ]
     },
     "execution_count": 8,
     "metadata": {},
     "output_type": "execute_result"
    }
   ],
   "source": [
    "allgroups = templatedf.select(INDEX_COLS)\n",
    "allgroups"
   ]
  },
  {
   "cell_type": "code",
   "execution_count": 9,
   "id": "0b249a7b",
   "metadata": {
    "execution": {
     "iopub.execute_input": "2025-04-25T05:04:46.769555Z",
     "iopub.status.busy": "2025-04-25T05:04:46.769469Z",
     "iopub.status.idle": "2025-04-25T05:04:46.773419Z",
     "shell.execute_reply": "2025-04-25T05:04:46.773162Z"
    },
    "papermill": {
     "duration": 0.005974,
     "end_time": "2025-04-25T05:04:46.774064",
     "exception": false,
     "start_time": "2025-04-25T05:04:46.768090",
     "status": "completed"
    },
    "tags": []
   },
   "outputs": [
    {
     "name": "stdout",
     "output_type": "stream",
     "text": [
      "{'l_returnflag': 'A', 'l_linestatus': 'F'}\n",
      "{'l_returnflag': 'N', 'l_linestatus': 'F'}\n",
      "{'l_returnflag': 'R', 'l_linestatus': 'F'}\n",
      "{'l_returnflag': 'N', 'l_linestatus': 'O'}\n"
     ]
    }
   ],
   "source": [
    "# Cursed data shuffling to reidentify what row goes where, what column goes where, and what the labels should be on everything\n",
    "colidxes = {}\n",
    "for col in OUTPUT_COLS:\n",
    "    colidxes[col] = templatedf.get_column_index(col)\n",
    "rowidxes = {}\n",
    "for row in templatedf.select(INDEX_COLS).iter_rows(named=True):\n",
    "    rowidxes[tuple(row.values())] = allgroups.with_row_index().filter(\n",
    "        pl.col(k).eq(v)\n",
    "        for k, v in row.items()\n",
    "    ).select(\"index\").item()\n",
    "    print(row)\n",
    "\n",
    "allinfo = [\n",
    "    {\"colname\": adentry['col'],\n",
    "    \"rowid\": tuple(adentry['row'].values()),\n",
    "    \"value\": adentry['value'][0],\n",
    "    \"colidx\": colidxes[adentry['col']],\n",
    "    \"rowidx\": rowidxes[tuple(adentry['row'].values())]}\n",
    "    for adidx, adentry in alldata.items()\n",
    "]\n",
    "\n",
    "colnames = {}\n",
    "rownames = {}\n",
    "for entry in allinfo:\n",
    "    colnames[entry['colidx']] = entry['colname']\n",
    "    rownames[entry['rowidx']] = entry['rowid']"
   ]
  },
  {
   "cell_type": "markdown",
   "id": "61e58b37",
   "metadata": {
    "papermill": {
     "duration": 0.001111,
     "end_time": "2025-04-25T05:04:46.776463",
     "exception": false,
     "start_time": "2025-04-25T05:04:46.775352",
     "status": "completed"
    },
    "tags": []
   },
   "source": [
    "Naive reconstruction"
   ]
  },
  {
   "cell_type": "code",
   "execution_count": 10,
   "id": "c6da70b0",
   "metadata": {
    "execution": {
     "iopub.execute_input": "2025-04-25T05:04:46.779048Z",
     "iopub.status.busy": "2025-04-25T05:04:46.778956Z",
     "iopub.status.idle": "2025-04-25T05:04:46.842578Z",
     "shell.execute_reply": "2025-04-25T05:04:46.841843Z"
    },
    "papermill": {
     "duration": 0.067015,
     "end_time": "2025-04-25T05:04:46.844561",
     "exception": false,
     "start_time": "2025-04-25T05:04:46.777546",
     "status": "completed"
    },
    "tags": []
   },
   "outputs": [
    {
     "name": "stdout",
     "output_type": "stream",
     "text": [
      "['l_returnflag', 'l_linestatus', 'sum_qty', 'sum_base_price', 'sum_disc_price', 'sum_charge', 'avg_qty', 'avg_price', 'avg_disc', 'count_order']\n",
      "['A', 'F', 3899734.145193726, 5292376241.022015, 5249520169.545148, 5197640048.900388, 25.44357219851789, 35933.47039305396, 0.05047187385032928, 144796.86598203142]\n",
      "['N', 'F', 89605.74542453185, 134078673.37070186, 124484291.47637552, 136043535.2070816, 24.95430638921443, 35310.206028922425, 0.04897543094168873, 3718.9750592048886]\n",
      "['R', 'F', 3768367.911042263, 5380117595.907811, 4855004241.02617, 5315169810.653909, 25.4907102085246, 36030.09581759708, 0.050069656855529075, 142743.017310443]\n",
      "['N', 'O', 7601318.569778294, 11031614073.98362, 9994419779.33467, 10582435008.250677, 25.6047321386023, 35988.60840564336, 0.05012341744739862, 291610.7385911932]\n"
     ]
    }
   ],
   "source": [
    "# Naive reconstruction based on the indices of the keys in the templatedf\n",
    "allcols = INDEX_COLS + OUTPUT_COLS\n",
    "allrows = allgroups.select(INDEX_COLS).to_numpy().tolist()\n",
    "\n",
    "allinfo2 = {\n",
    "    (rowidxes[tuple(adentry['row'].values())], colidxes[adentry['col']]): adentry['value'][0]\n",
    "    for adidx, adentry in alldata.items()\n",
    "}\n",
    "\n",
    "df2 = []\n",
    "print(allcols)\n",
    "for row in allrows:\n",
    "    print(row + [allinfo2.get((rowidxes[tuple(row)], colidxes[col]), None) for col in OUTPUT_COLS])\n",
    "    df2.append(row + [allinfo2.get((rowidxes[tuple(row)], colidxes[col]), None) for col in OUTPUT_COLS])"
   ]
  },
  {
   "cell_type": "code",
   "execution_count": 11,
   "id": "396c2efa",
   "metadata": {
    "execution": {
     "iopub.execute_input": "2025-04-25T05:04:46.849576Z",
     "iopub.status.busy": "2025-04-25T05:04:46.849202Z",
     "iopub.status.idle": "2025-04-25T05:04:46.879122Z",
     "shell.execute_reply": "2025-04-25T05:04:46.878112Z"
    },
    "papermill": {
     "duration": 0.034209,
     "end_time": "2025-04-25T05:04:46.880894",
     "exception": false,
     "start_time": "2025-04-25T05:04:46.846685",
     "status": "completed"
    },
    "tags": []
   },
   "outputs": [
    {
     "data": {
      "text/html": [
       "<div><style>\n",
       ".dataframe > thead > tr,\n",
       ".dataframe > tbody > tr {\n",
       "  text-align: right;\n",
       "  white-space: pre-wrap;\n",
       "}\n",
       "</style>\n",
       "<small>shape: (4, 10)</small><table border=\"1\" class=\"dataframe\"><thead><tr><th>l_returnflag</th><th>l_linestatus</th><th>sum_qty</th><th>sum_base_price</th><th>sum_disc_price</th><th>sum_charge</th><th>avg_qty</th><th>avg_price</th><th>avg_disc</th><th>count_order</th></tr><tr><td>str</td><td>str</td><td>decimal[38,2]</td><td>decimal[38,2]</td><td>decimal[38,4]</td><td>decimal[38,6]</td><td>f64</td><td>f64</td><td>f64</td><td>i64</td></tr></thead><tbody><tr><td>&quot;A&quot;</td><td>&quot;F&quot;</td><td>3899734.14</td><td>5292376241.02</td><td>5249520169.5451</td><td>5197640048.900388</td><td>25.443572</td><td>35933.470393</td><td>0.050472</td><td>144796</td></tr><tr><td>&quot;N&quot;</td><td>&quot;F&quot;</td><td>89605.74</td><td>134078673.37</td><td>124484291.4763</td><td>136043535.207081</td><td>24.954306</td><td>35310.206029</td><td>0.048975</td><td>3718</td></tr><tr><td>&quot;R&quot;</td><td>&quot;F&quot;</td><td>3768367.91</td><td>5380117595.90</td><td>4855004241.0261</td><td>5315169810.653909</td><td>25.49071</td><td>36030.095818</td><td>0.05007</td><td>142743</td></tr><tr><td>&quot;N&quot;</td><td>&quot;O&quot;</td><td>7601318.56</td><td>11031614073.98</td><td>9994419779.3346</td><td>10582435008.250678</td><td>25.604732</td><td>35988.608406</td><td>0.050123</td><td>291610</td></tr></tbody></table></div>"
      ],
      "text/plain": [
       "shape: (4, 10)\n",
       "┌───────────┬───────────┬───────────┬───────────┬───┬───────────┬───────────┬──────────┬───────────┐\n",
       "│ l_returnf ┆ l_linesta ┆ sum_qty   ┆ sum_base_ ┆ … ┆ avg_qty   ┆ avg_price ┆ avg_disc ┆ count_ord │\n",
       "│ lag       ┆ tus       ┆ ---       ┆ price     ┆   ┆ ---       ┆ ---       ┆ ---      ┆ er        │\n",
       "│ ---       ┆ ---       ┆ decimal[3 ┆ ---       ┆   ┆ f64       ┆ f64       ┆ f64      ┆ ---       │\n",
       "│ str       ┆ str       ┆ 8,2]      ┆ decimal[3 ┆   ┆           ┆           ┆          ┆ i64       │\n",
       "│           ┆           ┆           ┆ 8,2]      ┆   ┆           ┆           ┆          ┆           │\n",
       "╞═══════════╪═══════════╪═══════════╪═══════════╪═══╪═══════════╪═══════════╪══════════╪═══════════╡\n",
       "│ A         ┆ F         ┆ 3899734.1 ┆ 529237624 ┆ … ┆ 25.443572 ┆ 35933.470 ┆ 0.050472 ┆ 144796    │\n",
       "│           ┆           ┆ 4         ┆ 1.02      ┆   ┆           ┆ 393       ┆          ┆           │\n",
       "│ N         ┆ F         ┆ 89605.74  ┆ 134078673 ┆ … ┆ 24.954306 ┆ 35310.206 ┆ 0.048975 ┆ 3718      │\n",
       "│           ┆           ┆           ┆ .37       ┆   ┆           ┆ 029       ┆          ┆           │\n",
       "│ R         ┆ F         ┆ 3768367.9 ┆ 538011759 ┆ … ┆ 25.49071  ┆ 36030.095 ┆ 0.05007  ┆ 142743    │\n",
       "│           ┆           ┆ 1         ┆ 5.90      ┆   ┆           ┆ 818       ┆          ┆           │\n",
       "│ N         ┆ O         ┆ 7601318.5 ┆ 110316140 ┆ … ┆ 25.604732 ┆ 35988.608 ┆ 0.050123 ┆ 291610    │\n",
       "│           ┆           ┆ 6         ┆ 73.98     ┆   ┆           ┆ 406       ┆          ┆           │\n",
       "└───────────┴───────────┴───────────┴───────────┴───┴───────────┴───────────┴──────────┴───────────┘"
      ]
     },
     "execution_count": 11,
     "metadata": {},
     "output_type": "execute_result"
    }
   ],
   "source": [
    "pl.DataFrame(df2, schema=allcols, orient='row').cast(templatedf.schema)"
   ]
  },
  {
   "cell_type": "code",
   "execution_count": 12,
   "id": "22658efb",
   "metadata": {
    "execution": {
     "iopub.execute_input": "2025-04-25T05:04:46.890615Z",
     "iopub.status.busy": "2025-04-25T05:04:46.890180Z",
     "iopub.status.idle": "2025-04-25T05:04:46.905633Z",
     "shell.execute_reply": "2025-04-25T05:04:46.904790Z"
    },
    "papermill": {
     "duration": 0.022667,
     "end_time": "2025-04-25T05:04:46.907899",
     "exception": false,
     "start_time": "2025-04-25T05:04:46.885232",
     "status": "completed"
    },
    "tags": []
   },
   "outputs": [],
   "source": [
    "pl.DataFrame(df2, schema=allcols, orient='row').cast(templatedf.schema).write_csv(os.path.join(OUTPUT_DIR, 'output.csv'))"
   ]
  },
  {
   "cell_type": "code",
   "execution_count": 13,
   "id": "fbf29824",
   "metadata": {
    "execution": {
     "iopub.execute_input": "2025-04-25T05:04:46.918821Z",
     "iopub.status.busy": "2025-04-25T05:04:46.918544Z",
     "iopub.status.idle": "2025-04-25T05:04:46.927969Z",
     "shell.execute_reply": "2025-04-25T05:04:46.926533Z"
    },
    "papermill": {
     "duration": 0.017456,
     "end_time": "2025-04-25T05:04:46.929723",
     "exception": false,
     "start_time": "2025-04-25T05:04:46.912267",
     "status": "completed"
    },
    "tags": []
   },
   "outputs": [
    {
     "data": {
      "text/plain": [
       "'/Users/michael/projects/dpdb/pacdb/outputs/ap-duckdb-q1-step3.zip'"
      ]
     },
     "execution_count": 13,
     "metadata": {},
     "output_type": "execute_result"
    }
   ],
   "source": [
    "# zip the OUTPUT_DIR\n",
    "shutil.make_archive(OUTPUT_DIR, 'zip', OUTPUT_DIR)"
   ]
  }
 ],
 "metadata": {
  "kernelspec": {
   "display_name": ".venv",
   "language": "python",
   "name": "python3"
  },
  "language_info": {
   "codemirror_mode": {
    "name": "ipython",
    "version": 3
   },
   "file_extension": ".py",
   "mimetype": "text/x-python",
   "name": "python",
   "nbconvert_exporter": "python",
   "pygments_lexer": "ipython3",
   "version": "3.11.7"
  },
  "papermill": {
   "default_parameters": {},
   "duration": 1.224165,
   "end_time": "2025-04-25T05:04:47.050428",
   "environment_variables": {},
   "exception": null,
   "input_path": "autopac-duckdb-step3.ipynb",
   "output_path": "./ap-duckdb-q1-step3.ipynb",
   "parameters": {
    "EXPERIMENT": "ap-duckdb-q1",
    "INDEX_COLS": [
     "l_returnflag",
     "l_linestatus"
    ],
    "INPUT_ZIP": "./outputs/ap-duckdb-q1-step2.zip",
    "OUTPUT_COLS": [
     "sum_qty",
     "sum_base_price",
     "sum_disc_price",
     "sum_charge",
     "avg_qty",
     "avg_price",
     "avg_disc",
     "count_order"
    ],
    "OUTPUT_DIR": "./outputs/ap-duckdb-q1-step3",
    "templatedf_path": "./outputs/ap-duckdb-q1-step1/template.pkl"
   },
   "start_time": "2025-04-25T05:04:45.826263",
   "version": "2.6.0"
  }
 },
 "nbformat": 4,
 "nbformat_minor": 5
}