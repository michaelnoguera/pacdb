{
 "cells": [
  {
   "cell_type": "markdown",
   "id": "16792aa5",
   "metadata": {
    "papermill": {
     "duration": 0.002679,
     "end_time": "2025-05-01T09:14:12.685865",
     "exception": false,
     "start_time": "2025-05-01T09:14:12.683186",
     "status": "completed"
    },
    "tags": []
   },
   "source": [
    "## DuckDB Notebook\n",
    "\n",
    "This notebook generates a bunch of raw outputs, without applying PAC, to be consumed by a second stage."
   ]
  },
  {
   "cell_type": "markdown",
   "id": "b8c19b69",
   "metadata": {
    "papermill": {
     "duration": 0.001461,
     "end_time": "2025-05-01T09:14:12.689218",
     "exception": false,
     "start_time": "2025-05-01T09:14:12.687757",
     "status": "completed"
    },
    "tags": []
   },
   "source": [
    "```\n",
    " group by              output cols                        \n",
    " key cols ┌────────┬────────┬────────┬────────┐           \n",
    "        │ │   A    │   B    │   C    │   D    │           \n",
    "      ┌─▼─┼────────┼────────┼────────┼────────┤           \n",
    "      │ 1 │   2    │        │        │        │           \n",
    "      ├───┼───|────┼────────┼────────┼────────┤           \n",
    "      │ 2 │   │    │        │        │        │           \n",
    "      ├───┼───┼────┼────────┼────────┼────────┤           \n",
    "      │ 3 │   │    │        │        │        │           \n",
    "      └───┴───┼────┴────────┴────────┴────────┘           \n",
    "              ▼                 A_1.json                  \n",
    "       Sample 0:   A1=2        ┌─────────────────────────┐\n",
    "       Sample 1:   A1=4  ───▶  │{                        │\n",
    "             ...               │    col: A               │\n",
    "       Sample 999: A1=3        │    row: 1               │\n",
    "                               │    value: [2, 4, ... 3] │\n",
    "                               │}                        │\n",
    "                               └─────────────────────────┘\n",
    "```"
   ]
  },
  {
   "cell_type": "code",
   "execution_count": 1,
   "id": "e4e56cb3",
   "metadata": {
    "execution": {
     "iopub.execute_input": "2025-05-01T09:14:12.692824Z",
     "iopub.status.busy": "2025-05-01T09:14:12.692679Z",
     "iopub.status.idle": "2025-05-01T09:14:12.756081Z",
     "shell.execute_reply": "2025-05-01T09:14:12.755757Z"
    },
    "papermill": {
     "duration": 0.066339,
     "end_time": "2025-05-01T09:14:12.756970",
     "exception": false,
     "start_time": "2025-05-01T09:14:12.690631",
     "status": "completed"
    },
    "tags": []
   },
   "outputs": [],
   "source": [
    "#!/usr/bin/env python\n",
    "# coding: utf-8\n",
    "\n",
    "import os\n",
    "import pickle\n",
    "import shutil\n",
    "\n",
    "import duckdb\n",
    "import polars as pl"
   ]
  },
  {
   "cell_type": "code",
   "execution_count": 2,
   "id": "643b4a94",
   "metadata": {
    "execution": {
     "iopub.execute_input": "2025-05-01T09:14:12.760071Z",
     "iopub.status.busy": "2025-05-01T09:14:12.759963Z",
     "iopub.status.idle": "2025-05-01T09:14:12.762485Z",
     "shell.execute_reply": "2025-05-01T09:14:12.762267Z"
    },
    "papermill": {
     "duration": 0.00471,
     "end_time": "2025-05-01T09:14:12.763140",
     "exception": false,
     "start_time": "2025-05-01T09:14:12.758430",
     "status": "completed"
    },
    "tags": [
     "parameters"
    ]
   },
   "outputs": [],
   "source": [
    "EXPERIMENT = \"pac-duckdb-q1\"\n",
    "OUTPUT_DIR = f\"./outputs/{EXPERIMENT}-step1\"\n",
    "SAMPLES = 1024\n",
    "\n",
    "SAMPLE_STEP = f\"\"\"\n",
    "DROP TABLE IF EXISTS random_samples;\n",
    "\n",
    "CREATE TABLE random_samples AS\n",
    "WITH sample_numbers AS MATERIALIZED (\n",
    "    SELECT range AS sample_id FROM range({SAMPLES//2})\n",
    "), random_values AS MATERIALIZED (\n",
    "    SELECT \n",
    "        sample_numbers.sample_id,\n",
    "        customer.rowid AS row_id,\n",
    "        (RANDOM() > 0.5)::BOOLEAN AS random_binary\n",
    "    FROM sample_numbers\n",
    "    JOIN customer ON TRUE  -- Cross join to duplicate rows for each sample\n",
    ")\n",
    "SELECT\n",
    "    sample_id,\n",
    "    row_id,\n",
    "    random_binary\n",
    "FROM random_values\n",
    "UNION ALL\n",
    "SELECT -- select the complementary samples too\n",
    "    ({SAMPLES//2}) + sample_id,\n",
    "    row_id,\n",
    "    NOT random_binary  -- Inverse the random_binary to get the complementary sample\n",
    "FROM random_values\n",
    "ORDER BY sample_id, row_id;\n",
    "\"\"\"\n",
    "\n",
    "PREPARE_STEP = \"\"\"\n",
    "DEALLOCATE PREPARE run_query;\n",
    "\n",
    "PREPARE run_query AS \n",
    "SELECT\n",
    "    l_returnflag,\n",
    "    l_linestatus,\n",
    "    2*sum(l_quantity) AS sum_qty,\n",
    "    2*sum(l_extendedprice) AS sum_base_price,\n",
    "    2*sum(l_extendedprice * (1 - l_discount)) AS sum_disc_price,\n",
    "    2*sum(l_extendedprice * (1 - l_discount) * (1 + l_tax)) AS sum_charge,\n",
    "    avg(l_quantity) AS avg_qty,\n",
    "    avg(l_extendedprice) AS avg_price,\n",
    "    avg(l_discount) AS avg_disc,\n",
    "    2*count(*) AS count_order\n",
    "FROM\n",
    "    lineitem\n",
    "JOIN orders ON lineitem.l_orderkey = orders.o_orderkey\n",
    "JOIN customer ON orders.o_custkey = customer.c_custkey\n",
    "JOIN random_samples AS rs\n",
    "    ON rs.row_id = customer.rowid\n",
    "WHERE\n",
    "    l_shipdate <= CAST('1998-09-02' AS date)\n",
    "    AND rs.random_binary = TRUE\n",
    "    AND rs.sample_id = $sample\n",
    "GROUP BY\n",
    "    l_returnflag,\n",
    "    l_linestatus\n",
    "ORDER BY\n",
    "    l_returnflag,\n",
    "    l_linestatus;\n",
    "\"\"\"\n",
    "\n",
    "INDEX_COLS = ['l_returnflag', 'l_linestatus']\n",
    "OUTPUT_COLS = ['sum_qty', 'sum_base_price', 'sum_disc_price', 'sum_charge', 'avg_qty', 'avg_price', 'avg_disc', 'count_order']"
   ]
  },
  {
   "cell_type": "code",
   "execution_count": 3,
   "id": "f70542f3",
   "metadata": {
    "execution": {
     "iopub.execute_input": "2025-05-01T09:14:12.766306Z",
     "iopub.status.busy": "2025-05-01T09:14:12.766189Z",
     "iopub.status.idle": "2025-05-01T09:14:12.768241Z",
     "shell.execute_reply": "2025-05-01T09:14:12.768002Z"
    },
    "papermill": {
     "duration": 0.004591,
     "end_time": "2025-05-01T09:14:12.769029",
     "exception": false,
     "start_time": "2025-05-01T09:14:12.764438",
     "status": "completed"
    },
    "tags": [
     "injected-parameters"
    ]
   },
   "outputs": [],
   "source": [
    "# Parameters\n",
    "EXPERIMENT = \"ap-duckdb-q13-customer\"\n",
    "OUTPUT_DIR = \"./outputs/ap-duckdb-q13-customer-step1\"\n",
    "SAMPLES = 1024\n",
    "SAMPLE_STEP = \"DROP TABLE IF EXISTS random_samples;\\n\\nCREATE TABLE random_samples AS\\nWITH sample_numbers AS MATERIALIZED (\\n    SELECT range AS sample_id FROM range(1024 // 2)\\n), random_values AS MATERIALIZED (\\n    SELECT \\n        sample_numbers.sample_id,\\n        customer.rowid AS row_id,\\n        (RANDOM() > 0.5)::BOOLEAN AS random_binary\\n    FROM sample_numbers\\n    JOIN customer ON TRUE  -- Cross join to duplicate rows for each sample\\n)\\nSELECT\\n    sample_id,\\n    row_id,\\n    random_binary\\nFROM random_values\\nUNION ALL\\nSELECT -- select the complementary samples too\\n    (1024 // 2) + sample_id,\\n    row_id,\\n    NOT random_binary  -- Inverse the random_binary to get the complementary sample\\nFROM random_values\\nORDER BY sample_id, row_id;\"\n",
    "PREPARE_STEP = \"DEALLOCATE PREPARE run_query;\\n\\nPREPARE run_query AS \\nSELECT\\n    c_count,\\n    count(*) AS custdist\\nFROM (\\n    SELECT\\n        c_custkey,\\n        count(o_orderkey)\\n    FROM\\n        (SELECT * FROM customer\\n        JOIN random_samples AS rs ON rs.row_id = customer.rowid\\n        AND rs.random_binary = TRUE\\n        AND rs.sample_id = $sample) AS customer\\n    LEFT OUTER JOIN orders ON c_custkey = o_custkey\\n    AND o_comment NOT LIKE '%special%requests%'\\nGROUP BY\\n    c_custkey) AS c_orders (c_custkey,\\n        c_count)\\nGROUP BY\\n    c_count\\nORDER BY\\n    custdist DESC,\\n    c_count DESC;\"\n",
    "INDEX_COLS = [\"c_count\"]\n",
    "OUTPUT_COLS = [\"custdist\"]\n"
   ]
  },
  {
   "cell_type": "code",
   "execution_count": 4,
   "id": "44542df7",
   "metadata": {
    "execution": {
     "iopub.execute_input": "2025-05-01T09:14:12.772295Z",
     "iopub.status.busy": "2025-05-01T09:14:12.772162Z",
     "iopub.status.idle": "2025-05-01T09:14:12.773937Z",
     "shell.execute_reply": "2025-05-01T09:14:12.773707Z"
    },
    "papermill": {
     "duration": 0.004168,
     "end_time": "2025-05-01T09:14:12.774659",
     "exception": false,
     "start_time": "2025-05-01T09:14:12.770491",
     "status": "completed"
    },
    "tags": []
   },
   "outputs": [],
   "source": [
    "if not os.path.exists(OUTPUT_DIR):\n",
    "    os.makedirs(OUTPUT_DIR)"
   ]
  },
  {
   "cell_type": "code",
   "execution_count": 5,
   "id": "089ebd49",
   "metadata": {
    "execution": {
     "iopub.execute_input": "2025-05-01T09:14:12.777768Z",
     "iopub.status.busy": "2025-05-01T09:14:12.777666Z",
     "iopub.status.idle": "2025-05-01T09:14:13.087296Z",
     "shell.execute_reply": "2025-05-01T09:14:13.086886Z"
    },
    "papermill": {
     "duration": 0.312012,
     "end_time": "2025-05-01T09:14:13.088151",
     "exception": false,
     "start_time": "2025-05-01T09:14:12.776139",
     "status": "completed"
    },
    "tags": []
   },
   "outputs": [],
   "source": [
    "# duckdb load data/tpch/tpch.duckdb into the temporary in-memory database\n",
    "con = duckdb.connect(database=':memory:')\n",
    "tables = [\"customer\", \"lineitem\", \"nation\", \"orders\", \"part\", \"partsupp\", \"region\", \"supplier\"]\n",
    "for t in tables:\n",
    "    con.execute(f\"CREATE TABLE {t} AS SELECT * FROM 'data/tpch/{t}.parquet'\")"
   ]
  },
  {
   "cell_type": "code",
   "execution_count": 6,
   "id": "d3fe8ade",
   "metadata": {
    "execution": {
     "iopub.execute_input": "2025-05-01T09:14:13.091499Z",
     "iopub.status.busy": "2025-05-01T09:14:13.091396Z",
     "iopub.status.idle": "2025-05-01T09:14:14.116952Z",
     "shell.execute_reply": "2025-05-01T09:14:14.116616Z"
    },
    "papermill": {
     "duration": 1.028047,
     "end_time": "2025-05-01T09:14:14.117856",
     "exception": false,
     "start_time": "2025-05-01T09:14:13.089809",
     "status": "completed"
    },
    "tags": []
   },
   "outputs": [],
   "source": [
    "# Construct the table of random samples\n",
    "# to use, join it with the lineitem table (for specific sample # s) and filter to just the\n",
    "# rows where random_binary = 1.0\n",
    "# This will give us a 50% sample of the lineitem table for each sample # s\n",
    "\n",
    "assert SAMPLES % 2 == 0, \"SAMPLES must be even to create complementary samples.\"\n",
    "\n",
    "random_samples = con.execute(SAMPLE_STEP)"
   ]
  },
  {
   "cell_type": "markdown",
   "id": "d47b2adc",
   "metadata": {
    "papermill": {
     "duration": 0.001495,
     "end_time": "2025-05-01T09:14:14.121092",
     "exception": false,
     "start_time": "2025-05-01T09:14:14.119597",
     "status": "completed"
    },
    "tags": []
   },
   "source": [
    "The randomness of what rows are chosen is saved to disk in `random_binary.json`. For each sample #, there is an array with one entry per row, where 1 means the row was chosen and 0 means it was not."
   ]
  },
  {
   "cell_type": "code",
   "execution_count": 7,
   "id": "25a05215",
   "metadata": {
    "execution": {
     "iopub.execute_input": "2025-05-01T09:14:14.124460Z",
     "iopub.status.busy": "2025-05-01T09:14:14.124339Z",
     "iopub.status.idle": "2025-05-01T09:14:14.457915Z",
     "shell.execute_reply": "2025-05-01T09:14:14.457629Z"
    },
    "papermill": {
     "duration": 0.336269,
     "end_time": "2025-05-01T09:14:14.458801",
     "exception": false,
     "start_time": "2025-05-01T09:14:14.122532",
     "status": "completed"
    },
    "tags": []
   },
   "outputs": [],
   "source": [
    "con.execute(\"\"\"\n",
    "SELECT sample_id, array_agg(random_binary::TINYINT) as random_binary\n",
    "FROM random_samples\n",
    "GROUP BY sample_id;\n",
    "\"\"\").pl().write_json(f\"{OUTPUT_DIR}/random_binary.json\")"
   ]
  },
  {
   "cell_type": "markdown",
   "id": "ba76d487",
   "metadata": {
    "papermill": {
     "duration": 0.001292,
     "end_time": "2025-05-01T09:14:14.461770",
     "exception": false,
     "start_time": "2025-05-01T09:14:14.460478",
     "status": "completed"
    },
    "tags": []
   },
   "source": [
    "Query is specified as a prepared statement. We will then execute it once per sample."
   ]
  },
  {
   "cell_type": "code",
   "execution_count": 8,
   "id": "1b708127",
   "metadata": {
    "execution": {
     "iopub.execute_input": "2025-05-01T09:14:14.465007Z",
     "iopub.status.busy": "2025-05-01T09:14:14.464671Z",
     "iopub.status.idle": "2025-05-01T09:14:14.562173Z",
     "shell.execute_reply": "2025-05-01T09:14:14.561934Z"
    },
    "papermill": {
     "duration": 0.099968,
     "end_time": "2025-05-01T09:14:14.563023",
     "exception": false,
     "start_time": "2025-05-01T09:14:14.463055",
     "status": "completed"
    },
    "tags": []
   },
   "outputs": [
    {
     "data": {
      "text/html": [
       "<div><style>\n",
       ".dataframe > thead > tr,\n",
       ".dataframe > tbody > tr {\n",
       "  text-align: right;\n",
       "  white-space: pre-wrap;\n",
       "}\n",
       "</style>\n",
       "<small>shape: (37, 2)</small><table border=\"1\" class=\"dataframe\"><thead><tr><th>c_count</th><th>custdist</th></tr><tr><td>i64</td><td>i64</td></tr></thead><tbody><tr><td>0</td><td>2498</td></tr><tr><td>11</td><td>332</td></tr><tr><td>10</td><td>320</td></tr><tr><td>9</td><td>292</td></tr><tr><td>8</td><td>284</td></tr><tr><td>&hellip;</td><td>&hellip;</td></tr><tr><td>32</td><td>3</td></tr><tr><td>34</td><td>2</td></tr><tr><td>36</td><td>1</td></tr><tr><td>35</td><td>1</td></tr><tr><td>1</td><td>1</td></tr></tbody></table></div>"
      ],
      "text/plain": [
       "shape: (37, 2)\n",
       "┌─────────┬──────────┐\n",
       "│ c_count ┆ custdist │\n",
       "│ ---     ┆ ---      │\n",
       "│ i64     ┆ i64      │\n",
       "╞═════════╪══════════╡\n",
       "│ 0       ┆ 2498     │\n",
       "│ 11      ┆ 332      │\n",
       "│ 10      ┆ 320      │\n",
       "│ 9       ┆ 292      │\n",
       "│ 8       ┆ 284      │\n",
       "│ …       ┆ …        │\n",
       "│ 32      ┆ 3        │\n",
       "│ 34      ┆ 2        │\n",
       "│ 36      ┆ 1        │\n",
       "│ 35      ┆ 1        │\n",
       "│ 1       ┆ 1        │\n",
       "└─────────┴──────────┘"
      ]
     },
     "execution_count": 8,
     "metadata": {},
     "output_type": "execute_result"
    }
   ],
   "source": [
    "# Query\n",
    "con.execute(PREPARE_STEP)\n",
    "\n",
    "# Run query to see output\n",
    "dfs0 = con.execute(f\"EXECUTE run_query(sample := {0});\").pl()\n",
    "\n",
    "# Save csv copies of the first 5 samples\n",
    "os.makedirs(f\"{OUTPUT_DIR}/csv\", exist_ok=True)\n",
    "for s in range(5):\n",
    "    con.execute(f\"EXECUTE run_query(sample := {s});\").pl().write_csv(f\"{OUTPUT_DIR}/csv/sample_{s}.csv\")\n",
    "\n",
    "dfs0"
   ]
  },
  {
   "cell_type": "code",
   "execution_count": 9,
   "id": "9f6ee32d",
   "metadata": {
    "execution": {
     "iopub.execute_input": "2025-05-01T09:14:14.566592Z",
     "iopub.status.busy": "2025-05-01T09:14:14.566396Z",
     "iopub.status.idle": "2025-05-01T09:14:27.011085Z",
     "shell.execute_reply": "2025-05-01T09:14:27.010767Z"
    },
    "papermill": {
     "duration": 12.447203,
     "end_time": "2025-05-01T09:14:27.011851",
     "exception": false,
     "start_time": "2025-05-01T09:14:14.564648",
     "status": "completed"
    },
    "tags": []
   },
   "outputs": [
    {
     "data": {
      "text/html": [
       "<div><style>\n",
       ".dataframe > thead > tr,\n",
       ".dataframe > tbody > tr {\n",
       "  text-align: right;\n",
       "  white-space: pre-wrap;\n",
       "}\n",
       "</style>\n",
       "<small>shape: (37_274, 3)</small><table border=\"1\" class=\"dataframe\"><thead><tr><th>sample</th><th>c_count</th><th>custdist</th></tr><tr><td>i32</td><td>i64</td><td>i64</td></tr></thead><tbody><tr><td>0</td><td>0</td><td>2498</td></tr><tr><td>0</td><td>11</td><td>332</td></tr><tr><td>0</td><td>10</td><td>320</td></tr><tr><td>0</td><td>9</td><td>292</td></tr><tr><td>0</td><td>8</td><td>284</td></tr><tr><td>&hellip;</td><td>&hellip;</td><td>&hellip;</td></tr><tr><td>1023</td><td>2</td><td>7</td></tr><tr><td>1023</td><td>36</td><td>2</td></tr><tr><td>1023</td><td>35</td><td>2</td></tr><tr><td>1023</td><td>34</td><td>2</td></tr><tr><td>1023</td><td>1</td><td>1</td></tr></tbody></table></div>"
      ],
      "text/plain": [
       "shape: (37_274, 3)\n",
       "┌────────┬─────────┬──────────┐\n",
       "│ sample ┆ c_count ┆ custdist │\n",
       "│ ---    ┆ ---     ┆ ---      │\n",
       "│ i32    ┆ i64     ┆ i64      │\n",
       "╞════════╪═════════╪══════════╡\n",
       "│ 0      ┆ 0       ┆ 2498     │\n",
       "│ 0      ┆ 11      ┆ 332      │\n",
       "│ 0      ┆ 10      ┆ 320      │\n",
       "│ 0      ┆ 9       ┆ 292      │\n",
       "│ 0      ┆ 8       ┆ 284      │\n",
       "│ …      ┆ …       ┆ …        │\n",
       "│ 1023   ┆ 2       ┆ 7        │\n",
       "│ 1023   ┆ 36      ┆ 2        │\n",
       "│ 1023   ┆ 35      ┆ 2        │\n",
       "│ 1023   ┆ 34      ┆ 2        │\n",
       "│ 1023   ┆ 1       ┆ 1        │\n",
       "└────────┴─────────┴──────────┘"
      ]
     },
     "execution_count": 9,
     "metadata": {},
     "output_type": "execute_result"
    }
   ],
   "source": [
    "# Run the query for each sample, but accumulate in a pl.DataFrame instead of a list\n",
    "dfsdf: pl.DataFrame = pl.concat(\n",
    "    con.execute(f\"EXECUTE run_query(sample := {s});\").pl().insert_column(0, pl.lit(s).alias(\"sample\"))\n",
    "    for s in range(SAMPLES)\n",
    ")\n",
    "dfsdf"
   ]
  },
  {
   "cell_type": "code",
   "execution_count": 10,
   "id": "f62d6393",
   "metadata": {
    "execution": {
     "iopub.execute_input": "2025-05-01T09:14:27.015410Z",
     "iopub.status.busy": "2025-05-01T09:14:27.015310Z",
     "iopub.status.idle": "2025-05-01T09:14:27.017434Z",
     "shell.execute_reply": "2025-05-01T09:14:27.017226Z"
    },
    "papermill": {
     "duration": 0.004454,
     "end_time": "2025-05-01T09:14:27.018042",
     "exception": false,
     "start_time": "2025-05-01T09:14:27.013588",
     "status": "completed"
    },
    "tags": []
   },
   "outputs": [],
   "source": [
    "# Define which columns are the group-by keys (INDEX_COLS) and which are the output columns (OUTPUT_COLS)\n",
    "# - moved to parameters cell at top of notebook\n",
    "\n",
    "# Save these to disk for later use\n",
    "with open(f\"{OUTPUT_DIR}/INDEX_COLS.pkl\", 'wb') as f:\n",
    "    pickle.dump(INDEX_COLS, f)\n",
    "with open(f\"{OUTPUT_DIR}/OUTPUT_COLS.pkl\", 'wb') as f:\n",
    "    pickle.dump(OUTPUT_COLS, f)"
   ]
  },
  {
   "cell_type": "code",
   "execution_count": 11,
   "id": "3ece34c2",
   "metadata": {
    "execution": {
     "iopub.execute_input": "2025-05-01T09:14:27.021345Z",
     "iopub.status.busy": "2025-05-01T09:14:27.021252Z",
     "iopub.status.idle": "2025-05-01T09:14:27.025600Z",
     "shell.execute_reply": "2025-05-01T09:14:27.025312Z"
    },
    "papermill": {
     "duration": 0.006725,
     "end_time": "2025-05-01T09:14:27.026292",
     "exception": false,
     "start_time": "2025-05-01T09:14:27.019567",
     "status": "completed"
    },
    "tags": []
   },
   "outputs": [
    {
     "data": {
      "text/html": [
       "<div><style>\n",
       ".dataframe > thead > tr,\n",
       ".dataframe > tbody > tr {\n",
       "  text-align: right;\n",
       "  white-space: pre-wrap;\n",
       "}\n",
       "</style>\n",
       "<small>shape: (37, 2)</small><table border=\"1\" class=\"dataframe\"><thead><tr><th>c_count</th><th>custdist</th></tr><tr><td>i64</td><td>list[i64]</td></tr></thead><tbody><tr><td>0</td><td>[2498, 2485, … 2470]</td></tr><tr><td>11</td><td>[332, 312, … 309]</td></tr><tr><td>10</td><td>[320, 336, … 346]</td></tr><tr><td>9</td><td>[292, 345, … 334]</td></tr><tr><td>8</td><td>[284, 278, … 260]</td></tr><tr><td>&hellip;</td><td>&hellip;</td></tr><tr><td>32</td><td>[3, 4, … 8]</td></tr><tr><td>34</td><td>[2, 2, … 2]</td></tr><tr><td>36</td><td>[1, 1, … 2]</td></tr><tr><td>35</td><td>[1, 2, … 2]</td></tr><tr><td>1</td><td>[1, 1, … 1]</td></tr></tbody></table></div>"
      ],
      "text/plain": [
       "shape: (37, 2)\n",
       "┌─────────┬──────────────────────┐\n",
       "│ c_count ┆ custdist             │\n",
       "│ ---     ┆ ---                  │\n",
       "│ i64     ┆ list[i64]            │\n",
       "╞═════════╪══════════════════════╡\n",
       "│ 0       ┆ [2498, 2485, … 2470] │\n",
       "│ 11      ┆ [332, 312, … 309]    │\n",
       "│ 10      ┆ [320, 336, … 346]    │\n",
       "│ 9       ┆ [292, 345, … 334]    │\n",
       "│ 8       ┆ [284, 278, … 260]    │\n",
       "│ …       ┆ …                    │\n",
       "│ 32      ┆ [3, 4, … 8]          │\n",
       "│ 34      ┆ [2, 2, … 2]          │\n",
       "│ 36      ┆ [1, 1, … 2]          │\n",
       "│ 35      ┆ [1, 2, … 2]          │\n",
       "│ 1       ┆ [1, 1, … 1]          │\n",
       "└─────────┴──────────────────────┘"
      ]
     },
     "execution_count": 11,
     "metadata": {},
     "output_type": "execute_result"
    }
   ],
   "source": [
    "# Combine all the samples into one table, grouped-by the group-by keys. Each cell contains an n <= # of samples length array of values.\n",
    "listdf = dfsdf.drop(\"sample\").group_by(INDEX_COLS or pl.lit(0).alias(\"\"), maintain_order=True).all()\n",
    "listdf"
   ]
  },
  {
   "cell_type": "code",
   "execution_count": 12,
   "id": "554224e2",
   "metadata": {
    "execution": {
     "iopub.execute_input": "2025-05-01T09:14:27.030756Z",
     "iopub.status.busy": "2025-05-01T09:14:27.030642Z",
     "iopub.status.idle": "2025-05-01T09:14:27.033195Z",
     "shell.execute_reply": "2025-05-01T09:14:27.032996Z"
    },
    "papermill": {
     "duration": 0.005673,
     "end_time": "2025-05-01T09:14:27.033826",
     "exception": false,
     "start_time": "2025-05-01T09:14:27.028153",
     "status": "completed"
    },
    "tags": []
   },
   "outputs": [
    {
     "data": {
      "text/plain": [
       "[{'c_count': 0},\n",
       " {'c_count': 11},\n",
       " {'c_count': 10},\n",
       " {'c_count': 9},\n",
       " {'c_count': 8},\n",
       " {'c_count': 12},\n",
       " {'c_count': 7},\n",
       " {'c_count': 13},\n",
       " {'c_count': 20},\n",
       " {'c_count': 19},\n",
       " {'c_count': 18},\n",
       " {'c_count': 14},\n",
       " {'c_count': 17},\n",
       " {'c_count': 16},\n",
       " {'c_count': 15},\n",
       " {'c_count': 21},\n",
       " {'c_count': 22},\n",
       " {'c_count': 6},\n",
       " {'c_count': 23},\n",
       " {'c_count': 24},\n",
       " {'c_count': 5},\n",
       " {'c_count': 25},\n",
       " {'c_count': 26},\n",
       " {'c_count': 27},\n",
       " {'c_count': 4},\n",
       " {'c_count': 28},\n",
       " {'c_count': 29},\n",
       " {'c_count': 3},\n",
       " {'c_count': 30},\n",
       " {'c_count': 31},\n",
       " {'c_count': 33},\n",
       " {'c_count': 2},\n",
       " {'c_count': 32},\n",
       " {'c_count': 34},\n",
       " {'c_count': 36},\n",
       " {'c_count': 35},\n",
       " {'c_count': 1}]"
      ]
     },
     "execution_count": 12,
     "metadata": {},
     "output_type": "execute_result"
    }
   ],
   "source": [
    "# What are all the possible group-by key combinations?\n",
    "allgroups: pl.DataFrame = listdf.select(INDEX_COLS or pl.lit(0).alias(\"\"))\n",
    "allgroups.to_dicts()"
   ]
  },
  {
   "cell_type": "code",
   "execution_count": 13,
   "id": "e48adc8a",
   "metadata": {
    "execution": {
     "iopub.execute_input": "2025-05-01T09:14:27.037466Z",
     "iopub.status.busy": "2025-05-01T09:14:27.037374Z",
     "iopub.status.idle": "2025-05-01T09:14:27.041462Z",
     "shell.execute_reply": "2025-05-01T09:14:27.041244Z"
    },
    "papermill": {
     "duration": 0.006607,
     "end_time": "2025-05-01T09:14:27.042170",
     "exception": false,
     "start_time": "2025-05-01T09:14:27.035563",
     "status": "completed"
    },
    "tags": []
   },
   "outputs": [],
   "source": [
    "# Template for the final output, including all possible group-by groups\n",
    "# Obtained by collecting all the samples in a big table and then keeping only the first occurrence of each groupby key.\n",
    "# Then, fill all OUTPUT_COLS with nulls\n",
    "templatedf = dfsdf.drop(\"sample\").group_by(INDEX_COLS or pl.lit(0).alias(\"\"), maintain_order=True).first()\n",
    "templatedf = templatedf.clear(n=len(allgroups)).with_columns(allgroups)\n",
    "templatedf\n",
    "\n",
    "with open(f\"{OUTPUT_DIR}/template.pkl\", \"wb\") as f:\n",
    "    pickle.dump(templatedf, f)"
   ]
  },
  {
   "cell_type": "code",
   "execution_count": 14,
   "id": "e07f338a",
   "metadata": {
    "execution": {
     "iopub.execute_input": "2025-05-01T09:14:27.046008Z",
     "iopub.status.busy": "2025-05-01T09:14:27.045903Z",
     "iopub.status.idle": "2025-05-01T09:14:27.064584Z",
     "shell.execute_reply": "2025-05-01T09:14:27.064293Z"
    },
    "papermill": {
     "duration": 0.021576,
     "end_time": "2025-05-01T09:14:27.065382",
     "exception": false,
     "start_time": "2025-05-01T09:14:27.043806",
     "status": "completed"
    },
    "tags": []
   },
   "outputs": [],
   "source": [
    "# Write all table entries in the output table to their own JSON files. Each file has a number, the information of which file corresponds to which table entry\n",
    "# is stored in reverse_map.json (as well as in the files themselves)\n",
    "os.makedirs(f\"{OUTPUT_DIR}/json\", exist_ok=True)\n",
    "i: int = 0\n",
    "for col in OUTPUT_COLS:\n",
    "    for group in allgroups.iter_rows(named=True):\n",
    "        values = listdf.filter(pl.col(k).eq(v) for k, v in group.items()).select(col).to_series()\n",
    "        j = pl.DataFrame().with_columns([\n",
    "            pl.lit(col).alias(\"col\"),\n",
    "            pl.lit(group).alias(\"row\"),\n",
    "            pl.lit(values.explode().dtype.__repr__()).alias(\"dtype\"),\n",
    "            values.alias(\"values\"),\n",
    "        ])\n",
    "        j.write_json(f\"{OUTPUT_DIR}/json/{i}.json\")\n",
    "        i+=1"
   ]
  },
  {
   "cell_type": "code",
   "execution_count": 15,
   "id": "f423aaec",
   "metadata": {
    "execution": {
     "iopub.execute_input": "2025-05-01T09:14:27.069272Z",
     "iopub.status.busy": "2025-05-01T09:14:27.069162Z",
     "iopub.status.idle": "2025-05-01T09:14:29.162678Z",
     "shell.execute_reply": "2025-05-01T09:14:29.162441Z"
    },
    "papermill": {
     "duration": 2.096296,
     "end_time": "2025-05-01T09:14:29.163414",
     "exception": false,
     "start_time": "2025-05-01T09:14:27.067118",
     "status": "completed"
    },
    "tags": []
   },
   "outputs": [
    {
     "data": {
      "text/plain": [
       "'/Users/michael/projects/dpdb/pacdb/outputs/ap-duckdb-q13-customer-step1.zip'"
      ]
     },
     "execution_count": 15,
     "metadata": {},
     "output_type": "execute_result"
    }
   ],
   "source": [
    "# zip the OUTPUT_DIR\n",
    "shutil.make_archive(OUTPUT_DIR, 'zip', OUTPUT_DIR)"
   ]
  }
 ],
 "metadata": {
  "kernelspec": {
   "display_name": ".venv",
   "language": "python",
   "name": "python3"
  },
  "language_info": {
   "codemirror_mode": {
    "name": "ipython",
    "version": 3
   },
   "file_extension": ".py",
   "mimetype": "text/x-python",
   "name": "python",
   "nbconvert_exporter": "python",
   "pygments_lexer": "ipython3",
   "version": "3.11.7"
  },
  "papermill": {
   "default_parameters": {},
   "duration": 17.308794,
   "end_time": "2025-05-01T09:14:29.380962",
   "environment_variables": {},
   "exception": null,
   "input_path": "autopac-duckdb-step1.ipynb",
   "output_path": "./ap-duckdb-q13-customer-step1.ipynb",
   "parameters": {
    "EXPERIMENT": "ap-duckdb-q13-customer",
    "INDEX_COLS": [
     "c_count"
    ],
    "OUTPUT_COLS": [
     "custdist"
    ],
    "OUTPUT_DIR": "./outputs/ap-duckdb-q13-customer-step1",
    "PREPARE_STEP": "DEALLOCATE PREPARE run_query;\n\nPREPARE run_query AS \nSELECT\n    c_count,\n    count(*) AS custdist\nFROM (\n    SELECT\n        c_custkey,\n        count(o_orderkey)\n    FROM\n        (SELECT * FROM customer\n        JOIN random_samples AS rs ON rs.row_id = customer.rowid\n        AND rs.random_binary = TRUE\n        AND rs.sample_id = $sample) AS customer\n    LEFT OUTER JOIN orders ON c_custkey = o_custkey\n    AND o_comment NOT LIKE '%special%requests%'\nGROUP BY\n    c_custkey) AS c_orders (c_custkey,\n        c_count)\nGROUP BY\n    c_count\nORDER BY\n    custdist DESC,\n    c_count DESC;",
    "SAMPLES": 1024,
    "SAMPLE_STEP": "DROP TABLE IF EXISTS random_samples;\n\nCREATE TABLE random_samples AS\nWITH sample_numbers AS MATERIALIZED (\n    SELECT range AS sample_id FROM range(1024 // 2)\n), random_values AS MATERIALIZED (\n    SELECT \n        sample_numbers.sample_id,\n        customer.rowid AS row_id,\n        (RANDOM() > 0.5)::BOOLEAN AS random_binary\n    FROM sample_numbers\n    JOIN customer ON TRUE  -- Cross join to duplicate rows for each sample\n)\nSELECT\n    sample_id,\n    row_id,\n    random_binary\nFROM random_values\nUNION ALL\nSELECT -- select the complementary samples too\n    (1024 // 2) + sample_id,\n    row_id,\n    NOT random_binary  -- Inverse the random_binary to get the complementary sample\nFROM random_values\nORDER BY sample_id, row_id;"
   },
   "start_time": "2025-05-01T09:14:12.072168",
   "version": "2.6.0"
  }
 },
 "nbformat": 4,
 "nbformat_minor": 5
}