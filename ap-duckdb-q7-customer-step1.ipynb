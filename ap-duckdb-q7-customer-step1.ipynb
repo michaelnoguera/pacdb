{
 "cells": [
  {
   "cell_type": "markdown",
   "id": "c5553083",
   "metadata": {
    "papermill": {
     "duration": 0.006568,
     "end_time": "2025-05-01T08:49:14.895470",
     "exception": false,
     "start_time": "2025-05-01T08:49:14.888902",
     "status": "completed"
    },
    "tags": []
   },
   "source": [
    "## DuckDB Notebook\n",
    "\n",
    "This notebook generates a bunch of raw outputs, without applying PAC, to be consumed by a second stage."
   ]
  },
  {
   "cell_type": "markdown",
   "id": "2cb7fd6d",
   "metadata": {
    "papermill": {
     "duration": 0.002529,
     "end_time": "2025-05-01T08:49:14.901105",
     "exception": false,
     "start_time": "2025-05-01T08:49:14.898576",
     "status": "completed"
    },
    "tags": []
   },
   "source": [
    "```\n",
    " group by              output cols                        \n",
    " key cols ┌────────┬────────┬────────┬────────┐           \n",
    "        │ │   A    │   B    │   C    │   D    │           \n",
    "      ┌─▼─┼────────┼────────┼────────┼────────┤           \n",
    "      │ 1 │   2    │        │        │        │           \n",
    "      ├───┼───|────┼────────┼────────┼────────┤           \n",
    "      │ 2 │   │    │        │        │        │           \n",
    "      ├───┼───┼────┼────────┼────────┼────────┤           \n",
    "      │ 3 │   │    │        │        │        │           \n",
    "      └───┴───┼────┴────────┴────────┴────────┘           \n",
    "              ▼                 A_1.json                  \n",
    "       Sample 0:   A1=2        ┌─────────────────────────┐\n",
    "       Sample 1:   A1=4  ───▶  │{                        │\n",
    "             ...               │    col: A               │\n",
    "       Sample 999: A1=3        │    row: 1               │\n",
    "                               │    value: [2, 4, ... 3] │\n",
    "                               │}                        │\n",
    "                               └─────────────────────────┘\n",
    "```"
   ]
  },
  {
   "cell_type": "code",
   "execution_count": 1,
   "id": "79516dae",
   "metadata": {
    "execution": {
     "iopub.execute_input": "2025-05-01T08:49:14.906714Z",
     "iopub.status.busy": "2025-05-01T08:49:14.906404Z",
     "iopub.status.idle": "2025-05-01T08:49:14.977031Z",
     "shell.execute_reply": "2025-05-01T08:49:14.976732Z"
    },
    "papermill": {
     "duration": 0.074728,
     "end_time": "2025-05-01T08:49:14.977901",
     "exception": false,
     "start_time": "2025-05-01T08:49:14.903173",
     "status": "completed"
    },
    "tags": []
   },
   "outputs": [],
   "source": [
    "#!/usr/bin/env python\n",
    "# coding: utf-8\n",
    "\n",
    "import os\n",
    "import pickle\n",
    "import shutil\n",
    "\n",
    "import duckdb\n",
    "import polars as pl"
   ]
  },
  {
   "cell_type": "code",
   "execution_count": 2,
   "id": "1ee2aa45",
   "metadata": {
    "execution": {
     "iopub.execute_input": "2025-05-01T08:49:14.980970Z",
     "iopub.status.busy": "2025-05-01T08:49:14.980857Z",
     "iopub.status.idle": "2025-05-01T08:49:14.983335Z",
     "shell.execute_reply": "2025-05-01T08:49:14.983118Z"
    },
    "papermill": {
     "duration": 0.004627,
     "end_time": "2025-05-01T08:49:14.983951",
     "exception": false,
     "start_time": "2025-05-01T08:49:14.979324",
     "status": "completed"
    },
    "tags": [
     "parameters"
    ]
   },
   "outputs": [],
   "source": [
    "EXPERIMENT = \"pac-duckdb-q1\"\n",
    "OUTPUT_DIR = f\"./outputs/{EXPERIMENT}-step1\"\n",
    "SAMPLES = 1024\n",
    "\n",
    "SAMPLE_STEP = f\"\"\"\n",
    "DROP TABLE IF EXISTS random_samples;\n",
    "\n",
    "CREATE TABLE random_samples AS\n",
    "WITH sample_numbers AS MATERIALIZED (\n",
    "    SELECT range AS sample_id FROM range({SAMPLES//2})\n",
    "), random_values AS MATERIALIZED (\n",
    "    SELECT \n",
    "        sample_numbers.sample_id,\n",
    "        customer.rowid AS row_id,\n",
    "        (RANDOM() > 0.5)::BOOLEAN AS random_binary\n",
    "    FROM sample_numbers\n",
    "    JOIN customer ON TRUE  -- Cross join to duplicate rows for each sample\n",
    ")\n",
    "SELECT\n",
    "    sample_id,\n",
    "    row_id,\n",
    "    random_binary\n",
    "FROM random_values\n",
    "UNION ALL\n",
    "SELECT -- select the complementary samples too\n",
    "    ({SAMPLES//2}) + sample_id,\n",
    "    row_id,\n",
    "    NOT random_binary  -- Inverse the random_binary to get the complementary sample\n",
    "FROM random_values\n",
    "ORDER BY sample_id, row_id;\n",
    "\"\"\"\n",
    "\n",
    "PREPARE_STEP = \"\"\"\n",
    "DEALLOCATE PREPARE run_query;\n",
    "\n",
    "PREPARE run_query AS \n",
    "SELECT\n",
    "    l_returnflag,\n",
    "    l_linestatus,\n",
    "    2*sum(l_quantity) AS sum_qty,\n",
    "    2*sum(l_extendedprice) AS sum_base_price,\n",
    "    2*sum(l_extendedprice * (1 - l_discount)) AS sum_disc_price,\n",
    "    2*sum(l_extendedprice * (1 - l_discount) * (1 + l_tax)) AS sum_charge,\n",
    "    avg(l_quantity) AS avg_qty,\n",
    "    avg(l_extendedprice) AS avg_price,\n",
    "    avg(l_discount) AS avg_disc,\n",
    "    2*count(*) AS count_order\n",
    "FROM\n",
    "    lineitem\n",
    "JOIN orders ON lineitem.l_orderkey = orders.o_orderkey\n",
    "JOIN customer ON orders.o_custkey = customer.c_custkey\n",
    "JOIN random_samples AS rs\n",
    "    ON rs.row_id = customer.rowid\n",
    "WHERE\n",
    "    l_shipdate <= CAST('1998-09-02' AS date)\n",
    "    AND rs.random_binary = TRUE\n",
    "    AND rs.sample_id = $sample\n",
    "GROUP BY\n",
    "    l_returnflag,\n",
    "    l_linestatus\n",
    "ORDER BY\n",
    "    l_returnflag,\n",
    "    l_linestatus;\n",
    "\"\"\"\n",
    "\n",
    "INDEX_COLS = ['l_returnflag', 'l_linestatus']\n",
    "OUTPUT_COLS = ['sum_qty', 'sum_base_price', 'sum_disc_price', 'sum_charge', 'avg_qty', 'avg_price', 'avg_disc', 'count_order']"
   ]
  },
  {
   "cell_type": "code",
   "execution_count": 3,
   "id": "6bf74afd",
   "metadata": {
    "execution": {
     "iopub.execute_input": "2025-05-01T08:49:14.986979Z",
     "iopub.status.busy": "2025-05-01T08:49:14.986881Z",
     "iopub.status.idle": "2025-05-01T08:49:14.989022Z",
     "shell.execute_reply": "2025-05-01T08:49:14.988806Z"
    },
    "papermill": {
     "duration": 0.004314,
     "end_time": "2025-05-01T08:49:14.989619",
     "exception": false,
     "start_time": "2025-05-01T08:49:14.985305",
     "status": "completed"
    },
    "tags": [
     "injected-parameters"
    ]
   },
   "outputs": [],
   "source": [
    "# Parameters\n",
    "EXPERIMENT = \"ap-duckdb-q7-customer\"\n",
    "OUTPUT_DIR = \"./outputs/ap-duckdb-q7-customer-step1\"\n",
    "SAMPLES = 1024\n",
    "SAMPLE_STEP = \"DROP TABLE IF EXISTS random_samples;\\n\\nCREATE TABLE random_samples AS\\nWITH sample_numbers AS MATERIALIZED (\\n    SELECT range AS sample_id FROM range(1024 // 2)\\n), random_values AS MATERIALIZED (\\n    SELECT \\n        sample_numbers.sample_id,\\n        customer.rowid AS row_id,\\n        (RANDOM() > 0.5)::BOOLEAN AS random_binary\\n    FROM sample_numbers\\n    JOIN customer ON TRUE  -- Cross join to duplicate rows for each sample\\n)\\nSELECT\\n    sample_id,\\n    row_id,\\n    random_binary\\nFROM random_values\\nUNION ALL\\nSELECT -- select the complementary samples too\\n    (1024 // 2) + sample_id,\\n    row_id,\\n    NOT random_binary  -- Inverse the random_binary to get the complementary sample\\nFROM random_values\\nORDER BY sample_id, row_id;\"\n",
    "PREPARE_STEP = \"DEALLOCATE PREPARE run_query;\\n\\nPREPARE run_query AS \\nSELECT\\n    supp_nation,\\n    cust_nation,\\n    l_year,\\n    sum(volume) AS revenue\\nFROM (\\n    SELECT\\n        n1.n_name AS supp_nation,\\n        n2.n_name AS cust_nation,\\n        extract(year FROM l_shipdate) AS l_year,\\n        l_extendedprice * (1 - l_discount) AS volume\\n    FROM\\n        supplier,\\n        lineitem,\\n        orders,\\n        (SELECT * FROM customer\\n        JOIN random_samples AS rs ON rs.row_id = customer.rowid\\n        AND rs.random_binary = TRUE\\n        AND rs.sample_id = $sample) AS customer,\\n        nation n1,\\n        nation n2\\n    WHERE\\n        s_suppkey = l_suppkey\\n        AND o_orderkey = l_orderkey\\n        AND c_custkey = o_custkey\\n        AND s_nationkey = n1.n_nationkey\\n        AND c_nationkey = n2.n_nationkey\\n        AND ((n1.n_name = 'FRANCE'\\n                AND n2.n_name = 'GERMANY')\\n            OR (n1.n_name = 'GERMANY'\\n                AND n2.n_name = 'FRANCE'))\\n        AND l_shipdate BETWEEN CAST('1995-01-01' AS date)\\n        AND CAST('1996-12-31' AS date)) AS shipping\\nGROUP BY\\n    supp_nation,\\n    cust_nation,\\n    l_year\\nORDER BY\\n    supp_nation,\\n    cust_nation,\\n    l_year;\"\n",
    "INDEX_COLS = [\"supp_nation\", \"cust_nation\", \"l_year\"]\n",
    "OUTPUT_COLS = [\"revenue\"]\n"
   ]
  },
  {
   "cell_type": "code",
   "execution_count": 4,
   "id": "71164a0a",
   "metadata": {
    "execution": {
     "iopub.execute_input": "2025-05-01T08:49:14.992549Z",
     "iopub.status.busy": "2025-05-01T08:49:14.992434Z",
     "iopub.status.idle": "2025-05-01T08:49:14.994054Z",
     "shell.execute_reply": "2025-05-01T08:49:14.993844Z"
    },
    "papermill": {
     "duration": 0.003772,
     "end_time": "2025-05-01T08:49:14.994678",
     "exception": false,
     "start_time": "2025-05-01T08:49:14.990906",
     "status": "completed"
    },
    "tags": []
   },
   "outputs": [],
   "source": [
    "if not os.path.exists(OUTPUT_DIR):\n",
    "    os.makedirs(OUTPUT_DIR)"
   ]
  },
  {
   "cell_type": "code",
   "execution_count": 5,
   "id": "c95bc5e2",
   "metadata": {
    "execution": {
     "iopub.execute_input": "2025-05-01T08:49:14.997456Z",
     "iopub.status.busy": "2025-05-01T08:49:14.997367Z",
     "iopub.status.idle": "2025-05-01T08:49:15.300765Z",
     "shell.execute_reply": "2025-05-01T08:49:15.300365Z"
    },
    "papermill": {
     "duration": 0.305681,
     "end_time": "2025-05-01T08:49:15.301614",
     "exception": false,
     "start_time": "2025-05-01T08:49:14.995933",
     "status": "completed"
    },
    "tags": []
   },
   "outputs": [],
   "source": [
    "# duckdb load data/tpch/tpch.duckdb into the temporary in-memory database\n",
    "con = duckdb.connect(database=':memory:')\n",
    "tables = [\"customer\", \"lineitem\", \"nation\", \"orders\", \"part\", \"partsupp\", \"region\", \"supplier\"]\n",
    "for t in tables:\n",
    "    con.execute(f\"CREATE TABLE {t} AS SELECT * FROM 'data/tpch/{t}.parquet'\")"
   ]
  },
  {
   "cell_type": "code",
   "execution_count": 6,
   "id": "e8988486",
   "metadata": {
    "execution": {
     "iopub.execute_input": "2025-05-01T08:49:15.304874Z",
     "iopub.status.busy": "2025-05-01T08:49:15.304777Z",
     "iopub.status.idle": "2025-05-01T08:49:16.312848Z",
     "shell.execute_reply": "2025-05-01T08:49:16.312461Z"
    },
    "papermill": {
     "duration": 1.010459,
     "end_time": "2025-05-01T08:49:16.313652",
     "exception": false,
     "start_time": "2025-05-01T08:49:15.303193",
     "status": "completed"
    },
    "tags": []
   },
   "outputs": [],
   "source": [
    "# Construct the table of random samples\n",
    "# to use, join it with the lineitem table (for specific sample # s) and filter to just the\n",
    "# rows where random_binary = 1.0\n",
    "# This will give us a 50% sample of the lineitem table for each sample # s\n",
    "\n",
    "assert SAMPLES % 2 == 0, \"SAMPLES must be even to create complementary samples.\"\n",
    "\n",
    "random_samples = con.execute(SAMPLE_STEP)"
   ]
  },
  {
   "cell_type": "markdown",
   "id": "c91599f2",
   "metadata": {
    "papermill": {
     "duration": 0.001282,
     "end_time": "2025-05-01T08:49:16.316546",
     "exception": false,
     "start_time": "2025-05-01T08:49:16.315264",
     "status": "completed"
    },
    "tags": []
   },
   "source": [
    "The randomness of what rows are chosen is saved to disk in `random_binary.json`. For each sample #, there is an array with one entry per row, where 1 means the row was chosen and 0 means it was not."
   ]
  },
  {
   "cell_type": "code",
   "execution_count": 7,
   "id": "ea99d67e",
   "metadata": {
    "execution": {
     "iopub.execute_input": "2025-05-01T08:49:16.319361Z",
     "iopub.status.busy": "2025-05-01T08:49:16.319260Z",
     "iopub.status.idle": "2025-05-01T08:49:16.661235Z",
     "shell.execute_reply": "2025-05-01T08:49:16.660879Z"
    },
    "papermill": {
     "duration": 0.344437,
     "end_time": "2025-05-01T08:49:16.662142",
     "exception": false,
     "start_time": "2025-05-01T08:49:16.317705",
     "status": "completed"
    },
    "tags": []
   },
   "outputs": [],
   "source": [
    "con.execute(\"\"\"\n",
    "SELECT sample_id, array_agg(random_binary::TINYINT) as random_binary\n",
    "FROM random_samples\n",
    "GROUP BY sample_id;\n",
    "\"\"\").pl().write_json(f\"{OUTPUT_DIR}/random_binary.json\")"
   ]
  },
  {
   "cell_type": "markdown",
   "id": "299de008",
   "metadata": {
    "papermill": {
     "duration": 0.001276,
     "end_time": "2025-05-01T08:49:16.665015",
     "exception": false,
     "start_time": "2025-05-01T08:49:16.663739",
     "status": "completed"
    },
    "tags": []
   },
   "source": [
    "Query is specified as a prepared statement. We will then execute it once per sample."
   ]
  },
  {
   "cell_type": "code",
   "execution_count": 8,
   "id": "51f41bda",
   "metadata": {
    "execution": {
     "iopub.execute_input": "2025-05-01T08:49:16.668602Z",
     "iopub.status.busy": "2025-05-01T08:49:16.668288Z",
     "iopub.status.idle": "2025-05-01T08:49:16.753885Z",
     "shell.execute_reply": "2025-05-01T08:49:16.753633Z"
    },
    "papermill": {
     "duration": 0.088025,
     "end_time": "2025-05-01T08:49:16.754604",
     "exception": false,
     "start_time": "2025-05-01T08:49:16.666579",
     "status": "completed"
    },
    "tags": []
   },
   "outputs": [
    {
     "data": {
      "text/html": [
       "<div><style>\n",
       ".dataframe > thead > tr,\n",
       ".dataframe > tbody > tr {\n",
       "  text-align: right;\n",
       "  white-space: pre-wrap;\n",
       "}\n",
       "</style>\n",
       "<small>shape: (4, 4)</small><table border=\"1\" class=\"dataframe\"><thead><tr><th>supp_nation</th><th>cust_nation</th><th>l_year</th><th>revenue</th></tr><tr><td>str</td><td>str</td><td>i64</td><td>decimal[38,4]</td></tr></thead><tbody><tr><td>&quot;FRANCE&quot;</td><td>&quot;GERMANY&quot;</td><td>1995</td><td>2348590.3170</td></tr><tr><td>&quot;FRANCE&quot;</td><td>&quot;GERMANY&quot;</td><td>1996</td><td>2646225.0861</td></tr><tr><td>&quot;GERMANY&quot;</td><td>&quot;FRANCE&quot;</td><td>1995</td><td>2647038.4385</td></tr><tr><td>&quot;GERMANY&quot;</td><td>&quot;FRANCE&quot;</td><td>1996</td><td>3053533.2617</td></tr></tbody></table></div>"
      ],
      "text/plain": [
       "shape: (4, 4)\n",
       "┌─────────────┬─────────────┬────────┬───────────────┐\n",
       "│ supp_nation ┆ cust_nation ┆ l_year ┆ revenue       │\n",
       "│ ---         ┆ ---         ┆ ---    ┆ ---           │\n",
       "│ str         ┆ str         ┆ i64    ┆ decimal[38,4] │\n",
       "╞═════════════╪═════════════╪════════╪═══════════════╡\n",
       "│ FRANCE      ┆ GERMANY     ┆ 1995   ┆ 2348590.3170  │\n",
       "│ FRANCE      ┆ GERMANY     ┆ 1996   ┆ 2646225.0861  │\n",
       "│ GERMANY     ┆ FRANCE      ┆ 1995   ┆ 2647038.4385  │\n",
       "│ GERMANY     ┆ FRANCE      ┆ 1996   ┆ 3053533.2617  │\n",
       "└─────────────┴─────────────┴────────┴───────────────┘"
      ]
     },
     "execution_count": 8,
     "metadata": {},
     "output_type": "execute_result"
    }
   ],
   "source": [
    "# Query\n",
    "con.execute(PREPARE_STEP)\n",
    "\n",
    "# Run query to see output\n",
    "dfs0 = con.execute(f\"EXECUTE run_query(sample := {0});\").pl()\n",
    "\n",
    "# Save csv copies of the first 5 samples\n",
    "os.makedirs(f\"{OUTPUT_DIR}/csv\", exist_ok=True)\n",
    "for s in range(5):\n",
    "    con.execute(f\"EXECUTE run_query(sample := {s});\").pl().write_csv(f\"{OUTPUT_DIR}/csv/sample_{s}.csv\")\n",
    "\n",
    "dfs0"
   ]
  },
  {
   "cell_type": "code",
   "execution_count": 9,
   "id": "43224743",
   "metadata": {
    "execution": {
     "iopub.execute_input": "2025-05-01T08:49:16.757926Z",
     "iopub.status.busy": "2025-05-01T08:49:16.757832Z",
     "iopub.status.idle": "2025-05-01T08:49:27.299932Z",
     "shell.execute_reply": "2025-05-01T08:49:27.299641Z"
    },
    "papermill": {
     "duration": 10.544445,
     "end_time": "2025-05-01T08:49:27.300650",
     "exception": false,
     "start_time": "2025-05-01T08:49:16.756205",
     "status": "completed"
    },
    "tags": []
   },
   "outputs": [
    {
     "data": {
      "text/html": [
       "<div><style>\n",
       ".dataframe > thead > tr,\n",
       ".dataframe > tbody > tr {\n",
       "  text-align: right;\n",
       "  white-space: pre-wrap;\n",
       "}\n",
       "</style>\n",
       "<small>shape: (4_096, 5)</small><table border=\"1\" class=\"dataframe\"><thead><tr><th>sample</th><th>supp_nation</th><th>cust_nation</th><th>l_year</th><th>revenue</th></tr><tr><td>i32</td><td>str</td><td>str</td><td>i64</td><td>decimal[38,4]</td></tr></thead><tbody><tr><td>0</td><td>&quot;FRANCE&quot;</td><td>&quot;GERMANY&quot;</td><td>1995</td><td>2348590.3170</td></tr><tr><td>0</td><td>&quot;FRANCE&quot;</td><td>&quot;GERMANY&quot;</td><td>1996</td><td>2646225.0861</td></tr><tr><td>0</td><td>&quot;GERMANY&quot;</td><td>&quot;FRANCE&quot;</td><td>1995</td><td>2647038.4385</td></tr><tr><td>0</td><td>&quot;GERMANY&quot;</td><td>&quot;FRANCE&quot;</td><td>1996</td><td>3053533.2617</td></tr><tr><td>1</td><td>&quot;FRANCE&quot;</td><td>&quot;GERMANY&quot;</td><td>1995</td><td>2348324.0906</td></tr><tr><td>&hellip;</td><td>&hellip;</td><td>&hellip;</td><td>&hellip;</td><td>&hellip;</td></tr><tr><td>1022</td><td>&quot;GERMANY&quot;</td><td>&quot;FRANCE&quot;</td><td>1996</td><td>2501346.8315</td></tr><tr><td>1023</td><td>&quot;FRANCE&quot;</td><td>&quot;GERMANY&quot;</td><td>1995</td><td>2607373.9524</td></tr><tr><td>1023</td><td>&quot;FRANCE&quot;</td><td>&quot;GERMANY&quot;</td><td>1996</td><td>2021165.7175</td></tr><tr><td>1023</td><td>&quot;GERMANY&quot;</td><td>&quot;FRANCE&quot;</td><td>1995</td><td>2752859.0645</td></tr><tr><td>1023</td><td>&quot;GERMANY&quot;</td><td>&quot;FRANCE&quot;</td><td>1996</td><td>2282209.5821</td></tr></tbody></table></div>"
      ],
      "text/plain": [
       "shape: (4_096, 5)\n",
       "┌────────┬─────────────┬─────────────┬────────┬───────────────┐\n",
       "│ sample ┆ supp_nation ┆ cust_nation ┆ l_year ┆ revenue       │\n",
       "│ ---    ┆ ---         ┆ ---         ┆ ---    ┆ ---           │\n",
       "│ i32    ┆ str         ┆ str         ┆ i64    ┆ decimal[38,4] │\n",
       "╞════════╪═════════════╪═════════════╪════════╪═══════════════╡\n",
       "│ 0      ┆ FRANCE      ┆ GERMANY     ┆ 1995   ┆ 2348590.3170  │\n",
       "│ 0      ┆ FRANCE      ┆ GERMANY     ┆ 1996   ┆ 2646225.0861  │\n",
       "│ 0      ┆ GERMANY     ┆ FRANCE      ┆ 1995   ┆ 2647038.4385  │\n",
       "│ 0      ┆ GERMANY     ┆ FRANCE      ┆ 1996   ┆ 3053533.2617  │\n",
       "│ 1      ┆ FRANCE      ┆ GERMANY     ┆ 1995   ┆ 2348324.0906  │\n",
       "│ …      ┆ …           ┆ …           ┆ …      ┆ …             │\n",
       "│ 1022   ┆ GERMANY     ┆ FRANCE      ┆ 1996   ┆ 2501346.8315  │\n",
       "│ 1023   ┆ FRANCE      ┆ GERMANY     ┆ 1995   ┆ 2607373.9524  │\n",
       "│ 1023   ┆ FRANCE      ┆ GERMANY     ┆ 1996   ┆ 2021165.7175  │\n",
       "│ 1023   ┆ GERMANY     ┆ FRANCE      ┆ 1995   ┆ 2752859.0645  │\n",
       "│ 1023   ┆ GERMANY     ┆ FRANCE      ┆ 1996   ┆ 2282209.5821  │\n",
       "└────────┴─────────────┴─────────────┴────────┴───────────────┘"
      ]
     },
     "execution_count": 9,
     "metadata": {},
     "output_type": "execute_result"
    }
   ],
   "source": [
    "# Run the query for each sample, but accumulate in a pl.DataFrame instead of a list\n",
    "dfsdf: pl.DataFrame = pl.concat(\n",
    "    con.execute(f\"EXECUTE run_query(sample := {s});\").pl().insert_column(0, pl.lit(s).alias(\"sample\"))\n",
    "    for s in range(SAMPLES)\n",
    ")\n",
    "dfsdf"
   ]
  },
  {
   "cell_type": "code",
   "execution_count": 10,
   "id": "5049e6ca",
   "metadata": {
    "execution": {
     "iopub.execute_input": "2025-05-01T08:49:27.304244Z",
     "iopub.status.busy": "2025-05-01T08:49:27.304136Z",
     "iopub.status.idle": "2025-05-01T08:49:27.306313Z",
     "shell.execute_reply": "2025-05-01T08:49:27.306107Z"
    },
    "papermill": {
     "duration": 0.004556,
     "end_time": "2025-05-01T08:49:27.306921",
     "exception": false,
     "start_time": "2025-05-01T08:49:27.302365",
     "status": "completed"
    },
    "tags": []
   },
   "outputs": [],
   "source": [
    "# Define which columns are the group-by keys (INDEX_COLS) and which are the output columns (OUTPUT_COLS)\n",
    "# - moved to parameters cell at top of notebook\n",
    "\n",
    "# Save these to disk for later use\n",
    "with open(f\"{OUTPUT_DIR}/INDEX_COLS.pkl\", 'wb') as f:\n",
    "    pickle.dump(INDEX_COLS, f)\n",
    "with open(f\"{OUTPUT_DIR}/OUTPUT_COLS.pkl\", 'wb') as f:\n",
    "    pickle.dump(OUTPUT_COLS, f)"
   ]
  },
  {
   "cell_type": "code",
   "execution_count": 11,
   "id": "34999502",
   "metadata": {
    "execution": {
     "iopub.execute_input": "2025-05-01T08:49:27.311028Z",
     "iopub.status.busy": "2025-05-01T08:49:27.310872Z",
     "iopub.status.idle": "2025-05-01T08:49:27.323545Z",
     "shell.execute_reply": "2025-05-01T08:49:27.323308Z"
    },
    "papermill": {
     "duration": 0.015762,
     "end_time": "2025-05-01T08:49:27.324175",
     "exception": false,
     "start_time": "2025-05-01T08:49:27.308413",
     "status": "completed"
    },
    "tags": []
   },
   "outputs": [
    {
     "data": {
      "text/html": [
       "<div><style>\n",
       ".dataframe > thead > tr,\n",
       ".dataframe > tbody > tr {\n",
       "  text-align: right;\n",
       "  white-space: pre-wrap;\n",
       "}\n",
       "</style>\n",
       "<small>shape: (4, 4)</small><table border=\"1\" class=\"dataframe\"><thead><tr><th>supp_nation</th><th>cust_nation</th><th>l_year</th><th>revenue</th></tr><tr><td>str</td><td>str</td><td>i64</td><td>list[decimal[38,4]]</td></tr></thead><tbody><tr><td>&quot;FRANCE&quot;</td><td>&quot;GERMANY&quot;</td><td>1995</td><td>[2348590.3170, 2348324.0906, … 2607373.9524]</td></tr><tr><td>&quot;FRANCE&quot;</td><td>&quot;GERMANY&quot;</td><td>1996</td><td>[2646225.0861, 2421642.7258, … 2021165.7175]</td></tr><tr><td>&quot;GERMANY&quot;</td><td>&quot;FRANCE&quot;</td><td>1995</td><td>[2647038.4385, 3201803.1915, … 2752859.0645]</td></tr><tr><td>&quot;GERMANY&quot;</td><td>&quot;FRANCE&quot;</td><td>1996</td><td>[3053533.2617, 3352609.5802, … 2282209.5821]</td></tr></tbody></table></div>"
      ],
      "text/plain": [
       "shape: (4, 4)\n",
       "┌─────────────┬─────────────┬────────┬─────────────────────────────────┐\n",
       "│ supp_nation ┆ cust_nation ┆ l_year ┆ revenue                         │\n",
       "│ ---         ┆ ---         ┆ ---    ┆ ---                             │\n",
       "│ str         ┆ str         ┆ i64    ┆ list[decimal[38,4]]             │\n",
       "╞═════════════╪═════════════╪════════╪═════════════════════════════════╡\n",
       "│ FRANCE      ┆ GERMANY     ┆ 1995   ┆ [2348590.3170, 2348324.0906, …… │\n",
       "│ FRANCE      ┆ GERMANY     ┆ 1996   ┆ [2646225.0861, 2421642.7258, …… │\n",
       "│ GERMANY     ┆ FRANCE      ┆ 1995   ┆ [2647038.4385, 3201803.1915, …… │\n",
       "│ GERMANY     ┆ FRANCE      ┆ 1996   ┆ [3053533.2617, 3352609.5802, …… │\n",
       "└─────────────┴─────────────┴────────┴─────────────────────────────────┘"
      ]
     },
     "execution_count": 11,
     "metadata": {},
     "output_type": "execute_result"
    }
   ],
   "source": [
    "# Combine all the samples into one table, grouped-by the group-by keys. Each cell contains an n <= # of samples length array of values.\n",
    "listdf = dfsdf.drop(\"sample\").group_by(INDEX_COLS or pl.lit(0).alias(\"\"), maintain_order=True).all()\n",
    "listdf"
   ]
  },
  {
   "cell_type": "code",
   "execution_count": 12,
   "id": "652fd0df",
   "metadata": {
    "execution": {
     "iopub.execute_input": "2025-05-01T08:49:27.327797Z",
     "iopub.status.busy": "2025-05-01T08:49:27.327697Z",
     "iopub.status.idle": "2025-05-01T08:49:27.330029Z",
     "shell.execute_reply": "2025-05-01T08:49:27.329836Z"
    },
    "papermill": {
     "duration": 0.004648,
     "end_time": "2025-05-01T08:49:27.330607",
     "exception": false,
     "start_time": "2025-05-01T08:49:27.325959",
     "status": "completed"
    },
    "tags": []
   },
   "outputs": [
    {
     "data": {
      "text/plain": [
       "[{'supp_nation': 'FRANCE', 'cust_nation': 'GERMANY', 'l_year': 1995},\n",
       " {'supp_nation': 'FRANCE', 'cust_nation': 'GERMANY', 'l_year': 1996},\n",
       " {'supp_nation': 'GERMANY', 'cust_nation': 'FRANCE', 'l_year': 1995},\n",
       " {'supp_nation': 'GERMANY', 'cust_nation': 'FRANCE', 'l_year': 1996}]"
      ]
     },
     "execution_count": 12,
     "metadata": {},
     "output_type": "execute_result"
    }
   ],
   "source": [
    "# What are all the possible group-by key combinations?\n",
    "allgroups: pl.DataFrame = listdf.select(INDEX_COLS or pl.lit(0).alias(\"\"))\n",
    "allgroups.to_dicts()"
   ]
  },
  {
   "cell_type": "code",
   "execution_count": 13,
   "id": "a5205031",
   "metadata": {
    "execution": {
     "iopub.execute_input": "2025-05-01T08:49:27.334351Z",
     "iopub.status.busy": "2025-05-01T08:49:27.334259Z",
     "iopub.status.idle": "2025-05-01T08:49:27.338293Z",
     "shell.execute_reply": "2025-05-01T08:49:27.338063Z"
    },
    "papermill": {
     "duration": 0.006804,
     "end_time": "2025-05-01T08:49:27.338995",
     "exception": false,
     "start_time": "2025-05-01T08:49:27.332191",
     "status": "completed"
    },
    "tags": []
   },
   "outputs": [],
   "source": [
    "# Template for the final output, including all possible group-by groups\n",
    "# Obtained by collecting all the samples in a big table and then keeping only the first occurrence of each groupby key.\n",
    "# Then, fill all OUTPUT_COLS with nulls\n",
    "templatedf = dfsdf.drop(\"sample\").group_by(INDEX_COLS or pl.lit(0).alias(\"\"), maintain_order=True).first()\n",
    "templatedf = templatedf.clear(n=len(allgroups)).with_columns(allgroups)\n",
    "templatedf\n",
    "\n",
    "with open(f\"{OUTPUT_DIR}/template.pkl\", \"wb\") as f:\n",
    "    pickle.dump(templatedf, f)"
   ]
  },
  {
   "cell_type": "code",
   "execution_count": 14,
   "id": "e81df775",
   "metadata": {
    "execution": {
     "iopub.execute_input": "2025-05-01T08:49:27.342992Z",
     "iopub.status.busy": "2025-05-01T08:49:27.342879Z",
     "iopub.status.idle": "2025-05-01T08:49:27.352376Z",
     "shell.execute_reply": "2025-05-01T08:49:27.352123Z"
    },
    "papermill": {
     "duration": 0.012559,
     "end_time": "2025-05-01T08:49:27.353149",
     "exception": false,
     "start_time": "2025-05-01T08:49:27.340590",
     "status": "completed"
    },
    "tags": []
   },
   "outputs": [],
   "source": [
    "# Write all table entries in the output table to their own JSON files. Each file has a number, the information of which file corresponds to which table entry\n",
    "# is stored in reverse_map.json (as well as in the files themselves)\n",
    "os.makedirs(f\"{OUTPUT_DIR}/json\", exist_ok=True)\n",
    "i: int = 0\n",
    "for col in OUTPUT_COLS:\n",
    "    for group in allgroups.iter_rows(named=True):\n",
    "        values = listdf.filter(pl.col(k).eq(v) for k, v in group.items()).select(col).to_series()\n",
    "        j = pl.DataFrame().with_columns([\n",
    "            pl.lit(col).alias(\"col\"),\n",
    "            pl.lit(group).alias(\"row\"),\n",
    "            pl.lit(values.explode().dtype.__repr__()).alias(\"dtype\"),\n",
    "            values.alias(\"values\"),\n",
    "        ])\n",
    "        j.write_json(f\"{OUTPUT_DIR}/json/{i}.json\")\n",
    "        i+=1"
   ]
  },
  {
   "cell_type": "code",
   "execution_count": 15,
   "id": "1f49c5f7",
   "metadata": {
    "execution": {
     "iopub.execute_input": "2025-05-01T08:49:27.357150Z",
     "iopub.status.busy": "2025-05-01T08:49:27.357053Z",
     "iopub.status.idle": "2025-05-01T08:49:29.444695Z",
     "shell.execute_reply": "2025-05-01T08:49:29.444269Z"
    },
    "papermill": {
     "duration": 2.090282,
     "end_time": "2025-05-01T08:49:29.445428",
     "exception": false,
     "start_time": "2025-05-01T08:49:27.355146",
     "status": "completed"
    },
    "tags": []
   },
   "outputs": [
    {
     "data": {
      "text/plain": [
       "'/Users/michael/projects/dpdb/pacdb/outputs/ap-duckdb-q7-customer-step1.zip'"
      ]
     },
     "execution_count": 15,
     "metadata": {},
     "output_type": "execute_result"
    }
   ],
   "source": [
    "# zip the OUTPUT_DIR\n",
    "shutil.make_archive(OUTPUT_DIR, 'zip', OUTPUT_DIR)"
   ]
  }
 ],
 "metadata": {
  "kernelspec": {
   "display_name": ".venv",
   "language": "python",
   "name": "python3"
  },
  "language_info": {
   "codemirror_mode": {
    "name": "ipython",
    "version": 3
   },
   "file_extension": ".py",
   "mimetype": "text/x-python",
   "name": "python",
   "nbconvert_exporter": "python",
   "pygments_lexer": "ipython3",
   "version": "3.11.7"
  },
  "papermill": {
   "default_parameters": {},
   "duration": 15.573293,
   "end_time": "2025-05-01T08:49:29.868019",
   "environment_variables": {},
   "exception": null,
   "input_path": "autopac-duckdb-step1.ipynb",
   "output_path": "./ap-duckdb-q7-customer-step1.ipynb",
   "parameters": {
    "EXPERIMENT": "ap-duckdb-q7-customer",
    "INDEX_COLS": [
     "supp_nation",
     "cust_nation",
     "l_year"
    ],
    "OUTPUT_COLS": [
     "revenue"
    ],
    "OUTPUT_DIR": "./outputs/ap-duckdb-q7-customer-step1",
    "PREPARE_STEP": "DEALLOCATE PREPARE run_query;\n\nPREPARE run_query AS \nSELECT\n    supp_nation,\n    cust_nation,\n    l_year,\n    sum(volume) AS revenue\nFROM (\n    SELECT\n        n1.n_name AS supp_nation,\n        n2.n_name AS cust_nation,\n        extract(year FROM l_shipdate) AS l_year,\n        l_extendedprice * (1 - l_discount) AS volume\n    FROM\n        supplier,\n        lineitem,\n        orders,\n        (SELECT * FROM customer\n        JOIN random_samples AS rs ON rs.row_id = customer.rowid\n        AND rs.random_binary = TRUE\n        AND rs.sample_id = $sample) AS customer,\n        nation n1,\n        nation n2\n    WHERE\n        s_suppkey = l_suppkey\n        AND o_orderkey = l_orderkey\n        AND c_custkey = o_custkey\n        AND s_nationkey = n1.n_nationkey\n        AND c_nationkey = n2.n_nationkey\n        AND ((n1.n_name = 'FRANCE'\n                AND n2.n_name = 'GERMANY')\n            OR (n1.n_name = 'GERMANY'\n                AND n2.n_name = 'FRANCE'))\n        AND l_shipdate BETWEEN CAST('1995-01-01' AS date)\n        AND CAST('1996-12-31' AS date)) AS shipping\nGROUP BY\n    supp_nation,\n    cust_nation,\n    l_year\nORDER BY\n    supp_nation,\n    cust_nation,\n    l_year;",
    "SAMPLES": 1024,
    "SAMPLE_STEP": "DROP TABLE IF EXISTS random_samples;\n\nCREATE TABLE random_samples AS\nWITH sample_numbers AS MATERIALIZED (\n    SELECT range AS sample_id FROM range(1024 // 2)\n), random_values AS MATERIALIZED (\n    SELECT \n        sample_numbers.sample_id,\n        customer.rowid AS row_id,\n        (RANDOM() > 0.5)::BOOLEAN AS random_binary\n    FROM sample_numbers\n    JOIN customer ON TRUE  -- Cross join to duplicate rows for each sample\n)\nSELECT\n    sample_id,\n    row_id,\n    random_binary\nFROM random_values\nUNION ALL\nSELECT -- select the complementary samples too\n    (1024 // 2) + sample_id,\n    row_id,\n    NOT random_binary  -- Inverse the random_binary to get the complementary sample\nFROM random_values\nORDER BY sample_id, row_id;"
   },
   "start_time": "2025-05-01T08:49:14.294726",
   "version": "2.6.0"
  }
 },
 "nbformat": 4,
 "nbformat_minor": 5
}