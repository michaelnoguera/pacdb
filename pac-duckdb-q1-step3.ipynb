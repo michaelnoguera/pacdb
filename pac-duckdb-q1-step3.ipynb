{
 "cells": [
  {
   "cell_type": "code",
   "execution_count": 3,
   "id": "eba650e4",
   "metadata": {},
   "outputs": [],
   "source": [
    "#!/usr/bin/env python\n",
    "# coding: utf-8\n",
    "\n",
    "import json\n",
    "import os\n",
    "import pickle\n",
    "import shutil\n",
    "import zipfile\n",
    "\n",
    "import parse\n",
    "import polars as pl\n",
    "\n",
    "EXPERIMENT = \"pac-duckdb-q1\"\n",
    "INPUT_ZIP = f\"./outputs/{EXPERIMENT}-step2.zip\"\n",
    "OUTPUT_DIR = f\"./outputs/{EXPERIMENT}-step3\"\n",
    "\n",
    "if not os.path.exists(OUTPUT_DIR):\n",
    "    os.makedirs(OUTPUT_DIR)"
   ]
  },
  {
   "cell_type": "code",
   "execution_count": 4,
   "id": "2faf73fb",
   "metadata": {},
   "outputs": [],
   "source": [
    "# Import saved variables from the first step\n",
    "INDEX_COLS = pickle.load(open(f'./outputs/{EXPERIMENT}-step1/INDEX_COLS.pkl', 'rb'))\n",
    "OUTPUT_COLS = pickle.load(open(f'./outputs/{EXPERIMENT}-step1/OUTPUT_COLS.pkl', 'rb'))\n",
    "templatedf: pl.DataFrame = pickle.load(open(f'./outputs/{EXPERIMENT}-step1/template.pkl', 'rb'))"
   ]
  },
  {
   "cell_type": "code",
   "execution_count": 5,
   "id": "ab3a80fe",
   "metadata": {},
   "outputs": [
    {
     "data": {
      "text/plain": [
       "dict_keys([20, 16, 6, 7, 17, 21, 10, 0, 26, 30, 31, 27, 1, 11, 2, 28, 12, 24, 25, 13, 29, 3, 8, 22, 18, 4, 14, 15, 5, 19, 23, 9])"
      ]
     },
     "execution_count": 5,
     "metadata": {},
     "output_type": "execute_result"
    }
   ],
   "source": [
    "# load the json input files from step 2\n",
    "# {'col': column name as string,\n",
    "#  'row': group-by column values as dict (effectively a row id),\n",
    "#  'values': [ 1000x values ] }\n",
    "alldata = {}\n",
    "\n",
    "pattern = parse.compile(\"{n}.json\")\n",
    "\n",
    "with zipfile.ZipFile(INPUT_ZIP, 'r') as zf:\n",
    "    for filename in zf.namelist():\n",
    "        if filename.endswith('.json'):\n",
    "            with zf.open(filename) as f:\n",
    "                filenumber = int(pattern.parse(filename).named['n'])\n",
    "                data = json.load(f)\n",
    "                d: dict = data\n",
    "                alldata[filenumber] = d\n",
    "alldata.keys()"
   ]
  },
  {
   "cell_type": "code",
   "execution_count": 43,
   "id": "1d086fc3",
   "metadata": {},
   "outputs": [
    {
     "data": {
      "text/html": [
       "<div><style>\n",
       ".dataframe > thead > tr,\n",
       ".dataframe > tbody > tr {\n",
       "  text-align: right;\n",
       "  white-space: pre-wrap;\n",
       "}\n",
       "</style>\n",
       "<small>shape: (4, 2)</small><table border=\"1\" class=\"dataframe\"><thead><tr><th>l_returnflag</th><th>l_linestatus</th></tr><tr><td>str</td><td>str</td></tr></thead><tbody><tr><td>&quot;A&quot;</td><td>&quot;F&quot;</td></tr><tr><td>&quot;N&quot;</td><td>&quot;F&quot;</td></tr><tr><td>&quot;N&quot;</td><td>&quot;O&quot;</td></tr><tr><td>&quot;R&quot;</td><td>&quot;F&quot;</td></tr></tbody></table></div>"
      ],
      "text/plain": [
       "shape: (4, 2)\n",
       "┌──────────────┬──────────────┐\n",
       "│ l_returnflag ┆ l_linestatus │\n",
       "│ ---          ┆ ---          │\n",
       "│ str          ┆ str          │\n",
       "╞══════════════╪══════════════╡\n",
       "│ A            ┆ F            │\n",
       "│ N            ┆ F            │\n",
       "│ N            ┆ O            │\n",
       "│ R            ┆ F            │\n",
       "└──────────────┴──────────────┘"
      ]
     },
     "execution_count": 43,
     "metadata": {},
     "output_type": "execute_result"
    }
   ],
   "source": [
    "allgroups = templatedf.select(INDEX_COLS)\n",
    "allgroups"
   ]
  },
  {
   "cell_type": "code",
   "execution_count": 44,
   "id": "0b249a7b",
   "metadata": {},
   "outputs": [],
   "source": [
    "# Cursed data shuffling to reidentify what row goes where, what column goes where, and what the labels should be on everything\n",
    "colidxes = {}\n",
    "for col in OUTPUT_COLS:\n",
    "    colidxes[col] = templatedf.get_column_index(col)\n",
    "rowidxes = {}\n",
    "for row in templatedf.select(INDEX_COLS).iter_rows(named=True):\n",
    "    rowidxes[tuple(row.values())] = allgroups.with_row_index().filter(\n",
    "        pl.col(k).eq(v)\n",
    "        for k, v in row.items()\n",
    "    ).select(\"index\").item()\n",
    "\n",
    "allinfo = [\n",
    "    {\"colname\": adentry['col'],\n",
    "    \"rowid\": tuple(adentry['row'].values()),\n",
    "    \"value\": adentry['value'][0],\n",
    "    \"colidx\": colidxes[adentry['col']],\n",
    "    \"rowidx\": rowidxes[tuple(adentry['row'].values())]}\n",
    "    for adidx, adentry in alldata.items()\n",
    "]\n",
    "\n",
    "colnames = {}\n",
    "rownames = {}\n",
    "for entry in allinfo:\n",
    "    colnames[entry['colidx']] = entry['colname']\n",
    "    rownames[entry['rowidx']] = entry['rowid']"
   ]
  },
  {
   "cell_type": "markdown",
   "id": "61e58b37",
   "metadata": {},
   "source": [
    "Naive reconstruction"
   ]
  },
  {
   "cell_type": "code",
   "execution_count": 45,
   "id": "c6da70b0",
   "metadata": {},
   "outputs": [
    {
     "name": "stdout",
     "output_type": "stream",
     "text": [
      "['l_returnflag', 'l_linestatus', 'sum_qty', 'sum_base_price', 'sum_disc_price', 'sum_charge', 'avg_qty', 'avg_price', 'avg_disc', 'count_order']\n",
      "['A', 'F', 3829849.0071717314, 5341691787.088531, 5175989840.735145, 5276612160.76773, 25.56014338441755, 35839.2408068936, 0.050192019953040984, 151816.835989049]\n",
      "['N', 'F', 97347.33313245185, 135703568.59810174, 117193423.87591256, 138330589.2666378, 25.332104261051793, 36405.65249584284, 0.05027824900344496, 3869.076405151929]\n",
      "['N', 'O', 7510763.322264384, 10298337591.188448, 10111166463.948906, 10404723789.86984, 25.558339642977405, 35972.39254183539, 0.05027057440807528, 293855.90345317853]\n",
      "['R', 'F', 3884912.441534467, 5261892931.38069, 4975409622.399012, 5434293589.666393, 25.45817600411522, 35939.572184965975, 0.04988005604003848, 149240.41118552018]\n"
     ]
    }
   ],
   "source": [
    "# Naive reconstruction based on the indices of the keys in the templatedf\n",
    "allcols = INDEX_COLS + OUTPUT_COLS\n",
    "allrows = allgroups.select(INDEX_COLS).to_numpy().tolist()\n",
    "\n",
    "allinfo2 = {\n",
    "    (rowidxes[tuple(adentry['row'].values())], colidxes[adentry['col']]): adentry['value'][0]\n",
    "    for adidx, adentry in alldata.items()\n",
    "}\n",
    "\n",
    "df2 = []\n",
    "print(allcols)\n",
    "for row in allrows:\n",
    "    print(row + [allinfo2.get((rowidxes[tuple(row)], colidxes[col]), None) for col in OUTPUT_COLS])\n",
    "    df2.append(row + [allinfo2.get((rowidxes[tuple(row)], colidxes[col]), None) for col in OUTPUT_COLS])"
   ]
  },
  {
   "cell_type": "code",
   "execution_count": 46,
   "id": "396c2efa",
   "metadata": {},
   "outputs": [
    {
     "data": {
      "text/html": [
       "<div><style>\n",
       ".dataframe > thead > tr,\n",
       ".dataframe > tbody > tr {\n",
       "  text-align: right;\n",
       "  white-space: pre-wrap;\n",
       "}\n",
       "</style>\n",
       "<small>shape: (4, 10)</small><table border=\"1\" class=\"dataframe\"><thead><tr><th>l_returnflag</th><th>l_linestatus</th><th>sum_qty</th><th>sum_base_price</th><th>sum_disc_price</th><th>sum_charge</th><th>avg_qty</th><th>avg_price</th><th>avg_disc</th><th>count_order</th></tr><tr><td>str</td><td>str</td><td>decimal[38,2]</td><td>decimal[38,2]</td><td>decimal[38,4]</td><td>decimal[38,6]</td><td>f64</td><td>f64</td><td>f64</td><td>i64</td></tr></thead><tbody><tr><td>&quot;A&quot;</td><td>&quot;F&quot;</td><td>3829849.00</td><td>5341691787.08</td><td>5175989840.7351</td><td>5276612160.767730</td><td>25.560143</td><td>35839.240807</td><td>0.050192</td><td>151816</td></tr><tr><td>&quot;N&quot;</td><td>&quot;F&quot;</td><td>97347.33</td><td>135703568.59</td><td>117193423.8759</td><td>138330589.266637</td><td>25.332104</td><td>36405.652496</td><td>0.050278</td><td>3869</td></tr><tr><td>&quot;N&quot;</td><td>&quot;O&quot;</td><td>7510763.32</td><td>10298337591.18</td><td>10111166463.9489</td><td>10404723789.869840</td><td>25.55834</td><td>35972.392542</td><td>0.050271</td><td>293855</td></tr><tr><td>&quot;R&quot;</td><td>&quot;F&quot;</td><td>3884912.44</td><td>5261892931.38</td><td>4975409622.3990</td><td>5434293589.666393</td><td>25.458176</td><td>35939.572185</td><td>0.04988</td><td>149240</td></tr></tbody></table></div>"
      ],
      "text/plain": [
       "shape: (4, 10)\n",
       "┌───────────┬───────────┬───────────┬───────────┬───┬───────────┬───────────┬──────────┬───────────┐\n",
       "│ l_returnf ┆ l_linesta ┆ sum_qty   ┆ sum_base_ ┆ … ┆ avg_qty   ┆ avg_price ┆ avg_disc ┆ count_ord │\n",
       "│ lag       ┆ tus       ┆ ---       ┆ price     ┆   ┆ ---       ┆ ---       ┆ ---      ┆ er        │\n",
       "│ ---       ┆ ---       ┆ decimal[3 ┆ ---       ┆   ┆ f64       ┆ f64       ┆ f64      ┆ ---       │\n",
       "│ str       ┆ str       ┆ 8,2]      ┆ decimal[3 ┆   ┆           ┆           ┆          ┆ i64       │\n",
       "│           ┆           ┆           ┆ 8,2]      ┆   ┆           ┆           ┆          ┆           │\n",
       "╞═══════════╪═══════════╪═══════════╪═══════════╪═══╪═══════════╪═══════════╪══════════╪═══════════╡\n",
       "│ A         ┆ F         ┆ 3829849.0 ┆ 534169178 ┆ … ┆ 25.560143 ┆ 35839.240 ┆ 0.050192 ┆ 151816    │\n",
       "│           ┆           ┆ 0         ┆ 7.08      ┆   ┆           ┆ 807       ┆          ┆           │\n",
       "│ N         ┆ F         ┆ 97347.33  ┆ 135703568 ┆ … ┆ 25.332104 ┆ 36405.652 ┆ 0.050278 ┆ 3869      │\n",
       "│           ┆           ┆           ┆ .59       ┆   ┆           ┆ 496       ┆          ┆           │\n",
       "│ N         ┆ O         ┆ 7510763.3 ┆ 102983375 ┆ … ┆ 25.55834  ┆ 35972.392 ┆ 0.050271 ┆ 293855    │\n",
       "│           ┆           ┆ 2         ┆ 91.18     ┆   ┆           ┆ 542       ┆          ┆           │\n",
       "│ R         ┆ F         ┆ 3884912.4 ┆ 526189293 ┆ … ┆ 25.458176 ┆ 35939.572 ┆ 0.04988  ┆ 149240    │\n",
       "│           ┆           ┆ 4         ┆ 1.38      ┆   ┆           ┆ 185       ┆          ┆           │\n",
       "└───────────┴───────────┴───────────┴───────────┴───┴───────────┴───────────┴──────────┴───────────┘"
      ]
     },
     "execution_count": 46,
     "metadata": {},
     "output_type": "execute_result"
    }
   ],
   "source": [
    "pl.DataFrame(df2, schema=allcols, orient='row').cast(templatedf.schema)"
   ]
  },
  {
   "cell_type": "code",
   "execution_count": 47,
   "id": "22658efb",
   "metadata": {},
   "outputs": [],
   "source": [
    "pl.DataFrame(df2, schema=allcols, orient='row').cast(templatedf.schema).write_csv(os.path.join(OUTPUT_DIR, 'output.csv'))"
   ]
  },
  {
   "cell_type": "markdown",
   "id": "d1b401f1",
   "metadata": {},
   "source": [
    "Polars-based reconstruction"
   ]
  },
  {
   "cell_type": "code",
   "execution_count": 48,
   "id": "2fcae53a",
   "metadata": {},
   "outputs": [
    {
     "data": {
      "text/html": [
       "<div><style>\n",
       ".dataframe > thead > tr,\n",
       ".dataframe > tbody > tr {\n",
       "  text-align: right;\n",
       "  white-space: pre-wrap;\n",
       "}\n",
       "</style>\n",
       "<small>shape: (4, 9)</small><table border=\"1\" class=\"dataframe\"><thead><tr><th>rowidx</th><th>2</th><th>3</th><th>4</th><th>5</th><th>6</th><th>7</th><th>8</th><th>9</th></tr><tr><td>i64</td><td>f64</td><td>f64</td><td>f64</td><td>f64</td><td>f64</td><td>f64</td><td>f64</td><td>f64</td></tr></thead><tbody><tr><td>0</td><td>3.8298e6</td><td>5.3417e9</td><td>5.1760e9</td><td>5.2766e9</td><td>25.560143</td><td>35839.240807</td><td>0.050192</td><td>151816.835989</td></tr><tr><td>1</td><td>97347.333132</td><td>1.3570e8</td><td>1.1719e8</td><td>1.3833e8</td><td>25.332104</td><td>36405.652496</td><td>0.050278</td><td>3869.076405</td></tr><tr><td>2</td><td>7.5108e6</td><td>1.0298e10</td><td>1.0111e10</td><td>1.0405e10</td><td>25.55834</td><td>35972.392542</td><td>0.050271</td><td>293855.903453</td></tr><tr><td>3</td><td>3.8849e6</td><td>5.2619e9</td><td>4.9754e9</td><td>5.4343e9</td><td>25.458176</td><td>35939.572185</td><td>0.04988</td><td>149240.411186</td></tr></tbody></table></div>"
      ],
      "text/plain": [
       "shape: (4, 9)\n",
       "┌────────┬────────────┬───────────┬───────────┬───┬───────────┬────────────┬──────────┬────────────┐\n",
       "│ rowidx ┆ 2          ┆ 3         ┆ 4         ┆ … ┆ 6         ┆ 7          ┆ 8        ┆ 9          │\n",
       "│ ---    ┆ ---        ┆ ---       ┆ ---       ┆   ┆ ---       ┆ ---        ┆ ---      ┆ ---        │\n",
       "│ i64    ┆ f64        ┆ f64       ┆ f64       ┆   ┆ f64       ┆ f64        ┆ f64      ┆ f64        │\n",
       "╞════════╪════════════╪═══════════╪═══════════╪═══╪═══════════╪════════════╪══════════╪════════════╡\n",
       "│ 0      ┆ 3.8298e6   ┆ 5.3417e9  ┆ 5.1760e9  ┆ … ┆ 25.560143 ┆ 35839.2408 ┆ 0.050192 ┆ 151816.835 │\n",
       "│        ┆            ┆           ┆           ┆   ┆           ┆ 07         ┆          ┆ 989        │\n",
       "│ 1      ┆ 97347.3331 ┆ 1.3570e8  ┆ 1.1719e8  ┆ … ┆ 25.332104 ┆ 36405.6524 ┆ 0.050278 ┆ 3869.07640 │\n",
       "│        ┆ 32         ┆           ┆           ┆   ┆           ┆ 96         ┆          ┆ 5          │\n",
       "│ 2      ┆ 7.5108e6   ┆ 1.0298e10 ┆ 1.0111e10 ┆ … ┆ 25.55834  ┆ 35972.3925 ┆ 0.050271 ┆ 293855.903 │\n",
       "│        ┆            ┆           ┆           ┆   ┆           ┆ 42         ┆          ┆ 453        │\n",
       "│ 3      ┆ 3.8849e6   ┆ 5.2619e9  ┆ 4.9754e9  ┆ … ┆ 25.458176 ┆ 35939.5721 ┆ 0.04988  ┆ 149240.411 │\n",
       "│        ┆            ┆           ┆           ┆   ┆           ┆ 85         ┆          ┆ 186        │\n",
       "└────────┴────────────┴───────────┴───────────┴───┴───────────┴────────────┴──────────┴────────────┘"
      ]
     },
     "execution_count": 48,
     "metadata": {},
     "output_type": "execute_result"
    }
   ],
   "source": [
    "# Construct the correct shape of table using only numeric indices for rows and columns\n",
    "numericdf = pl.DataFrame(allinfo).select(\n",
    "    pl.col('rowidx'),\n",
    "    pl.col('colidx'),\n",
    "    pl.col('value')\n",
    ").sort(by=['colidx', 'rowidx']).pivot(\n",
    "    index='rowidx',\n",
    "    on='colidx',\n",
    "    values='value',\n",
    "    maintain_order=True\n",
    ")\n",
    "numericdf"
   ]
  },
  {
   "cell_type": "code",
   "execution_count": 49,
   "id": "358b77d1",
   "metadata": {},
   "outputs": [
    {
     "data": {
      "text/html": [
       "<div><style>\n",
       ".dataframe > thead > tr,\n",
       ".dataframe > tbody > tr {\n",
       "  text-align: right;\n",
       "  white-space: pre-wrap;\n",
       "}\n",
       "</style>\n",
       "<small>shape: (4, 9)</small><table border=\"1\" class=\"dataframe\"><thead><tr><th>rowidx</th><th>sum_qty</th><th>sum_base_price</th><th>sum_disc_price</th><th>sum_charge</th><th>avg_qty</th><th>avg_price</th><th>avg_disc</th><th>count_order</th></tr><tr><td>i64</td><td>f64</td><td>f64</td><td>f64</td><td>f64</td><td>f64</td><td>f64</td><td>f64</td><td>f64</td></tr></thead><tbody><tr><td>0</td><td>3.8298e6</td><td>5.3417e9</td><td>5.1760e9</td><td>5.2766e9</td><td>25.560143</td><td>35839.240807</td><td>0.050192</td><td>151816.835989</td></tr><tr><td>1</td><td>97347.333132</td><td>1.3570e8</td><td>1.1719e8</td><td>1.3833e8</td><td>25.332104</td><td>36405.652496</td><td>0.050278</td><td>3869.076405</td></tr><tr><td>2</td><td>7.5108e6</td><td>1.0298e10</td><td>1.0111e10</td><td>1.0405e10</td><td>25.55834</td><td>35972.392542</td><td>0.050271</td><td>293855.903453</td></tr><tr><td>3</td><td>3.8849e6</td><td>5.2619e9</td><td>4.9754e9</td><td>5.4343e9</td><td>25.458176</td><td>35939.572185</td><td>0.04988</td><td>149240.411186</td></tr></tbody></table></div>"
      ],
      "text/plain": [
       "shape: (4, 9)\n",
       "┌────────┬────────────┬────────────┬────────────┬───┬───────────┬───────────┬──────────┬───────────┐\n",
       "│ rowidx ┆ sum_qty    ┆ sum_base_p ┆ sum_disc_p ┆ … ┆ avg_qty   ┆ avg_price ┆ avg_disc ┆ count_ord │\n",
       "│ ---    ┆ ---        ┆ rice       ┆ rice       ┆   ┆ ---       ┆ ---       ┆ ---      ┆ er        │\n",
       "│ i64    ┆ f64        ┆ ---        ┆ ---        ┆   ┆ f64       ┆ f64       ┆ f64      ┆ ---       │\n",
       "│        ┆            ┆ f64        ┆ f64        ┆   ┆           ┆           ┆          ┆ f64       │\n",
       "╞════════╪════════════╪════════════╪════════════╪═══╪═══════════╪═══════════╪══════════╪═══════════╡\n",
       "│ 0      ┆ 3.8298e6   ┆ 5.3417e9   ┆ 5.1760e9   ┆ … ┆ 25.560143 ┆ 35839.240 ┆ 0.050192 ┆ 151816.83 │\n",
       "│        ┆            ┆            ┆            ┆   ┆           ┆ 807       ┆          ┆ 5989      │\n",
       "│ 1      ┆ 97347.3331 ┆ 1.3570e8   ┆ 1.1719e8   ┆ … ┆ 25.332104 ┆ 36405.652 ┆ 0.050278 ┆ 3869.0764 │\n",
       "│        ┆ 32         ┆            ┆            ┆   ┆           ┆ 496       ┆          ┆ 05        │\n",
       "│ 2      ┆ 7.5108e6   ┆ 1.0298e10  ┆ 1.0111e10  ┆ … ┆ 25.55834  ┆ 35972.392 ┆ 0.050271 ┆ 293855.90 │\n",
       "│        ┆            ┆            ┆            ┆   ┆           ┆ 542       ┆          ┆ 3453      │\n",
       "│ 3      ┆ 3.8849e6   ┆ 5.2619e9   ┆ 4.9754e9   ┆ … ┆ 25.458176 ┆ 35939.572 ┆ 0.04988  ┆ 149240.41 │\n",
       "│        ┆            ┆            ┆            ┆   ┆           ┆ 185       ┆          ┆ 1186      │\n",
       "└────────┴────────────┴────────────┴────────────┴───┴───────────┴───────────┴──────────┴───────────┘"
      ]
     },
     "execution_count": 49,
     "metadata": {},
     "output_type": "execute_result"
    }
   ],
   "source": [
    "# Add the actual column names\n",
    "namedcolsdf = numericdf.with_columns(\n",
    "    pl.col(str(i)).alias(colnames[i])\n",
    "    for i in [colidxes[c] for c in OUTPUT_COLS]\n",
    ").drop([str(x) for x in [colidxes[c] for c in OUTPUT_COLS]])\n",
    "namedcolsdf"
   ]
  },
  {
   "cell_type": "code",
   "execution_count": 50,
   "id": "6b5d989b",
   "metadata": {},
   "outputs": [
    {
     "data": {
      "text/html": [
       "<div><style>\n",
       ".dataframe > thead > tr,\n",
       ".dataframe > tbody > tr {\n",
       "  text-align: right;\n",
       "  white-space: pre-wrap;\n",
       "}\n",
       "</style>\n",
       "<small>shape: (4, 10)</small><table border=\"1\" class=\"dataframe\"><thead><tr><th>l_returnflag</th><th>l_linestatus</th><th>sum_qty</th><th>sum_base_price</th><th>sum_disc_price</th><th>sum_charge</th><th>avg_qty</th><th>avg_price</th><th>avg_disc</th><th>count_order</th></tr><tr><td>str</td><td>str</td><td>decimal[38,2]</td><td>decimal[38,2]</td><td>decimal[38,4]</td><td>decimal[38,6]</td><td>f64</td><td>f64</td><td>f64</td><td>i64</td></tr></thead><tbody><tr><td>&quot;A&quot;</td><td>&quot;F&quot;</td><td>3829849.00</td><td>5341691787.08</td><td>5175989840.7351</td><td>5276612160.767730</td><td>25.560143</td><td>35839.240807</td><td>0.050192</td><td>151816</td></tr><tr><td>&quot;N&quot;</td><td>&quot;F&quot;</td><td>97347.33</td><td>135703568.59</td><td>117193423.8759</td><td>138330589.266637</td><td>25.332104</td><td>36405.652496</td><td>0.050278</td><td>3869</td></tr><tr><td>&quot;N&quot;</td><td>&quot;O&quot;</td><td>7510763.32</td><td>10298337591.18</td><td>10111166463.9489</td><td>10404723789.869840</td><td>25.55834</td><td>35972.392542</td><td>0.050271</td><td>293855</td></tr><tr><td>&quot;R&quot;</td><td>&quot;F&quot;</td><td>3884912.44</td><td>5261892931.38</td><td>4975409622.3990</td><td>5434293589.666393</td><td>25.458176</td><td>35939.572185</td><td>0.04988</td><td>149240</td></tr></tbody></table></div>"
      ],
      "text/plain": [
       "shape: (4, 10)\n",
       "┌───────────┬───────────┬───────────┬───────────┬───┬───────────┬───────────┬──────────┬───────────┐\n",
       "│ l_returnf ┆ l_linesta ┆ sum_qty   ┆ sum_base_ ┆ … ┆ avg_qty   ┆ avg_price ┆ avg_disc ┆ count_ord │\n",
       "│ lag       ┆ tus       ┆ ---       ┆ price     ┆   ┆ ---       ┆ ---       ┆ ---      ┆ er        │\n",
       "│ ---       ┆ ---       ┆ decimal[3 ┆ ---       ┆   ┆ f64       ┆ f64       ┆ f64      ┆ ---       │\n",
       "│ str       ┆ str       ┆ 8,2]      ┆ decimal[3 ┆   ┆           ┆           ┆          ┆ i64       │\n",
       "│           ┆           ┆           ┆ 8,2]      ┆   ┆           ┆           ┆          ┆           │\n",
       "╞═══════════╪═══════════╪═══════════╪═══════════╪═══╪═══════════╪═══════════╪══════════╪═══════════╡\n",
       "│ A         ┆ F         ┆ 3829849.0 ┆ 534169178 ┆ … ┆ 25.560143 ┆ 35839.240 ┆ 0.050192 ┆ 151816    │\n",
       "│           ┆           ┆ 0         ┆ 7.08      ┆   ┆           ┆ 807       ┆          ┆           │\n",
       "│ N         ┆ F         ┆ 97347.33  ┆ 135703568 ┆ … ┆ 25.332104 ┆ 36405.652 ┆ 0.050278 ┆ 3869      │\n",
       "│           ┆           ┆           ┆ .59       ┆   ┆           ┆ 496       ┆          ┆           │\n",
       "│ N         ┆ O         ┆ 7510763.3 ┆ 102983375 ┆ … ┆ 25.55834  ┆ 35972.392 ┆ 0.050271 ┆ 293855    │\n",
       "│           ┆           ┆ 2         ┆ 91.18     ┆   ┆           ┆ 542       ┆          ┆           │\n",
       "│ R         ┆ F         ┆ 3884912.4 ┆ 526189293 ┆ … ┆ 25.458176 ┆ 35939.572 ┆ 0.04988  ┆ 149240    │\n",
       "│           ┆           ┆ 4         ┆ 1.38      ┆   ┆           ┆ 185       ┆          ┆           │\n",
       "└───────────┴───────────┴───────────┴───────────┴───┴───────────┴───────────┴──────────┴───────────┘"
      ]
     },
     "execution_count": 50,
     "metadata": {},
     "output_type": "execute_result"
    }
   ],
   "source": [
    "# Use the column names to insert this data into the template table, overwriting the empty columns that exist there\n",
    "outputdf = templatedf.with_columns(\n",
    "    pl.col(INDEX_COLS),\n",
    ").with_columns(\n",
    "    namedcolsdf.select(pl.all().exclude('rowidx'))\n",
    ").cast(templatedf.schema)\n",
    "outputdf"
   ]
  },
  {
   "cell_type": "code",
   "execution_count": 51,
   "id": "004d23d0",
   "metadata": {},
   "outputs": [
    {
     "data": {
      "text/plain": [
       "'/Users/michael/projects/dpdb/pacdb/outputs/pac-duckdb-q1-step3.zip'"
      ]
     },
     "execution_count": 51,
     "metadata": {},
     "output_type": "execute_result"
    }
   ],
   "source": [
    "# zip the OUTPUT_DIR\n",
    "shutil.make_archive(OUTPUT_DIR, 'zip', OUTPUT_DIR)"
   ]
  }
 ],
 "metadata": {
  "kernelspec": {
   "display_name": ".venv",
   "language": "python",
   "name": "python3"
  },
  "language_info": {
   "codemirror_mode": {
    "name": "ipython",
    "version": 3
   },
   "file_extension": ".py",
   "mimetype": "text/x-python",
   "name": "python",
   "nbconvert_exporter": "python",
   "pygments_lexer": "ipython3",
   "version": "3.11.7"
  }
 },
 "nbformat": 4,
 "nbformat_minor": 5
}
