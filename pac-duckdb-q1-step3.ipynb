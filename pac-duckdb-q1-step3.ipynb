{
 "cells": [
  {
   "cell_type": "code",
   "execution_count": 1,
   "id": "eba650e4",
   "metadata": {},
   "outputs": [],
   "source": [
    "#!/usr/bin/env python\n",
    "# coding: utf-8\n",
    "\n",
    "EXPERIMENT = 'pac-duckdb-q1'\n",
    "INPUT_ZIP = f'./outputs/{EXPERIMENT}-step2.zip'\n",
    "OUTPUT_DIR = f'./outputs/{EXPERIMENT}-step3'\n",
    "\n",
    "import os\n",
    "from typing import List\n",
    "if not os.path.exists(OUTPUT_DIR):\n",
    "    os.makedirs(OUTPUT_DIR)\n",
    "\n",
    "import numpy as np\n",
    "import pickle\n",
    "\n",
    "import duckdb\n",
    "import polars as pl\n",
    "import pyarrow as pa\n",
    "\n",
    "import zipfile\n",
    "import numpy as np\n",
    "import pickle\n",
    "import json\n",
    "import io\n",
    "import parse\n",
    "import shutil"
   ]
  },
  {
   "cell_type": "code",
   "execution_count": 2,
   "id": "2faf73fb",
   "metadata": {},
   "outputs": [],
   "source": [
    "# Import saved variables from the first step\n",
    "INDEX_COLS = pickle.load(open(f'./outputs/{EXPERIMENT}-step1/INDEX_COLS.pkl', 'rb'))\n",
    "OUTPUT_COLS = pickle.load(open(f'./outputs/{EXPERIMENT}-step1/OUTPUT_COLS.pkl', 'rb'))\n",
    "templatedf: pl.DataFrame = pickle.load(open(f'./outputs/{EXPERIMENT}-step1/template.pkl', 'rb'))"
   ]
  },
  {
   "cell_type": "code",
   "execution_count": 3,
   "id": "ab3a80fe",
   "metadata": {},
   "outputs": [
    {
     "data": {
      "text/plain": [
       "dict_keys([20, 16, 6, 7, 17, 21, 10, 0, 26, 30, 31, 27, 1, 11, 2, 28, 12, 24, 25, 13, 29, 3, 8, 22, 18, 4, 14, 15, 5, 19, 23, 9])"
      ]
     },
     "execution_count": 3,
     "metadata": {},
     "output_type": "execute_result"
    }
   ],
   "source": [
    "# load the json input files from step 2\n",
    "# {'col': column name as string,\n",
    "#  'row': group-by column values as dict (effectively a row id),\n",
    "#  'values': [ 1000x values ] }\n",
    "alldata = {}\n",
    "\n",
    "pattern = parse.compile(\"{n}.json\")\n",
    "\n",
    "with zipfile.ZipFile(INPUT_ZIP, 'r') as zf:\n",
    "    for filename in zf.namelist():\n",
    "        if filename.endswith('.json'):\n",
    "            with zf.open(filename) as f:\n",
    "                filenumber = int(pattern.parse(filename).named['n'])\n",
    "                data = json.load(f)\n",
    "                d: dict = data\n",
    "                alldata[filenumber] = d\n",
    "alldata.keys()"
   ]
  },
  {
   "cell_type": "code",
   "execution_count": 4,
   "id": "0b249a7b",
   "metadata": {},
   "outputs": [],
   "source": [
    "# Cursed data shuffling to reidentify what row goes where, what column goes where, and what the labels should be on everything\n",
    "colidxes = {}\n",
    "for col in OUTPUT_COLS:\n",
    "    colidxes[col] = templatedf.get_column_index(col)\n",
    "rowidxes = {}\n",
    "for row in templatedf.select(INDEX_COLS).iter_rows():\n",
    "    rowidxes[tuple(row)] = rowidxes.get(tuple(row), len(rowidxes))\n",
    "\n",
    "allinfo = [\n",
    "    {\"colname\": adentry['col'],\n",
    "    \"rowid\": tuple(adentry['row'].values()),\n",
    "    \"value\": adentry['value'][0],\n",
    "    \"colidx\": colidxes[adentry['col']],\n",
    "    \"rowidx\": rowidxes[tuple(adentry['row'].values())]}\n",
    "    for adidx, adentry in alldata.items()\n",
    "]\n",
    "\n",
    "colnames = {}\n",
    "rownames = {}\n",
    "for entry in allinfo:\n",
    "    colnames[entry['colidx']] = entry['colname']\n",
    "    rownames[entry['rowidx']] = entry['rowid']"
   ]
  },
  {
   "cell_type": "code",
   "execution_count": 5,
   "id": "1d086fc3",
   "metadata": {},
   "outputs": [
    {
     "data": {
      "text/html": [
       "<div><style>\n",
       ".dataframe > thead > tr,\n",
       ".dataframe > tbody > tr {\n",
       "  text-align: right;\n",
       "  white-space: pre-wrap;\n",
       "}\n",
       "</style>\n",
       "<small>shape: (4, 2)</small><table border=\"1\" class=\"dataframe\"><thead><tr><th>l_returnflag</th><th>l_linestatus</th></tr><tr><td>str</td><td>str</td></tr></thead><tbody><tr><td>&quot;A&quot;</td><td>&quot;F&quot;</td></tr><tr><td>&quot;N&quot;</td><td>&quot;F&quot;</td></tr><tr><td>&quot;N&quot;</td><td>&quot;O&quot;</td></tr><tr><td>&quot;R&quot;</td><td>&quot;F&quot;</td></tr></tbody></table></div>"
      ],
      "text/plain": [
       "shape: (4, 2)\n",
       "┌──────────────┬──────────────┐\n",
       "│ l_returnflag ┆ l_linestatus │\n",
       "│ ---          ┆ ---          │\n",
       "│ str          ┆ str          │\n",
       "╞══════════════╪══════════════╡\n",
       "│ A            ┆ F            │\n",
       "│ N            ┆ F            │\n",
       "│ N            ┆ O            │\n",
       "│ R            ┆ F            │\n",
       "└──────────────┴──────────────┘"
      ]
     },
     "execution_count": 5,
     "metadata": {},
     "output_type": "execute_result"
    }
   ],
   "source": [
    "allgroups = templatedf.select(INDEX_COLS)\n",
    "allgroups"
   ]
  },
  {
   "cell_type": "markdown",
   "id": "61e58b37",
   "metadata": {},
   "source": [
    "Naive reconstruction"
   ]
  },
  {
   "cell_type": "code",
   "execution_count": 6,
   "id": "c6da70b0",
   "metadata": {},
   "outputs": [
    {
     "name": "stdout",
     "output_type": "stream",
     "text": [
      "['l_returnflag', 'l_linestatus', 'sum_qty', 'sum_base_price', 'sum_disc_price', 'sum_charge', 'avg_qty', 'avg_price', 'avg_disc', 'count_order']\n",
      "['A', 'F', 3765750.2257570163, 5137245325.263337, 4998609024.848441, 5256155659.484106, 25.488795921119262, 36162.64533651841, 0.05047393470125876, 146189.78234473686]\n",
      "['N', 'F', 96647.51381247856, 141523067.0339612, 117764517.78819464, 138186185.43609065, 25.254704447480368, 34378.06016462823, 0.0487409309957195, 3852.544705164627]\n",
      "['N', 'O', 7719818.530798227, 11074547815.710772, 9707836156.304594, 10346463099.438492, 25.548613172353136, 36072.6559101019, 0.04998162105815481, 294007.6926948845]\n",
      "['R', 'F', 3777723.381622972, 5237189609.883725, 5005372932.515666, 5376563959.094568, 25.62493209987229, 36145.4305258992, 0.049912532059403665, 147113.2510706484]\n"
     ]
    }
   ],
   "source": [
    "# Naive reconstruction based on the indices of the keys in the templatedf\n",
    "allcols = INDEX_COLS + OUTPUT_COLS\n",
    "allrows = allgroups.select(INDEX_COLS).to_numpy().tolist()\n",
    "\n",
    "allinfo2 = {\n",
    "    (rowidxes[tuple(adentry['row'].values())], colidxes[adentry['col']]): adentry['value'][0]\n",
    "    for adidx, adentry in alldata.items()\n",
    "}\n",
    "\n",
    "df2 = []\n",
    "print(allcols)\n",
    "for row in allrows:\n",
    "    print(row + [allinfo2.get((rowidxes[tuple(row)], colidxes[col]), None) for col in OUTPUT_COLS])\n",
    "    df2.append(row + [allinfo2.get((rowidxes[tuple(row)], colidxes[col]), None) for col in OUTPUT_COLS])"
   ]
  },
  {
   "cell_type": "code",
   "execution_count": 7,
   "id": "396c2efa",
   "metadata": {},
   "outputs": [
    {
     "data": {
      "text/html": [
       "<div><style>\n",
       ".dataframe > thead > tr,\n",
       ".dataframe > tbody > tr {\n",
       "  text-align: right;\n",
       "  white-space: pre-wrap;\n",
       "}\n",
       "</style>\n",
       "<small>shape: (4, 10)</small><table border=\"1\" class=\"dataframe\"><thead><tr><th>l_returnflag</th><th>l_linestatus</th><th>sum_qty</th><th>sum_base_price</th><th>sum_disc_price</th><th>sum_charge</th><th>avg_qty</th><th>avg_price</th><th>avg_disc</th><th>count_order</th></tr><tr><td>str</td><td>str</td><td>decimal[38,2]</td><td>decimal[38,2]</td><td>decimal[38,4]</td><td>decimal[38,6]</td><td>f64</td><td>f64</td><td>f64</td><td>i64</td></tr></thead><tbody><tr><td>&quot;A&quot;</td><td>&quot;F&quot;</td><td>3765750.22</td><td>5137245325.26</td><td>4998609024.8484</td><td>5256155659.484106</td><td>25.488796</td><td>36162.645337</td><td>0.050474</td><td>146189</td></tr><tr><td>&quot;N&quot;</td><td>&quot;F&quot;</td><td>96647.51</td><td>141523067.03</td><td>117764517.7881</td><td>138186185.436090</td><td>25.254704</td><td>34378.060165</td><td>0.048741</td><td>3852</td></tr><tr><td>&quot;N&quot;</td><td>&quot;O&quot;</td><td>7719818.53</td><td>11074547815.71</td><td>9707836156.3045</td><td>10346463099.438492</td><td>25.548613</td><td>36072.65591</td><td>0.049982</td><td>294007</td></tr><tr><td>&quot;R&quot;</td><td>&quot;F&quot;</td><td>3777723.38</td><td>5237189609.88</td><td>5005372932.5156</td><td>5376563959.094568</td><td>25.624932</td><td>36145.430526</td><td>0.049913</td><td>147113</td></tr></tbody></table></div>"
      ],
      "text/plain": [
       "shape: (4, 10)\n",
       "┌───────────┬───────────┬───────────┬───────────┬───┬───────────┬───────────┬──────────┬───────────┐\n",
       "│ l_returnf ┆ l_linesta ┆ sum_qty   ┆ sum_base_ ┆ … ┆ avg_qty   ┆ avg_price ┆ avg_disc ┆ count_ord │\n",
       "│ lag       ┆ tus       ┆ ---       ┆ price     ┆   ┆ ---       ┆ ---       ┆ ---      ┆ er        │\n",
       "│ ---       ┆ ---       ┆ decimal[3 ┆ ---       ┆   ┆ f64       ┆ f64       ┆ f64      ┆ ---       │\n",
       "│ str       ┆ str       ┆ 8,2]      ┆ decimal[3 ┆   ┆           ┆           ┆          ┆ i64       │\n",
       "│           ┆           ┆           ┆ 8,2]      ┆   ┆           ┆           ┆          ┆           │\n",
       "╞═══════════╪═══════════╪═══════════╪═══════════╪═══╪═══════════╪═══════════╪══════════╪═══════════╡\n",
       "│ A         ┆ F         ┆ 3765750.2 ┆ 513724532 ┆ … ┆ 25.488796 ┆ 36162.645 ┆ 0.050474 ┆ 146189    │\n",
       "│           ┆           ┆ 2         ┆ 5.26      ┆   ┆           ┆ 337       ┆          ┆           │\n",
       "│ N         ┆ F         ┆ 96647.51  ┆ 141523067 ┆ … ┆ 25.254704 ┆ 34378.060 ┆ 0.048741 ┆ 3852      │\n",
       "│           ┆           ┆           ┆ .03       ┆   ┆           ┆ 165       ┆          ┆           │\n",
       "│ N         ┆ O         ┆ 7719818.5 ┆ 110745478 ┆ … ┆ 25.548613 ┆ 36072.655 ┆ 0.049982 ┆ 294007    │\n",
       "│           ┆           ┆ 3         ┆ 15.71     ┆   ┆           ┆ 91        ┆          ┆           │\n",
       "│ R         ┆ F         ┆ 3777723.3 ┆ 523718960 ┆ … ┆ 25.624932 ┆ 36145.430 ┆ 0.049913 ┆ 147113    │\n",
       "│           ┆           ┆ 8         ┆ 9.88      ┆   ┆           ┆ 526       ┆          ┆           │\n",
       "└───────────┴───────────┴───────────┴───────────┴───┴───────────┴───────────┴──────────┴───────────┘"
      ]
     },
     "execution_count": 7,
     "metadata": {},
     "output_type": "execute_result"
    }
   ],
   "source": [
    "pl.DataFrame(df2, schema=allcols, orient='row').cast(templatedf.schema)"
   ]
  },
  {
   "cell_type": "code",
   "execution_count": 8,
   "id": "22658efb",
   "metadata": {},
   "outputs": [],
   "source": [
    "pl.DataFrame(df2, schema=allcols, orient='row').cast(templatedf.schema).write_csv(os.path.join(OUTPUT_DIR, 'output.csv'))"
   ]
  },
  {
   "cell_type": "markdown",
   "id": "d1b401f1",
   "metadata": {},
   "source": [
    "Polars-based reconstruction"
   ]
  },
  {
   "cell_type": "code",
   "execution_count": 9,
   "id": "2fcae53a",
   "metadata": {},
   "outputs": [
    {
     "data": {
      "text/html": [
       "<div><style>\n",
       ".dataframe > thead > tr,\n",
       ".dataframe > tbody > tr {\n",
       "  text-align: right;\n",
       "  white-space: pre-wrap;\n",
       "}\n",
       "</style>\n",
       "<small>shape: (4, 9)</small><table border=\"1\" class=\"dataframe\"><thead><tr><th>rowidx</th><th>2</th><th>3</th><th>4</th><th>5</th><th>6</th><th>7</th><th>8</th><th>9</th></tr><tr><td>i64</td><td>f64</td><td>f64</td><td>f64</td><td>f64</td><td>f64</td><td>f64</td><td>f64</td><td>f64</td></tr></thead><tbody><tr><td>0</td><td>3.7658e6</td><td>5.1372e9</td><td>4.9986e9</td><td>5.2562e9</td><td>25.488796</td><td>36162.645337</td><td>0.050474</td><td>146189.782345</td></tr><tr><td>1</td><td>96647.513812</td><td>1.4152e8</td><td>1.1776e8</td><td>1.3819e8</td><td>25.254704</td><td>34378.060165</td><td>0.048741</td><td>3852.544705</td></tr><tr><td>2</td><td>7.7198e6</td><td>1.1075e10</td><td>9.7078e9</td><td>1.0346e10</td><td>25.548613</td><td>36072.65591</td><td>0.049982</td><td>294007.692695</td></tr><tr><td>3</td><td>3.7777e6</td><td>5.2372e9</td><td>5.0054e9</td><td>5.3766e9</td><td>25.624932</td><td>36145.430526</td><td>0.049913</td><td>147113.251071</td></tr></tbody></table></div>"
      ],
      "text/plain": [
       "shape: (4, 9)\n",
       "┌────────┬─────────────┬───────────┬──────────┬───┬───────────┬────────────┬──────────┬────────────┐\n",
       "│ rowidx ┆ 2           ┆ 3         ┆ 4        ┆ … ┆ 6         ┆ 7          ┆ 8        ┆ 9          │\n",
       "│ ---    ┆ ---         ┆ ---       ┆ ---      ┆   ┆ ---       ┆ ---        ┆ ---      ┆ ---        │\n",
       "│ i64    ┆ f64         ┆ f64       ┆ f64      ┆   ┆ f64       ┆ f64        ┆ f64      ┆ f64        │\n",
       "╞════════╪═════════════╪═══════════╪══════════╪═══╪═══════════╪════════════╪══════════╪════════════╡\n",
       "│ 0      ┆ 3.7658e6    ┆ 5.1372e9  ┆ 4.9986e9 ┆ … ┆ 25.488796 ┆ 36162.6453 ┆ 0.050474 ┆ 146189.782 │\n",
       "│        ┆             ┆           ┆          ┆   ┆           ┆ 37         ┆          ┆ 345        │\n",
       "│ 1      ┆ 96647.51381 ┆ 1.4152e8  ┆ 1.1776e8 ┆ … ┆ 25.254704 ┆ 34378.0601 ┆ 0.048741 ┆ 3852.54470 │\n",
       "│        ┆ 2           ┆           ┆          ┆   ┆           ┆ 65         ┆          ┆ 5          │\n",
       "│ 2      ┆ 7.7198e6    ┆ 1.1075e10 ┆ 9.7078e9 ┆ … ┆ 25.548613 ┆ 36072.6559 ┆ 0.049982 ┆ 294007.692 │\n",
       "│        ┆             ┆           ┆          ┆   ┆           ┆ 1          ┆          ┆ 695        │\n",
       "│ 3      ┆ 3.7777e6    ┆ 5.2372e9  ┆ 5.0054e9 ┆ … ┆ 25.624932 ┆ 36145.4305 ┆ 0.049913 ┆ 147113.251 │\n",
       "│        ┆             ┆           ┆          ┆   ┆           ┆ 26         ┆          ┆ 071        │\n",
       "└────────┴─────────────┴───────────┴──────────┴───┴───────────┴────────────┴──────────┴────────────┘"
      ]
     },
     "execution_count": 9,
     "metadata": {},
     "output_type": "execute_result"
    }
   ],
   "source": [
    "# Construct the correct shape of table using only numeric indices for rows and columns\n",
    "numericdf = pl.DataFrame(allinfo).select(\n",
    "    pl.col('rowidx'),\n",
    "    pl.col('colidx'),\n",
    "    pl.col('value')\n",
    ").sort(by=['colidx', 'rowidx']).pivot(\n",
    "    index='rowidx',\n",
    "    on='colidx',\n",
    "    values='value',\n",
    "    maintain_order=True\n",
    ")\n",
    "numericdf"
   ]
  },
  {
   "cell_type": "code",
   "execution_count": 10,
   "id": "358b77d1",
   "metadata": {},
   "outputs": [
    {
     "data": {
      "text/html": [
       "<div><style>\n",
       ".dataframe > thead > tr,\n",
       ".dataframe > tbody > tr {\n",
       "  text-align: right;\n",
       "  white-space: pre-wrap;\n",
       "}\n",
       "</style>\n",
       "<small>shape: (4, 9)</small><table border=\"1\" class=\"dataframe\"><thead><tr><th>rowidx</th><th>sum_qty</th><th>sum_base_price</th><th>sum_disc_price</th><th>sum_charge</th><th>avg_qty</th><th>avg_price</th><th>avg_disc</th><th>count_order</th></tr><tr><td>i64</td><td>f64</td><td>f64</td><td>f64</td><td>f64</td><td>f64</td><td>f64</td><td>f64</td><td>f64</td></tr></thead><tbody><tr><td>0</td><td>3.7658e6</td><td>5.1372e9</td><td>4.9986e9</td><td>5.2562e9</td><td>25.488796</td><td>36162.645337</td><td>0.050474</td><td>146189.782345</td></tr><tr><td>1</td><td>96647.513812</td><td>1.4152e8</td><td>1.1776e8</td><td>1.3819e8</td><td>25.254704</td><td>34378.060165</td><td>0.048741</td><td>3852.544705</td></tr><tr><td>2</td><td>7.7198e6</td><td>1.1075e10</td><td>9.7078e9</td><td>1.0346e10</td><td>25.548613</td><td>36072.65591</td><td>0.049982</td><td>294007.692695</td></tr><tr><td>3</td><td>3.7777e6</td><td>5.2372e9</td><td>5.0054e9</td><td>5.3766e9</td><td>25.624932</td><td>36145.430526</td><td>0.049913</td><td>147113.251071</td></tr></tbody></table></div>"
      ],
      "text/plain": [
       "shape: (4, 9)\n",
       "┌────────┬────────────┬────────────┬────────────┬───┬───────────┬───────────┬──────────┬───────────┐\n",
       "│ rowidx ┆ sum_qty    ┆ sum_base_p ┆ sum_disc_p ┆ … ┆ avg_qty   ┆ avg_price ┆ avg_disc ┆ count_ord │\n",
       "│ ---    ┆ ---        ┆ rice       ┆ rice       ┆   ┆ ---       ┆ ---       ┆ ---      ┆ er        │\n",
       "│ i64    ┆ f64        ┆ ---        ┆ ---        ┆   ┆ f64       ┆ f64       ┆ f64      ┆ ---       │\n",
       "│        ┆            ┆ f64        ┆ f64        ┆   ┆           ┆           ┆          ┆ f64       │\n",
       "╞════════╪════════════╪════════════╪════════════╪═══╪═══════════╪═══════════╪══════════╪═══════════╡\n",
       "│ 0      ┆ 3.7658e6   ┆ 5.1372e9   ┆ 4.9986e9   ┆ … ┆ 25.488796 ┆ 36162.645 ┆ 0.050474 ┆ 146189.78 │\n",
       "│        ┆            ┆            ┆            ┆   ┆           ┆ 337       ┆          ┆ 2345      │\n",
       "│ 1      ┆ 96647.5138 ┆ 1.4152e8   ┆ 1.1776e8   ┆ … ┆ 25.254704 ┆ 34378.060 ┆ 0.048741 ┆ 3852.5447 │\n",
       "│        ┆ 12         ┆            ┆            ┆   ┆           ┆ 165       ┆          ┆ 05        │\n",
       "│ 2      ┆ 7.7198e6   ┆ 1.1075e10  ┆ 9.7078e9   ┆ … ┆ 25.548613 ┆ 36072.655 ┆ 0.049982 ┆ 294007.69 │\n",
       "│        ┆            ┆            ┆            ┆   ┆           ┆ 91        ┆          ┆ 2695      │\n",
       "│ 3      ┆ 3.7777e6   ┆ 5.2372e9   ┆ 5.0054e9   ┆ … ┆ 25.624932 ┆ 36145.430 ┆ 0.049913 ┆ 147113.25 │\n",
       "│        ┆            ┆            ┆            ┆   ┆           ┆ 526       ┆          ┆ 1071      │\n",
       "└────────┴────────────┴────────────┴────────────┴───┴───────────┴───────────┴──────────┴───────────┘"
      ]
     },
     "execution_count": 10,
     "metadata": {},
     "output_type": "execute_result"
    }
   ],
   "source": [
    "# Add the actual column names\n",
    "namedcolsdf = numericdf.with_columns(\n",
    "    pl.col(str(i)).alias(colnames[i])\n",
    "    for i in [colidxes[c] for c in OUTPUT_COLS]\n",
    ").drop([str(x) for x in [colidxes[c] for c in OUTPUT_COLS]])\n",
    "namedcolsdf"
   ]
  },
  {
   "cell_type": "code",
   "execution_count": 11,
   "id": "6b5d989b",
   "metadata": {},
   "outputs": [
    {
     "data": {
      "text/html": [
       "<div><style>\n",
       ".dataframe > thead > tr,\n",
       ".dataframe > tbody > tr {\n",
       "  text-align: right;\n",
       "  white-space: pre-wrap;\n",
       "}\n",
       "</style>\n",
       "<small>shape: (4, 10)</small><table border=\"1\" class=\"dataframe\"><thead><tr><th>l_returnflag</th><th>l_linestatus</th><th>sum_qty</th><th>sum_base_price</th><th>sum_disc_price</th><th>sum_charge</th><th>avg_qty</th><th>avg_price</th><th>avg_disc</th><th>count_order</th></tr><tr><td>str</td><td>str</td><td>decimal[38,2]</td><td>decimal[38,2]</td><td>decimal[38,4]</td><td>decimal[38,6]</td><td>f64</td><td>f64</td><td>f64</td><td>i64</td></tr></thead><tbody><tr><td>&quot;A&quot;</td><td>&quot;F&quot;</td><td>3765750.22</td><td>5137245325.26</td><td>4998609024.8484</td><td>5256155659.484106</td><td>25.488796</td><td>36162.645337</td><td>0.050474</td><td>146189</td></tr><tr><td>&quot;N&quot;</td><td>&quot;F&quot;</td><td>96647.51</td><td>141523067.03</td><td>117764517.7881</td><td>138186185.436090</td><td>25.254704</td><td>34378.060165</td><td>0.048741</td><td>3852</td></tr><tr><td>&quot;N&quot;</td><td>&quot;O&quot;</td><td>7719818.53</td><td>11074547815.71</td><td>9707836156.3045</td><td>10346463099.438492</td><td>25.548613</td><td>36072.65591</td><td>0.049982</td><td>294007</td></tr><tr><td>&quot;R&quot;</td><td>&quot;F&quot;</td><td>3777723.38</td><td>5237189609.88</td><td>5005372932.5156</td><td>5376563959.094568</td><td>25.624932</td><td>36145.430526</td><td>0.049913</td><td>147113</td></tr></tbody></table></div>"
      ],
      "text/plain": [
       "shape: (4, 10)\n",
       "┌───────────┬───────────┬───────────┬───────────┬───┬───────────┬───────────┬──────────┬───────────┐\n",
       "│ l_returnf ┆ l_linesta ┆ sum_qty   ┆ sum_base_ ┆ … ┆ avg_qty   ┆ avg_price ┆ avg_disc ┆ count_ord │\n",
       "│ lag       ┆ tus       ┆ ---       ┆ price     ┆   ┆ ---       ┆ ---       ┆ ---      ┆ er        │\n",
       "│ ---       ┆ ---       ┆ decimal[3 ┆ ---       ┆   ┆ f64       ┆ f64       ┆ f64      ┆ ---       │\n",
       "│ str       ┆ str       ┆ 8,2]      ┆ decimal[3 ┆   ┆           ┆           ┆          ┆ i64       │\n",
       "│           ┆           ┆           ┆ 8,2]      ┆   ┆           ┆           ┆          ┆           │\n",
       "╞═══════════╪═══════════╪═══════════╪═══════════╪═══╪═══════════╪═══════════╪══════════╪═══════════╡\n",
       "│ A         ┆ F         ┆ 3765750.2 ┆ 513724532 ┆ … ┆ 25.488796 ┆ 36162.645 ┆ 0.050474 ┆ 146189    │\n",
       "│           ┆           ┆ 2         ┆ 5.26      ┆   ┆           ┆ 337       ┆          ┆           │\n",
       "│ N         ┆ F         ┆ 96647.51  ┆ 141523067 ┆ … ┆ 25.254704 ┆ 34378.060 ┆ 0.048741 ┆ 3852      │\n",
       "│           ┆           ┆           ┆ .03       ┆   ┆           ┆ 165       ┆          ┆           │\n",
       "│ N         ┆ O         ┆ 7719818.5 ┆ 110745478 ┆ … ┆ 25.548613 ┆ 36072.655 ┆ 0.049982 ┆ 294007    │\n",
       "│           ┆           ┆ 3         ┆ 15.71     ┆   ┆           ┆ 91        ┆          ┆           │\n",
       "│ R         ┆ F         ┆ 3777723.3 ┆ 523718960 ┆ … ┆ 25.624932 ┆ 36145.430 ┆ 0.049913 ┆ 147113    │\n",
       "│           ┆           ┆ 8         ┆ 9.88      ┆   ┆           ┆ 526       ┆          ┆           │\n",
       "└───────────┴───────────┴───────────┴───────────┴───┴───────────┴───────────┴──────────┴───────────┘"
      ]
     },
     "execution_count": 11,
     "metadata": {},
     "output_type": "execute_result"
    }
   ],
   "source": [
    "# Use the column names to insert this data into the template table, overwriting the empty columns that exist there\n",
    "outputdf = templatedf.with_columns(\n",
    "    pl.col(INDEX_COLS),\n",
    ").with_columns(\n",
    "    namedcolsdf.select(pl.all().exclude('rowidx'))\n",
    ").cast(templatedf.schema)\n",
    "outputdf"
   ]
  },
  {
   "cell_type": "code",
   "execution_count": 12,
   "id": "004d23d0",
   "metadata": {},
   "outputs": [
    {
     "data": {
      "text/plain": [
       "'/Users/michael/projects/dpdb/pacdb/outputs/pac-duckdb-q1-step3.zip'"
      ]
     },
     "execution_count": 12,
     "metadata": {},
     "output_type": "execute_result"
    }
   ],
   "source": [
    "# zip the OUTPUT_DIR\n",
    "shutil.make_archive(OUTPUT_DIR, 'zip', OUTPUT_DIR)"
   ]
  }
 ],
 "metadata": {
  "kernelspec": {
   "display_name": ".venv",
   "language": "python",
   "name": "python3"
  },
  "language_info": {
   "codemirror_mode": {
    "name": "ipython",
    "version": 3
   },
   "file_extension": ".py",
   "mimetype": "text/x-python",
   "name": "python",
   "nbconvert_exporter": "python",
   "pygments_lexer": "ipython3",
   "version": "3.11.7"
  }
 },
 "nbformat": 4,
 "nbformat_minor": 5
}
