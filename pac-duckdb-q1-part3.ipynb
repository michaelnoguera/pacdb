{
 "cells": [
  {
   "cell_type": "code",
   "execution_count": 45,
   "id": "eba650e4",
   "metadata": {},
   "outputs": [
    {
     "name": "stdout",
     "output_type": "stream",
     "text": [
      "GENERATE = False, so we will load saved output from files rather than recomputing.\n"
     ]
    }
   ],
   "source": [
    "#!/usr/bin/env python\n",
    "# coding: utf-8\n",
    "\n",
    "EXPERIMENT = 'pac-duckdb-q1-part3'\n",
    "OUTPUT_DIR = f'./outputs/{EXPERIMENT}'\n",
    "GENERATE = False\n",
    "USE_EVEN_NUMBER_OF_INPUT_ROWS = False\n",
    "\n",
    "if GENERATE:\n",
    "    print(\"GENERATE = True, so we will generate new samples.\")\n",
    "else:\n",
    "    print(\"GENERATE = False, so we will load saved output from files rather than recomputing.\")\n",
    "\n",
    "import os\n",
    "from typing import List\n",
    "if not os.path.exists(OUTPUT_DIR):\n",
    "    os.makedirs(OUTPUT_DIR)\n",
    "\n",
    "import numpy as np\n",
    "import pickle\n",
    "\n",
    "import duckdb\n",
    "import polars as pl\n",
    "import pyarrow as pa"
   ]
  },
  {
   "cell_type": "code",
   "execution_count": 63,
   "id": "52c34dce",
   "metadata": {},
   "outputs": [],
   "source": [
    "# Import your generated samples\n",
    "ZIPFILE = f'./outputs/e2e-q1.zip'\n",
    "TEMPLATE = './outputs/pac-duckdb-q1/template.pkl'\n",
    "REVERSEMAP = './outputs/pac-duckdb-q1/reverse_map.pkl'\n",
    "\n",
    "import zipfile\n",
    "import numpy as np\n",
    "import pickle\n",
    "import json\n",
    "import io\n",
    "import parse"
   ]
  },
  {
   "cell_type": "code",
   "execution_count": 68,
   "id": "2faf73fb",
   "metadata": {},
   "outputs": [],
   "source": [
    "INDEX_COLS = pickle.load(open('./outputs/pac-duckdb-q1/INDEX_COLS.pkl', 'rb'))\n",
    "OUTPUT_COLS = pickle.load(open('./outputs/pac-duckdb-q1/OUTPUT_COLS.pkl', 'rb'))"
   ]
  },
  {
   "cell_type": "code",
   "execution_count": 47,
   "id": "ab3a80fe",
   "metadata": {},
   "outputs": [
    {
     "data": {
      "text/plain": [
       "dict_keys([20, 16, 6, 7, 17, 21, 10, 0, 26, 30, 31, 27, 1, 11, 2, 28, 12, 24, 25, 13, 29, 3, 8, 22, 18, 4, 14, 15, 5, 19, 23, 9])"
      ]
     },
     "execution_count": 47,
     "metadata": {},
     "output_type": "execute_result"
    }
   ],
   "source": [
    "# load the json input files\n",
    "# {'col': column name as string,\n",
    "#  'row': group-by column values as dict (effectively a row id),\n",
    "#  'values': [ 1000x values ] }\n",
    "alldata = {}\n",
    "\n",
    "pattern = parse.compile(\"{n}.json\")\n",
    "\n",
    "with zipfile.ZipFile(ZIPFILE, 'r') as zf:\n",
    "    for filename in zf.namelist():\n",
    "        if filename.endswith('.json'):\n",
    "            with zf.open(filename) as f:\n",
    "                filenumber = int(pattern.parse(filename).named['n'])\n",
    "                data = json.load(f)\n",
    "                d: dict = data\n",
    "                alldata[filenumber] = d\n",
    "alldata.keys()"
   ]
  },
  {
   "cell_type": "code",
   "execution_count": 48,
   "id": "42ad5a7f",
   "metadata": {},
   "outputs": [
    {
     "data": {
      "text/plain": [
       "{'col': 'sum_qty',\n",
       " 'row': {'l_returnflag': 'A', 'l_linestatus': 'F'},\n",
       " 'value': [3857488.9962900397]}"
      ]
     },
     "execution_count": 48,
     "metadata": {},
     "output_type": "execute_result"
    }
   ],
   "source": [
    "alldata[0]"
   ]
  },
  {
   "cell_type": "code",
   "execution_count": 72,
   "id": "8c18fc04",
   "metadata": {},
   "outputs": [
    {
     "data": {
      "text/plain": [
       "dict_keys([0, 1, 2, 3, 4, 5, 6, 7, 8, 9, 10, 11, 12, 13, 14, 15, 16, 17, 18, 19, 20, 21, 22, 23, 24, 25, 26, 27, 28, 29, 30, 31])"
      ]
     },
     "execution_count": 72,
     "metadata": {},
     "output_type": "execute_result"
    }
   ],
   "source": [
    "reversemap = pickle.load(open(REVERSEMAP, 'rb'))\n",
    "reversemap.keys()"
   ]
  },
  {
   "cell_type": "code",
   "execution_count": 65,
   "id": "af8f7fe4",
   "metadata": {},
   "outputs": [
    {
     "data": {
      "text/html": [
       "<div><style>\n",
       ".dataframe > thead > tr,\n",
       ".dataframe > tbody > tr {\n",
       "  text-align: right;\n",
       "  white-space: pre-wrap;\n",
       "}\n",
       "</style>\n",
       "<small>shape: (4, 10)</small><table border=\"1\" class=\"dataframe\"><thead><tr><th>l_returnflag</th><th>l_linestatus</th><th>sum_qty</th><th>sum_base_price</th><th>sum_disc_price</th><th>sum_charge</th><th>avg_qty</th><th>avg_price</th><th>avg_disc</th><th>count_order</th></tr><tr><td>str</td><td>str</td><td>decimal[38,2]</td><td>decimal[38,2]</td><td>decimal[38,4]</td><td>decimal[38,6]</td><td>f64</td><td>f64</td><td>f64</td><td>i64</td></tr></thead><tbody><tr><td>&quot;A&quot;</td><td>&quot;F&quot;</td><td>null</td><td>null</td><td>null</td><td>null</td><td>null</td><td>null</td><td>null</td><td>null</td></tr><tr><td>&quot;N&quot;</td><td>&quot;F&quot;</td><td>null</td><td>null</td><td>null</td><td>null</td><td>null</td><td>null</td><td>null</td><td>null</td></tr><tr><td>&quot;N&quot;</td><td>&quot;O&quot;</td><td>null</td><td>null</td><td>null</td><td>null</td><td>null</td><td>null</td><td>null</td><td>null</td></tr><tr><td>&quot;R&quot;</td><td>&quot;F&quot;</td><td>null</td><td>null</td><td>null</td><td>null</td><td>null</td><td>null</td><td>null</td><td>null</td></tr></tbody></table></div>"
      ],
      "text/plain": [
       "shape: (4, 10)\n",
       "┌────────────┬────────────┬───────────┬───────────┬───┬─────────┬───────────┬──────────┬───────────┐\n",
       "│ l_returnfl ┆ l_linestat ┆ sum_qty   ┆ sum_base_ ┆ … ┆ avg_qty ┆ avg_price ┆ avg_disc ┆ count_ord │\n",
       "│ ag         ┆ us         ┆ ---       ┆ price     ┆   ┆ ---     ┆ ---       ┆ ---      ┆ er        │\n",
       "│ ---        ┆ ---        ┆ decimal[3 ┆ ---       ┆   ┆ f64     ┆ f64       ┆ f64      ┆ ---       │\n",
       "│ str        ┆ str        ┆ 8,2]      ┆ decimal[3 ┆   ┆         ┆           ┆          ┆ i64       │\n",
       "│            ┆            ┆           ┆ 8,2]      ┆   ┆         ┆           ┆          ┆           │\n",
       "╞════════════╪════════════╪═══════════╪═══════════╪═══╪═════════╪═══════════╪══════════╪═══════════╡\n",
       "│ A          ┆ F          ┆ null      ┆ null      ┆ … ┆ null    ┆ null      ┆ null     ┆ null      │\n",
       "│ N          ┆ F          ┆ null      ┆ null      ┆ … ┆ null    ┆ null      ┆ null     ┆ null      │\n",
       "│ N          ┆ O          ┆ null      ┆ null      ┆ … ┆ null    ┆ null      ┆ null     ┆ null      │\n",
       "│ R          ┆ F          ┆ null      ┆ null      ┆ … ┆ null    ┆ null      ┆ null     ┆ null      │\n",
       "└────────────┴────────────┴───────────┴───────────┴───┴─────────┴───────────┴──────────┴───────────┘"
      ]
     },
     "execution_count": 65,
     "metadata": {},
     "output_type": "execute_result"
    }
   ],
   "source": [
    "templatedf: pl.DataFrame = pickle.load(open(TEMPLATE, 'rb'))\n",
    "templatedf"
   ]
  },
  {
   "cell_type": "code",
   "execution_count": null,
   "id": "0b249a7b",
   "metadata": {},
   "outputs": [
    {
     "data": {
      "text/plain": [
       "({'sum_qty': 2,\n",
       "  'sum_base_price': 3,\n",
       "  'sum_disc_price': 4,\n",
       "  'sum_charge': 5,\n",
       "  'avg_qty': 6,\n",
       "  'avg_price': 7,\n",
       "  'avg_disc': 8,\n",
       "  'count_order': 9},\n",
       " {('A', 'F'): 0, ('N', 'F'): 1, ('N', 'O'): 2, ('R', 'F'): 3})"
      ]
     },
     "execution_count": 80,
     "metadata": {},
     "output_type": "execute_result"
    }
   ],
   "source": [
    "colidxes = {}\n",
    "for col in OUTPUT_COLS:\n",
    "    colidxes[col] = templatedf.get_column_index(col)\n",
    "rowidxes = {}\n",
    "for row in templatedf.select(INDEX_COLS).iter_rows():\n",
    "    rowidxes[tuple(row)] = rowidxes.get(tuple(row), len(rowidxes))\n",
    "colidxes, rowidxes"
   ]
  },
  {
   "cell_type": "code",
   "execution_count": 108,
   "id": "2d921b8c",
   "metadata": {},
   "outputs": [
    {
     "data": {
      "text/plain": [
       "[{'colname': 'avg_price',\n",
       "  'rowid': ('A', 'F'),\n",
       "  'value': 35911.862323141315,\n",
       "  'colidx': 7,\n",
       "  'rowidx': 0},\n",
       " {'colname': 'avg_qty',\n",
       "  'rowid': ('A', 'F'),\n",
       "  'value': 25.46072926526221,\n",
       "  'colidx': 6,\n",
       "  'rowidx': 0},\n",
       " {'colname': 'sum_base_price',\n",
       "  'rowid': ('N', 'O'),\n",
       "  'value': 10710225854.755188,\n",
       "  'colidx': 3,\n",
       "  'rowidx': 2},\n",
       " {'colname': 'sum_base_price',\n",
       "  'rowid': ('R', 'F'),\n",
       "  'value': 5174102300.640319,\n",
       "  'colidx': 3,\n",
       "  'rowidx': 3},\n",
       " {'colname': 'avg_qty',\n",
       "  'rowid': ('N', 'F'),\n",
       "  'value': 25.05703707770849,\n",
       "  'colidx': 6,\n",
       "  'rowidx': 1},\n",
       " {'colname': 'avg_price',\n",
       "  'rowid': ('N', 'F'),\n",
       "  'value': 36249.930455476184,\n",
       "  'colidx': 7,\n",
       "  'rowidx': 1},\n",
       " {'colname': 'sum_disc_price',\n",
       "  'rowid': ('N', 'O'),\n",
       "  'value': 10224149786.93517,\n",
       "  'colidx': 4,\n",
       "  'rowidx': 2},\n",
       " {'colname': 'sum_qty',\n",
       "  'rowid': ('A', 'F'),\n",
       "  'value': 3857488.9962900397,\n",
       "  'colidx': 2,\n",
       "  'rowidx': 0},\n",
       " {'colname': 'avg_disc',\n",
       "  'rowid': ('N', 'O'),\n",
       "  'value': 0.04999175381697957,\n",
       "  'colidx': 8,\n",
       "  'rowidx': 2},\n",
       " {'colname': 'count_order',\n",
       "  'rowid': ('N', 'O'),\n",
       "  'value': 288137.8221146995,\n",
       "  'colidx': 9,\n",
       "  'rowidx': 2},\n",
       " {'colname': 'count_order',\n",
       "  'rowid': ('R', 'F'),\n",
       "  'value': 143037.05618438622,\n",
       "  'colidx': 9,\n",
       "  'rowidx': 3},\n",
       " {'colname': 'avg_disc',\n",
       "  'rowid': ('R', 'F'),\n",
       "  'value': 0.05012887289122321,\n",
       "  'colidx': 8,\n",
       "  'rowidx': 3},\n",
       " {'colname': 'sum_qty',\n",
       "  'rowid': ('N', 'F'),\n",
       "  'value': 100052.37694728826,\n",
       "  'colidx': 2,\n",
       "  'rowidx': 1},\n",
       " {'colname': 'sum_disc_price',\n",
       "  'rowid': ('R', 'F'),\n",
       "  'value': 4914424022.233269,\n",
       "  'colidx': 4,\n",
       "  'rowidx': 3},\n",
       " {'colname': 'sum_qty',\n",
       "  'rowid': ('N', 'O'),\n",
       "  'value': 7312681.859289101,\n",
       "  'colidx': 2,\n",
       "  'rowidx': 2},\n",
       " {'colname': 'count_order',\n",
       "  'rowid': ('A', 'F'),\n",
       "  'value': 142749.24730443582,\n",
       "  'colidx': 9,\n",
       "  'rowidx': 0},\n",
       " {'colname': 'sum_charge',\n",
       "  'rowid': ('A', 'F'),\n",
       "  'value': 5045893343.210264,\n",
       "  'colidx': 5,\n",
       "  'rowidx': 0},\n",
       " {'colname': 'avg_disc',\n",
       "  'rowid': ('A', 'F'),\n",
       "  'value': 0.05022026235626057,\n",
       "  'colidx': 8,\n",
       "  'rowidx': 0},\n",
       " {'colname': 'avg_disc',\n",
       "  'rowid': ('N', 'F'),\n",
       "  'value': 0.04995802229356898,\n",
       "  'colidx': 8,\n",
       "  'rowidx': 1},\n",
       " {'colname': 'sum_charge',\n",
       "  'rowid': ('N', 'F'),\n",
       "  'value': 126853970.80744098,\n",
       "  'colidx': 5,\n",
       "  'rowidx': 1},\n",
       " {'colname': 'count_order',\n",
       "  'rowid': ('N', 'F'),\n",
       "  'value': 4100.965872116164,\n",
       "  'colidx': 9,\n",
       "  'rowidx': 1},\n",
       " {'colname': 'sum_qty',\n",
       "  'rowid': ('R', 'F'),\n",
       "  'value': 3828609.7640175517,\n",
       "  'colidx': 2,\n",
       "  'rowidx': 3},\n",
       " {'colname': 'sum_disc_price',\n",
       "  'rowid': ('A', 'F'),\n",
       "  'value': 5116636172.695285,\n",
       "  'colidx': 4,\n",
       "  'rowidx': 0},\n",
       " {'colname': 'avg_price',\n",
       "  'rowid': ('N', 'O'),\n",
       "  'value': 36162.96519024596,\n",
       "  'colidx': 7,\n",
       "  'rowidx': 2},\n",
       " {'colname': 'avg_qty',\n",
       "  'rowid': ('N', 'O'),\n",
       "  'value': 25.63638516690866,\n",
       "  'colidx': 6,\n",
       "  'rowidx': 2},\n",
       " {'colname': 'sum_base_price',\n",
       "  'rowid': ('A', 'F'),\n",
       "  'value': 5422314213.3975115,\n",
       "  'colidx': 3,\n",
       "  'rowidx': 0},\n",
       " {'colname': 'sum_charge',\n",
       "  'rowid': ('N', 'O'),\n",
       "  'value': 10062465994.683754,\n",
       "  'colidx': 5,\n",
       "  'rowidx': 2},\n",
       " {'colname': 'sum_charge',\n",
       "  'rowid': ('R', 'F'),\n",
       "  'value': 5255059659.793173,\n",
       "  'colidx': 5,\n",
       "  'rowidx': 3},\n",
       " {'colname': 'sum_base_price',\n",
       "  'rowid': ('N', 'F'),\n",
       "  'value': 136233014.10269928,\n",
       "  'colidx': 3,\n",
       "  'rowidx': 1},\n",
       " {'colname': 'avg_qty',\n",
       "  'rowid': ('R', 'F'),\n",
       "  'value': 25.500825480969226,\n",
       "  'colidx': 6,\n",
       "  'rowidx': 3},\n",
       " {'colname': 'avg_price',\n",
       "  'rowid': ('R', 'F'),\n",
       "  'value': 35911.562106636804,\n",
       "  'colidx': 7,\n",
       "  'rowidx': 3},\n",
       " {'colname': 'sum_disc_price',\n",
       "  'rowid': ('N', 'F'),\n",
       "  'value': 122809455.49608244,\n",
       "  'colidx': 4,\n",
       "  'rowidx': 1}]"
      ]
     },
     "execution_count": 108,
     "metadata": {},
     "output_type": "execute_result"
    }
   ],
   "source": [
    "allinfo = [\n",
    "    {\"colname\": adentry['col'],\n",
    "    \"rowid\": tuple(adentry['row'].values()),\n",
    "    \"value\": adentry['value'][0],\n",
    "    \"colidx\": colidxes[adentry['col']],\n",
    "    \"rowidx\": rowidxes[tuple(adentry['row'].values())]}\n",
    "    for adidx, adentry in alldata.items()\n",
    "]\n",
    "allinfo"
   ]
  },
  {
   "cell_type": "code",
   "execution_count": 173,
   "id": "9e356994",
   "metadata": {},
   "outputs": [
    {
     "data": {
      "text/plain": [
       "({2: 'sum_qty',\n",
       "  3: 'sum_base_price',\n",
       "  4: 'sum_disc_price',\n",
       "  5: 'sum_charge',\n",
       "  6: 'avg_qty',\n",
       "  7: 'avg_price',\n",
       "  8: 'avg_disc',\n",
       "  9: 'count_order'},\n",
       " {0: ('A', 'F'), 1: ('N', 'F'), 2: ('N', 'O'), 3: ('R', 'F')})"
      ]
     },
     "execution_count": 173,
     "metadata": {},
     "output_type": "execute_result"
    }
   ],
   "source": [
    "colnames = {}\n",
    "rownames = {}\n",
    "for entry in allinfo:\n",
    "    colnames[entry['colidx']] = entry['colname']\n",
    "    rownames[entry['rowidx']] = entry['rowid']\n",
    "colnames, rownames"
   ]
  },
  {
   "cell_type": "code",
   "execution_count": 110,
   "id": "d913781b",
   "metadata": {},
   "outputs": [
    {
     "data": {
      "text/plain": [
       "[{'colname': 'sum_qty',\n",
       "  'rowid': ('A', 'F'),\n",
       "  'value': 3857488.9962900397,\n",
       "  'colidx': 2,\n",
       "  'rowidx': 0},\n",
       " {'colname': 'sum_qty',\n",
       "  'rowid': ('N', 'F'),\n",
       "  'value': 100052.37694728826,\n",
       "  'colidx': 2,\n",
       "  'rowidx': 1},\n",
       " {'colname': 'sum_qty',\n",
       "  'rowid': ('N', 'O'),\n",
       "  'value': 7312681.859289101,\n",
       "  'colidx': 2,\n",
       "  'rowidx': 2},\n",
       " {'colname': 'sum_qty',\n",
       "  'rowid': ('R', 'F'),\n",
       "  'value': 3828609.7640175517,\n",
       "  'colidx': 2,\n",
       "  'rowidx': 3},\n",
       " {'colname': 'sum_base_price',\n",
       "  'rowid': ('A', 'F'),\n",
       "  'value': 5422314213.3975115,\n",
       "  'colidx': 3,\n",
       "  'rowidx': 0},\n",
       " {'colname': 'sum_base_price',\n",
       "  'rowid': ('N', 'F'),\n",
       "  'value': 136233014.10269928,\n",
       "  'colidx': 3,\n",
       "  'rowidx': 1},\n",
       " {'colname': 'sum_base_price',\n",
       "  'rowid': ('N', 'O'),\n",
       "  'value': 10710225854.755188,\n",
       "  'colidx': 3,\n",
       "  'rowidx': 2},\n",
       " {'colname': 'sum_base_price',\n",
       "  'rowid': ('R', 'F'),\n",
       "  'value': 5174102300.640319,\n",
       "  'colidx': 3,\n",
       "  'rowidx': 3},\n",
       " {'colname': 'sum_disc_price',\n",
       "  'rowid': ('A', 'F'),\n",
       "  'value': 5116636172.695285,\n",
       "  'colidx': 4,\n",
       "  'rowidx': 0},\n",
       " {'colname': 'sum_disc_price',\n",
       "  'rowid': ('N', 'F'),\n",
       "  'value': 122809455.49608244,\n",
       "  'colidx': 4,\n",
       "  'rowidx': 1},\n",
       " {'colname': 'sum_disc_price',\n",
       "  'rowid': ('N', 'O'),\n",
       "  'value': 10224149786.93517,\n",
       "  'colidx': 4,\n",
       "  'rowidx': 2},\n",
       " {'colname': 'sum_disc_price',\n",
       "  'rowid': ('R', 'F'),\n",
       "  'value': 4914424022.233269,\n",
       "  'colidx': 4,\n",
       "  'rowidx': 3},\n",
       " {'colname': 'sum_charge',\n",
       "  'rowid': ('A', 'F'),\n",
       "  'value': 5045893343.210264,\n",
       "  'colidx': 5,\n",
       "  'rowidx': 0},\n",
       " {'colname': 'sum_charge',\n",
       "  'rowid': ('N', 'F'),\n",
       "  'value': 126853970.80744098,\n",
       "  'colidx': 5,\n",
       "  'rowidx': 1},\n",
       " {'colname': 'sum_charge',\n",
       "  'rowid': ('N', 'O'),\n",
       "  'value': 10062465994.683754,\n",
       "  'colidx': 5,\n",
       "  'rowidx': 2},\n",
       " {'colname': 'sum_charge',\n",
       "  'rowid': ('R', 'F'),\n",
       "  'value': 5255059659.793173,\n",
       "  'colidx': 5,\n",
       "  'rowidx': 3},\n",
       " {'colname': 'avg_qty',\n",
       "  'rowid': ('A', 'F'),\n",
       "  'value': 25.46072926526221,\n",
       "  'colidx': 6,\n",
       "  'rowidx': 0},\n",
       " {'colname': 'avg_qty',\n",
       "  'rowid': ('N', 'F'),\n",
       "  'value': 25.05703707770849,\n",
       "  'colidx': 6,\n",
       "  'rowidx': 1},\n",
       " {'colname': 'avg_qty',\n",
       "  'rowid': ('N', 'O'),\n",
       "  'value': 25.63638516690866,\n",
       "  'colidx': 6,\n",
       "  'rowidx': 2},\n",
       " {'colname': 'avg_qty',\n",
       "  'rowid': ('R', 'F'),\n",
       "  'value': 25.500825480969226,\n",
       "  'colidx': 6,\n",
       "  'rowidx': 3},\n",
       " {'colname': 'avg_price',\n",
       "  'rowid': ('A', 'F'),\n",
       "  'value': 35911.862323141315,\n",
       "  'colidx': 7,\n",
       "  'rowidx': 0},\n",
       " {'colname': 'avg_price',\n",
       "  'rowid': ('N', 'F'),\n",
       "  'value': 36249.930455476184,\n",
       "  'colidx': 7,\n",
       "  'rowidx': 1},\n",
       " {'colname': 'avg_price',\n",
       "  'rowid': ('N', 'O'),\n",
       "  'value': 36162.96519024596,\n",
       "  'colidx': 7,\n",
       "  'rowidx': 2},\n",
       " {'colname': 'avg_price',\n",
       "  'rowid': ('R', 'F'),\n",
       "  'value': 35911.562106636804,\n",
       "  'colidx': 7,\n",
       "  'rowidx': 3},\n",
       " {'colname': 'avg_disc',\n",
       "  'rowid': ('A', 'F'),\n",
       "  'value': 0.05022026235626057,\n",
       "  'colidx': 8,\n",
       "  'rowidx': 0},\n",
       " {'colname': 'avg_disc',\n",
       "  'rowid': ('N', 'F'),\n",
       "  'value': 0.04995802229356898,\n",
       "  'colidx': 8,\n",
       "  'rowidx': 1},\n",
       " {'colname': 'avg_disc',\n",
       "  'rowid': ('N', 'O'),\n",
       "  'value': 0.04999175381697957,\n",
       "  'colidx': 8,\n",
       "  'rowidx': 2},\n",
       " {'colname': 'avg_disc',\n",
       "  'rowid': ('R', 'F'),\n",
       "  'value': 0.05012887289122321,\n",
       "  'colidx': 8,\n",
       "  'rowidx': 3},\n",
       " {'colname': 'count_order',\n",
       "  'rowid': ('A', 'F'),\n",
       "  'value': 142749.24730443582,\n",
       "  'colidx': 9,\n",
       "  'rowidx': 0},\n",
       " {'colname': 'count_order',\n",
       "  'rowid': ('N', 'F'),\n",
       "  'value': 4100.965872116164,\n",
       "  'colidx': 9,\n",
       "  'rowidx': 1},\n",
       " {'colname': 'count_order',\n",
       "  'rowid': ('N', 'O'),\n",
       "  'value': 288137.8221146995,\n",
       "  'colidx': 9,\n",
       "  'rowidx': 2},\n",
       " {'colname': 'count_order',\n",
       "  'rowid': ('R', 'F'),\n",
       "  'value': 143037.05618438622,\n",
       "  'colidx': 9,\n",
       "  'rowidx': 3}]"
      ]
     },
     "execution_count": 110,
     "metadata": {},
     "output_type": "execute_result"
    }
   ],
   "source": [
    "sorted(allinfo, key=lambda x: (x['colidx'], x['rowidx']))"
   ]
  },
  {
   "cell_type": "code",
   "execution_count": 171,
   "id": "2fcae53a",
   "metadata": {},
   "outputs": [
    {
     "data": {
      "text/html": [
       "<div><style>\n",
       ".dataframe > thead > tr,\n",
       ".dataframe > tbody > tr {\n",
       "  text-align: right;\n",
       "  white-space: pre-wrap;\n",
       "}\n",
       "</style>\n",
       "<small>shape: (4, 9)</small><table border=\"1\" class=\"dataframe\"><thead><tr><th>rowidx</th><th>2</th><th>3</th><th>4</th><th>5</th><th>6</th><th>7</th><th>8</th><th>9</th></tr><tr><td>i64</td><td>f64</td><td>f64</td><td>f64</td><td>f64</td><td>f64</td><td>f64</td><td>f64</td><td>f64</td></tr></thead><tbody><tr><td>0</td><td>3.8575e6</td><td>5.4223e9</td><td>5.1166e9</td><td>5.0459e9</td><td>25.460729</td><td>35911.862323</td><td>0.05022</td><td>142749.247304</td></tr><tr><td>1</td><td>100052.376947</td><td>1.3623e8</td><td>1.2281e8</td><td>1.2685e8</td><td>25.057037</td><td>36249.930455</td><td>0.049958</td><td>4100.965872</td></tr><tr><td>2</td><td>7.3127e6</td><td>1.0710e10</td><td>1.0224e10</td><td>1.0062e10</td><td>25.636385</td><td>36162.96519</td><td>0.049992</td><td>288137.822115</td></tr><tr><td>3</td><td>3.8286e6</td><td>5.1741e9</td><td>4.9144e9</td><td>5.2551e9</td><td>25.500825</td><td>35911.562107</td><td>0.050129</td><td>143037.056184</td></tr></tbody></table></div>"
      ],
      "text/plain": [
       "shape: (4, 9)\n",
       "┌────────┬────────────┬───────────┬───────────┬───┬───────────┬────────────┬──────────┬────────────┐\n",
       "│ rowidx ┆ 2          ┆ 3         ┆ 4         ┆ … ┆ 6         ┆ 7          ┆ 8        ┆ 9          │\n",
       "│ ---    ┆ ---        ┆ ---       ┆ ---       ┆   ┆ ---       ┆ ---        ┆ ---      ┆ ---        │\n",
       "│ i64    ┆ f64        ┆ f64       ┆ f64       ┆   ┆ f64       ┆ f64        ┆ f64      ┆ f64        │\n",
       "╞════════╪════════════╪═══════════╪═══════════╪═══╪═══════════╪════════════╪══════════╪════════════╡\n",
       "│ 0      ┆ 3.8575e6   ┆ 5.4223e9  ┆ 5.1166e9  ┆ … ┆ 25.460729 ┆ 35911.8623 ┆ 0.05022  ┆ 142749.247 │\n",
       "│        ┆            ┆           ┆           ┆   ┆           ┆ 23         ┆          ┆ 304        │\n",
       "│ 1      ┆ 100052.376 ┆ 1.3623e8  ┆ 1.2281e8  ┆ … ┆ 25.057037 ┆ 36249.9304 ┆ 0.049958 ┆ 4100.96587 │\n",
       "│        ┆ 947        ┆           ┆           ┆   ┆           ┆ 55         ┆          ┆ 2          │\n",
       "│ 2      ┆ 7.3127e6   ┆ 1.0710e10 ┆ 1.0224e10 ┆ … ┆ 25.636385 ┆ 36162.9651 ┆ 0.049992 ┆ 288137.822 │\n",
       "│        ┆            ┆           ┆           ┆   ┆           ┆ 9          ┆          ┆ 115        │\n",
       "│ 3      ┆ 3.8286e6   ┆ 5.1741e9  ┆ 4.9144e9  ┆ … ┆ 25.500825 ┆ 35911.5621 ┆ 0.050129 ┆ 143037.056 │\n",
       "│        ┆            ┆           ┆           ┆   ┆           ┆ 07         ┆          ┆ 184        │\n",
       "└────────┴────────────┴───────────┴───────────┴───┴───────────┴────────────┴──────────┴────────────┘"
      ]
     },
     "execution_count": 171,
     "metadata": {},
     "output_type": "execute_result"
    }
   ],
   "source": [
    "numericdf = pl.DataFrame(allinfo).select(\n",
    "    pl.col('rowidx'),\n",
    "    pl.col('colidx'),\n",
    "    pl.col('value')\n",
    ").sort(by=['colidx', 'rowidx']).pivot(\n",
    "    index='rowidx',\n",
    "    on='colidx',\n",
    "    values='value',\n",
    "    maintain_order=True\n",
    ")\n",
    "numericdf"
   ]
  },
  {
   "cell_type": "code",
   "execution_count": 196,
   "id": "358b77d1",
   "metadata": {},
   "outputs": [
    {
     "data": {
      "text/html": [
       "<div><style>\n",
       ".dataframe > thead > tr,\n",
       ".dataframe > tbody > tr {\n",
       "  text-align: right;\n",
       "  white-space: pre-wrap;\n",
       "}\n",
       "</style>\n",
       "<small>shape: (4, 9)</small><table border=\"1\" class=\"dataframe\"><thead><tr><th>rowidx</th><th>sum_qty</th><th>sum_base_price</th><th>sum_disc_price</th><th>sum_charge</th><th>avg_qty</th><th>avg_price</th><th>avg_disc</th><th>count_order</th></tr><tr><td>i64</td><td>f64</td><td>f64</td><td>f64</td><td>f64</td><td>f64</td><td>f64</td><td>f64</td><td>f64</td></tr></thead><tbody><tr><td>0</td><td>3.8575e6</td><td>5.4223e9</td><td>5.1166e9</td><td>5.0459e9</td><td>25.460729</td><td>35911.862323</td><td>0.05022</td><td>142749.247304</td></tr><tr><td>1</td><td>100052.376947</td><td>1.3623e8</td><td>1.2281e8</td><td>1.2685e8</td><td>25.057037</td><td>36249.930455</td><td>0.049958</td><td>4100.965872</td></tr><tr><td>2</td><td>7.3127e6</td><td>1.0710e10</td><td>1.0224e10</td><td>1.0062e10</td><td>25.636385</td><td>36162.96519</td><td>0.049992</td><td>288137.822115</td></tr><tr><td>3</td><td>3.8286e6</td><td>5.1741e9</td><td>4.9144e9</td><td>5.2551e9</td><td>25.500825</td><td>35911.562107</td><td>0.050129</td><td>143037.056184</td></tr></tbody></table></div>"
      ],
      "text/plain": [
       "shape: (4, 9)\n",
       "┌────────┬────────────┬────────────┬────────────┬───┬───────────┬───────────┬──────────┬───────────┐\n",
       "│ rowidx ┆ sum_qty    ┆ sum_base_p ┆ sum_disc_p ┆ … ┆ avg_qty   ┆ avg_price ┆ avg_disc ┆ count_ord │\n",
       "│ ---    ┆ ---        ┆ rice       ┆ rice       ┆   ┆ ---       ┆ ---       ┆ ---      ┆ er        │\n",
       "│ i64    ┆ f64        ┆ ---        ┆ ---        ┆   ┆ f64       ┆ f64       ┆ f64      ┆ ---       │\n",
       "│        ┆            ┆ f64        ┆ f64        ┆   ┆           ┆           ┆          ┆ f64       │\n",
       "╞════════╪════════════╪════════════╪════════════╪═══╪═══════════╪═══════════╪══════════╪═══════════╡\n",
       "│ 0      ┆ 3.8575e6   ┆ 5.4223e9   ┆ 5.1166e9   ┆ … ┆ 25.460729 ┆ 35911.862 ┆ 0.05022  ┆ 142749.24 │\n",
       "│        ┆            ┆            ┆            ┆   ┆           ┆ 323       ┆          ┆ 7304      │\n",
       "│ 1      ┆ 100052.376 ┆ 1.3623e8   ┆ 1.2281e8   ┆ … ┆ 25.057037 ┆ 36249.930 ┆ 0.049958 ┆ 4100.9658 │\n",
       "│        ┆ 947        ┆            ┆            ┆   ┆           ┆ 455       ┆          ┆ 72        │\n",
       "│ 2      ┆ 7.3127e6   ┆ 1.0710e10  ┆ 1.0224e10  ┆ … ┆ 25.636385 ┆ 36162.965 ┆ 0.049992 ┆ 288137.82 │\n",
       "│        ┆            ┆            ┆            ┆   ┆           ┆ 19        ┆          ┆ 2115      │\n",
       "│ 3      ┆ 3.8286e6   ┆ 5.1741e9   ┆ 4.9144e9   ┆ … ┆ 25.500825 ┆ 35911.562 ┆ 0.050129 ┆ 143037.05 │\n",
       "│        ┆            ┆            ┆            ┆   ┆           ┆ 107       ┆          ┆ 6184      │\n",
       "└────────┴────────────┴────────────┴────────────┴───┴───────────┴───────────┴──────────┴───────────┘"
      ]
     },
     "execution_count": 196,
     "metadata": {},
     "output_type": "execute_result"
    }
   ],
   "source": [
    "namedcolsdf = numericdf.with_columns(\n",
    "    pl.col(str(i)).alias(colnames[i])\n",
    "    for i in range(2,10)\n",
    ").drop([str(x) for x in range(2,10)])\n",
    "namedcolsdf"
   ]
  },
  {
   "cell_type": "code",
   "execution_count": 197,
   "id": "6b5d989b",
   "metadata": {},
   "outputs": [
    {
     "data": {
      "text/html": [
       "<div><style>\n",
       ".dataframe > thead > tr,\n",
       ".dataframe > tbody > tr {\n",
       "  text-align: right;\n",
       "  white-space: pre-wrap;\n",
       "}\n",
       "</style>\n",
       "<small>shape: (4, 10)</small><table border=\"1\" class=\"dataframe\"><thead><tr><th>l_returnflag</th><th>l_linestatus</th><th>sum_qty</th><th>sum_base_price</th><th>sum_disc_price</th><th>sum_charge</th><th>avg_qty</th><th>avg_price</th><th>avg_disc</th><th>count_order</th></tr><tr><td>str</td><td>str</td><td>f64</td><td>f64</td><td>f64</td><td>f64</td><td>f64</td><td>f64</td><td>f64</td><td>f64</td></tr></thead><tbody><tr><td>&quot;A&quot;</td><td>&quot;F&quot;</td><td>3.8575e6</td><td>5.4223e9</td><td>5.1166e9</td><td>5.0459e9</td><td>25.460729</td><td>35911.862323</td><td>0.05022</td><td>142749.247304</td></tr><tr><td>&quot;N&quot;</td><td>&quot;F&quot;</td><td>100052.376947</td><td>1.3623e8</td><td>1.2281e8</td><td>1.2685e8</td><td>25.057037</td><td>36249.930455</td><td>0.049958</td><td>4100.965872</td></tr><tr><td>&quot;N&quot;</td><td>&quot;O&quot;</td><td>7.3127e6</td><td>1.0710e10</td><td>1.0224e10</td><td>1.0062e10</td><td>25.636385</td><td>36162.96519</td><td>0.049992</td><td>288137.822115</td></tr><tr><td>&quot;R&quot;</td><td>&quot;F&quot;</td><td>3.8286e6</td><td>5.1741e9</td><td>4.9144e9</td><td>5.2551e9</td><td>25.500825</td><td>35911.562107</td><td>0.050129</td><td>143037.056184</td></tr></tbody></table></div>"
      ],
      "text/plain": [
       "shape: (4, 10)\n",
       "┌───────────┬───────────┬───────────┬───────────┬───┬───────────┬───────────┬──────────┬───────────┐\n",
       "│ l_returnf ┆ l_linesta ┆ sum_qty   ┆ sum_base_ ┆ … ┆ avg_qty   ┆ avg_price ┆ avg_disc ┆ count_ord │\n",
       "│ lag       ┆ tus       ┆ ---       ┆ price     ┆   ┆ ---       ┆ ---       ┆ ---      ┆ er        │\n",
       "│ ---       ┆ ---       ┆ f64       ┆ ---       ┆   ┆ f64       ┆ f64       ┆ f64      ┆ ---       │\n",
       "│ str       ┆ str       ┆           ┆ f64       ┆   ┆           ┆           ┆          ┆ f64       │\n",
       "╞═══════════╪═══════════╪═══════════╪═══════════╪═══╪═══════════╪═══════════╪══════════╪═══════════╡\n",
       "│ A         ┆ F         ┆ 3.8575e6  ┆ 5.4223e9  ┆ … ┆ 25.460729 ┆ 35911.862 ┆ 0.05022  ┆ 142749.24 │\n",
       "│           ┆           ┆           ┆           ┆   ┆           ┆ 323       ┆          ┆ 7304      │\n",
       "│ N         ┆ F         ┆ 100052.37 ┆ 1.3623e8  ┆ … ┆ 25.057037 ┆ 36249.930 ┆ 0.049958 ┆ 4100.9658 │\n",
       "│           ┆           ┆ 6947      ┆           ┆   ┆           ┆ 455       ┆          ┆ 72        │\n",
       "│ N         ┆ O         ┆ 7.3127e6  ┆ 1.0710e10 ┆ … ┆ 25.636385 ┆ 36162.965 ┆ 0.049992 ┆ 288137.82 │\n",
       "│           ┆           ┆           ┆           ┆   ┆           ┆ 19        ┆          ┆ 2115      │\n",
       "│ R         ┆ F         ┆ 3.8286e6  ┆ 5.1741e9  ┆ … ┆ 25.500825 ┆ 35911.562 ┆ 0.050129 ┆ 143037.05 │\n",
       "│           ┆           ┆           ┆           ┆   ┆           ┆ 107       ┆          ┆ 6184      │\n",
       "└───────────┴───────────┴───────────┴───────────┴───┴───────────┴───────────┴──────────┴───────────┘"
      ]
     },
     "execution_count": 197,
     "metadata": {},
     "output_type": "execute_result"
    }
   ],
   "source": [
    "outputdf = templatedf.with_columns(\n",
    "    pl.col(INDEX_COLS),\n",
    ").with_columns(\n",
    "    namedcolsdf.select(pl.all().exclude('rowidx'))\n",
    ")\n",
    "outputdf"
   ]
  },
  {
   "cell_type": "code",
   "execution_count": 199,
   "id": "004d23d0",
   "metadata": {},
   "outputs": [],
   "source": [
    "outputdf.write_csv(os.path.join(OUTPUT_DIR, 'output.csv'))"
   ]
  }
 ],
 "metadata": {
  "kernelspec": {
   "display_name": ".venv",
   "language": "python",
   "name": "python3"
  },
  "language_info": {
   "codemirror_mode": {
    "name": "ipython",
    "version": 3
   },
   "file_extension": ".py",
   "mimetype": "text/x-python",
   "name": "python",
   "nbconvert_exporter": "python",
   "pygments_lexer": "ipython3",
   "version": "3.11.7"
  }
 },
 "nbformat": 4,
 "nbformat_minor": 5
}
