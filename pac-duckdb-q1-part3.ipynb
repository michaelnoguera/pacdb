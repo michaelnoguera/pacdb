{
 "cells": [
  {
   "cell_type": "code",
   "execution_count": 1,
   "id": "eba650e4",
   "metadata": {},
   "outputs": [
    {
     "name": "stdout",
     "output_type": "stream",
     "text": [
      "GENERATE = False, so we will load saved output from files rather than recomputing.\n"
     ]
    }
   ],
   "source": [
    "#!/usr/bin/env python\n",
    "# coding: utf-8\n",
    "\n",
    "EXPERIMENT = 'pac-duckdb-q1-part3'\n",
    "OUTPUT_DIR = f'./outputs/{EXPERIMENT}'\n",
    "GENERATE = False\n",
    "USE_EVEN_NUMBER_OF_INPUT_ROWS = False\n",
    "\n",
    "if GENERATE:\n",
    "    print(\"GENERATE = True, so we will generate new samples.\")\n",
    "else:\n",
    "    print(\"GENERATE = False, so we will load saved output from files rather than recomputing.\")\n",
    "\n",
    "import os\n",
    "from typing import List\n",
    "if not os.path.exists(OUTPUT_DIR):\n",
    "    os.makedirs(OUTPUT_DIR)\n",
    "\n",
    "import numpy as np\n",
    "import pickle\n",
    "\n",
    "import duckdb\n",
    "import polars as pl\n",
    "import pyarrow as pa"
   ]
  },
  {
   "cell_type": "code",
   "execution_count": null,
   "id": "52c34dce",
   "metadata": {},
   "outputs": [],
   "source": [
    "# Import the output from the previous step\n",
    "ZIPFILE = f'./outputs/e2e-q1.zip'\n",
    "TEMPLATE = './outputs/pac-duckdb-q1/template.pkl'\n",
    "REVERSEMAP = './outputs/pac-duckdb-q1/reverse_map.pkl'\n",
    "\n",
    "import zipfile\n",
    "import numpy as np\n",
    "import pickle\n",
    "import json\n",
    "import io\n",
    "import parse"
   ]
  },
  {
   "cell_type": "code",
   "execution_count": null,
   "id": "2faf73fb",
   "metadata": {},
   "outputs": [],
   "source": [
    "# Import saved variables from the first step\n",
    "INDEX_COLS = pickle.load(open('./outputs/pac-duckdb-q1/INDEX_COLS.pkl', 'rb'))\n",
    "OUTPUT_COLS = pickle.load(open('./outputs/pac-duckdb-q1/OUTPUT_COLS.pkl', 'rb'))\n",
    "reversemap = pickle.load(open(REVERSEMAP, 'rb'))\n",
    "templatedf: pl.DataFrame = pickle.load(open(TEMPLATE, 'rb'))\n"
   ]
  },
  {
   "cell_type": "code",
   "execution_count": 4,
   "id": "ab3a80fe",
   "metadata": {},
   "outputs": [
    {
     "data": {
      "text/plain": [
       "dict_keys([20, 16, 6, 7, 17, 21, 10, 0, 26, 30, 31, 27, 1, 11, 2, 28, 12, 24, 25, 13, 29, 3, 8, 22, 18, 4, 14, 15, 5, 19, 23, 9])"
      ]
     },
     "execution_count": 4,
     "metadata": {},
     "output_type": "execute_result"
    }
   ],
   "source": [
    "# load the json input files\n",
    "# {'col': column name as string,\n",
    "#  'row': group-by column values as dict (effectively a row id),\n",
    "#  'values': [ 1000x values ] }\n",
    "alldata = {}\n",
    "\n",
    "pattern = parse.compile(\"{n}.json\")\n",
    "\n",
    "with zipfile.ZipFile(ZIPFILE, 'r') as zf:\n",
    "    for filename in zf.namelist():\n",
    "        if filename.endswith('.json'):\n",
    "            with zf.open(filename) as f:\n",
    "                filenumber = int(pattern.parse(filename).named['n'])\n",
    "                data = json.load(f)\n",
    "                d: dict = data\n",
    "                alldata[filenumber] = d\n",
    "alldata.keys()"
   ]
  },
  {
   "cell_type": "code",
   "execution_count": null,
   "id": "0b249a7b",
   "metadata": {},
   "outputs": [],
   "source": [
    "# Cursed data shuffling to reidentify what row goes where, what column goes where, and what the labels should be on everything\n",
    "colidxes = {}\n",
    "for col in OUTPUT_COLS:\n",
    "    colidxes[col] = templatedf.get_column_index(col)\n",
    "rowidxes = {}\n",
    "for row in templatedf.select(INDEX_COLS).iter_rows():\n",
    "    rowidxes[tuple(row)] = rowidxes.get(tuple(row), len(rowidxes))\n",
    "\n",
    "allinfo = [\n",
    "    {\"colname\": adentry['col'],\n",
    "    \"rowid\": tuple(adentry['row'].values()),\n",
    "    \"value\": adentry['value'][0],\n",
    "    \"colidx\": colidxes[adentry['col']],\n",
    "    \"rowidx\": rowidxes[tuple(adentry['row'].values())]}\n",
    "    for adidx, adentry in alldata.items()\n",
    "]\n",
    "\n",
    "colnames = {}\n",
    "rownames = {}\n",
    "for entry in allinfo:\n",
    "    colnames[entry['colidx']] = entry['colname']\n",
    "    rownames[entry['rowidx']] = entry['rowid']"
   ]
  },
  {
   "cell_type": "code",
   "execution_count": null,
   "id": "2fcae53a",
   "metadata": {},
   "outputs": [
    {
     "data": {
      "text/html": [
       "<div><style>\n",
       ".dataframe > thead > tr,\n",
       ".dataframe > tbody > tr {\n",
       "  text-align: right;\n",
       "  white-space: pre-wrap;\n",
       "}\n",
       "</style>\n",
       "<small>shape: (4, 9)</small><table border=\"1\" class=\"dataframe\"><thead><tr><th>rowidx</th><th>2</th><th>3</th><th>4</th><th>5</th><th>6</th><th>7</th><th>8</th><th>9</th></tr><tr><td>i64</td><td>f64</td><td>f64</td><td>f64</td><td>f64</td><td>f64</td><td>f64</td><td>f64</td><td>f64</td></tr></thead><tbody><tr><td>0</td><td>3.8575e6</td><td>5.4223e9</td><td>5.1166e9</td><td>5.0459e9</td><td>25.460729</td><td>35911.862323</td><td>0.05022</td><td>142749.247304</td></tr><tr><td>1</td><td>100052.376947</td><td>1.3623e8</td><td>1.2281e8</td><td>1.2685e8</td><td>25.057037</td><td>36249.930455</td><td>0.049958</td><td>4100.965872</td></tr><tr><td>2</td><td>7.3127e6</td><td>1.0710e10</td><td>1.0224e10</td><td>1.0062e10</td><td>25.636385</td><td>36162.96519</td><td>0.049992</td><td>288137.822115</td></tr><tr><td>3</td><td>3.8286e6</td><td>5.1741e9</td><td>4.9144e9</td><td>5.2551e9</td><td>25.500825</td><td>35911.562107</td><td>0.050129</td><td>143037.056184</td></tr></tbody></table></div>"
      ],
      "text/plain": [
       "shape: (4, 9)\n",
       "┌────────┬────────────┬───────────┬───────────┬───┬───────────┬────────────┬──────────┬────────────┐\n",
       "│ rowidx ┆ 2          ┆ 3         ┆ 4         ┆ … ┆ 6         ┆ 7          ┆ 8        ┆ 9          │\n",
       "│ ---    ┆ ---        ┆ ---       ┆ ---       ┆   ┆ ---       ┆ ---        ┆ ---      ┆ ---        │\n",
       "│ i64    ┆ f64        ┆ f64       ┆ f64       ┆   ┆ f64       ┆ f64        ┆ f64      ┆ f64        │\n",
       "╞════════╪════════════╪═══════════╪═══════════╪═══╪═══════════╪════════════╪══════════╪════════════╡\n",
       "│ 0      ┆ 3.8575e6   ┆ 5.4223e9  ┆ 5.1166e9  ┆ … ┆ 25.460729 ┆ 35911.8623 ┆ 0.05022  ┆ 142749.247 │\n",
       "│        ┆            ┆           ┆           ┆   ┆           ┆ 23         ┆          ┆ 304        │\n",
       "│ 1      ┆ 100052.376 ┆ 1.3623e8  ┆ 1.2281e8  ┆ … ┆ 25.057037 ┆ 36249.9304 ┆ 0.049958 ┆ 4100.96587 │\n",
       "│        ┆ 947        ┆           ┆           ┆   ┆           ┆ 55         ┆          ┆ 2          │\n",
       "│ 2      ┆ 7.3127e6   ┆ 1.0710e10 ┆ 1.0224e10 ┆ … ┆ 25.636385 ┆ 36162.9651 ┆ 0.049992 ┆ 288137.822 │\n",
       "│        ┆            ┆           ┆           ┆   ┆           ┆ 9          ┆          ┆ 115        │\n",
       "│ 3      ┆ 3.8286e6   ┆ 5.1741e9  ┆ 4.9144e9  ┆ … ┆ 25.500825 ┆ 35911.5621 ┆ 0.050129 ┆ 143037.056 │\n",
       "│        ┆            ┆           ┆           ┆   ┆           ┆ 07         ┆          ┆ 184        │\n",
       "└────────┴────────────┴───────────┴───────────┴───┴───────────┴────────────┴──────────┴────────────┘"
      ]
     },
     "execution_count": 6,
     "metadata": {},
     "output_type": "execute_result"
    }
   ],
   "source": [
    "# Construct the correct shape of table using only numeric indices for rows and columns\n",
    "numericdf = pl.DataFrame(allinfo).select(\n",
    "    pl.col('rowidx'),\n",
    "    pl.col('colidx'),\n",
    "    pl.col('value')\n",
    ").sort(by=['colidx', 'rowidx']).pivot(\n",
    "    index='rowidx',\n",
    "    on='colidx',\n",
    "    values='value',\n",
    "    maintain_order=True\n",
    ")\n",
    "numericdf"
   ]
  },
  {
   "cell_type": "code",
   "execution_count": null,
   "id": "358b77d1",
   "metadata": {},
   "outputs": [
    {
     "data": {
      "text/html": [
       "<div><style>\n",
       ".dataframe > thead > tr,\n",
       ".dataframe > tbody > tr {\n",
       "  text-align: right;\n",
       "  white-space: pre-wrap;\n",
       "}\n",
       "</style>\n",
       "<small>shape: (4, 9)</small><table border=\"1\" class=\"dataframe\"><thead><tr><th>rowidx</th><th>sum_qty</th><th>sum_base_price</th><th>sum_disc_price</th><th>sum_charge</th><th>avg_qty</th><th>avg_price</th><th>avg_disc</th><th>count_order</th></tr><tr><td>i64</td><td>f64</td><td>f64</td><td>f64</td><td>f64</td><td>f64</td><td>f64</td><td>f64</td><td>f64</td></tr></thead><tbody><tr><td>0</td><td>3.8575e6</td><td>5.4223e9</td><td>5.1166e9</td><td>5.0459e9</td><td>25.460729</td><td>35911.862323</td><td>0.05022</td><td>142749.247304</td></tr><tr><td>1</td><td>100052.376947</td><td>1.3623e8</td><td>1.2281e8</td><td>1.2685e8</td><td>25.057037</td><td>36249.930455</td><td>0.049958</td><td>4100.965872</td></tr><tr><td>2</td><td>7.3127e6</td><td>1.0710e10</td><td>1.0224e10</td><td>1.0062e10</td><td>25.636385</td><td>36162.96519</td><td>0.049992</td><td>288137.822115</td></tr><tr><td>3</td><td>3.8286e6</td><td>5.1741e9</td><td>4.9144e9</td><td>5.2551e9</td><td>25.500825</td><td>35911.562107</td><td>0.050129</td><td>143037.056184</td></tr></tbody></table></div>"
      ],
      "text/plain": [
       "shape: (4, 9)\n",
       "┌────────┬────────────┬────────────┬────────────┬───┬───────────┬───────────┬──────────┬───────────┐\n",
       "│ rowidx ┆ sum_qty    ┆ sum_base_p ┆ sum_disc_p ┆ … ┆ avg_qty   ┆ avg_price ┆ avg_disc ┆ count_ord │\n",
       "│ ---    ┆ ---        ┆ rice       ┆ rice       ┆   ┆ ---       ┆ ---       ┆ ---      ┆ er        │\n",
       "│ i64    ┆ f64        ┆ ---        ┆ ---        ┆   ┆ f64       ┆ f64       ┆ f64      ┆ ---       │\n",
       "│        ┆            ┆ f64        ┆ f64        ┆   ┆           ┆           ┆          ┆ f64       │\n",
       "╞════════╪════════════╪════════════╪════════════╪═══╪═══════════╪═══════════╪══════════╪═══════════╡\n",
       "│ 0      ┆ 3.8575e6   ┆ 5.4223e9   ┆ 5.1166e9   ┆ … ┆ 25.460729 ┆ 35911.862 ┆ 0.05022  ┆ 142749.24 │\n",
       "│        ┆            ┆            ┆            ┆   ┆           ┆ 323       ┆          ┆ 7304      │\n",
       "│ 1      ┆ 100052.376 ┆ 1.3623e8   ┆ 1.2281e8   ┆ … ┆ 25.057037 ┆ 36249.930 ┆ 0.049958 ┆ 4100.9658 │\n",
       "│        ┆ 947        ┆            ┆            ┆   ┆           ┆ 455       ┆          ┆ 72        │\n",
       "│ 2      ┆ 7.3127e6   ┆ 1.0710e10  ┆ 1.0224e10  ┆ … ┆ 25.636385 ┆ 36162.965 ┆ 0.049992 ┆ 288137.82 │\n",
       "│        ┆            ┆            ┆            ┆   ┆           ┆ 19        ┆          ┆ 2115      │\n",
       "│ 3      ┆ 3.8286e6   ┆ 5.1741e9   ┆ 4.9144e9   ┆ … ┆ 25.500825 ┆ 35911.562 ┆ 0.050129 ┆ 143037.05 │\n",
       "│        ┆            ┆            ┆            ┆   ┆           ┆ 107       ┆          ┆ 6184      │\n",
       "└────────┴────────────┴────────────┴────────────┴───┴───────────┴───────────┴──────────┴───────────┘"
      ]
     },
     "execution_count": 7,
     "metadata": {},
     "output_type": "execute_result"
    }
   ],
   "source": [
    "# Add the actual column names\n",
    "namedcolsdf = numericdf.with_columns(\n",
    "    pl.col(str(i)).alias(colnames[i])\n",
    "    for i in [colidxes[c] for c in OUTPUT_COLS]\n",
    ").drop([str(x) for x in [colidxes[c] for c in OUTPUT_COLS]])\n",
    "namedcolsdf"
   ]
  },
  {
   "cell_type": "code",
   "execution_count": null,
   "id": "6b5d989b",
   "metadata": {},
   "outputs": [
    {
     "data": {
      "text/html": [
       "<div><style>\n",
       ".dataframe > thead > tr,\n",
       ".dataframe > tbody > tr {\n",
       "  text-align: right;\n",
       "  white-space: pre-wrap;\n",
       "}\n",
       "</style>\n",
       "<small>shape: (4, 10)</small><table border=\"1\" class=\"dataframe\"><thead><tr><th>l_returnflag</th><th>l_linestatus</th><th>sum_qty</th><th>sum_base_price</th><th>sum_disc_price</th><th>sum_charge</th><th>avg_qty</th><th>avg_price</th><th>avg_disc</th><th>count_order</th></tr><tr><td>str</td><td>str</td><td>f64</td><td>f64</td><td>f64</td><td>f64</td><td>f64</td><td>f64</td><td>f64</td><td>f64</td></tr></thead><tbody><tr><td>&quot;A&quot;</td><td>&quot;F&quot;</td><td>3.8575e6</td><td>5.4223e9</td><td>5.1166e9</td><td>5.0459e9</td><td>25.460729</td><td>35911.862323</td><td>0.05022</td><td>142749.247304</td></tr><tr><td>&quot;N&quot;</td><td>&quot;F&quot;</td><td>100052.376947</td><td>1.3623e8</td><td>1.2281e8</td><td>1.2685e8</td><td>25.057037</td><td>36249.930455</td><td>0.049958</td><td>4100.965872</td></tr><tr><td>&quot;N&quot;</td><td>&quot;O&quot;</td><td>7.3127e6</td><td>1.0710e10</td><td>1.0224e10</td><td>1.0062e10</td><td>25.636385</td><td>36162.96519</td><td>0.049992</td><td>288137.822115</td></tr><tr><td>&quot;R&quot;</td><td>&quot;F&quot;</td><td>3.8286e6</td><td>5.1741e9</td><td>4.9144e9</td><td>5.2551e9</td><td>25.500825</td><td>35911.562107</td><td>0.050129</td><td>143037.056184</td></tr></tbody></table></div>"
      ],
      "text/plain": [
       "shape: (4, 10)\n",
       "┌───────────┬───────────┬───────────┬───────────┬───┬───────────┬───────────┬──────────┬───────────┐\n",
       "│ l_returnf ┆ l_linesta ┆ sum_qty   ┆ sum_base_ ┆ … ┆ avg_qty   ┆ avg_price ┆ avg_disc ┆ count_ord │\n",
       "│ lag       ┆ tus       ┆ ---       ┆ price     ┆   ┆ ---       ┆ ---       ┆ ---      ┆ er        │\n",
       "│ ---       ┆ ---       ┆ f64       ┆ ---       ┆   ┆ f64       ┆ f64       ┆ f64      ┆ ---       │\n",
       "│ str       ┆ str       ┆           ┆ f64       ┆   ┆           ┆           ┆          ┆ f64       │\n",
       "╞═══════════╪═══════════╪═══════════╪═══════════╪═══╪═══════════╪═══════════╪══════════╪═══════════╡\n",
       "│ A         ┆ F         ┆ 3.8575e6  ┆ 5.4223e9  ┆ … ┆ 25.460729 ┆ 35911.862 ┆ 0.05022  ┆ 142749.24 │\n",
       "│           ┆           ┆           ┆           ┆   ┆           ┆ 323       ┆          ┆ 7304      │\n",
       "│ N         ┆ F         ┆ 100052.37 ┆ 1.3623e8  ┆ … ┆ 25.057037 ┆ 36249.930 ┆ 0.049958 ┆ 4100.9658 │\n",
       "│           ┆           ┆ 6947      ┆           ┆   ┆           ┆ 455       ┆          ┆ 72        │\n",
       "│ N         ┆ O         ┆ 7.3127e6  ┆ 1.0710e10 ┆ … ┆ 25.636385 ┆ 36162.965 ┆ 0.049992 ┆ 288137.82 │\n",
       "│           ┆           ┆           ┆           ┆   ┆           ┆ 19        ┆          ┆ 2115      │\n",
       "│ R         ┆ F         ┆ 3.8286e6  ┆ 5.1741e9  ┆ … ┆ 25.500825 ┆ 35911.562 ┆ 0.050129 ┆ 143037.05 │\n",
       "│           ┆           ┆           ┆           ┆   ┆           ┆ 107       ┆          ┆ 6184      │\n",
       "└───────────┴───────────┴───────────┴───────────┴───┴───────────┴───────────┴──────────┴───────────┘"
      ]
     },
     "execution_count": 8,
     "metadata": {},
     "output_type": "execute_result"
    }
   ],
   "source": [
    "# Use the column names to insert this data into the template table, overwriting the empty columns that exist there\n",
    "outputdf = templatedf.with_columns(\n",
    "    pl.col(INDEX_COLS),\n",
    ").with_columns(\n",
    "    namedcolsdf.select(pl.all().exclude('rowidx'))\n",
    ")\n",
    "outputdf"
   ]
  },
  {
   "cell_type": "code",
   "execution_count": null,
   "id": "004d23d0",
   "metadata": {},
   "outputs": [],
   "source": [
    "# Save the output to a file\n",
    "outputdf.write_csv(os.path.join(OUTPUT_DIR, 'output.csv'))"
   ]
  }
 ],
 "metadata": {
  "kernelspec": {
   "display_name": ".venv",
   "language": "python",
   "name": "python3"
  },
  "language_info": {
   "codemirror_mode": {
    "name": "ipython",
    "version": 3
   },
   "file_extension": ".py",
   "mimetype": "text/x-python",
   "name": "python",
   "nbconvert_exporter": "python",
   "pygments_lexer": "ipython3",
   "version": "3.11.7"
  }
 },
 "nbformat": 4,
 "nbformat_minor": 5
}
