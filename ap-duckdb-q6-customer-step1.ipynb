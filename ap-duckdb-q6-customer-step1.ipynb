{
 "cells": [
  {
   "cell_type": "markdown",
   "id": "25a44549",
   "metadata": {
    "papermill": {
     "duration": 0.007758,
     "end_time": "2025-05-01T08:18:56.453148",
     "exception": false,
     "start_time": "2025-05-01T08:18:56.445390",
     "status": "completed"
    },
    "tags": []
   },
   "source": [
    "## DuckDB Notebook\n",
    "\n",
    "This notebook generates a bunch of raw outputs, without applying PAC, to be consumed by a second stage."
   ]
  },
  {
   "cell_type": "markdown",
   "id": "f121f238",
   "metadata": {
    "papermill": {
     "duration": 0.002349,
     "end_time": "2025-05-01T08:18:56.459161",
     "exception": false,
     "start_time": "2025-05-01T08:18:56.456812",
     "status": "completed"
    },
    "tags": []
   },
   "source": [
    "```\n",
    " group by              output cols                        \n",
    " key cols ┌────────┬────────┬────────┬────────┐           \n",
    "        │ │   A    │   B    │   C    │   D    │           \n",
    "      ┌─▼─┼────────┼────────┼────────┼────────┤           \n",
    "      │ 1 │   2    │        │        │        │           \n",
    "      ├───┼───|────┼────────┼────────┼────────┤           \n",
    "      │ 2 │   │    │        │        │        │           \n",
    "      ├───┼───┼────┼────────┼────────┼────────┤           \n",
    "      │ 3 │   │    │        │        │        │           \n",
    "      └───┴───┼────┴────────┴────────┴────────┘           \n",
    "              ▼                 A_1.json                  \n",
    "       Sample 0:   A1=2        ┌─────────────────────────┐\n",
    "       Sample 1:   A1=4  ───▶  │{                        │\n",
    "             ...               │    col: A               │\n",
    "       Sample 999: A1=3        │    row: 1               │\n",
    "                               │    value: [2, 4, ... 3] │\n",
    "                               │}                        │\n",
    "                               └─────────────────────────┘\n",
    "```"
   ]
  },
  {
   "cell_type": "code",
   "execution_count": 1,
   "id": "36c64063",
   "metadata": {
    "execution": {
     "iopub.execute_input": "2025-05-01T08:18:56.465105Z",
     "iopub.status.busy": "2025-05-01T08:18:56.464730Z",
     "iopub.status.idle": "2025-05-01T08:18:56.546828Z",
     "shell.execute_reply": "2025-05-01T08:18:56.546488Z"
    },
    "papermill": {
     "duration": 0.086458,
     "end_time": "2025-05-01T08:18:56.547834",
     "exception": false,
     "start_time": "2025-05-01T08:18:56.461376",
     "status": "completed"
    },
    "tags": []
   },
   "outputs": [],
   "source": [
    "#!/usr/bin/env python\n",
    "# coding: utf-8\n",
    "\n",
    "import os\n",
    "import pickle\n",
    "import shutil\n",
    "\n",
    "import duckdb\n",
    "import polars as pl"
   ]
  },
  {
   "cell_type": "code",
   "execution_count": 2,
   "id": "a714f3cd",
   "metadata": {
    "execution": {
     "iopub.execute_input": "2025-05-01T08:18:56.551322Z",
     "iopub.status.busy": "2025-05-01T08:18:56.551176Z",
     "iopub.status.idle": "2025-05-01T08:18:56.553904Z",
     "shell.execute_reply": "2025-05-01T08:18:56.553645Z"
    },
    "papermill": {
     "duration": 0.005151,
     "end_time": "2025-05-01T08:18:56.554580",
     "exception": false,
     "start_time": "2025-05-01T08:18:56.549429",
     "status": "completed"
    },
    "tags": [
     "parameters"
    ]
   },
   "outputs": [],
   "source": [
    "EXPERIMENT = \"pac-duckdb-q1\"\n",
    "OUTPUT_DIR = f\"./outputs/{EXPERIMENT}-step1\"\n",
    "SAMPLES = 1024\n",
    "\n",
    "SAMPLE_STEP = f\"\"\"\n",
    "DROP TABLE IF EXISTS random_samples;\n",
    "\n",
    "CREATE TABLE random_samples AS\n",
    "WITH sample_numbers AS MATERIALIZED (\n",
    "    SELECT range AS sample_id FROM range({SAMPLES//2})\n",
    "), random_values AS MATERIALIZED (\n",
    "    SELECT \n",
    "        sample_numbers.sample_id,\n",
    "        customer.rowid AS row_id,\n",
    "        (RANDOM() > 0.5)::BOOLEAN AS random_binary\n",
    "    FROM sample_numbers\n",
    "    JOIN customer ON TRUE  -- Cross join to duplicate rows for each sample\n",
    ")\n",
    "SELECT\n",
    "    sample_id,\n",
    "    row_id,\n",
    "    random_binary\n",
    "FROM random_values\n",
    "UNION ALL\n",
    "SELECT -- select the complementary samples too\n",
    "    ({SAMPLES//2}) + sample_id,\n",
    "    row_id,\n",
    "    NOT random_binary  -- Inverse the random_binary to get the complementary sample\n",
    "FROM random_values\n",
    "ORDER BY sample_id, row_id;\n",
    "\"\"\"\n",
    "\n",
    "PREPARE_STEP = \"\"\"\n",
    "DEALLOCATE PREPARE run_query;\n",
    "\n",
    "PREPARE run_query AS \n",
    "SELECT\n",
    "    l_returnflag,\n",
    "    l_linestatus,\n",
    "    2*sum(l_quantity) AS sum_qty,\n",
    "    2*sum(l_extendedprice) AS sum_base_price,\n",
    "    2*sum(l_extendedprice * (1 - l_discount)) AS sum_disc_price,\n",
    "    2*sum(l_extendedprice * (1 - l_discount) * (1 + l_tax)) AS sum_charge,\n",
    "    avg(l_quantity) AS avg_qty,\n",
    "    avg(l_extendedprice) AS avg_price,\n",
    "    avg(l_discount) AS avg_disc,\n",
    "    2*count(*) AS count_order\n",
    "FROM\n",
    "    lineitem\n",
    "JOIN orders ON lineitem.l_orderkey = orders.o_orderkey\n",
    "JOIN customer ON orders.o_custkey = customer.c_custkey\n",
    "JOIN random_samples AS rs\n",
    "    ON rs.row_id = customer.rowid\n",
    "WHERE\n",
    "    l_shipdate <= CAST('1998-09-02' AS date)\n",
    "    AND rs.random_binary = TRUE\n",
    "    AND rs.sample_id = $sample\n",
    "GROUP BY\n",
    "    l_returnflag,\n",
    "    l_linestatus\n",
    "ORDER BY\n",
    "    l_returnflag,\n",
    "    l_linestatus;\n",
    "\"\"\"\n",
    "\n",
    "INDEX_COLS = ['l_returnflag', 'l_linestatus']\n",
    "OUTPUT_COLS = ['sum_qty', 'sum_base_price', 'sum_disc_price', 'sum_charge', 'avg_qty', 'avg_price', 'avg_disc', 'count_order']"
   ]
  },
  {
   "cell_type": "code",
   "execution_count": 3,
   "id": "c3226300",
   "metadata": {
    "execution": {
     "iopub.execute_input": "2025-05-01T08:18:56.557786Z",
     "iopub.status.busy": "2025-05-01T08:18:56.557683Z",
     "iopub.status.idle": "2025-05-01T08:18:56.559690Z",
     "shell.execute_reply": "2025-05-01T08:18:56.559477Z"
    },
    "papermill": {
     "duration": 0.004172,
     "end_time": "2025-05-01T08:18:56.560330",
     "exception": false,
     "start_time": "2025-05-01T08:18:56.556158",
     "status": "completed"
    },
    "tags": [
     "injected-parameters"
    ]
   },
   "outputs": [],
   "source": [
    "# Parameters\n",
    "EXPERIMENT = \"ap-duckdb-q6-customer\"\n",
    "OUTPUT_DIR = \"./outputs/ap-duckdb-q6-customer-step1\"\n",
    "SAMPLES = 1024\n",
    "SAMPLE_STEP = \"DROP TABLE IF EXISTS random_samples;\\n\\nCREATE TABLE random_samples AS\\nWITH sample_numbers AS MATERIALIZED (\\n    SELECT range AS sample_id FROM range(1024 // 2)\\n), random_values AS MATERIALIZED (\\n    SELECT \\n        sample_numbers.sample_id,\\n        customer.rowid AS row_id,\\n        (RANDOM() > 0.5)::BOOLEAN AS random_binary\\n    FROM sample_numbers\\n    JOIN customer ON TRUE  -- Cross join to duplicate rows for each sample\\n)\\nSELECT\\n    sample_id,\\n    row_id,\\n    random_binary\\nFROM random_values\\nUNION ALL\\nSELECT -- select the complementary samples too\\n    (1024 // 2) + sample_id,\\n    row_id,\\n    NOT random_binary  -- Inverse the random_binary to get the complementary sample\\nFROM random_values\\nORDER BY sample_id, row_id;\"\n",
    "PREPARE_STEP = \"DEALLOCATE PREPARE run_query;\\n\\nPREPARE run_query AS \\nSELECT\\n    sum(l_extendedprice * l_discount) AS revenue\\nFROM\\n    lineitem\\nJOIN orders ON lineitem.l_orderkey = orders.o_orderkey\\nJOIN (\\n    SELECT * FROM customer\\n    JOIN random_samples AS rs ON rs.row_id = customer.rowid\\n    AND rs.random_binary = TRUE\\n    AND rs.sample_id = $sample\\n) AS customer ON orders.o_custkey = customer.c_custkey\\nWHERE\\n    l_shipdate >= CAST('1994-01-01' AS date)\\n    AND l_shipdate < CAST('1995-01-01' AS date)\\n    AND l_discount BETWEEN 0.05\\n    AND 0.07\\n    AND l_quantity < 24;\"\n",
    "INDEX_COLS = []\n",
    "OUTPUT_COLS = [\"revenue\"]\n"
   ]
  },
  {
   "cell_type": "code",
   "execution_count": 4,
   "id": "43d89bc7",
   "metadata": {
    "execution": {
     "iopub.execute_input": "2025-05-01T08:18:56.563463Z",
     "iopub.status.busy": "2025-05-01T08:18:56.563356Z",
     "iopub.status.idle": "2025-05-01T08:18:56.564961Z",
     "shell.execute_reply": "2025-05-01T08:18:56.564750Z"
    },
    "papermill": {
     "duration": 0.003739,
     "end_time": "2025-05-01T08:18:56.565573",
     "exception": false,
     "start_time": "2025-05-01T08:18:56.561834",
     "status": "completed"
    },
    "tags": []
   },
   "outputs": [],
   "source": [
    "if not os.path.exists(OUTPUT_DIR):\n",
    "    os.makedirs(OUTPUT_DIR)"
   ]
  },
  {
   "cell_type": "code",
   "execution_count": 5,
   "id": "0eebfc2f",
   "metadata": {
    "execution": {
     "iopub.execute_input": "2025-05-01T08:18:56.568361Z",
     "iopub.status.busy": "2025-05-01T08:18:56.568265Z",
     "iopub.status.idle": "2025-05-01T08:18:56.904792Z",
     "shell.execute_reply": "2025-05-01T08:18:56.904444Z"
    },
    "papermill": {
     "duration": 0.338995,
     "end_time": "2025-05-01T08:18:56.905792",
     "exception": false,
     "start_time": "2025-05-01T08:18:56.566797",
     "status": "completed"
    },
    "tags": []
   },
   "outputs": [],
   "source": [
    "# duckdb load data/tpch/tpch.duckdb into the temporary in-memory database\n",
    "con = duckdb.connect(database=':memory:')\n",
    "tables = [\"customer\", \"lineitem\", \"nation\", \"orders\", \"part\", \"partsupp\", \"region\", \"supplier\"]\n",
    "for t in tables:\n",
    "    con.execute(f\"CREATE TABLE {t} AS SELECT * FROM 'data/tpch/{t}.parquet'\")"
   ]
  },
  {
   "cell_type": "code",
   "execution_count": 6,
   "id": "a90c59a6",
   "metadata": {
    "execution": {
     "iopub.execute_input": "2025-05-01T08:18:56.909145Z",
     "iopub.status.busy": "2025-05-01T08:18:56.909038Z",
     "iopub.status.idle": "2025-05-01T08:18:58.289933Z",
     "shell.execute_reply": "2025-05-01T08:18:58.289622Z"
    },
    "papermill": {
     "duration": 1.383404,
     "end_time": "2025-05-01T08:18:58.290788",
     "exception": false,
     "start_time": "2025-05-01T08:18:56.907384",
     "status": "completed"
    },
    "tags": []
   },
   "outputs": [],
   "source": [
    "# Construct the table of random samples\n",
    "# to use, join it with the lineitem table (for specific sample # s) and filter to just the\n",
    "# rows where random_binary = 1.0\n",
    "# This will give us a 50% sample of the lineitem table for each sample # s\n",
    "\n",
    "assert SAMPLES % 2 == 0, \"SAMPLES must be even to create complementary samples.\"\n",
    "\n",
    "random_samples = con.execute(SAMPLE_STEP)"
   ]
  },
  {
   "cell_type": "markdown",
   "id": "f70646a3",
   "metadata": {
    "papermill": {
     "duration": 0.001264,
     "end_time": "2025-05-01T08:18:58.293743",
     "exception": false,
     "start_time": "2025-05-01T08:18:58.292479",
     "status": "completed"
    },
    "tags": []
   },
   "source": [
    "The randomness of what rows are chosen is saved to disk in `random_binary.json`. For each sample #, there is an array with one entry per row, where 1 means the row was chosen and 0 means it was not."
   ]
  },
  {
   "cell_type": "code",
   "execution_count": 7,
   "id": "b498e9a4",
   "metadata": {
    "execution": {
     "iopub.execute_input": "2025-05-01T08:18:58.296596Z",
     "iopub.status.busy": "2025-05-01T08:18:58.296483Z",
     "iopub.status.idle": "2025-05-01T08:18:58.656581Z",
     "shell.execute_reply": "2025-05-01T08:18:58.656209Z"
    },
    "papermill": {
     "duration": 0.362512,
     "end_time": "2025-05-01T08:18:58.657464",
     "exception": false,
     "start_time": "2025-05-01T08:18:58.294952",
     "status": "completed"
    },
    "tags": []
   },
   "outputs": [],
   "source": [
    "con.execute(\"\"\"\n",
    "SELECT sample_id, array_agg(random_binary::TINYINT) as random_binary\n",
    "FROM random_samples\n",
    "GROUP BY sample_id;\n",
    "\"\"\").pl().write_json(f\"{OUTPUT_DIR}/random_binary.json\")"
   ]
  },
  {
   "cell_type": "markdown",
   "id": "b062cc9f",
   "metadata": {
    "papermill": {
     "duration": 0.001277,
     "end_time": "2025-05-01T08:18:58.660354",
     "exception": false,
     "start_time": "2025-05-01T08:18:58.659077",
     "status": "completed"
    },
    "tags": []
   },
   "source": [
    "Query is specified as a prepared statement. We will then execute it once per sample."
   ]
  },
  {
   "cell_type": "code",
   "execution_count": 8,
   "id": "35fbe723",
   "metadata": {
    "execution": {
     "iopub.execute_input": "2025-05-01T08:18:58.663658Z",
     "iopub.status.busy": "2025-05-01T08:18:58.663331Z",
     "iopub.status.idle": "2025-05-01T08:18:58.718516Z",
     "shell.execute_reply": "2025-05-01T08:18:58.718261Z"
    },
    "papermill": {
     "duration": 0.057547,
     "end_time": "2025-05-01T08:18:58.719204",
     "exception": false,
     "start_time": "2025-05-01T08:18:58.661657",
     "status": "completed"
    },
    "tags": []
   },
   "outputs": [
    {
     "data": {
      "text/html": [
       "<div><style>\n",
       ".dataframe > thead > tr,\n",
       ".dataframe > tbody > tr {\n",
       "  text-align: right;\n",
       "  white-space: pre-wrap;\n",
       "}\n",
       "</style>\n",
       "<small>shape: (1, 1)</small><table border=\"1\" class=\"dataframe\"><thead><tr><th>revenue</th></tr><tr><td>decimal[38,4]</td></tr></thead><tbody><tr><td>5873184.1843</td></tr></tbody></table></div>"
      ],
      "text/plain": [
       "shape: (1, 1)\n",
       "┌───────────────┐\n",
       "│ revenue       │\n",
       "│ ---           │\n",
       "│ decimal[38,4] │\n",
       "╞═══════════════╡\n",
       "│ 5873184.1843  │\n",
       "└───────────────┘"
      ]
     },
     "execution_count": 8,
     "metadata": {},
     "output_type": "execute_result"
    }
   ],
   "source": [
    "# Query\n",
    "con.execute(PREPARE_STEP)\n",
    "\n",
    "# Run query to see output\n",
    "dfs0 = con.execute(f\"EXECUTE run_query(sample := {0});\").pl()\n",
    "\n",
    "# Save csv copies of the first 5 samples\n",
    "os.makedirs(f\"{OUTPUT_DIR}/csv\", exist_ok=True)\n",
    "for s in range(5):\n",
    "    con.execute(f\"EXECUTE run_query(sample := {s});\").pl().write_csv(f\"{OUTPUT_DIR}/csv/sample_{s}.csv\")\n",
    "\n",
    "dfs0"
   ]
  },
  {
   "cell_type": "code",
   "execution_count": 9,
   "id": "69d1b889",
   "metadata": {
    "execution": {
     "iopub.execute_input": "2025-05-01T08:18:58.722629Z",
     "iopub.status.busy": "2025-05-01T08:18:58.722536Z",
     "iopub.status.idle": "2025-05-01T08:19:05.110702Z",
     "shell.execute_reply": "2025-05-01T08:19:05.110397Z"
    },
    "papermill": {
     "duration": 6.3907,
     "end_time": "2025-05-01T08:19:05.111489",
     "exception": false,
     "start_time": "2025-05-01T08:18:58.720789",
     "status": "completed"
    },
    "tags": []
   },
   "outputs": [
    {
     "data": {
      "text/html": [
       "<div><style>\n",
       ".dataframe > thead > tr,\n",
       ".dataframe > tbody > tr {\n",
       "  text-align: right;\n",
       "  white-space: pre-wrap;\n",
       "}\n",
       "</style>\n",
       "<small>shape: (1_024, 2)</small><table border=\"1\" class=\"dataframe\"><thead><tr><th>sample</th><th>revenue</th></tr><tr><td>i32</td><td>decimal[38,4]</td></tr></thead><tbody><tr><td>0</td><td>5873184.1843</td></tr><tr><td>1</td><td>5894383.4574</td></tr><tr><td>2</td><td>6002436.2221</td></tr><tr><td>3</td><td>5883563.5675</td></tr><tr><td>4</td><td>5874696.4050</td></tr><tr><td>&hellip;</td><td>&hellip;</td></tr><tr><td>1019</td><td>5851951.1379</td></tr><tr><td>1020</td><td>5927670.7847</td></tr><tr><td>1021</td><td>5611155.4591</td></tr><tr><td>1022</td><td>5981180.1347</td></tr><tr><td>1023</td><td>5954976.9433</td></tr></tbody></table></div>"
      ],
      "text/plain": [
       "shape: (1_024, 2)\n",
       "┌────────┬───────────────┐\n",
       "│ sample ┆ revenue       │\n",
       "│ ---    ┆ ---           │\n",
       "│ i32    ┆ decimal[38,4] │\n",
       "╞════════╪═══════════════╡\n",
       "│ 0      ┆ 5873184.1843  │\n",
       "│ 1      ┆ 5894383.4574  │\n",
       "│ 2      ┆ 6002436.2221  │\n",
       "│ 3      ┆ 5883563.5675  │\n",
       "│ 4      ┆ 5874696.4050  │\n",
       "│ …      ┆ …             │\n",
       "│ 1019   ┆ 5851951.1379  │\n",
       "│ 1020   ┆ 5927670.7847  │\n",
       "│ 1021   ┆ 5611155.4591  │\n",
       "│ 1022   ┆ 5981180.1347  │\n",
       "│ 1023   ┆ 5954976.9433  │\n",
       "└────────┴───────────────┘"
      ]
     },
     "execution_count": 9,
     "metadata": {},
     "output_type": "execute_result"
    }
   ],
   "source": [
    "# Run the query for each sample, but accumulate in a pl.DataFrame instead of a list\n",
    "dfsdf: pl.DataFrame = pl.concat(\n",
    "    con.execute(f\"EXECUTE run_query(sample := {s});\").pl().insert_column(0, pl.lit(s).alias(\"sample\"))\n",
    "    for s in range(SAMPLES)\n",
    ")\n",
    "dfsdf"
   ]
  },
  {
   "cell_type": "code",
   "execution_count": 10,
   "id": "1ad3bbda",
   "metadata": {
    "execution": {
     "iopub.execute_input": "2025-05-01T08:19:05.115515Z",
     "iopub.status.busy": "2025-05-01T08:19:05.115391Z",
     "iopub.status.idle": "2025-05-01T08:19:05.117709Z",
     "shell.execute_reply": "2025-05-01T08:19:05.117481Z"
    },
    "papermill": {
     "duration": 0.004996,
     "end_time": "2025-05-01T08:19:05.118423",
     "exception": false,
     "start_time": "2025-05-01T08:19:05.113427",
     "status": "completed"
    },
    "tags": []
   },
   "outputs": [],
   "source": [
    "# Define which columns are the group-by keys (INDEX_COLS) and which are the output columns (OUTPUT_COLS)\n",
    "# - moved to parameters cell at top of notebook\n",
    "\n",
    "# Save these to disk for later use\n",
    "with open(f\"{OUTPUT_DIR}/INDEX_COLS.pkl\", 'wb') as f:\n",
    "    pickle.dump(INDEX_COLS, f)\n",
    "with open(f\"{OUTPUT_DIR}/OUTPUT_COLS.pkl\", 'wb') as f:\n",
    "    pickle.dump(OUTPUT_COLS, f)"
   ]
  },
  {
   "cell_type": "code",
   "execution_count": 11,
   "id": "6efda654",
   "metadata": {
    "execution": {
     "iopub.execute_input": "2025-05-01T08:19:05.122082Z",
     "iopub.status.busy": "2025-05-01T08:19:05.121984Z",
     "iopub.status.idle": "2025-05-01T08:19:05.125137Z",
     "shell.execute_reply": "2025-05-01T08:19:05.124860Z"
    },
    "papermill": {
     "duration": 0.00575,
     "end_time": "2025-05-01T08:19:05.125891",
     "exception": false,
     "start_time": "2025-05-01T08:19:05.120141",
     "status": "completed"
    },
    "tags": []
   },
   "outputs": [
    {
     "data": {
      "text/html": [
       "<div><style>\n",
       ".dataframe > thead > tr,\n",
       ".dataframe > tbody > tr {\n",
       "  text-align: right;\n",
       "  white-space: pre-wrap;\n",
       "}\n",
       "</style>\n",
       "<small>shape: (1, 2)</small><table border=\"1\" class=\"dataframe\"><thead><tr><th></th><th>revenue</th></tr><tr><td>i32</td><td>list[decimal[38,4]]</td></tr></thead><tbody><tr><td>0</td><td>[5873184.1843, 5894383.4574, … 5954976.9433]</td></tr></tbody></table></div>"
      ],
      "text/plain": [
       "shape: (1, 2)\n",
       "┌─────┬─────────────────────────────────┐\n",
       "│     ┆ revenue                         │\n",
       "│ --- ┆ ---                             │\n",
       "│ i32 ┆ list[decimal[38,4]]             │\n",
       "╞═════╪═════════════════════════════════╡\n",
       "│ 0   ┆ [5873184.1843, 5894383.4574, …… │\n",
       "└─────┴─────────────────────────────────┘"
      ]
     },
     "execution_count": 11,
     "metadata": {},
     "output_type": "execute_result"
    }
   ],
   "source": [
    "# Combine all the samples into one table, grouped-by the group-by keys. Each cell contains an n <= # of samples length array of values.\n",
    "listdf = dfsdf.drop(\"sample\").group_by(INDEX_COLS or pl.lit(0).alias(\"\"), maintain_order=True).all()\n",
    "listdf"
   ]
  },
  {
   "cell_type": "code",
   "execution_count": 12,
   "id": "ea17e278",
   "metadata": {
    "execution": {
     "iopub.execute_input": "2025-05-01T08:19:05.130155Z",
     "iopub.status.busy": "2025-05-01T08:19:05.130024Z",
     "iopub.status.idle": "2025-05-01T08:19:05.132401Z",
     "shell.execute_reply": "2025-05-01T08:19:05.132181Z"
    },
    "papermill": {
     "duration": 0.005439,
     "end_time": "2025-05-01T08:19:05.133006",
     "exception": false,
     "start_time": "2025-05-01T08:19:05.127567",
     "status": "completed"
    },
    "tags": []
   },
   "outputs": [
    {
     "data": {
      "text/plain": [
       "[{'': 0}]"
      ]
     },
     "execution_count": 12,
     "metadata": {},
     "output_type": "execute_result"
    }
   ],
   "source": [
    "# What are all the possible group-by key combinations?\n",
    "allgroups: pl.DataFrame = listdf.select(INDEX_COLS or pl.lit(0).alias(\"\"))\n",
    "allgroups.to_dicts()"
   ]
  },
  {
   "cell_type": "code",
   "execution_count": 13,
   "id": "fee574b7",
   "metadata": {
    "execution": {
     "iopub.execute_input": "2025-05-01T08:19:05.136714Z",
     "iopub.status.busy": "2025-05-01T08:19:05.136620Z",
     "iopub.status.idle": "2025-05-01T08:19:05.140519Z",
     "shell.execute_reply": "2025-05-01T08:19:05.140298Z"
    },
    "papermill": {
     "duration": 0.006344,
     "end_time": "2025-05-01T08:19:05.141156",
     "exception": false,
     "start_time": "2025-05-01T08:19:05.134812",
     "status": "completed"
    },
    "tags": []
   },
   "outputs": [],
   "source": [
    "# Template for the final output, including all possible group-by groups\n",
    "# Obtained by collecting all the samples in a big table and then keeping only the first occurrence of each groupby key.\n",
    "# Then, fill all OUTPUT_COLS with nulls\n",
    "templatedf = dfsdf.drop(\"sample\").group_by(INDEX_COLS or pl.lit(0).alias(\"\"), maintain_order=True).first()\n",
    "templatedf = templatedf.clear(n=len(allgroups)).with_columns(allgroups)\n",
    "templatedf\n",
    "\n",
    "with open(f\"{OUTPUT_DIR}/template.pkl\", \"wb\") as f:\n",
    "    pickle.dump(templatedf, f)"
   ]
  },
  {
   "cell_type": "code",
   "execution_count": 14,
   "id": "84bea337",
   "metadata": {
    "execution": {
     "iopub.execute_input": "2025-05-01T08:19:05.145053Z",
     "iopub.status.busy": "2025-05-01T08:19:05.144939Z",
     "iopub.status.idle": "2025-05-01T08:19:05.150189Z",
     "shell.execute_reply": "2025-05-01T08:19:05.149965Z"
    },
    "papermill": {
     "duration": 0.008087,
     "end_time": "2025-05-01T08:19:05.150846",
     "exception": false,
     "start_time": "2025-05-01T08:19:05.142759",
     "status": "completed"
    },
    "tags": []
   },
   "outputs": [],
   "source": [
    "# Write all table entries in the output table to their own JSON files. Each file has a number, the information of which file corresponds to which table entry\n",
    "# is stored in reverse_map.json (as well as in the files themselves)\n",
    "os.makedirs(f\"{OUTPUT_DIR}/json\", exist_ok=True)\n",
    "i: int = 0\n",
    "for col in OUTPUT_COLS:\n",
    "    for group in allgroups.iter_rows(named=True):\n",
    "        values = listdf.filter(pl.col(k).eq(v) for k, v in group.items()).select(col).to_series()\n",
    "        j = pl.DataFrame().with_columns([\n",
    "            pl.lit(col).alias(\"col\"),\n",
    "            pl.lit(group).alias(\"row\"),\n",
    "            pl.lit(values.explode().dtype.__repr__()).alias(\"dtype\"),\n",
    "            values.alias(\"values\"),\n",
    "        ])\n",
    "        j.write_json(f\"{OUTPUT_DIR}/json/{i}.json\")\n",
    "        i+=1"
   ]
  },
  {
   "cell_type": "code",
   "execution_count": 15,
   "id": "70681ef3",
   "metadata": {
    "execution": {
     "iopub.execute_input": "2025-05-01T08:19:05.154548Z",
     "iopub.status.busy": "2025-05-01T08:19:05.154443Z",
     "iopub.status.idle": "2025-05-01T08:19:07.252777Z",
     "shell.execute_reply": "2025-05-01T08:19:07.252485Z"
    },
    "papermill": {
     "duration": 2.100993,
     "end_time": "2025-05-01T08:19:07.253508",
     "exception": false,
     "start_time": "2025-05-01T08:19:05.152515",
     "status": "completed"
    },
    "tags": []
   },
   "outputs": [
    {
     "data": {
      "text/plain": [
       "'/Users/michael/projects/dpdb/pacdb/outputs/ap-duckdb-q6-customer-step1.zip'"
      ]
     },
     "execution_count": 15,
     "metadata": {},
     "output_type": "execute_result"
    }
   ],
   "source": [
    "# zip the OUTPUT_DIR\n",
    "shutil.make_archive(OUTPUT_DIR, 'zip', OUTPUT_DIR)"
   ]
  }
 ],
 "metadata": {
  "kernelspec": {
   "display_name": ".venv",
   "language": "python",
   "name": "python3"
  },
  "language_info": {
   "codemirror_mode": {
    "name": "ipython",
    "version": 3
   },
   "file_extension": ".py",
   "mimetype": "text/x-python",
   "name": "python",
   "nbconvert_exporter": "python",
   "pygments_lexer": "ipython3",
   "version": "3.11.7"
  },
  "papermill": {
   "default_parameters": {},
   "duration": 11.862124,
   "end_time": "2025-05-01T08:19:07.469602",
   "environment_variables": {},
   "exception": null,
   "input_path": "autopac-duckdb-step1.ipynb",
   "output_path": "./ap-duckdb-q6-customer-step1.ipynb",
   "parameters": {
    "EXPERIMENT": "ap-duckdb-q6-customer",
    "INDEX_COLS": [],
    "OUTPUT_COLS": [
     "revenue"
    ],
    "OUTPUT_DIR": "./outputs/ap-duckdb-q6-customer-step1",
    "PREPARE_STEP": "DEALLOCATE PREPARE run_query;\n\nPREPARE run_query AS \nSELECT\n    sum(l_extendedprice * l_discount) AS revenue\nFROM\n    lineitem\nJOIN orders ON lineitem.l_orderkey = orders.o_orderkey\nJOIN (\n    SELECT * FROM customer\n    JOIN random_samples AS rs ON rs.row_id = customer.rowid\n    AND rs.random_binary = TRUE\n    AND rs.sample_id = $sample\n) AS customer ON orders.o_custkey = customer.c_custkey\nWHERE\n    l_shipdate >= CAST('1994-01-01' AS date)\n    AND l_shipdate < CAST('1995-01-01' AS date)\n    AND l_discount BETWEEN 0.05\n    AND 0.07\n    AND l_quantity < 24;",
    "SAMPLES": 1024,
    "SAMPLE_STEP": "DROP TABLE IF EXISTS random_samples;\n\nCREATE TABLE random_samples AS\nWITH sample_numbers AS MATERIALIZED (\n    SELECT range AS sample_id FROM range(1024 // 2)\n), random_values AS MATERIALIZED (\n    SELECT \n        sample_numbers.sample_id,\n        customer.rowid AS row_id,\n        (RANDOM() > 0.5)::BOOLEAN AS random_binary\n    FROM sample_numbers\n    JOIN customer ON TRUE  -- Cross join to duplicate rows for each sample\n)\nSELECT\n    sample_id,\n    row_id,\n    random_binary\nFROM random_values\nUNION ALL\nSELECT -- select the complementary samples too\n    (1024 // 2) + sample_id,\n    row_id,\n    NOT random_binary  -- Inverse the random_binary to get the complementary sample\nFROM random_values\nORDER BY sample_id, row_id;"
   },
   "start_time": "2025-05-01T08:18:55.607478",
   "version": "2.6.0"
  }
 },
 "nbformat": 4,
 "nbformat_minor": 5
}