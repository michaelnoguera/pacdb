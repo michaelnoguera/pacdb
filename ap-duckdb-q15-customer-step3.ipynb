{
 "cells": [
  {
   "cell_type": "code",
   "execution_count": 1,
   "id": "eba650e4",
   "metadata": {
    "execution": {
     "iopub.execute_input": "2025-05-01T09:34:35.625002Z",
     "iopub.status.busy": "2025-05-01T09:34:35.624819Z",
     "iopub.status.idle": "2025-05-01T09:34:35.668133Z",
     "shell.execute_reply": "2025-05-01T09:34:35.667863Z"
    },
    "papermill": {
     "duration": 0.047202,
     "end_time": "2025-05-01T09:34:35.668981",
     "exception": false,
     "start_time": "2025-05-01T09:34:35.621779",
     "status": "completed"
    },
    "tags": []
   },
   "outputs": [],
   "source": [
    "#!/usr/bin/env python\n",
    "# coding: utf-8\n",
    "\n",
    "import json\n",
    "import os\n",
    "import pickle\n",
    "import shutil\n",
    "import zipfile\n",
    "\n",
    "import parse\n",
    "import polars as pl"
   ]
  },
  {
   "cell_type": "code",
   "execution_count": 2,
   "id": "5bbee7d0",
   "metadata": {
    "execution": {
     "iopub.execute_input": "2025-05-01T09:34:35.672358Z",
     "iopub.status.busy": "2025-05-01T09:34:35.672235Z",
     "iopub.status.idle": "2025-05-01T09:34:35.674240Z",
     "shell.execute_reply": "2025-05-01T09:34:35.673964Z"
    },
    "papermill": {
     "duration": 0.004238,
     "end_time": "2025-05-01T09:34:35.674937",
     "exception": false,
     "start_time": "2025-05-01T09:34:35.670699",
     "status": "completed"
    },
    "tags": [
     "parameters"
    ]
   },
   "outputs": [],
   "source": [
    "#EXPERIMENT = \"asdf\"\n",
    "#INPUT_ZIP = f\"./outputs/{EXPERIMENT}-step2.zip\"\n",
    "#OUTPUT_DIR = f\"./outputs/{EXPERIMENT}-step3\"\n",
    "#INDEX_COLS = pickle.load(open(f'./outputs/{EXPERIMENT}-step1/INDEX_COLS.pkl', 'rb'))\n",
    "#OUTPUT_COLS = pickle.load(open(f'./outputs/{EXPERIMENT}-step1/OUTPUT_COLS.pkl', 'rb'))\n",
    "#templatedf_path = f\"./outputs/{EXPERIMENT}-step2/templatedf.csv\"\n",
    "EXPERIMENT = \"\"\n",
    "INPUT_ZIP = \"\"\n",
    "OUTPUT_DIR = \"\"\n",
    "INDEX_COLS = []\n",
    "OUTPUT_COLS = []\n",
    "templatedf_path = \"\""
   ]
  },
  {
   "cell_type": "code",
   "execution_count": 3,
   "id": "222eb8a3",
   "metadata": {
    "execution": {
     "iopub.execute_input": "2025-05-01T09:34:35.677700Z",
     "iopub.status.busy": "2025-05-01T09:34:35.677590Z",
     "iopub.status.idle": "2025-05-01T09:34:35.679282Z",
     "shell.execute_reply": "2025-05-01T09:34:35.679071Z"
    },
    "papermill": {
     "duration": 0.003763,
     "end_time": "2025-05-01T09:34:35.679936",
     "exception": false,
     "start_time": "2025-05-01T09:34:35.676173",
     "status": "completed"
    },
    "tags": [
     "injected-parameters"
    ]
   },
   "outputs": [],
   "source": [
    "# Parameters\n",
    "EXPERIMENT = \"ap-duckdb-q15-customer\"\n",
    "OUTPUT_DIR = \"./outputs/ap-duckdb-q15-customer-step3\"\n",
    "INPUT_ZIP = \"./outputs/ap-duckdb-q15-customer-step2.zip\"\n",
    "INDEX_COLS = [\"s_suppkey\", \"s_name\", \"s_address\", \"s_phone\"]\n",
    "OUTPUT_COLS = [\"total_revenue\"]\n",
    "templatedf_path = \"./outputs/ap-duckdb-q15-customer-step1/template.pkl\"\n"
   ]
  },
  {
   "cell_type": "code",
   "execution_count": 4,
   "id": "7eeff702",
   "metadata": {
    "execution": {
     "iopub.execute_input": "2025-05-01T09:34:35.682553Z",
     "iopub.status.busy": "2025-05-01T09:34:35.682456Z",
     "iopub.status.idle": "2025-05-01T09:34:35.684205Z",
     "shell.execute_reply": "2025-05-01T09:34:35.683995Z"
    },
    "papermill": {
     "duration": 0.003773,
     "end_time": "2025-05-01T09:34:35.684836",
     "exception": false,
     "start_time": "2025-05-01T09:34:35.681063",
     "status": "completed"
    },
    "tags": []
   },
   "outputs": [],
   "source": [
    "INDEX_COLS = INDEX_COLS or [\"\"] # if no index cols are provided, then we make one up with empty string name in step 1\n",
    "\n",
    "if not os.path.exists(OUTPUT_DIR):\n",
    "    os.makedirs(OUTPUT_DIR)"
   ]
  },
  {
   "cell_type": "code",
   "execution_count": 5,
   "id": "257dec28",
   "metadata": {
    "execution": {
     "iopub.execute_input": "2025-05-01T09:34:35.687488Z",
     "iopub.status.busy": "2025-05-01T09:34:35.687375Z",
     "iopub.status.idle": "2025-05-01T09:34:35.689545Z",
     "shell.execute_reply": "2025-05-01T09:34:35.689315Z"
    },
    "papermill": {
     "duration": 0.004179,
     "end_time": "2025-05-01T09:34:35.690160",
     "exception": false,
     "start_time": "2025-05-01T09:34:35.685981",
     "status": "completed"
    },
    "tags": []
   },
   "outputs": [],
   "source": [
    "# Import saved variables from the first step\n",
    "templatedf: pl.DataFrame = pickle.load(open(templatedf_path, 'rb'))"
   ]
  },
  {
   "cell_type": "code",
   "execution_count": 6,
   "id": "ab3a80fe",
   "metadata": {
    "execution": {
     "iopub.execute_input": "2025-05-01T09:34:35.692747Z",
     "iopub.status.busy": "2025-05-01T09:34:35.692652Z",
     "iopub.status.idle": "2025-05-01T09:34:35.698743Z",
     "shell.execute_reply": "2025-05-01T09:34:35.698522Z"
    },
    "papermill": {
     "duration": 0.008108,
     "end_time": "2025-05-01T09:34:35.699434",
     "exception": false,
     "start_time": "2025-05-01T09:34:35.691326",
     "status": "completed"
    },
    "tags": []
   },
   "outputs": [
    {
     "data": {
      "text/plain": [
       "dict_keys([20, 77, 61, 36, 41, 16, 57, 82, 6, 7, 83, 56, 17, 40, 37, 60, 76, 21, 47, 10, 51, 84, 0, 26, 71, 67, 30, 31, 66, 70, 27, 1, 50, 11, 46, 69, 2, 28, 53, 12, 45, 32, 65, 73, 24, 49, 48, 25, 72, 64, 33, 44, 13, 52, 29, 68, 3, 34, 63, 8, 75, 22, 59, 18, 38, 4, 80, 79, 55, 14, 43, 42, 15, 54, 78, 81, 5, 39, 19, 58, 23, 74, 62, 9, 35])"
      ]
     },
     "execution_count": 6,
     "metadata": {},
     "output_type": "execute_result"
    }
   ],
   "source": [
    "# load the json input files from step 2\n",
    "# {'col': column name as string,\n",
    "#  'row': group-by column values as dict (effectively a row id),\n",
    "#  'values': [ 1000x values ] }\n",
    "alldata = {}\n",
    "\n",
    "pattern = parse.compile(\"{n}.json\")\n",
    "\n",
    "with zipfile.ZipFile(INPUT_ZIP, 'r') as zf:\n",
    "    for filename in zf.namelist():\n",
    "        if filename.endswith('.json'):\n",
    "            with zf.open(filename) as f:\n",
    "                filenumber = int(pattern.parse(filename).named['n'])\n",
    "                data = json.load(f)\n",
    "                d: dict = data\n",
    "                alldata[filenumber] = d\n",
    "alldata.keys()"
   ]
  },
  {
   "cell_type": "code",
   "execution_count": 7,
   "id": "fa47deff",
   "metadata": {
    "execution": {
     "iopub.execute_input": "2025-05-01T09:34:35.702381Z",
     "iopub.status.busy": "2025-05-01T09:34:35.702293Z",
     "iopub.status.idle": "2025-05-01T09:34:35.716391Z",
     "shell.execute_reply": "2025-05-01T09:34:35.716143Z"
    },
    "papermill": {
     "duration": 0.016298,
     "end_time": "2025-05-01T09:34:35.717180",
     "exception": false,
     "start_time": "2025-05-01T09:34:35.700882",
     "status": "completed"
    },
    "tags": []
   },
   "outputs": [],
   "source": [
    "# Make sure the data types of the row fields are correct\n",
    "for i in range(len(alldata)):\n",
    "    alldata[i]['row'] = pl.DataFrame(alldata[i]['row']).cast(templatedf.select(INDEX_COLS).schema).to_dicts()[0]"
   ]
  },
  {
   "cell_type": "code",
   "execution_count": 8,
   "id": "1d086fc3",
   "metadata": {
    "execution": {
     "iopub.execute_input": "2025-05-01T09:34:35.720087Z",
     "iopub.status.busy": "2025-05-01T09:34:35.719967Z",
     "iopub.status.idle": "2025-05-01T09:34:35.722772Z",
     "shell.execute_reply": "2025-05-01T09:34:35.722551Z"
    },
    "papermill": {
     "duration": 0.004892,
     "end_time": "2025-05-01T09:34:35.723395",
     "exception": false,
     "start_time": "2025-05-01T09:34:35.718503",
     "status": "completed"
    },
    "tags": []
   },
   "outputs": [
    {
     "data": {
      "text/html": [
       "<div><style>\n",
       ".dataframe > thead > tr,\n",
       ".dataframe > tbody > tr {\n",
       "  text-align: right;\n",
       "  white-space: pre-wrap;\n",
       "}\n",
       "</style>\n",
       "<small>shape: (85, 4)</small><table border=\"1\" class=\"dataframe\"><thead><tr><th>s_suppkey</th><th>s_name</th><th>s_address</th><th>s_phone</th></tr><tr><td>i64</td><td>str</td><td>str</td><td>str</td></tr></thead><tbody><tr><td>913</td><td>&quot;Supplier#000000913&quot;</td><td>&quot;PTSEe31GjmUGy58DpRn&quot;</td><td>&quot;34-601-419-1634&quot;</td></tr><tr><td>474</td><td>&quot;Supplier#000000474&quot;</td><td>&quot;78jpeO3SIlDN6&quot;</td><td>&quot;10-327-319-7717&quot;</td></tr><tr><td>677</td><td>&quot;Supplier#000000677&quot;</td><td>&quot;TEJ LMkTnY5hp8aQckzyb&quot;</td><td>&quot;23-290-639-3315&quot;</td></tr><tr><td>378</td><td>&quot;Supplier#000000378&quot;</td><td>&quot;mLPJtpu4wOc cSFzBR&quot;</td><td>&quot;13-930-567-5190&quot;</td></tr><tr><td>220</td><td>&quot;Supplier#000000220&quot;</td><td>&quot;yw45wy2XyjPmY4XXHOcVYSvtU&quot;</td><td>&quot;29-197-645-8102&quot;</td></tr><tr><td>&hellip;</td><td>&hellip;</td><td>&hellip;</td><td>&hellip;</td></tr><tr><td>157</td><td>&quot;Supplier#000000157&quot;</td><td>&quot;1EmkCApL5iF&quot;</td><td>&quot;13-776-259-5994&quot;</td></tr><tr><td>402</td><td>&quot;Supplier#000000402&quot;</td><td>&quot;JR8vWoCteJtJg3okRpt0r28KEo&quot;</td><td>&quot;13-109-731-3195&quot;</td></tr><tr><td>496</td><td>&quot;Supplier#000000496&quot;</td><td>&quot;QMWQx2utAqLlVtzkXD34POTPn dKN1&quot;</td><td>&quot;30-810-880-3654&quot;</td></tr><tr><td>925</td><td>&quot;Supplier#000000925&quot;</td><td>&quot;vXDWBL0AYSnOG2c1UZXkUzMCqF7b83…</td><td>&quot;29-398-723-8226&quot;</td></tr><tr><td>511</td><td>&quot;Supplier#000000511&quot;</td><td>&quot;a4dN7nM05hmQ dWcxT3F&quot;</td><td>&quot;33-476-213-8045&quot;</td></tr></tbody></table></div>"
      ],
      "text/plain": [
       "shape: (85, 4)\n",
       "┌───────────┬────────────────────┬─────────────────────────────────┬─────────────────┐\n",
       "│ s_suppkey ┆ s_name             ┆ s_address                       ┆ s_phone         │\n",
       "│ ---       ┆ ---                ┆ ---                             ┆ ---             │\n",
       "│ i64       ┆ str                ┆ str                             ┆ str             │\n",
       "╞═══════════╪════════════════════╪═════════════════════════════════╪═════════════════╡\n",
       "│ 913       ┆ Supplier#000000913 ┆ PTSEe31GjmUGy58DpRn             ┆ 34-601-419-1634 │\n",
       "│ 474       ┆ Supplier#000000474 ┆ 78jpeO3SIlDN6                   ┆ 10-327-319-7717 │\n",
       "│ 677       ┆ Supplier#000000677 ┆ TEJ LMkTnY5hp8aQckzyb           ┆ 23-290-639-3315 │\n",
       "│ 378       ┆ Supplier#000000378 ┆ mLPJtpu4wOc cSFzBR              ┆ 13-930-567-5190 │\n",
       "│ 220       ┆ Supplier#000000220 ┆ yw45wy2XyjPmY4XXHOcVYSvtU       ┆ 29-197-645-8102 │\n",
       "│ …         ┆ …                  ┆ …                               ┆ …               │\n",
       "│ 157       ┆ Supplier#000000157 ┆ 1EmkCApL5iF                     ┆ 13-776-259-5994 │\n",
       "│ 402       ┆ Supplier#000000402 ┆ JR8vWoCteJtJg3okRpt0r28KEo      ┆ 13-109-731-3195 │\n",
       "│ 496       ┆ Supplier#000000496 ┆ QMWQx2utAqLlVtzkXD34POTPn dKN1  ┆ 30-810-880-3654 │\n",
       "│ 925       ┆ Supplier#000000925 ┆ vXDWBL0AYSnOG2c1UZXkUzMCqF7b83… ┆ 29-398-723-8226 │\n",
       "│ 511       ┆ Supplier#000000511 ┆ a4dN7nM05hmQ dWcxT3F            ┆ 33-476-213-8045 │\n",
       "└───────────┴────────────────────┴─────────────────────────────────┴─────────────────┘"
      ]
     },
     "execution_count": 8,
     "metadata": {},
     "output_type": "execute_result"
    }
   ],
   "source": [
    "allgroups = templatedf.select(INDEX_COLS)\n",
    "allgroups"
   ]
  },
  {
   "cell_type": "code",
   "execution_count": 9,
   "id": "0b249a7b",
   "metadata": {
    "execution": {
     "iopub.execute_input": "2025-05-01T09:34:35.726268Z",
     "iopub.status.busy": "2025-05-01T09:34:35.726177Z",
     "iopub.status.idle": "2025-05-01T09:34:35.742394Z",
     "shell.execute_reply": "2025-05-01T09:34:35.742183Z"
    },
    "papermill": {
     "duration": 0.018374,
     "end_time": "2025-05-01T09:34:35.743101",
     "exception": false,
     "start_time": "2025-05-01T09:34:35.724727",
     "status": "completed"
    },
    "tags": []
   },
   "outputs": [
    {
     "name": "stdout",
     "output_type": "stream",
     "text": [
      "{'s_suppkey': 913, 's_name': 'Supplier#000000913', 's_address': 'PTSEe31GjmUGy58DpRn', 's_phone': '34-601-419-1634'}\n",
      "{'s_suppkey': 474, 's_name': 'Supplier#000000474', 's_address': '78jpeO3SIlDN6', 's_phone': '10-327-319-7717'}\n",
      "{'s_suppkey': 677, 's_name': 'Supplier#000000677', 's_address': 'TEJ LMkTnY5hp8aQckzyb', 's_phone': '23-290-639-3315'}\n",
      "{'s_suppkey': 378, 's_name': 'Supplier#000000378', 's_address': 'mLPJtpu4wOc cSFzBR', 's_phone': '13-930-567-5190'}\n",
      "{'s_suppkey': 220, 's_name': 'Supplier#000000220', 's_address': 'yw45wy2XyjPmY4XXHOcVYSvtU', 's_phone': '29-197-645-8102'}\n",
      "{'s_suppkey': 315, 's_name': 'Supplier#000000315', 's_address': 'k9fJuxApb0M0dHM7I7', 's_phone': '12-574-691-2832'}\n",
      "{'s_suppkey': 641, 's_name': 'Supplier#000000641', 's_address': 's,fStDiv8ocWmhtn8irUQ5jRG', 's_phone': '27-393-904-4536'}\n",
      "{'s_suppkey': 953, 's_name': 'Supplier#000000953', 's_address': 'w77P,JF6UdQQZ5f jHUG0I6yW8lleUAwy3ztsqr', 's_phone': '31-642-490-3022'}\n",
      "{'s_suppkey': 238, 's_name': 'Supplier#000000238', 's_address': 'vH81dBrqiAF 5r6MutkO9,W92ds4', 's_phone': '18-950-354-3488'}\n",
      "{'s_suppkey': 164, 's_name': 'Supplier#000000164', 's_address': 'Uj0,Jr1GFzWA58rVzHPD6DayBIeDkmxXKg368', 's_phone': '12-414-446-6598'}\n",
      "{'s_suppkey': 966, 's_name': 'Supplier#000000966', 's_address': 'm9Fh4uXYiU8zm9 lnA0k9T', 's_phone': '14-681-361-1636'}\n",
      "{'s_suppkey': 987, 's_name': 'Supplier#000000987', 's_address': 'oq4hZGnJtPQ8cXEEKAnYTQ3', 's_phone': '28-375-179-1732'}\n",
      "{'s_suppkey': 984, 's_name': 'Supplier#000000984', 's_address': 'VjUAAuMrI2Q2soEw4JH', 's_phone': '31-519-879-5266'}\n",
      "{'s_suppkey': 187, 's_name': 'Supplier#000000187', 's_address': 'Deyt7GUJ7tgaJIpw 6QQXYsgcILdCPnA', 's_phone': '28-127-320-9230'}\n",
      "{'s_suppkey': 317, 's_name': 'Supplier#000000317', 's_address': 'nvxebmGPXiA8AIy4SNNKvtra4K3uMeX9CcxZN', 's_phone': '27-131-276-7910'}\n",
      "{'s_suppkey': 742, 's_name': 'Supplier#000000742', 's_address': 'uQ3V,Hvi5DmM2X', 's_phone': '10-673-629-5928'}\n",
      "{'s_suppkey': 846, 's_name': 'Supplier#000000846', 's_address': 'pZozXtjFOMaeuFQcipB poTUuXfg5NkXaJ1', 's_phone': '30-283-261-2020'}\n",
      "{'s_suppkey': 422, 's_name': 'Supplier#000000422', 's_address': 'JxWOTAGllddwELu1Q8zUZi', 's_phone': '20-645-417-6790'}\n",
      "{'s_suppkey': 865, 's_name': 'Supplier#000000865', 's_address': 't25EWlbbFw6ZetzIAn6izMJs6SJn,yjQjMK', 's_phone': '27-993-155-8321'}\n",
      "{'s_suppkey': 887, 's_name': 'Supplier#000000887', 's_address': 'y mQ7NHjVbdqnbYr9 L', 's_phone': '13-738-297-6117'}\n",
      "{'s_suppkey': 736, 's_name': 'Supplier#000000736', 's_address': 'GUIYDfv5xCxLgDx6KQ8khY ntVVnFqmfMKIgT', 's_phone': '13-681-806-8650'}\n",
      "{'s_suppkey': 679, 's_name': 'Supplier#000000679', 's_address': 'BfsNlaP5nMnj', 's_phone': '14-771-110-7666'}\n",
      "{'s_suppkey': 756, 's_name': 'Supplier#000000756', 's_address': 'u83kAQaB2P4fCQlfgAiNkVbQI', 's_phone': '17-726-757-7711'}\n",
      "{'s_suppkey': 91, 's_name': 'Supplier#000000091', 's_address': '35WVnU7GLNbQDcc2TARavGtk6RB6ZCd46UAY', 's_phone': '13-604-986-9056'}\n",
      "{'s_suppkey': 385, 's_name': 'Supplier#000000385', 's_address': 'X9nvgpdOUrup2', 's_phone': '28-730-866-8837'}\n",
      "{'s_suppkey': 634, 's_name': 'Supplier#000000634', 's_address': 'K8UYwAQCCtk4Degu15XL,k8bMhh0TxagUeV', 's_phone': '33-105-608-2902'}\n",
      "{'s_suppkey': 921, 's_name': 'Supplier#000000921', 's_address': 'ZNzg,SXxDld', 's_phone': '12-670-146-9689'}\n",
      "{'s_suppkey': 470, 's_name': 'Supplier#000000470', 's_address': '4OGPs qKpfQ6GNLIKhmbIE6e7fSMP8fmwi', 's_phone': '29-165-289-1523'}\n",
      "{'s_suppkey': 423, 's_name': 'Supplier#000000423', 's_address': '6oKeHpFxWioQ55ewe4,qaLZJC', 's_phone': '34-577-174-3894'}\n",
      "{'s_suppkey': 322, 's_name': 'Supplier#000000322', 's_address': 'GpYAOmo vQtFTaQ', 's_phone': '16-803-605-4129'}\n",
      "{'s_suppkey': 696, 's_name': 'Supplier#000000696', 's_address': 'K4wgrSdZma4,GHmj', 's_phone': '10-745-572-7198'}\n",
      "{'s_suppkey': 718, 's_name': 'Supplier#000000718', 's_address': '5RPt3ayAwdObIwDvkTU V', 's_phone': '30-551-841-7946'}\n",
      "{'s_suppkey': 878, 's_name': 'Supplier#000000878', 's_address': 'PMDDcCDMH3mxvuzv LCsV604ds7oT', 's_phone': '18-462-213-5795'}\n",
      "{'s_suppkey': 971, 's_name': 'Supplier#000000971', 's_address': 'ZX3Q66f2xoYyaibkoxffLeV6Qwf', 's_phone': '13-380-957-8529'}\n",
      "{'s_suppkey': 590, 's_name': 'Supplier#000000590', 's_address': 'hJ9yzgWlCtPBYJ6wKrPmkGnxz4qL', 's_phone': '19-277-247-1833'}\n",
      "{'s_suppkey': 379, 's_name': 'Supplier#000000379', 's_address': 'Itk4sjh7qNj,iGCZC', 's_phone': '30-202-917-6929'}\n",
      "{'s_suppkey': 856, 's_name': 'Supplier#000000856', 's_address': '70kjY2HFEqUSh9PI4JPLUHoK 7TQ,nv', 's_phone': '14-216-125-2920'}\n",
      "{'s_suppkey': 230, 's_name': 'Supplier#000000230', 's_address': '8K7ZWVoFxRdnP22quW4NTCM', 's_phone': '11-819-222-2128'}\n",
      "{'s_suppkey': 228, 's_name': 'Supplier#000000228', 's_address': 'Ct72ryCOQ8Rzi6FAj6Ppwe0 0', 's_phone': '24-920-216-6514'}\n",
      "{'s_suppkey': 964, 's_name': 'Supplier#000000964', 's_address': 'iBjR27aHk3oZkoJ5ObHRgmkedTuv1GpsBNkTjFdP', 's_phone': '17-693-102-9498'}\n",
      "{'s_suppkey': 896, 's_name': 'Supplier#000000896', 's_address': 'uwd1tPxa2ESNRqSxZE', 's_phone': '17-790-100-9143'}\n",
      "{'s_suppkey': 731, 's_name': 'Supplier#000000731', 's_address': 'Ouq oNogB26Wtpcp1c1PYR2XzUmJiIYN', 's_phone': '31-306-298-2911'}\n",
      "{'s_suppkey': 170, 's_name': 'Supplier#000000170', 's_address': 'ayz3a18xDGrr3jtS', 's_phone': '33-803-340-5398'}\n",
      "{'s_suppkey': 740, 's_name': 'Supplier#000000740', 's_address': 'xISYluAkMFl4,kZFBbZTNnophaKdfweIr', 's_phone': '33-714-391-9055'}\n",
      "{'s_suppkey': 988, 's_name': 'Supplier#000000988', 's_address': 'OlyTXi4e2z9u9Xr7adrgYlqs', 's_phone': '10-630-928-4130'}\n",
      "{'s_suppkey': 935, 's_name': 'Supplier#000000935', 's_address': 'JHRSOterYgt4MTNo7cupTzA,6MoNw 4', 's_phone': '13-437-885-9309'}\n",
      "{'s_suppkey': 657, 's_name': 'Supplier#000000657', 's_address': 'EQzYLK9veRU4SmmB2Bpd', 's_phone': '13-546-747-5121'}\n",
      "{'s_suppkey': 192, 's_name': 'Supplier#000000192', 's_address': '8xPZyX6Fhv2V6', 's_phone': '25-585-189-5975'}\n",
      "{'s_suppkey': 745, 's_name': 'Supplier#000000745', 's_address': 'hpQ5cur09gp4JfI3u4', 's_phone': '31-469-792-6546'}\n",
      "{'s_suppkey': 735, 's_name': 'Supplier#000000735', 's_address': 'UlA6 OQoTXZwp3XiT xw05WrhMBuSW', 's_phone': '27-984-128-6691'}\n",
      "{'s_suppkey': 675, 's_name': 'Supplier#000000675', 's_address': 'CPnv9f1UDd7BOlIAoww', 's_phone': '25-499-280-9384'}\n",
      "{'s_suppkey': 472, 's_name': 'Supplier#000000472', 's_address': 'eFh5YR,CwPDELCzLj6puVzK7', 's_phone': '30-976-134-3524'}\n",
      "{'s_suppkey': 481, 's_name': 'Supplier#000000481', 's_address': '6Al8Yob4roJY7BGMn', 's_phone': '19-951-947-8520'}\n",
      "{'s_suppkey': 656, 's_name': 'Supplier#000000656', 's_address': 'Fa3A9fKzywdi', 's_phone': '29-633-362-8481'}\n",
      "{'s_suppkey': 762, 's_name': 'Supplier#000000762', 's_address': 'l95MNgloZRydRCSQdtd15vsOPo6CYM8', 's_phone': '30-393-711-8623'}\n",
      "{'s_suppkey': 185, 's_name': 'Supplier#000000185', 's_address': 'mWo,q59bGX', 's_phone': '27-586-282-7422'}\n",
      "{'s_suppkey': 884, 's_name': 'Supplier#000000884', 's_address': 'QEJm8KMHQ8', 's_phone': '13-498-258-4793'}\n",
      "{'s_suppkey': 877, 's_name': 'Supplier#000000877', 's_address': 'XtdRIWoPaS8vZ3VjDzeFdHHJkLSeqOJ7k', 's_phone': '14-685-851-5424'}\n",
      "{'s_suppkey': 518, 's_name': 'Supplier#000000518', 's_address': 'LYPxnxT4sPHdn6UYidVQM,IU8rN6uIKI 8Y4', 's_phone': '11-853-939-1266'}\n",
      "{'s_suppkey': 119, 's_name': 'Supplier#000000119', 's_address': 'Xoup f,CWtzUf2lv1it1TR3DLTf1dDVgO2O', 's_phone': '28-558-264-1202'}\n",
      "{'s_suppkey': 182, 's_name': 'Supplier#000000182', 's_address': 'hx83kOzqN2OGJs5gEKCW4z', 's_phone': '17-825-333-7344'}\n",
      "{'s_suppkey': 578, 's_name': 'Supplier#000000578', 's_address': 'QDVh,rWWYUoBO4TFr aR1AuAh,gd', 's_phone': '30-105-334-1726'}\n",
      "{'s_suppkey': 497, 's_name': 'Supplier#000000497', 's_address': 'JfqAFpgnf6lAj HycOiNUrx2C8EBq', 's_phone': '22-895-454-2151'}\n",
      "{'s_suppkey': 406, 's_name': 'Supplier#000000406', 's_address': 'teJ6VTonlWRj7MCOuKRiL91KA', 's_phone': '31-926-216-4352'}\n",
      "{'s_suppkey': 236, 's_name': 'Supplier#000000236', 's_address': 'O1muyOZNFeu bN8BnoX', 's_phone': '25-250-525-2436'}\n",
      "{'s_suppkey': 722, 's_name': 'Supplier#000000722', 's_address': '44tOlazmlW8kJk pbDeZUh9p', 's_phone': '12-909-341-4605'}\n",
      "{'s_suppkey': 254, 's_name': 'Supplier#000000254', 's_address': 'PUJWEJshq58,cs', 's_phone': '17-100-212-8737'}\n",
      "{'s_suppkey': 439, 's_name': 'Supplier#000000439', 's_address': 'O7DoOwbpg8shr49Fy0mEJrgDigOvO9S2c Ngx4nY', 's_phone': '19-415-856-7881'}\n",
      "{'s_suppkey': 890, 's_name': 'Supplier#000000890', 's_address': 'u2T3JMNhMWNvJS91ruj90Vaqp8', 's_phone': '21-196-765-4250'}\n",
      "{'s_suppkey': 898, 's_name': 'Supplier#000000898', 's_address': '7xNXAr6oRZpt0O', 's_phone': '14-247-832-2299'}\n",
      "{'s_suppkey': 463, 's_name': 'Supplier#000000463', 's_address': '4cPWnRye6tBexleSY19QRBvzmb', 's_phone': '10-178-678-7353'}\n",
      "{'s_suppkey': 491, 's_name': 'Supplier#000000491', 's_address': 'F7PnOijaTN', 's_phone': '10-361-729-1693'}\n",
      "{'s_suppkey': 154, 's_name': 'Supplier#000000154', 's_address': 'LpVZccF2rtGMlnD1BDn9QznAt,K2e09d9PC', 's_phone': '23-471-808-2661'}\n",
      "{'s_suppkey': 425, 's_name': 'Supplier#000000425', 's_address': 'RrgDmlL0PAnDkNY5NR7F', 's_phone': '10-262-132-6639'}\n",
      "{'s_suppkey': 739, 's_name': 'Supplier#000000739', 's_address': 'OT naEM1oQNRmVTyXf8AUg', 's_phone': '21-304-934-6837'}\n",
      "{'s_suppkey': 791, 's_name': 'Supplier#000000791', 's_address': 'ZNlL5U6ZGprn43F1dBKb0', 's_phone': '32-320-959-1370'}\n",
      "{'s_suppkey': 941, 's_name': 'Supplier#000000941', 's_address': 'LAkY3nD5Fs7JHHLbk2kFwG0HORdzBFjS9FML', 's_phone': '31-412-752-5573'}\n",
      "{'s_suppkey': 295, 's_name': 'Supplier#000000295', 's_address': 'LBETLRJ2RHV2t7 snCsxG', 's_phone': '33-998-989-3147'}\n",
      "{'s_suppkey': 833, 's_name': 'Supplier#000000833', 's_address': 'JKYw2vx0SuwmsF,7LqWyW5h', 's_phone': '27-470-524-5760'}\n",
      "{'s_suppkey': 468, 's_name': 'Supplier#000000468', 's_address': '80Bvm1zGP2I VnornYmLFmjdtPJAlgwZFCl', 's_phone': '16-494-568-3545'}\n",
      "{'s_suppkey': 157, 's_name': 'Supplier#000000157', 's_address': '1EmkCApL5iF', 's_phone': '13-776-259-5994'}\n",
      "{'s_suppkey': 402, 's_name': 'Supplier#000000402', 's_address': 'JR8vWoCteJtJg3okRpt0r28KEo', 's_phone': '13-109-731-3195'}\n",
      "{'s_suppkey': 496, 's_name': 'Supplier#000000496', 's_address': 'QMWQx2utAqLlVtzkXD34POTPn dKN1', 's_phone': '30-810-880-3654'}\n",
      "{'s_suppkey': 925, 's_name': 'Supplier#000000925', 's_address': 'vXDWBL0AYSnOG2c1UZXkUzMCqF7b830I7wnxeY6', 's_phone': '29-398-723-8226'}\n",
      "{'s_suppkey': 511, 's_name': 'Supplier#000000511', 's_address': 'a4dN7nM05hmQ dWcxT3F', 's_phone': '33-476-213-8045'}\n"
     ]
    }
   ],
   "source": [
    "# Cursed data shuffling to reidentify what row goes where, what column goes where, and what the labels should be on everything\n",
    "colidxes = {}\n",
    "for col in OUTPUT_COLS:\n",
    "    colidxes[col] = templatedf.get_column_index(col)\n",
    "rowidxes = {}\n",
    "for row in templatedf.select(INDEX_COLS).iter_rows(named=True):\n",
    "    rowidxes[tuple(row.values())] = allgroups.with_row_index().filter(\n",
    "        pl.col(k).eq(v)\n",
    "        for k, v in row.items()\n",
    "    ).select(\"index\").item()\n",
    "    print(row)\n",
    "\n",
    "allinfo = [\n",
    "    {\"colname\": adentry['col'],\n",
    "    \"rowid\": tuple(adentry['row'].values()),\n",
    "    \"value\": adentry['value'][0],\n",
    "    \"colidx\": colidxes[adentry['col']],\n",
    "    \"rowidx\": rowidxes[tuple(adentry['row'].values())]}\n",
    "    for adidx, adentry in alldata.items()\n",
    "]\n",
    "\n",
    "colnames = {}\n",
    "rownames = {}\n",
    "for entry in allinfo:\n",
    "    colnames[entry['colidx']] = entry['colname']\n",
    "    rownames[entry['rowidx']] = entry['rowid']"
   ]
  },
  {
   "cell_type": "markdown",
   "id": "61e58b37",
   "metadata": {
    "papermill": {
     "duration": 0.001168,
     "end_time": "2025-05-01T09:34:35.745722",
     "exception": false,
     "start_time": "2025-05-01T09:34:35.744554",
     "status": "completed"
    },
    "tags": []
   },
   "source": [
    "Naive reconstruction"
   ]
  },
  {
   "cell_type": "code",
   "execution_count": 10,
   "id": "c6da70b0",
   "metadata": {
    "execution": {
     "iopub.execute_input": "2025-05-01T09:34:35.748539Z",
     "iopub.status.busy": "2025-05-01T09:34:35.748443Z",
     "iopub.status.idle": "2025-05-01T09:34:35.792739Z",
     "shell.execute_reply": "2025-05-01T09:34:35.791931Z"
    },
    "papermill": {
     "duration": 0.04775,
     "end_time": "2025-05-01T09:34:35.794649",
     "exception": false,
     "start_time": "2025-05-01T09:34:35.746899",
     "status": "completed"
    },
    "tags": []
   },
   "outputs": [
    {
     "name": "stdout",
     "output_type": "stream",
     "text": [
      "['s_suppkey', 's_name', 's_address', 's_phone', 'total_revenue']\n",
      "[913, 'Supplier#000000913', 'PTSEe31GjmUGy58DpRn', '34-601-419-1634', 740946.8968257306]\n",
      "[474, 'Supplier#000000474', '78jpeO3SIlDN6', '10-327-319-7717', 908937.1094937591]\n",
      "[677, 'Supplier#000000677', 'TEJ LMkTnY5hp8aQckzyb', '23-290-639-3315', 950510.9765868094]\n",
      "[378, 'Supplier#000000378', 'mLPJtpu4wOc cSFzBR', '13-930-567-5190', 847088.4238866355]\n",
      "[220, 'Supplier#000000220', 'yw45wy2XyjPmY4XXHOcVYSvtU', '29-197-645-8102', 899938.3756387155]\n",
      "[315, 'Supplier#000000315', 'k9fJuxApb0M0dHM7I7', '12-574-691-2832', 959801.5519142305]\n",
      "[641, 'Supplier#000000641', 's,fStDiv8ocWmhtn8irUQ5jRG', '27-393-904-4536', 975994.3403430603]\n",
      "[953, 'Supplier#000000953', 'w77P,JF6UdQQZ5f jHUG0I6yW8lleUAwy3ztsqr', '31-642-490-3022', 770309.4147504745]\n",
      "[238, 'Supplier#000000238', 'vH81dBrqiAF 5r6MutkO9,W92ds4', '18-950-354-3488', 881250.873261866]\n",
      "[164, 'Supplier#000000164', 'Uj0,Jr1GFzWA58rVzHPD6DayBIeDkmxXKg368', '12-414-446-6598', 964269.5042521064]\n",
      "[966, 'Supplier#000000966', 'm9Fh4uXYiU8zm9 lnA0k9T', '14-681-361-1636', 980913.2887544623]\n",
      "[987, 'Supplier#000000987', 'oq4hZGnJtPQ8cXEEKAnYTQ3', '28-375-179-1732', 910601.0848501133]\n",
      "[984, 'Supplier#000000984', 'VjUAAuMrI2Q2soEw4JH', '31-519-879-5266', 840047.2516806578]\n",
      "[187, 'Supplier#000000187', 'Deyt7GUJ7tgaJIpw 6QQXYsgcILdCPnA', '28-127-320-9230', 979626.9250747449]\n",
      "[317, 'Supplier#000000317', 'nvxebmGPXiA8AIy4SNNKvtra4K3uMeX9CcxZN', '27-131-276-7910', 900199.8088430658]\n",
      "[742, 'Supplier#000000742', 'uQ3V,Hvi5DmM2X', '10-673-629-5928', 885286.6023193209]\n",
      "[846, 'Supplier#000000846', 'pZozXtjFOMaeuFQcipB poTUuXfg5NkXaJ1', '30-283-261-2020', 909549.7802224506]\n",
      "[422, 'Supplier#000000422', 'JxWOTAGllddwELu1Q8zUZi', '20-645-417-6790', 888614.0523541786]\n",
      "[865, 'Supplier#000000865', 't25EWlbbFw6ZetzIAn6izMJs6SJn,yjQjMK', '27-993-155-8321', 872281.5999]\n",
      "[887, 'Supplier#000000887', 'y mQ7NHjVbdqnbYr9 L', '13-738-297-6117', 1258956.0245136688]\n",
      "[736, 'Supplier#000000736', 'GUIYDfv5xCxLgDx6KQ8khY ntVVnFqmfMKIgT', '13-681-806-8650', 813043.2186992826]\n",
      "[679, 'Supplier#000000679', 'BfsNlaP5nMnj', '14-771-110-7666', 878905.9283478791]\n",
      "[756, 'Supplier#000000756', 'u83kAQaB2P4fCQlfgAiNkVbQI', '17-726-757-7711', 850837.4755507311]\n",
      "[91, 'Supplier#000000091', '35WVnU7GLNbQDcc2TARavGtk6RB6ZCd46UAY', '13-604-986-9056', 967813.4478]\n",
      "[385, 'Supplier#000000385', 'X9nvgpdOUrup2', '28-730-866-8837', 731398.4546575587]\n",
      "[634, 'Supplier#000000634', 'K8UYwAQCCtk4Degu15XL,k8bMhh0TxagUeV', '33-105-608-2902', 752615.2590234616]\n",
      "[921, 'Supplier#000000921', 'ZNzg,SXxDld', '12-670-146-9689', 1021803.4434002979]\n",
      "[470, 'Supplier#000000470', '4OGPs qKpfQ6GNLIKhmbIE6e7fSMP8fmwi', '29-165-289-1523', 930228.2962374564]\n",
      "[423, 'Supplier#000000423', '6oKeHpFxWioQ55ewe4,qaLZJC', '34-577-174-3894', 957987.6042647276]\n",
      "[322, 'Supplier#000000322', 'GpYAOmo vQtFTaQ', '16-803-605-4129', 890362.6467]\n",
      "[696, 'Supplier#000000696', 'K4wgrSdZma4,GHmj', '10-745-572-7198', 905884.2810700694]\n",
      "[718, 'Supplier#000000718', '5RPt3ayAwdObIwDvkTU V', '30-551-841-7946', 930795.8078803036]\n",
      "[878, 'Supplier#000000878', 'PMDDcCDMH3mxvuzv LCsV604ds7oT', '18-462-213-5795', 906587.6577]\n",
      "[971, 'Supplier#000000971', 'ZX3Q66f2xoYyaibkoxffLeV6Qwf', '13-380-957-8529', 1097779.906945077]\n",
      "[590, 'Supplier#000000590', 'hJ9yzgWlCtPBYJ6wKrPmkGnxz4qL', '19-277-247-1833', 937672.66326788]\n",
      "[379, 'Supplier#000000379', 'Itk4sjh7qNj,iGCZC', '30-202-917-6929', 855936.0382560097]\n",
      "[856, 'Supplier#000000856', '70kjY2HFEqUSh9PI4JPLUHoK 7TQ,nv', '14-216-125-2920', 876967.6030542412]\n",
      "[230, 'Supplier#000000230', '8K7ZWVoFxRdnP22quW4NTCM', '11-819-222-2128', 1093929.6824332508]\n",
      "[228, 'Supplier#000000228', 'Ct72ryCOQ8Rzi6FAj6Ppwe0 0', '24-920-216-6514', 904771.9457309559]\n",
      "[964, 'Supplier#000000964', 'iBjR27aHk3oZkoJ5ObHRgmkedTuv1GpsBNkTjFdP', '17-693-102-9498', 896817.2914798772]\n",
      "[896, 'Supplier#000000896', 'uwd1tPxa2ESNRqSxZE', '17-790-100-9143', 731534.196558565]\n",
      "[731, 'Supplier#000000731', 'Ouq oNogB26Wtpcp1c1PYR2XzUmJiIYN', '31-306-298-2911', 892908.0859]\n",
      "[170, 'Supplier#000000170', 'ayz3a18xDGrr3jtS', '33-803-340-5398', 970003.7117]\n",
      "[740, 'Supplier#000000740', 'xISYluAkMFl4,kZFBbZTNnophaKdfweIr', '33-714-391-9055', 917065.9524633884]\n",
      "[988, 'Supplier#000000988', 'OlyTXi4e2z9u9Xr7adrgYlqs', '10-630-928-4130', 905987.0809085905]\n",
      "[935, 'Supplier#000000935', 'JHRSOterYgt4MTNo7cupTzA,6MoNw 4', '13-437-885-9309', 941079.1237700607]\n",
      "[657, 'Supplier#000000657', 'EQzYLK9veRU4SmmB2Bpd', '13-546-747-5121', 1017008.1767136937]\n",
      "[192, 'Supplier#000000192', '8xPZyX6Fhv2V6', '25-585-189-5975', 944528.5434842771]\n",
      "[745, 'Supplier#000000745', 'hpQ5cur09gp4JfI3u4', '31-469-792-6546', 903089.7913416462]\n",
      "[735, 'Supplier#000000735', 'UlA6 OQoTXZwp3XiT xw05WrhMBuSW', '27-984-128-6691', 886803.4533741071]\n",
      "[675, 'Supplier#000000675', 'CPnv9f1UDd7BOlIAoww', '25-499-280-9384', 818917.553680425]\n",
      "[472, 'Supplier#000000472', 'eFh5YR,CwPDELCzLj6puVzK7', '30-976-134-3524', 856966.8131506818]\n",
      "[481, 'Supplier#000000481', '6Al8Yob4roJY7BGMn', '19-951-947-8520', 878553.1911124871]\n",
      "[656, 'Supplier#000000656', 'Fa3A9fKzywdi', '29-633-362-8481', 919712.0765]\n",
      "[762, 'Supplier#000000762', 'l95MNgloZRydRCSQdtd15vsOPo6CYM8', '30-393-711-8623', 825114.4423]\n",
      "[185, 'Supplier#000000185', 'mWo,q59bGX', '27-586-282-7422', 698698.2279675687]\n",
      "[884, 'Supplier#000000884', 'QEJm8KMHQ8', '13-498-258-4793', 820907.518299484]\n",
      "[877, 'Supplier#000000877', 'XtdRIWoPaS8vZ3VjDzeFdHHJkLSeqOJ7k', '14-685-851-5424', 834606.0943]\n",
      "[518, 'Supplier#000000518', 'LYPxnxT4sPHdn6UYidVQM,IU8rN6uIKI 8Y4', '11-853-939-1266', 884238.6006]\n",
      "[119, 'Supplier#000000119', 'Xoup f,CWtzUf2lv1it1TR3DLTf1dDVgO2O', '28-558-264-1202', 904402.5157]\n",
      "[182, 'Supplier#000000182', 'hx83kOzqN2OGJs5gEKCW4z', '17-825-333-7344', 926712.7473894869]\n",
      "[578, 'Supplier#000000578', 'QDVh,rWWYUoBO4TFr aR1AuAh,gd', '30-105-334-1726', 892177.6958]\n",
      "[497, 'Supplier#000000497', 'JfqAFpgnf6lAj HycOiNUrx2C8EBq', '22-895-454-2151', 867509.5183]\n",
      "[406, 'Supplier#000000406', 'teJ6VTonlWRj7MCOuKRiL91KA', '31-926-216-4352', 754043.1803544714]\n",
      "[236, 'Supplier#000000236', 'O1muyOZNFeu bN8BnoX', '25-250-525-2436', 970073.0696654863]\n",
      "[722, 'Supplier#000000722', '44tOlazmlW8kJk pbDeZUh9p', '12-909-341-4605', 965630.0087]\n",
      "[254, 'Supplier#000000254', 'PUJWEJshq58,cs', '17-100-212-8737', 804550.883]\n",
      "[439, 'Supplier#000000439', 'O7DoOwbpg8shr49Fy0mEJrgDigOvO9S2c Ngx4nY', '19-415-856-7881', 874859.0894]\n",
      "[890, 'Supplier#000000890', 'u2T3JMNhMWNvJS91ruj90Vaqp8', '21-196-765-4250', 899914.8330833033]\n",
      "[898, 'Supplier#000000898', '7xNXAr6oRZpt0O', '14-247-832-2299', 864890.2944]\n",
      "[463, 'Supplier#000000463', '4cPWnRye6tBexleSY19QRBvzmb', '10-178-678-7353', 874579.6617]\n",
      "[491, 'Supplier#000000491', 'F7PnOijaTN', '10-361-729-1693', 922338.7776188916]\n",
      "[154, 'Supplier#000000154', 'LpVZccF2rtGMlnD1BDn9QznAt,K2e09d9PC', '23-471-808-2661', 903219.8632]\n",
      "[425, 'Supplier#000000425', 'RrgDmlL0PAnDkNY5NR7F', '10-262-132-6639', 929166.038638612]\n",
      "[739, 'Supplier#000000739', 'OT naEM1oQNRmVTyXf8AUg', '21-304-934-6837', 856319.4932]\n",
      "[791, 'Supplier#000000791', 'ZNlL5U6ZGprn43F1dBKb0', '32-320-959-1370', 913937.9425]\n",
      "[941, 'Supplier#000000941', 'LAkY3nD5Fs7JHHLbk2kFwG0HORdzBFjS9FML', '31-412-752-5573', 826027.5202]\n",
      "[295, 'Supplier#000000295', 'LBETLRJ2RHV2t7 snCsxG', '33-998-989-3147', 836663.4117]\n",
      "[833, 'Supplier#000000833', 'JKYw2vx0SuwmsF,7LqWyW5h', '27-470-524-5760', 872507.0005]\n",
      "[468, 'Supplier#000000468', '80Bvm1zGP2I VnornYmLFmjdtPJAlgwZFCl', '16-494-568-3545', 873786.4878]\n",
      "[157, 'Supplier#000000157', '1EmkCApL5iF', '13-776-259-5994', 824768.044]\n",
      "[402, 'Supplier#000000402', 'JR8vWoCteJtJg3okRpt0r28KEo', '13-109-731-3195', 889440.1401]\n",
      "[496, 'Supplier#000000496', 'QMWQx2utAqLlVtzkXD34POTPn dKN1', '30-810-880-3654', 880258.6398]\n",
      "[925, 'Supplier#000000925', 'vXDWBL0AYSnOG2c1UZXkUzMCqF7b830I7wnxeY6', '29-398-723-8226', 912189.7834]\n",
      "[511, 'Supplier#000000511', 'a4dN7nM05hmQ dWcxT3F', '33-476-213-8045', 907335.5089]\n"
     ]
    }
   ],
   "source": [
    "# Naive reconstruction based on the indices of the keys in the templatedf\n",
    "allcols = INDEX_COLS + OUTPUT_COLS\n",
    "allrows = allgroups.select(INDEX_COLS).to_numpy().tolist()\n",
    "\n",
    "allinfo2 = {\n",
    "    (rowidxes[tuple(adentry['row'].values())], colidxes[adentry['col']]): adentry['value'][0]\n",
    "    for adidx, adentry in alldata.items()\n",
    "}\n",
    "\n",
    "df2 = []\n",
    "print(allcols)\n",
    "for row in allrows:\n",
    "    print(row + [allinfo2.get((rowidxes[tuple(row)], colidxes[col]), None) for col in OUTPUT_COLS])\n",
    "    df2.append(row + [allinfo2.get((rowidxes[tuple(row)], colidxes[col]), None) for col in OUTPUT_COLS])"
   ]
  },
  {
   "cell_type": "code",
   "execution_count": 11,
   "id": "396c2efa",
   "metadata": {
    "execution": {
     "iopub.execute_input": "2025-05-01T09:34:35.805382Z",
     "iopub.status.busy": "2025-05-01T09:34:35.804996Z",
     "iopub.status.idle": "2025-05-01T09:34:35.823095Z",
     "shell.execute_reply": "2025-05-01T09:34:35.822193Z"
    },
    "papermill": {
     "duration": 0.023861,
     "end_time": "2025-05-01T09:34:35.824944",
     "exception": false,
     "start_time": "2025-05-01T09:34:35.801083",
     "status": "completed"
    },
    "tags": []
   },
   "outputs": [
    {
     "data": {
      "text/html": [
       "<div><style>\n",
       ".dataframe > thead > tr,\n",
       ".dataframe > tbody > tr {\n",
       "  text-align: right;\n",
       "  white-space: pre-wrap;\n",
       "}\n",
       "</style>\n",
       "<small>shape: (85, 5)</small><table border=\"1\" class=\"dataframe\"><thead><tr><th>s_suppkey</th><th>s_name</th><th>s_address</th><th>s_phone</th><th>total_revenue</th></tr><tr><td>i64</td><td>str</td><td>str</td><td>str</td><td>decimal[38,4]</td></tr></thead><tbody><tr><td>913</td><td>&quot;Supplier#000000913&quot;</td><td>&quot;PTSEe31GjmUGy58DpRn&quot;</td><td>&quot;34-601-419-1634&quot;</td><td>740946.8968</td></tr><tr><td>474</td><td>&quot;Supplier#000000474&quot;</td><td>&quot;78jpeO3SIlDN6&quot;</td><td>&quot;10-327-319-7717&quot;</td><td>908937.1094</td></tr><tr><td>677</td><td>&quot;Supplier#000000677&quot;</td><td>&quot;TEJ LMkTnY5hp8aQckzyb&quot;</td><td>&quot;23-290-639-3315&quot;</td><td>950510.9765</td></tr><tr><td>378</td><td>&quot;Supplier#000000378&quot;</td><td>&quot;mLPJtpu4wOc cSFzBR&quot;</td><td>&quot;13-930-567-5190&quot;</td><td>847088.4238</td></tr><tr><td>220</td><td>&quot;Supplier#000000220&quot;</td><td>&quot;yw45wy2XyjPmY4XXHOcVYSvtU&quot;</td><td>&quot;29-197-645-8102&quot;</td><td>899938.3756</td></tr><tr><td>&hellip;</td><td>&hellip;</td><td>&hellip;</td><td>&hellip;</td><td>&hellip;</td></tr><tr><td>157</td><td>&quot;Supplier#000000157&quot;</td><td>&quot;1EmkCApL5iF&quot;</td><td>&quot;13-776-259-5994&quot;</td><td>824768.0440</td></tr><tr><td>402</td><td>&quot;Supplier#000000402&quot;</td><td>&quot;JR8vWoCteJtJg3okRpt0r28KEo&quot;</td><td>&quot;13-109-731-3195&quot;</td><td>889440.1401</td></tr><tr><td>496</td><td>&quot;Supplier#000000496&quot;</td><td>&quot;QMWQx2utAqLlVtzkXD34POTPn dKN1&quot;</td><td>&quot;30-810-880-3654&quot;</td><td>880258.6398</td></tr><tr><td>925</td><td>&quot;Supplier#000000925&quot;</td><td>&quot;vXDWBL0AYSnOG2c1UZXkUzMCqF7b83…</td><td>&quot;29-398-723-8226&quot;</td><td>912189.7834</td></tr><tr><td>511</td><td>&quot;Supplier#000000511&quot;</td><td>&quot;a4dN7nM05hmQ dWcxT3F&quot;</td><td>&quot;33-476-213-8045&quot;</td><td>907335.5089</td></tr></tbody></table></div>"
      ],
      "text/plain": [
       "shape: (85, 5)\n",
       "┌───────────┬────────────────────┬───────────────────────────────┬─────────────────┬───────────────┐\n",
       "│ s_suppkey ┆ s_name             ┆ s_address                     ┆ s_phone         ┆ total_revenue │\n",
       "│ ---       ┆ ---                ┆ ---                           ┆ ---             ┆ ---           │\n",
       "│ i64       ┆ str                ┆ str                           ┆ str             ┆ decimal[38,4] │\n",
       "╞═══════════╪════════════════════╪═══════════════════════════════╪═════════════════╪═══════════════╡\n",
       "│ 913       ┆ Supplier#000000913 ┆ PTSEe31GjmUGy58DpRn           ┆ 34-601-419-1634 ┆ 740946.8968   │\n",
       "│ 474       ┆ Supplier#000000474 ┆ 78jpeO3SIlDN6                 ┆ 10-327-319-7717 ┆ 908937.1094   │\n",
       "│ 677       ┆ Supplier#000000677 ┆ TEJ LMkTnY5hp8aQckzyb         ┆ 23-290-639-3315 ┆ 950510.9765   │\n",
       "│ 378       ┆ Supplier#000000378 ┆ mLPJtpu4wOc cSFzBR            ┆ 13-930-567-5190 ┆ 847088.4238   │\n",
       "│ 220       ┆ Supplier#000000220 ┆ yw45wy2XyjPmY4XXHOcVYSvtU     ┆ 29-197-645-8102 ┆ 899938.3756   │\n",
       "│ …         ┆ …                  ┆ …                             ┆ …               ┆ …             │\n",
       "│ 157       ┆ Supplier#000000157 ┆ 1EmkCApL5iF                   ┆ 13-776-259-5994 ┆ 824768.0440   │\n",
       "│ 402       ┆ Supplier#000000402 ┆ JR8vWoCteJtJg3okRpt0r28KEo    ┆ 13-109-731-3195 ┆ 889440.1401   │\n",
       "│ 496       ┆ Supplier#000000496 ┆ QMWQx2utAqLlVtzkXD34POTPn     ┆ 30-810-880-3654 ┆ 880258.6398   │\n",
       "│           ┆                    ┆ dKN1                          ┆                 ┆               │\n",
       "│ 925       ┆ Supplier#000000925 ┆ vXDWBL0AYSnOG2c1UZXkUzMCqF7b8 ┆ 29-398-723-8226 ┆ 912189.7834   │\n",
       "│           ┆                    ┆ 3…                            ┆                 ┆               │\n",
       "│ 511       ┆ Supplier#000000511 ┆ a4dN7nM05hmQ dWcxT3F          ┆ 33-476-213-8045 ┆ 907335.5089   │\n",
       "└───────────┴────────────────────┴───────────────────────────────┴─────────────────┴───────────────┘"
      ]
     },
     "execution_count": 11,
     "metadata": {},
     "output_type": "execute_result"
    }
   ],
   "source": [
    "pl.DataFrame(df2, schema=allcols, orient='row').cast(templatedf.schema)"
   ]
  },
  {
   "cell_type": "code",
   "execution_count": 12,
   "id": "22658efb",
   "metadata": {
    "execution": {
     "iopub.execute_input": "2025-05-01T09:34:35.833814Z",
     "iopub.status.busy": "2025-05-01T09:34:35.833445Z",
     "iopub.status.idle": "2025-05-01T09:34:35.849773Z",
     "shell.execute_reply": "2025-05-01T09:34:35.849131Z"
    },
    "papermill": {
     "duration": 0.020919,
     "end_time": "2025-05-01T09:34:35.851517",
     "exception": false,
     "start_time": "2025-05-01T09:34:35.830598",
     "status": "completed"
    },
    "tags": []
   },
   "outputs": [],
   "source": [
    "pl.DataFrame(df2, schema=allcols, orient='row').cast(templatedf.schema).write_csv(os.path.join(OUTPUT_DIR, 'output.csv'))"
   ]
  },
  {
   "cell_type": "code",
   "execution_count": 13,
   "id": "fbf29824",
   "metadata": {
    "execution": {
     "iopub.execute_input": "2025-05-01T09:34:35.857686Z",
     "iopub.status.busy": "2025-05-01T09:34:35.857430Z",
     "iopub.status.idle": "2025-05-01T09:34:35.864488Z",
     "shell.execute_reply": "2025-05-01T09:34:35.863610Z"
    },
    "papermill": {
     "duration": 0.011078,
     "end_time": "2025-05-01T09:34:35.866067",
     "exception": false,
     "start_time": "2025-05-01T09:34:35.854989",
     "status": "completed"
    },
    "tags": []
   },
   "outputs": [
    {
     "data": {
      "text/plain": [
       "'/Users/michael/projects/dpdb/pacdb/outputs/ap-duckdb-q15-customer-step3.zip'"
      ]
     },
     "execution_count": 13,
     "metadata": {},
     "output_type": "execute_result"
    }
   ],
   "source": [
    "# zip the OUTPUT_DIR\n",
    "shutil.make_archive(OUTPUT_DIR, 'zip', OUTPUT_DIR)"
   ]
  }
 ],
 "metadata": {
  "kernelspec": {
   "display_name": ".venv",
   "language": "python",
   "name": "python3"
  },
  "language_info": {
   "codemirror_mode": {
    "name": "ipython",
    "version": 3
   },
   "file_extension": ".py",
   "mimetype": "text/x-python",
   "name": "python",
   "nbconvert_exporter": "python",
   "pygments_lexer": "ipython3",
   "version": "3.11.7"
  },
  "papermill": {
   "default_parameters": {},
   "duration": 1.104374,
   "end_time": "2025-05-01T09:34:36.093528",
   "environment_variables": {},
   "exception": null,
   "input_path": "autopac-duckdb-step3.ipynb",
   "output_path": "./ap-duckdb-q15-customer-step3.ipynb",
   "parameters": {
    "EXPERIMENT": "ap-duckdb-q15-customer",
    "INDEX_COLS": [
     "s_suppkey",
     "s_name",
     "s_address",
     "s_phone"
    ],
    "INPUT_ZIP": "./outputs/ap-duckdb-q15-customer-step2.zip",
    "OUTPUT_COLS": [
     "total_revenue"
    ],
    "OUTPUT_DIR": "./outputs/ap-duckdb-q15-customer-step3",
    "templatedf_path": "./outputs/ap-duckdb-q15-customer-step1/template.pkl"
   },
   "start_time": "2025-05-01T09:34:34.989154",
   "version": "2.6.0"
  }
 },
 "nbformat": 4,
 "nbformat_minor": 5
}