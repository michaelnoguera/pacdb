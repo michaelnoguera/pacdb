{
 "cells": [
  {
   "cell_type": "code",
   "execution_count": 1,
   "id": "eba650e4",
   "metadata": {
    "execution": {
     "iopub.execute_input": "2025-04-25T05:59:04.329804Z",
     "iopub.status.busy": "2025-04-25T05:59:04.329624Z",
     "iopub.status.idle": "2025-04-25T05:59:04.372893Z",
     "shell.execute_reply": "2025-04-25T05:59:04.372507Z"
    },
    "papermill": {
     "duration": 0.047034,
     "end_time": "2025-04-25T05:59:04.373980",
     "exception": false,
     "start_time": "2025-04-25T05:59:04.326946",
     "status": "completed"
    },
    "tags": []
   },
   "outputs": [],
   "source": [
    "#!/usr/bin/env python\n",
    "# coding: utf-8\n",
    "\n",
    "import json\n",
    "import os\n",
    "import pickle\n",
    "import shutil\n",
    "import zipfile\n",
    "\n",
    "import parse\n",
    "import polars as pl"
   ]
  },
  {
   "cell_type": "code",
   "execution_count": 2,
   "id": "5bbee7d0",
   "metadata": {
    "execution": {
     "iopub.execute_input": "2025-04-25T05:59:04.377143Z",
     "iopub.status.busy": "2025-04-25T05:59:04.377021Z",
     "iopub.status.idle": "2025-04-25T05:59:04.379003Z",
     "shell.execute_reply": "2025-04-25T05:59:04.378767Z"
    },
    "papermill": {
     "duration": 0.004087,
     "end_time": "2025-04-25T05:59:04.379655",
     "exception": false,
     "start_time": "2025-04-25T05:59:04.375568",
     "status": "completed"
    },
    "tags": [
     "parameters"
    ]
   },
   "outputs": [],
   "source": [
    "#EXPERIMENT = \"asdf\"\n",
    "#INPUT_ZIP = f\"./outputs/{EXPERIMENT}-step2.zip\"\n",
    "#OUTPUT_DIR = f\"./outputs/{EXPERIMENT}-step3\"\n",
    "#INDEX_COLS = pickle.load(open(f'./outputs/{EXPERIMENT}-step1/INDEX_COLS.pkl', 'rb'))\n",
    "#OUTPUT_COLS = pickle.load(open(f'./outputs/{EXPERIMENT}-step1/OUTPUT_COLS.pkl', 'rb'))\n",
    "#templatedf_path = f\"./outputs/{EXPERIMENT}-step2/templatedf.csv\"\n",
    "EXPERIMENT = \"\"\n",
    "INPUT_ZIP = \"\"\n",
    "OUTPUT_DIR = \"\"\n",
    "INDEX_COLS = []\n",
    "OUTPUT_COLS = []\n",
    "templatedf_path = \"\""
   ]
  },
  {
   "cell_type": "code",
   "execution_count": 3,
   "id": "fcc21ed9",
   "metadata": {
    "execution": {
     "iopub.execute_input": "2025-04-25T05:59:04.382113Z",
     "iopub.status.busy": "2025-04-25T05:59:04.382011Z",
     "iopub.status.idle": "2025-04-25T05:59:04.383686Z",
     "shell.execute_reply": "2025-04-25T05:59:04.383483Z"
    },
    "papermill": {
     "duration": 0.003552,
     "end_time": "2025-04-25T05:59:04.384265",
     "exception": false,
     "start_time": "2025-04-25T05:59:04.380713",
     "status": "completed"
    },
    "tags": [
     "injected-parameters"
    ]
   },
   "outputs": [],
   "source": [
    "# Parameters\n",
    "EXPERIMENT = \"ap-duckdb-q5-customer\"\n",
    "OUTPUT_DIR = \"./outputs/ap-duckdb-q5-customer-step3\"\n",
    "INPUT_ZIP = \"./outputs/ap-duckdb-q5-customer-step2.zip\"\n",
    "INDEX_COLS = [\"n_name\"]\n",
    "OUTPUT_COLS = [\"revenue\"]\n",
    "templatedf_path = \"./outputs/ap-duckdb-q5-customer-step1/template.pkl\"\n"
   ]
  },
  {
   "cell_type": "code",
   "execution_count": 4,
   "id": "7eeff702",
   "metadata": {
    "execution": {
     "iopub.execute_input": "2025-04-25T05:59:04.386740Z",
     "iopub.status.busy": "2025-04-25T05:59:04.386648Z",
     "iopub.status.idle": "2025-04-25T05:59:04.388584Z",
     "shell.execute_reply": "2025-04-25T05:59:04.388093Z"
    },
    "papermill": {
     "duration": 0.004019,
     "end_time": "2025-04-25T05:59:04.389321",
     "exception": false,
     "start_time": "2025-04-25T05:59:04.385302",
     "status": "completed"
    },
    "tags": []
   },
   "outputs": [],
   "source": [
    "if not os.path.exists(OUTPUT_DIR):\n",
    "    os.makedirs(OUTPUT_DIR)"
   ]
  },
  {
   "cell_type": "code",
   "execution_count": 5,
   "id": "257dec28",
   "metadata": {
    "execution": {
     "iopub.execute_input": "2025-04-25T05:59:04.391961Z",
     "iopub.status.busy": "2025-04-25T05:59:04.391854Z",
     "iopub.status.idle": "2025-04-25T05:59:04.393878Z",
     "shell.execute_reply": "2025-04-25T05:59:04.393628Z"
    },
    "papermill": {
     "duration": 0.003986,
     "end_time": "2025-04-25T05:59:04.394478",
     "exception": false,
     "start_time": "2025-04-25T05:59:04.390492",
     "status": "completed"
    },
    "tags": []
   },
   "outputs": [],
   "source": [
    "# Import saved variables from the first step\n",
    "templatedf: pl.DataFrame = pickle.load(open(templatedf_path, 'rb'))"
   ]
  },
  {
   "cell_type": "code",
   "execution_count": 6,
   "id": "ab3a80fe",
   "metadata": {
    "execution": {
     "iopub.execute_input": "2025-04-25T05:59:04.396949Z",
     "iopub.status.busy": "2025-04-25T05:59:04.396857Z",
     "iopub.status.idle": "2025-04-25T05:59:04.401283Z",
     "shell.execute_reply": "2025-04-25T05:59:04.401041Z"
    },
    "papermill": {
     "duration": 0.006373,
     "end_time": "2025-04-25T05:59:04.401922",
     "exception": false,
     "start_time": "2025-04-25T05:59:04.395549",
     "status": "completed"
    },
    "tags": []
   },
   "outputs": [
    {
     "data": {
      "text/plain": [
       "dict_keys([0, 1, 2, 3, 4])"
      ]
     },
     "execution_count": 6,
     "metadata": {},
     "output_type": "execute_result"
    }
   ],
   "source": [
    "# load the json input files from step 2\n",
    "# {'col': column name as string,\n",
    "#  'row': group-by column values as dict (effectively a row id),\n",
    "#  'values': [ 1000x values ] }\n",
    "alldata = {}\n",
    "\n",
    "pattern = parse.compile(\"{n}.json\")\n",
    "\n",
    "with zipfile.ZipFile(INPUT_ZIP, 'r') as zf:\n",
    "    for filename in zf.namelist():\n",
    "        if filename.endswith('.json'):\n",
    "            with zf.open(filename) as f:\n",
    "                filenumber = int(pattern.parse(filename).named['n'])\n",
    "                data = json.load(f)\n",
    "                d: dict = data\n",
    "                alldata[filenumber] = d\n",
    "alldata.keys()"
   ]
  },
  {
   "cell_type": "code",
   "execution_count": 7,
   "id": "fa47deff",
   "metadata": {
    "execution": {
     "iopub.execute_input": "2025-04-25T05:59:04.404877Z",
     "iopub.status.busy": "2025-04-25T05:59:04.404758Z",
     "iopub.status.idle": "2025-04-25T05:59:04.407585Z",
     "shell.execute_reply": "2025-04-25T05:59:04.407312Z"
    },
    "papermill": {
     "duration": 0.00507,
     "end_time": "2025-04-25T05:59:04.408244",
     "exception": false,
     "start_time": "2025-04-25T05:59:04.403174",
     "status": "completed"
    },
    "tags": []
   },
   "outputs": [],
   "source": [
    "# Make sure the data types of the row fields are correct\n",
    "for i in range(len(alldata)):\n",
    "    alldata[i]['row'] = pl.DataFrame(alldata[i]['row']).cast(templatedf.select(INDEX_COLS).schema).to_dicts()[0]"
   ]
  },
  {
   "cell_type": "code",
   "execution_count": 8,
   "id": "1d086fc3",
   "metadata": {
    "execution": {
     "iopub.execute_input": "2025-04-25T05:59:04.411077Z",
     "iopub.status.busy": "2025-04-25T05:59:04.410974Z",
     "iopub.status.idle": "2025-04-25T05:59:04.413395Z",
     "shell.execute_reply": "2025-04-25T05:59:04.413151Z"
    },
    "papermill": {
     "duration": 0.00453,
     "end_time": "2025-04-25T05:59:04.414039",
     "exception": false,
     "start_time": "2025-04-25T05:59:04.409509",
     "status": "completed"
    },
    "tags": []
   },
   "outputs": [
    {
     "data": {
      "text/html": [
       "<div><style>\n",
       ".dataframe > thead > tr,\n",
       ".dataframe > tbody > tr {\n",
       "  text-align: right;\n",
       "  white-space: pre-wrap;\n",
       "}\n",
       "</style>\n",
       "<small>shape: (5, 1)</small><table border=\"1\" class=\"dataframe\"><thead><tr><th>n_name</th></tr><tr><td>str</td></tr></thead><tbody><tr><td>&quot;CHINA&quot;</td></tr><tr><td>&quot;INDIA&quot;</td></tr><tr><td>&quot;INDONESIA&quot;</td></tr><tr><td>&quot;JAPAN&quot;</td></tr><tr><td>&quot;VIETNAM&quot;</td></tr></tbody></table></div>"
      ],
      "text/plain": [
       "shape: (5, 1)\n",
       "┌───────────┐\n",
       "│ n_name    │\n",
       "│ ---       │\n",
       "│ str       │\n",
       "╞═══════════╡\n",
       "│ CHINA     │\n",
       "│ INDIA     │\n",
       "│ INDONESIA │\n",
       "│ JAPAN     │\n",
       "│ VIETNAM   │\n",
       "└───────────┘"
      ]
     },
     "execution_count": 8,
     "metadata": {},
     "output_type": "execute_result"
    }
   ],
   "source": [
    "allgroups = templatedf.select(INDEX_COLS)\n",
    "allgroups"
   ]
  },
  {
   "cell_type": "code",
   "execution_count": 9,
   "id": "0b249a7b",
   "metadata": {
    "execution": {
     "iopub.execute_input": "2025-04-25T05:59:04.417012Z",
     "iopub.status.busy": "2025-04-25T05:59:04.416906Z",
     "iopub.status.idle": "2025-04-25T05:59:04.420774Z",
     "shell.execute_reply": "2025-04-25T05:59:04.420529Z"
    },
    "papermill": {
     "duration": 0.006055,
     "end_time": "2025-04-25T05:59:04.421462",
     "exception": false,
     "start_time": "2025-04-25T05:59:04.415407",
     "status": "completed"
    },
    "tags": []
   },
   "outputs": [
    {
     "name": "stdout",
     "output_type": "stream",
     "text": [
      "{'n_name': 'CHINA'}\n",
      "{'n_name': 'INDIA'}\n",
      "{'n_name': 'INDONESIA'}\n",
      "{'n_name': 'JAPAN'}\n",
      "{'n_name': 'VIETNAM'}\n"
     ]
    }
   ],
   "source": [
    "# Cursed data shuffling to reidentify what row goes where, what column goes where, and what the labels should be on everything\n",
    "colidxes = {}\n",
    "for col in OUTPUT_COLS:\n",
    "    colidxes[col] = templatedf.get_column_index(col)\n",
    "rowidxes = {}\n",
    "for row in templatedf.select(INDEX_COLS).iter_rows(named=True):\n",
    "    rowidxes[tuple(row.values())] = allgroups.with_row_index().filter(\n",
    "        pl.col(k).eq(v)\n",
    "        for k, v in row.items()\n",
    "    ).select(\"index\").item()\n",
    "    print(row)\n",
    "\n",
    "allinfo = [\n",
    "    {\"colname\": adentry['col'],\n",
    "    \"rowid\": tuple(adentry['row'].values()),\n",
    "    \"value\": adentry['value'][0],\n",
    "    \"colidx\": colidxes[adentry['col']],\n",
    "    \"rowidx\": rowidxes[tuple(adentry['row'].values())]}\n",
    "    for adidx, adentry in alldata.items()\n",
    "]\n",
    "\n",
    "colnames = {}\n",
    "rownames = {}\n",
    "for entry in allinfo:\n",
    "    colnames[entry['colidx']] = entry['colname']\n",
    "    rownames[entry['rowidx']] = entry['rowid']"
   ]
  },
  {
   "cell_type": "markdown",
   "id": "61e58b37",
   "metadata": {
    "papermill": {
     "duration": 0.001463,
     "end_time": "2025-04-25T05:59:04.424310",
     "exception": false,
     "start_time": "2025-04-25T05:59:04.422847",
     "status": "completed"
    },
    "tags": []
   },
   "source": [
    "Naive reconstruction"
   ]
  },
  {
   "cell_type": "code",
   "execution_count": 10,
   "id": "c6da70b0",
   "metadata": {
    "execution": {
     "iopub.execute_input": "2025-04-25T05:59:04.427295Z",
     "iopub.status.busy": "2025-04-25T05:59:04.427178Z",
     "iopub.status.idle": "2025-04-25T05:59:04.467251Z",
     "shell.execute_reply": "2025-04-25T05:59:04.465941Z"
    },
    "papermill": {
     "duration": 0.043905,
     "end_time": "2025-04-25T05:59:04.469541",
     "exception": false,
     "start_time": "2025-04-25T05:59:04.425636",
     "status": "completed"
    },
    "tags": []
   },
   "outputs": [
    {
     "name": "stdout",
     "output_type": "stream",
     "text": [
      "['n_name', 'revenue']\n",
      "['CHINA', 4042026.0207939306]\n",
      "['INDIA', 2927221.929280396]\n",
      "['INDONESIA', 2802647.822701669]\n",
      "['JAPAN', 2434184.272931287]\n",
      "['VIETNAM', 1991493.9714364037]\n"
     ]
    }
   ],
   "source": [
    "# Naive reconstruction based on the indices of the keys in the templatedf\n",
    "allcols = INDEX_COLS + OUTPUT_COLS\n",
    "allrows = allgroups.select(INDEX_COLS).to_numpy().tolist()\n",
    "\n",
    "allinfo2 = {\n",
    "    (rowidxes[tuple(adentry['row'].values())], colidxes[adentry['col']]): adentry['value'][0]\n",
    "    for adidx, adentry in alldata.items()\n",
    "}\n",
    "\n",
    "df2 = []\n",
    "print(allcols)\n",
    "for row in allrows:\n",
    "    print(row + [allinfo2.get((rowidxes[tuple(row)], colidxes[col]), None) for col in OUTPUT_COLS])\n",
    "    df2.append(row + [allinfo2.get((rowidxes[tuple(row)], colidxes[col]), None) for col in OUTPUT_COLS])"
   ]
  },
  {
   "cell_type": "code",
   "execution_count": 11,
   "id": "396c2efa",
   "metadata": {
    "execution": {
     "iopub.execute_input": "2025-04-25T05:59:04.485773Z",
     "iopub.status.busy": "2025-04-25T05:59:04.484901Z",
     "iopub.status.idle": "2025-04-25T05:59:04.493628Z",
     "shell.execute_reply": "2025-04-25T05:59:04.492969Z"
    },
    "papermill": {
     "duration": 0.021636,
     "end_time": "2025-04-25T05:59:04.495575",
     "exception": false,
     "start_time": "2025-04-25T05:59:04.473939",
     "status": "completed"
    },
    "tags": []
   },
   "outputs": [
    {
     "data": {
      "text/html": [
       "<div><style>\n",
       ".dataframe > thead > tr,\n",
       ".dataframe > tbody > tr {\n",
       "  text-align: right;\n",
       "  white-space: pre-wrap;\n",
       "}\n",
       "</style>\n",
       "<small>shape: (5, 2)</small><table border=\"1\" class=\"dataframe\"><thead><tr><th>n_name</th><th>revenue</th></tr><tr><td>str</td><td>decimal[38,4]</td></tr></thead><tbody><tr><td>&quot;CHINA&quot;</td><td>4042026.0207</td></tr><tr><td>&quot;INDIA&quot;</td><td>2927221.9292</td></tr><tr><td>&quot;INDONESIA&quot;</td><td>2802647.8227</td></tr><tr><td>&quot;JAPAN&quot;</td><td>2434184.2729</td></tr><tr><td>&quot;VIETNAM&quot;</td><td>1991493.9714</td></tr></tbody></table></div>"
      ],
      "text/plain": [
       "shape: (5, 2)\n",
       "┌───────────┬───────────────┐\n",
       "│ n_name    ┆ revenue       │\n",
       "│ ---       ┆ ---           │\n",
       "│ str       ┆ decimal[38,4] │\n",
       "╞═══════════╪═══════════════╡\n",
       "│ CHINA     ┆ 4042026.0207  │\n",
       "│ INDIA     ┆ 2927221.9292  │\n",
       "│ INDONESIA ┆ 2802647.8227  │\n",
       "│ JAPAN     ┆ 2434184.2729  │\n",
       "│ VIETNAM   ┆ 1991493.9714  │\n",
       "└───────────┴───────────────┘"
      ]
     },
     "execution_count": 11,
     "metadata": {},
     "output_type": "execute_result"
    }
   ],
   "source": [
    "pl.DataFrame(df2, schema=allcols, orient='row').cast(templatedf.schema)"
   ]
  },
  {
   "cell_type": "code",
   "execution_count": 12,
   "id": "22658efb",
   "metadata": {
    "execution": {
     "iopub.execute_input": "2025-04-25T05:59:04.502574Z",
     "iopub.status.busy": "2025-04-25T05:59:04.502276Z",
     "iopub.status.idle": "2025-04-25T05:59:04.523373Z",
     "shell.execute_reply": "2025-04-25T05:59:04.522574Z"
    },
    "papermill": {
     "duration": 0.02625,
     "end_time": "2025-04-25T05:59:04.526022",
     "exception": false,
     "start_time": "2025-04-25T05:59:04.499772",
     "status": "completed"
    },
    "tags": []
   },
   "outputs": [],
   "source": [
    "pl.DataFrame(df2, schema=allcols, orient='row').cast(templatedf.schema).write_csv(os.path.join(OUTPUT_DIR, 'output.csv'))"
   ]
  },
  {
   "cell_type": "code",
   "execution_count": 13,
   "id": "fbf29824",
   "metadata": {
    "execution": {
     "iopub.execute_input": "2025-04-25T05:59:04.536774Z",
     "iopub.status.busy": "2025-04-25T05:59:04.535354Z",
     "iopub.status.idle": "2025-04-25T05:59:04.548458Z",
     "shell.execute_reply": "2025-04-25T05:59:04.547737Z"
    },
    "papermill": {
     "duration": 0.020304,
     "end_time": "2025-04-25T05:59:04.550787",
     "exception": false,
     "start_time": "2025-04-25T05:59:04.530483",
     "status": "completed"
    },
    "tags": []
   },
   "outputs": [
    {
     "data": {
      "text/plain": [
       "'/Users/michael/projects/dpdb/pacdb/outputs/ap-duckdb-q5-customer-step3.zip'"
      ]
     },
     "execution_count": 13,
     "metadata": {},
     "output_type": "execute_result"
    }
   ],
   "source": [
    "# zip the OUTPUT_DIR\n",
    "shutil.make_archive(OUTPUT_DIR, 'zip', OUTPUT_DIR)"
   ]
  }
 ],
 "metadata": {
  "kernelspec": {
   "display_name": ".venv",
   "language": "python",
   "name": "python3"
  },
  "language_info": {
   "codemirror_mode": {
    "name": "ipython",
    "version": 3
   },
   "file_extension": ".py",
   "mimetype": "text/x-python",
   "name": "python",
   "nbconvert_exporter": "python",
   "pygments_lexer": "ipython3",
   "version": "3.11.7"
  },
  "papermill": {
   "default_parameters": {},
   "duration": 4.169309,
   "end_time": "2025-04-25T05:59:07.873778",
   "environment_variables": {},
   "exception": null,
   "input_path": "autopac-duckdb-step3.ipynb",
   "output_path": "./ap-duckdb-q5-customer-step3.ipynb",
   "parameters": {
    "EXPERIMENT": "ap-duckdb-q5-customer",
    "INDEX_COLS": [
     "n_name"
    ],
    "INPUT_ZIP": "./outputs/ap-duckdb-q5-customer-step2.zip",
    "OUTPUT_COLS": [
     "revenue"
    ],
    "OUTPUT_DIR": "./outputs/ap-duckdb-q5-customer-step3",
    "templatedf_path": "./outputs/ap-duckdb-q5-customer-step1/template.pkl"
   },
   "start_time": "2025-04-25T05:59:03.704469",
   "version": "2.6.0"
  }
 },
 "nbformat": 4,
 "nbformat_minor": 5
}