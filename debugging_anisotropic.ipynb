{
 "cells": [
  {
   "cell_type": "markdown",
   "metadata": {},
   "source": [
    "# Demo of Anisotropic Noise Problem"
   ]
  },
  {
   "cell_type": "code",
   "execution_count": 719,
   "metadata": {},
   "outputs": [],
   "source": [
    "from typing import List, Any, Tuple, Callable, Union\n",
    "import numpy as np\n",
    "import matplotlib as mpl\n",
    "import matplotlib.pyplot as plt"
   ]
  },
  {
   "cell_type": "markdown",
   "metadata": {},
   "source": [
    "I generate vectors of random numbers within different ranges to use as \"samples\" for noise calculation. Notice the \"shape\" of the input vector, which has small variance on the edges and high variance in the middle. I intentionally made the shape easy to recognize and non-symmetric to demonstrate how the noise outputs are not in the correct order.\n",
    "\n",
    "You can change sample_once to change the vectors used."
   ]
  },
  {
   "cell_type": "code",
   "execution_count": 720,
   "metadata": {},
   "outputs": [
    {
     "data": {
      "text/plain": [
       "array([ 0,  3, 48, 17,  1])"
      ]
     },
     "execution_count": 720,
     "metadata": {},
     "output_type": "execute_result"
    }
   ],
   "source": [
    "def sample_once() -> np.ndarray:\n",
    "    \"\"\"\n",
    "    Mock query function that returns a vector for debugging composed of random integers\n",
    "    sampled from different ranges.\n",
    "    \"\"\"\n",
    "    a = np.random.randint(0, 1)\n",
    "    b = np.random.randint(0, 10)\n",
    "    c = np.random.randint(0, 100)\n",
    "    d = np.random.randint(0, 50)\n",
    "    e = np.random.randint(0, 2)\n",
    "    return np.array([a, b, c, d, e])\n",
    "\n",
    "sample_once()"
   ]
  },
  {
   "cell_type": "markdown",
   "metadata": {},
   "source": [
    "Here's a visualization of the \"shape\" of the input vector, produced by averaging 1000 samples."
   ]
  },
  {
   "cell_type": "code",
   "execution_count": 721,
   "metadata": {},
   "outputs": [
    {
     "data": {
      "image/png": "[encoded data removed]",
      "text/plain": [
       "<Figure size 400x150 with 1 Axes>"
      ]
     },
     "metadata": {},
     "output_type": "display_data"
    }
   ],
   "source": [
    "fig, ax = plt.subplots(figsize=(4, 1.5))\n",
    "avg_sample = np.mean([sample_once() for _ in range(1000)], axis=0)\n",
    "plt.bar(range(len(avg_sample)), avg_sample, log=True)\n",
    "plt.show()"
   ]
  },
  {
   "cell_type": "markdown",
   "metadata": {},
   "source": [
    "This is the noise calculation method from pacdb/main.py, copied here for easy manipulation. If you change the function in this cell below and then re-run the cell, the function should be redefined, allowing you to change it iteratively and see the effects."
   ]
  },
  {
   "cell_type": "code",
   "execution_count": 722,
   "metadata": {},
   "outputs": [],
   "source": [
    "def estimate_hybrid_noise_static(\n",
    "        sample_once: Callable[[], np.ndarray],\n",
    "        max_mi: float = 1./4,\n",
    "        anisotropic: bool = False,\n",
    "        eta: float = 0.05\n",
    "        ) -> Tuple[List[float], List[Any]]:\n",
    "    \n",
    "\n",
    "    # Use the identity matrix for our projection matrix\n",
    "    dimensions = len(sample_once())\n",
    "    proj_matrix: np.ndarray = np.eye(dimensions)\n",
    "\n",
    "    # If no projection matrix is supplied, compute one\n",
    "    BASIS_SAMPLES = 500\n",
    "    if anisotropic:\n",
    "        # 1. COLLECT SAMPLES\n",
    "        outputs: List[np.ndarray] = [sample_once() for _ in range(BASIS_SAMPLES)]\n",
    "\n",
    "        # 2. COVARIANCE MATRIX\n",
    "        y_cov: np.ndarray = np.atleast_2d(np.cov(np.array(outputs).T))\n",
    "\n",
    "        # 3. PROJECTION MATRIX (from SVD of covariance matrix)\n",
    "        u, eigs, u_t = np.linalg.svd(y_cov)\n",
    "        proj_matrix = u\n",
    "    else:\n",
    "        proj_matrix = np.eye(dimensions)\n",
    "\n",
    "    # projected samples used to estimate variance in each basis direction\n",
    "    # est_y[i] is a list of magnitudes of the outputs in the i-th basis direction\n",
    "    est_y: List[List[np.ndarray]] = [[] for _ in range(dimensions)]\n",
    "    prev_ests: List[Union[float, np.floating[Any]]] = [np.inf for _ in range(dimensions)] # only to measure change per iteration for convergence\n",
    "\n",
    "    converged = False\n",
    "    curr_trial = 0\n",
    "\n",
    "    while not converged:\n",
    "        output: np.ndarray = sample_once()\n",
    "        assert len(output) == dimensions\n",
    "\n",
    "        if anisotropic:\n",
    "            # project output into the basis of the proj_matrix\n",
    "            output = np.matmul(proj_matrix, output)\n",
    "        \n",
    "        # Compute the magnitude of the output in each of the basis directions, update the estimate lists\n",
    "        for i in range(len(output)):\n",
    "            est_y[i].append(output[i])\n",
    "\n",
    "        # Every 10 trials, check for convergence\n",
    "        if curr_trial % 10 == 0:\n",
    "            # If all dimensions' variance estimates changed by less than eta, we have converged\n",
    "            if all(abs(np.var(est_y[i]) - prev_ests[i]) <= eta for i in range(dimensions)):\n",
    "                converged = True\n",
    "            else:\n",
    "                # we have not converged, so update the previous estimates and continue\n",
    "                prev_ests = [np.var(est_y[i]) for i in range(dimensions)]\n",
    "        curr_trial += 1\n",
    "\n",
    "    # Now that we have converged, get the variance in each basis direction\n",
    "    fin_var: List[np.floating[Any]] = [np.var(est_y[i]) for i in range(dimensions)]\n",
    "    # and the mean in each basis direction\n",
    "    fin_mean: List[np.floating[Any]] = [np.mean(est_y[i]) for i in range(dimensions)]\n",
    "\n",
    "    sqrt_total_var = sum(fin_var)**0.5\n",
    "\n",
    "    noise: np.ndarray = np.array([np.inf for _ in range(dimensions)])\n",
    "    for i in range(dimensions):\n",
    "        noise[i] = float(1./(2*max_mi) * fin_var[i]**0.5 * sqrt_total_var)\n",
    "\n",
    "    if anisotropic:\n",
    "        # Project noise back to the original basis\n",
    "        noise = np.abs(np.matmul(np.linalg.inv(proj_matrix), noise)) # (proj_matrix^-1) FUNCTION((proj_matrix)(input)) = FUNCTION(input)\n",
    "\n",
    "    return list(noise), [sqrt_total_var, fin_var, fin_mean]"
   ]
  },
  {
   "cell_type": "markdown",
   "metadata": {},
   "source": [
    "The (first) output of the method is the variances of normal distributions from which the noise to add should be sampled."
   ]
  },
  {
   "cell_type": "code",
   "execution_count": 723,
   "metadata": {},
   "outputs": [
    {
     "data": {
      "text/plain": [
       "[12.416090177446797,\n",
       " 182.18198414648145,\n",
       " 1828.2812314811424,\n",
       " 925.6536312727709,\n",
       " 32.06738914101103]"
      ]
     },
     "execution_count": 723,
     "metadata": {},
     "output_type": "execute_result"
    }
   ],
   "source": [
    "noise, stats = estimate_hybrid_noise_static(sample_once, max_mi=1./4, anisotropic=True, eta=0.05)\n",
    "noise"
   ]
  },
  {
   "cell_type": "markdown",
   "metadata": {},
   "source": [
    "Visualization of the \"shape\" of the noise."
   ]
  },
  {
   "cell_type": "code",
   "execution_count": 724,
   "metadata": {},
   "outputs": [
    {
     "data": {
      "image/png": "[encoded data removed]",
      "text/plain": [
       "<Figure size 400x150 with 1 Axes>"
      ]
     },
     "metadata": {},
     "output_type": "display_data"
    }
   ],
   "source": [
    "fig, ax = plt.subplots(figsize=(4, 1.5))\n",
    "plt.bar(range(len(noise)), noise)\n",
    "plt.show()"
   ]
  }
 ],
 "metadata": {
  "kernelspec": {
   "display_name": "Python 3",
   "language": "python",
   "name": "python3"
  },
  "language_info": {
   "codemirror_mode": {
    "name": "ipython",
    "version": 3
   },
   "file_extension": ".py",
   "mimetype": "text/x-python",
   "name": "python",
   "nbconvert_exporter": "python",
   "pygments_lexer": "ipython3",
   "version": "3.11.7"
  }
 },
 "nbformat": 4,
 "nbformat_minor": 2
}
