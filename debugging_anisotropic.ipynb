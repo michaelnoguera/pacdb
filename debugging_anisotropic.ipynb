{
 "cells": [
  {
   "cell_type": "code",
   "execution_count": 4,
   "metadata": {},
   "outputs": [],
   "source": [
    "from typing import List, Any, Tuple, Callable, Union\n",
    "import numpy as np"
   ]
  },
  {
   "cell_type": "code",
   "execution_count": 207,
   "metadata": {},
   "outputs": [],
   "source": [
    "def sample_once() -> np.ndarray:\n",
    "    \"\"\"\n",
    "    Mock query function that returns a vector for debugging composed of random integers\n",
    "    sampled from different ranges.\n",
    "    \"\"\"\n",
    "    a = np.random.randint(0, 1)\n",
    "    b = np.random.randint(0, 2)\n",
    "    c = np.random.randint(0, 10)\n",
    "    d = np.random.randint(0, 5)\n",
    "    e = np.random.randint(0, 1)\n",
    "    return np.array([a, b, c, d, e])"
   ]
  },
  {
   "cell_type": "code",
   "execution_count": 208,
   "metadata": {},
   "outputs": [],
   "source": [
    "def estimate_hybrid_noise_static(\n",
    "        sample_once: Callable[[], np.ndarray],\n",
    "        max_mi: float = 1./4,\n",
    "        anisotropic: bool = False,\n",
    "        eta: float = 0.05\n",
    "        ) -> Tuple[List[float], List[Any]]:\n",
    "    \n",
    "\n",
    "    # Use the identity matrix for our projection matrix\n",
    "    dimensions = len(sample_once())\n",
    "    proj_matrix: np.ndarray = np.eye(dimensions)\n",
    "\n",
    "    # If no projection matrix is supplied, compute one\n",
    "    BASIS_SAMPLES = 500\n",
    "    if anisotropic:\n",
    "        # 1. COLLECT SAMPLES\n",
    "        outputs: List[np.ndarray] = [sample_once() for _ in range(BASIS_SAMPLES)]\n",
    "\n",
    "        # 2. COVARIANCE MATRIX\n",
    "        y_cov: np.ndarray = np.atleast_2d(np.cov(np.array(outputs).T))\n",
    "        y_cov_idx = np.argsort(np.diag(y_cov))[::-1]\n",
    "\n",
    "        # 3. PROJECTION MATRIX (from SVD of covariance matrix)\n",
    "        u, eigs, u_t = np.linalg.svd(y_cov)\n",
    "        proj_matrix = u\n",
    "        proj_matrix = proj_matrix[y_cov_idx]\n",
    "    else:\n",
    "        proj_matrix = np.eye(dimensions)\n",
    "\n",
    "    # projected samples used to estimate variance in each basis direction\n",
    "    # est_y[i] is a list of magnitudes of the outputs in the i-th basis direction\n",
    "    est_y: List[List[np.ndarray]] = [[] for _ in range(dimensions)]\n",
    "    prev_ests: List[Union[float, np.floating[Any]]] = [np.inf for _ in range(dimensions)] # only to measure change per iteration for convergence\n",
    "\n",
    "    converged = False\n",
    "    curr_trial = 0\n",
    "\n",
    "    while not converged:\n",
    "        output: np.ndarray = sample_once()\n",
    "        assert len(output) == dimensions\n",
    "\n",
    "        # Compute the magnitude of the output in each of the basis directions, update the estimate lists\n",
    "        for i in range(len(output)):\n",
    "            if anisotropic:\n",
    "                est_y[i].append(np.matmul(proj_matrix[i].T, output.T)) # transform back to original basis before storing\n",
    "            else:\n",
    "                est_y[i].append(output[i])\n",
    "\n",
    "        # Every 10 trials, check for convergence\n",
    "        if curr_trial % 10 == 0:\n",
    "            # If all dimensions' variance estimates changed by less than eta, we have converged\n",
    "            if all(abs(np.var(est_y[i]) - prev_ests[i]) <= eta for i in range(dimensions)):\n",
    "                converged = True\n",
    "            else:\n",
    "                # we have not converged, so update the previous estimates and continue\n",
    "                prev_ests = [np.var(est_y[i]) for i in range(dimensions)]\n",
    "        curr_trial += 1\n",
    "\n",
    "    # Now that we have converged, get the variance in each basis direction\n",
    "    fin_var: List[np.floating[Any]] = [np.var(est_y[i]) for i in range(dimensions)]\n",
    "    # and the mean in each basis direction\n",
    "    fin_mean: List[np.floating[Any]] = [np.mean(est_y[i]) for i in range(dimensions)]\n",
    "\n",
    "    sqrt_total_var = sum(fin_var)**0.5\n",
    "\n",
    "    noise: List[float] = [np.inf for _ in range(dimensions)]\n",
    "    for i in range(dimensions):\n",
    "        noise[i] = float(1./(2*max_mi) * fin_var[i]**0.5 * sqrt_total_var)\n",
    "\n",
    "    return noise, [sqrt_total_var, fin_var, fin_mean]"
   ]
  },
  {
   "cell_type": "code",
   "execution_count": 212,
   "metadata": {},
   "outputs": [
    {
     "data": {
      "text/plain": [
       "[0.09127708664731887,\n",
       " 3.313127589633912,\n",
       " 19.310782335083413,\n",
       " 10.099074183345216,\n",
       " 0.0]"
      ]
     },
     "execution_count": 212,
     "metadata": {},
     "output_type": "execute_result"
    }
   ],
   "source": [
    "noise, stats = estimate_hybrid_noise_static(sample_once, max_mi=1./4, anisotropic=True, eta=0.05)\n",
    "noise"
   ]
  }
 ],
 "metadata": {
  "kernelspec": {
   "display_name": "Python 3",
   "language": "python",
   "name": "python3"
  },
  "language_info": {
   "codemirror_mode": {
    "name": "ipython",
    "version": 3
   },
   "file_extension": ".py",
   "mimetype": "text/x-python",
   "name": "python",
   "nbconvert_exporter": "python",
   "pygments_lexer": "ipython3",
   "version": "3.11.7"
  }
 },
 "nbformat": 4,
 "nbformat_minor": 2
}
