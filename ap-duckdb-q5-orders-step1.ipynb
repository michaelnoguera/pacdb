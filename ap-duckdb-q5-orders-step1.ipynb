{
 "cells": [
  {
   "cell_type": "markdown",
   "id": "3100cb09",
   "metadata": {
    "papermill": {
     "duration": 0.003756,
     "end_time": "2025-04-25T05:57:40.385697",
     "exception": false,
     "start_time": "2025-04-25T05:57:40.381941",
     "status": "completed"
    },
    "tags": []
   },
   "source": [
    "## DuckDB Notebook\n",
    "\n",
    "This notebook generates a bunch of raw outputs, without applying PAC, to be consumed by a second stage."
   ]
  },
  {
   "cell_type": "markdown",
   "id": "66b3963f",
   "metadata": {
    "papermill": {
     "duration": 0.00202,
     "end_time": "2025-04-25T05:57:40.390390",
     "exception": false,
     "start_time": "2025-04-25T05:57:40.388370",
     "status": "completed"
    },
    "tags": []
   },
   "source": [
    "```\n",
    " group by              output cols                        \n",
    " key cols ┌────────┬────────┬────────┬────────┐           \n",
    "        │ │   A    │   B    │   C    │   D    │           \n",
    "      ┌─▼─┼────────┼────────┼────────┼────────┤           \n",
    "      │ 1 │   2    │        │        │        │           \n",
    "      ├───┼───|────┼────────┼────────┼────────┤           \n",
    "      │ 2 │   │    │        │        │        │           \n",
    "      ├───┼───┼────┼────────┼────────┼────────┤           \n",
    "      │ 3 │   │    │        │        │        │           \n",
    "      └───┴───┼────┴────────┴────────┴────────┘           \n",
    "              ▼                 A_1.json                  \n",
    "       Sample 0:   A1=2        ┌─────────────────────────┐\n",
    "       Sample 1:   A1=4  ───▶  │{                        │\n",
    "             ...               │    col: A               │\n",
    "       Sample 999: A1=3        │    row: 1               │\n",
    "                               │    value: [2, 4, ... 3] │\n",
    "                               │}                        │\n",
    "                               └─────────────────────────┘\n",
    "```"
   ]
  },
  {
   "cell_type": "code",
   "execution_count": 1,
   "id": "be05f88d",
   "metadata": {
    "execution": {
     "iopub.execute_input": "2025-04-25T05:57:40.395809Z",
     "iopub.status.busy": "2025-04-25T05:57:40.395524Z",
     "iopub.status.idle": "2025-04-25T05:57:40.463947Z",
     "shell.execute_reply": "2025-04-25T05:57:40.463617Z"
    },
    "papermill": {
     "duration": 0.072506,
     "end_time": "2025-04-25T05:57:40.464893",
     "exception": false,
     "start_time": "2025-04-25T05:57:40.392387",
     "status": "completed"
    },
    "tags": []
   },
   "outputs": [],
   "source": [
    "#!/usr/bin/env python\n",
    "# coding: utf-8\n",
    "\n",
    "import os\n",
    "import pickle\n",
    "import shutil\n",
    "\n",
    "import duckdb\n",
    "import polars as pl"
   ]
  },
  {
   "cell_type": "code",
   "execution_count": 2,
   "id": "0110b2a6",
   "metadata": {
    "execution": {
     "iopub.execute_input": "2025-04-25T05:57:40.468041Z",
     "iopub.status.busy": "2025-04-25T05:57:40.467930Z",
     "iopub.status.idle": "2025-04-25T05:57:40.470425Z",
     "shell.execute_reply": "2025-04-25T05:57:40.470217Z"
    },
    "papermill": {
     "duration": 0.004692,
     "end_time": "2025-04-25T05:57:40.471067",
     "exception": false,
     "start_time": "2025-04-25T05:57:40.466375",
     "status": "completed"
    },
    "tags": [
     "parameters"
    ]
   },
   "outputs": [],
   "source": [
    "EXPERIMENT = \"pac-duckdb-q1\"\n",
    "OUTPUT_DIR = f\"./outputs/{EXPERIMENT}-step1\"\n",
    "SAMPLES = 1024\n",
    "\n",
    "SAMPLE_STEP = f\"\"\"\n",
    "DROP TABLE IF EXISTS random_samples;\n",
    "\n",
    "CREATE TABLE random_samples AS\n",
    "WITH sample_numbers AS MATERIALIZED (\n",
    "    SELECT range AS sample_id FROM range({SAMPLES//2})\n",
    "), random_values AS MATERIALIZED (\n",
    "    SELECT \n",
    "        sample_numbers.sample_id,\n",
    "        customer.rowid AS row_id,\n",
    "        (RANDOM() > 0.5)::BOOLEAN AS random_binary\n",
    "    FROM sample_numbers\n",
    "    JOIN customer ON TRUE  -- Cross join to duplicate rows for each sample\n",
    ")\n",
    "SELECT\n",
    "    sample_id,\n",
    "    row_id,\n",
    "    random_binary\n",
    "FROM random_values\n",
    "UNION ALL\n",
    "SELECT -- select the complementary samples too\n",
    "    ({SAMPLES//2}) + sample_id,\n",
    "    row_id,\n",
    "    NOT random_binary  -- Inverse the random_binary to get the complementary sample\n",
    "FROM random_values\n",
    "ORDER BY sample_id, row_id;\n",
    "\"\"\"\n",
    "\n",
    "PREPARE_STEP = \"\"\"\n",
    "DEALLOCATE PREPARE run_query;\n",
    "\n",
    "PREPARE run_query AS \n",
    "SELECT\n",
    "    l_returnflag,\n",
    "    l_linestatus,\n",
    "    2*sum(l_quantity) AS sum_qty,\n",
    "    2*sum(l_extendedprice) AS sum_base_price,\n",
    "    2*sum(l_extendedprice * (1 - l_discount)) AS sum_disc_price,\n",
    "    2*sum(l_extendedprice * (1 - l_discount) * (1 + l_tax)) AS sum_charge,\n",
    "    avg(l_quantity) AS avg_qty,\n",
    "    avg(l_extendedprice) AS avg_price,\n",
    "    avg(l_discount) AS avg_disc,\n",
    "    2*count(*) AS count_order\n",
    "FROM\n",
    "    lineitem\n",
    "JOIN orders ON lineitem.l_orderkey = orders.o_orderkey\n",
    "JOIN customer ON orders.o_custkey = customer.c_custkey\n",
    "JOIN random_samples AS rs\n",
    "    ON rs.row_id = customer.rowid\n",
    "WHERE\n",
    "    l_shipdate <= CAST('1998-09-02' AS date)\n",
    "    AND rs.random_binary = TRUE\n",
    "    AND rs.sample_id = $sample\n",
    "GROUP BY\n",
    "    l_returnflag,\n",
    "    l_linestatus\n",
    "ORDER BY\n",
    "    l_returnflag,\n",
    "    l_linestatus;\n",
    "\"\"\"\n",
    "\n",
    "INDEX_COLS = ['l_returnflag', 'l_linestatus']\n",
    "OUTPUT_COLS = ['sum_qty', 'sum_base_price', 'sum_disc_price', 'sum_charge', 'avg_qty', 'avg_price', 'avg_disc', 'count_order']"
   ]
  },
  {
   "cell_type": "code",
   "execution_count": 3,
   "id": "72c4c39f",
   "metadata": {
    "execution": {
     "iopub.execute_input": "2025-04-25T05:57:40.473935Z",
     "iopub.status.busy": "2025-04-25T05:57:40.473841Z",
     "iopub.status.idle": "2025-04-25T05:57:40.475710Z",
     "shell.execute_reply": "2025-04-25T05:57:40.475515Z"
    },
    "papermill": {
     "duration": 0.00394,
     "end_time": "2025-04-25T05:57:40.476282",
     "exception": false,
     "start_time": "2025-04-25T05:57:40.472342",
     "status": "completed"
    },
    "tags": [
     "injected-parameters"
    ]
   },
   "outputs": [],
   "source": [
    "# Parameters\n",
    "EXPERIMENT = \"ap-duckdb-q5-orders\"\n",
    "OUTPUT_DIR = \"./outputs/ap-duckdb-q5-orders-step1\"\n",
    "SAMPLES = 1024\n",
    "SAMPLE_STEP = \"DROP TABLE IF EXISTS random_samples;\\n\\nCREATE TABLE random_samples AS\\nWITH sample_numbers AS MATERIALIZED (\\n    SELECT range AS sample_id FROM range(1024 // 2)\\n), random_values AS MATERIALIZED (\\n    SELECT \\n        sample_numbers.sample_id,\\n        orders.rowid AS row_id,\\n        (RANDOM() > 0.5)::BOOLEAN AS random_binary\\n    FROM sample_numbers\\n    JOIN orders ON TRUE  -- Cross join to duplicate rows for each sample\\n)\\nSELECT\\n    sample_id,\\n    row_id,\\n    random_binary\\nFROM random_values\\nUNION ALL\\nSELECT -- select the complementary samples too\\n    (1024 // 2) + sample_id,\\n    row_id,\\n    NOT random_binary  -- Inverse the random_binary to get the complementary sample\\nFROM random_values\\nORDER BY sample_id, row_id;\"\n",
    "PREPARE_STEP = \"DEALLOCATE PREPARE run_query;\\n\\nPREPARE run_query AS \\nSELECT\\n    n_name,\\n    sum(l_extendedprice * (1 - l_discount)) AS revenue\\nFROM\\n    customer,\\n    (SELECT * FROM orders\\n              JOIN random_samples AS rs ON rs.row_id = orders.rowid\\n              AND rs.random_binary = TRUE\\n              AND rs.sample_id = $sample) as orders,\\n    lineitem,\\n    supplier,\\n    nation,\\n    region\\nWHERE\\n    c_custkey = o_custkey\\n    AND l_orderkey = o_orderkey\\n    AND l_suppkey = s_suppkey\\n    AND c_nationkey = s_nationkey\\n    AND s_nationkey = n_nationkey\\n    AND n_regionkey = r_regionkey\\n    AND r_name = 'ASIA'\\n    AND o_orderdate >= CAST('1994-01-01' AS date)\\n    AND o_orderdate < CAST('1995-01-01' AS date)\\nGROUP BY\\n    n_name\\nORDER BY\\n    revenue DESC;\"\n",
    "INDEX_COLS = [\"n_name\"]\n",
    "OUTPUT_COLS = [\"revenue\"]\n"
   ]
  },
  {
   "cell_type": "code",
   "execution_count": 4,
   "id": "13822d72",
   "metadata": {
    "execution": {
     "iopub.execute_input": "2025-04-25T05:57:40.479493Z",
     "iopub.status.busy": "2025-04-25T05:57:40.479399Z",
     "iopub.status.idle": "2025-04-25T05:57:40.480985Z",
     "shell.execute_reply": "2025-04-25T05:57:40.480792Z"
    },
    "papermill": {
     "duration": 0.004098,
     "end_time": "2025-04-25T05:57:40.481605",
     "exception": false,
     "start_time": "2025-04-25T05:57:40.477507",
     "status": "completed"
    },
    "tags": []
   },
   "outputs": [],
   "source": [
    "if not os.path.exists(OUTPUT_DIR):\n",
    "    os.makedirs(OUTPUT_DIR)"
   ]
  },
  {
   "cell_type": "code",
   "execution_count": 5,
   "id": "f1eeeff6",
   "metadata": {
    "execution": {
     "iopub.execute_input": "2025-04-25T05:57:40.484589Z",
     "iopub.status.busy": "2025-04-25T05:57:40.484494Z",
     "iopub.status.idle": "2025-04-25T05:57:40.795009Z",
     "shell.execute_reply": "2025-04-25T05:57:40.794632Z"
    },
    "papermill": {
     "duration": 0.312887,
     "end_time": "2025-04-25T05:57:40.795818",
     "exception": false,
     "start_time": "2025-04-25T05:57:40.482931",
     "status": "completed"
    },
    "tags": []
   },
   "outputs": [],
   "source": [
    "# duckdb load data/tpch/tpch.duckdb into the temporary in-memory database\n",
    "con = duckdb.connect(database=':memory:')\n",
    "tables = [\"customer\", \"lineitem\", \"nation\", \"orders\", \"part\", \"partsupp\", \"region\", \"supplier\"]\n",
    "for t in tables:\n",
    "    con.execute(f\"CREATE TABLE {t} AS SELECT * FROM 'data/tpch/{t}.parquet'\")"
   ]
  },
  {
   "cell_type": "code",
   "execution_count": 6,
   "id": "9585bb68",
   "metadata": {
    "execution": {
     "iopub.execute_input": "2025-04-25T05:57:40.799102Z",
     "iopub.status.busy": "2025-04-25T05:57:40.798991Z",
     "iopub.status.idle": "2025-04-25T05:57:57.418532Z",
     "shell.execute_reply": "2025-04-25T05:57:57.417629Z"
    },
    "papermill": {
     "duration": 16.623022,
     "end_time": "2025-04-25T05:57:57.420402",
     "exception": false,
     "start_time": "2025-04-25T05:57:40.797380",
     "status": "completed"
    },
    "tags": []
   },
   "outputs": [],
   "source": [
    "# Construct the table of random samples\n",
    "# to use, join it with the lineitem table (for specific sample # s) and filter to just the\n",
    "# rows where random_binary = 1.0\n",
    "# This will give us a 50% sample of the lineitem table for each sample # s\n",
    "\n",
    "assert SAMPLES % 2 == 0, \"SAMPLES must be even to create complementary samples.\"\n",
    "\n",
    "random_samples = con.execute(SAMPLE_STEP)"
   ]
  },
  {
   "cell_type": "markdown",
   "id": "08ff3216",
   "metadata": {
    "papermill": {
     "duration": 0.001329,
     "end_time": "2025-04-25T05:57:57.424468",
     "exception": false,
     "start_time": "2025-04-25T05:57:57.423139",
     "status": "completed"
    },
    "tags": []
   },
   "source": [
    "The randomness of what rows are chosen is saved to disk in `random_binary.json`. For each sample #, there is an array with one entry per row, where 1 means the row was chosen and 0 means it was not."
   ]
  },
  {
   "cell_type": "code",
   "execution_count": 7,
   "id": "4b47560b",
   "metadata": {
    "execution": {
     "iopub.execute_input": "2025-04-25T05:57:57.427665Z",
     "iopub.status.busy": "2025-04-25T05:57:57.427518Z",
     "iopub.status.idle": "2025-04-25T05:58:00.195657Z",
     "shell.execute_reply": "2025-04-25T05:58:00.195330Z"
    },
    "papermill": {
     "duration": 2.770881,
     "end_time": "2025-04-25T05:58:00.196534",
     "exception": false,
     "start_time": "2025-04-25T05:57:57.425653",
     "status": "completed"
    },
    "tags": []
   },
   "outputs": [],
   "source": [
    "con.execute(\"\"\"\n",
    "SELECT sample_id, array_agg(random_binary::TINYINT) as random_binary\n",
    "FROM random_samples\n",
    "GROUP BY sample_id;\n",
    "\"\"\").pl().write_json(f\"{OUTPUT_DIR}/random_binary.json\")"
   ]
  },
  {
   "cell_type": "markdown",
   "id": "b6e52ead",
   "metadata": {
    "papermill": {
     "duration": 0.001233,
     "end_time": "2025-04-25T05:58:00.199459",
     "exception": false,
     "start_time": "2025-04-25T05:58:00.198226",
     "status": "completed"
    },
    "tags": []
   },
   "source": [
    "Query is specified as a prepared statement. We will then execute it once per sample."
   ]
  },
  {
   "cell_type": "code",
   "execution_count": 8,
   "id": "5e07c3e7",
   "metadata": {
    "execution": {
     "iopub.execute_input": "2025-04-25T05:58:00.202424Z",
     "iopub.status.busy": "2025-04-25T05:58:00.202192Z",
     "iopub.status.idle": "2025-04-25T05:58:00.275029Z",
     "shell.execute_reply": "2025-04-25T05:58:00.274777Z"
    },
    "papermill": {
     "duration": 0.075171,
     "end_time": "2025-04-25T05:58:00.275808",
     "exception": false,
     "start_time": "2025-04-25T05:58:00.200637",
     "status": "completed"
    },
    "tags": []
   },
   "outputs": [
    {
     "data": {
      "text/html": [
       "<div><style>\n",
       ".dataframe > thead > tr,\n",
       ".dataframe > tbody > tr {\n",
       "  text-align: right;\n",
       "  white-space: pre-wrap;\n",
       "}\n",
       "</style>\n",
       "<small>shape: (5, 2)</small><table border=\"1\" class=\"dataframe\"><thead><tr><th>n_name</th><th>revenue</th></tr><tr><td>str</td><td>decimal[38,4]</td></tr></thead><tbody><tr><td>&quot;CHINA&quot;</td><td>3927125.3734</td></tr><tr><td>&quot;INDONESIA&quot;</td><td>2963361.2993</td></tr><tr><td>&quot;INDIA&quot;</td><td>2730053.2780</td></tr><tr><td>&quot;JAPAN&quot;</td><td>2673776.9332</td></tr><tr><td>&quot;VIETNAM&quot;</td><td>2153896.4167</td></tr></tbody></table></div>"
      ],
      "text/plain": [
       "shape: (5, 2)\n",
       "┌───────────┬───────────────┐\n",
       "│ n_name    ┆ revenue       │\n",
       "│ ---       ┆ ---           │\n",
       "│ str       ┆ decimal[38,4] │\n",
       "╞═══════════╪═══════════════╡\n",
       "│ CHINA     ┆ 3927125.3734  │\n",
       "│ INDONESIA ┆ 2963361.2993  │\n",
       "│ INDIA     ┆ 2730053.2780  │\n",
       "│ JAPAN     ┆ 2673776.9332  │\n",
       "│ VIETNAM   ┆ 2153896.4167  │\n",
       "└───────────┴───────────────┘"
      ]
     },
     "execution_count": 8,
     "metadata": {},
     "output_type": "execute_result"
    }
   ],
   "source": [
    "# Query\n",
    "con.execute(PREPARE_STEP)\n",
    "\n",
    "# Run query to see output\n",
    "dfs0 = con.execute(f\"EXECUTE run_query(sample := {0});\").pl()\n",
    "\n",
    "# Save csv copies of the first 5 samples\n",
    "os.makedirs(f\"{OUTPUT_DIR}/csv\", exist_ok=True)\n",
    "for s in range(5):\n",
    "    con.execute(f\"EXECUTE run_query(sample := {s});\").pl().write_csv(f\"{OUTPUT_DIR}/csv/sample_{s}.csv\")\n",
    "\n",
    "dfs0"
   ]
  },
  {
   "cell_type": "code",
   "execution_count": 9,
   "id": "2355da3b",
   "metadata": {
    "execution": {
     "iopub.execute_input": "2025-04-25T05:58:00.279266Z",
     "iopub.status.busy": "2025-04-25T05:58:00.279162Z",
     "iopub.status.idle": "2025-04-25T05:58:09.138158Z",
     "shell.execute_reply": "2025-04-25T05:58:09.137912Z"
    },
    "papermill": {
     "duration": 8.861391,
     "end_time": "2025-04-25T05:58:09.138831",
     "exception": false,
     "start_time": "2025-04-25T05:58:00.277440",
     "status": "completed"
    },
    "tags": []
   },
   "outputs": [
    {
     "data": {
      "text/html": [
       "<div><style>\n",
       ".dataframe > thead > tr,\n",
       ".dataframe > tbody > tr {\n",
       "  text-align: right;\n",
       "  white-space: pre-wrap;\n",
       "}\n",
       "</style>\n",
       "<small>shape: (5_120, 3)</small><table border=\"1\" class=\"dataframe\"><thead><tr><th>sample</th><th>n_name</th><th>revenue</th></tr><tr><td>i32</td><td>str</td><td>decimal[38,4]</td></tr></thead><tbody><tr><td>0</td><td>&quot;CHINA&quot;</td><td>3927125.3734</td></tr><tr><td>0</td><td>&quot;INDONESIA&quot;</td><td>2963361.2993</td></tr><tr><td>0</td><td>&quot;INDIA&quot;</td><td>2730053.2780</td></tr><tr><td>0</td><td>&quot;JAPAN&quot;</td><td>2673776.9332</td></tr><tr><td>0</td><td>&quot;VIETNAM&quot;</td><td>2153896.4167</td></tr><tr><td>&hellip;</td><td>&hellip;</td><td>&hellip;</td></tr><tr><td>1023</td><td>&quot;CHINA&quot;</td><td>4191741.1541</td></tr><tr><td>1023</td><td>&quot;INDIA&quot;</td><td>3604964.6231</td></tr><tr><td>1023</td><td>&quot;JAPAN&quot;</td><td>3249966.9322</td></tr><tr><td>1023</td><td>&quot;INDONESIA&quot;</td><td>2687405.3488</td></tr><tr><td>1023</td><td>&quot;VIETNAM&quot;</td><td>2441208.1500</td></tr></tbody></table></div>"
      ],
      "text/plain": [
       "shape: (5_120, 3)\n",
       "┌────────┬───────────┬───────────────┐\n",
       "│ sample ┆ n_name    ┆ revenue       │\n",
       "│ ---    ┆ ---       ┆ ---           │\n",
       "│ i32    ┆ str       ┆ decimal[38,4] │\n",
       "╞════════╪═══════════╪═══════════════╡\n",
       "│ 0      ┆ CHINA     ┆ 3927125.3734  │\n",
       "│ 0      ┆ INDONESIA ┆ 2963361.2993  │\n",
       "│ 0      ┆ INDIA     ┆ 2730053.2780  │\n",
       "│ 0      ┆ JAPAN     ┆ 2673776.9332  │\n",
       "│ 0      ┆ VIETNAM   ┆ 2153896.4167  │\n",
       "│ …      ┆ …         ┆ …             │\n",
       "│ 1023   ┆ CHINA     ┆ 4191741.1541  │\n",
       "│ 1023   ┆ INDIA     ┆ 3604964.6231  │\n",
       "│ 1023   ┆ JAPAN     ┆ 3249966.9322  │\n",
       "│ 1023   ┆ INDONESIA ┆ 2687405.3488  │\n",
       "│ 1023   ┆ VIETNAM   ┆ 2441208.1500  │\n",
       "└────────┴───────────┴───────────────┘"
      ]
     },
     "execution_count": 9,
     "metadata": {},
     "output_type": "execute_result"
    }
   ],
   "source": [
    "# Run the query for each sample, but accumulate in a pl.DataFrame instead of a list\n",
    "dfsdf: pl.DataFrame = pl.concat(\n",
    "    con.execute(f\"EXECUTE run_query(sample := {s});\").pl().insert_column(0, pl.lit(s).alias(\"sample\"))\n",
    "    for s in range(SAMPLES)\n",
    ")\n",
    "dfsdf"
   ]
  },
  {
   "cell_type": "code",
   "execution_count": 10,
   "id": "28c3239b",
   "metadata": {
    "execution": {
     "iopub.execute_input": "2025-04-25T05:58:09.142546Z",
     "iopub.status.busy": "2025-04-25T05:58:09.142447Z",
     "iopub.status.idle": "2025-04-25T05:58:09.144625Z",
     "shell.execute_reply": "2025-04-25T05:58:09.144349Z"
    },
    "papermill": {
     "duration": 0.004616,
     "end_time": "2025-04-25T05:58:09.145258",
     "exception": false,
     "start_time": "2025-04-25T05:58:09.140642",
     "status": "completed"
    },
    "tags": []
   },
   "outputs": [],
   "source": [
    "# Define which columns are the group-by keys (INDEX_COLS) and which are the output columns (OUTPUT_COLS)\n",
    "# - moved to parameters cell at top of notebook\n",
    "\n",
    "# Save these to disk for later use\n",
    "with open(f\"{OUTPUT_DIR}/INDEX_COLS.pkl\", 'wb') as f:\n",
    "    pickle.dump(INDEX_COLS, f)\n",
    "with open(f\"{OUTPUT_DIR}/OUTPUT_COLS.pkl\", 'wb') as f:\n",
    "    pickle.dump(OUTPUT_COLS, f)"
   ]
  },
  {
   "cell_type": "code",
   "execution_count": 11,
   "id": "6bbc20ac",
   "metadata": {
    "execution": {
     "iopub.execute_input": "2025-04-25T05:58:09.148969Z",
     "iopub.status.busy": "2025-04-25T05:58:09.148861Z",
     "iopub.status.idle": "2025-04-25T05:58:09.162342Z",
     "shell.execute_reply": "2025-04-25T05:58:09.162112Z"
    },
    "papermill": {
     "duration": 0.016331,
     "end_time": "2025-04-25T05:58:09.163080",
     "exception": false,
     "start_time": "2025-04-25T05:58:09.146749",
     "status": "completed"
    },
    "tags": []
   },
   "outputs": [
    {
     "data": {
      "text/html": [
       "<div><style>\n",
       ".dataframe > thead > tr,\n",
       ".dataframe > tbody > tr {\n",
       "  text-align: right;\n",
       "  white-space: pre-wrap;\n",
       "}\n",
       "</style>\n",
       "<small>shape: (5, 2)</small><table border=\"1\" class=\"dataframe\"><thead><tr><th>n_name</th><th>revenue</th></tr><tr><td>str</td><td>list[decimal[38,4]]</td></tr></thead><tbody><tr><td>&quot;CHINA&quot;</td><td>[3927125.3734, 3810121.3168, … 4191741.1541]</td></tr><tr><td>&quot;INDONESIA&quot;</td><td>[2963361.2993, 2795592.5522, … 2687405.3488]</td></tr><tr><td>&quot;INDIA&quot;</td><td>[2730053.2780, 2772317.1743, … 3604964.6231]</td></tr><tr><td>&quot;JAPAN&quot;</td><td>[2673776.9332, 3060926.2071, … 3249966.9322]</td></tr><tr><td>&quot;VIETNAM&quot;</td><td>[2153896.4167, 2248044.1849, … 2441208.1500]</td></tr></tbody></table></div>"
      ],
      "text/plain": [
       "shape: (5, 2)\n",
       "┌───────────┬─────────────────────────────────┐\n",
       "│ n_name    ┆ revenue                         │\n",
       "│ ---       ┆ ---                             │\n",
       "│ str       ┆ list[decimal[38,4]]             │\n",
       "╞═══════════╪═════════════════════════════════╡\n",
       "│ CHINA     ┆ [3927125.3734, 3810121.3168, …… │\n",
       "│ INDONESIA ┆ [2963361.2993, 2795592.5522, …… │\n",
       "│ INDIA     ┆ [2730053.2780, 2772317.1743, …… │\n",
       "│ JAPAN     ┆ [2673776.9332, 3060926.2071, …… │\n",
       "│ VIETNAM   ┆ [2153896.4167, 2248044.1849, …… │\n",
       "└───────────┴─────────────────────────────────┘"
      ]
     },
     "execution_count": 11,
     "metadata": {},
     "output_type": "execute_result"
    }
   ],
   "source": [
    "# Combine all the samples into one table, grouped-by the group-by keys. Each cell contains an n <= # of samples length array of values.\n",
    "listdf = dfsdf.drop(\"sample\").group_by(INDEX_COLS, maintain_order=True).all()\n",
    "listdf"
   ]
  },
  {
   "cell_type": "code",
   "execution_count": 12,
   "id": "35d1ada0",
   "metadata": {
    "execution": {
     "iopub.execute_input": "2025-04-25T05:58:09.166695Z",
     "iopub.status.busy": "2025-04-25T05:58:09.166596Z",
     "iopub.status.idle": "2025-04-25T05:58:09.168720Z",
     "shell.execute_reply": "2025-04-25T05:58:09.168513Z"
    },
    "papermill": {
     "duration": 0.004519,
     "end_time": "2025-04-25T05:58:09.169320",
     "exception": false,
     "start_time": "2025-04-25T05:58:09.164801",
     "status": "completed"
    },
    "tags": []
   },
   "outputs": [
    {
     "data": {
      "text/plain": [
       "[{'n_name': 'CHINA'},\n",
       " {'n_name': 'INDONESIA'},\n",
       " {'n_name': 'INDIA'},\n",
       " {'n_name': 'JAPAN'},\n",
       " {'n_name': 'VIETNAM'}]"
      ]
     },
     "execution_count": 12,
     "metadata": {},
     "output_type": "execute_result"
    }
   ],
   "source": [
    "# What are all the possible group-by key combinations?\n",
    "allgroups: pl.DataFrame = listdf.select(INDEX_COLS)\n",
    "allgroups.to_dicts()"
   ]
  },
  {
   "cell_type": "code",
   "execution_count": 13,
   "id": "df5ba551",
   "metadata": {
    "execution": {
     "iopub.execute_input": "2025-04-25T05:58:09.172881Z",
     "iopub.status.busy": "2025-04-25T05:58:09.172772Z",
     "iopub.status.idle": "2025-04-25T05:58:09.177314Z",
     "shell.execute_reply": "2025-04-25T05:58:09.177074Z"
    },
    "papermill": {
     "duration": 0.007115,
     "end_time": "2025-04-25T05:58:09.178024",
     "exception": false,
     "start_time": "2025-04-25T05:58:09.170909",
     "status": "completed"
    },
    "tags": []
   },
   "outputs": [],
   "source": [
    "# Template for the final output, including all possible group-by groups\n",
    "# Obtained by collecting all the samples in a big table and then keeping only the first occurrence of each groupby key.\n",
    "# Then, fill all OUTPUT_COLS with nulls\n",
    "templatedf = dfsdf.drop(\"sample\").group_by(INDEX_COLS, maintain_order=True).first()\n",
    "templatedf = templatedf.clear(n=len(allgroups)).with_columns(allgroups)\n",
    "templatedf\n",
    "\n",
    "with open(f\"{OUTPUT_DIR}/template.pkl\", \"wb\") as f:\n",
    "    pickle.dump(templatedf, f)"
   ]
  },
  {
   "cell_type": "code",
   "execution_count": 14,
   "id": "0e13cf6b",
   "metadata": {
    "execution": {
     "iopub.execute_input": "2025-04-25T05:58:09.181605Z",
     "iopub.status.busy": "2025-04-25T05:58:09.181429Z",
     "iopub.status.idle": "2025-04-25T05:58:09.187382Z",
     "shell.execute_reply": "2025-04-25T05:58:09.187110Z"
    },
    "papermill": {
     "duration": 0.008511,
     "end_time": "2025-04-25T05:58:09.188122",
     "exception": false,
     "start_time": "2025-04-25T05:58:09.179611",
     "status": "completed"
    },
    "tags": []
   },
   "outputs": [],
   "source": [
    "# Write all table entries in the output table to their own JSON files. Each file has a number, the information of which file corresponds to which table entry\n",
    "# is stored in reverse_map.json (as well as in the files themselves)\n",
    "os.makedirs(f\"{OUTPUT_DIR}/json\", exist_ok=True)\n",
    "i: int = 0\n",
    "for col in OUTPUT_COLS:\n",
    "    for group in allgroups.iter_rows(named=True):\n",
    "        values = listdf.filter(pl.col(k).eq(v) for k, v in group.items()).select(col).to_series()\n",
    "        j = pl.DataFrame().with_columns([\n",
    "            pl.lit(col).alias(\"col\"),\n",
    "            pl.lit(group).alias(\"row\"),\n",
    "            pl.lit(values.explode().dtype.__repr__()).alias(\"dtype\"),\n",
    "            values.alias(\"values\"),\n",
    "        ])\n",
    "        j.write_json(f\"{OUTPUT_DIR}/json/{i}.json\")\n",
    "        i+=1"
   ]
  },
  {
   "cell_type": "code",
   "execution_count": 15,
   "id": "d699e67b",
   "metadata": {
    "execution": {
     "iopub.execute_input": "2025-04-25T05:58:09.192148Z",
     "iopub.status.busy": "2025-04-25T05:58:09.192031Z",
     "iopub.status.idle": "2025-04-25T05:58:29.932315Z",
     "shell.execute_reply": "2025-04-25T05:58:29.932068Z"
    },
    "papermill": {
     "duration": 20.743154,
     "end_time": "2025-04-25T05:58:29.933018",
     "exception": false,
     "start_time": "2025-04-25T05:58:09.189864",
     "status": "completed"
    },
    "tags": []
   },
   "outputs": [
    {
     "data": {
      "text/plain": [
       "'/Users/michael/projects/dpdb/pacdb/outputs/ap-duckdb-q5-orders-step1.zip'"
      ]
     },
     "execution_count": 15,
     "metadata": {},
     "output_type": "execute_result"
    }
   ],
   "source": [
    "# zip the OUTPUT_DIR\n",
    "shutil.make_archive(OUTPUT_DIR, 'zip', OUTPUT_DIR)"
   ]
  }
 ],
 "metadata": {
  "kernelspec": {
   "display_name": ".venv",
   "language": "python",
   "name": "python3"
  },
  "language_info": {
   "codemirror_mode": {
    "name": "ipython",
    "version": 3
   },
   "file_extension": ".py",
   "mimetype": "text/x-python",
   "name": "python",
   "nbconvert_exporter": "python",
   "pygments_lexer": "ipython3",
   "version": "3.11.7"
  },
  "papermill": {
   "default_parameters": {},
   "duration": 50.713788,
   "end_time": "2025-04-25T05:58:30.455206",
   "environment_variables": {},
   "exception": null,
   "input_path": "autopac-duckdb-step1.ipynb",
   "output_path": "./ap-duckdb-q5-orders-step1.ipynb",
   "parameters": {
    "EXPERIMENT": "ap-duckdb-q5-orders",
    "INDEX_COLS": [
     "n_name"
    ],
    "OUTPUT_COLS": [
     "revenue"
    ],
    "OUTPUT_DIR": "./outputs/ap-duckdb-q5-orders-step1",
    "PREPARE_STEP": "DEALLOCATE PREPARE run_query;\n\nPREPARE run_query AS \nSELECT\n    n_name,\n    sum(l_extendedprice * (1 - l_discount)) AS revenue\nFROM\n    customer,\n    (SELECT * FROM orders\n              JOIN random_samples AS rs ON rs.row_id = orders.rowid\n              AND rs.random_binary = TRUE\n              AND rs.sample_id = $sample) as orders,\n    lineitem,\n    supplier,\n    nation,\n    region\nWHERE\n    c_custkey = o_custkey\n    AND l_orderkey = o_orderkey\n    AND l_suppkey = s_suppkey\n    AND c_nationkey = s_nationkey\n    AND s_nationkey = n_nationkey\n    AND n_regionkey = r_regionkey\n    AND r_name = 'ASIA'\n    AND o_orderdate >= CAST('1994-01-01' AS date)\n    AND o_orderdate < CAST('1995-01-01' AS date)\nGROUP BY\n    n_name\nORDER BY\n    revenue DESC;",
    "SAMPLES": 1024,
    "SAMPLE_STEP": "DROP TABLE IF EXISTS random_samples;\n\nCREATE TABLE random_samples AS\nWITH sample_numbers AS MATERIALIZED (\n    SELECT range AS sample_id FROM range(1024 // 2)\n), random_values AS MATERIALIZED (\n    SELECT \n        sample_numbers.sample_id,\n        orders.rowid AS row_id,\n        (RANDOM() > 0.5)::BOOLEAN AS random_binary\n    FROM sample_numbers\n    JOIN orders ON TRUE  -- Cross join to duplicate rows for each sample\n)\nSELECT\n    sample_id,\n    row_id,\n    random_binary\nFROM random_values\nUNION ALL\nSELECT -- select the complementary samples too\n    (1024 // 2) + sample_id,\n    row_id,\n    NOT random_binary  -- Inverse the random_binary to get the complementary sample\nFROM random_values\nORDER BY sample_id, row_id;"
   },
   "start_time": "2025-04-25T05:57:39.741418",
   "version": "2.6.0"
  }
 },
 "nbformat": 4,
 "nbformat_minor": 5
}