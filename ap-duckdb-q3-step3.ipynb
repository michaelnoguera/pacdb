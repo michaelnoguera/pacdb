{
 "cells": [
  {
   "cell_type": "code",
   "execution_count": 1,
   "id": "eba650e4",
   "metadata": {
    "execution": {
     "iopub.execute_input": "2025-04-25T05:36:37.513315Z",
     "iopub.status.busy": "2025-04-25T05:36:37.513117Z",
     "iopub.status.idle": "2025-04-25T05:36:37.557684Z",
     "shell.execute_reply": "2025-04-25T05:36:37.557381Z"
    },
    "papermill": {
     "duration": 0.048551,
     "end_time": "2025-04-25T05:36:37.558550",
     "exception": false,
     "start_time": "2025-04-25T05:36:37.509999",
     "status": "completed"
    },
    "tags": []
   },
   "outputs": [],
   "source": [
    "#!/usr/bin/env python\n",
    "# coding: utf-8\n",
    "\n",
    "import json\n",
    "import os\n",
    "import pickle\n",
    "import shutil\n",
    "import zipfile\n",
    "\n",
    "import parse\n",
    "import polars as pl"
   ]
  },
  {
   "cell_type": "code",
   "execution_count": 2,
   "id": "5bbee7d0",
   "metadata": {
    "execution": {
     "iopub.execute_input": "2025-04-25T05:36:37.561673Z",
     "iopub.status.busy": "2025-04-25T05:36:37.561567Z",
     "iopub.status.idle": "2025-04-25T05:36:37.563536Z",
     "shell.execute_reply": "2025-04-25T05:36:37.563294Z"
    },
    "papermill": {
     "duration": 0.004096,
     "end_time": "2025-04-25T05:36:37.564229",
     "exception": false,
     "start_time": "2025-04-25T05:36:37.560133",
     "status": "completed"
    },
    "tags": [
     "parameters"
    ]
   },
   "outputs": [],
   "source": [
    "#EXPERIMENT = \"asdf\"\n",
    "#INPUT_ZIP = f\"./outputs/{EXPERIMENT}-step2.zip\"\n",
    "#OUTPUT_DIR = f\"./outputs/{EXPERIMENT}-step3\"\n",
    "#INDEX_COLS = pickle.load(open(f'./outputs/{EXPERIMENT}-step1/INDEX_COLS.pkl', 'rb'))\n",
    "#OUTPUT_COLS = pickle.load(open(f'./outputs/{EXPERIMENT}-step1/OUTPUT_COLS.pkl', 'rb'))\n",
    "#templatedf_path = f\"./outputs/{EXPERIMENT}-step2/templatedf.csv\"\n",
    "EXPERIMENT = \"\"\n",
    "INPUT_ZIP = \"\"\n",
    "OUTPUT_DIR = \"\"\n",
    "INDEX_COLS = []\n",
    "OUTPUT_COLS = []\n",
    "templatedf_path = \"\""
   ]
  },
  {
   "cell_type": "code",
   "execution_count": 3,
   "id": "540ab5cb",
   "metadata": {
    "execution": {
     "iopub.execute_input": "2025-04-25T05:36:37.567202Z",
     "iopub.status.busy": "2025-04-25T05:36:37.567099Z",
     "iopub.status.idle": "2025-04-25T05:36:37.568674Z",
     "shell.execute_reply": "2025-04-25T05:36:37.568448Z"
    },
    "papermill": {
     "duration": 0.003641,
     "end_time": "2025-04-25T05:36:37.569334",
     "exception": false,
     "start_time": "2025-04-25T05:36:37.565693",
     "status": "completed"
    },
    "tags": [
     "injected-parameters"
    ]
   },
   "outputs": [],
   "source": [
    "# Parameters\n",
    "EXPERIMENT = \"ap-duckdb-q3\"\n",
    "OUTPUT_DIR = \"./outputs/ap-duckdb-q3-step3\"\n",
    "INPUT_ZIP = \"./outputs/ap-duckdb-q3-step2.zip\"\n",
    "INDEX_COLS = [\"rank\"]\n",
    "OUTPUT_COLS = [\"revenue\"]\n",
    "templatedf_path = \"./outputs/ap-duckdb-q3-step1/template.pkl\"\n"
   ]
  },
  {
   "cell_type": "code",
   "execution_count": 4,
   "id": "7eeff702",
   "metadata": {
    "execution": {
     "iopub.execute_input": "2025-04-25T05:36:37.572551Z",
     "iopub.status.busy": "2025-04-25T05:36:37.572421Z",
     "iopub.status.idle": "2025-04-25T05:36:37.574247Z",
     "shell.execute_reply": "2025-04-25T05:36:37.574007Z"
    },
    "papermill": {
     "duration": 0.004234,
     "end_time": "2025-04-25T05:36:37.574900",
     "exception": false,
     "start_time": "2025-04-25T05:36:37.570666",
     "status": "completed"
    },
    "tags": []
   },
   "outputs": [],
   "source": [
    "if not os.path.exists(OUTPUT_DIR):\n",
    "    os.makedirs(OUTPUT_DIR)"
   ]
  },
  {
   "cell_type": "code",
   "execution_count": 5,
   "id": "257dec28",
   "metadata": {
    "execution": {
     "iopub.execute_input": "2025-04-25T05:36:37.577565Z",
     "iopub.status.busy": "2025-04-25T05:36:37.577461Z",
     "iopub.status.idle": "2025-04-25T05:36:37.579367Z",
     "shell.execute_reply": "2025-04-25T05:36:37.579129Z"
    },
    "papermill": {
     "duration": 0.00389,
     "end_time": "2025-04-25T05:36:37.580022",
     "exception": false,
     "start_time": "2025-04-25T05:36:37.576132",
     "status": "completed"
    },
    "tags": []
   },
   "outputs": [],
   "source": [
    "# Import saved variables from the first step\n",
    "templatedf: pl.DataFrame = pickle.load(open(templatedf_path, 'rb'))"
   ]
  },
  {
   "cell_type": "code",
   "execution_count": 6,
   "id": "ab3a80fe",
   "metadata": {
    "execution": {
     "iopub.execute_input": "2025-04-25T05:36:37.582548Z",
     "iopub.status.busy": "2025-04-25T05:36:37.582450Z",
     "iopub.status.idle": "2025-04-25T05:36:37.587015Z",
     "shell.execute_reply": "2025-04-25T05:36:37.586756Z"
    },
    "papermill": {
     "duration": 0.006597,
     "end_time": "2025-04-25T05:36:37.587737",
     "exception": false,
     "start_time": "2025-04-25T05:36:37.581140",
     "status": "completed"
    },
    "tags": []
   },
   "outputs": [
    {
     "data": {
      "text/plain": [
       "dict_keys([6, 7, 0, 1, 2, 3, 8, 4, 5, 9])"
      ]
     },
     "execution_count": 6,
     "metadata": {},
     "output_type": "execute_result"
    }
   ],
   "source": [
    "# load the json input files from step 2\n",
    "# {'col': column name as string,\n",
    "#  'row': group-by column values as dict (effectively a row id),\n",
    "#  'values': [ 1000x values ] }\n",
    "alldata = {}\n",
    "\n",
    "pattern = parse.compile(\"{n}.json\")\n",
    "\n",
    "with zipfile.ZipFile(INPUT_ZIP, 'r') as zf:\n",
    "    for filename in zf.namelist():\n",
    "        if filename.endswith('.json'):\n",
    "            with zf.open(filename) as f:\n",
    "                filenumber = int(pattern.parse(filename).named['n'])\n",
    "                data = json.load(f)\n",
    "                d: dict = data\n",
    "                alldata[filenumber] = d\n",
    "alldata.keys()"
   ]
  },
  {
   "cell_type": "code",
   "execution_count": 7,
   "id": "fa47deff",
   "metadata": {
    "execution": {
     "iopub.execute_input": "2025-04-25T05:36:37.590851Z",
     "iopub.status.busy": "2025-04-25T05:36:37.590723Z",
     "iopub.status.idle": "2025-04-25T05:36:37.594020Z",
     "shell.execute_reply": "2025-04-25T05:36:37.593745Z"
    },
    "papermill": {
     "duration": 0.005539,
     "end_time": "2025-04-25T05:36:37.594694",
     "exception": false,
     "start_time": "2025-04-25T05:36:37.589155",
     "status": "completed"
    },
    "tags": []
   },
   "outputs": [],
   "source": [
    "# Make sure the data types of the row fields are correct\n",
    "for i in range(len(alldata)):\n",
    "    alldata[i]['row'] = pl.DataFrame(alldata[i]['row']).cast(templatedf.select(INDEX_COLS).schema).to_dicts()[0]"
   ]
  },
  {
   "cell_type": "code",
   "execution_count": 8,
   "id": "1d086fc3",
   "metadata": {
    "execution": {
     "iopub.execute_input": "2025-04-25T05:36:37.597396Z",
     "iopub.status.busy": "2025-04-25T05:36:37.597292Z",
     "iopub.status.idle": "2025-04-25T05:36:37.599616Z",
     "shell.execute_reply": "2025-04-25T05:36:37.599381Z"
    },
    "papermill": {
     "duration": 0.00448,
     "end_time": "2025-04-25T05:36:37.600387",
     "exception": false,
     "start_time": "2025-04-25T05:36:37.595907",
     "status": "completed"
    },
    "tags": []
   },
   "outputs": [
    {
     "data": {
      "text/html": [
       "<div><style>\n",
       ".dataframe > thead > tr,\n",
       ".dataframe > tbody > tr {\n",
       "  text-align: right;\n",
       "  white-space: pre-wrap;\n",
       "}\n",
       "</style>\n",
       "<small>shape: (10, 1)</small><table border=\"1\" class=\"dataframe\"><thead><tr><th>rank</th></tr><tr><td>i64</td></tr></thead><tbody><tr><td>1</td></tr><tr><td>2</td></tr><tr><td>3</td></tr><tr><td>4</td></tr><tr><td>5</td></tr><tr><td>6</td></tr><tr><td>7</td></tr><tr><td>8</td></tr><tr><td>9</td></tr><tr><td>10</td></tr></tbody></table></div>"
      ],
      "text/plain": [
       "shape: (10, 1)\n",
       "┌──────┐\n",
       "│ rank │\n",
       "│ ---  │\n",
       "│ i64  │\n",
       "╞══════╡\n",
       "│ 1    │\n",
       "│ 2    │\n",
       "│ 3    │\n",
       "│ 4    │\n",
       "│ 5    │\n",
       "│ 6    │\n",
       "│ 7    │\n",
       "│ 8    │\n",
       "│ 9    │\n",
       "│ 10   │\n",
       "└──────┘"
      ]
     },
     "execution_count": 8,
     "metadata": {},
     "output_type": "execute_result"
    }
   ],
   "source": [
    "allgroups = templatedf.select(INDEX_COLS)\n",
    "allgroups"
   ]
  },
  {
   "cell_type": "code",
   "execution_count": 9,
   "id": "0b249a7b",
   "metadata": {
    "execution": {
     "iopub.execute_input": "2025-04-25T05:36:37.603511Z",
     "iopub.status.busy": "2025-04-25T05:36:37.603392Z",
     "iopub.status.idle": "2025-04-25T05:36:37.608005Z",
     "shell.execute_reply": "2025-04-25T05:36:37.607779Z"
    },
    "papermill": {
     "duration": 0.006956,
     "end_time": "2025-04-25T05:36:37.608682",
     "exception": false,
     "start_time": "2025-04-25T05:36:37.601726",
     "status": "completed"
    },
    "tags": []
   },
   "outputs": [
    {
     "name": "stdout",
     "output_type": "stream",
     "text": [
      "{'rank': 1}\n",
      "{'rank': 2}\n",
      "{'rank': 3}\n",
      "{'rank': 4}\n",
      "{'rank': 5}\n",
      "{'rank': 6}\n",
      "{'rank': 7}\n",
      "{'rank': 8}\n",
      "{'rank': 9}\n",
      "{'rank': 10}\n"
     ]
    }
   ],
   "source": [
    "# Cursed data shuffling to reidentify what row goes where, what column goes where, and what the labels should be on everything\n",
    "colidxes = {}\n",
    "for col in OUTPUT_COLS:\n",
    "    colidxes[col] = templatedf.get_column_index(col)\n",
    "rowidxes = {}\n",
    "for row in templatedf.select(INDEX_COLS).iter_rows(named=True):\n",
    "    rowidxes[tuple(row.values())] = allgroups.with_row_index().filter(\n",
    "        pl.col(k).eq(v)\n",
    "        for k, v in row.items()\n",
    "    ).select(\"index\").item()\n",
    "    print(row)\n",
    "\n",
    "allinfo = [\n",
    "    {\"colname\": adentry['col'],\n",
    "    \"rowid\": tuple(adentry['row'].values()),\n",
    "    \"value\": adentry['value'][0],\n",
    "    \"colidx\": colidxes[adentry['col']],\n",
    "    \"rowidx\": rowidxes[tuple(adentry['row'].values())]}\n",
    "    for adidx, adentry in alldata.items()\n",
    "]\n",
    "\n",
    "colnames = {}\n",
    "rownames = {}\n",
    "for entry in allinfo:\n",
    "    colnames[entry['colidx']] = entry['colname']\n",
    "    rownames[entry['rowidx']] = entry['rowid']"
   ]
  },
  {
   "cell_type": "markdown",
   "id": "61e58b37",
   "metadata": {
    "papermill": {
     "duration": 0.00114,
     "end_time": "2025-04-25T05:36:37.611267",
     "exception": false,
     "start_time": "2025-04-25T05:36:37.610127",
     "status": "completed"
    },
    "tags": []
   },
   "source": [
    "Naive reconstruction"
   ]
  },
  {
   "cell_type": "code",
   "execution_count": 10,
   "id": "c6da70b0",
   "metadata": {
    "execution": {
     "iopub.execute_input": "2025-04-25T05:36:37.613970Z",
     "iopub.status.busy": "2025-04-25T05:36:37.613873Z",
     "iopub.status.idle": "2025-04-25T05:36:37.655801Z",
     "shell.execute_reply": "2025-04-25T05:36:37.653390Z"
    },
    "papermill": {
     "duration": 0.045799,
     "end_time": "2025-04-25T05:36:37.658153",
     "exception": false,
     "start_time": "2025-04-25T05:36:37.612354",
     "status": "completed"
    },
    "tags": []
   },
   "outputs": [
    {
     "name": "stdout",
     "output_type": "stream",
     "text": [
      "['rank', 'revenue']\n",
      "[1, 346966.46539735695]\n",
      "[2, 319983.83749483526]\n",
      "[3, 300466.3019457184]\n",
      "[4, 270142.85951234546]\n",
      "[5, 311015.96836219094]\n",
      "[6, 299227.6447222958]\n",
      "[7, 311520.83581611345]\n",
      "[8, 277669.84440373594]\n",
      "[9, 303454.0002845618]\n",
      "[10, 254113.11568002528]\n"
     ]
    }
   ],
   "source": [
    "# Naive reconstruction based on the indices of the keys in the templatedf\n",
    "allcols = INDEX_COLS + OUTPUT_COLS\n",
    "allrows = allgroups.select(INDEX_COLS).to_numpy().tolist()\n",
    "\n",
    "allinfo2 = {\n",
    "    (rowidxes[tuple(adentry['row'].values())], colidxes[adentry['col']]): adentry['value'][0]\n",
    "    for adidx, adentry in alldata.items()\n",
    "}\n",
    "\n",
    "df2 = []\n",
    "print(allcols)\n",
    "for row in allrows:\n",
    "    print(row + [allinfo2.get((rowidxes[tuple(row)], colidxes[col]), None) for col in OUTPUT_COLS])\n",
    "    df2.append(row + [allinfo2.get((rowidxes[tuple(row)], colidxes[col]), None) for col in OUTPUT_COLS])"
   ]
  },
  {
   "cell_type": "code",
   "execution_count": 11,
   "id": "396c2efa",
   "metadata": {
    "execution": {
     "iopub.execute_input": "2025-04-25T05:36:37.664139Z",
     "iopub.status.busy": "2025-04-25T05:36:37.663741Z",
     "iopub.status.idle": "2025-04-25T05:36:37.678768Z",
     "shell.execute_reply": "2025-04-25T05:36:37.678089Z"
    },
    "papermill": {
     "duration": 0.020334,
     "end_time": "2025-04-25T05:36:37.681592",
     "exception": false,
     "start_time": "2025-04-25T05:36:37.661258",
     "status": "completed"
    },
    "tags": []
   },
   "outputs": [
    {
     "data": {
      "text/html": [
       "<div><style>\n",
       ".dataframe > thead > tr,\n",
       ".dataframe > tbody > tr {\n",
       "  text-align: right;\n",
       "  white-space: pre-wrap;\n",
       "}\n",
       "</style>\n",
       "<small>shape: (10, 2)</small><table border=\"1\" class=\"dataframe\"><thead><tr><th>rank</th><th>revenue</th></tr><tr><td>i64</td><td>decimal[38,4]</td></tr></thead><tbody><tr><td>1</td><td>346966.4653</td></tr><tr><td>2</td><td>319983.8374</td></tr><tr><td>3</td><td>300466.3019</td></tr><tr><td>4</td><td>270142.8595</td></tr><tr><td>5</td><td>311015.9683</td></tr><tr><td>6</td><td>299227.6447</td></tr><tr><td>7</td><td>311520.8358</td></tr><tr><td>8</td><td>277669.8444</td></tr><tr><td>9</td><td>303454.0002</td></tr><tr><td>10</td><td>254113.1156</td></tr></tbody></table></div>"
      ],
      "text/plain": [
       "shape: (10, 2)\n",
       "┌──────┬───────────────┐\n",
       "│ rank ┆ revenue       │\n",
       "│ ---  ┆ ---           │\n",
       "│ i64  ┆ decimal[38,4] │\n",
       "╞══════╪═══════════════╡\n",
       "│ 1    ┆ 346966.4653   │\n",
       "│ 2    ┆ 319983.8374   │\n",
       "│ 3    ┆ 300466.3019   │\n",
       "│ 4    ┆ 270142.8595   │\n",
       "│ 5    ┆ 311015.9683   │\n",
       "│ 6    ┆ 299227.6447   │\n",
       "│ 7    ┆ 311520.8358   │\n",
       "│ 8    ┆ 277669.8444   │\n",
       "│ 9    ┆ 303454.0002   │\n",
       "│ 10   ┆ 254113.1156   │\n",
       "└──────┴───────────────┘"
      ]
     },
     "execution_count": 11,
     "metadata": {},
     "output_type": "execute_result"
    }
   ],
   "source": [
    "pl.DataFrame(df2, schema=allcols, orient='row').cast(templatedf.schema)"
   ]
  },
  {
   "cell_type": "code",
   "execution_count": 12,
   "id": "22658efb",
   "metadata": {
    "execution": {
     "iopub.execute_input": "2025-04-25T05:36:37.690868Z",
     "iopub.status.busy": "2025-04-25T05:36:37.689713Z",
     "iopub.status.idle": "2025-04-25T05:36:37.696589Z",
     "shell.execute_reply": "2025-04-25T05:36:37.695948Z"
    },
    "papermill": {
     "duration": 0.013738,
     "end_time": "2025-04-25T05:36:37.700041",
     "exception": false,
     "start_time": "2025-04-25T05:36:37.686303",
     "status": "completed"
    },
    "tags": []
   },
   "outputs": [],
   "source": [
    "pl.DataFrame(df2, schema=allcols, orient='row').cast(templatedf.schema).write_csv(os.path.join(OUTPUT_DIR, 'output.csv'))"
   ]
  },
  {
   "cell_type": "code",
   "execution_count": 13,
   "id": "fbf29824",
   "metadata": {
    "execution": {
     "iopub.execute_input": "2025-04-25T05:36:37.708887Z",
     "iopub.status.busy": "2025-04-25T05:36:37.708460Z",
     "iopub.status.idle": "2025-04-25T05:36:37.733317Z",
     "shell.execute_reply": "2025-04-25T05:36:37.732491Z"
    },
    "papermill": {
     "duration": 0.034172,
     "end_time": "2025-04-25T05:36:37.737460",
     "exception": false,
     "start_time": "2025-04-25T05:36:37.703288",
     "status": "completed"
    },
    "tags": []
   },
   "outputs": [
    {
     "data": {
      "text/plain": [
       "'/Users/michael/projects/dpdb/pacdb/outputs/ap-duckdb-q3-step3.zip'"
      ]
     },
     "execution_count": 13,
     "metadata": {},
     "output_type": "execute_result"
    }
   ],
   "source": [
    "# zip the OUTPUT_DIR\n",
    "shutil.make_archive(OUTPUT_DIR, 'zip', OUTPUT_DIR)"
   ]
  }
 ],
 "metadata": {
  "kernelspec": {
   "display_name": ".venv",
   "language": "python",
   "name": "python3"
  },
  "language_info": {
   "codemirror_mode": {
    "name": "ipython",
    "version": 3
   },
   "file_extension": ".py",
   "mimetype": "text/x-python",
   "name": "python",
   "nbconvert_exporter": "python",
   "pygments_lexer": "ipython3",
   "version": "3.11.7"
  },
  "papermill": {
   "default_parameters": {},
   "duration": 1.281729,
   "end_time": "2025-04-25T05:36:37.962518",
   "environment_variables": {},
   "exception": null,
   "input_path": "autopac-duckdb-step3.ipynb",
   "output_path": "./ap-duckdb-q3-step3.ipynb",
   "parameters": {
    "EXPERIMENT": "ap-duckdb-q3",
    "INDEX_COLS": [
     "rank"
    ],
    "INPUT_ZIP": "./outputs/ap-duckdb-q3-step2.zip",
    "OUTPUT_COLS": [
     "revenue"
    ],
    "OUTPUT_DIR": "./outputs/ap-duckdb-q3-step3",
    "templatedf_path": "./outputs/ap-duckdb-q3-step1/template.pkl"
   },
   "start_time": "2025-04-25T05:36:36.680789",
   "version": "2.6.0"
  }
 },
 "nbformat": 4,
 "nbformat_minor": 5
}