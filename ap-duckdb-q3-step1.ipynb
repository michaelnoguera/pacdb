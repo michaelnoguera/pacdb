{
 "cells": [
  {
   "cell_type": "markdown",
   "id": "dbc0a194",
   "metadata": {
    "papermill": {
     "duration": 0.006084,
     "end_time": "2025-04-25T05:35:08.170084",
     "exception": false,
     "start_time": "2025-04-25T05:35:08.164000",
     "status": "completed"
    },
    "tags": []
   },
   "source": [
    "## DuckDB Notebook\n",
    "\n",
    "This notebook generates a bunch of raw outputs, without applying PAC, to be consumed by a second stage."
   ]
  },
  {
   "cell_type": "markdown",
   "id": "031f2cc8",
   "metadata": {
    "papermill": {
     "duration": 0.002601,
     "end_time": "2025-04-25T05:35:08.176502",
     "exception": false,
     "start_time": "2025-04-25T05:35:08.173901",
     "status": "completed"
    },
    "tags": []
   },
   "source": [
    "```\n",
    " group by              output cols                        \n",
    " key cols ┌────────┬────────┬────────┬────────┐           \n",
    "        │ │   A    │   B    │   C    │   D    │           \n",
    "      ┌─▼─┼────────┼────────┼────────┼────────┤           \n",
    "      │ 1 │   2    │        │        │        │           \n",
    "      ├───┼───|────┼────────┼────────┼────────┤           \n",
    "      │ 2 │   │    │        │        │        │           \n",
    "      ├───┼───┼────┼────────┼────────┼────────┤           \n",
    "      │ 3 │   │    │        │        │        │           \n",
    "      └───┴───┼────┴────────┴────────┴────────┘           \n",
    "              ▼                 A_1.json                  \n",
    "       Sample 0:   A1=2        ┌─────────────────────────┐\n",
    "       Sample 1:   A1=4  ───▶  │{                        │\n",
    "             ...               │    col: A               │\n",
    "       Sample 999: A1=3        │    row: 1               │\n",
    "                               │    value: [2, 4, ... 3] │\n",
    "                               │}                        │\n",
    "                               └─────────────────────────┘\n",
    "```"
   ]
  },
  {
   "cell_type": "code",
   "execution_count": 1,
   "id": "0827b8d6",
   "metadata": {
    "execution": {
     "iopub.execute_input": "2025-04-25T05:35:08.183702Z",
     "iopub.status.busy": "2025-04-25T05:35:08.183411Z",
     "iopub.status.idle": "2025-04-25T05:35:08.311308Z",
     "shell.execute_reply": "2025-04-25T05:35:08.310966Z"
    },
    "papermill": {
     "duration": 0.133148,
     "end_time": "2025-04-25T05:35:08.312211",
     "exception": false,
     "start_time": "2025-04-25T05:35:08.179063",
     "status": "completed"
    },
    "tags": []
   },
   "outputs": [],
   "source": [
    "#!/usr/bin/env python\n",
    "# coding: utf-8\n",
    "\n",
    "import os\n",
    "import pickle\n",
    "import shutil\n",
    "\n",
    "import duckdb\n",
    "import polars as pl"
   ]
  },
  {
   "cell_type": "code",
   "execution_count": 2,
   "id": "705163fc",
   "metadata": {
    "execution": {
     "iopub.execute_input": "2025-04-25T05:35:08.315595Z",
     "iopub.status.busy": "2025-04-25T05:35:08.315392Z",
     "iopub.status.idle": "2025-04-25T05:35:08.318049Z",
     "shell.execute_reply": "2025-04-25T05:35:08.317816Z"
    },
    "papermill": {
     "duration": 0.00493,
     "end_time": "2025-04-25T05:35:08.318693",
     "exception": false,
     "start_time": "2025-04-25T05:35:08.313763",
     "status": "completed"
    },
    "tags": [
     "parameters"
    ]
   },
   "outputs": [],
   "source": [
    "EXPERIMENT = \"pac-duckdb-q1\"\n",
    "OUTPUT_DIR = f\"./outputs/{EXPERIMENT}-step1\"\n",
    "SAMPLES = 1024\n",
    "\n",
    "SAMPLE_STEP = f\"\"\"\n",
    "DROP TABLE IF EXISTS random_samples;\n",
    "\n",
    "CREATE TABLE random_samples AS\n",
    "WITH sample_numbers AS MATERIALIZED (\n",
    "    SELECT range AS sample_id FROM range({SAMPLES//2})\n",
    "), random_values AS MATERIALIZED (\n",
    "    SELECT \n",
    "        sample_numbers.sample_id,\n",
    "        customer.rowid AS row_id,\n",
    "        (RANDOM() > 0.5)::BOOLEAN AS random_binary\n",
    "    FROM sample_numbers\n",
    "    JOIN customer ON TRUE  -- Cross join to duplicate rows for each sample\n",
    ")\n",
    "SELECT\n",
    "    sample_id,\n",
    "    row_id,\n",
    "    random_binary\n",
    "FROM random_values\n",
    "UNION ALL\n",
    "SELECT -- select the complementary samples too\n",
    "    ({SAMPLES//2}) + sample_id,\n",
    "    row_id,\n",
    "    NOT random_binary  -- Inverse the random_binary to get the complementary sample\n",
    "FROM random_values\n",
    "ORDER BY sample_id, row_id;\n",
    "\"\"\"\n",
    "\n",
    "PREPARE_STEP = \"\"\"\n",
    "DEALLOCATE PREPARE run_query;\n",
    "\n",
    "PREPARE run_query AS \n",
    "SELECT\n",
    "    l_returnflag,\n",
    "    l_linestatus,\n",
    "    2*sum(l_quantity) AS sum_qty,\n",
    "    2*sum(l_extendedprice) AS sum_base_price,\n",
    "    2*sum(l_extendedprice * (1 - l_discount)) AS sum_disc_price,\n",
    "    2*sum(l_extendedprice * (1 - l_discount) * (1 + l_tax)) AS sum_charge,\n",
    "    avg(l_quantity) AS avg_qty,\n",
    "    avg(l_extendedprice) AS avg_price,\n",
    "    avg(l_discount) AS avg_disc,\n",
    "    2*count(*) AS count_order\n",
    "FROM\n",
    "    lineitem\n",
    "JOIN orders ON lineitem.l_orderkey = orders.o_orderkey\n",
    "JOIN customer ON orders.o_custkey = customer.c_custkey\n",
    "JOIN random_samples AS rs\n",
    "    ON rs.row_id = customer.rowid\n",
    "WHERE\n",
    "    l_shipdate <= CAST('1998-09-02' AS date)\n",
    "    AND rs.random_binary = TRUE\n",
    "    AND rs.sample_id = $sample\n",
    "GROUP BY\n",
    "    l_returnflag,\n",
    "    l_linestatus\n",
    "ORDER BY\n",
    "    l_returnflag,\n",
    "    l_linestatus;\n",
    "\"\"\"\n",
    "\n",
    "INDEX_COLS = ['l_returnflag', 'l_linestatus']\n",
    "OUTPUT_COLS = ['sum_qty', 'sum_base_price', 'sum_disc_price', 'sum_charge', 'avg_qty', 'avg_price', 'avg_disc', 'count_order']"
   ]
  },
  {
   "cell_type": "code",
   "execution_count": 3,
   "id": "ed7b60ac",
   "metadata": {
    "execution": {
     "iopub.execute_input": "2025-04-25T05:35:08.321811Z",
     "iopub.status.busy": "2025-04-25T05:35:08.321706Z",
     "iopub.status.idle": "2025-04-25T05:35:08.323697Z",
     "shell.execute_reply": "2025-04-25T05:35:08.323487Z"
    },
    "papermill": {
     "duration": 0.004327,
     "end_time": "2025-04-25T05:35:08.324286",
     "exception": false,
     "start_time": "2025-04-25T05:35:08.319959",
     "status": "completed"
    },
    "tags": [
     "injected-parameters"
    ]
   },
   "outputs": [],
   "source": [
    "# Parameters\n",
    "EXPERIMENT = \"ap-duckdb-q3\"\n",
    "OUTPUT_DIR = \"./outputs/ap-duckdb-q3-step1\"\n",
    "SAMPLES = 1024\n",
    "SAMPLE_STEP = \"DROP TABLE IF EXISTS random_samples;\\n\\nCREATE TABLE random_samples AS\\nWITH sample_numbers AS MATERIALIZED (\\n    SELECT range AS sample_id FROM range(1024 // 2)\\n), random_values AS MATERIALIZED (\\n    SELECT \\n        sample_numbers.sample_id,\\n        orders.rowid AS row_id,\\n        (RANDOM() > 0.5)::BOOLEAN AS random_binary\\n    FROM sample_numbers\\n    JOIN orders ON TRUE  -- Cross join to duplicate rows for each sample\\n)\\nSELECT\\n    sample_id,\\n    row_id,\\n    random_binary\\nFROM random_values\\nUNION ALL\\nSELECT -- select the complementary samples too\\n    (1024 // 2) + sample_id,\\n    row_id,\\n    NOT random_binary  -- Inverse the random_binary to get the complementary sample\\nFROM random_values\\nORDER BY sample_id, row_id;\"\n",
    "PREPARE_STEP = \"DEALLOCATE PREPARE run_query;\\n\\nPREPARE run_query AS \\nSELECT\\n    ROW_NUMBER() OVER (ORDER BY SUM(l_extendedprice * (1 - l_discount)) DESC, o_orderdate) AS rank,\\n    --l_orderkey,\\n    sum(l_extendedprice * (1 - l_discount)) AS revenue,\\n    --o_orderdate,\\n    --o_shippriority\\nFROM\\n    customer,\\n    (SELECT * FROM orders\\n              JOIN random_samples AS rs ON rs.row_id = orders.rowid\\n              AND rs.random_binary = TRUE\\n              AND rs.sample_id = $sample) as orders,\\n    lineitem\\nWHERE\\n    c_mktsegment = 'BUILDING'\\n    AND c_custkey = o_custkey\\n    AND l_orderkey = o_orderkey\\n    AND o_orderdate < CAST('1995-03-15' AS date)\\n    AND l_shipdate > CAST('1995-03-15' AS date)\\nGROUP BY\\n    l_orderkey,\\n    o_orderdate,\\n    o_shippriority\\nORDER BY\\n    revenue DESC,\\n    o_orderdate\\nLIMIT 10;\"\n",
    "INDEX_COLS = [\"rank\"]\n",
    "OUTPUT_COLS = [\"revenue\"]\n"
   ]
  },
  {
   "cell_type": "code",
   "execution_count": 4,
   "id": "cc296111",
   "metadata": {
    "execution": {
     "iopub.execute_input": "2025-04-25T05:35:08.330969Z",
     "iopub.status.busy": "2025-04-25T05:35:08.328420Z",
     "iopub.status.idle": "2025-04-25T05:35:08.363156Z",
     "shell.execute_reply": "2025-04-25T05:35:08.345508Z"
    },
    "papermill": {
     "duration": 0.048296,
     "end_time": "2025-04-25T05:35:08.373945",
     "exception": false,
     "start_time": "2025-04-25T05:35:08.325649",
     "status": "completed"
    },
    "tags": []
   },
   "outputs": [],
   "source": [
    "if not os.path.exists(OUTPUT_DIR):\n",
    "    os.makedirs(OUTPUT_DIR)"
   ]
  },
  {
   "cell_type": "code",
   "execution_count": 5,
   "id": "a78ebea6",
   "metadata": {
    "execution": {
     "iopub.execute_input": "2025-04-25T05:35:08.377379Z",
     "iopub.status.busy": "2025-04-25T05:35:08.377245Z",
     "iopub.status.idle": "2025-04-25T05:35:08.725522Z",
     "shell.execute_reply": "2025-04-25T05:35:08.725230Z"
    },
    "papermill": {
     "duration": 0.350936,
     "end_time": "2025-04-25T05:35:08.726381",
     "exception": false,
     "start_time": "2025-04-25T05:35:08.375445",
     "status": "completed"
    },
    "tags": []
   },
   "outputs": [],
   "source": [
    "# duckdb load data/tpch/tpch.duckdb into the temporary in-memory database\n",
    "con = duckdb.connect(database=':memory:')\n",
    "tables = [\"customer\", \"lineitem\", \"nation\", \"orders\", \"part\", \"partsupp\", \"region\", \"supplier\"]\n",
    "for t in tables:\n",
    "    con.execute(f\"CREATE TABLE {t} AS SELECT * FROM 'data/tpch/{t}.parquet'\")"
   ]
  },
  {
   "cell_type": "code",
   "execution_count": 6,
   "id": "5ac1722e",
   "metadata": {
    "execution": {
     "iopub.execute_input": "2025-04-25T05:35:08.730123Z",
     "iopub.status.busy": "2025-04-25T05:35:08.729994Z",
     "iopub.status.idle": "2025-04-25T05:35:28.568359Z",
     "shell.execute_reply": "2025-04-25T05:35:28.567378Z"
    },
    "papermill": {
     "duration": 19.842582,
     "end_time": "2025-04-25T05:35:28.570587",
     "exception": false,
     "start_time": "2025-04-25T05:35:08.728005",
     "status": "completed"
    },
    "tags": []
   },
   "outputs": [],
   "source": [
    "# Construct the table of random samples\n",
    "# to use, join it with the lineitem table (for specific sample # s) and filter to just the\n",
    "# rows where random_binary = 1.0\n",
    "# This will give us a 50% sample of the lineitem table for each sample # s\n",
    "\n",
    "assert SAMPLES % 2 == 0, \"SAMPLES must be even to create complementary samples.\"\n",
    "\n",
    "random_samples = con.execute(SAMPLE_STEP)"
   ]
  },
  {
   "cell_type": "markdown",
   "id": "12488b1a",
   "metadata": {
    "papermill": {
     "duration": 0.001408,
     "end_time": "2025-04-25T05:35:28.575012",
     "exception": false,
     "start_time": "2025-04-25T05:35:28.573604",
     "status": "completed"
    },
    "tags": []
   },
   "source": [
    "The randomness of what rows are chosen is saved to disk in `random_binary.json`. For each sample #, there is an array with one entry per row, where 1 means the row was chosen and 0 means it was not."
   ]
  },
  {
   "cell_type": "code",
   "execution_count": 7,
   "id": "0d048956",
   "metadata": {
    "execution": {
     "iopub.execute_input": "2025-04-25T05:35:28.578887Z",
     "iopub.status.busy": "2025-04-25T05:35:28.578687Z",
     "iopub.status.idle": "2025-04-25T05:35:31.626443Z",
     "shell.execute_reply": "2025-04-25T05:35:31.626102Z"
    },
    "papermill": {
     "duration": 3.050759,
     "end_time": "2025-04-25T05:35:31.627285",
     "exception": false,
     "start_time": "2025-04-25T05:35:28.576526",
     "status": "completed"
    },
    "tags": []
   },
   "outputs": [],
   "source": [
    "con.execute(\"\"\"\n",
    "SELECT sample_id, array_agg(random_binary::TINYINT) as random_binary\n",
    "FROM random_samples\n",
    "GROUP BY sample_id;\n",
    "\"\"\").pl().write_json(f\"{OUTPUT_DIR}/random_binary.json\")"
   ]
  },
  {
   "cell_type": "markdown",
   "id": "523072c6",
   "metadata": {
    "papermill": {
     "duration": 0.001352,
     "end_time": "2025-04-25T05:35:31.630344",
     "exception": false,
     "start_time": "2025-04-25T05:35:31.628992",
     "status": "completed"
    },
    "tags": []
   },
   "source": [
    "Query is specified as a prepared statement. We will then execute it once per sample."
   ]
  },
  {
   "cell_type": "code",
   "execution_count": 8,
   "id": "62fed6d7",
   "metadata": {
    "execution": {
     "iopub.execute_input": "2025-04-25T05:35:31.633927Z",
     "iopub.status.busy": "2025-04-25T05:35:31.633657Z",
     "iopub.status.idle": "2025-04-25T05:35:31.713983Z",
     "shell.execute_reply": "2025-04-25T05:35:31.713543Z"
    },
    "papermill": {
     "duration": 0.083236,
     "end_time": "2025-04-25T05:35:31.715117",
     "exception": false,
     "start_time": "2025-04-25T05:35:31.631881",
     "status": "completed"
    },
    "tags": []
   },
   "outputs": [
    {
     "data": {
      "text/html": [
       "<div><style>\n",
       ".dataframe > thead > tr,\n",
       ".dataframe > tbody > tr {\n",
       "  text-align: right;\n",
       "  white-space: pre-wrap;\n",
       "}\n",
       "</style>\n",
       "<small>shape: (10, 2)</small><table border=\"1\" class=\"dataframe\"><thead><tr><th>rank</th><th>revenue</th></tr><tr><td>i64</td><td>decimal[38,4]</td></tr></thead><tbody><tr><td>1</td><td>355369.0698</td></tr><tr><td>2</td><td>351238.2770</td></tr><tr><td>3</td><td>349181.7426</td></tr><tr><td>4</td><td>321075.5810</td></tr><tr><td>5</td><td>318576.4154</td></tr><tr><td>6</td><td>308715.6611</td></tr><tr><td>7</td><td>301179.8755</td></tr><tr><td>8</td><td>291658.7658</td></tr><tr><td>9</td><td>279694.9034</td></tr><tr><td>10</td><td>279216.8418</td></tr></tbody></table></div>"
      ],
      "text/plain": [
       "shape: (10, 2)\n",
       "┌──────┬───────────────┐\n",
       "│ rank ┆ revenue       │\n",
       "│ ---  ┆ ---           │\n",
       "│ i64  ┆ decimal[38,4] │\n",
       "╞══════╪═══════════════╡\n",
       "│ 1    ┆ 355369.0698   │\n",
       "│ 2    ┆ 351238.2770   │\n",
       "│ 3    ┆ 349181.7426   │\n",
       "│ 4    ┆ 321075.5810   │\n",
       "│ 5    ┆ 318576.4154   │\n",
       "│ 6    ┆ 308715.6611   │\n",
       "│ 7    ┆ 301179.8755   │\n",
       "│ 8    ┆ 291658.7658   │\n",
       "│ 9    ┆ 279694.9034   │\n",
       "│ 10   ┆ 279216.8418   │\n",
       "└──────┴───────────────┘"
      ]
     },
     "execution_count": 8,
     "metadata": {},
     "output_type": "execute_result"
    }
   ],
   "source": [
    "# Query\n",
    "con.execute(PREPARE_STEP)\n",
    "\n",
    "# Run query to see output\n",
    "dfs0 = con.execute(f\"EXECUTE run_query(sample := {0});\").pl()\n",
    "\n",
    "# Save csv copies of the first 5 samples\n",
    "os.makedirs(f\"{OUTPUT_DIR}/csv\", exist_ok=True)\n",
    "for s in range(5):\n",
    "    con.execute(f\"EXECUTE run_query(sample := {s});\").pl().write_csv(f\"{OUTPUT_DIR}/csv/sample_{s}.csv\")\n",
    "\n",
    "dfs0"
   ]
  },
  {
   "cell_type": "code",
   "execution_count": 9,
   "id": "0c26a4e7",
   "metadata": {
    "execution": {
     "iopub.execute_input": "2025-04-25T05:35:31.719807Z",
     "iopub.status.busy": "2025-04-25T05:35:31.719635Z",
     "iopub.status.idle": "2025-04-25T05:35:42.421485Z",
     "shell.execute_reply": "2025-04-25T05:35:42.421161Z"
    },
    "papermill": {
     "duration": 10.705372,
     "end_time": "2025-04-25T05:35:42.422254",
     "exception": false,
     "start_time": "2025-04-25T05:35:31.716882",
     "status": "completed"
    },
    "tags": []
   },
   "outputs": [
    {
     "data": {
      "text/html": [
       "<div><style>\n",
       ".dataframe > thead > tr,\n",
       ".dataframe > tbody > tr {\n",
       "  text-align: right;\n",
       "  white-space: pre-wrap;\n",
       "}\n",
       "</style>\n",
       "<small>shape: (10_240, 3)</small><table border=\"1\" class=\"dataframe\"><thead><tr><th>sample</th><th>rank</th><th>revenue</th></tr><tr><td>i32</td><td>i64</td><td>decimal[38,4]</td></tr></thead><tbody><tr><td>0</td><td>1</td><td>355369.0698</td></tr><tr><td>0</td><td>2</td><td>351238.2770</td></tr><tr><td>0</td><td>3</td><td>349181.7426</td></tr><tr><td>0</td><td>4</td><td>321075.5810</td></tr><tr><td>0</td><td>5</td><td>318576.4154</td></tr><tr><td>&hellip;</td><td>&hellip;</td><td>&hellip;</td></tr><tr><td>1023</td><td>6</td><td>309151.2029</td></tr><tr><td>1023</td><td>7</td><td>309101.4094</td></tr><tr><td>1023</td><td>8</td><td>308715.6611</td></tr><tr><td>1023</td><td>9</td><td>292395.7431</td></tr><tr><td>1023</td><td>10</td><td>277541.5832</td></tr></tbody></table></div>"
      ],
      "text/plain": [
       "shape: (10_240, 3)\n",
       "┌────────┬──────┬───────────────┐\n",
       "│ sample ┆ rank ┆ revenue       │\n",
       "│ ---    ┆ ---  ┆ ---           │\n",
       "│ i32    ┆ i64  ┆ decimal[38,4] │\n",
       "╞════════╪══════╪═══════════════╡\n",
       "│ 0      ┆ 1    ┆ 355369.0698   │\n",
       "│ 0      ┆ 2    ┆ 351238.2770   │\n",
       "│ 0      ┆ 3    ┆ 349181.7426   │\n",
       "│ 0      ┆ 4    ┆ 321075.5810   │\n",
       "│ 0      ┆ 5    ┆ 318576.4154   │\n",
       "│ …      ┆ …    ┆ …             │\n",
       "│ 1023   ┆ 6    ┆ 309151.2029   │\n",
       "│ 1023   ┆ 7    ┆ 309101.4094   │\n",
       "│ 1023   ┆ 8    ┆ 308715.6611   │\n",
       "│ 1023   ┆ 9    ┆ 292395.7431   │\n",
       "│ 1023   ┆ 10   ┆ 277541.5832   │\n",
       "└────────┴──────┴───────────────┘"
      ]
     },
     "execution_count": 9,
     "metadata": {},
     "output_type": "execute_result"
    }
   ],
   "source": [
    "# Run the query for each sample, but accumulate in a pl.DataFrame instead of a list\n",
    "dfsdf: pl.DataFrame = pl.concat(\n",
    "    con.execute(f\"EXECUTE run_query(sample := {s});\").pl().insert_column(0, pl.lit(s).alias(\"sample\"))\n",
    "    for s in range(SAMPLES)\n",
    ")\n",
    "dfsdf"
   ]
  },
  {
   "cell_type": "code",
   "execution_count": 10,
   "id": "b8caa57b",
   "metadata": {
    "execution": {
     "iopub.execute_input": "2025-04-25T05:35:42.426823Z",
     "iopub.status.busy": "2025-04-25T05:35:42.426692Z",
     "iopub.status.idle": "2025-04-25T05:35:42.428969Z",
     "shell.execute_reply": "2025-04-25T05:35:42.428738Z"
    },
    "papermill": {
     "duration": 0.005237,
     "end_time": "2025-04-25T05:35:42.429552",
     "exception": false,
     "start_time": "2025-04-25T05:35:42.424315",
     "status": "completed"
    },
    "tags": []
   },
   "outputs": [],
   "source": [
    "# Define which columns are the group-by keys (INDEX_COLS) and which are the output columns (OUTPUT_COLS)\n",
    "# - moved to parameters cell at top of notebook\n",
    "\n",
    "# Save these to disk for later use\n",
    "with open(f\"{OUTPUT_DIR}/INDEX_COLS.pkl\", 'wb') as f:\n",
    "    pickle.dump(INDEX_COLS, f)\n",
    "with open(f\"{OUTPUT_DIR}/OUTPUT_COLS.pkl\", 'wb') as f:\n",
    "    pickle.dump(OUTPUT_COLS, f)"
   ]
  },
  {
   "cell_type": "code",
   "execution_count": 11,
   "id": "a5c8e7e7",
   "metadata": {
    "execution": {
     "iopub.execute_input": "2025-04-25T05:35:42.433380Z",
     "iopub.status.busy": "2025-04-25T05:35:42.433268Z",
     "iopub.status.idle": "2025-04-25T05:35:42.440164Z",
     "shell.execute_reply": "2025-04-25T05:35:42.439916Z"
    },
    "papermill": {
     "duration": 0.009617,
     "end_time": "2025-04-25T05:35:42.440825",
     "exception": false,
     "start_time": "2025-04-25T05:35:42.431208",
     "status": "completed"
    },
    "tags": []
   },
   "outputs": [
    {
     "data": {
      "text/html": [
       "<div><style>\n",
       ".dataframe > thead > tr,\n",
       ".dataframe > tbody > tr {\n",
       "  text-align: right;\n",
       "  white-space: pre-wrap;\n",
       "}\n",
       "</style>\n",
       "<small>shape: (10, 2)</small><table border=\"1\" class=\"dataframe\"><thead><tr><th>rank</th><th>revenue</th></tr><tr><td>i64</td><td>list[decimal[38,4]]</td></tr></thead><tbody><tr><td>1</td><td>[355369.0698, 353125.4577, … 353125.4577]</td></tr><tr><td>2</td><td>[351238.2770, 351238.2770, … 349181.7426]</td></tr><tr><td>3</td><td>[349181.7426, 349181.7426, … 318576.4154]</td></tr><tr><td>4</td><td>[321075.5810, 314967.0754, … 314967.0754]</td></tr><tr><td>5</td><td>[318576.4154, 312604.5420, … 309728.9306]</td></tr><tr><td>6</td><td>[308715.6611, 309151.2029, … 309151.2029]</td></tr><tr><td>7</td><td>[301179.8755, 308715.6611, … 309101.4094]</td></tr><tr><td>8</td><td>[291658.7658, 308235.1429, … 308715.6611]</td></tr><tr><td>9</td><td>[279694.9034, 304921.2694, … 292395.7431]</td></tr><tr><td>10</td><td>[279216.8418, 292395.7431, … 277541.5832]</td></tr></tbody></table></div>"
      ],
      "text/plain": [
       "shape: (10, 2)\n",
       "┌──────┬─────────────────────────────────┐\n",
       "│ rank ┆ revenue                         │\n",
       "│ ---  ┆ ---                             │\n",
       "│ i64  ┆ list[decimal[38,4]]             │\n",
       "╞══════╪═════════════════════════════════╡\n",
       "│ 1    ┆ [355369.0698, 353125.4577, … 3… │\n",
       "│ 2    ┆ [351238.2770, 351238.2770, … 3… │\n",
       "│ 3    ┆ [349181.7426, 349181.7426, … 3… │\n",
       "│ 4    ┆ [321075.5810, 314967.0754, … 3… │\n",
       "│ 5    ┆ [318576.4154, 312604.5420, … 3… │\n",
       "│ 6    ┆ [308715.6611, 309151.2029, … 3… │\n",
       "│ 7    ┆ [301179.8755, 308715.6611, … 3… │\n",
       "│ 8    ┆ [291658.7658, 308235.1429, … 3… │\n",
       "│ 9    ┆ [279694.9034, 304921.2694, … 2… │\n",
       "│ 10   ┆ [279216.8418, 292395.7431, … 2… │\n",
       "└──────┴─────────────────────────────────┘"
      ]
     },
     "execution_count": 11,
     "metadata": {},
     "output_type": "execute_result"
    }
   ],
   "source": [
    "# Combine all the samples into one table, grouped-by the group-by keys. Each cell contains an n <= # of samples length array of values.\n",
    "listdf = dfsdf.drop(\"sample\").group_by(INDEX_COLS, maintain_order=True).all()\n",
    "listdf"
   ]
  },
  {
   "cell_type": "code",
   "execution_count": 12,
   "id": "64c9d7c4",
   "metadata": {
    "execution": {
     "iopub.execute_input": "2025-04-25T05:35:42.445241Z",
     "iopub.status.busy": "2025-04-25T05:35:42.445138Z",
     "iopub.status.idle": "2025-04-25T05:35:42.447347Z",
     "shell.execute_reply": "2025-04-25T05:35:42.447153Z"
    },
    "papermill": {
     "duration": 0.005342,
     "end_time": "2025-04-25T05:35:42.447931",
     "exception": false,
     "start_time": "2025-04-25T05:35:42.442589",
     "status": "completed"
    },
    "tags": []
   },
   "outputs": [
    {
     "data": {
      "text/plain": [
       "[{'rank': 1},\n",
       " {'rank': 2},\n",
       " {'rank': 3},\n",
       " {'rank': 4},\n",
       " {'rank': 5},\n",
       " {'rank': 6},\n",
       " {'rank': 7},\n",
       " {'rank': 8},\n",
       " {'rank': 9},\n",
       " {'rank': 10}]"
      ]
     },
     "execution_count": 12,
     "metadata": {},
     "output_type": "execute_result"
    }
   ],
   "source": [
    "# What are all the possible group-by key combinations?\n",
    "allgroups: pl.DataFrame = listdf.select(INDEX_COLS)\n",
    "allgroups.to_dicts()"
   ]
  },
  {
   "cell_type": "code",
   "execution_count": 13,
   "id": "3e348aed",
   "metadata": {
    "execution": {
     "iopub.execute_input": "2025-04-25T05:35:42.451521Z",
     "iopub.status.busy": "2025-04-25T05:35:42.451425Z",
     "iopub.status.idle": "2025-04-25T05:35:42.455722Z",
     "shell.execute_reply": "2025-04-25T05:35:42.455477Z"
    },
    "papermill": {
     "duration": 0.00693,
     "end_time": "2025-04-25T05:35:42.456532",
     "exception": false,
     "start_time": "2025-04-25T05:35:42.449602",
     "status": "completed"
    },
    "tags": []
   },
   "outputs": [],
   "source": [
    "# Template for the final output, including all possible group-by groups\n",
    "# Obtained by collecting all the samples in a big table and then keeping only the first occurrence of each groupby key.\n",
    "# Then, fill all OUTPUT_COLS with nulls\n",
    "templatedf = dfsdf.drop(\"sample\").group_by(INDEX_COLS, maintain_order=True).first()\n",
    "templatedf = templatedf.clear(n=len(allgroups)).with_columns(allgroups)\n",
    "templatedf\n",
    "\n",
    "with open(f\"{OUTPUT_DIR}/template.pkl\", \"wb\") as f:\n",
    "    pickle.dump(templatedf, f)"
   ]
  },
  {
   "cell_type": "code",
   "execution_count": 14,
   "id": "7bd5e97d",
   "metadata": {
    "execution": {
     "iopub.execute_input": "2025-04-25T05:35:42.460425Z",
     "iopub.status.busy": "2025-04-25T05:35:42.460311Z",
     "iopub.status.idle": "2025-04-25T05:35:42.469905Z",
     "shell.execute_reply": "2025-04-25T05:35:42.469627Z"
    },
    "papermill": {
     "duration": 0.012305,
     "end_time": "2025-04-25T05:35:42.470616",
     "exception": false,
     "start_time": "2025-04-25T05:35:42.458311",
     "status": "completed"
    },
    "tags": []
   },
   "outputs": [],
   "source": [
    "# Write all table entries in the output table to their own JSON files. Each file has a number, the information of which file corresponds to which table entry\n",
    "# is stored in reverse_map.json (as well as in the files themselves)\n",
    "os.makedirs(f\"{OUTPUT_DIR}/json\", exist_ok=True)\n",
    "i: int = 0\n",
    "for col in OUTPUT_COLS:\n",
    "    for group in allgroups.iter_rows(named=True):\n",
    "        values = listdf.filter(pl.col(k).eq(v) for k, v in group.items()).select(col).to_series()\n",
    "        j = pl.DataFrame().with_columns([\n",
    "            pl.lit(col).alias(\"col\"),\n",
    "            pl.lit(group).alias(\"row\"),\n",
    "            pl.lit(values.explode().dtype.__repr__()).alias(\"dtype\"),\n",
    "            values.alias(\"values\"),\n",
    "        ])\n",
    "        j.write_json(f\"{OUTPUT_DIR}/json/{i}.json\")\n",
    "        i+=1"
   ]
  },
  {
   "cell_type": "code",
   "execution_count": 15,
   "id": "f57fd40f",
   "metadata": {
    "execution": {
     "iopub.execute_input": "2025-04-25T05:35:42.474715Z",
     "iopub.status.busy": "2025-04-25T05:35:42.474471Z",
     "iopub.status.idle": "2025-04-25T05:36:03.527530Z",
     "shell.execute_reply": "2025-04-25T05:36:03.527205Z"
    },
    "papermill": {
     "duration": 21.056024,
     "end_time": "2025-04-25T05:36:03.528307",
     "exception": false,
     "start_time": "2025-04-25T05:35:42.472283",
     "status": "completed"
    },
    "tags": []
   },
   "outputs": [
    {
     "data": {
      "text/plain": [
       "'/Users/michael/projects/dpdb/pacdb/outputs/ap-duckdb-q3-step1.zip'"
      ]
     },
     "execution_count": 15,
     "metadata": {},
     "output_type": "execute_result"
    }
   ],
   "source": [
    "# zip the OUTPUT_DIR\n",
    "shutil.make_archive(OUTPUT_DIR, 'zip', OUTPUT_DIR)"
   ]
  }
 ],
 "metadata": {
  "kernelspec": {
   "display_name": ".venv",
   "language": "python",
   "name": "python3"
  },
  "language_info": {
   "codemirror_mode": {
    "name": "ipython",
    "version": 3
   },
   "file_extension": ".py",
   "mimetype": "text/x-python",
   "name": "python",
   "nbconvert_exporter": "python",
   "pygments_lexer": "ipython3",
   "version": "3.11.7"
  },
  "papermill": {
   "default_parameters": {},
   "duration": 56.640239,
   "end_time": "2025-04-25T05:36:03.949336",
   "environment_variables": {},
   "exception": null,
   "input_path": "autopac-duckdb-step1.ipynb",
   "output_path": "./ap-duckdb-q3-step1.ipynb",
   "parameters": {
    "EXPERIMENT": "ap-duckdb-q3",
    "INDEX_COLS": [
     "rank"
    ],
    "OUTPUT_COLS": [
     "revenue"
    ],
    "OUTPUT_DIR": "./outputs/ap-duckdb-q3-step1",
    "PREPARE_STEP": "DEALLOCATE PREPARE run_query;\n\nPREPARE run_query AS \nSELECT\n    ROW_NUMBER() OVER (ORDER BY SUM(l_extendedprice * (1 - l_discount)) DESC, o_orderdate) AS rank,\n    --l_orderkey,\n    sum(l_extendedprice * (1 - l_discount)) AS revenue,\n    --o_orderdate,\n    --o_shippriority\nFROM\n    customer,\n    (SELECT * FROM orders\n              JOIN random_samples AS rs ON rs.row_id = orders.rowid\n              AND rs.random_binary = TRUE\n              AND rs.sample_id = $sample) as orders,\n    lineitem\nWHERE\n    c_mktsegment = 'BUILDING'\n    AND c_custkey = o_custkey\n    AND l_orderkey = o_orderkey\n    AND o_orderdate < CAST('1995-03-15' AS date)\n    AND l_shipdate > CAST('1995-03-15' AS date)\nGROUP BY\n    l_orderkey,\n    o_orderdate,\n    o_shippriority\nORDER BY\n    revenue DESC,\n    o_orderdate\nLIMIT 10;",
    "SAMPLES": 1024,
    "SAMPLE_STEP": "DROP TABLE IF EXISTS random_samples;\n\nCREATE TABLE random_samples AS\nWITH sample_numbers AS MATERIALIZED (\n    SELECT range AS sample_id FROM range(1024 // 2)\n), random_values AS MATERIALIZED (\n    SELECT \n        sample_numbers.sample_id,\n        orders.rowid AS row_id,\n        (RANDOM() > 0.5)::BOOLEAN AS random_binary\n    FROM sample_numbers\n    JOIN orders ON TRUE  -- Cross join to duplicate rows for each sample\n)\nSELECT\n    sample_id,\n    row_id,\n    random_binary\nFROM random_values\nUNION ALL\nSELECT -- select the complementary samples too\n    (1024 // 2) + sample_id,\n    row_id,\n    NOT random_binary  -- Inverse the random_binary to get the complementary sample\nFROM random_values\nORDER BY sample_id, row_id;"
   },
   "start_time": "2025-04-25T05:35:07.309097",
   "version": "2.6.0"
  }
 },
 "nbformat": 4,
 "nbformat_minor": 5
}