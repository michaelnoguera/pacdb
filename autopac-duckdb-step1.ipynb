{
 "cells": [
  {
   "cell_type": "markdown",
   "metadata": {},
   "source": [
    "## DuckDB Notebook\n",
    "\n",
    "This notebook generates a bunch of raw outputs, without applying PAC, to be consumed by a second stage."
   ]
  },
  {
   "cell_type": "markdown",
   "metadata": {},
   "source": [
    "```\n",
    " group by              output cols                        \n",
    " key cols ┌────────┬────────┬────────┬────────┐           \n",
    "        │ │   A    │   B    │   C    │   D    │           \n",
    "      ┌─▼─┼────────┼────────┼────────┼────────┤           \n",
    "      │ 1 │   2    │        │        │        │           \n",
    "      ├───┼───|────┼────────┼────────┼────────┤           \n",
    "      │ 2 │   │    │        │        │        │           \n",
    "      ├───┼───┼────┼────────┼────────┼────────┤           \n",
    "      │ 3 │   │    │        │        │        │           \n",
    "      └───┴───┼────┴────────┴────────┴────────┘           \n",
    "              ▼                 A_1.json                  \n",
    "       Sample 0:   A1=2        ┌─────────────────────────┐\n",
    "       Sample 1:   A1=4  ───▶  │{                        │\n",
    "             ...               │    col: A               │\n",
    "       Sample 999: A1=3        │    row: 1               │\n",
    "                               │    value: [2, 4, ... 3] │\n",
    "                               │}                        │\n",
    "                               └─────────────────────────┘\n",
    "```"
   ]
  },
  {
   "cell_type": "code",
   "execution_count": 24,
   "metadata": {},
   "outputs": [],
   "source": [
    "#!/usr/bin/env python\n",
    "# coding: utf-8\n",
    "\n",
    "import os\n",
    "import pickle\n",
    "import shutil\n",
    "\n",
    "import duckdb\n",
    "import polars as pl"
   ]
  },
  {
   "cell_type": "code",
   "execution_count": 25,
   "metadata": {
    "tags": [
     "parameters"
    ]
   },
   "outputs": [],
   "source": [
    "EXPERIMENT = \"pac-duckdb-q1\"\n",
    "OUTPUT_DIR = f\"./outputs/{EXPERIMENT}-step1\"\n",
    "SAMPLES = 1024\n",
    "\n",
    "SAMPLE_STEP = f\"\"\"\n",
    "DROP TABLE IF EXISTS random_samples;\n",
    "\n",
    "CREATE TABLE random_samples AS\n",
    "WITH sample_numbers AS MATERIALIZED (\n",
    "    SELECT range AS sample_id FROM range({SAMPLES//2})\n",
    "), random_values AS MATERIALIZED (\n",
    "    SELECT \n",
    "        sample_numbers.sample_id,\n",
    "        customer.rowid AS row_id,\n",
    "        (RANDOM() > 0.5)::BOOLEAN AS random_binary\n",
    "    FROM sample_numbers\n",
    "    JOIN customer ON TRUE  -- Cross join to duplicate rows for each sample\n",
    ")\n",
    "SELECT\n",
    "    sample_id,\n",
    "    row_id,\n",
    "    random_binary\n",
    "FROM random_values\n",
    "UNION ALL\n",
    "SELECT -- select the complementary samples too\n",
    "    ({SAMPLES//2}) + sample_id,\n",
    "    row_id,\n",
    "    NOT random_binary  -- Inverse the random_binary to get the complementary sample\n",
    "FROM random_values\n",
    "ORDER BY sample_id, row_id;\n",
    "\"\"\"\n",
    "\n",
    "PREPARE_STEP = \"\"\"\n",
    "DEALLOCATE PREPARE run_query;\n",
    "\n",
    "PREPARE run_query AS \n",
    "SELECT\n",
    "    l_returnflag,\n",
    "    l_linestatus,\n",
    "    2*sum(l_quantity) AS sum_qty,\n",
    "    2*sum(l_extendedprice) AS sum_base_price,\n",
    "    2*sum(l_extendedprice * (1 - l_discount)) AS sum_disc_price,\n",
    "    2*sum(l_extendedprice * (1 - l_discount) * (1 + l_tax)) AS sum_charge,\n",
    "    avg(l_quantity) AS avg_qty,\n",
    "    avg(l_extendedprice) AS avg_price,\n",
    "    avg(l_discount) AS avg_disc,\n",
    "    2*count(*) AS count_order\n",
    "FROM\n",
    "    lineitem\n",
    "JOIN orders ON lineitem.l_orderkey = orders.o_orderkey\n",
    "JOIN customer ON orders.o_custkey = customer.c_custkey\n",
    "JOIN random_samples AS rs\n",
    "    ON rs.row_id = customer.rowid\n",
    "WHERE\n",
    "    l_shipdate <= CAST('1998-09-02' AS date)\n",
    "    AND rs.random_binary = TRUE\n",
    "    AND rs.sample_id = $sample\n",
    "GROUP BY\n",
    "    l_returnflag,\n",
    "    l_linestatus\n",
    "ORDER BY\n",
    "    l_returnflag,\n",
    "    l_linestatus;\n",
    "\"\"\"\n",
    "\n",
    "INDEX_COLS = ['l_returnflag', 'l_linestatus']\n",
    "OUTPUT_COLS = ['sum_qty', 'sum_base_price', 'sum_disc_price', 'sum_charge', 'avg_qty', 'avg_price', 'avg_disc', 'count_order']"
   ]
  },
  {
   "cell_type": "code",
   "execution_count": 26,
   "metadata": {},
   "outputs": [],
   "source": [
    "if not os.path.exists(OUTPUT_DIR):\n",
    "    os.makedirs(OUTPUT_DIR)"
   ]
  },
  {
   "cell_type": "code",
   "execution_count": 27,
   "metadata": {},
   "outputs": [],
   "source": [
    "# duckdb load data/tpch/tpch.duckdb into the temporary in-memory database\n",
    "con = duckdb.connect(database=':memory:')\n",
    "tables = [\"customer\", \"lineitem\", \"nation\", \"orders\", \"part\", \"partsupp\", \"region\", \"supplier\"]\n",
    "for t in tables:\n",
    "    con.execute(f\"CREATE TABLE {t} AS SELECT * FROM 'data/tpch/{t}.parquet'\")"
   ]
  },
  {
   "cell_type": "code",
   "execution_count": 28,
   "metadata": {},
   "outputs": [],
   "source": [
    "# Construct the table of random samples\n",
    "# to use, join it with the lineitem table (for specific sample # s) and filter to just the\n",
    "# rows where random_binary = 1.0\n",
    "# This will give us a 50% sample of the lineitem table for each sample # s\n",
    "\n",
    "assert SAMPLES % 2 == 0, \"SAMPLES must be even to create complementary samples.\"\n",
    "\n",
    "random_samples = con.execute(SAMPLE_STEP)"
   ]
  },
  {
   "cell_type": "markdown",
   "metadata": {},
   "source": [
    "The randomness of what rows are chosen is saved to disk in `random_binary.json`. For each sample #, there is an array with one entry per row, where 1 means the row was chosen and 0 means it was not."
   ]
  },
  {
   "cell_type": "code",
   "execution_count": 29,
   "metadata": {},
   "outputs": [],
   "source": [
    "con.execute(\"\"\"\n",
    "SELECT sample_id, array_agg(random_binary::TINYINT) as random_binary\n",
    "FROM random_samples\n",
    "GROUP BY sample_id;\n",
    "\"\"\").pl().write_json(f\"{OUTPUT_DIR}/random_binary.json\")"
   ]
  },
  {
   "cell_type": "markdown",
   "metadata": {},
   "source": [
    "Query is specified as a prepared statement. We will then execute it once per sample."
   ]
  },
  {
   "cell_type": "code",
   "execution_count": 30,
   "metadata": {},
   "outputs": [
    {
     "data": {
      "text/html": [
       "<div><style>\n",
       ".dataframe > thead > tr,\n",
       ".dataframe > tbody > tr {\n",
       "  text-align: right;\n",
       "  white-space: pre-wrap;\n",
       "}\n",
       "</style>\n",
       "<small>shape: (4, 10)</small><table border=\"1\" class=\"dataframe\"><thead><tr><th>l_returnflag</th><th>l_linestatus</th><th>sum_qty</th><th>sum_base_price</th><th>sum_disc_price</th><th>sum_charge</th><th>avg_qty</th><th>avg_price</th><th>avg_disc</th><th>count_order</th></tr><tr><td>str</td><td>str</td><td>decimal[38,2]</td><td>decimal[38,2]</td><td>decimal[38,4]</td><td>decimal[38,6]</td><td>f64</td><td>f64</td><td>f64</td><td>i64</td></tr></thead><tbody><tr><td>&quot;A&quot;</td><td>&quot;F&quot;</td><td>3809186.00</td><td>5371648642.66</td><td>5102510365.1342</td><td>5307051950.891734</td><td>25.457028</td><td>35899.06332</td><td>0.050161</td><td>149632</td></tr><tr><td>&quot;N&quot;</td><td>&quot;F&quot;</td><td>95408.00</td><td>133762378.66</td><td>127156278.2264</td><td>132368210.513864</td><td>25.200211</td><td>35330.792039</td><td>0.049514</td><td>3786</td></tr><tr><td>&quot;N&quot;</td><td>&quot;O&quot;</td><td>7494676.00</td><td>10551197026.22</td><td>10023030585.0778</td><td>10422883872.133736</td><td>25.559036</td><td>35982.665574</td><td>0.050124</td><td>293230</td></tr><tr><td>&quot;R&quot;</td><td>&quot;F&quot;</td><td>3825432.00</td><td>5396344572.78</td><td>5127498194.5240</td><td>5332948048.485192</td><td>25.545797</td><td>36036.171253</td><td>0.049927</td><td>149748</td></tr></tbody></table></div>"
      ],
      "text/plain": [
       "shape: (4, 10)\n",
       "┌───────────┬───────────┬───────────┬───────────┬───┬───────────┬───────────┬──────────┬───────────┐\n",
       "│ l_returnf ┆ l_linesta ┆ sum_qty   ┆ sum_base_ ┆ … ┆ avg_qty   ┆ avg_price ┆ avg_disc ┆ count_ord │\n",
       "│ lag       ┆ tus       ┆ ---       ┆ price     ┆   ┆ ---       ┆ ---       ┆ ---      ┆ er        │\n",
       "│ ---       ┆ ---       ┆ decimal[3 ┆ ---       ┆   ┆ f64       ┆ f64       ┆ f64      ┆ ---       │\n",
       "│ str       ┆ str       ┆ 8,2]      ┆ decimal[3 ┆   ┆           ┆           ┆          ┆ i64       │\n",
       "│           ┆           ┆           ┆ 8,2]      ┆   ┆           ┆           ┆          ┆           │\n",
       "╞═══════════╪═══════════╪═══════════╪═══════════╪═══╪═══════════╪═══════════╪══════════╪═══════════╡\n",
       "│ A         ┆ F         ┆ 3809186.0 ┆ 537164864 ┆ … ┆ 25.457028 ┆ 35899.063 ┆ 0.050161 ┆ 149632    │\n",
       "│           ┆           ┆ 0         ┆ 2.66      ┆   ┆           ┆ 32        ┆          ┆           │\n",
       "│ N         ┆ F         ┆ 95408.00  ┆ 133762378 ┆ … ┆ 25.200211 ┆ 35330.792 ┆ 0.049514 ┆ 3786      │\n",
       "│           ┆           ┆           ┆ .66       ┆   ┆           ┆ 039       ┆          ┆           │\n",
       "│ N         ┆ O         ┆ 7494676.0 ┆ 105511970 ┆ … ┆ 25.559036 ┆ 35982.665 ┆ 0.050124 ┆ 293230    │\n",
       "│           ┆           ┆ 0         ┆ 26.22     ┆   ┆           ┆ 574       ┆          ┆           │\n",
       "│ R         ┆ F         ┆ 3825432.0 ┆ 539634457 ┆ … ┆ 25.545797 ┆ 36036.171 ┆ 0.049927 ┆ 149748    │\n",
       "│           ┆           ┆ 0         ┆ 2.78      ┆   ┆           ┆ 253       ┆          ┆           │\n",
       "└───────────┴───────────┴───────────┴───────────┴───┴───────────┴───────────┴──────────┴───────────┘"
      ]
     },
     "execution_count": 30,
     "metadata": {},
     "output_type": "execute_result"
    }
   ],
   "source": [
    "# Query\n",
    "con.execute(PREPARE_STEP)\n",
    "\n",
    "# Run query to see output\n",
    "dfs0 = con.execute(f\"EXECUTE run_query(sample := {0});\").pl()\n",
    "\n",
    "# Save csv copies of the first 5 samples\n",
    "os.makedirs(f\"{OUTPUT_DIR}/csv\", exist_ok=True)\n",
    "for s in range(5):\n",
    "    con.execute(f\"EXECUTE run_query(sample := {s});\").pl().write_csv(f\"{OUTPUT_DIR}/csv/sample_{s}.csv\")\n",
    "\n",
    "dfs0"
   ]
  },
  {
   "cell_type": "code",
   "execution_count": 31,
   "metadata": {},
   "outputs": [
    {
     "data": {
      "text/html": [
       "<div><style>\n",
       ".dataframe > thead > tr,\n",
       ".dataframe > tbody > tr {\n",
       "  text-align: right;\n",
       "  white-space: pre-wrap;\n",
       "}\n",
       "</style>\n",
       "<small>shape: (4_096, 11)</small><table border=\"1\" class=\"dataframe\"><thead><tr><th>sample</th><th>l_returnflag</th><th>l_linestatus</th><th>sum_qty</th><th>sum_base_price</th><th>sum_disc_price</th><th>sum_charge</th><th>avg_qty</th><th>avg_price</th><th>avg_disc</th><th>count_order</th></tr><tr><td>i32</td><td>str</td><td>str</td><td>decimal[38,2]</td><td>decimal[38,2]</td><td>decimal[38,4]</td><td>decimal[38,6]</td><td>f64</td><td>f64</td><td>f64</td><td>i64</td></tr></thead><tbody><tr><td>0</td><td>&quot;A&quot;</td><td>&quot;F&quot;</td><td>3809186.00</td><td>5371648642.66</td><td>5102510365.1342</td><td>5307051950.891734</td><td>25.457028</td><td>35899.06332</td><td>0.050161</td><td>149632</td></tr><tr><td>0</td><td>&quot;N&quot;</td><td>&quot;F&quot;</td><td>95408.00</td><td>133762378.66</td><td>127156278.2264</td><td>132368210.513864</td><td>25.200211</td><td>35330.792039</td><td>0.049514</td><td>3786</td></tr><tr><td>0</td><td>&quot;N&quot;</td><td>&quot;O&quot;</td><td>7494676.00</td><td>10551197026.22</td><td>10023030585.0778</td><td>10422883872.133736</td><td>25.559036</td><td>35982.665574</td><td>0.050124</td><td>293230</td></tr><tr><td>0</td><td>&quot;R&quot;</td><td>&quot;F&quot;</td><td>3825432.00</td><td>5396344572.78</td><td>5127498194.5240</td><td>5332948048.485192</td><td>25.545797</td><td>36036.171253</td><td>0.049927</td><td>149748</td></tr><tr><td>1</td><td>&quot;A&quot;</td><td>&quot;F&quot;</td><td>3746276.00</td><td>5288848642.04</td><td>5023217128.3400</td><td>5224783644.529676</td><td>25.497012</td><td>35995.703002</td><td>0.05029</td><td>146930</td></tr><tr><td>&hellip;</td><td>&hellip;</td><td>&hellip;</td><td>&hellip;</td><td>&hellip;</td><td>&hellip;</td><td>&hellip;</td><td>&hellip;</td><td>&hellip;</td><td>&hellip;</td><td>&hellip;</td></tr><tr><td>1022</td><td>&quot;R&quot;</td><td>&quot;F&quot;</td><td>3756330.00</td><td>5300136579.88</td><td>5035835218.1936</td><td>5237657834.962020</td><td>25.539714</td><td>36036.229619</td><td>0.049977</td><td>147078</td></tr><tr><td>1023</td><td>&quot;A&quot;</td><td>&quot;F&quot;</td><td>3765786.00</td><td>5311192130.30</td><td>5044012263.4916</td><td>5245946823.471304</td><td>25.594957</td><td>36098.634747</td><td>0.050284</td><td>147130</td></tr><tr><td>1023</td><td>&quot;N&quot;</td><td>&quot;F&quot;</td><td>94592.00</td><td>133935152.66</td><td>127304467.0980</td><td>132453063.579210</td><td>25.441635</td><td>36023.440737</td><td>0.049242</td><td>3718</td></tr><tr><td>1023</td><td>&quot;N&quot;</td><td>&quot;O&quot;</td><td>7471686.00</td><td>10524772793.36</td><td>9997831438.1462</td><td>10397961712.202582</td><td>25.573602</td><td>36023.510061</td><td>0.050145</td><td>292164</td></tr><tr><td>1023</td><td>&quot;R&quot;</td><td>&quot;F&quot;</td><td>3789672.00</td><td>5348513969.42</td><td>5082719085.9816</td><td>5285678086.817628</td><td>25.550992</td><td>36061.125214</td><td>0.049853</td><td>148318</td></tr></tbody></table></div>"
      ],
      "text/plain": [
       "shape: (4_096, 11)\n",
       "┌────────┬────────────┬────────────┬────────────┬───┬───────────┬───────────┬──────────┬───────────┐\n",
       "│ sample ┆ l_returnfl ┆ l_linestat ┆ sum_qty    ┆ … ┆ avg_qty   ┆ avg_price ┆ avg_disc ┆ count_ord │\n",
       "│ ---    ┆ ag         ┆ us         ┆ ---        ┆   ┆ ---       ┆ ---       ┆ ---      ┆ er        │\n",
       "│ i32    ┆ ---        ┆ ---        ┆ decimal[38 ┆   ┆ f64       ┆ f64       ┆ f64      ┆ ---       │\n",
       "│        ┆ str        ┆ str        ┆ ,2]        ┆   ┆           ┆           ┆          ┆ i64       │\n",
       "╞════════╪════════════╪════════════╪════════════╪═══╪═══════════╪═══════════╪══════════╪═══════════╡\n",
       "│ 0      ┆ A          ┆ F          ┆ 3809186.00 ┆ … ┆ 25.457028 ┆ 35899.063 ┆ 0.050161 ┆ 149632    │\n",
       "│        ┆            ┆            ┆            ┆   ┆           ┆ 32        ┆          ┆           │\n",
       "│ 0      ┆ N          ┆ F          ┆ 95408.00   ┆ … ┆ 25.200211 ┆ 35330.792 ┆ 0.049514 ┆ 3786      │\n",
       "│        ┆            ┆            ┆            ┆   ┆           ┆ 039       ┆          ┆           │\n",
       "│ 0      ┆ N          ┆ O          ┆ 7494676.00 ┆ … ┆ 25.559036 ┆ 35982.665 ┆ 0.050124 ┆ 293230    │\n",
       "│        ┆            ┆            ┆            ┆   ┆           ┆ 574       ┆          ┆           │\n",
       "│ 0      ┆ R          ┆ F          ┆ 3825432.00 ┆ … ┆ 25.545797 ┆ 36036.171 ┆ 0.049927 ┆ 149748    │\n",
       "│        ┆            ┆            ┆            ┆   ┆           ┆ 253       ┆          ┆           │\n",
       "│ 1      ┆ A          ┆ F          ┆ 3746276.00 ┆ … ┆ 25.497012 ┆ 35995.703 ┆ 0.05029  ┆ 146930    │\n",
       "│        ┆            ┆            ┆            ┆   ┆           ┆ 002       ┆          ┆           │\n",
       "│ …      ┆ …          ┆ …          ┆ …          ┆ … ┆ …         ┆ …         ┆ …        ┆ …         │\n",
       "│ 1022   ┆ R          ┆ F          ┆ 3756330.00 ┆ … ┆ 25.539714 ┆ 36036.229 ┆ 0.049977 ┆ 147078    │\n",
       "│        ┆            ┆            ┆            ┆   ┆           ┆ 619       ┆          ┆           │\n",
       "│ 1023   ┆ A          ┆ F          ┆ 3765786.00 ┆ … ┆ 25.594957 ┆ 36098.634 ┆ 0.050284 ┆ 147130    │\n",
       "│        ┆            ┆            ┆            ┆   ┆           ┆ 747       ┆          ┆           │\n",
       "│ 1023   ┆ N          ┆ F          ┆ 94592.00   ┆ … ┆ 25.441635 ┆ 36023.440 ┆ 0.049242 ┆ 3718      │\n",
       "│        ┆            ┆            ┆            ┆   ┆           ┆ 737       ┆          ┆           │\n",
       "│ 1023   ┆ N          ┆ O          ┆ 7471686.00 ┆ … ┆ 25.573602 ┆ 36023.510 ┆ 0.050145 ┆ 292164    │\n",
       "│        ┆            ┆            ┆            ┆   ┆           ┆ 061       ┆          ┆           │\n",
       "│ 1023   ┆ R          ┆ F          ┆ 3789672.00 ┆ … ┆ 25.550992 ┆ 36061.125 ┆ 0.049853 ┆ 148318    │\n",
       "│        ┆            ┆            ┆            ┆   ┆           ┆ 214       ┆          ┆           │\n",
       "└────────┴────────────┴────────────┴────────────┴───┴───────────┴───────────┴──────────┴───────────┘"
      ]
     },
     "execution_count": 31,
     "metadata": {},
     "output_type": "execute_result"
    }
   ],
   "source": [
    "# Run the query for each sample, but accumulate in a pl.DataFrame instead of a list\n",
    "dfsdf: pl.DataFrame = pl.concat(\n",
    "    con.execute(f\"EXECUTE run_query(sample := {s});\").pl().insert_column(0, pl.lit(s).alias(\"sample\"))\n",
    "    for s in range(SAMPLES)\n",
    ")\n",
    "dfsdf"
   ]
  },
  {
   "cell_type": "code",
   "execution_count": 32,
   "metadata": {},
   "outputs": [],
   "source": [
    "dfsdf = dfsdf.with_columns(\n",
    "    pl.int_range(pl.len()).over(\"sample\").alias(\"rank\")\n",
    ")"
   ]
  },
  {
   "cell_type": "code",
   "execution_count": 33,
   "metadata": {},
   "outputs": [],
   "source": [
    "# Define which columns are the group-by keys (INDEX_COLS) and which are the output columns (OUTPUT_COLS)\n",
    "# - moved to parameters cell at top of notebook\n",
    "\n",
    "# Save these to disk for later use\n",
    "with open(f\"{OUTPUT_DIR}/INDEX_COLS.pkl\", 'wb') as f:\n",
    "    pickle.dump(INDEX_COLS, f)\n",
    "with open(f\"{OUTPUT_DIR}/OUTPUT_COLS.pkl\", 'wb') as f:\n",
    "    pickle.dump(OUTPUT_COLS, f)"
   ]
  },
  {
   "cell_type": "code",
   "execution_count": 34,
   "metadata": {},
   "outputs": [
    {
     "data": {
      "text/html": [
       "<div><style>\n",
       ".dataframe > thead > tr,\n",
       ".dataframe > tbody > tr {\n",
       "  text-align: right;\n",
       "  white-space: pre-wrap;\n",
       "}\n",
       "</style>\n",
       "<small>shape: (4, 11)</small><table border=\"1\" class=\"dataframe\"><thead><tr><th>l_returnflag</th><th>l_linestatus</th><th>sum_qty</th><th>sum_base_price</th><th>sum_disc_price</th><th>sum_charge</th><th>avg_qty</th><th>avg_price</th><th>avg_disc</th><th>count_order</th><th>rank</th></tr><tr><td>str</td><td>str</td><td>list[decimal[38,2]]</td><td>list[decimal[38,2]]</td><td>list[decimal[38,4]]</td><td>list[decimal[38,6]]</td><td>list[f64]</td><td>list[f64]</td><td>list[f64]</td><td>list[i64]</td><td>list[i64]</td></tr></thead><tbody><tr><td>&quot;A&quot;</td><td>&quot;F&quot;</td><td>[3809186.00, 3746276.00, … 3765786.00]</td><td>[5371648642.66, 5288848642.04, … 5311192130.30]</td><td>[5102510365.1342, 5023217128.3400, … 5044012263.4916]</td><td>[5307051950.891734, 5224783644.529676, … 5245946823.471304]</td><td>[25.457028, 25.497012, … 25.594957]</td><td>[35899.06332, 35995.703002, … 36098.634747]</td><td>[0.050161, 0.05029, … 0.050284]</td><td>[149632, 146930, … 147130]</td><td>[0, 0, … 0]</td></tr><tr><td>&quot;N&quot;</td><td>&quot;F&quot;</td><td>[95408.00, 93212.00, … 94592.00]</td><td>[133762378.66, 130693844.30, … 133935152.66]</td><td>[127156278.2264, 124377742.1244, … 127304467.0980]</td><td>[132368210.513864, 129510188.269776, … 132453063.579210]</td><td>[25.200211, 25.178822, … 25.441635]</td><td>[35330.792039, 35303.577607, … 36023.440737]</td><td>[0.049514, 0.04873, … 0.049242]</td><td>[3786, 3702, … 3718]</td><td>[1, 1, … 1]</td></tr><tr><td>&quot;N&quot;</td><td>&quot;O&quot;</td><td>[7494676.00, 7414214.00, … 7471686.00]</td><td>[10551197026.22, 10452259510.18, … 10524772793.36]</td><td>[10023030585.0778, 9929969933.3542, … 9997831438.1462]</td><td>[10422883872.133736, 10326855530.964210, … 10397961712.202582]</td><td>[25.559036, 25.537899, … 25.573602]</td><td>[35982.665574, 36002.299206, … 36023.510061]</td><td>[0.050124, 0.050069, … 0.050145]</td><td>[293230, 290322, … 292164]</td><td>[2, 2, … 2]</td></tr><tr><td>&quot;R&quot;</td><td>&quot;F&quot;</td><td>[3825432.00, 3789280.00, … 3789672.00]</td><td>[5396344572.78, 5347223855.24, … 5348513969.42]</td><td>[5127498194.5240, 5081016249.4132, … 5082719085.9816]</td><td>[5332948048.485192, 5283469265.973486, … 5285678086.817628]</td><td>[25.545797, 25.54456, … 25.550992]</td><td>[36036.171253, 36047.080054, … 36061.125214]</td><td>[0.049927, 0.04998, … 0.049853]</td><td>[149748, 148340, … 148318]</td><td>[3, 3, … 3]</td></tr></tbody></table></div>"
      ],
      "text/plain": [
       "shape: (4, 11)\n",
       "┌───────────┬───────────┬───────────┬───────────┬───┬───────────┬───────────┬───────────┬──────────┐\n",
       "│ l_returnf ┆ l_linesta ┆ sum_qty   ┆ sum_base_ ┆ … ┆ avg_price ┆ avg_disc  ┆ count_ord ┆ rank     │\n",
       "│ lag       ┆ tus       ┆ ---       ┆ price     ┆   ┆ ---       ┆ ---       ┆ er        ┆ ---      │\n",
       "│ ---       ┆ ---       ┆ list[deci ┆ ---       ┆   ┆ list[f64] ┆ list[f64] ┆ ---       ┆ list[i64 │\n",
       "│ str       ┆ str       ┆ mal[38,2] ┆ list[deci ┆   ┆           ┆           ┆ list[i64] ┆ ]        │\n",
       "│           ┆           ┆ ]         ┆ mal[38,2] ┆   ┆           ┆           ┆           ┆          │\n",
       "│           ┆           ┆           ┆ ]         ┆   ┆           ┆           ┆           ┆          │\n",
       "╞═══════════╪═══════════╪═══════════╪═══════════╪═══╪═══════════╪═══════════╪═══════════╪══════════╡\n",
       "│ A         ┆ F         ┆ [3809186. ┆ [53716486 ┆ … ┆ [35899.06 ┆ [0.050161 ┆ [149632,  ┆ [0, 0, … │\n",
       "│           ┆           ┆ 00, 37462 ┆ 42.66,    ┆   ┆ 332, 3599 ┆ ,         ┆ 146930, … ┆ 0]       │\n",
       "│           ┆           ┆ 76.00, …  ┆ 528884864 ┆   ┆ 5.703002, ┆ 0.05029,  ┆ 147130]   ┆          │\n",
       "│           ┆           ┆ 376…      ┆ 2.04,…    ┆   ┆ … …       ┆ …         ┆           ┆          │\n",
       "│           ┆           ┆           ┆           ┆   ┆           ┆ 0.050284… ┆           ┆          │\n",
       "│ N         ┆ F         ┆ [95408.00 ┆ [13376237 ┆ … ┆ [35330.79 ┆ [0.049514 ┆ [3786,    ┆ [1, 1, … │\n",
       "│           ┆           ┆ ,         ┆ 8.66, 130 ┆   ┆ 2039, 353 ┆ ,         ┆ 3702, …   ┆ 1]       │\n",
       "│           ┆           ┆ 93212.00, ┆ 693844.30 ┆   ┆ 03.577607 ┆ 0.04873,  ┆ 3718]     ┆          │\n",
       "│           ┆           ┆ …         ┆ , ……      ┆   ┆ , ……      ┆ …         ┆           ┆          │\n",
       "│           ┆           ┆ 94592.0…  ┆           ┆   ┆           ┆ 0.049242… ┆           ┆          │\n",
       "│ N         ┆ O         ┆ [7494676. ┆ [10551197 ┆ … ┆ [35982.66 ┆ [0.050124 ┆ [293230,  ┆ [2, 2, … │\n",
       "│           ┆           ┆ 00, 74142 ┆ 026.22,   ┆   ┆ 5574, 360 ┆ ,         ┆ 290322, … ┆ 2]       │\n",
       "│           ┆           ┆ 14.00, …  ┆ 104522595 ┆   ┆ 02.299206 ┆ 0.050069, ┆ 292164]   ┆          │\n",
       "│           ┆           ┆ 747…      ┆ 10.1…     ┆   ┆ , ……      ┆ …         ┆           ┆          │\n",
       "│           ┆           ┆           ┆           ┆   ┆           ┆ 0.05014…  ┆           ┆          │\n",
       "│ R         ┆ F         ┆ [3825432. ┆ [53963445 ┆ … ┆ [36036.17 ┆ [0.049927 ┆ [149748,  ┆ [3, 3, … │\n",
       "│           ┆           ┆ 00, 37892 ┆ 72.78,    ┆   ┆ 1253, 360 ┆ ,         ┆ 148340, … ┆ 3]       │\n",
       "│           ┆           ┆ 80.00, …  ┆ 534722385 ┆   ┆ 47.080054 ┆ 0.04998,  ┆ 148318]   ┆          │\n",
       "│           ┆           ┆ 378…      ┆ 5.24,…    ┆   ┆ , ……      ┆ …         ┆           ┆          │\n",
       "│           ┆           ┆           ┆           ┆   ┆           ┆ 0.049853… ┆           ┆          │\n",
       "└───────────┴───────────┴───────────┴───────────┴───┴───────────┴───────────┴───────────┴──────────┘"
      ]
     },
     "execution_count": 34,
     "metadata": {},
     "output_type": "execute_result"
    }
   ],
   "source": [
    "# Combine all the samples into one table, grouped-by the group-by keys. Each cell contains an n <= # of samples length array of values.\n",
    "DEFAULT_INDEX_COLS = [\"rank\"]\n",
    "listdf = dfsdf.drop(\"sample\").group_by(INDEX_COLS or DEFAULT_INDEX_COLS, maintain_order=True).all()\n",
    "listdf"
   ]
  },
  {
   "cell_type": "code",
   "execution_count": 35,
   "metadata": {},
   "outputs": [
    {
     "data": {
      "text/plain": [
       "[{'l_returnflag': 'A', 'l_linestatus': 'F'},\n",
       " {'l_returnflag': 'N', 'l_linestatus': 'F'},\n",
       " {'l_returnflag': 'N', 'l_linestatus': 'O'},\n",
       " {'l_returnflag': 'R', 'l_linestatus': 'F'}]"
      ]
     },
     "execution_count": 35,
     "metadata": {},
     "output_type": "execute_result"
    }
   ],
   "source": [
    "# What are all the possible group-by key combinations?\n",
    "allgroups: pl.DataFrame = listdf.select(INDEX_COLS or DEFAULT_INDEX_COLS)\n",
    "allgroups.to_dicts()"
   ]
  },
  {
   "cell_type": "code",
   "execution_count": 36,
   "metadata": {},
   "outputs": [],
   "source": [
    "# Template for the final output, including all possible group-by groups\n",
    "# Obtained by collecting all the samples in a big table and then keeping only the first occurrence of each groupby key.\n",
    "# Then, fill all OUTPUT_COLS with nulls\n",
    "templatedf = dfsdf.drop(\"sample\").group_by(INDEX_COLS or DEFAULT_INDEX_COLS, maintain_order=True).first()\n",
    "templatedf = templatedf.clear(n=len(allgroups)).with_columns(allgroups)\n",
    "templatedf\n",
    "\n",
    "with open(f\"{OUTPUT_DIR}/template.pkl\", \"wb\") as f:\n",
    "    pickle.dump(templatedf, f)"
   ]
  },
  {
   "cell_type": "code",
   "execution_count": 37,
   "metadata": {},
   "outputs": [],
   "source": [
    "# Write all table entries in the output table to their own JSON files. Each file has a number, the information of which file corresponds to which table entry\n",
    "# is stored in reverse_map.json (as well as in the files themselves)\n",
    "os.makedirs(f\"{OUTPUT_DIR}/json\", exist_ok=True)\n",
    "i: int = 0\n",
    "for col in OUTPUT_COLS:\n",
    "    for group in allgroups.iter_rows(named=True):\n",
    "        values = listdf.filter(pl.col(k).eq(v) for k, v in group.items()).select(col).to_series()\n",
    "        j = pl.DataFrame().with_columns([\n",
    "            pl.lit(col).alias(\"col\"),\n",
    "            pl.lit(group).alias(\"row\"),\n",
    "            pl.lit(values.explode().dtype.__repr__()).alias(\"dtype\"),\n",
    "            pl.lit(SAMPLES).alias(\"samples\"),\n",
    "            values.alias(\"values\"),\n",
    "        ])\n",
    "        j.write_json(f\"{OUTPUT_DIR}/json/{i}.json\")\n",
    "        i+=1"
   ]
  },
  {
   "cell_type": "code",
   "execution_count": 38,
   "metadata": {},
   "outputs": [
    {
     "data": {
      "text/plain": [
       "'/Users/mayuri/Desktop/pacdb/outputs/pac-duckdb-q1-step1.zip'"
      ]
     },
     "execution_count": 38,
     "metadata": {},
     "output_type": "execute_result"
    }
   ],
   "source": [
    "# zip the OUTPUT_DIR\n",
    "shutil.make_archive(OUTPUT_DIR, 'zip', OUTPUT_DIR)"
   ]
  },
  {
   "cell_type": "code",
   "execution_count": null,
   "metadata": {},
   "outputs": [],
   "source": []
  }
 ],
 "metadata": {
  "kernelspec": {
   "display_name": "Python 3 (ipykernel)",
   "language": "python",
   "name": "python3"
  },
  "language_info": {
   "codemirror_mode": {
    "name": "ipython",
    "version": 3
   },
   "file_extension": ".py",
   "mimetype": "text/x-python",
   "name": "python",
   "nbconvert_exporter": "python",
   "pygments_lexer": "ipython3",
   "version": "3.9.17"
  }
 },
 "nbformat": 4,
 "nbformat_minor": 2
}
