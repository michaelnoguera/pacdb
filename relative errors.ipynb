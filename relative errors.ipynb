{
 "cells": [
  {
   "cell_type": "code",
   "execution_count": 1,
   "id": "fcfa5f03",
   "metadata": {},
   "outputs": [],
   "source": [
    "import polars.selectors as cs\n",
    "import numpy as np\n",
    "\n",
    "import polars as pl\n",
    "\n",
    "import matplotlib.pyplot as plt"
   ]
  },
  {
   "cell_type": "code",
   "execution_count": 2,
   "id": "1288945e",
   "metadata": {},
   "outputs": [],
   "source": [
    "def hist_of_numerical_values(df: pl.DataFrame):\n",
    "    \"\"\"\n",
    "    Generates histograms for all numerical columns in a Polars DataFrame.\n",
    "\n",
    "    Args:\n",
    "        df: The Polars DataFrame.\n",
    "\n",
    "    Returns:\n",
    "        A dictionary where keys are column names and values are the histogram data.\n",
    "    \"\"\"\n",
    "    histograms = {}\n",
    "    for col_name in df.columns:\n",
    "        if df[col_name].dtype in [pl.Int8, pl.Int16, pl.Int32, pl.Int64, pl.UInt8, pl.UInt16, pl.UInt32, pl.UInt64, pl.Float32, pl.Float64]:\n",
    "            hist_data = df[col_name].hist()\n",
    "            histograms[col_name] = hist_data\n",
    "    return histograms"
   ]
  },
  {
   "cell_type": "code",
   "execution_count": 88,
   "id": "f25d4a28",
   "metadata": {},
   "outputs": [],
   "source": [
    "index_cols = {\n",
    "    1: ['l_returnflag', 'l_linestatus'],\n",
    "    3: ['l_orderkey','o_orderdate','o_shippriority'],\n",
    "    4: ['o_orderpriority'],\n",
    "    5: ['n_name'],\n",
    "    6: [],\n",
    "    7: ['supp_nation', 'cust_nation', 'l_year'], \n",
    "    8: ['o_year'],\n",
    "    9: ['nation', 'o_year'],\n",
    "    12: ['l_shipmode'],\n",
    "    13: ['c_count'],\n",
    "    14: [],\n",
    "    15: [],\n",
    "    17: [],\n",
    "    19: [],\n",
    "    20: [],\n",
    "    21: ['s_name'],\n",
    "    22: ['cntrycode']\n",
    "}\n",
    "scale_required = set([4, 5, 6, 7, 9, 12, 13, 17, 19, 21, 22])\n",
    "# not 8, 14\n",
    "# skip 3, skip 20\n",
    "queries_to_run = [1, 3, 4, 5, 6, 7, 8, 9, 12, 13, 14, 15, 17, 19, 21, 22]"
   ]
  },
  {
   "cell_type": "code",
   "execution_count": 92,
   "id": "32b8ac1c",
   "metadata": {},
   "outputs": [],
   "source": [
    "# for query_ind in queries_to_run:\n",
    "num_trials = 1000\n",
    "avg_errors = {}\n",
    "all_nulls = {}\n",
    "for query_ind in [3]:\n",
    "#     1/128, 1/64, 1/32, 1/16, 1/8, 1/4, 1/2, 1.0, 2.0, 4.0\n",
    "    num_nulls = 0.\n",
    "    total_error = []\n",
    "    for mi in [1/16]:\n",
    "        null_info = {}\n",
    "        orig = pl.read_csv(f'unnoised/q{query_ind}.csv')\n",
    "        if query_ind == 22:\n",
    "            orig = orig.select(\n",
    "            pl.col(\"cntrycode\").cast(str),\n",
    "            pl.col(\"numcust\"),\n",
    "            pl.col(\"totacctbal\"))\n",
    "        noised = pl.read_json(f'outputs/ap-duckdb-q{query_ind}-customer-{mi}-step3/output.json')\n",
    "        if index_cols[query_ind]:\n",
    "            merged_df = orig.join(noised, on=index_cols[query_ind], suffix='_noised')\n",
    "        else:\n",
    "            merged_df = orig.join(noised, suffix='_noised', how='cross')\n",
    "        suffix1 = ''\n",
    "        suffix2 = '_noised'\n",
    "        cols_with_suffixes = [col for col in merged_df.columns if suffix1 in col or suffix2 in col]\n",
    "\n",
    "        base_names = set([col.replace(suffix1, '').replace(suffix2, '') for col in cols_with_suffixes])\n",
    "        if query_ind == 15:\n",
    "            base_names = ['total_revenue'] # only look at numeric\n",
    "        all_outputs = 0.\n",
    "        for base_name in base_names:\n",
    "            nulls_exist = False\n",
    "            null_inds, null_vals = [], []\n",
    "\n",
    "            orig = base_name + suffix1\n",
    "            noised = base_name + suffix2\n",
    "            if orig in merged_df.columns and noised in merged_df.columns:\n",
    "                rel_errors = []\n",
    "                for ind in range(len(merged_df[orig])):\n",
    "                    if query_ind in scale_required:\n",
    "                        const = 2 # subsampling scaling\n",
    "                    else:\n",
    "                        const = 1\n",
    "    #                     print(merged_df[noised][ind])\n",
    "                    noised_vals = [merged_df[noised][ind][tmp_ind] for tmp_ind in range(\n",
    "                        len(merged_df[noised][ind])) if merged_df[noised][ind][tmp_ind] is not None]\n",
    "                    new = np.average(\n",
    "                        [100*abs(\n",
    "                            const*noised_vals[tmp_ind] - merged_df[orig][ind]\n",
    "                            ) / merged_df[orig][ind] for tmp_ind in range(\n",
    "                                len(noised_vals))]\n",
    "                    )\n",
    "                    if not np.isnan(new):\n",
    "                        total_error.append(new)\n",
    "                    rel_errors.append(new)\n",
    "                merged_df = merged_df.with_columns(pl.Series('pct_diff_' + base_name, rel_errors))\n",
    "                num_outputs = len(list(merged_df[noised]))\n",
    "                all_outputs+= num_outputs\n",
    "                for ind in range(num_outputs):\n",
    "                    full_list = [x for x in list(merged_df[noised][ind]) if x is not None]\n",
    "                    if len(full_list) < num_trials:\n",
    "                        num_nulls += 1\n",
    "                        nulls_exist = True\n",
    "                        null_inds.append(ind)\n",
    "                        null_vals.append(100*(num_trials-len(full_list))/num_trials)\n",
    "#                         print(query_ind, ind, null_vals)\n",
    "            null_info[base_name] = (nulls_exist, null_inds, null_vals)\n",
    "        all_nulls[query_ind] = 100*num_nulls/all_outputs\n",
    "        avg_errors[query_ind] = np.average(total_error)\n",
    "\n",
    "#         # Get columns that start with 'pct_diff'\n",
    "#         pct_diff_cols = [col for col in merged_df.columns if col.startswith('pct_diff')]\n",
    "\n",
    "#         # Create subplots based on number of pct_diff columns\n",
    "#         n_cols = len(pct_diff_cols)\n",
    "#         fig, axes = plt.subplots(1, n_cols, figsize=(5*n_cols, 4))\n",
    "\n",
    "#         # Handle case where there's only one column (axes won't be a list)\n",
    "#         if n_cols == 1:\n",
    "#             axes = [axes]\n",
    "\n",
    "#         # Create histogram for each column\n",
    "#         for i, col in enumerate(pct_diff_cols):\n",
    "#             # Convert to pandas for easier plotting, or use polars plot method\n",
    "#             values = merged_df[col].to_pandas()\n",
    "\n",
    "#             axes[i].hist(values, bins=30, alpha=0.7, edgecolor='black')\n",
    "#             axes[i].set_title(f'Histogram of {col}')\n",
    "#             axes[i].set_xlabel(col)\n",
    "#             axes[i].set_ylabel('Frequency')\n",
    "#             axes[i].grid(True, alpha=0.3)\n",
    "\n",
    "#         plt.tight_layout()\n",
    "#         plt.savefig(f'tmp/q{query_ind}_{mi}_{col}_hist.png', facecolor='white', bbox_inches='tight')\n",
    "\n",
    "#         for base in null_info:\n",
    "#             (nulls_exist, null_inds, null_vals) = null_info[base]\n",
    "#             if nulls_exist:\n",
    "#                 fig, axes = plt.subplots(1, 1, figsize=(5, 4))\n",
    "#                 # Handle case where there's only one column (axes won't be a list)\n",
    "#                 if n_cols == 1:\n",
    "#                     axes = [axes]\n",
    "#                 axes[0].hist(null_vals, bins=30, alpha=0.7, edgecolor='black')\n",
    "#                 axes[0].set_title(f'Histogram of nulls for column {base}')\n",
    "#                 axes[0].set_xlabel('Fraction of nulls (%)')\n",
    "#                 axes[0].set_ylabel('Frequency')\n",
    "#                 axes[0].grid(True, alpha=0.3)\n",
    "#                 plt.savefig(f'tmp/q{query_ind}_{mi}_{base}_nulls.png', facecolor='white', bbox_inches='tight')"
   ]
  },
  {
   "cell_type": "code",
   "execution_count": 93,
   "id": "53450f70",
   "metadata": {},
   "outputs": [
    {
     "data": {
      "text/html": [
       "<div><style>\n",
       ".dataframe > thead > tr,\n",
       ".dataframe > tbody > tr {\n",
       "  text-align: right;\n",
       "  white-space: pre-wrap;\n",
       "}\n",
       "</style>\n",
       "<small>shape: (10, 6)</small><table border=\"1\" class=\"dataframe\"><thead><tr><th>l_orderkey</th><th>revenue</th><th>o_orderdate</th><th>o_shippriority</th><th>revenue_noised</th><th>pct_diff_revenue</th></tr><tr><td>i64</td><td>f64</td><td>str</td><td>i64</td><td>list[null]</td><td>f64</td></tr></thead><tbody><tr><td>223140</td><td>355369.0698</td><td>&quot;1995-03-14&quot;</td><td>0</td><td>[null]</td><td>NaN</td></tr><tr><td>554757</td><td>349181.7426</td><td>&quot;1995-03-14&quot;</td><td>0</td><td>[null]</td><td>NaN</td></tr><tr><td>108514</td><td>314967.0754</td><td>&quot;1995-02-20&quot;</td><td>0</td><td>[null]</td><td>NaN</td></tr><tr><td>462502</td><td>312604.542</td><td>&quot;1995-03-08&quot;</td><td>0</td><td>[null]</td><td>NaN</td></tr><tr><td>178727</td><td>309728.9306</td><td>&quot;1995-02-25&quot;</td><td>0</td><td>[null]</td><td>NaN</td></tr><tr><td>584291</td><td>354494.7318</td><td>&quot;1995-02-21&quot;</td><td>0</td><td>[null]</td><td>NaN</td></tr><tr><td>573861</td><td>351238.277</td><td>&quot;1995-03-09&quot;</td><td>0</td><td>[null]</td><td>NaN</td></tr><tr><td>506021</td><td>321075.581</td><td>&quot;1995-03-10&quot;</td><td>0</td><td>[null]</td><td>NaN</td></tr><tr><td>405063</td><td>353125.4577</td><td>&quot;1995-03-03&quot;</td><td>0</td><td>[null]</td><td>NaN</td></tr><tr><td>121604</td><td>318576.4154</td><td>&quot;1995-03-07&quot;</td><td>0</td><td>[null]</td><td>NaN</td></tr></tbody></table></div>"
      ],
      "text/plain": [
       "shape: (10, 6)\n",
       "┌────────────┬─────────────┬─────────────┬────────────────┬────────────────┬──────────────────┐\n",
       "│ l_orderkey ┆ revenue     ┆ o_orderdate ┆ o_shippriority ┆ revenue_noised ┆ pct_diff_revenue │\n",
       "│ ---        ┆ ---         ┆ ---         ┆ ---            ┆ ---            ┆ ---              │\n",
       "│ i64        ┆ f64         ┆ str         ┆ i64            ┆ list[null]     ┆ f64              │\n",
       "╞════════════╪═════════════╪═════════════╪════════════════╪════════════════╪══════════════════╡\n",
       "│ 223140     ┆ 355369.0698 ┆ 1995-03-14  ┆ 0              ┆ [null]         ┆ NaN              │\n",
       "│ 554757     ┆ 349181.7426 ┆ 1995-03-14  ┆ 0              ┆ [null]         ┆ NaN              │\n",
       "│ 108514     ┆ 314967.0754 ┆ 1995-02-20  ┆ 0              ┆ [null]         ┆ NaN              │\n",
       "│ 462502     ┆ 312604.542  ┆ 1995-03-08  ┆ 0              ┆ [null]         ┆ NaN              │\n",
       "│ 178727     ┆ 309728.9306 ┆ 1995-02-25  ┆ 0              ┆ [null]         ┆ NaN              │\n",
       "│ 584291     ┆ 354494.7318 ┆ 1995-02-21  ┆ 0              ┆ [null]         ┆ NaN              │\n",
       "│ 573861     ┆ 351238.277  ┆ 1995-03-09  ┆ 0              ┆ [null]         ┆ NaN              │\n",
       "│ 506021     ┆ 321075.581  ┆ 1995-03-10  ┆ 0              ┆ [null]         ┆ NaN              │\n",
       "│ 405063     ┆ 353125.4577 ┆ 1995-03-03  ┆ 0              ┆ [null]         ┆ NaN              │\n",
       "│ 121604     ┆ 318576.4154 ┆ 1995-03-07  ┆ 0              ┆ [null]         ┆ NaN              │\n",
       "└────────────┴─────────────┴─────────────┴────────────────┴────────────────┴──────────────────┘"
      ]
     },
     "execution_count": 93,
     "metadata": {},
     "output_type": "execute_result"
    }
   ],
   "source": [
    "merged_df"
   ]
  },
  {
   "cell_type": "code",
   "execution_count": 90,
   "id": "2500afd6",
   "metadata": {},
   "outputs": [
    {
     "data": {
      "text/plain": [
       "{1: 2.5442233968173715,\n",
       " 3: nan,\n",
       " 4: 7.967681478360539,\n",
       " 5: 25.622938327248313,\n",
       " 6: 3.975880395383505,\n",
       " 7: 26.254870522345144,\n",
       " 8: 120.43882910564585,\n",
       " 9: 23.271514480779384,\n",
       " 12: 9.28002866295529,\n",
       " 13: 19.722793014350138,\n",
       " 14: 7.293048263023766,\n",
       " 15: 41.89916745531556,\n",
       " 17: 39.95207812726525,\n",
       " 19: 85.3515578953771,\n",
       " 21: 68.63134006957296,\n",
       " 22: 25.083121818619354}"
      ]
     },
     "execution_count": 90,
     "metadata": {},
     "output_type": "execute_result"
    }
   ],
   "source": [
    "avg_errors"
   ]
  },
  {
   "cell_type": "code",
   "execution_count": 91,
   "id": "2e30a4bb",
   "metadata": {},
   "outputs": [
    {
     "data": {
      "text/plain": [
       "{1: 0.0,\n",
       " 3: 100.0,\n",
       " 4: 0.0,\n",
       " 5: 0.0,\n",
       " 6: 0.0,\n",
       " 7: 0.0,\n",
       " 8: 0.0,\n",
       " 9: 0.0,\n",
       " 12: 0.0,\n",
       " 13: 13.513513513513514,\n",
       " 14: 0.0,\n",
       " 15: 0.0,\n",
       " 17: 0.0,\n",
       " 19: 0.0,\n",
       " 21: 51.06382978723404,\n",
       " 22: 0.0}"
      ]
     },
     "execution_count": 91,
     "metadata": {},
     "output_type": "execute_result"
    }
   ],
   "source": [
    "all_nulls"
   ]
  },
  {
   "cell_type": "code",
   "execution_count": 489,
   "id": "3ee72819",
   "metadata": {
    "scrolled": true
   },
   "outputs": [
    {
     "data": {
      "image/png": "[encoded data removed]",
      "text/plain": [
       "<Figure size 360x288 with 1 Axes>"
      ]
     },
     "metadata": {
      "needs_background": "light"
     },
     "output_type": "display_data"
    }
   ],
   "source": []
  },
  {
   "cell_type": "code",
   "execution_count": null,
   "id": "53c1e915",
   "metadata": {},
   "outputs": [],
   "source": []
  }
 ],
 "metadata": {
  "kernelspec": {
   "display_name": "Python 3 (ipykernel)",
   "language": "python",
   "name": "python3"
  },
  "language_info": {
   "codemirror_mode": {
    "name": "ipython",
    "version": 3
   },
   "file_extension": ".py",
   "mimetype": "text/x-python",
   "name": "python",
   "nbconvert_exporter": "python",
   "pygments_lexer": "ipython3",
   "version": "3.9.17"
  }
 },
 "nbformat": 4,
 "nbformat_minor": 5
}
