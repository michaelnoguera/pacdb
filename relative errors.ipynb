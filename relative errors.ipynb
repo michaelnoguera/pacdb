{
 "cells": [
  {
   "cell_type": "code",
   "execution_count": 526,
   "id": "fcfa5f03",
   "metadata": {},
   "outputs": [],
   "source": [
    "import polars.selectors as cs\n",
    "import numpy as np\n",
    "\n",
    "import polars as pl\n",
    "\n",
    "import matplotlib.pyplot as plt"
   ]
  },
  {
   "cell_type": "code",
   "execution_count": 527,
   "id": "1288945e",
   "metadata": {},
   "outputs": [],
   "source": [
    "def hist_of_numerical_values(df: pl.DataFrame):\n",
    "    \"\"\"\n",
    "    Generates histograms for all numerical columns in a Polars DataFrame.\n",
    "\n",
    "    Args:\n",
    "        df: The Polars DataFrame.\n",
    "\n",
    "    Returns:\n",
    "        A dictionary where keys are column names and values are the histogram data.\n",
    "    \"\"\"\n",
    "    histograms = {}\n",
    "    for col_name in df.columns:\n",
    "        if df[col_name].dtype in [pl.Int8, pl.Int16, pl.Int32, pl.Int64, pl.UInt8, pl.UInt16, pl.UInt32, pl.UInt64, pl.Float32, pl.Float64]:\n",
    "            hist_data = df[col_name].hist()\n",
    "            histograms[col_name] = hist_data\n",
    "    return histograms"
   ]
  },
  {
   "cell_type": "code",
   "execution_count": 560,
   "id": "f25d4a28",
   "metadata": {},
   "outputs": [],
   "source": [
    "index_cols = {\n",
    "    1: ['l_returnflag', 'l_linestatus'],\n",
    "    3: ['l_orderkey','o_orderdate','o_shippriority'],\n",
    "    4: ['o_orderpriority'],\n",
    "    5: ['n_name'],\n",
    "    6: [],\n",
    "    7: ['supp_nation', 'cust_nation', 'l_year'], \n",
    "    8: ['o_year'],\n",
    "    9: ['nation', 'o_year'],\n",
    "    12: ['l_shipmode'],\n",
    "    13: ['c_count'],\n",
    "    14: [],\n",
    "    17: [],\n",
    "    19: [],\n",
    "    20: [],\n",
    "    21: ['s_name'],\n",
    "    22: ['cntrycode']\n",
    "}\n",
    "scale_required = set([4, 5, 6, 7, 9, 12, 13, 17, 19, 21, 22])\n",
    "# not 8, 14\n",
    "# skip 3, skip 20\n",
    "queries_to_run = [1, 4, 5, 6, 7, 8, 9, 12, 13, 14, 17, 19, 21, 22]"
   ]
  },
  {
   "cell_type": "code",
   "execution_count": 563,
   "id": "98dec705",
   "metadata": {},
   "outputs": [
    {
     "data": {
      "text/html": [
       "<div><style>\n",
       ".dataframe > thead > tr,\n",
       ".dataframe > tbody > tr {\n",
       "  text-align: right;\n",
       "  white-space: pre-wrap;\n",
       "}\n",
       "</style>\n",
       "<small>shape: (81, 3)</small><table border=\"1\" class=\"dataframe\"><thead><tr><th>s_name</th><th>s_address</th><th>s_name_noised</th></tr><tr><td>str</td><td>str</td><td>list[str]</td></tr></thead><tbody><tr><td>&quot;Supplier#000000157&quot;</td><td>&quot;1EmkCApL5iF&quot;</td><td>[&quot;Supplier#000000287&quot;, &quot;Supplier#000000378&quot;, … &quot;Supplier#000000378&quot;]</td></tr><tr><td>&quot;Supplier#000000157&quot;</td><td>&quot;1EmkCApL5iF&quot;</td><td>[&quot;Supplier#000000197&quot;, &quot;Supplier#000000287&quot;, … &quot;Supplier#000000530&quot;]</td></tr><tr><td>&quot;Supplier#000000157&quot;</td><td>&quot;1EmkCApL5iF&quot;</td><td>[&quot;Supplier#000000378&quot;, &quot;Supplier#000000555&quot;, … &quot;Supplier#000000287&quot;]</td></tr><tr><td>&quot;Supplier#000000157&quot;</td><td>&quot;1EmkCApL5iF&quot;</td><td>[&quot;Supplier#000000530&quot;, &quot;Supplier#000000378&quot;, … &quot;Supplier#000000935&quot;]</td></tr><tr><td>&quot;Supplier#000000157&quot;</td><td>&quot;1EmkCApL5iF&quot;</td><td>[&quot;Supplier#000000729&quot;, &quot;Supplier#000000729&quot;, … &quot;Supplier#000000530&quot;]</td></tr><tr><td>&hellip;</td><td>&hellip;</td><td>&hellip;</td></tr><tr><td>&quot;Supplier#000000935&quot;</td><td>&quot;JHRSOterYgt4MTNo7cupTzA,6MoNw …</td><td>[&quot;Supplier#000000729&quot;, &quot;Supplier#000000729&quot;, … &quot;Supplier#000000530&quot;]</td></tr><tr><td>&quot;Supplier#000000935&quot;</td><td>&quot;JHRSOterYgt4MTNo7cupTzA,6MoNw …</td><td>[&quot;Supplier#000000557&quot;, &quot;Supplier#000000729&quot;, … &quot;Supplier#000000555&quot;]</td></tr><tr><td>&quot;Supplier#000000935&quot;</td><td>&quot;JHRSOterYgt4MTNo7cupTzA,6MoNw …</td><td>[&quot;Supplier#000000557&quot;, &quot;Supplier#000000557&quot;, … &quot;Supplier#000000729&quot;]</td></tr><tr><td>&quot;Supplier#000000935&quot;</td><td>&quot;JHRSOterYgt4MTNo7cupTzA,6MoNw …</td><td>[null]</td></tr><tr><td>&quot;Supplier#000000935&quot;</td><td>&quot;JHRSOterYgt4MTNo7cupTzA,6MoNw …</td><td>[null]</td></tr></tbody></table></div>"
      ],
      "text/plain": [
       "shape: (81, 3)\n",
       "┌────────────────────┬─────────────────────────────────┬─────────────────────────────────┐\n",
       "│ s_name             ┆ s_address                       ┆ s_name_noised                   │\n",
       "│ ---                ┆ ---                             ┆ ---                             │\n",
       "│ str                ┆ str                             ┆ list[str]                       │\n",
       "╞════════════════════╪═════════════════════════════════╪═════════════════════════════════╡\n",
       "│ Supplier#000000157 ┆ 1EmkCApL5iF                     ┆ [\"Supplier#000000287\", \"Suppli… │\n",
       "│ Supplier#000000157 ┆ 1EmkCApL5iF                     ┆ [\"Supplier#000000197\", \"Suppli… │\n",
       "│ Supplier#000000157 ┆ 1EmkCApL5iF                     ┆ [\"Supplier#000000378\", \"Suppli… │\n",
       "│ Supplier#000000157 ┆ 1EmkCApL5iF                     ┆ [\"Supplier#000000530\", \"Suppli… │\n",
       "│ Supplier#000000157 ┆ 1EmkCApL5iF                     ┆ [\"Supplier#000000729\", \"Suppli… │\n",
       "│ …                  ┆ …                               ┆ …                               │\n",
       "│ Supplier#000000935 ┆ JHRSOterYgt4MTNo7cupTzA,6MoNw … ┆ [\"Supplier#000000729\", \"Suppli… │\n",
       "│ Supplier#000000935 ┆ JHRSOterYgt4MTNo7cupTzA,6MoNw … ┆ [\"Supplier#000000557\", \"Suppli… │\n",
       "│ Supplier#000000935 ┆ JHRSOterYgt4MTNo7cupTzA,6MoNw … ┆ [\"Supplier#000000557\", \"Suppli… │\n",
       "│ Supplier#000000935 ┆ JHRSOterYgt4MTNo7cupTzA,6MoNw … ┆ [null]                          │\n",
       "│ Supplier#000000935 ┆ JHRSOterYgt4MTNo7cupTzA,6MoNw … ┆ [null]                          │\n",
       "└────────────────────┴─────────────────────────────────┴─────────────────────────────────┘"
      ]
     },
     "execution_count": 563,
     "metadata": {},
     "output_type": "execute_result"
    }
   ],
   "source": [
    "merged_df"
   ]
  },
  {
   "cell_type": "code",
   "execution_count": 565,
   "id": "32b8ac1c",
   "metadata": {},
   "outputs": [
    {
     "data": {
      "image/png": "[encoded data removed]",
      "text/plain": [
       "<Figure size 360x288 with 1 Axes>"
      ]
     },
     "metadata": {
      "needs_background": "light"
     },
     "output_type": "display_data"
    }
   ],
   "source": [
    "for query_ind in [14]:\n",
    "    null_info = {}\n",
    "    orig = pl.read_csv(f'unnoised/q{query_ind}.csv')\n",
    "    if query_ind == 22:\n",
    "        orig = orig.select(\n",
    "        pl.col(\"cntrycode\").cast(str),\n",
    "        pl.col(\"numcust\"),\n",
    "        pl.col(\"totacctbal\"))\n",
    "    noised = pl.read_json(f'outputs/ap-duckdb-q{query_ind}-customer-step3/output.json')\n",
    "    if index_cols[query_ind]:\n",
    "        merged_df = orig.join(noised, on=index_cols[query_ind], suffix='_noised')\n",
    "    else:\n",
    "        merged_df = orig.join(noised, suffix='_noised', how='cross')\n",
    "    suffix1 = ''\n",
    "    suffix2 = '_noised'\n",
    "    cols_with_suffixes = [col for col in merged_df.columns if suffix1 in col or suffix2 in col]\n",
    "\n",
    "    base_names = set([col.replace(suffix1, '').replace(suffix2, '') for col in cols_with_suffixes])\n",
    "    for base_name in base_names:\n",
    "        nulls_exist = False\n",
    "        null_inds, null_vals = [], []\n",
    "        \n",
    "        orig = base_name + suffix1\n",
    "        noised = base_name + suffix2\n",
    "        if orig in merged_df.columns and noised in merged_df.columns:\n",
    "            rel_errors = []\n",
    "            for ind in range(len(merged_df[orig])):\n",
    "                if query_ind in scale_required:\n",
    "                    const = 2 # subsampling scaling\n",
    "                else:\n",
    "                    const = 1\n",
    "#                     print(merged_df[noised][ind])\n",
    "                new = np.average(\n",
    "                    [100*abs(\n",
    "                        const*merged_df[noised][ind][tmp_ind] - merged_df[orig][ind]\n",
    "                        ) / merged_df[orig][ind] for tmp_ind in range(\n",
    "                            len(merged_df[noised][ind]))]\n",
    "                )\n",
    "                rel_errors.append(new)\n",
    "            merged_df = merged_df.with_columns(pl.Series('pct_diff_' + base_name, rel_errors))\n",
    "            num_outputs = len(list(merged_df[noised]))\n",
    "            for ind in range(num_outputs):\n",
    "                full_list = [x for x in list(merged_df[noised][ind]) if x is not None]\n",
    "                if len(full_list) < 100:\n",
    "                    nulls_exist = True\n",
    "                    null_inds.append(ind)\n",
    "                    null_vals.append((100-len(full_list)))\n",
    "                    print(query_ind, ind)\n",
    "        null_info[base_name] = (nulls_exist, null_inds, null_vals)\n",
    "        \n",
    "    # Get columns that start with 'pct_diff'\n",
    "    pct_diff_cols = [col for col in merged_df.columns if col.startswith('pct_diff')]\n",
    "\n",
    "    # Create subplots based on number of pct_diff columns\n",
    "    n_cols = len(pct_diff_cols)\n",
    "    fig, axes = plt.subplots(1, n_cols, figsize=(5*n_cols, 4))\n",
    "\n",
    "    # Handle case where there's only one column (axes won't be a list)\n",
    "    if n_cols == 1:\n",
    "        axes = [axes]\n",
    "\n",
    "    # Create histogram for each column\n",
    "    for i, col in enumerate(pct_diff_cols):\n",
    "        # Convert to pandas for easier plotting, or use polars plot method\n",
    "        values = merged_df[col].to_pandas()\n",
    "\n",
    "        axes[i].hist(values, bins=30, alpha=0.7, edgecolor='black')\n",
    "        axes[i].set_title(f'Histogram of {col}')\n",
    "        axes[i].set_xlabel(col)\n",
    "        axes[i].set_ylabel('Frequency')\n",
    "        axes[i].grid(True, alpha=0.3)\n",
    "\n",
    "    plt.tight_layout()\n",
    "    plt.savefig(f'figs/mi_1_2/q{query_ind}_{col}_hist.png', facecolor='white', bbox_inches='tight')\n",
    "\n",
    "    for base in null_info:\n",
    "        (nulls_exist, null_inds, null_vals) = null_info[base]\n",
    "        if nulls_exist:\n",
    "            fig, axes = plt.subplots(1, 1, figsize=(5, 4))\n",
    "            # Handle case where there's only one column (axes won't be a list)\n",
    "            if n_cols == 1:\n",
    "                axes = [axes]\n",
    "            axes[0].hist(null_vals, bins=30, alpha=0.7, edgecolor='black')\n",
    "            axes[0].set_title(f'Histogram of nulls for column {base}')\n",
    "            axes[0].set_xlabel('Fraction of nulls (%)')\n",
    "            axes[0].set_ylabel('Frequency')\n",
    "            axes[0].grid(True, alpha=0.3)\n",
    "            plt.savefig(f'figs/mi_1_2/q{query_ind}_{base}_nulls.png', facecolor='white', bbox_inches='tight')"
   ]
  },
  {
   "cell_type": "code",
   "execution_count": 508,
   "id": "2500afd6",
   "metadata": {},
   "outputs": [
    {
     "data": {
      "text/html": [
       "<div><style>\n",
       ".dataframe > thead > tr,\n",
       ".dataframe > tbody > tr {\n",
       "  text-align: right;\n",
       "  white-space: pre-wrap;\n",
       "}\n",
       "</style>\n",
       "<small>shape: (7, 7)</small><table border=\"1\" class=\"dataframe\"><thead><tr><th>cntrycode</th><th>numcust</th><th>totacctbal</th><th>numcust_noised</th><th>totacctbal_noised</th><th>pct_diff_totacctbal</th><th>pct_diff_numcust</th></tr><tr><td>str</td><td>i64</td><td>f64</td><td>list[f64]</td><td>list[f64]</td><td>f64</td><td>f64</td></tr></thead><tbody><tr><td>&quot;13&quot;</td><td>94</td><td>714035.05</td><td>[50.968681, 49.312398, … 33.559234]</td><td>[339705.181437, 307684.014954, … 384918.809139]</td><td>11.855483</td><td>10.244078</td></tr><tr><td>&quot;17&quot;</td><td>96</td><td>722560.15</td><td>[61.315769, 44.58307, … 47.561657]</td><td>[339031.244525, 406523.271675, … 200878.913956]</td><td>12.640508</td><td>10.745749</td></tr><tr><td>&quot;18&quot;</td><td>99</td><td>738012.52</td><td>[47.037466, 35.839762, … 44.555549]</td><td>[417771.219037, 323011.364787, … 340525.392286]</td><td>11.787684</td><td>12.019701</td></tr><tr><td>&quot;23&quot;</td><td>93</td><td>708285.25</td><td>[43.989014, 40.595101, … 45.51899]</td><td>[331360.635884, 444064.586741, … 361592.093432]</td><td>11.488457</td><td>10.852592</td></tr><tr><td>&quot;29&quot;</td><td>85</td><td>632693.46</td><td>[52.657639, 47.373622, … 46.828051]</td><td>[285786.682977, 436295.431298, … 328318.839359]</td><td>13.700744</td><td>13.881284</td></tr><tr><td>&quot;30&quot;</td><td>87</td><td>646748.02</td><td>[18.522084, 45.666315, … 46.448591]</td><td>[343484.540579, 251036.853253, … 317066.875539]</td><td>10.204877</td><td>11.523823</td></tr><tr><td>&quot;31&quot;</td><td>87</td><td>647372.5</td><td>[54.349835, 54.155246, … 38.480991]</td><td>[310514.479784, 287755.228556, … 282931.793791]</td><td>12.185715</td><td>11.72031</td></tr></tbody></table></div>"
      ],
      "text/plain": [
       "shape: (7, 7)\n",
       "┌───────────┬─────────┬────────────┬───────────────┬───────────────┬───────────────┬───────────────┐\n",
       "│ cntrycode ┆ numcust ┆ totacctbal ┆ numcust_noise ┆ totacctbal_no ┆ pct_diff_tota ┆ pct_diff_numc │\n",
       "│ ---       ┆ ---     ┆ ---        ┆ d             ┆ ised          ┆ cctbal        ┆ ust           │\n",
       "│ str       ┆ i64     ┆ f64        ┆ ---           ┆ ---           ┆ ---           ┆ ---           │\n",
       "│           ┆         ┆            ┆ list[f64]     ┆ list[f64]     ┆ f64           ┆ f64           │\n",
       "╞═══════════╪═════════╪════════════╪═══════════════╪═══════════════╪═══════════════╪═══════════════╡\n",
       "│ 13        ┆ 94      ┆ 714035.05  ┆ [50.968681,   ┆ [339705.18143 ┆ 11.855483     ┆ 10.244078     │\n",
       "│           ┆         ┆            ┆ 49.312398, …  ┆ 7, 307684.014 ┆               ┆               │\n",
       "│           ┆         ┆            ┆ 33.55…        ┆ 954,…         ┆               ┆               │\n",
       "│ 17        ┆ 96      ┆ 722560.15  ┆ [61.315769,   ┆ [339031.24452 ┆ 12.640508     ┆ 10.745749     │\n",
       "│           ┆         ┆            ┆ 44.58307, …   ┆ 5, 406523.271 ┆               ┆               │\n",
       "│           ┆         ┆            ┆ 47.561…       ┆ 675,…         ┆               ┆               │\n",
       "│ 18        ┆ 99      ┆ 738012.52  ┆ [47.037466,   ┆ [417771.21903 ┆ 11.787684     ┆ 12.019701     │\n",
       "│           ┆         ┆            ┆ 35.839762, …  ┆ 7, 323011.364 ┆               ┆               │\n",
       "│           ┆         ┆            ┆ 44.55…        ┆ 787,…         ┆               ┆               │\n",
       "│ 23        ┆ 93      ┆ 708285.25  ┆ [43.989014,   ┆ [331360.63588 ┆ 11.488457     ┆ 10.852592     │\n",
       "│           ┆         ┆            ┆ 40.595101, …  ┆ 4, 444064.586 ┆               ┆               │\n",
       "│           ┆         ┆            ┆ 45.51…        ┆ 741,…         ┆               ┆               │\n",
       "│ 29        ┆ 85      ┆ 632693.46  ┆ [52.657639,   ┆ [285786.68297 ┆ 13.700744     ┆ 13.881284     │\n",
       "│           ┆         ┆            ┆ 47.373622, …  ┆ 7, 436295.431 ┆               ┆               │\n",
       "│           ┆         ┆            ┆ 46.82…        ┆ 298,…         ┆               ┆               │\n",
       "│ 30        ┆ 87      ┆ 646748.02  ┆ [18.522084,   ┆ [343484.54057 ┆ 10.204877     ┆ 11.523823     │\n",
       "│           ┆         ┆            ┆ 45.666315, …  ┆ 9, 251036.853 ┆               ┆               │\n",
       "│           ┆         ┆            ┆ 46.44…        ┆ 253,…         ┆               ┆               │\n",
       "│ 31        ┆ 87      ┆ 647372.5   ┆ [54.349835,   ┆ [310514.47978 ┆ 12.185715     ┆ 11.72031      │\n",
       "│           ┆         ┆            ┆ 54.155246, …  ┆ 4, 287755.228 ┆               ┆               │\n",
       "│           ┆         ┆            ┆ 38.48…        ┆ 556,…         ┆               ┆               │\n",
       "└───────────┴─────────┴────────────┴───────────────┴───────────────┴───────────────┴───────────────┘"
      ]
     },
     "execution_count": 508,
     "metadata": {},
     "output_type": "execute_result"
    }
   ],
   "source": [
    "merged_df"
   ]
  },
  {
   "cell_type": "code",
   "execution_count": 488,
   "id": "2e30a4bb",
   "metadata": {},
   "outputs": [
    {
     "data": {
      "image/png": "[encoded data removed]",
      "text/plain": [
       "<Figure size 360x288 with 1 Axes>"
      ]
     },
     "metadata": {
      "needs_background": "light"
     },
     "output_type": "display_data"
    }
   ],
   "source": []
  },
  {
   "cell_type": "code",
   "execution_count": 489,
   "id": "3ee72819",
   "metadata": {
    "scrolled": true
   },
   "outputs": [
    {
     "data": {
      "image/png": "[encoded data removed]",
      "text/plain": [
       "<Figure size 360x288 with 1 Axes>"
      ]
     },
     "metadata": {
      "needs_background": "light"
     },
     "output_type": "display_data"
    }
   ],
   "source": []
  },
  {
   "cell_type": "code",
   "execution_count": null,
   "id": "53c1e915",
   "metadata": {},
   "outputs": [],
   "source": []
  }
 ],
 "metadata": {
  "kernelspec": {
   "display_name": "Python 3 (ipykernel)",
   "language": "python",
   "name": "python3"
  },
  "language_info": {
   "codemirror_mode": {
    "name": "ipython",
    "version": 3
   },
   "file_extension": ".py",
   "mimetype": "text/x-python",
   "name": "python",
   "nbconvert_exporter": "python",
   "pygments_lexer": "ipython3",
   "version": "3.9.17"
  }
 },
 "nbformat": 4,
 "nbformat_minor": 5
}
