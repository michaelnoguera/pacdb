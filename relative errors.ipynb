{
 "cells": [
  {
   "cell_type": "code",
   "execution_count": 572,
   "id": "fcfa5f03",
   "metadata": {},
   "outputs": [],
   "source": [
    "import polars.selectors as cs\n",
    "import numpy as np\n",
    "\n",
    "import polars as pl\n",
    "\n",
    "import matplotlib.pyplot as plt"
   ]
  },
  {
   "cell_type": "code",
   "execution_count": 573,
   "id": "1288945e",
   "metadata": {},
   "outputs": [],
   "source": [
    "def hist_of_numerical_values(df: pl.DataFrame):\n",
    "    \"\"\"\n",
    "    Generates histograms for all numerical columns in a Polars DataFrame.\n",
    "\n",
    "    Args:\n",
    "        df: The Polars DataFrame.\n",
    "\n",
    "    Returns:\n",
    "        A dictionary where keys are column names and values are the histogram data.\n",
    "    \"\"\"\n",
    "    histograms = {}\n",
    "    for col_name in df.columns:\n",
    "        if df[col_name].dtype in [pl.Int8, pl.Int16, pl.Int32, pl.Int64, pl.UInt8, pl.UInt16, pl.UInt32, pl.UInt64, pl.Float32, pl.Float64]:\n",
    "            hist_data = df[col_name].hist()\n",
    "            histograms[col_name] = hist_data\n",
    "    return histograms"
   ]
  },
  {
   "cell_type": "code",
   "execution_count": 574,
   "id": "f25d4a28",
   "metadata": {},
   "outputs": [],
   "source": [
    "index_cols = {\n",
    "    1: ['l_returnflag', 'l_linestatus'],\n",
    "    3: ['l_orderkey','o_orderdate','o_shippriority'],\n",
    "    4: ['o_orderpriority'],\n",
    "    5: ['n_name'],\n",
    "    6: [],\n",
    "    7: ['supp_nation', 'cust_nation', 'l_year'], \n",
    "    8: ['o_year'],\n",
    "    9: ['nation', 'o_year'],\n",
    "    12: ['l_shipmode'],\n",
    "    13: ['c_count'],\n",
    "    14: [],\n",
    "    17: [],\n",
    "    19: [],\n",
    "    20: [],\n",
    "    21: ['s_name'],\n",
    "    22: ['cntrycode']\n",
    "}\n",
    "scale_required = set([4, 5, 6, 7, 9, 12, 13, 17, 19, 21, 22])\n",
    "# not 8, 14\n",
    "# skip 3, skip 20\n",
    "queries_to_run = [1, 4, 5, 6, 7, 8, 9, 12, 13, 14, 17, 19, 21, 22]"
   ]
  },
  {
   "cell_type": "code",
   "execution_count": 575,
   "id": "98dec705",
   "metadata": {},
   "outputs": [
    {
     "data": {
      "text/html": [
       "<div><style>\n",
       ".dataframe > thead > tr,\n",
       ".dataframe > tbody > tr {\n",
       "  text-align: right;\n",
       "  white-space: pre-wrap;\n",
       "}\n",
       "</style>\n",
       "<small>shape: (4, 26)</small><table border=\"1\" class=\"dataframe\"><thead><tr><th>l_returnflag</th><th>l_linestatus</th><th>sum_qty</th><th>sum_base_price</th><th>sum_disc_price</th><th>sum_charge</th><th>avg_qty</th><th>avg_price</th><th>avg_disc</th><th>count_order</th><th>sum_qty_noised</th><th>sum_base_price_noised</th><th>sum_disc_price_noised</th><th>sum_charge_noised</th><th>avg_qty_noised</th><th>avg_price_noised</th><th>avg_disc_noised</th><th>count_order_noised</th><th>pct_diff_sum_charge</th><th>pct_diff_count_order</th><th>pct_diff_sum_disc_price</th><th>pct_diff_sum_base_price</th><th>pct_diff_avg_qty</th><th>pct_diff_avg_disc</th><th>pct_diff_sum_qty</th><th>pct_diff_avg_price</th></tr><tr><td>str</td><td>str</td><td>f64</td><td>f64</td><td>f64</td><td>f64</td><td>f64</td><td>f64</td><td>f64</td><td>i64</td><td>list[f64]</td><td>list[f64]</td><td>list[f64]</td><td>list[f64]</td><td>list[f64]</td><td>list[f64]</td><td>list[f64]</td><td>list[f64]</td><td>f64</td><td>f64</td><td>f64</td><td>f64</td><td>f64</td><td>f64</td><td>f64</td><td>f64</td></tr></thead><tbody><tr><td>&quot;A&quot;</td><td>&quot;F&quot;</td><td>3.7742e6</td><td>5.3208e9</td><td>5.0541e9</td><td>5.2568e9</td><td>25.537587</td><td>36002.123829</td><td>0.050145</td><td>147790</td><td>[3.7557e6, 3.7389e6, … 3.8282e6]</td><td>[5.3238e9, 5.3198e9, … 5.4291e9]</td><td>[5.2594e9, 5.0081e9, … 5.0802e9]</td><td>[5.3794e9, 5.1780e9, … 5.1843e9]</td><td>[25.550467, 25.589485, … 25.535186]</td><td>[35980.326336, 35921.091469, … 35993.739224]</td><td>[0.050272, 0.050052, … 0.050481]</td><td>[145730.633709, 147563.771119, … 149241.790149]</td><td>1.280573</td><td>1.395288</td><td>1.391085</td><td>1.153702</td><td>0.169176</td><td>0.18176</td><td>1.167808</td><td>0.17401</td></tr><tr><td>&quot;N&quot;</td><td>&quot;F&quot;</td><td>95257.0</td><td>1.3374e8</td><td>1.2713e8</td><td>1.3229e8</td><td>25.300664</td><td>35521.326916</td><td>0.049394</td><td>3765</td><td>[97592.594931, 99192.901787, … 93143.356877]</td><td>[1.3753e8, 1.3177e8, … 1.3434e8]</td><td>[1.2753e8, 1.2644e8, … 1.2307e8]</td><td>[1.3867e8, 1.3449e8, … 1.2823e8]</td><td>[25.433485, 25.362783, … 25.632136]</td><td>[35612.272223, 34994.832626, … 34910.789942]</td><td>[0.047677, 0.049024, … 0.049927]</td><td>[3693.424699, 3804.228649, … 3900.363936]</td><td>2.423444</td><td>2.526363</td><td>2.576369</td><td>2.609911</td><td>0.936204</td><td>1.280392</td><td>2.782281</td><td>1.050001</td></tr><tr><td>&quot;N&quot;</td><td>&quot;O&quot;</td><td>7.459297e6</td><td>1.0512e10</td><td>9.9862e9</td><td>1.0386e10</td><td>25.545538</td><td>36000.924688</td><td>0.050096</td><td>292000</td><td>[7.3284e6, 7.5829e6, … 7.5344e6]</td><td>[1.0183e10, 1.0530e10, … 1.0338e10]</td><td>[9.9333e9, 1.0157e10, … 9.6537e9]</td><td>[1.0571e10, 1.0646e10, … 1.0561e10]</td><td>[25.558151, 25.577358, … 25.51782]</td><td>[36020.169638, 35984.144889, … 36020.594493]</td><td>[0.050104, 0.050095, … 0.050175]</td><td>[292516.107236, 297540.075748, … 293354.513839]</td><td>1.321567</td><td>1.127519</td><td>1.369967</td><td>1.25015</td><td>0.098591</td><td>0.120087</td><td>1.124188</td><td>0.114093</td></tr><tr><td>&quot;R&quot;</td><td>&quot;F&quot;</td><td>3.785523e6</td><td>5.3380e9</td><td>5.0718e9</td><td>5.2744e9</td><td>25.525944</td><td>35994.029214</td><td>0.049989</td><td>148301</td><td>[3.8195e6, 3.8340e6, … 3.7990e6]</td><td>[5.3556e9, 5.3449e9, … 5.4031e9]</td><td>[5.2183e9, 5.0884e9, … 4.9692e9]</td><td>[5.3225e9, 5.3889e9, … 5.1965e9]</td><td>[25.467179, 25.4399, … 25.611336]</td><td>[36075.600348, 35933.34513, … 35989.127266]</td><td>[0.050129, 0.049942, … 0.050041]</td><td>[147045.930223, 151710.256821, … 152028.977859]</td><td>1.232782</td><td>1.239934</td><td>1.159647</td><td>1.242638</td><td>0.159799</td><td>0.187809</td><td>1.308875</td><td>0.181517</td></tr></tbody></table></div>"
      ],
      "text/plain": [
       "shape: (4, 26)\n",
       "┌───────────┬───────────┬───────────┬───────────┬───┬───────────┬───────────┬───────────┬──────────┐\n",
       "│ l_returnf ┆ l_linesta ┆ sum_qty   ┆ sum_base_ ┆ … ┆ pct_diff_ ┆ pct_diff_ ┆ pct_diff_ ┆ pct_diff │\n",
       "│ lag       ┆ tus       ┆ ---       ┆ price     ┆   ┆ avg_qty   ┆ avg_disc  ┆ sum_qty   ┆ _avg_pri │\n",
       "│ ---       ┆ ---       ┆ f64       ┆ ---       ┆   ┆ ---       ┆ ---       ┆ ---       ┆ ce       │\n",
       "│ str       ┆ str       ┆           ┆ f64       ┆   ┆ f64       ┆ f64       ┆ f64       ┆ ---      │\n",
       "│           ┆           ┆           ┆           ┆   ┆           ┆           ┆           ┆ f64      │\n",
       "╞═══════════╪═══════════╪═══════════╪═══════════╪═══╪═══════════╪═══════════╪═══════════╪══════════╡\n",
       "│ A         ┆ F         ┆ 3.7742e6  ┆ 5.3208e9  ┆ … ┆ 0.169176  ┆ 0.18176   ┆ 1.167808  ┆ 0.17401  │\n",
       "│ N         ┆ F         ┆ 95257.0   ┆ 1.3374e8  ┆ … ┆ 0.936204  ┆ 1.280392  ┆ 2.782281  ┆ 1.050001 │\n",
       "│ N         ┆ O         ┆ 7.459297e ┆ 1.0512e10 ┆ … ┆ 0.098591  ┆ 0.120087  ┆ 1.124188  ┆ 0.114093 │\n",
       "│           ┆           ┆ 6         ┆           ┆   ┆           ┆           ┆           ┆          │\n",
       "│ R         ┆ F         ┆ 3.785523e ┆ 5.3380e9  ┆ … ┆ 0.159799  ┆ 0.187809  ┆ 1.308875  ┆ 0.181517 │\n",
       "│           ┆           ┆ 6         ┆           ┆   ┆           ┆           ┆           ┆          │\n",
       "└───────────┴───────────┴───────────┴───────────┴───┴───────────┴───────────┴───────────┴──────────┘"
      ]
     },
     "execution_count": 575,
     "metadata": {},
     "output_type": "execute_result"
    }
   ],
   "source": [
    "merged_df"
   ]
  },
  {
   "cell_type": "code",
   "execution_count": 641,
   "id": "32b8ac1c",
   "metadata": {},
   "outputs": [
    {
     "data": {
      "image/png": "[encoded data removed]",
      "text/plain": [
       "<Figure size 360x288 with 1 Axes>"
      ]
     },
     "metadata": {
      "needs_background": "light"
     },
     "output_type": "display_data"
    }
   ],
   "source": [
    "for query_ind in [14]:\n",
    "    null_info = {}\n",
    "    orig = pl.read_csv(f'unnoised/q{query_ind}.csv')\n",
    "    if query_ind == 22:\n",
    "        orig = orig.select(\n",
    "        pl.col(\"cntrycode\").cast(str),\n",
    "        pl.col(\"numcust\"),\n",
    "        pl.col(\"totacctbal\"))\n",
    "    noised = pl.read_json(f'outputs/ap-duckdb-q{query_ind}-customer-step3/output.json')\n",
    "    if index_cols[query_ind]:\n",
    "        merged_df = orig.join(noised, on=index_cols[query_ind], suffix='_noised')\n",
    "    else:\n",
    "        merged_df = orig.join(noised, suffix='_noised', how='cross')\n",
    "    suffix1 = ''\n",
    "    suffix2 = '_noised'\n",
    "    cols_with_suffixes = [col for col in merged_df.columns if suffix1 in col or suffix2 in col]\n",
    "\n",
    "    base_names = set([col.replace(suffix1, '').replace(suffix2, '') for col in cols_with_suffixes])\n",
    "    for base_name in base_names:\n",
    "        nulls_exist = False\n",
    "        null_inds, null_vals = [], []\n",
    "        \n",
    "        orig = base_name + suffix1\n",
    "        noised = base_name + suffix2\n",
    "        if orig in merged_df.columns and noised in merged_df.columns:\n",
    "            rel_errors = []\n",
    "            for ind in range(len(merged_df[orig])):\n",
    "                if query_ind in scale_required:\n",
    "                    const = 2 # subsampling scaling\n",
    "                else:\n",
    "                    const = 1\n",
    "#                     print(merged_df[noised][ind])\n",
    "                new = np.average(\n",
    "                    [100*abs(\n",
    "                        const*merged_df[noised][ind][tmp_ind] - merged_df[orig][ind]\n",
    "                        ) / merged_df[orig][ind] for tmp_ind in range(\n",
    "                            len(merged_df[noised][ind]))]\n",
    "                )\n",
    "                rel_errors.append(new)\n",
    "            merged_df = merged_df.with_columns(pl.Series('pct_diff_' + base_name, rel_errors))\n",
    "            num_outputs = len(list(merged_df[noised]))\n",
    "            for ind in range(num_outputs):\n",
    "                full_list = [x for x in list(merged_df[noised][ind]) if x is not None]\n",
    "                if len(full_list) < 100:\n",
    "                    nulls_exist = True\n",
    "                    null_inds.append(ind)\n",
    "                    null_vals.append((100-len(full_list)))\n",
    "                    print(query_ind, ind)\n",
    "        null_info[base_name] = (nulls_exist, null_inds, null_vals)\n",
    "        \n",
    "    # Get columns that start with 'pct_diff'\n",
    "    pct_diff_cols = [col for col in merged_df.columns if col.startswith('pct_diff')]\n",
    "\n",
    "    # Create subplots based on number of pct_diff columns\n",
    "    n_cols = len(pct_diff_cols)\n",
    "    fig, axes = plt.subplots(1, n_cols, figsize=(5*n_cols, 4))\n",
    "\n",
    "    # Handle case where there's only one column (axes won't be a list)\n",
    "    if n_cols == 1:\n",
    "        axes = [axes]\n",
    "\n",
    "    # Create histogram for each column\n",
    "    for i, col in enumerate(pct_diff_cols):\n",
    "        # Convert to pandas for easier plotting, or use polars plot method\n",
    "        values = merged_df[col].to_pandas()\n",
    "\n",
    "        axes[i].hist(values, bins=30, alpha=0.7, edgecolor='black')\n",
    "        axes[i].set_title(f'Histogram of {col}')\n",
    "        axes[i].set_xlabel(col)\n",
    "        axes[i].set_ylabel('Frequency')\n",
    "        axes[i].grid(True, alpha=0.3)\n",
    "\n",
    "    plt.tight_layout()\n",
    "    plt.savefig(f'figs/mi_1_2/q{query_ind}_{col}_hist.png', facecolor='white', bbox_inches='tight')\n",
    "\n",
    "    for base in null_info:\n",
    "        (nulls_exist, null_inds, null_vals) = null_info[base]\n",
    "        if nulls_exist:\n",
    "            fig, axes = plt.subplots(1, 1, figsize=(5, 4))\n",
    "            # Handle case where there's only one column (axes won't be a list)\n",
    "            if n_cols == 1:\n",
    "                axes = [axes]\n",
    "            axes[0].hist(null_vals, bins=30, alpha=0.7, edgecolor='black')\n",
    "            axes[0].set_title(f'Histogram of nulls for column {base}')\n",
    "            axes[0].set_xlabel('Fraction of nulls (%)')\n",
    "            axes[0].set_ylabel('Frequency')\n",
    "            axes[0].grid(True, alpha=0.3)\n",
    "            plt.savefig(f'figs/mi_1_2/q{query_ind}_{base}_nulls.png', facecolor='white', bbox_inches='tight')"
   ]
  },
  {
   "cell_type": "code",
   "execution_count": 642,
   "id": "2500afd6",
   "metadata": {},
   "outputs": [
    {
     "data": {
      "text/html": [
       "<div><style>\n",
       ".dataframe > thead > tr,\n",
       ".dataframe > tbody > tr {\n",
       "  text-align: right;\n",
       "  white-space: pre-wrap;\n",
       "}\n",
       "</style>\n",
       "<small>shape: (1, 3)</small><table border=\"1\" class=\"dataframe\"><thead><tr><th>promo_revenue</th><th>promo_revenue_noised</th><th>pct_diff_promo_revenue</th></tr><tr><td>f64</td><td>list[f64]</td><td>f64</td></tr></thead><tbody><tr><td>16.283856</td><td>[15.995912, 15.220691, … 15.914418]</td><td>2.747592</td></tr></tbody></table></div>"
      ],
      "text/plain": [
       "shape: (1, 3)\n",
       "┌───────────────┬─────────────────────────────────┬────────────────────────┐\n",
       "│ promo_revenue ┆ promo_revenue_noised            ┆ pct_diff_promo_revenue │\n",
       "│ ---           ┆ ---                             ┆ ---                    │\n",
       "│ f64           ┆ list[f64]                       ┆ f64                    │\n",
       "╞═══════════════╪═════════════════════════════════╪════════════════════════╡\n",
       "│ 16.283856     ┆ [15.995912, 15.220691, … 15.91… ┆ 2.747592               │\n",
       "└───────────────┴─────────────────────────────────┴────────────────────────┘"
      ]
     },
     "execution_count": 642,
     "metadata": {},
     "output_type": "execute_result"
    }
   ],
   "source": [
    "merged_df"
   ]
  },
  {
   "cell_type": "code",
   "execution_count": 488,
   "id": "2e30a4bb",
   "metadata": {},
   "outputs": [
    {
     "data": {
      "image/png": "[encoded data removed]",
      "text/plain": [
       "<Figure size 360x288 with 1 Axes>"
      ]
     },
     "metadata": {
      "needs_background": "light"
     },
     "output_type": "display_data"
    }
   ],
   "source": []
  },
  {
   "cell_type": "code",
   "execution_count": 489,
   "id": "3ee72819",
   "metadata": {
    "scrolled": true
   },
   "outputs": [
    {
     "data": {
      "image/png": "[encoded data removed]",
      "text/plain": [
       "<Figure size 360x288 with 1 Axes>"
      ]
     },
     "metadata": {
      "needs_background": "light"
     },
     "output_type": "display_data"
    }
   ],
   "source": []
  },
  {
   "cell_type": "code",
   "execution_count": null,
   "id": "53c1e915",
   "metadata": {},
   "outputs": [],
   "source": []
  }
 ],
 "metadata": {
  "kernelspec": {
   "display_name": "Python 3 (ipykernel)",
   "language": "python",
   "name": "python3"
  },
  "language_info": {
   "codemirror_mode": {
    "name": "ipython",
    "version": 3
   },
   "file_extension": ".py",
   "mimetype": "text/x-python",
   "name": "python",
   "nbconvert_exporter": "python",
   "pygments_lexer": "ipython3",
   "version": "3.9.17"
  }
 },
 "nbformat": 4,
 "nbformat_minor": 5
}
