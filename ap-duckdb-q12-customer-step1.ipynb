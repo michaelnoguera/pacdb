{
 "cells": [
  {
   "cell_type": "markdown",
   "id": "46bce821",
   "metadata": {
    "papermill": {
     "duration": 0.003358,
     "end_time": "2025-05-01T09:05:41.537056",
     "exception": false,
     "start_time": "2025-05-01T09:05:41.533698",
     "status": "completed"
    },
    "tags": []
   },
   "source": [
    "## DuckDB Notebook\n",
    "\n",
    "This notebook generates a bunch of raw outputs, without applying PAC, to be consumed by a second stage."
   ]
  },
  {
   "cell_type": "markdown",
   "id": "93e57015",
   "metadata": {
    "papermill": {
     "duration": 0.002703,
     "end_time": "2025-05-01T09:05:41.542100",
     "exception": false,
     "start_time": "2025-05-01T09:05:41.539397",
     "status": "completed"
    },
    "tags": []
   },
   "source": [
    "```\n",
    " group by              output cols                        \n",
    " key cols ┌────────┬────────┬────────┬────────┐           \n",
    "        │ │   A    │   B    │   C    │   D    │           \n",
    "      ┌─▼─┼────────┼────────┼────────┼────────┤           \n",
    "      │ 1 │   2    │        │        │        │           \n",
    "      ├───┼───|────┼────────┼────────┼────────┤           \n",
    "      │ 2 │   │    │        │        │        │           \n",
    "      ├───┼───┼────┼────────┼────────┼────────┤           \n",
    "      │ 3 │   │    │        │        │        │           \n",
    "      └───┴───┼────┴────────┴────────┴────────┘           \n",
    "              ▼                 A_1.json                  \n",
    "       Sample 0:   A1=2        ┌─────────────────────────┐\n",
    "       Sample 1:   A1=4  ───▶  │{                        │\n",
    "             ...               │    col: A               │\n",
    "       Sample 999: A1=3        │    row: 1               │\n",
    "                               │    value: [2, 4, ... 3] │\n",
    "                               │}                        │\n",
    "                               └─────────────────────────┘\n",
    "```"
   ]
  },
  {
   "cell_type": "code",
   "execution_count": 1,
   "id": "a9ba718f",
   "metadata": {
    "execution": {
     "iopub.execute_input": "2025-05-01T09:05:41.547035Z",
     "iopub.status.busy": "2025-05-01T09:05:41.546728Z",
     "iopub.status.idle": "2025-05-01T09:05:41.632790Z",
     "shell.execute_reply": "2025-05-01T09:05:41.632496Z"
    },
    "papermill": {
     "duration": 0.089337,
     "end_time": "2025-05-01T09:05:41.633611",
     "exception": false,
     "start_time": "2025-05-01T09:05:41.544274",
     "status": "completed"
    },
    "tags": []
   },
   "outputs": [],
   "source": [
    "#!/usr/bin/env python\n",
    "# coding: utf-8\n",
    "\n",
    "import os\n",
    "import pickle\n",
    "import shutil\n",
    "\n",
    "import duckdb\n",
    "import polars as pl"
   ]
  },
  {
   "cell_type": "code",
   "execution_count": 2,
   "id": "62b0b8c6",
   "metadata": {
    "execution": {
     "iopub.execute_input": "2025-05-01T09:05:41.636691Z",
     "iopub.status.busy": "2025-05-01T09:05:41.636573Z",
     "iopub.status.idle": "2025-05-01T09:05:41.639231Z",
     "shell.execute_reply": "2025-05-01T09:05:41.639010Z"
    },
    "papermill": {
     "duration": 0.004812,
     "end_time": "2025-05-01T09:05:41.639846",
     "exception": false,
     "start_time": "2025-05-01T09:05:41.635034",
     "status": "completed"
    },
    "tags": [
     "parameters"
    ]
   },
   "outputs": [],
   "source": [
    "EXPERIMENT = \"pac-duckdb-q1\"\n",
    "OUTPUT_DIR = f\"./outputs/{EXPERIMENT}-step1\"\n",
    "SAMPLES = 1024\n",
    "\n",
    "SAMPLE_STEP = f\"\"\"\n",
    "DROP TABLE IF EXISTS random_samples;\n",
    "\n",
    "CREATE TABLE random_samples AS\n",
    "WITH sample_numbers AS MATERIALIZED (\n",
    "    SELECT range AS sample_id FROM range({SAMPLES//2})\n",
    "), random_values AS MATERIALIZED (\n",
    "    SELECT \n",
    "        sample_numbers.sample_id,\n",
    "        customer.rowid AS row_id,\n",
    "        (RANDOM() > 0.5)::BOOLEAN AS random_binary\n",
    "    FROM sample_numbers\n",
    "    JOIN customer ON TRUE  -- Cross join to duplicate rows for each sample\n",
    ")\n",
    "SELECT\n",
    "    sample_id,\n",
    "    row_id,\n",
    "    random_binary\n",
    "FROM random_values\n",
    "UNION ALL\n",
    "SELECT -- select the complementary samples too\n",
    "    ({SAMPLES//2}) + sample_id,\n",
    "    row_id,\n",
    "    NOT random_binary  -- Inverse the random_binary to get the complementary sample\n",
    "FROM random_values\n",
    "ORDER BY sample_id, row_id;\n",
    "\"\"\"\n",
    "\n",
    "PREPARE_STEP = \"\"\"\n",
    "DEALLOCATE PREPARE run_query;\n",
    "\n",
    "PREPARE run_query AS \n",
    "SELECT\n",
    "    l_returnflag,\n",
    "    l_linestatus,\n",
    "    2*sum(l_quantity) AS sum_qty,\n",
    "    2*sum(l_extendedprice) AS sum_base_price,\n",
    "    2*sum(l_extendedprice * (1 - l_discount)) AS sum_disc_price,\n",
    "    2*sum(l_extendedprice * (1 - l_discount) * (1 + l_tax)) AS sum_charge,\n",
    "    avg(l_quantity) AS avg_qty,\n",
    "    avg(l_extendedprice) AS avg_price,\n",
    "    avg(l_discount) AS avg_disc,\n",
    "    2*count(*) AS count_order\n",
    "FROM\n",
    "    lineitem\n",
    "JOIN orders ON lineitem.l_orderkey = orders.o_orderkey\n",
    "JOIN customer ON orders.o_custkey = customer.c_custkey\n",
    "JOIN random_samples AS rs\n",
    "    ON rs.row_id = customer.rowid\n",
    "WHERE\n",
    "    l_shipdate <= CAST('1998-09-02' AS date)\n",
    "    AND rs.random_binary = TRUE\n",
    "    AND rs.sample_id = $sample\n",
    "GROUP BY\n",
    "    l_returnflag,\n",
    "    l_linestatus\n",
    "ORDER BY\n",
    "    l_returnflag,\n",
    "    l_linestatus;\n",
    "\"\"\"\n",
    "\n",
    "INDEX_COLS = ['l_returnflag', 'l_linestatus']\n",
    "OUTPUT_COLS = ['sum_qty', 'sum_base_price', 'sum_disc_price', 'sum_charge', 'avg_qty', 'avg_price', 'avg_disc', 'count_order']"
   ]
  },
  {
   "cell_type": "code",
   "execution_count": 3,
   "id": "00bc14d8",
   "metadata": {
    "execution": {
     "iopub.execute_input": "2025-05-01T09:05:41.642924Z",
     "iopub.status.busy": "2025-05-01T09:05:41.642826Z",
     "iopub.status.idle": "2025-05-01T09:05:41.644890Z",
     "shell.execute_reply": "2025-05-01T09:05:41.644667Z"
    },
    "papermill": {
     "duration": 0.004383,
     "end_time": "2025-05-01T09:05:41.645692",
     "exception": false,
     "start_time": "2025-05-01T09:05:41.641309",
     "status": "completed"
    },
    "tags": [
     "injected-parameters"
    ]
   },
   "outputs": [],
   "source": [
    "# Parameters\n",
    "EXPERIMENT = \"ap-duckdb-q12-customer\"\n",
    "OUTPUT_DIR = \"./outputs/ap-duckdb-q12-customer-step1\"\n",
    "SAMPLES = 1024\n",
    "SAMPLE_STEP = \"DROP TABLE IF EXISTS random_samples;\\n\\nCREATE TABLE random_samples AS\\nWITH sample_numbers AS MATERIALIZED (\\n    SELECT range AS sample_id FROM range(1024 // 2)\\n), random_values AS MATERIALIZED (\\n    SELECT \\n        sample_numbers.sample_id,\\n        customer.rowid AS row_id,\\n        (RANDOM() > 0.5)::BOOLEAN AS random_binary\\n    FROM sample_numbers\\n    JOIN customer ON TRUE  -- Cross join to duplicate rows for each sample\\n)\\nSELECT\\n    sample_id,\\n    row_id,\\n    random_binary\\nFROM random_values\\nUNION ALL\\nSELECT -- select the complementary samples too\\n    (1024 // 2) + sample_id,\\n    row_id,\\n    NOT random_binary  -- Inverse the random_binary to get the complementary sample\\nFROM random_values\\nORDER BY sample_id, row_id;\"\n",
    "PREPARE_STEP = \"DEALLOCATE PREPARE run_query;\\n\\nPREPARE run_query AS \\nSELECT\\n    l_shipmode,\\n    sum(\\n        CASE WHEN o_orderpriority = '1-URGENT'\\n            OR o_orderpriority = '2-HIGH' THEN\\n            1\\n        ELSE\\n            0\\n        END) AS high_line_count,\\n    sum(\\n        CASE WHEN o_orderpriority <> '1-URGENT'\\n            AND o_orderpriority <> '2-HIGH' THEN\\n            1\\n        ELSE\\n            0\\n        END) AS low_line_count\\nFROM\\n    orders,\\n    lineitem,\\n    customer,\\n    random_samples AS rs\\nWHERE\\n    rs.row_id = customer.rowid\\n    AND rs.random_binary = TRUE\\n    AND rs.sample_id = $sample\\n    AND o_custkey = c_custkey\\n    AND o_orderkey = l_orderkey\\n    AND l_shipmode IN ('MAIL', 'SHIP')\\n    AND l_commitdate < l_receiptdate\\n    AND l_shipdate < l_commitdate\\n    AND l_receiptdate >= CAST('1994-01-01' AS date)\\n    AND l_receiptdate < CAST('1995-01-01' AS date)\\nGROUP BY\\n    l_shipmode\\nORDER BY\\n    l_shipmode;\"\n",
    "INDEX_COLS = [\"l_shipmode\"]\n",
    "OUTPUT_COLS = [\"high_line_count\", \"low_line_count\"]\n"
   ]
  },
  {
   "cell_type": "code",
   "execution_count": 4,
   "id": "47c9bfaa",
   "metadata": {
    "execution": {
     "iopub.execute_input": "2025-05-01T09:05:41.648996Z",
     "iopub.status.busy": "2025-05-01T09:05:41.648891Z",
     "iopub.status.idle": "2025-05-01T09:05:41.650522Z",
     "shell.execute_reply": "2025-05-01T09:05:41.650321Z"
    },
    "papermill": {
     "duration": 0.004055,
     "end_time": "2025-05-01T09:05:41.651148",
     "exception": false,
     "start_time": "2025-05-01T09:05:41.647093",
     "status": "completed"
    },
    "tags": []
   },
   "outputs": [],
   "source": [
    "if not os.path.exists(OUTPUT_DIR):\n",
    "    os.makedirs(OUTPUT_DIR)"
   ]
  },
  {
   "cell_type": "code",
   "execution_count": 5,
   "id": "5424d193",
   "metadata": {
    "execution": {
     "iopub.execute_input": "2025-05-01T09:05:41.654193Z",
     "iopub.status.busy": "2025-05-01T09:05:41.654079Z",
     "iopub.status.idle": "2025-05-01T09:05:41.973862Z",
     "shell.execute_reply": "2025-05-01T09:05:41.973558Z"
    },
    "papermill": {
     "duration": 0.322297,
     "end_time": "2025-05-01T09:05:41.974673",
     "exception": false,
     "start_time": "2025-05-01T09:05:41.652376",
     "status": "completed"
    },
    "tags": []
   },
   "outputs": [],
   "source": [
    "# duckdb load data/tpch/tpch.duckdb into the temporary in-memory database\n",
    "con = duckdb.connect(database=':memory:')\n",
    "tables = [\"customer\", \"lineitem\", \"nation\", \"orders\", \"part\", \"partsupp\", \"region\", \"supplier\"]\n",
    "for t in tables:\n",
    "    con.execute(f\"CREATE TABLE {t} AS SELECT * FROM 'data/tpch/{t}.parquet'\")"
   ]
  },
  {
   "cell_type": "code",
   "execution_count": 6,
   "id": "41213d3b",
   "metadata": {
    "execution": {
     "iopub.execute_input": "2025-05-01T09:05:41.978041Z",
     "iopub.status.busy": "2025-05-01T09:05:41.977906Z",
     "iopub.status.idle": "2025-05-01T09:05:42.982340Z",
     "shell.execute_reply": "2025-05-01T09:05:42.982072Z"
    },
    "papermill": {
     "duration": 1.006873,
     "end_time": "2025-05-01T09:05:42.983131",
     "exception": false,
     "start_time": "2025-05-01T09:05:41.976258",
     "status": "completed"
    },
    "tags": []
   },
   "outputs": [],
   "source": [
    "# Construct the table of random samples\n",
    "# to use, join it with the lineitem table (for specific sample # s) and filter to just the\n",
    "# rows where random_binary = 1.0\n",
    "# This will give us a 50% sample of the lineitem table for each sample # s\n",
    "\n",
    "assert SAMPLES % 2 == 0, \"SAMPLES must be even to create complementary samples.\"\n",
    "\n",
    "random_samples = con.execute(SAMPLE_STEP)"
   ]
  },
  {
   "cell_type": "markdown",
   "id": "4c76d785",
   "metadata": {
    "papermill": {
     "duration": 0.0013,
     "end_time": "2025-05-01T09:05:42.986063",
     "exception": false,
     "start_time": "2025-05-01T09:05:42.984763",
     "status": "completed"
    },
    "tags": []
   },
   "source": [
    "The randomness of what rows are chosen is saved to disk in `random_binary.json`. For each sample #, there is an array with one entry per row, where 1 means the row was chosen and 0 means it was not."
   ]
  },
  {
   "cell_type": "code",
   "execution_count": 7,
   "id": "3e3e1fdc",
   "metadata": {
    "execution": {
     "iopub.execute_input": "2025-05-01T09:05:42.989285Z",
     "iopub.status.busy": "2025-05-01T09:05:42.989152Z",
     "iopub.status.idle": "2025-05-01T09:05:43.332105Z",
     "shell.execute_reply": "2025-05-01T09:05:43.331788Z"
    },
    "papermill": {
     "duration": 0.345465,
     "end_time": "2025-05-01T09:05:43.332897",
     "exception": false,
     "start_time": "2025-05-01T09:05:42.987432",
     "status": "completed"
    },
    "tags": []
   },
   "outputs": [],
   "source": [
    "con.execute(\"\"\"\n",
    "SELECT sample_id, array_agg(random_binary::TINYINT) as random_binary\n",
    "FROM random_samples\n",
    "GROUP BY sample_id;\n",
    "\"\"\").pl().write_json(f\"{OUTPUT_DIR}/random_binary.json\")"
   ]
  },
  {
   "cell_type": "markdown",
   "id": "3736e4a3",
   "metadata": {
    "papermill": {
     "duration": 0.001278,
     "end_time": "2025-05-01T09:05:43.335842",
     "exception": false,
     "start_time": "2025-05-01T09:05:43.334564",
     "status": "completed"
    },
    "tags": []
   },
   "source": [
    "Query is specified as a prepared statement. We will then execute it once per sample."
   ]
  },
  {
   "cell_type": "code",
   "execution_count": 8,
   "id": "6e020853",
   "metadata": {
    "execution": {
     "iopub.execute_input": "2025-05-01T09:05:43.339039Z",
     "iopub.status.busy": "2025-05-01T09:05:43.338805Z",
     "iopub.status.idle": "2025-05-01T09:05:43.404710Z",
     "shell.execute_reply": "2025-05-01T09:05:43.404463Z"
    },
    "papermill": {
     "duration": 0.068236,
     "end_time": "2025-05-01T09:05:43.405370",
     "exception": false,
     "start_time": "2025-05-01T09:05:43.337134",
     "status": "completed"
    },
    "tags": []
   },
   "outputs": [
    {
     "data": {
      "text/html": [
       "<div><style>\n",
       ".dataframe > thead > tr,\n",
       ".dataframe > tbody > tr {\n",
       "  text-align: right;\n",
       "  white-space: pre-wrap;\n",
       "}\n",
       "</style>\n",
       "<small>shape: (2, 3)</small><table border=\"1\" class=\"dataframe\"><thead><tr><th>l_shipmode</th><th>high_line_count</th><th>low_line_count</th></tr><tr><td>str</td><td>decimal[38,0]</td><td>decimal[38,0]</td></tr></thead><tbody><tr><td>&quot;MAIL&quot;</td><td>330</td><td>474</td></tr><tr><td>&quot;SHIP&quot;</td><td>311</td><td>475</td></tr></tbody></table></div>"
      ],
      "text/plain": [
       "shape: (2, 3)\n",
       "┌────────────┬─────────────────┬────────────────┐\n",
       "│ l_shipmode ┆ high_line_count ┆ low_line_count │\n",
       "│ ---        ┆ ---             ┆ ---            │\n",
       "│ str        ┆ decimal[38,0]   ┆ decimal[38,0]  │\n",
       "╞════════════╪═════════════════╪════════════════╡\n",
       "│ MAIL       ┆ 330             ┆ 474            │\n",
       "│ SHIP       ┆ 311             ┆ 475            │\n",
       "└────────────┴─────────────────┴────────────────┘"
      ]
     },
     "execution_count": 8,
     "metadata": {},
     "output_type": "execute_result"
    }
   ],
   "source": [
    "# Query\n",
    "con.execute(PREPARE_STEP)\n",
    "\n",
    "# Run query to see output\n",
    "dfs0 = con.execute(f\"EXECUTE run_query(sample := {0});\").pl()\n",
    "\n",
    "# Save csv copies of the first 5 samples\n",
    "os.makedirs(f\"{OUTPUT_DIR}/csv\", exist_ok=True)\n",
    "for s in range(5):\n",
    "    con.execute(f\"EXECUTE run_query(sample := {s});\").pl().write_csv(f\"{OUTPUT_DIR}/csv/sample_{s}.csv\")\n",
    "\n",
    "dfs0"
   ]
  },
  {
   "cell_type": "code",
   "execution_count": 9,
   "id": "d0c8dceb",
   "metadata": {
    "execution": {
     "iopub.execute_input": "2025-05-01T09:05:43.408523Z",
     "iopub.status.busy": "2025-05-01T09:05:43.408430Z",
     "iopub.status.idle": "2025-05-01T09:05:51.871538Z",
     "shell.execute_reply": "2025-05-01T09:05:51.871281Z"
    },
    "papermill": {
     "duration": 8.46545,
     "end_time": "2025-05-01T09:05:51.872292",
     "exception": false,
     "start_time": "2025-05-01T09:05:43.406842",
     "status": "completed"
    },
    "tags": []
   },
   "outputs": [
    {
     "data": {
      "text/html": [
       "<div><style>\n",
       ".dataframe > thead > tr,\n",
       ".dataframe > tbody > tr {\n",
       "  text-align: right;\n",
       "  white-space: pre-wrap;\n",
       "}\n",
       "</style>\n",
       "<small>shape: (2_048, 4)</small><table border=\"1\" class=\"dataframe\"><thead><tr><th>sample</th><th>l_shipmode</th><th>high_line_count</th><th>low_line_count</th></tr><tr><td>i32</td><td>str</td><td>decimal[38,0]</td><td>decimal[38,0]</td></tr></thead><tbody><tr><td>0</td><td>&quot;MAIL&quot;</td><td>330</td><td>474</td></tr><tr><td>0</td><td>&quot;SHIP&quot;</td><td>311</td><td>475</td></tr><tr><td>1</td><td>&quot;MAIL&quot;</td><td>335</td><td>466</td></tr><tr><td>1</td><td>&quot;SHIP&quot;</td><td>328</td><td>505</td></tr><tr><td>2</td><td>&quot;MAIL&quot;</td><td>310</td><td>496</td></tr><tr><td>&hellip;</td><td>&hellip;</td><td>&hellip;</td><td>&hellip;</td></tr><tr><td>1021</td><td>&quot;SHIP&quot;</td><td>316</td><td>461</td></tr><tr><td>1022</td><td>&quot;MAIL&quot;</td><td>349</td><td>473</td></tr><tr><td>1022</td><td>&quot;SHIP&quot;</td><td>320</td><td>472</td></tr><tr><td>1023</td><td>&quot;MAIL&quot;</td><td>317</td><td>464</td></tr><tr><td>1023</td><td>&quot;SHIP&quot;</td><td>308</td><td>457</td></tr></tbody></table></div>"
      ],
      "text/plain": [
       "shape: (2_048, 4)\n",
       "┌────────┬────────────┬─────────────────┬────────────────┐\n",
       "│ sample ┆ l_shipmode ┆ high_line_count ┆ low_line_count │\n",
       "│ ---    ┆ ---        ┆ ---             ┆ ---            │\n",
       "│ i32    ┆ str        ┆ decimal[38,0]   ┆ decimal[38,0]  │\n",
       "╞════════╪════════════╪═════════════════╪════════════════╡\n",
       "│ 0      ┆ MAIL       ┆ 330             ┆ 474            │\n",
       "│ 0      ┆ SHIP       ┆ 311             ┆ 475            │\n",
       "│ 1      ┆ MAIL       ┆ 335             ┆ 466            │\n",
       "│ 1      ┆ SHIP       ┆ 328             ┆ 505            │\n",
       "│ 2      ┆ MAIL       ┆ 310             ┆ 496            │\n",
       "│ …      ┆ …          ┆ …               ┆ …              │\n",
       "│ 1021   ┆ SHIP       ┆ 316             ┆ 461            │\n",
       "│ 1022   ┆ MAIL       ┆ 349             ┆ 473            │\n",
       "│ 1022   ┆ SHIP       ┆ 320             ┆ 472            │\n",
       "│ 1023   ┆ MAIL       ┆ 317             ┆ 464            │\n",
       "│ 1023   ┆ SHIP       ┆ 308             ┆ 457            │\n",
       "└────────┴────────────┴─────────────────┴────────────────┘"
      ]
     },
     "execution_count": 9,
     "metadata": {},
     "output_type": "execute_result"
    }
   ],
   "source": [
    "# Run the query for each sample, but accumulate in a pl.DataFrame instead of a list\n",
    "dfsdf: pl.DataFrame = pl.concat(\n",
    "    con.execute(f\"EXECUTE run_query(sample := {s});\").pl().insert_column(0, pl.lit(s).alias(\"sample\"))\n",
    "    for s in range(SAMPLES)\n",
    ")\n",
    "dfsdf"
   ]
  },
  {
   "cell_type": "code",
   "execution_count": 10,
   "id": "58cb7562",
   "metadata": {
    "execution": {
     "iopub.execute_input": "2025-05-01T09:05:51.876043Z",
     "iopub.status.busy": "2025-05-01T09:05:51.875938Z",
     "iopub.status.idle": "2025-05-01T09:05:51.878132Z",
     "shell.execute_reply": "2025-05-01T09:05:51.877921Z"
    },
    "papermill": {
     "duration": 0.004609,
     "end_time": "2025-05-01T09:05:51.878778",
     "exception": false,
     "start_time": "2025-05-01T09:05:51.874169",
     "status": "completed"
    },
    "tags": []
   },
   "outputs": [],
   "source": [
    "# Define which columns are the group-by keys (INDEX_COLS) and which are the output columns (OUTPUT_COLS)\n",
    "# - moved to parameters cell at top of notebook\n",
    "\n",
    "# Save these to disk for later use\n",
    "with open(f\"{OUTPUT_DIR}/INDEX_COLS.pkl\", 'wb') as f:\n",
    "    pickle.dump(INDEX_COLS, f)\n",
    "with open(f\"{OUTPUT_DIR}/OUTPUT_COLS.pkl\", 'wb') as f:\n",
    "    pickle.dump(OUTPUT_COLS, f)"
   ]
  },
  {
   "cell_type": "code",
   "execution_count": 11,
   "id": "941caf6f",
   "metadata": {
    "execution": {
     "iopub.execute_input": "2025-05-01T09:05:51.882441Z",
     "iopub.status.busy": "2025-05-01T09:05:51.882329Z",
     "iopub.status.idle": "2025-05-01T09:05:51.886566Z",
     "shell.execute_reply": "2025-05-01T09:05:51.886329Z"
    },
    "papermill": {
     "duration": 0.007005,
     "end_time": "2025-05-01T09:05:51.887237",
     "exception": false,
     "start_time": "2025-05-01T09:05:51.880232",
     "status": "completed"
    },
    "tags": []
   },
   "outputs": [
    {
     "data": {
      "text/html": [
       "<div><style>\n",
       ".dataframe > thead > tr,\n",
       ".dataframe > tbody > tr {\n",
       "  text-align: right;\n",
       "  white-space: pre-wrap;\n",
       "}\n",
       "</style>\n",
       "<small>shape: (2, 3)</small><table border=\"1\" class=\"dataframe\"><thead><tr><th>l_shipmode</th><th>high_line_count</th><th>low_line_count</th></tr><tr><td>str</td><td>list[decimal[38,0]]</td><td>list[decimal[38,0]]</td></tr></thead><tbody><tr><td>&quot;MAIL&quot;</td><td>[330, 335, … 317]</td><td>[474, 466, … 464]</td></tr><tr><td>&quot;SHIP&quot;</td><td>[311, 328, … 308]</td><td>[475, 505, … 457]</td></tr></tbody></table></div>"
      ],
      "text/plain": [
       "shape: (2, 3)\n",
       "┌────────────┬─────────────────────┬─────────────────────┐\n",
       "│ l_shipmode ┆ high_line_count     ┆ low_line_count      │\n",
       "│ ---        ┆ ---                 ┆ ---                 │\n",
       "│ str        ┆ list[decimal[38,0]] ┆ list[decimal[38,0]] │\n",
       "╞════════════╪═════════════════════╪═════════════════════╡\n",
       "│ MAIL       ┆ [330, 335, … 317]   ┆ [474, 466, … 464]   │\n",
       "│ SHIP       ┆ [311, 328, … 308]   ┆ [475, 505, … 457]   │\n",
       "└────────────┴─────────────────────┴─────────────────────┘"
      ]
     },
     "execution_count": 11,
     "metadata": {},
     "output_type": "execute_result"
    }
   ],
   "source": [
    "# Combine all the samples into one table, grouped-by the group-by keys. Each cell contains an n <= # of samples length array of values.\n",
    "listdf = dfsdf.drop(\"sample\").group_by(INDEX_COLS or pl.lit(0).alias(\"\"), maintain_order=True).all()\n",
    "listdf"
   ]
  },
  {
   "cell_type": "code",
   "execution_count": 12,
   "id": "d429a673",
   "metadata": {
    "execution": {
     "iopub.execute_input": "2025-05-01T09:05:51.890932Z",
     "iopub.status.busy": "2025-05-01T09:05:51.890832Z",
     "iopub.status.idle": "2025-05-01T09:05:51.893081Z",
     "shell.execute_reply": "2025-05-01T09:05:51.892833Z"
    },
    "papermill": {
     "duration": 0.004693,
     "end_time": "2025-05-01T09:05:51.893700",
     "exception": false,
     "start_time": "2025-05-01T09:05:51.889007",
     "status": "completed"
    },
    "tags": []
   },
   "outputs": [
    {
     "data": {
      "text/plain": [
       "[{'l_shipmode': 'MAIL'}, {'l_shipmode': 'SHIP'}]"
      ]
     },
     "execution_count": 12,
     "metadata": {},
     "output_type": "execute_result"
    }
   ],
   "source": [
    "# What are all the possible group-by key combinations?\n",
    "allgroups: pl.DataFrame = listdf.select(INDEX_COLS or pl.lit(0).alias(\"\"))\n",
    "allgroups.to_dicts()"
   ]
  },
  {
   "cell_type": "code",
   "execution_count": 13,
   "id": "44c9b69a",
   "metadata": {
    "execution": {
     "iopub.execute_input": "2025-05-01T09:05:51.897195Z",
     "iopub.status.busy": "2025-05-01T09:05:51.897107Z",
     "iopub.status.idle": "2025-05-01T09:05:51.902418Z",
     "shell.execute_reply": "2025-05-01T09:05:51.902157Z"
    },
    "papermill": {
     "duration": 0.007951,
     "end_time": "2025-05-01T09:05:51.903276",
     "exception": false,
     "start_time": "2025-05-01T09:05:51.895325",
     "status": "completed"
    },
    "tags": []
   },
   "outputs": [],
   "source": [
    "# Template for the final output, including all possible group-by groups\n",
    "# Obtained by collecting all the samples in a big table and then keeping only the first occurrence of each groupby key.\n",
    "# Then, fill all OUTPUT_COLS with nulls\n",
    "templatedf = dfsdf.drop(\"sample\").group_by(INDEX_COLS or pl.lit(0).alias(\"\"), maintain_order=True).first()\n",
    "templatedf = templatedf.clear(n=len(allgroups)).with_columns(allgroups)\n",
    "templatedf\n",
    "\n",
    "with open(f\"{OUTPUT_DIR}/template.pkl\", \"wb\") as f:\n",
    "    pickle.dump(templatedf, f)"
   ]
  },
  {
   "cell_type": "code",
   "execution_count": 14,
   "id": "2f8cd7e5",
   "metadata": {
    "execution": {
     "iopub.execute_input": "2025-05-01T09:05:51.907075Z",
     "iopub.status.busy": "2025-05-01T09:05:51.906896Z",
     "iopub.status.idle": "2025-05-01T09:05:51.911648Z",
     "shell.execute_reply": "2025-05-01T09:05:51.911427Z"
    },
    "papermill": {
     "duration": 0.007255,
     "end_time": "2025-05-01T09:05:51.912295",
     "exception": false,
     "start_time": "2025-05-01T09:05:51.905040",
     "status": "completed"
    },
    "tags": []
   },
   "outputs": [],
   "source": [
    "# Write all table entries in the output table to their own JSON files. Each file has a number, the information of which file corresponds to which table entry\n",
    "# is stored in reverse_map.json (as well as in the files themselves)\n",
    "os.makedirs(f\"{OUTPUT_DIR}/json\", exist_ok=True)\n",
    "i: int = 0\n",
    "for col in OUTPUT_COLS:\n",
    "    for group in allgroups.iter_rows(named=True):\n",
    "        values = listdf.filter(pl.col(k).eq(v) for k, v in group.items()).select(col).to_series()\n",
    "        j = pl.DataFrame().with_columns([\n",
    "            pl.lit(col).alias(\"col\"),\n",
    "            pl.lit(group).alias(\"row\"),\n",
    "            pl.lit(values.explode().dtype.__repr__()).alias(\"dtype\"),\n",
    "            values.alias(\"values\"),\n",
    "        ])\n",
    "        j.write_json(f\"{OUTPUT_DIR}/json/{i}.json\")\n",
    "        i+=1"
   ]
  },
  {
   "cell_type": "code",
   "execution_count": 15,
   "id": "db659f77",
   "metadata": {
    "execution": {
     "iopub.execute_input": "2025-05-01T09:05:51.916054Z",
     "iopub.status.busy": "2025-05-01T09:05:51.915940Z",
     "iopub.status.idle": "2025-05-01T09:05:53.991855Z",
     "shell.execute_reply": "2025-05-01T09:05:53.991594Z"
    },
    "papermill": {
     "duration": 2.078546,
     "end_time": "2025-05-01T09:05:53.992522",
     "exception": false,
     "start_time": "2025-05-01T09:05:51.913976",
     "status": "completed"
    },
    "tags": []
   },
   "outputs": [
    {
     "data": {
      "text/plain": [
       "'/Users/michael/projects/dpdb/pacdb/outputs/ap-duckdb-q12-customer-step1.zip'"
      ]
     },
     "execution_count": 15,
     "metadata": {},
     "output_type": "execute_result"
    }
   ],
   "source": [
    "# zip the OUTPUT_DIR\n",
    "shutil.make_archive(OUTPUT_DIR, 'zip', OUTPUT_DIR)"
   ]
  }
 ],
 "metadata": {
  "kernelspec": {
   "display_name": ".venv",
   "language": "python",
   "name": "python3"
  },
  "language_info": {
   "codemirror_mode": {
    "name": "ipython",
    "version": 3
   },
   "file_extension": ".py",
   "mimetype": "text/x-python",
   "name": "python",
   "nbconvert_exporter": "python",
   "pygments_lexer": "ipython3",
   "version": "3.11.7"
  },
  "papermill": {
   "default_parameters": {},
   "duration": 13.281503,
   "end_time": "2025-05-01T09:05:54.311957",
   "environment_variables": {},
   "exception": null,
   "input_path": "autopac-duckdb-step1.ipynb",
   "output_path": "./ap-duckdb-q12-customer-step1.ipynb",
   "parameters": {
    "EXPERIMENT": "ap-duckdb-q12-customer",
    "INDEX_COLS": [
     "l_shipmode"
    ],
    "OUTPUT_COLS": [
     "high_line_count",
     "low_line_count"
    ],
    "OUTPUT_DIR": "./outputs/ap-duckdb-q12-customer-step1",
    "PREPARE_STEP": "DEALLOCATE PREPARE run_query;\n\nPREPARE run_query AS \nSELECT\n    l_shipmode,\n    sum(\n        CASE WHEN o_orderpriority = '1-URGENT'\n            OR o_orderpriority = '2-HIGH' THEN\n            1\n        ELSE\n            0\n        END) AS high_line_count,\n    sum(\n        CASE WHEN o_orderpriority <> '1-URGENT'\n            AND o_orderpriority <> '2-HIGH' THEN\n            1\n        ELSE\n            0\n        END) AS low_line_count\nFROM\n    orders,\n    lineitem,\n    customer,\n    random_samples AS rs\nWHERE\n    rs.row_id = customer.rowid\n    AND rs.random_binary = TRUE\n    AND rs.sample_id = $sample\n    AND o_custkey = c_custkey\n    AND o_orderkey = l_orderkey\n    AND l_shipmode IN ('MAIL', 'SHIP')\n    AND l_commitdate < l_receiptdate\n    AND l_shipdate < l_commitdate\n    AND l_receiptdate >= CAST('1994-01-01' AS date)\n    AND l_receiptdate < CAST('1995-01-01' AS date)\nGROUP BY\n    l_shipmode\nORDER BY\n    l_shipmode;",
    "SAMPLES": 1024,
    "SAMPLE_STEP": "DROP TABLE IF EXISTS random_samples;\n\nCREATE TABLE random_samples AS\nWITH sample_numbers AS MATERIALIZED (\n    SELECT range AS sample_id FROM range(1024 // 2)\n), random_values AS MATERIALIZED (\n    SELECT \n        sample_numbers.sample_id,\n        customer.rowid AS row_id,\n        (RANDOM() > 0.5)::BOOLEAN AS random_binary\n    FROM sample_numbers\n    JOIN customer ON TRUE  -- Cross join to duplicate rows for each sample\n)\nSELECT\n    sample_id,\n    row_id,\n    random_binary\nFROM random_values\nUNION ALL\nSELECT -- select the complementary samples too\n    (1024 // 2) + sample_id,\n    row_id,\n    NOT random_binary  -- Inverse the random_binary to get the complementary sample\nFROM random_values\nORDER BY sample_id, row_id;"
   },
   "start_time": "2025-05-01T09:05:41.030454",
   "version": "2.6.0"
  }
 },
 "nbformat": 4,
 "nbformat_minor": 5
}