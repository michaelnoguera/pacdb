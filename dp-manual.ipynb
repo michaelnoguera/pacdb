{
 "cells": [
  {
   "cell_type": "markdown",
   "metadata": {},
   "source": [
    "### Setup"
   ]
  },
  {
   "cell_type": "code",
   "execution_count": 1,
   "metadata": {},
   "outputs": [],
   "source": [
    "# import parquet files as dataframes\n",
    "import pandas as pd\n",
    "import pyarrow.parquet as pq\n",
    "import os\n",
    "import sys\n",
    "import numpy as np"
   ]
  },
  {
   "cell_type": "code",
   "execution_count": 2,
   "metadata": {},
   "outputs": [],
   "source": [
    "### Mayuri's conversion functions between DP epsilon and PAC MI using posterior advantage for equivalence\n",
    "def calc_posterior(mi, prior=0.5, prec = 100000):\n",
    "    test_vals = [x / prec for x in range(1, prec)]\n",
    "    max_t = None\n",
    "    for t in test_vals:\n",
    "        if t*np.log(t/prior)+(1-t)*np.log((1-t)/(1-prior)) <= mi:\n",
    "            if  max_t is None or t > max_t:\n",
    "                max_t = t\n",
    "    return max_t\n",
    "\n",
    "def dp_epsilon_to_posterior_success(epsilon):\n",
    "    return 1 - 1./(1+np.exp(epsilon))\n",
    "\n",
    "def dp_ps_to_epsilon(ps):\n",
    "    return np.log(ps / (1-ps))\n",
    "\n",
    "# example usage:\n",
    "# dp_ps_to_epsilon(calc_posterior(1/256.))"
   ]
  },
  {
   "cell_type": "code",
   "execution_count": 3,
   "metadata": {},
   "outputs": [
    {
     "name": "stdout",
     "output_type": "stream",
     "text": [
      "GENERATE = True, so we will generate new samples.\n"
     ]
    }
   ],
   "source": [
    "EXPERIMENT = 'dp-student_performance'\n",
    "OUTPUT_DIR = f'./outputs/{EXPERIMENT}'\n",
    "GENERATE = True\n",
    "\n",
    "if GENERATE:\n",
    "    print(\"GENERATE = True, so we will generate new samples.\")\n",
    "else:\n",
    "    print(\"GENERATE = False, so we will load saved output from files rather than recomputing.\")\n",
    "\n",
    "import os\n",
    "if not os.path.exists(OUTPUT_DIR):\n",
    "    os.makedirs(OUTPUT_DIR)"
   ]
  },
  {
   "cell_type": "code",
   "execution_count": 4,
   "metadata": {},
   "outputs": [
    {
     "data": {
      "text/plain": [
       "(649, 33)"
      ]
     },
     "execution_count": 4,
     "metadata": {},
     "output_type": "execute_result"
    }
   ],
   "source": [
    "### Data Setup\n",
    "por_df = pq.read_table(f\"./data/student_performance/student-por.parquet\").to_pandas()\n",
    "por_df.shape"
   ]
  },
  {
   "cell_type": "code",
   "execution_count": 5,
   "metadata": {},
   "outputs": [
    {
     "data": {
      "text/plain": [
       "array([ 649.        , 2375.        ,    3.65947612])"
      ]
     },
     "execution_count": 5,
     "metadata": {},
     "output_type": "execute_result"
    }
   ],
   "source": [
    "true_result = por_df['absences'].agg(['count', 'sum', 'mean']).to_numpy() # Save the true result of the query for later\n",
    "true_result"
   ]
  },
  {
   "cell_type": "code",
   "execution_count": 6,
   "metadata": {},
   "outputs": [],
   "source": [
    "### Manually input DP sensitivity per query\n",
    "max_absences = np.max(por_df['absences'])\n",
    "min_absences = np.min(por_df['absences'])\n",
    "n = por_df.shape[0] # 649 rows\n",
    "\n",
    "sensitivity = {\n",
    "    'count': 1,\n",
    "    'mean': (max_absences - min_absences) / n  # global sensitivity\n",
    "}"
   ]
  },
  {
   "cell_type": "code",
   "execution_count": 12,
   "metadata": {},
   "outputs": [
    {
     "data": {
      "text/html": [
       "<div>\n",
       "<style scoped>\n",
       "    .dataframe tbody tr th:only-of-type {\n",
       "        vertical-align: middle;\n",
       "    }\n",
       "\n",
       "    .dataframe tbody tr th {\n",
       "        vertical-align: top;\n",
       "    }\n",
       "\n",
       "    .dataframe thead th {\n",
       "        text-align: right;\n",
       "    }\n",
       "</style>\n",
       "<table border=\"1\" class=\"dataframe\">\n",
       "  <thead>\n",
       "    <tr style=\"text-align: right;\">\n",
       "      <th></th>\n",
       "      <th>eps</th>\n",
       "      <th>mi</th>\n",
       "      <th>count</th>\n",
       "      <th>sum</th>\n",
       "      <th>mean</th>\n",
       "    </tr>\n",
       "  </thead>\n",
       "  <tbody>\n",
       "    <tr>\n",
       "      <th>0</th>\n",
       "      <td>11.512915</td>\n",
       "      <td>16.0</td>\n",
       "      <td>649.076103</td>\n",
       "      <td>2379.751741</td>\n",
       "      <td>3.666368</td>\n",
       "    </tr>\n",
       "    <tr>\n",
       "      <th>1</th>\n",
       "      <td>11.512915</td>\n",
       "      <td>16.0</td>\n",
       "      <td>648.930240</td>\n",
       "      <td>2374.700793</td>\n",
       "      <td>3.659408</td>\n",
       "    </tr>\n",
       "    <tr>\n",
       "      <th>2</th>\n",
       "      <td>11.512915</td>\n",
       "      <td>16.0</td>\n",
       "      <td>648.988753</td>\n",
       "      <td>2375.919468</td>\n",
       "      <td>3.660956</td>\n",
       "    </tr>\n",
       "    <tr>\n",
       "      <th>3</th>\n",
       "      <td>11.512915</td>\n",
       "      <td>16.0</td>\n",
       "      <td>649.105309</td>\n",
       "      <td>2379.460371</td>\n",
       "      <td>3.665754</td>\n",
       "    </tr>\n",
       "    <tr>\n",
       "      <th>4</th>\n",
       "      <td>11.512915</td>\n",
       "      <td>16.0</td>\n",
       "      <td>649.019945</td>\n",
       "      <td>2375.712173</td>\n",
       "      <td>3.660461</td>\n",
       "    </tr>\n",
       "  </tbody>\n",
       "</table>\n",
       "</div>"
      ],
      "text/plain": [
       "         eps    mi       count          sum      mean\n",
       "0  11.512915  16.0  649.076103  2379.751741  3.666368\n",
       "1  11.512915  16.0  648.930240  2374.700793  3.659408\n",
       "2  11.512915  16.0  648.988753  2375.919468  3.660956\n",
       "3  11.512915  16.0  649.105309  2379.460371  3.665754\n",
       "4  11.512915  16.0  649.019945  2375.712173  3.660461"
      ]
     },
     "execution_count": 12,
     "metadata": {},
     "output_type": "execute_result"
    }
   ],
   "source": [
    "### Run trials of DP\n",
    "MI_OPTIONS = [16., 4., 2., 1., 1/4, 1/16, 1/32, 1/64]\n",
    "EPS_OPTIONS = [dp_ps_to_epsilon(calc_posterior(mi)) for mi in MI_OPTIONS]\n",
    "EXPERIMENTS = 100\n",
    "\n",
    "OUTPUT_COLS = ['count', 'sum', 'mean']\n",
    "\n",
    "# temp\n",
    "mi_list = MI_OPTIONS\n",
    "eps_list = EPS_OPTIONS\n",
    "\n",
    "if GENERATE:\n",
    "    experiment_results = []\n",
    "\n",
    "    for mi, eps in zip(MI_OPTIONS, EPS_OPTIONS):\n",
    "        for e in range(EXPERIMENTS):\n",
    "            sample = true_result  # count, sum, mean\n",
    "\n",
    "            # count\n",
    "            true_count = sample[0]\n",
    "            scale = sensitivity['count'] / eps  # Scale parameter for Laplace noise\n",
    "            noise = np.random.laplace(loc=0, scale=scale)\n",
    "            count_result = true_count + noise\n",
    "\n",
    "            # mean\n",
    "            true_mean = sample[2]\n",
    "            scale = sensitivity['mean'] / eps\n",
    "            noise = np.random.laplace(loc=0, scale=scale)\n",
    "            mean_result = true_mean + noise\n",
    "\n",
    "            # sum as count * mean\n",
    "            sum_result = count_result * mean_result\n",
    "\n",
    "            experiment_results.append([eps, mi, count_result, sum_result, mean_result])\n",
    "        \n",
    "    df = pd.DataFrame(experiment_results, columns=['eps', 'mi', *OUTPUT_COLS])\n",
    "    \n",
    "    # Save the new data to outputs/...\n",
    "    df.to_parquet(f'{OUTPUT_DIR}/dp_results.parquet')\n",
    "    # with open(f'{OUTPUT_DIR}/experiment_results.pkl', 'wb') as f:\n",
    "    #     pickle.dump(experiment_results, f)\n",
    "else:\n",
    "    df = pq.read_table(f\"{OUTPUT_DIR}/dp_results.parquet\").to_pandas()\n",
    "\n",
    "    # with open('{OUTPUT_DIR}/experiment_results.pkl', 'rb') as f:\n",
    "    #     experiment_results = pickle.load(f)\n",
    "\n",
    "df.head()"
   ]
  },
  {
   "cell_type": "code",
   "execution_count": 13,
   "metadata": {},
   "outputs": [
    {
     "data": {
      "text/html": [
       "<div>\n",
       "<style scoped>\n",
       "    .dataframe tbody tr th:only-of-type {\n",
       "        vertical-align: middle;\n",
       "    }\n",
       "\n",
       "    .dataframe tbody tr th {\n",
       "        vertical-align: top;\n",
       "    }\n",
       "\n",
       "    .dataframe thead th {\n",
       "        text-align: right;\n",
       "    }\n",
       "</style>\n",
       "<table border=\"1\" class=\"dataframe\">\n",
       "  <thead>\n",
       "    <tr style=\"text-align: right;\">\n",
       "      <th></th>\n",
       "      <th>eps</th>\n",
       "      <th>mi</th>\n",
       "      <th>count</th>\n",
       "      <th>sum</th>\n",
       "      <th>mean</th>\n",
       "    </tr>\n",
       "  </thead>\n",
       "  <tbody>\n",
       "    <tr>\n",
       "      <th>0</th>\n",
       "      <td>11.512915</td>\n",
       "      <td>16.000000</td>\n",
       "      <td>649.076103</td>\n",
       "      <td>2379.751741</td>\n",
       "      <td>3.666368</td>\n",
       "    </tr>\n",
       "    <tr>\n",
       "      <th>1</th>\n",
       "      <td>11.512915</td>\n",
       "      <td>16.000000</td>\n",
       "      <td>648.930240</td>\n",
       "      <td>2374.700793</td>\n",
       "      <td>3.659408</td>\n",
       "    </tr>\n",
       "    <tr>\n",
       "      <th>400</th>\n",
       "      <td>1.642612</td>\n",
       "      <td>0.250000</td>\n",
       "      <td>649.265280</td>\n",
       "      <td>2392.445730</td>\n",
       "      <td>3.684851</td>\n",
       "    </tr>\n",
       "    <tr>\n",
       "      <th>401</th>\n",
       "      <td>1.642612</td>\n",
       "      <td>0.250000</td>\n",
       "      <td>648.538159</td>\n",
       "      <td>2385.240640</td>\n",
       "      <td>3.677872</td>\n",
       "    </tr>\n",
       "    <tr>\n",
       "      <th>500</th>\n",
       "      <td>0.730432</td>\n",
       "      <td>0.062500</td>\n",
       "      <td>649.851537</td>\n",
       "      <td>2346.816638</td>\n",
       "      <td>3.611312</td>\n",
       "    </tr>\n",
       "    <tr>\n",
       "      <th>501</th>\n",
       "      <td>0.730432</td>\n",
       "      <td>0.062500</td>\n",
       "      <td>653.898826</td>\n",
       "      <td>2359.887735</td>\n",
       "      <td>3.608949</td>\n",
       "    </tr>\n",
       "    <tr>\n",
       "      <th>600</th>\n",
       "      <td>0.508011</td>\n",
       "      <td>0.031250</td>\n",
       "      <td>648.369957</td>\n",
       "      <td>2549.399537</td>\n",
       "      <td>3.932014</td>\n",
       "    </tr>\n",
       "    <tr>\n",
       "      <th>601</th>\n",
       "      <td>0.508011</td>\n",
       "      <td>0.031250</td>\n",
       "      <td>645.848029</td>\n",
       "      <td>2337.129215</td>\n",
       "      <td>3.618698</td>\n",
       "    </tr>\n",
       "    <tr>\n",
       "      <th>700</th>\n",
       "      <td>0.356323</td>\n",
       "      <td>0.015625</td>\n",
       "      <td>645.572514</td>\n",
       "      <td>2358.728603</td>\n",
       "      <td>3.653700</td>\n",
       "    </tr>\n",
       "    <tr>\n",
       "      <th>701</th>\n",
       "      <td>0.356323</td>\n",
       "      <td>0.015625</td>\n",
       "      <td>654.341056</td>\n",
       "      <td>2479.280805</td>\n",
       "      <td>3.788973</td>\n",
       "    </tr>\n",
       "  </tbody>\n",
       "</table>\n",
       "</div>"
      ],
      "text/plain": [
       "           eps         mi       count          sum      mean\n",
       "0    11.512915  16.000000  649.076103  2379.751741  3.666368\n",
       "1    11.512915  16.000000  648.930240  2374.700793  3.659408\n",
       "400   1.642612   0.250000  649.265280  2392.445730  3.684851\n",
       "401   1.642612   0.250000  648.538159  2385.240640  3.677872\n",
       "500   0.730432   0.062500  649.851537  2346.816638  3.611312\n",
       "501   0.730432   0.062500  653.898826  2359.887735  3.608949\n",
       "600   0.508011   0.031250  648.369957  2549.399537  3.932014\n",
       "601   0.508011   0.031250  645.848029  2337.129215  3.618698\n",
       "700   0.356323   0.015625  645.572514  2358.728603  3.653700\n",
       "701   0.356323   0.015625  654.341056  2479.280805  3.788973"
      ]
     },
     "execution_count": 13,
     "metadata": {},
     "output_type": "execute_result"
    }
   ],
   "source": [
    "# show the first 2 rows of each eps\n",
    "df.groupby('eps').head(2)"
   ]
  },
  {
   "cell_type": "code",
   "execution_count": null,
   "metadata": {},
   "outputs": [],
   "source": []
  }
 ],
 "metadata": {
  "kernelspec": {
   "display_name": "Python 3",
   "language": "python",
   "name": "python3"
  },
  "language_info": {
   "codemirror_mode": {
    "name": "ipython",
    "version": 3
   },
   "file_extension": ".py",
   "mimetype": "text/x-python",
   "name": "python",
   "nbconvert_exporter": "python",
   "pygments_lexer": "ipython3",
   "version": "3.11.7"
  }
 },
 "nbformat": 4,
 "nbformat_minor": 2
}
