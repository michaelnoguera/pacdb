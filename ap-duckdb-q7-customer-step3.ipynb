{
 "cells": [
  {
   "cell_type": "code",
   "execution_count": 1,
   "id": "eba650e4",
   "metadata": {
    "execution": {
     "iopub.execute_input": "2025-05-01T08:50:05.455444Z",
     "iopub.status.busy": "2025-05-01T08:50:05.455061Z",
     "iopub.status.idle": "2025-05-01T08:50:05.504098Z",
     "shell.execute_reply": "2025-05-01T08:50:05.503721Z"
    },
    "papermill": {
     "duration": 0.058845,
     "end_time": "2025-05-01T08:50:05.505003",
     "exception": false,
     "start_time": "2025-05-01T08:50:05.446158",
     "status": "completed"
    },
    "tags": []
   },
   "outputs": [],
   "source": [
    "#!/usr/bin/env python\n",
    "# coding: utf-8\n",
    "\n",
    "import json\n",
    "import os\n",
    "import pickle\n",
    "import shutil\n",
    "import zipfile\n",
    "\n",
    "import parse\n",
    "import polars as pl"
   ]
  },
  {
   "cell_type": "code",
   "execution_count": 2,
   "id": "5bbee7d0",
   "metadata": {
    "execution": {
     "iopub.execute_input": "2025-05-01T08:50:05.507951Z",
     "iopub.status.busy": "2025-05-01T08:50:05.507851Z",
     "iopub.status.idle": "2025-05-01T08:50:05.509653Z",
     "shell.execute_reply": "2025-05-01T08:50:05.509460Z"
    },
    "papermill": {
     "duration": 0.003819,
     "end_time": "2025-05-01T08:50:05.510283",
     "exception": false,
     "start_time": "2025-05-01T08:50:05.506464",
     "status": "completed"
    },
    "tags": [
     "parameters"
    ]
   },
   "outputs": [],
   "source": [
    "#EXPERIMENT = \"asdf\"\n",
    "#INPUT_ZIP = f\"./outputs/{EXPERIMENT}-step2.zip\"\n",
    "#OUTPUT_DIR = f\"./outputs/{EXPERIMENT}-step3\"\n",
    "#INDEX_COLS = pickle.load(open(f'./outputs/{EXPERIMENT}-step1/INDEX_COLS.pkl', 'rb'))\n",
    "#OUTPUT_COLS = pickle.load(open(f'./outputs/{EXPERIMENT}-step1/OUTPUT_COLS.pkl', 'rb'))\n",
    "#templatedf_path = f\"./outputs/{EXPERIMENT}-step2/templatedf.csv\"\n",
    "EXPERIMENT = \"\"\n",
    "INPUT_ZIP = \"\"\n",
    "OUTPUT_DIR = \"\"\n",
    "INDEX_COLS = []\n",
    "OUTPUT_COLS = []\n",
    "templatedf_path = \"\""
   ]
  },
  {
   "cell_type": "code",
   "execution_count": 3,
   "id": "e9e1e314",
   "metadata": {
    "execution": {
     "iopub.execute_input": "2025-05-01T08:50:05.512850Z",
     "iopub.status.busy": "2025-05-01T08:50:05.512748Z",
     "iopub.status.idle": "2025-05-01T08:50:05.514485Z",
     "shell.execute_reply": "2025-05-01T08:50:05.514228Z"
    },
    "papermill": {
     "duration": 0.00393,
     "end_time": "2025-05-01T08:50:05.515290",
     "exception": false,
     "start_time": "2025-05-01T08:50:05.511360",
     "status": "completed"
    },
    "tags": [
     "injected-parameters"
    ]
   },
   "outputs": [],
   "source": [
    "# Parameters\n",
    "EXPERIMENT = \"ap-duckdb-q7-customer\"\n",
    "OUTPUT_DIR = \"./outputs/ap-duckdb-q7-customer-step3\"\n",
    "INPUT_ZIP = \"./outputs/ap-duckdb-q7-customer-step2.zip\"\n",
    "INDEX_COLS = [\"supp_nation\", \"cust_nation\", \"l_year\"]\n",
    "OUTPUT_COLS = [\"revenue\"]\n",
    "templatedf_path = \"./outputs/ap-duckdb-q7-customer-step1/template.pkl\"\n"
   ]
  },
  {
   "cell_type": "code",
   "execution_count": 4,
   "id": "7eeff702",
   "metadata": {
    "execution": {
     "iopub.execute_input": "2025-05-01T08:50:05.518063Z",
     "iopub.status.busy": "2025-05-01T08:50:05.517965Z",
     "iopub.status.idle": "2025-05-01T08:50:05.519859Z",
     "shell.execute_reply": "2025-05-01T08:50:05.519584Z"
    },
    "papermill": {
     "duration": 0.003991,
     "end_time": "2025-05-01T08:50:05.520578",
     "exception": false,
     "start_time": "2025-05-01T08:50:05.516587",
     "status": "completed"
    },
    "tags": []
   },
   "outputs": [],
   "source": [
    "INDEX_COLS = INDEX_COLS or [\"\"] # if no index cols are provided, then we make one up with empty string name in step 1\n",
    "\n",
    "if not os.path.exists(OUTPUT_DIR):\n",
    "    os.makedirs(OUTPUT_DIR)"
   ]
  },
  {
   "cell_type": "code",
   "execution_count": 5,
   "id": "257dec28",
   "metadata": {
    "execution": {
     "iopub.execute_input": "2025-05-01T08:50:05.523247Z",
     "iopub.status.busy": "2025-05-01T08:50:05.523149Z",
     "iopub.status.idle": "2025-05-01T08:50:05.525327Z",
     "shell.execute_reply": "2025-05-01T08:50:05.525126Z"
    },
    "papermill": {
     "duration": 0.004156,
     "end_time": "2025-05-01T08:50:05.525940",
     "exception": false,
     "start_time": "2025-05-01T08:50:05.521784",
     "status": "completed"
    },
    "tags": []
   },
   "outputs": [],
   "source": [
    "# Import saved variables from the first step\n",
    "templatedf: pl.DataFrame = pickle.load(open(templatedf_path, 'rb'))"
   ]
  },
  {
   "cell_type": "code",
   "execution_count": 6,
   "id": "ab3a80fe",
   "metadata": {
    "execution": {
     "iopub.execute_input": "2025-05-01T08:50:05.528467Z",
     "iopub.status.busy": "2025-05-01T08:50:05.528382Z",
     "iopub.status.idle": "2025-05-01T08:50:05.532653Z",
     "shell.execute_reply": "2025-05-01T08:50:05.532428Z"
    },
    "papermill": {
     "duration": 0.006234,
     "end_time": "2025-05-01T08:50:05.533270",
     "exception": false,
     "start_time": "2025-05-01T08:50:05.527036",
     "status": "completed"
    },
    "tags": []
   },
   "outputs": [
    {
     "data": {
      "text/plain": [
       "dict_keys([0, 1, 2, 3])"
      ]
     },
     "execution_count": 6,
     "metadata": {},
     "output_type": "execute_result"
    }
   ],
   "source": [
    "# load the json input files from step 2\n",
    "# {'col': column name as string,\n",
    "#  'row': group-by column values as dict (effectively a row id),\n",
    "#  'values': [ 1000x values ] }\n",
    "alldata = {}\n",
    "\n",
    "pattern = parse.compile(\"{n}.json\")\n",
    "\n",
    "with zipfile.ZipFile(INPUT_ZIP, 'r') as zf:\n",
    "    for filename in zf.namelist():\n",
    "        if filename.endswith('.json'):\n",
    "            with zf.open(filename) as f:\n",
    "                filenumber = int(pattern.parse(filename).named['n'])\n",
    "                data = json.load(f)\n",
    "                d: dict = data\n",
    "                alldata[filenumber] = d\n",
    "alldata.keys()"
   ]
  },
  {
   "cell_type": "code",
   "execution_count": 7,
   "id": "fa47deff",
   "metadata": {
    "execution": {
     "iopub.execute_input": "2025-05-01T08:50:05.536040Z",
     "iopub.status.busy": "2025-05-01T08:50:05.535954Z",
     "iopub.status.idle": "2025-05-01T08:50:05.539354Z",
     "shell.execute_reply": "2025-05-01T08:50:05.539127Z"
    },
    "papermill": {
     "duration": 0.005506,
     "end_time": "2025-05-01T08:50:05.540007",
     "exception": false,
     "start_time": "2025-05-01T08:50:05.534501",
     "status": "completed"
    },
    "tags": []
   },
   "outputs": [],
   "source": [
    "# Make sure the data types of the row fields are correct\n",
    "for i in range(len(alldata)):\n",
    "    alldata[i]['row'] = pl.DataFrame(alldata[i]['row']).cast(templatedf.select(INDEX_COLS).schema).to_dicts()[0]"
   ]
  },
  {
   "cell_type": "code",
   "execution_count": 8,
   "id": "1d086fc3",
   "metadata": {
    "execution": {
     "iopub.execute_input": "2025-05-01T08:50:05.542581Z",
     "iopub.status.busy": "2025-05-01T08:50:05.542498Z",
     "iopub.status.idle": "2025-05-01T08:50:05.544786Z",
     "shell.execute_reply": "2025-05-01T08:50:05.544573Z"
    },
    "papermill": {
     "duration": 0.004205,
     "end_time": "2025-05-01T08:50:05.545393",
     "exception": false,
     "start_time": "2025-05-01T08:50:05.541188",
     "status": "completed"
    },
    "tags": []
   },
   "outputs": [
    {
     "data": {
      "text/html": [
       "<div><style>\n",
       ".dataframe > thead > tr,\n",
       ".dataframe > tbody > tr {\n",
       "  text-align: right;\n",
       "  white-space: pre-wrap;\n",
       "}\n",
       "</style>\n",
       "<small>shape: (4, 3)</small><table border=\"1\" class=\"dataframe\"><thead><tr><th>supp_nation</th><th>cust_nation</th><th>l_year</th></tr><tr><td>str</td><td>str</td><td>i64</td></tr></thead><tbody><tr><td>&quot;FRANCE&quot;</td><td>&quot;GERMANY&quot;</td><td>1995</td></tr><tr><td>&quot;FRANCE&quot;</td><td>&quot;GERMANY&quot;</td><td>1996</td></tr><tr><td>&quot;GERMANY&quot;</td><td>&quot;FRANCE&quot;</td><td>1995</td></tr><tr><td>&quot;GERMANY&quot;</td><td>&quot;FRANCE&quot;</td><td>1996</td></tr></tbody></table></div>"
      ],
      "text/plain": [
       "shape: (4, 3)\n",
       "┌─────────────┬─────────────┬────────┐\n",
       "│ supp_nation ┆ cust_nation ┆ l_year │\n",
       "│ ---         ┆ ---         ┆ ---    │\n",
       "│ str         ┆ str         ┆ i64    │\n",
       "╞═════════════╪═════════════╪════════╡\n",
       "│ FRANCE      ┆ GERMANY     ┆ 1995   │\n",
       "│ FRANCE      ┆ GERMANY     ┆ 1996   │\n",
       "│ GERMANY     ┆ FRANCE      ┆ 1995   │\n",
       "│ GERMANY     ┆ FRANCE      ┆ 1996   │\n",
       "└─────────────┴─────────────┴────────┘"
      ]
     },
     "execution_count": 8,
     "metadata": {},
     "output_type": "execute_result"
    }
   ],
   "source": [
    "allgroups = templatedf.select(INDEX_COLS)\n",
    "allgroups"
   ]
  },
  {
   "cell_type": "code",
   "execution_count": 9,
   "id": "0b249a7b",
   "metadata": {
    "execution": {
     "iopub.execute_input": "2025-05-01T08:50:05.548320Z",
     "iopub.status.busy": "2025-05-01T08:50:05.548234Z",
     "iopub.status.idle": "2025-05-01T08:50:05.552190Z",
     "shell.execute_reply": "2025-05-01T08:50:05.551939Z"
    },
    "papermill": {
     "duration": 0.006188,
     "end_time": "2025-05-01T08:50:05.552820",
     "exception": false,
     "start_time": "2025-05-01T08:50:05.546632",
     "status": "completed"
    },
    "tags": []
   },
   "outputs": [
    {
     "name": "stdout",
     "output_type": "stream",
     "text": [
      "{'supp_nation': 'FRANCE', 'cust_nation': 'GERMANY', 'l_year': 1995}\n",
      "{'supp_nation': 'FRANCE', 'cust_nation': 'GERMANY', 'l_year': 1996}\n",
      "{'supp_nation': 'GERMANY', 'cust_nation': 'FRANCE', 'l_year': 1995}\n",
      "{'supp_nation': 'GERMANY', 'cust_nation': 'FRANCE', 'l_year': 1996}\n"
     ]
    }
   ],
   "source": [
    "# Cursed data shuffling to reidentify what row goes where, what column goes where, and what the labels should be on everything\n",
    "colidxes = {}\n",
    "for col in OUTPUT_COLS:\n",
    "    colidxes[col] = templatedf.get_column_index(col)\n",
    "rowidxes = {}\n",
    "for row in templatedf.select(INDEX_COLS).iter_rows(named=True):\n",
    "    rowidxes[tuple(row.values())] = allgroups.with_row_index().filter(\n",
    "        pl.col(k).eq(v)\n",
    "        for k, v in row.items()\n",
    "    ).select(\"index\").item()\n",
    "    print(row)\n",
    "\n",
    "allinfo = [\n",
    "    {\"colname\": adentry['col'],\n",
    "    \"rowid\": tuple(adentry['row'].values()),\n",
    "    \"value\": adentry['value'][0],\n",
    "    \"colidx\": colidxes[adentry['col']],\n",
    "    \"rowidx\": rowidxes[tuple(adentry['row'].values())]}\n",
    "    for adidx, adentry in alldata.items()\n",
    "]\n",
    "\n",
    "colnames = {}\n",
    "rownames = {}\n",
    "for entry in allinfo:\n",
    "    colnames[entry['colidx']] = entry['colname']\n",
    "    rownames[entry['rowidx']] = entry['rowid']"
   ]
  },
  {
   "cell_type": "markdown",
   "id": "61e58b37",
   "metadata": {
    "papermill": {
     "duration": 0.001594,
     "end_time": "2025-05-01T08:50:05.555754",
     "exception": false,
     "start_time": "2025-05-01T08:50:05.554160",
     "status": "completed"
    },
    "tags": []
   },
   "source": [
    "Naive reconstruction"
   ]
  },
  {
   "cell_type": "code",
   "execution_count": 10,
   "id": "c6da70b0",
   "metadata": {
    "execution": {
     "iopub.execute_input": "2025-05-01T08:50:05.558787Z",
     "iopub.status.busy": "2025-05-01T08:50:05.558679Z",
     "iopub.status.idle": "2025-05-01T08:50:05.605167Z",
     "shell.execute_reply": "2025-05-01T08:50:05.604495Z"
    },
    "papermill": {
     "duration": 0.052993,
     "end_time": "2025-05-01T08:50:05.610126",
     "exception": false,
     "start_time": "2025-05-01T08:50:05.557133",
     "status": "completed"
    },
    "tags": []
   },
   "outputs": [
    {
     "name": "stdout",
     "output_type": "stream",
     "text": [
      "['supp_nation', 'cust_nation', 'l_year', 'revenue']\n",
      "['FRANCE', 'GERMANY', 1995, 2418132.758110481]\n",
      "['FRANCE', 'GERMANY', 1996, 2638008.8081869944]\n",
      "['GERMANY', 'FRANCE', 1995, 2297878.7517946577]\n",
      "['GERMANY', 'FRANCE', 1996, 3718959.9662961736]\n"
     ]
    }
   ],
   "source": [
    "# Naive reconstruction based on the indices of the keys in the templatedf\n",
    "allcols = INDEX_COLS + OUTPUT_COLS\n",
    "allrows = allgroups.select(INDEX_COLS).to_numpy().tolist()\n",
    "\n",
    "allinfo2 = {\n",
    "    (rowidxes[tuple(adentry['row'].values())], colidxes[adentry['col']]): adentry['value'][0]\n",
    "    for adidx, adentry in alldata.items()\n",
    "}\n",
    "\n",
    "df2 = []\n",
    "print(allcols)\n",
    "for row in allrows:\n",
    "    print(row + [allinfo2.get((rowidxes[tuple(row)], colidxes[col]), None) for col in OUTPUT_COLS])\n",
    "    df2.append(row + [allinfo2.get((rowidxes[tuple(row)], colidxes[col]), None) for col in OUTPUT_COLS])"
   ]
  },
  {
   "cell_type": "code",
   "execution_count": 11,
   "id": "396c2efa",
   "metadata": {
    "execution": {
     "iopub.execute_input": "2025-05-01T08:50:05.621258Z",
     "iopub.status.busy": "2025-05-01T08:50:05.620910Z",
     "iopub.status.idle": "2025-05-01T08:50:05.657981Z",
     "shell.execute_reply": "2025-05-01T08:50:05.657336Z"
    },
    "papermill": {
     "duration": 0.049317,
     "end_time": "2025-05-01T08:50:05.665140",
     "exception": false,
     "start_time": "2025-05-01T08:50:05.615823",
     "status": "completed"
    },
    "tags": []
   },
   "outputs": [
    {
     "data": {
      "text/html": [
       "<div><style>\n",
       ".dataframe > thead > tr,\n",
       ".dataframe > tbody > tr {\n",
       "  text-align: right;\n",
       "  white-space: pre-wrap;\n",
       "}\n",
       "</style>\n",
       "<small>shape: (4, 4)</small><table border=\"1\" class=\"dataframe\"><thead><tr><th>supp_nation</th><th>cust_nation</th><th>l_year</th><th>revenue</th></tr><tr><td>str</td><td>str</td><td>i64</td><td>decimal[38,4]</td></tr></thead><tbody><tr><td>&quot;FRANCE&quot;</td><td>&quot;GERMANY&quot;</td><td>1995</td><td>2418132.7581</td></tr><tr><td>&quot;FRANCE&quot;</td><td>&quot;GERMANY&quot;</td><td>1996</td><td>2638008.8081</td></tr><tr><td>&quot;GERMANY&quot;</td><td>&quot;FRANCE&quot;</td><td>1995</td><td>2297878.7517</td></tr><tr><td>&quot;GERMANY&quot;</td><td>&quot;FRANCE&quot;</td><td>1996</td><td>3718959.9662</td></tr></tbody></table></div>"
      ],
      "text/plain": [
       "shape: (4, 4)\n",
       "┌─────────────┬─────────────┬────────┬───────────────┐\n",
       "│ supp_nation ┆ cust_nation ┆ l_year ┆ revenue       │\n",
       "│ ---         ┆ ---         ┆ ---    ┆ ---           │\n",
       "│ str         ┆ str         ┆ i64    ┆ decimal[38,4] │\n",
       "╞═════════════╪═════════════╪════════╪═══════════════╡\n",
       "│ FRANCE      ┆ GERMANY     ┆ 1995   ┆ 2418132.7581  │\n",
       "│ FRANCE      ┆ GERMANY     ┆ 1996   ┆ 2638008.8081  │\n",
       "│ GERMANY     ┆ FRANCE      ┆ 1995   ┆ 2297878.7517  │\n",
       "│ GERMANY     ┆ FRANCE      ┆ 1996   ┆ 3718959.9662  │\n",
       "└─────────────┴─────────────┴────────┴───────────────┘"
      ]
     },
     "execution_count": 11,
     "metadata": {},
     "output_type": "execute_result"
    }
   ],
   "source": [
    "pl.DataFrame(df2, schema=allcols, orient='row').cast(templatedf.schema)"
   ]
  },
  {
   "cell_type": "code",
   "execution_count": 12,
   "id": "22658efb",
   "metadata": {
    "execution": {
     "iopub.execute_input": "2025-05-01T08:50:05.674618Z",
     "iopub.status.busy": "2025-05-01T08:50:05.673783Z",
     "iopub.status.idle": "2025-05-01T08:50:05.698824Z",
     "shell.execute_reply": "2025-05-01T08:50:05.698181Z"
    },
    "papermill": {
     "duration": 0.030467,
     "end_time": "2025-05-01T08:50:05.700892",
     "exception": false,
     "start_time": "2025-05-01T08:50:05.670425",
     "status": "completed"
    },
    "tags": []
   },
   "outputs": [],
   "source": [
    "pl.DataFrame(df2, schema=allcols, orient='row').cast(templatedf.schema).write_csv(os.path.join(OUTPUT_DIR, 'output.csv'))"
   ]
  },
  {
   "cell_type": "code",
   "execution_count": 13,
   "id": "fbf29824",
   "metadata": {
    "execution": {
     "iopub.execute_input": "2025-05-01T08:50:05.714237Z",
     "iopub.status.busy": "2025-05-01T08:50:05.713963Z",
     "iopub.status.idle": "2025-05-01T08:50:05.720011Z",
     "shell.execute_reply": "2025-05-01T08:50:05.719317Z"
    },
    "papermill": {
     "duration": 0.016571,
     "end_time": "2025-05-01T08:50:05.721931",
     "exception": false,
     "start_time": "2025-05-01T08:50:05.705360",
     "status": "completed"
    },
    "tags": []
   },
   "outputs": [
    {
     "data": {
      "text/plain": [
       "'/Users/michael/projects/dpdb/pacdb/outputs/ap-duckdb-q7-customer-step3.zip'"
      ]
     },
     "execution_count": 13,
     "metadata": {},
     "output_type": "execute_result"
    }
   ],
   "source": [
    "# zip the OUTPUT_DIR\n",
    "shutil.make_archive(OUTPUT_DIR, 'zip', OUTPUT_DIR)"
   ]
  }
 ],
 "metadata": {
  "kernelspec": {
   "display_name": ".venv",
   "language": "python",
   "name": "python3"
  },
  "language_info": {
   "codemirror_mode": {
    "name": "ipython",
    "version": 3
   },
   "file_extension": ".py",
   "mimetype": "text/x-python",
   "name": "python",
   "nbconvert_exporter": "python",
   "pygments_lexer": "ipython3",
   "version": "3.11.7"
  },
  "papermill": {
   "default_parameters": {},
   "duration": 0.984815,
   "end_time": "2025-05-01T08:50:05.946558",
   "environment_variables": {},
   "exception": null,
   "input_path": "autopac-duckdb-step3.ipynb",
   "output_path": "./ap-duckdb-q7-customer-step3.ipynb",
   "parameters": {
    "EXPERIMENT": "ap-duckdb-q7-customer",
    "INDEX_COLS": [
     "supp_nation",
     "cust_nation",
     "l_year"
    ],
    "INPUT_ZIP": "./outputs/ap-duckdb-q7-customer-step2.zip",
    "OUTPUT_COLS": [
     "revenue"
    ],
    "OUTPUT_DIR": "./outputs/ap-duckdb-q7-customer-step3",
    "templatedf_path": "./outputs/ap-duckdb-q7-customer-step1/template.pkl"
   },
   "start_time": "2025-05-01T08:50:04.961743",
   "version": "2.6.0"
  }
 },
 "nbformat": 4,
 "nbformat_minor": 5
}