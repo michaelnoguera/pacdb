{
 "cells": [
  {
   "cell_type": "code",
   "execution_count": 1,
   "metadata": {},
   "outputs": [
    {
     "ename": "ModuleNotFoundError",
     "evalue": "No module named 'pipeline_dp'",
     "output_type": "error",
     "traceback": [
      "\u001b[0;31m---------------------------------------------------------------------------\u001b[0m",
      "\u001b[0;31mModuleNotFoundError\u001b[0m                       Traceback (most recent call last)",
      "\u001b[1;32m/Users/chaitanyasuma/pac/pacdb/pipelinedp_baseline.ipynb Cell 1\u001b[0m line \u001b[0;36m5\n\u001b[1;32m      <a href='vscode-notebook-cell:/Users/chaitanyasuma/pac/pacdb/pipelinedp_baseline.ipynb#W0sZmlsZQ%3D%3D?line=1'>2</a>\u001b[0m \u001b[39mimport\u001b[39;00m \u001b[39mmatplotlib\u001b[39;00m\u001b[39m.\u001b[39;00m\u001b[39mpyplot\u001b[39;00m \u001b[39mas\u001b[39;00m \u001b[39mplt\u001b[39;00m\n\u001b[1;32m      <a href='vscode-notebook-cell:/Users/chaitanyasuma/pac/pacdb/pipelinedp_baseline.ipynb#W0sZmlsZQ%3D%3D?line=3'>4</a>\u001b[0m \u001b[39mimport\u001b[39;00m \u001b[39mpyspark\u001b[39;00m\n\u001b[0;32m----> <a href='vscode-notebook-cell:/Users/chaitanyasuma/pac/pacdb/pipelinedp_baseline.ipynb#W0sZmlsZQ%3D%3D?line=4'>5</a>\u001b[0m \u001b[39mimport\u001b[39;00m \u001b[39mpipeline_dp\u001b[39;00m\n\u001b[1;32m      <a href='vscode-notebook-cell:/Users/chaitanyasuma/pac/pacdb/pipelinedp_baseline.ipynb#W0sZmlsZQ%3D%3D?line=5'>6</a>\u001b[0m \u001b[39mfrom\u001b[39;00m \u001b[39mpipeline_dp\u001b[39;00m\u001b[39m.\u001b[39;00m\u001b[39mprivate_spark\u001b[39;00m \u001b[39mimport\u001b[39;00m make_private\n\u001b[1;32m      <a href='vscode-notebook-cell:/Users/chaitanyasuma/pac/pacdb/pipelinedp_baseline.ipynb#W0sZmlsZQ%3D%3D?line=6'>7</a>\u001b[0m \u001b[39mfrom\u001b[39;00m \u001b[39mpipeline_dp\u001b[39;00m \u001b[39mimport\u001b[39;00m SumParams\n",
      "\u001b[0;31mModuleNotFoundError\u001b[0m: No module named 'pipeline_dp'"
     ]
    }
   ],
   "source": [
    "import numpy as np\n",
    "import matplotlib.pyplot as plt\n",
    "\n",
    "import pyspark\n",
    "import pipeline_dp\n",
    "from pipeline_dp.private_spark import make_private\n",
    "from pipeline_dp import SumParams\n",
    "\n",
    "# Import SparkSession\n",
    "from pyspark.sql import SparkSession\n",
    "\n",
    "# Create SparkSession\n",
    "spark = SparkSession.builder \\\n",
    "    .appName(\"SparkSQLWithDP\") \\\n",
    "    .getOrCreate()"
   ]
  },
  {
   "cell_type": "code",
   "execution_count": 2,
   "metadata": {},
   "outputs": [
    {
     "name": "stdout",
     "output_type": "stream",
     "text": [
      "Defaulting to user installation because normal site-packages is not writeable\n",
      "Collecting pipeline_dp\n",
      "  Using cached pipeline_dp-0.2.1-py2.py3-none-any.whl (77 kB)\n",
      "Requirement already satisfied: numpy<2.0.0,>=1.20.1 in /Users/chaitanyasuma/Library/Python/3.9/lib/python/site-packages (from pipeline_dp) (1.26.4)\n",
      "  Using cached pipeline_dp-0.2.0-py2.py3-none-any.whl (54 kB)\n",
      "  Using cached pipeline_dp-0.1.1-py2.py3-none-any.whl (50 kB)\n",
      "  Using cached pipeline_dp-0.1.0-py2.py3-none-any.whl (50 kB)\n",
      "Collecting absl-py<2.0.0,>=1.0.0\n",
      "  Using cached absl_py-1.4.0-py3-none-any.whl (126 kB)\n",
      "Collecting dp-accounting<0.0.3,>=0.0.2\n",
      "  Using cached dp_accounting-0.0.2-py3-none-any.whl (35 kB)\n",
      "Collecting apache-beam<3.0.0,>=2.35.0\n",
      "  Using cached apache-beam-2.54.0.tar.gz (2.4 MB)\n",
      "\u001b[33m  WARNING: Value for prefixed-purelib does not match. Please report this to <https://github.com/pypa/pip/issues/10151>\n",
      "  distutils: /private/var/folders/g4/jxkqkb_d5170qh291jwd0t_h0000gn/T/pip-build-env-cd4z5nsa/normal/lib/python3.9/site-packages\n",
      "  sysconfig: /Library/Python/3.9/site-packages\u001b[0m\n",
      "\u001b[33m  WARNING: Value for prefixed-platlib does not match. Please report this to <https://github.com/pypa/pip/issues/10151>\n",
      "  distutils: /private/var/folders/g4/jxkqkb_d5170qh291jwd0t_h0000gn/T/pip-build-env-cd4z5nsa/normal/lib/python3.9/site-packages\n",
      "  sysconfig: /Library/Python/3.9/site-packages\u001b[0m\n",
      "\u001b[33m  WARNING: Additional context:\n",
      "  user = False\n",
      "  home = None\n",
      "  root = None\n",
      "  prefix = '/private/var/folders/g4/jxkqkb_d5170qh291jwd0t_h0000gn/T/pip-build-env-cd4z5nsa/normal'\u001b[0m\n",
      "\u001b[33m  WARNING: Value for prefixed-purelib does not match. Please report this to <https://github.com/pypa/pip/issues/10151>\n",
      "  distutils: /private/var/folders/g4/jxkqkb_d5170qh291jwd0t_h0000gn/T/pip-build-env-cd4z5nsa/overlay/lib/python3.9/site-packages\n",
      "  sysconfig: /Library/Python/3.9/site-packages\u001b[0m\n",
      "\u001b[33m  WARNING: Value for prefixed-platlib does not match. Please report this to <https://github.com/pypa/pip/issues/10151>\n",
      "  distutils: /private/var/folders/g4/jxkqkb_d5170qh291jwd0t_h0000gn/T/pip-build-env-cd4z5nsa/overlay/lib/python3.9/site-packages\n",
      "  sysconfig: /Library/Python/3.9/site-packages\u001b[0m\n",
      "\u001b[33m  WARNING: Additional context:\n",
      "  user = False\n",
      "  home = None\n",
      "  root = None\n",
      "  prefix = '/private/var/folders/g4/jxkqkb_d5170qh291jwd0t_h0000gn/T/pip-build-env-cd4z5nsa/overlay'\u001b[0m\n",
      "  Installing build dependencies ... \u001b[?25ldone\n",
      "\u001b[?25h  Getting requirements to build wheel ... \u001b[?25ldone\n",
      "\u001b[?25h    Preparing wheel metadata ... \u001b[?25ldone\n",
      "\u001b[?25hRequirement already satisfied: pyspark<4.0.0,>=3.2.0 in /Users/chaitanyasuma/Library/Python/3.9/lib/python/site-packages (from pipeline_dp) (3.5.1)\n",
      "\u001b[31mERROR: Cannot install pipeline-dp==0.1.0, pipeline-dp==0.1.1, pipeline-dp==0.2.0 and pipeline-dp==0.2.1 because these package versions have conflicting dependencies.\u001b[0m\n",
      "\n",
      "The conflict is caused by:\n",
      "    pipeline-dp 0.2.1 depends on python-dp>=1.1.5rc4\n",
      "    pipeline-dp 0.2.0 depends on python-dp<2.0.0 and >=1.1.1\n",
      "    pipeline-dp 0.1.1 depends on python-dp<2.0.0 and >=1.1.1\n",
      "    pipeline-dp 0.1.0 depends on python-dp<2.0.0 and >=1.1.1\n",
      "\n",
      "To fix this you could try to:\n",
      "1. loosen the range of package versions you've specified\n",
      "2. remove package versions to allow pip attempt to solve the dependency conflict\n",
      "\n",
      "\u001b[31mERROR: ResolutionImpossible: for help visit https://pip.pypa.io/en/latest/user_guide/#fixing-conflicting-dependencies\u001b[0m\n",
      "\u001b[33mWARNING: You are using pip version 21.2.4; however, version 24.0 is available.\n",
      "You should consider upgrading via the '/Library/Developer/CommandLineTools/usr/bin/python3 -m pip install --upgrade pip' command.\u001b[0m\n",
      "Note: you may need to restart the kernel to use updated packages.\n"
     ]
    }
   ],
   "source": [
    "pip install pipeline_dp"
   ]
  },
  {
   "cell_type": "code",
   "execution_count": null,
   "metadata": {},
   "outputs": [],
   "source": []
  }
 ],
 "metadata": {
  "kernelspec": {
   "display_name": "Python 3",
   "language": "python",
   "name": "python3"
  },
  "language_info": {
   "codemirror_mode": {
    "name": "ipython",
    "version": 3
   },
   "file_extension": ".py",
   "mimetype": "text/x-python",
   "name": "python",
   "nbconvert_exporter": "python",
   "pygments_lexer": "ipython3",
   "version": "3.9.6"
  }
 },
 "nbformat": 4,
 "nbformat_minor": 2
}
