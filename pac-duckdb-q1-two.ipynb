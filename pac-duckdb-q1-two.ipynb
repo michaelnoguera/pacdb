{
 "cells": [
  {
   "cell_type": "code",
   "execution_count": null,
   "metadata": {},
   "outputs": [
    {
     "name": "stdout",
     "output_type": "stream",
     "text": [
      "GENERATE = False, so we will load saved output from files rather than recomputing.\n",
      "   sample_size\n",
      "0     300564.0\n",
      "1     300536.0\n",
      "2     299994.0\n",
      "3     299561.0\n",
      "4     299606.0\n",
      "5     300441.0\n"
     ]
    }
   ],
   "source": [
    "#!/usr/bin/env python\n",
    "# coding: utf-8\n",
    "\n",
    "EXPERIMENT = 'pac-duckdb-q1'\n",
    "OUTPUT_DIR = f'./outputs/{EXPERIMENT}'\n",
    "GENERATE = False\n",
    "USE_EVEN_NUMBER_OF_INPUT_ROWS = False\n",
    "\n",
    "if GENERATE:\n",
    "    print(\"GENERATE = True, so we will generate new samples.\")\n",
    "else:\n",
    "    print(\"GENERATE = False, so we will load saved output from files rather than recomputing.\")\n",
    "\n",
    "import os\n",
    "from typing import List\n",
    "if not os.path.exists(OUTPUT_DIR):\n",
    "    os.makedirs(OUTPUT_DIR)\n",
    "\n",
    "import duckdb\n",
    "import polars as pl\n",
    "import pyarrow as pa\n",
    "\n",
    "# duckdb load data/tpch/tpch.duckdb\n",
    "#con = duckdb.connect(database='data/tpch/tpch.duckdb', read_only=True)\n",
    "con = duckdb.connect(database=':memory:')\n",
    "#tables = [\"customer\", \"lineitem\", \"nation\", \"orders\", \"part\", \"partsupp\", \"region\", \"supplier\"]\n",
    "tables = [\"lineitem\", \"orders\"]\n",
    "for t in tables:\n",
    "    con.execute(f\"CREATE TABLE {t} AS SELECT * FROM 'data/tpch/{t}.parquet'\")\n",
    "\n",
    "lineitem_df = con.execute(\"SELECT * FROM lineitem\").fetchdf()\n",
    "orders_df = con.execute(\"SELECT * FROM orders\").fetchdf()\n",
    "\n",
    "row_count = lineitem_df.shape[0]\n",
    "\n",
    "# Construct the table of random samples\n",
    "# to use, join it with the lineitem table (for specific sample # s) and filter to just the\n",
    "# rows where random_binary = 1.0\n",
    "# This will give us a 50% sample of the lineitem table for each sample # s\n",
    "\n",
    "SAMPLES = 6\n",
    "TABLE_TO_SAMPLE = 'lineitem'\n",
    "assert SAMPLES % 2 == 0, \"SAMPLES must be even to create complementary samples.\"\n",
    "\n",
    "con.execute(f\"\"\"\n",
    "CREATE TABLE random_samples AS\n",
    "WITH sample_numbers AS (\n",
    "    SELECT range AS sample_id FROM range({SAMPLES//2})\n",
    "),\n",
    "random_values AS (\n",
    "    SELECT \n",
    "        sample_numbers.sample_id, \n",
    "        {TABLE_TO_SAMPLE}.rowid AS row_id,\n",
    "        FLOOR(RANDOM() * 2) AS random_binary\n",
    "    FROM sample_numbers\n",
    "    JOIN {TABLE_TO_SAMPLE} ON TRUE  -- Cross join to duplicate rows for each sample\n",
    ")\n",
    "SELECT\n",
    "    sample_id,\n",
    "    row_id,\n",
    "    random_binary\n",
    "FROM random_values\n",
    "UNION ALL\n",
    "SELECT -- select the complementary samples too\n",
    "    {SAMPLES//2} + sample_id,\n",
    "    row_id,\n",
    "    1 - random_binary  -- Inverse the random_binary to get the complementary sample\n",
    "FROM random_values;\n",
    "\"\"\")\n",
    "\n",
    "\n",
    "con.execute(\"\"\"\n",
    "PREPARE count_orders AS \n",
    "SELECT\n",
    "    l_returnflag,\n",
    "    l_linestatus,\n",
    "    2*sum(l_quantity) AS sum_qty,\n",
    "    2*sum(l_extendedprice) AS sum_base_price,\n",
    "    2*sum(l_extendedprice * (1 - l_discount)) AS sum_disc_price,\n",
    "    2*sum(l_extendedprice * (1 - l_discount) * (1 + l_tax)) AS sum_charge,\n",
    "    avg(l_quantity) AS avg_qty,\n",
    "    avg(l_extendedprice) AS avg_price,\n",
    "    avg(l_discount) AS avg_disc,\n",
    "    2*count(*) AS count_order\n",
    "FROM\n",
    "    lineitem\n",
    "JOIN random_samples AS rs\n",
    "    ON rs.row_id = lineitem.rowid\n",
    "WHERE\n",
    "    l_shipdate <= CAST('1998-09-02' AS date)\n",
    "    AND rs.random_binary = 1.0\n",
    "    AND rs.sample_id = $sample\n",
    "GROUP BY\n",
    "    l_returnflag,\n",
    "    l_linestatus\n",
    "ORDER BY\n",
    "    l_returnflag,\n",
    "    l_linestatus;\n",
    "\"\"\")\n",
    "\n",
    "sample_sizes = con.execute(\"\"\"\n",
    "SELECT SUM(random_binary) AS sample_size\n",
    "FROM random_samples\n",
    "GROUP BY sample_id;\n",
    "\"\"\").fetchdf()\n",
    "\n",
    "print(sample_sizes)\n",
    "\n",
    "dfs: List[pl.DataFrame] = []\n",
    "for s in range(SAMPLES):\n",
    "    dfs.append(con.execute(f\"EXECUTE count_orders(sample := {s});\").pl())"
   ]
  },
  {
   "cell_type": "code",
   "execution_count": 12,
   "metadata": {},
   "outputs": [
    {
     "data": {
      "text/plain": [
       "Schema([('l_returnflag', String),\n",
       "        ('l_linestatus', String),\n",
       "        ('sum_qty', Decimal(precision=38, scale=2)),\n",
       "        ('sum_base_price', Decimal(precision=38, scale=2)),\n",
       "        ('sum_disc_price', Decimal(precision=38, scale=4)),\n",
       "        ('sum_charge', Decimal(precision=38, scale=6)),\n",
       "        ('avg_qty', Float64),\n",
       "        ('avg_price', Float64),\n",
       "        ('avg_disc', Float64),\n",
       "        ('count_order', Int64)])"
      ]
     },
     "execution_count": 12,
     "metadata": {},
     "output_type": "execute_result"
    }
   ],
   "source": [
    "dfs[0].schema"
   ]
  },
  {
   "cell_type": "code",
   "execution_count": null,
   "metadata": {},
   "outputs": [],
   "source": [
    "INDEX_COLS = ['l_returnflag', 'l_linestatus']\n",
    "OUTPUT_COLS = ['sum_qty', 'sum_base_price', 'sum_disc_price', 'sum_charge', 'avg_qty', 'avg_price', 'avg_disc', 'count_order']\n",
    "OUTPUT_SCHEMA = dfs[0].select(OUTPUT_COLS).collect_schema()"
   ]
  },
  {
   "cell_type": "code",
   "execution_count": 15,
   "metadata": {},
   "outputs": [
    {
     "data": {
      "text/html": [
       "<div><style>\n",
       ".dataframe > thead > tr,\n",
       ".dataframe > tbody > tr {\n",
       "  text-align: right;\n",
       "  white-space: pre-wrap;\n",
       "}\n",
       "</style>\n",
       "<small>shape: (4, 8)</small><table border=\"1\" class=\"dataframe\"><thead><tr><th>sum_qty</th><th>sum_base_price</th><th>sum_disc_price</th><th>sum_charge</th><th>avg_qty</th><th>avg_price</th><th>avg_disc</th><th>count_order</th></tr><tr><td>decimal[38,2]</td><td>decimal[38,2]</td><td>decimal[38,4]</td><td>decimal[38,6]</td><td>f64</td><td>f64</td><td>f64</td><td>i64</td></tr></thead><tbody><tr><td>3792218.00</td><td>5348873966.98</td><td>5080445037.0262</td><td>5284350579.054660</td><td>25.606139</td><td>36117.124924</td><td>0.0502</td><td>148098</td></tr><tr><td>98150.00</td><td>137392726.56</td><td>130621994.2802</td><td>135936189.560958</td><td>25.153767</td><td>35210.847401</td><td>0.049042</td><td>3902</td></tr><tr><td>7463696.00</td><td>10513055198.42</td><td>9986805179.4178</td><td>10386025457.583662</td><td>25.554477</td><td>35994.984759</td><td>0.050106</td><td>292070</td></tr><tr><td>3791476.00</td><td>5345510296.84</td><td>5079703360.5274</td><td>5282847288.133810</td><td>25.586616</td><td>36073.951606</td><td>0.049952</td><td>148182</td></tr></tbody></table></div>"
      ],
      "text/plain": [
       "shape: (4, 8)\n",
       "┌────────────┬────────────┬────────────┬────────────┬───────────┬───────────┬──────────┬───────────┐\n",
       "│ sum_qty    ┆ sum_base_p ┆ sum_disc_p ┆ sum_charge ┆ avg_qty   ┆ avg_price ┆ avg_disc ┆ count_ord │\n",
       "│ ---        ┆ rice       ┆ rice       ┆ ---        ┆ ---       ┆ ---       ┆ ---      ┆ er        │\n",
       "│ decimal[38 ┆ ---        ┆ ---        ┆ decimal[38 ┆ f64       ┆ f64       ┆ f64      ┆ ---       │\n",
       "│ ,2]        ┆ decimal[38 ┆ decimal[38 ┆ ,6]        ┆           ┆           ┆          ┆ i64       │\n",
       "│            ┆ ,2]        ┆ ,4]        ┆            ┆           ┆           ┆          ┆           │\n",
       "╞════════════╪════════════╪════════════╪════════════╪═══════════╪═══════════╪══════════╪═══════════╡\n",
       "│ 3792218.00 ┆ 5348873966 ┆ 5080445037 ┆ 5284350579 ┆ 25.606139 ┆ 36117.124 ┆ 0.0502   ┆ 148098    │\n",
       "│            ┆ .98        ┆ .0262      ┆ .054660    ┆           ┆ 924       ┆          ┆           │\n",
       "│ 98150.00   ┆ 137392726. ┆ 130621994. ┆ 135936189. ┆ 25.153767 ┆ 35210.847 ┆ 0.049042 ┆ 3902      │\n",
       "│            ┆ 56         ┆ 2802       ┆ 560958     ┆           ┆ 401       ┆          ┆           │\n",
       "│ 7463696.00 ┆ 1051305519 ┆ 9986805179 ┆ 1038602545 ┆ 25.554477 ┆ 35994.984 ┆ 0.050106 ┆ 292070    │\n",
       "│            ┆ 8.42       ┆ .4178      ┆ 7.583662   ┆           ┆ 759       ┆          ┆           │\n",
       "│ 3791476.00 ┆ 5345510296 ┆ 5079703360 ┆ 5282847288 ┆ 25.586616 ┆ 36073.951 ┆ 0.049952 ┆ 148182    │\n",
       "│            ┆ .84        ┆ .5274      ┆ .133810    ┆           ┆ 606       ┆          ┆           │\n",
       "└────────────┴────────────┴────────────┴────────────┴───────────┴───────────┴──────────┴───────────┘"
      ]
     },
     "execution_count": 15,
     "metadata": {},
     "output_type": "execute_result"
    }
   ],
   "source": [
    "dfs[0].select(OUTPUT_COLS)"
   ]
  },
  {
   "cell_type": "code",
   "execution_count": null,
   "metadata": {},
   "outputs": [],
   "source": [
    "def numpyify(df: pl.DataFrame) -> np.ndarray:\n",
    "    return df.select(OUTPUT_COLS).to_numpy().flatten()"
   ]
  },
  {
   "cell_type": "code",
   "execution_count": 34,
   "metadata": {},
   "outputs": [
    {
     "data": {
      "text/plain": [
       "array([[3.79221800e+06, 5.34887397e+09, 5.08044504e+09, 5.28435058e+09,\n",
       "        2.56061392e+01, 3.61171249e+04, 5.02002728e-02, 1.48098000e+05],\n",
       "       [9.81500000e+04, 1.37392727e+08, 1.30621994e+08, 1.35936190e+08,\n",
       "        2.51537673e+01, 3.52108474e+04, 4.90415172e-02, 3.90200000e+03],\n",
       "       [7.46369600e+06, 1.05130552e+10, 9.98680518e+09, 1.03860255e+10,\n",
       "        2.55544767e+01, 3.59949848e+04, 5.01064128e-02, 2.92070000e+05],\n",
       "       [3.79147600e+06, 5.34551030e+09, 5.07970336e+09, 5.28284729e+09,\n",
       "        2.55866165e+01, 3.60739516e+04, 4.99516810e-02, 1.48182000e+05]])"
      ]
     },
     "execution_count": 34,
     "metadata": {},
     "output_type": "execute_result"
    }
   ],
   "source": [
    "arr = dfs[0].select(OUTPUT_COLS).to_numpy()\n",
    "output_shape = arr.shape\n",
    "arr"
   ]
  },
  {
   "cell_type": "code",
   "execution_count": 74,
   "metadata": {},
   "outputs": [
    {
     "data": {
      "text/plain": [
       "array([3.79221800e+06, 5.34887397e+09, 5.08044504e+09, 5.28435058e+09,\n",
       "       2.56061392e+01, 3.61171249e+04, 5.02002728e-02, 1.48098000e+05,\n",
       "       9.81500000e+04, 1.37392727e+08, 1.30621994e+08, 1.35936190e+08,\n",
       "       2.51537673e+01, 3.52108474e+04, 4.90415172e-02, 3.90200000e+03,\n",
       "       7.46369600e+06, 1.05130552e+10, 9.98680518e+09, 1.03860255e+10,\n",
       "       2.55544767e+01, 3.59949848e+04, 5.01064128e-02, 2.92070000e+05,\n",
       "       3.79147600e+06, 5.34551030e+09, 5.07970336e+09, 5.28284729e+09,\n",
       "       2.55866165e+01, 3.60739516e+04, 4.99516810e-02, 1.48182000e+05])"
      ]
     },
     "execution_count": 74,
     "metadata": {},
     "output_type": "execute_result"
    }
   ],
   "source": [
    "# flatten arr to 1D array\n",
    "arr.flatten()"
   ]
  },
  {
   "cell_type": "code",
   "execution_count": 36,
   "metadata": {},
   "outputs": [],
   "source": [
    "og = dfs[0].__copy__()"
   ]
  },
  {
   "cell_type": "code",
   "execution_count": 39,
   "metadata": {},
   "outputs": [
    {
     "data": {
      "text/html": [
       "<div><style>\n",
       ".dataframe > thead > tr,\n",
       ".dataframe > tbody > tr {\n",
       "  text-align: right;\n",
       "  white-space: pre-wrap;\n",
       "}\n",
       "</style>\n",
       "<small>shape: (4, 10)</small><table border=\"1\" class=\"dataframe\"><thead><tr><th>l_returnflag</th><th>l_linestatus</th><th>sum_qty</th><th>sum_base_price</th><th>sum_disc_price</th><th>sum_charge</th><th>avg_qty</th><th>avg_price</th><th>avg_disc</th><th>count_order</th></tr><tr><td>str</td><td>str</td><td>decimal[38,2]</td><td>decimal[38,2]</td><td>decimal[38,4]</td><td>decimal[38,6]</td><td>f64</td><td>f64</td><td>f64</td><td>i64</td></tr></thead><tbody><tr><td>&quot;A&quot;</td><td>&quot;F&quot;</td><td>3792218.00</td><td>5348873966.98</td><td>5080445037.0262</td><td>5284350579.054660</td><td>25.606139</td><td>36117.124924</td><td>0.0502</td><td>148098</td></tr><tr><td>&quot;N&quot;</td><td>&quot;F&quot;</td><td>98150.00</td><td>137392726.56</td><td>130621994.2802</td><td>135936189.560958</td><td>25.153767</td><td>35210.847401</td><td>0.049042</td><td>3902</td></tr><tr><td>&quot;N&quot;</td><td>&quot;O&quot;</td><td>7463696.00</td><td>10513055198.42</td><td>9986805179.4178</td><td>10386025457.583662</td><td>25.554477</td><td>35994.984759</td><td>0.050106</td><td>292070</td></tr><tr><td>&quot;R&quot;</td><td>&quot;F&quot;</td><td>3791476.00</td><td>5345510296.84</td><td>5079703360.5274</td><td>5282847288.133810</td><td>25.586616</td><td>36073.951606</td><td>0.049952</td><td>148182</td></tr></tbody></table></div>"
      ],
      "text/plain": [
       "shape: (4, 10)\n",
       "┌───────────┬───────────┬───────────┬───────────┬───┬───────────┬───────────┬──────────┬───────────┐\n",
       "│ l_returnf ┆ l_linesta ┆ sum_qty   ┆ sum_base_ ┆ … ┆ avg_qty   ┆ avg_price ┆ avg_disc ┆ count_ord │\n",
       "│ lag       ┆ tus       ┆ ---       ┆ price     ┆   ┆ ---       ┆ ---       ┆ ---      ┆ er        │\n",
       "│ ---       ┆ ---       ┆ decimal[3 ┆ ---       ┆   ┆ f64       ┆ f64       ┆ f64      ┆ ---       │\n",
       "│ str       ┆ str       ┆ 8,2]      ┆ decimal[3 ┆   ┆           ┆           ┆          ┆ i64       │\n",
       "│           ┆           ┆           ┆ 8,2]      ┆   ┆           ┆           ┆          ┆           │\n",
       "╞═══════════╪═══════════╪═══════════╪═══════════╪═══╪═══════════╪═══════════╪══════════╪═══════════╡\n",
       "│ A         ┆ F         ┆ 3792218.0 ┆ 534887396 ┆ … ┆ 25.606139 ┆ 36117.124 ┆ 0.0502   ┆ 148098    │\n",
       "│           ┆           ┆ 0         ┆ 6.98      ┆   ┆           ┆ 924       ┆          ┆           │\n",
       "│ N         ┆ F         ┆ 98150.00  ┆ 137392726 ┆ … ┆ 25.153767 ┆ 35210.847 ┆ 0.049042 ┆ 3902      │\n",
       "│           ┆           ┆           ┆ .56       ┆   ┆           ┆ 401       ┆          ┆           │\n",
       "│ N         ┆ O         ┆ 7463696.0 ┆ 105130551 ┆ … ┆ 25.554477 ┆ 35994.984 ┆ 0.050106 ┆ 292070    │\n",
       "│           ┆           ┆ 0         ┆ 98.42     ┆   ┆           ┆ 759       ┆          ┆           │\n",
       "│ R         ┆ F         ┆ 3791476.0 ┆ 534551029 ┆ … ┆ 25.586616 ┆ 36073.951 ┆ 0.049952 ┆ 148182    │\n",
       "│           ┆           ┆ 0         ┆ 6.84      ┆   ┆           ┆ 606       ┆          ┆           │\n",
       "└───────────┴───────────┴───────────┴───────────┴───┴───────────┴───────────┴──────────┴───────────┘"
      ]
     },
     "execution_count": 39,
     "metadata": {},
     "output_type": "execute_result"
    }
   ],
   "source": [
    "dfs[0]"
   ]
  },
  {
   "cell_type": "code",
   "execution_count": 42,
   "metadata": {},
   "outputs": [
    {
     "data": {
      "text/html": [
       "<div><style>\n",
       ".dataframe > thead > tr,\n",
       ".dataframe > tbody > tr {\n",
       "  text-align: right;\n",
       "  white-space: pre-wrap;\n",
       "}\n",
       "</style>\n",
       "<small>shape: (4, 10)</small><table border=\"1\" class=\"dataframe\"><thead><tr><th>l_returnflag</th><th>l_linestatus</th><th>sum_qty</th><th>sum_base_price</th><th>sum_disc_price</th><th>sum_charge</th><th>avg_qty</th><th>avg_price</th><th>avg_disc</th><th>count_order</th></tr><tr><td>str</td><td>str</td><td>decimal[38,2]</td><td>decimal[38,2]</td><td>decimal[38,4]</td><td>decimal[38,6]</td><td>f64</td><td>f64</td><td>f64</td><td>i64</td></tr></thead><tbody><tr><td>&quot;A&quot;</td><td>&quot;F&quot;</td><td>3769864.00</td><td>5314301932.86</td><td>5047031111.3298</td><td>5249316193.779848</td><td>25.586502</td><td>36068.780171</td><td>0.050196</td><td>147338</td></tr><tr><td>&quot;N&quot;</td><td>&quot;F&quot;</td><td>99496.00</td><td>139694331.64</td><td>132899346.7760</td><td>138271285.165818</td><td>25.420542</td><td>35690.938079</td><td>0.049044</td><td>3914</td></tr><tr><td>&quot;N&quot;</td><td>&quot;O&quot;</td><td>7479196.00</td><td>10536094852.04</td><td>10008590025.8410</td><td>10409172954.410564</td><td>25.53254</td><td>35968.206699</td><td>0.05015</td><td>292928</td></tr><tr><td>&quot;R&quot;</td><td>&quot;F&quot;</td><td>3776130.00</td><td>5322886356.96</td><td>5056940826.7526</td><td>5257875624.590406</td><td>25.476178</td><td>35911.580986</td><td>0.050009</td><td>148222</td></tr></tbody></table></div>"
      ],
      "text/plain": [
       "shape: (4, 10)\n",
       "┌───────────┬───────────┬───────────┬───────────┬───┬───────────┬───────────┬──────────┬───────────┐\n",
       "│ l_returnf ┆ l_linesta ┆ sum_qty   ┆ sum_base_ ┆ … ┆ avg_qty   ┆ avg_price ┆ avg_disc ┆ count_ord │\n",
       "│ lag       ┆ tus       ┆ ---       ┆ price     ┆   ┆ ---       ┆ ---       ┆ ---      ┆ er        │\n",
       "│ ---       ┆ ---       ┆ decimal[3 ┆ ---       ┆   ┆ f64       ┆ f64       ┆ f64      ┆ ---       │\n",
       "│ str       ┆ str       ┆ 8,2]      ┆ decimal[3 ┆   ┆           ┆           ┆          ┆ i64       │\n",
       "│           ┆           ┆           ┆ 8,2]      ┆   ┆           ┆           ┆          ┆           │\n",
       "╞═══════════╪═══════════╪═══════════╪═══════════╪═══╪═══════════╪═══════════╪══════════╪═══════════╡\n",
       "│ A         ┆ F         ┆ 3769864.0 ┆ 531430193 ┆ … ┆ 25.586502 ┆ 36068.780 ┆ 0.050196 ┆ 147338    │\n",
       "│           ┆           ┆ 0         ┆ 2.86      ┆   ┆           ┆ 171       ┆          ┆           │\n",
       "│ N         ┆ F         ┆ 99496.00  ┆ 139694331 ┆ … ┆ 25.420542 ┆ 35690.938 ┆ 0.049044 ┆ 3914      │\n",
       "│           ┆           ┆           ┆ .64       ┆   ┆           ┆ 079       ┆          ┆           │\n",
       "│ N         ┆ O         ┆ 7479196.0 ┆ 105360948 ┆ … ┆ 25.53254  ┆ 35968.206 ┆ 0.05015  ┆ 292928    │\n",
       "│           ┆           ┆ 0         ┆ 52.04     ┆   ┆           ┆ 699       ┆          ┆           │\n",
       "│ R         ┆ F         ┆ 3776130.0 ┆ 532288635 ┆ … ┆ 25.476178 ┆ 35911.580 ┆ 0.050009 ┆ 148222    │\n",
       "│           ┆           ┆ 0         ┆ 6.96      ┆   ┆           ┆ 986       ┆          ┆           │\n",
       "└───────────┴───────────┴───────────┴───────────┴───┴───────────┴───────────┴──────────┴───────────┘"
      ]
     },
     "execution_count": 42,
     "metadata": {},
     "output_type": "execute_result"
    }
   ],
   "source": [
    "og.update(dfs[1].select(OUTPUT_COLS))"
   ]
  },
  {
   "cell_type": "code",
   "execution_count": null,
   "metadata": {},
   "outputs": [
    {
     "data": {
      "text/html": [
       "<div><style>\n",
       ".dataframe > thead > tr,\n",
       ".dataframe > tbody > tr {\n",
       "  text-align: right;\n",
       "  white-space: pre-wrap;\n",
       "}\n",
       "</style>\n",
       "<small>shape: (4, 10)</small><table border=\"1\" class=\"dataframe\"><thead><tr><th>l_returnflag</th><th>l_linestatus</th><th>sum_qty</th><th>sum_base_price</th><th>sum_disc_price</th><th>sum_charge</th><th>avg_qty</th><th>avg_price</th><th>avg_disc</th><th>count_order</th></tr><tr><td>str</td><td>str</td><td>decimal[38,2]</td><td>decimal[38,2]</td><td>decimal[38,4]</td><td>decimal[38,6]</td><td>f64</td><td>f64</td><td>f64</td><td>i64</td></tr></thead><tbody><tr><td>&quot;A&quot;</td><td>&quot;F&quot;</td><td>3792218.00</td><td>5348873966.97</td><td>5080445037.0262</td><td>5284350579.054660</td><td>25.606139</td><td>36117.124924</td><td>0.0502</td><td>148098</td></tr><tr><td>&quot;N&quot;</td><td>&quot;F&quot;</td><td>98150.00</td><td>137392726.56</td><td>130621994.2802</td><td>135936189.560958</td><td>25.153767</td><td>35210.847401</td><td>0.049042</td><td>3902</td></tr><tr><td>&quot;N&quot;</td><td>&quot;O&quot;</td><td>7463696.00</td><td>10513055198.42</td><td>9986805179.4178</td><td>10386025457.583662</td><td>25.554477</td><td>35994.984759</td><td>0.050106</td><td>292070</td></tr><tr><td>&quot;R&quot;</td><td>&quot;F&quot;</td><td>3791476.00</td><td>5345510296.84</td><td>5079703360.5274</td><td>5282847288.133810</td><td>25.586616</td><td>36073.951606</td><td>0.049952</td><td>148182</td></tr></tbody></table></div>"
      ],
      "text/plain": [
       "shape: (4, 10)\n",
       "┌───────────┬───────────┬───────────┬───────────┬───┬───────────┬───────────┬──────────┬───────────┐\n",
       "│ l_returnf ┆ l_linesta ┆ sum_qty   ┆ sum_base_ ┆ … ┆ avg_qty   ┆ avg_price ┆ avg_disc ┆ count_ord │\n",
       "│ lag       ┆ tus       ┆ ---       ┆ price     ┆   ┆ ---       ┆ ---       ┆ ---      ┆ er        │\n",
       "│ ---       ┆ ---       ┆ decimal[3 ┆ ---       ┆   ┆ f64       ┆ f64       ┆ f64      ┆ ---       │\n",
       "│ str       ┆ str       ┆ 8,2]      ┆ decimal[3 ┆   ┆           ┆           ┆          ┆ i64       │\n",
       "│           ┆           ┆           ┆ 8,2]      ┆   ┆           ┆           ┆          ┆           │\n",
       "╞═══════════╪═══════════╪═══════════╪═══════════╪═══╪═══════════╪═══════════╪══════════╪═══════════╡\n",
       "│ A         ┆ F         ┆ 3792218.0 ┆ 534887396 ┆ … ┆ 25.606139 ┆ 36117.124 ┆ 0.0502   ┆ 148098    │\n",
       "│           ┆           ┆ 0         ┆ 6.97      ┆   ┆           ┆ 924       ┆          ┆           │\n",
       "│ N         ┆ F         ┆ 98150.00  ┆ 137392726 ┆ … ┆ 25.153767 ┆ 35210.847 ┆ 0.049042 ┆ 3902      │\n",
       "│           ┆           ┆           ┆ .56       ┆   ┆           ┆ 401       ┆          ┆           │\n",
       "│ N         ┆ O         ┆ 7463696.0 ┆ 105130551 ┆ … ┆ 25.554477 ┆ 35994.984 ┆ 0.050106 ┆ 292070    │\n",
       "│           ┆           ┆ 0         ┆ 98.42     ┆   ┆           ┆ 759       ┆          ┆           │\n",
       "│ R         ┆ F         ┆ 3791476.0 ┆ 534551029 ┆ … ┆ 25.586616 ┆ 36073.951 ┆ 0.049952 ┆ 148182    │\n",
       "│           ┆           ┆ 0         ┆ 6.84      ┆   ┆           ┆ 606       ┆          ┆           │\n",
       "└───────────┴───────────┴───────────┴───────────┴───┴───────────┴───────────┴──────────┴───────────┘"
      ]
     },
     "execution_count": 70,
     "metadata": {},
     "output_type": "execute_result"
    }
   ],
   "source": [
    "dfs[0].update( # put values back into the original dataframe\n",
    "    pl.DataFrame(\n",
    "        arr, \n",
    "        schema=dfs[0].select(OUTPUT_COLS).collect_schema() # coerce numpy array to the correct schema\n",
    "    ) # index cols will be left unchanged (not updated b/c we only update output_cols)\n",
    ")"
   ]
  },
  {
   "cell_type": "code",
   "execution_count": 67,
   "metadata": {},
   "outputs": [
    {
     "data": {
      "text/html": [
       "<div><style>\n",
       ".dataframe > thead > tr,\n",
       ".dataframe > tbody > tr {\n",
       "  text-align: right;\n",
       "  white-space: pre-wrap;\n",
       "}\n",
       "</style>\n",
       "<small>shape: (4, 10)</small><table border=\"1\" class=\"dataframe\"><thead><tr><th>l_returnflag</th><th>l_linestatus</th><th>sum_qty</th><th>sum_base_price</th><th>sum_disc_price</th><th>sum_charge</th><th>avg_qty</th><th>avg_price</th><th>avg_disc</th><th>count_order</th></tr><tr><td>str</td><td>str</td><td>decimal[38,2]</td><td>decimal[38,2]</td><td>decimal[38,4]</td><td>decimal[38,6]</td><td>f64</td><td>f64</td><td>f64</td><td>i64</td></tr></thead><tbody><tr><td>&quot;A&quot;</td><td>&quot;F&quot;</td><td>3792218.00</td><td>5348873966.98</td><td>5080445037.0262</td><td>5284350579.054660</td><td>25.606139</td><td>36117.124924</td><td>0.0502</td><td>148098</td></tr><tr><td>&quot;N&quot;</td><td>&quot;F&quot;</td><td>98150.00</td><td>137392726.56</td><td>130621994.2802</td><td>135936189.560958</td><td>25.153767</td><td>35210.847401</td><td>0.049042</td><td>3902</td></tr><tr><td>&quot;N&quot;</td><td>&quot;O&quot;</td><td>7463696.00</td><td>10513055198.42</td><td>9986805179.4178</td><td>10386025457.583662</td><td>25.554477</td><td>35994.984759</td><td>0.050106</td><td>292070</td></tr><tr><td>&quot;R&quot;</td><td>&quot;F&quot;</td><td>3791476.00</td><td>5345510296.84</td><td>5079703360.5274</td><td>5282847288.133810</td><td>25.586616</td><td>36073.951606</td><td>0.049952</td><td>148182</td></tr></tbody></table></div>"
      ],
      "text/plain": [
       "shape: (4, 10)\n",
       "┌───────────┬───────────┬───────────┬───────────┬───┬───────────┬───────────┬──────────┬───────────┐\n",
       "│ l_returnf ┆ l_linesta ┆ sum_qty   ┆ sum_base_ ┆ … ┆ avg_qty   ┆ avg_price ┆ avg_disc ┆ count_ord │\n",
       "│ lag       ┆ tus       ┆ ---       ┆ price     ┆   ┆ ---       ┆ ---       ┆ ---      ┆ er        │\n",
       "│ ---       ┆ ---       ┆ decimal[3 ┆ ---       ┆   ┆ f64       ┆ f64       ┆ f64      ┆ ---       │\n",
       "│ str       ┆ str       ┆ 8,2]      ┆ decimal[3 ┆   ┆           ┆           ┆          ┆ i64       │\n",
       "│           ┆           ┆           ┆ 8,2]      ┆   ┆           ┆           ┆          ┆           │\n",
       "╞═══════════╪═══════════╪═══════════╪═══════════╪═══╪═══════════╪═══════════╪══════════╪═══════════╡\n",
       "│ A         ┆ F         ┆ 3792218.0 ┆ 534887396 ┆ … ┆ 25.606139 ┆ 36117.124 ┆ 0.0502   ┆ 148098    │\n",
       "│           ┆           ┆ 0         ┆ 6.98      ┆   ┆           ┆ 924       ┆          ┆           │\n",
       "│ N         ┆ F         ┆ 98150.00  ┆ 137392726 ┆ … ┆ 25.153767 ┆ 35210.847 ┆ 0.049042 ┆ 3902      │\n",
       "│           ┆           ┆           ┆ .56       ┆   ┆           ┆ 401       ┆          ┆           │\n",
       "│ N         ┆ O         ┆ 7463696.0 ┆ 105130551 ┆ … ┆ 25.554477 ┆ 35994.984 ┆ 0.050106 ┆ 292070    │\n",
       "│           ┆           ┆ 0         ┆ 98.42     ┆   ┆           ┆ 759       ┆          ┆           │\n",
       "│ R         ┆ F         ┆ 3791476.0 ┆ 534551029 ┆ … ┆ 25.586616 ┆ 36073.951 ┆ 0.049952 ┆ 148182    │\n",
       "│           ┆           ┆ 0         ┆ 6.84      ┆   ┆           ┆ 606       ┆          ┆           │\n",
       "└───────────┴───────────┴───────────┴───────────┴───┴───────────┴───────────┴──────────┴───────────┘"
      ]
     },
     "execution_count": 67,
     "metadata": {},
     "output_type": "execute_result"
    }
   ],
   "source": [
    "dfs[0]"
   ]
  },
  {
   "cell_type": "code",
   "execution_count": 68,
   "metadata": {},
   "outputs": [
    {
     "data": {
      "text/html": [
       "<div><style>\n",
       ".dataframe > thead > tr,\n",
       ".dataframe > tbody > tr {\n",
       "  text-align: right;\n",
       "  white-space: pre-wrap;\n",
       "}\n",
       "</style>\n",
       "<small>shape: (4, 10)</small><table border=\"1\" class=\"dataframe\"><thead><tr><th>l_returnflag</th><th>l_linestatus</th><th>sum_qty</th><th>sum_base_price</th><th>sum_disc_price</th><th>sum_charge</th><th>avg_qty</th><th>avg_price</th><th>avg_disc</th><th>count_order</th></tr><tr><td>str</td><td>str</td><td>decimal[38,2]</td><td>decimal[38,2]</td><td>decimal[38,4]</td><td>decimal[38,6]</td><td>f64</td><td>f64</td><td>f64</td><td>i64</td></tr></thead><tbody><tr><td>&quot;A&quot;</td><td>&quot;F&quot;</td><td>3792218.00</td><td>5348873966.98</td><td>5080445037.0262</td><td>5284350579.054660</td><td>25.606139</td><td>36117.124924</td><td>0.0502</td><td>148098</td></tr><tr><td>&quot;N&quot;</td><td>&quot;F&quot;</td><td>98150.00</td><td>137392726.56</td><td>130621994.2802</td><td>135936189.560958</td><td>25.153767</td><td>35210.847401</td><td>0.049042</td><td>3902</td></tr><tr><td>&quot;N&quot;</td><td>&quot;O&quot;</td><td>7463696.00</td><td>10513055198.42</td><td>9986805179.4178</td><td>10386025457.583662</td><td>25.554477</td><td>35994.984759</td><td>0.050106</td><td>292070</td></tr><tr><td>&quot;R&quot;</td><td>&quot;F&quot;</td><td>3791476.00</td><td>5345510296.84</td><td>5079703360.5274</td><td>5282847288.133810</td><td>25.586616</td><td>36073.951606</td><td>0.049952</td><td>148182</td></tr></tbody></table></div>"
      ],
      "text/plain": [
       "shape: (4, 10)\n",
       "┌───────────┬───────────┬───────────┬───────────┬───┬───────────┬───────────┬──────────┬───────────┐\n",
       "│ l_returnf ┆ l_linesta ┆ sum_qty   ┆ sum_base_ ┆ … ┆ avg_qty   ┆ avg_price ┆ avg_disc ┆ count_ord │\n",
       "│ lag       ┆ tus       ┆ ---       ┆ price     ┆   ┆ ---       ┆ ---       ┆ ---      ┆ er        │\n",
       "│ ---       ┆ ---       ┆ decimal[3 ┆ ---       ┆   ┆ f64       ┆ f64       ┆ f64      ┆ ---       │\n",
       "│ str       ┆ str       ┆ 8,2]      ┆ decimal[3 ┆   ┆           ┆           ┆          ┆ i64       │\n",
       "│           ┆           ┆           ┆ 8,2]      ┆   ┆           ┆           ┆          ┆           │\n",
       "╞═══════════╪═══════════╪═══════════╪═══════════╪═══╪═══════════╪═══════════╪══════════╪═══════════╡\n",
       "│ A         ┆ F         ┆ 3792218.0 ┆ 534887396 ┆ … ┆ 25.606139 ┆ 36117.124 ┆ 0.0502   ┆ 148098    │\n",
       "│           ┆           ┆ 0         ┆ 6.98      ┆   ┆           ┆ 924       ┆          ┆           │\n",
       "│ N         ┆ F         ┆ 98150.00  ┆ 137392726 ┆ … ┆ 25.153767 ┆ 35210.847 ┆ 0.049042 ┆ 3902      │\n",
       "│           ┆           ┆           ┆ .56       ┆   ┆           ┆ 401       ┆          ┆           │\n",
       "│ N         ┆ O         ┆ 7463696.0 ┆ 105130551 ┆ … ┆ 25.554477 ┆ 35994.984 ┆ 0.050106 ┆ 292070    │\n",
       "│           ┆           ┆ 0         ┆ 98.42     ┆   ┆           ┆ 759       ┆          ┆           │\n",
       "│ R         ┆ F         ┆ 3791476.0 ┆ 534551029 ┆ … ┆ 25.586616 ┆ 36073.951 ┆ 0.049952 ┆ 148182    │\n",
       "│           ┆           ┆ 0         ┆ 6.84      ┆   ┆           ┆ 606       ┆          ┆           │\n",
       "└───────────┴───────────┴───────────┴───────────┴───┴───────────┴───────────┴──────────┴───────────┘"
      ]
     },
     "execution_count": 68,
     "metadata": {},
     "output_type": "execute_result"
    }
   ],
   "source": [
    "dfs[0]"
   ]
  },
  {
   "cell_type": "code",
   "execution_count": null,
   "metadata": {},
   "outputs": [],
   "source": []
  }
 ],
 "metadata": {
  "kernelspec": {
   "display_name": ".venv",
   "language": "python",
   "name": "python3"
  },
  "language_info": {
   "codemirror_mode": {
    "name": "ipython",
    "version": 3
   },
   "file_extension": ".py",
   "mimetype": "text/x-python",
   "name": "python",
   "nbconvert_exporter": "python",
   "pygments_lexer": "ipython3",
   "version": "3.11.7"
  }
 },
 "nbformat": 4,
 "nbformat_minor": 2
}
