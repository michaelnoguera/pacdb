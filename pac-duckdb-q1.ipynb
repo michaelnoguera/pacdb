{
 "cells": [
  {
   "cell_type": "markdown",
   "metadata": {},
   "source": [
    "## DuckDB Notebook\n",
    "\n",
    "This notebook generates a bunch of raw outputs, without applying PAC, to be consumed by a second stage."
   ]
  },
  {
   "cell_type": "markdown",
   "metadata": {},
   "source": [
    "```\n",
    " group by              output cols                        \n",
    " key cols ┌────────┬────────┬────────┬────────┐           \n",
    "        │ │   A    │   B    │   C    │   D    │           \n",
    "      ┌─▼─┼────────┼────────┼────────┼────────┤           \n",
    "      │ 1 │   2    │        │        │        │           \n",
    "      ├───┼───|────┼────────┼────────┼────────┤           \n",
    "      │ 2 │   │    │        │        │        │           \n",
    "      ├───┼───┼────┼────────┼────────┼────────┤           \n",
    "      │ 3 │   │    │        │        │        │           \n",
    "      └───┴───┼────┴────────┴────────┴────────┘           \n",
    "              ▼                 A_1.json                  \n",
    "       Sample 0:   A1=2        ┌─────────────────────────┐\n",
    "       Sample 1:   A1=4  ───▶  │{                        │\n",
    "             ...               │    col: A               │\n",
    "       Sample 999: A1=3        │    row: 1               │\n",
    "                               │    value: [2, 4, ... 3] │\n",
    "                               │}                        │\n",
    "                               └─────────────────────────┘\n",
    "```"
   ]
  },
  {
   "cell_type": "code",
   "execution_count": 1,
   "metadata": {},
   "outputs": [
    {
     "name": "stdout",
     "output_type": "stream",
     "text": [
      "GENERATE = False, so we will load saved output from files rather than recomputing.\n"
     ]
    }
   ],
   "source": [
    "#!/usr/bin/env python\n",
    "# coding: utf-8\n",
    "\n",
    "EXPERIMENT = 'pac-duckdb-q1'\n",
    "OUTPUT_DIR = f'./outputs/{EXPERIMENT}'\n",
    "GENERATE = False\n",
    "USE_EVEN_NUMBER_OF_INPUT_ROWS = False\n",
    "\n",
    "if GENERATE:\n",
    "    print(\"GENERATE = True, so we will generate new samples.\")\n",
    "else:\n",
    "    print(\"GENERATE = False, so we will load saved output from files rather than recomputing.\")\n",
    "\n",
    "import os\n",
    "from typing import List\n",
    "if not os.path.exists(OUTPUT_DIR):\n",
    "    os.makedirs(OUTPUT_DIR)\n",
    "\n",
    "import numpy as np\n",
    "import pickle\n",
    "\n",
    "import duckdb\n",
    "import polars as pl\n",
    "import pyarrow as pa\n",
    "\n",
    "# duckdb load data/tpch/tpch.duckdb\n",
    "#con = duckdb.connect(database='data/tpch/tpch.duckdb', read_only=True)\n",
    "con = duckdb.connect(database=':memory:')\n",
    "tables = [\"customer\", \"lineitem\", \"nation\", \"orders\", \"part\", \"partsupp\", \"region\", \"supplier\"]\n",
    "#tables = [\"lineitem\", \"orders\"]\n",
    "for t in tables:\n",
    "    con.execute(f\"CREATE TABLE {t} AS SELECT * FROM 'data/tpch/{t}.parquet'\")\n",
    "\n",
    "lineitem_df = con.execute(\"SELECT * FROM lineitem\").fetchdf()\n",
    "orders_df = con.execute(\"SELECT * FROM orders\").fetchdf()\n",
    "\n",
    "row_count = lineitem_df.shape[0]"
   ]
  },
  {
   "cell_type": "code",
   "execution_count": 2,
   "metadata": {},
   "outputs": [],
   "source": [
    "# Construct the table of random samples\n",
    "# to use, join it with the lineitem table (for specific sample # s) and filter to just the\n",
    "# rows where random_binary = 1.0\n",
    "# This will give us a 50% sample of the lineitem table for each sample # s\n",
    "\n",
    "SAMPLES = 1024\n",
    "assert SAMPLES % 2 == 0, \"SAMPLES must be even to create complementary samples.\"\n",
    "\n",
    "random_samples = con.execute(f\"\"\"\n",
    "DROP TABLE IF EXISTS random_samples;\n",
    "\n",
    "CREATE TABLE random_samples AS\n",
    "WITH sample_numbers AS MATERIALIZED (\n",
    "    SELECT range AS sample_id FROM range({SAMPLES//2})\n",
    "), random_values AS MATERIALIZED (\n",
    "    SELECT \n",
    "        sample_numbers.sample_id,\n",
    "        customer.rowid AS row_id,\n",
    "        (RANDOM() > 0.5)::BOOLEAN AS random_binary\n",
    "    FROM sample_numbers\n",
    "    JOIN customer ON TRUE  -- Cross join to duplicate rows for each sample\n",
    ")\n",
    "SELECT\n",
    "    sample_id,\n",
    "    row_id,\n",
    "    random_binary\n",
    "FROM random_values\n",
    "UNION ALL\n",
    "SELECT -- select the complementary samples too\n",
    "    ({SAMPLES//2}) + sample_id,\n",
    "    row_id,\n",
    "    NOT random_binary  -- Inverse the random_binary to get the complementary sample\n",
    "FROM random_values\n",
    "ORDER BY sample_id, row_id;\n",
    "\"\"\")"
   ]
  },
  {
   "cell_type": "markdown",
   "metadata": {},
   "source": [
    "The randomness of what rows are chosen is saved to disk in `random_binary.json`. For each sample #, there is an array with one entry per row, where 1 means the row was chosen and 0 means it was not."
   ]
  },
  {
   "cell_type": "code",
   "execution_count": 3,
   "metadata": {},
   "outputs": [],
   "source": [
    "con.execute(f\"\"\"\n",
    "SELECT sample_id, array_agg(random_binary::TINYINT) as random_binary\n",
    "FROM random_samples\n",
    "GROUP BY sample_id;\n",
    "\"\"\").pl().write_json(f\"{OUTPUT_DIR}/random_binary.json\")"
   ]
  },
  {
   "cell_type": "markdown",
   "metadata": {},
   "source": [
    "Query is specified as a prepared statement. We will then execute it once per sample."
   ]
  },
  {
   "cell_type": "code",
   "execution_count": 4,
   "metadata": {},
   "outputs": [
    {
     "data": {
      "text/html": [
       "<div><style>\n",
       ".dataframe > thead > tr,\n",
       ".dataframe > tbody > tr {\n",
       "  text-align: right;\n",
       "  white-space: pre-wrap;\n",
       "}\n",
       "</style>\n",
       "<small>shape: (4, 10)</small><table border=\"1\" class=\"dataframe\"><thead><tr><th>l_returnflag</th><th>l_linestatus</th><th>sum_qty</th><th>sum_base_price</th><th>sum_disc_price</th><th>sum_charge</th><th>avg_qty</th><th>avg_price</th><th>avg_disc</th><th>count_order</th></tr><tr><td>str</td><td>str</td><td>decimal[38,2]</td><td>decimal[38,2]</td><td>decimal[38,4]</td><td>decimal[38,6]</td><td>f64</td><td>f64</td><td>f64</td><td>i64</td></tr></thead><tbody><tr><td>&quot;A&quot;</td><td>&quot;F&quot;</td><td>3872600.00</td><td>5455999234.44</td><td>5183002074.6370</td><td>5390928871.288478</td><td>25.547888</td><td>35993.71452</td><td>0.050045</td><td>151582</td></tr><tr><td>&quot;N&quot;</td><td>&quot;F&quot;</td><td>100320.00</td><td>140524548.00</td><td>133673902.6596</td><td>139097782.899638</td><td>25.683564</td><td>35976.58679</td><td>0.049037</td><td>3906</td></tr><tr><td>&quot;N&quot;</td><td>&quot;O&quot;</td><td>7612938.00</td><td>10723688730.44</td><td>10187962703.2562</td><td>10595611689.229362</td><td>25.595902</td><td>36054.738392</td><td>0.050026</td><td>297428</td></tr><tr><td>&quot;R&quot;</td><td>&quot;F&quot;</td><td>3883504.00</td><td>5480829269.88</td><td>5206187089.8862</td><td>5414018366.679110</td><td>25.530892</td><td>36032.011504</td><td>0.050182</td><td>152110</td></tr></tbody></table></div>"
      ],
      "text/plain": [
       "shape: (4, 10)\n",
       "┌───────────┬───────────┬───────────┬───────────┬───┬───────────┬───────────┬──────────┬───────────┐\n",
       "│ l_returnf ┆ l_linesta ┆ sum_qty   ┆ sum_base_ ┆ … ┆ avg_qty   ┆ avg_price ┆ avg_disc ┆ count_ord │\n",
       "│ lag       ┆ tus       ┆ ---       ┆ price     ┆   ┆ ---       ┆ ---       ┆ ---      ┆ er        │\n",
       "│ ---       ┆ ---       ┆ decimal[3 ┆ ---       ┆   ┆ f64       ┆ f64       ┆ f64      ┆ ---       │\n",
       "│ str       ┆ str       ┆ 8,2]      ┆ decimal[3 ┆   ┆           ┆           ┆          ┆ i64       │\n",
       "│           ┆           ┆           ┆ 8,2]      ┆   ┆           ┆           ┆          ┆           │\n",
       "╞═══════════╪═══════════╪═══════════╪═══════════╪═══╪═══════════╪═══════════╪══════════╪═══════════╡\n",
       "│ A         ┆ F         ┆ 3872600.0 ┆ 545599923 ┆ … ┆ 25.547888 ┆ 35993.714 ┆ 0.050045 ┆ 151582    │\n",
       "│           ┆           ┆ 0         ┆ 4.44      ┆   ┆           ┆ 52        ┆          ┆           │\n",
       "│ N         ┆ F         ┆ 100320.00 ┆ 140524548 ┆ … ┆ 25.683564 ┆ 35976.586 ┆ 0.049037 ┆ 3906      │\n",
       "│           ┆           ┆           ┆ .00       ┆   ┆           ┆ 79        ┆          ┆           │\n",
       "│ N         ┆ O         ┆ 7612938.0 ┆ 107236887 ┆ … ┆ 25.595902 ┆ 36054.738 ┆ 0.050026 ┆ 297428    │\n",
       "│           ┆           ┆ 0         ┆ 30.44     ┆   ┆           ┆ 392       ┆          ┆           │\n",
       "│ R         ┆ F         ┆ 3883504.0 ┆ 548082926 ┆ … ┆ 25.530892 ┆ 36032.011 ┆ 0.050182 ┆ 152110    │\n",
       "│           ┆           ┆ 0         ┆ 9.88      ┆   ┆           ┆ 504       ┆          ┆           │\n",
       "└───────────┴───────────┴───────────┴───────────┴───┴───────────┴───────────┴──────────┴───────────┘"
      ]
     },
     "execution_count": 4,
     "metadata": {},
     "output_type": "execute_result"
    }
   ],
   "source": [
    "# Query\n",
    "con.execute(\"\"\"\n",
    "DEALLOCATE PREPARE run_query;\n",
    "\n",
    "PREPARE run_query AS \n",
    "SELECT\n",
    "    l_returnflag,\n",
    "    l_linestatus,\n",
    "    2*sum(l_quantity) AS sum_qty,\n",
    "    2*sum(l_extendedprice) AS sum_base_price,\n",
    "    2*sum(l_extendedprice * (1 - l_discount)) AS sum_disc_price,\n",
    "    2*sum(l_extendedprice * (1 - l_discount) * (1 + l_tax)) AS sum_charge,\n",
    "    avg(l_quantity) AS avg_qty,\n",
    "    avg(l_extendedprice) AS avg_price,\n",
    "    avg(l_discount) AS avg_disc,\n",
    "    2*count(*) AS count_order\n",
    "FROM\n",
    "    lineitem\n",
    "JOIN orders ON lineitem.l_orderkey = orders.o_orderkey\n",
    "JOIN customer ON orders.o_custkey = customer.c_custkey\n",
    "JOIN random_samples AS rs\n",
    "    ON rs.row_id = customer.rowid\n",
    "WHERE\n",
    "    l_shipdate <= CAST('1998-09-02' AS date)\n",
    "    AND rs.random_binary = TRUE\n",
    "    AND rs.sample_id = $sample\n",
    "GROUP BY\n",
    "    l_returnflag,\n",
    "    l_linestatus\n",
    "ORDER BY\n",
    "    l_returnflag,\n",
    "    l_linestatus;\n",
    "\"\"\")\n",
    "\n",
    "# Run query to see output\n",
    "dfs0 = con.execute(f\"EXECUTE run_query(sample := {0});\").pl()\n",
    "\n",
    "# Save csv copies of the first 5 samples\n",
    "os.makedirs(f\"{OUTPUT_DIR}/csv\", exist_ok=True)\n",
    "for s in range(5):\n",
    "    con.execute(f\"EXECUTE run_query(sample := {s});\").pl().write_csv(f\"{OUTPUT_DIR}/csv/sample_{s}.csv\")\n",
    "\n",
    "dfs0"
   ]
  },
  {
   "cell_type": "code",
   "execution_count": 5,
   "metadata": {},
   "outputs": [
    {
     "data": {
      "text/html": [
       "<div><style>\n",
       ".dataframe > thead > tr,\n",
       ".dataframe > tbody > tr {\n",
       "  text-align: right;\n",
       "  white-space: pre-wrap;\n",
       "}\n",
       "</style>\n",
       "<small>shape: (4_096, 11)</small><table border=\"1\" class=\"dataframe\"><thead><tr><th>sample</th><th>l_returnflag</th><th>l_linestatus</th><th>sum_qty</th><th>sum_base_price</th><th>sum_disc_price</th><th>sum_charge</th><th>avg_qty</th><th>avg_price</th><th>avg_disc</th><th>count_order</th></tr><tr><td>i32</td><td>str</td><td>str</td><td>decimal[38,2]</td><td>decimal[38,2]</td><td>decimal[38,4]</td><td>decimal[38,6]</td><td>f64</td><td>f64</td><td>f64</td><td>i64</td></tr></thead><tbody><tr><td>0</td><td>&quot;A&quot;</td><td>&quot;F&quot;</td><td>3872600.00</td><td>5455999234.44</td><td>5183002074.6370</td><td>5390928871.288478</td><td>25.547888</td><td>35993.71452</td><td>0.050045</td><td>151582</td></tr><tr><td>0</td><td>&quot;N&quot;</td><td>&quot;F&quot;</td><td>100320.00</td><td>140524548.00</td><td>133673902.6596</td><td>139097782.899638</td><td>25.683564</td><td>35976.58679</td><td>0.049037</td><td>3906</td></tr><tr><td>0</td><td>&quot;N&quot;</td><td>&quot;O&quot;</td><td>7612938.00</td><td>10723688730.44</td><td>10187962703.2562</td><td>10595611689.229362</td><td>25.595902</td><td>36054.738392</td><td>0.050026</td><td>297428</td></tr><tr><td>0</td><td>&quot;R&quot;</td><td>&quot;F&quot;</td><td>3883504.00</td><td>5480829269.88</td><td>5206187089.8862</td><td>5414018366.679110</td><td>25.530892</td><td>36032.011504</td><td>0.050182</td><td>152110</td></tr><tr><td>1</td><td>&quot;A&quot;</td><td>&quot;F&quot;</td><td>3814684.00</td><td>5371564822.48</td><td>5102349478.7372</td><td>5307162753.446800</td><td>25.575472</td><td>36013.548564</td><td>0.050089</td><td>149154</td></tr><tr><td>&hellip;</td><td>&hellip;</td><td>&hellip;</td><td>&hellip;</td><td>&hellip;</td><td>&hellip;</td><td>&hellip;</td><td>&hellip;</td><td>&hellip;</td><td>&hellip;</td><td>&hellip;</td></tr><tr><td>1022</td><td>&quot;R&quot;</td><td>&quot;F&quot;</td><td>3816766.00</td><td>5380654177.90</td><td>5112668842.5692</td><td>5316650859.393206</td><td>25.536357</td><td>35999.666662</td><td>0.049963</td><td>149464</td></tr><tr><td>1023</td><td>&quot;A&quot;</td><td>&quot;F&quot;</td><td>3735524.00</td><td>5263230946.96</td><td>4998594086.3996</td><td>5199040855.429432</td><td>25.566868</td><td>36022.879972</td><td>0.050322</td><td>146108</td></tr><tr><td>1023</td><td>&quot;N&quot;</td><td>&quot;F&quot;</td><td>96504.00</td><td>135476490.56</td><td>128828550.0050</td><td>134060343.512812</td><td>25.557203</td><td>35878.307881</td><td>0.04901</td><td>3776</td></tr><tr><td>1023</td><td>&quot;N&quot;</td><td>&quot;O&quot;</td><td>7383016.00</td><td>10405091665.52</td><td>9884850142.3378</td><td>10280838228.071774</td><td>25.579517</td><td>36049.931281</td><td>0.050046</td><td>288630</td></tr><tr><td>1023</td><td>&quot;R&quot;</td><td>&quot;F&quot;</td><td>3733208.00</td><td>5264958039.52</td><td>5003254201.9076</td><td>5202537701.341728</td><td>25.582884</td><td>36079.643378</td><td>0.049795</td><td>145926</td></tr></tbody></table></div>"
      ],
      "text/plain": [
       "shape: (4_096, 11)\n",
       "┌────────┬────────────┬────────────┬────────────┬───┬───────────┬───────────┬──────────┬───────────┐\n",
       "│ sample ┆ l_returnfl ┆ l_linestat ┆ sum_qty    ┆ … ┆ avg_qty   ┆ avg_price ┆ avg_disc ┆ count_ord │\n",
       "│ ---    ┆ ag         ┆ us         ┆ ---        ┆   ┆ ---       ┆ ---       ┆ ---      ┆ er        │\n",
       "│ i32    ┆ ---        ┆ ---        ┆ decimal[38 ┆   ┆ f64       ┆ f64       ┆ f64      ┆ ---       │\n",
       "│        ┆ str        ┆ str        ┆ ,2]        ┆   ┆           ┆           ┆          ┆ i64       │\n",
       "╞════════╪════════════╪════════════╪════════════╪═══╪═══════════╪═══════════╪══════════╪═══════════╡\n",
       "│ 0      ┆ A          ┆ F          ┆ 3872600.00 ┆ … ┆ 25.547888 ┆ 35993.714 ┆ 0.050045 ┆ 151582    │\n",
       "│        ┆            ┆            ┆            ┆   ┆           ┆ 52        ┆          ┆           │\n",
       "│ 0      ┆ N          ┆ F          ┆ 100320.00  ┆ … ┆ 25.683564 ┆ 35976.586 ┆ 0.049037 ┆ 3906      │\n",
       "│        ┆            ┆            ┆            ┆   ┆           ┆ 79        ┆          ┆           │\n",
       "│ 0      ┆ N          ┆ O          ┆ 7612938.00 ┆ … ┆ 25.595902 ┆ 36054.738 ┆ 0.050026 ┆ 297428    │\n",
       "│        ┆            ┆            ┆            ┆   ┆           ┆ 392       ┆          ┆           │\n",
       "│ 0      ┆ R          ┆ F          ┆ 3883504.00 ┆ … ┆ 25.530892 ┆ 36032.011 ┆ 0.050182 ┆ 152110    │\n",
       "│        ┆            ┆            ┆            ┆   ┆           ┆ 504       ┆          ┆           │\n",
       "│ 1      ┆ A          ┆ F          ┆ 3814684.00 ┆ … ┆ 25.575472 ┆ 36013.548 ┆ 0.050089 ┆ 149154    │\n",
       "│        ┆            ┆            ┆            ┆   ┆           ┆ 564       ┆          ┆           │\n",
       "│ …      ┆ …          ┆ …          ┆ …          ┆ … ┆ …         ┆ …         ┆ …        ┆ …         │\n",
       "│ 1022   ┆ R          ┆ F          ┆ 3816766.00 ┆ … ┆ 25.536357 ┆ 35999.666 ┆ 0.049963 ┆ 149464    │\n",
       "│        ┆            ┆            ┆            ┆   ┆           ┆ 662       ┆          ┆           │\n",
       "│ 1023   ┆ A          ┆ F          ┆ 3735524.00 ┆ … ┆ 25.566868 ┆ 36022.879 ┆ 0.050322 ┆ 146108    │\n",
       "│        ┆            ┆            ┆            ┆   ┆           ┆ 972       ┆          ┆           │\n",
       "│ 1023   ┆ N          ┆ F          ┆ 96504.00   ┆ … ┆ 25.557203 ┆ 35878.307 ┆ 0.04901  ┆ 3776      │\n",
       "│        ┆            ┆            ┆            ┆   ┆           ┆ 881       ┆          ┆           │\n",
       "│ 1023   ┆ N          ┆ O          ┆ 7383016.00 ┆ … ┆ 25.579517 ┆ 36049.931 ┆ 0.050046 ┆ 288630    │\n",
       "│        ┆            ┆            ┆            ┆   ┆           ┆ 281       ┆          ┆           │\n",
       "│ 1023   ┆ R          ┆ F          ┆ 3733208.00 ┆ … ┆ 25.582884 ┆ 36079.643 ┆ 0.049795 ┆ 145926    │\n",
       "│        ┆            ┆            ┆            ┆   ┆           ┆ 378       ┆          ┆           │\n",
       "└────────┴────────────┴────────────┴────────────┴───┴───────────┴───────────┴──────────┴───────────┘"
      ]
     },
     "execution_count": 5,
     "metadata": {},
     "output_type": "execute_result"
    }
   ],
   "source": [
    "# Run the query for each sample, but accumulate in a pl.DataFrame instead of a list\n",
    "dfsdf: pl.DataFrame = pl.concat(\n",
    "    con.execute(f\"EXECUTE run_query(sample := {s});\").pl().insert_column(0, pl.lit(s).alias(\"sample\"))\n",
    "    for s in range(SAMPLES)\n",
    ")\n",
    "dfsdf"
   ]
  },
  {
   "cell_type": "code",
   "execution_count": 19,
   "metadata": {},
   "outputs": [],
   "source": [
    "# Define which columns are the group-by keys (INDEX_COLS) and which are the output columns (OUTPUT_COLS)\n",
    "INDEX_COLS = ['l_returnflag', 'l_linestatus']\n",
    "OUTPUT_COLS = ['sum_qty', 'sum_base_price', 'sum_disc_price', 'sum_charge', 'avg_qty', 'avg_price', 'avg_disc', 'count_order']\n",
    "with open(f\"{OUTPUT_DIR}/INDEX_COLS.pkl\", 'wb') as f:\n",
    "    pickle.dump(INDEX_COLS, f)\n",
    "with open(f\"{OUTPUT_DIR}/OUTPUT_COLS.pkl\", 'wb') as f:\n",
    "    pickle.dump(OUTPUT_COLS, f)"
   ]
  },
  {
   "cell_type": "code",
   "execution_count": 7,
   "metadata": {},
   "outputs": [
    {
     "data": {
      "text/html": [
       "<div><style>\n",
       ".dataframe > thead > tr,\n",
       ".dataframe > tbody > tr {\n",
       "  text-align: right;\n",
       "  white-space: pre-wrap;\n",
       "}\n",
       "</style>\n",
       "<small>shape: (4, 10)</small><table border=\"1\" class=\"dataframe\"><thead><tr><th>l_returnflag</th><th>l_linestatus</th><th>sum_qty</th><th>sum_base_price</th><th>sum_disc_price</th><th>sum_charge</th><th>avg_qty</th><th>avg_price</th><th>avg_disc</th><th>count_order</th></tr><tr><td>str</td><td>str</td><td>list[decimal[38,2]]</td><td>list[decimal[38,2]]</td><td>list[decimal[38,4]]</td><td>list[decimal[38,6]]</td><td>list[f64]</td><td>list[f64]</td><td>list[f64]</td><td>list[i64]</td></tr></thead><tbody><tr><td>&quot;A&quot;</td><td>&quot;F&quot;</td><td>[3872600.00, 3814684.00, … 3735524.00]</td><td>[5455999234.44, 5371564822.48, … 5263230946.96]</td><td>[5183002074.6370, 5102349478.7372, … 4998594086.3996]</td><td>[5390928871.288478, 5307162753.446800, … 5199040855.429432]</td><td>[25.547888, 25.575472, … 25.566868]</td><td>[35993.71452, 36013.548564, … 36022.879972]</td><td>[0.050045, 0.050089, … 0.050322]</td><td>[151582, 149154, … 146108]</td></tr><tr><td>&quot;N&quot;</td><td>&quot;F&quot;</td><td>[100320.00, 91692.00, … 96504.00]</td><td>[140524548.00, 128616635.28, … 135476490.56]</td><td>[133673902.6596, 122292640.8112, … 128828550.0050]</td><td>[139097782.899638, 127310635.683498, … 134060343.512812]</td><td>[25.683564, 24.90277, … 25.557203]</td><td>[35976.58679, 34931.188289, … 35878.307881]</td><td>[0.049037, 0.049745, … 0.04901]</td><td>[3906, 3682, … 3776]</td></tr><tr><td>&quot;N&quot;</td><td>&quot;O&quot;</td><td>[7612938.00, 7483198.00, … 7383016.00]</td><td>[10723688730.44, 10546727307.62, … 10405091665.52]</td><td>[10187962703.2562, 10019260010.9796, … 9884850142.3378]</td><td>[10595611689.229362, 10419724808.623714, … 10280838228.071774]</td><td>[25.595902, 25.545854, … 25.579517]</td><td>[36054.738392, 36004.01222, … 36049.931281]</td><td>[0.050026, 0.05005, … 0.050046]</td><td>[297428, 292932, … 288630]</td></tr><tr><td>&quot;R&quot;</td><td>&quot;F&quot;</td><td>[3883504.00, 3814518.00, … 3733208.00]</td><td>[5480829269.88, 5380328265.08, … 5264958039.52]</td><td>[5206187089.8862, 5112221125.1604, … 5003254201.9076]</td><td>[5414018366.679110, 5316421123.965584, … 5202537701.341728]</td><td>[25.530892, 25.492321, … 25.582884]</td><td>[36032.011504, 35956.589178, … 36079.643378]</td><td>[0.050182, 0.050035, … 0.049795]</td><td>[152110, 149634, … 145926]</td></tr></tbody></table></div>"
      ],
      "text/plain": [
       "shape: (4, 10)\n",
       "┌───────────┬───────────┬───────────┬───────────┬───┬───────────┬───────────┬───────────┬──────────┐\n",
       "│ l_returnf ┆ l_linesta ┆ sum_qty   ┆ sum_base_ ┆ … ┆ avg_qty   ┆ avg_price ┆ avg_disc  ┆ count_or │\n",
       "│ lag       ┆ tus       ┆ ---       ┆ price     ┆   ┆ ---       ┆ ---       ┆ ---       ┆ der      │\n",
       "│ ---       ┆ ---       ┆ list[deci ┆ ---       ┆   ┆ list[f64] ┆ list[f64] ┆ list[f64] ┆ ---      │\n",
       "│ str       ┆ str       ┆ mal[38,2] ┆ list[deci ┆   ┆           ┆           ┆           ┆ list[i64 │\n",
       "│           ┆           ┆ ]         ┆ mal[38,2] ┆   ┆           ┆           ┆           ┆ ]        │\n",
       "│           ┆           ┆           ┆ ]         ┆   ┆           ┆           ┆           ┆          │\n",
       "╞═══════════╪═══════════╪═══════════╪═══════════╪═══╪═══════════╪═══════════╪═══════════╪══════════╡\n",
       "│ A         ┆ F         ┆ [3872600. ┆ [54559992 ┆ … ┆ [25.54788 ┆ [35993.71 ┆ [0.050045 ┆ [151582, │\n",
       "│           ┆           ┆ 00, 38146 ┆ 34.44,    ┆   ┆ 8, 25.575 ┆ 452, 3601 ┆ ,         ┆ 149154,  │\n",
       "│           ┆           ┆ 84.00, …  ┆ 537156482 ┆   ┆ 472, …    ┆ 3.548564, ┆ 0.050089, ┆ …        │\n",
       "│           ┆           ┆ 373…      ┆ 2.48,…    ┆   ┆ 25.56…    ┆ … …       ┆ …         ┆ 146108]  │\n",
       "│           ┆           ┆           ┆           ┆   ┆           ┆           ┆ 0.05032…  ┆          │\n",
       "│ N         ┆ F         ┆ [100320.0 ┆ [14052454 ┆ … ┆ [25.68356 ┆ [35976.58 ┆ [0.049037 ┆ [3906,   │\n",
       "│           ┆           ┆ 0,        ┆ 8.00, 128 ┆   ┆ 4,        ┆ 679, 3493 ┆ ,         ┆ 3682, …  │\n",
       "│           ┆           ┆ 91692.00, ┆ 616635.28 ┆   ┆ 24.90277, ┆ 1.188289, ┆ 0.049745, ┆ 3776]    │\n",
       "│           ┆           ┆ … 96504.… ┆ , ……      ┆   ┆ … 25.557… ┆ … …       ┆ …         ┆          │\n",
       "│           ┆           ┆           ┆           ┆   ┆           ┆           ┆ 0.04901…  ┆          │\n",
       "│ N         ┆ O         ┆ [7612938. ┆ [10723688 ┆ … ┆ [25.59590 ┆ [36054.73 ┆ [0.050026 ┆ [297428, │\n",
       "│           ┆           ┆ 00, 74831 ┆ 730.44,   ┆   ┆ 2, 25.545 ┆ 8392, 360 ┆ ,         ┆ 292932,  │\n",
       "│           ┆           ┆ 98.00, …  ┆ 105467273 ┆   ┆ 854, …    ┆ 04.01222, ┆ 0.05005,  ┆ …        │\n",
       "│           ┆           ┆ 738…      ┆ 07.6…     ┆   ┆ 25.57…    ┆ … …       ┆ …         ┆ 288630]  │\n",
       "│           ┆           ┆           ┆           ┆   ┆           ┆           ┆ 0.050046… ┆          │\n",
       "│ R         ┆ F         ┆ [3883504. ┆ [54808292 ┆ … ┆ [25.53089 ┆ [36032.01 ┆ [0.050182 ┆ [152110, │\n",
       "│           ┆           ┆ 00, 38145 ┆ 69.88,    ┆   ┆ 2, 25.492 ┆ 1504, 359 ┆ ,         ┆ 149634,  │\n",
       "│           ┆           ┆ 18.00, …  ┆ 538032826 ┆   ┆ 321, …    ┆ 56.589178 ┆ 0.050035, ┆ …        │\n",
       "│           ┆           ┆ 373…      ┆ 5.08,…    ┆   ┆ 25.58…    ┆ , ……      ┆ …         ┆ 145926]  │\n",
       "│           ┆           ┆           ┆           ┆   ┆           ┆           ┆ 0.04979…  ┆          │\n",
       "└───────────┴───────────┴───────────┴───────────┴───┴───────────┴───────────┴───────────┴──────────┘"
      ]
     },
     "execution_count": 7,
     "metadata": {},
     "output_type": "execute_result"
    }
   ],
   "source": [
    "# Combine all the samples into one table, grouped-by the group-by keys. Each cell contains an n <= # of samples length array of values.\n",
    "listdf = (dfsdf.group_by(INDEX_COLS, maintain_order=True)\n",
    "      .all()\n",
    "      .drop(pl.col(\"sample\")))\n",
    "listdf"
   ]
  },
  {
   "cell_type": "code",
   "execution_count": null,
   "metadata": {},
   "outputs": [
    {
     "data": {
      "text/plain": [
       "[{'l_returnflag': 'A', 'l_linestatus': 'F'},\n",
       " {'l_returnflag': 'N', 'l_linestatus': 'F'},\n",
       " {'l_returnflag': 'N', 'l_linestatus': 'O'},\n",
       " {'l_returnflag': 'R', 'l_linestatus': 'F'}]"
      ]
     },
     "execution_count": 8,
     "metadata": {},
     "output_type": "execute_result"
    }
   ],
   "source": [
    "allgroups: pl.DataFrame = listdf.select(INDEX_COLS)\n",
    "allgroups.to_dicts()"
   ]
  },
  {
   "cell_type": "code",
   "execution_count": 17,
   "metadata": {},
   "outputs": [],
   "source": [
    "# Template for the final output, including all possible group-by groups\n",
    "# Obtained by collecting all the samples in a big table and then keeping only the first occurrence of each groupby key.\n",
    "# Then, fill all OUTPUT_COLS with nulls\n",
    "templatedf = dfsdf.drop(pl.col(\"sample\")).group_by(INDEX_COLS, maintain_order=True).first()\n",
    "templatedf = templatedf.clear(n=len(allgroups)).with_columns(allgroups)\n",
    "templatedf\n",
    "\n",
    "with open(f\"{OUTPUT_DIR}/template.pkl\", \"wb\") as f:\n",
    "    pickle.dump(templatedf, f)"
   ]
  },
  {
   "cell_type": "code",
   "execution_count": 18,
   "metadata": {},
   "outputs": [],
   "source": [
    "os.makedirs(f\"{OUTPUT_DIR}/json\", exist_ok=True)\n",
    "os.makedirs(f\"{OUTPUT_DIR}/pkl\", exist_ok=True)\n",
    "i: int = 0\n",
    "reverse_map = {}\n",
    "for col in OUTPUT_COLS:\n",
    "    for group in allgroups.iter_rows(named=True):\n",
    "        values = listdf.filter(pl.col(k).eq(v) for k, v in group.items()).select(col).to_series()\n",
    "        j = pl.DataFrame().with_columns([\n",
    "            pl.lit(col).alias(\"col\"),\n",
    "            pl.lit(group).alias(\"row\"),\n",
    "            values.alias(\"values\"),\n",
    "        ])\n",
    "        reverse_map[i] = (col, group)\n",
    "        j.write_json(f\"{OUTPUT_DIR}/json/{i}.json\")\n",
    "        # save pickle of numpy conversion of values\n",
    "        pickle.dump(values.explode().to_numpy(), open(f\"{OUTPUT_DIR}/pkl/{i}.pkl\", \"wb\"))\n",
    "        i+=1\n",
    "\n",
    "import json\n",
    "with open(f\"{OUTPUT_DIR}/reverse_map.json\", \"w\") as f:\n",
    "    json.dump(reverse_map, f)\n",
    "pickle.dump(reverse_map, open(f\"{OUTPUT_DIR}/reverse_map.pkl\", \"wb\"))"
   ]
  },
  {
   "cell_type": "code",
   "execution_count": 11,
   "metadata": {},
   "outputs": [
    {
     "name": "stdout",
     "output_type": "stream",
     "text": [
      "sum_qty {'l_returnflag': 'A', 'l_linestatus': 'F'} 1860348960.2500\n",
      "sum_qty {'l_returnflag': 'N', 'l_linestatus': 'F'} 5787269.9375\n",
      "sum_qty {'l_returnflag': 'N', 'l_linestatus': 'O'} 7620912534.0000\n",
      "sum_qty {'l_returnflag': 'R', 'l_linestatus': 'F'} 1901432521.7500\n",
      "sum_base_price {'l_returnflag': 'A', 'l_linestatus': 'F'} 3714742484253082.4505453125\n",
      "sum_base_price {'l_returnflag': 'N', 'l_linestatus': 'F'} 11488706723513.5382578125\n",
      "sum_base_price {'l_returnflag': 'N', 'l_linestatus': 'O'} 15211638773405307.9490640625\n",
      "sum_base_price {'l_returnflag': 'R', 'l_linestatus': 'F'} 3792667125189579.1729640625\n",
      "sum_disc_price {'l_returnflag': 'A', 'l_linestatus': 'F'} 3354208466817374.607160701875\n",
      "sum_disc_price {'l_returnflag': 'N', 'l_linestatus': 'F'} 10391674132324.11949290570312\n",
      "sum_disc_price {'l_returnflag': 'N', 'l_linestatus': 'O'} 13732849406732366.33934198312\n",
      "sum_disc_price {'l_returnflag': 'R', 'l_linestatus': 'F'} 3429258028753074.150377986094\n",
      "sum_charge {'l_returnflag': 'A', 'l_linestatus': 'F'} 3628293529639754.223272018763\n",
      "sum_charge {'l_returnflag': 'N', 'l_linestatus': 'F'} 11265797768775.12360177152572\n",
      "sum_charge {'l_returnflag': 'N', 'l_linestatus': 'O'} 14857462191709084.87653939409\n",
      "sum_charge {'l_returnflag': 'R', 'l_linestatus': 'F'} 3707499794661229.900957347096\n",
      "avg_qty {'l_returnflag': 'A', 'l_linestatus': 'F'} 0.0013104476448443187\n",
      "avg_qty {'l_returnflag': 'N', 'l_linestatus': 'F'} 0.0532658759999252\n",
      "avg_qty {'l_returnflag': 'N', 'l_linestatus': 'O'} 0.0007762501479862719\n",
      "avg_qty {'l_returnflag': 'R', 'l_linestatus': 'F'} 0.00131209817415088\n",
      "avg_price {'l_returnflag': 'A', 'l_linestatus': 'F'} 3137.748235760774\n",
      "avg_price {'l_returnflag': 'N', 'l_linestatus': 'F'} 120294.50096742177\n",
      "avg_price {'l_returnflag': 'N', 'l_linestatus': 'O'} 1717.0373737833193\n",
      "avg_price {'l_returnflag': 'R', 'l_linestatus': 'F'} 3466.8310491278844\n",
      "avg_disc {'l_returnflag': 'A', 'l_linestatus': 'F'} 6.56004256259753e-09\n",
      "avg_disc {'l_returnflag': 'N', 'l_linestatus': 'F'} 2.403966061836067e-07\n",
      "avg_disc {'l_returnflag': 'N', 'l_linestatus': 'O'} 3.1061139643717294e-09\n",
      "avg_disc {'l_returnflag': 'R', 'l_linestatus': 'F'} 7.024831249333102e-09\n",
      "count_order {'l_returnflag': 'A', 'l_linestatus': 'F'} 2782279.8359375\n",
      "count_order {'l_returnflag': 'N', 'l_linestatus': 'F'} 7385.390625\n",
      "count_order {'l_returnflag': 'N', 'l_linestatus': 'O'} 11427044.2421875\n",
      "count_order {'l_returnflag': 'R', 'l_linestatus': 'F'} 2858850.484375\n"
     ]
    }
   ],
   "source": [
    "for col in OUTPUT_COLS:\n",
    "    for group in allgroups.iter_rows(named=True):\n",
    "        values = listdf.filter(pl.col(k).eq(v) for k, v in group.items()).select(col).to_series().explode()\n",
    "        print(col, group, values.to_numpy().var())"
   ]
  },
  {
   "cell_type": "code",
   "execution_count": 12,
   "metadata": {},
   "outputs": [
    {
     "name": "stderr",
     "output_type": "stream",
     "text": [
      "sys:1: MapWithoutReturnDtypeWarning: Calling `map_elements` without specifying `return_dtype` can lead to unpredictable results. Specify `return_dtype` to silence this warning.\n",
      "sys:1: MapWithoutReturnDtypeWarning: Calling `map_elements` without specifying `return_dtype` can lead to unpredictable results. Specify `return_dtype` to silence this warning.\n",
      "sys:1: MapWithoutReturnDtypeWarning: Calling `map_elements` without specifying `return_dtype` can lead to unpredictable results. Specify `return_dtype` to silence this warning.\n",
      "sys:1: MapWithoutReturnDtypeWarning: Calling `map_elements` without specifying `return_dtype` can lead to unpredictable results. Specify `return_dtype` to silence this warning.\n",
      "sys:1: MapWithoutReturnDtypeWarning: Calling `map_elements` without specifying `return_dtype` can lead to unpredictable results. Specify `return_dtype` to silence this warning.\n",
      "sys:1: MapWithoutReturnDtypeWarning: Calling `map_elements` without specifying `return_dtype` can lead to unpredictable results. Specify `return_dtype` to silence this warning.\n",
      "sys:1: MapWithoutReturnDtypeWarning: Calling `map_elements` without specifying `return_dtype` can lead to unpredictable results. Specify `return_dtype` to silence this warning.\n",
      "sys:1: MapWithoutReturnDtypeWarning: Calling `map_elements` without specifying `return_dtype` can lead to unpredictable results. Specify `return_dtype` to silence this warning.\n"
     ]
    },
    {
     "data": {
      "text/html": [
       "<div><style>\n",
       ".dataframe > thead > tr,\n",
       ".dataframe > tbody > tr {\n",
       "  text-align: right;\n",
       "  white-space: pre-wrap;\n",
       "}\n",
       "</style>\n",
       "<small>shape: (4, 10)</small><table border=\"1\" class=\"dataframe\"><thead><tr><th>l_returnflag</th><th>l_linestatus</th><th>sum_qty</th><th>sum_base_price</th><th>sum_disc_price</th><th>sum_charge</th><th>avg_qty</th><th>avg_price</th><th>avg_disc</th><th>count_order</th></tr><tr><td>str</td><td>str</td><td>decimal[*,4]</td><td>decimal[*,10]</td><td>decimal[*,14]</td><td>decimal[*,14]</td><td>f64</td><td>f64</td><td>f64</td><td>f64</td></tr></thead><tbody><tr><td>&quot;A&quot;</td><td>&quot;F&quot;</td><td>1860348960.2500</td><td>3714742484253082.4505453125</td><td>3354208466817374.60716070187500</td><td>3628293529639754.22327201876300</td><td>0.00131</td><td>3137.748236</td><td>6.5600e-9</td><td>2.7823e6</td></tr><tr><td>&quot;N&quot;</td><td>&quot;F&quot;</td><td>5787269.9375</td><td>11488706723513.5382578125</td><td>10391674132324.11949290570312</td><td>11265797768775.12360177152572</td><td>0.053266</td><td>120294.500967</td><td>2.4040e-7</td><td>7385.390625</td></tr><tr><td>&quot;N&quot;</td><td>&quot;O&quot;</td><td>7620912534.0000</td><td>15211638773405307.9490640625</td><td>13732849406732366.33934198312000</td><td>14857462191709084.87653939409000</td><td>0.000776</td><td>1717.037374</td><td>3.1061e-9</td><td>1.1427e7</td></tr><tr><td>&quot;R&quot;</td><td>&quot;F&quot;</td><td>1901432521.7500</td><td>3792667125189579.1729640625</td><td>3429258028753074.15037798609400</td><td>3707499794661229.90095734709600</td><td>0.001312</td><td>3466.831049</td><td>7.0248e-9</td><td>2.8589e6</td></tr></tbody></table></div>"
      ],
      "text/plain": [
       "shape: (4, 10)\n",
       "┌───────────┬───────────┬───────────┬───────────┬───┬──────────┬───────────┬───────────┬───────────┐\n",
       "│ l_returnf ┆ l_linesta ┆ sum_qty   ┆ sum_base_ ┆ … ┆ avg_qty  ┆ avg_price ┆ avg_disc  ┆ count_ord │\n",
       "│ lag       ┆ tus       ┆ ---       ┆ price     ┆   ┆ ---      ┆ ---       ┆ ---       ┆ er        │\n",
       "│ ---       ┆ ---       ┆ decimal[* ┆ ---       ┆   ┆ f64      ┆ f64       ┆ f64       ┆ ---       │\n",
       "│ str       ┆ str       ┆ ,4]       ┆ decimal[* ┆   ┆          ┆           ┆           ┆ f64       │\n",
       "│           ┆           ┆           ┆ ,10]      ┆   ┆          ┆           ┆           ┆           │\n",
       "╞═══════════╪═══════════╪═══════════╪═══════════╪═══╪══════════╪═══════════╪═══════════╪═══════════╡\n",
       "│ A         ┆ F         ┆ 186034896 ┆ 371474248 ┆ … ┆ 0.00131  ┆ 3137.7482 ┆ 6.5600e-9 ┆ 2.7823e6  │\n",
       "│           ┆           ┆ 0.2500    ┆ 4253082.4 ┆   ┆          ┆ 36        ┆           ┆           │\n",
       "│           ┆           ┆           ┆ 505453125 ┆   ┆          ┆           ┆           ┆           │\n",
       "│ N         ┆ F         ┆ 5787269.9 ┆ 114887067 ┆ … ┆ 0.053266 ┆ 120294.50 ┆ 2.4040e-7 ┆ 7385.3906 │\n",
       "│           ┆           ┆ 375       ┆ 23513.538 ┆   ┆          ┆ 0967      ┆           ┆ 25        │\n",
       "│           ┆           ┆           ┆ 2578125   ┆   ┆          ┆           ┆           ┆           │\n",
       "│ N         ┆ O         ┆ 762091253 ┆ 152116387 ┆ … ┆ 0.000776 ┆ 1717.0373 ┆ 3.1061e-9 ┆ 1.1427e7  │\n",
       "│           ┆           ┆ 4.0000    ┆ 73405307. ┆   ┆          ┆ 74        ┆           ┆           │\n",
       "│           ┆           ┆           ┆ 949064062 ┆   ┆          ┆           ┆           ┆           │\n",
       "│           ┆           ┆           ┆ 5         ┆   ┆          ┆           ┆           ┆           │\n",
       "│ R         ┆ F         ┆ 190143252 ┆ 379266712 ┆ … ┆ 0.001312 ┆ 3466.8310 ┆ 7.0248e-9 ┆ 2.8589e6  │\n",
       "│           ┆           ┆ 1.7500    ┆ 5189579.1 ┆   ┆          ┆ 49        ┆           ┆           │\n",
       "│           ┆           ┆           ┆ 729640625 ┆   ┆          ┆           ┆           ┆           │\n",
       "└───────────┴───────────┴───────────┴───────────┴───┴──────────┴───────────┴───────────┴───────────┘"
      ]
     },
     "execution_count": 12,
     "metadata": {},
     "output_type": "execute_result"
    }
   ],
   "source": [
    "listdf.with_columns([\n",
    "    pl.col(column).map_elements(lambda x: x.to_numpy().var(), returns_scalar=True).alias(column)\n",
    "    for column in OUTPUT_COLS\n",
    "])"
   ]
  },
  {
   "cell_type": "code",
   "execution_count": 13,
   "metadata": {},
   "outputs": [],
   "source": [
    "def numpyify(df: pl.DataFrame) -> np.ndarray:\n",
    "    return df.select(OUTPUT_COLS).to_numpy().flatten()\n",
    "\n",
    "def tablify(arr: np.ndarray) -> pl.DataFrame:\n",
    "    global OUTPUT_SHAPE, OUTPUT_SCHEMA\n",
    "    return templatedf.update( # put values back into the original dataframe\n",
    "        pl.DataFrame(\n",
    "            arr.reshape(OUTPUT_SHAPE), # reshape to the original shape\n",
    "            schema=OUTPUT_SCHEMA # coerce numpy array to the correct schema\n",
    "        ) # index cols will be left unchanged (not updated b/c we only update output_cols)\n",
    "    )"
   ]
  },
  {
   "cell_type": "code",
   "execution_count": 14,
   "metadata": {},
   "outputs": [
    {
     "data": {
      "text/plain": [
       "'/Users/michael/projects/dpdb/pacdb/outputs/pac-duckdb-q1.zip'"
      ]
     },
     "execution_count": 14,
     "metadata": {},
     "output_type": "execute_result"
    }
   ],
   "source": [
    "# zip the OUTPUT_DIR\n",
    "import shutil\n",
    "shutil.make_archive(OUTPUT_DIR, 'zip', OUTPUT_DIR)"
   ]
  },
  {
   "cell_type": "markdown",
   "metadata": {},
   "source": [
    "Save for later:"
   ]
  },
  {
   "cell_type": "code",
   "execution_count": 15,
   "metadata": {},
   "outputs": [
    {
     "data": {
      "text/html": [
       "<div><style>\n",
       ".dataframe > thead > tr,\n",
       ".dataframe > tbody > tr {\n",
       "  text-align: right;\n",
       "  white-space: pre-wrap;\n",
       "}\n",
       "</style>\n",
       "<small>shape: (4, 10)</small><table border=\"1\" class=\"dataframe\"><thead><tr><th>l_returnflag</th><th>l_linestatus</th><th>sum_qty</th><th>sum_base_price</th><th>sum_disc_price</th><th>sum_charge</th><th>avg_qty</th><th>avg_price</th><th>avg_disc</th><th>count_order</th></tr><tr><td>str</td><td>str</td><td>f64</td><td>f64</td><td>f64</td><td>f64</td><td>f64</td><td>f64</td><td>f64</td><td>f64</td></tr></thead><tbody><tr><td>&quot;A&quot;</td><td>&quot;F&quot;</td><td>3.7243e9</td><td>7.4367e15</td><td>6.7150e15</td><td>7.2637e15</td><td>0.002623</td><td>6281.630877</td><td>1.3133e-8</td><td>5.5700e6</td></tr><tr><td>&quot;N&quot;</td><td>&quot;F&quot;</td><td>1.1586e7</td><td>2.3000e13</td><td>2.0804e13</td><td>2.2554e13</td><td>0.106636</td><td>240824.1818</td><td>4.8126e-7</td><td>14785.219941</td></tr><tr><td>&quot;N&quot;</td><td>&quot;O&quot;</td><td>1.5257e10</td><td>3.0453e16</td><td>2.7493e16</td><td>2.9744e16</td><td>0.001554</td><td>3437.431614</td><td>6.2183e-9</td><td>2.2876e7</td></tr><tr><td>&quot;R&quot;</td><td>&quot;F&quot;</td><td>3.8066e9</td><td>7.5927e15</td><td>6.8652e15</td><td>7.4222e15</td><td>0.002627</td><td>6940.439872</td><td>1.4063e-8</td><td>5.7233e6</td></tr></tbody></table></div>"
      ],
      "text/plain": [
       "shape: (4, 10)\n",
       "┌───────────┬───────────┬───────────┬───────────┬───┬──────────┬───────────┬───────────┬───────────┐\n",
       "│ l_returnf ┆ l_linesta ┆ sum_qty   ┆ sum_base_ ┆ … ┆ avg_qty  ┆ avg_price ┆ avg_disc  ┆ count_ord │\n",
       "│ lag       ┆ tus       ┆ ---       ┆ price     ┆   ┆ ---      ┆ ---       ┆ ---       ┆ er        │\n",
       "│ ---       ┆ ---       ┆ f64       ┆ ---       ┆   ┆ f64      ┆ f64       ┆ f64       ┆ ---       │\n",
       "│ str       ┆ str       ┆           ┆ f64       ┆   ┆          ┆           ┆           ┆ f64       │\n",
       "╞═══════════╪═══════════╪═══════════╪═══════════╪═══╪══════════╪═══════════╪═══════════╪═══════════╡\n",
       "│ A         ┆ F         ┆ 3.7243e9  ┆ 7.4367e15 ┆ … ┆ 0.002623 ┆ 6281.6308 ┆ 1.3133e-8 ┆ 5.5700e6  │\n",
       "│           ┆           ┆           ┆           ┆   ┆          ┆ 77        ┆           ┆           │\n",
       "│ N         ┆ F         ┆ 1.1586e7  ┆ 2.3000e13 ┆ … ┆ 0.106636 ┆ 240824.18 ┆ 4.8126e-7 ┆ 14785.219 │\n",
       "│           ┆           ┆           ┆           ┆   ┆          ┆ 18        ┆           ┆ 941       │\n",
       "│ N         ┆ O         ┆ 1.5257e10 ┆ 3.0453e16 ┆ … ┆ 0.001554 ┆ 3437.4316 ┆ 6.2183e-9 ┆ 2.2876e7  │\n",
       "│           ┆           ┆           ┆           ┆   ┆          ┆ 14        ┆           ┆           │\n",
       "│ R         ┆ F         ┆ 3.8066e9  ┆ 7.5927e15 ┆ … ┆ 0.002627 ┆ 6940.4398 ┆ 1.4063e-8 ┆ 5.7233e6  │\n",
       "│           ┆           ┆           ┆           ┆   ┆          ┆ 72        ┆           ┆           │\n",
       "└───────────┴───────────┴───────────┴───────────┴───┴──────────┴───────────┴───────────┴───────────┘"
      ]
     },
     "execution_count": 15,
     "metadata": {},
     "output_type": "execute_result"
    }
   ],
   "source": [
    "mi = 1./4\n",
    "noisescaledf = listdf.with_columns([\n",
    "    pl.col(column).map_elements(lambda x: (1./(2*mi)) * x.cast(pl.Float64).var(), return_dtype=pl.Float64).alias(column)\n",
    "    for column in OUTPUT_COLS\n",
    "])\n",
    "noisescaledf"
   ]
  },
  {
   "cell_type": "code",
   "execution_count": 16,
   "metadata": {},
   "outputs": [
    {
     "data": {
      "text/html": [
       "<div><style>\n",
       ".dataframe > thead > tr,\n",
       ".dataframe > tbody > tr {\n",
       "  text-align: right;\n",
       "  white-space: pre-wrap;\n",
       "}\n",
       "</style>\n",
       "<small>shape: (4, 10)</small><table border=\"1\" class=\"dataframe\"><thead><tr><th>l_returnflag</th><th>l_linestatus</th><th>sum_qty</th><th>sum_base_price</th><th>sum_disc_price</th><th>sum_charge</th><th>avg_qty</th><th>avg_price</th><th>avg_disc</th><th>count_order</th></tr><tr><td>str</td><td>str</td><td>decimal[*,2]</td><td>decimal[*,2]</td><td>decimal[*,4]</td><td>decimal[*,6]</td><td>f64</td><td>f64</td><td>f64</td><td>i64</td></tr></thead><tbody><tr><td>&quot;A&quot;</td><td>&quot;F&quot;</td><td>3777034.00</td><td>5292157623.02</td><td>5054003797.5806</td><td>5195964939.232922</td><td>25.570837</td><td>35995.457465</td><td>0.050011</td><td>149458</td></tr><tr><td>&quot;N&quot;</td><td>&quot;F&quot;</td><td>94406.00</td><td>132758538.52</td><td>124272049.2462</td><td>130503485.029802</td><td>25.247755</td><td>35409.868184</td><td>0.0488</td><td>3760</td></tr><tr><td>&quot;N&quot;</td><td>&quot;O&quot;</td><td>7519670.00</td><td>10502926615.42</td><td>10132418180.2374</td><td>10304718867.486024</td><td>25.606987</td><td>35969.400759</td><td>0.050065</td><td>297208</td></tr><tr><td>&quot;R&quot;</td><td>&quot;F&quot;</td><td>3783334.00</td><td>5330816283.94</td><td>5041865160.4534</td><td>5211457050.016964</td><td>25.550229</td><td>36109.46539</td><td>0.049794</td><td>147052</td></tr></tbody></table></div>"
      ],
      "text/plain": [
       "shape: (4, 10)\n",
       "┌───────────┬───────────┬───────────┬───────────┬───┬───────────┬───────────┬──────────┬───────────┐\n",
       "│ l_returnf ┆ l_linesta ┆ sum_qty   ┆ sum_base_ ┆ … ┆ avg_qty   ┆ avg_price ┆ avg_disc ┆ count_ord │\n",
       "│ lag       ┆ tus       ┆ ---       ┆ price     ┆   ┆ ---       ┆ ---       ┆ ---      ┆ er        │\n",
       "│ ---       ┆ ---       ┆ decimal[* ┆ ---       ┆   ┆ f64       ┆ f64       ┆ f64      ┆ ---       │\n",
       "│ str       ┆ str       ┆ ,2]       ┆ decimal[* ┆   ┆           ┆           ┆          ┆ i64       │\n",
       "│           ┆           ┆           ┆ ,2]       ┆   ┆           ┆           ┆          ┆           │\n",
       "╞═══════════╪═══════════╪═══════════╪═══════════╪═══╪═══════════╪═══════════╪══════════╪═══════════╡\n",
       "│ A         ┆ F         ┆ 3777034.0 ┆ 529215762 ┆ … ┆ 25.570837 ┆ 35995.457 ┆ 0.050011 ┆ 149458    │\n",
       "│           ┆           ┆ 0         ┆ 3.02      ┆   ┆           ┆ 465       ┆          ┆           │\n",
       "│ N         ┆ F         ┆ 94406.00  ┆ 132758538 ┆ … ┆ 25.247755 ┆ 35409.868 ┆ 0.0488   ┆ 3760      │\n",
       "│           ┆           ┆           ┆ .52       ┆   ┆           ┆ 184       ┆          ┆           │\n",
       "│ N         ┆ O         ┆ 7519670.0 ┆ 105029266 ┆ … ┆ 25.606987 ┆ 35969.400 ┆ 0.050065 ┆ 297208    │\n",
       "│           ┆           ┆ 0         ┆ 15.42     ┆   ┆           ┆ 759       ┆          ┆           │\n",
       "│ R         ┆ F         ┆ 3783334.0 ┆ 533081628 ┆ … ┆ 25.550229 ┆ 36109.465 ┆ 0.049794 ┆ 147052    │\n",
       "│           ┆           ┆ 0         ┆ 3.94      ┆   ┆           ┆ 39        ┆          ┆           │\n",
       "└───────────┴───────────┴───────────┴───────────┴───┴───────────┴───────────┴──────────┴───────────┘"
      ]
     },
     "execution_count": 16,
     "metadata": {},
     "output_type": "execute_result"
    }
   ],
   "source": [
    "randomchoicedf = listdf.with_columns([\n",
    "    pl.col(column).map_elements(lambda x: np.random.choice(x), return_dtype=templatedf.select(column).dtypes[0]).alias(column)\n",
    "    for column in OUTPUT_COLS\n",
    "])\n",
    "randomchoicedf"
   ]
  }
 ],
 "metadata": {
  "kernelspec": {
   "display_name": ".venv",
   "language": "python",
   "name": "python3"
  },
  "language_info": {
   "codemirror_mode": {
    "name": "ipython",
    "version": 3
   },
   "file_extension": ".py",
   "mimetype": "text/x-python",
   "name": "python",
   "nbconvert_exporter": "python",
   "pygments_lexer": "ipython3",
   "version": "3.11.7"
  }
 },
 "nbformat": 4,
 "nbformat_minor": 2
}
