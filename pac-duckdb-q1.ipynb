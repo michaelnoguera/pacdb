{
 "cells": [
  {
   "cell_type": "markdown",
   "metadata": {},
   "source": [
    "## DuckDB Notebook\n",
    "\n",
    "This notebook generates a bunch of raw outputs, without applying PAC, to be consumed by a second stage."
   ]
  },
  {
   "cell_type": "markdown",
   "metadata": {},
   "source": [
    "```\n",
    " group by              output cols                        \n",
    " key cols ┌────────┬────────┬────────┬────────┐           \n",
    "        │ │   A    │   B    │   C    │   D    │           \n",
    "      ┌─▼─┼────────┼────────┼────────┼────────┤           \n",
    "      │ 1 │   2    │        │        │        │           \n",
    "      ├───┼───|────┼────────┼────────┼────────┤           \n",
    "      │ 2 │   │    │        │        │        │           \n",
    "      ├───┼───┼────┼────────┼────────┼────────┤           \n",
    "      │ 3 │   │    │        │        │        │           \n",
    "      └───┴───┼────┴────────┴────────┴────────┘           \n",
    "              ▼                 A_1.json                  \n",
    "       Sample 0:   A1=2        ┌─────────────────────────┐\n",
    "       Sample 1:   A1=4  ───▶  │{                        │\n",
    "             ...               │    col: A               │\n",
    "       Sample 999: A1=3        │    row: 1               │\n",
    "                               │    value: [2, 4, ... 3] │\n",
    "                               │}                        │\n",
    "                               └─────────────────────────┘\n",
    "```"
   ]
  },
  {
   "cell_type": "code",
   "execution_count": 1,
   "metadata": {},
   "outputs": [
    {
     "name": "stdout",
     "output_type": "stream",
     "text": [
      "GENERATE = False, so we will load saved output from files rather than recomputing.\n"
     ]
    }
   ],
   "source": [
    "#!/usr/bin/env python\n",
    "# coding: utf-8\n",
    "\n",
    "EXPERIMENT = 'pac-duckdb-q1'\n",
    "OUTPUT_DIR = f'./outputs/{EXPERIMENT}'\n",
    "GENERATE = False\n",
    "USE_EVEN_NUMBER_OF_INPUT_ROWS = False\n",
    "\n",
    "if GENERATE:\n",
    "    print(\"GENERATE = True, so we will generate new samples.\")\n",
    "else:\n",
    "    print(\"GENERATE = False, so we will load saved output from files rather than recomputing.\")\n",
    "\n",
    "import os\n",
    "from typing import List\n",
    "if not os.path.exists(OUTPUT_DIR):\n",
    "    os.makedirs(OUTPUT_DIR)\n",
    "\n",
    "import numpy as np\n",
    "import pickle\n",
    "\n",
    "import duckdb\n",
    "import polars as pl\n",
    "import pyarrow as pa\n",
    "\n",
    "# duckdb load data/tpch/tpch.duckdb\n",
    "#con = duckdb.connect(database='data/tpch/tpch.duckdb', read_only=True)\n",
    "con = duckdb.connect(database=':memory:')\n",
    "tables = [\"customer\", \"lineitem\", \"nation\", \"orders\", \"part\", \"partsupp\", \"region\", \"supplier\"]\n",
    "#tables = [\"lineitem\", \"orders\"]\n",
    "for t in tables:\n",
    "    con.execute(f\"CREATE TABLE {t} AS SELECT * FROM 'data/tpch/{t}.parquet'\")\n",
    "\n",
    "lineitem_df = con.execute(\"SELECT * FROM lineitem\").fetchdf()\n",
    "orders_df = con.execute(\"SELECT * FROM orders\").fetchdf()\n",
    "\n",
    "row_count = lineitem_df.shape[0]"
   ]
  },
  {
   "cell_type": "code",
   "execution_count": 2,
   "metadata": {},
   "outputs": [],
   "source": [
    "# Construct the table of random samples\n",
    "# to use, join it with the lineitem table (for specific sample # s) and filter to just the\n",
    "# rows where random_binary = 1.0\n",
    "# This will give us a 50% sample of the lineitem table for each sample # s\n",
    "\n",
    "SAMPLES = 1024\n",
    "assert SAMPLES % 2 == 0, \"SAMPLES must be even to create complementary samples.\"\n",
    "\n",
    "random_samples = con.execute(f\"\"\"\n",
    "DROP TABLE IF EXISTS random_samples;\n",
    "\n",
    "CREATE TABLE random_samples AS\n",
    "WITH sample_numbers AS MATERIALIZED (\n",
    "    SELECT range AS sample_id FROM range({SAMPLES//2})\n",
    "), random_values AS MATERIALIZED (\n",
    "    SELECT \n",
    "        sample_numbers.sample_id,\n",
    "        customer.rowid AS row_id,\n",
    "        (RANDOM() > 0.5)::BOOLEAN AS random_binary\n",
    "    FROM sample_numbers\n",
    "    JOIN customer ON TRUE  -- Cross join to duplicate rows for each sample\n",
    ")\n",
    "SELECT\n",
    "    sample_id,\n",
    "    row_id,\n",
    "    random_binary\n",
    "FROM random_values\n",
    "UNION ALL\n",
    "SELECT -- select the complementary samples too\n",
    "    ({SAMPLES//2}) + sample_id,\n",
    "    row_id,\n",
    "    NOT random_binary  -- Inverse the random_binary to get the complementary sample\n",
    "FROM random_values\n",
    "ORDER BY sample_id, row_id;\n",
    "\"\"\")"
   ]
  },
  {
   "cell_type": "markdown",
   "metadata": {},
   "source": [
    "The randomness of what rows are chosen is saved to disk in `random_binary.json`. For each sample #, there is an array with one entry per row, where 1 means the row was chosen and 0 means it was not."
   ]
  },
  {
   "cell_type": "code",
   "execution_count": 3,
   "metadata": {},
   "outputs": [],
   "source": [
    "con.execute(f\"\"\"\n",
    "SELECT sample_id, array_agg(random_binary::TINYINT) as random_binary\n",
    "FROM random_samples\n",
    "GROUP BY sample_id;\n",
    "\"\"\").pl().write_json(f\"{OUTPUT_DIR}/random_binary.json\")"
   ]
  },
  {
   "cell_type": "markdown",
   "metadata": {},
   "source": [
    "Query is specified as a prepared statement. We will then execute it once per sample."
   ]
  },
  {
   "cell_type": "code",
   "execution_count": 4,
   "metadata": {},
   "outputs": [
    {
     "data": {
      "text/html": [
       "<div><style>\n",
       ".dataframe > thead > tr,\n",
       ".dataframe > tbody > tr {\n",
       "  text-align: right;\n",
       "  white-space: pre-wrap;\n",
       "}\n",
       "</style>\n",
       "<small>shape: (4, 10)</small><table border=\"1\" class=\"dataframe\"><thead><tr><th>l_returnflag</th><th>l_linestatus</th><th>sum_qty</th><th>sum_base_price</th><th>sum_disc_price</th><th>sum_charge</th><th>avg_qty</th><th>avg_price</th><th>avg_disc</th><th>count_order</th></tr><tr><td>str</td><td>str</td><td>decimal[38,2]</td><td>decimal[38,2]</td><td>decimal[38,4]</td><td>decimal[38,6]</td><td>f64</td><td>f64</td><td>f64</td><td>i64</td></tr></thead><tbody><tr><td>&quot;A&quot;</td><td>&quot;F&quot;</td><td>3733462.00</td><td>5260558006.72</td><td>4997745771.7952</td><td>5197909459.428252</td><td>25.538423</td><td>35984.390223</td><td>0.050067</td><td>146190</td></tr><tr><td>&quot;N&quot;</td><td>&quot;F&quot;</td><td>92380.00</td><td>129404105.94</td><td>123060337.9390</td><td>128084892.811728</td><td>25.309589</td><td>35453.17971</td><td>0.049227</td><td>3650</td></tr><tr><td>&quot;N&quot;</td><td>&quot;O&quot;</td><td>7372080.00</td><td>10388440543.24</td><td>9868003177.7708</td><td>10263092773.594816</td><td>25.577251</td><td>36042.44051</td><td>0.05016</td><td>288228</td></tr><tr><td>&quot;R&quot;</td><td>&quot;F&quot;</td><td>3723424.00</td><td>5249934596.46</td><td>4988807912.0502</td><td>5188971114.989622</td><td>25.545597</td><td>36018.651695</td><td>0.049968</td><td>145756</td></tr></tbody></table></div>"
      ],
      "text/plain": [
       "shape: (4, 10)\n",
       "┌───────────┬───────────┬───────────┬───────────┬───┬───────────┬───────────┬──────────┬───────────┐\n",
       "│ l_returnf ┆ l_linesta ┆ sum_qty   ┆ sum_base_ ┆ … ┆ avg_qty   ┆ avg_price ┆ avg_disc ┆ count_ord │\n",
       "│ lag       ┆ tus       ┆ ---       ┆ price     ┆   ┆ ---       ┆ ---       ┆ ---      ┆ er        │\n",
       "│ ---       ┆ ---       ┆ decimal[3 ┆ ---       ┆   ┆ f64       ┆ f64       ┆ f64      ┆ ---       │\n",
       "│ str       ┆ str       ┆ 8,2]      ┆ decimal[3 ┆   ┆           ┆           ┆          ┆ i64       │\n",
       "│           ┆           ┆           ┆ 8,2]      ┆   ┆           ┆           ┆          ┆           │\n",
       "╞═══════════╪═══════════╪═══════════╪═══════════╪═══╪═══════════╪═══════════╪══════════╪═══════════╡\n",
       "│ A         ┆ F         ┆ 3733462.0 ┆ 526055800 ┆ … ┆ 25.538423 ┆ 35984.390 ┆ 0.050067 ┆ 146190    │\n",
       "│           ┆           ┆ 0         ┆ 6.72      ┆   ┆           ┆ 223       ┆          ┆           │\n",
       "│ N         ┆ F         ┆ 92380.00  ┆ 129404105 ┆ … ┆ 25.309589 ┆ 35453.179 ┆ 0.049227 ┆ 3650      │\n",
       "│           ┆           ┆           ┆ .94       ┆   ┆           ┆ 71        ┆          ┆           │\n",
       "│ N         ┆ O         ┆ 7372080.0 ┆ 103884405 ┆ … ┆ 25.577251 ┆ 36042.440 ┆ 0.05016  ┆ 288228    │\n",
       "│           ┆           ┆ 0         ┆ 43.24     ┆   ┆           ┆ 51        ┆          ┆           │\n",
       "│ R         ┆ F         ┆ 3723424.0 ┆ 524993459 ┆ … ┆ 25.545597 ┆ 36018.651 ┆ 0.049968 ┆ 145756    │\n",
       "│           ┆           ┆ 0         ┆ 6.46      ┆   ┆           ┆ 695       ┆          ┆           │\n",
       "└───────────┴───────────┴───────────┴───────────┴───┴───────────┴───────────┴──────────┴───────────┘"
      ]
     },
     "execution_count": 4,
     "metadata": {},
     "output_type": "execute_result"
    }
   ],
   "source": [
    "# Query\n",
    "con.execute(\"\"\"\n",
    "DEALLOCATE PREPARE run_query;\n",
    "\n",
    "PREPARE run_query AS \n",
    "SELECT\n",
    "    l_returnflag,\n",
    "    l_linestatus,\n",
    "    2*sum(l_quantity) AS sum_qty,\n",
    "    2*sum(l_extendedprice) AS sum_base_price,\n",
    "    2*sum(l_extendedprice * (1 - l_discount)) AS sum_disc_price,\n",
    "    2*sum(l_extendedprice * (1 - l_discount) * (1 + l_tax)) AS sum_charge,\n",
    "    avg(l_quantity) AS avg_qty,\n",
    "    avg(l_extendedprice) AS avg_price,\n",
    "    avg(l_discount) AS avg_disc,\n",
    "    2*count(*) AS count_order\n",
    "FROM\n",
    "    lineitem\n",
    "JOIN orders ON lineitem.l_orderkey = orders.o_orderkey\n",
    "JOIN customer ON orders.o_custkey = customer.c_custkey\n",
    "JOIN random_samples AS rs\n",
    "    ON rs.row_id = customer.rowid\n",
    "WHERE\n",
    "    l_shipdate <= CAST('1998-09-02' AS date)\n",
    "    AND rs.random_binary = TRUE\n",
    "    AND rs.sample_id = $sample\n",
    "GROUP BY\n",
    "    l_returnflag,\n",
    "    l_linestatus\n",
    "ORDER BY\n",
    "    l_returnflag,\n",
    "    l_linestatus;\n",
    "\"\"\")\n",
    "\n",
    "# Run query to see output\n",
    "dfs0 = con.execute(f\"EXECUTE run_query(sample := {0});\").pl()\n",
    "\n",
    "# Save csv copies of the first 5 samples\n",
    "os.makedirs(f\"{OUTPUT_DIR}/csv\", exist_ok=True)\n",
    "for s in range(5):\n",
    "    con.execute(f\"EXECUTE run_query(sample := {s});\").pl().write_csv(f\"{OUTPUT_DIR}/csv/sample_{s}.csv\")\n",
    "\n",
    "dfs0"
   ]
  },
  {
   "cell_type": "code",
   "execution_count": 5,
   "metadata": {},
   "outputs": [
    {
     "data": {
      "text/html": [
       "<div><style>\n",
       ".dataframe > thead > tr,\n",
       ".dataframe > tbody > tr {\n",
       "  text-align: right;\n",
       "  white-space: pre-wrap;\n",
       "}\n",
       "</style>\n",
       "<small>shape: (4_096, 11)</small><table border=\"1\" class=\"dataframe\"><thead><tr><th>sample</th><th>l_returnflag</th><th>l_linestatus</th><th>sum_qty</th><th>sum_base_price</th><th>sum_disc_price</th><th>sum_charge</th><th>avg_qty</th><th>avg_price</th><th>avg_disc</th><th>count_order</th></tr><tr><td>i32</td><td>str</td><td>str</td><td>decimal[38,2]</td><td>decimal[38,2]</td><td>decimal[38,4]</td><td>decimal[38,6]</td><td>f64</td><td>f64</td><td>f64</td><td>i64</td></tr></thead><tbody><tr><td>0</td><td>&quot;A&quot;</td><td>&quot;F&quot;</td><td>3733462.00</td><td>5260558006.72</td><td>4997745771.7952</td><td>5197909459.428252</td><td>25.538423</td><td>35984.390223</td><td>0.050067</td><td>146190</td></tr><tr><td>0</td><td>&quot;N&quot;</td><td>&quot;F&quot;</td><td>92380.00</td><td>129404105.94</td><td>123060337.9390</td><td>128084892.811728</td><td>25.309589</td><td>35453.17971</td><td>0.049227</td><td>3650</td></tr><tr><td>0</td><td>&quot;N&quot;</td><td>&quot;O&quot;</td><td>7372080.00</td><td>10388440543.24</td><td>9868003177.7708</td><td>10263092773.594816</td><td>25.577251</td><td>36042.44051</td><td>0.05016</td><td>288228</td></tr><tr><td>0</td><td>&quot;R&quot;</td><td>&quot;F&quot;</td><td>3723424.00</td><td>5249934596.46</td><td>4988807912.0502</td><td>5188971114.989622</td><td>25.545597</td><td>36018.651695</td><td>0.049968</td><td>145756</td></tr><tr><td>1</td><td>&quot;A&quot;</td><td>&quot;F&quot;</td><td>3725208.00</td><td>5253491310.74</td><td>4990823173.6206</td><td>5190464691.705644</td><td>25.591547</td><td>36090.594589</td><td>0.050058</td><td>145564</td></tr><tr><td>&hellip;</td><td>&hellip;</td><td>&hellip;</td><td>&hellip;</td><td>&hellip;</td><td>&hellip;</td><td>&hellip;</td><td>&hellip;</td><td>&hellip;</td><td>&hellip;</td><td>&hellip;</td></tr><tr><td>1022</td><td>&quot;R&quot;</td><td>&quot;F&quot;</td><td>3807854.00</td><td>5372208876.30</td><td>5103685411.1322</td><td>5307670069.373140</td><td>25.510867</td><td>35991.323268</td><td>0.050187</td><td>149264</td></tr><tr><td>1023</td><td>&quot;A&quot;</td><td>&quot;F&quot;</td><td>3789496.00</td><td>5349027893.94</td><td>5081659449.5598</td><td>5285997627.055196</td><td>25.57429</td><td>36099.151644</td><td>0.050051</td><td>148176</td></tr><tr><td>1023</td><td>&quot;N&quot;</td><td>&quot;F&quot;</td><td>98374.00</td><td>138965762.74</td><td>132131209.0540</td><td>137542995.333690</td><td>25.275951</td><td>35705.488885</td><td>0.049085</td><td>3892</td></tr><tr><td>1023</td><td>&quot;N&quot;</td><td>&quot;O&quot;</td><td>7427842.00</td><td>10466621561.10</td><td>9944338289.4908</td><td>10341390651.536584</td><td>25.576911</td><td>36040.595985</td><td>0.049957</td><td>290412</td></tr><tr><td>1023</td><td>&quot;R&quot;</td><td>&quot;F&quot;</td><td>3816386.00</td><td>5381388226.34</td><td>5114031456.4202</td><td>5318735212.052568</td><td>25.585168</td><td>36076.990603</td><td>0.049852</td><td>149164</td></tr></tbody></table></div>"
      ],
      "text/plain": [
       "shape: (4_096, 11)\n",
       "┌────────┬────────────┬────────────┬────────────┬───┬───────────┬───────────┬──────────┬───────────┐\n",
       "│ sample ┆ l_returnfl ┆ l_linestat ┆ sum_qty    ┆ … ┆ avg_qty   ┆ avg_price ┆ avg_disc ┆ count_ord │\n",
       "│ ---    ┆ ag         ┆ us         ┆ ---        ┆   ┆ ---       ┆ ---       ┆ ---      ┆ er        │\n",
       "│ i32    ┆ ---        ┆ ---        ┆ decimal[38 ┆   ┆ f64       ┆ f64       ┆ f64      ┆ ---       │\n",
       "│        ┆ str        ┆ str        ┆ ,2]        ┆   ┆           ┆           ┆          ┆ i64       │\n",
       "╞════════╪════════════╪════════════╪════════════╪═══╪═══════════╪═══════════╪══════════╪═══════════╡\n",
       "│ 0      ┆ A          ┆ F          ┆ 3733462.00 ┆ … ┆ 25.538423 ┆ 35984.390 ┆ 0.050067 ┆ 146190    │\n",
       "│        ┆            ┆            ┆            ┆   ┆           ┆ 223       ┆          ┆           │\n",
       "│ 0      ┆ N          ┆ F          ┆ 92380.00   ┆ … ┆ 25.309589 ┆ 35453.179 ┆ 0.049227 ┆ 3650      │\n",
       "│        ┆            ┆            ┆            ┆   ┆           ┆ 71        ┆          ┆           │\n",
       "│ 0      ┆ N          ┆ O          ┆ 7372080.00 ┆ … ┆ 25.577251 ┆ 36042.440 ┆ 0.05016  ┆ 288228    │\n",
       "│        ┆            ┆            ┆            ┆   ┆           ┆ 51        ┆          ┆           │\n",
       "│ 0      ┆ R          ┆ F          ┆ 3723424.00 ┆ … ┆ 25.545597 ┆ 36018.651 ┆ 0.049968 ┆ 145756    │\n",
       "│        ┆            ┆            ┆            ┆   ┆           ┆ 695       ┆          ┆           │\n",
       "│ 1      ┆ A          ┆ F          ┆ 3725208.00 ┆ … ┆ 25.591547 ┆ 36090.594 ┆ 0.050058 ┆ 145564    │\n",
       "│        ┆            ┆            ┆            ┆   ┆           ┆ 589       ┆          ┆           │\n",
       "│ …      ┆ …          ┆ …          ┆ …          ┆ … ┆ …         ┆ …         ┆ …        ┆ …         │\n",
       "│ 1022   ┆ R          ┆ F          ┆ 3807854.00 ┆ … ┆ 25.510867 ┆ 35991.323 ┆ 0.050187 ┆ 149264    │\n",
       "│        ┆            ┆            ┆            ┆   ┆           ┆ 268       ┆          ┆           │\n",
       "│ 1023   ┆ A          ┆ F          ┆ 3789496.00 ┆ … ┆ 25.57429  ┆ 36099.151 ┆ 0.050051 ┆ 148176    │\n",
       "│        ┆            ┆            ┆            ┆   ┆           ┆ 644       ┆          ┆           │\n",
       "│ 1023   ┆ N          ┆ F          ┆ 98374.00   ┆ … ┆ 25.275951 ┆ 35705.488 ┆ 0.049085 ┆ 3892      │\n",
       "│        ┆            ┆            ┆            ┆   ┆           ┆ 885       ┆          ┆           │\n",
       "│ 1023   ┆ N          ┆ O          ┆ 7427842.00 ┆ … ┆ 25.576911 ┆ 36040.595 ┆ 0.049957 ┆ 290412    │\n",
       "│        ┆            ┆            ┆            ┆   ┆           ┆ 985       ┆          ┆           │\n",
       "│ 1023   ┆ R          ┆ F          ┆ 3816386.00 ┆ … ┆ 25.585168 ┆ 36076.990 ┆ 0.049852 ┆ 149164    │\n",
       "│        ┆            ┆            ┆            ┆   ┆           ┆ 603       ┆          ┆           │\n",
       "└────────┴────────────┴────────────┴────────────┴───┴───────────┴───────────┴──────────┴───────────┘"
      ]
     },
     "execution_count": 5,
     "metadata": {},
     "output_type": "execute_result"
    }
   ],
   "source": [
    "# Run the query for each sample, but accumulate in a pl.DataFrame instead of a list\n",
    "dfsdf: pl.DataFrame = pl.concat(\n",
    "    con.execute(f\"EXECUTE run_query(sample := {s});\").pl().insert_column(0, pl.lit(s).alias(\"sample\"))\n",
    "    for s in range(SAMPLES)\n",
    ")\n",
    "dfsdf"
   ]
  },
  {
   "cell_type": "code",
   "execution_count": 6,
   "metadata": {},
   "outputs": [],
   "source": [
    "# Define which columns are the group-by keys (INDEX_COLS) and which are the output columns (OUTPUT_COLS)\n",
    "INDEX_COLS = ['l_returnflag', 'l_linestatus']\n",
    "OUTPUT_COLS = ['sum_qty', 'sum_base_price', 'sum_disc_price', 'sum_charge', 'avg_qty', 'avg_price', 'avg_disc', 'count_order']"
   ]
  },
  {
   "cell_type": "code",
   "execution_count": 7,
   "metadata": {},
   "outputs": [
    {
     "data": {
      "text/html": [
       "<div><style>\n",
       ".dataframe > thead > tr,\n",
       ".dataframe > tbody > tr {\n",
       "  text-align: right;\n",
       "  white-space: pre-wrap;\n",
       "}\n",
       "</style>\n",
       "<small>shape: (4, 10)</small><table border=\"1\" class=\"dataframe\"><thead><tr><th>l_returnflag</th><th>l_linestatus</th><th>sum_qty</th><th>sum_base_price</th><th>sum_disc_price</th><th>sum_charge</th><th>avg_qty</th><th>avg_price</th><th>avg_disc</th><th>count_order</th></tr><tr><td>str</td><td>str</td><td>list[decimal[38,2]]</td><td>list[decimal[38,2]]</td><td>list[decimal[38,4]]</td><td>list[decimal[38,6]]</td><td>list[f64]</td><td>list[f64]</td><td>list[f64]</td><td>list[i64]</td></tr></thead><tbody><tr><td>&quot;A&quot;</td><td>&quot;F&quot;</td><td>[3733462.00, 3725208.00, … 3789496.00]</td><td>[5260558006.72, 5253491310.74, … 5349027893.94]</td><td>[4997745771.7952, 4990823173.6206, … 5081659449.5598]</td><td>[5197909459.428252, 5190464691.705644, … 5285997627.055196]</td><td>[25.538423, 25.591547, … 25.57429]</td><td>[35984.390223, 36090.594589, … 36099.151644]</td><td>[0.050067, 0.050058, … 0.050051]</td><td>[146190, 145564, … 148176]</td></tr><tr><td>&quot;N&quot;</td><td>&quot;F&quot;</td><td>[92380.00, 93538.00, … 98374.00]</td><td>[129404105.94, 131312988.04, … 138965762.74]</td><td>[123060337.9390, 124771582.0118, … 132131209.0540]</td><td>[128084892.811728, 129795281.661122, … 137542995.333690]</td><td>[25.309589, 25.683141, … 25.275951]</td><td>[35453.17971, 36055.186172, … 35705.488885]</td><td>[0.049227, 0.049577, … 0.049085]</td><td>[3650, 3642, … 3892]</td></tr><tr><td>&quot;N&quot;</td><td>&quot;O&quot;</td><td>[7372080.00, 7455006.00, … 7427842.00]</td><td>[10388440543.24, 10511131231.10, … 10466621561.10]</td><td>[9868003177.7708, 9984960028.2010, … 9944338289.4908]</td><td>[10263092773.594816, 10383917919.389444, … 10341390651.536584]</td><td>[25.577251, 25.559203, … 25.576911]</td><td>[36042.44051, 36037.011037, … 36040.595985]</td><td>[0.05016, 0.05006, … 0.049957]</td><td>[288228, 291676, … 290412]</td></tr><tr><td>&quot;R&quot;</td><td>&quot;F&quot;</td><td>[3723424.00, 3768024.00, … 3816386.00]</td><td>[5249934596.46, 5311242105.14, … 5381388226.34]</td><td>[4988807912.0502, 5046936652.7692, … 5114031456.4202]</td><td>[5188971114.989622, 5247619511.877250, … 5318735212.052568]</td><td>[25.545597, 25.564644, … 25.585168]</td><td>[36018.651695, 36034.805859, … 36076.990603]</td><td>[0.049968, 0.05, … 0.049852]</td><td>[145756, 147392, … 149164]</td></tr></tbody></table></div>"
      ],
      "text/plain": [
       "shape: (4, 10)\n",
       "┌───────────┬───────────┬───────────┬───────────┬───┬───────────┬───────────┬───────────┬──────────┐\n",
       "│ l_returnf ┆ l_linesta ┆ sum_qty   ┆ sum_base_ ┆ … ┆ avg_qty   ┆ avg_price ┆ avg_disc  ┆ count_or │\n",
       "│ lag       ┆ tus       ┆ ---       ┆ price     ┆   ┆ ---       ┆ ---       ┆ ---       ┆ der      │\n",
       "│ ---       ┆ ---       ┆ list[deci ┆ ---       ┆   ┆ list[f64] ┆ list[f64] ┆ list[f64] ┆ ---      │\n",
       "│ str       ┆ str       ┆ mal[38,2] ┆ list[deci ┆   ┆           ┆           ┆           ┆ list[i64 │\n",
       "│           ┆           ┆ ]         ┆ mal[38,2] ┆   ┆           ┆           ┆           ┆ ]        │\n",
       "│           ┆           ┆           ┆ ]         ┆   ┆           ┆           ┆           ┆          │\n",
       "╞═══════════╪═══════════╪═══════════╪═══════════╪═══╪═══════════╪═══════════╪═══════════╪══════════╡\n",
       "│ A         ┆ F         ┆ [3733462. ┆ [52605580 ┆ … ┆ [25.53842 ┆ [35984.39 ┆ [0.050067 ┆ [146190, │\n",
       "│           ┆           ┆ 00, 37252 ┆ 06.72,    ┆   ┆ 3, 25.591 ┆ 0223, 360 ┆ ,         ┆ 145564,  │\n",
       "│           ┆           ┆ 08.00, …  ┆ 525349131 ┆   ┆ 547, …    ┆ 90.594589 ┆ 0.050058, ┆ …        │\n",
       "│           ┆           ┆ 378…      ┆ 0.74,…    ┆   ┆ 25.57…    ┆ , ……      ┆ …         ┆ 148176]  │\n",
       "│           ┆           ┆           ┆           ┆   ┆           ┆           ┆ 0.05005…  ┆          │\n",
       "│ N         ┆ F         ┆ [92380.00 ┆ [12940410 ┆ … ┆ [25.30958 ┆ [35453.17 ┆ [0.049227 ┆ [3650,   │\n",
       "│           ┆           ┆ ,         ┆ 5.94, 131 ┆   ┆ 9, 25.683 ┆ 971, 3605 ┆ ,         ┆ 3642, …  │\n",
       "│           ┆           ┆ 93538.00, ┆ 312988.04 ┆   ┆ 141, …    ┆ 5.186172, ┆ 0.049577, ┆ 3892]    │\n",
       "│           ┆           ┆ …         ┆ , ……      ┆   ┆ 25.27…    ┆ … …       ┆ …         ┆          │\n",
       "│           ┆           ┆ 98374.0…  ┆           ┆   ┆           ┆           ┆ 0.04908…  ┆          │\n",
       "│ N         ┆ O         ┆ [7372080. ┆ [10388440 ┆ … ┆ [25.57725 ┆ [36042.44 ┆ [0.05016, ┆ [288228, │\n",
       "│           ┆           ┆ 00, 74550 ┆ 543.24,   ┆   ┆ 1, 25.559 ┆ 051, 3603 ┆ 0.05006,  ┆ 291676,  │\n",
       "│           ┆           ┆ 06.00, …  ┆ 105111312 ┆   ┆ 203, …    ┆ 7.011037, ┆ …         ┆ …        │\n",
       "│           ┆           ┆ 742…      ┆ 31.1…     ┆   ┆ 25.57…    ┆ … …       ┆ 0.049957] ┆ 290412]  │\n",
       "│ R         ┆ F         ┆ [3723424. ┆ [52499345 ┆ … ┆ [25.54559 ┆ [36018.65 ┆ [0.049968 ┆ [145756, │\n",
       "│           ┆           ┆ 00, 37680 ┆ 96.46,    ┆   ┆ 7, 25.564 ┆ 1695, 360 ┆ , 0.05, … ┆ 147392,  │\n",
       "│           ┆           ┆ 24.00, …  ┆ 531124210 ┆   ┆ 644, …    ┆ 34.805859 ┆ 0.049852] ┆ …        │\n",
       "│           ┆           ┆ 381…      ┆ 5.14,…    ┆   ┆ 25.58…    ┆ , ……      ┆           ┆ 149164]  │\n",
       "└───────────┴───────────┴───────────┴───────────┴───┴───────────┴───────────┴───────────┴──────────┘"
      ]
     },
     "execution_count": 7,
     "metadata": {},
     "output_type": "execute_result"
    }
   ],
   "source": [
    "# Combine all the samples into one table, grouped-by the group-by keys. Each cell contains an n <= # of samples length array of values.\n",
    "listdf = (dfsdf.group_by(INDEX_COLS, maintain_order=True)\n",
    "      .all()\n",
    "      .drop(pl.col(\"sample\")))\n",
    "listdf"
   ]
  },
  {
   "cell_type": "code",
   "execution_count": 8,
   "metadata": {},
   "outputs": [
    {
     "data": {
      "text/plain": [
       "[{'l_returnflag': 'A', 'l_linestatus': 'F'},\n",
       " {'l_returnflag': 'N', 'l_linestatus': 'F'},\n",
       " {'l_returnflag': 'N', 'l_linestatus': 'O'},\n",
       " {'l_returnflag': 'R', 'l_linestatus': 'F'}]"
      ]
     },
     "execution_count": 8,
     "metadata": {},
     "output_type": "execute_result"
    }
   ],
   "source": [
    "allgroups: pl.DataFrame = listdf.select(INDEX_COLS)\n",
    "allgroups.to_dicts()"
   ]
  },
  {
   "cell_type": "code",
   "execution_count": 9,
   "metadata": {},
   "outputs": [
    {
     "data": {
      "text/html": [
       "<div><style>\n",
       ".dataframe > thead > tr,\n",
       ".dataframe > tbody > tr {\n",
       "  text-align: right;\n",
       "  white-space: pre-wrap;\n",
       "}\n",
       "</style>\n",
       "<small>shape: (4, 10)</small><table border=\"1\" class=\"dataframe\"><thead><tr><th>l_returnflag</th><th>l_linestatus</th><th>sum_qty</th><th>sum_base_price</th><th>sum_disc_price</th><th>sum_charge</th><th>avg_qty</th><th>avg_price</th><th>avg_disc</th><th>count_order</th></tr><tr><td>str</td><td>str</td><td>decimal[38,2]</td><td>decimal[38,2]</td><td>decimal[38,4]</td><td>decimal[38,6]</td><td>f64</td><td>f64</td><td>f64</td><td>i64</td></tr></thead><tbody><tr><td>&quot;A&quot;</td><td>&quot;F&quot;</td><td>null</td><td>null</td><td>null</td><td>null</td><td>null</td><td>null</td><td>null</td><td>null</td></tr><tr><td>&quot;N&quot;</td><td>&quot;F&quot;</td><td>null</td><td>null</td><td>null</td><td>null</td><td>null</td><td>null</td><td>null</td><td>null</td></tr><tr><td>&quot;N&quot;</td><td>&quot;O&quot;</td><td>null</td><td>null</td><td>null</td><td>null</td><td>null</td><td>null</td><td>null</td><td>null</td></tr><tr><td>&quot;R&quot;</td><td>&quot;F&quot;</td><td>null</td><td>null</td><td>null</td><td>null</td><td>null</td><td>null</td><td>null</td><td>null</td></tr></tbody></table></div>"
      ],
      "text/plain": [
       "shape: (4, 10)\n",
       "┌────────────┬────────────┬───────────┬───────────┬───┬─────────┬───────────┬──────────┬───────────┐\n",
       "│ l_returnfl ┆ l_linestat ┆ sum_qty   ┆ sum_base_ ┆ … ┆ avg_qty ┆ avg_price ┆ avg_disc ┆ count_ord │\n",
       "│ ag         ┆ us         ┆ ---       ┆ price     ┆   ┆ ---     ┆ ---       ┆ ---      ┆ er        │\n",
       "│ ---        ┆ ---        ┆ decimal[3 ┆ ---       ┆   ┆ f64     ┆ f64       ┆ f64      ┆ ---       │\n",
       "│ str        ┆ str        ┆ 8,2]      ┆ decimal[3 ┆   ┆         ┆           ┆          ┆ i64       │\n",
       "│            ┆            ┆           ┆ 8,2]      ┆   ┆         ┆           ┆          ┆           │\n",
       "╞════════════╪════════════╪═══════════╪═══════════╪═══╪═════════╪═══════════╪══════════╪═══════════╡\n",
       "│ A          ┆ F          ┆ null      ┆ null      ┆ … ┆ null    ┆ null      ┆ null     ┆ null      │\n",
       "│ N          ┆ F          ┆ null      ┆ null      ┆ … ┆ null    ┆ null      ┆ null     ┆ null      │\n",
       "│ N          ┆ O          ┆ null      ┆ null      ┆ … ┆ null    ┆ null      ┆ null     ┆ null      │\n",
       "│ R          ┆ F          ┆ null      ┆ null      ┆ … ┆ null    ┆ null      ┆ null     ┆ null      │\n",
       "└────────────┴────────────┴───────────┴───────────┴───┴─────────┴───────────┴──────────┴───────────┘"
      ]
     },
     "execution_count": 9,
     "metadata": {},
     "output_type": "execute_result"
    }
   ],
   "source": [
    "# Template for the final output, including all possible group-by groups\n",
    "# Obtained by collecting all the samples in a big table and then keeping only the first occurrence of each groupby key.\n",
    "# Then, fill all OUTPUT_COLS with nulls\n",
    "templatedf = dfsdf.drop(pl.col(\"sample\")).group_by(INDEX_COLS, maintain_order=True).first()\n",
    "templatedf = templatedf.clear(n=len(allgroups)).with_columns(allgroups)\n",
    "templatedf"
   ]
  },
  {
   "cell_type": "code",
   "execution_count": 18,
   "metadata": {},
   "outputs": [],
   "source": [
    "os.makedirs(f\"{OUTPUT_DIR}/json\", exist_ok=True)\n",
    "os.makedirs(f\"{OUTPUT_DIR}/pkl\", exist_ok=True)\n",
    "i: int = 0\n",
    "reverse_map = {}\n",
    "for col in OUTPUT_COLS:\n",
    "    for group in allgroups.iter_rows(named=True):\n",
    "        values = listdf.filter(pl.col(k).eq(v) for k, v in group.items()).select(col).to_series()\n",
    "        j = pl.DataFrame().with_columns([\n",
    "            pl.lit(col).alias(\"col\"),\n",
    "            pl.lit(group).alias(\"row\"),\n",
    "            pl.lit(values).alias(\"values\"),\n",
    "        ])\n",
    "        reverse_map[i] = (col, group)\n",
    "        i+=1\n",
    "        # save pickle of numpy conversion of values\n",
    "        pickle.dump(values.to_numpy(), open(f\"{OUTPUT_DIR}/pkl/{i}.pkl\", \"wb\"))\n",
    "import json\n",
    "with open(f\"{OUTPUT_DIR}/reverse_map.json\", \"w\") as f:\n",
    "    json.dump(reverse_map, f)\n"
   ]
  },
  {
   "cell_type": "code",
   "execution_count": 19,
   "metadata": {},
   "outputs": [],
   "source": [
    "def numpyify(df: pl.DataFrame) -> np.ndarray:\n",
    "    return df.select(OUTPUT_COLS).to_numpy().flatten()\n",
    "\n",
    "def tablify(arr: np.ndarray) -> pl.DataFrame:\n",
    "    global OUTPUT_SHAPE, OUTPUT_SCHEMA\n",
    "    return templatedf.update( # put values back into the original dataframe\n",
    "        pl.DataFrame(\n",
    "            arr.reshape(OUTPUT_SHAPE), # reshape to the original shape\n",
    "            schema=OUTPUT_SCHEMA # coerce numpy array to the correct schema\n",
    "        ) # index cols will be left unchanged (not updated b/c we only update output_cols)\n",
    "    )"
   ]
  },
  {
   "cell_type": "code",
   "execution_count": 21,
   "metadata": {},
   "outputs": [
    {
     "data": {
      "text/plain": [
       "'/Users/michael/projects/dpdb/pacdb/outputs/pac-duckdb-q1.zip'"
      ]
     },
     "execution_count": 21,
     "metadata": {},
     "output_type": "execute_result"
    }
   ],
   "source": [
    "# zip the OUTPUT_DIR\n",
    "import shutil\n",
    "shutil.make_archive(OUTPUT_DIR, 'zip', OUTPUT_DIR)"
   ]
  }
 ],
 "metadata": {
  "kernelspec": {
   "display_name": ".venv",
   "language": "python",
   "name": "python3"
  },
  "language_info": {
   "codemirror_mode": {
    "name": "ipython",
    "version": 3
   },
   "file_extension": ".py",
   "mimetype": "text/x-python",
   "name": "python",
   "nbconvert_exporter": "python",
   "pygments_lexer": "ipython3",
   "version": "3.11.7"
  }
 },
 "nbformat": 4,
 "nbformat_minor": 2
}
