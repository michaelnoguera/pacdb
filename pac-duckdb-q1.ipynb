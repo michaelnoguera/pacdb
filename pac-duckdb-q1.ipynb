{
 "cells": [
  {
   "cell_type": "markdown",
   "metadata": {},
   "source": [
    "## DuckDB Notebook\n",
    "\n",
    "This notebook generates a bunch of raw outputs, without applying PAC, to be consumed by a second stage."
   ]
  },
  {
   "cell_type": "markdown",
   "metadata": {},
   "source": [
    "```\n",
    " group by              output cols                        \n",
    " key cols ┌────────┬────────┬────────┬────────┐           \n",
    "        │ │   A    │   B    │   C    │   D    │           \n",
    "      ┌─▼─┼────────┼────────┼────────┼────────┤           \n",
    "      │ 1 │   2    │        │        │        │           \n",
    "      ├───┼───|────┼────────┼────────┼────────┤           \n",
    "      │ 2 │   │    │        │        │        │           \n",
    "      ├───┼───┼────┼────────┼────────┼────────┤           \n",
    "      │ 3 │   │    │        │        │        │           \n",
    "      └───┴───┼────┴────────┴────────┴────────┘           \n",
    "              ▼                 A_1.json                  \n",
    "       Sample 0:   A1=2        ┌─────────────────────────┐\n",
    "       Sample 1:   A1=4  ───▶  │{                        │\n",
    "             ...               │    col: A               │\n",
    "       Sample 999: A1=3        │    row: 1               │\n",
    "                               │    value: [2, 4, ... 3] │\n",
    "                               │}                        │\n",
    "                               └─────────────────────────┘\n",
    "```"
   ]
  },
  {
   "cell_type": "code",
   "execution_count": null,
   "metadata": {},
   "outputs": [],
   "source": [
    "#!/usr/bin/env python\n",
    "# coding: utf-8\n",
    "\n",
    "EXPERIMENT = 'pac-duckdb-q1'\n",
    "OUTPUT_DIR = f'./outputs/{EXPERIMENT}-step1'\n",
    "\n",
    "import os\n",
    "from typing import List\n",
    "if not os.path.exists(OUTPUT_DIR):\n",
    "    os.makedirs(OUTPUT_DIR)\n",
    "\n",
    "import numpy as np\n",
    "import pickle\n",
    "import json\n",
    "import duckdb\n",
    "import polars as pl\n",
    "import pyarrow as pa\n",
    "import shutil"
   ]
  },
  {
   "cell_type": "code",
   "execution_count": 2,
   "metadata": {},
   "outputs": [],
   "source": [
    "# duckdb load data/tpch/tpch.duckdb into the temporary in-memory database\n",
    "con = duckdb.connect(database=':memory:')\n",
    "tables = [\"customer\", \"lineitem\", \"nation\", \"orders\", \"part\", \"partsupp\", \"region\", \"supplier\"]\n",
    "for t in tables:\n",
    "    con.execute(f\"CREATE TABLE {t} AS SELECT * FROM 'data/tpch/{t}.parquet'\")"
   ]
  },
  {
   "cell_type": "code",
   "execution_count": 3,
   "metadata": {},
   "outputs": [],
   "source": [
    "# Construct the table of random samples\n",
    "# to use, join it with the lineitem table (for specific sample # s) and filter to just the\n",
    "# rows where random_binary = 1.0\n",
    "# This will give us a 50% sample of the lineitem table for each sample # s\n",
    "\n",
    "SAMPLES = 1024\n",
    "assert SAMPLES % 2 == 0, \"SAMPLES must be even to create complementary samples.\"\n",
    "\n",
    "random_samples = con.execute(f\"\"\"\n",
    "DROP TABLE IF EXISTS random_samples;\n",
    "\n",
    "CREATE TABLE random_samples AS\n",
    "WITH sample_numbers AS MATERIALIZED (\n",
    "    SELECT range AS sample_id FROM range({SAMPLES//2})\n",
    "), random_values AS MATERIALIZED (\n",
    "    SELECT \n",
    "        sample_numbers.sample_id,\n",
    "        customer.rowid AS row_id,\n",
    "        (RANDOM() > 0.5)::BOOLEAN AS random_binary\n",
    "    FROM sample_numbers\n",
    "    JOIN customer ON TRUE  -- Cross join to duplicate rows for each sample\n",
    ")\n",
    "SELECT\n",
    "    sample_id,\n",
    "    row_id,\n",
    "    random_binary\n",
    "FROM random_values\n",
    "UNION ALL\n",
    "SELECT -- select the complementary samples too\n",
    "    ({SAMPLES//2}) + sample_id,\n",
    "    row_id,\n",
    "    NOT random_binary  -- Inverse the random_binary to get the complementary sample\n",
    "FROM random_values\n",
    "ORDER BY sample_id, row_id;\n",
    "\"\"\")"
   ]
  },
  {
   "cell_type": "markdown",
   "metadata": {},
   "source": [
    "The randomness of what rows are chosen is saved to disk in `random_binary.json`. For each sample #, there is an array with one entry per row, where 1 means the row was chosen and 0 means it was not."
   ]
  },
  {
   "cell_type": "code",
   "execution_count": 4,
   "metadata": {},
   "outputs": [],
   "source": [
    "con.execute(f\"\"\"\n",
    "SELECT sample_id, array_agg(random_binary::TINYINT) as random_binary\n",
    "FROM random_samples\n",
    "GROUP BY sample_id;\n",
    "\"\"\").pl().write_json(f\"{OUTPUT_DIR}/random_binary.json\")"
   ]
  },
  {
   "cell_type": "markdown",
   "metadata": {},
   "source": [
    "Query is specified as a prepared statement. We will then execute it once per sample."
   ]
  },
  {
   "cell_type": "code",
   "execution_count": 5,
   "metadata": {},
   "outputs": [
    {
     "data": {
      "text/html": [
       "<div><style>\n",
       ".dataframe > thead > tr,\n",
       ".dataframe > tbody > tr {\n",
       "  text-align: right;\n",
       "  white-space: pre-wrap;\n",
       "}\n",
       "</style>\n",
       "<small>shape: (4, 10)</small><table border=\"1\" class=\"dataframe\"><thead><tr><th>l_returnflag</th><th>l_linestatus</th><th>sum_qty</th><th>sum_base_price</th><th>sum_disc_price</th><th>sum_charge</th><th>avg_qty</th><th>avg_price</th><th>avg_disc</th><th>count_order</th></tr><tr><td>str</td><td>str</td><td>decimal[38,2]</td><td>decimal[38,2]</td><td>decimal[38,4]</td><td>decimal[38,6]</td><td>f64</td><td>f64</td><td>f64</td><td>i64</td></tr></thead><tbody><tr><td>&quot;A&quot;</td><td>&quot;F&quot;</td><td>3790112.00</td><td>5343302545.20</td><td>5075830326.8376</td><td>5278929038.269122</td><td>25.558094</td><td>36031.818854</td><td>0.050038</td><td>148294</td></tr><tr><td>&quot;N&quot;</td><td>&quot;F&quot;</td><td>98118.00</td><td>137425236.14</td><td>130639084.6582</td><td>135777265.079778</td><td>25.445539</td><td>35639.324725</td><td>0.049362</td><td>3856</td></tr><tr><td>&quot;N&quot;</td><td>&quot;O&quot;</td><td>7530256.00</td><td>10610500466.18</td><td>10078939700.8858</td><td>10481994797.255912</td><td>25.571019</td><td>36030.821594</td><td>0.050133</td><td>294484</td></tr><tr><td>&quot;R&quot;</td><td>&quot;F&quot;</td><td>3786362.00</td><td>5337117579.72</td><td>5071651650.7752</td><td>5274130172.139980</td><td>25.486403</td><td>35924.703022</td><td>0.049908</td><td>148564</td></tr></tbody></table></div>"
      ],
      "text/plain": [
       "shape: (4, 10)\n",
       "┌───────────┬───────────┬───────────┬───────────┬───┬───────────┬───────────┬──────────┬───────────┐\n",
       "│ l_returnf ┆ l_linesta ┆ sum_qty   ┆ sum_base_ ┆ … ┆ avg_qty   ┆ avg_price ┆ avg_disc ┆ count_ord │\n",
       "│ lag       ┆ tus       ┆ ---       ┆ price     ┆   ┆ ---       ┆ ---       ┆ ---      ┆ er        │\n",
       "│ ---       ┆ ---       ┆ decimal[3 ┆ ---       ┆   ┆ f64       ┆ f64       ┆ f64      ┆ ---       │\n",
       "│ str       ┆ str       ┆ 8,2]      ┆ decimal[3 ┆   ┆           ┆           ┆          ┆ i64       │\n",
       "│           ┆           ┆           ┆ 8,2]      ┆   ┆           ┆           ┆          ┆           │\n",
       "╞═══════════╪═══════════╪═══════════╪═══════════╪═══╪═══════════╪═══════════╪══════════╪═══════════╡\n",
       "│ A         ┆ F         ┆ 3790112.0 ┆ 534330254 ┆ … ┆ 25.558094 ┆ 36031.818 ┆ 0.050038 ┆ 148294    │\n",
       "│           ┆           ┆ 0         ┆ 5.20      ┆   ┆           ┆ 854       ┆          ┆           │\n",
       "│ N         ┆ F         ┆ 98118.00  ┆ 137425236 ┆ … ┆ 25.445539 ┆ 35639.324 ┆ 0.049362 ┆ 3856      │\n",
       "│           ┆           ┆           ┆ .14       ┆   ┆           ┆ 725       ┆          ┆           │\n",
       "│ N         ┆ O         ┆ 7530256.0 ┆ 106105004 ┆ … ┆ 25.571019 ┆ 36030.821 ┆ 0.050133 ┆ 294484    │\n",
       "│           ┆           ┆ 0         ┆ 66.18     ┆   ┆           ┆ 594       ┆          ┆           │\n",
       "│ R         ┆ F         ┆ 3786362.0 ┆ 533711757 ┆ … ┆ 25.486403 ┆ 35924.703 ┆ 0.049908 ┆ 148564    │\n",
       "│           ┆           ┆ 0         ┆ 9.72      ┆   ┆           ┆ 022       ┆          ┆           │\n",
       "└───────────┴───────────┴───────────┴───────────┴───┴───────────┴───────────┴──────────┴───────────┘"
      ]
     },
     "execution_count": 5,
     "metadata": {},
     "output_type": "execute_result"
    }
   ],
   "source": [
    "# Query\n",
    "con.execute(\"\"\"\n",
    "DEALLOCATE PREPARE run_query;\n",
    "\n",
    "PREPARE run_query AS \n",
    "SELECT\n",
    "    l_returnflag,\n",
    "    l_linestatus,\n",
    "    2*sum(l_quantity) AS sum_qty,\n",
    "    2*sum(l_extendedprice) AS sum_base_price,\n",
    "    2*sum(l_extendedprice * (1 - l_discount)) AS sum_disc_price,\n",
    "    2*sum(l_extendedprice * (1 - l_discount) * (1 + l_tax)) AS sum_charge,\n",
    "    avg(l_quantity) AS avg_qty,\n",
    "    avg(l_extendedprice) AS avg_price,\n",
    "    avg(l_discount) AS avg_disc,\n",
    "    2*count(*) AS count_order\n",
    "FROM\n",
    "    lineitem\n",
    "JOIN orders ON lineitem.l_orderkey = orders.o_orderkey\n",
    "JOIN customer ON orders.o_custkey = customer.c_custkey\n",
    "JOIN random_samples AS rs\n",
    "    ON rs.row_id = customer.rowid\n",
    "WHERE\n",
    "    l_shipdate <= CAST('1998-09-02' AS date)\n",
    "    AND rs.random_binary = TRUE\n",
    "    AND rs.sample_id = $sample\n",
    "GROUP BY\n",
    "    l_returnflag,\n",
    "    l_linestatus\n",
    "ORDER BY\n",
    "    l_returnflag,\n",
    "    l_linestatus;\n",
    "\"\"\")\n",
    "\n",
    "# Run query to see output\n",
    "dfs0 = con.execute(f\"EXECUTE run_query(sample := {0});\").pl()\n",
    "\n",
    "# Save csv copies of the first 5 samples\n",
    "os.makedirs(f\"{OUTPUT_DIR}/csv\", exist_ok=True)\n",
    "for s in range(5):\n",
    "    con.execute(f\"EXECUTE run_query(sample := {s});\").pl().write_csv(f\"{OUTPUT_DIR}/csv/sample_{s}.csv\")\n",
    "\n",
    "dfs0"
   ]
  },
  {
   "cell_type": "code",
   "execution_count": 6,
   "metadata": {},
   "outputs": [
    {
     "data": {
      "text/html": [
       "<div><style>\n",
       ".dataframe > thead > tr,\n",
       ".dataframe > tbody > tr {\n",
       "  text-align: right;\n",
       "  white-space: pre-wrap;\n",
       "}\n",
       "</style>\n",
       "<small>shape: (4_096, 11)</small><table border=\"1\" class=\"dataframe\"><thead><tr><th>sample</th><th>l_returnflag</th><th>l_linestatus</th><th>sum_qty</th><th>sum_base_price</th><th>sum_disc_price</th><th>sum_charge</th><th>avg_qty</th><th>avg_price</th><th>avg_disc</th><th>count_order</th></tr><tr><td>i32</td><td>str</td><td>str</td><td>decimal[38,2]</td><td>decimal[38,2]</td><td>decimal[38,4]</td><td>decimal[38,6]</td><td>f64</td><td>f64</td><td>f64</td><td>i64</td></tr></thead><tbody><tr><td>0</td><td>&quot;A&quot;</td><td>&quot;F&quot;</td><td>3790112.00</td><td>5343302545.20</td><td>5075830326.8376</td><td>5278929038.269122</td><td>25.558094</td><td>36031.818854</td><td>0.050038</td><td>148294</td></tr><tr><td>0</td><td>&quot;N&quot;</td><td>&quot;F&quot;</td><td>98118.00</td><td>137425236.14</td><td>130639084.6582</td><td>135777265.079778</td><td>25.445539</td><td>35639.324725</td><td>0.049362</td><td>3856</td></tr><tr><td>0</td><td>&quot;N&quot;</td><td>&quot;O&quot;</td><td>7530256.00</td><td>10610500466.18</td><td>10078939700.8858</td><td>10481994797.255912</td><td>25.571019</td><td>36030.821594</td><td>0.050133</td><td>294484</td></tr><tr><td>0</td><td>&quot;R&quot;</td><td>&quot;F&quot;</td><td>3786362.00</td><td>5337117579.72</td><td>5071651650.7752</td><td>5274130172.139980</td><td>25.486403</td><td>35924.703022</td><td>0.049908</td><td>148564</td></tr><tr><td>1</td><td>&quot;A&quot;</td><td>&quot;F&quot;</td><td>3771282.00</td><td>5320800911.22</td><td>5054843348.2914</td><td>5257691362.812702</td><td>25.500588</td><td>35978.097986</td><td>0.049998</td><td>147890</td></tr><tr><td>&hellip;</td><td>&hellip;</td><td>&hellip;</td><td>&hellip;</td><td>&hellip;</td><td>&hellip;</td><td>&hellip;</td><td>&hellip;</td><td>&hellip;</td><td>&hellip;</td><td>&hellip;</td></tr><tr><td>1022</td><td>&quot;R&quot;</td><td>&quot;F&quot;</td><td>3730456.00</td><td>5258082758.70</td><td>4996022601.2144</td><td>5195506143.018882</td><td>25.481953</td><td>35916.847173</td><td>0.049908</td><td>146396</td></tr><tr><td>1023</td><td>&quot;A&quot;</td><td>&quot;F&quot;</td><td>3790652.00</td><td>5344112732.70</td><td>5076373950.2794</td><td>5279719658.274210</td><td>25.552431</td><td>36024.164348</td><td>0.050112</td><td>148348</td></tr><tr><td>1023</td><td>&quot;N&quot;</td><td>&quot;F&quot;</td><td>98464.00</td><td>137914255.52</td><td>130957761.8654</td><td>136283765.522668</td><td>25.325103</td><td>35471.773539</td><td>0.050273</td><td>3888</td></tr><tr><td>1023</td><td>&quot;N&quot;</td><td>&quot;O&quot;</td><td>7483722.00</td><td>10546463371.98</td><td>10018252510.6888</td><td>10417896381.538192</td><td>25.607611</td><td>36087.62266</td><td>0.050065</td><td>292246</td></tr><tr><td>1023</td><td>&quot;R&quot;</td><td>&quot;F&quot;</td><td>3837246.00</td><td>5408584215.06</td><td>5138836850.8116</td><td>5343600706.665366</td><td>25.544515</td><td>36004.900978</td><td>0.049952</td><td>150218</td></tr></tbody></table></div>"
      ],
      "text/plain": [
       "shape: (4_096, 11)\n",
       "┌────────┬────────────┬────────────┬────────────┬───┬───────────┬───────────┬──────────┬───────────┐\n",
       "│ sample ┆ l_returnfl ┆ l_linestat ┆ sum_qty    ┆ … ┆ avg_qty   ┆ avg_price ┆ avg_disc ┆ count_ord │\n",
       "│ ---    ┆ ag         ┆ us         ┆ ---        ┆   ┆ ---       ┆ ---       ┆ ---      ┆ er        │\n",
       "│ i32    ┆ ---        ┆ ---        ┆ decimal[38 ┆   ┆ f64       ┆ f64       ┆ f64      ┆ ---       │\n",
       "│        ┆ str        ┆ str        ┆ ,2]        ┆   ┆           ┆           ┆          ┆ i64       │\n",
       "╞════════╪════════════╪════════════╪════════════╪═══╪═══════════╪═══════════╪══════════╪═══════════╡\n",
       "│ 0      ┆ A          ┆ F          ┆ 3790112.00 ┆ … ┆ 25.558094 ┆ 36031.818 ┆ 0.050038 ┆ 148294    │\n",
       "│        ┆            ┆            ┆            ┆   ┆           ┆ 854       ┆          ┆           │\n",
       "│ 0      ┆ N          ┆ F          ┆ 98118.00   ┆ … ┆ 25.445539 ┆ 35639.324 ┆ 0.049362 ┆ 3856      │\n",
       "│        ┆            ┆            ┆            ┆   ┆           ┆ 725       ┆          ┆           │\n",
       "│ 0      ┆ N          ┆ O          ┆ 7530256.00 ┆ … ┆ 25.571019 ┆ 36030.821 ┆ 0.050133 ┆ 294484    │\n",
       "│        ┆            ┆            ┆            ┆   ┆           ┆ 594       ┆          ┆           │\n",
       "│ 0      ┆ R          ┆ F          ┆ 3786362.00 ┆ … ┆ 25.486403 ┆ 35924.703 ┆ 0.049908 ┆ 148564    │\n",
       "│        ┆            ┆            ┆            ┆   ┆           ┆ 022       ┆          ┆           │\n",
       "│ 1      ┆ A          ┆ F          ┆ 3771282.00 ┆ … ┆ 25.500588 ┆ 35978.097 ┆ 0.049998 ┆ 147890    │\n",
       "│        ┆            ┆            ┆            ┆   ┆           ┆ 986       ┆          ┆           │\n",
       "│ …      ┆ …          ┆ …          ┆ …          ┆ … ┆ …         ┆ …         ┆ …        ┆ …         │\n",
       "│ 1022   ┆ R          ┆ F          ┆ 3730456.00 ┆ … ┆ 25.481953 ┆ 35916.847 ┆ 0.049908 ┆ 146396    │\n",
       "│        ┆            ┆            ┆            ┆   ┆           ┆ 173       ┆          ┆           │\n",
       "│ 1023   ┆ A          ┆ F          ┆ 3790652.00 ┆ … ┆ 25.552431 ┆ 36024.164 ┆ 0.050112 ┆ 148348    │\n",
       "│        ┆            ┆            ┆            ┆   ┆           ┆ 348       ┆          ┆           │\n",
       "│ 1023   ┆ N          ┆ F          ┆ 98464.00   ┆ … ┆ 25.325103 ┆ 35471.773 ┆ 0.050273 ┆ 3888      │\n",
       "│        ┆            ┆            ┆            ┆   ┆           ┆ 539       ┆          ┆           │\n",
       "│ 1023   ┆ N          ┆ O          ┆ 7483722.00 ┆ … ┆ 25.607611 ┆ 36087.622 ┆ 0.050065 ┆ 292246    │\n",
       "│        ┆            ┆            ┆            ┆   ┆           ┆ 66        ┆          ┆           │\n",
       "│ 1023   ┆ R          ┆ F          ┆ 3837246.00 ┆ … ┆ 25.544515 ┆ 36004.900 ┆ 0.049952 ┆ 150218    │\n",
       "│        ┆            ┆            ┆            ┆   ┆           ┆ 978       ┆          ┆           │\n",
       "└────────┴────────────┴────────────┴────────────┴───┴───────────┴───────────┴──────────┴───────────┘"
      ]
     },
     "execution_count": 6,
     "metadata": {},
     "output_type": "execute_result"
    }
   ],
   "source": [
    "# Run the query for each sample, but accumulate in a pl.DataFrame instead of a list\n",
    "dfsdf: pl.DataFrame = pl.concat(\n",
    "    con.execute(f\"EXECUTE run_query(sample := {s});\").pl().insert_column(0, pl.lit(s).alias(\"sample\"))\n",
    "    for s in range(SAMPLES)\n",
    ")\n",
    "dfsdf"
   ]
  },
  {
   "cell_type": "code",
   "execution_count": 7,
   "metadata": {},
   "outputs": [],
   "source": [
    "# Define which columns are the group-by keys (INDEX_COLS) and which are the output columns (OUTPUT_COLS)\n",
    "INDEX_COLS = ['l_returnflag', 'l_linestatus']\n",
    "OUTPUT_COLS = ['sum_qty', 'sum_base_price', 'sum_disc_price', 'sum_charge', 'avg_qty', 'avg_price', 'avg_disc', 'count_order']\n",
    "\n",
    "# Save these to disk for later use\n",
    "with open(f\"{OUTPUT_DIR}/INDEX_COLS.pkl\", 'wb') as f:\n",
    "    pickle.dump(INDEX_COLS, f)\n",
    "with open(f\"{OUTPUT_DIR}/OUTPUT_COLS.pkl\", 'wb') as f:\n",
    "    pickle.dump(OUTPUT_COLS, f)"
   ]
  },
  {
   "cell_type": "code",
   "execution_count": 8,
   "metadata": {},
   "outputs": [
    {
     "data": {
      "text/html": [
       "<div><style>\n",
       ".dataframe > thead > tr,\n",
       ".dataframe > tbody > tr {\n",
       "  text-align: right;\n",
       "  white-space: pre-wrap;\n",
       "}\n",
       "</style>\n",
       "<small>shape: (4, 10)</small><table border=\"1\" class=\"dataframe\"><thead><tr><th>l_returnflag</th><th>l_linestatus</th><th>sum_qty</th><th>sum_base_price</th><th>sum_disc_price</th><th>sum_charge</th><th>avg_qty</th><th>avg_price</th><th>avg_disc</th><th>count_order</th></tr><tr><td>str</td><td>str</td><td>list[decimal[38,2]]</td><td>list[decimal[38,2]]</td><td>list[decimal[38,4]]</td><td>list[decimal[38,6]]</td><td>list[f64]</td><td>list[f64]</td><td>list[f64]</td><td>list[i64]</td></tr></thead><tbody><tr><td>&quot;A&quot;</td><td>&quot;F&quot;</td><td>[3790112.00, 3771282.00, … 3790652.00]</td><td>[5343302545.20, 5320800911.22, … 5344112732.70]</td><td>[5075830326.8376, 5054843348.2914, … 5076373950.2794]</td><td>[5278929038.269122, 5257691362.812702, … 5279719658.274210]</td><td>[25.558094, 25.500588, … 25.552431]</td><td>[36031.818854, 35978.097986, … 36024.164348]</td><td>[0.050038, 0.049998, … 0.050112]</td><td>[148294, 147890, … 148348]</td></tr><tr><td>&quot;N&quot;</td><td>&quot;F&quot;</td><td>[98118.00, 98404.00, … 98464.00]</td><td>[137425236.14, 137461788.98, … 137914255.52]</td><td>[130639084.6582, 130792383.2078, … 130957761.8654]</td><td>[135777265.079778, 136034319.670100, … 136283765.522668]</td><td>[25.445539, 25.493264, … 25.325103]</td><td>[35639.324725, 35611.86243, … 35471.773539]</td><td>[0.049362, 0.048746, … 0.050273]</td><td>[3856, 3860, … 3888]</td></tr><tr><td>&quot;N&quot;</td><td>&quot;O&quot;</td><td>[7530256.00, 7585948.00, … 7483722.00]</td><td>[10610500466.18, 10693069371.90, … 10546463371.98]</td><td>[10078939700.8858, 10157246685.1930, … 10018252510.6888]</td><td>[10481994797.255912, 10563374792.711254, … 10417896381.538192]</td><td>[25.571019, 25.577394, … 25.607611]</td><td>[36030.821594, 36053.614347, … 36087.62266]</td><td>[0.050133, 0.050195, … 0.050065]</td><td>[294484, 296588, … 292246]</td></tr><tr><td>&quot;R&quot;</td><td>&quot;F&quot;</td><td>[3786362.00, 3811034.00, … 3837246.00]</td><td>[5337117579.72, 5373813436.18, … 5408584215.06]</td><td>[5071651650.7752, 5106017544.8474, … 5138836850.8116]</td><td>[5274130172.139980, 5310132175.427302, … 5343600706.665366]</td><td>[25.486403, 25.528067, … 25.544515]</td><td>[35924.703022, 35996.285275, … 36004.900978]</td><td>[0.049908, 0.049992, … 0.049952]</td><td>[148564, 149288, … 150218]</td></tr></tbody></table></div>"
      ],
      "text/plain": [
       "shape: (4, 10)\n",
       "┌───────────┬───────────┬───────────┬───────────┬───┬───────────┬───────────┬───────────┬──────────┐\n",
       "│ l_returnf ┆ l_linesta ┆ sum_qty   ┆ sum_base_ ┆ … ┆ avg_qty   ┆ avg_price ┆ avg_disc  ┆ count_or │\n",
       "│ lag       ┆ tus       ┆ ---       ┆ price     ┆   ┆ ---       ┆ ---       ┆ ---       ┆ der      │\n",
       "│ ---       ┆ ---       ┆ list[deci ┆ ---       ┆   ┆ list[f64] ┆ list[f64] ┆ list[f64] ┆ ---      │\n",
       "│ str       ┆ str       ┆ mal[38,2] ┆ list[deci ┆   ┆           ┆           ┆           ┆ list[i64 │\n",
       "│           ┆           ┆ ]         ┆ mal[38,2] ┆   ┆           ┆           ┆           ┆ ]        │\n",
       "│           ┆           ┆           ┆ ]         ┆   ┆           ┆           ┆           ┆          │\n",
       "╞═══════════╪═══════════╪═══════════╪═══════════╪═══╪═══════════╪═══════════╪═══════════╪══════════╡\n",
       "│ A         ┆ F         ┆ [3790112. ┆ [53433025 ┆ … ┆ [25.55809 ┆ [36031.81 ┆ [0.050038 ┆ [148294, │\n",
       "│           ┆           ┆ 00, 37712 ┆ 45.20,    ┆   ┆ 4, 25.500 ┆ 8854, 359 ┆ ,         ┆ 147890,  │\n",
       "│           ┆           ┆ 82.00, …  ┆ 532080091 ┆   ┆ 588, …    ┆ 78.097986 ┆ 0.049998, ┆ …        │\n",
       "│           ┆           ┆ 379…      ┆ 1.22,…    ┆   ┆ 25.55…    ┆ , ……      ┆ …         ┆ 148348]  │\n",
       "│           ┆           ┆           ┆           ┆   ┆           ┆           ┆ 0.05011…  ┆          │\n",
       "│ N         ┆ F         ┆ [98118.00 ┆ [13742523 ┆ … ┆ [25.44553 ┆ [35639.32 ┆ [0.049362 ┆ [3856,   │\n",
       "│           ┆           ┆ ,         ┆ 6.14, 137 ┆   ┆ 9, 25.493 ┆ 4725, 356 ┆ ,         ┆ 3860, …  │\n",
       "│           ┆           ┆ 98404.00, ┆ 461788.98 ┆   ┆ 264, …    ┆ 11.86243, ┆ 0.048746, ┆ 3888]    │\n",
       "│           ┆           ┆ …         ┆ , ……      ┆   ┆ 25.32…    ┆ … …       ┆ …         ┆          │\n",
       "│           ┆           ┆ 98464.0…  ┆           ┆   ┆           ┆           ┆ 0.05027…  ┆          │\n",
       "│ N         ┆ O         ┆ [7530256. ┆ [10610500 ┆ … ┆ [25.57101 ┆ [36030.82 ┆ [0.050133 ┆ [294484, │\n",
       "│           ┆           ┆ 00, 75859 ┆ 466.18,   ┆   ┆ 9, 25.577 ┆ 1594, 360 ┆ ,         ┆ 296588,  │\n",
       "│           ┆           ┆ 48.00, …  ┆ 106930693 ┆   ┆ 394, …    ┆ 53.614347 ┆ 0.050195, ┆ …        │\n",
       "│           ┆           ┆ 748…      ┆ 71.9…     ┆   ┆ 25.60…    ┆ , ……      ┆ …         ┆ 292246]  │\n",
       "│           ┆           ┆           ┆           ┆   ┆           ┆           ┆ 0.05006…  ┆          │\n",
       "│ R         ┆ F         ┆ [3786362. ┆ [53371175 ┆ … ┆ [25.48640 ┆ [35924.70 ┆ [0.049908 ┆ [148564, │\n",
       "│           ┆           ┆ 00, 38110 ┆ 79.72,    ┆   ┆ 3, 25.528 ┆ 3022, 359 ┆ ,         ┆ 149288,  │\n",
       "│           ┆           ┆ 34.00, …  ┆ 537381343 ┆   ┆ 067, …    ┆ 96.285275 ┆ 0.049992, ┆ …        │\n",
       "│           ┆           ┆ 383…      ┆ 6.18,…    ┆   ┆ 25.54…    ┆ , ……      ┆ …         ┆ 150218]  │\n",
       "│           ┆           ┆           ┆           ┆   ┆           ┆           ┆ 0.04995…  ┆          │\n",
       "└───────────┴───────────┴───────────┴───────────┴───┴───────────┴───────────┴───────────┴──────────┘"
      ]
     },
     "execution_count": 8,
     "metadata": {},
     "output_type": "execute_result"
    }
   ],
   "source": [
    "# Combine all the samples into one table, grouped-by the group-by keys. Each cell contains an n <= # of samples length array of values.\n",
    "listdf = (dfsdf.group_by(INDEX_COLS, maintain_order=True)\n",
    "      .all()\n",
    "      .drop(pl.col(\"sample\")))\n",
    "listdf"
   ]
  },
  {
   "cell_type": "code",
   "execution_count": 9,
   "metadata": {},
   "outputs": [
    {
     "data": {
      "text/plain": [
       "[{'l_returnflag': 'A', 'l_linestatus': 'F'},\n",
       " {'l_returnflag': 'N', 'l_linestatus': 'F'},\n",
       " {'l_returnflag': 'N', 'l_linestatus': 'O'},\n",
       " {'l_returnflag': 'R', 'l_linestatus': 'F'}]"
      ]
     },
     "execution_count": 9,
     "metadata": {},
     "output_type": "execute_result"
    }
   ],
   "source": [
    "# What are all the possible group-by key combinations?\n",
    "allgroups: pl.DataFrame = listdf.select(INDEX_COLS)\n",
    "allgroups.to_dicts()"
   ]
  },
  {
   "cell_type": "code",
   "execution_count": 10,
   "metadata": {},
   "outputs": [],
   "source": [
    "# Template for the final output, including all possible group-by groups\n",
    "# Obtained by collecting all the samples in a big table and then keeping only the first occurrence of each groupby key.\n",
    "# Then, fill all OUTPUT_COLS with nulls\n",
    "templatedf = dfsdf.drop(pl.col(\"sample\")).group_by(INDEX_COLS, maintain_order=True).first()\n",
    "templatedf = templatedf.clear(n=len(allgroups)).with_columns(allgroups)\n",
    "templatedf\n",
    "\n",
    "with open(f\"{OUTPUT_DIR}/template.pkl\", \"wb\") as f:\n",
    "    pickle.dump(templatedf, f)"
   ]
  },
  {
   "cell_type": "code",
   "execution_count": 11,
   "metadata": {},
   "outputs": [],
   "source": [
    "# Write all table entries in the output table to their own JSON files. Each file has a number, the information of which file corresponds to which table entry\n",
    "# is stored in reverse_map.json (as well as in the files themselves)\n",
    "os.makedirs(f\"{OUTPUT_DIR}/json\", exist_ok=True)\n",
    "os.makedirs(f\"{OUTPUT_DIR}/pkl\", exist_ok=True)\n",
    "i: int = 0\n",
    "reverse_map = {}\n",
    "for col in OUTPUT_COLS:\n",
    "    for group in allgroups.iter_rows(named=True):\n",
    "        values = listdf.filter(pl.col(k).eq(v) for k, v in group.items()).select(col).to_series()\n",
    "        j = pl.DataFrame().with_columns([\n",
    "            pl.lit(col).alias(\"col\"),\n",
    "            pl.lit(group).alias(\"row\"),\n",
    "            pl.lit(values.explode().dtype.__repr__()).alias(\"dtype\"),\n",
    "            values.alias(\"values\"),\n",
    "        ])\n",
    "        reverse_map[i] = (col, group)\n",
    "        j.write_json(f\"{OUTPUT_DIR}/json/{i}.json\")\n",
    "        # save pickle of numpy conversion of values\n",
    "        pickle.dump(values.explode().to_numpy(), open(f\"{OUTPUT_DIR}/pkl/{i}.pkl\", \"wb\"))\n",
    "        i+=1\n",
    "\n",
    "with open(f\"{OUTPUT_DIR}/reverse_map.json\", \"w\") as f:\n",
    "    json.dump(reverse_map, f)\n",
    "pickle.dump(reverse_map, open(f\"{OUTPUT_DIR}/reverse_map.pkl\", \"wb\"))"
   ]
  },
  {
   "cell_type": "code",
   "execution_count": null,
   "metadata": {},
   "outputs": [
    {
     "data": {
      "text/plain": [
       "'/Users/michael/projects/dpdb/pacdb/outputs/pac-duckdb-q1-step1.zip'"
      ]
     },
     "execution_count": 12,
     "metadata": {},
     "output_type": "execute_result"
    }
   ],
   "source": [
    "# zip the OUTPUT_DIR\n",
    "shutil.make_archive(OUTPUT_DIR, 'zip', OUTPUT_DIR)"
   ]
  }
 ],
 "metadata": {
  "kernelspec": {
   "display_name": ".venv",
   "language": "python",
   "name": "python3"
  },
  "language_info": {
   "codemirror_mode": {
    "name": "ipython",
    "version": 3
   },
   "file_extension": ".py",
   "mimetype": "text/x-python",
   "name": "python",
   "nbconvert_exporter": "python",
   "pygments_lexer": "ipython3",
   "version": "3.11.7"
  }
 },
 "nbformat": 4,
 "nbformat_minor": 2
}
