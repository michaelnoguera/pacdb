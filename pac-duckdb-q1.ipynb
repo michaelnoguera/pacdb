{
 "cells": [
  {
   "cell_type": "markdown",
   "metadata": {},
   "source": [
    "## DuckDB Notebook\n",
    "\n",
    "This notebook generates a bunch of raw outputs, without applying PAC, to be consumed by a second stage."
   ]
  },
  {
   "cell_type": "markdown",
   "metadata": {},
   "source": [
    "```\n",
    " group by              output cols                        \n",
    " key cols ┌────────┬────────┬────────┬────────┐           \n",
    "        │ │   A    │   B    │   C    │   D    │           \n",
    "      ┌─▼─┼────────┼────────┼────────┼────────┤           \n",
    "      │ 1 │   2    │        │        │        │           \n",
    "      ├───┼───|────┼────────┼────────┼────────┤           \n",
    "      │ 2 │   │    │        │        │        │           \n",
    "      ├───┼───┼────┼────────┼────────┼────────┤           \n",
    "      │ 3 │   │    │        │        │        │           \n",
    "      └───┴───┼────┴────────┴────────┴────────┘           \n",
    "              ▼                 A_1.json                  \n",
    "       Sample 0:   A1=2        ┌─────────────────────────┐\n",
    "       Sample 1:   A1=4  ───▶  │{                        │\n",
    "             ...               │    col: A               │\n",
    "       Sample 999: A1=3        │    row: 1               │\n",
    "                               │    value: [2, 4, ... 3] │\n",
    "                               │}                        │\n",
    "                               └─────────────────────────┘\n",
    "```"
   ]
  },
  {
   "cell_type": "code",
   "execution_count": 1,
   "metadata": {},
   "outputs": [
    {
     "name": "stdout",
     "output_type": "stream",
     "text": [
      "GENERATE = False, so we will load saved output from files rather than recomputing.\n"
     ]
    }
   ],
   "source": [
    "#!/usr/bin/env python\n",
    "# coding: utf-8\n",
    "\n",
    "EXPERIMENT = 'pac-duckdb-q1'\n",
    "OUTPUT_DIR = f'./outputs/{EXPERIMENT}'\n",
    "GENERATE = False\n",
    "USE_EVEN_NUMBER_OF_INPUT_ROWS = False\n",
    "\n",
    "if GENERATE:\n",
    "    print(\"GENERATE = True, so we will generate new samples.\")\n",
    "else:\n",
    "    print(\"GENERATE = False, so we will load saved output from files rather than recomputing.\")\n",
    "\n",
    "import os\n",
    "from typing import List\n",
    "if not os.path.exists(OUTPUT_DIR):\n",
    "    os.makedirs(OUTPUT_DIR)\n",
    "\n",
    "import numpy as np\n",
    "import pickle\n",
    "\n",
    "import duckdb\n",
    "import polars as pl\n",
    "import pyarrow as pa\n",
    "\n",
    "# duckdb load data/tpch/tpch.duckdb\n",
    "#con = duckdb.connect(database='data/tpch/tpch.duckdb', read_only=True)\n",
    "con = duckdb.connect(database=':memory:')\n",
    "tables = [\"customer\", \"lineitem\", \"nation\", \"orders\", \"part\", \"partsupp\", \"region\", \"supplier\"]\n",
    "#tables = [\"lineitem\", \"orders\"]\n",
    "for t in tables:\n",
    "    con.execute(f\"CREATE TABLE {t} AS SELECT * FROM 'data/tpch/{t}.parquet'\")\n",
    "\n",
    "lineitem_df = con.execute(\"SELECT * FROM lineitem\").fetchdf()\n",
    "orders_df = con.execute(\"SELECT * FROM orders\").fetchdf()\n",
    "\n",
    "row_count = lineitem_df.shape[0]"
   ]
  },
  {
   "cell_type": "code",
   "execution_count": 2,
   "metadata": {},
   "outputs": [],
   "source": [
    "# Construct the table of random samples\n",
    "# to use, join it with the lineitem table (for specific sample # s) and filter to just the\n",
    "# rows where random_binary = 1.0\n",
    "# This will give us a 50% sample of the lineitem table for each sample # s\n",
    "\n",
    "SAMPLES = 1024\n",
    "assert SAMPLES % 2 == 0, \"SAMPLES must be even to create complementary samples.\"\n",
    "\n",
    "random_samples = con.execute(f\"\"\"\n",
    "DROP TABLE IF EXISTS random_samples;\n",
    "\n",
    "CREATE TABLE random_samples AS\n",
    "WITH sample_numbers AS MATERIALIZED (\n",
    "    SELECT range AS sample_id FROM range({SAMPLES//2})\n",
    "), random_values AS MATERIALIZED (\n",
    "    SELECT \n",
    "        sample_numbers.sample_id,\n",
    "        customer.rowid AS row_id,\n",
    "        (RANDOM() > 0.5)::BOOLEAN AS random_binary\n",
    "    FROM sample_numbers\n",
    "    JOIN customer ON TRUE  -- Cross join to duplicate rows for each sample\n",
    ")\n",
    "SELECT\n",
    "    sample_id,\n",
    "    row_id,\n",
    "    random_binary\n",
    "FROM random_values\n",
    "UNION ALL\n",
    "SELECT -- select the complementary samples too\n",
    "    ({SAMPLES//2}) + sample_id,\n",
    "    row_id,\n",
    "    NOT random_binary  -- Inverse the random_binary to get the complementary sample\n",
    "FROM random_values\n",
    "ORDER BY sample_id, row_id;\n",
    "\"\"\")"
   ]
  },
  {
   "cell_type": "markdown",
   "metadata": {},
   "source": [
    "The randomness of what rows are chosen is saved to disk in `random_binary.json`. For each sample #, there is an array with one entry per row, where 1 means the row was chosen and 0 means it was not."
   ]
  },
  {
   "cell_type": "code",
   "execution_count": 3,
   "metadata": {},
   "outputs": [],
   "source": [
    "con.execute(f\"\"\"\n",
    "SELECT sample_id, array_agg(random_binary::TINYINT) as random_binary\n",
    "FROM random_samples\n",
    "GROUP BY sample_id;\n",
    "\"\"\").pl().write_json(f\"{OUTPUT_DIR}/random_binary.json\")"
   ]
  },
  {
   "cell_type": "markdown",
   "metadata": {},
   "source": [
    "Query is specified as a prepared statement. We will then execute it once per sample."
   ]
  },
  {
   "cell_type": "code",
   "execution_count": 4,
   "metadata": {},
   "outputs": [
    {
     "data": {
      "text/html": [
       "<div><style>\n",
       ".dataframe > thead > tr,\n",
       ".dataframe > tbody > tr {\n",
       "  text-align: right;\n",
       "  white-space: pre-wrap;\n",
       "}\n",
       "</style>\n",
       "<small>shape: (4, 10)</small><table border=\"1\" class=\"dataframe\"><thead><tr><th>l_returnflag</th><th>l_linestatus</th><th>sum_qty</th><th>sum_base_price</th><th>sum_disc_price</th><th>sum_charge</th><th>avg_qty</th><th>avg_price</th><th>avg_disc</th><th>count_order</th></tr><tr><td>str</td><td>str</td><td>decimal[38,2]</td><td>decimal[38,2]</td><td>decimal[38,4]</td><td>decimal[38,6]</td><td>f64</td><td>f64</td><td>f64</td><td>i64</td></tr></thead><tbody><tr><td>&quot;A&quot;</td><td>&quot;F&quot;</td><td>3731942.00</td><td>5260801969.08</td><td>4997446538.6702</td><td>5197033283.188786</td><td>25.511621</td><td>35962.934901</td><td>0.050055</td><td>146284</td></tr><tr><td>&quot;N&quot;</td><td>&quot;F&quot;</td><td>95700.00</td><td>134642322.14</td><td>127937683.9852</td><td>132993628.770162</td><td>25.656836</td><td>36097.137303</td><td>0.05008</td><td>3730</td></tr><tr><td>&quot;N&quot;</td><td>&quot;O&quot;</td><td>7462590.00</td><td>10517402350.66</td><td>9991139857.0666</td><td>10390947239.921324</td><td>25.58538</td><td>36058.758582</td><td>0.050081</td><td>291674</td></tr><tr><td>&quot;R&quot;</td><td>&quot;F&quot;</td><td>3780618.00</td><td>5329893603.86</td><td>5064366563.7992</td><td>5267179596.870270</td><td>25.618109</td><td>36116.262833</td><td>0.049992</td><td>147576</td></tr></tbody></table></div>"
      ],
      "text/plain": [
       "shape: (4, 10)\n",
       "┌───────────┬───────────┬───────────┬───────────┬───┬───────────┬───────────┬──────────┬───────────┐\n",
       "│ l_returnf ┆ l_linesta ┆ sum_qty   ┆ sum_base_ ┆ … ┆ avg_qty   ┆ avg_price ┆ avg_disc ┆ count_ord │\n",
       "│ lag       ┆ tus       ┆ ---       ┆ price     ┆   ┆ ---       ┆ ---       ┆ ---      ┆ er        │\n",
       "│ ---       ┆ ---       ┆ decimal[3 ┆ ---       ┆   ┆ f64       ┆ f64       ┆ f64      ┆ ---       │\n",
       "│ str       ┆ str       ┆ 8,2]      ┆ decimal[3 ┆   ┆           ┆           ┆          ┆ i64       │\n",
       "│           ┆           ┆           ┆ 8,2]      ┆   ┆           ┆           ┆          ┆           │\n",
       "╞═══════════╪═══════════╪═══════════╪═══════════╪═══╪═══════════╪═══════════╪══════════╪═══════════╡\n",
       "│ A         ┆ F         ┆ 3731942.0 ┆ 526080196 ┆ … ┆ 25.511621 ┆ 35962.934 ┆ 0.050055 ┆ 146284    │\n",
       "│           ┆           ┆ 0         ┆ 9.08      ┆   ┆           ┆ 901       ┆          ┆           │\n",
       "│ N         ┆ F         ┆ 95700.00  ┆ 134642322 ┆ … ┆ 25.656836 ┆ 36097.137 ┆ 0.05008  ┆ 3730      │\n",
       "│           ┆           ┆           ┆ .14       ┆   ┆           ┆ 303       ┆          ┆           │\n",
       "│ N         ┆ O         ┆ 7462590.0 ┆ 105174023 ┆ … ┆ 25.58538  ┆ 36058.758 ┆ 0.050081 ┆ 291674    │\n",
       "│           ┆           ┆ 0         ┆ 50.66     ┆   ┆           ┆ 582       ┆          ┆           │\n",
       "│ R         ┆ F         ┆ 3780618.0 ┆ 532989360 ┆ … ┆ 25.618109 ┆ 36116.262 ┆ 0.049992 ┆ 147576    │\n",
       "│           ┆           ┆ 0         ┆ 3.86      ┆   ┆           ┆ 833       ┆          ┆           │\n",
       "└───────────┴───────────┴───────────┴───────────┴───┴───────────┴───────────┴──────────┴───────────┘"
      ]
     },
     "execution_count": 4,
     "metadata": {},
     "output_type": "execute_result"
    }
   ],
   "source": [
    "# Query\n",
    "con.execute(\"\"\"\n",
    "DEALLOCATE PREPARE run_query;\n",
    "\n",
    "PREPARE run_query AS \n",
    "SELECT\n",
    "    l_returnflag,\n",
    "    l_linestatus,\n",
    "    2*sum(l_quantity) AS sum_qty,\n",
    "    2*sum(l_extendedprice) AS sum_base_price,\n",
    "    2*sum(l_extendedprice * (1 - l_discount)) AS sum_disc_price,\n",
    "    2*sum(l_extendedprice * (1 - l_discount) * (1 + l_tax)) AS sum_charge,\n",
    "    avg(l_quantity) AS avg_qty,\n",
    "    avg(l_extendedprice) AS avg_price,\n",
    "    avg(l_discount) AS avg_disc,\n",
    "    2*count(*) AS count_order\n",
    "FROM\n",
    "    lineitem\n",
    "JOIN orders ON lineitem.l_orderkey = orders.o_orderkey\n",
    "JOIN customer ON orders.o_custkey = customer.c_custkey\n",
    "JOIN random_samples AS rs\n",
    "    ON rs.row_id = customer.rowid\n",
    "WHERE\n",
    "    l_shipdate <= CAST('1998-09-02' AS date)\n",
    "    AND rs.random_binary = TRUE\n",
    "    AND rs.sample_id = $sample\n",
    "GROUP BY\n",
    "    l_returnflag,\n",
    "    l_linestatus\n",
    "ORDER BY\n",
    "    l_returnflag,\n",
    "    l_linestatus;\n",
    "\"\"\")\n",
    "\n",
    "# Run query to see output\n",
    "dfs0 = con.execute(f\"EXECUTE run_query(sample := {0});\").pl()\n",
    "\n",
    "# Save csv copies of the first 5 samples\n",
    "os.makedirs(f\"{OUTPUT_DIR}/csv\", exist_ok=True)\n",
    "for s in range(5):\n",
    "    con.execute(f\"EXECUTE run_query(sample := {s});\").pl().write_csv(f\"{OUTPUT_DIR}/csv/sample_{s}.csv\")\n",
    "\n",
    "dfs0"
   ]
  },
  {
   "cell_type": "code",
   "execution_count": 5,
   "metadata": {},
   "outputs": [
    {
     "data": {
      "text/html": [
       "<div><style>\n",
       ".dataframe > thead > tr,\n",
       ".dataframe > tbody > tr {\n",
       "  text-align: right;\n",
       "  white-space: pre-wrap;\n",
       "}\n",
       "</style>\n",
       "<small>shape: (4_096, 11)</small><table border=\"1\" class=\"dataframe\"><thead><tr><th>sample</th><th>l_returnflag</th><th>l_linestatus</th><th>sum_qty</th><th>sum_base_price</th><th>sum_disc_price</th><th>sum_charge</th><th>avg_qty</th><th>avg_price</th><th>avg_disc</th><th>count_order</th></tr><tr><td>i32</td><td>str</td><td>str</td><td>decimal[38,2]</td><td>decimal[38,2]</td><td>decimal[38,4]</td><td>decimal[38,6]</td><td>f64</td><td>f64</td><td>f64</td><td>i64</td></tr></thead><tbody><tr><td>0</td><td>&quot;A&quot;</td><td>&quot;F&quot;</td><td>3731942.00</td><td>5260801969.08</td><td>4997446538.6702</td><td>5197033283.188786</td><td>25.511621</td><td>35962.934901</td><td>0.050055</td><td>146284</td></tr><tr><td>0</td><td>&quot;N&quot;</td><td>&quot;F&quot;</td><td>95700.00</td><td>134642322.14</td><td>127937683.9852</td><td>132993628.770162</td><td>25.656836</td><td>36097.137303</td><td>0.05008</td><td>3730</td></tr><tr><td>0</td><td>&quot;N&quot;</td><td>&quot;O&quot;</td><td>7462590.00</td><td>10517402350.66</td><td>9991139857.0666</td><td>10390947239.921324</td><td>25.58538</td><td>36058.758582</td><td>0.050081</td><td>291674</td></tr><tr><td>0</td><td>&quot;R&quot;</td><td>&quot;F&quot;</td><td>3780618.00</td><td>5329893603.86</td><td>5064366563.7992</td><td>5267179596.870270</td><td>25.618109</td><td>36116.262833</td><td>0.049992</td><td>147576</td></tr><tr><td>1</td><td>&quot;A&quot;</td><td>&quot;F&quot;</td><td>3816524.00</td><td>5377533393.86</td><td>5107753730.5576</td><td>5312870068.079760</td><td>25.605663</td><td>36078.721193</td><td>0.050127</td><td>149050</td></tr><tr><td>&hellip;</td><td>&hellip;</td><td>&hellip;</td><td>&hellip;</td><td>&hellip;</td><td>&hellip;</td><td>&hellip;</td><td>&hellip;</td><td>&hellip;</td><td>&hellip;</td><td>&hellip;</td></tr><tr><td>1022</td><td>&quot;R&quot;</td><td>&quot;F&quot;</td><td>3798856.00</td><td>5355572761.00</td><td>5088597488.9480</td><td>5292352124.457692</td><td>25.566027</td><td>36042.619026</td><td>0.050034</td><td>148590</td></tr><tr><td>1023</td><td>&quot;A&quot;</td><td>&quot;F&quot;</td><td>3753886.00</td><td>5286557250.72</td><td>5021404001.8052</td><td>5222032850.621024</td><td>25.475982</td><td>35877.551752</td><td>0.050188</td><td>147350</td></tr><tr><td>1023</td><td>&quot;N&quot;</td><td>&quot;F&quot;</td><td>95032.00</td><td>133208492.02</td><td>126432535.3078</td><td>131540697.600438</td><td>25.450455</td><td>35674.475635</td><td>0.050295</td><td>3734</td></tr><tr><td>1023</td><td>&quot;N&quot;</td><td>&quot;O&quot;</td><td>7379966.00</td><td>10406399145.52</td><td>9885230825.2728</td><td>10281054598.466496</td><td>25.521026</td><td>35986.883742</td><td>0.050114</td><td>289172</td></tr><tr><td>1023</td><td>&quot;R&quot;</td><td>&quot;F&quot;</td><td>3778702.00</td><td>5326121166.36</td><td>5060705391.1358</td><td>5263046989.273994</td><td>25.523148</td><td>35975.151411</td><td>0.049983</td><td>148050</td></tr></tbody></table></div>"
      ],
      "text/plain": [
       "shape: (4_096, 11)\n",
       "┌────────┬────────────┬────────────┬────────────┬───┬───────────┬───────────┬──────────┬───────────┐\n",
       "│ sample ┆ l_returnfl ┆ l_linestat ┆ sum_qty    ┆ … ┆ avg_qty   ┆ avg_price ┆ avg_disc ┆ count_ord │\n",
       "│ ---    ┆ ag         ┆ us         ┆ ---        ┆   ┆ ---       ┆ ---       ┆ ---      ┆ er        │\n",
       "│ i32    ┆ ---        ┆ ---        ┆ decimal[38 ┆   ┆ f64       ┆ f64       ┆ f64      ┆ ---       │\n",
       "│        ┆ str        ┆ str        ┆ ,2]        ┆   ┆           ┆           ┆          ┆ i64       │\n",
       "╞════════╪════════════╪════════════╪════════════╪═══╪═══════════╪═══════════╪══════════╪═══════════╡\n",
       "│ 0      ┆ A          ┆ F          ┆ 3731942.00 ┆ … ┆ 25.511621 ┆ 35962.934 ┆ 0.050055 ┆ 146284    │\n",
       "│        ┆            ┆            ┆            ┆   ┆           ┆ 901       ┆          ┆           │\n",
       "│ 0      ┆ N          ┆ F          ┆ 95700.00   ┆ … ┆ 25.656836 ┆ 36097.137 ┆ 0.05008  ┆ 3730      │\n",
       "│        ┆            ┆            ┆            ┆   ┆           ┆ 303       ┆          ┆           │\n",
       "│ 0      ┆ N          ┆ O          ┆ 7462590.00 ┆ … ┆ 25.58538  ┆ 36058.758 ┆ 0.050081 ┆ 291674    │\n",
       "│        ┆            ┆            ┆            ┆   ┆           ┆ 582       ┆          ┆           │\n",
       "│ 0      ┆ R          ┆ F          ┆ 3780618.00 ┆ … ┆ 25.618109 ┆ 36116.262 ┆ 0.049992 ┆ 147576    │\n",
       "│        ┆            ┆            ┆            ┆   ┆           ┆ 833       ┆          ┆           │\n",
       "│ 1      ┆ A          ┆ F          ┆ 3816524.00 ┆ … ┆ 25.605663 ┆ 36078.721 ┆ 0.050127 ┆ 149050    │\n",
       "│        ┆            ┆            ┆            ┆   ┆           ┆ 193       ┆          ┆           │\n",
       "│ …      ┆ …          ┆ …          ┆ …          ┆ … ┆ …         ┆ …         ┆ …        ┆ …         │\n",
       "│ 1022   ┆ R          ┆ F          ┆ 3798856.00 ┆ … ┆ 25.566027 ┆ 36042.619 ┆ 0.050034 ┆ 148590    │\n",
       "│        ┆            ┆            ┆            ┆   ┆           ┆ 026       ┆          ┆           │\n",
       "│ 1023   ┆ A          ┆ F          ┆ 3753886.00 ┆ … ┆ 25.475982 ┆ 35877.551 ┆ 0.050188 ┆ 147350    │\n",
       "│        ┆            ┆            ┆            ┆   ┆           ┆ 752       ┆          ┆           │\n",
       "│ 1023   ┆ N          ┆ F          ┆ 95032.00   ┆ … ┆ 25.450455 ┆ 35674.475 ┆ 0.050295 ┆ 3734      │\n",
       "│        ┆            ┆            ┆            ┆   ┆           ┆ 635       ┆          ┆           │\n",
       "│ 1023   ┆ N          ┆ O          ┆ 7379966.00 ┆ … ┆ 25.521026 ┆ 35986.883 ┆ 0.050114 ┆ 289172    │\n",
       "│        ┆            ┆            ┆            ┆   ┆           ┆ 742       ┆          ┆           │\n",
       "│ 1023   ┆ R          ┆ F          ┆ 3778702.00 ┆ … ┆ 25.523148 ┆ 35975.151 ┆ 0.049983 ┆ 148050    │\n",
       "│        ┆            ┆            ┆            ┆   ┆           ┆ 411       ┆          ┆           │\n",
       "└────────┴────────────┴────────────┴────────────┴───┴───────────┴───────────┴──────────┴───────────┘"
      ]
     },
     "execution_count": 5,
     "metadata": {},
     "output_type": "execute_result"
    }
   ],
   "source": [
    "# Run the query for each sample, but accumulate in a pl.DataFrame instead of a list\n",
    "dfsdf: pl.DataFrame = pl.concat(\n",
    "    con.execute(f\"EXECUTE run_query(sample := {s});\").pl().insert_column(0, pl.lit(s).alias(\"sample\"))\n",
    "    for s in range(SAMPLES)\n",
    ")\n",
    "dfsdf"
   ]
  },
  {
   "cell_type": "code",
   "execution_count": 6,
   "metadata": {},
   "outputs": [],
   "source": [
    "# Define which columns are the group-by keys (INDEX_COLS) and which are the output columns (OUTPUT_COLS)\n",
    "INDEX_COLS = ['l_returnflag', 'l_linestatus']\n",
    "OUTPUT_COLS = ['sum_qty', 'sum_base_price', 'sum_disc_price', 'sum_charge', 'avg_qty', 'avg_price', 'avg_disc', 'count_order']"
   ]
  },
  {
   "cell_type": "code",
   "execution_count": 7,
   "metadata": {},
   "outputs": [
    {
     "data": {
      "text/html": [
       "<div><style>\n",
       ".dataframe > thead > tr,\n",
       ".dataframe > tbody > tr {\n",
       "  text-align: right;\n",
       "  white-space: pre-wrap;\n",
       "}\n",
       "</style>\n",
       "<small>shape: (4, 10)</small><table border=\"1\" class=\"dataframe\"><thead><tr><th>l_returnflag</th><th>l_linestatus</th><th>sum_qty</th><th>sum_base_price</th><th>sum_disc_price</th><th>sum_charge</th><th>avg_qty</th><th>avg_price</th><th>avg_disc</th><th>count_order</th></tr><tr><td>str</td><td>str</td><td>list[decimal[38,2]]</td><td>list[decimal[38,2]]</td><td>list[decimal[38,4]]</td><td>list[decimal[38,6]]</td><td>list[f64]</td><td>list[f64]</td><td>list[f64]</td><td>list[i64]</td></tr></thead><tbody><tr><td>&quot;A&quot;</td><td>&quot;F&quot;</td><td>[3731942.00, 3816524.00, … 3753886.00]</td><td>[5260801969.08, 5377533393.86, … 5286557250.72]</td><td>[4997446538.6702, 5107753730.5576, … 5021404001.8052]</td><td>[5197033283.188786, 5312870068.079760, … 5222032850.621024]</td><td>[25.511621, 25.605663, … 25.475982]</td><td>[35962.934901, 36078.721193, … 35877.551752]</td><td>[0.050055, 0.050127, … 0.050188]</td><td>[146284, 149050, … 147350]</td></tr><tr><td>&quot;N&quot;</td><td>&quot;F&quot;</td><td>[95700.00, 94734.00, … 95032.00]</td><td>[134642322.14, 132731005.26, … 133208492.02]</td><td>[127937683.9852, 126162520.6870, … 126432535.3078]</td><td>[132993628.770162, 131319950.371608, … 131540697.600438]</td><td>[25.656836, 25.115058, … 25.450455]</td><td>[36097.137303, 35188.495562, … 35674.475635]</td><td>[0.05008, 0.049634, … 0.050295]</td><td>[3730, 3772, … 3734]</td></tr><tr><td>&quot;N&quot;</td><td>&quot;O&quot;</td><td>[7462590.00, 7464586.00, … 7379966.00]</td><td>[10517402350.66, 10526203143.62, … 10406399145.52]</td><td>[9991139857.0666, 9999366391.3816, … 9885230825.2728]</td><td>[10390947239.921324, 10399319144.378976, … 10281054598.466496]</td><td>[25.58538, 25.539161, … 25.521026]</td><td>[36058.758582, 36014.106828, … 35986.883742]</td><td>[0.050081, 0.050096, … 0.050114]</td><td>[291674, 292280, … 289172]</td></tr><tr><td>&quot;R&quot;</td><td>&quot;F&quot;</td><td>[3780618.00, 3799432.00, … 3778702.00]</td><td>[5329893603.86, 5356468676.78, … 5326121166.36]</td><td>[5064366563.7992, 5089492623.2920, … 5060705391.1358]</td><td>[5267179596.870270, 5292357097.436320, … 5263046989.273994]</td><td>[25.618109, 25.516326, … 25.523148]</td><td>[36116.262833, 35973.114376, … 35975.151411]</td><td>[0.049992, 0.049978, … 0.049983]</td><td>[147576, 148902, … 148050]</td></tr></tbody></table></div>"
      ],
      "text/plain": [
       "shape: (4, 10)\n",
       "┌───────────┬───────────┬───────────┬───────────┬───┬───────────┬───────────┬───────────┬──────────┐\n",
       "│ l_returnf ┆ l_linesta ┆ sum_qty   ┆ sum_base_ ┆ … ┆ avg_qty   ┆ avg_price ┆ avg_disc  ┆ count_or │\n",
       "│ lag       ┆ tus       ┆ ---       ┆ price     ┆   ┆ ---       ┆ ---       ┆ ---       ┆ der      │\n",
       "│ ---       ┆ ---       ┆ list[deci ┆ ---       ┆   ┆ list[f64] ┆ list[f64] ┆ list[f64] ┆ ---      │\n",
       "│ str       ┆ str       ┆ mal[38,2] ┆ list[deci ┆   ┆           ┆           ┆           ┆ list[i64 │\n",
       "│           ┆           ┆ ]         ┆ mal[38,2] ┆   ┆           ┆           ┆           ┆ ]        │\n",
       "│           ┆           ┆           ┆ ]         ┆   ┆           ┆           ┆           ┆          │\n",
       "╞═══════════╪═══════════╪═══════════╪═══════════╪═══╪═══════════╪═══════════╪═══════════╪══════════╡\n",
       "│ A         ┆ F         ┆ [3731942. ┆ [52608019 ┆ … ┆ [25.51162 ┆ [35962.93 ┆ [0.050055 ┆ [146284, │\n",
       "│           ┆           ┆ 00, 38165 ┆ 69.08,    ┆   ┆ 1, 25.605 ┆ 4901, 360 ┆ ,         ┆ 149050,  │\n",
       "│           ┆           ┆ 24.00, …  ┆ 537753339 ┆   ┆ 663, …    ┆ 78.721193 ┆ 0.050127, ┆ …        │\n",
       "│           ┆           ┆ 375…      ┆ 3.86,…    ┆   ┆ 25.47…    ┆ , ……      ┆ …         ┆ 147350]  │\n",
       "│           ┆           ┆           ┆           ┆   ┆           ┆           ┆ 0.05018…  ┆          │\n",
       "│ N         ┆ F         ┆ [95700.00 ┆ [13464232 ┆ … ┆ [25.65683 ┆ [36097.13 ┆ [0.05008, ┆ [3730,   │\n",
       "│           ┆           ┆ ,         ┆ 2.14, 132 ┆   ┆ 6, 25.115 ┆ 7303, 351 ┆ 0.049634, ┆ 3772, …  │\n",
       "│           ┆           ┆ 94734.00, ┆ 731005.26 ┆   ┆ 058, …    ┆ 88.495562 ┆ …         ┆ 3734]    │\n",
       "│           ┆           ┆ …         ┆ , ……      ┆   ┆ 25.45…    ┆ , ……      ┆ 0.050295… ┆          │\n",
       "│           ┆           ┆ 95032.0…  ┆           ┆   ┆           ┆           ┆           ┆          │\n",
       "│ N         ┆ O         ┆ [7462590. ┆ [10517402 ┆ … ┆ [25.58538 ┆ [36058.75 ┆ [0.050081 ┆ [291674, │\n",
       "│           ┆           ┆ 00, 74645 ┆ 350.66,   ┆   ┆ , 25.5391 ┆ 8582, 360 ┆ ,         ┆ 292280,  │\n",
       "│           ┆           ┆ 86.00, …  ┆ 105262031 ┆   ┆ 61, …     ┆ 14.106828 ┆ 0.050096, ┆ …        │\n",
       "│           ┆           ┆ 737…      ┆ 43.6…     ┆   ┆ 25.521…   ┆ , ……      ┆ …         ┆ 289172]  │\n",
       "│           ┆           ┆           ┆           ┆   ┆           ┆           ┆ 0.05011…  ┆          │\n",
       "│ R         ┆ F         ┆ [3780618. ┆ [53298936 ┆ … ┆ [25.61810 ┆ [36116.26 ┆ [0.049992 ┆ [147576, │\n",
       "│           ┆           ┆ 00, 37994 ┆ 03.86,    ┆   ┆ 9, 25.516 ┆ 2833, 359 ┆ ,         ┆ 148902,  │\n",
       "│           ┆           ┆ 32.00, …  ┆ 535646867 ┆   ┆ 326, …    ┆ 73.114376 ┆ 0.049978, ┆ …        │\n",
       "│           ┆           ┆ 377…      ┆ 6.78,…    ┆   ┆ 25.52…    ┆ , ……      ┆ …         ┆ 148050]  │\n",
       "│           ┆           ┆           ┆           ┆   ┆           ┆           ┆ 0.04998…  ┆          │\n",
       "└───────────┴───────────┴───────────┴───────────┴───┴───────────┴───────────┴───────────┴──────────┘"
      ]
     },
     "execution_count": 7,
     "metadata": {},
     "output_type": "execute_result"
    }
   ],
   "source": [
    "# Combine all the samples into one table, grouped-by the group-by keys. Each cell contains an n <= # of samples length array of values.\n",
    "listdf = (dfsdf.group_by(INDEX_COLS, maintain_order=True)\n",
    "      .all()\n",
    "      .drop(pl.col(\"sample\")))\n",
    "listdf"
   ]
  },
  {
   "cell_type": "code",
   "execution_count": 8,
   "metadata": {},
   "outputs": [
    {
     "data": {
      "text/plain": [
       "[{'l_returnflag': 'A', 'l_linestatus': 'F'},\n",
       " {'l_returnflag': 'N', 'l_linestatus': 'F'},\n",
       " {'l_returnflag': 'N', 'l_linestatus': 'O'},\n",
       " {'l_returnflag': 'R', 'l_linestatus': 'F'}]"
      ]
     },
     "execution_count": 8,
     "metadata": {},
     "output_type": "execute_result"
    }
   ],
   "source": [
    "allgroups: pl.DataFrame = listdf.select(INDEX_COLS)\n",
    "allgroups.to_dicts()"
   ]
  },
  {
   "cell_type": "code",
   "execution_count": 9,
   "metadata": {},
   "outputs": [
    {
     "data": {
      "text/html": [
       "<div><style>\n",
       ".dataframe > thead > tr,\n",
       ".dataframe > tbody > tr {\n",
       "  text-align: right;\n",
       "  white-space: pre-wrap;\n",
       "}\n",
       "</style>\n",
       "<small>shape: (4, 10)</small><table border=\"1\" class=\"dataframe\"><thead><tr><th>l_returnflag</th><th>l_linestatus</th><th>sum_qty</th><th>sum_base_price</th><th>sum_disc_price</th><th>sum_charge</th><th>avg_qty</th><th>avg_price</th><th>avg_disc</th><th>count_order</th></tr><tr><td>str</td><td>str</td><td>decimal[38,2]</td><td>decimal[38,2]</td><td>decimal[38,4]</td><td>decimal[38,6]</td><td>f64</td><td>f64</td><td>f64</td><td>i64</td></tr></thead><tbody><tr><td>&quot;A&quot;</td><td>&quot;F&quot;</td><td>null</td><td>null</td><td>null</td><td>null</td><td>null</td><td>null</td><td>null</td><td>null</td></tr><tr><td>&quot;N&quot;</td><td>&quot;F&quot;</td><td>null</td><td>null</td><td>null</td><td>null</td><td>null</td><td>null</td><td>null</td><td>null</td></tr><tr><td>&quot;N&quot;</td><td>&quot;O&quot;</td><td>null</td><td>null</td><td>null</td><td>null</td><td>null</td><td>null</td><td>null</td><td>null</td></tr><tr><td>&quot;R&quot;</td><td>&quot;F&quot;</td><td>null</td><td>null</td><td>null</td><td>null</td><td>null</td><td>null</td><td>null</td><td>null</td></tr></tbody></table></div>"
      ],
      "text/plain": [
       "shape: (4, 10)\n",
       "┌────────────┬────────────┬───────────┬───────────┬───┬─────────┬───────────┬──────────┬───────────┐\n",
       "│ l_returnfl ┆ l_linestat ┆ sum_qty   ┆ sum_base_ ┆ … ┆ avg_qty ┆ avg_price ┆ avg_disc ┆ count_ord │\n",
       "│ ag         ┆ us         ┆ ---       ┆ price     ┆   ┆ ---     ┆ ---       ┆ ---      ┆ er        │\n",
       "│ ---        ┆ ---        ┆ decimal[3 ┆ ---       ┆   ┆ f64     ┆ f64       ┆ f64      ┆ ---       │\n",
       "│ str        ┆ str        ┆ 8,2]      ┆ decimal[3 ┆   ┆         ┆           ┆          ┆ i64       │\n",
       "│            ┆            ┆           ┆ 8,2]      ┆   ┆         ┆           ┆          ┆           │\n",
       "╞════════════╪════════════╪═══════════╪═══════════╪═══╪═════════╪═══════════╪══════════╪═══════════╡\n",
       "│ A          ┆ F          ┆ null      ┆ null      ┆ … ┆ null    ┆ null      ┆ null     ┆ null      │\n",
       "│ N          ┆ F          ┆ null      ┆ null      ┆ … ┆ null    ┆ null      ┆ null     ┆ null      │\n",
       "│ N          ┆ O          ┆ null      ┆ null      ┆ … ┆ null    ┆ null      ┆ null     ┆ null      │\n",
       "│ R          ┆ F          ┆ null      ┆ null      ┆ … ┆ null    ┆ null      ┆ null     ┆ null      │\n",
       "└────────────┴────────────┴───────────┴───────────┴───┴─────────┴───────────┴──────────┴───────────┘"
      ]
     },
     "execution_count": 9,
     "metadata": {},
     "output_type": "execute_result"
    }
   ],
   "source": [
    "# Template for the final output, including all possible group-by groups\n",
    "# Obtained by collecting all the samples in a big table and then keeping only the first occurrence of each groupby key.\n",
    "# Then, fill all OUTPUT_COLS with nulls\n",
    "templatedf = dfsdf.drop(pl.col(\"sample\")).group_by(INDEX_COLS, maintain_order=True).first()\n",
    "templatedf = templatedf.clear(n=len(allgroups)).with_columns(allgroups)\n",
    "templatedf"
   ]
  },
  {
   "cell_type": "code",
   "execution_count": 10,
   "metadata": {},
   "outputs": [],
   "source": [
    "os.makedirs(f\"{OUTPUT_DIR}/json\", exist_ok=True)\n",
    "os.makedirs(f\"{OUTPUT_DIR}/pkl\", exist_ok=True)\n",
    "i: int = 0\n",
    "reverse_map = {}\n",
    "for col in OUTPUT_COLS:\n",
    "    for group in allgroups.iter_rows(named=True):\n",
    "        values = listdf.filter(pl.col(k).eq(v) for k, v in group.items()).select(col).to_series()\n",
    "        j = pl.DataFrame().with_columns([\n",
    "            pl.lit(col).alias(\"col\"),\n",
    "            pl.lit(group).alias(\"row\"),\n",
    "            pl.lit(values).alias(\"values\"),\n",
    "        ])\n",
    "        reverse_map[i] = (col, group)\n",
    "        i+=1\n",
    "        j.write_json(f\"{OUTPUT_DIR}/json/{i}.json\")\n",
    "        # save pickle of numpy conversion of values\n",
    "        pickle.dump(values.to_numpy(), open(f\"{OUTPUT_DIR}/pkl/{i}.pkl\", \"wb\"))\n",
    "import json\n",
    "with open(f\"{OUTPUT_DIR}/reverse_map.json\", \"w\") as f:\n",
    "    json.dump(reverse_map, f)\n"
   ]
  },
  {
   "cell_type": "code",
   "execution_count": 11,
   "metadata": {},
   "outputs": [],
   "source": [
    "def numpyify(df: pl.DataFrame) -> np.ndarray:\n",
    "    return df.select(OUTPUT_COLS).to_numpy().flatten()\n",
    "\n",
    "def tablify(arr: np.ndarray) -> pl.DataFrame:\n",
    "    global OUTPUT_SHAPE, OUTPUT_SCHEMA\n",
    "    return templatedf.update( # put values back into the original dataframe\n",
    "        pl.DataFrame(\n",
    "            arr.reshape(OUTPUT_SHAPE), # reshape to the original shape\n",
    "            schema=OUTPUT_SCHEMA # coerce numpy array to the correct schema\n",
    "        ) # index cols will be left unchanged (not updated b/c we only update output_cols)\n",
    "    )"
   ]
  },
  {
   "cell_type": "code",
   "execution_count": 12,
   "metadata": {},
   "outputs": [
    {
     "data": {
      "text/plain": [
       "'/Users/michael/projects/dpdb/pacdb/outputs/pac-duckdb-q1.zip'"
      ]
     },
     "execution_count": 12,
     "metadata": {},
     "output_type": "execute_result"
    }
   ],
   "source": [
    "# zip the OUTPUT_DIR\n",
    "import shutil\n",
    "shutil.make_archive(OUTPUT_DIR, 'zip', OUTPUT_DIR)"
   ]
  }
 ],
 "metadata": {
  "kernelspec": {
   "display_name": ".venv",
   "language": "python",
   "name": "python3"
  },
  "language_info": {
   "codemirror_mode": {
    "name": "ipython",
    "version": 3
   },
   "file_extension": ".py",
   "mimetype": "text/x-python",
   "name": "python",
   "nbconvert_exporter": "python",
   "pygments_lexer": "ipython3",
   "version": "3.11.7"
  }
 },
 "nbformat": 4,
 "nbformat_minor": 2
}
