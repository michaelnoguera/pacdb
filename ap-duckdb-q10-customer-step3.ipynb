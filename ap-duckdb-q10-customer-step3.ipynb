{
 "cells": [
  {
   "cell_type": "code",
   "execution_count": 1,
   "id": "eba650e4",
   "metadata": {
    "execution": {
     "iopub.execute_input": "2025-05-01T09:06:14.824314Z",
     "iopub.status.busy": "2025-05-01T09:06:14.823955Z",
     "iopub.status.idle": "2025-05-01T09:06:14.882538Z",
     "shell.execute_reply": "2025-05-01T09:06:14.882199Z"
    },
    "papermill": {
     "duration": 0.067945,
     "end_time": "2025-05-01T09:06:14.883552",
     "exception": false,
     "start_time": "2025-05-01T09:06:14.815607",
     "status": "completed"
    },
    "tags": []
   },
   "outputs": [],
   "source": [
    "#!/usr/bin/env python\n",
    "# coding: utf-8\n",
    "\n",
    "import json\n",
    "import os\n",
    "import pickle\n",
    "import shutil\n",
    "import zipfile\n",
    "\n",
    "import parse\n",
    "import polars as pl"
   ]
  },
  {
   "cell_type": "code",
   "execution_count": 2,
   "id": "5bbee7d0",
   "metadata": {
    "execution": {
     "iopub.execute_input": "2025-05-01T09:06:14.887188Z",
     "iopub.status.busy": "2025-05-01T09:06:14.887052Z",
     "iopub.status.idle": "2025-05-01T09:06:14.889098Z",
     "shell.execute_reply": "2025-05-01T09:06:14.888814Z"
    },
    "papermill": {
     "duration": 0.004544,
     "end_time": "2025-05-01T09:06:14.889881",
     "exception": false,
     "start_time": "2025-05-01T09:06:14.885337",
     "status": "completed"
    },
    "tags": [
     "parameters"
    ]
   },
   "outputs": [],
   "source": [
    "#EXPERIMENT = \"asdf\"\n",
    "#INPUT_ZIP = f\"./outputs/{EXPERIMENT}-step2.zip\"\n",
    "#OUTPUT_DIR = f\"./outputs/{EXPERIMENT}-step3\"\n",
    "#INDEX_COLS = pickle.load(open(f'./outputs/{EXPERIMENT}-step1/INDEX_COLS.pkl', 'rb'))\n",
    "#OUTPUT_COLS = pickle.load(open(f'./outputs/{EXPERIMENT}-step1/OUTPUT_COLS.pkl', 'rb'))\n",
    "#templatedf_path = f\"./outputs/{EXPERIMENT}-step2/templatedf.csv\"\n",
    "EXPERIMENT = \"\"\n",
    "INPUT_ZIP = \"\"\n",
    "OUTPUT_DIR = \"\"\n",
    "INDEX_COLS = []\n",
    "OUTPUT_COLS = []\n",
    "templatedf_path = \"\""
   ]
  },
  {
   "cell_type": "code",
   "execution_count": 3,
   "id": "138f4b88",
   "metadata": {
    "execution": {
     "iopub.execute_input": "2025-05-01T09:06:14.892949Z",
     "iopub.status.busy": "2025-05-01T09:06:14.892817Z",
     "iopub.status.idle": "2025-05-01T09:06:14.894719Z",
     "shell.execute_reply": "2025-05-01T09:06:14.894476Z"
    },
    "papermill": {
     "duration": 0.004248,
     "end_time": "2025-05-01T09:06:14.895435",
     "exception": false,
     "start_time": "2025-05-01T09:06:14.891187",
     "status": "completed"
    },
    "tags": [
     "injected-parameters"
    ]
   },
   "outputs": [],
   "source": [
    "# Parameters\n",
    "EXPERIMENT = \"ap-duckdb-q10-customer\"\n",
    "OUTPUT_DIR = \"./outputs/ap-duckdb-q10-customer-step3\"\n",
    "INPUT_ZIP = \"./outputs/ap-duckdb-q10-customer-step2.zip\"\n",
    "INDEX_COLS = [\"c_custkey\", \"c_name\", \"c_acctbal\", \"c_phone\", \"n_name\", \"c_address\", \"c_comment\"]\n",
    "OUTPUT_COLS = [\"revenue\"]\n",
    "templatedf_path = \"./outputs/ap-duckdb-q10-customer-step1/template.pkl\"\n"
   ]
  },
  {
   "cell_type": "code",
   "execution_count": 4,
   "id": "7eeff702",
   "metadata": {
    "execution": {
     "iopub.execute_input": "2025-05-01T09:06:14.898336Z",
     "iopub.status.busy": "2025-05-01T09:06:14.898179Z",
     "iopub.status.idle": "2025-05-01T09:06:14.900085Z",
     "shell.execute_reply": "2025-05-01T09:06:14.899842Z"
    },
    "papermill": {
     "duration": 0.004094,
     "end_time": "2025-05-01T09:06:14.900781",
     "exception": false,
     "start_time": "2025-05-01T09:06:14.896687",
     "status": "completed"
    },
    "tags": []
   },
   "outputs": [],
   "source": [
    "INDEX_COLS = INDEX_COLS or [\"\"] # if no index cols are provided, then we make one up with empty string name in step 1\n",
    "\n",
    "if not os.path.exists(OUTPUT_DIR):\n",
    "    os.makedirs(OUTPUT_DIR)"
   ]
  },
  {
   "cell_type": "code",
   "execution_count": 5,
   "id": "257dec28",
   "metadata": {
    "execution": {
     "iopub.execute_input": "2025-05-01T09:06:14.903479Z",
     "iopub.status.busy": "2025-05-01T09:06:14.903349Z",
     "iopub.status.idle": "2025-05-01T09:06:14.905727Z",
     "shell.execute_reply": "2025-05-01T09:06:14.905485Z"
    },
    "papermill": {
     "duration": 0.00461,
     "end_time": "2025-05-01T09:06:14.906546",
     "exception": false,
     "start_time": "2025-05-01T09:06:14.901936",
     "status": "completed"
    },
    "tags": []
   },
   "outputs": [],
   "source": [
    "# Import saved variables from the first step\n",
    "templatedf: pl.DataFrame = pickle.load(open(templatedf_path, 'rb'))"
   ]
  },
  {
   "cell_type": "code",
   "execution_count": 6,
   "id": "ab3a80fe",
   "metadata": {
    "execution": {
     "iopub.execute_input": "2025-05-01T09:06:14.909336Z",
     "iopub.status.busy": "2025-05-01T09:06:14.909228Z",
     "iopub.status.idle": "2025-05-01T09:06:14.915258Z",
     "shell.execute_reply": "2025-05-01T09:06:14.915003Z"
    },
    "papermill": {
     "duration": 0.008249,
     "end_time": "2025-05-01T09:06:14.916017",
     "exception": false,
     "start_time": "2025-05-01T09:06:14.907768",
     "status": "completed"
    },
    "tags": []
   },
   "outputs": [
    {
     "data": {
      "text/plain": [
       "dict_keys([20, 61, 36, 41, 16, 57, 6, 7, 56, 17, 40, 37, 60, 21, 47, 10, 51, 0, 26, 30, 31, 27, 1, 50, 11, 46, 2, 28, 53, 12, 45, 32, 24, 49, 48, 25, 33, 44, 13, 52, 29, 3, 34, 8, 22, 59, 18, 38, 4, 55, 14, 43, 42, 15, 54, 5, 39, 19, 58, 23, 62, 9, 35])"
      ]
     },
     "execution_count": 6,
     "metadata": {},
     "output_type": "execute_result"
    }
   ],
   "source": [
    "# load the json input files from step 2\n",
    "# {'col': column name as string,\n",
    "#  'row': group-by column values as dict (effectively a row id),\n",
    "#  'values': [ 1000x values ] }\n",
    "alldata = {}\n",
    "\n",
    "pattern = parse.compile(\"{n}.json\")\n",
    "\n",
    "with zipfile.ZipFile(INPUT_ZIP, 'r') as zf:\n",
    "    for filename in zf.namelist():\n",
    "        if filename.endswith('.json'):\n",
    "            with zf.open(filename) as f:\n",
    "                filenumber = int(pattern.parse(filename).named['n'])\n",
    "                data = json.load(f)\n",
    "                d: dict = data\n",
    "                alldata[filenumber] = d\n",
    "alldata.keys()"
   ]
  },
  {
   "cell_type": "code",
   "execution_count": 7,
   "id": "fa47deff",
   "metadata": {
    "execution": {
     "iopub.execute_input": "2025-05-01T09:06:14.919131Z",
     "iopub.status.busy": "2025-05-01T09:06:14.919018Z",
     "iopub.status.idle": "2025-05-01T09:06:14.934364Z",
     "shell.execute_reply": "2025-05-01T09:06:14.934034Z"
    },
    "papermill": {
     "duration": 0.01795,
     "end_time": "2025-05-01T09:06:14.935393",
     "exception": false,
     "start_time": "2025-05-01T09:06:14.917443",
     "status": "completed"
    },
    "tags": []
   },
   "outputs": [],
   "source": [
    "# Make sure the data types of the row fields are correct\n",
    "for i in range(len(alldata)):\n",
    "    alldata[i]['row'] = pl.DataFrame(alldata[i]['row']).cast(templatedf.select(INDEX_COLS).schema).to_dicts()[0]"
   ]
  },
  {
   "cell_type": "code",
   "execution_count": 8,
   "id": "1d086fc3",
   "metadata": {
    "execution": {
     "iopub.execute_input": "2025-05-01T09:06:14.938490Z",
     "iopub.status.busy": "2025-05-01T09:06:14.938251Z",
     "iopub.status.idle": "2025-05-01T09:06:14.941698Z",
     "shell.execute_reply": "2025-05-01T09:06:14.941450Z"
    },
    "papermill": {
     "duration": 0.005646,
     "end_time": "2025-05-01T09:06:14.942381",
     "exception": false,
     "start_time": "2025-05-01T09:06:14.936735",
     "status": "completed"
    },
    "tags": []
   },
   "outputs": [
    {
     "data": {
      "text/html": [
       "<div><style>\n",
       ".dataframe > thead > tr,\n",
       ".dataframe > tbody > tr {\n",
       "  text-align: right;\n",
       "  white-space: pre-wrap;\n",
       "}\n",
       "</style>\n",
       "<small>shape: (63, 7)</small><table border=\"1\" class=\"dataframe\"><thead><tr><th>c_custkey</th><th>c_name</th><th>c_acctbal</th><th>c_phone</th><th>n_name</th><th>c_address</th><th>c_comment</th></tr><tr><td>i64</td><td>str</td><td>decimal[15,2]</td><td>str</td><td>str</td><td>str</td><td>str</td></tr></thead><tbody><tr><td>8242</td><td>&quot;Customer#000008242&quot;</td><td>6322.09</td><td>&quot;15-792-676-1184&quot;</td><td>&quot;ETHIOPIA&quot;</td><td>&quot;cYDWDiJt06B8CYzXX2L8x2hn1VFG&quot;</td><td>&quot; regular theodolites affix. ca…</td></tr><tr><td>2455</td><td>&quot;Customer#000002455&quot;</td><td>2070.99</td><td>&quot;17-946-225-9977&quot;</td><td>&quot;GERMANY&quot;</td><td>&quot;a5DZ199yfAcFhfi2uwBE PKo,Z&quot;</td><td>&quot;pinto beans alongside of the f…</td></tr><tr><td>1966</td><td>&quot;Customer#000001966&quot;</td><td>1937.72</td><td>&quot;10-973-269-8886&quot;</td><td>&quot;ALGERIA&quot;</td><td>&quot;IbwZr7j QVifqf9WizOIWx,UXV9Cqx…</td><td>&quot;odolites across the unusual ac…</td></tr><tr><td>1565</td><td>&quot;Customer#000001565&quot;</td><td>1820.03</td><td>&quot;12-402-178-2007&quot;</td><td>&quot;BRAZIL&quot;</td><td>&quot;n4acVpG0Deyj5aIFAfSNg Iu9cUagw…</td><td>&quot;deposits; unusual, bold deposi…</td></tr><tr><td>14398</td><td>&quot;Customer#000014398&quot;</td><td>-602.24</td><td>&quot;34-814-111-5424&quot;</td><td>&quot;UNITED STATES&quot;</td><td>&quot;l49oKjbjQHz6YZwjo5wPihM lyYO6G&quot;</td><td>&quot;es haggle fluffily blithely fl…</td></tr><tr><td>&hellip;</td><td>&hellip;</td><td>&hellip;</td><td>&hellip;</td><td>&hellip;</td><td>&hellip;</td><td>&hellip;</td></tr><tr><td>12226</td><td>&quot;Customer#000012226&quot;</td><td>1850.48</td><td>&quot;19-265-644-3796&quot;</td><td>&quot;INDONESIA&quot;</td><td>&quot;08fy8Pc0NmrqAiAYPZuOOD55dV3tbO…</td><td>&quot;. quickly bold theodolites gro…</td></tr><tr><td>3541</td><td>&quot;Customer#000003541&quot;</td><td>7052.19</td><td>&quot;26-551-286-8801&quot;</td><td>&quot;MOZAMBIQUE&quot;</td><td>&quot;ye4dLVD7hS2cbIL956lC&quot;</td><td>&quot;ular ideas wake bold, unusual …</td></tr><tr><td>11866</td><td>&quot;Customer#000011866&quot;</td><td>3380.37</td><td>&quot;33-807-163-1247&quot;</td><td>&quot;UNITED KINGDOM&quot;</td><td>&quot;hdAdp5v,AYqoX24svKZw1UGEXmQ&quot;</td><td>&quot;ep at the furiously final requ…</td></tr><tr><td>9986</td><td>&quot;Customer#000009986&quot;</td><td>-196.72</td><td>&quot;26-349-647-1183&quot;</td><td>&quot;MOZAMBIQUE&quot;</td><td>&quot;yKAZSS,DElfPsdFKAqaNz0I&quot;</td><td>&quot;quickly furiously regular requ…</td></tr><tr><td>13154</td><td>&quot;Customer#000013154&quot;</td><td>5734.33</td><td>&quot;21-234-792-9905&quot;</td><td>&quot;IRAQ&quot;</td><td>&quot;TiGW5iXEBVwmpgYbGAMsKg&quot;</td><td>&quot;. express, final accounts nod …</td></tr></tbody></table></div>"
      ],
      "text/plain": [
       "shape: (63, 7)\n",
       "┌───────────┬──────────────┬──────────────┬──────────────┬─────────────┬─────────────┬─────────────┐\n",
       "│ c_custkey ┆ c_name       ┆ c_acctbal    ┆ c_phone      ┆ n_name      ┆ c_address   ┆ c_comment   │\n",
       "│ ---       ┆ ---          ┆ ---          ┆ ---          ┆ ---         ┆ ---         ┆ ---         │\n",
       "│ i64       ┆ str          ┆ decimal[15,2 ┆ str          ┆ str         ┆ str         ┆ str         │\n",
       "│           ┆              ┆ ]            ┆              ┆             ┆             ┆             │\n",
       "╞═══════════╪══════════════╪══════════════╪══════════════╪═════════════╪═════════════╪═════════════╡\n",
       "│ 8242      ┆ Customer#000 ┆ 6322.09      ┆ 15-792-676-1 ┆ ETHIOPIA    ┆ cYDWDiJt06B ┆ regular     │\n",
       "│           ┆ 008242       ┆              ┆ 184          ┆             ┆ 8CYzXX2L8x2 ┆ theodolites │\n",
       "│           ┆              ┆              ┆              ┆             ┆ hn1VFG      ┆ affix. ca…  │\n",
       "│ 2455      ┆ Customer#000 ┆ 2070.99      ┆ 17-946-225-9 ┆ GERMANY     ┆ a5DZ199yfAc ┆ pinto beans │\n",
       "│           ┆ 002455       ┆              ┆ 977          ┆             ┆ Fhfi2uwBE   ┆ alongside   │\n",
       "│           ┆              ┆              ┆              ┆             ┆ PKo,Z       ┆ of the f…   │\n",
       "│ 1966      ┆ Customer#000 ┆ 1937.72      ┆ 10-973-269-8 ┆ ALGERIA     ┆ IbwZr7j QVi ┆ odolites    │\n",
       "│           ┆ 001966       ┆              ┆ 886          ┆             ┆ fqf9WizOIWx ┆ across the  │\n",
       "│           ┆              ┆              ┆              ┆             ┆ ,UXV9Cqx…   ┆ unusual ac… │\n",
       "│ 1565      ┆ Customer#000 ┆ 1820.03      ┆ 12-402-178-2 ┆ BRAZIL      ┆ n4acVpG0Dey ┆ deposits;   │\n",
       "│           ┆ 001565       ┆              ┆ 007          ┆             ┆ j5aIFAfSNg  ┆ unusual,    │\n",
       "│           ┆              ┆              ┆              ┆             ┆ Iu9cUagw…   ┆ bold        │\n",
       "│           ┆              ┆              ┆              ┆             ┆             ┆ deposi…     │\n",
       "│ 14398     ┆ Customer#000 ┆ -602.24      ┆ 34-814-111-5 ┆ UNITED      ┆ l49oKjbjQHz ┆ es haggle   │\n",
       "│           ┆ 014398       ┆              ┆ 424          ┆ STATES      ┆ 6YZwjo5wPih ┆ fluffily    │\n",
       "│           ┆              ┆              ┆              ┆             ┆ M lyYO6G    ┆ blithely    │\n",
       "│           ┆              ┆              ┆              ┆             ┆             ┆ fl…         │\n",
       "│ …         ┆ …            ┆ …            ┆ …            ┆ …           ┆ …           ┆ …           │\n",
       "│ 12226     ┆ Customer#000 ┆ 1850.48      ┆ 19-265-644-3 ┆ INDONESIA   ┆ 08fy8Pc0Nmr ┆ . quickly   │\n",
       "│           ┆ 012226       ┆              ┆ 796          ┆             ┆ qAiAYPZuOOD ┆ bold        │\n",
       "│           ┆              ┆              ┆              ┆             ┆ 55dV3tbO…   ┆ theodolites │\n",
       "│           ┆              ┆              ┆              ┆             ┆             ┆ gro…        │\n",
       "│ 3541      ┆ Customer#000 ┆ 7052.19      ┆ 26-551-286-8 ┆ MOZAMBIQUE  ┆ ye4dLVD7hS2 ┆ ular ideas  │\n",
       "│           ┆ 003541       ┆              ┆ 801          ┆             ┆ cbIL956lC   ┆ wake bold,  │\n",
       "│           ┆              ┆              ┆              ┆             ┆             ┆ unusual …   │\n",
       "│ 11866     ┆ Customer#000 ┆ 3380.37      ┆ 33-807-163-1 ┆ UNITED      ┆ hdAdp5v,AYq ┆ ep at the   │\n",
       "│           ┆ 011866       ┆              ┆ 247          ┆ KINGDOM     ┆ oX24svKZw1U ┆ furiously   │\n",
       "│           ┆              ┆              ┆              ┆             ┆ GEXmQ       ┆ final requ… │\n",
       "│ 9986      ┆ Customer#000 ┆ -196.72      ┆ 26-349-647-1 ┆ MOZAMBIQUE  ┆ yKAZSS,DElf ┆ quickly     │\n",
       "│           ┆ 009986       ┆              ┆ 183          ┆             ┆ PsdFKAqaNz0 ┆ furiously   │\n",
       "│           ┆              ┆              ┆              ┆             ┆ I           ┆ regular     │\n",
       "│           ┆              ┆              ┆              ┆             ┆             ┆ requ…       │\n",
       "│ 13154     ┆ Customer#000 ┆ 5734.33      ┆ 21-234-792-9 ┆ IRAQ        ┆ TiGW5iXEBVw ┆ . express,  │\n",
       "│           ┆ 013154       ┆              ┆ 905          ┆             ┆ mpgYbGAMsKg ┆ final       │\n",
       "│           ┆              ┆              ┆              ┆             ┆             ┆ accounts    │\n",
       "│           ┆              ┆              ┆              ┆             ┆             ┆ nod …       │\n",
       "└───────────┴──────────────┴──────────────┴──────────────┴─────────────┴─────────────┴─────────────┘"
      ]
     },
     "execution_count": 8,
     "metadata": {},
     "output_type": "execute_result"
    }
   ],
   "source": [
    "allgroups = templatedf.select(INDEX_COLS)\n",
    "allgroups"
   ]
  },
  {
   "cell_type": "code",
   "execution_count": 9,
   "id": "0b249a7b",
   "metadata": {
    "execution": {
     "iopub.execute_input": "2025-05-01T09:06:14.945632Z",
     "iopub.status.busy": "2025-05-01T09:06:14.945527Z",
     "iopub.status.idle": "2025-05-01T09:06:14.960174Z",
     "shell.execute_reply": "2025-05-01T09:06:14.959941Z"
    },
    "papermill": {
     "duration": 0.016964,
     "end_time": "2025-05-01T09:06:14.960824",
     "exception": false,
     "start_time": "2025-05-01T09:06:14.943860",
     "status": "completed"
    },
    "tags": []
   },
   "outputs": [
    {
     "name": "stdout",
     "output_type": "stream",
     "text": [
      "{'c_custkey': 8242, 'c_name': 'Customer#000008242', 'c_acctbal': Decimal('6322.09'), 'c_phone': '15-792-676-1184', 'n_name': 'ETHIOPIA', 'c_address': 'cYDWDiJt06B8CYzXX2L8x2hn1VFG', 'c_comment': ' regular theodolites affix. carefully ironic packages cajole deposits; slyly ironic packages wake quickly. regular,'}\n",
      "{'c_custkey': 2455, 'c_name': 'Customer#000002455', 'c_acctbal': Decimal('2070.99'), 'c_phone': '17-946-225-9977', 'n_name': 'GERMANY', 'c_address': 'a5DZ199yfAcFhfi2uwBE PKo,Z', 'c_comment': 'pinto beans alongside of the furiously ironic asymptotes are quickly even platelets: express'}\n",
      "{'c_custkey': 1966, 'c_name': 'Customer#000001966', 'c_acctbal': Decimal('1937.72'), 'c_phone': '10-973-269-8886', 'n_name': 'ALGERIA', 'c_address': 'IbwZr7j QVifqf9WizOIWx,UXV9CqxUyrwj', 'c_comment': 'odolites across the unusual accounts hang carefully furiously bold excuses. regular pi'}\n",
      "{'c_custkey': 1565, 'c_name': 'Customer#000001565', 'c_acctbal': Decimal('1820.03'), 'c_phone': '12-402-178-2007', 'n_name': 'BRAZIL', 'c_address': 'n4acVpG0Deyj5aIFAfSNg Iu9cUagwN3OsRbKC 4', 'c_comment': 'deposits; unusual, bold deposits around the f'}\n",
      "{'c_custkey': 14398, 'c_name': 'Customer#000014398', 'c_acctbal': Decimal('-602.24'), 'c_phone': '34-814-111-5424', 'n_name': 'UNITED STATES', 'c_address': 'l49oKjbjQHz6YZwjo5wPihM lyYO6G', 'c_comment': 'es haggle fluffily blithely fluffy requests; slyly express req'}\n",
      "{'c_custkey': 1465, 'c_name': 'Customer#000001465', 'c_acctbal': Decimal('9365.93'), 'c_phone': '18-807-487-1074', 'n_name': 'INDIA', 'c_address': 'zn9Q7pT6KlQp3T5mUO533aq,', 'c_comment': 'ress ideas cajole. slyly unusual theodolites cajole thin foxes. account'}\n",
      "{'c_custkey': 961, 'c_name': 'Customer#000000961', 'c_acctbal': Decimal('6963.68'), 'c_phone': '22-989-463-6089', 'n_name': 'JAPAN', 'c_address': 'W0SZ2oflx9aWTggtwSk3OEIXsubXTbGbD', 'c_comment': 'use furiously across the final deposits. quickly '}\n",
      "{'c_custkey': 11644, 'c_name': 'Customer#000011644', 'c_acctbal': Decimal('6240.31'), 'c_phone': '24-940-540-7881', 'n_name': 'KENYA', 'c_address': '92wS4ujiYaL1Sh ,MK', 'c_comment': ' sleep across the slyly silent dependencies. quickly unusual packages along the express instructions slee'}\n",
      "{'c_custkey': 2224, 'c_name': 'Customer#000002224', 'c_acctbal': Decimal('2521.46'), 'c_phone': '23-623-108-3568', 'n_name': 'JORDAN', 'c_address': 'wVSGOyjAD6DmJsbaYUg OqJzjdK,Na4l50mTYw', 'c_comment': 'st the final instructions. fluffily final deposits wake blithely. careful notornis mold slyly slyly express'}\n",
      "{'c_custkey': 2344, 'c_name': 'Customer#000002344', 'c_acctbal': Decimal('5597.22'), 'c_phone': '25-593-745-7663', 'n_name': 'MOROCCO', 'c_address': 'w2Yuiq7sKZ', 'c_comment': '. bold, regular somas nag furio'}\n",
      "{'c_custkey': 7528, 'c_name': 'Customer#000007528', 'c_acctbal': Decimal('6890.19'), 'c_phone': '31-775-470-3974', 'n_name': 'VIETNAM', 'c_address': 'A5LQ4u19C,NKyN,lR', 'c_comment': 'notornis. slyly ironic courts sleep furiously; blithely express waters x-ray slyly. even ideas cajole.'}\n",
      "{'c_custkey': 10384, 'c_name': 'Customer#000010384', 'c_acctbal': Decimal('3891.50'), 'c_phone': '34-518-689-5506', 'n_name': 'UNITED STATES', 'c_address': 'g5vN4 Rr0BdUoiXV3q71XUUc0ZWtVXLjMbubwV1', 'c_comment': 'ording to the furiously silent packages. slyly eve'}\n",
      "{'c_custkey': 14773, 'c_name': 'Customer#000014773', 'c_acctbal': Decimal('3919.00'), 'c_phone': '11-572-535-3069', 'n_name': 'ARGENTINA', 'c_address': 'PwIugvp42MN34hmtL,0r67eCyF,EFE', 'c_comment': 'quickly bold ideas across the quick'}\n",
      "{'c_custkey': 8023, 'c_name': 'Customer#000008023', 'c_acctbal': Decimal('9817.23'), 'c_phone': '32-510-963-4196', 'n_name': 'RUSSIA', 'c_address': 'LGkNJyILlx', 'c_comment': 'xcuses sleep furiously regular deposits. carefully bold requests dazzle carefully blith'}\n",
      "{'c_custkey': 181, 'c_name': 'Customer#000000181', 'c_acctbal': Decimal('3929.96'), 'c_phone': '19-653-305-8440', 'n_name': 'INDONESIA', 'c_address': '3dwI4Or4 9H1w8v,cuiMwpA', 'c_comment': 'ans unwind slyly against the dinos. '}\n",
      "{'c_custkey': 2614, 'c_name': 'Customer#000002614', 'c_acctbal': Decimal('663.38'), 'c_phone': '29-740-430-9216', 'n_name': 'ROMANIA', 'c_address': 'b6u0xJUEv2tCRP6GZNNxyjEEyOc9uBjS22RKgb', 'c_comment': 'efully pending foxes boost platelets. even, enticing'}\n",
      "{'c_custkey': 12499, 'c_name': 'Customer#000012499', 'c_acctbal': Decimal('-104.59'), 'c_phone': '26-607-342-9289', 'n_name': 'MOZAMBIQUE', 'c_address': '00duMvAXCN3', 'c_comment': 'ar deposits cajole slyly after the regular'}\n",
      "{'c_custkey': 5987, 'c_name': 'Customer#000005987', 'c_acctbal': Decimal('-259.21'), 'c_phone': '12-181-374-9390', 'n_name': 'BRAZIL', 'c_address': 'GY8EJU6YLQ2hu,a4Z', 'c_comment': 'ronic platelets. quickly express requests affix furiously carefully regular ideas. slyly silent'}\n",
      "{'c_custkey': 11177, 'c_name': 'Customer#000011177', 'c_acctbal': Decimal('135.99'), 'c_phone': '13-151-607-8040', 'n_name': 'CANADA', 'c_address': ',w0jX6XnHzTkC2qRRtA hIL3GHz0HD', 'c_comment': 'eodolites cajole. furiously special '}\n",
      "{'c_custkey': 9289, 'c_name': 'Customer#000009289', 'c_acctbal': Decimal('6465.01'), 'c_phone': '31-399-988-2761', 'n_name': 'VIETNAM', 'c_address': 'yOS3pss0P75dHwF Rx', 'c_comment': 'kly against the blithely ironic deposits. final orbits nag'}\n",
      "{'c_custkey': 12106, 'c_name': 'Customer#000012106', 'c_acctbal': Decimal('5342.11'), 'c_phone': '34-905-346-4472', 'n_name': 'UNITED STATES', 'c_address': 'wyJXywcExUxt', 'c_comment': 'blithely blithely final attainments? carefully special pinto beans around the quickly even asymptote'}\n",
      "{'c_custkey': 13984, 'c_name': 'Customer#000013984', 'c_acctbal': Decimal('3482.28'), 'c_phone': '20-981-264-2952', 'n_name': 'IRAN', 'c_address': 'B13vxRBojwvP3', 'c_comment': 'egular, ironic accounts integrate sly'}\n",
      "{'c_custkey': 12595, 'c_name': 'Customer#000012595', 'c_acctbal': Decimal('-6.92'), 'c_phone': '18-186-132-3352', 'n_name': 'INDIA', 'c_address': 'gEMQ3WO90vSdAgxLFrt9FRS', 'c_comment': ' slyly dogged excuses. blithely blithe packages cajole'}\n",
      "{'c_custkey': 9151, 'c_name': 'Customer#000009151', 'c_acctbal': Decimal('5691.95'), 'c_phone': '21-834-147-4906', 'n_name': 'IRAQ', 'c_address': 'UKiN9OQupR,m5NtvSntbI8JBeo', 'c_comment': 'the deposits. pending, ironic foxes haggle along the regular, bold req'}\n",
      "{'c_custkey': 14819, 'c_name': 'Customer#000014819', 'c_acctbal': Decimal('7308.39'), 'c_phone': '16-769-398-7926', 'n_name': 'FRANCE', 'c_address': 'wS8yiQtE63FfoO6RKUzuVf6iBTmXBq16u', 'c_comment': 'ending asymptotes use fluffily quickly bold instructions. slyly bold dependencies sleep carefully pending a'}\n",
      "{'c_custkey': 13478, 'c_name': 'Customer#000013478', 'c_acctbal': Decimal('-778.11'), 'c_phone': '24-983-202-8240', 'n_name': 'KENYA', 'c_address': 'S5izwjM1 hCoUccO2JMepYwNyBSqI,ay', 'c_comment': ' requests boost quickly according to the express sheaves. blithely unusual packages sleep'}\n",
      "{'c_custkey': 4768, 'c_name': 'Customer#000004768', 'c_acctbal': Decimal('4999.69'), 'c_phone': '19-863-984-6918', 'n_name': 'INDONESIA', 'c_address': 'HByt3eSvF2,2ulBm0A', 'c_comment': 'efully regular packages affix across the slyly unusual requests. qui'}\n",
      "{'c_custkey': 5677, 'c_name': 'Customer#000005677', 'c_acctbal': Decimal('9260.91'), 'c_phone': '31-915-164-1123', 'n_name': 'VIETNAM', 'c_address': '0YLT3hmA,K8LYDyXbFLOLzBmKpOSCo3wrK', 'c_comment': 'lar accounts. express packages '}\n",
      "{'c_custkey': 12016, 'c_name': 'Customer#000012016', 'c_acctbal': Decimal('5540.68'), 'c_phone': '28-156-121-7280', 'n_name': 'CHINA', 'c_address': 'ICKxmXbBwSs', 'c_comment': 'haggle. foxes affix furiously. fluffily express '}\n",
      "{'c_custkey': 2104, 'c_name': 'Customer#000002104', 'c_acctbal': Decimal('5533.39'), 'c_phone': '34-786-781-9766', 'n_name': 'UNITED STATES', 'c_address': 'Wc1lasNFJlX', 'c_comment': ' furiously bold theodolites use sl'}\n",
      "{'c_custkey': 1894, 'c_name': 'Customer#000001894', 'c_acctbal': Decimal('5415.55'), 'c_phone': '22-832-993-2803', 'n_name': 'JAPAN', 'c_address': '40gidHQ0DOJvkPg', 'c_comment': 'nusual ideas. regular deposits about the furiously bold theodolites haggle among the closely ironic w'}\n",
      "{'c_custkey': 7714, 'c_name': 'Customer#000007714', 'c_acctbal': Decimal('9799.98'), 'c_phone': '20-922-418-6024', 'n_name': 'IRAN', 'c_address': '9DDikq08GEE4B3X', 'c_comment': 'even accounts should cajole. regular, regular'}\n",
      "{'c_custkey': 8501, 'c_name': 'Customer#000008501', 'c_acctbal': Decimal('6906.70'), 'c_phone': '11-317-552-5840', 'n_name': 'ARGENTINA', 'c_address': 'UTUQLX cQrF1UUJPsz', 'c_comment': ' packages. pending Tiresias after the regularly express forges haggle fina'}\n",
      "{'c_custkey': 6632, 'c_name': 'Customer#000006632', 'c_acctbal': Decimal('9324.80'), 'c_phone': '12-979-552-7277', 'n_name': 'BRAZIL', 'c_address': '5lnm0Lkw8MmMHwLfK', 'c_comment': 'es boost carefully packages; ironic, even requests integrate across the bold deposits. deposits detect qui'}\n",
      "{'c_custkey': 8530, 'c_name': 'Customer#000008530', 'c_acctbal': Decimal('9734.95'), 'c_phone': '25-736-932-5850', 'n_name': 'MOROCCO', 'c_address': 'leatyNRWCnfTMnTNuDGHsWJjRuAX', 'c_comment': ' the carefully pending packages. carefully '}\n",
      "{'c_custkey': 14299, 'c_name': 'Customer#000014299', 'c_acctbal': Decimal('6595.97'), 'c_phone': '32-156-618-1224', 'n_name': 'RUSSIA', 'c_address': 'UFlOs8tQ,IfZPJm57', 'c_comment': 'slyly. ironic, bold deposits sleep blithely ironic, pending attainm'}\n",
      "{'c_custkey': 11011, 'c_name': 'Customer#000011011', 'c_acctbal': Decimal('3204.07'), 'c_phone': '13-454-800-6046', 'n_name': 'CANADA', 'c_address': 'Lcqu0eiaNMF0TFGvN', 'c_comment': 's. final accounts integrate regul'}\n",
      "{'c_custkey': 14002, 'c_name': 'Customer#000014002', 'c_acctbal': Decimal('6545.37'), 'c_phone': '27-776-171-5946', 'n_name': 'PERU', 'c_address': 'cGp9zJCvQUHnU2fG2XC1QL', 'c_comment': 's. carefully regular instructions are above the regular, bold '}\n",
      "{'c_custkey': 10939, 'c_name': 'Customer#000010939', 'c_acctbal': Decimal('1435.11'), 'c_phone': '29-811-297-6456', 'n_name': 'ROMANIA', 'c_address': 't9,Ot8vec,PNjL', 'c_comment': 'oss the pending, final packages. ironic requests sleep. special ideas believe furi'}\n",
      "{'c_custkey': 2905, 'c_name': 'Customer#000002905', 'c_acctbal': Decimal('8555.09'), 'c_phone': '22-729-526-1554', 'n_name': 'JAPAN', 'c_address': 'Kcxgd9EpZHLm40S58PSNJ4Upvtc7r8gDpZ', 'c_comment': 'ual pinto beans nag above the carefully regular pinto beans. special, stealthy accounts breach s'}\n",
      "{'c_custkey': 11032, 'c_name': 'Customer#000011032', 'c_acctbal': Decimal('8496.93'), 'c_phone': '33-102-772-3533', 'n_name': 'UNITED KINGDOM', 'c_address': '5igjoUgXoDUZVUIectL5lXO1T3AGKza0ft', 'c_comment': 'uests. ironic accounts after the fluffily fi'}\n",
      "{'c_custkey': 11026, 'c_name': 'Customer#000011026', 'c_acctbal': Decimal('7738.76'), 'c_phone': '10-184-163-4632', 'n_name': 'ALGERIA', 'c_address': '4C iGzChcqnhGBdeeu', 'c_comment': 'eposits cajole according to the furiously bold instructions. regular, regular dependencies wake carefully eve'}\n",
      "{'c_custkey': 623, 'c_name': 'Customer#000000623', 'c_acctbal': Decimal('7887.60'), 'c_phone': '19-113-202-7085', 'n_name': 'INDONESIA', 'c_address': 'k3IlPSC4FKB13 hc6omhVs1ibvqeWEV', 'c_comment': 'se around the ideas. accounts cajole blithely slyly ironic requests. b'}\n",
      "{'c_custkey': 11602, 'c_name': 'Customer#000011602', 'c_acctbal': Decimal('7760.77'), 'c_phone': '22-652-615-7931', 'n_name': 'JAPAN', 'c_address': '6BR,FbdhqBwirsXwdp2dzHFFK7', 'c_comment': 'xes. blithely pending theodolites cajole outside the quickly final notornis. unusual, bus'}\n",
      "{'c_custkey': 9283, 'c_name': 'Customer#000009283', 'c_acctbal': Decimal('9609.40'), 'c_phone': '12-403-990-9346', 'n_name': 'BRAZIL', 'c_address': 'cgdgkSDm8H3u5M5YPnjtBZlmao2EAMF', 'c_comment': 'l grouches doubt carefully even dependencies. express, enticing accounts cajole fur'}\n",
      "{'c_custkey': 9011, 'c_name': 'Customer#000009011', 'c_acctbal': Decimal('7665.61'), 'c_phone': '34-330-685-5116', 'n_name': 'UNITED STATES', 'c_address': 'U86U7e4bWyv34nxl6LEKzmf', 'c_comment': 'l excuses was epitaphs. carefully final foxes accordin'}\n",
      "{'c_custkey': 2426, 'c_name': 'Customer#000002426', 'c_acctbal': Decimal('2708.47'), 'c_phone': '25-410-418-8923', 'n_name': 'MOROCCO', 'c_address': 'MpZVRy3ypUubfZvbTf4h1SF', 'c_comment': 'y ironic requests. even instructions cajole express instructions. bl'}\n",
      "{'c_custkey': 14872, 'c_name': 'Customer#000014872', 'c_acctbal': Decimal('155.08'), 'c_phone': '18-766-990-8843', 'n_name': 'INDIA', 'c_address': 'gfq4d dr61cG6kZasU h9FhDLz8lQ', 'c_comment': ' final pinto beans sleep furiously slyly thin '}\n",
      "{'c_custkey': 5875, 'c_name': 'Customer#000005875', 'c_acctbal': Decimal('4907.38'), 'c_phone': '15-605-672-5541', 'n_name': 'ETHIOPIA', 'c_address': 'aY9kl8Xt2wBqp4DF6qJqJUc9hw5cr72', 'c_comment': 'eep blithely bold ideas. blithely regular foxes snooze fluffily furiously final orbits. idle'}\n",
      "{'c_custkey': 2803, 'c_name': 'Customer#000002803', 'c_acctbal': Decimal('6519.74'), 'c_phone': '18-125-144-9038', 'n_name': 'INDIA', 'c_address': '8qBWvHKpzs', 'c_comment': 'ly final requests against the ironic accounts use quickly according to the ironic, silent dependencies. d'}\n",
      "{'c_custkey': 11845, 'c_name': 'Customer#000011845', 'c_acctbal': Decimal('1708.65'), 'c_phone': '25-315-271-2552', 'n_name': 'MOROCCO', 'c_address': 'nIIu5 1AQ4SuY', 'c_comment': 'riously final foxes. final requests'}\n",
      "{'c_custkey': 14099, 'c_name': 'Customer#000014099', 'c_acctbal': Decimal('7982.61'), 'c_phone': '23-990-322-1053', 'n_name': 'JORDAN', 'c_address': '1RdMlhI FK9I', 'c_comment': 'fully across the accounts. silen'}\n",
      "{'c_custkey': 2230, 'c_name': 'Customer#000002230', 'c_acctbal': Decimal('3103.00'), 'c_phone': '24-253-371-2838', 'n_name': 'KENYA', 'c_address': 'F2pEKm5aKutj21NAe64JmTx,QubnqZDR8YX', 'c_comment': 'ges sleep even, regular instructions. slyly final requests are sl'}\n",
      "{'c_custkey': 14749, 'c_name': 'Customer#000014749', 'c_acctbal': Decimal('5395.12'), 'c_phone': '25-579-179-6262', 'n_name': 'MOROCCO', 'c_address': 'ZNih4R39vpceh41ORB6', 'c_comment': 'y pending accounts cajole among the quickly special accounts? special,'}\n",
      "{'c_custkey': 1337, 'c_name': 'Customer#000001337', 'c_acctbal': Decimal('7882.44'), 'c_phone': '32-528-594-1931', 'n_name': 'RUSSIA', 'c_address': 'roqehNY3NvZpoKjAkeN,q3', 'c_comment': 'ideas. silently silent accounts cajole carefully among the '}\n",
      "{'c_custkey': 4312, 'c_name': 'Customer#000004312', 'c_acctbal': Decimal('8928.80'), 'c_phone': '17-953-302-2406', 'n_name': 'GERMANY', 'c_address': 'XXoJkouIqyyV6skYzSrxMH3stgPxfOTZx', 'c_comment': ' furiously ironic accounts nag blithely about the regular, final theodolites.'}\n",
      "{'c_custkey': 3304, 'c_name': 'Customer#000003304', 'c_acctbal': Decimal('6671.05'), 'c_phone': '25-461-139-2481', 'n_name': 'MOROCCO', 'c_address': 'K8IFUX iOYFaBjDiJUbNWvFzjoFCIV', 'c_comment': 'dencies. slyly ironic packages are slyly final packages. '}\n",
      "{'c_custkey': 5452, 'c_name': 'Customer#000005452', 'c_acctbal': Decimal('2561.25'), 'c_phone': '20-194-232-6591', 'n_name': 'IRAN', 'c_address': 'rxGmVuPp,pVF lpkp0hLxUVZ1bdmtNeGuNT2uEl', 'c_comment': ' blithely dogged excuses haggle across the even, ironic deposits.'}\n",
      "{'c_custkey': 12226, 'c_name': 'Customer#000012226', 'c_acctbal': Decimal('1850.48'), 'c_phone': '19-265-644-3796', 'n_name': 'INDONESIA', 'c_address': '08fy8Pc0NmrqAiAYPZuOOD55dV3tbOmtJX4z6', 'c_comment': '. quickly bold theodolites grow quickly; requests along the deposits cajole furiously around the slyly s'}\n",
      "{'c_custkey': 3541, 'c_name': 'Customer#000003541', 'c_acctbal': Decimal('7052.19'), 'c_phone': '26-551-286-8801', 'n_name': 'MOZAMBIQUE', 'c_address': 'ye4dLVD7hS2cbIL956lC', 'c_comment': 'ular ideas wake bold, unusual deposits. fluffily sly accounts sleep carefully. accounts '}\n",
      "{'c_custkey': 11866, 'c_name': 'Customer#000011866', 'c_acctbal': Decimal('3380.37'), 'c_phone': '33-807-163-1247', 'n_name': 'UNITED KINGDOM', 'c_address': 'hdAdp5v,AYqoX24svKZw1UGEXmQ', 'c_comment': 'ep at the furiously final requests. accounts sleep blithely bold foxes? blithely ironic ideas u'}\n",
      "{'c_custkey': 9986, 'c_name': 'Customer#000009986', 'c_acctbal': Decimal('-196.72'), 'c_phone': '26-349-647-1183', 'n_name': 'MOZAMBIQUE', 'c_address': 'yKAZSS,DElfPsdFKAqaNz0I', 'c_comment': 'quickly furiously regular requests. regular'}\n",
      "{'c_custkey': 13154, 'c_name': 'Customer#000013154', 'c_acctbal': Decimal('5734.33'), 'c_phone': '21-234-792-9905', 'n_name': 'IRAQ', 'c_address': 'TiGW5iXEBVwmpgYbGAMsKg', 'c_comment': '. express, final accounts nod fluffily after the clo'}\n"
     ]
    }
   ],
   "source": [
    "# Cursed data shuffling to reidentify what row goes where, what column goes where, and what the labels should be on everything\n",
    "colidxes = {}\n",
    "for col in OUTPUT_COLS:\n",
    "    colidxes[col] = templatedf.get_column_index(col)\n",
    "rowidxes = {}\n",
    "for row in templatedf.select(INDEX_COLS).iter_rows(named=True):\n",
    "    rowidxes[tuple(row.values())] = allgroups.with_row_index().filter(\n",
    "        pl.col(k).eq(v)\n",
    "        for k, v in row.items()\n",
    "    ).select(\"index\").item()\n",
    "    print(row)\n",
    "\n",
    "allinfo = [\n",
    "    {\"colname\": adentry['col'],\n",
    "    \"rowid\": tuple(adentry['row'].values()),\n",
    "    \"value\": adentry['value'][0],\n",
    "    \"colidx\": colidxes[adentry['col']],\n",
    "    \"rowidx\": rowidxes[tuple(adentry['row'].values())]}\n",
    "    for adidx, adentry in alldata.items()\n",
    "]\n",
    "\n",
    "colnames = {}\n",
    "rownames = {}\n",
    "for entry in allinfo:\n",
    "    colnames[entry['colidx']] = entry['colname']\n",
    "    rownames[entry['rowidx']] = entry['rowid']"
   ]
  },
  {
   "cell_type": "markdown",
   "id": "61e58b37",
   "metadata": {
    "papermill": {
     "duration": 0.001227,
     "end_time": "2025-05-01T09:06:14.963634",
     "exception": false,
     "start_time": "2025-05-01T09:06:14.962407",
     "status": "completed"
    },
    "tags": []
   },
   "source": [
    "Naive reconstruction"
   ]
  },
  {
   "cell_type": "code",
   "execution_count": 10,
   "id": "c6da70b0",
   "metadata": {
    "execution": {
     "iopub.execute_input": "2025-05-01T09:06:14.966478Z",
     "iopub.status.busy": "2025-05-01T09:06:14.966378Z",
     "iopub.status.idle": "2025-05-01T09:06:15.006897Z",
     "shell.execute_reply": "2025-05-01T09:06:15.006245Z"
    },
    "papermill": {
     "duration": 0.044269,
     "end_time": "2025-05-01T09:06:15.009107",
     "exception": false,
     "start_time": "2025-05-01T09:06:14.964838",
     "status": "completed"
    },
    "tags": []
   },
   "outputs": [
    {
     "name": "stdout",
     "output_type": "stream",
     "text": [
      "['c_custkey', 'c_name', 'c_acctbal', 'c_phone', 'n_name', 'c_address', 'c_comment', 'revenue']\n",
      "[8242, 'Customer#000008242', Decimal('6322.09'), '15-792-676-1184', 'ETHIOPIA', 'cYDWDiJt06B8CYzXX2L8x2hn1VFG', ' regular theodolites affix. carefully ironic packages cajole deposits; slyly ironic packages wake quickly. regular,', 622786.7297]\n",
      "[2455, 'Customer#000002455', Decimal('2070.99'), '17-946-225-9977', 'GERMANY', 'a5DZ199yfAcFhfi2uwBE PKo,Z', 'pinto beans alongside of the furiously ironic asymptotes are quickly even platelets: express', 481592.4053]\n",
      "[1966, 'Customer#000001966', Decimal('1937.72'), '10-973-269-8886', 'ALGERIA', 'IbwZr7j QVifqf9WizOIWx,UXV9CqxUyrwj', 'odolites across the unusual accounts hang carefully furiously bold excuses. regular pi', 444059.0382]\n",
      "[1565, 'Customer#000001565', Decimal('1820.03'), '12-402-178-2007', 'BRAZIL', 'n4acVpG0Deyj5aIFAfSNg Iu9cUagwN3OsRbKC 4', 'deposits; unusual, bold deposits around the f', 412506.00619999995]\n",
      "[14398, 'Customer#000014398', Decimal('-602.24'), '34-814-111-5424', 'UNITED STATES', 'l49oKjbjQHz6YZwjo5wPihM lyYO6G', 'es haggle fluffily blithely fluffy requests; slyly express req', 408575.36]\n",
      "[1465, 'Customer#000001465', Decimal('9365.93'), '18-807-487-1074', 'INDIA', 'zn9Q7pT6KlQp3T5mUO533aq,', 'ress ideas cajole. slyly unusual theodolites cajole thin foxes. account', 405055.34569999966]\n",
      "[961, 'Customer#000000961', Decimal('6963.68'), '22-989-463-6089', 'JAPAN', 'W0SZ2oflx9aWTggtwSk3OEIXsubXTbGbD', 'use furiously across the final deposits. quickly ', 401198.17369999987]\n",
      "[11644, 'Customer#000011644', Decimal('6240.31'), '24-940-540-7881', 'KENYA', '92wS4ujiYaL1Sh ,MK', ' sleep across the slyly silent dependencies. quickly unusual packages along the express instructions slee', 392060.30350000015]\n",
      "[2224, 'Customer#000002224', Decimal('2521.46'), '23-623-108-3568', 'JORDAN', 'wVSGOyjAD6DmJsbaYUg OqJzjdK,Na4l50mTYw', 'st the final instructions. fluffily final deposits wake blithely. careful notornis mold slyly slyly express', 385706.13859999995]\n",
      "[2344, 'Customer#000002344', Decimal('5597.22'), '25-593-745-7663', 'MOROCCO', 'w2Yuiq7sKZ', '. bold, regular somas nag furio', 379812.05069999996]\n",
      "[7528, 'Customer#000007528', Decimal('6890.19'), '31-775-470-3974', 'VIETNAM', 'A5LQ4u19C,NKyN,lR', 'notornis. slyly ironic courts sleep furiously; blithely express waters x-ray slyly. even ideas cajole.', 378970.8570000001]\n",
      "[10384, 'Customer#000010384', Decimal('3891.50'), '34-518-689-5506', 'UNITED STATES', 'g5vN4 Rr0BdUoiXV3q71XUUc0ZWtVXLjMbubwV1', 'ording to the furiously silent packages. slyly eve', 376727.9768000001]\n",
      "[14773, 'Customer#000014773', Decimal('3919.00'), '11-572-535-3069', 'ARGENTINA', 'PwIugvp42MN34hmtL,0r67eCyF,EFE', 'quickly bold ideas across the quick', 371627.5721]\n",
      "[8023, 'Customer#000008023', Decimal('9817.23'), '32-510-963-4196', 'RUSSIA', 'LGkNJyILlx', 'xcuses sleep furiously regular deposits. carefully bold requests dazzle carefully blith', 362841.3557]\n",
      "[181, 'Customer#000000181', Decimal('3929.96'), '19-653-305-8440', 'INDONESIA', '3dwI4Or4 9H1w8v,cuiMwpA', 'ans unwind slyly against the dinos. ', 361981.8953999998]\n",
      "[2614, 'Customer#000002614', Decimal('663.38'), '29-740-430-9216', 'ROMANIA', 'b6u0xJUEv2tCRP6GZNNxyjEEyOc9uBjS22RKgb', 'efully pending foxes boost platelets. even, enticing', 354357.0889]\n",
      "[12499, 'Customer#000012499', Decimal('-104.59'), '26-607-342-9289', 'MOZAMBIQUE', '00duMvAXCN3', 'ar deposits cajole slyly after the regular', 353116.6147999999]\n",
      "[5987, 'Customer#000005987', Decimal('-259.21'), '12-181-374-9390', 'BRAZIL', 'GY8EJU6YLQ2hu,a4Z', 'ronic platelets. quickly express requests affix furiously carefully regular ideas. slyly silent', 352523.8773]\n",
      "[11177, 'Customer#000011177', Decimal('135.99'), '13-151-607-8040', 'CANADA', ',w0jX6XnHzTkC2qRRtA hIL3GHz0HD', 'eodolites cajole. furiously special ', 345670.90940000006]\n",
      "[9289, 'Customer#000009289', Decimal('6465.01'), '31-399-988-2761', 'VIETNAM', 'yOS3pss0P75dHwF Rx', 'kly against the blithely ironic deposits. final orbits nag', 342202.90070000006]\n",
      "[12106, 'Customer#000012106', Decimal('5342.11'), '34-905-346-4472', 'UNITED STATES', 'wyJXywcExUxt', 'blithely blithely final attainments? carefully special pinto beans around the quickly even asymptote', 479414.2133]\n",
      "[13984, 'Customer#000013984', Decimal('3482.28'), '20-981-264-2952', 'IRAN', 'B13vxRBojwvP3', 'egular, ironic accounts integrate sly', 446316.5104]\n",
      "[12595, 'Customer#000012595', Decimal('-6.92'), '18-186-132-3352', 'INDIA', 'gEMQ3WO90vSdAgxLFrt9FRS', ' slyly dogged excuses. blithely blithe packages cajole', 401402.2391]\n",
      "[9151, 'Customer#000009151', Decimal('5691.95'), '21-834-147-4906', 'IRAQ', 'UKiN9OQupR,m5NtvSntbI8JBeo', 'the deposits. pending, ironic foxes haggle along the regular, bold req', 396562.02949999954]\n",
      "[14819, 'Customer#000014819', Decimal('7308.39'), '16-769-398-7926', 'FRANCE', 'wS8yiQtE63FfoO6RKUzuVf6iBTmXBq16u', 'ending asymptotes use fluffily quickly bold instructions. slyly bold dependencies sleep carefully pending a', 396271.1036]\n",
      "[13478, 'Customer#000013478', Decimal('-778.11'), '24-983-202-8240', 'KENYA', 'S5izwjM1 hCoUccO2JMepYwNyBSqI,ay', ' requests boost quickly according to the express sheaves. blithely unusual packages sleep', 395513.13580000005]\n",
      "[4768, 'Customer#000004768', Decimal('4999.69'), '19-863-984-6918', 'INDONESIA', 'HByt3eSvF2,2ulBm0A', 'efully regular packages affix across the slyly unusual requests. qui', 371998.0362]\n",
      "[5677, 'Customer#000005677', Decimal('9260.91'), '31-915-164-1123', 'VIETNAM', '0YLT3hmA,K8LYDyXbFLOLzBmKpOSCo3wrK', 'lar accounts. express packages ', 369220.20320000005]\n",
      "[12016, 'Customer#000012016', Decimal('5540.68'), '28-156-121-7280', 'CHINA', 'ICKxmXbBwSs', 'haggle. foxes affix furiously. fluffily express ', 357744.7863]\n",
      "[2104, 'Customer#000002104', Decimal('5533.39'), '34-786-781-9766', 'UNITED STATES', 'Wc1lasNFJlX', ' furiously bold theodolites use sl', 347738.17620000005]\n",
      "[1894, 'Customer#000001894', Decimal('5415.55'), '22-832-993-2803', 'JAPAN', '40gidHQ0DOJvkPg', 'nusual ideas. regular deposits about the furiously bold theodolites haggle among the closely ironic w', 342713.516]\n",
      "[7714, 'Customer#000007714', Decimal('9799.98'), '20-922-418-6024', 'IRAN', '9DDikq08GEE4B3X', 'even accounts should cajole. regular, regular', 557400.3053]\n",
      "[8501, 'Customer#000008501', Decimal('6906.70'), '11-317-552-5840', 'ARGENTINA', 'UTUQLX cQrF1UUJPsz', ' packages. pending Tiresias after the regularly express forges haggle fina', 412797.5099999999]\n",
      "[6632, 'Customer#000006632', Decimal('9324.80'), '12-979-552-7277', 'BRAZIL', '5lnm0Lkw8MmMHwLfK', 'es boost carefully packages; ironic, even requests integrate across the bold deposits. deposits detect qui', 347279.6660000001]\n",
      "[8530, 'Customer#000008530', Decimal('9734.95'), '25-736-932-5850', 'MOROCCO', 'leatyNRWCnfTMnTNuDGHsWJjRuAX', ' the carefully pending packages. carefully ', 457855.9467000002]\n",
      "[14299, 'Customer#000014299', Decimal('6595.97'), '32-156-618-1224', 'RUSSIA', 'UFlOs8tQ,IfZPJm57', 'slyly. ironic, bold deposits sleep blithely ironic, pending attainm', 400968.37510000006]\n",
      "[11011, 'Customer#000011011', Decimal('3204.07'), '13-454-800-6046', 'CANADA', 'Lcqu0eiaNMF0TFGvN', 's. final accounts integrate regul', 342392.62599999993]\n",
      "[14002, 'Customer#000014002', Decimal('6545.37'), '27-776-171-5946', 'PERU', 'cGp9zJCvQUHnU2fG2XC1QL', 's. carefully regular instructions are above the regular, bold ', 338900.74420000013]\n",
      "[10939, 'Customer#000010939', Decimal('1435.11'), '29-811-297-6456', 'ROMANIA', 't9,Ot8vec,PNjL', 'oss the pending, final packages. ironic requests sleep. special ideas believe furi', 336777.7645]\n",
      "[2905, 'Customer#000002905', Decimal('8555.09'), '22-729-526-1554', 'JAPAN', 'Kcxgd9EpZHLm40S58PSNJ4Upvtc7r8gDpZ', 'ual pinto beans nag above the carefully regular pinto beans. special, stealthy accounts breach s', 334557.96]\n",
      "[11032, 'Customer#000011032', Decimal('8496.93'), '33-102-772-3533', 'UNITED KINGDOM', '5igjoUgXoDUZVUIectL5lXO1T3AGKza0ft', 'uests. ironic accounts after the fluffily fi', 512500.96410000004]\n",
      "[11026, 'Customer#000011026', Decimal('7738.76'), '10-184-163-4632', 'ALGERIA', '4C iGzChcqnhGBdeeu', 'eposits cajole according to the furiously bold instructions. regular, regular dependencies wake carefully eve', 417913.41420000023]\n",
      "[623, 'Customer#000000623', Decimal('7887.60'), '19-113-202-7085', 'INDONESIA', 'k3IlPSC4FKB13 hc6omhVs1ibvqeWEV', 'se around the ideas. accounts cajole blithely slyly ironic requests. b', 399883.42569999996]\n",
      "[11602, 'Customer#000011602', Decimal('7760.77'), '22-652-615-7931', 'JAPAN', '6BR,FbdhqBwirsXwdp2dzHFFK7', 'xes. blithely pending theodolites cajole outside the quickly final notornis. unusual, bus', 394418.1162]\n",
      "[9283, 'Customer#000009283', Decimal('9609.40'), '12-403-990-9346', 'BRAZIL', 'cgdgkSDm8H3u5M5YPnjtBZlmao2EAMF', 'l grouches doubt carefully even dependencies. express, enticing accounts cajole fur', 350466.37109999976]\n",
      "[9011, 'Customer#000009011', Decimal('7665.61'), '34-330-685-5116', 'UNITED STATES', 'U86U7e4bWyv34nxl6LEKzmf', 'l excuses was epitaphs. carefully final foxes accordin', 341600.69339999976]\n",
      "[2426, 'Customer#000002426', Decimal('2708.47'), '25-410-418-8923', 'MOROCCO', 'MpZVRy3ypUubfZvbTf4h1SF', 'y ironic requests. even instructions cajole express instructions. bl', 341024.99379999994]\n",
      "[14872, 'Customer#000014872', Decimal('155.08'), '18-766-990-8843', 'INDIA', 'gfq4d dr61cG6kZasU h9FhDLz8lQ', ' final pinto beans sleep furiously slyly thin ', 340677.1551]\n",
      "[5875, 'Customer#000005875', Decimal('4907.38'), '15-605-672-5541', 'ETHIOPIA', 'aY9kl8Xt2wBqp4DF6qJqJUc9hw5cr72', 'eep blithely bold ideas. blithely regular foxes snooze fluffily furiously final orbits. idle', 340301.44949999976]\n",
      "[2803, 'Customer#000002803', Decimal('6519.74'), '18-125-144-9038', 'INDIA', '8qBWvHKpzs', 'ly final requests against the ironic accounts use quickly according to the ironic, silent dependencies. d', 339790.9498]\n",
      "[11845, 'Customer#000011845', Decimal('1708.65'), '25-315-271-2552', 'MOROCCO', 'nIIu5 1AQ4SuY', 'riously final foxes. final requests', 337445.9918]\n",
      "[14099, 'Customer#000014099', Decimal('7982.61'), '23-990-322-1053', 'JORDAN', '1RdMlhI FK9I', 'fully across the accounts. silen', 334432.734]\n",
      "[2230, 'Customer#000002230', Decimal('3103.00'), '24-253-371-2838', 'KENYA', 'F2pEKm5aKutj21NAe64JmTx,QubnqZDR8YX', 'ges sleep even, regular instructions. slyly final requests are sl', 325786.6936]\n",
      "[14749, 'Customer#000014749', Decimal('5395.12'), '25-579-179-6262', 'MOROCCO', 'ZNih4R39vpceh41ORB6', 'y pending accounts cajole among the quickly special accounts? special,', 333093.3054]\n",
      "[1337, 'Customer#000001337', Decimal('7882.44'), '32-528-594-1931', 'RUSSIA', 'roqehNY3NvZpoKjAkeN,q3', 'ideas. silently silent accounts cajole carefully among the ', 332559.7331]\n",
      "[4312, 'Customer#000004312', Decimal('8928.80'), '17-953-302-2406', 'GERMANY', 'XXoJkouIqyyV6skYzSrxMH3stgPxfOTZx', ' furiously ironic accounts nag blithely about the regular, final theodolites.', 320202.1483]\n",
      "[3304, 'Customer#000003304', Decimal('6671.05'), '25-461-139-2481', 'MOROCCO', 'K8IFUX iOYFaBjDiJUbNWvFzjoFCIV', 'dencies. slyly ironic packages are slyly final packages. ', 325547.5422]\n",
      "[5452, 'Customer#000005452', Decimal('2561.25'), '20-194-232-6591', 'IRAN', 'rxGmVuPp,pVF lpkp0hLxUVZ1bdmtNeGuNT2uEl', ' blithely dogged excuses haggle across the even, ironic deposits.', 330792.39920000004]\n",
      "[12226, 'Customer#000012226', Decimal('1850.48'), '19-265-644-3796', 'INDONESIA', '08fy8Pc0NmrqAiAYPZuOOD55dV3tbOmtJX4z6', '. quickly bold theodolites grow quickly; requests along the deposits cajole furiously around the slyly s', 323369.1017]\n",
      "[3541, 'Customer#000003541', Decimal('7052.19'), '26-551-286-8801', 'MOZAMBIQUE', 'ye4dLVD7hS2cbIL956lC', 'ular ideas wake bold, unusual deposits. fluffily sly accounts sleep carefully. accounts ', 319976.9349]\n",
      "[11866, 'Customer#000011866', Decimal('3380.37'), '33-807-163-1247', 'UNITED KINGDOM', 'hdAdp5v,AYqoX24svKZw1UGEXmQ', 'ep at the furiously final requests. accounts sleep blithely bold foxes? blithely ironic ideas u', 316999.3436]\n",
      "[9986, 'Customer#000009986', Decimal('-196.72'), '26-349-647-1183', 'MOZAMBIQUE', 'yKAZSS,DElfPsdFKAqaNz0I', 'quickly furiously regular requests. regular', 316228.2307]\n",
      "[13154, 'Customer#000013154', Decimal('5734.33'), '21-234-792-9905', 'IRAQ', 'TiGW5iXEBVwmpgYbGAMsKg', '. express, final accounts nod fluffily after the clo', 314377.3724]\n"
     ]
    }
   ],
   "source": [
    "# Naive reconstruction based on the indices of the keys in the templatedf\n",
    "allcols = INDEX_COLS + OUTPUT_COLS\n",
    "allrows = allgroups.select(INDEX_COLS).to_numpy().tolist()\n",
    "\n",
    "allinfo2 = {\n",
    "    (rowidxes[tuple(adentry['row'].values())], colidxes[adentry['col']]): adentry['value'][0]\n",
    "    for adidx, adentry in alldata.items()\n",
    "}\n",
    "\n",
    "df2 = []\n",
    "print(allcols)\n",
    "for row in allrows:\n",
    "    print(row + [allinfo2.get((rowidxes[tuple(row)], colidxes[col]), None) for col in OUTPUT_COLS])\n",
    "    df2.append(row + [allinfo2.get((rowidxes[tuple(row)], colidxes[col]), None) for col in OUTPUT_COLS])"
   ]
  },
  {
   "cell_type": "code",
   "execution_count": 11,
   "id": "396c2efa",
   "metadata": {
    "execution": {
     "iopub.execute_input": "2025-05-01T09:06:15.018932Z",
     "iopub.status.busy": "2025-05-01T09:06:15.018528Z",
     "iopub.status.idle": "2025-05-01T09:06:15.030989Z",
     "shell.execute_reply": "2025-05-01T09:06:15.030335Z"
    },
    "papermill": {
     "duration": 0.017102,
     "end_time": "2025-05-01T09:06:15.032974",
     "exception": false,
     "start_time": "2025-05-01T09:06:15.015872",
     "status": "completed"
    },
    "tags": []
   },
   "outputs": [
    {
     "data": {
      "text/html": [
       "<div><style>\n",
       ".dataframe > thead > tr,\n",
       ".dataframe > tbody > tr {\n",
       "  text-align: right;\n",
       "  white-space: pre-wrap;\n",
       "}\n",
       "</style>\n",
       "<small>shape: (63, 8)</small><table border=\"1\" class=\"dataframe\"><thead><tr><th>c_custkey</th><th>c_name</th><th>c_acctbal</th><th>c_phone</th><th>n_name</th><th>c_address</th><th>c_comment</th><th>revenue</th></tr><tr><td>i64</td><td>str</td><td>decimal[15,2]</td><td>str</td><td>str</td><td>str</td><td>str</td><td>decimal[38,4]</td></tr></thead><tbody><tr><td>8242</td><td>&quot;Customer#000008242&quot;</td><td>6322.09</td><td>&quot;15-792-676-1184&quot;</td><td>&quot;ETHIOPIA&quot;</td><td>&quot;cYDWDiJt06B8CYzXX2L8x2hn1VFG&quot;</td><td>&quot; regular theodolites affix. ca…</td><td>622786.7297</td></tr><tr><td>2455</td><td>&quot;Customer#000002455&quot;</td><td>2070.99</td><td>&quot;17-946-225-9977&quot;</td><td>&quot;GERMANY&quot;</td><td>&quot;a5DZ199yfAcFhfi2uwBE PKo,Z&quot;</td><td>&quot;pinto beans alongside of the f…</td><td>481592.4053</td></tr><tr><td>1966</td><td>&quot;Customer#000001966&quot;</td><td>1937.72</td><td>&quot;10-973-269-8886&quot;</td><td>&quot;ALGERIA&quot;</td><td>&quot;IbwZr7j QVifqf9WizOIWx,UXV9Cqx…</td><td>&quot;odolites across the unusual ac…</td><td>444059.0382</td></tr><tr><td>1565</td><td>&quot;Customer#000001565&quot;</td><td>1820.03</td><td>&quot;12-402-178-2007&quot;</td><td>&quot;BRAZIL&quot;</td><td>&quot;n4acVpG0Deyj5aIFAfSNg Iu9cUagw…</td><td>&quot;deposits; unusual, bold deposi…</td><td>412506.0061</td></tr><tr><td>14398</td><td>&quot;Customer#000014398&quot;</td><td>-602.24</td><td>&quot;34-814-111-5424&quot;</td><td>&quot;UNITED STATES&quot;</td><td>&quot;l49oKjbjQHz6YZwjo5wPihM lyYO6G&quot;</td><td>&quot;es haggle fluffily blithely fl…</td><td>408575.3600</td></tr><tr><td>&hellip;</td><td>&hellip;</td><td>&hellip;</td><td>&hellip;</td><td>&hellip;</td><td>&hellip;</td><td>&hellip;</td><td>&hellip;</td></tr><tr><td>12226</td><td>&quot;Customer#000012226&quot;</td><td>1850.48</td><td>&quot;19-265-644-3796&quot;</td><td>&quot;INDONESIA&quot;</td><td>&quot;08fy8Pc0NmrqAiAYPZuOOD55dV3tbO…</td><td>&quot;. quickly bold theodolites gro…</td><td>323369.1017</td></tr><tr><td>3541</td><td>&quot;Customer#000003541&quot;</td><td>7052.19</td><td>&quot;26-551-286-8801&quot;</td><td>&quot;MOZAMBIQUE&quot;</td><td>&quot;ye4dLVD7hS2cbIL956lC&quot;</td><td>&quot;ular ideas wake bold, unusual …</td><td>319976.9349</td></tr><tr><td>11866</td><td>&quot;Customer#000011866&quot;</td><td>3380.37</td><td>&quot;33-807-163-1247&quot;</td><td>&quot;UNITED KINGDOM&quot;</td><td>&quot;hdAdp5v,AYqoX24svKZw1UGEXmQ&quot;</td><td>&quot;ep at the furiously final requ…</td><td>316999.3436</td></tr><tr><td>9986</td><td>&quot;Customer#000009986&quot;</td><td>-196.72</td><td>&quot;26-349-647-1183&quot;</td><td>&quot;MOZAMBIQUE&quot;</td><td>&quot;yKAZSS,DElfPsdFKAqaNz0I&quot;</td><td>&quot;quickly furiously regular requ…</td><td>316228.2307</td></tr><tr><td>13154</td><td>&quot;Customer#000013154&quot;</td><td>5734.33</td><td>&quot;21-234-792-9905&quot;</td><td>&quot;IRAQ&quot;</td><td>&quot;TiGW5iXEBVwmpgYbGAMsKg&quot;</td><td>&quot;. express, final accounts nod …</td><td>314377.3724</td></tr></tbody></table></div>"
      ],
      "text/plain": [
       "shape: (63, 8)\n",
       "┌───────────┬────────────┬────────────┬────────────┬───────────┬───────────┬───────────┬───────────┐\n",
       "│ c_custkey ┆ c_name     ┆ c_acctbal  ┆ c_phone    ┆ n_name    ┆ c_address ┆ c_comment ┆ revenue   │\n",
       "│ ---       ┆ ---        ┆ ---        ┆ ---        ┆ ---       ┆ ---       ┆ ---       ┆ ---       │\n",
       "│ i64       ┆ str        ┆ decimal[15 ┆ str        ┆ str       ┆ str       ┆ str       ┆ decimal[3 │\n",
       "│           ┆            ┆ ,2]        ┆            ┆           ┆           ┆           ┆ 8,4]      │\n",
       "╞═══════════╪════════════╪════════════╪════════════╪═══════════╪═══════════╪═══════════╪═══════════╡\n",
       "│ 8242      ┆ Customer#0 ┆ 6322.09    ┆ 15-792-676 ┆ ETHIOPIA  ┆ cYDWDiJt0 ┆ regular   ┆ 622786.72 │\n",
       "│           ┆ 00008242   ┆            ┆ -1184      ┆           ┆ 6B8CYzXX2 ┆ theodolit ┆ 97        │\n",
       "│           ┆            ┆            ┆            ┆           ┆ L8x2hn1VF ┆ es affix. ┆           │\n",
       "│           ┆            ┆            ┆            ┆           ┆ G         ┆ ca…       ┆           │\n",
       "│ 2455      ┆ Customer#0 ┆ 2070.99    ┆ 17-946-225 ┆ GERMANY   ┆ a5DZ199yf ┆ pinto     ┆ 481592.40 │\n",
       "│           ┆ 00002455   ┆            ┆ -9977      ┆           ┆ AcFhfi2uw ┆ beans     ┆ 53        │\n",
       "│           ┆            ┆            ┆            ┆           ┆ BE PKo,Z  ┆ alongside ┆           │\n",
       "│           ┆            ┆            ┆            ┆           ┆           ┆ of the f… ┆           │\n",
       "│ 1966      ┆ Customer#0 ┆ 1937.72    ┆ 10-973-269 ┆ ALGERIA   ┆ IbwZr7j   ┆ odolites  ┆ 444059.03 │\n",
       "│           ┆ 00001966   ┆            ┆ -8886      ┆           ┆ QVifqf9Wi ┆ across    ┆ 82        │\n",
       "│           ┆            ┆            ┆            ┆           ┆ zOIWx,UXV ┆ the       ┆           │\n",
       "│           ┆            ┆            ┆            ┆           ┆ 9Cqx…     ┆ unusual   ┆           │\n",
       "│           ┆            ┆            ┆            ┆           ┆           ┆ ac…       ┆           │\n",
       "│ 1565      ┆ Customer#0 ┆ 1820.03    ┆ 12-402-178 ┆ BRAZIL    ┆ n4acVpG0D ┆ deposits; ┆ 412506.00 │\n",
       "│           ┆ 00001565   ┆            ┆ -2007      ┆           ┆ eyj5aIFAf ┆ unusual,  ┆ 61        │\n",
       "│           ┆            ┆            ┆            ┆           ┆ SNg       ┆ bold      ┆           │\n",
       "│           ┆            ┆            ┆            ┆           ┆ Iu9cUagw… ┆ deposi…   ┆           │\n",
       "│ 14398     ┆ Customer#0 ┆ -602.24    ┆ 34-814-111 ┆ UNITED    ┆ l49oKjbjQ ┆ es haggle ┆ 408575.36 │\n",
       "│           ┆ 00014398   ┆            ┆ -5424      ┆ STATES    ┆ Hz6YZwjo5 ┆ fluffily  ┆ 00        │\n",
       "│           ┆            ┆            ┆            ┆           ┆ wPihM     ┆ blithely  ┆           │\n",
       "│           ┆            ┆            ┆            ┆           ┆ lyYO6G    ┆ fl…       ┆           │\n",
       "│ …         ┆ …          ┆ …          ┆ …          ┆ …         ┆ …         ┆ …         ┆ …         │\n",
       "│ 12226     ┆ Customer#0 ┆ 1850.48    ┆ 19-265-644 ┆ INDONESIA ┆ 08fy8Pc0N ┆ . quickly ┆ 323369.10 │\n",
       "│           ┆ 00012226   ┆            ┆ -3796      ┆           ┆ mrqAiAYPZ ┆ bold theo ┆ 17        │\n",
       "│           ┆            ┆            ┆            ┆           ┆ uOOD55dV3 ┆ dolites   ┆           │\n",
       "│           ┆            ┆            ┆            ┆           ┆ tbO…      ┆ gro…      ┆           │\n",
       "│ 3541      ┆ Customer#0 ┆ 7052.19    ┆ 26-551-286 ┆ MOZAMBIQU ┆ ye4dLVD7h ┆ ular      ┆ 319976.93 │\n",
       "│           ┆ 00003541   ┆            ┆ -8801      ┆ E         ┆ S2cbIL956 ┆ ideas     ┆ 49        │\n",
       "│           ┆            ┆            ┆            ┆           ┆ lC        ┆ wake      ┆           │\n",
       "│           ┆            ┆            ┆            ┆           ┆           ┆ bold,     ┆           │\n",
       "│           ┆            ┆            ┆            ┆           ┆           ┆ unusual … ┆           │\n",
       "│ 11866     ┆ Customer#0 ┆ 3380.37    ┆ 33-807-163 ┆ UNITED    ┆ hdAdp5v,A ┆ ep at the ┆ 316999.34 │\n",
       "│           ┆ 00011866   ┆            ┆ -1247      ┆ KINGDOM   ┆ YqoX24svK ┆ furiously ┆ 36        │\n",
       "│           ┆            ┆            ┆            ┆           ┆ Zw1UGEXmQ ┆ final     ┆           │\n",
       "│           ┆            ┆            ┆            ┆           ┆           ┆ requ…     ┆           │\n",
       "│ 9986      ┆ Customer#0 ┆ -196.72    ┆ 26-349-647 ┆ MOZAMBIQU ┆ yKAZSS,DE ┆ quickly   ┆ 316228.23 │\n",
       "│           ┆ 00009986   ┆            ┆ -1183      ┆ E         ┆ lfPsdFKAq ┆ furiously ┆ 07        │\n",
       "│           ┆            ┆            ┆            ┆           ┆ aNz0I     ┆ regular   ┆           │\n",
       "│           ┆            ┆            ┆            ┆           ┆           ┆ requ…     ┆           │\n",
       "│ 13154     ┆ Customer#0 ┆ 5734.33    ┆ 21-234-792 ┆ IRAQ      ┆ TiGW5iXEB ┆ .         ┆ 314377.37 │\n",
       "│           ┆ 00013154   ┆            ┆ -9905      ┆           ┆ VwmpgYbGA ┆ express,  ┆ 24        │\n",
       "│           ┆            ┆            ┆            ┆           ┆ MsKg      ┆ final     ┆           │\n",
       "│           ┆            ┆            ┆            ┆           ┆           ┆ accounts  ┆           │\n",
       "│           ┆            ┆            ┆            ┆           ┆           ┆ nod …     ┆           │\n",
       "└───────────┴────────────┴────────────┴────────────┴───────────┴───────────┴───────────┴───────────┘"
      ]
     },
     "execution_count": 11,
     "metadata": {},
     "output_type": "execute_result"
    }
   ],
   "source": [
    "pl.DataFrame(df2, schema=allcols, orient='row').cast(templatedf.schema)"
   ]
  },
  {
   "cell_type": "code",
   "execution_count": 12,
   "id": "22658efb",
   "metadata": {
    "execution": {
     "iopub.execute_input": "2025-05-01T09:06:15.041534Z",
     "iopub.status.busy": "2025-05-01T09:06:15.041181Z",
     "iopub.status.idle": "2025-05-01T09:06:15.052551Z",
     "shell.execute_reply": "2025-05-01T09:06:15.051885Z"
    },
    "papermill": {
     "duration": 0.017083,
     "end_time": "2025-05-01T09:06:15.054904",
     "exception": false,
     "start_time": "2025-05-01T09:06:15.037821",
     "status": "completed"
    },
    "tags": []
   },
   "outputs": [],
   "source": [
    "pl.DataFrame(df2, schema=allcols, orient='row').cast(templatedf.schema).write_csv(os.path.join(OUTPUT_DIR, 'output.csv'))"
   ]
  },
  {
   "cell_type": "code",
   "execution_count": 13,
   "id": "fbf29824",
   "metadata": {
    "execution": {
     "iopub.execute_input": "2025-05-01T09:06:15.064358Z",
     "iopub.status.busy": "2025-05-01T09:06:15.063071Z",
     "iopub.status.idle": "2025-05-01T09:06:15.069730Z",
     "shell.execute_reply": "2025-05-01T09:06:15.069144Z"
    },
    "papermill": {
     "duration": 0.010999,
     "end_time": "2025-05-01T09:06:15.071301",
     "exception": false,
     "start_time": "2025-05-01T09:06:15.060302",
     "status": "completed"
    },
    "tags": []
   },
   "outputs": [
    {
     "data": {
      "text/plain": [
       "'/Users/michael/projects/dpdb/pacdb/outputs/ap-duckdb-q10-customer-step3.zip'"
      ]
     },
     "execution_count": 13,
     "metadata": {},
     "output_type": "execute_result"
    }
   ],
   "source": [
    "# zip the OUTPUT_DIR\n",
    "shutil.make_archive(OUTPUT_DIR, 'zip', OUTPUT_DIR)"
   ]
  }
 ],
 "metadata": {
  "kernelspec": {
   "display_name": ".venv",
   "language": "python",
   "name": "python3"
  },
  "language_info": {
   "codemirror_mode": {
    "name": "ipython",
    "version": 3
   },
   "file_extension": ".py",
   "mimetype": "text/x-python",
   "name": "python",
   "nbconvert_exporter": "python",
   "pygments_lexer": "ipython3",
   "version": "3.11.7"
  },
  "papermill": {
   "default_parameters": {},
   "duration": 0.97622,
   "end_time": "2025-05-01T09:06:15.193501",
   "environment_variables": {},
   "exception": null,
   "input_path": "autopac-duckdb-step3.ipynb",
   "output_path": "./ap-duckdb-q10-customer-step3.ipynb",
   "parameters": {
    "EXPERIMENT": "ap-duckdb-q10-customer",
    "INDEX_COLS": [
     "c_custkey",
     "c_name",
     "c_acctbal",
     "c_phone",
     "n_name",
     "c_address",
     "c_comment"
    ],
    "INPUT_ZIP": "./outputs/ap-duckdb-q10-customer-step2.zip",
    "OUTPUT_COLS": [
     "revenue"
    ],
    "OUTPUT_DIR": "./outputs/ap-duckdb-q10-customer-step3",
    "templatedf_path": "./outputs/ap-duckdb-q10-customer-step1/template.pkl"
   },
   "start_time": "2025-05-01T09:06:14.217281",
   "version": "2.6.0"
  }
 },
 "nbformat": 4,
 "nbformat_minor": 5
}