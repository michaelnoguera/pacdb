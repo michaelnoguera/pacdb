{
 "cells": [
  {
   "cell_type": "markdown",
   "id": "2f614600",
   "metadata": {
    "papermill": {
     "duration": 0.002871,
     "end_time": "2025-04-25T04:57:48.369573",
     "exception": false,
     "start_time": "2025-04-25T04:57:48.366702",
     "status": "completed"
    },
    "tags": []
   },
   "source": [
    "## DuckDB Notebook\n",
    "\n",
    "This notebook generates a bunch of raw outputs, without applying PAC, to be consumed by a second stage."
   ]
  },
  {
   "cell_type": "markdown",
   "id": "0a867b0f",
   "metadata": {
    "papermill": {
     "duration": 0.001779,
     "end_time": "2025-04-25T04:57:48.373776",
     "exception": false,
     "start_time": "2025-04-25T04:57:48.371997",
     "status": "completed"
    },
    "tags": []
   },
   "source": [
    "```\n",
    " group by              output cols                        \n",
    " key cols ┌────────┬────────┬────────┬────────┐           \n",
    "        │ │   A    │   B    │   C    │   D    │           \n",
    "      ┌─▼─┼────────┼────────┼────────┼────────┤           \n",
    "      │ 1 │   2    │        │        │        │           \n",
    "      ├───┼───|────┼────────┼────────┼────────┤           \n",
    "      │ 2 │   │    │        │        │        │           \n",
    "      ├───┼───┼────┼────────┼────────┼────────┤           \n",
    "      │ 3 │   │    │        │        │        │           \n",
    "      └───┴───┼────┴────────┴────────┴────────┘           \n",
    "              ▼                 A_1.json                  \n",
    "       Sample 0:   A1=2        ┌─────────────────────────┐\n",
    "       Sample 1:   A1=4  ───▶  │{                        │\n",
    "             ...               │    col: A               │\n",
    "       Sample 999: A1=3        │    row: 1               │\n",
    "                               │    value: [2, 4, ... 3] │\n",
    "                               │}                        │\n",
    "                               └─────────────────────────┘\n",
    "```"
   ]
  },
  {
   "cell_type": "code",
   "execution_count": 1,
   "id": "67ef05da",
   "metadata": {
    "execution": {
     "iopub.execute_input": "2025-04-25T04:57:48.377757Z",
     "iopub.status.busy": "2025-04-25T04:57:48.377593Z",
     "iopub.status.idle": "2025-04-25T04:57:48.442007Z",
     "shell.execute_reply": "2025-04-25T04:57:48.441738Z"
    },
    "papermill": {
     "duration": 0.067524,
     "end_time": "2025-04-25T04:57:48.442880",
     "exception": false,
     "start_time": "2025-04-25T04:57:48.375356",
     "status": "completed"
    },
    "tags": []
   },
   "outputs": [],
   "source": [
    "#!/usr/bin/env python\n",
    "# coding: utf-8\n",
    "\n",
    "import os\n",
    "import pickle\n",
    "import shutil\n",
    "\n",
    "import duckdb\n",
    "import polars as pl"
   ]
  },
  {
   "cell_type": "code",
   "execution_count": 2,
   "id": "207a7dcb",
   "metadata": {
    "execution": {
     "iopub.execute_input": "2025-04-25T04:57:48.445994Z",
     "iopub.status.busy": "2025-04-25T04:57:48.445886Z",
     "iopub.status.idle": "2025-04-25T04:57:48.448327Z",
     "shell.execute_reply": "2025-04-25T04:57:48.448113Z"
    },
    "papermill": {
     "duration": 0.004643,
     "end_time": "2025-04-25T04:57:48.448974",
     "exception": false,
     "start_time": "2025-04-25T04:57:48.444331",
     "status": "completed"
    },
    "tags": [
     "parameters"
    ]
   },
   "outputs": [],
   "source": [
    "EXPERIMENT = \"pac-duckdb-q1\"\n",
    "OUTPUT_DIR = f\"./outputs/{EXPERIMENT}-step1\"\n",
    "SAMPLES = 1024\n",
    "\n",
    "SAMPLE_STEP = f\"\"\"\n",
    "DROP TABLE IF EXISTS random_samples;\n",
    "\n",
    "CREATE TABLE random_samples AS\n",
    "WITH sample_numbers AS MATERIALIZED (\n",
    "    SELECT range AS sample_id FROM range({SAMPLES//2})\n",
    "), random_values AS MATERIALIZED (\n",
    "    SELECT \n",
    "        sample_numbers.sample_id,\n",
    "        customer.rowid AS row_id,\n",
    "        (RANDOM() > 0.5)::BOOLEAN AS random_binary\n",
    "    FROM sample_numbers\n",
    "    JOIN customer ON TRUE  -- Cross join to duplicate rows for each sample\n",
    ")\n",
    "SELECT\n",
    "    sample_id,\n",
    "    row_id,\n",
    "    random_binary\n",
    "FROM random_values\n",
    "UNION ALL\n",
    "SELECT -- select the complementary samples too\n",
    "    ({SAMPLES//2}) + sample_id,\n",
    "    row_id,\n",
    "    NOT random_binary  -- Inverse the random_binary to get the complementary sample\n",
    "FROM random_values\n",
    "ORDER BY sample_id, row_id;\n",
    "\"\"\"\n",
    "\n",
    "PREPARE_STEP = \"\"\"\n",
    "DEALLOCATE PREPARE run_query;\n",
    "\n",
    "PREPARE run_query AS \n",
    "SELECT\n",
    "    l_returnflag,\n",
    "    l_linestatus,\n",
    "    2*sum(l_quantity) AS sum_qty,\n",
    "    2*sum(l_extendedprice) AS sum_base_price,\n",
    "    2*sum(l_extendedprice * (1 - l_discount)) AS sum_disc_price,\n",
    "    2*sum(l_extendedprice * (1 - l_discount) * (1 + l_tax)) AS sum_charge,\n",
    "    avg(l_quantity) AS avg_qty,\n",
    "    avg(l_extendedprice) AS avg_price,\n",
    "    avg(l_discount) AS avg_disc,\n",
    "    2*count(*) AS count_order\n",
    "FROM\n",
    "    lineitem\n",
    "JOIN orders ON lineitem.l_orderkey = orders.o_orderkey\n",
    "JOIN customer ON orders.o_custkey = customer.c_custkey\n",
    "JOIN random_samples AS rs\n",
    "    ON rs.row_id = customer.rowid\n",
    "WHERE\n",
    "    l_shipdate <= CAST('1998-09-02' AS date)\n",
    "    AND rs.random_binary = TRUE\n",
    "    AND rs.sample_id = $sample\n",
    "GROUP BY\n",
    "    l_returnflag,\n",
    "    l_linestatus\n",
    "ORDER BY\n",
    "    l_returnflag,\n",
    "    l_linestatus;\n",
    "\"\"\"\n",
    "\n",
    "INDEX_COLS = ['l_returnflag', 'l_linestatus']\n",
    "OUTPUT_COLS = ['sum_qty', 'sum_base_price', 'sum_disc_price', 'sum_charge', 'avg_qty', 'avg_price', 'avg_disc', 'count_order']"
   ]
  },
  {
   "cell_type": "code",
   "execution_count": 3,
   "id": "d6370913",
   "metadata": {
    "execution": {
     "iopub.execute_input": "2025-04-25T04:57:48.451730Z",
     "iopub.status.busy": "2025-04-25T04:57:48.451635Z",
     "iopub.status.idle": "2025-04-25T04:57:48.453663Z",
     "shell.execute_reply": "2025-04-25T04:57:48.453461Z"
    },
    "papermill": {
     "duration": 0.004076,
     "end_time": "2025-04-25T04:57:48.454252",
     "exception": false,
     "start_time": "2025-04-25T04:57:48.450176",
     "status": "completed"
    },
    "tags": [
     "injected-parameters"
    ]
   },
   "outputs": [],
   "source": [
    "# Parameters\n",
    "EXPERIMENT = \"ap-duckdb-q1\"\n",
    "OUTPUT_DIR = \"./outputs/ap-duckdb-q1-step1\"\n",
    "SAMPLES = 1024\n",
    "SAMPLE_STEP = \"DROP TABLE IF EXISTS random_samples;\\n\\nCREATE TABLE random_samples AS\\nWITH sample_numbers AS MATERIALIZED (\\n    SELECT range AS sample_id FROM range(512)\\n), random_values AS MATERIALIZED (\\n    SELECT \\n        sample_numbers.sample_id,\\n        customer.rowid AS row_id,\\n        (RANDOM() > 0.5)::BOOLEAN AS random_binary\\n    FROM sample_numbers\\n    JOIN customer ON TRUE  -- Cross join to duplicate rows for each sample\\n)\\nSELECT\\n    sample_id,\\n    row_id,\\n    random_binary\\nFROM random_values\\nUNION ALL\\nSELECT -- select the complementary samples too\\n    (512) + sample_id,\\n    row_id,\\n    NOT random_binary  -- Inverse the random_binary to get the complementary sample\\nFROM random_values\\nORDER BY sample_id, row_id;\"\n",
    "PREPARE_STEP = \"DEALLOCATE PREPARE run_query;\\n\\nPREPARE run_query AS \\nSELECT\\n    l_returnflag,\\n    l_linestatus,\\n    2*sum(l_quantity) AS sum_qty,\\n    2*sum(l_extendedprice) AS sum_base_price,\\n    2*sum(l_extendedprice * (1 - l_discount)) AS sum_disc_price,\\n    2*sum(l_extendedprice * (1 - l_discount) * (1 + l_tax)) AS sum_charge,\\n    avg(l_quantity) AS avg_qty,\\n    avg(l_extendedprice) AS avg_price,\\n    avg(l_discount) AS avg_disc,\\n    2*count(*) AS count_order\\nFROM\\n    lineitem\\nJOIN orders ON lineitem.l_orderkey = orders.o_orderkey\\nJOIN customer ON orders.o_custkey = customer.c_custkey\\nJOIN random_samples AS rs\\n    ON rs.row_id = customer.rowid\\nWHERE\\n    l_shipdate <= CAST('1998-09-02' AS date)\\n    AND rs.random_binary = TRUE\\n    AND rs.sample_id = $sample\\nGROUP BY\\n    l_returnflag,\\n    l_linestatus\\nORDER BY\\n    l_returnflag,\\n    l_linestatus;\"\n",
    "INDEX_COLS = [\"l_returnflag\", \"l_linestatus\"]\n",
    "OUTPUT_COLS = [\"sum_qty\", \"sum_base_price\", \"sum_disc_price\", \"sum_charge\", \"avg_qty\", \"avg_price\", \"avg_disc\", \"count_order\"]\n"
   ]
  },
  {
   "cell_type": "code",
   "execution_count": 4,
   "id": "b3492e85",
   "metadata": {
    "execution": {
     "iopub.execute_input": "2025-04-25T04:57:48.457146Z",
     "iopub.status.busy": "2025-04-25T04:57:48.457059Z",
     "iopub.status.idle": "2025-04-25T04:57:48.458925Z",
     "shell.execute_reply": "2025-04-25T04:57:48.458702Z"
    },
    "papermill": {
     "duration": 0.00397,
     "end_time": "2025-04-25T04:57:48.459528",
     "exception": false,
     "start_time": "2025-04-25T04:57:48.455558",
     "status": "completed"
    },
    "tags": []
   },
   "outputs": [],
   "source": [
    "if not os.path.exists(OUTPUT_DIR):\n",
    "    os.makedirs(OUTPUT_DIR)"
   ]
  },
  {
   "cell_type": "code",
   "execution_count": 5,
   "id": "bd582395",
   "metadata": {
    "execution": {
     "iopub.execute_input": "2025-04-25T04:57:48.462378Z",
     "iopub.status.busy": "2025-04-25T04:57:48.462285Z",
     "iopub.status.idle": "2025-04-25T04:57:48.773280Z",
     "shell.execute_reply": "2025-04-25T04:57:48.773010Z"
    },
    "papermill": {
     "duration": 0.313287,
     "end_time": "2025-04-25T04:57:48.774100",
     "exception": false,
     "start_time": "2025-04-25T04:57:48.460813",
     "status": "completed"
    },
    "tags": []
   },
   "outputs": [],
   "source": [
    "# duckdb load data/tpch/tpch.duckdb into the temporary in-memory database\n",
    "con = duckdb.connect(database=':memory:')\n",
    "tables = [\"customer\", \"lineitem\", \"nation\", \"orders\", \"part\", \"partsupp\", \"region\", \"supplier\"]\n",
    "for t in tables:\n",
    "    con.execute(f\"CREATE TABLE {t} AS SELECT * FROM 'data/tpch/{t}.parquet'\")"
   ]
  },
  {
   "cell_type": "code",
   "execution_count": 6,
   "id": "6fdf94b0",
   "metadata": {
    "execution": {
     "iopub.execute_input": "2025-04-25T04:57:48.777416Z",
     "iopub.status.busy": "2025-04-25T04:57:48.777313Z",
     "iopub.status.idle": "2025-04-25T04:57:49.938783Z",
     "shell.execute_reply": "2025-04-25T04:57:49.938293Z"
    },
    "papermill": {
     "duration": 1.164206,
     "end_time": "2025-04-25T04:57:49.939899",
     "exception": false,
     "start_time": "2025-04-25T04:57:48.775693",
     "status": "completed"
    },
    "tags": []
   },
   "outputs": [],
   "source": [
    "# Construct the table of random samples\n",
    "# to use, join it with the lineitem table (for specific sample # s) and filter to just the\n",
    "# rows where random_binary = 1.0\n",
    "# This will give us a 50% sample of the lineitem table for each sample # s\n",
    "\n",
    "assert SAMPLES % 2 == 0, \"SAMPLES must be even to create complementary samples.\"\n",
    "\n",
    "random_samples = con.execute(SAMPLE_STEP)"
   ]
  },
  {
   "cell_type": "markdown",
   "id": "44e9eb8d",
   "metadata": {
    "papermill": {
     "duration": 0.001346,
     "end_time": "2025-04-25T04:57:49.943142",
     "exception": false,
     "start_time": "2025-04-25T04:57:49.941796",
     "status": "completed"
    },
    "tags": []
   },
   "source": [
    "The randomness of what rows are chosen is saved to disk in `random_binary.json`. For each sample #, there is an array with one entry per row, where 1 means the row was chosen and 0 means it was not."
   ]
  },
  {
   "cell_type": "code",
   "execution_count": 7,
   "id": "f20c8eec",
   "metadata": {
    "execution": {
     "iopub.execute_input": "2025-04-25T04:57:49.946757Z",
     "iopub.status.busy": "2025-04-25T04:57:49.946616Z",
     "iopub.status.idle": "2025-04-25T04:57:50.295205Z",
     "shell.execute_reply": "2025-04-25T04:57:50.294908Z"
    },
    "papermill": {
     "duration": 0.351385,
     "end_time": "2025-04-25T04:57:50.296008",
     "exception": false,
     "start_time": "2025-04-25T04:57:49.944623",
     "status": "completed"
    },
    "tags": []
   },
   "outputs": [],
   "source": [
    "con.execute(\"\"\"\n",
    "SELECT sample_id, array_agg(random_binary::TINYINT) as random_binary\n",
    "FROM random_samples\n",
    "GROUP BY sample_id;\n",
    "\"\"\").pl().write_json(f\"{OUTPUT_DIR}/random_binary.json\")"
   ]
  },
  {
   "cell_type": "markdown",
   "id": "ff1b2daa",
   "metadata": {
    "papermill": {
     "duration": 0.001285,
     "end_time": "2025-04-25T04:57:50.298917",
     "exception": false,
     "start_time": "2025-04-25T04:57:50.297632",
     "status": "completed"
    },
    "tags": []
   },
   "source": [
    "Query is specified as a prepared statement. We will then execute it once per sample."
   ]
  },
  {
   "cell_type": "code",
   "execution_count": 8,
   "id": "dab3af6f",
   "metadata": {
    "execution": {
     "iopub.execute_input": "2025-04-25T04:57:50.301954Z",
     "iopub.status.busy": "2025-04-25T04:57:50.301735Z",
     "iopub.status.idle": "2025-04-25T04:57:50.374922Z",
     "shell.execute_reply": "2025-04-25T04:57:50.374650Z"
    },
    "papermill": {
     "duration": 0.075452,
     "end_time": "2025-04-25T04:57:50.375637",
     "exception": false,
     "start_time": "2025-04-25T04:57:50.300185",
     "status": "completed"
    },
    "tags": []
   },
   "outputs": [
    {
     "data": {
      "text/html": [
       "<div><style>\n",
       ".dataframe > thead > tr,\n",
       ".dataframe > tbody > tr {\n",
       "  text-align: right;\n",
       "  white-space: pre-wrap;\n",
       "}\n",
       "</style>\n",
       "<small>shape: (4, 10)</small><table border=\"1\" class=\"dataframe\"><thead><tr><th>l_returnflag</th><th>l_linestatus</th><th>sum_qty</th><th>sum_base_price</th><th>sum_disc_price</th><th>sum_charge</th><th>avg_qty</th><th>avg_price</th><th>avg_disc</th><th>count_order</th></tr><tr><td>str</td><td>str</td><td>decimal[38,2]</td><td>decimal[38,2]</td><td>decimal[38,4]</td><td>decimal[38,6]</td><td>f64</td><td>f64</td><td>f64</td><td>i64</td></tr></thead><tbody><tr><td>&quot;A&quot;</td><td>&quot;F&quot;</td><td>3842098.00</td><td>5416596135.12</td><td>5145229170.0860</td><td>5350995387.534556</td><td>25.55436</td><td>36026.578883</td><td>0.050143</td><td>150350</td></tr><tr><td>&quot;N&quot;</td><td>&quot;F&quot;</td><td>99744.00</td><td>140795832.56</td><td>133840744.6392</td><td>139282165.856890</td><td>25.760331</td><td>36362.560062</td><td>0.049726</td><td>3872</td></tr><tr><td>&quot;N&quot;</td><td>&quot;O&quot;</td><td>7634678.00</td><td>10761783537.96</td><td>10224255360.7336</td><td>10632709989.678114</td><td>25.562424</td><td>36032.596522</td><td>0.050008</td><td>298668</td></tr><tr><td>&quot;R&quot;</td><td>&quot;F&quot;</td><td>3861686.00</td><td>5443865388.16</td><td>5173591839.9416</td><td>5380758912.449874</td><td>25.529445</td><td>35989.167205</td><td>0.049779</td><td>151264</td></tr></tbody></table></div>"
      ],
      "text/plain": [
       "shape: (4, 10)\n",
       "┌───────────┬───────────┬───────────┬───────────┬───┬───────────┬───────────┬──────────┬───────────┐\n",
       "│ l_returnf ┆ l_linesta ┆ sum_qty   ┆ sum_base_ ┆ … ┆ avg_qty   ┆ avg_price ┆ avg_disc ┆ count_ord │\n",
       "│ lag       ┆ tus       ┆ ---       ┆ price     ┆   ┆ ---       ┆ ---       ┆ ---      ┆ er        │\n",
       "│ ---       ┆ ---       ┆ decimal[3 ┆ ---       ┆   ┆ f64       ┆ f64       ┆ f64      ┆ ---       │\n",
       "│ str       ┆ str       ┆ 8,2]      ┆ decimal[3 ┆   ┆           ┆           ┆          ┆ i64       │\n",
       "│           ┆           ┆           ┆ 8,2]      ┆   ┆           ┆           ┆          ┆           │\n",
       "╞═══════════╪═══════════╪═══════════╪═══════════╪═══╪═══════════╪═══════════╪══════════╪═══════════╡\n",
       "│ A         ┆ F         ┆ 3842098.0 ┆ 541659613 ┆ … ┆ 25.55436  ┆ 36026.578 ┆ 0.050143 ┆ 150350    │\n",
       "│           ┆           ┆ 0         ┆ 5.12      ┆   ┆           ┆ 883       ┆          ┆           │\n",
       "│ N         ┆ F         ┆ 99744.00  ┆ 140795832 ┆ … ┆ 25.760331 ┆ 36362.560 ┆ 0.049726 ┆ 3872      │\n",
       "│           ┆           ┆           ┆ .56       ┆   ┆           ┆ 062       ┆          ┆           │\n",
       "│ N         ┆ O         ┆ 7634678.0 ┆ 107617835 ┆ … ┆ 25.562424 ┆ 36032.596 ┆ 0.050008 ┆ 298668    │\n",
       "│           ┆           ┆ 0         ┆ 37.96     ┆   ┆           ┆ 522       ┆          ┆           │\n",
       "│ R         ┆ F         ┆ 3861686.0 ┆ 544386538 ┆ … ┆ 25.529445 ┆ 35989.167 ┆ 0.049779 ┆ 151264    │\n",
       "│           ┆           ┆ 0         ┆ 8.16      ┆   ┆           ┆ 205       ┆          ┆           │\n",
       "└───────────┴───────────┴───────────┴───────────┴───┴───────────┴───────────┴──────────┴───────────┘"
      ]
     },
     "execution_count": 8,
     "metadata": {},
     "output_type": "execute_result"
    }
   ],
   "source": [
    "# Query\n",
    "con.execute(PREPARE_STEP)\n",
    "\n",
    "# Run query to see output\n",
    "dfs0 = con.execute(f\"EXECUTE run_query(sample := {0});\").pl()\n",
    "\n",
    "# Save csv copies of the first 5 samples\n",
    "os.makedirs(f\"{OUTPUT_DIR}/csv\", exist_ok=True)\n",
    "for s in range(5):\n",
    "    con.execute(f\"EXECUTE run_query(sample := {s});\").pl().write_csv(f\"{OUTPUT_DIR}/csv/sample_{s}.csv\")\n",
    "\n",
    "dfs0"
   ]
  },
  {
   "cell_type": "code",
   "execution_count": 9,
   "id": "8034dbab",
   "metadata": {
    "execution": {
     "iopub.execute_input": "2025-04-25T04:57:50.379078Z",
     "iopub.status.busy": "2025-04-25T04:57:50.378972Z",
     "iopub.status.idle": "2025-04-25T04:58:00.255128Z",
     "shell.execute_reply": "2025-04-25T04:58:00.254764Z"
    },
    "papermill": {
     "duration": 9.879051,
     "end_time": "2025-04-25T04:58:00.256293",
     "exception": false,
     "start_time": "2025-04-25T04:57:50.377242",
     "status": "completed"
    },
    "tags": []
   },
   "outputs": [
    {
     "data": {
      "text/html": [
       "<div><style>\n",
       ".dataframe > thead > tr,\n",
       ".dataframe > tbody > tr {\n",
       "  text-align: right;\n",
       "  white-space: pre-wrap;\n",
       "}\n",
       "</style>\n",
       "<small>shape: (4_096, 11)</small><table border=\"1\" class=\"dataframe\"><thead><tr><th>sample</th><th>l_returnflag</th><th>l_linestatus</th><th>sum_qty</th><th>sum_base_price</th><th>sum_disc_price</th><th>sum_charge</th><th>avg_qty</th><th>avg_price</th><th>avg_disc</th><th>count_order</th></tr><tr><td>i32</td><td>str</td><td>str</td><td>decimal[38,2]</td><td>decimal[38,2]</td><td>decimal[38,4]</td><td>decimal[38,6]</td><td>f64</td><td>f64</td><td>f64</td><td>i64</td></tr></thead><tbody><tr><td>0</td><td>&quot;A&quot;</td><td>&quot;F&quot;</td><td>3842098.00</td><td>5416596135.12</td><td>5145229170.0860</td><td>5350995387.534556</td><td>25.55436</td><td>36026.578883</td><td>0.050143</td><td>150350</td></tr><tr><td>0</td><td>&quot;N&quot;</td><td>&quot;F&quot;</td><td>99744.00</td><td>140795832.56</td><td>133840744.6392</td><td>139282165.856890</td><td>25.760331</td><td>36362.560062</td><td>0.049726</td><td>3872</td></tr><tr><td>0</td><td>&quot;N&quot;</td><td>&quot;O&quot;</td><td>7634678.00</td><td>10761783537.96</td><td>10224255360.7336</td><td>10632709989.678114</td><td>25.562424</td><td>36032.596522</td><td>0.050008</td><td>298668</td></tr><tr><td>0</td><td>&quot;R&quot;</td><td>&quot;F&quot;</td><td>3861686.00</td><td>5443865388.16</td><td>5173591839.9416</td><td>5380758912.449874</td><td>25.529445</td><td>35989.167205</td><td>0.049779</td><td>151264</td></tr><tr><td>1</td><td>&quot;A&quot;</td><td>&quot;F&quot;</td><td>3829758.00</td><td>5406438475.32</td><td>5134768371.6780</td><td>5340452680.848228</td><td>25.558642</td><td>36080.928413</td><td>0.050236</td><td>149842</td></tr><tr><td>&hellip;</td><td>&hellip;</td><td>&hellip;</td><td>&hellip;</td><td>&hellip;</td><td>&hellip;</td><td>&hellip;</td><td>&hellip;</td><td>&hellip;</td><td>&hellip;</td><td>&hellip;</td></tr><tr><td>1022</td><td>&quot;R&quot;</td><td>&quot;F&quot;</td><td>3733374.00</td><td>5262956829.20</td><td>5000971054.4154</td><td>5200691898.130638</td><td>25.514434</td><td>35967.830494</td><td>0.049923</td><td>146324</td></tr><tr><td>1023</td><td>&quot;A&quot;</td><td>&quot;F&quot;</td><td>3758262.00</td><td>5295659653.84</td><td>5030523645.3272</td><td>5232137644.573534</td><td>25.60124</td><td>36073.975844</td><td>0.050096</td><td>146800</td></tr><tr><td>1023</td><td>&quot;N&quot;</td><td>&quot;F&quot;</td><td>95808.00</td><td>135249217.72</td><td>128688773.1344</td><td>133977626.098436</td><td>25.480851</td><td>35970.536628</td><td>0.049016</td><td>3760</td></tr><tr><td>1023</td><td>&quot;N&quot;</td><td>&quot;O&quot;</td><td>7408040.00</td><td>10436287443.80</td><td>9914870412.4462</td><td>10311215844.872888</td><td>25.571772</td><td>36024.96218</td><td>0.050026</td><td>289696</td></tr><tr><td>1023</td><td>&quot;R&quot;</td><td>&quot;F&quot;</td><td>3744198.00</td><td>5279596842.16</td><td>5016424743.9692</td><td>5216391292.051106</td><td>25.54302</td><td>36017.551999</td><td>0.049956</td><td>146584</td></tr></tbody></table></div>"
      ],
      "text/plain": [
       "shape: (4_096, 11)\n",
       "┌────────┬────────────┬────────────┬────────────┬───┬───────────┬───────────┬──────────┬───────────┐\n",
       "│ sample ┆ l_returnfl ┆ l_linestat ┆ sum_qty    ┆ … ┆ avg_qty   ┆ avg_price ┆ avg_disc ┆ count_ord │\n",
       "│ ---    ┆ ag         ┆ us         ┆ ---        ┆   ┆ ---       ┆ ---       ┆ ---      ┆ er        │\n",
       "│ i32    ┆ ---        ┆ ---        ┆ decimal[38 ┆   ┆ f64       ┆ f64       ┆ f64      ┆ ---       │\n",
       "│        ┆ str        ┆ str        ┆ ,2]        ┆   ┆           ┆           ┆          ┆ i64       │\n",
       "╞════════╪════════════╪════════════╪════════════╪═══╪═══════════╪═══════════╪══════════╪═══════════╡\n",
       "│ 0      ┆ A          ┆ F          ┆ 3842098.00 ┆ … ┆ 25.55436  ┆ 36026.578 ┆ 0.050143 ┆ 150350    │\n",
       "│        ┆            ┆            ┆            ┆   ┆           ┆ 883       ┆          ┆           │\n",
       "│ 0      ┆ N          ┆ F          ┆ 99744.00   ┆ … ┆ 25.760331 ┆ 36362.560 ┆ 0.049726 ┆ 3872      │\n",
       "│        ┆            ┆            ┆            ┆   ┆           ┆ 062       ┆          ┆           │\n",
       "│ 0      ┆ N          ┆ O          ┆ 7634678.00 ┆ … ┆ 25.562424 ┆ 36032.596 ┆ 0.050008 ┆ 298668    │\n",
       "│        ┆            ┆            ┆            ┆   ┆           ┆ 522       ┆          ┆           │\n",
       "│ 0      ┆ R          ┆ F          ┆ 3861686.00 ┆ … ┆ 25.529445 ┆ 35989.167 ┆ 0.049779 ┆ 151264    │\n",
       "│        ┆            ┆            ┆            ┆   ┆           ┆ 205       ┆          ┆           │\n",
       "│ 1      ┆ A          ┆ F          ┆ 3829758.00 ┆ … ┆ 25.558642 ┆ 36080.928 ┆ 0.050236 ┆ 149842    │\n",
       "│        ┆            ┆            ┆            ┆   ┆           ┆ 413       ┆          ┆           │\n",
       "│ …      ┆ …          ┆ …          ┆ …          ┆ … ┆ …         ┆ …         ┆ …        ┆ …         │\n",
       "│ 1022   ┆ R          ┆ F          ┆ 3733374.00 ┆ … ┆ 25.514434 ┆ 35967.830 ┆ 0.049923 ┆ 146324    │\n",
       "│        ┆            ┆            ┆            ┆   ┆           ┆ 494       ┆          ┆           │\n",
       "│ 1023   ┆ A          ┆ F          ┆ 3758262.00 ┆ … ┆ 25.60124  ┆ 36073.975 ┆ 0.050096 ┆ 146800    │\n",
       "│        ┆            ┆            ┆            ┆   ┆           ┆ 844       ┆          ┆           │\n",
       "│ 1023   ┆ N          ┆ F          ┆ 95808.00   ┆ … ┆ 25.480851 ┆ 35970.536 ┆ 0.049016 ┆ 3760      │\n",
       "│        ┆            ┆            ┆            ┆   ┆           ┆ 628       ┆          ┆           │\n",
       "│ 1023   ┆ N          ┆ O          ┆ 7408040.00 ┆ … ┆ 25.571772 ┆ 36024.962 ┆ 0.050026 ┆ 289696    │\n",
       "│        ┆            ┆            ┆            ┆   ┆           ┆ 18        ┆          ┆           │\n",
       "│ 1023   ┆ R          ┆ F          ┆ 3744198.00 ┆ … ┆ 25.54302  ┆ 36017.551 ┆ 0.049956 ┆ 146584    │\n",
       "│        ┆            ┆            ┆            ┆   ┆           ┆ 999       ┆          ┆           │\n",
       "└────────┴────────────┴────────────┴────────────┴───┴───────────┴───────────┴──────────┴───────────┘"
      ]
     },
     "execution_count": 9,
     "metadata": {},
     "output_type": "execute_result"
    }
   ],
   "source": [
    "# Run the query for each sample, but accumulate in a pl.DataFrame instead of a list\n",
    "dfsdf: pl.DataFrame = pl.concat(\n",
    "    con.execute(f\"EXECUTE run_query(sample := {s});\").pl().insert_column(0, pl.lit(s).alias(\"sample\"))\n",
    "    for s in range(SAMPLES)\n",
    ")\n",
    "dfsdf"
   ]
  },
  {
   "cell_type": "code",
   "execution_count": 10,
   "id": "652a9406",
   "metadata": {
    "execution": {
     "iopub.execute_input": "2025-04-25T04:58:00.263529Z",
     "iopub.status.busy": "2025-04-25T04:58:00.263368Z",
     "iopub.status.idle": "2025-04-25T04:58:00.266073Z",
     "shell.execute_reply": "2025-04-25T04:58:00.265785Z"
    },
    "papermill": {
     "duration": 0.005924,
     "end_time": "2025-04-25T04:58:00.266898",
     "exception": false,
     "start_time": "2025-04-25T04:58:00.260974",
     "status": "completed"
    },
    "tags": []
   },
   "outputs": [],
   "source": [
    "# Define which columns are the group-by keys (INDEX_COLS) and which are the output columns (OUTPUT_COLS)\n",
    "# - moved to parameters cell at top of notebook\n",
    "\n",
    "# Save these to disk for later use\n",
    "with open(f\"{OUTPUT_DIR}/INDEX_COLS.pkl\", 'wb') as f:\n",
    "    pickle.dump(INDEX_COLS, f)\n",
    "with open(f\"{OUTPUT_DIR}/OUTPUT_COLS.pkl\", 'wb') as f:\n",
    "    pickle.dump(OUTPUT_COLS, f)"
   ]
  },
  {
   "cell_type": "code",
   "execution_count": 11,
   "id": "b7962737",
   "metadata": {
    "execution": {
     "iopub.execute_input": "2025-04-25T04:58:00.271387Z",
     "iopub.status.busy": "2025-04-25T04:58:00.271229Z",
     "iopub.status.idle": "2025-04-25T04:58:00.293443Z",
     "shell.execute_reply": "2025-04-25T04:58:00.293036Z"
    },
    "papermill": {
     "duration": 0.025563,
     "end_time": "2025-04-25T04:58:00.294430",
     "exception": false,
     "start_time": "2025-04-25T04:58:00.268867",
     "status": "completed"
    },
    "tags": []
   },
   "outputs": [
    {
     "data": {
      "text/html": [
       "<div><style>\n",
       ".dataframe > thead > tr,\n",
       ".dataframe > tbody > tr {\n",
       "  text-align: right;\n",
       "  white-space: pre-wrap;\n",
       "}\n",
       "</style>\n",
       "<small>shape: (4, 10)</small><table border=\"1\" class=\"dataframe\"><thead><tr><th>l_returnflag</th><th>l_linestatus</th><th>sum_qty</th><th>sum_base_price</th><th>sum_disc_price</th><th>sum_charge</th><th>avg_qty</th><th>avg_price</th><th>avg_disc</th><th>count_order</th></tr><tr><td>str</td><td>str</td><td>list[decimal[38,2]]</td><td>list[decimal[38,2]]</td><td>list[decimal[38,4]]</td><td>list[decimal[38,6]]</td><td>list[f64]</td><td>list[f64]</td><td>list[f64]</td><td>list[i64]</td></tr></thead><tbody><tr><td>&quot;A&quot;</td><td>&quot;F&quot;</td><td>[3842098.00, 3829758.00, … 3758262.00]</td><td>[5416596135.12, 5406438475.32, … 5295659653.84]</td><td>[5145229170.0860, 5134768371.6780, … 5030523645.3272]</td><td>[5350995387.534556, 5340452680.848228, … 5232137644.573534]</td><td>[25.55436, 25.558642, … 25.60124]</td><td>[36026.578883, 36080.928413, … 36073.975844]</td><td>[0.050143, 0.050236, … 0.050096]</td><td>[150350, 149842, … 146800]</td></tr><tr><td>&quot;N&quot;</td><td>&quot;F&quot;</td><td>[99744.00, 95772.00, … 95808.00]</td><td>[140795832.56, 134084171.84, … 135249217.72]</td><td>[133840744.6392, 127410397.6904, … 128688773.1344]</td><td>[139282165.856890, 132530678.683340, … 133977626.098436]</td><td>[25.760331, 25.15021, … 25.480851]</td><td>[36362.560062, 35211.17958, … 35970.536628]</td><td>[0.049726, 0.04989, … 0.049016]</td><td>[3872, 3808, … 3760]</td></tr><tr><td>&quot;N&quot;</td><td>&quot;O&quot;</td><td>[7634678.00, 7535866.00, … 7408040.00]</td><td>[10761783537.96, 10613995132.78, … 10436287443.80]</td><td>[10224255360.7336, 10083192277.3680, … 9914870412.4462]</td><td>[10632709989.678114, 10486254622.918048, … 10311215844.872888]</td><td>[25.562424, 25.58642, … 25.571772]</td><td>[36032.596522, 36037.548919, … 36024.96218]</td><td>[0.050008, 0.050039, … 0.050026]</td><td>[298668, 294526, … 289696]</td></tr><tr><td>&quot;R&quot;</td><td>&quot;F&quot;</td><td>[3861686.00, 3825876.00, … 3744198.00]</td><td>[5443865388.16, 5392912813.42, … 5279596842.16]</td><td>[5173591839.9416, 5124544370.5096, … 5016424743.9692]</td><td>[5380758912.449874, 5329511205.479190, … 5216391292.051106]</td><td>[25.529445, 25.534098, … 25.54302]</td><td>[35989.167205, 35992.583882, … 36017.551999]</td><td>[0.049779, 0.049899, … 0.049956]</td><td>[151264, 149834, … 146584]</td></tr></tbody></table></div>"
      ],
      "text/plain": [
       "shape: (4, 10)\n",
       "┌───────────┬───────────┬───────────┬───────────┬───┬───────────┬───────────┬───────────┬──────────┐\n",
       "│ l_returnf ┆ l_linesta ┆ sum_qty   ┆ sum_base_ ┆ … ┆ avg_qty   ┆ avg_price ┆ avg_disc  ┆ count_or │\n",
       "│ lag       ┆ tus       ┆ ---       ┆ price     ┆   ┆ ---       ┆ ---       ┆ ---       ┆ der      │\n",
       "│ ---       ┆ ---       ┆ list[deci ┆ ---       ┆   ┆ list[f64] ┆ list[f64] ┆ list[f64] ┆ ---      │\n",
       "│ str       ┆ str       ┆ mal[38,2] ┆ list[deci ┆   ┆           ┆           ┆           ┆ list[i64 │\n",
       "│           ┆           ┆ ]         ┆ mal[38,2] ┆   ┆           ┆           ┆           ┆ ]        │\n",
       "│           ┆           ┆           ┆ ]         ┆   ┆           ┆           ┆           ┆          │\n",
       "╞═══════════╪═══════════╪═══════════╪═══════════╪═══╪═══════════╪═══════════╪═══════════╪══════════╡\n",
       "│ A         ┆ F         ┆ [3842098. ┆ [54165961 ┆ … ┆ [25.55436 ┆ [36026.57 ┆ [0.050143 ┆ [150350, │\n",
       "│           ┆           ┆ 00, 38297 ┆ 35.12,    ┆   ┆ , 25.5586 ┆ 8883, 360 ┆ ,         ┆ 149842,  │\n",
       "│           ┆           ┆ 58.00, …  ┆ 540643847 ┆   ┆ 42, …     ┆ 80.928413 ┆ 0.050236, ┆ …        │\n",
       "│           ┆           ┆ 375…      ┆ 5.32,…    ┆   ┆ 25.601…   ┆ , ……      ┆ …         ┆ 146800]  │\n",
       "│           ┆           ┆           ┆           ┆   ┆           ┆           ┆ 0.05009…  ┆          │\n",
       "│ N         ┆ F         ┆ [99744.00 ┆ [14079583 ┆ … ┆ [25.76033 ┆ [36362.56 ┆ [0.049726 ┆ [3872,   │\n",
       "│           ┆           ┆ ,         ┆ 2.56, 134 ┆   ┆ 1,        ┆ 0062, 352 ┆ ,         ┆ 3808, …  │\n",
       "│           ┆           ┆ 95772.00, ┆ 084171.84 ┆   ┆ 25.15021, ┆ 11.17958, ┆ 0.04989,  ┆ 3760]    │\n",
       "│           ┆           ┆ …         ┆ , ……      ┆   ┆ … 25.480… ┆ … …       ┆ …         ┆          │\n",
       "│           ┆           ┆ 95808.0…  ┆           ┆   ┆           ┆           ┆ 0.049016… ┆          │\n",
       "│ N         ┆ O         ┆ [7634678. ┆ [10761783 ┆ … ┆ [25.56242 ┆ [36032.59 ┆ [0.050008 ┆ [298668, │\n",
       "│           ┆           ┆ 00, 75358 ┆ 537.96,   ┆   ┆ 4,        ┆ 6522, 360 ┆ ,         ┆ 294526,  │\n",
       "│           ┆           ┆ 66.00, …  ┆ 106139951 ┆   ┆ 25.58642, ┆ 37.548919 ┆ 0.050039, ┆ …        │\n",
       "│           ┆           ┆ 740…      ┆ 32.7…     ┆   ┆ … 25.571… ┆ , ……      ┆ …         ┆ 289696]  │\n",
       "│           ┆           ┆           ┆           ┆   ┆           ┆           ┆ 0.05002…  ┆          │\n",
       "│ R         ┆ F         ┆ [3861686. ┆ [54438653 ┆ … ┆ [25.52944 ┆ [35989.16 ┆ [0.049779 ┆ [151264, │\n",
       "│           ┆           ┆ 00, 38258 ┆ 88.16,    ┆   ┆ 5, 25.534 ┆ 7205, 359 ┆ ,         ┆ 149834,  │\n",
       "│           ┆           ┆ 76.00, …  ┆ 539291281 ┆   ┆ 098, …    ┆ 92.583882 ┆ 0.049899, ┆ …        │\n",
       "│           ┆           ┆ 374…      ┆ 3.42,…    ┆   ┆ 25.54…    ┆ , ……      ┆ …         ┆ 146584]  │\n",
       "│           ┆           ┆           ┆           ┆   ┆           ┆           ┆ 0.04995…  ┆          │\n",
       "└───────────┴───────────┴───────────┴───────────┴───┴───────────┴───────────┴───────────┴──────────┘"
      ]
     },
     "execution_count": 11,
     "metadata": {},
     "output_type": "execute_result"
    }
   ],
   "source": [
    "# Combine all the samples into one table, grouped-by the group-by keys. Each cell contains an n <= # of samples length array of values.\n",
    "listdf = dfsdf.drop(\"sample\").group_by(INDEX_COLS, maintain_order=True).all()\n",
    "listdf"
   ]
  },
  {
   "cell_type": "code",
   "execution_count": 12,
   "id": "fa733843",
   "metadata": {
    "execution": {
     "iopub.execute_input": "2025-04-25T04:58:00.299750Z",
     "iopub.status.busy": "2025-04-25T04:58:00.299582Z",
     "iopub.status.idle": "2025-04-25T04:58:00.303152Z",
     "shell.execute_reply": "2025-04-25T04:58:00.302865Z"
    },
    "papermill": {
     "duration": 0.007743,
     "end_time": "2025-04-25T04:58:00.304221",
     "exception": false,
     "start_time": "2025-04-25T04:58:00.296478",
     "status": "completed"
    },
    "tags": []
   },
   "outputs": [
    {
     "data": {
      "text/plain": [
       "[{'l_returnflag': 'A', 'l_linestatus': 'F'},\n",
       " {'l_returnflag': 'N', 'l_linestatus': 'F'},\n",
       " {'l_returnflag': 'R', 'l_linestatus': 'F'},\n",
       " {'l_returnflag': 'N', 'l_linestatus': 'O'}]"
      ]
     },
     "execution_count": 12,
     "metadata": {},
     "output_type": "execute_result"
    }
   ],
   "source": [
    "# What are all the possible group-by key combinations?\n",
    "allgroups: pl.DataFrame = dfsdf.select(INDEX_COLS).unique()\n",
    "allgroups.to_dicts()"
   ]
  },
  {
   "cell_type": "code",
   "execution_count": 13,
   "id": "e68adca9",
   "metadata": {
    "execution": {
     "iopub.execute_input": "2025-04-25T04:58:00.308665Z",
     "iopub.status.busy": "2025-04-25T04:58:00.308527Z",
     "iopub.status.idle": "2025-04-25T04:58:00.325638Z",
     "shell.execute_reply": "2025-04-25T04:58:00.325364Z"
    },
    "papermill": {
     "duration": 0.02023,
     "end_time": "2025-04-25T04:58:00.326478",
     "exception": false,
     "start_time": "2025-04-25T04:58:00.306248",
     "status": "completed"
    },
    "tags": []
   },
   "outputs": [],
   "source": [
    "# Template for the final output, including all possible group-by groups\n",
    "# Obtained by collecting all the samples in a big table and then keeping only the first occurrence of each groupby key.\n",
    "# Then, fill all OUTPUT_COLS with nulls\n",
    "templatedf = dfsdf.drop(\"sample\").group_by(INDEX_COLS, maintain_order=True).first()\n",
    "templatedf = templatedf.clear(n=len(allgroups)).with_columns(allgroups)\n",
    "templatedf\n",
    "\n",
    "with open(f\"{OUTPUT_DIR}/template.pkl\", \"wb\") as f:\n",
    "    pickle.dump(templatedf, f)"
   ]
  },
  {
   "cell_type": "code",
   "execution_count": 14,
   "id": "0b71f7b3",
   "metadata": {
    "execution": {
     "iopub.execute_input": "2025-04-25T04:58:00.330384Z",
     "iopub.status.busy": "2025-04-25T04:58:00.330271Z",
     "iopub.status.idle": "2025-04-25T04:58:00.486136Z",
     "shell.execute_reply": "2025-04-25T04:58:00.485756Z"
    },
    "papermill": {
     "duration": 0.158754,
     "end_time": "2025-04-25T04:58:00.487014",
     "exception": false,
     "start_time": "2025-04-25T04:58:00.328260",
     "status": "completed"
    },
    "tags": []
   },
   "outputs": [],
   "source": [
    "# Write all table entries in the output table to their own JSON files. Each file has a number, the information of which file corresponds to which table entry\n",
    "# is stored in reverse_map.json (as well as in the files themselves)\n",
    "os.makedirs(f\"{OUTPUT_DIR}/json\", exist_ok=True)\n",
    "i: int = 0\n",
    "for col in OUTPUT_COLS:\n",
    "    for group in allgroups.iter_rows(named=True):\n",
    "        values = listdf.filter(pl.col(k).eq(v) for k, v in group.items()).select(col).to_series()\n",
    "        j = pl.DataFrame().with_columns([\n",
    "            pl.lit(col).alias(\"col\"),\n",
    "            pl.lit(group).alias(\"row\"),\n",
    "            pl.lit(values.explode().dtype.__repr__()).alias(\"dtype\"),\n",
    "            values.alias(\"values\"),\n",
    "        ])\n",
    "        j.write_json(f\"{OUTPUT_DIR}/json/{i}.json\")\n",
    "        i+=1"
   ]
  },
  {
   "cell_type": "code",
   "execution_count": 15,
   "id": "ee1cf2d6",
   "metadata": {
    "execution": {
     "iopub.execute_input": "2025-04-25T04:58:00.496685Z",
     "iopub.status.busy": "2025-04-25T04:58:00.496544Z",
     "iopub.status.idle": "2025-04-25T04:58:02.664796Z",
     "shell.execute_reply": "2025-04-25T04:58:02.664527Z"
    },
    "papermill": {
     "duration": 2.17447,
     "end_time": "2025-04-25T04:58:02.665521",
     "exception": false,
     "start_time": "2025-04-25T04:58:00.491051",
     "status": "completed"
    },
    "tags": []
   },
   "outputs": [
    {
     "data": {
      "text/plain": [
       "'/Users/michael/projects/dpdb/pacdb/outputs/ap-duckdb-q1-step1.zip'"
      ]
     },
     "execution_count": 15,
     "metadata": {},
     "output_type": "execute_result"
    }
   ],
   "source": [
    "# zip the OUTPUT_DIR\n",
    "shutil.make_archive(OUTPUT_DIR, 'zip', OUTPUT_DIR)"
   ]
  }
 ],
 "metadata": {
  "kernelspec": {
   "display_name": ".venv",
   "language": "python",
   "name": "python3"
  },
  "language_info": {
   "codemirror_mode": {
    "name": "ipython",
    "version": 3
   },
   "file_extension": ".py",
   "mimetype": "text/x-python",
   "name": "python",
   "nbconvert_exporter": "python",
   "pygments_lexer": "ipython3",
   "version": "3.11.7"
  },
  "papermill": {
   "default_parameters": {},
   "duration": 15.626769,
   "end_time": "2025-04-25T04:58:03.186599",
   "environment_variables": {},
   "exception": null,
   "input_path": "autopac-duckdb-step1.ipynb",
   "output_path": "./ap-duckdb-q1-step1.ipynb",
   "parameters": {
    "EXPERIMENT": "ap-duckdb-q1",
    "INDEX_COLS": [
     "l_returnflag",
     "l_linestatus"
    ],
    "OUTPUT_COLS": [
     "sum_qty",
     "sum_base_price",
     "sum_disc_price",
     "sum_charge",
     "avg_qty",
     "avg_price",
     "avg_disc",
     "count_order"
    ],
    "OUTPUT_DIR": "./outputs/ap-duckdb-q1-step1",
    "PREPARE_STEP": "DEALLOCATE PREPARE run_query;\n\nPREPARE run_query AS \nSELECT\n    l_returnflag,\n    l_linestatus,\n    2*sum(l_quantity) AS sum_qty,\n    2*sum(l_extendedprice) AS sum_base_price,\n    2*sum(l_extendedprice * (1 - l_discount)) AS sum_disc_price,\n    2*sum(l_extendedprice * (1 - l_discount) * (1 + l_tax)) AS sum_charge,\n    avg(l_quantity) AS avg_qty,\n    avg(l_extendedprice) AS avg_price,\n    avg(l_discount) AS avg_disc,\n    2*count(*) AS count_order\nFROM\n    lineitem\nJOIN orders ON lineitem.l_orderkey = orders.o_orderkey\nJOIN customer ON orders.o_custkey = customer.c_custkey\nJOIN random_samples AS rs\n    ON rs.row_id = customer.rowid\nWHERE\n    l_shipdate <= CAST('1998-09-02' AS date)\n    AND rs.random_binary = TRUE\n    AND rs.sample_id = $sample\nGROUP BY\n    l_returnflag,\n    l_linestatus\nORDER BY\n    l_returnflag,\n    l_linestatus;",
    "SAMPLES": 1024,
    "SAMPLE_STEP": "DROP TABLE IF EXISTS random_samples;\n\nCREATE TABLE random_samples AS\nWITH sample_numbers AS MATERIALIZED (\n    SELECT range AS sample_id FROM range(512)\n), random_values AS MATERIALIZED (\n    SELECT \n        sample_numbers.sample_id,\n        customer.rowid AS row_id,\n        (RANDOM() > 0.5)::BOOLEAN AS random_binary\n    FROM sample_numbers\n    JOIN customer ON TRUE  -- Cross join to duplicate rows for each sample\n)\nSELECT\n    sample_id,\n    row_id,\n    random_binary\nFROM random_values\nUNION ALL\nSELECT -- select the complementary samples too\n    (512) + sample_id,\n    row_id,\n    NOT random_binary  -- Inverse the random_binary to get the complementary sample\nFROM random_values\nORDER BY sample_id, row_id;"
   },
   "start_time": "2025-04-25T04:57:47.559830",
   "version": "2.6.0"
  }
 },
 "nbformat": 4,
 "nbformat_minor": 5
}