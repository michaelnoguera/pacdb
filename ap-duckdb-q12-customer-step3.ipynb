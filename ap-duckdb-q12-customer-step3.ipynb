{
 "cells": [
  {
   "cell_type": "code",
   "execution_count": 1,
   "id": "eba650e4",
   "metadata": {
    "execution": {
     "iopub.execute_input": "2025-05-01T09:06:15.941753Z",
     "iopub.status.busy": "2025-05-01T09:06:15.941402Z",
     "iopub.status.idle": "2025-05-01T09:06:15.997681Z",
     "shell.execute_reply": "2025-05-01T09:06:15.997215Z"
    },
    "papermill": {
     "duration": 0.062338,
     "end_time": "2025-05-01T09:06:15.998771",
     "exception": false,
     "start_time": "2025-05-01T09:06:15.936433",
     "status": "completed"
    },
    "tags": []
   },
   "outputs": [],
   "source": [
    "#!/usr/bin/env python\n",
    "# coding: utf-8\n",
    "\n",
    "import json\n",
    "import os\n",
    "import pickle\n",
    "import shutil\n",
    "import zipfile\n",
    "\n",
    "import parse\n",
    "import polars as pl"
   ]
  },
  {
   "cell_type": "code",
   "execution_count": 2,
   "id": "5bbee7d0",
   "metadata": {
    "execution": {
     "iopub.execute_input": "2025-05-01T09:06:16.001959Z",
     "iopub.status.busy": "2025-05-01T09:06:16.001829Z",
     "iopub.status.idle": "2025-05-01T09:06:16.003807Z",
     "shell.execute_reply": "2025-05-01T09:06:16.003588Z"
    },
    "papermill": {
     "duration": 0.004084,
     "end_time": "2025-05-01T09:06:16.004432",
     "exception": false,
     "start_time": "2025-05-01T09:06:16.000348",
     "status": "completed"
    },
    "tags": [
     "parameters"
    ]
   },
   "outputs": [],
   "source": [
    "#EXPERIMENT = \"asdf\"\n",
    "#INPUT_ZIP = f\"./outputs/{EXPERIMENT}-step2.zip\"\n",
    "#OUTPUT_DIR = f\"./outputs/{EXPERIMENT}-step3\"\n",
    "#INDEX_COLS = pickle.load(open(f'./outputs/{EXPERIMENT}-step1/INDEX_COLS.pkl', 'rb'))\n",
    "#OUTPUT_COLS = pickle.load(open(f'./outputs/{EXPERIMENT}-step1/OUTPUT_COLS.pkl', 'rb'))\n",
    "#templatedf_path = f\"./outputs/{EXPERIMENT}-step2/templatedf.csv\"\n",
    "EXPERIMENT = \"\"\n",
    "INPUT_ZIP = \"\"\n",
    "OUTPUT_DIR = \"\"\n",
    "INDEX_COLS = []\n",
    "OUTPUT_COLS = []\n",
    "templatedf_path = \"\""
   ]
  },
  {
   "cell_type": "code",
   "execution_count": 3,
   "id": "956b568d",
   "metadata": {
    "execution": {
     "iopub.execute_input": "2025-05-01T09:06:16.007331Z",
     "iopub.status.busy": "2025-05-01T09:06:16.007211Z",
     "iopub.status.idle": "2025-05-01T09:06:16.009044Z",
     "shell.execute_reply": "2025-05-01T09:06:16.008811Z"
    },
    "papermill": {
     "duration": 0.00409,
     "end_time": "2025-05-01T09:06:16.009652",
     "exception": false,
     "start_time": "2025-05-01T09:06:16.005562",
     "status": "completed"
    },
    "tags": [
     "injected-parameters"
    ]
   },
   "outputs": [],
   "source": [
    "# Parameters\n",
    "EXPERIMENT = \"ap-duckdb-q12-customer\"\n",
    "OUTPUT_DIR = \"./outputs/ap-duckdb-q12-customer-step3\"\n",
    "INPUT_ZIP = \"./outputs/ap-duckdb-q12-customer-step2.zip\"\n",
    "INDEX_COLS = [\"l_shipmode\"]\n",
    "OUTPUT_COLS = [\"high_line_count\", \"low_line_count\"]\n",
    "templatedf_path = \"./outputs/ap-duckdb-q12-customer-step1/template.pkl\"\n"
   ]
  },
  {
   "cell_type": "code",
   "execution_count": 4,
   "id": "7eeff702",
   "metadata": {
    "execution": {
     "iopub.execute_input": "2025-05-01T09:06:16.012337Z",
     "iopub.status.busy": "2025-05-01T09:06:16.012239Z",
     "iopub.status.idle": "2025-05-01T09:06:16.013939Z",
     "shell.execute_reply": "2025-05-01T09:06:16.013730Z"
    },
    "papermill": {
     "duration": 0.003641,
     "end_time": "2025-05-01T09:06:16.014531",
     "exception": false,
     "start_time": "2025-05-01T09:06:16.010890",
     "status": "completed"
    },
    "tags": []
   },
   "outputs": [],
   "source": [
    "INDEX_COLS = INDEX_COLS or [\"\"] # if no index cols are provided, then we make one up with empty string name in step 1\n",
    "\n",
    "if not os.path.exists(OUTPUT_DIR):\n",
    "    os.makedirs(OUTPUT_DIR)"
   ]
  },
  {
   "cell_type": "code",
   "execution_count": 5,
   "id": "257dec28",
   "metadata": {
    "execution": {
     "iopub.execute_input": "2025-05-01T09:06:16.017089Z",
     "iopub.status.busy": "2025-05-01T09:06:16.017001Z",
     "iopub.status.idle": "2025-05-01T09:06:16.018736Z",
     "shell.execute_reply": "2025-05-01T09:06:16.018546Z"
    },
    "papermill": {
     "duration": 0.003603,
     "end_time": "2025-05-01T09:06:16.019325",
     "exception": false,
     "start_time": "2025-05-01T09:06:16.015722",
     "status": "completed"
    },
    "tags": []
   },
   "outputs": [],
   "source": [
    "# Import saved variables from the first step\n",
    "templatedf: pl.DataFrame = pickle.load(open(templatedf_path, 'rb'))"
   ]
  },
  {
   "cell_type": "code",
   "execution_count": 6,
   "id": "ab3a80fe",
   "metadata": {
    "execution": {
     "iopub.execute_input": "2025-05-01T09:06:16.021822Z",
     "iopub.status.busy": "2025-05-01T09:06:16.021722Z",
     "iopub.status.idle": "2025-05-01T09:06:16.026135Z",
     "shell.execute_reply": "2025-05-01T09:06:16.025890Z"
    },
    "papermill": {
     "duration": 0.006303,
     "end_time": "2025-05-01T09:06:16.026711",
     "exception": false,
     "start_time": "2025-05-01T09:06:16.020408",
     "status": "completed"
    },
    "tags": []
   },
   "outputs": [
    {
     "data": {
      "text/plain": [
       "dict_keys([0, 1, 2, 3])"
      ]
     },
     "execution_count": 6,
     "metadata": {},
     "output_type": "execute_result"
    }
   ],
   "source": [
    "# load the json input files from step 2\n",
    "# {'col': column name as string,\n",
    "#  'row': group-by column values as dict (effectively a row id),\n",
    "#  'values': [ 1000x values ] }\n",
    "alldata = {}\n",
    "\n",
    "pattern = parse.compile(\"{n}.json\")\n",
    "\n",
    "with zipfile.ZipFile(INPUT_ZIP, 'r') as zf:\n",
    "    for filename in zf.namelist():\n",
    "        if filename.endswith('.json'):\n",
    "            with zf.open(filename) as f:\n",
    "                filenumber = int(pattern.parse(filename).named['n'])\n",
    "                data = json.load(f)\n",
    "                d: dict = data\n",
    "                alldata[filenumber] = d\n",
    "alldata.keys()"
   ]
  },
  {
   "cell_type": "code",
   "execution_count": 7,
   "id": "fa47deff",
   "metadata": {
    "execution": {
     "iopub.execute_input": "2025-05-01T09:06:16.029563Z",
     "iopub.status.busy": "2025-05-01T09:06:16.029469Z",
     "iopub.status.idle": "2025-05-01T09:06:16.032011Z",
     "shell.execute_reply": "2025-05-01T09:06:16.031788Z"
    },
    "papermill": {
     "duration": 0.004577,
     "end_time": "2025-05-01T09:06:16.032641",
     "exception": false,
     "start_time": "2025-05-01T09:06:16.028064",
     "status": "completed"
    },
    "tags": []
   },
   "outputs": [],
   "source": [
    "# Make sure the data types of the row fields are correct\n",
    "for i in range(len(alldata)):\n",
    "    alldata[i]['row'] = pl.DataFrame(alldata[i]['row']).cast(templatedf.select(INDEX_COLS).schema).to_dicts()[0]"
   ]
  },
  {
   "cell_type": "code",
   "execution_count": 8,
   "id": "1d086fc3",
   "metadata": {
    "execution": {
     "iopub.execute_input": "2025-05-01T09:06:16.035351Z",
     "iopub.status.busy": "2025-05-01T09:06:16.035261Z",
     "iopub.status.idle": "2025-05-01T09:06:16.037533Z",
     "shell.execute_reply": "2025-05-01T09:06:16.037338Z"
    },
    "papermill": {
     "duration": 0.004163,
     "end_time": "2025-05-01T09:06:16.038103",
     "exception": false,
     "start_time": "2025-05-01T09:06:16.033940",
     "status": "completed"
    },
    "tags": []
   },
   "outputs": [
    {
     "data": {
      "text/html": [
       "<div><style>\n",
       ".dataframe > thead > tr,\n",
       ".dataframe > tbody > tr {\n",
       "  text-align: right;\n",
       "  white-space: pre-wrap;\n",
       "}\n",
       "</style>\n",
       "<small>shape: (2, 1)</small><table border=\"1\" class=\"dataframe\"><thead><tr><th>l_shipmode</th></tr><tr><td>str</td></tr></thead><tbody><tr><td>&quot;MAIL&quot;</td></tr><tr><td>&quot;SHIP&quot;</td></tr></tbody></table></div>"
      ],
      "text/plain": [
       "shape: (2, 1)\n",
       "┌────────────┐\n",
       "│ l_shipmode │\n",
       "│ ---        │\n",
       "│ str        │\n",
       "╞════════════╡\n",
       "│ MAIL       │\n",
       "│ SHIP       │\n",
       "└────────────┘"
      ]
     },
     "execution_count": 8,
     "metadata": {},
     "output_type": "execute_result"
    }
   ],
   "source": [
    "allgroups = templatedf.select(INDEX_COLS)\n",
    "allgroups"
   ]
  },
  {
   "cell_type": "code",
   "execution_count": 9,
   "id": "0b249a7b",
   "metadata": {
    "execution": {
     "iopub.execute_input": "2025-05-01T09:06:16.041276Z",
     "iopub.status.busy": "2025-05-01T09:06:16.041140Z",
     "iopub.status.idle": "2025-05-01T09:06:16.044820Z",
     "shell.execute_reply": "2025-05-01T09:06:16.044580Z"
    },
    "papermill": {
     "duration": 0.00613,
     "end_time": "2025-05-01T09:06:16.045474",
     "exception": false,
     "start_time": "2025-05-01T09:06:16.039344",
     "status": "completed"
    },
    "tags": []
   },
   "outputs": [
    {
     "name": "stdout",
     "output_type": "stream",
     "text": [
      "{'l_shipmode': 'MAIL'}\n",
      "{'l_shipmode': 'SHIP'}\n"
     ]
    }
   ],
   "source": [
    "# Cursed data shuffling to reidentify what row goes where, what column goes where, and what the labels should be on everything\n",
    "colidxes = {}\n",
    "for col in OUTPUT_COLS:\n",
    "    colidxes[col] = templatedf.get_column_index(col)\n",
    "rowidxes = {}\n",
    "for row in templatedf.select(INDEX_COLS).iter_rows(named=True):\n",
    "    rowidxes[tuple(row.values())] = allgroups.with_row_index().filter(\n",
    "        pl.col(k).eq(v)\n",
    "        for k, v in row.items()\n",
    "    ).select(\"index\").item()\n",
    "    print(row)\n",
    "\n",
    "allinfo = [\n",
    "    {\"colname\": adentry['col'],\n",
    "    \"rowid\": tuple(adentry['row'].values()),\n",
    "    \"value\": adentry['value'][0],\n",
    "    \"colidx\": colidxes[adentry['col']],\n",
    "    \"rowidx\": rowidxes[tuple(adentry['row'].values())]}\n",
    "    for adidx, adentry in alldata.items()\n",
    "]\n",
    "\n",
    "colnames = {}\n",
    "rownames = {}\n",
    "for entry in allinfo:\n",
    "    colnames[entry['colidx']] = entry['colname']\n",
    "    rownames[entry['rowidx']] = entry['rowid']"
   ]
  },
  {
   "cell_type": "markdown",
   "id": "61e58b37",
   "metadata": {
    "papermill": {
     "duration": 0.001173,
     "end_time": "2025-05-01T09:06:16.048090",
     "exception": false,
     "start_time": "2025-05-01T09:06:16.046917",
     "status": "completed"
    },
    "tags": []
   },
   "source": [
    "Naive reconstruction"
   ]
  },
  {
   "cell_type": "code",
   "execution_count": 10,
   "id": "c6da70b0",
   "metadata": {
    "execution": {
     "iopub.execute_input": "2025-05-01T09:06:16.050908Z",
     "iopub.status.busy": "2025-05-01T09:06:16.050807Z",
     "iopub.status.idle": "2025-05-01T09:06:16.088103Z",
     "shell.execute_reply": "2025-05-01T09:06:16.087083Z"
    },
    "papermill": {
     "duration": 0.041168,
     "end_time": "2025-05-01T09:06:16.090412",
     "exception": false,
     "start_time": "2025-05-01T09:06:16.049244",
     "status": "completed"
    },
    "tags": []
   },
   "outputs": [
    {
     "name": "stdout",
     "output_type": "stream",
     "text": [
      "['l_shipmode', 'high_line_count', 'low_line_count']\n",
      "['MAIL', 314.79772939574855, 438.20102601131396]\n",
      "['SHIP', 299.4102871472625, 491.98366815937567]\n"
     ]
    }
   ],
   "source": [
    "# Naive reconstruction based on the indices of the keys in the templatedf\n",
    "allcols = INDEX_COLS + OUTPUT_COLS\n",
    "allrows = allgroups.select(INDEX_COLS).to_numpy().tolist()\n",
    "\n",
    "allinfo2 = {\n",
    "    (rowidxes[tuple(adentry['row'].values())], colidxes[adentry['col']]): adentry['value'][0]\n",
    "    for adidx, adentry in alldata.items()\n",
    "}\n",
    "\n",
    "df2 = []\n",
    "print(allcols)\n",
    "for row in allrows:\n",
    "    print(row + [allinfo2.get((rowidxes[tuple(row)], colidxes[col]), None) for col in OUTPUT_COLS])\n",
    "    df2.append(row + [allinfo2.get((rowidxes[tuple(row)], colidxes[col]), None) for col in OUTPUT_COLS])"
   ]
  },
  {
   "cell_type": "code",
   "execution_count": 11,
   "id": "396c2efa",
   "metadata": {
    "execution": {
     "iopub.execute_input": "2025-05-01T09:06:16.094941Z",
     "iopub.status.busy": "2025-05-01T09:06:16.094614Z",
     "iopub.status.idle": "2025-05-01T09:06:16.103717Z",
     "shell.execute_reply": "2025-05-01T09:06:16.102947Z"
    },
    "papermill": {
     "duration": 0.015556,
     "end_time": "2025-05-01T09:06:16.107500",
     "exception": false,
     "start_time": "2025-05-01T09:06:16.091944",
     "status": "completed"
    },
    "tags": []
   },
   "outputs": [
    {
     "data": {
      "text/html": [
       "<div><style>\n",
       ".dataframe > thead > tr,\n",
       ".dataframe > tbody > tr {\n",
       "  text-align: right;\n",
       "  white-space: pre-wrap;\n",
       "}\n",
       "</style>\n",
       "<small>shape: (2, 3)</small><table border=\"1\" class=\"dataframe\"><thead><tr><th>l_shipmode</th><th>high_line_count</th><th>low_line_count</th></tr><tr><td>str</td><td>decimal[38,0]</td><td>decimal[38,0]</td></tr></thead><tbody><tr><td>&quot;MAIL&quot;</td><td>314</td><td>438</td></tr><tr><td>&quot;SHIP&quot;</td><td>299</td><td>491</td></tr></tbody></table></div>"
      ],
      "text/plain": [
       "shape: (2, 3)\n",
       "┌────────────┬─────────────────┬────────────────┐\n",
       "│ l_shipmode ┆ high_line_count ┆ low_line_count │\n",
       "│ ---        ┆ ---             ┆ ---            │\n",
       "│ str        ┆ decimal[38,0]   ┆ decimal[38,0]  │\n",
       "╞════════════╪═════════════════╪════════════════╡\n",
       "│ MAIL       ┆ 314             ┆ 438            │\n",
       "│ SHIP       ┆ 299             ┆ 491            │\n",
       "└────────────┴─────────────────┴────────────────┘"
      ]
     },
     "execution_count": 11,
     "metadata": {},
     "output_type": "execute_result"
    }
   ],
   "source": [
    "pl.DataFrame(df2, schema=allcols, orient='row').cast(templatedf.schema)"
   ]
  },
  {
   "cell_type": "code",
   "execution_count": 12,
   "id": "22658efb",
   "metadata": {
    "execution": {
     "iopub.execute_input": "2025-05-01T09:06:16.117750Z",
     "iopub.status.busy": "2025-05-01T09:06:16.117219Z",
     "iopub.status.idle": "2025-05-01T09:06:16.128576Z",
     "shell.execute_reply": "2025-05-01T09:06:16.127980Z"
    },
    "papermill": {
     "duration": 0.01769,
     "end_time": "2025-05-01T09:06:16.130610",
     "exception": false,
     "start_time": "2025-05-01T09:06:16.112920",
     "status": "completed"
    },
    "tags": []
   },
   "outputs": [],
   "source": [
    "pl.DataFrame(df2, schema=allcols, orient='row').cast(templatedf.schema).write_csv(os.path.join(OUTPUT_DIR, 'output.csv'))"
   ]
  },
  {
   "cell_type": "code",
   "execution_count": 13,
   "id": "fbf29824",
   "metadata": {
    "execution": {
     "iopub.execute_input": "2025-05-01T09:06:16.141112Z",
     "iopub.status.busy": "2025-05-01T09:06:16.139889Z",
     "iopub.status.idle": "2025-05-01T09:06:16.154777Z",
     "shell.execute_reply": "2025-05-01T09:06:16.154006Z"
    },
    "papermill": {
     "duration": 0.020019,
     "end_time": "2025-05-01T09:06:16.157246",
     "exception": false,
     "start_time": "2025-05-01T09:06:16.137227",
     "status": "completed"
    },
    "tags": []
   },
   "outputs": [
    {
     "data": {
      "text/plain": [
       "'/Users/michael/projects/dpdb/pacdb/outputs/ap-duckdb-q12-customer-step3.zip'"
      ]
     },
     "execution_count": 13,
     "metadata": {},
     "output_type": "execute_result"
    }
   ],
   "source": [
    "# zip the OUTPUT_DIR\n",
    "shutil.make_archive(OUTPUT_DIR, 'zip', OUTPUT_DIR)"
   ]
  }
 ],
 "metadata": {
  "kernelspec": {
   "display_name": ".venv",
   "language": "python",
   "name": "python3"
  },
  "language_info": {
   "codemirror_mode": {
    "name": "ipython",
    "version": 3
   },
   "file_extension": ".py",
   "mimetype": "text/x-python",
   "name": "python",
   "nbconvert_exporter": "python",
   "pygments_lexer": "ipython3",
   "version": "3.11.7"
  },
  "papermill": {
   "default_parameters": {},
   "duration": 4.033724,
   "end_time": "2025-05-01T09:06:19.231700",
   "environment_variables": {},
   "exception": null,
   "input_path": "autopac-duckdb-step3.ipynb",
   "output_path": "./ap-duckdb-q12-customer-step3.ipynb",
   "parameters": {
    "EXPERIMENT": "ap-duckdb-q12-customer",
    "INDEX_COLS": [
     "l_shipmode"
    ],
    "INPUT_ZIP": "./outputs/ap-duckdb-q12-customer-step2.zip",
    "OUTPUT_COLS": [
     "high_line_count",
     "low_line_count"
    ],
    "OUTPUT_DIR": "./outputs/ap-duckdb-q12-customer-step3",
    "templatedf_path": "./outputs/ap-duckdb-q12-customer-step1/template.pkl"
   },
   "start_time": "2025-05-01T09:06:15.197976",
   "version": "2.6.0"
  }
 },
 "nbformat": 4,
 "nbformat_minor": 5
}