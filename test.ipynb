{
 "cells": [
  {
   "cell_type": "code",
   "execution_count": 1,
   "id": "40362c00",
   "metadata": {},
   "outputs": [],
   "source": [
    "import polars.selectors as cs\n",
    "import numpy as np\n",
    "\n",
    "import polars as pl\n",
    "\n",
    "import matplotlib.pyplot as plt"
   ]
  },
  {
   "cell_type": "code",
   "execution_count": 2,
   "id": "50a58e50",
   "metadata": {},
   "outputs": [],
   "source": [
    "def hist_of_numerical_values(df: pl.DataFrame):\n",
    "    \"\"\"\n",
    "    Generates histograms for all numerical columns in a Polars DataFrame.\n",
    "\n",
    "    Args:\n",
    "        df: The Polars DataFrame.\n",
    "\n",
    "    Returns:\n",
    "        A dictionary where keys are column names and values are the histogram data.\n",
    "    \"\"\"\n",
    "    histograms = {}\n",
    "    for col_name in df.columns:\n",
    "        if df[col_name].dtype in [pl.Int8, pl.Int16, pl.Int32, pl.Int64, pl.UInt8, pl.UInt16, pl.UInt32, pl.UInt64, pl.Float32, pl.Float64]:\n",
    "            hist_data = df[col_name].hist()\n",
    "            histograms[col_name] = hist_data\n",
    "    return histograms"
   ]
  },
  {
   "cell_type": "code",
   "execution_count": 3,
   "id": "c625f88f",
   "metadata": {},
   "outputs": [],
   "source": [
    "index_cols = {\n",
    "    1: ['l_returnflag', 'l_linestatus'],\n",
    "    3: ['l_orderkey','o_orderdate','o_shippriority'],\n",
    "    4: ['o_orderpriority'],\n",
    "    5: ['n_name'],\n",
    "    6: [],\n",
    "    7: ['supp_nation', 'cust_nation', 'l_year'], \n",
    "    8: ['o_year'],\n",
    "    9: ['nation', 'o_year'],\n",
    "    12: ['l_shipmode'],\n",
    "    13: ['c_count'],\n",
    "    14: [],\n",
    "    17: [],\n",
    "    19: [],\n",
    "    21: ['s_name'],\n",
    "    22: ['cntrycode']\n",
    "}\n",
    "scale_required = set([4, 5, 6, 7, 9, 12, 13, 17, 19, 21, 22])\n",
    "# not 8, 14\n",
    "# skip 3, skip 20\n",
    "queries_to_run = [1, 4, 5, 6, 7, 8, 9, 12, 13, 14, 17, 19, 21, 22]"
   ]
  },
  {
   "cell_type": "code",
   "execution_count": 4,
   "id": "7d03306b",
   "metadata": {},
   "outputs": [
    {
     "ename": "TypeError",
     "evalue": "unsupported operand type(s) for *: 'int' and 'NoneType'",
     "output_type": "error",
     "traceback": [
      "\u001b[0;31m---------------------------------------------------------------------------\u001b[0m",
      "\u001b[0;31mTypeError\u001b[0m                                 Traceback (most recent call last)",
      "Input \u001b[0;32mIn [4]\u001b[0m, in \u001b[0;36m<cell line: 1>\u001b[0;34m()\u001b[0m\n\u001b[1;32m     31\u001b[0m                     const \u001b[38;5;241m=\u001b[39m \u001b[38;5;241m1\u001b[39m\n\u001b[1;32m     32\u001b[0m \u001b[38;5;66;03m#                     print(merged_df[noised][ind])\u001b[39;00m\n\u001b[1;32m     33\u001b[0m                 new \u001b[38;5;241m=\u001b[39m np\u001b[38;5;241m.\u001b[39maverage(\n\u001b[0;32m---> 34\u001b[0m                     [\u001b[38;5;241m100\u001b[39m\u001b[38;5;241m*\u001b[39m\u001b[38;5;28mabs\u001b[39m(\n\u001b[1;32m     35\u001b[0m                         const\u001b[38;5;241m*\u001b[39mmerged_df[noised][ind][tmp_ind] \u001b[38;5;241m-\u001b[39m merged_df[orig][ind]\n\u001b[1;32m     36\u001b[0m                         ) \u001b[38;5;241m/\u001b[39m merged_df[orig][ind] \u001b[38;5;28;01mfor\u001b[39;00m tmp_ind \u001b[38;5;129;01min\u001b[39;00m \u001b[38;5;28mrange\u001b[39m(\n\u001b[1;32m     37\u001b[0m                             \u001b[38;5;28mlen\u001b[39m(merged_df[noised][ind]))]\n\u001b[1;32m     38\u001b[0m                 )\n\u001b[1;32m     39\u001b[0m                 rel_errors\u001b[38;5;241m.\u001b[39mappend(new)\n\u001b[1;32m     40\u001b[0m             merged_df \u001b[38;5;241m=\u001b[39m merged_df\u001b[38;5;241m.\u001b[39mwith_columns(pl\u001b[38;5;241m.\u001b[39mSeries(\u001b[38;5;124m'\u001b[39m\u001b[38;5;124mpct_diff_\u001b[39m\u001b[38;5;124m'\u001b[39m \u001b[38;5;241m+\u001b[39m base_name, rel_errors))\n",
      "Input \u001b[0;32mIn [4]\u001b[0m, in \u001b[0;36m<listcomp>\u001b[0;34m(.0)\u001b[0m\n\u001b[1;32m     31\u001b[0m                     const \u001b[38;5;241m=\u001b[39m \u001b[38;5;241m1\u001b[39m\n\u001b[1;32m     32\u001b[0m \u001b[38;5;66;03m#                     print(merged_df[noised][ind])\u001b[39;00m\n\u001b[1;32m     33\u001b[0m                 new \u001b[38;5;241m=\u001b[39m np\u001b[38;5;241m.\u001b[39maverage(\n\u001b[1;32m     34\u001b[0m                     [\u001b[38;5;241m100\u001b[39m\u001b[38;5;241m*\u001b[39m\u001b[38;5;28mabs\u001b[39m(\n\u001b[0;32m---> 35\u001b[0m                         \u001b[43mconst\u001b[49m\u001b[38;5;241;43m*\u001b[39;49m\u001b[43mmerged_df\u001b[49m\u001b[43m[\u001b[49m\u001b[43mnoised\u001b[49m\u001b[43m]\u001b[49m\u001b[43m[\u001b[49m\u001b[43mind\u001b[49m\u001b[43m]\u001b[49m\u001b[43m[\u001b[49m\u001b[43mtmp_ind\u001b[49m\u001b[43m]\u001b[49m \u001b[38;5;241m-\u001b[39m merged_df[orig][ind]\n\u001b[1;32m     36\u001b[0m                         ) \u001b[38;5;241m/\u001b[39m merged_df[orig][ind] \u001b[38;5;28;01mfor\u001b[39;00m tmp_ind \u001b[38;5;129;01min\u001b[39;00m \u001b[38;5;28mrange\u001b[39m(\n\u001b[1;32m     37\u001b[0m                             \u001b[38;5;28mlen\u001b[39m(merged_df[noised][ind]))]\n\u001b[1;32m     38\u001b[0m                 )\n\u001b[1;32m     39\u001b[0m                 rel_errors\u001b[38;5;241m.\u001b[39mappend(new)\n\u001b[1;32m     40\u001b[0m             merged_df \u001b[38;5;241m=\u001b[39m merged_df\u001b[38;5;241m.\u001b[39mwith_columns(pl\u001b[38;5;241m.\u001b[39mSeries(\u001b[38;5;124m'\u001b[39m\u001b[38;5;124mpct_diff_\u001b[39m\u001b[38;5;124m'\u001b[39m \u001b[38;5;241m+\u001b[39m base_name, rel_errors))\n",
      "\u001b[0;31mTypeError\u001b[0m: unsupported operand type(s) for *: 'int' and 'NoneType'"
     ]
    }
   ],
   "source": [
    "for query_ind in [3]:\n",
    "    null_info = {}\n",
    "    orig = pl.read_csv(f'unnoised/q{query_ind}.csv')\n",
    "    if query_ind == 22:\n",
    "        orig = orig.select(\n",
    "        pl.col(\"cntrycode\").cast(str),\n",
    "        pl.col(\"numcust\"),\n",
    "        pl.col(\"totacctbal\"))\n",
    "    noised = pl.read_json(f'outputs/ap-duckdb-q{query_ind}-customer-step3/output.json')\n",
    "    if index_cols[query_ind]:\n",
    "        merged_df = orig.join(noised, on=index_cols[query_ind], suffix='_noised')\n",
    "    else:\n",
    "        merged_df = orig.join(noised, suffix='_noised', how='cross')\n",
    "    suffix1 = ''\n",
    "    suffix2 = '_noised'\n",
    "    cols_with_suffixes = [col for col in merged_df.columns if suffix1 in col or suffix2 in col]\n",
    "\n",
    "    base_names = set([col.replace(suffix1, '').replace(suffix2, '') for col in cols_with_suffixes])\n",
    "    for base_name in base_names:\n",
    "        nulls_exist = False\n",
    "        null_inds, null_vals = [], []\n",
    "        \n",
    "        orig = base_name + suffix1\n",
    "        noised = base_name + suffix2\n",
    "        if orig in merged_df.columns and noised in merged_df.columns:\n",
    "            rel_errors = []\n",
    "            for ind in range(len(merged_df[orig])):\n",
    "                if query_ind in scale_required:\n",
    "                    const = 2 # subsampling scaling\n",
    "                else:\n",
    "                    const = 1\n",
    "#                     print(merged_df[noised][ind])\n",
    "                new = np.average(\n",
    "                    [100*abs(\n",
    "                        const*merged_df[noised][ind][tmp_ind] - merged_df[orig][ind]\n",
    "                        ) / merged_df[orig][ind] for tmp_ind in range(\n",
    "                            len(merged_df[noised][ind]))]\n",
    "                )\n",
    "                rel_errors.append(new)\n",
    "            merged_df = merged_df.with_columns(pl.Series('pct_diff_' + base_name, rel_errors))\n",
    "            num_outputs = len(list(merged_df[noised]))\n",
    "            for ind in range(num_outputs):\n",
    "                if len(list(merged_df[noised][ind])) < 100:\n",
    "                    nulls_exist = True\n",
    "                    null_inds.append(ind)\n",
    "                    null_vals.append((100-len(list(merged_df[noised][ind]))))\n",
    "                    print(query_ind, ind)\n",
    "        null_info[base_name] = (nulls_exist, null_inds, null_vals)\n",
    "        \n",
    "    # Get columns that start with 'pct_diff'\n",
    "    pct_diff_cols = [col for col in merged_df.columns if col.startswith('pct_diff')]\n",
    "\n",
    "    # Create subplots based on number of pct_diff columns\n",
    "    n_cols = len(pct_diff_cols)\n",
    "    fig, axes = plt.subplots(1, n_cols, figsize=(5*n_cols, 4))\n",
    "\n",
    "    # Handle case where there's only one column (axes won't be a list)\n",
    "    if n_cols == 1:\n",
    "        axes = [axes]\n",
    "\n",
    "    # Create histogram for each column\n",
    "    for i, col in enumerate(pct_diff_cols):\n",
    "        # Convert to pandas for easier plotting, or use polars plot method\n",
    "        values = merged_df[col].to_pandas()\n",
    "\n",
    "        axes[i].hist(values, bins=30, alpha=0.7, edgecolor='black')\n",
    "        axes[i].set_title(f'Histogram of {col}')\n",
    "        axes[i].set_xlabel(col)\n",
    "        axes[i].set_ylabel('Frequency')\n",
    "        axes[i].grid(True, alpha=0.3)\n",
    "\n",
    "    plt.tight_layout()\n",
    "    plt.show()\n",
    "\n",
    "    for base in null_info:\n",
    "        (nulls_exist, null_inds, null_vals) = null_info[base]\n",
    "        if nulls_exist:\n",
    "            fig, axes = plt.subplots(1, 1, figsize=(5, 4))\n",
    "            # Handle case where there's only one column (axes won't be a list)\n",
    "            if n_cols == 1:\n",
    "                axes = [axes]\n",
    "            axes[0].hist(null_vals, bins=30, alpha=0.7, edgecolor='black')\n",
    "            axes[0].set_title(f'Histogram of nulls for column {base}')\n",
    "            axes[0].set_xlabel('Fraction of nulls (%)')\n",
    "            axes[0].set_ylabel('Frequency')\n",
    "            axes[0].grid(True, alpha=0.3)\n",
    "            plt.show()\n"
   ]
  },
  {
   "cell_type": "code",
   "execution_count": 7,
   "id": "fba78cf2",
   "metadata": {},
   "outputs": [],
   "source": [
    "noised = pl.read_json(f'outputs/ap-duckdb-q{query_ind}-customer-step3/output.json')"
   ]
  },
  {
   "cell_type": "code",
   "execution_count": 34,
   "id": "2a1246dd",
   "metadata": {},
   "outputs": [
    {
     "data": {
      "text/plain": [
       "[312604.542,\n",
       " 312604.542,\n",
       " 312604.542,\n",
       " 312604.542,\n",
       " 312604.542,\n",
       " 312604.542,\n",
       " 312604.542,\n",
       " 312604.542,\n",
       " 312604.542,\n",
       " 312604.542,\n",
       " 312604.542,\n",
       " 312604.542,\n",
       " 312604.542,\n",
       " 312604.542,\n",
       " 312604.542,\n",
       " 312604.542,\n",
       " 312604.542,\n",
       " 312604.542,\n",
       " 312604.542,\n",
       " 312604.542,\n",
       " 312604.542,\n",
       " 312604.542,\n",
       " 312604.542,\n",
       " 312604.542,\n",
       " 312604.542,\n",
       " 312604.542,\n",
       " 312604.542,\n",
       " 312604.542,\n",
       " 312604.542,\n",
       " 312604.542,\n",
       " 312604.542,\n",
       " 312604.542,\n",
       " 312604.542,\n",
       " 312604.542,\n",
       " 312604.542,\n",
       " 312604.542,\n",
       " 312604.542,\n",
       " 312604.542,\n",
       " 312604.542,\n",
       " 312604.542,\n",
       " 312604.542,\n",
       " 312604.542,\n",
       " 312604.542,\n",
       " 312604.542,\n",
       " 312604.542]"
      ]
     },
     "execution_count": 34,
     "metadata": {},
     "output_type": "execute_result"
    }
   ],
   "source": [
    "t = noised[4]['revenue'].to_list()[0]\n",
    "t"
   ]
  },
  {
   "cell_type": "code",
   "execution_count": 36,
   "id": "27002af4",
   "metadata": {},
   "outputs": [
    {
     "data": {
      "text/html": [
       "<div><style>\n",
       ".dataframe > thead > tr,\n",
       ".dataframe > tbody > tr {\n",
       "  text-align: right;\n",
       "  white-space: pre-wrap;\n",
       "}\n",
       "</style>\n",
       "<small>shape: (1_216, 4)</small><table border=\"1\" class=\"dataframe\"><thead><tr><th>l_orderkey</th><th>o_orderdate</th><th>o_shippriority</th><th>revenue</th></tr><tr><td>i64</td><td>str</td><td>i64</td><td>list[f64]</td></tr></thead><tbody><tr><td>223140</td><td>&quot;1995-03-14&quot;</td><td>0</td><td>[null]</td></tr><tr><td>405063</td><td>&quot;1995-03-03&quot;</td><td>0</td><td>[353125.4577, 353125.4577, … 353125.4577]</td></tr><tr><td>573861</td><td>&quot;1995-03-09&quot;</td><td>0</td><td>[351238.277, 351238.277, … 351238.277]</td></tr><tr><td>121604</td><td>&quot;1995-03-07&quot;</td><td>0</td><td>[318576.4154, 318576.4154, … 318576.4154]</td></tr><tr><td>462502</td><td>&quot;1995-03-08&quot;</td><td>0</td><td>[312604.542, 312604.542, … 312604.542]</td></tr><tr><td>&hellip;</td><td>&hellip;</td><td>&hellip;</td><td>&hellip;</td></tr><tr><td>405286</td><td>&quot;1995-02-09&quot;</td><td>0</td><td>[null]</td></tr><tr><td>216517</td><td>&quot;1994-11-27&quot;</td><td>0</td><td>[null]</td></tr><tr><td>391552</td><td>&quot;1995-01-29&quot;</td><td>0</td><td>[null]</td></tr><tr><td>506661</td><td>&quot;1994-12-02&quot;</td><td>0</td><td>[27420.0, 27420.0, … 27420.0]</td></tr><tr><td>368327</td><td>&quot;1995-01-15&quot;</td><td>0</td><td>[null]</td></tr></tbody></table></div>"
      ],
      "text/plain": [
       "shape: (1_216, 4)\n",
       "┌────────────┬─────────────┬────────────────┬─────────────────────────────────┐\n",
       "│ l_orderkey ┆ o_orderdate ┆ o_shippriority ┆ revenue                         │\n",
       "│ ---        ┆ ---         ┆ ---            ┆ ---                             │\n",
       "│ i64        ┆ str         ┆ i64            ┆ list[f64]                       │\n",
       "╞════════════╪═════════════╪════════════════╪═════════════════════════════════╡\n",
       "│ 223140     ┆ 1995-03-14  ┆ 0              ┆ [null]                          │\n",
       "│ 405063     ┆ 1995-03-03  ┆ 0              ┆ [353125.4577, 353125.4577, … 3… │\n",
       "│ 573861     ┆ 1995-03-09  ┆ 0              ┆ [351238.277, 351238.277, … 351… │\n",
       "│ 121604     ┆ 1995-03-07  ┆ 0              ┆ [318576.4154, 318576.4154, … 3… │\n",
       "│ 462502     ┆ 1995-03-08  ┆ 0              ┆ [312604.542, 312604.542, … 312… │\n",
       "│ …          ┆ …           ┆ …              ┆ …                               │\n",
       "│ 405286     ┆ 1995-02-09  ┆ 0              ┆ [null]                          │\n",
       "│ 216517     ┆ 1994-11-27  ┆ 0              ┆ [null]                          │\n",
       "│ 391552     ┆ 1995-01-29  ┆ 0              ┆ [null]                          │\n",
       "│ 506661     ┆ 1994-12-02  ┆ 0              ┆ [27420.0, 27420.0, … 27420.0]   │\n",
       "│ 368327     ┆ 1995-01-15  ┆ 0              ┆ [null]                          │\n",
       "└────────────┴─────────────┴────────────────┴─────────────────────────────────┘"
      ]
     },
     "execution_count": 36,
     "metadata": {},
     "output_type": "execute_result"
    }
   ],
   "source": [
    "noised"
   ]
  },
  {
   "cell_type": "code",
   "execution_count": null,
   "id": "199ffbe2",
   "metadata": {},
   "outputs": [],
   "source": []
  }
 ],
 "metadata": {
  "kernelspec": {
   "display_name": "Python 3 (ipykernel)",
   "language": "python",
   "name": "python3"
  },
  "language_info": {
   "codemirror_mode": {
    "name": "ipython",
    "version": 3
   },
   "file_extension": ".py",
   "mimetype": "text/x-python",
   "name": "python",
   "nbconvert_exporter": "python",
   "pygments_lexer": "ipython3",
   "version": "3.9.17"
  }
 },
 "nbformat": 4,
 "nbformat_minor": 5
}
