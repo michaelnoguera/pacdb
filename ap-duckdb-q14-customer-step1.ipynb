{
 "cells": [
  {
   "cell_type": "markdown",
   "id": "cf6a41fc",
   "metadata": {
    "papermill": {
     "duration": 0.004957,
     "end_time": "2025-05-01T09:27:52.321052",
     "exception": false,
     "start_time": "2025-05-01T09:27:52.316095",
     "status": "completed"
    },
    "tags": []
   },
   "source": [
    "## DuckDB Notebook\n",
    "\n",
    "This notebook generates a bunch of raw outputs, without applying PAC, to be consumed by a second stage."
   ]
  },
  {
   "cell_type": "markdown",
   "id": "ddf3c6ca",
   "metadata": {
    "papermill": {
     "duration": 0.002541,
     "end_time": "2025-05-01T09:27:52.327296",
     "exception": false,
     "start_time": "2025-05-01T09:27:52.324755",
     "status": "completed"
    },
    "tags": []
   },
   "source": [
    "```\n",
    " group by              output cols                        \n",
    " key cols ┌────────┬────────┬────────┬────────┐           \n",
    "        │ │   A    │   B    │   C    │   D    │           \n",
    "      ┌─▼─┼────────┼────────┼────────┼────────┤           \n",
    "      │ 1 │   2    │        │        │        │           \n",
    "      ├───┼───|────┼────────┼────────┼────────┤           \n",
    "      │ 2 │   │    │        │        │        │           \n",
    "      ├───┼───┼────┼────────┼────────┼────────┤           \n",
    "      │ 3 │   │    │        │        │        │           \n",
    "      └───┴───┼────┴────────┴────────┴────────┘           \n",
    "              ▼                 A_1.json                  \n",
    "       Sample 0:   A1=2        ┌─────────────────────────┐\n",
    "       Sample 1:   A1=4  ───▶  │{                        │\n",
    "             ...               │    col: A               │\n",
    "       Sample 999: A1=3        │    row: 1               │\n",
    "                               │    value: [2, 4, ... 3] │\n",
    "                               │}                        │\n",
    "                               └─────────────────────────┘\n",
    "```"
   ]
  },
  {
   "cell_type": "code",
   "execution_count": 1,
   "id": "01d7dcfd",
   "metadata": {
    "execution": {
     "iopub.execute_input": "2025-05-01T09:27:52.333027Z",
     "iopub.status.busy": "2025-05-01T09:27:52.332735Z",
     "iopub.status.idle": "2025-05-01T09:27:52.402247Z",
     "shell.execute_reply": "2025-05-01T09:27:52.401955Z"
    },
    "papermill": {
     "duration": 0.073601,
     "end_time": "2025-05-01T09:27:52.403090",
     "exception": false,
     "start_time": "2025-05-01T09:27:52.329489",
     "status": "completed"
    },
    "tags": []
   },
   "outputs": [],
   "source": [
    "#!/usr/bin/env python\n",
    "# coding: utf-8\n",
    "\n",
    "import os\n",
    "import pickle\n",
    "import shutil\n",
    "\n",
    "import duckdb\n",
    "import polars as pl"
   ]
  },
  {
   "cell_type": "code",
   "execution_count": 2,
   "id": "3a3cde5c",
   "metadata": {
    "execution": {
     "iopub.execute_input": "2025-05-01T09:27:52.406390Z",
     "iopub.status.busy": "2025-05-01T09:27:52.406269Z",
     "iopub.status.idle": "2025-05-01T09:27:52.408886Z",
     "shell.execute_reply": "2025-05-01T09:27:52.408654Z"
    },
    "papermill": {
     "duration": 0.005035,
     "end_time": "2025-05-01T09:27:52.409640",
     "exception": false,
     "start_time": "2025-05-01T09:27:52.404605",
     "status": "completed"
    },
    "tags": [
     "parameters"
    ]
   },
   "outputs": [],
   "source": [
    "EXPERIMENT = \"pac-duckdb-q1\"\n",
    "OUTPUT_DIR = f\"./outputs/{EXPERIMENT}-step1\"\n",
    "SAMPLES = 1024\n",
    "\n",
    "SAMPLE_STEP = f\"\"\"\n",
    "DROP TABLE IF EXISTS random_samples;\n",
    "\n",
    "CREATE TABLE random_samples AS\n",
    "WITH sample_numbers AS MATERIALIZED (\n",
    "    SELECT range AS sample_id FROM range({SAMPLES//2})\n",
    "), random_values AS MATERIALIZED (\n",
    "    SELECT \n",
    "        sample_numbers.sample_id,\n",
    "        customer.rowid AS row_id,\n",
    "        (RANDOM() > 0.5)::BOOLEAN AS random_binary\n",
    "    FROM sample_numbers\n",
    "    JOIN customer ON TRUE  -- Cross join to duplicate rows for each sample\n",
    ")\n",
    "SELECT\n",
    "    sample_id,\n",
    "    row_id,\n",
    "    random_binary\n",
    "FROM random_values\n",
    "UNION ALL\n",
    "SELECT -- select the complementary samples too\n",
    "    ({SAMPLES//2}) + sample_id,\n",
    "    row_id,\n",
    "    NOT random_binary  -- Inverse the random_binary to get the complementary sample\n",
    "FROM random_values\n",
    "ORDER BY sample_id, row_id;\n",
    "\"\"\"\n",
    "\n",
    "PREPARE_STEP = \"\"\"\n",
    "DEALLOCATE PREPARE run_query;\n",
    "\n",
    "PREPARE run_query AS \n",
    "SELECT\n",
    "    l_returnflag,\n",
    "    l_linestatus,\n",
    "    2*sum(l_quantity) AS sum_qty,\n",
    "    2*sum(l_extendedprice) AS sum_base_price,\n",
    "    2*sum(l_extendedprice * (1 - l_discount)) AS sum_disc_price,\n",
    "    2*sum(l_extendedprice * (1 - l_discount) * (1 + l_tax)) AS sum_charge,\n",
    "    avg(l_quantity) AS avg_qty,\n",
    "    avg(l_extendedprice) AS avg_price,\n",
    "    avg(l_discount) AS avg_disc,\n",
    "    2*count(*) AS count_order\n",
    "FROM\n",
    "    lineitem\n",
    "JOIN orders ON lineitem.l_orderkey = orders.o_orderkey\n",
    "JOIN customer ON orders.o_custkey = customer.c_custkey\n",
    "JOIN random_samples AS rs\n",
    "    ON rs.row_id = customer.rowid\n",
    "WHERE\n",
    "    l_shipdate <= CAST('1998-09-02' AS date)\n",
    "    AND rs.random_binary = TRUE\n",
    "    AND rs.sample_id = $sample\n",
    "GROUP BY\n",
    "    l_returnflag,\n",
    "    l_linestatus\n",
    "ORDER BY\n",
    "    l_returnflag,\n",
    "    l_linestatus;\n",
    "\"\"\"\n",
    "\n",
    "INDEX_COLS = ['l_returnflag', 'l_linestatus']\n",
    "OUTPUT_COLS = ['sum_qty', 'sum_base_price', 'sum_disc_price', 'sum_charge', 'avg_qty', 'avg_price', 'avg_disc', 'count_order']"
   ]
  },
  {
   "cell_type": "code",
   "execution_count": 3,
   "id": "e10e79df",
   "metadata": {
    "execution": {
     "iopub.execute_input": "2025-05-01T09:27:52.412788Z",
     "iopub.status.busy": "2025-05-01T09:27:52.412666Z",
     "iopub.status.idle": "2025-05-01T09:27:52.414660Z",
     "shell.execute_reply": "2025-05-01T09:27:52.414437Z"
    },
    "papermill": {
     "duration": 0.004265,
     "end_time": "2025-05-01T09:27:52.415317",
     "exception": false,
     "start_time": "2025-05-01T09:27:52.411052",
     "status": "completed"
    },
    "tags": [
     "injected-parameters"
    ]
   },
   "outputs": [],
   "source": [
    "# Parameters\n",
    "EXPERIMENT = \"ap-duckdb-q14-customer\"\n",
    "OUTPUT_DIR = \"./outputs/ap-duckdb-q14-customer-step1\"\n",
    "SAMPLES = 1024\n",
    "SAMPLE_STEP = \"DROP TABLE IF EXISTS random_samples;\\n\\nCREATE TABLE random_samples AS\\nWITH sample_numbers AS MATERIALIZED (\\n    SELECT range AS sample_id FROM range(1024 // 2)\\n), random_values AS MATERIALIZED (\\n    SELECT \\n        sample_numbers.sample_id,\\n        customer.rowid AS row_id,\\n        (RANDOM() > 0.5)::BOOLEAN AS random_binary\\n    FROM sample_numbers\\n    JOIN customer ON TRUE  -- Cross join to duplicate rows for each sample\\n)\\nSELECT\\n    sample_id,\\n    row_id,\\n    random_binary\\nFROM random_values\\nUNION ALL\\nSELECT -- select the complementary samples too\\n    (1024 // 2) + sample_id,\\n    row_id,\\n    NOT random_binary  -- Inverse the random_binary to get the complementary sample\\nFROM random_values\\nORDER BY sample_id, row_id;\"\n",
    "PREPARE_STEP = \"DEALLOCATE PREPARE run_query;\\n\\nPREPARE run_query AS \\nSELECT\\n    100.00 * sum(\\n        CASE WHEN p_type LIKE 'PROMO%' THEN\\n            l_extendedprice * (1 - l_discount)\\n        ELSE\\n            0\\n        END) / sum(l_extendedprice * (1 - l_discount)) AS promo_revenue\\nFROM\\n    lineitem,\\n    part,\\n    orders,\\n    customer,\\n    random_samples AS rs\\nWHERE\\n    rs.row_id = customer.rowid\\n    AND rs.random_binary = TRUE\\n    AND rs.sample_id = $sample\\n    AND o_custkey = c_custkey\\n    AND o_orderkey = l_orderkey\\n    AND l_partkey = p_partkey\\n    AND l_shipdate >= date '1995-09-01'\\n    AND l_shipdate < CAST('1995-10-01' AS date);\"\n",
    "INDEX_COLS = []\n",
    "OUTPUT_COLS = [\"promo_revenue\"]\n"
   ]
  },
  {
   "cell_type": "code",
   "execution_count": 4,
   "id": "3fd7c65d",
   "metadata": {
    "execution": {
     "iopub.execute_input": "2025-05-01T09:27:52.418681Z",
     "iopub.status.busy": "2025-05-01T09:27:52.418503Z",
     "iopub.status.idle": "2025-05-01T09:27:52.420186Z",
     "shell.execute_reply": "2025-05-01T09:27:52.419955Z"
    },
    "papermill": {
     "duration": 0.004016,
     "end_time": "2025-05-01T09:27:52.420851",
     "exception": false,
     "start_time": "2025-05-01T09:27:52.416835",
     "status": "completed"
    },
    "tags": []
   },
   "outputs": [],
   "source": [
    "if not os.path.exists(OUTPUT_DIR):\n",
    "    os.makedirs(OUTPUT_DIR)"
   ]
  },
  {
   "cell_type": "code",
   "execution_count": 5,
   "id": "ca2aa112",
   "metadata": {
    "execution": {
     "iopub.execute_input": "2025-05-01T09:27:52.423886Z",
     "iopub.status.busy": "2025-05-01T09:27:52.423795Z",
     "iopub.status.idle": "2025-05-01T09:27:52.737434Z",
     "shell.execute_reply": "2025-05-01T09:27:52.737176Z"
    },
    "papermill": {
     "duration": 0.316034,
     "end_time": "2025-05-01T09:27:52.738262",
     "exception": false,
     "start_time": "2025-05-01T09:27:52.422228",
     "status": "completed"
    },
    "tags": []
   },
   "outputs": [],
   "source": [
    "# duckdb load data/tpch/tpch.duckdb into the temporary in-memory database\n",
    "con = duckdb.connect(database=':memory:')\n",
    "tables = [\"customer\", \"lineitem\", \"nation\", \"orders\", \"part\", \"partsupp\", \"region\", \"supplier\"]\n",
    "for t in tables:\n",
    "    con.execute(f\"CREATE TABLE {t} AS SELECT * FROM 'data/tpch/{t}.parquet'\")"
   ]
  },
  {
   "cell_type": "code",
   "execution_count": 6,
   "id": "af0905e0",
   "metadata": {
    "execution": {
     "iopub.execute_input": "2025-05-01T09:27:52.741696Z",
     "iopub.status.busy": "2025-05-01T09:27:52.741593Z",
     "iopub.status.idle": "2025-05-01T09:27:53.780227Z",
     "shell.execute_reply": "2025-05-01T09:27:53.779923Z"
    },
    "papermill": {
     "duration": 1.041109,
     "end_time": "2025-05-01T09:27:53.781046",
     "exception": false,
     "start_time": "2025-05-01T09:27:52.739937",
     "status": "completed"
    },
    "tags": []
   },
   "outputs": [],
   "source": [
    "# Construct the table of random samples\n",
    "# to use, join it with the lineitem table (for specific sample # s) and filter to just the\n",
    "# rows where random_binary = 1.0\n",
    "# This will give us a 50% sample of the lineitem table for each sample # s\n",
    "\n",
    "assert SAMPLES % 2 == 0, \"SAMPLES must be even to create complementary samples.\"\n",
    "\n",
    "random_samples = con.execute(SAMPLE_STEP)"
   ]
  },
  {
   "cell_type": "markdown",
   "id": "0b85caa3",
   "metadata": {
    "papermill": {
     "duration": 0.001321,
     "end_time": "2025-05-01T09:27:53.784072",
     "exception": false,
     "start_time": "2025-05-01T09:27:53.782751",
     "status": "completed"
    },
    "tags": []
   },
   "source": [
    "The randomness of what rows are chosen is saved to disk in `random_binary.json`. For each sample #, there is an array with one entry per row, where 1 means the row was chosen and 0 means it was not."
   ]
  },
  {
   "cell_type": "code",
   "execution_count": 7,
   "id": "5eaa2cf0",
   "metadata": {
    "execution": {
     "iopub.execute_input": "2025-05-01T09:27:53.787598Z",
     "iopub.status.busy": "2025-05-01T09:27:53.787474Z",
     "iopub.status.idle": "2025-05-01T09:27:54.131339Z",
     "shell.execute_reply": "2025-05-01T09:27:54.131009Z"
    },
    "papermill": {
     "duration": 0.346496,
     "end_time": "2025-05-01T09:27:54.132174",
     "exception": false,
     "start_time": "2025-05-01T09:27:53.785678",
     "status": "completed"
    },
    "tags": []
   },
   "outputs": [],
   "source": [
    "con.execute(\"\"\"\n",
    "SELECT sample_id, array_agg(random_binary::TINYINT) as random_binary\n",
    "FROM random_samples\n",
    "GROUP BY sample_id;\n",
    "\"\"\").pl().write_json(f\"{OUTPUT_DIR}/random_binary.json\")"
   ]
  },
  {
   "cell_type": "markdown",
   "id": "e969f998",
   "metadata": {
    "papermill": {
     "duration": 0.001419,
     "end_time": "2025-05-01T09:27:54.135235",
     "exception": false,
     "start_time": "2025-05-01T09:27:54.133816",
     "status": "completed"
    },
    "tags": []
   },
   "source": [
    "Query is specified as a prepared statement. We will then execute it once per sample."
   ]
  },
  {
   "cell_type": "code",
   "execution_count": 8,
   "id": "29d57cdc",
   "metadata": {
    "execution": {
     "iopub.execute_input": "2025-05-01T09:27:54.138578Z",
     "iopub.status.busy": "2025-05-01T09:27:54.138276Z",
     "iopub.status.idle": "2025-05-01T09:27:54.205105Z",
     "shell.execute_reply": "2025-05-01T09:27:54.204862Z"
    },
    "papermill": {
     "duration": 0.06914,
     "end_time": "2025-05-01T09:27:54.205725",
     "exception": false,
     "start_time": "2025-05-01T09:27:54.136585",
     "status": "completed"
    },
    "tags": []
   },
   "outputs": [
    {
     "data": {
      "text/html": [
       "<div><style>\n",
       ".dataframe > thead > tr,\n",
       ".dataframe > tbody > tr {\n",
       "  text-align: right;\n",
       "  white-space: pre-wrap;\n",
       "}\n",
       "</style>\n",
       "<small>shape: (1, 1)</small><table border=\"1\" class=\"dataframe\"><thead><tr><th>promo_revenue</th></tr><tr><td>f64</td></tr></thead><tbody><tr><td>15.487736</td></tr></tbody></table></div>"
      ],
      "text/plain": [
       "shape: (1, 1)\n",
       "┌───────────────┐\n",
       "│ promo_revenue │\n",
       "│ ---           │\n",
       "│ f64           │\n",
       "╞═══════════════╡\n",
       "│ 15.487736     │\n",
       "└───────────────┘"
      ]
     },
     "execution_count": 8,
     "metadata": {},
     "output_type": "execute_result"
    }
   ],
   "source": [
    "# Query\n",
    "con.execute(PREPARE_STEP)\n",
    "\n",
    "# Run query to see output\n",
    "dfs0 = con.execute(f\"EXECUTE run_query(sample := {0});\").pl()\n",
    "\n",
    "# Save csv copies of the first 5 samples\n",
    "os.makedirs(f\"{OUTPUT_DIR}/csv\", exist_ok=True)\n",
    "for s in range(5):\n",
    "    con.execute(f\"EXECUTE run_query(sample := {s});\").pl().write_csv(f\"{OUTPUT_DIR}/csv/sample_{s}.csv\")\n",
    "\n",
    "dfs0"
   ]
  },
  {
   "cell_type": "code",
   "execution_count": 9,
   "id": "3ef67de0",
   "metadata": {
    "execution": {
     "iopub.execute_input": "2025-05-01T09:27:54.208922Z",
     "iopub.status.busy": "2025-05-01T09:27:54.208813Z",
     "iopub.status.idle": "2025-05-01T09:28:01.878198Z",
     "shell.execute_reply": "2025-05-01T09:28:01.877931Z"
    },
    "papermill": {
     "duration": 7.671632,
     "end_time": "2025-05-01T09:28:01.878851",
     "exception": false,
     "start_time": "2025-05-01T09:27:54.207219",
     "status": "completed"
    },
    "tags": []
   },
   "outputs": [
    {
     "data": {
      "text/html": [
       "<div><style>\n",
       ".dataframe > thead > tr,\n",
       ".dataframe > tbody > tr {\n",
       "  text-align: right;\n",
       "  white-space: pre-wrap;\n",
       "}\n",
       "</style>\n",
       "<small>shape: (1_024, 2)</small><table border=\"1\" class=\"dataframe\"><thead><tr><th>sample</th><th>promo_revenue</th></tr><tr><td>i32</td><td>f64</td></tr></thead><tbody><tr><td>0</td><td>15.487736</td></tr><tr><td>1</td><td>16.185111</td></tr><tr><td>2</td><td>15.848825</td></tr><tr><td>3</td><td>16.359772</td></tr><tr><td>4</td><td>15.751011</td></tr><tr><td>&hellip;</td><td>&hellip;</td></tr><tr><td>1019</td><td>16.443951</td></tr><tr><td>1020</td><td>16.254709</td></tr><tr><td>1021</td><td>16.342228</td></tr><tr><td>1022</td><td>15.889285</td></tr><tr><td>1023</td><td>17.00692</td></tr></tbody></table></div>"
      ],
      "text/plain": [
       "shape: (1_024, 2)\n",
       "┌────────┬───────────────┐\n",
       "│ sample ┆ promo_revenue │\n",
       "│ ---    ┆ ---           │\n",
       "│ i32    ┆ f64           │\n",
       "╞════════╪═══════════════╡\n",
       "│ 0      ┆ 15.487736     │\n",
       "│ 1      ┆ 16.185111     │\n",
       "│ 2      ┆ 15.848825     │\n",
       "│ 3      ┆ 16.359772     │\n",
       "│ 4      ┆ 15.751011     │\n",
       "│ …      ┆ …             │\n",
       "│ 1019   ┆ 16.443951     │\n",
       "│ 1020   ┆ 16.254709     │\n",
       "│ 1021   ┆ 16.342228     │\n",
       "│ 1022   ┆ 15.889285     │\n",
       "│ 1023   ┆ 17.00692      │\n",
       "└────────┴───────────────┘"
      ]
     },
     "execution_count": 9,
     "metadata": {},
     "output_type": "execute_result"
    }
   ],
   "source": [
    "# Run the query for each sample, but accumulate in a pl.DataFrame instead of a list\n",
    "dfsdf: pl.DataFrame = pl.concat(\n",
    "    con.execute(f\"EXECUTE run_query(sample := {s});\").pl().insert_column(0, pl.lit(s).alias(\"sample\"))\n",
    "    for s in range(SAMPLES)\n",
    ")\n",
    "dfsdf"
   ]
  },
  {
   "cell_type": "code",
   "execution_count": 10,
   "id": "46b2cf39",
   "metadata": {
    "execution": {
     "iopub.execute_input": "2025-05-01T09:28:01.882557Z",
     "iopub.status.busy": "2025-05-01T09:28:01.882455Z",
     "iopub.status.idle": "2025-05-01T09:28:01.884641Z",
     "shell.execute_reply": "2025-05-01T09:28:01.884409Z"
    },
    "papermill": {
     "duration": 0.004539,
     "end_time": "2025-05-01T09:28:01.885240",
     "exception": false,
     "start_time": "2025-05-01T09:28:01.880701",
     "status": "completed"
    },
    "tags": []
   },
   "outputs": [],
   "source": [
    "# Define which columns are the group-by keys (INDEX_COLS) and which are the output columns (OUTPUT_COLS)\n",
    "# - moved to parameters cell at top of notebook\n",
    "\n",
    "# Save these to disk for later use\n",
    "with open(f\"{OUTPUT_DIR}/INDEX_COLS.pkl\", 'wb') as f:\n",
    "    pickle.dump(INDEX_COLS, f)\n",
    "with open(f\"{OUTPUT_DIR}/OUTPUT_COLS.pkl\", 'wb') as f:\n",
    "    pickle.dump(OUTPUT_COLS, f)"
   ]
  },
  {
   "cell_type": "code",
   "execution_count": 11,
   "id": "009931b1",
   "metadata": {
    "execution": {
     "iopub.execute_input": "2025-05-01T09:28:01.888428Z",
     "iopub.status.busy": "2025-05-01T09:28:01.888342Z",
     "iopub.status.idle": "2025-05-01T09:28:01.891006Z",
     "shell.execute_reply": "2025-05-01T09:28:01.890813Z"
    },
    "papermill": {
     "duration": 0.005125,
     "end_time": "2025-05-01T09:28:01.891760",
     "exception": false,
     "start_time": "2025-05-01T09:28:01.886635",
     "status": "completed"
    },
    "tags": []
   },
   "outputs": [
    {
     "data": {
      "text/html": [
       "<div><style>\n",
       ".dataframe > thead > tr,\n",
       ".dataframe > tbody > tr {\n",
       "  text-align: right;\n",
       "  white-space: pre-wrap;\n",
       "}\n",
       "</style>\n",
       "<small>shape: (1, 2)</small><table border=\"1\" class=\"dataframe\"><thead><tr><th></th><th>promo_revenue</th></tr><tr><td>i32</td><td>list[f64]</td></tr></thead><tbody><tr><td>0</td><td>[15.487736, 16.185111, … 17.00692]</td></tr></tbody></table></div>"
      ],
      "text/plain": [
       "shape: (1, 2)\n",
       "┌─────┬─────────────────────────────────┐\n",
       "│     ┆ promo_revenue                   │\n",
       "│ --- ┆ ---                             │\n",
       "│ i32 ┆ list[f64]                       │\n",
       "╞═════╪═════════════════════════════════╡\n",
       "│ 0   ┆ [15.487736, 16.185111, … 17.00… │\n",
       "└─────┴─────────────────────────────────┘"
      ]
     },
     "execution_count": 11,
     "metadata": {},
     "output_type": "execute_result"
    }
   ],
   "source": [
    "# Combine all the samples into one table, grouped-by the group-by keys. Each cell contains an n <= # of samples length array of values.\n",
    "listdf = dfsdf.drop(\"sample\").group_by(INDEX_COLS or pl.lit(0).alias(\"\"), maintain_order=True).all()\n",
    "listdf"
   ]
  },
  {
   "cell_type": "code",
   "execution_count": 12,
   "id": "63103b1c",
   "metadata": {
    "execution": {
     "iopub.execute_input": "2025-05-01T09:28:01.895878Z",
     "iopub.status.busy": "2025-05-01T09:28:01.895765Z",
     "iopub.status.idle": "2025-05-01T09:28:01.897983Z",
     "shell.execute_reply": "2025-05-01T09:28:01.897785Z"
    },
    "papermill": {
     "duration": 0.005117,
     "end_time": "2025-05-01T09:28:01.898631",
     "exception": false,
     "start_time": "2025-05-01T09:28:01.893514",
     "status": "completed"
    },
    "tags": []
   },
   "outputs": [
    {
     "data": {
      "text/plain": [
       "[{'': 0}]"
      ]
     },
     "execution_count": 12,
     "metadata": {},
     "output_type": "execute_result"
    }
   ],
   "source": [
    "# What are all the possible group-by key combinations?\n",
    "allgroups: pl.DataFrame = listdf.select(INDEX_COLS or pl.lit(0).alias(\"\"))\n",
    "allgroups.to_dicts()"
   ]
  },
  {
   "cell_type": "code",
   "execution_count": 13,
   "id": "ba914528",
   "metadata": {
    "execution": {
     "iopub.execute_input": "2025-05-01T09:28:01.902206Z",
     "iopub.status.busy": "2025-05-01T09:28:01.902123Z",
     "iopub.status.idle": "2025-05-01T09:28:01.904970Z",
     "shell.execute_reply": "2025-05-01T09:28:01.904745Z"
    },
    "papermill": {
     "duration": 0.005249,
     "end_time": "2025-05-01T09:28:01.905598",
     "exception": false,
     "start_time": "2025-05-01T09:28:01.900349",
     "status": "completed"
    },
    "tags": []
   },
   "outputs": [],
   "source": [
    "# Template for the final output, including all possible group-by groups\n",
    "# Obtained by collecting all the samples in a big table and then keeping only the first occurrence of each groupby key.\n",
    "# Then, fill all OUTPUT_COLS with nulls\n",
    "templatedf = dfsdf.drop(\"sample\").group_by(INDEX_COLS or pl.lit(0).alias(\"\"), maintain_order=True).first()\n",
    "templatedf = templatedf.clear(n=len(allgroups)).with_columns(allgroups)\n",
    "templatedf\n",
    "\n",
    "with open(f\"{OUTPUT_DIR}/template.pkl\", \"wb\") as f:\n",
    "    pickle.dump(templatedf, f)"
   ]
  },
  {
   "cell_type": "code",
   "execution_count": 14,
   "id": "70a3bdab",
   "metadata": {
    "execution": {
     "iopub.execute_input": "2025-05-01T09:28:01.909411Z",
     "iopub.status.busy": "2025-05-01T09:28:01.909308Z",
     "iopub.status.idle": "2025-05-01T09:28:01.912612Z",
     "shell.execute_reply": "2025-05-01T09:28:01.912408Z"
    },
    "papermill": {
     "duration": 0.006019,
     "end_time": "2025-05-01T09:28:01.913260",
     "exception": false,
     "start_time": "2025-05-01T09:28:01.907241",
     "status": "completed"
    },
    "tags": []
   },
   "outputs": [],
   "source": [
    "# Write all table entries in the output table to their own JSON files. Each file has a number, the information of which file corresponds to which table entry\n",
    "# is stored in reverse_map.json (as well as in the files themselves)\n",
    "os.makedirs(f\"{OUTPUT_DIR}/json\", exist_ok=True)\n",
    "i: int = 0\n",
    "for col in OUTPUT_COLS:\n",
    "    for group in allgroups.iter_rows(named=True):\n",
    "        values = listdf.filter(pl.col(k).eq(v) for k, v in group.items()).select(col).to_series()\n",
    "        j = pl.DataFrame().with_columns([\n",
    "            pl.lit(col).alias(\"col\"),\n",
    "            pl.lit(group).alias(\"row\"),\n",
    "            pl.lit(values.explode().dtype.__repr__()).alias(\"dtype\"),\n",
    "            values.alias(\"values\"),\n",
    "        ])\n",
    "        j.write_json(f\"{OUTPUT_DIR}/json/{i}.json\")\n",
    "        i+=1"
   ]
  },
  {
   "cell_type": "code",
   "execution_count": 15,
   "id": "787c2712",
   "metadata": {
    "execution": {
     "iopub.execute_input": "2025-05-01T09:28:01.916904Z",
     "iopub.status.busy": "2025-05-01T09:28:01.916803Z",
     "iopub.status.idle": "2025-05-01T09:28:03.998303Z",
     "shell.execute_reply": "2025-05-01T09:28:03.998039Z"
    },
    "papermill": {
     "duration": 2.084034,
     "end_time": "2025-05-01T09:28:03.998988",
     "exception": false,
     "start_time": "2025-05-01T09:28:01.914954",
     "status": "completed"
    },
    "tags": []
   },
   "outputs": [
    {
     "data": {
      "text/plain": [
       "'/Users/michael/projects/dpdb/pacdb/outputs/ap-duckdb-q14-customer-step1.zip'"
      ]
     },
     "execution_count": 15,
     "metadata": {},
     "output_type": "execute_result"
    }
   ],
   "source": [
    "# zip the OUTPUT_DIR\n",
    "shutil.make_archive(OUTPUT_DIR, 'zip', OUTPUT_DIR)"
   ]
  }
 ],
 "metadata": {
  "kernelspec": {
   "display_name": ".venv",
   "language": "python",
   "name": "python3"
  },
  "language_info": {
   "codemirror_mode": {
    "name": "ipython",
    "version": 3
   },
   "file_extension": ".py",
   "mimetype": "text/x-python",
   "name": "python",
   "nbconvert_exporter": "python",
   "pygments_lexer": "ipython3",
   "version": "3.11.7"
  },
  "papermill": {
   "default_parameters": {},
   "duration": 12.502334,
   "end_time": "2025-05-01T09:28:04.217017",
   "environment_variables": {},
   "exception": null,
   "input_path": "autopac-duckdb-step1.ipynb",
   "output_path": "./ap-duckdb-q14-customer-step1.ipynb",
   "parameters": {
    "EXPERIMENT": "ap-duckdb-q14-customer",
    "INDEX_COLS": [],
    "OUTPUT_COLS": [
     "promo_revenue"
    ],
    "OUTPUT_DIR": "./outputs/ap-duckdb-q14-customer-step1",
    "PREPARE_STEP": "DEALLOCATE PREPARE run_query;\n\nPREPARE run_query AS \nSELECT\n    100.00 * sum(\n        CASE WHEN p_type LIKE 'PROMO%' THEN\n            l_extendedprice * (1 - l_discount)\n        ELSE\n            0\n        END) / sum(l_extendedprice * (1 - l_discount)) AS promo_revenue\nFROM\n    lineitem,\n    part,\n    orders,\n    customer,\n    random_samples AS rs\nWHERE\n    rs.row_id = customer.rowid\n    AND rs.random_binary = TRUE\n    AND rs.sample_id = $sample\n    AND o_custkey = c_custkey\n    AND o_orderkey = l_orderkey\n    AND l_partkey = p_partkey\n    AND l_shipdate >= date '1995-09-01'\n    AND l_shipdate < CAST('1995-10-01' AS date);",
    "SAMPLES": 1024,
    "SAMPLE_STEP": "DROP TABLE IF EXISTS random_samples;\n\nCREATE TABLE random_samples AS\nWITH sample_numbers AS MATERIALIZED (\n    SELECT range AS sample_id FROM range(1024 // 2)\n), random_values AS MATERIALIZED (\n    SELECT \n        sample_numbers.sample_id,\n        customer.rowid AS row_id,\n        (RANDOM() > 0.5)::BOOLEAN AS random_binary\n    FROM sample_numbers\n    JOIN customer ON TRUE  -- Cross join to duplicate rows for each sample\n)\nSELECT\n    sample_id,\n    row_id,\n    random_binary\nFROM random_values\nUNION ALL\nSELECT -- select the complementary samples too\n    (1024 // 2) + sample_id,\n    row_id,\n    NOT random_binary  -- Inverse the random_binary to get the complementary sample\nFROM random_values\nORDER BY sample_id, row_id;"
   },
   "start_time": "2025-05-01T09:27:51.714683",
   "version": "2.6.0"
  }
 },
 "nbformat": 4,
 "nbformat_minor": 5
}