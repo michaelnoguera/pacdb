{
 "cells": [
  {
   "cell_type": "markdown",
   "metadata": {},
   "source": [
    "```\n",
    "❯ ls\n",
    "dp.ipynb                                noisy_means_experiment_results.csv      noisy_sum_experiment_results.parquet\n",
    "noisy_counts_experiment_results.csv     noisy_means_experiment_results.parquet  noisy_var_experiment_results.csv\n",
    "noisy_counts_experiment_results.parquet noisy_sum_experiment_results.csv        noisy_var_experiment_results.parquet\n",
    "```"
   ]
  },
  {
   "cell_type": "code",
   "execution_count": 17,
   "metadata": {},
   "outputs": [],
   "source": [
    "# import parquet files as dataframes\n",
    "import pandas as pd\n",
    "import pyarrow.parquet as pq\n",
    "import os\n",
    "import sys\n",
    "import numpy as np\n",
    "\n",
    "eps = [0.177101450509287, 0.2509487223501085, 0.3563228120191924, 0.7304317044395013, 1.6426117097961404, 11.51291546492478, 11.51291546492478, 11.51291546492478, 11.51291546492478]\n",
    "\n",
    "# read in the parquet files\n",
    "counts = pq.read_table('./dp/noisy_counts_experiment_results.parquet').to_pandas().T.rename(columns={i: eps[i] for i in range(len(eps))})\n",
    "means = pq.read_table('./dp/noisy_means_experiment_results.parquet').to_pandas().T.rename(columns={i: eps[i] for i in range(len(eps))})\n",
    "sums = pq.read_table('./dp/noisy_sum_experiment_results.parquet').to_pandas().T.rename(columns={i: eps[i] for i in range(len(eps))})\n",
    "vars = pq.read_table('./dp/noisy_var_experiment_results.parquet').to_pandas().T.rename(columns={i: eps[i] for i in range(len(eps))})\n"
   ]
  },
  {
   "cell_type": "code",
   "execution_count": 25,
   "metadata": {},
   "outputs": [
    {
     "data": {
      "text/plain": [
       "nan"
      ]
     },
     "execution_count": 25,
     "metadata": {},
     "output_type": "execute_result"
    }
   ],
   "source": [
    "counts.iloc[3,1]"
   ]
  },
  {
   "cell_type": "code",
   "execution_count": 27,
   "metadata": {},
   "outputs": [],
   "source": [
    "records = []\n",
    "for i in range(500):\n",
    "    for ie, e in enumerate(eps):\n",
    "        record = {\n",
    "            'eps': e,\n",
    "            'count': counts.iloc[i, ie],\n",
    "            'mean': means.iloc[i, ie],\n",
    "            'sum': sums.iloc[i, ie],\n",
    "            'var': vars.iloc[i, ie]\n",
    "        }\n",
    "        records.append(record)"
   ]
  },
  {
   "cell_type": "code",
   "execution_count": 28,
   "metadata": {},
   "outputs": [],
   "source": [
    "df = pd.DataFrame(records, columns=['eps', 'count', 'sum', 'mean', 'var'])"
   ]
  },
  {
   "cell_type": "code",
   "execution_count": 29,
   "metadata": {},
   "outputs": [
    {
     "data": {
      "text/html": [
       "<div>\n",
       "<style scoped>\n",
       "    .dataframe tbody tr th:only-of-type {\n",
       "        vertical-align: middle;\n",
       "    }\n",
       "\n",
       "    .dataframe tbody tr th {\n",
       "        vertical-align: top;\n",
       "    }\n",
       "\n",
       "    .dataframe thead th {\n",
       "        text-align: right;\n",
       "    }\n",
       "</style>\n",
       "<table border=\"1\" class=\"dataframe\">\n",
       "  <thead>\n",
       "    <tr style=\"text-align: right;\">\n",
       "      <th></th>\n",
       "      <th>eps</th>\n",
       "      <th>count</th>\n",
       "      <th>sum</th>\n",
       "      <th>mean</th>\n",
       "      <th>var</th>\n",
       "    </tr>\n",
       "  </thead>\n",
       "  <tbody>\n",
       "    <tr>\n",
       "      <th>0</th>\n",
       "      <td>0.177101</td>\n",
       "      <td>NaN</td>\n",
       "      <td>NaN</td>\n",
       "      <td>NaN</td>\n",
       "      <td>NaN</td>\n",
       "    </tr>\n",
       "    <tr>\n",
       "      <th>1</th>\n",
       "      <td>0.250949</td>\n",
       "      <td>NaN</td>\n",
       "      <td>NaN</td>\n",
       "      <td>NaN</td>\n",
       "      <td>NaN</td>\n",
       "    </tr>\n",
       "    <tr>\n",
       "      <th>2</th>\n",
       "      <td>0.356323</td>\n",
       "      <td>NaN</td>\n",
       "      <td>NaN</td>\n",
       "      <td>NaN</td>\n",
       "      <td>NaN</td>\n",
       "    </tr>\n",
       "    <tr>\n",
       "      <th>3</th>\n",
       "      <td>0.730432</td>\n",
       "      <td>NaN</td>\n",
       "      <td>NaN</td>\n",
       "      <td>NaN</td>\n",
       "      <td>NaN</td>\n",
       "    </tr>\n",
       "    <tr>\n",
       "      <th>4</th>\n",
       "      <td>1.642612</td>\n",
       "      <td>19.301824</td>\n",
       "      <td>4452.479116</td>\n",
       "      <td>1.163339</td>\n",
       "      <td>1483.669308</td>\n",
       "    </tr>\n",
       "    <tr>\n",
       "      <th>...</th>\n",
       "      <td>...</td>\n",
       "      <td>...</td>\n",
       "      <td>...</td>\n",
       "      <td>...</td>\n",
       "      <td>...</td>\n",
       "    </tr>\n",
       "    <tr>\n",
       "      <th>4495</th>\n",
       "      <td>1.642612</td>\n",
       "      <td>26.136796</td>\n",
       "      <td>24322.602039</td>\n",
       "      <td>NaN</td>\n",
       "      <td>-1714.243590</td>\n",
       "    </tr>\n",
       "    <tr>\n",
       "      <th>4496</th>\n",
       "      <td>11.512915</td>\n",
       "      <td>24.131188</td>\n",
       "      <td>641.784422</td>\n",
       "      <td>1.573659</td>\n",
       "      <td>1179.823250</td>\n",
       "    </tr>\n",
       "    <tr>\n",
       "      <th>4497</th>\n",
       "      <td>11.512915</td>\n",
       "      <td>23.400204</td>\n",
       "      <td>-3766.859117</td>\n",
       "      <td>0.818608</td>\n",
       "      <td>-124.816447</td>\n",
       "    </tr>\n",
       "    <tr>\n",
       "      <th>4498</th>\n",
       "      <td>11.512915</td>\n",
       "      <td>24.833437</td>\n",
       "      <td>-1065.143353</td>\n",
       "      <td>0.925909</td>\n",
       "      <td>417.145849</td>\n",
       "    </tr>\n",
       "    <tr>\n",
       "      <th>4499</th>\n",
       "      <td>11.512915</td>\n",
       "      <td>25.222867</td>\n",
       "      <td>-6381.706919</td>\n",
       "      <td>0.885408</td>\n",
       "      <td>-1353.003515</td>\n",
       "    </tr>\n",
       "  </tbody>\n",
       "</table>\n",
       "<p>4500 rows × 5 columns</p>\n",
       "</div>"
      ],
      "text/plain": [
       "            eps      count           sum      mean          var\n",
       "0      0.177101        NaN           NaN       NaN          NaN\n",
       "1      0.250949        NaN           NaN       NaN          NaN\n",
       "2      0.356323        NaN           NaN       NaN          NaN\n",
       "3      0.730432        NaN           NaN       NaN          NaN\n",
       "4      1.642612  19.301824   4452.479116  1.163339  1483.669308\n",
       "...         ...        ...           ...       ...          ...\n",
       "4495   1.642612  26.136796  24322.602039       NaN -1714.243590\n",
       "4496  11.512915  24.131188    641.784422  1.573659  1179.823250\n",
       "4497  11.512915  23.400204  -3766.859117  0.818608  -124.816447\n",
       "4498  11.512915  24.833437  -1065.143353  0.925909   417.145849\n",
       "4499  11.512915  25.222867  -6381.706919  0.885408 -1353.003515\n",
       "\n",
       "[4500 rows x 5 columns]"
      ]
     },
     "execution_count": 29,
     "metadata": {},
     "output_type": "execute_result"
    }
   ],
   "source": [
    "df"
   ]
  },
  {
   "cell_type": "code",
   "execution_count": 30,
   "metadata": {},
   "outputs": [],
   "source": [
    "df.to_parquet('./outputs/dp_results.parquet')"
   ]
  }
 ],
 "metadata": {
  "kernelspec": {
   "display_name": "Python 3",
   "language": "python",
   "name": "python3"
  },
  "language_info": {
   "codemirror_mode": {
    "name": "ipython",
    "version": 3
   },
   "file_extension": ".py",
   "mimetype": "text/x-python",
   "name": "python",
   "nbconvert_exporter": "python",
   "pygments_lexer": "ipython3",
   "version": "3.11.7"
  }
 },
 "nbformat": 4,
 "nbformat_minor": 2
}
