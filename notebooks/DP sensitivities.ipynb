{
 "cells": [
  {
   "cell_type": "code",
   "execution_count": null,
   "id": "4102d27c",
   "metadata": {},
   "outputs": [],
   "source": [
    "#!/usr/bin/env python\n",
    "# coding: utf-8\n",
    "\n",
    "import os\n",
    "import pickle\n",
    "import shutil\n",
    "\n",
    "import duckdb\n",
    "import polars as pl\n"
   ]
  },
  {
   "cell_type": "code",
   "execution_count": null,
   "id": "577685eb",
   "metadata": {},
   "outputs": [],
   "source": [
    "con = duckdb.connect(database='../data/tpch/tpch.duckdb', read_only=True)"
   ]
  },
  {
   "cell_type": "code",
   "execution_count": null,
   "id": "f1414d22",
   "metadata": {},
   "outputs": [],
   "source": [
    "df = con.execute(\"\"\"\n",
    "SELECT c_custkey, count(*) as num_orders\n",
    "FROM customer\n",
    "JOIN orders \n",
    "ON c_custkey = o_custkey\n",
    "GROUP BY c_custkey\n",
    "\"\"\").pl()\n",
    "# WHERE\n",
    "# o_orderdate >= CAST('1993-07-01' AS date)\n",
    "# AND o_orderdate < CAST('1993-10-01' AS date)"
   ]
  },
  {
   "cell_type": "code",
   "execution_count": null,
   "id": "d20cef4c",
   "metadata": {},
   "outputs": [],
   "source": [
    "df1 = con.execute(\"\"\"SELECT c_custkey, array_agg(l_partkey) as items, count(*) as num_items\n",
    "FROM\n",
    "    orders,\n",
    "    customer,\n",
    "    lineitem\n",
    "WHERE o_custkey = c_custkey\n",
    "AND o_orderkey = l_orderkey\n",
    "GROUP BY c_custkey\n",
    "order by num_items desc\"\"\").pl()\n",
    "# \n",
    "\n",
    "#     AND l_shipmode IN ('MAIL', 'SHIP')\n",
    "#     AND l_commitdate < l_receiptdate\n",
    "#     AND l_shipdate < l_commitdate\n",
    "#     AND l_receiptdate >= CAST('1994-01-01' AS date)\n",
    "#     AND l_receiptdate < CAST('1995-01-01' AS date)"
   ]
  },
  {
   "cell_type": "code",
   "execution_count": null,
   "id": "6a4e77cf",
   "metadata": {},
   "outputs": [],
   "source": [
    "max(df['num_orders'])"
   ]
  },
  {
   "cell_type": "code",
   "execution_count": null,
   "id": "2758b08d",
   "metadata": {},
   "outputs": [],
   "source": [
    "max(df1['num_items'])"
   ]
  },
  {
   "cell_type": "code",
   "execution_count": null,
   "id": "6f7a3637",
   "metadata": {},
   "outputs": [],
   "source": []
  }
 ],
 "metadata": {
  "kernelspec": {
   "display_name": "Python 3 (ipykernel)",
   "language": "python",
   "name": "python3"
  },
  "language_info": {
   "codemirror_mode": {
    "name": "ipython",
    "version": 3
   },
   "file_extension": ".py",
   "mimetype": "text/x-python",
   "name": "python",
   "nbconvert_exporter": "python",
   "pygments_lexer": "ipython3",
   "version": "3.9.17"
  }
 },
 "nbformat": 4,
 "nbformat_minor": 5
}
