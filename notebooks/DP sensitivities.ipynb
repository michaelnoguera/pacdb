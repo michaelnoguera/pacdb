{
 "cells": [
  {
   "cell_type": "code",
   "execution_count": 10,
   "id": "4102d27c",
   "metadata": {},
   "outputs": [],
   "source": [
    "#!/usr/bin/env python\n",
    "# coding: utf-8\n",
    "\n",
    "import os\n",
    "import pickle\n",
    "import shutil\n",
    "\n",
    "import duckdb\n",
    "import polars as pl\n"
   ]
  },
  {
   "cell_type": "code",
   "execution_count": 11,
   "id": "577685eb",
   "metadata": {},
   "outputs": [],
   "source": [
    "\n",
    "con = duckdb.connect(database=':memory:')\n",
    "tables = [\"customer\", \"lineitem\", \"nation\", \"orders\", \"part\", \"partsupp\", \"region\", \"supplier\"]\n",
    "for t in tables:\n",
    "    con.execute(f\"CREATE TABLE {t} AS SELECT * FROM '../data/tpch/{t}.parquet'\")\n"
   ]
  },
  {
   "cell_type": "code",
   "execution_count": 12,
   "id": "f1414d22",
   "metadata": {},
   "outputs": [],
   "source": [
    "df = con.execute(\"\"\"\n",
    "SELECT c_custkey, count(*) as num_orders\n",
    "FROM customer\n",
    "JOIN orders \n",
    "ON c_custkey = o_custkey\n",
    "GROUP BY c_custkey\n",
    "\"\"\").pl()\n",
    "# WHERE\n",
    "# o_orderdate >= CAST('1993-07-01' AS date)\n",
    "# AND o_orderdate < CAST('1993-10-01' AS date)"
   ]
  },
  {
   "cell_type": "code",
   "execution_count": 13,
   "id": "d20cef4c",
   "metadata": {},
   "outputs": [],
   "source": [
    "df1 = con.execute(\"\"\"SELECT c_custkey, count(*) as num_items\n",
    "FROM\n",
    "    orders,\n",
    "    customer,\n",
    "    lineitem\n",
    "WHERE o_custkey = c_custkey\n",
    "AND o_orderkey = l_orderkey\n",
    "GROUP BY c_custkey\"\"\").pl()\n",
    "# \n",
    "\n",
    "#     AND l_shipmode IN ('MAIL', 'SHIP')\n",
    "#     AND l_commitdate < l_receiptdate\n",
    "#     AND l_shipdate < l_commitdate\n",
    "#     AND l_receiptdate >= CAST('1994-01-01' AS date)\n",
    "#     AND l_receiptdate < CAST('1995-01-01' AS date)"
   ]
  },
  {
   "cell_type": "code",
   "execution_count": 14,
   "id": "6a4e77cf",
   "metadata": {},
   "outputs": [
    {
     "data": {
      "text/plain": [
       "36"
      ]
     },
     "execution_count": 14,
     "metadata": {},
     "output_type": "execute_result"
    }
   ],
   "source": [
    "max(df['num_orders'])"
   ]
  },
  {
   "cell_type": "code",
   "execution_count": 15,
   "id": "2758b08d",
   "metadata": {},
   "outputs": [
    {
     "data": {
      "text/plain": [
       "155"
      ]
     },
     "execution_count": 15,
     "metadata": {},
     "output_type": "execute_result"
    }
   ],
   "source": [
    "max(df1['num_items'])"
   ]
  },
  {
   "cell_type": "code",
   "execution_count": null,
   "id": "5a60bbf8",
   "metadata": {},
   "outputs": [],
   "source": []
  }
 ],
 "metadata": {
  "kernelspec": {
   "display_name": "Python 3 (ipykernel)",
   "language": "python",
   "name": "python3"
  },
  "language_info": {
   "codemirror_mode": {
    "name": "ipython",
    "version": 3
   },
   "file_extension": ".py",
   "mimetype": "text/x-python",
   "name": "python",
   "nbconvert_exporter": "python",
   "pygments_lexer": "ipython3",
   "version": "3.9.17"
  }
 },
 "nbformat": 4,
 "nbformat_minor": 5
}
