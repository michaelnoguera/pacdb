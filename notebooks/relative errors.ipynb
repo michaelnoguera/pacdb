{
 "cells": [
  {
   "cell_type": "code",
   "execution_count": 19,
   "id": "fcfa5f03",
   "metadata": {},
   "outputs": [],
   "source": [
    "import polars.selectors as cs\n",
    "import numpy as np\n",
    "\n",
    "import polars as pl\n",
    "\n",
    "import matplotlib.pyplot as plt"
   ]
  },
  {
   "cell_type": "code",
   "execution_count": 20,
   "id": "1288945e",
   "metadata": {},
   "outputs": [],
   "source": [
    "def hist_of_numerical_values(df: pl.DataFrame):\n",
    "    \"\"\"\n",
    "    Generates histograms for all numerical columns in a Polars DataFrame.\n",
    "\n",
    "    Args:\n",
    "        df: The Polars DataFrame.\n",
    "\n",
    "    Returns:\n",
    "        A dictionary where keys are column names and values are the histogram data.\n",
    "    \"\"\"\n",
    "    histograms = {}\n",
    "    for col_name in df.columns:\n",
    "        if df[col_name].dtype in [pl.Int8, pl.Int16, pl.Int32, pl.Int64, pl.UInt8, pl.UInt16, pl.UInt32, pl.UInt64, pl.Float32, pl.Float64]:\n",
    "            hist_data = df[col_name].hist()\n",
    "            histograms[col_name] = hist_data\n",
    "    return histograms"
   ]
  },
  {
   "cell_type": "code",
   "execution_count": 21,
   "id": "f25d4a28",
   "metadata": {},
   "outputs": [],
   "source": [
    "index_cols = {\n",
    "    1: ['l_returnflag', 'l_linestatus'],\n",
    "    3: ['l_orderkey','o_orderdate','o_shippriority'],\n",
    "    4: ['o_orderpriority'],\n",
    "    5: ['n_name'],\n",
    "    6: [],\n",
    "    7: ['supp_nation', 'cust_nation', 'l_year'], \n",
    "    8: ['o_year'],\n",
    "    9: ['nation', 'o_year'],\n",
    "    12: ['l_shipmode'],\n",
    "    13: ['c_count'],\n",
    "    14: [],\n",
    "    15: [],\n",
    "    17: [],\n",
    "    19: [],\n",
    "    20: [],\n",
    "    21: ['s_name'],\n",
    "    22: ['cntrycode']\n",
    "}\n",
    "scale_required = set([1,4, 5, 6, 7, 9, 12, 13, 17, 19, 21, 22])\n",
    "# not 8, 14\n",
    "# skip 3, skip 20\n",
    "queries_to_run = [1, 3, 4, 5, 6, 7, 8, 9, 12, 13, 14, 15, 17, 19, 21, 22]"
   ]
  },
  {
   "cell_type": "code",
   "execution_count": 28,
   "id": "32b8ac1c",
   "metadata": {},
   "outputs": [
    {
     "name": "stdout",
     "output_type": "stream",
     "text": [
      "1 32\n",
      "3 0\n",
      "4 5\n",
      "5 5\n",
      "6 1\n",
      "7 4\n",
      "8 2\n",
      "9 175\n",
      "12 4\n",
      "13 33\n",
      "14 1\n",
      "15 1\n",
      "17 1\n",
      "19 1\n",
      "21 32\n",
      "22 14\n"
     ]
    }
   ],
   "source": [
    "# for query_ind in queries_to_run:\n",
    "num_trials = 1000\n",
    "avg_errors = {}\n",
    "all_nulls = {}\n",
    "for query_ind in queries_to_run:\n",
    "#     print(query_ind)\n",
    "#     1/128, 1/64, 1/32, 1/16, 1/8, 1/4, 1/2, 1.0, 2.0, 4.0\n",
    "    num_nulls = 0.\n",
    "    total_error = []\n",
    "    for mi in [1/16]:\n",
    "        null_info = {}\n",
    "        orig = pl.read_csv(f'../unnoised/q{query_ind}.csv')\n",
    "        if query_ind == 22:\n",
    "            orig = orig.select(\n",
    "            pl.col(\"cntrycode\").cast(str),\n",
    "            pl.col(\"numcust\"),\n",
    "            pl.col(\"totacctbal\"))\n",
    "        noised = pl.read_json(f'../outputs/ap-duckdb-q{query_ind}-customer-{mi}-step3/output.json')\n",
    "        if index_cols[query_ind]:\n",
    "            merged_df = orig.join(noised, on=index_cols[query_ind], suffix='_noised')\n",
    "        else:\n",
    "            merged_df = orig.join(noised, suffix='_noised', how='cross')\n",
    "        suffix1 = ''\n",
    "        suffix2 = '_noised'\n",
    "        cols_with_suffixes = [col for col in merged_df.columns if suffix1 in col or suffix2 in col]\n",
    "\n",
    "        base_names = set([col.replace(suffix1, '').replace(suffix2, '') for col in cols_with_suffixes])\n",
    "        if query_ind == 15:\n",
    "            base_names = ['total_revenue'] # only look at numeric\n",
    "        all_outputs = 0.\n",
    "        for base_name in base_names:\n",
    "            nulls_exist = False\n",
    "            null_inds, null_vals = [], []\n",
    "\n",
    "            orig = base_name + suffix1\n",
    "            noised = base_name + suffix2\n",
    "            if orig in merged_df.columns and noised in merged_df.columns:\n",
    "                rel_errors = []\n",
    "                for ind in range(len(merged_df[orig])):\n",
    "                    if query_ind in scale_required:\n",
    "                        const = 2 # subsampling scaling\n",
    "                        if query_ind == 1 and not (base_name[:3] == 'sum' or base_name[:5] == 'count'):\n",
    "                            const = 1 # remove for parts of q1\n",
    "                    else:\n",
    "                        const = 1\n",
    "    #                     print(merged_df[noised][ind])\n",
    "                    noised_vals = [merged_df[noised][ind][tmp_ind] for tmp_ind in range(\n",
    "                        len(merged_df[noised][ind])) if merged_df[noised][ind][tmp_ind] is not None]\n",
    "                    if len(noised_vals) != 1000 and len(noised_vals) != 0:\n",
    "                        print('reached', query_ind)\n",
    "                    new = np.average(\n",
    "                        [100*abs(\n",
    "                            const*noised_vals[tmp_ind] - merged_df[orig][ind]\n",
    "                            ) / merged_df[orig][ind] for tmp_ind in range(\n",
    "                                len(noised_vals))]\n",
    "                    )\n",
    "                    if not np.isnan(new):\n",
    "                        total_error.append(new)\n",
    "                    rel_errors.append(new)\n",
    "                merged_df = merged_df.with_columns(pl.Series('pct_diff_' + base_name, rel_errors))\n",
    "                num_outputs = len(list(merged_df[noised]))\n",
    "                all_outputs+= num_outputs\n",
    "                for ind in range(num_outputs):\n",
    "                    full_list = [x for x in list(merged_df[noised][ind]) if x is not None]\n",
    "                    if len(full_list) < num_trials:\n",
    "                        num_nulls += 1\n",
    "                        nulls_exist = True\n",
    "                        null_inds.append(ind)\n",
    "                        null_vals.append(100*(num_trials-len(full_list))/num_trials)\n",
    "#                         print(query_ind, ind, null_vals)\n",
    "            null_info[base_name] = (nulls_exist, null_inds, null_vals)\n",
    "        all_nulls[query_ind] = 100*num_nulls/all_outputs\n",
    "        avg_errors[query_ind] = np.average(total_error)\n",
    "        print(query_ind, len(total_error))\n",
    "\n",
    "#         # Get columns that start with 'pct_diff'\n",
    "#         pct_diff_cols = [col for col in merged_df.columns if col.startswith('pct_diff')]\n",
    "\n",
    "#         # Create subplots based on number of pct_diff columns\n",
    "#         n_cols = len(pct_diff_cols)\n",
    "#         fig, axes = plt.subplots(1, n_cols, figsize=(5*n_cols, 4))\n",
    "\n",
    "#         # Handle case where there's only one column (axes won't be a list)\n",
    "#         if n_cols == 1:\n",
    "#             axes = [axes]\n",
    "\n",
    "#         # Create histogram for each column\n",
    "#         for i, col in enumerate(pct_diff_cols):\n",
    "#             # Convert to pandas for easier plotting, or use polars plot method\n",
    "#             values = merged_df[col].to_pandas()\n",
    "\n",
    "#             axes[i].hist(values, bins=30, alpha=0.7, edgecolor='black')\n",
    "#             axes[i].set_title(f'Histogram of {col}')\n",
    "#             axes[i].set_xlabel(col)\n",
    "#             axes[i].set_ylabel('Frequency')\n",
    "#             axes[i].grid(True, alpha=0.3)\n",
    "\n",
    "#         plt.tight_layout()\n",
    "#         plt.savefig(f'tmp/q{query_ind}_{mi}_{col}_hist.png', facecolor='white', bbox_inches='tight')\n",
    "\n",
    "#         for base in null_info:\n",
    "#             (nulls_exist, null_inds, null_vals) = null_info[base]\n",
    "#             if nulls_exist:\n",
    "#                 fig, axes = plt.subplots(1, 1, figsize=(5, 4))\n",
    "#                 # Handle case where there's only one column (axes won't be a list)\n",
    "#                 if n_cols == 1:\n",
    "#                     axes = [axes]\n",
    "#                 axes[0].hist(null_vals, bins=30, alpha=0.7, edgecolor='black')\n",
    "#                 axes[0].set_title(f'Histogram of nulls for column {base}')\n",
    "#                 axes[0].set_xlabel('Fraction of nulls (%)')\n",
    "#                 axes[0].set_ylabel('Frequency')\n",
    "#                 axes[0].grid(True, alpha=0.3)\n",
    "#                 plt.savefig(f'tmp/q{query_ind}_{mi}_{base}_nulls.png', facecolor='white', bbox_inches='tight')"
   ]
  },
  {
   "cell_type": "code",
   "execution_count": 26,
   "id": "2500afd6",
   "metadata": {},
   "outputs": [
    {
     "data": {
      "text/html": [
       "<div><style>\n",
       ".dataframe > thead > tr,\n",
       ".dataframe > tbody > tr {\n",
       "  text-align: right;\n",
       "  white-space: pre-wrap;\n",
       "}\n",
       "</style>\n",
       "<small>shape: (7, 7)</small><table border=\"1\" class=\"dataframe\"><thead><tr><th>cntrycode</th><th>numcust</th><th>totacctbal</th><th>numcust_noised</th><th>totacctbal_noised</th><th>pct_diff_totacctbal</th><th>pct_diff_numcust</th></tr><tr><td>str</td><td>i64</td><td>f64</td><td>list[f64]</td><td>list[f64]</td><td>f64</td><td>f64</td></tr></thead><tbody><tr><td>&quot;13&quot;</td><td>94</td><td>714035.05</td><td>[33.937317, 71.508631, … 69.163039]</td><td>[50724.816013, 440978.775174, … 601884.815105]</td><td>68.973205</td><td>68.516626</td></tr><tr><td>&quot;17&quot;</td><td>96</td><td>722560.15</td><td>[3.907362, 97.819533, … 30.383614]</td><td>[509503.662744, 590296.113815, … 566484.101503]</td><td>65.391416</td><td>66.69479</td></tr><tr><td>&quot;18&quot;</td><td>99</td><td>738012.52</td><td>[22.322455, 121.912627, … 46.173817]</td><td>[200768.946466, 23306.504846, … 1.1590e6]</td><td>63.633958</td><td>62.208553</td></tr><tr><td>&quot;23&quot;</td><td>93</td><td>708285.25</td><td>[65.605016, 60.950854, … 123.327285]</td><td>[420105.64541, 393747.436006, … 133587.213973]</td><td>62.811913</td><td>62.08741</td></tr><tr><td>&quot;29&quot;</td><td>85</td><td>632693.46</td><td>[90.106648, 44.584117, … 62.374164]</td><td>[-123990.720991, 430894.705358, … 376762.958974]</td><td>67.942178</td><td>60.336616</td></tr><tr><td>&quot;30&quot;</td><td>87</td><td>646748.02</td><td>[-6.554484, 106.993407, … 25.563236]</td><td>[339658.540469, 190784.004115, … 228990.989264]</td><td>67.410798</td><td>67.192347</td></tr><tr><td>&quot;31&quot;</td><td>87</td><td>647372.5</td><td>[19.731849, 95.647188, … -8.738575]</td><td>[297420.336504, 333912.4853, … -100097.763296]</td><td>75.983952</td><td>74.386322</td></tr></tbody></table></div>"
      ],
      "text/plain": [
       "shape: (7, 7)\n",
       "┌───────────┬─────────┬────────────┬───────────────┬───────────────┬───────────────┬───────────────┐\n",
       "│ cntrycode ┆ numcust ┆ totacctbal ┆ numcust_noise ┆ totacctbal_no ┆ pct_diff_tota ┆ pct_diff_numc │\n",
       "│ ---       ┆ ---     ┆ ---        ┆ d             ┆ ised          ┆ cctbal        ┆ ust           │\n",
       "│ str       ┆ i64     ┆ f64        ┆ ---           ┆ ---           ┆ ---           ┆ ---           │\n",
       "│           ┆         ┆            ┆ list[f64]     ┆ list[f64]     ┆ f64           ┆ f64           │\n",
       "╞═══════════╪═════════╪════════════╪═══════════════╪═══════════════╪═══════════════╪═══════════════╡\n",
       "│ 13        ┆ 94      ┆ 714035.05  ┆ [33.937317,   ┆ [50724.816013 ┆ 68.973205     ┆ 68.516626     │\n",
       "│           ┆         ┆            ┆ 71.508631, …  ┆ , 440978.7751 ┆               ┆               │\n",
       "│           ┆         ┆            ┆ 69.16…        ┆ 74, …         ┆               ┆               │\n",
       "│ 17        ┆ 96      ┆ 722560.15  ┆ [3.907362,    ┆ [509503.66274 ┆ 65.391416     ┆ 66.69479      │\n",
       "│           ┆         ┆            ┆ 97.819533, …  ┆ 4, 590296.113 ┆               ┆               │\n",
       "│           ┆         ┆            ┆ 30.383…       ┆ 815,…         ┆               ┆               │\n",
       "│ 18        ┆ 99      ┆ 738012.52  ┆ [22.322455,   ┆ [200768.94646 ┆ 63.633958     ┆ 62.208553     │\n",
       "│           ┆         ┆            ┆ 121.912627, … ┆ 6,            ┆               ┆               │\n",
       "│           ┆         ┆            ┆ 46.1…         ┆ 23306.504846, ┆               ┆               │\n",
       "│           ┆         ┆            ┆               ┆ …             ┆               ┆               │\n",
       "│ 23        ┆ 93      ┆ 708285.25  ┆ [65.605016,   ┆ [420105.64541 ┆ 62.811913     ┆ 62.08741      │\n",
       "│           ┆         ┆            ┆ 60.950854, …  ┆ , 393747.4360 ┆               ┆               │\n",
       "│           ┆         ┆            ┆ 123.3…        ┆ 06, …         ┆               ┆               │\n",
       "│ 29        ┆ 85      ┆ 632693.46  ┆ [90.106648,   ┆ [-123990.7209 ┆ 67.942178     ┆ 60.336616     │\n",
       "│           ┆         ┆            ┆ 44.584117, …  ┆ 91, 430894.70 ┆               ┆               │\n",
       "│           ┆         ┆            ┆ 62.37…        ┆ 5358…         ┆               ┆               │\n",
       "│ 30        ┆ 87      ┆ 646748.02  ┆ [-6.554484,   ┆ [339658.54046 ┆ 67.410798     ┆ 67.192347     │\n",
       "│           ┆         ┆            ┆ 106.993407, … ┆ 9, 190784.004 ┆               ┆               │\n",
       "│           ┆         ┆            ┆ 25.5…         ┆ 115,…         ┆               ┆               │\n",
       "│ 31        ┆ 87      ┆ 647372.5   ┆ [19.731849,   ┆ [297420.33650 ┆ 75.983952     ┆ 74.386322     │\n",
       "│           ┆         ┆            ┆ 95.647188, …  ┆ 4,            ┆               ┆               │\n",
       "│           ┆         ┆            ┆ -8.73…        ┆ 333912.4853,  ┆               ┆               │\n",
       "│           ┆         ┆            ┆               ┆ ……            ┆               ┆               │\n",
       "└───────────┴─────────┴────────────┴───────────────┴───────────────┴───────────────┴───────────────┘"
      ]
     },
     "execution_count": 26,
     "metadata": {},
     "output_type": "execute_result"
    }
   ],
   "source": [
    "merged_df"
   ]
  },
  {
   "cell_type": "code",
   "execution_count": 27,
   "id": "2e30a4bb",
   "metadata": {},
   "outputs": [
    {
     "data": {
      "text/plain": [
       "{1: 0.0,\n",
       " 3: 100.0,\n",
       " 4: 0.0,\n",
       " 5: 0.0,\n",
       " 6: 0.0,\n",
       " 7: 0.0,\n",
       " 8: 0.0,\n",
       " 9: 0.0,\n",
       " 12: 0.0,\n",
       " 13: 10.81081081081081,\n",
       " 14: 0.0,\n",
       " 15: 0.0,\n",
       " 17: 0.0,\n",
       " 19: 0.0,\n",
       " 21: 31.914893617021278,\n",
       " 22: 0.0}"
      ]
     },
     "execution_count": 27,
     "metadata": {},
     "output_type": "execute_result"
    }
   ],
   "source": [
    "all_nulls"
   ]
  },
  {
   "cell_type": "code",
   "execution_count": 29,
   "id": "3ee72819",
   "metadata": {
    "scrolled": true
   },
   "outputs": [
    {
     "data": {
      "text/plain": [
       "{1: 2.5404626070764027,\n",
       " 3: nan,\n",
       " 4: 7.947796994535251,\n",
       " 5: 25.82856629597155,\n",
       " 6: 3.5772110955356,\n",
       " 7: 27.382036902648146,\n",
       " 8: 128.07008478249608,\n",
       " 9: 23.09227272578598,\n",
       " 12: 9.29589727474428,\n",
       " 13: 21.141296570582707,\n",
       " 14: 7.609964517967354,\n",
       " 15: 42.68584725608364,\n",
       " 17: 42.26663021534325,\n",
       " 19: 84.37800957233543,\n",
       " 21: 72.67979797478057,\n",
       " 22: 24.725609167266047}"
      ]
     },
     "execution_count": 29,
     "metadata": {},
     "output_type": "execute_result"
    }
   ],
   "source": [
    "avg_errors"
   ]
  },
  {
   "cell_type": "code",
   "execution_count": null,
   "id": "53c1e915",
   "metadata": {},
   "outputs": [],
   "source": []
  }
 ],
 "metadata": {
  "kernelspec": {
   "display_name": "Python 3 (ipykernel)",
   "language": "python",
   "name": "python3"
  },
  "language_info": {
   "codemirror_mode": {
    "name": "ipython",
    "version": 3
   },
   "file_extension": ".py",
   "mimetype": "text/x-python",
   "name": "python",
   "nbconvert_exporter": "python",
   "pygments_lexer": "ipython3",
   "version": "3.9.17"
  }
 },
 "nbformat": 4,
 "nbformat_minor": 5
}
