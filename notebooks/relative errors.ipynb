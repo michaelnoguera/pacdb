{
 "cells": [
  {
   "cell_type": "code",
   "execution_count": 47,
   "id": "fcfa5f03",
   "metadata": {},
   "outputs": [],
   "source": [
    "import polars.selectors as cs\n",
    "import numpy as np\n",
    "\n",
    "import polars as pl\n",
    "\n",
    "import matplotlib.pyplot as plt"
   ]
  },
  {
   "cell_type": "code",
   "execution_count": 48,
   "id": "1288945e",
   "metadata": {},
   "outputs": [],
   "source": [
    "def hist_of_numerical_values(df: pl.DataFrame):\n",
    "    \"\"\"\n",
    "    Generates histograms for all numerical columns in a Polars DataFrame.\n",
    "\n",
    "    Args:\n",
    "        df: The Polars DataFrame.\n",
    "\n",
    "    Returns:\n",
    "        A dictionary where keys are column names and values are the histogram data.\n",
    "    \"\"\"\n",
    "    histograms = {}\n",
    "    for col_name in df.columns:\n",
    "        if df[col_name].dtype in [pl.Int8, pl.Int16, pl.Int32, pl.Int64, pl.UInt8, pl.UInt16, pl.UInt32, pl.UInt64, pl.Float32, pl.Float64]:\n",
    "            hist_data = df[col_name].hist()\n",
    "            histograms[col_name] = hist_data\n",
    "    return histograms"
   ]
  },
  {
   "cell_type": "code",
   "execution_count": 49,
   "id": "f25d4a28",
   "metadata": {},
   "outputs": [],
   "source": [
    "index_cols = {\n",
    "    1: ['l_returnflag', 'l_linestatus'],\n",
    "    3: ['l_orderkey','o_orderdate','o_shippriority'],\n",
    "    4: ['o_orderpriority'],\n",
    "    5: ['n_name'],\n",
    "    6: [],\n",
    "    7: ['supp_nation', 'cust_nation', 'l_year'], \n",
    "    8: ['o_year'],\n",
    "    9: ['nation', 'o_year'],\n",
    "    12: ['l_shipmode'],\n",
    "    13: ['c_count'],\n",
    "    14: [],\n",
    "    15: [],\n",
    "    17: [],\n",
    "    19: [],\n",
    "    20: [],\n",
    "    21: ['s_name'],\n",
    "    22: ['cntrycode']\n",
    "}\n",
    "scale_required = set([1,4, 5, 6, 7, 9, 12, 13, 17, 19, 21, 22])\n",
    "# not 8, 14\n",
    "# skip 3, skip 20\n",
    "queries_to_run = [1, 3, 4, 5, 6, 7, 8, 9, 12, 13, 14, 15, 17, 19, 21, 22]"
   ]
  },
  {
   "cell_type": "code",
   "execution_count": 52,
   "id": "32b8ac1c",
   "metadata": {},
   "outputs": [
    {
     "name": "stdout",
     "output_type": "stream",
     "text": [
      "1 32\n",
      "[] revenue_noised 0 3\n",
      "reached\n",
      "[] revenue_noised 1 3\n",
      "reached\n",
      "[] revenue_noised 2 3\n",
      "reached\n",
      "[] revenue_noised 3 3\n",
      "reached\n",
      "[] revenue_noised 4 3\n",
      "reached\n",
      "[] revenue_noised 5 3\n",
      "reached\n",
      "[] revenue_noised 6 3\n",
      "reached\n",
      "[] revenue_noised 7 3\n",
      "reached\n",
      "[] revenue_noised 8 3\n",
      "reached\n",
      "[] revenue_noised 9 3\n",
      "reached\n",
      "3 0\n",
      "4 5\n",
      "5 5\n",
      "6 1\n",
      "7 4\n",
      "8 2\n",
      "9 175\n",
      "12 4\n",
      "[] custdist_noised 38 13\n",
      "reached\n",
      "[] custdist_noised 39 13\n",
      "reached\n",
      "[] custdist_noised 40 13\n",
      "reached\n",
      "[] custdist_noised 41 13\n",
      "reached\n",
      "13 38\n",
      "14 1\n",
      "15 1\n",
      "17 1\n",
      "19 1\n",
      "[] numwait_noised 82 21\n",
      "reached\n",
      "[] numwait_noised 96 21\n",
      "reached\n",
      "21 98\n",
      "22 14\n"
     ]
    }
   ],
   "source": [
    "# for query_ind in queries_to_run:\n",
    "num_trials = 1000\n",
    "avg_errors = {}\n",
    "all_nulls = {}\n",
    "for query_ind in queries_to_run:\n",
    "#     print(query_ind)\n",
    "#     1/128, 1/64, 1/32, 1/16, 1/8, 1/4, 1/2, 1.0, 2.0, 4.0\n",
    "    num_nulls = 0.\n",
    "    total_error = []\n",
    "    for mi in [1/16]:\n",
    "        null_info = {}\n",
    "        orig = pl.read_csv(f'../unnoised/q{query_ind}.csv')\n",
    "        if query_ind == 22:\n",
    "            orig = orig.select(\n",
    "            pl.col(\"cntrycode\").cast(str),\n",
    "            pl.col(\"numcust\"),\n",
    "            pl.col(\"totacctbal\"))\n",
    "        noised = pl.read_json(f'../outputs/ap-duckdb-q{query_ind}-customer-{mi}-step3/output.json')\n",
    "        if index_cols[query_ind]:\n",
    "            merged_df = orig.join(noised, on=index_cols[query_ind], suffix='_noised')\n",
    "        else:\n",
    "            merged_df = orig.join(noised, suffix='_noised', how='cross')\n",
    "        suffix1 = ''\n",
    "        suffix2 = '_noised'\n",
    "        cols_with_suffixes = [col for col in merged_df.columns if suffix1 in col or suffix2 in col]\n",
    "\n",
    "        base_names = set([col.replace(suffix1, '').replace(suffix2, '') for col in cols_with_suffixes])\n",
    "        if query_ind == 15:\n",
    "            base_names = ['total_revenue'] # only look at numeric\n",
    "        all_outputs = 0.\n",
    "        for base_name in base_names:\n",
    "            nulls_exist = False\n",
    "            null_inds, null_vals = [], []\n",
    "\n",
    "            orig = base_name + suffix1\n",
    "            noised = base_name + suffix2\n",
    "            if orig in merged_df.columns and noised in merged_df.columns:\n",
    "                rel_errors = []\n",
    "                for ind in range(len(merged_df[orig])):\n",
    "                    if query_ind in scale_required:\n",
    "                        const = 2 # subsampling scaling\n",
    "                        if query_ind == 1 and not (base_name[:3] == 'sum' or base_name[:5] == 'count'):\n",
    "                            const = 1 # remove for parts of q1\n",
    "                    else:\n",
    "                        const = 1\n",
    "    #                     print(merged_df[noised][ind])\n",
    "                    noised_vals = [merged_df[noised][ind][tmp_ind] for tmp_ind in range(\n",
    "                        len(merged_df[noised][ind])) if merged_df[noised][ind][tmp_ind] is not None]\n",
    "                    if len(noised_vals) != 1000 and len(noised_vals) != 0:\n",
    "                        print('reached', query_ind)\n",
    "                    new = np.average(\n",
    "                        [100*abs(\n",
    "                            const*noised_vals[tmp_ind] - merged_df[orig][ind]\n",
    "                            ) / merged_df[orig][ind] for tmp_ind in range(\n",
    "                                len(noised_vals))]\n",
    "                    )\n",
    "                    if not np.isnan(new):\n",
    "                        total_error.append(new)\n",
    "                    rel_errors.append(new)\n",
    "                merged_df = merged_df.with_columns(pl.Series('pct_diff_' + base_name, rel_errors))\n",
    "                num_outputs = len(list(merged_df[noised]))\n",
    "                all_outputs+= num_outputs\n",
    "                for ind in range(num_outputs):\n",
    "                    full_list = [x for x in list(merged_df[noised][ind]) if x is not None]\n",
    "                    if len(full_list) < num_trials:\n",
    "                        print(full_list, noised, ind, query_ind)\n",
    "                        print('reached')\n",
    "                        num_nulls += 1\n",
    "                        nulls_exist = True\n",
    "                        null_inds.append(ind)\n",
    "                        null_vals.append(100*(num_trials-len(full_list))/num_trials)\n",
    "#                         print(query_ind, ind, null_vals)\n",
    "            null_info[base_name] = (nulls_exist, null_inds, null_vals)\n",
    "        all_nulls[query_ind] = 100*num_nulls/all_outputs\n",
    "        avg_errors[query_ind] = np.average(total_error)\n",
    "        print(query_ind, len(total_error))\n",
    "\n",
    "#         # Get columns that start with 'pct_diff'\n",
    "#         pct_diff_cols = [col for col in merged_df.columns if col.startswith('pct_diff')]\n",
    "\n",
    "#         # Create subplots based on number of pct_diff columns\n",
    "#         n_cols = len(pct_diff_cols)\n",
    "#         fig, axes = plt.subplots(1, n_cols, figsize=(5*n_cols, 4))\n",
    "\n",
    "#         # Handle case where there's only one column (axes won't be a list)\n",
    "#         if n_cols == 1:\n",
    "#             axes = [axes]\n",
    "\n",
    "#         # Create histogram for each column\n",
    "#         for i, col in enumerate(pct_diff_cols):\n",
    "#             # Convert to pandas for easier plotting, or use polars plot method\n",
    "#             values = merged_df[col].to_pandas()\n",
    "\n",
    "#             axes[i].hist(values, bins=30, alpha=0.7, edgecolor='black')\n",
    "#             axes[i].set_title(f'Histogram of {col}')\n",
    "#             axes[i].set_xlabel(col)\n",
    "#             axes[i].set_ylabel('Frequency')\n",
    "#             axes[i].grid(True, alpha=0.3)\n",
    "\n",
    "#         plt.tight_layout()\n",
    "#         plt.savefig(f'tmp/q{query_ind}_{mi}_{col}_hist.png', facecolor='white', bbox_inches='tight')\n",
    "\n",
    "#         for base in null_info:\n",
    "#             (nulls_exist, null_inds, null_vals) = null_info[base]\n",
    "#             if nulls_exist:\n",
    "#                 fig, axes = plt.subplots(1, 1, figsize=(5, 4))\n",
    "#                 # Handle case where there's only one column (axes won't be a list)\n",
    "#                 if n_cols == 1:\n",
    "#                     axes = [axes]\n",
    "#                 axes[0].hist(null_vals, bins=30, alpha=0.7, edgecolor='black')\n",
    "#                 axes[0].set_title(f'Histogram of nulls for column {base}')\n",
    "#                 axes[0].set_xlabel('Fraction of nulls (%)')\n",
    "#                 axes[0].set_ylabel('Frequency')\n",
    "#                 axes[0].grid(True, alpha=0.3)\n",
    "#                 plt.savefig(f'tmp/q{query_ind}_{mi}_{base}_nulls.png', facecolor='white', bbox_inches='tight')"
   ]
  },
  {
   "cell_type": "code",
   "execution_count": 53,
   "id": "37837373",
   "metadata": {},
   "outputs": [
    {
     "data": {
      "text/plain": [
       "{1: 0.0,\n",
       " 3: 100.0,\n",
       " 4: 0.0,\n",
       " 5: 0.0,\n",
       " 6: 0.0,\n",
       " 7: 0.0,\n",
       " 8: 0.0,\n",
       " 9: 0.0,\n",
       " 12: 0.0,\n",
       " 13: 9.523809523809524,\n",
       " 14: 0.0,\n",
       " 15: 0.0,\n",
       " 17: 0.0,\n",
       " 19: 0.0,\n",
       " 21: 2.0,\n",
       " 22: 0.0}"
      ]
     },
     "execution_count": 53,
     "metadata": {},
     "output_type": "execute_result"
    }
   ],
   "source": [
    "all_nulls"
   ]
  },
  {
   "cell_type": "code",
   "execution_count": 54,
   "id": "90482e42",
   "metadata": {},
   "outputs": [
    {
     "data": {
      "text/plain": [
       "{1: 0.7732860751185819,\n",
       " 3: nan,\n",
       " 4: 2.457698262655051,\n",
       " 5: 8.947538868703782,\n",
       " 6: 1.2230274679801414,\n",
       " 7: 9.0981388689475,\n",
       " 8: 36.03536047108541,\n",
       " 9: 7.156608821035725,\n",
       " 12: 2.876811213196448,\n",
       " 13: 13.029334768282093,\n",
       " 14: 2.2566754193439857,\n",
       " 15: 35.55656505822582,\n",
       " 17: 10.695317937297462,\n",
       " 19: 23.116914035307033,\n",
       " 21: 63.31536583248483,\n",
       " 22: 7.882563610303036}"
      ]
     },
     "execution_count": 54,
     "metadata": {},
     "output_type": "execute_result"
    }
   ],
   "source": [
    "avg_errors"
   ]
  },
  {
   "cell_type": "code",
   "execution_count": 27,
   "id": "625f42e9",
   "metadata": {},
   "outputs": [
    {
     "data": {
      "text/html": [
       "<div><style>\n",
       ".dataframe > thead > tr,\n",
       ".dataframe > tbody > tr {\n",
       "  text-align: right;\n",
       "  white-space: pre-wrap;\n",
       "}\n",
       "</style>\n",
       "<small>shape: (1,)</small><table border=\"1\" class=\"dataframe\"><thead><tr><th></th></tr><tr><td>f64</td></tr></thead><tbody><tr><td>null</td></tr></tbody></table></div>"
      ],
      "text/plain": [
       "shape: (1,)\n",
       "Series: '' [f64]\n",
       "[\n",
       "\tnull\n",
       "]"
      ]
     },
     "execution_count": 27,
     "metadata": {},
     "output_type": "execute_result"
    }
   ],
   "source": [
    "merged_df['numwait_noised'][52]"
   ]
  },
  {
   "cell_type": "code",
   "execution_count": 11,
   "id": "cb75610f",
   "metadata": {},
   "outputs": [
    {
     "data": {
      "text/plain": [
       "{21: 64.20572510180371}"
      ]
     },
     "execution_count": 11,
     "metadata": {},
     "output_type": "execute_result"
    }
   ],
   "source": [
    "avg_errors"
   ]
  },
  {
   "cell_type": "code",
   "execution_count": 21,
   "id": "8c031b09",
   "metadata": {},
   "outputs": [
    {
     "data": {
      "text/plain": [
       "{'numwait': (True, [52], [100.0]), 's_name': (False, [], [])}"
      ]
     },
     "execution_count": 21,
     "metadata": {},
     "output_type": "execute_result"
    }
   ],
   "source": [
    "null_info"
   ]
  },
  {
   "cell_type": "code",
   "execution_count": 19,
   "id": "bc2a6e94",
   "metadata": {},
   "outputs": [
    {
     "data": {
      "text/plain": [
       "1.0"
      ]
     },
     "execution_count": 19,
     "metadata": {},
     "output_type": "execute_result"
    }
   ],
   "source": [
    "num_nulls"
   ]
  },
  {
   "cell_type": "code",
   "execution_count": 22,
   "id": "ef1fcff6",
   "metadata": {},
   "outputs": [
    {
     "name": "stdout",
     "output_type": "stream",
     "text": [
      "shape: (1,)\n",
      "Series: 'numwait' [i64]\n",
      "[\n",
      "\t13\n",
      "]\n"
     ]
    }
   ],
   "source": [
    "print(merged_df[52]['numwait'])"
   ]
  },
  {
   "cell_type": "code",
   "execution_count": 80,
   "id": "2500afd6",
   "metadata": {},
   "outputs": [
    {
     "name": "stdout",
     "output_type": "stream",
     "text": [
      "0 50004 [1.1196400910320623]\n",
      "1 6668 [2.973363810267819]\n",
      "2 6563 [2.7433035361358535]\n",
      "3 6004 [2.983284372430054]\n",
      "4 5890 [3.0222579261386073]\n",
      "5 5600 [3.3500042940348767]\n",
      "6 5029 [2.9536883946210755]\n",
      "7 4680 [3.190575314304907]\n",
      "8 4805 [3.5212760490062824]\n",
      "9 4473 [3.6883829004876216]\n",
      "10 4531 [3.8092959565633637]\n",
      "11 4507 [3.61348632804923]\n",
      "12 4410 [3.5748872996624077]\n",
      "13 4445 [3.5487593956018784]\n",
      "14 4463 [3.7854498280879487]\n",
      "15 4168 [4.2912288755703845]\n",
      "16 3742 [4.1767616705118975]\n",
      "17 3273 [4.090101358815831]\n",
      "18 3189 [4.7625144900816325]\n",
      "19 2700 [4.0835136679844135]\n",
      "20 2090 [5.855311957853457]\n",
      "21 1957 [5.200809020599325]\n",
      "22 1653 [5.882728613775029]\n",
      "23 1177 [6.876115153650721]\n",
      "24 1010 [7.396572650238582]\n",
      "25 901 [8.461689110478826]\n",
      "26 564 [9.933316303031944]\n",
      "27 408 [11.934576952863091]\n",
      "28 378 [13.456236907308611]\n",
      "29 242 [16.59228775168772]\n",
      "30 128 [20.615426875523436]\n",
      "31 133 [21.341722719137696]\n",
      "32 72 [34.20882338231368]\n",
      "33 52 [30.408288854492405]\n",
      "34 32 [45.807240242035306]\n",
      "35 20 [63.94985779205909]\n",
      "36 20 [50.96691886686042]\n",
      "37 8 [87.93213069071517]\n",
      "38 3 [nan]\n",
      "39 3 [nan]\n",
      "40 1 [nan]\n",
      "41 4 [nan]\n"
     ]
    }
   ],
   "source": [
    "for i in range(len(merged_df)):\n",
    "    print(i, merged_df[i]['custdist'].to_list()[0], merged_df[i]['pct_diff_custdist'].to_list())"
   ]
  },
  {
   "cell_type": "code",
   "execution_count": 81,
   "id": "49239f56",
   "metadata": {},
   "outputs": [
    {
     "data": {
      "text/html": [
       "<div><style>\n",
       ".dataframe > thead > tr,\n",
       ".dataframe > tbody > tr {\n",
       "  text-align: right;\n",
       "  white-space: pre-wrap;\n",
       "}\n",
       "</style>\n",
       "<small>shape: (42, 4)</small><table border=\"1\" class=\"dataframe\"><thead><tr><th>c_count</th><th>custdist</th><th>custdist_noised</th><th>pct_diff_custdist</th></tr><tr><td>i64</td><td>i64</td><td>list[f64]</td><td>f64</td></tr></thead><tbody><tr><td>0</td><td>50004</td><td>[24929.992711, 24309.892527, … 25344.932356]</td><td>1.11964</td></tr><tr><td>10</td><td>6668</td><td>[3360.383482, 3185.948872, … 3301.054971]</td><td>2.973364</td></tr><tr><td>9</td><td>6563</td><td>[3316.546404, 3407.662363, … 3412.462173]</td><td>2.743304</td></tr><tr><td>11</td><td>6004</td><td>[2952.667351, 3047.830932, … 3084.504024]</td><td>2.983284</td></tr><tr><td>8</td><td>5890</td><td>[3070.698199, 3047.307231, … 2929.17853]</td><td>3.022258</td></tr><tr><td>&hellip;</td><td>&hellip;</td><td>&hellip;</td><td>&hellip;</td></tr><tr><td>37</td><td>8</td><td>[2.740054, 8.15166, … 2.051058]</td><td>87.932131</td></tr><tr><td>41</td><td>3</td><td>[null]</td><td>NaN</td></tr><tr><td>40</td><td>3</td><td>[null]</td><td>NaN</td></tr><tr><td>39</td><td>1</td><td>[null]</td><td>NaN</td></tr><tr><td>38</td><td>4</td><td>[null]</td><td>NaN</td></tr></tbody></table></div>"
      ],
      "text/plain": [
       "shape: (42, 4)\n",
       "┌─────────┬──────────┬─────────────────────────────────┬───────────────────┐\n",
       "│ c_count ┆ custdist ┆ custdist_noised                 ┆ pct_diff_custdist │\n",
       "│ ---     ┆ ---      ┆ ---                             ┆ ---               │\n",
       "│ i64     ┆ i64      ┆ list[f64]                       ┆ f64               │\n",
       "╞═════════╪══════════╪═════════════════════════════════╪═══════════════════╡\n",
       "│ 0       ┆ 50004    ┆ [24929.992711, 24309.892527, …… ┆ 1.11964           │\n",
       "│ 10      ┆ 6668     ┆ [3360.383482, 3185.948872, … 3… ┆ 2.973364          │\n",
       "│ 9       ┆ 6563     ┆ [3316.546404, 3407.662363, … 3… ┆ 2.743304          │\n",
       "│ 11      ┆ 6004     ┆ [2952.667351, 3047.830932, … 3… ┆ 2.983284          │\n",
       "│ 8       ┆ 5890     ┆ [3070.698199, 3047.307231, … 2… ┆ 3.022258          │\n",
       "│ …       ┆ …        ┆ …                               ┆ …                 │\n",
       "│ 37      ┆ 8        ┆ [2.740054, 8.15166, … 2.051058… ┆ 87.932131         │\n",
       "│ 41      ┆ 3        ┆ [null]                          ┆ NaN               │\n",
       "│ 40      ┆ 3        ┆ [null]                          ┆ NaN               │\n",
       "│ 39      ┆ 1        ┆ [null]                          ┆ NaN               │\n",
       "│ 38      ┆ 4        ┆ [null]                          ┆ NaN               │\n",
       "└─────────┴──────────┴─────────────────────────────────┴───────────────────┘"
      ]
     },
     "execution_count": 81,
     "metadata": {},
     "output_type": "execute_result"
    }
   ],
   "source": [
    "merged_df"
   ]
  },
  {
   "cell_type": "code",
   "execution_count": 75,
   "id": "8632d145",
   "metadata": {},
   "outputs": [
    {
     "data": {
      "text/plain": [
       "[50004]"
      ]
     },
     "execution_count": 75,
     "metadata": {},
     "output_type": "execute_result"
    }
   ],
   "source": [
    "merged_df[0]['custdist'].to_list()\n"
   ]
  },
  {
   "cell_type": "code",
   "execution_count": 62,
   "id": "2e30a4bb",
   "metadata": {},
   "outputs": [
    {
     "data": {
      "text/plain": [
       "{1: 0.0,\n",
       " 3: 100.0,\n",
       " 4: 0.0,\n",
       " 5: 0.0,\n",
       " 6: 0.0,\n",
       " 7: 0.0,\n",
       " 8: 0.0,\n",
       " 9: 0.0,\n",
       " 12: 0.0,\n",
       " 13: 9.523809523809524,\n",
       " 14: 0.0,\n",
       " 15: 0.0,\n",
       " 17: 0.0,\n",
       " 19: 0.0,\n",
       " 21: 4.0,\n",
       " 22: 0.0}"
      ]
     },
     "execution_count": 62,
     "metadata": {},
     "output_type": "execute_result"
    }
   ],
   "source": [
    "all_nulls"
   ]
  },
  {
   "cell_type": "code",
   "execution_count": 63,
   "id": "3ee72819",
   "metadata": {
    "scrolled": true
   },
   "outputs": [
    {
     "data": {
      "text/plain": [
       "{1: 0.7951532286166187,\n",
       " 3: nan,\n",
       " 4: 2.4076477798448783,\n",
       " 5: 9.045629271965053,\n",
       " 6: 1.2860405483375585,\n",
       " 7: 9.017410097004426,\n",
       " 8: 35.822894463656,\n",
       " 9: 7.160786752071281,\n",
       " 12: 2.9457904782988082,\n",
       " 13: 13.58162708957928,\n",
       " 14: 2.2317893717722153,\n",
       " 15: 34.50384808901249,\n",
       " 17: 11.455715445346588,\n",
       " 19: 23.48917728195702,\n",
       " 21: 63.56633656447392,\n",
       " 22: 7.795469260205711}"
      ]
     },
     "execution_count": 63,
     "metadata": {},
     "output_type": "execute_result"
    }
   ],
   "source": [
    "avg_errors"
   ]
  },
  {
   "cell_type": "code",
   "execution_count": null,
   "id": "53c1e915",
   "metadata": {},
   "outputs": [],
   "source": []
  },
  {
   "cell_type": "code",
   "execution_count": null,
   "id": "b7eed096",
   "metadata": {},
   "outputs": [],
   "source": []
  }
 ],
 "metadata": {
  "kernelspec": {
   "display_name": "Python 3 (ipykernel)",
   "language": "python",
   "name": "python3"
  },
  "language_info": {
   "codemirror_mode": {
    "name": "ipython",
    "version": 3
   },
   "file_extension": ".py",
   "mimetype": "text/x-python",
   "name": "python",
   "nbconvert_exporter": "python",
   "pygments_lexer": "ipython3",
   "version": "3.9.17"
  }
 },
 "nbformat": 4,
 "nbformat_minor": 5
}
