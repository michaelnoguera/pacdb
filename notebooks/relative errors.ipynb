{
 "cells": [
  {
   "cell_type": "code",
   "execution_count": 25,
   "id": "fcfa5f03",
   "metadata": {},
   "outputs": [],
   "source": [
    "import polars.selectors as cs\n",
    "import numpy as np\n",
    "\n",
    "import polars as pl\n",
    "\n",
    "import matplotlib.pyplot as plt"
   ]
  },
  {
   "cell_type": "code",
   "execution_count": 26,
   "id": "1288945e",
   "metadata": {},
   "outputs": [],
   "source": [
    "def hist_of_numerical_values(df: pl.DataFrame):\n",
    "    \"\"\"\n",
    "    Generates histograms for all numerical columns in a Polars DataFrame.\n",
    "\n",
    "    Args:\n",
    "        df: The Polars DataFrame.\n",
    "\n",
    "    Returns:\n",
    "        A dictionary where keys are column names and values are the histogram data.\n",
    "    \"\"\"\n",
    "    histograms = {}\n",
    "    for col_name in df.columns:\n",
    "        if df[col_name].dtype in [pl.Int8, pl.Int16, pl.Int32, pl.Int64, pl.UInt8, pl.UInt16, pl.UInt32, pl.UInt64, pl.Float32, pl.Float64]:\n",
    "            hist_data = df[col_name].hist()\n",
    "            histograms[col_name] = hist_data\n",
    "    return histograms"
   ]
  },
  {
   "cell_type": "code",
   "execution_count": 27,
   "id": "f25d4a28",
   "metadata": {},
   "outputs": [],
   "source": [
    "index_cols = {\n",
    "    1: ['l_returnflag', 'l_linestatus'],\n",
    "    3: ['l_orderkey','o_orderdate','o_shippriority'],\n",
    "    4: ['o_orderpriority'],\n",
    "    5: ['n_name'],\n",
    "    6: [],\n",
    "    7: ['supp_nation', 'cust_nation', 'l_year'], \n",
    "    8: ['o_year'],\n",
    "    9: ['nation', 'o_year'],\n",
    "    12: ['l_shipmode'],\n",
    "    13: ['c_count'],\n",
    "    14: [],\n",
    "    15: [],\n",
    "    17: [],\n",
    "    19: [],\n",
    "    20: [],\n",
    "    21: ['s_name'],\n",
    "    22: ['cntrycode']\n",
    "}\n",
    "scale_required = set([1,4, 5, 6, 7, 9, 12, 13, 17, 19, 21, 22])\n",
    "# not 8, 14\n",
    "# skip 3, skip 20\n",
    "queries_to_run = [1, 3, 4, 5, 6, 7, 8, 9, 12, 13, 14, 15, 17, 19, 21, 22]"
   ]
  },
  {
   "cell_type": "code",
   "execution_count": 32,
   "id": "32b8ac1c",
   "metadata": {},
   "outputs": [
    {
     "name": "stdout",
     "output_type": "stream",
     "text": [
      "1 32\n",
      "[] revenue_noised 0 3\n",
      "reached\n",
      "[] revenue_noised 1 3\n",
      "reached\n",
      "[] revenue_noised 2 3\n",
      "reached\n",
      "[] revenue_noised 3 3\n",
      "reached\n",
      "[] revenue_noised 4 3\n",
      "reached\n",
      "[] revenue_noised 5 3\n",
      "reached\n",
      "[] revenue_noised 6 3\n",
      "reached\n",
      "[] revenue_noised 7 3\n",
      "reached\n",
      "[] revenue_noised 8 3\n",
      "reached\n",
      "[] revenue_noised 9 3\n",
      "reached\n",
      "3 0\n",
      "4 5\n",
      "5 5\n",
      "6 1\n",
      "7 4\n",
      "8 2\n",
      "9 175\n",
      "12 4\n",
      "[] custdist_noised 37 13\n",
      "reached\n",
      "[] custdist_noised 38 13\n",
      "reached\n",
      "[] custdist_noised 39 13\n",
      "reached\n",
      "[] custdist_noised 40 13\n",
      "reached\n",
      "[] custdist_noised 41 13\n",
      "reached\n",
      "13 37\n",
      "14 1\n",
      "15 1\n",
      "17 1\n",
      "19 1\n",
      "[] numwait_noised 86 21\n",
      "reached\n",
      "21 99\n",
      "22 14\n"
     ]
    }
   ],
   "source": [
    "# for query_ind in queries_to_run:\n",
    "num_trials = 1000\n",
    "avg_errors = {}\n",
    "all_nulls = {}\n",
    "for query_ind in queries_to_run:\n",
    "#     print(query_ind)\n",
    "#     1/128, 1/64, 1/32, 1/16, 1/8, 1/4, 1/2, 1.0, 2.0, 4.0\n",
    "    num_nulls = 0.\n",
    "    total_error = []\n",
    "    for mi in [1/16]:\n",
    "        null_info = {}\n",
    "        orig = pl.read_csv(f'../unnoised/q{query_ind}.csv')\n",
    "        if query_ind == 22:\n",
    "            orig = orig.select(\n",
    "            pl.col(\"cntrycode\").cast(str),\n",
    "            pl.col(\"numcust\"),\n",
    "            pl.col(\"totacctbal\"))\n",
    "        noised = pl.read_json(f'../outputs/ap-duckdb-q{query_ind}-customer-{mi}-step3/output.json')\n",
    "        if index_cols[query_ind]:\n",
    "            merged_df = orig.join(noised, on=index_cols[query_ind], suffix='_noised')\n",
    "        else:\n",
    "            merged_df = orig.join(noised, suffix='_noised', how='cross')\n",
    "        suffix1 = ''\n",
    "        suffix2 = '_noised'\n",
    "        cols_with_suffixes = [col for col in merged_df.columns if suffix1 in col or suffix2 in col]\n",
    "\n",
    "        base_names = set([col.replace(suffix1, '').replace(suffix2, '') for col in cols_with_suffixes])\n",
    "        if query_ind == 15:\n",
    "            base_names = ['total_revenue'] # only look at numeric\n",
    "        all_outputs = 0.\n",
    "        for base_name in base_names:\n",
    "            nulls_exist = False\n",
    "            null_inds, null_vals = [], []\n",
    "\n",
    "            orig = base_name + suffix1\n",
    "            noised = base_name + suffix2\n",
    "            if orig in merged_df.columns and noised in merged_df.columns:\n",
    "                rel_errors = []\n",
    "                for ind in range(len(merged_df[orig])):\n",
    "                    if query_ind in scale_required:\n",
    "                        const = 2 # subsampling scaling\n",
    "                        if query_ind == 1 and not (base_name[:3] == 'sum' or base_name[:5] == 'count'):\n",
    "                            const = 1 # remove for parts of q1\n",
    "                    else:\n",
    "                        const = 1\n",
    "    #                     print(merged_df[noised][ind])\n",
    "                    noised_vals = [merged_df[noised][ind][tmp_ind] for tmp_ind in range(\n",
    "                        len(merged_df[noised][ind])) if merged_df[noised][ind][tmp_ind] is not None]\n",
    "                    if len(noised_vals) != 1000 and len(noised_vals) != 0:\n",
    "                        print('reached', query_ind)\n",
    "                    new = np.average(\n",
    "                        [100*abs(\n",
    "                            const*noised_vals[tmp_ind] - merged_df[orig][ind]\n",
    "                            ) / merged_df[orig][ind] for tmp_ind in range(\n",
    "                                len(noised_vals))]\n",
    "                    )\n",
    "                    if not np.isnan(new):\n",
    "                        total_error.append(new)\n",
    "                    rel_errors.append(new)\n",
    "                merged_df = merged_df.with_columns(pl.Series('pct_diff_' + base_name, rel_errors))\n",
    "                num_outputs = len(list(merged_df[noised]))\n",
    "                all_outputs+= num_outputs\n",
    "                for ind in range(num_outputs):\n",
    "                    full_list = [x for x in list(merged_df[noised][ind]) if x is not None]\n",
    "                    if len(full_list) < num_trials:\n",
    "                        print(full_list, noised, ind, query_ind)\n",
    "                        print('reached')\n",
    "                        num_nulls += 1\n",
    "                        nulls_exist = True\n",
    "                        null_inds.append(ind)\n",
    "                        null_vals.append(100*(num_trials-len(full_list))/num_trials)\n",
    "#                         print(query_ind, ind, null_vals)\n",
    "            null_info[base_name] = (nulls_exist, null_inds, null_vals)\n",
    "        all_nulls[query_ind] = 100*num_nulls/all_outputs\n",
    "        avg_errors[query_ind] = np.average(total_error)\n",
    "        print(query_ind, len(total_error))\n",
    "\n",
    "#         # Get columns that start with 'pct_diff'\n",
    "#         pct_diff_cols = [col for col in merged_df.columns if col.startswith('pct_diff')]\n",
    "\n",
    "#         # Create subplots based on number of pct_diff columns\n",
    "#         n_cols = len(pct_diff_cols)\n",
    "#         fig, axes = plt.subplots(1, n_cols, figsize=(5*n_cols, 4))\n",
    "\n",
    "#         # Handle case where there's only one column (axes won't be a list)\n",
    "#         if n_cols == 1:\n",
    "#             axes = [axes]\n",
    "\n",
    "#         # Create histogram for each column\n",
    "#         for i, col in enumerate(pct_diff_cols):\n",
    "#             # Convert to pandas for easier plotting, or use polars plot method\n",
    "#             values = merged_df[col].to_pandas()\n",
    "\n",
    "#             axes[i].hist(values, bins=30, alpha=0.7, edgecolor='black')\n",
    "#             axes[i].set_title(f'Histogram of {col}')\n",
    "#             axes[i].set_xlabel(col)\n",
    "#             axes[i].set_ylabel('Frequency')\n",
    "#             axes[i].grid(True, alpha=0.3)\n",
    "\n",
    "#         plt.tight_layout()\n",
    "#         plt.savefig(f'tmp/q{query_ind}_{mi}_{col}_hist.png', facecolor='white', bbox_inches='tight')\n",
    "\n",
    "#         for base in null_info:\n",
    "#             (nulls_exist, null_inds, null_vals) = null_info[base]\n",
    "#             if nulls_exist:\n",
    "#                 fig, axes = plt.subplots(1, 1, figsize=(5, 4))\n",
    "#                 # Handle case where there's only one column (axes won't be a list)\n",
    "#                 if n_cols == 1:\n",
    "#                     axes = [axes]\n",
    "#                 axes[0].hist(null_vals, bins=30, alpha=0.7, edgecolor='black')\n",
    "#                 axes[0].set_title(f'Histogram of nulls for column {base}')\n",
    "#                 axes[0].set_xlabel('Fraction of nulls (%)')\n",
    "#                 axes[0].set_ylabel('Frequency')\n",
    "#                 axes[0].grid(True, alpha=0.3)\n",
    "#                 plt.savefig(f'tmp/q{query_ind}_{mi}_{base}_nulls.png', facecolor='white', bbox_inches='tight')"
   ]
  },
  {
   "cell_type": "code",
   "execution_count": 33,
   "id": "37837373",
   "metadata": {},
   "outputs": [
    {
     "data": {
      "text/plain": [
       "{1: 0.0,\n",
       " 3: 100.0,\n",
       " 4: 0.0,\n",
       " 5: 0.0,\n",
       " 6: 0.0,\n",
       " 7: 0.0,\n",
       " 8: 0.0,\n",
       " 9: 0.0,\n",
       " 12: 0.0,\n",
       " 13: 11.904761904761905,\n",
       " 14: 0.0,\n",
       " 15: 0.0,\n",
       " 17: 0.0,\n",
       " 19: 0.0,\n",
       " 21: 1.0,\n",
       " 22: 0.0}"
      ]
     },
     "execution_count": 33,
     "metadata": {},
     "output_type": "execute_result"
    }
   ],
   "source": [
    "all_nulls"
   ]
  },
  {
   "cell_type": "code",
   "execution_count": 34,
   "id": "90482e42",
   "metadata": {},
   "outputs": [
    {
     "data": {
      "text/plain": [
       "{1: 0.7556880802111988,\n",
       " 3: nan,\n",
       " 4: 2.4040037081433274,\n",
       " 5: 8.854581686905387,\n",
       " 6: 1.1866798958039402,\n",
       " 7: 8.780564309520603,\n",
       " 8: 35.54604282613709,\n",
       " 9: 7.068615806325052,\n",
       " 12: 3.0503490410683853,\n",
       " 13: 10.854701901760366,\n",
       " 14: 2.0583587986616276,\n",
       " 15: 35.747335576100014,\n",
       " 17: 11.474393040914164,\n",
       " 19: 24.275938584227244,\n",
       " 21: 63.8807483675156,\n",
       " 22: 7.744830183693608}"
      ]
     },
     "execution_count": 34,
     "metadata": {},
     "output_type": "execute_result"
    }
   ],
   "source": [
    "avg_errors"
   ]
  },
  {
   "cell_type": "code",
   "execution_count": 35,
   "id": "bc2a6e94",
   "metadata": {},
   "outputs": [
    {
     "data": {
      "text/plain": [
       "0.0"
      ]
     },
     "execution_count": 35,
     "metadata": {},
     "output_type": "execute_result"
    }
   ],
   "source": [
    "num_nulls"
   ]
  },
  {
   "cell_type": "code",
   "execution_count": null,
   "id": "53c1e915",
   "metadata": {},
   "outputs": [],
   "source": []
  },
  {
   "cell_type": "code",
   "execution_count": 24,
   "id": "b7eed096",
   "metadata": {},
   "outputs": [
    {
     "data": {
      "text/html": [
       "<div><style>\n",
       ".dataframe > thead > tr,\n",
       ".dataframe > tbody > tr {\n",
       "  text-align: right;\n",
       "  white-space: pre-wrap;\n",
       "}\n",
       "</style>\n",
       "<small>shape: (7, 7)</small><table border=\"1\" class=\"dataframe\"><thead><tr><th>cntrycode</th><th>numcust</th><th>totacctbal</th><th>numcust_noised</th><th>totacctbal_noised</th><th>pct_diff_numcust</th><th>pct_diff_totacctbal</th></tr><tr><td>str</td><td>i64</td><td>f64</td><td>list[f64]</td><td>list[f64]</td><td>f64</td><td>f64</td></tr></thead><tbody><tr><td>&quot;13&quot;</td><td>888</td><td>6.7377e6</td><td>[441.831781, 474.324589, … 363.347371]</td><td>[3.5190e6, 3.1232e6, … 3.5377e6]</td><td>7.993566</td><td>7.746325</td></tr><tr><td>&quot;17&quot;</td><td>861</td><td>6.4606e6</td><td>[357.548579, 415.566816, … 422.546507]</td><td>[2.9259e6, 2.8198e6, … 2.8126e6]</td><td>8.055456</td><td>8.083365</td></tr><tr><td>&quot;18&quot;</td><td>964</td><td>7236687.4</td><td>[486.820084, 461.719245, … 523.528831]</td><td>[3.3549e6, 3.8696e6, … 4.0587e6]</td><td>7.491968</td><td>7.731667</td></tr><tr><td>&quot;23&quot;</td><td>892</td><td>6.7015e6</td><td>[403.227495, 463.310648, … 524.278765]</td><td>[3.1450e6, 3.5901e6, … 3.7229e6]</td><td>7.596054</td><td>7.720936</td></tr><tr><td>&quot;29&quot;</td><td>948</td><td>7.1589e6</td><td>[585.327225, 479.463366, … 434.931105]</td><td>[3.3869e6, 3.8867e6, … 3.7268e6]</td><td>7.943</td><td>8.300938</td></tr><tr><td>&quot;30&quot;</td><td>909</td><td>6.8084e6</td><td>[414.385858, 473.187867, … 463.357404]</td><td>[3.3294e6, 3.9569e6, … 3.3951e6]</td><td>7.80886</td><td>8.363162</td></tr><tr><td>&quot;31&quot;</td><td>922</td><td>6.8067e6</td><td>[489.855638, 490.730762, … 448.345043]</td><td>[3.8486e6, 4.0927e6, … 3.0329e6]</td><td>7.760581</td><td>8.128501</td></tr></tbody></table></div>"
      ],
      "text/plain": [
       "shape: (7, 7)\n",
       "┌───────────┬─────────┬────────────┬───────────────┬───────────────┬───────────────┬───────────────┐\n",
       "│ cntrycode ┆ numcust ┆ totacctbal ┆ numcust_noise ┆ totacctbal_no ┆ pct_diff_numc ┆ pct_diff_tota │\n",
       "│ ---       ┆ ---     ┆ ---        ┆ d             ┆ ised          ┆ ust           ┆ cctbal        │\n",
       "│ str       ┆ i64     ┆ f64        ┆ ---           ┆ ---           ┆ ---           ┆ ---           │\n",
       "│           ┆         ┆            ┆ list[f64]     ┆ list[f64]     ┆ f64           ┆ f64           │\n",
       "╞═══════════╪═════════╪════════════╪═══════════════╪═══════════════╪═══════════════╪═══════════════╡\n",
       "│ 13        ┆ 888     ┆ 6.7377e6   ┆ [441.831781,  ┆ [3.5190e6,    ┆ 7.993566      ┆ 7.746325      │\n",
       "│           ┆         ┆            ┆ 474.324589, … ┆ 3.1232e6, …   ┆               ┆               │\n",
       "│           ┆         ┆            ┆ 363…          ┆ 3.5377e…      ┆               ┆               │\n",
       "│ 17        ┆ 861     ┆ 6.4606e6   ┆ [357.548579,  ┆ [2.9259e6,    ┆ 8.055456      ┆ 8.083365      │\n",
       "│           ┆         ┆            ┆ 415.566816, … ┆ 2.8198e6, …   ┆               ┆               │\n",
       "│           ┆         ┆            ┆ 422…          ┆ 2.8126e…      ┆               ┆               │\n",
       "│ 18        ┆ 964     ┆ 7236687.4  ┆ [486.820084,  ┆ [3.3549e6,    ┆ 7.491968      ┆ 7.731667      │\n",
       "│           ┆         ┆            ┆ 461.719245, … ┆ 3.8696e6, …   ┆               ┆               │\n",
       "│           ┆         ┆            ┆ 523…          ┆ 4.0587e…      ┆               ┆               │\n",
       "│ 23        ┆ 892     ┆ 6.7015e6   ┆ [403.227495,  ┆ [3.1450e6,    ┆ 7.596054      ┆ 7.720936      │\n",
       "│           ┆         ┆            ┆ 463.310648, … ┆ 3.5901e6, …   ┆               ┆               │\n",
       "│           ┆         ┆            ┆ 524…          ┆ 3.7229e…      ┆               ┆               │\n",
       "│ 29        ┆ 948     ┆ 7.1589e6   ┆ [585.327225,  ┆ [3.3869e6,    ┆ 7.943         ┆ 8.300938      │\n",
       "│           ┆         ┆            ┆ 479.463366, … ┆ 3.8867e6, …   ┆               ┆               │\n",
       "│           ┆         ┆            ┆ 434…          ┆ 3.7268e…      ┆               ┆               │\n",
       "│ 30        ┆ 909     ┆ 6.8084e6   ┆ [414.385858,  ┆ [3.3294e6,    ┆ 7.80886       ┆ 8.363162      │\n",
       "│           ┆         ┆            ┆ 473.187867, … ┆ 3.9569e6, …   ┆               ┆               │\n",
       "│           ┆         ┆            ┆ 463…          ┆ 3.3951e…      ┆               ┆               │\n",
       "│ 31        ┆ 922     ┆ 6.8067e6   ┆ [489.855638,  ┆ [3.8486e6,    ┆ 7.760581      ┆ 8.128501      │\n",
       "│           ┆         ┆            ┆ 490.730762, … ┆ 4.0927e6, …   ┆               ┆               │\n",
       "│           ┆         ┆            ┆ 448…          ┆ 3.0329e…      ┆               ┆               │\n",
       "└───────────┴─────────┴────────────┴───────────────┴───────────────┴───────────────┴───────────────┘"
      ]
     },
     "execution_count": 24,
     "metadata": {},
     "output_type": "execute_result"
    }
   ],
   "source": [
    "merged_df"
   ]
  },
  {
   "cell_type": "code",
   "execution_count": null,
   "id": "076b66c6",
   "metadata": {},
   "outputs": [],
   "source": []
  }
 ],
 "metadata": {
  "kernelspec": {
   "display_name": "Python 3 (ipykernel)",
   "language": "python",
   "name": "python3"
  },
  "language_info": {
   "codemirror_mode": {
    "name": "ipython",
    "version": 3
   },
   "file_extension": ".py",
   "mimetype": "text/x-python",
   "name": "python",
   "nbconvert_exporter": "python",
   "pygments_lexer": "ipython3",
   "version": "3.9.17"
  }
 },
 "nbformat": 4,
 "nbformat_minor": 5
}
