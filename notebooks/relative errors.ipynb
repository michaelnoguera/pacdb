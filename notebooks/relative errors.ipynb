{
 "cells": [
  {
   "cell_type": "code",
   "execution_count": 30,
   "id": "fcfa5f03",
   "metadata": {},
   "outputs": [],
   "source": [
    "import polars.selectors as cs\n",
    "import numpy as np\n",
    "\n",
    "import polars as pl\n",
    "\n",
    "import matplotlib.pyplot as plt"
   ]
  },
  {
   "cell_type": "code",
   "execution_count": 31,
   "id": "1288945e",
   "metadata": {},
   "outputs": [],
   "source": [
    "def hist_of_numerical_values(df: pl.DataFrame):\n",
    "    \"\"\"\n",
    "    Generates histograms for all numerical columns in a Polars DataFrame.\n",
    "\n",
    "    Args:\n",
    "        df: The Polars DataFrame.\n",
    "\n",
    "    Returns:\n",
    "        A dictionary where keys are column names and values are the histogram data.\n",
    "    \"\"\"\n",
    "    histograms = {}\n",
    "    for col_name in df.columns:\n",
    "        if df[col_name].dtype in [pl.Int8, pl.Int16, pl.Int32, pl.Int64, pl.UInt8, pl.UInt16, pl.UInt32, pl.UInt64, pl.Float32, pl.Float64]:\n",
    "            hist_data = df[col_name].hist()\n",
    "            histograms[col_name] = hist_data\n",
    "    return histograms"
   ]
  },
  {
   "cell_type": "code",
   "execution_count": 32,
   "id": "f25d4a28",
   "metadata": {},
   "outputs": [],
   "source": [
    "index_cols = {\n",
    "    1: ['l_returnflag', 'l_linestatus'],\n",
    "    3: ['l_orderkey','o_orderdate','o_shippriority'],\n",
    "    4: ['o_orderpriority'],\n",
    "    5: ['n_name'],\n",
    "    6: [],\n",
    "    7: ['supp_nation', 'cust_nation', 'l_year'], \n",
    "    8: ['o_year'],\n",
    "    9: ['nation', 'o_year'],\n",
    "    12: ['l_shipmode'],\n",
    "    13: ['c_count'],\n",
    "    14: [],\n",
    "    15: [],\n",
    "    17: [],\n",
    "    19: [],\n",
    "    20: [],\n",
    "    21: ['s_name'],\n",
    "    22: ['cntrycode']\n",
    "}\n",
    "scale_required = set([1,4, 5, 6, 7, 9, 12, 13, 17, 19, 21, 22])\n",
    "# not 8, 14\n",
    "# skip 3, skip 20\n",
    "queries_to_run = [1, 3, 4, 5, 6, 7, 8, 9, 12, 13, 14, 15, 17, 19, 21, 22]"
   ]
  },
  {
   "cell_type": "code",
   "execution_count": 37,
   "id": "32b8ac1c",
   "metadata": {},
   "outputs": [
    {
     "name": "stdout",
     "output_type": "stream",
     "text": [
      "1 32\n",
      "3 0\n",
      "4 5\n",
      "5 5\n",
      "6 1\n",
      "7 4\n",
      "8 2\n",
      "9 175\n",
      "12 4\n",
      "13 33\n",
      "14 1\n",
      "15 1\n",
      "17 1\n",
      "19 1\n",
      "21 34\n",
      "22 14\n"
     ]
    }
   ],
   "source": [
    "# for query_ind in queries_to_run:\n",
    "num_trials = 1000\n",
    "avg_errors = {}\n",
    "all_nulls = {}\n",
    "for query_ind in queries_to_run:\n",
    "#     print(query_ind)\n",
    "#     1/128, 1/64, 1/32, 1/16, 1/8, 1/4, 1/2, 1.0, 2.0, 4.0\n",
    "    num_nulls = 0.\n",
    "    total_error = []\n",
    "    for mi in [1/16]:\n",
    "        null_info = {}\n",
    "        orig = pl.read_csv(f'../unnoised/q{query_ind}.csv')\n",
    "        if query_ind == 22:\n",
    "            orig = orig.select(\n",
    "            pl.col(\"cntrycode\").cast(str),\n",
    "            pl.col(\"numcust\"),\n",
    "            pl.col(\"totacctbal\"))\n",
    "        noised = pl.read_json(f'../outputs/ap-duckdb-q{query_ind}-customer-{mi}-step3/output.json')\n",
    "        if index_cols[query_ind]:\n",
    "            merged_df = orig.join(noised, on=index_cols[query_ind], suffix='_noised')\n",
    "        else:\n",
    "            merged_df = orig.join(noised, suffix='_noised', how='cross')\n",
    "        suffix1 = ''\n",
    "        suffix2 = '_noised'\n",
    "        cols_with_suffixes = [col for col in merged_df.columns if suffix1 in col or suffix2 in col]\n",
    "\n",
    "        base_names = set([col.replace(suffix1, '').replace(suffix2, '') for col in cols_with_suffixes])\n",
    "        if query_ind == 15:\n",
    "            base_names = ['total_revenue'] # only look at numeric\n",
    "        all_outputs = 0.\n",
    "        for base_name in base_names:\n",
    "            nulls_exist = False\n",
    "            null_inds, null_vals = [], []\n",
    "\n",
    "            orig = base_name + suffix1\n",
    "            noised = base_name + suffix2\n",
    "            if orig in merged_df.columns and noised in merged_df.columns:\n",
    "                rel_errors = []\n",
    "                for ind in range(len(merged_df[orig])):\n",
    "                    if query_ind in scale_required:\n",
    "                        const = 2 # subsampling scaling\n",
    "                        if query_ind == 1 and not (base_name[:3] == 'sum' or base_name[:5] == 'count'):\n",
    "                            const = 1 # remove for parts of q1\n",
    "                    else:\n",
    "                        const = 1\n",
    "    #                     print(merged_df[noised][ind])\n",
    "                    noised_vals = [merged_df[noised][ind][tmp_ind] for tmp_ind in range(\n",
    "                        len(merged_df[noised][ind])) if merged_df[noised][ind][tmp_ind] is not None]\n",
    "                    if len(noised_vals) != 1000 and len(noised_vals) != 0:\n",
    "                        print('reached', query_ind)\n",
    "                    new = np.average(\n",
    "                        [100*abs(\n",
    "                            const*noised_vals[tmp_ind] - merged_df[orig][ind]\n",
    "                            ) / merged_df[orig][ind] for tmp_ind in range(\n",
    "                                len(noised_vals))]\n",
    "                    )\n",
    "                    if not np.isnan(new):\n",
    "                        total_error.append(new)\n",
    "                    rel_errors.append(new)\n",
    "                merged_df = merged_df.with_columns(pl.Series('pct_diff_' + base_name, rel_errors))\n",
    "                num_outputs = len(list(merged_df[noised]))\n",
    "                all_outputs+= num_outputs\n",
    "                for ind in range(num_outputs):\n",
    "                    full_list = [x for x in list(merged_df[noised][ind]) if x is not None]\n",
    "                    if len(full_list) < num_trials:\n",
    "                        num_nulls += 1\n",
    "                        nulls_exist = True\n",
    "                        null_inds.append(ind)\n",
    "                        null_vals.append(100*(num_trials-len(full_list))/num_trials)\n",
    "#                         print(query_ind, ind, null_vals)\n",
    "            null_info[base_name] = (nulls_exist, null_inds, null_vals)\n",
    "        all_nulls[query_ind] = 100*num_nulls/all_outputs\n",
    "        avg_errors[query_ind] = np.average(total_error)\n",
    "        print(query_ind, len(total_error))\n",
    "\n",
    "#         # Get columns that start with 'pct_diff'\n",
    "#         pct_diff_cols = [col for col in merged_df.columns if col.startswith('pct_diff')]\n",
    "\n",
    "#         # Create subplots based on number of pct_diff columns\n",
    "#         n_cols = len(pct_diff_cols)\n",
    "#         fig, axes = plt.subplots(1, n_cols, figsize=(5*n_cols, 4))\n",
    "\n",
    "#         # Handle case where there's only one column (axes won't be a list)\n",
    "#         if n_cols == 1:\n",
    "#             axes = [axes]\n",
    "\n",
    "#         # Create histogram for each column\n",
    "#         for i, col in enumerate(pct_diff_cols):\n",
    "#             # Convert to pandas for easier plotting, or use polars plot method\n",
    "#             values = merged_df[col].to_pandas()\n",
    "\n",
    "#             axes[i].hist(values, bins=30, alpha=0.7, edgecolor='black')\n",
    "#             axes[i].set_title(f'Histogram of {col}')\n",
    "#             axes[i].set_xlabel(col)\n",
    "#             axes[i].set_ylabel('Frequency')\n",
    "#             axes[i].grid(True, alpha=0.3)\n",
    "\n",
    "#         plt.tight_layout()\n",
    "#         plt.savefig(f'tmp/q{query_ind}_{mi}_{col}_hist.png', facecolor='white', bbox_inches='tight')\n",
    "\n",
    "#         for base in null_info:\n",
    "#             (nulls_exist, null_inds, null_vals) = null_info[base]\n",
    "#             if nulls_exist:\n",
    "#                 fig, axes = plt.subplots(1, 1, figsize=(5, 4))\n",
    "#                 # Handle case where there's only one column (axes won't be a list)\n",
    "#                 if n_cols == 1:\n",
    "#                     axes = [axes]\n",
    "#                 axes[0].hist(null_vals, bins=30, alpha=0.7, edgecolor='black')\n",
    "#                 axes[0].set_title(f'Histogram of nulls for column {base}')\n",
    "#                 axes[0].set_xlabel('Fraction of nulls (%)')\n",
    "#                 axes[0].set_ylabel('Frequency')\n",
    "#                 axes[0].grid(True, alpha=0.3)\n",
    "#                 plt.savefig(f'tmp/q{query_ind}_{mi}_{base}_nulls.png', facecolor='white', bbox_inches='tight')"
   ]
  },
  {
   "cell_type": "code",
   "execution_count": 38,
   "id": "2500afd6",
   "metadata": {},
   "outputs": [
    {
     "data": {
      "text/html": [
       "<div><style>\n",
       ".dataframe > thead > tr,\n",
       ".dataframe > tbody > tr {\n",
       "  text-align: right;\n",
       "  white-space: pre-wrap;\n",
       "}\n",
       "</style>\n",
       "<small>shape: (7, 7)</small><table border=\"1\" class=\"dataframe\"><thead><tr><th>cntrycode</th><th>numcust</th><th>totacctbal</th><th>numcust_noised</th><th>totacctbal_noised</th><th>pct_diff_totacctbal</th><th>pct_diff_numcust</th></tr><tr><td>str</td><td>i64</td><td>f64</td><td>list[f64]</td><td>list[f64]</td><td>f64</td><td>f64</td></tr></thead><tbody><tr><td>&quot;13&quot;</td><td>94</td><td>714035.05</td><td>[39.687155, 62.946251, … 31.821934]</td><td>[371427.77435, 481010.066622, … 219209.32153]</td><td>23.907586</td><td>25.254693</td></tr><tr><td>&quot;17&quot;</td><td>96</td><td>722560.15</td><td>[59.621803, 22.405587, … 24.090955]</td><td>[358211.805574, 253976.343585, … 412241.299989]</td><td>21.356282</td><td>22.232428</td></tr><tr><td>&quot;18&quot;</td><td>99</td><td>738012.52</td><td>[54.697837, 42.376861, … 51.48049]</td><td>[244836.710345, 454925.292648, … 352476.216851]</td><td>24.904667</td><td>24.710943</td></tr><tr><td>&quot;23&quot;</td><td>93</td><td>708285.25</td><td>[40.004242, 46.593102, … 61.088899]</td><td>[216809.626134, 121921.645864, … 503766.425958]</td><td>23.059574</td><td>22.19325</td></tr><tr><td>&quot;29&quot;</td><td>85</td><td>632693.46</td><td>[23.846101, 56.114554, … 43.267009]</td><td>[163499.024149, 356298.128377, … 345980.62936]</td><td>28.606761</td><td>29.22563</td></tr><tr><td>&quot;30&quot;</td><td>87</td><td>646748.02</td><td>[47.90044, 30.174471, … 53.048705]</td><td>[197955.939877, 425980.986766, … 337844.586689]</td><td>25.952186</td><td>23.266347</td></tr><tr><td>&quot;31&quot;</td><td>87</td><td>647372.5</td><td>[16.260046, 66.482288, … 37.937057]</td><td>[437423.497183, 306727.670652, … 290319.209611]</td><td>28.930832</td><td>27.249662</td></tr></tbody></table></div>"
      ],
      "text/plain": [
       "shape: (7, 7)\n",
       "┌───────────┬─────────┬────────────┬───────────────┬───────────────┬───────────────┬───────────────┐\n",
       "│ cntrycode ┆ numcust ┆ totacctbal ┆ numcust_noise ┆ totacctbal_no ┆ pct_diff_tota ┆ pct_diff_numc │\n",
       "│ ---       ┆ ---     ┆ ---        ┆ d             ┆ ised          ┆ cctbal        ┆ ust           │\n",
       "│ str       ┆ i64     ┆ f64        ┆ ---           ┆ ---           ┆ ---           ┆ ---           │\n",
       "│           ┆         ┆            ┆ list[f64]     ┆ list[f64]     ┆ f64           ┆ f64           │\n",
       "╞═══════════╪═════════╪════════════╪═══════════════╪═══════════════╪═══════════════╪═══════════════╡\n",
       "│ 13        ┆ 94      ┆ 714035.05  ┆ [39.687155,   ┆ [371427.77435 ┆ 23.907586     ┆ 25.254693     │\n",
       "│           ┆         ┆            ┆ 62.946251, …  ┆ , 481010.0666 ┆               ┆               │\n",
       "│           ┆         ┆            ┆ 31.82…        ┆ 22, …         ┆               ┆               │\n",
       "│ 17        ┆ 96      ┆ 722560.15  ┆ [59.621803,   ┆ [358211.80557 ┆ 21.356282     ┆ 22.232428     │\n",
       "│           ┆         ┆            ┆ 22.405587, …  ┆ 4, 253976.343 ┆               ┆               │\n",
       "│           ┆         ┆            ┆ 24.09…        ┆ 585,…         ┆               ┆               │\n",
       "│ 18        ┆ 99      ┆ 738012.52  ┆ [54.697837,   ┆ [244836.71034 ┆ 24.904667     ┆ 24.710943     │\n",
       "│           ┆         ┆            ┆ 42.376861, …  ┆ 5, 454925.292 ┆               ┆               │\n",
       "│           ┆         ┆            ┆ 51.48…        ┆ 648,…         ┆               ┆               │\n",
       "│ 23        ┆ 93      ┆ 708285.25  ┆ [40.004242,   ┆ [216809.62613 ┆ 23.059574     ┆ 22.19325      │\n",
       "│           ┆         ┆            ┆ 46.593102, …  ┆ 4, 121921.645 ┆               ┆               │\n",
       "│           ┆         ┆            ┆ 61.08…        ┆ 864,…         ┆               ┆               │\n",
       "│ 29        ┆ 85      ┆ 632693.46  ┆ [23.846101,   ┆ [163499.02414 ┆ 28.606761     ┆ 29.22563      │\n",
       "│           ┆         ┆            ┆ 56.114554, …  ┆ 9, 356298.128 ┆               ┆               │\n",
       "│           ┆         ┆            ┆ 43.26…        ┆ 377,…         ┆               ┆               │\n",
       "│ 30        ┆ 87      ┆ 646748.02  ┆ [47.90044,    ┆ [197955.93987 ┆ 25.952186     ┆ 23.266347     │\n",
       "│           ┆         ┆            ┆ 30.174471, …  ┆ 7, 425980.986 ┆               ┆               │\n",
       "│           ┆         ┆            ┆ 53.048…       ┆ 766,…         ┆               ┆               │\n",
       "│ 31        ┆ 87      ┆ 647372.5   ┆ [16.260046,   ┆ [437423.49718 ┆ 28.930832     ┆ 27.249662     │\n",
       "│           ┆         ┆            ┆ 66.482288, …  ┆ 3, 306727.670 ┆               ┆               │\n",
       "│           ┆         ┆            ┆ 37.93…        ┆ 652,…         ┆               ┆               │\n",
       "└───────────┴─────────┴────────────┴───────────────┴───────────────┴───────────────┴───────────────┘"
      ]
     },
     "execution_count": 38,
     "metadata": {},
     "output_type": "execute_result"
    }
   ],
   "source": [
    "merged_df"
   ]
  },
  {
   "cell_type": "code",
   "execution_count": 39,
   "id": "2e30a4bb",
   "metadata": {},
   "outputs": [
    {
     "data": {
      "text/plain": [
       "{1: 0.0,\n",
       " 3: 100.0,\n",
       " 4: 0.0,\n",
       " 5: 0.0,\n",
       " 6: 0.0,\n",
       " 7: 0.0,\n",
       " 8: 0.0,\n",
       " 9: 0.0,\n",
       " 12: 0.0,\n",
       " 13: 10.81081081081081,\n",
       " 14: 0.0,\n",
       " 15: 0.0,\n",
       " 17: 0.0,\n",
       " 19: 0.0,\n",
       " 21: 27.659574468085108,\n",
       " 22: 0.0}"
      ]
     },
     "execution_count": 39,
     "metadata": {},
     "output_type": "execute_result"
    }
   ],
   "source": [
    "all_nulls"
   ]
  },
  {
   "cell_type": "code",
   "execution_count": 40,
   "id": "3ee72819",
   "metadata": {
    "scrolled": true
   },
   "outputs": [
    {
     "data": {
      "text/plain": [
       "{1: 2.515903299272645,\n",
       " 3: nan,\n",
       " 4: 7.800582865989424,\n",
       " 5: 25.208041450018822,\n",
       " 6: 3.637481221178574,\n",
       " 7: 26.683897071034618,\n",
       " 8: 121.40241310543402,\n",
       " 9: 23.180123688833955,\n",
       " 12: 9.572864734259753,\n",
       " 13: 20.866602794028715,\n",
       " 14: 7.329235878140994,\n",
       " 15: 40.35651526057939,\n",
       " 17: 39.743212955200775,\n",
       " 19: 81.31663189467521,\n",
       " 21: 71.90483699458781,\n",
       " 22: 25.06077427112258}"
      ]
     },
     "execution_count": 40,
     "metadata": {},
     "output_type": "execute_result"
    }
   ],
   "source": [
    "avg_errors"
   ]
  },
  {
   "cell_type": "code",
   "execution_count": null,
   "id": "53c1e915",
   "metadata": {},
   "outputs": [],
   "source": []
  }
 ],
 "metadata": {
  "kernelspec": {
   "display_name": "Python 3 (ipykernel)",
   "language": "python",
   "name": "python3"
  },
  "language_info": {
   "codemirror_mode": {
    "name": "ipython",
    "version": 3
   },
   "file_extension": ".py",
   "mimetype": "text/x-python",
   "name": "python",
   "nbconvert_exporter": "python",
   "pygments_lexer": "ipython3",
   "version": "3.9.17"
  }
 },
 "nbformat": 4,
 "nbformat_minor": 5
}
