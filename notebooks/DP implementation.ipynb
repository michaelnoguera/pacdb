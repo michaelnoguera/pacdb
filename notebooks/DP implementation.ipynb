{
 "cells": [
  {
   "cell_type": "code",
   "execution_count": 1,
   "id": "76485ed0",
   "metadata": {},
   "outputs": [],
   "source": [
    "import numpy as np\n",
    "\n",
    "def calc_posterior(mi, prior=0.5, prec = 100000):\n",
    "    test_vals = [x / prec for x in range(1, prec)]\n",
    "    max_t = None\n",
    "    for t in test_vals:\n",
    "        if t*np.log(t/prior)+(1-t)*np.log((1-t)/(1-prior)) <= mi:\n",
    "            if  max_t is None or t > max_t:\n",
    "                max_t = t\n",
    "    return max_t\n",
    "\n",
    "def dp_epsilon_to_posterior_success(epsilon):\n",
    "    return 1 - 1./(1+np.exp(epsilon))\n",
    "\n",
    "def dp_ps_to_epsilon(ps):\n",
    "    return np.log(ps / (1-ps))"
   ]
  },
  {
   "cell_type": "code",
   "execution_count": 2,
   "id": "42fa7dc3",
   "metadata": {},
   "outputs": [],
   "source": [
    "mi_to_eps = {}\n",
    "for mi in [1/128, 1/64, 1/32, 1/16, 1/8, 1/4, 1/2, 1.0, 2.0, 4.0]:\n",
    "    ps = calc_posterior(mi)\n",
    "    mi_to_eps[mi] = dp_ps_to_epsilon(ps)"
   ]
  },
  {
   "cell_type": "code",
   "execution_count": 3,
   "id": "5073f160",
   "metadata": {},
   "outputs": [],
   "source": [
    "q4_results = {\"1-URGENT\": 999,\n",
    "\"2-HIGH\": 997,\n",
    "\"3-MEDIUM\": 1031,\n",
    "\"4-NOT SPECIFIED\": 989,\n",
    "\"5-LOW\": 1077}"
   ]
  },
  {
   "cell_type": "code",
   "execution_count": 4,
   "id": "ee925ed9",
   "metadata": {},
   "outputs": [],
   "source": [
    "results = {}\n",
    "mi_range = [1/128, 1/64, 1/32, 1/16, 1/8, 1/4, 1/2, 1.0, 2.0, 4.0]\n",
    "for key in q4_results:\n",
    "    results[key] = []\n",
    "    true_count = q4_results[key]\n",
    "    for mi in mi_range:\n",
    "        eps = mi_to_eps[mi]\n",
    "        count_results = []\n",
    "        for _ in range(1000):\n",
    "            scale = 5. / eps  # Scale parameter for Laplace noise\n",
    "            noise = np.random.laplace(loc=0, scale=scale)\n",
    "            count_result = true_count + noise\n",
    "            count_results.append(count_result)\n",
    "        rel_error = np.average(\n",
    "                        [100*abs(\n",
    "                            count_results[i] - true_count\n",
    "                            ) / true_count for i in range(len(count_results))]\n",
    "                    )\n",
    "        results[key].append(rel_error)"
   ]
  },
  {
   "cell_type": "code",
   "execution_count": 5,
   "id": "59a66a3f",
   "metadata": {},
   "outputs": [
    {
     "data": {
      "text/plain": [
       "{'1-URGENT': [1.9094966190370435,\n",
       "  1.4390167527426396,\n",
       "  0.9905998292811071,\n",
       "  0.6914595858610769,\n",
       "  0.46419855560261797,\n",
       "  0.31079773045000797,\n",
       "  0.17593472263054316,\n",
       "  0.04416950355088001,\n",
       "  0.04375585811854141,\n",
       "  0.042652271600614695],\n",
       " '2-HIGH': [2.0380113214257403,\n",
       "  1.4006948453598298,\n",
       "  1.0362043387791677,\n",
       "  0.6815240241527991,\n",
       "  0.46012590791650193,\n",
       "  0.31987457214214776,\n",
       "  0.16049147051813964,\n",
       "  0.04476538026303727,\n",
       "  0.04502451991323763,\n",
       "  0.04347198844732975],\n",
       " '3-MEDIUM': [2.015067079989976,\n",
       "  1.3656586075759645,\n",
       "  0.985136793056168,\n",
       "  0.6680317514185643,\n",
       "  0.44201784625012314,\n",
       "  0.29375011856122263,\n",
       "  0.16316300840274026,\n",
       "  0.0427369536474568,\n",
       "  0.041347286714669786,\n",
       "  0.040849264576639496],\n",
       " '4-NOT SPECIFIED': [2.0639185449041406,\n",
       "  1.384206214467273,\n",
       "  1.064612070607331,\n",
       "  0.6884686281536756,\n",
       "  0.4840810775535314,\n",
       "  0.3230233935064605,\n",
       "  0.1731452507848902,\n",
       "  0.04499361879423069,\n",
       "  0.041972392832094134,\n",
       "  0.04308354963735532],\n",
       " '5-LOW': [1.7801016596146355,\n",
       "  1.2906843551266087,\n",
       "  0.894379340448067,\n",
       "  0.6804902222560051,\n",
       "  0.43711682319118156,\n",
       "  0.28034385440181425,\n",
       "  0.16442136400801968,\n",
       "  0.039964944871300236,\n",
       "  0.04219007226291092,\n",
       "  0.0374625929465158]}"
      ]
     },
     "execution_count": 5,
     "metadata": {},
     "output_type": "execute_result"
    }
   ],
   "source": [
    "results"
   ]
  },
  {
   "cell_type": "code",
   "execution_count": null,
   "id": "cb4f6d57",
   "metadata": {},
   "outputs": [],
   "source": []
  }
 ],
 "metadata": {
  "kernelspec": {
   "display_name": "Python 3 (ipykernel)",
   "language": "python",
   "name": "python3"
  },
  "language_info": {
   "codemirror_mode": {
    "name": "ipython",
    "version": 3
   },
   "file_extension": ".py",
   "mimetype": "text/x-python",
   "name": "python",
   "nbconvert_exporter": "python",
   "pygments_lexer": "ipython3",
   "version": "3.9.17"
  }
 },
 "nbformat": 4,
 "nbformat_minor": 5
}
