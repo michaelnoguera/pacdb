{
 "cells": [
  {
   "cell_type": "code",
   "execution_count": 2,
   "id": "76485ed0",
   "metadata": {},
   "outputs": [],
   "source": [
    "import numpy as np\n",
    "\n",
    "def calc_posterior(mi, prior=0.5, prec = 100000):\n",
    "    test_vals = [x / prec for x in range(1, prec)]\n",
    "    max_t = None\n",
    "    for t in test_vals:\n",
    "        if t*np.log(t/prior)+(1-t)*np.log((1-t)/(1-prior)) <= mi:\n",
    "            if  max_t is None or t > max_t:\n",
    "                max_t = t\n",
    "    return max_t\n",
    "\n",
    "def dp_epsilon_to_posterior_success(epsilon):\n",
    "    return 1 - 1./(1+np.exp(epsilon))\n",
    "\n",
    "def dp_ps_to_epsilon(ps):\n",
    "    return np.log(ps / (1-ps))"
   ]
  },
  {
   "cell_type": "code",
   "execution_count": 3,
   "id": "42fa7dc3",
   "metadata": {},
   "outputs": [],
   "source": [
    "mi_to_eps = {}\n",
    "for mi in [1/128, 1/64, 1/32, 1/16, 1/8, 1/4, 1/2, 1.0, 2.0, 4.0]:\n",
    "    ps = calc_posterior(mi)\n",
    "    mi_to_eps[mi] = dp_ps_to_epsilon(ps)"
   ]
  },
  {
   "cell_type": "code",
   "execution_count": 4,
   "id": "5073f160",
   "metadata": {},
   "outputs": [],
   "source": [
    "q4_results = {\"1-URGENT\": 999,\n",
    "\"2-HIGH\": 997,\n",
    "\"3-MEDIUM\": 1031,\n",
    "\"4-NOT SPECIFIED\": 989,\n",
    "\"5-LOW\": 1077}"
   ]
  },
  {
   "cell_type": "code",
   "execution_count": 5,
   "id": "ee925ed9",
   "metadata": {},
   "outputs": [],
   "source": [
    "results = {}\n",
    "mi_range = [1/128, 1/64, 1/32, 1/16, 1/8, 1/4, 1/2, 1.0, 2.0, 4.0]\n",
    "for key in q4_results:\n",
    "    results[key] = []\n",
    "    true_count = q4_results[key]\n",
    "    for mi in mi_range:\n",
    "        eps = mi_to_eps[mi]\n",
    "        count_results = []\n",
    "        for _ in range(1000):\n",
    "            scale = 36. / eps  # Scale parameter for Laplace noise\n",
    "            noise = np.random.laplace(loc=0, scale=scale)\n",
    "            count_result = true_count + noise\n",
    "            count_results.append(count_result)\n",
    "        rel_error = np.average(\n",
    "                        [100*abs(\n",
    "                            count_results[i] - true_count\n",
    "                            ) / true_count for i in range(len(count_results))]\n",
    "                    )\n",
    "        results[key].append(rel_error)"
   ]
  },
  {
   "cell_type": "code",
   "execution_count": 6,
   "id": "59a66a3f",
   "metadata": {},
   "outputs": [
    {
     "data": {
      "text/plain": [
       "{'1-URGENT': [14.313106008677043,\n",
       "  10.600769977371808,\n",
       "  7.332454827958597,\n",
       "  5.054943602792854,\n",
       "  3.3326913722116016,\n",
       "  2.167712088939863,\n",
       "  1.2571531166398893,\n",
       "  0.3261987554688212,\n",
       "  0.30239416083368864,\n",
       "  0.3256621350104104],\n",
       " '2-HIGH': [14.170831183010021,\n",
       "  9.898314979883413,\n",
       "  7.091756560504648,\n",
       "  5.066494162339437,\n",
       "  3.4282939914794723,\n",
       "  2.1937518412168893,\n",
       "  1.1762028057411633,\n",
       "  0.3157340851229058,\n",
       "  0.3129588941535568,\n",
       "  0.3118813324471594],\n",
       " '3-MEDIUM': [13.565153723153122,\n",
       "  9.392894896729493,\n",
       "  6.911182805236071,\n",
       "  4.5335345421257305,\n",
       "  3.2649720412192034,\n",
       "  2.178082401296948,\n",
       "  1.135747769419987,\n",
       "  0.28341733597690466,\n",
       "  0.304211051158086,\n",
       "  0.30629725468183866],\n",
       " '4-NOT SPECIFIED': [14.223164553117483,\n",
       "  10.378832942663056,\n",
       "  7.293690681730415,\n",
       "  4.892222374694089,\n",
       "  3.391766754407505,\n",
       "  2.2463353810332642,\n",
       "  1.2395202643043342,\n",
       "  0.30933010045271847,\n",
       "  0.31390880852233877,\n",
       "  0.31265765242991395],\n",
       " '5-LOW': [13.837545022379228,\n",
       "  9.066546056818154,\n",
       "  6.572375786596896,\n",
       "  4.568676705660714,\n",
       "  3.1251144261664305,\n",
       "  1.9287832489716779,\n",
       "  1.1376053989920165,\n",
       "  0.30179316044835447,\n",
       "  0.29789786500138865,\n",
       "  0.2876195075167477]}"
      ]
     },
     "execution_count": 6,
     "metadata": {},
     "output_type": "execute_result"
    }
   ],
   "source": [
    "results"
   ]
  },
  {
   "cell_type": "code",
   "execution_count": 7,
   "id": "cb4f6d57",
   "metadata": {},
   "outputs": [],
   "source": [
    "q12_results = {\n",
    "    (\"MAIL\", \"high\"): 647,\n",
    "    (\"MAIL\", \"low\"): 945,\n",
    "    (\"SHIP\", \"high\"): 620,\n",
    "    (\"SHIP\", \"low\"): 943\n",
    "}"
   ]
  },
  {
   "cell_type": "code",
   "execution_count": 8,
   "id": "07fe1522",
   "metadata": {},
   "outputs": [],
   "source": [
    "num_items_per_customer = 155."
   ]
  },
  {
   "cell_type": "code",
   "execution_count": 9,
   "id": "2392ae52",
   "metadata": {},
   "outputs": [],
   "source": [
    "results = {}\n",
    "mi_range = [1/128, 1/64, 1/32, 1/16, 1/8, 1/4, 1/2, 1.0, 2.0, 4.0]\n",
    "for key in q12_results:\n",
    "    results[key] = []\n",
    "    true_count = q12_results[key]\n",
    "    for mi in mi_range:\n",
    "        eps = mi_to_eps[mi]\n",
    "        count_results = []\n",
    "        for _ in range(1000):\n",
    "            scale = num_items_per_customer / eps  # Scale parameter for Laplace noise\n",
    "            noise = np.random.laplace(loc=0, scale=scale)\n",
    "            count_result = true_count + noise\n",
    "            count_results.append(count_result)\n",
    "        rel_error = np.average(\n",
    "                        [100*abs(\n",
    "                            count_results[i] - true_count\n",
    "                            ) / true_count for i in range(len(count_results))]\n",
    "                    )\n",
    "        results[key].append(rel_error)"
   ]
  },
  {
   "cell_type": "code",
   "execution_count": 10,
   "id": "1a021499",
   "metadata": {},
   "outputs": [
    {
     "data": {
      "text/plain": [
       "{('MAIL', 'high'): [98.092001030507,\n",
       "  68.79342266652634,\n",
       "  47.51640823358587,\n",
       "  32.601192225803295,\n",
       "  22.104738392645718,\n",
       "  14.700916524200457,\n",
       "  8.224910240390592,\n",
       "  2.0562816107744575,\n",
       "  2.156562955404631,\n",
       "  2.0111001674091984],\n",
       " ('MAIL', 'low'): [66.53620532919007,\n",
       "  45.021120430904965,\n",
       "  33.280198665633684,\n",
       "  22.464632911429433,\n",
       "  14.543506090104081,\n",
       "  10.53640994508324,\n",
       "  5.649043268173915,\n",
       "  1.430375217987194,\n",
       "  1.402938248569704,\n",
       "  1.4117540448078354],\n",
       " ('SHIP', 'high'): [96.03747538218406,\n",
       "  69.25315114945548,\n",
       "  50.40326495967236,\n",
       "  33.80703584090472,\n",
       "  23.198476235681905,\n",
       "  15.97524383600188,\n",
       "  8.657774933190755,\n",
       "  2.061248553890478,\n",
       "  2.228979129568883,\n",
       "  2.251404789845419],\n",
       " ('SHIP', 'low'): [70.04770232984656,\n",
       "  47.44076134644863,\n",
       "  31.712837187067393,\n",
       "  22.0140495542141,\n",
       "  14.743286069802659,\n",
       "  9.998865935698115,\n",
       "  5.427607291180954,\n",
       "  1.406938273551545,\n",
       "  1.3843869244797515,\n",
       "  1.4829312397334944]}"
      ]
     },
     "execution_count": 10,
     "metadata": {},
     "output_type": "execute_result"
    }
   ],
   "source": [
    "results"
   ]
  },
  {
   "cell_type": "code",
   "execution_count": null,
   "id": "3d665ebf",
   "metadata": {},
   "outputs": [],
   "source": []
  }
 ],
 "metadata": {
  "kernelspec": {
   "display_name": "Python 3 (ipykernel)",
   "language": "python",
   "name": "python3"
  },
  "language_info": {
   "codemirror_mode": {
    "name": "ipython",
    "version": 3
   },
   "file_extension": ".py",
   "mimetype": "text/x-python",
   "name": "python",
   "nbconvert_exporter": "python",
   "pygments_lexer": "ipython3",
   "version": "3.9.17"
  }
 },
 "nbformat": 4,
 "nbformat_minor": 5
}
