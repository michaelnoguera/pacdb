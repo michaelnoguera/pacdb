{
 "cells": [
  {
   "cell_type": "code",
   "execution_count": 58,
   "id": "fcfa5f03",
   "metadata": {},
   "outputs": [],
   "source": [
    "import polars.selectors as cs\n",
    "import numpy as np\n",
    "\n",
    "import polars as pl\n",
    "\n",
    "import matplotlib.pyplot as plt"
   ]
  },
  {
   "cell_type": "code",
   "execution_count": 59,
   "id": "1288945e",
   "metadata": {},
   "outputs": [],
   "source": [
    "def hist_of_numerical_values(df: pl.DataFrame):\n",
    "    \"\"\"\n",
    "    Generates histograms for all numerical columns in a Polars DataFrame.\n",
    "\n",
    "    Args:\n",
    "        df: The Polars DataFrame.\n",
    "\n",
    "    Returns:\n",
    "        A dictionary where keys are column names and values are the histogram data.\n",
    "    \"\"\"\n",
    "    histograms = {}\n",
    "    for col_name in df.columns:\n",
    "        if df[col_name].dtype in [pl.Int8, pl.Int16, pl.Int32, pl.Int64, pl.UInt8, pl.UInt16, pl.UInt32, pl.UInt64, pl.Float32, pl.Float64]:\n",
    "            hist_data = df[col_name].hist()\n",
    "            histograms[col_name] = hist_data\n",
    "    return histograms"
   ]
  },
  {
   "cell_type": "code",
   "execution_count": 60,
   "id": "f25d4a28",
   "metadata": {},
   "outputs": [],
   "source": [
    "index_cols = {\n",
    "    20: []\n",
    "}\n",
    "scale_required = set([4, 5, 6, 7, 9, 12, 13, 17, 19, 21, 22])\n",
    "# not 8, 14\n",
    "# skip 3, skip 20\n",
    "queries_to_run = [20]"
   ]
  },
  {
   "cell_type": "code",
   "execution_count": 61,
   "id": "32b8ac1c",
   "metadata": {},
   "outputs": [],
   "source": [
    "query_ind = 20\n",
    "null_info = {}\n",
    "orig = pl.read_csv(f'unnoised/q{query_ind}.csv')\n",
    "noised = pl.read_json(f'outputs/ap-duckdb-q{query_ind}-customer-step3/output.json')\n",
    "orig = orig.with_row_index(name=\"rank\")\n",
    "noised = noised.with_row_index(name=\"rank\")\n",
    "merged_df = orig.join(noised, suffix='_noised',  on=\"rank\")"
   ]
  },
  {
   "cell_type": "code",
   "execution_count": 62,
   "id": "a5beed2d",
   "metadata": {},
   "outputs": [
    {
     "data": {
      "text/plain": [
       "[None]"
      ]
     },
     "execution_count": 62,
     "metadata": {},
     "output_type": "execute_result"
    }
   ],
   "source": [
    "merged_df[7]['s_name_noised'].to_list()[0]"
   ]
  },
  {
   "cell_type": "code",
   "execution_count": 63,
   "id": "2500afd6",
   "metadata": {},
   "outputs": [
    {
     "name": "stdout",
     "output_type": "stream",
     "text": [
      "20 4\n",
      "20 5\n",
      "20 6\n",
      "20 7\n",
      "20 8\n",
      "20 3\n",
      "20 4\n",
      "20 5\n",
      "20 6\n",
      "20 7\n",
      "20 8\n"
     ]
    }
   ],
   "source": [
    "suffix1 = ''\n",
    "suffix2 = '_noised'\n",
    "cols_with_suffixes = [col for col in merged_df.columns if suffix1 in col or suffix2 in col]\n",
    "base_names = set([col.replace(suffix1, '').replace(suffix2, '') for col in cols_with_suffixes])\n",
    "for base_name in base_names:\n",
    "    nulls_exist = False\n",
    "    null_inds, null_vals = [], []\n",
    "\n",
    "    orig = base_name + suffix1\n",
    "    noised = base_name + suffix2\n",
    "    if orig in merged_df.columns and noised in merged_df.columns:\n",
    "        rel_errors = []\n",
    "        for ind in range(len(merged_df[orig])):\n",
    "            releases = merged_df[noised][ind].to_list()\n",
    "            filtered_releases = [x for x in releases if x is not None]\n",
    "            if len(filtered_releases) == 0:\n",
    "                rel_errors.append(None)\n",
    "                continue\n",
    "            actual = merged_df[orig][ind]\n",
    "            pct_agreement = 100*releases.count(actual) / len(releases)\n",
    "            rel_errors.append(pct_agreement)\n",
    "        merged_df = merged_df.with_columns(pl.Series('pct_agreement_' + base_name, rel_errors))\n",
    "        num_outputs = len(list(merged_df[noised]))\n",
    "        for ind in range(num_outputs):\n",
    "            full_list = [x for x in list(merged_df[noised][ind]) if x is not None]\n",
    "            if len(full_list) < 100:\n",
    "                nulls_exist = True\n",
    "                null_inds.append(ind)\n",
    "                null_vals.append(100-len(full_list))\n",
    "                print(query_ind, ind)\n",
    "    null_info[base_name] = (nulls_exist, null_inds, null_vals)\n"
   ]
  },
  {
   "cell_type": "code",
   "execution_count": 64,
   "id": "ecc795c2",
   "metadata": {},
   "outputs": [
    {
     "data": {
      "text/html": [
       "<div><style>\n",
       ".dataframe > thead > tr,\n",
       ".dataframe > tbody > tr {\n",
       "  text-align: right;\n",
       "  white-space: pre-wrap;\n",
       "}\n",
       "</style>\n",
       "<small>shape: (9, 7)</small><table border=\"1\" class=\"dataframe\"><thead><tr><th>rank</th><th>s_name</th><th>s_address</th><th>s_name_noised</th><th>s_address_noised</th><th>pct_agreement_s_name</th><th>pct_agreement_s_address</th></tr><tr><td>u32</td><td>str</td><td>str</td><td>list[str]</td><td>list[str]</td><td>f64</td><td>f64</td></tr></thead><tbody><tr><td>0</td><td>&quot;Supplier#000000157&quot;</td><td>&quot;1EmkCApL5iF&quot;</td><td>[&quot;Supplier#000000197&quot;, &quot;Supplier#000000378&quot;, … &quot;Supplier#000000197&quot;]</td><td>[&quot;mLPJtpu4wOc cSFzBR&quot;, &quot;UQR8bUA4V2HxVbw9K&quot;, … &quot;1EmkCApL5iF&quot;]</td><td>29.0</td><td>33.0</td></tr><tr><td>1</td><td>&quot;Supplier#000000197&quot;</td><td>&quot;3oYqODDUGH3XsHXmPuzYHW5NLU3,ON…</td><td>[&quot;Supplier#000000530&quot;, &quot;Supplier#000000530&quot;, … &quot;Supplier#000000197&quot;]</td><td>[&quot;3oYqODDUGH3XsHXmPuzYHW5NLU3,ONZl&quot;, &quot;8Lp0QWPLFXrJrX1sTWkAEdzUsh5ke&quot;, … &quot;UQR8bUA4V2HxVbw9K&quot;]</td><td>20.0</td><td>15.0</td></tr><tr><td>2</td><td>&quot;Supplier#000000287&quot;</td><td>&quot;UQR8bUA4V2HxVbw9K&quot;</td><td>[&quot;Supplier#000000287&quot;, &quot;Supplier#000000557&quot;, … &quot;Supplier#000000378&quot;]</td><td>[&quot;mLPJtpu4wOc cSFzBR&quot;, &quot;8Lp0QWPLFXrJrX1sTWkAEdzUsh5ke&quot;, … &quot;IH,v63JRgXMkVhJOJ Gxur0W&quot;]</td><td>18.0</td><td>10.0</td></tr><tr><td>3</td><td>&quot;Supplier#000000378&quot;</td><td>&quot;mLPJtpu4wOc cSFzBR&quot;</td><td>[&quot;Supplier#000000530&quot;, &quot;Supplier#000000729&quot;, … &quot;Supplier#000000555&quot;]</td><td>[&quot;0BvoewCPg2scOEfuL93FRKqSxHmdhw1&quot;, &quot;JHRSOterYgt4MTNo7cupTzA,6MoNw 4&quot;, … &quot;CAOGYCBtTVT7aB1p6qHbxF6VVhXaHLgTpI&quot;]</td><td>22.0</td><td>12.121212</td></tr><tr><td>4</td><td>&quot;Supplier#000000530&quot;</td><td>&quot;0BvoewCPg2scOEfuL93FRKqSxHmdhw…</td><td>[&quot;Supplier#000000555&quot;, &quot;Supplier#000000557&quot;, … &quot;Supplier#000000555&quot;]</td><td>[&quot;IH,v63JRgXMkVhJOJ Gxur0W&quot;, &quot;JHRSOterYgt4MTNo7cupTzA,6MoNw 4&quot;, … &quot;JHRSOterYgt4MTNo7cupTzA,6MoNw 4&quot;]</td><td>16.129032</td><td>22.44898</td></tr><tr><td>5</td><td>&quot;Supplier#000000555&quot;</td><td>&quot;8Lp0QWPLFXrJrX1sTWkAEdzUsh5ke&quot;</td><td>[&quot;Supplier#000000555&quot;, &quot;Supplier#000000935&quot;, … &quot;Supplier#000000555&quot;]</td><td>[&quot;JHRSOterYgt4MTNo7cupTzA,6MoNw 4&quot;, &quot;IH,v63JRgXMkVhJOJ Gxur0W&quot;, … &quot;JHRSOterYgt4MTNo7cupTzA,6MoNw 4&quot;]</td><td>21.428571</td><td>30.588235</td></tr><tr><td>6</td><td>&quot;Supplier#000000557&quot;</td><td>&quot;IH,v63JRgXMkVhJOJ Gxur0W&quot;</td><td>[&quot;Supplier#000000557&quot;, &quot;Supplier#000000935&quot;, … &quot;Supplier#000000557&quot;]</td><td>[&quot;IH,v63JRgXMkVhJOJ Gxur0W&quot;, &quot;CAOGYCBtTVT7aB1p6qHbxF6VVhXaHLgTpI&quot;, … &quot;JHRSOterYgt4MTNo7cupTzA,6MoNw 4&quot;]</td><td>34.0</td><td>39.344262</td></tr><tr><td>7</td><td>&quot;Supplier#000000729&quot;</td><td>&quot;CAOGYCBtTVT7aB1p6qHbxF6VVhXaHL…</td><td>[null]</td><td>[null]</td><td>null</td><td>null</td></tr><tr><td>8</td><td>&quot;Supplier#000000935&quot;</td><td>&quot;JHRSOterYgt4MTNo7cupTzA,6MoNw …</td><td>[null]</td><td>[null]</td><td>null</td><td>null</td></tr></tbody></table></div>"
      ],
      "text/plain": [
       "shape: (9, 7)\n",
       "┌──────┬───────────────┬───────────────┬──────────────┬──────────────┬──────────────┬──────────────┐\n",
       "│ rank ┆ s_name        ┆ s_address     ┆ s_name_noise ┆ s_address_no ┆ pct_agreemen ┆ pct_agreemen │\n",
       "│ ---  ┆ ---           ┆ ---           ┆ d            ┆ ised         ┆ t_s_name     ┆ t_s_address  │\n",
       "│ u32  ┆ str           ┆ str           ┆ ---          ┆ ---          ┆ ---          ┆ ---          │\n",
       "│      ┆               ┆               ┆ list[str]    ┆ list[str]    ┆ f64          ┆ f64          │\n",
       "╞══════╪═══════════════╪═══════════════╪══════════════╪══════════════╪══════════════╪══════════════╡\n",
       "│ 0    ┆ Supplier#0000 ┆ 1EmkCApL5iF   ┆ [\"Supplier#0 ┆ [\"mLPJtpu4wO ┆ 29.0         ┆ 33.0         │\n",
       "│      ┆ 00157         ┆               ┆ 00000197\",   ┆ c cSFzBR\",   ┆              ┆              │\n",
       "│      ┆               ┆               ┆ \"Suppli…     ┆ \"UQR8bU…     ┆              ┆              │\n",
       "│ 1    ┆ Supplier#0000 ┆ 3oYqODDUGH3Xs ┆ [\"Supplier#0 ┆ [\"3oYqODDUGH ┆ 20.0         ┆ 15.0         │\n",
       "│      ┆ 00197         ┆ HXmPuzYHW5NLU ┆ 00000530\",   ┆ 3XsHXmPuzYHW ┆              ┆              │\n",
       "│      ┆               ┆ 3,ON…         ┆ \"Suppli…     ┆ 5NLU3,…      ┆              ┆              │\n",
       "│ 2    ┆ Supplier#0000 ┆ UQR8bUA4V2HxV ┆ [\"Supplier#0 ┆ [\"mLPJtpu4wO ┆ 18.0         ┆ 10.0         │\n",
       "│      ┆ 00287         ┆ bw9K          ┆ 00000287\",   ┆ c cSFzBR\",   ┆              ┆              │\n",
       "│      ┆               ┆               ┆ \"Suppli…     ┆ \"8Lp0QW…     ┆              ┆              │\n",
       "│ 3    ┆ Supplier#0000 ┆ mLPJtpu4wOc   ┆ [\"Supplier#0 ┆ [\"0BvoewCPg2 ┆ 22.0         ┆ 12.121212    │\n",
       "│      ┆ 00378         ┆ cSFzBR        ┆ 00000530\",   ┆ scOEfuL93FRK ┆              ┆              │\n",
       "│      ┆               ┆               ┆ \"Suppli…     ┆ qSxHmd…      ┆              ┆              │\n",
       "│ 4    ┆ Supplier#0000 ┆ 0BvoewCPg2scO ┆ [\"Supplier#0 ┆ [\"IH,v63JRgX ┆ 16.129032    ┆ 22.44898     │\n",
       "│      ┆ 00530         ┆ EfuL93FRKqSxH ┆ 00000555\",   ┆ MkVhJOJ      ┆              ┆              │\n",
       "│      ┆               ┆ mdhw…         ┆ \"Suppli…     ┆ Gxur0W\", \"…  ┆              ┆              │\n",
       "│ 5    ┆ Supplier#0000 ┆ 8Lp0QWPLFXrJr ┆ [\"Supplier#0 ┆ [\"JHRSOterYg ┆ 21.428571    ┆ 30.588235    │\n",
       "│      ┆ 00555         ┆ X1sTWkAEdzUsh ┆ 00000555\",   ┆ t4MTNo7cupTz ┆              ┆              │\n",
       "│      ┆               ┆ 5ke           ┆ \"Suppli…     ┆ A,6MoN…      ┆              ┆              │\n",
       "│ 6    ┆ Supplier#0000 ┆ IH,v63JRgXMkV ┆ [\"Supplier#0 ┆ [\"IH,v63JRgX ┆ 34.0         ┆ 39.344262    │\n",
       "│      ┆ 00557         ┆ hJOJ Gxur0W   ┆ 00000557\",   ┆ MkVhJOJ      ┆              ┆              │\n",
       "│      ┆               ┆               ┆ \"Suppli…     ┆ Gxur0W\", \"…  ┆              ┆              │\n",
       "│ 7    ┆ Supplier#0000 ┆ CAOGYCBtTVT7a ┆ [null]       ┆ [null]       ┆ null         ┆ null         │\n",
       "│      ┆ 00729         ┆ B1p6qHbxF6VVh ┆              ┆              ┆              ┆              │\n",
       "│      ┆               ┆ XaHL…         ┆              ┆              ┆              ┆              │\n",
       "│ 8    ┆ Supplier#0000 ┆ JHRSOterYgt4M ┆ [null]       ┆ [null]       ┆ null         ┆ null         │\n",
       "│      ┆ 00935         ┆ TNo7cupTzA,6M ┆              ┆              ┆              ┆              │\n",
       "│      ┆               ┆ oNw …         ┆              ┆              ┆              ┆              │\n",
       "└──────┴───────────────┴───────────────┴──────────────┴──────────────┴──────────────┴──────────────┘"
      ]
     },
     "execution_count": 64,
     "metadata": {},
     "output_type": "execute_result"
    }
   ],
   "source": [
    "merged_df"
   ]
  },
  {
   "cell_type": "code",
   "execution_count": 65,
   "id": "53c1e915",
   "metadata": {},
   "outputs": [
    {
     "data": {
      "image/png": "[encoded data removed]",
      "text/plain": [
       "<Figure size 720x288 with 2 Axes>"
      ]
     },
     "metadata": {
      "needs_background": "light"
     },
     "output_type": "display_data"
    },
    {
     "data": {
      "image/png": "[encoded data removed]",
      "text/plain": [
       "<Figure size 360x288 with 1 Axes>"
      ]
     },
     "metadata": {
      "needs_background": "light"
     },
     "output_type": "display_data"
    },
    {
     "data": {
      "image/png": "[encoded data removed]",
      "text/plain": [
       "<Figure size 360x288 with 1 Axes>"
      ]
     },
     "metadata": {
      "needs_background": "light"
     },
     "output_type": "display_data"
    }
   ],
   "source": [
    "\n",
    "# Get columns that start with 'pct_diff'\n",
    "pct_diff_cols = [col for col in merged_df.columns if col.startswith('pct_agreement')]\n",
    "\n",
    "# Create subplots based on number of pct_diff columns\n",
    "n_cols = len(pct_diff_cols)\n",
    "fig, axes = plt.subplots(1, n_cols, figsize=(5*n_cols, 4))\n",
    "\n",
    "# Handle case where there's only one column (axes won't be a list)\n",
    "if n_cols == 1:\n",
    "    axes = [axes]\n",
    "\n",
    "# Create histogram for each column\n",
    "for i, col in enumerate(pct_diff_cols):\n",
    "    # Convert to pandas for easier plotting, or use polars plot method\n",
    "    values = merged_df[col].to_pandas()\n",
    "\n",
    "    axes[i].hist(values, bins=30, alpha=0.7, edgecolor='black')\n",
    "    axes[i].set_title(f'Histogram of {col}')\n",
    "    axes[i].set_xlabel(col)\n",
    "    axes[i].set_ylabel('Frequency')\n",
    "    axes[i].grid(True, alpha=0.3)\n",
    "\n",
    "plt.tight_layout()\n",
    "plt.savefig(f'figs/mi_1_2/q{query_ind}_{col}_hist.png', facecolor='white', bbox_inches='tight')\n",
    "\n",
    "for base in null_info:\n",
    "    (nulls_exist, null_inds, null_vals) = null_info[base]\n",
    "    if nulls_exist:\n",
    "        fig, axes = plt.subplots(1, 1, figsize=(5, 4))\n",
    "        axes = [axes]\n",
    "        axes[0].hist(null_vals, bins=30, alpha=0.7, edgecolor='black')\n",
    "        axes[0].set_title(f'Histogram of nulls for column {base}')\n",
    "        axes[0].set_xlabel('Fraction of nulls (%)')\n",
    "        axes[0].set_ylabel('Frequency')\n",
    "        axes[0].grid(True, alpha=0.3)\n",
    "        plt.savefig(f'figs/mi_1_2/q{query_ind}_{base}_nulls.png', facecolor='white', bbox_inches='tight')"
   ]
  },
  {
   "cell_type": "code",
   "execution_count": null,
   "id": "f4e03b80",
   "metadata": {},
   "outputs": [],
   "source": []
  }
 ],
 "metadata": {
  "kernelspec": {
   "display_name": "Python 3 (ipykernel)",
   "language": "python",
   "name": "python3"
  },
  "language_info": {
   "codemirror_mode": {
    "name": "ipython",
    "version": 3
   },
   "file_extension": ".py",
   "mimetype": "text/x-python",
   "name": "python",
   "nbconvert_exporter": "python",
   "pygments_lexer": "ipython3",
   "version": "3.9.17"
  }
 },
 "nbformat": 4,
 "nbformat_minor": 5
}
