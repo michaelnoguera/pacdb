{
 "cells": [
  {
   "cell_type": "code",
   "execution_count": 89,
   "id": "fcfa5f03",
   "metadata": {},
   "outputs": [],
   "source": [
    "import polars.selectors as cs\n",
    "import numpy as np\n",
    "\n",
    "import polars as pl\n",
    "\n",
    "import matplotlib.pyplot as plt"
   ]
  },
  {
   "cell_type": "code",
   "execution_count": 111,
   "id": "1288945e",
   "metadata": {},
   "outputs": [],
   "source": [
    "def hist_of_numerical_values(df: pl.DataFrame):\n",
    "    \"\"\"\n",
    "    Generates histograms for all numerical columns in a Polars DataFrame.\n",
    "\n",
    "    Args:\n",
    "        df: The Polars DataFrame.\n",
    "\n",
    "    Returns:\n",
    "        A dictionary where keys are column names and values are the histogram data.\n",
    "    \"\"\"\n",
    "    histograms = {}\n",
    "    for col_name in df.columns:\n",
    "        if df[col_name].dtype in [pl.Int8, pl.Int16, pl.Int32, pl.Int64, pl.UInt8, pl.UInt16, pl.UInt32, pl.UInt64, pl.Float32, pl.Float64]:\n",
    "            hist_data = df[col_name].hist()\n",
    "            histograms[col_name] = hist_data\n",
    "    return histograms"
   ]
  },
  {
   "cell_type": "code",
   "execution_count": 112,
   "id": "f25d4a28",
   "metadata": {},
   "outputs": [],
   "source": [
    "index_cols = {\n",
    "    3: [],\n",
    "    15: [],\n",
    "    20: []\n",
    "}\n",
    "scale_required = set([15])\n",
    "# not 8, 14\n",
    "# skip 3, skip 20\n",
    "queries_to_run = [15]"
   ]
  },
  {
   "cell_type": "code",
   "execution_count": 113,
   "id": "32b8ac1c",
   "metadata": {},
   "outputs": [],
   "source": [
    "query_ind = 20\n",
    "null_info = {}\n",
    "orig = pl.read_csv(f'unnoised/q{query_ind}.csv')\n",
    "noised = pl.read_json(f'outputs/ap-duckdb-q{query_ind}-customer-step3/output.json')\n",
    "orig = orig.with_row_index(name=\"rank\")\n",
    "noised = noised.with_row_index(name=\"rank\")\n",
    "merged_df = orig.join(noised, suffix='_noised',  on=\"rank\")"
   ]
  },
  {
   "cell_type": "code",
   "execution_count": 114,
   "id": "a5beed2d",
   "metadata": {},
   "outputs": [
    {
     "data": {
      "text/html": [
       "<div><style>\n",
       ".dataframe > thead > tr,\n",
       ".dataframe > tbody > tr {\n",
       "  text-align: right;\n",
       "  white-space: pre-wrap;\n",
       "}\n",
       "</style>\n",
       "<small>shape: (9, 5)</small><table border=\"1\" class=\"dataframe\"><thead><tr><th>rank</th><th>s_name</th><th>s_address</th><th>s_name_noised</th><th>s_address_noised</th></tr><tr><td>u32</td><td>str</td><td>str</td><td>list[str]</td><td>list[str]</td></tr></thead><tbody><tr><td>0</td><td>&quot;Supplier#000000157&quot;</td><td>&quot;1EmkCApL5iF&quot;</td><td>[&quot;Supplier#000000287&quot;, &quot;Supplier#000000157&quot;, … &quot;Supplier#000000157&quot;]</td><td>[&quot;mLPJtpu4wOc cSFzBR&quot;, &quot;1EmkCApL5iF&quot;, … &quot;UQR8bUA4V2HxVbw9K&quot;]</td></tr><tr><td>1</td><td>&quot;Supplier#000000197&quot;</td><td>&quot;3oYqODDUGH3XsHXmPuzYHW5NLU3,ON…</td><td>[&quot;Supplier#000000197&quot;, &quot;Supplier#000000555&quot;, … &quot;Supplier#000000555&quot;]</td><td>[&quot;3oYqODDUGH3XsHXmPuzYHW5NLU3,ONZl&quot;, &quot;UQR8bUA4V2HxVbw9K&quot;, … &quot;mLPJtpu4wOc cSFzBR&quot;]</td></tr><tr><td>2</td><td>&quot;Supplier#000000287&quot;</td><td>&quot;UQR8bUA4V2HxVbw9K&quot;</td><td>[&quot;Supplier#000000287&quot;, &quot;Supplier#000000557&quot;, … &quot;Supplier#000000530&quot;]</td><td>[&quot;CAOGYCBtTVT7aB1p6qHbxF6VVhXaHLgTpI&quot;, &quot;CAOGYCBtTVT7aB1p6qHbxF6VVhXaHLgTpI&quot;, … &quot;8Lp0QWPLFXrJrX1sTWkAEdzUsh5ke&quot;]</td></tr><tr><td>3</td><td>&quot;Supplier#000000378&quot;</td><td>&quot;mLPJtpu4wOc cSFzBR&quot;</td><td>[&quot;Supplier#000000935&quot;, &quot;Supplier#000000557&quot;, … &quot;Supplier#000000530&quot;]</td><td>[&quot;IH,v63JRgXMkVhJOJ Gxur0W&quot;, &quot;mLPJtpu4wOc cSFzBR&quot;, … &quot;0BvoewCPg2scOEfuL93FRKqSxHmdhw1&quot;]</td></tr><tr><td>4</td><td>&quot;Supplier#000000530&quot;</td><td>&quot;0BvoewCPg2scOEfuL93FRKqSxHmdhw…</td><td>[&quot;Supplier#000000555&quot;, &quot;Supplier#000000935&quot;, … &quot;Supplier#000000555&quot;]</td><td>[&quot;CAOGYCBtTVT7aB1p6qHbxF6VVhXaHLgTpI&quot;, &quot;JHRSOterYgt4MTNo7cupTzA,6MoNw 4&quot;, … &quot;0BvoewCPg2scOEfuL93FRKqSxHmdhw1&quot;]</td></tr><tr><td>5</td><td>&quot;Supplier#000000555&quot;</td><td>&quot;8Lp0QWPLFXrJrX1sTWkAEdzUsh5ke&quot;</td><td>[&quot;Supplier#000000557&quot;, &quot;Supplier#000000935&quot;, … &quot;Supplier#000000555&quot;]</td><td>[&quot;IH,v63JRgXMkVhJOJ Gxur0W&quot;, &quot;CAOGYCBtTVT7aB1p6qHbxF6VVhXaHLgTpI&quot;, … &quot;JHRSOterYgt4MTNo7cupTzA,6MoNw 4&quot;]</td></tr><tr><td>6</td><td>&quot;Supplier#000000557&quot;</td><td>&quot;IH,v63JRgXMkVhJOJ Gxur0W&quot;</td><td>[&quot;Supplier#000000935&quot;, &quot;Supplier#000000935&quot;, … &quot;Supplier#000000935&quot;]</td><td>[&quot;CAOGYCBtTVT7aB1p6qHbxF6VVhXaHLgTpI&quot;, &quot;CAOGYCBtTVT7aB1p6qHbxF6VVhXaHLgTpI&quot;, … &quot;IH,v63JRgXMkVhJOJ Gxur0W&quot;]</td></tr><tr><td>7</td><td>&quot;Supplier#000000729&quot;</td><td>&quot;CAOGYCBtTVT7aB1p6qHbxF6VVhXaHL…</td><td>[null]</td><td>[null]</td></tr><tr><td>8</td><td>&quot;Supplier#000000935&quot;</td><td>&quot;JHRSOterYgt4MTNo7cupTzA,6MoNw …</td><td>[null]</td><td>[null]</td></tr></tbody></table></div>"
      ],
      "text/plain": [
       "shape: (9, 5)\n",
       "┌──────┬────────────────────┬───────────────────────┬───────────────────────┬──────────────────────┐\n",
       "│ rank ┆ s_name             ┆ s_address             ┆ s_name_noised         ┆ s_address_noised     │\n",
       "│ ---  ┆ ---                ┆ ---                   ┆ ---                   ┆ ---                  │\n",
       "│ u32  ┆ str                ┆ str                   ┆ list[str]             ┆ list[str]            │\n",
       "╞══════╪════════════════════╪═══════════════════════╪═══════════════════════╪══════════════════════╡\n",
       "│ 0    ┆ Supplier#000000157 ┆ 1EmkCApL5iF           ┆ [\"Supplier#000000287\" ┆ [\"mLPJtpu4wOc        │\n",
       "│      ┆                    ┆                       ┆ , \"Suppli…            ┆ cSFzBR\", \"1EmkCA…    │\n",
       "│ 1    ┆ Supplier#000000197 ┆ 3oYqODDUGH3XsHXmPuzYH ┆ [\"Supplier#000000197\" ┆ [\"3oYqODDUGH3XsHXmPu │\n",
       "│      ┆                    ┆ W5NLU3,ON…            ┆ , \"Suppli…            ┆ zYHW5NLU3,…          │\n",
       "│ 2    ┆ Supplier#000000287 ┆ UQR8bUA4V2HxVbw9K     ┆ [\"Supplier#000000287\" ┆ [\"CAOGYCBtTVT7aB1p6q │\n",
       "│      ┆                    ┆                       ┆ , \"Suppli…            ┆ HbxF6VVhXa…          │\n",
       "│ 3    ┆ Supplier#000000378 ┆ mLPJtpu4wOc cSFzBR    ┆ [\"Supplier#000000935\" ┆ [\"IH,v63JRgXMkVhJOJ  │\n",
       "│      ┆                    ┆                       ┆ , \"Suppli…            ┆ Gxur0W\", \"…          │\n",
       "│ 4    ┆ Supplier#000000530 ┆ 0BvoewCPg2scOEfuL93FR ┆ [\"Supplier#000000555\" ┆ [\"CAOGYCBtTVT7aB1p6q │\n",
       "│      ┆                    ┆ KqSxHmdhw…            ┆ , \"Suppli…            ┆ HbxF6VVhXa…          │\n",
       "│ 5    ┆ Supplier#000000555 ┆ 8Lp0QWPLFXrJrX1sTWkAE ┆ [\"Supplier#000000557\" ┆ [\"IH,v63JRgXMkVhJOJ  │\n",
       "│      ┆                    ┆ dzUsh5ke              ┆ , \"Suppli…            ┆ Gxur0W\", \"…          │\n",
       "│ 6    ┆ Supplier#000000557 ┆ IH,v63JRgXMkVhJOJ     ┆ [\"Supplier#000000935\" ┆ [\"CAOGYCBtTVT7aB1p6q │\n",
       "│      ┆                    ┆ Gxur0W                ┆ , \"Suppli…            ┆ HbxF6VVhXa…          │\n",
       "│ 7    ┆ Supplier#000000729 ┆ CAOGYCBtTVT7aB1p6qHbx ┆ [null]                ┆ [null]               │\n",
       "│      ┆                    ┆ F6VVhXaHL…            ┆                       ┆                      │\n",
       "│ 8    ┆ Supplier#000000935 ┆ JHRSOterYgt4MTNo7cupT ┆ [null]                ┆ [null]               │\n",
       "│      ┆                    ┆ zA,6MoNw …            ┆                       ┆                      │\n",
       "└──────┴────────────────────┴───────────────────────┴───────────────────────┴──────────────────────┘"
      ]
     },
     "execution_count": 114,
     "metadata": {},
     "output_type": "execute_result"
    }
   ],
   "source": [
    "merged_df"
   ]
  },
  {
   "cell_type": "code",
   "execution_count": 115,
   "id": "4dec36c0",
   "metadata": {},
   "outputs": [],
   "source": [
    "def get_rel_error_numeric(const, noised_list, actual):\n",
    "    new = np.average(\n",
    "        [100*abs(const*noised_list[tmp_ind] - actual) / actual for tmp_ind in range(\n",
    "                len(noised_list))]\n",
    "    )\n",
    "    return new"
   ]
  },
  {
   "cell_type": "code",
   "execution_count": 116,
   "id": "2500afd6",
   "metadata": {},
   "outputs": [
    {
     "name": "stdout",
     "output_type": "stream",
     "text": [
      "20 4\n",
      "20 5\n",
      "20 6\n",
      "20 7\n",
      "20 8\n",
      "20 4\n",
      "20 5\n",
      "20 6\n",
      "20 7\n",
      "20 8\n"
     ]
    }
   ],
   "source": [
    "suffix1 = ''\n",
    "suffix2 = '_noised'\n",
    "cols_with_suffixes = [col for col in merged_df.columns if suffix1 in col or suffix2 in col]\n",
    "base_names = set([col.replace(suffix1, '').replace(suffix2, '') for col in cols_with_suffixes])\n",
    "for base_name in base_names:\n",
    "    nulls_exist = False\n",
    "    null_inds, null_vals = [], []\n",
    "\n",
    "    orig = base_name + suffix1\n",
    "    noised = base_name + suffix2\n",
    "    if orig in merged_df.columns and noised in merged_df.columns:\n",
    "        rel_errors = []\n",
    "        for ind in range(len(merged_df[orig])):\n",
    "            releases = merged_df[noised][ind].to_list()\n",
    "#             print(releases)\n",
    "            filtered_releases = [x for x in releases if x is not None]\n",
    "            if len(filtered_releases) == 0:\n",
    "                rel_errors.append(None)\n",
    "                continue\n",
    "            actual = merged_df[orig][ind]\n",
    "            try:\n",
    "                actual = float(actual)\n",
    "                is_numeric = True\n",
    "                if actual == 0.0:\n",
    "                    is_numeric = False # treat 0 as categorical\n",
    "            except:\n",
    "                is_numeric = False\n",
    "            if is_numeric:\n",
    "#                 print(actual)\n",
    "                scale_factor = 2 if query_ind in scale_required else 1\n",
    "                rel_error = get_rel_error_numeric(scale_factor, releases, actual)\n",
    "            else:\n",
    "                rel_error = 100-100*releases.count(actual) / len(releases)\n",
    "            rel_errors.append(rel_error)\n",
    "        merged_df = merged_df.with_columns(pl.Series('pct_diff_' + base_name, rel_errors))\n",
    "        num_outputs = len(list(merged_df[noised]))\n",
    "        for ind in range(num_outputs):\n",
    "            full_list = [x for x in list(merged_df[noised][ind]) if x is not None]\n",
    "            if len(full_list) < 100:\n",
    "                nulls_exist = True\n",
    "                null_inds.append(ind)\n",
    "                null_vals.append(100-len(full_list))\n",
    "                print(query_ind, ind)\n",
    "    null_info[base_name] = (nulls_exist, null_inds, null_vals)\n"
   ]
  },
  {
   "cell_type": "code",
   "execution_count": 117,
   "id": "ecc795c2",
   "metadata": {},
   "outputs": [
    {
     "data": {
      "text/html": [
       "<div><style>\n",
       ".dataframe > thead > tr,\n",
       ".dataframe > tbody > tr {\n",
       "  text-align: right;\n",
       "  white-space: pre-wrap;\n",
       "}\n",
       "</style>\n",
       "<small>shape: (9, 7)</small><table border=\"1\" class=\"dataframe\"><thead><tr><th>rank</th><th>s_name</th><th>s_address</th><th>s_name_noised</th><th>s_address_noised</th><th>pct_diff_s_name</th><th>pct_diff_s_address</th></tr><tr><td>u32</td><td>str</td><td>str</td><td>list[str]</td><td>list[str]</td><td>f64</td><td>f64</td></tr></thead><tbody><tr><td>0</td><td>&quot;Supplier#000000157&quot;</td><td>&quot;1EmkCApL5iF&quot;</td><td>[&quot;Supplier#000000287&quot;, &quot;Supplier#000000157&quot;, … &quot;Supplier#000000157&quot;]</td><td>[&quot;mLPJtpu4wOc cSFzBR&quot;, &quot;1EmkCApL5iF&quot;, … &quot;UQR8bUA4V2HxVbw9K&quot;]</td><td>70.0</td><td>75.0</td></tr><tr><td>1</td><td>&quot;Supplier#000000197&quot;</td><td>&quot;3oYqODDUGH3XsHXmPuzYHW5NLU3,ON…</td><td>[&quot;Supplier#000000197&quot;, &quot;Supplier#000000555&quot;, … &quot;Supplier#000000555&quot;]</td><td>[&quot;3oYqODDUGH3XsHXmPuzYHW5NLU3,ONZl&quot;, &quot;UQR8bUA4V2HxVbw9K&quot;, … &quot;mLPJtpu4wOc cSFzBR&quot;]</td><td>83.0</td><td>83.0</td></tr><tr><td>2</td><td>&quot;Supplier#000000287&quot;</td><td>&quot;UQR8bUA4V2HxVbw9K&quot;</td><td>[&quot;Supplier#000000287&quot;, &quot;Supplier#000000557&quot;, … &quot;Supplier#000000530&quot;]</td><td>[&quot;CAOGYCBtTVT7aB1p6qHbxF6VVhXaHLgTpI&quot;, &quot;CAOGYCBtTVT7aB1p6qHbxF6VVhXaHLgTpI&quot;, … &quot;8Lp0QWPLFXrJrX1sTWkAEdzUsh5ke&quot;]</td><td>83.0</td><td>82.0</td></tr><tr><td>3</td><td>&quot;Supplier#000000378&quot;</td><td>&quot;mLPJtpu4wOc cSFzBR&quot;</td><td>[&quot;Supplier#000000935&quot;, &quot;Supplier#000000557&quot;, … &quot;Supplier#000000530&quot;]</td><td>[&quot;IH,v63JRgXMkVhJOJ Gxur0W&quot;, &quot;mLPJtpu4wOc cSFzBR&quot;, … &quot;0BvoewCPg2scOEfuL93FRKqSxHmdhw1&quot;]</td><td>84.0</td><td>88.0</td></tr><tr><td>4</td><td>&quot;Supplier#000000530&quot;</td><td>&quot;0BvoewCPg2scOEfuL93FRKqSxHmdhw…</td><td>[&quot;Supplier#000000555&quot;, &quot;Supplier#000000935&quot;, … &quot;Supplier#000000555&quot;]</td><td>[&quot;CAOGYCBtTVT7aB1p6qHbxF6VVhXaHLgTpI&quot;, &quot;JHRSOterYgt4MTNo7cupTzA,6MoNw 4&quot;, … &quot;0BvoewCPg2scOEfuL93FRKqSxHmdhw1&quot;]</td><td>80.645161</td><td>78.125</td></tr><tr><td>5</td><td>&quot;Supplier#000000555&quot;</td><td>&quot;8Lp0QWPLFXrJrX1sTWkAEdzUsh5ke&quot;</td><td>[&quot;Supplier#000000557&quot;, &quot;Supplier#000000935&quot;, … &quot;Supplier#000000555&quot;]</td><td>[&quot;IH,v63JRgXMkVhJOJ Gxur0W&quot;, &quot;CAOGYCBtTVT7aB1p6qHbxF6VVhXaHLgTpI&quot;, … &quot;JHRSOterYgt4MTNo7cupTzA,6MoNw 4&quot;]</td><td>77.011494</td><td>72.093023</td></tr><tr><td>6</td><td>&quot;Supplier#000000557&quot;</td><td>&quot;IH,v63JRgXMkVhJOJ Gxur0W&quot;</td><td>[&quot;Supplier#000000935&quot;, &quot;Supplier#000000935&quot;, … &quot;Supplier#000000935&quot;]</td><td>[&quot;CAOGYCBtTVT7aB1p6qHbxF6VVhXaHLgTpI&quot;, &quot;CAOGYCBtTVT7aB1p6qHbxF6VVhXaHLgTpI&quot;, … &quot;IH,v63JRgXMkVhJOJ Gxur0W&quot;]</td><td>71.929825</td><td>68.965517</td></tr><tr><td>7</td><td>&quot;Supplier#000000729&quot;</td><td>&quot;CAOGYCBtTVT7aB1p6qHbxF6VVhXaHL…</td><td>[null]</td><td>[null]</td><td>null</td><td>null</td></tr><tr><td>8</td><td>&quot;Supplier#000000935&quot;</td><td>&quot;JHRSOterYgt4MTNo7cupTzA,6MoNw …</td><td>[null]</td><td>[null]</td><td>null</td><td>null</td></tr></tbody></table></div>"
      ],
      "text/plain": [
       "shape: (9, 7)\n",
       "┌──────┬───────────────┬───────────────┬──────────────┬──────────────┬──────────────┬──────────────┐\n",
       "│ rank ┆ s_name        ┆ s_address     ┆ s_name_noise ┆ s_address_no ┆ pct_diff_s_n ┆ pct_diff_s_a │\n",
       "│ ---  ┆ ---           ┆ ---           ┆ d            ┆ ised         ┆ ame          ┆ ddress       │\n",
       "│ u32  ┆ str           ┆ str           ┆ ---          ┆ ---          ┆ ---          ┆ ---          │\n",
       "│      ┆               ┆               ┆ list[str]    ┆ list[str]    ┆ f64          ┆ f64          │\n",
       "╞══════╪═══════════════╪═══════════════╪══════════════╪══════════════╪══════════════╪══════════════╡\n",
       "│ 0    ┆ Supplier#0000 ┆ 1EmkCApL5iF   ┆ [\"Supplier#0 ┆ [\"mLPJtpu4wO ┆ 70.0         ┆ 75.0         │\n",
       "│      ┆ 00157         ┆               ┆ 00000287\",   ┆ c cSFzBR\",   ┆              ┆              │\n",
       "│      ┆               ┆               ┆ \"Suppli…     ┆ \"1EmkCA…     ┆              ┆              │\n",
       "│ 1    ┆ Supplier#0000 ┆ 3oYqODDUGH3Xs ┆ [\"Supplier#0 ┆ [\"3oYqODDUGH ┆ 83.0         ┆ 83.0         │\n",
       "│      ┆ 00197         ┆ HXmPuzYHW5NLU ┆ 00000197\",   ┆ 3XsHXmPuzYHW ┆              ┆              │\n",
       "│      ┆               ┆ 3,ON…         ┆ \"Suppli…     ┆ 5NLU3,…      ┆              ┆              │\n",
       "│ 2    ┆ Supplier#0000 ┆ UQR8bUA4V2HxV ┆ [\"Supplier#0 ┆ [\"CAOGYCBtTV ┆ 83.0         ┆ 82.0         │\n",
       "│      ┆ 00287         ┆ bw9K          ┆ 00000287\",   ┆ T7aB1p6qHbxF ┆              ┆              │\n",
       "│      ┆               ┆               ┆ \"Suppli…     ┆ 6VVhXa…      ┆              ┆              │\n",
       "│ 3    ┆ Supplier#0000 ┆ mLPJtpu4wOc   ┆ [\"Supplier#0 ┆ [\"IH,v63JRgX ┆ 84.0         ┆ 88.0         │\n",
       "│      ┆ 00378         ┆ cSFzBR        ┆ 00000935\",   ┆ MkVhJOJ      ┆              ┆              │\n",
       "│      ┆               ┆               ┆ \"Suppli…     ┆ Gxur0W\", \"…  ┆              ┆              │\n",
       "│ 4    ┆ Supplier#0000 ┆ 0BvoewCPg2scO ┆ [\"Supplier#0 ┆ [\"CAOGYCBtTV ┆ 80.645161    ┆ 78.125       │\n",
       "│      ┆ 00530         ┆ EfuL93FRKqSxH ┆ 00000555\",   ┆ T7aB1p6qHbxF ┆              ┆              │\n",
       "│      ┆               ┆ mdhw…         ┆ \"Suppli…     ┆ 6VVhXa…      ┆              ┆              │\n",
       "│ 5    ┆ Supplier#0000 ┆ 8Lp0QWPLFXrJr ┆ [\"Supplier#0 ┆ [\"IH,v63JRgX ┆ 77.011494    ┆ 72.093023    │\n",
       "│      ┆ 00555         ┆ X1sTWkAEdzUsh ┆ 00000557\",   ┆ MkVhJOJ      ┆              ┆              │\n",
       "│      ┆               ┆ 5ke           ┆ \"Suppli…     ┆ Gxur0W\", \"…  ┆              ┆              │\n",
       "│ 6    ┆ Supplier#0000 ┆ IH,v63JRgXMkV ┆ [\"Supplier#0 ┆ [\"CAOGYCBtTV ┆ 71.929825    ┆ 68.965517    │\n",
       "│      ┆ 00557         ┆ hJOJ Gxur0W   ┆ 00000935\",   ┆ T7aB1p6qHbxF ┆              ┆              │\n",
       "│      ┆               ┆               ┆ \"Suppli…     ┆ 6VVhXa…      ┆              ┆              │\n",
       "│ 7    ┆ Supplier#0000 ┆ CAOGYCBtTVT7a ┆ [null]       ┆ [null]       ┆ null         ┆ null         │\n",
       "│      ┆ 00729         ┆ B1p6qHbxF6VVh ┆              ┆              ┆              ┆              │\n",
       "│      ┆               ┆ XaHL…         ┆              ┆              ┆              ┆              │\n",
       "│ 8    ┆ Supplier#0000 ┆ JHRSOterYgt4M ┆ [null]       ┆ [null]       ┆ null         ┆ null         │\n",
       "│      ┆ 00935         ┆ TNo7cupTzA,6M ┆              ┆              ┆              ┆              │\n",
       "│      ┆               ┆ oNw …         ┆              ┆              ┆              ┆              │\n",
       "└──────┴───────────────┴───────────────┴──────────────┴──────────────┴──────────────┴──────────────┘"
      ]
     },
     "execution_count": 117,
     "metadata": {},
     "output_type": "execute_result"
    }
   ],
   "source": [
    "merged_df"
   ]
  },
  {
   "cell_type": "code",
   "execution_count": 11,
   "id": "53c1e915",
   "metadata": {},
   "outputs": [
    {
     "data": {
      "image/png": "[encoded data removed]",
      "text/plain": [
       "<Figure size 720x288 with 2 Axes>"
      ]
     },
     "metadata": {
      "needs_background": "light"
     },
     "output_type": "display_data"
    },
    {
     "data": {
      "image/png": "[encoded data removed]",
      "text/plain": [
       "<Figure size 360x288 with 1 Axes>"
      ]
     },
     "metadata": {
      "needs_background": "light"
     },
     "output_type": "display_data"
    },
    {
     "data": {
      "image/png": "[encoded data removed]",
      "text/plain": [
       "<Figure size 360x288 with 1 Axes>"
      ]
     },
     "metadata": {
      "needs_background": "light"
     },
     "output_type": "display_data"
    }
   ],
   "source": [
    "\n",
    "# Get columns that start with 'pct_diff'\n",
    "pct_diff_cols = [col for col in merged_df.columns if col.startswith('pct_diff_')]\n",
    "\n",
    "# Create subplots based on number of pct_diff columns\n",
    "n_cols = len(pct_diff_cols)\n",
    "fig, axes = plt.subplots(1, n_cols, figsize=(5*n_cols, 4))\n",
    "\n",
    "# Handle case where there's only one column (axes won't be a list)\n",
    "if n_cols == 1:\n",
    "    axes = [axes]\n",
    "\n",
    "# Create histogram for each column\n",
    "for i, col in enumerate(pct_diff_cols):\n",
    "    # Convert to pandas for easier plotting, or use polars plot method\n",
    "    values = merged_df[col].to_pandas()\n",
    "\n",
    "    axes[i].hist(values, bins=30, alpha=0.7, edgecolor='black')\n",
    "    axes[i].set_title(f'Histogram of {col}')\n",
    "    axes[i].set_xlabel(col)\n",
    "    axes[i].set_ylabel('Frequency')\n",
    "    axes[i].grid(True, alpha=0.3)\n",
    "\n",
    "plt.tight_layout()\n",
    "plt.savefig(f'figs/mi_1_2/q{query_ind}_{col}_hist.png', facecolor='white', bbox_inches='tight')\n",
    "\n",
    "for base in null_info:\n",
    "    (nulls_exist, null_inds, null_vals) = null_info[base]\n",
    "    if nulls_exist:\n",
    "        fig, axes = plt.subplots(1, 1, figsize=(5, 4))\n",
    "        axes = [axes]\n",
    "        axes[0].hist(null_vals, bins=30, alpha=0.7, edgecolor='black')\n",
    "        axes[0].set_title(f'Histogram of nulls for column {base}')\n",
    "        axes[0].set_xlabel('Fraction of nulls (%)')\n",
    "        axes[0].set_ylabel('Frequency')\n",
    "        axes[0].grid(True, alpha=0.3)\n",
    "        plt.savefig(f'figs/mi_1_2/q{query_ind}_{base}_nulls.png', facecolor='white', bbox_inches='tight')"
   ]
  },
  {
   "cell_type": "code",
   "execution_count": 110,
   "id": "f4e03b80",
   "metadata": {},
   "outputs": [
    {
     "data": {
      "text/plain": [
       "{'Supplier#000000073',\n",
       " 'Supplier#000000091',\n",
       " 'Supplier#000000134',\n",
       " 'Supplier#000000150',\n",
       " 'Supplier#000000154',\n",
       " 'Supplier#000000164',\n",
       " 'Supplier#000000170',\n",
       " 'Supplier#000000182',\n",
       " 'Supplier#000000185',\n",
       " 'Supplier#000000187',\n",
       " 'Supplier#000000199',\n",
       " 'Supplier#000000207',\n",
       " 'Supplier#000000218',\n",
       " 'Supplier#000000220',\n",
       " 'Supplier#000000228',\n",
       " 'Supplier#000000230',\n",
       " 'Supplier#000000238',\n",
       " 'Supplier#000000300',\n",
       " 'Supplier#000000315',\n",
       " 'Supplier#000000378',\n",
       " 'Supplier#000000379',\n",
       " 'Supplier#000000397',\n",
       " 'Supplier#000000402',\n",
       " 'Supplier#000000422',\n",
       " 'Supplier#000000423',\n",
       " 'Supplier#000000425',\n",
       " 'Supplier#000000445',\n",
       " 'Supplier#000000459',\n",
       " 'Supplier#000000463',\n",
       " 'Supplier#000000468',\n",
       " 'Supplier#000000574',\n",
       " 'Supplier#000000590',\n",
       " 'Supplier#000000626',\n",
       " 'Supplier#000000634',\n",
       " 'Supplier#000000656',\n",
       " 'Supplier#000000657',\n",
       " 'Supplier#000000677',\n",
       " 'Supplier#000000679',\n",
       " 'Supplier#000000696',\n",
       " 'Supplier#000000718',\n",
       " 'Supplier#000000722',\n",
       " 'Supplier#000000731',\n",
       " 'Supplier#000000735',\n",
       " 'Supplier#000000736',\n",
       " 'Supplier#000000756',\n",
       " 'Supplier#000000833',\n",
       " 'Supplier#000000846',\n",
       " 'Supplier#000000887',\n",
       " 'Supplier#000000890',\n",
       " 'Supplier#000000896',\n",
       " 'Supplier#000000913',\n",
       " 'Supplier#000000917',\n",
       " 'Supplier#000000921',\n",
       " 'Supplier#000000925',\n",
       " 'Supplier#000000941',\n",
       " 'Supplier#000000964',\n",
       " 'Supplier#000000966',\n",
       " 'Supplier#000000971',\n",
       " 'Supplier#000000977',\n",
       " 'Supplier#000000984',\n",
       " 'Supplier#000000987'}"
      ]
     },
     "execution_count": 110,
     "metadata": {},
     "output_type": "execute_result"
    }
   ],
   "source": [
    "set(merged_df[0]['s_name_noised'].to_list()[0])"
   ]
  },
  {
   "cell_type": "code",
   "execution_count": null,
   "id": "9723cd20",
   "metadata": {},
   "outputs": [],
   "source": []
  }
 ],
 "metadata": {
  "kernelspec": {
   "display_name": "Python 3 (ipykernel)",
   "language": "python",
   "name": "python3"
  },
  "language_info": {
   "codemirror_mode": {
    "name": "ipython",
    "version": 3
   },
   "file_extension": ".py",
   "mimetype": "text/x-python",
   "name": "python",
   "nbconvert_exporter": "python",
   "pygments_lexer": "ipython3",
   "version": "3.9.17"
  }
 },
 "nbformat": 4,
 "nbformat_minor": 5
}
