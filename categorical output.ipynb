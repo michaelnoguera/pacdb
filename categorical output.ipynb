{
 "cells": [
  {
   "cell_type": "code",
   "execution_count": 101,
   "id": "fcfa5f03",
   "metadata": {},
   "outputs": [],
   "source": [
    "import polars.selectors as cs\n",
    "import numpy as np\n",
    "\n",
    "import polars as pl\n",
    "\n",
    "import matplotlib.pyplot as plt"
   ]
  },
  {
   "cell_type": "code",
   "execution_count": 102,
   "id": "1288945e",
   "metadata": {},
   "outputs": [],
   "source": [
    "def hist_of_numerical_values(df: pl.DataFrame):\n",
    "    \"\"\"\n",
    "    Generates histograms for all numerical columns in a Polars DataFrame.\n",
    "\n",
    "    Args:\n",
    "        df: The Polars DataFrame.\n",
    "\n",
    "    Returns:\n",
    "        A dictionary where keys are column names and values are the histogram data.\n",
    "    \"\"\"\n",
    "    histograms = {}\n",
    "    for col_name in df.columns:\n",
    "        if df[col_name].dtype in [pl.Int8, pl.Int16, pl.Int32, pl.Int64, pl.UInt8, pl.UInt16, pl.UInt32, pl.UInt64, pl.Float32, pl.Float64]:\n",
    "            hist_data = df[col_name].hist()\n",
    "            histograms[col_name] = hist_data\n",
    "    return histograms"
   ]
  },
  {
   "cell_type": "code",
   "execution_count": 103,
   "id": "f25d4a28",
   "metadata": {},
   "outputs": [],
   "source": [
    "index_cols = {\n",
    "    20: []\n",
    "}\n",
    "scale_required = set([4, 5, 6, 7, 9, 12, 13, 17, 19, 21, 22])\n",
    "# not 8, 14\n",
    "# skip 3, skip 20\n",
    "queries_to_run = [20]"
   ]
  },
  {
   "cell_type": "code",
   "execution_count": 105,
   "id": "32b8ac1c",
   "metadata": {},
   "outputs": [],
   "source": [
    "query_ind = 20\n",
    "null_info = {}\n",
    "orig = pl.read_csv(f'unnoised/q{query_ind}.csv')\n",
    "noised = pl.read_json(f'outputs/ap-duckdb-q{query_ind}-customer-0.25-step3/output.json')\n",
    "orig = orig.with_row_index(name=\"rank\")\n",
    "noised = noised.with_row_index(name=\"rank\")\n",
    "merged_df = orig.join(noised, suffix='_noised',  on=\"rank\")"
   ]
  },
  {
   "cell_type": "code",
   "execution_count": 106,
   "id": "a5beed2d",
   "metadata": {},
   "outputs": [
    {
     "data": {
      "text/plain": [
       "[None]"
      ]
     },
     "execution_count": 106,
     "metadata": {},
     "output_type": "execute_result"
    }
   ],
   "source": [
    "merged_df[7]['s_name_noised'].to_list()[0]"
   ]
  },
  {
   "cell_type": "code",
   "execution_count": 107,
   "id": "2500afd6",
   "metadata": {},
   "outputs": [],
   "source": [
    "full_df = pl.DataFrame()\n",
    "for mi in [1/128, 1/64, 1/32, 1/16, 1/8, 1/4, 1/2, 1.0, 2.0, 4.0]:\n",
    "    orig = pl.read_csv(f'unnoised/q{query_ind}.csv')\n",
    "\n",
    "    noised = pl.read_json(f'outputs/ap-duckdb-q{query_ind}-customer-{mi}-step3/output.json')\n",
    "    orig = orig.with_row_index(name=\"rank\")\n",
    "    noised = noised.with_row_index(name=\"rank\")\n",
    "    merged_df = orig.join(noised, suffix='_noised',  on=\"rank\")\n",
    "    suffix1 = ''\n",
    "    suffix2 = '_noised'\n",
    "    cols_with_suffixes = [col for col in merged_df.columns if suffix1 in col or suffix2 in col]\n",
    "    base_names = set([col.replace(suffix1, '').replace(suffix2, '') for col in cols_with_suffixes])\n",
    "    for base_name in base_names:\n",
    "        nulls_exist = False\n",
    "        null_inds, null_vals = [], []\n",
    "\n",
    "        orig = base_name + suffix1\n",
    "        noised = base_name + suffix2\n",
    "        if orig in merged_df.columns and noised in merged_df.columns:\n",
    "            rel_errors = []\n",
    "            for ind in range(len(merged_df[orig])):\n",
    "                releases = merged_df[noised][ind].to_list()\n",
    "                filtered_releases = [x for x in releases if x is not None]\n",
    "                if len(filtered_releases) == 0:\n",
    "                    rel_errors.append(None)\n",
    "                    continue\n",
    "                actual = merged_df[orig][ind]\n",
    "                pct_agreement = 100*releases.count(actual) / len(releases)\n",
    "                rel_errors.append(pct_agreement)\n",
    "            merged_df = merged_df.with_columns(pl.Series('pct_agreement_' + base_name, rel_errors))\n",
    "        merged_df = merged_df.with_columns(pl.Series('mi', [mi]*len(rel_errors)))\n",
    "    full_df = pl.concat([full_df, merged_df])\n",
    "#             num_outputs = len(list(merged_df[noised]))\n",
    "#             for ind in range(num_outputs):\n",
    "#                 full_list = [x for x in list(merged_df[noised][ind]) if x is not None]\n",
    "#                 if len(full_list) < 100:\n",
    "#                     nulls_exist = True\n",
    "#                     null_inds.append(ind)\n",
    "#                     null_vals.append(100-len(full_list))\n",
    "#                     print(query_ind, ind)\n",
    "#         null_info[base_name] = (nulls_exist, null_inds, null_vals)\n"
   ]
  },
  {
   "cell_type": "code",
   "execution_count": 108,
   "id": "ecc795c2",
   "metadata": {},
   "outputs": [],
   "source": [
    "orig = pl.read_csv(f'unnoised/q{query_ind}.csv')\n",
    "orig_key = ['s_name', 's_address']\n",
    "\n",
    "agreement = {}\n",
    "\n",
    "for key_ind, key in enumerate(['s_name_noised', 's_address_noised']):\n",
    "    ious = []\n",
    "    for mi in  [1/128, 1/64, 1/32, 1/16, 1/8, 1/4, 1/2, 1.0, 2.0, 4.0]:\n",
    "        merged_df = full_df.filter(pl.col('mi') == mi)\n",
    "        responses = {}\n",
    "\n",
    "        for rank in range(len(merged_df)):\n",
    "            rank_i_responses = merged_df[rank][key].to_list()[0]\n",
    "            for ind in range(len(rank_i_responses)):\n",
    "                if ind not in responses:\n",
    "                    responses[ind] = []\n",
    "                responses[ind].append(rank_i_responses[ind])\n",
    "\n",
    "        for ind in responses:\n",
    "            responses[ind] = {k for k in set(responses[ind]) if k is not None}\n",
    "        a = set(orig[orig_key[key_ind]].to_list())\n",
    "        iou = []\n",
    "        for t in responses:\n",
    "            intersect = len(a.intersection(responses[t]))\n",
    "            union = len(a.union(responses[t]))\n",
    "            if union > len(a):\n",
    "                print('union has more than orig data')\n",
    "            iou.append(intersect/union)\n",
    "        ious.append(100*np.average(iou))\n",
    "    agreement[orig_key[key_ind]] = ious"
   ]
  },
  {
   "cell_type": "code",
   "execution_count": 109,
   "id": "3e473244",
   "metadata": {},
   "outputs": [
    {
     "data": {
      "text/plain": [
       "{'s_name': [29.000000000000004,\n",
       "  29.577777777777776,\n",
       "  29.63333333333334,\n",
       "  29.444444444444446,\n",
       "  28.799999999999997,\n",
       "  29.244444444444444,\n",
       "  29.144444444444446,\n",
       "  29.166666666666668,\n",
       "  29.455555555555556,\n",
       "  29.07777777777778],\n",
       " 's_address': [29.31111111111111,\n",
       "  29.022222222222222,\n",
       "  29.43333333333334,\n",
       "  29.01111111111111,\n",
       "  29.455555555555556,\n",
       "  29.166666666666664,\n",
       "  29.22222222222222,\n",
       "  29.055555555555557,\n",
       "  29.22222222222222,\n",
       "  29.400000000000006]}"
      ]
     },
     "execution_count": 109,
     "metadata": {},
     "output_type": "execute_result"
    }
   ],
   "source": [
    "agreement"
   ]
  },
  {
   "cell_type": "code",
   "execution_count": 110,
   "id": "523083de",
   "metadata": {},
   "outputs": [
    {
     "name": "stdout",
     "output_type": "stream",
     "text": [
      "Q20\n",
      "[29.000000000000004, 29.577777777777776, 29.63333333333334, 29.444444444444446, 28.799999999999997, 29.244444444444444, 29.144444444444446, 29.166666666666668, 29.455555555555556, 29.07777777777778]\n",
      "reached\n",
      "[29.31111111111111, 29.022222222222222, 29.43333333333334, 29.01111111111111, 29.455555555555556, 29.166666666666664, 29.22222222222222, 29.055555555555557, 29.22222222222222, 29.400000000000006]\n",
      "reached\n"
     ]
    },
    {
     "data": {
      "image/png": "[encoded data removed]",
      "text/plain": [
       "<Figure size 540x360 with 2 Axes>"
      ]
     },
     "metadata": {
      "needs_background": "light"
     },
     "output_type": "display_data"
    }
   ],
   "source": [
    "print(\"Q20\")\n",
    "mis = [1/128, 1/64, 1/32, 1/16, 1/8, 1/4, 1/2, 1.0, 2.0, 4.0]\n",
    "xs = [np.log2(x) for x in mis]\n",
    "fig, axes = plt.subplots(2, 1, figsize=(7.5, 5), sharex=True)\n",
    "for ind, key in enumerate(['s_name', 's_address']):\n",
    "    names = [\"Names\", \"Address\"]\n",
    "    ax = axes[ind]\n",
    "    print(agreement[key])\n",
    "    ax.plot(xs, agreement[key], 'x', markersize=10, mew=1.5,\n",
    "    )\n",
    "    print('reached')\n",
    "    ax.set_xlabel('Mutual Information (log scale)', fontsize=14)\n",
    "    ax.set_ylabel(f'IOU (%)', fontsize=14)\n",
    "    ax.set_title(f'Approximating Supplier {names[ind]}', fontsize=16)\n",
    "    ax.grid(True, alpha=0.3)\n",
    "    ax.set_ylim((20, 40))\n",
    "# plt.show()\n",
    "plt.tight_layout()\n",
    "plt.savefig('figs/q20_results.png')"
   ]
  },
  {
   "cell_type": "code",
   "execution_count": 53,
   "id": "932e9c6c",
   "metadata": {},
   "outputs": [],
   "source": []
  },
  {
   "cell_type": "code",
   "execution_count": 54,
   "id": "4882bfab",
   "metadata": {},
   "outputs": [
    {
     "data": {
      "text/plain": [
       "0.5237777777777778"
      ]
     },
     "execution_count": 54,
     "metadata": {},
     "output_type": "execute_result"
    }
   ],
   "source": [
    "np.average(iou)"
   ]
  },
  {
   "cell_type": "code",
   "execution_count": 55,
   "id": "26796671",
   "metadata": {},
   "outputs": [
    {
     "data": {
      "text/html": [
       "<div><style>\n",
       ".dataframe > thead > tr,\n",
       ".dataframe > tbody > tr {\n",
       "  text-align: right;\n",
       "  white-space: pre-wrap;\n",
       "}\n",
       "</style>\n",
       "<small>shape: (9, 8)</small><table border=\"1\" class=\"dataframe\"><thead><tr><th>rank</th><th>s_name</th><th>s_address</th><th>s_name_noised</th><th>s_address_noised</th><th>mi</th><th>pct_agreement_s_name</th><th>pct_agreement_s_address</th></tr><tr><td>u32</td><td>str</td><td>str</td><td>list[str]</td><td>list[str]</td><td>f64</td><td>f64</td><td>f64</td></tr></thead><tbody><tr><td>0</td><td>&quot;Supplier#000000157&quot;</td><td>&quot;1EmkCApL5iF&quot;</td><td>[&quot;Supplier#000000378&quot;, &quot;Supplier#000000378&quot;, … &quot;Supplier#000000378&quot;]</td><td>[&quot;1EmkCApL5iF&quot;, &quot;mLPJtpu4wOc cSFzBR&quot;, … &quot;UQR8bUA4V2HxVbw9K&quot;]</td><td>4.0</td><td>26.0</td><td>23.0</td></tr><tr><td>1</td><td>&quot;Supplier#000000197&quot;</td><td>&quot;3oYqODDUGH3XsHXmPuzYHW5NLU3,ON…</td><td>[&quot;Supplier#000000287&quot;, &quot;Supplier#000000378&quot;, … &quot;Supplier#000000197&quot;]</td><td>[&quot;mLPJtpu4wOc cSFzBR&quot;, &quot;8Lp0QWPLFXrJrX1sTWkAEdzUsh5ke&quot;, … &quot;3oYqODDUGH3XsHXmPuzYHW5NLU3,ONZl&quot;]</td><td>4.0</td><td>19.6</td><td>20.7</td></tr><tr><td>2</td><td>&quot;Supplier#000000287&quot;</td><td>&quot;UQR8bUA4V2HxVbw9K&quot;</td><td>[&quot;Supplier#000000287&quot;, &quot;Supplier#000000378&quot;, … &quot;Supplier#000000378&quot;]</td><td>[&quot;CAOGYCBtTVT7aB1p6qHbxF6VVhXaHLgTpI&quot;, &quot;UQR8bUA4V2HxVbw9K&quot;, … &quot;8Lp0QWPLFXrJrX1sTWkAEdzUsh5ke&quot;]</td><td>4.0</td><td>16.916917</td><td>15.5</td></tr><tr><td>3</td><td>&quot;Supplier#000000378&quot;</td><td>&quot;mLPJtpu4wOc cSFzBR&quot;</td><td>[&quot;Supplier#000000557&quot;, &quot;Supplier#000000555&quot;, … &quot;Supplier#000000378&quot;]</td><td>[&quot;mLPJtpu4wOc cSFzBR&quot;, &quot;JHRSOterYgt4MTNo7cupTzA,6MoNw 4&quot;, … &quot;CAOGYCBtTVT7aB1p6qHbxF6VVhXaHLgTpI&quot;]</td><td>4.0</td><td>17.272727</td><td>17.421954</td></tr><tr><td>4</td><td>&quot;Supplier#000000530&quot;</td><td>&quot;0BvoewCPg2scOEfuL93FRKqSxHmdhw…</td><td>[&quot;Supplier#000000555&quot;, &quot;Supplier#000000935&quot;, … &quot;Supplier#000000935&quot;]</td><td>[&quot;IH,v63JRgXMkVhJOJ Gxur0W&quot;, &quot;0BvoewCPg2scOEfuL93FRKqSxHmdhw1&quot;, … &quot;CAOGYCBtTVT7aB1p6qHbxF6VVhXaHLgTpI&quot;]</td><td>4.0</td><td>19.499479</td><td>21.517672</td></tr><tr><td>5</td><td>&quot;Supplier#000000555&quot;</td><td>&quot;8Lp0QWPLFXrJrX1sTWkAEdzUsh5ke&quot;</td><td>[&quot;Supplier#000000555&quot;, &quot;Supplier#000000935&quot;, … &quot;Supplier#000000935&quot;]</td><td>[&quot;CAOGYCBtTVT7aB1p6qHbxF6VVhXaHLgTpI&quot;, &quot;IH,v63JRgXMkVhJOJ Gxur0W&quot;, … &quot;IH,v63JRgXMkVhJOJ Gxur0W&quot;]</td><td>4.0</td><td>25.886525</td><td>25.752106</td></tr><tr><td>6</td><td>&quot;Supplier#000000557&quot;</td><td>&quot;IH,v63JRgXMkVhJOJ Gxur0W&quot;</td><td>[&quot;Supplier#000000557&quot;, &quot;Supplier#000000935&quot;, … &quot;Supplier#000000729&quot;]</td><td>[&quot;CAOGYCBtTVT7aB1p6qHbxF6VVhXaHLgTpI&quot;, &quot;CAOGYCBtTVT7aB1p6qHbxF6VVhXaHLgTpI&quot;, … &quot;CAOGYCBtTVT7aB1p6qHbxF6VVhXaHLgTpI&quot;]</td><td>4.0</td><td>32.258065</td><td>29.623568</td></tr><tr><td>7</td><td>&quot;Supplier#000000729&quot;</td><td>&quot;CAOGYCBtTVT7aB1p6qHbxF6VVhXaHL…</td><td>[null]</td><td>[null]</td><td>4.0</td><td>null</td><td>null</td></tr><tr><td>8</td><td>&quot;Supplier#000000935&quot;</td><td>&quot;JHRSOterYgt4MTNo7cupTzA,6MoNw …</td><td>[null]</td><td>[null]</td><td>4.0</td><td>null</td><td>null</td></tr></tbody></table></div>"
      ],
      "text/plain": [
       "shape: (9, 8)\n",
       "┌──────┬──────────────┬──────────────┬─────────────┬─────────────┬─────┬─────────────┬─────────────┐\n",
       "│ rank ┆ s_name       ┆ s_address    ┆ s_name_nois ┆ s_address_n ┆ mi  ┆ pct_agreeme ┆ pct_agreeme │\n",
       "│ ---  ┆ ---          ┆ ---          ┆ ed          ┆ oised       ┆ --- ┆ nt_s_name   ┆ nt_s_addres │\n",
       "│ u32  ┆ str          ┆ str          ┆ ---         ┆ ---         ┆ f64 ┆ ---         ┆ s           │\n",
       "│      ┆              ┆              ┆ list[str]   ┆ list[str]   ┆     ┆ f64         ┆ ---         │\n",
       "│      ┆              ┆              ┆             ┆             ┆     ┆             ┆ f64         │\n",
       "╞══════╪══════════════╪══════════════╪═════════════╪═════════════╪═════╪═════════════╪═════════════╡\n",
       "│ 0    ┆ Supplier#000 ┆ 1EmkCApL5iF  ┆ [\"Supplier# ┆ [\"1EmkCApL5 ┆ 4.0 ┆ 26.0        ┆ 23.0        │\n",
       "│      ┆ 000157       ┆              ┆ 000000378\", ┆ iF\", \"mLPJt ┆     ┆             ┆             │\n",
       "│      ┆              ┆              ┆ \"Suppli…    ┆ pu4wOc c…   ┆     ┆             ┆             │\n",
       "│ 1    ┆ Supplier#000 ┆ 3oYqODDUGH3X ┆ [\"Supplier# ┆ [\"mLPJtpu4w ┆ 4.0 ┆ 19.6        ┆ 20.7        │\n",
       "│      ┆ 000197       ┆ sHXmPuzYHW5N ┆ 000000287\", ┆ Oc cSFzBR\", ┆     ┆             ┆             │\n",
       "│      ┆              ┆ LU3,ON…      ┆ \"Suppli…    ┆ \"8Lp0QW…    ┆     ┆             ┆             │\n",
       "│ 2    ┆ Supplier#000 ┆ UQR8bUA4V2Hx ┆ [\"Supplier# ┆ [\"CAOGYCBtT ┆ 4.0 ┆ 16.916917   ┆ 15.5        │\n",
       "│      ┆ 000287       ┆ Vbw9K        ┆ 000000287\", ┆ VT7aB1p6qHb ┆     ┆             ┆             │\n",
       "│      ┆              ┆              ┆ \"Suppli…    ┆ xF6VVhXa…   ┆     ┆             ┆             │\n",
       "│ 3    ┆ Supplier#000 ┆ mLPJtpu4wOc  ┆ [\"Supplier# ┆ [\"mLPJtpu4w ┆ 4.0 ┆ 17.272727   ┆ 17.421954   │\n",
       "│      ┆ 000378       ┆ cSFzBR       ┆ 000000557\", ┆ Oc cSFzBR\", ┆     ┆             ┆             │\n",
       "│      ┆              ┆              ┆ \"Suppli…    ┆ \"JHRSOt…    ┆     ┆             ┆             │\n",
       "│ 4    ┆ Supplier#000 ┆ 0BvoewCPg2sc ┆ [\"Supplier# ┆ [\"IH,v63JRg ┆ 4.0 ┆ 19.499479   ┆ 21.517672   │\n",
       "│      ┆ 000530       ┆ OEfuL93FRKqS ┆ 000000555\", ┆ XMkVhJOJ    ┆     ┆             ┆             │\n",
       "│      ┆              ┆ xHmdhw…      ┆ \"Suppli…    ┆ Gxur0W\", \"… ┆     ┆             ┆             │\n",
       "│ 5    ┆ Supplier#000 ┆ 8Lp0QWPLFXrJ ┆ [\"Supplier# ┆ [\"CAOGYCBtT ┆ 4.0 ┆ 25.886525   ┆ 25.752106   │\n",
       "│      ┆ 000555       ┆ rX1sTWkAEdzU ┆ 000000555\", ┆ VT7aB1p6qHb ┆     ┆             ┆             │\n",
       "│      ┆              ┆ sh5ke        ┆ \"Suppli…    ┆ xF6VVhXa…   ┆     ┆             ┆             │\n",
       "│ 6    ┆ Supplier#000 ┆ IH,v63JRgXMk ┆ [\"Supplier# ┆ [\"CAOGYCBtT ┆ 4.0 ┆ 32.258065   ┆ 29.623568   │\n",
       "│      ┆ 000557       ┆ VhJOJ Gxur0W ┆ 000000557\", ┆ VT7aB1p6qHb ┆     ┆             ┆             │\n",
       "│      ┆              ┆              ┆ \"Suppli…    ┆ xF6VVhXa…   ┆     ┆             ┆             │\n",
       "│ 7    ┆ Supplier#000 ┆ CAOGYCBtTVT7 ┆ [null]      ┆ [null]      ┆ 4.0 ┆ null        ┆ null        │\n",
       "│      ┆ 000729       ┆ aB1p6qHbxF6V ┆             ┆             ┆     ┆             ┆             │\n",
       "│      ┆              ┆ VhXaHL…      ┆             ┆             ┆     ┆             ┆             │\n",
       "│ 8    ┆ Supplier#000 ┆ JHRSOterYgt4 ┆ [null]      ┆ [null]      ┆ 4.0 ┆ null        ┆ null        │\n",
       "│      ┆ 000935       ┆ MTNo7cupTzA, ┆             ┆             ┆     ┆             ┆             │\n",
       "│      ┆              ┆ 6MoNw …      ┆             ┆             ┆     ┆             ┆             │\n",
       "└──────┴──────────────┴──────────────┴─────────────┴─────────────┴─────┴─────────────┴─────────────┘"
      ]
     },
     "execution_count": 55,
     "metadata": {},
     "output_type": "execute_result"
    }
   ],
   "source": [
    "merged_df"
   ]
  },
  {
   "cell_type": "code",
   "execution_count": 65,
   "id": "53c1e915",
   "metadata": {},
   "outputs": [
    {
     "data": {
      "image/png": "[encoded data removed]",
      "text/plain": [
       "<Figure size 720x288 with 2 Axes>"
      ]
     },
     "metadata": {
      "needs_background": "light"
     },
     "output_type": "display_data"
    },
    {
     "data": {
      "image/png": "[encoded data removed]",
      "text/plain": [
       "<Figure size 360x288 with 1 Axes>"
      ]
     },
     "metadata": {
      "needs_background": "light"
     },
     "output_type": "display_data"
    },
    {
     "data": {
      "image/png": "[encoded data removed]",
      "text/plain": [
       "<Figure size 360x288 with 1 Axes>"
      ]
     },
     "metadata": {
      "needs_background": "light"
     },
     "output_type": "display_data"
    }
   ],
   "source": [
    "\n",
    "# Get columns that start with 'pct_diff'\n",
    "pct_diff_cols = [col for col in merged_df.columns if col.startswith('pct_agreement')]\n",
    "\n",
    "# Create subplots based on number of pct_diff columns\n",
    "n_cols = len(pct_diff_cols)\n",
    "fig, axes = plt.subplots(1, n_cols, figsize=(5*n_cols, 4))\n",
    "\n",
    "# Handle case where there's only one column (axes won't be a list)\n",
    "if n_cols == 1:\n",
    "    axes = [axes]\n",
    "\n",
    "# Create histogram for each column\n",
    "for i, col in enumerate(pct_diff_cols):\n",
    "    # Convert to pandas for easier plotting, or use polars plot method\n",
    "    values = merged_df[col].to_pandas()\n",
    "\n",
    "    axes[i].hist(values, bins=30, alpha=0.7, edgecolor='black')\n",
    "    axes[i].set_title(f'Histogram of {col}')\n",
    "    axes[i].set_xlabel(col)\n",
    "    axes[i].set_ylabel('Frequency')\n",
    "    axes[i].grid(True, alpha=0.3)\n",
    "\n",
    "plt.tight_layout()\n",
    "plt.savefig(f'figs/mi_1_2/q{query_ind}_{col}_hist.png', facecolor='white', bbox_inches='tight')\n",
    "\n",
    "for base in null_info:\n",
    "    (nulls_exist, null_inds, null_vals) = null_info[base]\n",
    "    if nulls_exist:\n",
    "        fig, axes = plt.subplots(1, 1, figsize=(5, 4))\n",
    "        axes = [axes]\n",
    "        axes[0].hist(null_vals, bins=30, alpha=0.7, edgecolor='black')\n",
    "        axes[0].set_title(f'Histogram of nulls for column {base}')\n",
    "        axes[0].set_xlabel('Fraction of nulls (%)')\n",
    "        axes[0].set_ylabel('Frequency')\n",
    "        axes[0].grid(True, alpha=0.3)\n",
    "        plt.savefig(f'figs/mi_1_2/q{query_ind}_{base}_nulls.png', facecolor='white', bbox_inches='tight')"
   ]
  },
  {
   "cell_type": "code",
   "execution_count": null,
   "id": "f4e03b80",
   "metadata": {},
   "outputs": [],
   "source": []
  }
 ],
 "metadata": {
  "kernelspec": {
   "display_name": "Python 3 (ipykernel)",
   "language": "python",
   "name": "python3"
  },
  "language_info": {
   "codemirror_mode": {
    "name": "ipython",
    "version": 3
   },
   "file_extension": ".py",
   "mimetype": "text/x-python",
   "name": "python",
   "nbconvert_exporter": "python",
   "pygments_lexer": "ipython3",
   "version": "3.9.17"
  }
 },
 "nbformat": 4,
 "nbformat_minor": 5
}
