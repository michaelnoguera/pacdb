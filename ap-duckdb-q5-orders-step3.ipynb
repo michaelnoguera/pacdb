{
 "cells": [
  {
   "cell_type": "code",
   "execution_count": 1,
   "id": "eba650e4",
   "metadata": {
    "execution": {
     "iopub.execute_input": "2025-04-25T05:59:08.551482Z",
     "iopub.status.busy": "2025-04-25T05:59:08.551335Z",
     "iopub.status.idle": "2025-04-25T05:59:08.589467Z",
     "shell.execute_reply": "2025-04-25T05:59:08.589193Z"
    },
    "papermill": {
     "duration": 0.041076,
     "end_time": "2025-04-25T05:59:08.590349",
     "exception": false,
     "start_time": "2025-04-25T05:59:08.549273",
     "status": "completed"
    },
    "tags": []
   },
   "outputs": [],
   "source": [
    "#!/usr/bin/env python\n",
    "# coding: utf-8\n",
    "\n",
    "import json\n",
    "import os\n",
    "import pickle\n",
    "import shutil\n",
    "import zipfile\n",
    "\n",
    "import parse\n",
    "import polars as pl"
   ]
  },
  {
   "cell_type": "code",
   "execution_count": 2,
   "id": "5bbee7d0",
   "metadata": {
    "execution": {
     "iopub.execute_input": "2025-04-25T05:59:08.593456Z",
     "iopub.status.busy": "2025-04-25T05:59:08.593338Z",
     "iopub.status.idle": "2025-04-25T05:59:08.595201Z",
     "shell.execute_reply": "2025-04-25T05:59:08.594989Z"
    },
    "papermill": {
     "duration": 0.003926,
     "end_time": "2025-04-25T05:59:08.595827",
     "exception": false,
     "start_time": "2025-04-25T05:59:08.591901",
     "status": "completed"
    },
    "tags": [
     "parameters"
    ]
   },
   "outputs": [],
   "source": [
    "#EXPERIMENT = \"asdf\"\n",
    "#INPUT_ZIP = f\"./outputs/{EXPERIMENT}-step2.zip\"\n",
    "#OUTPUT_DIR = f\"./outputs/{EXPERIMENT}-step3\"\n",
    "#INDEX_COLS = pickle.load(open(f'./outputs/{EXPERIMENT}-step1/INDEX_COLS.pkl', 'rb'))\n",
    "#OUTPUT_COLS = pickle.load(open(f'./outputs/{EXPERIMENT}-step1/OUTPUT_COLS.pkl', 'rb'))\n",
    "#templatedf_path = f\"./outputs/{EXPERIMENT}-step2/templatedf.csv\"\n",
    "EXPERIMENT = \"\"\n",
    "INPUT_ZIP = \"\"\n",
    "OUTPUT_DIR = \"\"\n",
    "INDEX_COLS = []\n",
    "OUTPUT_COLS = []\n",
    "templatedf_path = \"\""
   ]
  },
  {
   "cell_type": "code",
   "execution_count": 3,
   "id": "e51d1b56",
   "metadata": {
    "execution": {
     "iopub.execute_input": "2025-04-25T05:59:08.598298Z",
     "iopub.status.busy": "2025-04-25T05:59:08.598203Z",
     "iopub.status.idle": "2025-04-25T05:59:08.599734Z",
     "shell.execute_reply": "2025-04-25T05:59:08.599518Z"
    },
    "papermill": {
     "duration": 0.003391,
     "end_time": "2025-04-25T05:59:08.600308",
     "exception": false,
     "start_time": "2025-04-25T05:59:08.596917",
     "status": "completed"
    },
    "tags": [
     "injected-parameters"
    ]
   },
   "outputs": [],
   "source": [
    "# Parameters\n",
    "EXPERIMENT = \"ap-duckdb-q5-orders\"\n",
    "OUTPUT_DIR = \"./outputs/ap-duckdb-q5-orders-step3\"\n",
    "INPUT_ZIP = \"./outputs/ap-duckdb-q5-orders-step2.zip\"\n",
    "INDEX_COLS = [\"n_name\"]\n",
    "OUTPUT_COLS = [\"revenue\"]\n",
    "templatedf_path = \"./outputs/ap-duckdb-q5-orders-step1/template.pkl\"\n"
   ]
  },
  {
   "cell_type": "code",
   "execution_count": 4,
   "id": "7eeff702",
   "metadata": {
    "execution": {
     "iopub.execute_input": "2025-04-25T05:59:08.602658Z",
     "iopub.status.busy": "2025-04-25T05:59:08.602573Z",
     "iopub.status.idle": "2025-04-25T05:59:08.604049Z",
     "shell.execute_reply": "2025-04-25T05:59:08.603799Z"
    },
    "papermill": {
     "duration": 0.003379,
     "end_time": "2025-04-25T05:59:08.604731",
     "exception": false,
     "start_time": "2025-04-25T05:59:08.601352",
     "status": "completed"
    },
    "tags": []
   },
   "outputs": [],
   "source": [
    "if not os.path.exists(OUTPUT_DIR):\n",
    "    os.makedirs(OUTPUT_DIR)"
   ]
  },
  {
   "cell_type": "code",
   "execution_count": 5,
   "id": "257dec28",
   "metadata": {
    "execution": {
     "iopub.execute_input": "2025-04-25T05:59:08.607624Z",
     "iopub.status.busy": "2025-04-25T05:59:08.607499Z",
     "iopub.status.idle": "2025-04-25T05:59:08.609582Z",
     "shell.execute_reply": "2025-04-25T05:59:08.609229Z"
    },
    "papermill": {
     "duration": 0.004273,
     "end_time": "2025-04-25T05:59:08.610383",
     "exception": false,
     "start_time": "2025-04-25T05:59:08.606110",
     "status": "completed"
    },
    "tags": []
   },
   "outputs": [],
   "source": [
    "# Import saved variables from the first step\n",
    "templatedf: pl.DataFrame = pickle.load(open(templatedf_path, 'rb'))"
   ]
  },
  {
   "cell_type": "code",
   "execution_count": 6,
   "id": "ab3a80fe",
   "metadata": {
    "execution": {
     "iopub.execute_input": "2025-04-25T05:59:08.613314Z",
     "iopub.status.busy": "2025-04-25T05:59:08.613185Z",
     "iopub.status.idle": "2025-04-25T05:59:08.617710Z",
     "shell.execute_reply": "2025-04-25T05:59:08.617467Z"
    },
    "papermill": {
     "duration": 0.00671,
     "end_time": "2025-04-25T05:59:08.618383",
     "exception": false,
     "start_time": "2025-04-25T05:59:08.611673",
     "status": "completed"
    },
    "tags": []
   },
   "outputs": [
    {
     "data": {
      "text/plain": [
       "dict_keys([0, 1, 2, 3, 4])"
      ]
     },
     "execution_count": 6,
     "metadata": {},
     "output_type": "execute_result"
    }
   ],
   "source": [
    "# load the json input files from step 2\n",
    "# {'col': column name as string,\n",
    "#  'row': group-by column values as dict (effectively a row id),\n",
    "#  'values': [ 1000x values ] }\n",
    "alldata = {}\n",
    "\n",
    "pattern = parse.compile(\"{n}.json\")\n",
    "\n",
    "with zipfile.ZipFile(INPUT_ZIP, 'r') as zf:\n",
    "    for filename in zf.namelist():\n",
    "        if filename.endswith('.json'):\n",
    "            with zf.open(filename) as f:\n",
    "                filenumber = int(pattern.parse(filename).named['n'])\n",
    "                data = json.load(f)\n",
    "                d: dict = data\n",
    "                alldata[filenumber] = d\n",
    "alldata.keys()"
   ]
  },
  {
   "cell_type": "code",
   "execution_count": 7,
   "id": "fa47deff",
   "metadata": {
    "execution": {
     "iopub.execute_input": "2025-04-25T05:59:08.621179Z",
     "iopub.status.busy": "2025-04-25T05:59:08.621080Z",
     "iopub.status.idle": "2025-04-25T05:59:08.623786Z",
     "shell.execute_reply": "2025-04-25T05:59:08.623565Z"
    },
    "papermill": {
     "duration": 0.00478,
     "end_time": "2025-04-25T05:59:08.624440",
     "exception": false,
     "start_time": "2025-04-25T05:59:08.619660",
     "status": "completed"
    },
    "tags": []
   },
   "outputs": [],
   "source": [
    "# Make sure the data types of the row fields are correct\n",
    "for i in range(len(alldata)):\n",
    "    alldata[i]['row'] = pl.DataFrame(alldata[i]['row']).cast(templatedf.select(INDEX_COLS).schema).to_dicts()[0]"
   ]
  },
  {
   "cell_type": "code",
   "execution_count": 8,
   "id": "1d086fc3",
   "metadata": {
    "execution": {
     "iopub.execute_input": "2025-04-25T05:59:08.627422Z",
     "iopub.status.busy": "2025-04-25T05:59:08.627291Z",
     "iopub.status.idle": "2025-04-25T05:59:08.629781Z",
     "shell.execute_reply": "2025-04-25T05:59:08.629562Z"
    },
    "papermill": {
     "duration": 0.004687,
     "end_time": "2025-04-25T05:59:08.630375",
     "exception": false,
     "start_time": "2025-04-25T05:59:08.625688",
     "status": "completed"
    },
    "tags": []
   },
   "outputs": [
    {
     "data": {
      "text/html": [
       "<div><style>\n",
       ".dataframe > thead > tr,\n",
       ".dataframe > tbody > tr {\n",
       "  text-align: right;\n",
       "  white-space: pre-wrap;\n",
       "}\n",
       "</style>\n",
       "<small>shape: (5, 1)</small><table border=\"1\" class=\"dataframe\"><thead><tr><th>n_name</th></tr><tr><td>str</td></tr></thead><tbody><tr><td>&quot;CHINA&quot;</td></tr><tr><td>&quot;INDONESIA&quot;</td></tr><tr><td>&quot;INDIA&quot;</td></tr><tr><td>&quot;JAPAN&quot;</td></tr><tr><td>&quot;VIETNAM&quot;</td></tr></tbody></table></div>"
      ],
      "text/plain": [
       "shape: (5, 1)\n",
       "┌───────────┐\n",
       "│ n_name    │\n",
       "│ ---       │\n",
       "│ str       │\n",
       "╞═══════════╡\n",
       "│ CHINA     │\n",
       "│ INDONESIA │\n",
       "│ INDIA     │\n",
       "│ JAPAN     │\n",
       "│ VIETNAM   │\n",
       "└───────────┘"
      ]
     },
     "execution_count": 8,
     "metadata": {},
     "output_type": "execute_result"
    }
   ],
   "source": [
    "allgroups = templatedf.select(INDEX_COLS)\n",
    "allgroups"
   ]
  },
  {
   "cell_type": "code",
   "execution_count": 9,
   "id": "0b249a7b",
   "metadata": {
    "execution": {
     "iopub.execute_input": "2025-04-25T05:59:08.633120Z",
     "iopub.status.busy": "2025-04-25T05:59:08.633030Z",
     "iopub.status.idle": "2025-04-25T05:59:08.636850Z",
     "shell.execute_reply": "2025-04-25T05:59:08.636639Z"
    },
    "papermill": {
     "duration": 0.005823,
     "end_time": "2025-04-25T05:59:08.637457",
     "exception": false,
     "start_time": "2025-04-25T05:59:08.631634",
     "status": "completed"
    },
    "tags": []
   },
   "outputs": [
    {
     "name": "stdout",
     "output_type": "stream",
     "text": [
      "{'n_name': 'CHINA'}\n",
      "{'n_name': 'INDONESIA'}\n",
      "{'n_name': 'INDIA'}\n",
      "{'n_name': 'JAPAN'}\n",
      "{'n_name': 'VIETNAM'}\n"
     ]
    }
   ],
   "source": [
    "# Cursed data shuffling to reidentify what row goes where, what column goes where, and what the labels should be on everything\n",
    "colidxes = {}\n",
    "for col in OUTPUT_COLS:\n",
    "    colidxes[col] = templatedf.get_column_index(col)\n",
    "rowidxes = {}\n",
    "for row in templatedf.select(INDEX_COLS).iter_rows(named=True):\n",
    "    rowidxes[tuple(row.values())] = allgroups.with_row_index().filter(\n",
    "        pl.col(k).eq(v)\n",
    "        for k, v in row.items()\n",
    "    ).select(\"index\").item()\n",
    "    print(row)\n",
    "\n",
    "allinfo = [\n",
    "    {\"colname\": adentry['col'],\n",
    "    \"rowid\": tuple(adentry['row'].values()),\n",
    "    \"value\": adentry['value'][0],\n",
    "    \"colidx\": colidxes[adentry['col']],\n",
    "    \"rowidx\": rowidxes[tuple(adentry['row'].values())]}\n",
    "    for adidx, adentry in alldata.items()\n",
    "]\n",
    "\n",
    "colnames = {}\n",
    "rownames = {}\n",
    "for entry in allinfo:\n",
    "    colnames[entry['colidx']] = entry['colname']\n",
    "    rownames[entry['rowidx']] = entry['rowid']"
   ]
  },
  {
   "cell_type": "markdown",
   "id": "61e58b37",
   "metadata": {
    "papermill": {
     "duration": 0.001099,
     "end_time": "2025-04-25T05:59:08.639836",
     "exception": false,
     "start_time": "2025-04-25T05:59:08.638737",
     "status": "completed"
    },
    "tags": []
   },
   "source": [
    "Naive reconstruction"
   ]
  },
  {
   "cell_type": "code",
   "execution_count": 10,
   "id": "c6da70b0",
   "metadata": {
    "execution": {
     "iopub.execute_input": "2025-04-25T05:59:08.642773Z",
     "iopub.status.busy": "2025-04-25T05:59:08.642662Z",
     "iopub.status.idle": "2025-04-25T05:59:08.677982Z",
     "shell.execute_reply": "2025-04-25T05:59:08.677242Z"
    },
    "papermill": {
     "duration": 0.038722,
     "end_time": "2025-04-25T05:59:08.679757",
     "exception": false,
     "start_time": "2025-04-25T05:59:08.641035",
     "status": "completed"
    },
    "tags": []
   },
   "outputs": [
    {
     "name": "stdout",
     "output_type": "stream",
     "text": [
      "['n_name', 'revenue']\n",
      "['CHINA', 4186353.0438983594]\n",
      "['INDONESIA', 3464572.076754753]\n",
      "['INDIA', 4107008.5074419184]\n",
      "['JAPAN', 3798319.318815589]\n",
      "['VIETNAM', 2026232.4805759757]\n"
     ]
    }
   ],
   "source": [
    "# Naive reconstruction based on the indices of the keys in the templatedf\n",
    "allcols = INDEX_COLS + OUTPUT_COLS\n",
    "allrows = allgroups.select(INDEX_COLS).to_numpy().tolist()\n",
    "\n",
    "allinfo2 = {\n",
    "    (rowidxes[tuple(adentry['row'].values())], colidxes[adentry['col']]): adentry['value'][0]\n",
    "    for adidx, adentry in alldata.items()\n",
    "}\n",
    "\n",
    "df2 = []\n",
    "print(allcols)\n",
    "for row in allrows:\n",
    "    print(row + [allinfo2.get((rowidxes[tuple(row)], colidxes[col]), None) for col in OUTPUT_COLS])\n",
    "    df2.append(row + [allinfo2.get((rowidxes[tuple(row)], colidxes[col]), None) for col in OUTPUT_COLS])"
   ]
  },
  {
   "cell_type": "code",
   "execution_count": 11,
   "id": "396c2efa",
   "metadata": {
    "execution": {
     "iopub.execute_input": "2025-04-25T05:59:08.690846Z",
     "iopub.status.busy": "2025-04-25T05:59:08.690554Z",
     "iopub.status.idle": "2025-04-25T05:59:08.699024Z",
     "shell.execute_reply": "2025-04-25T05:59:08.698146Z"
    },
    "papermill": {
     "duration": 0.017381,
     "end_time": "2025-04-25T05:59:08.701189",
     "exception": false,
     "start_time": "2025-04-25T05:59:08.683808",
     "status": "completed"
    },
    "tags": []
   },
   "outputs": [
    {
     "data": {
      "text/html": [
       "<div><style>\n",
       ".dataframe > thead > tr,\n",
       ".dataframe > tbody > tr {\n",
       "  text-align: right;\n",
       "  white-space: pre-wrap;\n",
       "}\n",
       "</style>\n",
       "<small>shape: (5, 2)</small><table border=\"1\" class=\"dataframe\"><thead><tr><th>n_name</th><th>revenue</th></tr><tr><td>str</td><td>decimal[38,4]</td></tr></thead><tbody><tr><td>&quot;CHINA&quot;</td><td>4186353.0438</td></tr><tr><td>&quot;INDONESIA&quot;</td><td>3464572.0767</td></tr><tr><td>&quot;INDIA&quot;</td><td>4107008.5074</td></tr><tr><td>&quot;JAPAN&quot;</td><td>3798319.3188</td></tr><tr><td>&quot;VIETNAM&quot;</td><td>2026232.4805</td></tr></tbody></table></div>"
      ],
      "text/plain": [
       "shape: (5, 2)\n",
       "┌───────────┬───────────────┐\n",
       "│ n_name    ┆ revenue       │\n",
       "│ ---       ┆ ---           │\n",
       "│ str       ┆ decimal[38,4] │\n",
       "╞═══════════╪═══════════════╡\n",
       "│ CHINA     ┆ 4186353.0438  │\n",
       "│ INDONESIA ┆ 3464572.0767  │\n",
       "│ INDIA     ┆ 4107008.5074  │\n",
       "│ JAPAN     ┆ 3798319.3188  │\n",
       "│ VIETNAM   ┆ 2026232.4805  │\n",
       "└───────────┴───────────────┘"
      ]
     },
     "execution_count": 11,
     "metadata": {},
     "output_type": "execute_result"
    }
   ],
   "source": [
    "pl.DataFrame(df2, schema=allcols, orient='row').cast(templatedf.schema)"
   ]
  },
  {
   "cell_type": "code",
   "execution_count": 12,
   "id": "22658efb",
   "metadata": {
    "execution": {
     "iopub.execute_input": "2025-04-25T05:59:08.718837Z",
     "iopub.status.busy": "2025-04-25T05:59:08.716427Z",
     "iopub.status.idle": "2025-04-25T05:59:08.741075Z",
     "shell.execute_reply": "2025-04-25T05:59:08.739872Z"
    },
    "papermill": {
     "duration": 0.038241,
     "end_time": "2025-04-25T05:59:08.743964",
     "exception": false,
     "start_time": "2025-04-25T05:59:08.705723",
     "status": "completed"
    },
    "tags": []
   },
   "outputs": [],
   "source": [
    "pl.DataFrame(df2, schema=allcols, orient='row').cast(templatedf.schema).write_csv(os.path.join(OUTPUT_DIR, 'output.csv'))"
   ]
  },
  {
   "cell_type": "code",
   "execution_count": 13,
   "id": "fbf29824",
   "metadata": {
    "execution": {
     "iopub.execute_input": "2025-04-25T05:59:08.755918Z",
     "iopub.status.busy": "2025-04-25T05:59:08.755511Z",
     "iopub.status.idle": "2025-04-25T05:59:08.764432Z",
     "shell.execute_reply": "2025-04-25T05:59:08.763783Z"
    },
    "papermill": {
     "duration": 0.020249,
     "end_time": "2025-04-25T05:59:08.768616",
     "exception": false,
     "start_time": "2025-04-25T05:59:08.748367",
     "status": "completed"
    },
    "tags": []
   },
   "outputs": [
    {
     "data": {
      "text/plain": [
       "'/Users/michael/projects/dpdb/pacdb/outputs/ap-duckdb-q5-orders-step3.zip'"
      ]
     },
     "execution_count": 13,
     "metadata": {},
     "output_type": "execute_result"
    }
   ],
   "source": [
    "# zip the OUTPUT_DIR\n",
    "shutil.make_archive(OUTPUT_DIR, 'zip', OUTPUT_DIR)"
   ]
  }
 ],
 "metadata": {
  "kernelspec": {
   "display_name": ".venv",
   "language": "python",
   "name": "python3"
  },
  "language_info": {
   "codemirror_mode": {
    "name": "ipython",
    "version": 3
   },
   "file_extension": ".py",
   "mimetype": "text/x-python",
   "name": "python",
   "nbconvert_exporter": "python",
   "pygments_lexer": "ipython3",
   "version": "3.11.7"
  },
  "papermill": {
   "default_parameters": {},
   "duration": 1.170065,
   "end_time": "2025-04-25T05:59:09.057486",
   "environment_variables": {},
   "exception": null,
   "input_path": "autopac-duckdb-step3.ipynb",
   "output_path": "./ap-duckdb-q5-orders-step3.ipynb",
   "parameters": {
    "EXPERIMENT": "ap-duckdb-q5-orders",
    "INDEX_COLS": [
     "n_name"
    ],
    "INPUT_ZIP": "./outputs/ap-duckdb-q5-orders-step2.zip",
    "OUTPUT_COLS": [
     "revenue"
    ],
    "OUTPUT_DIR": "./outputs/ap-duckdb-q5-orders-step3",
    "templatedf_path": "./outputs/ap-duckdb-q5-orders-step1/template.pkl"
   },
   "start_time": "2025-04-25T05:59:07.887421",
   "version": "2.6.0"
  }
 },
 "nbformat": 4,
 "nbformat_minor": 5
}