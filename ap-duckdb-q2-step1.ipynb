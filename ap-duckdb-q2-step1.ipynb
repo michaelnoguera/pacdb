{
 "cells": [
  {
   "cell_type": "markdown",
   "id": "6ab66727",
   "metadata": {
    "papermill": {
     "duration": 0.005352,
     "end_time": "2025-04-25T04:58:03.751877",
     "exception": false,
     "start_time": "2025-04-25T04:58:03.746525",
     "status": "completed"
    },
    "tags": []
   },
   "source": [
    "## DuckDB Notebook\n",
    "\n",
    "This notebook generates a bunch of raw outputs, without applying PAC, to be consumed by a second stage."
   ]
  },
  {
   "cell_type": "markdown",
   "id": "a0ca37c0",
   "metadata": {
    "papermill": {
     "duration": 0.001782,
     "end_time": "2025-04-25T04:58:03.756141",
     "exception": false,
     "start_time": "2025-04-25T04:58:03.754359",
     "status": "completed"
    },
    "tags": []
   },
   "source": [
    "```\n",
    " group by              output cols                        \n",
    " key cols ┌────────┬────────┬────────┬────────┐           \n",
    "        │ │   A    │   B    │   C    │   D    │           \n",
    "      ┌─▼─┼────────┼────────┼────────┼────────┤           \n",
    "      │ 1 │   2    │        │        │        │           \n",
    "      ├───┼───|────┼────────┼────────┼────────┤           \n",
    "      │ 2 │   │    │        │        │        │           \n",
    "      ├───┼───┼────┼────────┼────────┼────────┤           \n",
    "      │ 3 │   │    │        │        │        │           \n",
    "      └───┴───┼────┴────────┴────────┴────────┘           \n",
    "              ▼                 A_1.json                  \n",
    "       Sample 0:   A1=2        ┌─────────────────────────┐\n",
    "       Sample 1:   A1=4  ───▶  │{                        │\n",
    "             ...               │    col: A               │\n",
    "       Sample 999: A1=3        │    row: 1               │\n",
    "                               │    value: [2, 4, ... 3] │\n",
    "                               │}                        │\n",
    "                               └─────────────────────────┘\n",
    "```"
   ]
  },
  {
   "cell_type": "code",
   "execution_count": 1,
   "id": "51efff96",
   "metadata": {
    "execution": {
     "iopub.execute_input": "2025-04-25T04:58:03.759886Z",
     "iopub.status.busy": "2025-04-25T04:58:03.759705Z",
     "iopub.status.idle": "2025-04-25T04:58:03.840217Z",
     "shell.execute_reply": "2025-04-25T04:58:03.839836Z"
    },
    "papermill": {
     "duration": 0.083351,
     "end_time": "2025-04-25T04:58:03.841152",
     "exception": false,
     "start_time": "2025-04-25T04:58:03.757801",
     "status": "completed"
    },
    "tags": []
   },
   "outputs": [],
   "source": [
    "#!/usr/bin/env python\n",
    "# coding: utf-8\n",
    "\n",
    "import os\n",
    "import pickle\n",
    "import shutil\n",
    "\n",
    "import duckdb\n",
    "import polars as pl"
   ]
  },
  {
   "cell_type": "code",
   "execution_count": 2,
   "id": "04680b3f",
   "metadata": {
    "execution": {
     "iopub.execute_input": "2025-04-25T04:58:03.844714Z",
     "iopub.status.busy": "2025-04-25T04:58:03.844581Z",
     "iopub.status.idle": "2025-04-25T04:58:03.847847Z",
     "shell.execute_reply": "2025-04-25T04:58:03.847347Z"
    },
    "papermill": {
     "duration": 0.005983,
     "end_time": "2025-04-25T04:58:03.848721",
     "exception": false,
     "start_time": "2025-04-25T04:58:03.842738",
     "status": "completed"
    },
    "tags": [
     "parameters"
    ]
   },
   "outputs": [],
   "source": [
    "EXPERIMENT = \"pac-duckdb-q1\"\n",
    "OUTPUT_DIR = f\"./outputs/{EXPERIMENT}-step1\"\n",
    "SAMPLES = 1024\n",
    "\n",
    "SAMPLE_STEP = f\"\"\"\n",
    "DROP TABLE IF EXISTS random_samples;\n",
    "\n",
    "CREATE TABLE random_samples AS\n",
    "WITH sample_numbers AS MATERIALIZED (\n",
    "    SELECT range AS sample_id FROM range({SAMPLES//2})\n",
    "), random_values AS MATERIALIZED (\n",
    "    SELECT \n",
    "        sample_numbers.sample_id,\n",
    "        customer.rowid AS row_id,\n",
    "        (RANDOM() > 0.5)::BOOLEAN AS random_binary\n",
    "    FROM sample_numbers\n",
    "    JOIN customer ON TRUE  -- Cross join to duplicate rows for each sample\n",
    ")\n",
    "SELECT\n",
    "    sample_id,\n",
    "    row_id,\n",
    "    random_binary\n",
    "FROM random_values\n",
    "UNION ALL\n",
    "SELECT -- select the complementary samples too\n",
    "    ({SAMPLES//2}) + sample_id,\n",
    "    row_id,\n",
    "    NOT random_binary  -- Inverse the random_binary to get the complementary sample\n",
    "FROM random_values\n",
    "ORDER BY sample_id, row_id;\n",
    "\"\"\"\n",
    "\n",
    "PREPARE_STEP = \"\"\"\n",
    "DEALLOCATE PREPARE run_query;\n",
    "\n",
    "PREPARE run_query AS \n",
    "SELECT\n",
    "    l_returnflag,\n",
    "    l_linestatus,\n",
    "    2*sum(l_quantity) AS sum_qty,\n",
    "    2*sum(l_extendedprice) AS sum_base_price,\n",
    "    2*sum(l_extendedprice * (1 - l_discount)) AS sum_disc_price,\n",
    "    2*sum(l_extendedprice * (1 - l_discount) * (1 + l_tax)) AS sum_charge,\n",
    "    avg(l_quantity) AS avg_qty,\n",
    "    avg(l_extendedprice) AS avg_price,\n",
    "    avg(l_discount) AS avg_disc,\n",
    "    2*count(*) AS count_order\n",
    "FROM\n",
    "    lineitem\n",
    "JOIN orders ON lineitem.l_orderkey = orders.o_orderkey\n",
    "JOIN customer ON orders.o_custkey = customer.c_custkey\n",
    "JOIN random_samples AS rs\n",
    "    ON rs.row_id = customer.rowid\n",
    "WHERE\n",
    "    l_shipdate <= CAST('1998-09-02' AS date)\n",
    "    AND rs.random_binary = TRUE\n",
    "    AND rs.sample_id = $sample\n",
    "GROUP BY\n",
    "    l_returnflag,\n",
    "    l_linestatus\n",
    "ORDER BY\n",
    "    l_returnflag,\n",
    "    l_linestatus;\n",
    "\"\"\"\n",
    "\n",
    "INDEX_COLS = ['l_returnflag', 'l_linestatus']\n",
    "OUTPUT_COLS = ['sum_qty', 'sum_base_price', 'sum_disc_price', 'sum_charge', 'avg_qty', 'avg_price', 'avg_disc', 'count_order']"
   ]
  },
  {
   "cell_type": "code",
   "execution_count": 3,
   "id": "cc54260c",
   "metadata": {
    "execution": {
     "iopub.execute_input": "2025-04-25T04:58:03.852095Z",
     "iopub.status.busy": "2025-04-25T04:58:03.851954Z",
     "iopub.status.idle": "2025-04-25T04:58:03.854420Z",
     "shell.execute_reply": "2025-04-25T04:58:03.854113Z"
    },
    "papermill": {
     "duration": 0.005,
     "end_time": "2025-04-25T04:58:03.855225",
     "exception": false,
     "start_time": "2025-04-25T04:58:03.850225",
     "status": "completed"
    },
    "tags": [
     "injected-parameters"
    ]
   },
   "outputs": [],
   "source": [
    "# Parameters\n",
    "EXPERIMENT = \"ap-duckdb-q2\"\n",
    "OUTPUT_DIR = \"./outputs/ap-duckdb-q2-step1\"\n",
    "SAMPLES = 1024\n",
    "SAMPLE_STEP = \"DROP TABLE IF EXISTS random_samples;\\n\\nCREATE TABLE random_samples AS\\nWITH sample_numbers AS MATERIALIZED (\\n    SELECT range AS sample_id FROM range(1024 // 2)\\n), random_values AS MATERIALIZED (\\n    SELECT \\n        sample_numbers.sample_id,\\n        partsupp.rowid AS row_id,\\n        (RANDOM() > 0.5)::BOOLEAN AS random_binary\\n    FROM sample_numbers\\n    JOIN partsupp ON TRUE  -- Cross join to duplicate rows for each sample\\n)\\nSELECT\\n    sample_id,\\n    row_id,\\n    random_binary\\nFROM random_values\\nUNION ALL\\nSELECT -- select the complementary samples too\\n    (1024 // 2) + sample_id,\\n    row_id,\\n    NOT random_binary  -- Inverse the random_binary to get the complementary sample\\nFROM random_values\\nORDER BY sample_id, row_id;\"\n",
    "PREPARE_STEP = \"DEALLOCATE PREPARE run_query;\\n\\nPREPARE run_query AS \\nSELECT\\n    s_name,\\n    p_partkey,\\n    n_name,\\n    s_acctbal,\\n    min(ps_supplycost)\\nFROM\\n    part,\\n    supplier,\\n    partsupp,\\n    nation,\\n    region\\nWHERE\\n    p_partkey = ps_partkey\\n    AND s_suppkey = ps_suppkey\\n    AND p_size = 15\\n    AND p_type LIKE '%BRASS'\\n    AND s_nationkey = n_nationkey\\n    AND n_regionkey = r_regionkey\\n    AND r_name = 'EUROPE'\\n    AND ps_supplycost = (\\n        SELECT\\n            min(ps_supplycost)\\n        FROM\\n            (SELECT * FROM partsupp\\n              JOIN random_samples AS rs ON rs.row_id = partsupp.rowid\\n              AND rs.random_binary = TRUE\\n              AND rs.sample_id = $sample) as partsupp,\\n            supplier,\\n            nation,\\n            region\\n        WHERE\\n            p_partkey = ps_partkey\\n            AND s_suppkey = ps_suppkey\\n            AND s_nationkey = n_nationkey\\n            AND n_regionkey = r_regionkey\\n            AND r_name = 'EUROPE')\\nGROUP BY s_acctbal,\\n    s_name,\\n    n_name,\\n    p_partkey;\"\n",
    "INDEX_COLS = [\"s_name\", \"p_partkey\", \"n_name\", \"s_acctbal\"]\n",
    "OUTPUT_COLS = [\"min(ps_supplycost)\"]\n"
   ]
  },
  {
   "cell_type": "code",
   "execution_count": 4,
   "id": "4beda234",
   "metadata": {
    "execution": {
     "iopub.execute_input": "2025-04-25T04:58:03.858957Z",
     "iopub.status.busy": "2025-04-25T04:58:03.858733Z",
     "iopub.status.idle": "2025-04-25T04:58:03.860664Z",
     "shell.execute_reply": "2025-04-25T04:58:03.860382Z"
    },
    "papermill": {
     "duration": 0.004644,
     "end_time": "2025-04-25T04:58:03.861561",
     "exception": false,
     "start_time": "2025-04-25T04:58:03.856917",
     "status": "completed"
    },
    "tags": []
   },
   "outputs": [],
   "source": [
    "if not os.path.exists(OUTPUT_DIR):\n",
    "    os.makedirs(OUTPUT_DIR)"
   ]
  },
  {
   "cell_type": "code",
   "execution_count": 5,
   "id": "48d6980e",
   "metadata": {
    "execution": {
     "iopub.execute_input": "2025-04-25T04:58:03.865399Z",
     "iopub.status.busy": "2025-04-25T04:58:03.865196Z",
     "iopub.status.idle": "2025-04-25T04:58:04.182466Z",
     "shell.execute_reply": "2025-04-25T04:58:04.182167Z"
    },
    "papermill": {
     "duration": 0.319987,
     "end_time": "2025-04-25T04:58:04.183235",
     "exception": false,
     "start_time": "2025-04-25T04:58:03.863248",
     "status": "completed"
    },
    "tags": []
   },
   "outputs": [],
   "source": [
    "# duckdb load data/tpch/tpch.duckdb into the temporary in-memory database\n",
    "con = duckdb.connect(database=':memory:')\n",
    "tables = [\"customer\", \"lineitem\", \"nation\", \"orders\", \"part\", \"partsupp\", \"region\", \"supplier\"]\n",
    "for t in tables:\n",
    "    con.execute(f\"CREATE TABLE {t} AS SELECT * FROM 'data/tpch/{t}.parquet'\")"
   ]
  },
  {
   "cell_type": "code",
   "execution_count": 6,
   "id": "d8848d59",
   "metadata": {
    "execution": {
     "iopub.execute_input": "2025-04-25T04:58:04.186425Z",
     "iopub.status.busy": "2025-04-25T04:58:04.186324Z",
     "iopub.status.idle": "2025-04-25T04:58:12.421000Z",
     "shell.execute_reply": "2025-04-25T04:58:12.420169Z"
    },
    "papermill": {
     "duration": 8.238568,
     "end_time": "2025-04-25T04:58:12.423227",
     "exception": false,
     "start_time": "2025-04-25T04:58:04.184659",
     "status": "completed"
    },
    "tags": []
   },
   "outputs": [],
   "source": [
    "# Construct the table of random samples\n",
    "# to use, join it with the lineitem table (for specific sample # s) and filter to just the\n",
    "# rows where random_binary = 1.0\n",
    "# This will give us a 50% sample of the lineitem table for each sample # s\n",
    "\n",
    "assert SAMPLES % 2 == 0, \"SAMPLES must be even to create complementary samples.\"\n",
    "\n",
    "random_samples = con.execute(SAMPLE_STEP)"
   ]
  },
  {
   "cell_type": "markdown",
   "id": "1a6810bf",
   "metadata": {
    "papermill": {
     "duration": 0.001311,
     "end_time": "2025-04-25T04:58:12.427351",
     "exception": false,
     "start_time": "2025-04-25T04:58:12.426040",
     "status": "completed"
    },
    "tags": []
   },
   "source": [
    "The randomness of what rows are chosen is saved to disk in `random_binary.json`. For each sample #, there is an array with one entry per row, where 1 means the row was chosen and 0 means it was not."
   ]
  },
  {
   "cell_type": "code",
   "execution_count": 7,
   "id": "e3542119",
   "metadata": {
    "execution": {
     "iopub.execute_input": "2025-04-25T04:58:12.430913Z",
     "iopub.status.busy": "2025-04-25T04:58:12.430637Z",
     "iopub.status.idle": "2025-04-25T04:58:14.055878Z",
     "shell.execute_reply": "2025-04-25T04:58:14.055589Z"
    },
    "papermill": {
     "duration": 1.628179,
     "end_time": "2025-04-25T04:58:14.056736",
     "exception": false,
     "start_time": "2025-04-25T04:58:12.428557",
     "status": "completed"
    },
    "tags": []
   },
   "outputs": [],
   "source": [
    "con.execute(\"\"\"\n",
    "SELECT sample_id, array_agg(random_binary::TINYINT) as random_binary\n",
    "FROM random_samples\n",
    "GROUP BY sample_id;\n",
    "\"\"\").pl().write_json(f\"{OUTPUT_DIR}/random_binary.json\")"
   ]
  },
  {
   "cell_type": "markdown",
   "id": "89893df7",
   "metadata": {
    "papermill": {
     "duration": 0.001252,
     "end_time": "2025-04-25T04:58:14.059717",
     "exception": false,
     "start_time": "2025-04-25T04:58:14.058465",
     "status": "completed"
    },
    "tags": []
   },
   "source": [
    "Query is specified as a prepared statement. We will then execute it once per sample."
   ]
  },
  {
   "cell_type": "code",
   "execution_count": 8,
   "id": "436ee964",
   "metadata": {
    "execution": {
     "iopub.execute_input": "2025-04-25T04:58:14.062740Z",
     "iopub.status.busy": "2025-04-25T04:58:14.062494Z",
     "iopub.status.idle": "2025-04-25T04:58:14.127789Z",
     "shell.execute_reply": "2025-04-25T04:58:14.127520Z"
    },
    "papermill": {
     "duration": 0.067611,
     "end_time": "2025-04-25T04:58:14.128511",
     "exception": false,
     "start_time": "2025-04-25T04:58:14.060900",
     "status": "completed"
    },
    "tags": []
   },
   "outputs": [
    {
     "data": {
      "text/html": [
       "<div><style>\n",
       ".dataframe > thead > tr,\n",
       ".dataframe > tbody > tr {\n",
       "  text-align: right;\n",
       "  white-space: pre-wrap;\n",
       "}\n",
       "</style>\n",
       "<small>shape: (26, 5)</small><table border=\"1\" class=\"dataframe\"><thead><tr><th>s_name</th><th>p_partkey</th><th>n_name</th><th>s_acctbal</th><th>min(ps_supplycost)</th></tr><tr><td>str</td><td>i64</td><td>str</td><td>decimal[15,2]</td><td>decimal[15,2]</td></tr></thead><tbody><tr><td>&quot;Supplier#000000146&quot;</td><td>4637</td><td>&quot;RUSSIA&quot;</td><td>8271.39</td><td>629.93</td></tr><tr><td>&quot;Supplier#000000799&quot;</td><td>11276</td><td>&quot;RUSSIA&quot;</td><td>765.69</td><td>10.80</td></tr><tr><td>&quot;Supplier#000000350&quot;</td><td>4841</td><td>&quot;GERMANY&quot;</td><td>3294.68</td><td>249.91</td></tr><tr><td>&quot;Supplier#000000553&quot;</td><td>8036</td><td>&quot;FRANCE&quot;</td><td>3526.53</td><td>291.29</td></tr><tr><td>&quot;Supplier#000000553&quot;</td><td>17018</td><td>&quot;FRANCE&quot;</td><td>3526.53</td><td>255.77</td></tr><tr><td>&hellip;</td><td>&hellip;</td><td>&hellip;</td><td>&hellip;</td><td>&hellip;</td></tr><tr><td>&quot;Supplier#000000647&quot;</td><td>13120</td><td>&quot;UNITED KINGDOM&quot;</td><td>9828.21</td><td>115.29</td></tr><tr><td>&quot;Supplier#000000328&quot;</td><td>16327</td><td>&quot;GERMANY&quot;</td><td>5069.27</td><td>804.44</td></tr><tr><td>&quot;Supplier#000000290&quot;</td><td>2037</td><td>&quot;FRANCE&quot;</td><td>167.56</td><td>339.06</td></tr><tr><td>&quot;Supplier#000000651&quot;</td><td>4888</td><td>&quot;RUSSIA&quot;</td><td>683.07</td><td>915.40</td></tr><tr><td>&quot;Supplier#000000367&quot;</td><td>6854</td><td>&quot;RUSSIA&quot;</td><td>8488.53</td><td>229.80</td></tr></tbody></table></div>"
      ],
      "text/plain": [
       "shape: (26, 5)\n",
       "┌────────────────────┬───────────┬────────────────┬───────────────┬────────────────────┐\n",
       "│ s_name             ┆ p_partkey ┆ n_name         ┆ s_acctbal     ┆ min(ps_supplycost) │\n",
       "│ ---                ┆ ---       ┆ ---            ┆ ---           ┆ ---                │\n",
       "│ str                ┆ i64       ┆ str            ┆ decimal[15,2] ┆ decimal[15,2]      │\n",
       "╞════════════════════╪═══════════╪════════════════╪═══════════════╪════════════════════╡\n",
       "│ Supplier#000000146 ┆ 4637      ┆ RUSSIA         ┆ 8271.39       ┆ 629.93             │\n",
       "│ Supplier#000000799 ┆ 11276     ┆ RUSSIA         ┆ 765.69        ┆ 10.80              │\n",
       "│ Supplier#000000350 ┆ 4841      ┆ GERMANY        ┆ 3294.68       ┆ 249.91             │\n",
       "│ Supplier#000000553 ┆ 8036      ┆ FRANCE         ┆ 3526.53       ┆ 291.29             │\n",
       "│ Supplier#000000553 ┆ 17018     ┆ FRANCE         ┆ 3526.53       ┆ 255.77             │\n",
       "│ …                  ┆ …         ┆ …              ┆ …             ┆ …                  │\n",
       "│ Supplier#000000647 ┆ 13120     ┆ UNITED KINGDOM ┆ 9828.21       ┆ 115.29             │\n",
       "│ Supplier#000000328 ┆ 16327     ┆ GERMANY        ┆ 5069.27       ┆ 804.44             │\n",
       "│ Supplier#000000290 ┆ 2037      ┆ FRANCE         ┆ 167.56        ┆ 339.06             │\n",
       "│ Supplier#000000651 ┆ 4888      ┆ RUSSIA         ┆ 683.07        ┆ 915.40             │\n",
       "│ Supplier#000000367 ┆ 6854      ┆ RUSSIA         ┆ 8488.53       ┆ 229.80             │\n",
       "└────────────────────┴───────────┴────────────────┴───────────────┴────────────────────┘"
      ]
     },
     "execution_count": 8,
     "metadata": {},
     "output_type": "execute_result"
    }
   ],
   "source": [
    "# Query\n",
    "con.execute(PREPARE_STEP)\n",
    "\n",
    "# Run query to see output\n",
    "dfs0 = con.execute(f\"EXECUTE run_query(sample := {0});\").pl()\n",
    "\n",
    "# Save csv copies of the first 5 samples\n",
    "os.makedirs(f\"{OUTPUT_DIR}/csv\", exist_ok=True)\n",
    "for s in range(5):\n",
    "    con.execute(f\"EXECUTE run_query(sample := {s});\").pl().write_csv(f\"{OUTPUT_DIR}/csv/sample_{s}.csv\")\n",
    "\n",
    "dfs0"
   ]
  },
  {
   "cell_type": "code",
   "execution_count": 9,
   "id": "acc20c2e",
   "metadata": {
    "execution": {
     "iopub.execute_input": "2025-04-25T04:58:14.131942Z",
     "iopub.status.busy": "2025-04-25T04:58:14.131839Z",
     "iopub.status.idle": "2025-04-25T04:58:22.641973Z",
     "shell.execute_reply": "2025-04-25T04:58:22.641696Z"
    },
    "papermill": {
     "duration": 8.512546,
     "end_time": "2025-04-25T04:58:22.642677",
     "exception": false,
     "start_time": "2025-04-25T04:58:14.130131",
     "status": "completed"
    },
    "tags": []
   },
   "outputs": [
    {
     "data": {
      "text/html": [
       "<div><style>\n",
       ".dataframe > thead > tr,\n",
       ".dataframe > tbody > tr {\n",
       "  text-align: right;\n",
       "  white-space: pre-wrap;\n",
       "}\n",
       "</style>\n",
       "<small>shape: (26_890, 6)</small><table border=\"1\" class=\"dataframe\"><thead><tr><th>sample</th><th>s_name</th><th>p_partkey</th><th>n_name</th><th>s_acctbal</th><th>min(ps_supplycost)</th></tr><tr><td>i32</td><td>str</td><td>i64</td><td>str</td><td>decimal[15,2]</td><td>decimal[15,2]</td></tr></thead><tbody><tr><td>0</td><td>&quot;Supplier#000000146&quot;</td><td>4637</td><td>&quot;RUSSIA&quot;</td><td>8271.39</td><td>629.93</td></tr><tr><td>0</td><td>&quot;Supplier#000000799&quot;</td><td>11276</td><td>&quot;RUSSIA&quot;</td><td>765.69</td><td>10.80</td></tr><tr><td>0</td><td>&quot;Supplier#000000553&quot;</td><td>8036</td><td>&quot;FRANCE&quot;</td><td>3526.53</td><td>291.29</td></tr><tr><td>0</td><td>&quot;Supplier#000000553&quot;</td><td>17018</td><td>&quot;FRANCE&quot;</td><td>3526.53</td><td>255.77</td></tr><tr><td>0</td><td>&quot;Supplier#000000350&quot;</td><td>4841</td><td>&quot;GERMANY&quot;</td><td>3294.68</td><td>249.91</td></tr><tr><td>&hellip;</td><td>&hellip;</td><td>&hellip;</td><td>&hellip;</td><td>&hellip;</td><td>&hellip;</td></tr><tr><td>1023</td><td>&quot;Supplier#000000328&quot;</td><td>16327</td><td>&quot;GERMANY&quot;</td><td>5069.27</td><td>804.44</td></tr><tr><td>1023</td><td>&quot;Supplier#000000016&quot;</td><td>1015</td><td>&quot;RUSSIA&quot;</td><td>2972.26</td><td>795.39</td></tr><tr><td>1023</td><td>&quot;Supplier#000000290&quot;</td><td>2037</td><td>&quot;FRANCE&quot;</td><td>167.56</td><td>339.06</td></tr><tr><td>1023</td><td>&quot;Supplier#000000680&quot;</td><td>5679</td><td>&quot;RUSSIA&quot;</td><td>4586.49</td><td>19.04</td></tr><tr><td>1023</td><td>&quot;Supplier#000000470&quot;</td><td>6213</td><td>&quot;ROMANIA&quot;</td><td>727.89</td><td>601.78</td></tr></tbody></table></div>"
      ],
      "text/plain": [
       "shape: (26_890, 6)\n",
       "┌────────┬────────────────────┬───────────┬─────────┬───────────────┬────────────────────┐\n",
       "│ sample ┆ s_name             ┆ p_partkey ┆ n_name  ┆ s_acctbal     ┆ min(ps_supplycost) │\n",
       "│ ---    ┆ ---                ┆ ---       ┆ ---     ┆ ---           ┆ ---                │\n",
       "│ i32    ┆ str                ┆ i64       ┆ str     ┆ decimal[15,2] ┆ decimal[15,2]      │\n",
       "╞════════╪════════════════════╪═══════════╪═════════╪═══════════════╪════════════════════╡\n",
       "│ 0      ┆ Supplier#000000146 ┆ 4637      ┆ RUSSIA  ┆ 8271.39       ┆ 629.93             │\n",
       "│ 0      ┆ Supplier#000000799 ┆ 11276     ┆ RUSSIA  ┆ 765.69        ┆ 10.80              │\n",
       "│ 0      ┆ Supplier#000000553 ┆ 8036      ┆ FRANCE  ┆ 3526.53       ┆ 291.29             │\n",
       "│ 0      ┆ Supplier#000000553 ┆ 17018     ┆ FRANCE  ┆ 3526.53       ┆ 255.77             │\n",
       "│ 0      ┆ Supplier#000000350 ┆ 4841      ┆ GERMANY ┆ 3294.68       ┆ 249.91             │\n",
       "│ …      ┆ …                  ┆ …         ┆ …       ┆ …             ┆ …                  │\n",
       "│ 1023   ┆ Supplier#000000328 ┆ 16327     ┆ GERMANY ┆ 5069.27       ┆ 804.44             │\n",
       "│ 1023   ┆ Supplier#000000016 ┆ 1015      ┆ RUSSIA  ┆ 2972.26       ┆ 795.39             │\n",
       "│ 1023   ┆ Supplier#000000290 ┆ 2037      ┆ FRANCE  ┆ 167.56        ┆ 339.06             │\n",
       "│ 1023   ┆ Supplier#000000680 ┆ 5679      ┆ RUSSIA  ┆ 4586.49       ┆ 19.04              │\n",
       "│ 1023   ┆ Supplier#000000470 ┆ 6213      ┆ ROMANIA ┆ 727.89        ┆ 601.78             │\n",
       "└────────┴────────────────────┴───────────┴─────────┴───────────────┴────────────────────┘"
      ]
     },
     "execution_count": 9,
     "metadata": {},
     "output_type": "execute_result"
    }
   ],
   "source": [
    "# Run the query for each sample, but accumulate in a pl.DataFrame instead of a list\n",
    "dfsdf: pl.DataFrame = pl.concat(\n",
    "    con.execute(f\"EXECUTE run_query(sample := {s});\").pl().insert_column(0, pl.lit(s).alias(\"sample\"))\n",
    "    for s in range(SAMPLES)\n",
    ")\n",
    "dfsdf"
   ]
  },
  {
   "cell_type": "code",
   "execution_count": 10,
   "id": "06cfaec9",
   "metadata": {
    "execution": {
     "iopub.execute_input": "2025-04-25T04:58:22.646346Z",
     "iopub.status.busy": "2025-04-25T04:58:22.646257Z",
     "iopub.status.idle": "2025-04-25T04:58:22.648373Z",
     "shell.execute_reply": "2025-04-25T04:58:22.648152Z"
    },
    "papermill": {
     "duration": 0.004708,
     "end_time": "2025-04-25T04:58:22.649205",
     "exception": false,
     "start_time": "2025-04-25T04:58:22.644497",
     "status": "completed"
    },
    "tags": []
   },
   "outputs": [],
   "source": [
    "# Define which columns are the group-by keys (INDEX_COLS) and which are the output columns (OUTPUT_COLS)\n",
    "# - moved to parameters cell at top of notebook\n",
    "\n",
    "# Save these to disk for later use\n",
    "with open(f\"{OUTPUT_DIR}/INDEX_COLS.pkl\", 'wb') as f:\n",
    "    pickle.dump(INDEX_COLS, f)\n",
    "with open(f\"{OUTPUT_DIR}/OUTPUT_COLS.pkl\", 'wb') as f:\n",
    "    pickle.dump(OUTPUT_COLS, f)"
   ]
  },
  {
   "cell_type": "code",
   "execution_count": 11,
   "id": "2c7a4223",
   "metadata": {
    "execution": {
     "iopub.execute_input": "2025-04-25T04:58:22.652933Z",
     "iopub.status.busy": "2025-04-25T04:58:22.652827Z",
     "iopub.status.idle": "2025-04-25T04:58:22.668749Z",
     "shell.execute_reply": "2025-04-25T04:58:22.668473Z"
    },
    "papermill": {
     "duration": 0.018958,
     "end_time": "2025-04-25T04:58:22.669579",
     "exception": false,
     "start_time": "2025-04-25T04:58:22.650621",
     "status": "completed"
    },
    "tags": []
   },
   "outputs": [
    {
     "data": {
      "text/html": [
       "<div><style>\n",
       ".dataframe > thead > tr,\n",
       ".dataframe > tbody > tr {\n",
       "  text-align: right;\n",
       "  white-space: pre-wrap;\n",
       "}\n",
       "</style>\n",
       "<small>shape: (63, 5)</small><table border=\"1\" class=\"dataframe\"><thead><tr><th>s_name</th><th>p_partkey</th><th>n_name</th><th>s_acctbal</th><th>min(ps_supplycost)</th></tr><tr><td>str</td><td>i64</td><td>str</td><td>decimal[15,2]</td><td>list[decimal[15,2]]</td></tr></thead><tbody><tr><td>&quot;Supplier#000000146&quot;</td><td>4637</td><td>&quot;RUSSIA&quot;</td><td>8271.39</td><td>[629.93, 629.93, … 629.93]</td></tr><tr><td>&quot;Supplier#000000799&quot;</td><td>11276</td><td>&quot;RUSSIA&quot;</td><td>765.69</td><td>[10.80, 10.80, … 10.80]</td></tr><tr><td>&quot;Supplier#000000553&quot;</td><td>8036</td><td>&quot;FRANCE&quot;</td><td>3526.53</td><td>[291.29, 291.29, … 291.29]</td></tr><tr><td>&quot;Supplier#000000553&quot;</td><td>17018</td><td>&quot;FRANCE&quot;</td><td>3526.53</td><td>[255.77, 255.77, … 255.77]</td></tr><tr><td>&quot;Supplier#000000350&quot;</td><td>4841</td><td>&quot;GERMANY&quot;</td><td>3294.68</td><td>[249.91, 249.91, … 249.91]</td></tr><tr><td>&hellip;</td><td>&hellip;</td><td>&hellip;</td><td>&hellip;</td><td>&hellip;</td></tr><tr><td>&quot;Supplier#000000053&quot;</td><td>5797</td><td>&quot;GERMANY&quot;</td><td>6177.35</td><td>[976.76, 976.76, … 976.76]</td></tr><tr><td>&quot;Supplier#000000311&quot;</td><td>13784</td><td>&quot;RUSSIA&quot;</td><td>7431.00</td><td>[650.34, 650.34, … 650.34]</td></tr><tr><td>&quot;Supplier#000000769&quot;</td><td>1015</td><td>&quot;FRANCE&quot;</td><td>165.76</td><td>[929.07, 929.07, … 929.07]</td></tr><tr><td>&quot;Supplier#000000243&quot;</td><td>17242</td><td>&quot;FRANCE&quot;</td><td>747.88</td><td>[954.01, 954.01, … 954.01]</td></tr><tr><td>&quot;Supplier#000000656&quot;</td><td>7655</td><td>&quot;ROMANIA&quot;</td><td>8069.74</td><td>[799.17, 799.17, … 799.17]</td></tr></tbody></table></div>"
      ],
      "text/plain": [
       "shape: (63, 5)\n",
       "┌────────────────────┬───────────┬─────────┬───────────────┬────────────────────────────┐\n",
       "│ s_name             ┆ p_partkey ┆ n_name  ┆ s_acctbal     ┆ min(ps_supplycost)         │\n",
       "│ ---                ┆ ---       ┆ ---     ┆ ---           ┆ ---                        │\n",
       "│ str                ┆ i64       ┆ str     ┆ decimal[15,2] ┆ list[decimal[15,2]]        │\n",
       "╞════════════════════╪═══════════╪═════════╪═══════════════╪════════════════════════════╡\n",
       "│ Supplier#000000146 ┆ 4637      ┆ RUSSIA  ┆ 8271.39       ┆ [629.93, 629.93, … 629.93] │\n",
       "│ Supplier#000000799 ┆ 11276     ┆ RUSSIA  ┆ 765.69        ┆ [10.80, 10.80, … 10.80]    │\n",
       "│ Supplier#000000553 ┆ 8036      ┆ FRANCE  ┆ 3526.53       ┆ [291.29, 291.29, … 291.29] │\n",
       "│ Supplier#000000553 ┆ 17018     ┆ FRANCE  ┆ 3526.53       ┆ [255.77, 255.77, … 255.77] │\n",
       "│ Supplier#000000350 ┆ 4841      ┆ GERMANY ┆ 3294.68       ┆ [249.91, 249.91, … 249.91] │\n",
       "│ …                  ┆ …         ┆ …       ┆ …             ┆ …                          │\n",
       "│ Supplier#000000053 ┆ 5797      ┆ GERMANY ┆ 6177.35       ┆ [976.76, 976.76, … 976.76] │\n",
       "│ Supplier#000000311 ┆ 13784     ┆ RUSSIA  ┆ 7431.00       ┆ [650.34, 650.34, … 650.34] │\n",
       "│ Supplier#000000769 ┆ 1015      ┆ FRANCE  ┆ 165.76        ┆ [929.07, 929.07, … 929.07] │\n",
       "│ Supplier#000000243 ┆ 17242     ┆ FRANCE  ┆ 747.88        ┆ [954.01, 954.01, … 954.01] │\n",
       "│ Supplier#000000656 ┆ 7655      ┆ ROMANIA ┆ 8069.74       ┆ [799.17, 799.17, … 799.17] │\n",
       "└────────────────────┴───────────┴─────────┴───────────────┴────────────────────────────┘"
      ]
     },
     "execution_count": 11,
     "metadata": {},
     "output_type": "execute_result"
    }
   ],
   "source": [
    "# Combine all the samples into one table, grouped-by the group-by keys. Each cell contains an n <= # of samples length array of values.\n",
    "listdf = dfsdf.drop(\"sample\").group_by(INDEX_COLS, maintain_order=True).all()\n",
    "listdf"
   ]
  },
  {
   "cell_type": "code",
   "execution_count": 12,
   "id": "1ff1e8bd",
   "metadata": {
    "execution": {
     "iopub.execute_input": "2025-04-25T04:58:22.673477Z",
     "iopub.status.busy": "2025-04-25T04:58:22.673354Z",
     "iopub.status.idle": "2025-04-25T04:58:22.683949Z",
     "shell.execute_reply": "2025-04-25T04:58:22.683693Z"
    },
    "papermill": {
     "duration": 0.013285,
     "end_time": "2025-04-25T04:58:22.684647",
     "exception": false,
     "start_time": "2025-04-25T04:58:22.671362",
     "status": "completed"
    },
    "tags": []
   },
   "outputs": [
    {
     "data": {
      "text/plain": [
       "[{'s_name': 'Supplier#000000574',\n",
       "  'p_partkey': 13784,\n",
       "  'n_name': 'RUSSIA',\n",
       "  's_acctbal': Decimal('8096.98')},\n",
       " {'s_name': 'Supplier#000000949',\n",
       "  'p_partkey': 9430,\n",
       "  'n_name': 'UNITED KINGDOM',\n",
       "  's_acctbal': Decimal('91.39')},\n",
       " {'s_name': 'Supplier#000000470',\n",
       "  'p_partkey': 6213,\n",
       "  'n_name': 'ROMANIA',\n",
       "  's_acctbal': Decimal('727.89')},\n",
       " {'s_name': 'Supplier#000000138',\n",
       "  'p_partkey': 8363,\n",
       "  'n_name': 'ROMANIA',\n",
       "  's_acctbal': Decimal('906.07')},\n",
       " {'s_name': 'Supplier#000000323',\n",
       "  'p_partkey': 3563,\n",
       "  'n_name': 'RUSSIA',\n",
       "  's_acctbal': Decimal('704.83')},\n",
       " {'s_name': 'Supplier#000000812',\n",
       "  'p_partkey': 10551,\n",
       "  'n_name': 'FRANCE',\n",
       "  's_acctbal': Decimal('8615.50')},\n",
       " {'s_name': 'Supplier#000000290',\n",
       "  'p_partkey': 2037,\n",
       "  'n_name': 'FRANCE',\n",
       "  's_acctbal': Decimal('167.56')},\n",
       " {'s_name': 'Supplier#000000509',\n",
       "  'p_partkey': 18972,\n",
       "  'n_name': 'FRANCE',\n",
       "  's_acctbal': Decimal('4315.15')},\n",
       " {'s_name': 'Supplier#000000690',\n",
       "  'p_partkey': 9430,\n",
       "  'n_name': 'ROMANIA',\n",
       "  's_acctbal': Decimal('7448.46')},\n",
       " {'s_name': 'Supplier#000000563',\n",
       "  'p_partkey': 5797,\n",
       "  'n_name': 'GERMANY',\n",
       "  's_acctbal': Decimal('-942.73')},\n",
       " {'s_name': 'Supplier#000000954',\n",
       "  'p_partkey': 4191,\n",
       "  'n_name': 'FRANCE',\n",
       "  's_acctbal': Decimal('6721.70')},\n",
       " {'s_name': 'Supplier#000000149',\n",
       "  'p_partkey': 18344,\n",
       "  'n_name': 'FRANCE',\n",
       "  's_acctbal': Decimal('4518.31')},\n",
       " {'s_name': 'Supplier#000000311',\n",
       "  'p_partkey': 13784,\n",
       "  'n_name': 'RUSSIA',\n",
       "  's_acctbal': Decimal('7431.00')},\n",
       " {'s_name': 'Supplier#000000070',\n",
       "  'p_partkey': 17268,\n",
       "  'n_name': 'FRANCE',\n",
       "  's_acctbal': Decimal('9508.37')},\n",
       " {'s_name': 'Supplier#000000409',\n",
       "  'p_partkey': 2156,\n",
       "  'n_name': 'GERMANY',\n",
       "  's_acctbal': Decimal('-820.89')},\n",
       " {'s_name': 'Supplier#000000104',\n",
       "  'p_partkey': 18103,\n",
       "  'n_name': 'FRANCE',\n",
       "  's_acctbal': Decimal('1381.97')},\n",
       " {'s_name': 'Supplier#000000771',\n",
       "  'p_partkey': 13981,\n",
       "  'n_name': 'ROMANIA',\n",
       "  's_acctbal': Decimal('2221.25')},\n",
       " {'s_name': 'Supplier#000000016',\n",
       "  'p_partkey': 1015,\n",
       "  'n_name': 'RUSSIA',\n",
       "  's_acctbal': Decimal('2972.26')},\n",
       " {'s_name': 'Supplier#000000121',\n",
       "  'p_partkey': 13120,\n",
       "  'n_name': 'FRANCE',\n",
       "  's_acctbal': Decimal('5733.61')},\n",
       " {'s_name': 'Supplier#000000647',\n",
       "  'p_partkey': 13120,\n",
       "  'n_name': 'UNITED KINGDOM',\n",
       "  's_acctbal': Decimal('9828.21')},\n",
       " {'s_name': 'Supplier#000000053',\n",
       "  'p_partkey': 5797,\n",
       "  'n_name': 'GERMANY',\n",
       "  's_acctbal': Decimal('6177.35')},\n",
       " {'s_name': 'Supplier#000000812',\n",
       "  'p_partkey': 13811,\n",
       "  'n_name': 'FRANCE',\n",
       "  's_acctbal': Decimal('8615.50')},\n",
       " {'s_name': 'Supplier#000000996',\n",
       "  'p_partkey': 10735,\n",
       "  'n_name': 'GERMANY',\n",
       "  's_acctbal': Decimal('6329.90')},\n",
       " {'s_name': 'Supplier#000000367',\n",
       "  'p_partkey': 6854,\n",
       "  'n_name': 'RUSSIA',\n",
       "  's_acctbal': Decimal('8488.53')},\n",
       " {'s_name': 'Supplier#000000802',\n",
       "  'p_partkey': 10021,\n",
       "  'n_name': 'ROMANIA',\n",
       "  's_acctbal': Decimal('9453.01')},\n",
       " {'s_name': 'Supplier#000000007',\n",
       "  'p_partkey': 13217,\n",
       "  'n_name': 'UNITED KINGDOM',\n",
       "  's_acctbal': Decimal('6820.35')},\n",
       " {'s_name': 'Supplier#000000553',\n",
       "  'p_partkey': 8036,\n",
       "  'n_name': 'FRANCE',\n",
       "  's_acctbal': Decimal('3526.53')},\n",
       " {'s_name': 'Supplier#000000646',\n",
       "  'p_partkey': 11384,\n",
       "  'n_name': 'FRANCE',\n",
       "  's_acctbal': Decimal('8430.52')},\n",
       " {'s_name': 'Supplier#000000959',\n",
       "  'p_partkey': 4958,\n",
       "  'n_name': 'GERMANY',\n",
       "  's_acctbal': Decimal('9032.15')},\n",
       " {'s_name': 'Supplier#000000785',\n",
       "  'p_partkey': 13784,\n",
       "  'n_name': 'RUSSIA',\n",
       "  's_acctbal': Decimal('5364.99')},\n",
       " {'s_name': 'Supplier#000000840',\n",
       "  'p_partkey': 3080,\n",
       "  'n_name': 'ROMANIA',\n",
       "  's_acctbal': Decimal('2963.09')},\n",
       " {'s_name': 'Supplier#000000295',\n",
       "  'p_partkey': 8036,\n",
       "  'n_name': 'UNITED KINGDOM',\n",
       "  's_acctbal': Decimal('-435.02')},\n",
       " {'s_name': 'Supplier#000000115',\n",
       "  'p_partkey': 13325,\n",
       "  'n_name': 'UNITED KINGDOM',\n",
       "  's_acctbal': Decimal('9192.10')},\n",
       " {'s_name': 'Supplier#000000044',\n",
       "  'p_partkey': 17242,\n",
       "  'n_name': 'GERMANY',\n",
       "  's_acctbal': Decimal('9759.38')},\n",
       " {'s_name': 'Supplier#000000651',\n",
       "  'p_partkey': 4888,\n",
       "  'n_name': 'RUSSIA',\n",
       "  's_acctbal': Decimal('683.07')},\n",
       " {'s_name': 'Supplier#000000146',\n",
       "  'p_partkey': 4637,\n",
       "  'n_name': 'RUSSIA',\n",
       "  's_acctbal': Decimal('8271.39')},\n",
       " {'s_name': 'Supplier#000000239',\n",
       "  'p_partkey': 12238,\n",
       "  'n_name': 'RUSSIA',\n",
       "  's_acctbal': Decimal('4672.25')},\n",
       " {'s_name': 'Supplier#000000350',\n",
       "  'p_partkey': 4841,\n",
       "  'n_name': 'GERMANY',\n",
       "  's_acctbal': Decimal('3294.68')},\n",
       " {'s_name': 'Supplier#000000333',\n",
       "  'p_partkey': 11810,\n",
       "  'n_name': 'RUSSIA',\n",
       "  's_acctbal': Decimal('8702.02')},\n",
       " {'s_name': 'Supplier#000000276',\n",
       "  'p_partkey': 13275,\n",
       "  'n_name': 'FRANCE',\n",
       "  's_acctbal': Decimal('7144.78')},\n",
       " {'s_name': 'Supplier#000000065',\n",
       "  'p_partkey': 13275,\n",
       "  'n_name': 'RUSSIA',\n",
       "  's_acctbal': Decimal('-963.79')},\n",
       " {'s_name': 'Supplier#000000326',\n",
       "  'p_partkey': 13325,\n",
       "  'n_name': 'GERMANY',\n",
       "  's_acctbal': Decimal('4680.75')},\n",
       " {'s_name': 'Supplier#000000243',\n",
       "  'p_partkey': 17242,\n",
       "  'n_name': 'FRANCE',\n",
       "  's_acctbal': Decimal('747.88')},\n",
       " {'s_name': 'Supplier#000000070',\n",
       "  'p_partkey': 3563,\n",
       "  'n_name': 'FRANCE',\n",
       "  's_acctbal': Decimal('9508.37')},\n",
       " {'s_name': 'Supplier#000000587',\n",
       "  'p_partkey': 3080,\n",
       "  'n_name': 'GERMANY',\n",
       "  's_acctbal': Decimal('5322.35')},\n",
       " {'s_name': 'Supplier#000000799',\n",
       "  'p_partkey': 11276,\n",
       "  'n_name': 'RUSSIA',\n",
       "  's_acctbal': Decimal('765.69')},\n",
       " {'s_name': 'Supplier#000000704',\n",
       "  'p_partkey': 9926,\n",
       "  'n_name': 'ROMANIA',\n",
       "  's_acctbal': Decimal('-845.44')},\n",
       " {'s_name': 'Supplier#000000802',\n",
       "  'p_partkey': 13275,\n",
       "  'n_name': 'ROMANIA',\n",
       "  's_acctbal': Decimal('9453.01')},\n",
       " {'s_name': 'Supplier#000000623',\n",
       "  'p_partkey': 6854,\n",
       "  'n_name': 'GERMANY',\n",
       "  's_acctbal': Decimal('5408.07')},\n",
       " {'s_name': 'Supplier#000000553',\n",
       "  'p_partkey': 17018,\n",
       "  'n_name': 'FRANCE',\n",
       "  's_acctbal': Decimal('3526.53')},\n",
       " {'s_name': 'Supplier#000000321',\n",
       "  'p_partkey': 7320,\n",
       "  'n_name': 'ROMANIA',\n",
       "  's_acctbal': Decimal('4941.88')},\n",
       " {'s_name': 'Supplier#000000025',\n",
       "  'p_partkey': 12238,\n",
       "  'n_name': 'RUSSIA',\n",
       "  's_acctbal': Decimal('9198.31')},\n",
       " {'s_name': 'Supplier#000000680',\n",
       "  'p_partkey': 5679,\n",
       "  'n_name': 'RUSSIA',\n",
       "  's_acctbal': Decimal('4586.49')},\n",
       " {'s_name': 'Supplier#000000170',\n",
       "  'p_partkey': 7655,\n",
       "  'n_name': 'UNITED KINGDOM',\n",
       "  's_acctbal': Decimal('7392.78')},\n",
       " {'s_name': 'Supplier#000000656',\n",
       "  'p_partkey': 7655,\n",
       "  'n_name': 'ROMANIA',\n",
       "  's_acctbal': Decimal('8069.74')},\n",
       " {'s_name': 'Supplier#000000769',\n",
       "  'p_partkey': 1015,\n",
       "  'n_name': 'FRANCE',\n",
       "  's_acctbal': Decimal('165.76')},\n",
       " {'s_name': 'Supplier#000000510',\n",
       "  'p_partkey': 17242,\n",
       "  'n_name': 'ROMANIA',\n",
       "  's_acctbal': Decimal('-314.06')},\n",
       " {'s_name': 'Supplier#000000328',\n",
       "  'p_partkey': 16327,\n",
       "  'n_name': 'GERMANY',\n",
       "  's_acctbal': Decimal('5069.27')},\n",
       " {'s_name': 'Supplier#000000574',\n",
       "  'p_partkey': 323,\n",
       "  'n_name': 'RUSSIA',\n",
       "  's_acctbal': Decimal('8096.98')},\n",
       " {'s_name': 'Supplier#000000408',\n",
       "  'p_partkey': 18139,\n",
       "  'n_name': 'RUSSIA',\n",
       "  's_acctbal': Decimal('6173.87')},\n",
       " {'s_name': 'Supplier#000000957',\n",
       "  'p_partkey': 10956,\n",
       "  'n_name': 'UNITED KINGDOM',\n",
       "  's_acctbal': Decimal('4324.51')},\n",
       " {'s_name': 'Supplier#000000384',\n",
       "  'p_partkey': 13120,\n",
       "  'n_name': 'GERMANY',\n",
       "  's_acctbal': Decimal('1342.17')},\n",
       " {'s_name': 'Supplier#000000477',\n",
       "  'p_partkey': 10956,\n",
       "  'n_name': 'GERMANY',\n",
       "  's_acctbal': Decimal('7205.20')}]"
      ]
     },
     "execution_count": 12,
     "metadata": {},
     "output_type": "execute_result"
    }
   ],
   "source": [
    "# What are all the possible group-by key combinations?\n",
    "allgroups: pl.DataFrame = dfsdf.select(INDEX_COLS).unique()\n",
    "allgroups.to_dicts()"
   ]
  },
  {
   "cell_type": "code",
   "execution_count": 13,
   "id": "6fe60fd2",
   "metadata": {
    "execution": {
     "iopub.execute_input": "2025-04-25T04:58:22.688826Z",
     "iopub.status.busy": "2025-04-25T04:58:22.688719Z",
     "iopub.status.idle": "2025-04-25T04:58:22.694370Z",
     "shell.execute_reply": "2025-04-25T04:58:22.694107Z"
    },
    "papermill": {
     "duration": 0.00852,
     "end_time": "2025-04-25T04:58:22.695139",
     "exception": false,
     "start_time": "2025-04-25T04:58:22.686619",
     "status": "completed"
    },
    "tags": []
   },
   "outputs": [],
   "source": [
    "# Template for the final output, including all possible group-by groups\n",
    "# Obtained by collecting all the samples in a big table and then keeping only the first occurrence of each groupby key.\n",
    "# Then, fill all OUTPUT_COLS with nulls\n",
    "templatedf = dfsdf.drop(\"sample\").group_by(INDEX_COLS, maintain_order=True).first()\n",
    "templatedf = templatedf.clear(n=len(allgroups)).with_columns(allgroups)\n",
    "templatedf\n",
    "\n",
    "with open(f\"{OUTPUT_DIR}/template.pkl\", \"wb\") as f:\n",
    "    pickle.dump(templatedf, f)"
   ]
  },
  {
   "cell_type": "code",
   "execution_count": 14,
   "id": "32cc6d9c",
   "metadata": {
    "execution": {
     "iopub.execute_input": "2025-04-25T04:58:22.699584Z",
     "iopub.status.busy": "2025-04-25T04:58:22.699473Z",
     "iopub.status.idle": "2025-04-25T04:58:22.775029Z",
     "shell.execute_reply": "2025-04-25T04:58:22.774762Z"
    },
    "papermill": {
     "duration": 0.078706,
     "end_time": "2025-04-25T04:58:22.775819",
     "exception": false,
     "start_time": "2025-04-25T04:58:22.697113",
     "status": "completed"
    },
    "tags": []
   },
   "outputs": [],
   "source": [
    "# Write all table entries in the output table to their own JSON files. Each file has a number, the information of which file corresponds to which table entry\n",
    "# is stored in reverse_map.json (as well as in the files themselves)\n",
    "os.makedirs(f\"{OUTPUT_DIR}/json\", exist_ok=True)\n",
    "i: int = 0\n",
    "for col in OUTPUT_COLS:\n",
    "    for group in allgroups.iter_rows(named=True):\n",
    "        values = listdf.filter(pl.col(k).eq(v) for k, v in group.items()).select(col).to_series()\n",
    "        j = pl.DataFrame().with_columns([\n",
    "            pl.lit(col).alias(\"col\"),\n",
    "            pl.lit(group).alias(\"row\"),\n",
    "            pl.lit(values.explode().dtype.__repr__()).alias(\"dtype\"),\n",
    "            values.alias(\"values\"),\n",
    "        ])\n",
    "        j.write_json(f\"{OUTPUT_DIR}/json/{i}.json\")\n",
    "        i+=1"
   ]
  },
  {
   "cell_type": "code",
   "execution_count": 15,
   "id": "a36470a7",
   "metadata": {
    "execution": {
     "iopub.execute_input": "2025-04-25T04:58:22.779801Z",
     "iopub.status.busy": "2025-04-25T04:58:22.779710Z",
     "iopub.status.idle": "2025-04-25T04:58:34.067811Z",
     "shell.execute_reply": "2025-04-25T04:58:34.067579Z"
    },
    "papermill": {
     "duration": 11.290759,
     "end_time": "2025-04-25T04:58:34.068480",
     "exception": false,
     "start_time": "2025-04-25T04:58:22.777721",
     "status": "completed"
    },
    "tags": []
   },
   "outputs": [
    {
     "data": {
      "text/plain": [
       "'/Users/michael/projects/dpdb/pacdb/outputs/ap-duckdb-q2-step1.zip'"
      ]
     },
     "execution_count": 15,
     "metadata": {},
     "output_type": "execute_result"
    }
   ],
   "source": [
    "# zip the OUTPUT_DIR\n",
    "shutil.make_archive(OUTPUT_DIR, 'zip', OUTPUT_DIR)"
   ]
  }
 ],
 "metadata": {
  "kernelspec": {
   "display_name": ".venv",
   "language": "python",
   "name": "python3"
  },
  "language_info": {
   "codemirror_mode": {
    "name": "ipython",
    "version": 3
   },
   "file_extension": ".py",
   "mimetype": "text/x-python",
   "name": "python",
   "nbconvert_exporter": "python",
   "pygments_lexer": "ipython3",
   "version": "3.11.7"
  },
  "papermill": {
   "default_parameters": {},
   "duration": 31.295856,
   "end_time": "2025-04-25T04:58:34.489848",
   "environment_variables": {},
   "exception": null,
   "input_path": "autopac-duckdb-step1.ipynb",
   "output_path": "./ap-duckdb-q2-step1.ipynb",
   "parameters": {
    "EXPERIMENT": "ap-duckdb-q2",
    "INDEX_COLS": [
     "s_name",
     "p_partkey",
     "n_name",
     "s_acctbal"
    ],
    "OUTPUT_COLS": [
     "min(ps_supplycost)"
    ],
    "OUTPUT_DIR": "./outputs/ap-duckdb-q2-step1",
    "PREPARE_STEP": "DEALLOCATE PREPARE run_query;\n\nPREPARE run_query AS \nSELECT\n    s_name,\n    p_partkey,\n    n_name,\n    s_acctbal,\n    min(ps_supplycost)\nFROM\n    part,\n    supplier,\n    partsupp,\n    nation,\n    region\nWHERE\n    p_partkey = ps_partkey\n    AND s_suppkey = ps_suppkey\n    AND p_size = 15\n    AND p_type LIKE '%BRASS'\n    AND s_nationkey = n_nationkey\n    AND n_regionkey = r_regionkey\n    AND r_name = 'EUROPE'\n    AND ps_supplycost = (\n        SELECT\n            min(ps_supplycost)\n        FROM\n            (SELECT * FROM partsupp\n              JOIN random_samples AS rs ON rs.row_id = partsupp.rowid\n              AND rs.random_binary = TRUE\n              AND rs.sample_id = $sample) as partsupp,\n            supplier,\n            nation,\n            region\n        WHERE\n            p_partkey = ps_partkey\n            AND s_suppkey = ps_suppkey\n            AND s_nationkey = n_nationkey\n            AND n_regionkey = r_regionkey\n            AND r_name = 'EUROPE')\nGROUP BY s_acctbal,\n    s_name,\n    n_name,\n    p_partkey;",
    "SAMPLES": 1024,
    "SAMPLE_STEP": "DROP TABLE IF EXISTS random_samples;\n\nCREATE TABLE random_samples AS\nWITH sample_numbers AS MATERIALIZED (\n    SELECT range AS sample_id FROM range(1024 // 2)\n), random_values AS MATERIALIZED (\n    SELECT \n        sample_numbers.sample_id,\n        partsupp.rowid AS row_id,\n        (RANDOM() > 0.5)::BOOLEAN AS random_binary\n    FROM sample_numbers\n    JOIN partsupp ON TRUE  -- Cross join to duplicate rows for each sample\n)\nSELECT\n    sample_id,\n    row_id,\n    random_binary\nFROM random_values\nUNION ALL\nSELECT -- select the complementary samples too\n    (1024 // 2) + sample_id,\n    row_id,\n    NOT random_binary  -- Inverse the random_binary to get the complementary sample\nFROM random_values\nORDER BY sample_id, row_id;"
   },
   "start_time": "2025-04-25T04:58:03.193992",
   "version": "2.6.0"
  }
 },
 "nbformat": 4,
 "nbformat_minor": 5
}