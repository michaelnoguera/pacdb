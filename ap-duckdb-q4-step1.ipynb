{
 "cells": [
  {
   "cell_type": "markdown",
   "id": "39d37af1",
   "metadata": {
    "papermill": {
     "duration": 0.007732,
     "end_time": "2025-04-25T05:44:14.429210",
     "exception": false,
     "start_time": "2025-04-25T05:44:14.421478",
     "status": "completed"
    },
    "tags": []
   },
   "source": [
    "## DuckDB Notebook\n",
    "\n",
    "This notebook generates a bunch of raw outputs, without applying PAC, to be consumed by a second stage."
   ]
  },
  {
   "cell_type": "markdown",
   "id": "1e28695b",
   "metadata": {
    "papermill": {
     "duration": 0.00279,
     "end_time": "2025-04-25T05:44:14.436131",
     "exception": false,
     "start_time": "2025-04-25T05:44:14.433341",
     "status": "completed"
    },
    "tags": []
   },
   "source": [
    "```\n",
    " group by              output cols                        \n",
    " key cols ┌────────┬────────┬────────┬────────┐           \n",
    "        │ │   A    │   B    │   C    │   D    │           \n",
    "      ┌─▼─┼────────┼────────┼────────┼────────┤           \n",
    "      │ 1 │   2    │        │        │        │           \n",
    "      ├───┼───|────┼────────┼────────┼────────┤           \n",
    "      │ 2 │   │    │        │        │        │           \n",
    "      ├───┼───┼────┼────────┼────────┼────────┤           \n",
    "      │ 3 │   │    │        │        │        │           \n",
    "      └───┴───┼────┴────────┴────────┴────────┘           \n",
    "              ▼                 A_1.json                  \n",
    "       Sample 0:   A1=2        ┌─────────────────────────┐\n",
    "       Sample 1:   A1=4  ───▶  │{                        │\n",
    "             ...               │    col: A               │\n",
    "       Sample 999: A1=3        │    row: 1               │\n",
    "                               │    value: [2, 4, ... 3] │\n",
    "                               │}                        │\n",
    "                               └─────────────────────────┘\n",
    "```"
   ]
  },
  {
   "cell_type": "code",
   "execution_count": 1,
   "id": "90abea17",
   "metadata": {
    "execution": {
     "iopub.execute_input": "2025-04-25T05:44:14.442727Z",
     "iopub.status.busy": "2025-04-25T05:44:14.442251Z",
     "iopub.status.idle": "2025-04-25T05:44:14.519492Z",
     "shell.execute_reply": "2025-04-25T05:44:14.519219Z"
    },
    "papermill": {
     "duration": 0.08182,
     "end_time": "2025-04-25T05:44:14.520521",
     "exception": false,
     "start_time": "2025-04-25T05:44:14.438701",
     "status": "completed"
    },
    "tags": []
   },
   "outputs": [],
   "source": [
    "#!/usr/bin/env python\n",
    "# coding: utf-8\n",
    "\n",
    "import os\n",
    "import pickle\n",
    "import shutil\n",
    "\n",
    "import duckdb\n",
    "import polars as pl"
   ]
  },
  {
   "cell_type": "code",
   "execution_count": 2,
   "id": "4b7d5d68",
   "metadata": {
    "execution": {
     "iopub.execute_input": "2025-04-25T05:44:14.523958Z",
     "iopub.status.busy": "2025-04-25T05:44:14.523841Z",
     "iopub.status.idle": "2025-04-25T05:44:14.526408Z",
     "shell.execute_reply": "2025-04-25T05:44:14.526162Z"
    },
    "papermill": {
     "duration": 0.005012,
     "end_time": "2025-04-25T05:44:14.527070",
     "exception": false,
     "start_time": "2025-04-25T05:44:14.522058",
     "status": "completed"
    },
    "tags": [
     "parameters"
    ]
   },
   "outputs": [],
   "source": [
    "EXPERIMENT = \"pac-duckdb-q1\"\n",
    "OUTPUT_DIR = f\"./outputs/{EXPERIMENT}-step1\"\n",
    "SAMPLES = 1024\n",
    "\n",
    "SAMPLE_STEP = f\"\"\"\n",
    "DROP TABLE IF EXISTS random_samples;\n",
    "\n",
    "CREATE TABLE random_samples AS\n",
    "WITH sample_numbers AS MATERIALIZED (\n",
    "    SELECT range AS sample_id FROM range({SAMPLES//2})\n",
    "), random_values AS MATERIALIZED (\n",
    "    SELECT \n",
    "        sample_numbers.sample_id,\n",
    "        customer.rowid AS row_id,\n",
    "        (RANDOM() > 0.5)::BOOLEAN AS random_binary\n",
    "    FROM sample_numbers\n",
    "    JOIN customer ON TRUE  -- Cross join to duplicate rows for each sample\n",
    ")\n",
    "SELECT\n",
    "    sample_id,\n",
    "    row_id,\n",
    "    random_binary\n",
    "FROM random_values\n",
    "UNION ALL\n",
    "SELECT -- select the complementary samples too\n",
    "    ({SAMPLES//2}) + sample_id,\n",
    "    row_id,\n",
    "    NOT random_binary  -- Inverse the random_binary to get the complementary sample\n",
    "FROM random_values\n",
    "ORDER BY sample_id, row_id;\n",
    "\"\"\"\n",
    "\n",
    "PREPARE_STEP = \"\"\"\n",
    "DEALLOCATE PREPARE run_query;\n",
    "\n",
    "PREPARE run_query AS \n",
    "SELECT\n",
    "    l_returnflag,\n",
    "    l_linestatus,\n",
    "    2*sum(l_quantity) AS sum_qty,\n",
    "    2*sum(l_extendedprice) AS sum_base_price,\n",
    "    2*sum(l_extendedprice * (1 - l_discount)) AS sum_disc_price,\n",
    "    2*sum(l_extendedprice * (1 - l_discount) * (1 + l_tax)) AS sum_charge,\n",
    "    avg(l_quantity) AS avg_qty,\n",
    "    avg(l_extendedprice) AS avg_price,\n",
    "    avg(l_discount) AS avg_disc,\n",
    "    2*count(*) AS count_order\n",
    "FROM\n",
    "    lineitem\n",
    "JOIN orders ON lineitem.l_orderkey = orders.o_orderkey\n",
    "JOIN customer ON orders.o_custkey = customer.c_custkey\n",
    "JOIN random_samples AS rs\n",
    "    ON rs.row_id = customer.rowid\n",
    "WHERE\n",
    "    l_shipdate <= CAST('1998-09-02' AS date)\n",
    "    AND rs.random_binary = TRUE\n",
    "    AND rs.sample_id = $sample\n",
    "GROUP BY\n",
    "    l_returnflag,\n",
    "    l_linestatus\n",
    "ORDER BY\n",
    "    l_returnflag,\n",
    "    l_linestatus;\n",
    "\"\"\"\n",
    "\n",
    "INDEX_COLS = ['l_returnflag', 'l_linestatus']\n",
    "OUTPUT_COLS = ['sum_qty', 'sum_base_price', 'sum_disc_price', 'sum_charge', 'avg_qty', 'avg_price', 'avg_disc', 'count_order']"
   ]
  },
  {
   "cell_type": "code",
   "execution_count": 3,
   "id": "f851d6b7",
   "metadata": {
    "execution": {
     "iopub.execute_input": "2025-04-25T05:44:14.530118Z",
     "iopub.status.busy": "2025-04-25T05:44:14.530011Z",
     "iopub.status.idle": "2025-04-25T05:44:14.532085Z",
     "shell.execute_reply": "2025-04-25T05:44:14.531811Z"
    },
    "papermill": {
     "duration": 0.004274,
     "end_time": "2025-04-25T05:44:14.532719",
     "exception": false,
     "start_time": "2025-04-25T05:44:14.528445",
     "status": "completed"
    },
    "tags": [
     "injected-parameters"
    ]
   },
   "outputs": [],
   "source": [
    "# Parameters\n",
    "EXPERIMENT = \"ap-duckdb-q4\"\n",
    "OUTPUT_DIR = \"./outputs/ap-duckdb-q4-step1\"\n",
    "SAMPLES = 1024\n",
    "SAMPLE_STEP = \"DROP TABLE IF EXISTS random_samples;\\n\\nCREATE TABLE random_samples AS\\nWITH sample_numbers AS MATERIALIZED (\\n    SELECT range AS sample_id FROM range(1024 // 2)\\n), random_values AS MATERIALIZED (\\n    SELECT \\n        sample_numbers.sample_id,\\n        orders.rowid AS row_id,\\n        (RANDOM() > 0.5)::BOOLEAN AS random_binary\\n    FROM sample_numbers\\n    JOIN orders ON TRUE  -- Cross join to duplicate rows for each sample\\n)\\nSELECT\\n    sample_id,\\n    row_id,\\n    random_binary\\nFROM random_values\\nUNION ALL\\nSELECT -- select the complementary samples too\\n    (1024 // 2) + sample_id,\\n    row_id,\\n    NOT random_binary  -- Inverse the random_binary to get the complementary sample\\nFROM random_values\\nORDER BY sample_id, row_id;\"\n",
    "PREPARE_STEP = \"DEALLOCATE PREPARE run_query;\\n\\nPREPARE run_query AS \\nSELECT\\n    o_orderpriority,\\n    count(*) AS order_count\\nFROM\\n    (SELECT * FROM orders\\n              JOIN random_samples AS rs ON rs.row_id = orders.rowid\\n              AND rs.random_binary = TRUE\\n              AND rs.sample_id = $sample) as orders,\\nWHERE\\n    o_orderdate >= CAST('1993-07-01' AS date)\\n    AND o_orderdate < CAST('1993-10-01' AS date)\\n    AND EXISTS (\\n        SELECT\\n            *\\n        FROM\\n            lineitem\\n        WHERE\\n            l_orderkey = o_orderkey\\n            AND l_commitdate < l_receiptdate)\\nGROUP BY\\n    o_orderpriority\\nORDER BY\\n    o_orderpriority;\"\n",
    "INDEX_COLS = [\"o_orderpriority\"]\n",
    "OUTPUT_COLS = [\"order_count\"]\n"
   ]
  },
  {
   "cell_type": "code",
   "execution_count": 4,
   "id": "fa621a7b",
   "metadata": {
    "execution": {
     "iopub.execute_input": "2025-04-25T05:44:14.535892Z",
     "iopub.status.busy": "2025-04-25T05:44:14.535787Z",
     "iopub.status.idle": "2025-04-25T05:44:14.537409Z",
     "shell.execute_reply": "2025-04-25T05:44:14.537210Z"
    },
    "papermill": {
     "duration": 0.003807,
     "end_time": "2025-04-25T05:44:14.538040",
     "exception": false,
     "start_time": "2025-04-25T05:44:14.534233",
     "status": "completed"
    },
    "tags": []
   },
   "outputs": [],
   "source": [
    "if not os.path.exists(OUTPUT_DIR):\n",
    "    os.makedirs(OUTPUT_DIR)"
   ]
  },
  {
   "cell_type": "code",
   "execution_count": 5,
   "id": "b353c5a3",
   "metadata": {
    "execution": {
     "iopub.execute_input": "2025-04-25T05:44:14.540884Z",
     "iopub.status.busy": "2025-04-25T05:44:14.540795Z",
     "iopub.status.idle": "2025-04-25T05:44:14.848555Z",
     "shell.execute_reply": "2025-04-25T05:44:14.848084Z"
    },
    "papermill": {
     "duration": 0.310078,
     "end_time": "2025-04-25T05:44:14.849382",
     "exception": false,
     "start_time": "2025-04-25T05:44:14.539304",
     "status": "completed"
    },
    "tags": []
   },
   "outputs": [],
   "source": [
    "# duckdb load data/tpch/tpch.duckdb into the temporary in-memory database\n",
    "con = duckdb.connect(database=':memory:')\n",
    "tables = [\"customer\", \"lineitem\", \"nation\", \"orders\", \"part\", \"partsupp\", \"region\", \"supplier\"]\n",
    "for t in tables:\n",
    "    con.execute(f\"CREATE TABLE {t} AS SELECT * FROM 'data/tpch/{t}.parquet'\")"
   ]
  },
  {
   "cell_type": "code",
   "execution_count": 6,
   "id": "d596972b",
   "metadata": {
    "execution": {
     "iopub.execute_input": "2025-04-25T05:44:14.852562Z",
     "iopub.status.busy": "2025-04-25T05:44:14.852463Z",
     "iopub.status.idle": "2025-04-25T05:44:33.573423Z",
     "shell.execute_reply": "2025-04-25T05:44:33.572603Z"
    },
    "papermill": {
     "duration": 18.724343,
     "end_time": "2025-04-25T05:44:33.575229",
     "exception": false,
     "start_time": "2025-04-25T05:44:14.850886",
     "status": "completed"
    },
    "tags": []
   },
   "outputs": [],
   "source": [
    "# Construct the table of random samples\n",
    "# to use, join it with the lineitem table (for specific sample # s) and filter to just the\n",
    "# rows where random_binary = 1.0\n",
    "# This will give us a 50% sample of the lineitem table for each sample # s\n",
    "\n",
    "assert SAMPLES % 2 == 0, \"SAMPLES must be even to create complementary samples.\"\n",
    "\n",
    "random_samples = con.execute(SAMPLE_STEP)"
   ]
  },
  {
   "cell_type": "markdown",
   "id": "9e9d5eff",
   "metadata": {
    "papermill": {
     "duration": 0.001468,
     "end_time": "2025-04-25T05:44:33.579633",
     "exception": false,
     "start_time": "2025-04-25T05:44:33.578165",
     "status": "completed"
    },
    "tags": []
   },
   "source": [
    "The randomness of what rows are chosen is saved to disk in `random_binary.json`. For each sample #, there is an array with one entry per row, where 1 means the row was chosen and 0 means it was not."
   ]
  },
  {
   "cell_type": "code",
   "execution_count": 7,
   "id": "fbbe1ac3",
   "metadata": {
    "execution": {
     "iopub.execute_input": "2025-04-25T05:44:33.583171Z",
     "iopub.status.busy": "2025-04-25T05:44:33.582972Z",
     "iopub.status.idle": "2025-04-25T05:44:36.515367Z",
     "shell.execute_reply": "2025-04-25T05:44:36.515094Z"
    },
    "papermill": {
     "duration": 2.935545,
     "end_time": "2025-04-25T05:44:36.516424",
     "exception": false,
     "start_time": "2025-04-25T05:44:33.580879",
     "status": "completed"
    },
    "tags": []
   },
   "outputs": [],
   "source": [
    "con.execute(\"\"\"\n",
    "SELECT sample_id, array_agg(random_binary::TINYINT) as random_binary\n",
    "FROM random_samples\n",
    "GROUP BY sample_id;\n",
    "\"\"\").pl().write_json(f\"{OUTPUT_DIR}/random_binary.json\")"
   ]
  },
  {
   "cell_type": "markdown",
   "id": "fd5a7dcd",
   "metadata": {
    "papermill": {
     "duration": 0.001459,
     "end_time": "2025-04-25T05:44:36.519485",
     "exception": false,
     "start_time": "2025-04-25T05:44:36.518026",
     "status": "completed"
    },
    "tags": []
   },
   "source": [
    "Query is specified as a prepared statement. We will then execute it once per sample."
   ]
  },
  {
   "cell_type": "code",
   "execution_count": 8,
   "id": "ee4b9e92",
   "metadata": {
    "execution": {
     "iopub.execute_input": "2025-04-25T05:44:36.522747Z",
     "iopub.status.busy": "2025-04-25T05:44:36.522472Z",
     "iopub.status.idle": "2025-04-25T05:44:36.591645Z",
     "shell.execute_reply": "2025-04-25T05:44:36.591403Z"
    },
    "papermill": {
     "duration": 0.071813,
     "end_time": "2025-04-25T05:44:36.592581",
     "exception": false,
     "start_time": "2025-04-25T05:44:36.520768",
     "status": "completed"
    },
    "tags": []
   },
   "outputs": [
    {
     "data": {
      "text/html": [
       "<div><style>\n",
       ".dataframe > thead > tr,\n",
       ".dataframe > tbody > tr {\n",
       "  text-align: right;\n",
       "  white-space: pre-wrap;\n",
       "}\n",
       "</style>\n",
       "<small>shape: (5, 2)</small><table border=\"1\" class=\"dataframe\"><thead><tr><th>o_orderpriority</th><th>order_count</th></tr><tr><td>str</td><td>i64</td></tr></thead><tbody><tr><td>&quot;1-URGENT&quot;</td><td>490</td></tr><tr><td>&quot;2-HIGH&quot;</td><td>487</td></tr><tr><td>&quot;3-MEDIUM&quot;</td><td>499</td></tr><tr><td>&quot;4-NOT SPECIFIED&quot;</td><td>503</td></tr><tr><td>&quot;5-LOW&quot;</td><td>534</td></tr></tbody></table></div>"
      ],
      "text/plain": [
       "shape: (5, 2)\n",
       "┌─────────────────┬─────────────┐\n",
       "│ o_orderpriority ┆ order_count │\n",
       "│ ---             ┆ ---         │\n",
       "│ str             ┆ i64         │\n",
       "╞═════════════════╪═════════════╡\n",
       "│ 1-URGENT        ┆ 490         │\n",
       "│ 2-HIGH          ┆ 487         │\n",
       "│ 3-MEDIUM        ┆ 499         │\n",
       "│ 4-NOT SPECIFIED ┆ 503         │\n",
       "│ 5-LOW           ┆ 534         │\n",
       "└─────────────────┴─────────────┘"
      ]
     },
     "execution_count": 8,
     "metadata": {},
     "output_type": "execute_result"
    }
   ],
   "source": [
    "# Query\n",
    "con.execute(PREPARE_STEP)\n",
    "\n",
    "# Run query to see output\n",
    "dfs0 = con.execute(f\"EXECUTE run_query(sample := {0});\").pl()\n",
    "\n",
    "# Save csv copies of the first 5 samples\n",
    "os.makedirs(f\"{OUTPUT_DIR}/csv\", exist_ok=True)\n",
    "for s in range(5):\n",
    "    con.execute(f\"EXECUTE run_query(sample := {s});\").pl().write_csv(f\"{OUTPUT_DIR}/csv/sample_{s}.csv\")\n",
    "\n",
    "dfs0"
   ]
  },
  {
   "cell_type": "code",
   "execution_count": 9,
   "id": "a15d889c",
   "metadata": {
    "execution": {
     "iopub.execute_input": "2025-04-25T05:44:36.595904Z",
     "iopub.status.busy": "2025-04-25T05:44:36.595799Z",
     "iopub.status.idle": "2025-04-25T05:44:44.398171Z",
     "shell.execute_reply": "2025-04-25T05:44:44.397906Z"
    },
    "papermill": {
     "duration": 7.804774,
     "end_time": "2025-04-25T05:44:44.398918",
     "exception": false,
     "start_time": "2025-04-25T05:44:36.594144",
     "status": "completed"
    },
    "tags": []
   },
   "outputs": [
    {
     "data": {
      "text/html": [
       "<div><style>\n",
       ".dataframe > thead > tr,\n",
       ".dataframe > tbody > tr {\n",
       "  text-align: right;\n",
       "  white-space: pre-wrap;\n",
       "}\n",
       "</style>\n",
       "<small>shape: (5_120, 3)</small><table border=\"1\" class=\"dataframe\"><thead><tr><th>sample</th><th>o_orderpriority</th><th>order_count</th></tr><tr><td>i32</td><td>str</td><td>i64</td></tr></thead><tbody><tr><td>0</td><td>&quot;1-URGENT&quot;</td><td>490</td></tr><tr><td>0</td><td>&quot;2-HIGH&quot;</td><td>487</td></tr><tr><td>0</td><td>&quot;3-MEDIUM&quot;</td><td>499</td></tr><tr><td>0</td><td>&quot;4-NOT SPECIFIED&quot;</td><td>503</td></tr><tr><td>0</td><td>&quot;5-LOW&quot;</td><td>534</td></tr><tr><td>&hellip;</td><td>&hellip;</td><td>&hellip;</td></tr><tr><td>1023</td><td>&quot;1-URGENT&quot;</td><td>504</td></tr><tr><td>1023</td><td>&quot;2-HIGH&quot;</td><td>471</td></tr><tr><td>1023</td><td>&quot;3-MEDIUM&quot;</td><td>530</td></tr><tr><td>1023</td><td>&quot;4-NOT SPECIFIED&quot;</td><td>515</td></tr><tr><td>1023</td><td>&quot;5-LOW&quot;</td><td>540</td></tr></tbody></table></div>"
      ],
      "text/plain": [
       "shape: (5_120, 3)\n",
       "┌────────┬─────────────────┬─────────────┐\n",
       "│ sample ┆ o_orderpriority ┆ order_count │\n",
       "│ ---    ┆ ---             ┆ ---         │\n",
       "│ i32    ┆ str             ┆ i64         │\n",
       "╞════════╪═════════════════╪═════════════╡\n",
       "│ 0      ┆ 1-URGENT        ┆ 490         │\n",
       "│ 0      ┆ 2-HIGH          ┆ 487         │\n",
       "│ 0      ┆ 3-MEDIUM        ┆ 499         │\n",
       "│ 0      ┆ 4-NOT SPECIFIED ┆ 503         │\n",
       "│ 0      ┆ 5-LOW           ┆ 534         │\n",
       "│ …      ┆ …               ┆ …           │\n",
       "│ 1023   ┆ 1-URGENT        ┆ 504         │\n",
       "│ 1023   ┆ 2-HIGH          ┆ 471         │\n",
       "│ 1023   ┆ 3-MEDIUM        ┆ 530         │\n",
       "│ 1023   ┆ 4-NOT SPECIFIED ┆ 515         │\n",
       "│ 1023   ┆ 5-LOW           ┆ 540         │\n",
       "└────────┴─────────────────┴─────────────┘"
      ]
     },
     "execution_count": 9,
     "metadata": {},
     "output_type": "execute_result"
    }
   ],
   "source": [
    "# Run the query for each sample, but accumulate in a pl.DataFrame instead of a list\n",
    "dfsdf: pl.DataFrame = pl.concat(\n",
    "    con.execute(f\"EXECUTE run_query(sample := {s});\").pl().insert_column(0, pl.lit(s).alias(\"sample\"))\n",
    "    for s in range(SAMPLES)\n",
    ")\n",
    "dfsdf"
   ]
  },
  {
   "cell_type": "code",
   "execution_count": 10,
   "id": "568e0d18",
   "metadata": {
    "execution": {
     "iopub.execute_input": "2025-04-25T05:44:44.402611Z",
     "iopub.status.busy": "2025-04-25T05:44:44.402515Z",
     "iopub.status.idle": "2025-04-25T05:44:44.404683Z",
     "shell.execute_reply": "2025-04-25T05:44:44.404464Z"
    },
    "papermill": {
     "duration": 0.004597,
     "end_time": "2025-04-25T05:44:44.405339",
     "exception": false,
     "start_time": "2025-04-25T05:44:44.400742",
     "status": "completed"
    },
    "tags": []
   },
   "outputs": [],
   "source": [
    "# Define which columns are the group-by keys (INDEX_COLS) and which are the output columns (OUTPUT_COLS)\n",
    "# - moved to parameters cell at top of notebook\n",
    "\n",
    "# Save these to disk for later use\n",
    "with open(f\"{OUTPUT_DIR}/INDEX_COLS.pkl\", 'wb') as f:\n",
    "    pickle.dump(INDEX_COLS, f)\n",
    "with open(f\"{OUTPUT_DIR}/OUTPUT_COLS.pkl\", 'wb') as f:\n",
    "    pickle.dump(OUTPUT_COLS, f)"
   ]
  },
  {
   "cell_type": "code",
   "execution_count": 11,
   "id": "4f913d54",
   "metadata": {
    "execution": {
     "iopub.execute_input": "2025-04-25T05:44:44.408952Z",
     "iopub.status.busy": "2025-04-25T05:44:44.408840Z",
     "iopub.status.idle": "2025-04-25T05:44:44.414429Z",
     "shell.execute_reply": "2025-04-25T05:44:44.414193Z"
    },
    "papermill": {
     "duration": 0.008219,
     "end_time": "2025-04-25T05:44:44.415142",
     "exception": false,
     "start_time": "2025-04-25T05:44:44.406923",
     "status": "completed"
    },
    "tags": []
   },
   "outputs": [
    {
     "data": {
      "text/html": [
       "<div><style>\n",
       ".dataframe > thead > tr,\n",
       ".dataframe > tbody > tr {\n",
       "  text-align: right;\n",
       "  white-space: pre-wrap;\n",
       "}\n",
       "</style>\n",
       "<small>shape: (5, 2)</small><table border=\"1\" class=\"dataframe\"><thead><tr><th>o_orderpriority</th><th>order_count</th></tr><tr><td>str</td><td>list[i64]</td></tr></thead><tbody><tr><td>&quot;1-URGENT&quot;</td><td>[490, 522, … 504]</td></tr><tr><td>&quot;2-HIGH&quot;</td><td>[487, 496, … 471]</td></tr><tr><td>&quot;3-MEDIUM&quot;</td><td>[499, 516, … 530]</td></tr><tr><td>&quot;4-NOT SPECIFIED&quot;</td><td>[503, 513, … 515]</td></tr><tr><td>&quot;5-LOW&quot;</td><td>[534, 537, … 540]</td></tr></tbody></table></div>"
      ],
      "text/plain": [
       "shape: (5, 2)\n",
       "┌─────────────────┬───────────────────┐\n",
       "│ o_orderpriority ┆ order_count       │\n",
       "│ ---             ┆ ---               │\n",
       "│ str             ┆ list[i64]         │\n",
       "╞═════════════════╪═══════════════════╡\n",
       "│ 1-URGENT        ┆ [490, 522, … 504] │\n",
       "│ 2-HIGH          ┆ [487, 496, … 471] │\n",
       "│ 3-MEDIUM        ┆ [499, 516, … 530] │\n",
       "│ 4-NOT SPECIFIED ┆ [503, 513, … 515] │\n",
       "│ 5-LOW           ┆ [534, 537, … 540] │\n",
       "└─────────────────┴───────────────────┘"
      ]
     },
     "execution_count": 11,
     "metadata": {},
     "output_type": "execute_result"
    }
   ],
   "source": [
    "# Combine all the samples into one table, grouped-by the group-by keys. Each cell contains an n <= # of samples length array of values.\n",
    "listdf = dfsdf.drop(\"sample\").group_by(INDEX_COLS, maintain_order=True).all()\n",
    "listdf"
   ]
  },
  {
   "cell_type": "code",
   "execution_count": 12,
   "id": "1b00e7b6",
   "metadata": {
    "execution": {
     "iopub.execute_input": "2025-04-25T05:44:44.419945Z",
     "iopub.status.busy": "2025-04-25T05:44:44.419754Z",
     "iopub.status.idle": "2025-04-25T05:44:44.422262Z",
     "shell.execute_reply": "2025-04-25T05:44:44.421965Z"
    },
    "papermill": {
     "duration": 0.006289,
     "end_time": "2025-04-25T05:44:44.423043",
     "exception": false,
     "start_time": "2025-04-25T05:44:44.416754",
     "status": "completed"
    },
    "tags": []
   },
   "outputs": [
    {
     "data": {
      "text/plain": [
       "[{'o_orderpriority': '1-URGENT'},\n",
       " {'o_orderpriority': '2-HIGH'},\n",
       " {'o_orderpriority': '3-MEDIUM'},\n",
       " {'o_orderpriority': '4-NOT SPECIFIED'},\n",
       " {'o_orderpriority': '5-LOW'}]"
      ]
     },
     "execution_count": 12,
     "metadata": {},
     "output_type": "execute_result"
    }
   ],
   "source": [
    "# What are all the possible group-by key combinations?\n",
    "allgroups: pl.DataFrame = listdf.select(INDEX_COLS)\n",
    "allgroups.to_dicts()"
   ]
  },
  {
   "cell_type": "code",
   "execution_count": 13,
   "id": "185824fa",
   "metadata": {
    "execution": {
     "iopub.execute_input": "2025-04-25T05:44:44.426780Z",
     "iopub.status.busy": "2025-04-25T05:44:44.426666Z",
     "iopub.status.idle": "2025-04-25T05:44:44.431257Z",
     "shell.execute_reply": "2025-04-25T05:44:44.430968Z"
    },
    "papermill": {
     "duration": 0.007302,
     "end_time": "2025-04-25T05:44:44.432054",
     "exception": false,
     "start_time": "2025-04-25T05:44:44.424752",
     "status": "completed"
    },
    "tags": []
   },
   "outputs": [],
   "source": [
    "# Template for the final output, including all possible group-by groups\n",
    "# Obtained by collecting all the samples in a big table and then keeping only the first occurrence of each groupby key.\n",
    "# Then, fill all OUTPUT_COLS with nulls\n",
    "templatedf = dfsdf.drop(\"sample\").group_by(INDEX_COLS, maintain_order=True).first()\n",
    "templatedf = templatedf.clear(n=len(allgroups)).with_columns(allgroups)\n",
    "templatedf\n",
    "\n",
    "with open(f\"{OUTPUT_DIR}/template.pkl\", \"wb\") as f:\n",
    "    pickle.dump(templatedf, f)"
   ]
  },
  {
   "cell_type": "code",
   "execution_count": 14,
   "id": "992155ba",
   "metadata": {
    "execution": {
     "iopub.execute_input": "2025-04-25T05:44:44.436212Z",
     "iopub.status.busy": "2025-04-25T05:44:44.436088Z",
     "iopub.status.idle": "2025-04-25T05:44:44.441924Z",
     "shell.execute_reply": "2025-04-25T05:44:44.441651Z"
    },
    "papermill": {
     "duration": 0.008582,
     "end_time": "2025-04-25T05:44:44.442639",
     "exception": false,
     "start_time": "2025-04-25T05:44:44.434057",
     "status": "completed"
    },
    "tags": []
   },
   "outputs": [],
   "source": [
    "# Write all table entries in the output table to their own JSON files. Each file has a number, the information of which file corresponds to which table entry\n",
    "# is stored in reverse_map.json (as well as in the files themselves)\n",
    "os.makedirs(f\"{OUTPUT_DIR}/json\", exist_ok=True)\n",
    "i: int = 0\n",
    "for col in OUTPUT_COLS:\n",
    "    for group in allgroups.iter_rows(named=True):\n",
    "        values = listdf.filter(pl.col(k).eq(v) for k, v in group.items()).select(col).to_series()\n",
    "        j = pl.DataFrame().with_columns([\n",
    "            pl.lit(col).alias(\"col\"),\n",
    "            pl.lit(group).alias(\"row\"),\n",
    "            pl.lit(values.explode().dtype.__repr__()).alias(\"dtype\"),\n",
    "            values.alias(\"values\"),\n",
    "        ])\n",
    "        j.write_json(f\"{OUTPUT_DIR}/json/{i}.json\")\n",
    "        i+=1"
   ]
  },
  {
   "cell_type": "code",
   "execution_count": 15,
   "id": "696e30a1",
   "metadata": {
    "execution": {
     "iopub.execute_input": "2025-04-25T05:44:44.446729Z",
     "iopub.status.busy": "2025-04-25T05:44:44.446615Z",
     "iopub.status.idle": "2025-04-25T05:45:05.254931Z",
     "shell.execute_reply": "2025-04-25T05:45:05.254655Z"
    },
    "papermill": {
     "duration": 20.811088,
     "end_time": "2025-04-25T05:45:05.255617",
     "exception": false,
     "start_time": "2025-04-25T05:44:44.444529",
     "status": "completed"
    },
    "tags": []
   },
   "outputs": [
    {
     "data": {
      "text/plain": [
       "'/Users/michael/projects/dpdb/pacdb/outputs/ap-duckdb-q4-step1.zip'"
      ]
     },
     "execution_count": 15,
     "metadata": {},
     "output_type": "execute_result"
    }
   ],
   "source": [
    "# zip the OUTPUT_DIR\n",
    "shutil.make_archive(OUTPUT_DIR, 'zip', OUTPUT_DIR)"
   ]
  }
 ],
 "metadata": {
  "kernelspec": {
   "display_name": ".venv",
   "language": "python",
   "name": "python3"
  },
  "language_info": {
   "codemirror_mode": {
    "name": "ipython",
    "version": 3
   },
   "file_extension": ".py",
   "mimetype": "text/x-python",
   "name": "python",
   "nbconvert_exporter": "python",
   "pygments_lexer": "ipython3",
   "version": "3.11.7"
  },
  "papermill": {
   "default_parameters": {},
   "duration": 51.855233,
   "end_time": "2025-04-25T05:45:05.676586",
   "environment_variables": {},
   "exception": null,
   "input_path": "autopac-duckdb-step1.ipynb",
   "output_path": "./ap-duckdb-q4-step1.ipynb",
   "parameters": {
    "EXPERIMENT": "ap-duckdb-q4",
    "INDEX_COLS": [
     "o_orderpriority"
    ],
    "OUTPUT_COLS": [
     "order_count"
    ],
    "OUTPUT_DIR": "./outputs/ap-duckdb-q4-step1",
    "PREPARE_STEP": "DEALLOCATE PREPARE run_query;\n\nPREPARE run_query AS \nSELECT\n    o_orderpriority,\n    count(*) AS order_count\nFROM\n    (SELECT * FROM orders\n              JOIN random_samples AS rs ON rs.row_id = orders.rowid\n              AND rs.random_binary = TRUE\n              AND rs.sample_id = $sample) as orders,\nWHERE\n    o_orderdate >= CAST('1993-07-01' AS date)\n    AND o_orderdate < CAST('1993-10-01' AS date)\n    AND EXISTS (\n        SELECT\n            *\n        FROM\n            lineitem\n        WHERE\n            l_orderkey = o_orderkey\n            AND l_commitdate < l_receiptdate)\nGROUP BY\n    o_orderpriority\nORDER BY\n    o_orderpriority;",
    "SAMPLES": 1024,
    "SAMPLE_STEP": "DROP TABLE IF EXISTS random_samples;\n\nCREATE TABLE random_samples AS\nWITH sample_numbers AS MATERIALIZED (\n    SELECT range AS sample_id FROM range(1024 // 2)\n), random_values AS MATERIALIZED (\n    SELECT \n        sample_numbers.sample_id,\n        orders.rowid AS row_id,\n        (RANDOM() > 0.5)::BOOLEAN AS random_binary\n    FROM sample_numbers\n    JOIN orders ON TRUE  -- Cross join to duplicate rows for each sample\n)\nSELECT\n    sample_id,\n    row_id,\n    random_binary\nFROM random_values\nUNION ALL\nSELECT -- select the complementary samples too\n    (1024 // 2) + sample_id,\n    row_id,\n    NOT random_binary  -- Inverse the random_binary to get the complementary sample\nFROM random_values\nORDER BY sample_id, row_id;"
   },
   "start_time": "2025-04-25T05:44:13.821353",
   "version": "2.6.0"
  }
 },
 "nbformat": 4,
 "nbformat_minor": 5
}