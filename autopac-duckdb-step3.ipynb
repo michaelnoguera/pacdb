{
 "cells": [
  {
   "cell_type": "code",
   "execution_count": null,
   "id": "eba650e4",
   "metadata": {},
   "outputs": [],
   "source": [
    "#!/usr/bin/env python\n",
    "# coding: utf-8\n",
    "\n",
    "import json\n",
    "import os\n",
    "import pickle\n",
    "import shutil\n",
    "import zipfile\n",
    "\n",
    "import parse\n",
    "import polars as pl\n",
    "\n",
    "from timer import Timer"
   ]
  },
  {
   "cell_type": "code",
   "execution_count": null,
   "id": "5bbee7d0",
   "metadata": {
    "tags": [
     "parameters"
    ]
   },
   "outputs": [],
   "source": [
    "#EXPERIMENT = \"asdf\"\n",
    "#INPUT_ZIP = f\"./outputs/{EXPERIMENT}-step2.zip\"\n",
    "#OUTPUT_DIR = f\"./outputs/{EXPERIMENT}-step3\"\n",
    "#INDEX_COLS = pickle.load(open(f'./outputs/{EXPERIMENT}-step1/INDEX_COLS.pkl', 'rb'))\n",
    "#OUTPUT_COLS = pickle.load(open(f'./outputs/{EXPERIMENT}-step1/OUTPUT_COLS.pkl', 'rb'))\n",
    "#templatedf_path = f\"./outputs/{EXPERIMENT}-step2/templatedf.csv\"\n",
    "EXPERIMENT = \"\"\n",
    "INPUT_ZIP = \"\"\n",
    "OUTPUT_DIR = \"\"\n",
    "INDEX_COLS = []\n",
    "OUTPUT_COLS = []\n",
    "templatedf_path = \"\""
   ]
  },
  {
   "cell_type": "code",
   "execution_count": null,
   "id": "7eeff702",
   "metadata": {},
   "outputs": [],
   "source": [
    "# Timer setup\n",
    "timer = Timer(experiment=EXPERIMENT, step=\"step3\", output_dir=\"./times\")\n",
    "\n",
    "# Ensure the output directory exists\n",
    "if not os.path.exists(OUTPUT_DIR):\n",
    "    os.makedirs(OUTPUT_DIR)"
   ]
  },
  {
   "cell_type": "code",
   "execution_count": null,
   "id": "8a30a7f3",
   "metadata": {},
   "outputs": [],
   "source": [
    "USING_DEFAULT_INDEX_COLS = False\n",
    "if len(INDEX_COLS) == 0:\n",
    "    print(\"No index cols provided, using default index cols\")\n",
    "    USING_DEFAULT_INDEX_COLS = True\n",
    "    INDEX_COLS = [\"rank\"]"
   ]
  },
  {
   "cell_type": "code",
   "execution_count": null,
   "id": "257dec28",
   "metadata": {},
   "outputs": [],
   "source": [
    "# Import saved variables from the first step\n",
    "timer.start(\"load_templatedf\")\n",
    "templatedf: pl.DataFrame = pickle.load(open(templatedf_path, 'rb'))\n",
    "timer.end()"
   ]
  },
  {
   "cell_type": "code",
   "execution_count": null,
   "id": "ab3a80fe",
   "metadata": {},
   "outputs": [],
   "source": [
    "# load the json input files from step 2\n",
    "# {'col': column name as string,\n",
    "#  'row': group-by column values as dict (effectively a row id),\n",
    "#  'values': [ 1000x values ] }\n",
    "timer.start(\"load_all_json_data\")\n",
    "alldata = {}\n",
    "\n",
    "pattern = parse.compile(\"{n}.json\")\n",
    "\n",
    "with zipfile.ZipFile(INPUT_ZIP, 'r') as zf:\n",
    "    for filename in zf.namelist():\n",
    "        if filename.endswith('.json'):\n",
    "            with zf.open(filename) as f:\n",
    "                filenumber = int(pattern.parse(filename).named['n'])\n",
    "                data = json.load(f)\n",
    "                d: dict = data\n",
    "                alldata[filenumber] = d\n",
    "alldata.keys()\n",
    "timer.end()"
   ]
  },
  {
   "cell_type": "code",
   "execution_count": null,
   "id": "fa47deff",
   "metadata": {},
   "outputs": [],
   "source": [
    "# Make sure the data types of the row fields are correct\n",
    "timer.start(\"determine_cell_locations\")\n",
    "for i in range(len(alldata)):\n",
    "    alldata[i]['row'] = pl.DataFrame(alldata[i]['row']).cast(templatedf.select(INDEX_COLS).schema).to_dicts()[0]"
   ]
  },
  {
   "cell_type": "code",
   "execution_count": null,
   "id": "1d086fc3",
   "metadata": {},
   "outputs": [],
   "source": [
    "allgroups = templatedf.select(INDEX_COLS)\n",
    "allgroups"
   ]
  },
  {
   "cell_type": "code",
   "execution_count": null,
   "id": "0b249a7b",
   "metadata": {},
   "outputs": [],
   "source": [
    "# Cursed data shuffling to reidentify what row goes where, what column goes where, and what the labels should be on everything\n",
    "colidxes = {}\n",
    "for col in OUTPUT_COLS:\n",
    "    colidxes[col] = templatedf.get_column_index(col)\n",
    "rowidxes = {}\n",
    "for row in templatedf.select(INDEX_COLS).iter_rows(named=True):\n",
    "    rowidxes[tuple(row.values())] = allgroups.with_row_index().filter(\n",
    "        pl.col(k).eq(v)\n",
    "        for k, v in row.items()\n",
    "    ).select(\"index\").item()\n",
    "    print(row)\n",
    "\n",
    "allinfo = [\n",
    "    {\"colname\": adentry['col'],\n",
    "    \"rowid\": tuple(adentry['row'].values()),\n",
    "    \"value\": adentry['value'],\n",
    "    \"colidx\": colidxes[adentry['col']],\n",
    "    \"rowidx\": rowidxes[tuple(adentry['row'].values())]}\n",
    "    for adidx, adentry in alldata.items()\n",
    "]\n",
    "\n",
    "colnames = {}\n",
    "rownames = {}\n",
    "for entry in allinfo:\n",
    "    colnames[entry['colidx']] = entry['colname']\n",
    "    rownames[entry['rowidx']] = entry['rowid']\n",
    "timer.end()"
   ]
  },
  {
   "cell_type": "markdown",
   "id": "61e58b37",
   "metadata": {},
   "source": [
    "Naive reconstruction"
   ]
  },
  {
   "cell_type": "code",
   "execution_count": null,
   "id": "c6da70b0",
   "metadata": {},
   "outputs": [],
   "source": [
    "# Naive reconstruction based on the indices of the keys in the templatedf\n",
    "timer.start(\"reconstruct_dataframe\")\n",
    "allcols = INDEX_COLS + OUTPUT_COLS\n",
    "allrows = allgroups.select(INDEX_COLS).to_numpy(structured=True).tolist()\n",
    "\n",
    "\n",
    "allinfo2 = {\n",
    "    (rowidxes[tuple(adentry['row'].values())], colidxes[adentry['col']]): adentry['value']\n",
    "    for adidx, adentry in alldata.items()\n",
    "}\n",
    "\n",
    "df2 = []\n",
    "print(allcols)\n",
    "for row in allrows:\n",
    "    print(row, [allinfo2.get((rowidxes[tuple(row)], colidxes[col]), None) for col in OUTPUT_COLS])\n",
    "    df2.append([*row, *[allinfo2.get((rowidxes[tuple(row)], colidxes[col]), None) for col in OUTPUT_COLS]])"
   ]
  },
  {
   "cell_type": "code",
   "execution_count": null,
   "id": "396c2efa",
   "metadata": {},
   "outputs": [],
   "source": [
    "df = pl.DataFrame(df2, schema=allcols, orient='row')\n",
    "\n",
    "if USING_DEFAULT_INDEX_COLS: # If we used default index cols, remove them from output\n",
    "    df = df.select(OUTPUT_COLS)\n",
    "\n",
    "timer.end()\n",
    "df"
   ]
  },
  {
   "cell_type": "code",
   "execution_count": null,
   "id": "22658efb",
   "metadata": {},
   "outputs": [],
   "source": [
    "timer.start(\"write_output_json\")\n",
    "df.write_json(os.path.join(OUTPUT_DIR, 'output.json'))\n",
    "timer.end()"
   ]
  },
  {
   "cell_type": "code",
   "execution_count": null,
   "id": "fbf29824",
   "metadata": {},
   "outputs": [],
   "source": [
    "# zip the OUTPUT_DIR\n",
    "timer.start(\"zip_output\")\n",
    "shutil.make_archive(OUTPUT_DIR, 'zip', OUTPUT_DIR)\n",
    "timer.end()"
   ]
  }
 ],
 "metadata": {
  "kernelspec": {
   "display_name": "Python 3 (ipykernel)",
   "language": "python",
   "name": "python3"
  },
  "language_info": {
   "codemirror_mode": {
    "name": "ipython",
    "version": 3
   },
   "file_extension": ".py",
   "mimetype": "text/x-python",
   "name": "python",
   "nbconvert_exporter": "python",
   "pygments_lexer": "ipython3",
   "version": "3.9.17"
  }
 },
 "nbformat": 4,
 "nbformat_minor": 5
}
