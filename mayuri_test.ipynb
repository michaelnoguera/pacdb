{
 "cells": [
  {
   "cell_type": "markdown",
   "metadata": {},
   "source": [
    "# Modified TPC-H Q1 Microbenchmark\n",
    "This file is adapted to use numpy only without Spark.\n",
    "\n",
    "```sql\n",
    "select\n",
    "  sum(l_quantity) as sum_qty,\n",
    "  sum(l_extendedprice) as sum_base_price,\n",
    "  sum(l_extendedprice * (1 - l_discount)) as sum_disc_price,\n",
    "  sum(l_extendedprice * (1 - l_discount) * (1 + l_tax)) as sum_charge,\n",
    "  avg(l_quantity) as avg_qty,\n",
    "  avg(l_extendedprice) as avg_price,\n",
    "  avg(l_discount) as avg_disc,\n",
    "  count(*) as count_order\n",
    "from\n",
    "  lineitem\n",
    "where\n",
    "  l_shipdate <= '1998-09-02'\n",
    "  and l_returnflag = 'A'\n",
    "  and l_linestatus = 'F'\n",
    "```"
   ]
  },
  {
   "cell_type": "code",
   "execution_count": 1,
   "metadata": {},
   "outputs": [
    {
     "name": "stdout",
     "output_type": "stream",
     "text": [
      "GENERATE = True, so we will generate new samples.\n"
     ]
    }
   ],
   "source": [
    "EXPERIMENT = 'pac-q1-svd'\n",
    "OUTPUT_DIR = f'./outputs/{EXPERIMENT}'\n",
    "GENERATE = True\n",
    "USE_EVEN_NUMBER_OF_INPUT_ROWS = False\n",
    "SEED_RANDOM_NUMBER_GENERATOR = True\n",
    "\n",
    "SAMPLING_METHOD = 'poisson' # 'poisson' or 'half'\n",
    "\n",
    "if GENERATE:\n",
    "    print(\"GENERATE = True, so we will generate new samples.\")\n",
    "else:\n",
    "    print(\"GENERATE = False, so we will load saved output from files rather than recomputing.\")\n",
    "\n",
    "import os\n",
    "if not os.path.exists(OUTPUT_DIR):\n",
    "    os.makedirs(OUTPUT_DIR)\n"
   ]
  },
  {
   "cell_type": "markdown",
   "metadata": {},
   "source": [
    "### Running PAC"
   ]
  },
  {
   "cell_type": "code",
   "execution_count": 2,
   "metadata": {},
   "outputs": [],
   "source": [
    "from typing import Any, Callable, Dict, List, Tuple, Union\n",
    "\n",
    "import numpy as np\n",
    "if SEED_RANDOM_NUMBER_GENERATOR:\n",
    "    np.random.seed(0)\n",
    "\n",
    "import pandas as pd\n",
    "from pandas import DataFrame\n",
    "import concurrent.futures\n",
    "import pyarrow as pa\n",
    "import pyarrow.parquet as pq\n",
    "import pickle\n",
    "from numpy.random import laplace\n",
    "from functools import reduce\n",
    "import operator\n",
    "from IPython.display import display, HTML\n",
    "from datetime import date\n",
    "from scipy import special"
   ]
  },
  {
   "cell_type": "code",
   "execution_count": 3,
   "metadata": {},
   "outputs": [],
   "source": [
    "### Mayuri's conversion functions between DP epsilon and PAC MI using posterior advantage for equivalence\n",
    "def calc_posterior(mi, prior=0.5, prec = 100000):\n",
    "    test_vals = [x / prec for x in range(1, prec)]\n",
    "    max_t = None\n",
    "    for t in test_vals:\n",
    "        if t*np.log(t/prior)+(1-t)*np.log((1-t)/(1-prior)) <= mi:\n",
    "            if  max_t is None or t > max_t:\n",
    "                max_t = t\n",
    "    return max_t\n",
    "\n",
    "def dp_epsilon_to_posterior_success(epsilon):\n",
    "    return 1 - 1./(1+np.exp(epsilon))\n",
    "\n",
    "def dp_ps_to_epsilon(ps):\n",
    "    return np.log(ps / (1-ps))\n",
    "\n",
    "# example usage:\n",
    "# dp_ps_to_epsilon(calc_posterior(1/256.))"
   ]
  },
  {
   "cell_type": "code",
   "execution_count": 4,
   "metadata": {},
   "outputs": [
    {
     "data": {
      "text/plain": [
       "(600572, 16)"
      ]
     },
     "execution_count": 4,
     "metadata": {},
     "output_type": "execute_result"
    }
   ],
   "source": [
    "### Data Setup\n",
    "#por_df = pq.read_table(f\"./data/student_performance/student-por.parquet\").to_pandas()\n",
    "lineitem_df = pd.read_parquet('data/tpch/lineitem.parquet')\n",
    "\n",
    "lineitem_df.shape"
   ]
  },
  {
   "cell_type": "code",
   "execution_count": 5,
   "metadata": {},
   "outputs": [
    {
     "data": {
      "text/plain": [
       "str"
      ]
     },
     "execution_count": 5,
     "metadata": {},
     "output_type": "execute_result"
    }
   ],
   "source": [
    "type(lineitem_df['l_linestatus'][0])"
   ]
  },
  {
   "cell_type": "code",
   "execution_count": 6,
   "metadata": {},
   "outputs": [
    {
     "name": "stdout",
     "output_type": "stream",
     "text": [
      "(147790, 16)\n"
     ]
    },
    {
     "data": {
      "text/plain": [
       "[3774200.0,\n",
       " 5320753880.69,\n",
       " 5054096266.6828,\n",
       " 5256751331.449234,\n",
       " 25.537587116854997,\n",
       " 36002.12382901414,\n",
       " 0.05014459706340077,\n",
       " 147790.0]"
      ]
     },
     "execution_count": 6,
     "metadata": {},
     "output_type": "execute_result"
    }
   ],
   "source": [
    "def runquery(lineitem_df: DataFrame) -> int:\n",
    "    # 1. Filter lineitem rows where commit date is before receipt date.\n",
    "    lineitem_filtered = lineitem_df[\n",
    "        (lineitem_df['l_shipdate'] <= date(1998, 9, 2)) &\n",
    "        (lineitem_df['l_returnflag'] == 'A') &\n",
    "        (lineitem_df['l_linestatus'] == 'F')\n",
    "    ]\n",
    "    print(lineitem_filtered.shape)\n",
    "\n",
    "    # 2. Pre-compute\n",
    "    discounted_price = lineitem_filtered['l_extendedprice'] * (1 - lineitem_filtered['l_discount'])\n",
    "    charged_price = discounted_price * (1 + lineitem_filtered['l_tax'])\n",
    "\n",
    "    # 3. Get aggregations\n",
    "    aggregated_result = [\n",
    "        float(lineitem_filtered['l_quantity'].sum()),       # sum_qty\n",
    "        float(lineitem_filtered['l_extendedprice'].sum()),  # sum_base_price\n",
    "        float(discounted_price.sum()),                      # sum_disc_price\n",
    "        float(charged_price.sum()),                         # sum_charge\n",
    "        float(lineitem_filtered['l_quantity'].mean()),      # avg_qty\n",
    "        float(lineitem_filtered['l_extendedprice'].mean()), # avg_price\n",
    "        float(lineitem_filtered['l_discount'].mean()),      # avg_disc\n",
    "        float(len(lineitem_filtered))                       # count_order (faster than .count())\n",
    "    ]\n",
    "\n",
    "    # print(aggregated_result)\n",
    "\n",
    "    return aggregated_result\n",
    "runquery(lineitem_df)"
   ]
  },
  {
   "cell_type": "code",
   "execution_count": 7,
   "metadata": {},
   "outputs": [
    {
     "name": "stdout",
     "output_type": "stream",
     "text": [
      "(147790, 16)\n"
     ]
    }
   ],
   "source": [
    "### Query Setup\n",
    "SAMPLES = 100\n",
    "assert SAMPLES % 2 == 0, \"We need an even number of samples for paired sampling.\"\n",
    "number_of_pairs = SAMPLES // 2\n",
    "\n",
    "OUTPUT_COLS = ['sum_qty', 'sum_base_price', 'sum_disc_price', 'sum_charge', 'avg_qty', 'avg_price', 'avg_disc', 'count_order']\n",
    "\n",
    "true_result = np.array(runquery(lineitem_df)) # Save the true result of the query for later\n",
    "#true_result = np.divide(true_result, 2) # manually correct count = count * 2\n",
    "\n",
    "number_of_contributing_rows = 147790  # hardcode number of eligible rows\n",
    "\n",
    "def poisson_paired_sample(df: DataFrame) -> Tuple[DataFrame, DataFrame]:\n",
    "    \"\"\"\n",
    "    This will select a subset of indices, where each index is selected with probability 0.5.\n",
    "    The first result is the dataframe composed of the selected rows.\n",
    "    The second result is the complement / the dataframe composed of the rows that were not selected.\n",
    "    \"\"\"\n",
    "    mask = np.random.random_sample(len(df)) < 0.5  # Generates a bitmask of length df.shape[0] where each bit is 1 with probability 0.5\n",
    "    selected = df[mask]\n",
    "    not_selected = df[~mask]\n",
    "    return selected, not_selected\n",
    "\n",
    "def half_paired_sample(df: DataFrame) -> Tuple[DataFrame, DataFrame]:\n",
    "    \"\"\"\n",
    "    This will select half of the row indices from the dataframe at random.\n",
    "    The first result is the dataframe composed of the selected rows.\n",
    "    The second result is the complement / the dataframe composed of the rows that were not selected.\n",
    "    \"\"\"\n",
    "    indices = np.random.choice(df.index, size=(df.shape[0] // 2), replace=False)\n",
    "    not_indices = list(set(df.index) - set(indices))\n",
    "    selected: DataFrame = df.loc[indices]\n",
    "    not_selected: DataFrame = df.loc[not_indices]\n",
    "    return (selected, not_selected)\n",
    "\n",
    "def sample_using_chosen_method(df: DataFrame) -> Tuple[DataFrame, DataFrame]:\n",
    "    if SAMPLING_METHOD == 'poisson':\n",
    "        return poisson_paired_sample(df)\n",
    "    elif SAMPLING_METHOD == 'half':\n",
    "        return half_paired_sample(df)\n",
    "\n",
    "def generate_samples(laplace_lambda: float = 1.0, alpha: int = 10) -> List[np.ndarray]:\n",
    "    # Apply thresholding: if there are less than alpha samples\n",
    "    # (with some Laplacian noise), then we don't subsample and return None.\n",
    "    laplace_noise: float = np.random.laplace(scale=laplace_lambda)\n",
    "\n",
    "    if number_of_contributing_rows + laplace_noise < alpha:  # if we don't get enough results from the query\n",
    "        print(\"There are not enough rows contributing to the result for PAC to be meaningful.\")\n",
    "        return []\n",
    "    \n",
    "    number_of_pairs = SAMPLES // 2\n",
    "    out_np: List[np.ndarray] = []\n",
    "    for i in range(number_of_pairs):\n",
    "        print(f'iteration : {i}')\n",
    "        for temp_df in sample_using_chosen_method(lineitem_df.reset_index(drop=True)):  # reset index to sequential\n",
    "            out = runquery(temp_df)\n",
    "            # double the sums and counts, avg stays the same\n",
    "            out[0] *= 2\n",
    "            out[1] *= 2\n",
    "            out[2] *= 2\n",
    "            out[3] *= 2\n",
    "            out[7] *= 2\n",
    "            # for a 2d array, flatten it\n",
    "            out_np.append(np.array(out))\n",
    "    # Debug: SVD new (not needed I think??)\n",
    "    # out_np = reduce(operator.iconcat, out_np, [])\n",
    "\n",
    "    return out_np"
   ]
  },
  {
   "cell_type": "code",
   "execution_count": 8,
   "metadata": {
    "scrolled": true
   },
   "outputs": [
    {
     "name": "stdout",
     "output_type": "stream",
     "text": [
      "iteration : 0\n",
      "(73684, 16)\n",
      "(74106, 16)\n",
      "iteration : 1\n",
      "(73818, 16)\n",
      "(73972, 16)\n",
      "iteration : 2\n",
      "(73858, 16)\n",
      "(73932, 16)\n",
      "iteration : 3\n",
      "(74007, 16)\n",
      "(73783, 16)\n",
      "iteration : 4\n",
      "(73832, 16)\n",
      "(73958, 16)\n",
      "iteration : 5\n",
      "(73949, 16)\n",
      "(73841, 16)\n",
      "iteration : 6\n",
      "(73827, 16)\n",
      "(73963, 16)\n",
      "iteration : 7\n",
      "(73876, 16)\n",
      "(73914, 16)\n",
      "iteration : 8\n",
      "(73943, 16)\n",
      "(73847, 16)\n",
      "iteration : 9\n",
      "(74144, 16)\n",
      "(73646, 16)\n",
      "iteration : 10\n",
      "(73870, 16)\n",
      "(73920, 16)\n",
      "iteration : 11\n",
      "(73681, 16)\n",
      "(74109, 16)\n",
      "iteration : 12\n",
      "(73801, 16)\n",
      "(73989, 16)\n",
      "iteration : 13\n",
      "(73773, 16)\n",
      "(74017, 16)\n",
      "iteration : 14\n",
      "(73555, 16)\n",
      "(74235, 16)\n",
      "iteration : 15\n",
      "(73962, 16)\n",
      "(73828, 16)\n",
      "iteration : 16\n",
      "(74054, 16)\n",
      "(73736, 16)\n",
      "iteration : 17\n",
      "(73704, 16)\n",
      "(74086, 16)\n",
      "iteration : 18\n",
      "(73663, 16)\n",
      "(74127, 16)\n",
      "iteration : 19\n",
      "(73809, 16)\n",
      "(73981, 16)\n",
      "iteration : 20\n",
      "(73772, 16)\n",
      "(74018, 16)\n",
      "iteration : 21\n",
      "(74007, 16)\n",
      "(73783, 16)\n",
      "iteration : 22\n",
      "(74058, 16)\n",
      "(73732, 16)\n",
      "iteration : 23\n",
      "(73756, 16)\n",
      "(74034, 16)\n",
      "iteration : 24\n",
      "(74167, 16)\n",
      "(73623, 16)\n",
      "iteration : 25\n",
      "(74109, 16)\n",
      "(73681, 16)\n",
      "iteration : 26\n",
      "(73852, 16)\n",
      "(73938, 16)\n",
      "iteration : 27\n",
      "(73974, 16)\n",
      "(73816, 16)\n",
      "iteration : 28\n",
      "(74529, 16)\n",
      "(73261, 16)\n",
      "iteration : 29\n",
      "(73695, 16)\n",
      "(74095, 16)\n",
      "iteration : 30\n",
      "(74311, 16)\n",
      "(73479, 16)\n",
      "iteration : 31\n",
      "(73868, 16)\n",
      "(73922, 16)\n",
      "iteration : 32\n",
      "(73451, 16)\n",
      "(74339, 16)\n",
      "iteration : 33\n",
      "(73849, 16)\n",
      "(73941, 16)\n",
      "iteration : 34\n",
      "(73909, 16)\n",
      "(73881, 16)\n",
      "iteration : 35\n",
      "(74033, 16)\n",
      "(73757, 16)\n",
      "iteration : 36\n",
      "(73663, 16)\n",
      "(74127, 16)\n",
      "iteration : 37\n",
      "(73663, 16)\n",
      "(74127, 16)\n",
      "iteration : 38\n",
      "(73920, 16)\n",
      "(73870, 16)\n",
      "iteration : 39\n",
      "(74111, 16)\n",
      "(73679, 16)\n",
      "iteration : 40\n",
      "(73964, 16)\n",
      "(73826, 16)\n",
      "iteration : 41\n",
      "(74199, 16)\n",
      "(73591, 16)\n",
      "iteration : 42\n",
      "(73856, 16)\n",
      "(73934, 16)\n",
      "iteration : 43\n",
      "(73913, 16)\n",
      "(73877, 16)\n",
      "iteration : 44\n",
      "(73848, 16)\n",
      "(73942, 16)\n",
      "iteration : 45\n",
      "(73978, 16)\n",
      "(73812, 16)\n",
      "iteration : 46\n",
      "(74110, 16)\n",
      "(73680, 16)\n",
      "iteration : 47\n",
      "(74128, 16)\n",
      "(73662, 16)\n",
      "iteration : 48\n",
      "(73744, 16)\n",
      "(74046, 16)\n",
      "iteration : 49\n",
      "(74078, 16)\n",
      "(73712, 16)\n"
     ]
    }
   ],
   "source": [
    "out_np = generate_samples()"
   ]
  },
  {
   "cell_type": "code",
   "execution_count": 9,
   "metadata": {},
   "outputs": [],
   "source": [
    "dimensions: int = len(out_np[0])"
   ]
  },
  {
   "cell_type": "code",
   "execution_count": 10,
   "metadata": {},
   "outputs": [],
   "source": [
    "out_np_2darr = [np.atleast_2d(o) for o in out_np] # make sure all the DF -> np.ndarray conversions result in 2d arrays\n",
    "est_y: np.ndarray = np.stack(out_np_2darr, axis=-1).reshape(dimensions, len(out_np))# shape (dimensions, samples)\n",
    "    \n",
    "est_y_for_proj = est_y.T"
   ]
  },
  {
   "cell_type": "code",
   "execution_count": 11,
   "metadata": {},
   "outputs": [],
   "source": [
    "proj_var, u_trans  = np.linalg.eig(np.cov(est_y))\n",
    "\n",
    "sqrt_total_var_svd = np.sum(np.sqrt(proj_var))"
   ]
  },
  {
   "cell_type": "code",
   "execution_count": 12,
   "metadata": {},
   "outputs": [
    {
     "data": {
      "text/plain": [
       "(8, 100)"
      ]
     },
     "execution_count": 12,
     "metadata": {},
     "output_type": "execute_result"
    }
   ],
   "source": [
    "est_y.shape"
   ]
  },
  {
   "cell_type": "code",
   "execution_count": 13,
   "metadata": {},
   "outputs": [],
   "source": [
    "proj_t = []\n",
    "for t in est_y_for_proj:\n",
    "    proj_t.append(np.matmul(t, u_trans))\n",
    "proj_t = np.array(proj_t)"
   ]
  },
  {
   "cell_type": "code",
   "execution_count": 14,
   "metadata": {},
   "outputs": [],
   "source": [
    "sqrt_total_var_svd = np.sum(np.sqrt(np.var(proj_t)))\n",
    "pac_noise_svd: np.ndarray = (1./(2*1)) * sqrt_total_var_svd * np.sqrt(np.var(proj_t, axis=0))\n"
   ]
  },
  {
   "cell_type": "code",
   "execution_count": 15,
   "metadata": {},
   "outputs": [
    {
     "name": "stdout",
     "output_type": "stream",
     "text": [
      "2986359235.5046225\n"
     ]
    }
   ],
   "source": [
    "print(sqrt_total_var_svd)"
   ]
  },
  {
   "cell_type": "code",
   "execution_count": 16,
   "metadata": {},
   "outputs": [],
   "source": [
    "pac_noises_to_add_svd: np.ndarray = np.random.normal(loc=0, scale=np.sqrt(pac_noise_svd))\n"
   ]
  },
  {
   "cell_type": "code",
   "execution_count": 17,
   "metadata": {},
   "outputs": [
    {
     "data": {
      "text/plain": [
       "array([ 1.59030146e+08, -2.76042428e+06,  1.36031775e+07, -1.81768346e+06,\n",
       "       -6.30290100e+05, -1.71009273e+04, -2.02568149e+00, -3.83606832e+02])"
      ]
     },
     "execution_count": 17,
     "metadata": {},
     "output_type": "execute_result"
    }
   ],
   "source": [
    "pac_noises_to_add_svd"
   ]
  },
  {
   "cell_type": "code",
   "execution_count": 18,
   "metadata": {},
   "outputs": [],
   "source": [
    "sample = est_y[:,0]\n"
   ]
  },
  {
   "cell_type": "code",
   "execution_count": 19,
   "metadata": {},
   "outputs": [
    {
     "data": {
      "text/plain": [
       "array([3.76986800e+06, 5.31825915e+09, 5.05263840e+09, 5.25522537e+09,\n",
       "       2.55813202e+01, 3.60882902e+04, 5.00074643e-02, 1.47368000e+05])"
      ]
     },
     "execution_count": 19,
     "metadata": {},
     "output_type": "execute_result"
    }
   ],
   "source": [
    "sample"
   ]
  },
  {
   "cell_type": "code",
   "execution_count": 20,
   "metadata": {},
   "outputs": [],
   "source": [
    "proj = np.matmul(sample, u_trans)\n",
    "proj += pac_noises_to_add_svd\n",
    "proj = np.matmul(proj, u_trans.T)"
   ]
  },
  {
   "cell_type": "code",
   "execution_count": 21,
   "metadata": {},
   "outputs": [
    {
     "data": {
      "text/plain": [
       "array([ 1.89590572e+06,  5.22464352e+09,  4.95366501e+09,  5.17201884e+09,\n",
       "        1.40906480e+02,  2.19300459e+05,  3.83698269e+02, -5.35066681e+05])"
      ]
     },
     "execution_count": 21,
     "metadata": {},
     "output_type": "execute_result"
    }
   ],
   "source": [
    "proj"
   ]
  },
  {
   "cell_type": "code",
   "execution_count": null,
   "metadata": {},
   "outputs": [],
   "source": []
  }
 ],
 "metadata": {
  "kernelspec": {
   "display_name": "Python 3 (ipykernel)",
   "language": "python",
   "name": "python3"
  },
  "language_info": {
   "codemirror_mode": {
    "name": "ipython",
    "version": 3
   },
   "file_extension": ".py",
   "mimetype": "text/x-python",
   "name": "python",
   "nbconvert_exporter": "python",
   "pygments_lexer": "ipython3",
   "version": "3.9.6"
  }
 },
 "nbformat": 4,
 "nbformat_minor": 2
}
