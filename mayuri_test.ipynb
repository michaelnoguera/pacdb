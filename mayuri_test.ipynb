{
 "cells": [
  {
   "cell_type": "markdown",
   "metadata": {},
   "source": [
    "# Modified TPC-H Q1 Microbenchmark\n",
    "This file is adapted to use numpy only without Spark.\n",
    "\n",
    "```sql\n",
    "select\n",
    "  sum(l_quantity) as sum_qty,\n",
    "  sum(l_extendedprice) as sum_base_price,\n",
    "  sum(l_extendedprice * (1 - l_discount)) as sum_disc_price,\n",
    "  sum(l_extendedprice * (1 - l_discount) * (1 + l_tax)) as sum_charge,\n",
    "  avg(l_quantity) as avg_qty,\n",
    "  avg(l_extendedprice) as avg_price,\n",
    "  avg(l_discount) as avg_disc,\n",
    "  count(*) as count_order\n",
    "from\n",
    "  lineitem\n",
    "where\n",
    "  l_shipdate <= '1998-09-02'\n",
    "  and l_returnflag = 'A'\n",
    "  and l_linestatus = 'F'\n",
    "```"
   ]
  },
  {
   "cell_type": "code",
   "execution_count": 1,
   "metadata": {},
   "outputs": [
    {
     "name": "stdout",
     "output_type": "stream",
     "text": [
      "GENERATE = True, so we will generate new samples.\n"
     ]
    }
   ],
   "source": [
    "EXPERIMENT = 'pac-q1-svd'\n",
    "OUTPUT_DIR = f'./outputs/{EXPERIMENT}'\n",
    "GENERATE = True\n",
    "USE_EVEN_NUMBER_OF_INPUT_ROWS = False\n",
    "SEED_RANDOM_NUMBER_GENERATOR = True\n",
    "\n",
    "SAMPLING_METHOD = 'poisson' # 'poisson' or 'half'\n",
    "\n",
    "if GENERATE:\n",
    "    print(\"GENERATE = True, so we will generate new samples.\")\n",
    "else:\n",
    "    print(\"GENERATE = False, so we will load saved output from files rather than recomputing.\")\n",
    "\n",
    "import os\n",
    "if not os.path.exists(OUTPUT_DIR):\n",
    "    os.makedirs(OUTPUT_DIR)\n"
   ]
  },
  {
   "cell_type": "markdown",
   "metadata": {},
   "source": [
    "### Running PAC"
   ]
  },
  {
   "cell_type": "code",
   "execution_count": 2,
   "metadata": {},
   "outputs": [],
   "source": [
    "from typing import Any, Callable, Dict, List, Tuple, Union\n",
    "\n",
    "import numpy as np\n",
    "if SEED_RANDOM_NUMBER_GENERATOR:\n",
    "    np.random.seed(0)\n",
    "\n",
    "import pandas as pd\n",
    "from pandas import DataFrame\n",
    "import concurrent.futures\n",
    "import pyarrow as pa\n",
    "import pyarrow.parquet as pq\n",
    "import pickle\n",
    "from numpy.random import laplace\n",
    "from functools import reduce\n",
    "import operator\n",
    "from IPython.display import display, HTML\n",
    "from datetime import date\n",
    "from scipy import special"
   ]
  },
  {
   "cell_type": "code",
   "execution_count": 3,
   "metadata": {},
   "outputs": [],
   "source": [
    "### Mayuri's conversion functions between DP epsilon and PAC MI using posterior advantage for equivalence\n",
    "def calc_posterior(mi, prior=0.5, prec = 100000):\n",
    "    test_vals = [x / prec for x in range(1, prec)]\n",
    "    max_t = None\n",
    "    for t in test_vals:\n",
    "        if t*np.log(t/prior)+(1-t)*np.log((1-t)/(1-prior)) <= mi:\n",
    "            if  max_t is None or t > max_t:\n",
    "                max_t = t\n",
    "    return max_t\n",
    "\n",
    "def dp_epsilon_to_posterior_success(epsilon):\n",
    "    return 1 - 1./(1+np.exp(epsilon))\n",
    "\n",
    "def dp_ps_to_epsilon(ps):\n",
    "    return np.log(ps / (1-ps))\n",
    "\n",
    "# example usage:\n",
    "# dp_ps_to_epsilon(calc_posterior(1/256.))"
   ]
  },
  {
   "cell_type": "code",
   "execution_count": 4,
   "metadata": {},
   "outputs": [
    {
     "data": {
      "text/plain": [
       "(600572, 16)"
      ]
     },
     "execution_count": 4,
     "metadata": {},
     "output_type": "execute_result"
    }
   ],
   "source": [
    "### Data Setup\n",
    "#por_df = pq.read_table(f\"./data/student_performance/student-por.parquet\").to_pandas()\n",
    "lineitem_df = pd.read_parquet('data/tpch/lineitem.parquet')\n",
    "\n",
    "lineitem_df.shape"
   ]
  },
  {
   "cell_type": "code",
   "execution_count": 5,
   "metadata": {},
   "outputs": [
    {
     "data": {
      "text/plain": [
       "str"
      ]
     },
     "execution_count": 5,
     "metadata": {},
     "output_type": "execute_result"
    }
   ],
   "source": [
    "type(lineitem_df['l_linestatus'][0])"
   ]
  },
  {
   "cell_type": "code",
   "execution_count": 6,
   "metadata": {},
   "outputs": [
    {
     "name": "stdout",
     "output_type": "stream",
     "text": [
      "(147790, 16)\n"
     ]
    },
    {
     "data": {
      "text/plain": [
       "[3774200.0,\n",
       " 5320753880.69,\n",
       " 5054096266.6828,\n",
       " 5256751331.449234,\n",
       " 25.537587116854997,\n",
       " 36002.12382901414,\n",
       " 0.05014459706340077,\n",
       " 147790.0]"
      ]
     },
     "execution_count": 6,
     "metadata": {},
     "output_type": "execute_result"
    }
   ],
   "source": [
    "def runquery(lineitem_df: DataFrame) -> int:\n",
    "    # 1. Filter lineitem rows where commit date is before receipt date.\n",
    "    lineitem_filtered = lineitem_df[\n",
    "        (lineitem_df['l_shipdate'] <= date(1998, 9, 2)) &\n",
    "        (lineitem_df['l_returnflag'] == 'A') &\n",
    "        (lineitem_df['l_linestatus'] == 'F')\n",
    "    ]\n",
    "    print(lineitem_filtered.shape)\n",
    "\n",
    "    # 2. Pre-compute\n",
    "    discounted_price = lineitem_filtered['l_extendedprice'] * (1 - lineitem_filtered['l_discount'])\n",
    "    charged_price = discounted_price * (1 + lineitem_filtered['l_tax'])\n",
    "\n",
    "    # 3. Get aggregations\n",
    "    aggregated_result = [\n",
    "        float(lineitem_filtered['l_quantity'].sum()),       # sum_qty\n",
    "        float(lineitem_filtered['l_extendedprice'].sum()),  # sum_base_price\n",
    "        float(discounted_price.sum()),                      # sum_disc_price\n",
    "        float(charged_price.sum()),                         # sum_charge\n",
    "        float(lineitem_filtered['l_quantity'].mean()),      # avg_qty\n",
    "        float(lineitem_filtered['l_extendedprice'].mean()), # avg_price\n",
    "        float(lineitem_filtered['l_discount'].mean()),      # avg_disc\n",
    "        float(len(lineitem_filtered))                       # count_order (faster than .count())\n",
    "    ]\n",
    "\n",
    "    # print(aggregated_result)\n",
    "\n",
    "    return aggregated_result\n",
    "runquery(lineitem_df)"
   ]
  },
  {
   "cell_type": "code",
   "execution_count": 7,
   "metadata": {},
   "outputs": [
    {
     "name": "stdout",
     "output_type": "stream",
     "text": [
      "(147790, 16)\n"
     ]
    }
   ],
   "source": [
    "### Query Setup\n",
    "SAMPLES = 100\n",
    "assert SAMPLES % 2 == 0, \"We need an even number of samples for paired sampling.\"\n",
    "number_of_pairs = SAMPLES // 2\n",
    "\n",
    "OUTPUT_COLS = ['sum_qty', 'sum_base_price', 'sum_disc_price', 'sum_charge', 'avg_qty', 'avg_price', 'avg_disc', 'count_order']\n",
    "\n",
    "true_result = np.array(runquery(lineitem_df)) # Save the true result of the query for later\n",
    "#true_result = np.divide(true_result, 2) # manually correct count = count * 2\n",
    "\n",
    "number_of_contributing_rows = 147790  # hardcode number of eligible rows\n",
    "\n",
    "def poisson_paired_sample(df: DataFrame) -> Tuple[DataFrame, DataFrame]:\n",
    "    \"\"\"\n",
    "    This will select a subset of indices, where each index is selected with probability 0.5.\n",
    "    The first result is the dataframe composed of the selected rows.\n",
    "    The second result is the complement / the dataframe composed of the rows that were not selected.\n",
    "    \"\"\"\n",
    "    mask = np.random.random_sample(len(df)) < 0.5  # Generates a bitmask of length df.shape[0] where each bit is 1 with probability 0.5\n",
    "    selected = df[mask]\n",
    "    not_selected = df[~mask]\n",
    "    return selected, not_selected\n",
    "\n",
    "def half_paired_sample(df: DataFrame) -> Tuple[DataFrame, DataFrame]:\n",
    "    \"\"\"\n",
    "    This will select half of the row indices from the dataframe at random.\n",
    "    The first result is the dataframe composed of the selected rows.\n",
    "    The second result is the complement / the dataframe composed of the rows that were not selected.\n",
    "    \"\"\"\n",
    "    indices = np.random.choice(df.index, size=(df.shape[0] // 2), replace=False)\n",
    "    not_indices = list(set(df.index) - set(indices))\n",
    "    selected: DataFrame = df.loc[indices]\n",
    "    not_selected: DataFrame = df.loc[not_indices]\n",
    "    return (selected, not_selected)\n",
    "\n",
    "def sample_using_chosen_method(df: DataFrame) -> Tuple[DataFrame, DataFrame]:\n",
    "    if SAMPLING_METHOD == 'poisson':\n",
    "        return poisson_paired_sample(df)\n",
    "    elif SAMPLING_METHOD == 'half':\n",
    "        return half_paired_sample(df)\n",
    "\n",
    "def generate_samples(laplace_lambda: float = 1.0, alpha: int = 10) -> List[np.ndarray]:\n",
    "    # Apply thresholding: if there are less than alpha samples\n",
    "    # (with some Laplacian noise), then we don't subsample and return None.\n",
    "    laplace_noise: float = np.random.laplace(scale=laplace_lambda)\n",
    "\n",
    "    if number_of_contributing_rows + laplace_noise < alpha:  # if we don't get enough results from the query\n",
    "        print(\"There are not enough rows contributing to the result for PAC to be meaningful.\")\n",
    "        return []\n",
    "    \n",
    "    number_of_pairs = SAMPLES // 2\n",
    "    out_np: List[np.ndarray] = []\n",
    "    for i in range(number_of_pairs):\n",
    "        print(f'iteration : {i}')\n",
    "        for temp_df in sample_using_chosen_method(lineitem_df.reset_index(drop=True)):  # reset index to sequential\n",
    "            out = runquery(temp_df)\n",
    "            # double the sums and counts, avg stays the same\n",
    "            out[0] *= 2\n",
    "            out[1] *= 2\n",
    "            out[2] *= 2\n",
    "            out[3] *= 2\n",
    "            out[7] *= 2\n",
    "            # for a 2d array, flatten it\n",
    "            out_np.append(np.array(out))\n",
    "    # Debug: SVD new (not needed I think??)\n",
    "    # out_np = reduce(operator.iconcat, out_np, [])\n",
    "\n",
    "    return out_np"
   ]
  },
  {
   "cell_type": "code",
   "execution_count": 8,
   "metadata": {
    "scrolled": true
   },
   "outputs": [
    {
     "name": "stdout",
     "output_type": "stream",
     "text": [
      "iteration : 0\n",
      "(73684, 16)\n",
      "(74106, 16)\n",
      "iteration : 1\n",
      "(73818, 16)\n",
      "(73972, 16)\n",
      "iteration : 2\n",
      "(73858, 16)\n",
      "(73932, 16)\n",
      "iteration : 3\n",
      "(74007, 16)\n",
      "(73783, 16)\n",
      "iteration : 4\n",
      "(73832, 16)\n",
      "(73958, 16)\n",
      "iteration : 5\n",
      "(73949, 16)\n",
      "(73841, 16)\n",
      "iteration : 6\n",
      "(73827, 16)\n",
      "(73963, 16)\n",
      "iteration : 7\n",
      "(73876, 16)\n",
      "(73914, 16)\n",
      "iteration : 8\n",
      "(73943, 16)\n",
      "(73847, 16)\n",
      "iteration : 9\n",
      "(74144, 16)\n",
      "(73646, 16)\n",
      "iteration : 10\n",
      "(73870, 16)\n",
      "(73920, 16)\n",
      "iteration : 11\n",
      "(73681, 16)\n",
      "(74109, 16)\n",
      "iteration : 12\n",
      "(73801, 16)\n",
      "(73989, 16)\n",
      "iteration : 13\n",
      "(73773, 16)\n",
      "(74017, 16)\n",
      "iteration : 14\n",
      "(73555, 16)\n",
      "(74235, 16)\n",
      "iteration : 15\n",
      "(73962, 16)\n",
      "(73828, 16)\n",
      "iteration : 16\n",
      "(74054, 16)\n",
      "(73736, 16)\n",
      "iteration : 17\n",
      "(73704, 16)\n",
      "(74086, 16)\n",
      "iteration : 18\n",
      "(73663, 16)\n",
      "(74127, 16)\n",
      "iteration : 19\n",
      "(73809, 16)\n",
      "(73981, 16)\n",
      "iteration : 20\n",
      "(73772, 16)\n",
      "(74018, 16)\n",
      "iteration : 21\n",
      "(74007, 16)\n",
      "(73783, 16)\n",
      "iteration : 22\n",
      "(74058, 16)\n",
      "(73732, 16)\n",
      "iteration : 23\n",
      "(73756, 16)\n",
      "(74034, 16)\n",
      "iteration : 24\n",
      "(74167, 16)\n",
      "(73623, 16)\n",
      "iteration : 25\n",
      "(74109, 16)\n",
      "(73681, 16)\n",
      "iteration : 26\n",
      "(73852, 16)\n",
      "(73938, 16)\n",
      "iteration : 27\n",
      "(73974, 16)\n",
      "(73816, 16)\n",
      "iteration : 28\n",
      "(74529, 16)\n",
      "(73261, 16)\n",
      "iteration : 29\n",
      "(73695, 16)\n",
      "(74095, 16)\n",
      "iteration : 30\n",
      "(74311, 16)\n",
      "(73479, 16)\n",
      "iteration : 31\n",
      "(73868, 16)\n",
      "(73922, 16)\n",
      "iteration : 32\n",
      "(73451, 16)\n",
      "(74339, 16)\n",
      "iteration : 33\n",
      "(73849, 16)\n",
      "(73941, 16)\n",
      "iteration : 34\n",
      "(73909, 16)\n",
      "(73881, 16)\n",
      "iteration : 35\n",
      "(74033, 16)\n",
      "(73757, 16)\n",
      "iteration : 36\n",
      "(73663, 16)\n",
      "(74127, 16)\n",
      "iteration : 37\n",
      "(73663, 16)\n",
      "(74127, 16)\n",
      "iteration : 38\n",
      "(73920, 16)\n",
      "(73870, 16)\n",
      "iteration : 39\n",
      "(74111, 16)\n",
      "(73679, 16)\n",
      "iteration : 40\n",
      "(73964, 16)\n",
      "(73826, 16)\n",
      "iteration : 41\n",
      "(74199, 16)\n",
      "(73591, 16)\n",
      "iteration : 42\n",
      "(73856, 16)\n",
      "(73934, 16)\n",
      "iteration : 43\n",
      "(73913, 16)\n",
      "(73877, 16)\n",
      "iteration : 44\n",
      "(73848, 16)\n",
      "(73942, 16)\n",
      "iteration : 45\n",
      "(73978, 16)\n",
      "(73812, 16)\n",
      "iteration : 46\n",
      "(74110, 16)\n",
      "(73680, 16)\n",
      "iteration : 47\n",
      "(74128, 16)\n",
      "(73662, 16)\n",
      "iteration : 48\n",
      "(73744, 16)\n",
      "(74046, 16)\n",
      "iteration : 49\n",
      "(74078, 16)\n",
      "(73712, 16)\n"
     ]
    }
   ],
   "source": [
    "out_np = generate_samples()"
   ]
  },
  {
   "cell_type": "code",
   "execution_count": 29,
   "metadata": {},
   "outputs": [],
   "source": [
    "dimensions: int = len(out_np[0])"
   ]
  },
  {
   "cell_type": "code",
   "execution_count": 30,
   "metadata": {},
   "outputs": [],
   "source": [
    "out_np_2darr = [np.atleast_2d(o) for o in out_np] # make sure all the DF -> np.ndarray conversions result in 2d arrays\n",
    "est_y: np.ndarray = np.stack(out_np_2darr, axis=-1).reshape(dimensions, len(out_np))  # shape (dimensions, samples)"
   ]
  },
  {
   "cell_type": "code",
   "execution_count": 31,
   "metadata": {},
   "outputs": [
    {
     "data": {
      "text/plain": [
       "49019433.347756885"
      ]
     },
     "execution_count": 31,
     "metadata": {},
     "output_type": "execute_result"
    }
   ],
   "source": [
    "var = np.var(est_y, axis=1)\n",
    "sqrt_total_var_no_svd = np.sum(np.sqrt(var))\n",
    "sqrt_total_var_no_svd"
   ]
  },
  {
   "cell_type": "code",
   "execution_count": 32,
   "metadata": {},
   "outputs": [
    {
     "data": {
      "text/plain": [
       "29144795.30056708"
      ]
     },
     "execution_count": 32,
     "metadata": {},
     "output_type": "execute_result"
    }
   ],
   "source": [
    "cov = np.cov(est_y)\n",
    "proj_var, u = np.linalg.eig(cov)\n",
    "sqrt_total_var_svd = np.sum(np.sqrt(proj_var))\n",
    "sqrt_total_var_svd"
   ]
  },
  {
   "cell_type": "code",
   "execution_count": 33,
   "metadata": {},
   "outputs": [
    {
     "name": "stdout",
     "output_type": "stream",
     "text": [
      "[2.75813242e+11 4.07374907e+14 3.88475985e+14 4.05314712e+14\n",
      " 8.41970932e+05 1.42470334e+09 2.03540619e+03 9.57892659e+09]\n"
     ]
    }
   ],
   "source": [
    "pac_noise_no_svd: np.ndarray = (1./(2*1)) * sqrt_total_var_no_svd * np.sqrt(var)\n",
    "\n",
    "print(pac_noise_no_svd)"
   ]
  },
  {
   "cell_type": "code",
   "execution_count": 37,
   "metadata": {},
   "outputs": [
    {
     "data": {
      "text/plain": [
       "array([4.14419368e+14, 6.90403678e+12, 3.34734599e+12, 3.61592933e+10,\n",
       "       2.63436345e+09, 1.87041602e+06, 5.26883793e+02, 5.48510893e+02])"
      ]
     },
     "execution_count": 37,
     "metadata": {},
     "output_type": "execute_result"
    }
   ],
   "source": [
    "pac_noise__svd: np.ndarray = (1./(2*1)) * sqrt_total_var_svd * np.sqrt(proj_var)\n",
    "pac_noise__svd"
   ]
  },
  {
   "cell_type": "code",
   "execution_count": 40,
   "metadata": {},
   "outputs": [
    {
     "data": {
      "text/plain": [
       "array([-2.43860957e+14, -2.22817366e+14,  2.49722739e+14, -1.50780853e+13,\n",
       "        6.26991679e+06,  2.33996073e+12,  6.82470666e+08, -9.60567164e+12])"
      ]
     },
     "execution_count": 40,
     "metadata": {},
     "output_type": "execute_result"
    }
   ],
   "source": [
    "pac_noise_svd = np.matmul(np.matmul(u, pac_noise__svd), u.T)\n",
    "pac_noise_svd"
   ]
  },
  {
   "cell_type": "code",
   "execution_count": 36,
   "metadata": {},
   "outputs": [
    {
     "name": "stdout",
     "output_type": "stream",
     "text": [
      "[-2.36347902e+14 -2.21343172e+14  2.41861135e+14 -8.95756810e+12\n",
      " -2.09459826e+07  2.26689913e+12  4.76797547e+09 -9.30992508e+12]\n"
     ]
    }
   ],
   "source": [
    "print(pac_noise_svd)"
   ]
  },
  {
   "cell_type": "code",
   "execution_count": 41,
   "metadata": {},
   "outputs": [
    {
     "name": "stderr",
     "output_type": "stream",
     "text": [
      "/var/folders/g4/jxkqkb_d5170qh291jwd0t_h0000gn/T/ipykernel_83129/3136134579.py:1: RuntimeWarning: invalid value encountered in sqrt\n",
      "  pac_noises_to_add_svd: np.ndarray = np.random.normal(loc=0, scale=np.sqrt(pac_noise_svd))\n"
     ]
    }
   ],
   "source": [
    "pac_noises_to_add_svd: np.ndarray = np.random.normal(loc=0, scale=np.sqrt(pac_noise_svd))\n",
    "\n",
    "pac_noises_to_add_no_svd: np.ndarray = np.random.normal(loc=0, scale=np.sqrt(pac_noise_no_svd))"
   ]
  },
  {
   "cell_type": "code",
   "execution_count": 42,
   "metadata": {},
   "outputs": [
    {
     "name": "stdout",
     "output_type": "stream",
     "text": [
      "[            nan             nan  1.16364308e+07             nan\n",
      " -3.04532894e+03 -1.89432949e+06 -2.28325949e+02             nan]\n"
     ]
    }
   ],
   "source": [
    "print(pac_noises_to_add_svd)"
   ]
  },
  {
   "cell_type": "code",
   "execution_count": 43,
   "metadata": {},
   "outputs": [
    {
     "name": "stdout",
     "output_type": "stream",
     "text": [
      "[-5.95477486e+05  1.99790528e+07 -1.98637366e+07  4.05011717e+06\n",
      " -3.65672263e+02  2.67589593e+04  8.54768233e+00  9.95381812e+04]\n"
     ]
    }
   ],
   "source": [
    "print(pac_noises_to_add_no_svd)"
   ]
  },
  {
   "cell_type": "code",
   "execution_count": 44,
   "metadata": {},
   "outputs": [],
   "source": [
    "pac_noises_to_add_svd: np.ndarray = np.random.normal(loc=0, scale=np.sqrt(np.abs(pac_noise_svd)))\n",
    "\n",
    "pac_noises_to_add_no_svd: np.ndarray = np.random.normal(loc=0, scale=np.sqrt(pac_noise_no_svd))"
   ]
  },
  {
   "cell_type": "code",
   "execution_count": 45,
   "metadata": {},
   "outputs": [
    {
     "name": "stdout",
     "output_type": "stream",
     "text": [
      "[ 5.40001579e+06 -7.17059789e+06  2.19019785e+07 -4.31642750e+06\n",
      "  2.49810890e+03  1.02996487e+05  3.36043279e+04  6.92463163e+05]\n"
     ]
    }
   ],
   "source": [
    "print(pac_noises_to_add_svd)"
   ]
  },
  {
   "cell_type": "code",
   "execution_count": 46,
   "metadata": {},
   "outputs": [
    {
     "name": "stdout",
     "output_type": "stream",
     "text": [
      "[ 6.23422954e+04 -8.37506654e+05  1.00588299e+07 -2.25081621e+04\n",
      " -8.24821141e+02  2.48676321e+04  3.44536973e+01  5.84580801e+04]\n"
     ]
    }
   ],
   "source": [
    "print(pac_noises_to_add_no_svd)"
   ]
  },
  {
   "cell_type": "code",
   "execution_count": null,
   "metadata": {},
   "outputs": [],
   "source": []
  }
 ],
 "metadata": {
  "kernelspec": {
   "display_name": "Python 3 (ipykernel)",
   "language": "python",
   "name": "python3"
  },
  "language_info": {
   "codemirror_mode": {
    "name": "ipython",
    "version": 3
   },
   "file_extension": ".py",
   "mimetype": "text/x-python",
   "name": "python",
   "nbconvert_exporter": "python",
   "pygments_lexer": "ipython3",
   "version": "3.9.6"
  }
 },
 "nbformat": 4,
 "nbformat_minor": 2
}
