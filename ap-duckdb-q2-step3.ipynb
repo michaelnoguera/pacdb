{
 "cells": [
  {
   "cell_type": "code",
   "execution_count": 1,
   "id": "eba650e4",
   "metadata": {
    "execution": {
     "iopub.execute_input": "2025-04-25T05:04:47.560476Z",
     "iopub.status.busy": "2025-04-25T05:04:47.560318Z",
     "iopub.status.idle": "2025-04-25T05:04:47.599612Z",
     "shell.execute_reply": "2025-04-25T05:04:47.599241Z"
    },
    "papermill": {
     "duration": 0.042592,
     "end_time": "2025-04-25T05:04:47.600488",
     "exception": false,
     "start_time": "2025-04-25T05:04:47.557896",
     "status": "completed"
    },
    "tags": []
   },
   "outputs": [],
   "source": [
    "#!/usr/bin/env python\n",
    "# coding: utf-8\n",
    "\n",
    "import json\n",
    "import os\n",
    "import pickle\n",
    "import shutil\n",
    "import zipfile\n",
    "\n",
    "import parse\n",
    "import polars as pl"
   ]
  },
  {
   "cell_type": "code",
   "execution_count": 2,
   "id": "5bbee7d0",
   "metadata": {
    "execution": {
     "iopub.execute_input": "2025-04-25T05:04:47.603312Z",
     "iopub.status.busy": "2025-04-25T05:04:47.603199Z",
     "iopub.status.idle": "2025-04-25T05:04:47.605023Z",
     "shell.execute_reply": "2025-04-25T05:04:47.604805Z"
    },
    "papermill": {
     "duration": 0.003814,
     "end_time": "2025-04-25T05:04:47.605668",
     "exception": false,
     "start_time": "2025-04-25T05:04:47.601854",
     "status": "completed"
    },
    "tags": [
     "parameters"
    ]
   },
   "outputs": [],
   "source": [
    "#EXPERIMENT = \"asdf\"\n",
    "#INPUT_ZIP = f\"./outputs/{EXPERIMENT}-step2.zip\"\n",
    "#OUTPUT_DIR = f\"./outputs/{EXPERIMENT}-step3\"\n",
    "#INDEX_COLS = pickle.load(open(f'./outputs/{EXPERIMENT}-step1/INDEX_COLS.pkl', 'rb'))\n",
    "#OUTPUT_COLS = pickle.load(open(f'./outputs/{EXPERIMENT}-step1/OUTPUT_COLS.pkl', 'rb'))\n",
    "#templatedf_path = f\"./outputs/{EXPERIMENT}-step2/templatedf.csv\"\n",
    "EXPERIMENT = \"\"\n",
    "INPUT_ZIP = \"\"\n",
    "OUTPUT_DIR = \"\"\n",
    "INDEX_COLS = []\n",
    "OUTPUT_COLS = []\n",
    "templatedf_path = \"\""
   ]
  },
  {
   "cell_type": "code",
   "execution_count": 3,
   "id": "6a3b7cf0",
   "metadata": {
    "execution": {
     "iopub.execute_input": "2025-04-25T05:04:47.608213Z",
     "iopub.status.busy": "2025-04-25T05:04:47.608118Z",
     "iopub.status.idle": "2025-04-25T05:04:47.609769Z",
     "shell.execute_reply": "2025-04-25T05:04:47.609573Z"
    },
    "papermill": {
     "duration": 0.003696,
     "end_time": "2025-04-25T05:04:47.610360",
     "exception": false,
     "start_time": "2025-04-25T05:04:47.606664",
     "status": "completed"
    },
    "tags": [
     "injected-parameters"
    ]
   },
   "outputs": [],
   "source": [
    "# Parameters\n",
    "EXPERIMENT = \"ap-duckdb-q2\"\n",
    "OUTPUT_DIR = \"./outputs/ap-duckdb-q2-step3\"\n",
    "INPUT_ZIP = \"./outputs/ap-duckdb-q2-step2.zip\"\n",
    "INDEX_COLS = [\"s_name\", \"p_partkey\", \"n_name\", \"s_acctbal\"]\n",
    "OUTPUT_COLS = [\"min(ps_supplycost)\"]\n",
    "templatedf_path = \"./outputs/ap-duckdb-q2-step1/template.pkl\"\n"
   ]
  },
  {
   "cell_type": "code",
   "execution_count": 4,
   "id": "7eeff702",
   "metadata": {
    "execution": {
     "iopub.execute_input": "2025-04-25T05:04:47.612769Z",
     "iopub.status.busy": "2025-04-25T05:04:47.612672Z",
     "iopub.status.idle": "2025-04-25T05:04:47.614345Z",
     "shell.execute_reply": "2025-04-25T05:04:47.614082Z"
    },
    "papermill": {
     "duration": 0.003686,
     "end_time": "2025-04-25T05:04:47.615075",
     "exception": false,
     "start_time": "2025-04-25T05:04:47.611389",
     "status": "completed"
    },
    "tags": []
   },
   "outputs": [],
   "source": [
    "if not os.path.exists(OUTPUT_DIR):\n",
    "    os.makedirs(OUTPUT_DIR)"
   ]
  },
  {
   "cell_type": "code",
   "execution_count": 5,
   "id": "257dec28",
   "metadata": {
    "execution": {
     "iopub.execute_input": "2025-04-25T05:04:47.617950Z",
     "iopub.status.busy": "2025-04-25T05:04:47.617839Z",
     "iopub.status.idle": "2025-04-25T05:04:47.619847Z",
     "shell.execute_reply": "2025-04-25T05:04:47.619641Z"
    },
    "papermill": {
     "duration": 0.003967,
     "end_time": "2025-04-25T05:04:47.620470",
     "exception": false,
     "start_time": "2025-04-25T05:04:47.616503",
     "status": "completed"
    },
    "tags": []
   },
   "outputs": [],
   "source": [
    "# Import saved variables from the first step\n",
    "templatedf: pl.DataFrame = pickle.load(open(templatedf_path, 'rb'))"
   ]
  },
  {
   "cell_type": "code",
   "execution_count": 6,
   "id": "ab3a80fe",
   "metadata": {
    "execution": {
     "iopub.execute_input": "2025-04-25T05:04:47.622913Z",
     "iopub.status.busy": "2025-04-25T05:04:47.622828Z",
     "iopub.status.idle": "2025-04-25T05:04:47.628126Z",
     "shell.execute_reply": "2025-04-25T05:04:47.627904Z"
    },
    "papermill": {
     "duration": 0.007233,
     "end_time": "2025-04-25T05:04:47.628756",
     "exception": false,
     "start_time": "2025-04-25T05:04:47.621523",
     "status": "completed"
    },
    "tags": []
   },
   "outputs": [
    {
     "data": {
      "text/plain": [
       "dict_keys([20, 61, 36, 41, 16, 57, 6, 7, 56, 17, 40, 37, 60, 21, 47, 10, 51, 0, 26, 30, 31, 27, 1, 50, 11, 46, 2, 28, 53, 12, 45, 32, 24, 49, 48, 25, 33, 44, 13, 52, 29, 3, 34, 8, 22, 59, 18, 38, 4, 55, 14, 43, 42, 15, 54, 5, 39, 19, 58, 23, 62, 9, 35])"
      ]
     },
     "execution_count": 6,
     "metadata": {},
     "output_type": "execute_result"
    }
   ],
   "source": [
    "# load the json input files from step 2\n",
    "# {'col': column name as string,\n",
    "#  'row': group-by column values as dict (effectively a row id),\n",
    "#  'values': [ 1000x values ] }\n",
    "alldata = {}\n",
    "\n",
    "pattern = parse.compile(\"{n}.json\")\n",
    "\n",
    "with zipfile.ZipFile(INPUT_ZIP, 'r') as zf:\n",
    "    for filename in zf.namelist():\n",
    "        if filename.endswith('.json'):\n",
    "            with zf.open(filename) as f:\n",
    "                filenumber = int(pattern.parse(filename).named['n'])\n",
    "                data = json.load(f)\n",
    "                d: dict = data\n",
    "                alldata[filenumber] = d\n",
    "alldata.keys()"
   ]
  },
  {
   "cell_type": "code",
   "execution_count": 7,
   "id": "fa47deff",
   "metadata": {
    "execution": {
     "iopub.execute_input": "2025-04-25T05:04:47.631627Z",
     "iopub.status.busy": "2025-04-25T05:04:47.631512Z",
     "iopub.status.idle": "2025-04-25T05:04:47.642721Z",
     "shell.execute_reply": "2025-04-25T05:04:47.642482Z"
    },
    "papermill": {
     "duration": 0.013494,
     "end_time": "2025-04-25T05:04:47.643431",
     "exception": false,
     "start_time": "2025-04-25T05:04:47.629937",
     "status": "completed"
    },
    "tags": []
   },
   "outputs": [],
   "source": [
    "# Make sure the data types of the row fields are correct\n",
    "for i in range(len(alldata)):\n",
    "    alldata[i]['row'] = pl.DataFrame(alldata[i]['row']).cast(templatedf.select(INDEX_COLS).schema).to_dicts()[0]"
   ]
  },
  {
   "cell_type": "code",
   "execution_count": 8,
   "id": "1d086fc3",
   "metadata": {
    "execution": {
     "iopub.execute_input": "2025-04-25T05:04:47.646160Z",
     "iopub.status.busy": "2025-04-25T05:04:47.646057Z",
     "iopub.status.idle": "2025-04-25T05:04:47.648896Z",
     "shell.execute_reply": "2025-04-25T05:04:47.648670Z"
    },
    "papermill": {
     "duration": 0.004864,
     "end_time": "2025-04-25T05:04:47.649528",
     "exception": false,
     "start_time": "2025-04-25T05:04:47.644664",
     "status": "completed"
    },
    "tags": []
   },
   "outputs": [
    {
     "data": {
      "text/html": [
       "<div><style>\n",
       ".dataframe > thead > tr,\n",
       ".dataframe > tbody > tr {\n",
       "  text-align: right;\n",
       "  white-space: pre-wrap;\n",
       "}\n",
       "</style>\n",
       "<small>shape: (63, 4)</small><table border=\"1\" class=\"dataframe\"><thead><tr><th>s_name</th><th>p_partkey</th><th>n_name</th><th>s_acctbal</th></tr><tr><td>str</td><td>i64</td><td>str</td><td>decimal[15,2]</td></tr></thead><tbody><tr><td>&quot;Supplier#000000574&quot;</td><td>13784</td><td>&quot;RUSSIA&quot;</td><td>8096.98</td></tr><tr><td>&quot;Supplier#000000949&quot;</td><td>9430</td><td>&quot;UNITED KINGDOM&quot;</td><td>91.39</td></tr><tr><td>&quot;Supplier#000000470&quot;</td><td>6213</td><td>&quot;ROMANIA&quot;</td><td>727.89</td></tr><tr><td>&quot;Supplier#000000138&quot;</td><td>8363</td><td>&quot;ROMANIA&quot;</td><td>906.07</td></tr><tr><td>&quot;Supplier#000000323&quot;</td><td>3563</td><td>&quot;RUSSIA&quot;</td><td>704.83</td></tr><tr><td>&hellip;</td><td>&hellip;</td><td>&hellip;</td><td>&hellip;</td></tr><tr><td>&quot;Supplier#000000574&quot;</td><td>323</td><td>&quot;RUSSIA&quot;</td><td>8096.98</td></tr><tr><td>&quot;Supplier#000000408&quot;</td><td>18139</td><td>&quot;RUSSIA&quot;</td><td>6173.87</td></tr><tr><td>&quot;Supplier#000000957&quot;</td><td>10956</td><td>&quot;UNITED KINGDOM&quot;</td><td>4324.51</td></tr><tr><td>&quot;Supplier#000000384&quot;</td><td>13120</td><td>&quot;GERMANY&quot;</td><td>1342.17</td></tr><tr><td>&quot;Supplier#000000477&quot;</td><td>10956</td><td>&quot;GERMANY&quot;</td><td>7205.20</td></tr></tbody></table></div>"
      ],
      "text/plain": [
       "shape: (63, 4)\n",
       "┌────────────────────┬───────────┬────────────────┬───────────────┐\n",
       "│ s_name             ┆ p_partkey ┆ n_name         ┆ s_acctbal     │\n",
       "│ ---                ┆ ---       ┆ ---            ┆ ---           │\n",
       "│ str                ┆ i64       ┆ str            ┆ decimal[15,2] │\n",
       "╞════════════════════╪═══════════╪════════════════╪═══════════════╡\n",
       "│ Supplier#000000574 ┆ 13784     ┆ RUSSIA         ┆ 8096.98       │\n",
       "│ Supplier#000000949 ┆ 9430      ┆ UNITED KINGDOM ┆ 91.39         │\n",
       "│ Supplier#000000470 ┆ 6213      ┆ ROMANIA        ┆ 727.89        │\n",
       "│ Supplier#000000138 ┆ 8363      ┆ ROMANIA        ┆ 906.07        │\n",
       "│ Supplier#000000323 ┆ 3563      ┆ RUSSIA         ┆ 704.83        │\n",
       "│ …                  ┆ …         ┆ …              ┆ …             │\n",
       "│ Supplier#000000574 ┆ 323       ┆ RUSSIA         ┆ 8096.98       │\n",
       "│ Supplier#000000408 ┆ 18139     ┆ RUSSIA         ┆ 6173.87       │\n",
       "│ Supplier#000000957 ┆ 10956     ┆ UNITED KINGDOM ┆ 4324.51       │\n",
       "│ Supplier#000000384 ┆ 13120     ┆ GERMANY        ┆ 1342.17       │\n",
       "│ Supplier#000000477 ┆ 10956     ┆ GERMANY        ┆ 7205.20       │\n",
       "└────────────────────┴───────────┴────────────────┴───────────────┘"
      ]
     },
     "execution_count": 8,
     "metadata": {},
     "output_type": "execute_result"
    }
   ],
   "source": [
    "allgroups = templatedf.select(INDEX_COLS)\n",
    "allgroups"
   ]
  },
  {
   "cell_type": "code",
   "execution_count": 9,
   "id": "0b249a7b",
   "metadata": {
    "execution": {
     "iopub.execute_input": "2025-04-25T05:04:47.652268Z",
     "iopub.status.busy": "2025-04-25T05:04:47.652185Z",
     "iopub.status.idle": "2025-04-25T05:04:47.667374Z",
     "shell.execute_reply": "2025-04-25T05:04:47.667117Z"
    },
    "papermill": {
     "duration": 0.017277,
     "end_time": "2025-04-25T05:04:47.668086",
     "exception": false,
     "start_time": "2025-04-25T05:04:47.650809",
     "status": "completed"
    },
    "tags": []
   },
   "outputs": [
    {
     "name": "stdout",
     "output_type": "stream",
     "text": [
      "{'s_name': 'Supplier#000000574', 'p_partkey': 13784, 'n_name': 'RUSSIA', 's_acctbal': Decimal('8096.98')}\n",
      "{'s_name': 'Supplier#000000949', 'p_partkey': 9430, 'n_name': 'UNITED KINGDOM', 's_acctbal': Decimal('91.39')}\n",
      "{'s_name': 'Supplier#000000470', 'p_partkey': 6213, 'n_name': 'ROMANIA', 's_acctbal': Decimal('727.89')}\n",
      "{'s_name': 'Supplier#000000138', 'p_partkey': 8363, 'n_name': 'ROMANIA', 's_acctbal': Decimal('906.07')}\n",
      "{'s_name': 'Supplier#000000323', 'p_partkey': 3563, 'n_name': 'RUSSIA', 's_acctbal': Decimal('704.83')}\n",
      "{'s_name': 'Supplier#000000812', 'p_partkey': 10551, 'n_name': 'FRANCE', 's_acctbal': Decimal('8615.50')}\n",
      "{'s_name': 'Supplier#000000290', 'p_partkey': 2037, 'n_name': 'FRANCE', 's_acctbal': Decimal('167.56')}\n",
      "{'s_name': 'Supplier#000000509', 'p_partkey': 18972, 'n_name': 'FRANCE', 's_acctbal': Decimal('4315.15')}\n",
      "{'s_name': 'Supplier#000000690', 'p_partkey': 9430, 'n_name': 'ROMANIA', 's_acctbal': Decimal('7448.46')}\n",
      "{'s_name': 'Supplier#000000563', 'p_partkey': 5797, 'n_name': 'GERMANY', 's_acctbal': Decimal('-942.73')}\n",
      "{'s_name': 'Supplier#000000954', 'p_partkey': 4191, 'n_name': 'FRANCE', 's_acctbal': Decimal('6721.70')}\n",
      "{'s_name': 'Supplier#000000149', 'p_partkey': 18344, 'n_name': 'FRANCE', 's_acctbal': Decimal('4518.31')}\n",
      "{'s_name': 'Supplier#000000311', 'p_partkey': 13784, 'n_name': 'RUSSIA', 's_acctbal': Decimal('7431.00')}\n",
      "{'s_name': 'Supplier#000000070', 'p_partkey': 17268, 'n_name': 'FRANCE', 's_acctbal': Decimal('9508.37')}\n",
      "{'s_name': 'Supplier#000000409', 'p_partkey': 2156, 'n_name': 'GERMANY', 's_acctbal': Decimal('-820.89')}\n",
      "{'s_name': 'Supplier#000000104', 'p_partkey': 18103, 'n_name': 'FRANCE', 's_acctbal': Decimal('1381.97')}\n",
      "{'s_name': 'Supplier#000000771', 'p_partkey': 13981, 'n_name': 'ROMANIA', 's_acctbal': Decimal('2221.25')}\n",
      "{'s_name': 'Supplier#000000016', 'p_partkey': 1015, 'n_name': 'RUSSIA', 's_acctbal': Decimal('2972.26')}\n",
      "{'s_name': 'Supplier#000000121', 'p_partkey': 13120, 'n_name': 'FRANCE', 's_acctbal': Decimal('5733.61')}\n",
      "{'s_name': 'Supplier#000000647', 'p_partkey': 13120, 'n_name': 'UNITED KINGDOM', 's_acctbal': Decimal('9828.21')}\n",
      "{'s_name': 'Supplier#000000053', 'p_partkey': 5797, 'n_name': 'GERMANY', 's_acctbal': Decimal('6177.35')}\n",
      "{'s_name': 'Supplier#000000812', 'p_partkey': 13811, 'n_name': 'FRANCE', 's_acctbal': Decimal('8615.50')}\n",
      "{'s_name': 'Supplier#000000996', 'p_partkey': 10735, 'n_name': 'GERMANY', 's_acctbal': Decimal('6329.90')}\n",
      "{'s_name': 'Supplier#000000367', 'p_partkey': 6854, 'n_name': 'RUSSIA', 's_acctbal': Decimal('8488.53')}\n",
      "{'s_name': 'Supplier#000000802', 'p_partkey': 10021, 'n_name': 'ROMANIA', 's_acctbal': Decimal('9453.01')}\n",
      "{'s_name': 'Supplier#000000007', 'p_partkey': 13217, 'n_name': 'UNITED KINGDOM', 's_acctbal': Decimal('6820.35')}\n",
      "{'s_name': 'Supplier#000000553', 'p_partkey': 8036, 'n_name': 'FRANCE', 's_acctbal': Decimal('3526.53')}\n",
      "{'s_name': 'Supplier#000000646', 'p_partkey': 11384, 'n_name': 'FRANCE', 's_acctbal': Decimal('8430.52')}\n",
      "{'s_name': 'Supplier#000000959', 'p_partkey': 4958, 'n_name': 'GERMANY', 's_acctbal': Decimal('9032.15')}\n",
      "{'s_name': 'Supplier#000000785', 'p_partkey': 13784, 'n_name': 'RUSSIA', 's_acctbal': Decimal('5364.99')}\n",
      "{'s_name': 'Supplier#000000840', 'p_partkey': 3080, 'n_name': 'ROMANIA', 's_acctbal': Decimal('2963.09')}\n",
      "{'s_name': 'Supplier#000000295', 'p_partkey': 8036, 'n_name': 'UNITED KINGDOM', 's_acctbal': Decimal('-435.02')}\n",
      "{'s_name': 'Supplier#000000115', 'p_partkey': 13325, 'n_name': 'UNITED KINGDOM', 's_acctbal': Decimal('9192.10')}\n",
      "{'s_name': 'Supplier#000000044', 'p_partkey': 17242, 'n_name': 'GERMANY', 's_acctbal': Decimal('9759.38')}\n",
      "{'s_name': 'Supplier#000000651', 'p_partkey': 4888, 'n_name': 'RUSSIA', 's_acctbal': Decimal('683.07')}\n",
      "{'s_name': 'Supplier#000000146', 'p_partkey': 4637, 'n_name': 'RUSSIA', 's_acctbal': Decimal('8271.39')}\n",
      "{'s_name': 'Supplier#000000239', 'p_partkey': 12238, 'n_name': 'RUSSIA', 's_acctbal': Decimal('4672.25')}\n",
      "{'s_name': 'Supplier#000000350', 'p_partkey': 4841, 'n_name': 'GERMANY', 's_acctbal': Decimal('3294.68')}\n",
      "{'s_name': 'Supplier#000000333', 'p_partkey': 11810, 'n_name': 'RUSSIA', 's_acctbal': Decimal('8702.02')}\n",
      "{'s_name': 'Supplier#000000276', 'p_partkey': 13275, 'n_name': 'FRANCE', 's_acctbal': Decimal('7144.78')}\n",
      "{'s_name': 'Supplier#000000065', 'p_partkey': 13275, 'n_name': 'RUSSIA', 's_acctbal': Decimal('-963.79')}\n",
      "{'s_name': 'Supplier#000000326', 'p_partkey': 13325, 'n_name': 'GERMANY', 's_acctbal': Decimal('4680.75')}\n",
      "{'s_name': 'Supplier#000000243', 'p_partkey': 17242, 'n_name': 'FRANCE', 's_acctbal': Decimal('747.88')}\n",
      "{'s_name': 'Supplier#000000070', 'p_partkey': 3563, 'n_name': 'FRANCE', 's_acctbal': Decimal('9508.37')}\n",
      "{'s_name': 'Supplier#000000587', 'p_partkey': 3080, 'n_name': 'GERMANY', 's_acctbal': Decimal('5322.35')}\n",
      "{'s_name': 'Supplier#000000799', 'p_partkey': 11276, 'n_name': 'RUSSIA', 's_acctbal': Decimal('765.69')}\n",
      "{'s_name': 'Supplier#000000704', 'p_partkey': 9926, 'n_name': 'ROMANIA', 's_acctbal': Decimal('-845.44')}\n",
      "{'s_name': 'Supplier#000000802', 'p_partkey': 13275, 'n_name': 'ROMANIA', 's_acctbal': Decimal('9453.01')}\n",
      "{'s_name': 'Supplier#000000623', 'p_partkey': 6854, 'n_name': 'GERMANY', 's_acctbal': Decimal('5408.07')}\n",
      "{'s_name': 'Supplier#000000553', 'p_partkey': 17018, 'n_name': 'FRANCE', 's_acctbal': Decimal('3526.53')}\n",
      "{'s_name': 'Supplier#000000321', 'p_partkey': 7320, 'n_name': 'ROMANIA', 's_acctbal': Decimal('4941.88')}\n",
      "{'s_name': 'Supplier#000000025', 'p_partkey': 12238, 'n_name': 'RUSSIA', 's_acctbal': Decimal('9198.31')}\n",
      "{'s_name': 'Supplier#000000680', 'p_partkey': 5679, 'n_name': 'RUSSIA', 's_acctbal': Decimal('4586.49')}\n",
      "{'s_name': 'Supplier#000000170', 'p_partkey': 7655, 'n_name': 'UNITED KINGDOM', 's_acctbal': Decimal('7392.78')}\n",
      "{'s_name': 'Supplier#000000656', 'p_partkey': 7655, 'n_name': 'ROMANIA', 's_acctbal': Decimal('8069.74')}\n",
      "{'s_name': 'Supplier#000000769', 'p_partkey': 1015, 'n_name': 'FRANCE', 's_acctbal': Decimal('165.76')}\n",
      "{'s_name': 'Supplier#000000510', 'p_partkey': 17242, 'n_name': 'ROMANIA', 's_acctbal': Decimal('-314.06')}\n",
      "{'s_name': 'Supplier#000000328', 'p_partkey': 16327, 'n_name': 'GERMANY', 's_acctbal': Decimal('5069.27')}\n",
      "{'s_name': 'Supplier#000000574', 'p_partkey': 323, 'n_name': 'RUSSIA', 's_acctbal': Decimal('8096.98')}\n",
      "{'s_name': 'Supplier#000000408', 'p_partkey': 18139, 'n_name': 'RUSSIA', 's_acctbal': Decimal('6173.87')}\n",
      "{'s_name': 'Supplier#000000957', 'p_partkey': 10956, 'n_name': 'UNITED KINGDOM', 's_acctbal': Decimal('4324.51')}\n",
      "{'s_name': 'Supplier#000000384', 'p_partkey': 13120, 'n_name': 'GERMANY', 's_acctbal': Decimal('1342.17')}\n",
      "{'s_name': 'Supplier#000000477', 'p_partkey': 10956, 'n_name': 'GERMANY', 's_acctbal': Decimal('7205.20')}\n"
     ]
    }
   ],
   "source": [
    "# Cursed data shuffling to reidentify what row goes where, what column goes where, and what the labels should be on everything\n",
    "colidxes = {}\n",
    "for col in OUTPUT_COLS:\n",
    "    colidxes[col] = templatedf.get_column_index(col)\n",
    "rowidxes = {}\n",
    "for row in templatedf.select(INDEX_COLS).iter_rows(named=True):\n",
    "    rowidxes[tuple(row.values())] = allgroups.with_row_index().filter(\n",
    "        pl.col(k).eq(v)\n",
    "        for k, v in row.items()\n",
    "    ).select(\"index\").item()\n",
    "    print(row)\n",
    "\n",
    "allinfo = [\n",
    "    {\"colname\": adentry['col'],\n",
    "    \"rowid\": tuple(adentry['row'].values()),\n",
    "    \"value\": adentry['value'][0],\n",
    "    \"colidx\": colidxes[adentry['col']],\n",
    "    \"rowidx\": rowidxes[tuple(adentry['row'].values())]}\n",
    "    for adidx, adentry in alldata.items()\n",
    "]\n",
    "\n",
    "colnames = {}\n",
    "rownames = {}\n",
    "for entry in allinfo:\n",
    "    colnames[entry['colidx']] = entry['colname']\n",
    "    rownames[entry['rowidx']] = entry['rowid']"
   ]
  },
  {
   "cell_type": "markdown",
   "id": "61e58b37",
   "metadata": {
    "papermill": {
     "duration": 0.001166,
     "end_time": "2025-04-25T05:04:47.670631",
     "exception": false,
     "start_time": "2025-04-25T05:04:47.669465",
     "status": "completed"
    },
    "tags": []
   },
   "source": [
    "Naive reconstruction"
   ]
  },
  {
   "cell_type": "code",
   "execution_count": 10,
   "id": "c6da70b0",
   "metadata": {
    "execution": {
     "iopub.execute_input": "2025-04-25T05:04:47.673390Z",
     "iopub.status.busy": "2025-04-25T05:04:47.673292Z",
     "iopub.status.idle": "2025-04-25T05:04:47.735461Z",
     "shell.execute_reply": "2025-04-25T05:04:47.732940Z"
    },
    "papermill": {
     "duration": 0.075816,
     "end_time": "2025-04-25T05:04:47.747612",
     "exception": false,
     "start_time": "2025-04-25T05:04:47.671796",
     "status": "completed"
    },
    "tags": []
   },
   "outputs": [
    {
     "name": "stdout",
     "output_type": "stream",
     "text": [
      "['s_name', 'p_partkey', 'n_name', 's_acctbal', 'min(ps_supplycost)']\n",
      "['Supplier#000000574', 13784, 'RUSSIA', Decimal('8096.98'), 398.27000000000004]\n",
      "['Supplier#000000949', 9430, 'UNITED KINGDOM', Decimal('91.39'), 382.5200000000002]\n",
      "['Supplier#000000470', 6213, 'ROMANIA', Decimal('727.89'), 601.78]\n",
      "['Supplier#000000138', 8363, 'ROMANIA', Decimal('906.07'), 337.5100000000001]\n",
      "['Supplier#000000323', 3563, 'RUSSIA', Decimal('704.83'), 651.3099999999997]\n",
      "['Supplier#000000812', 10551, 'FRANCE', Decimal('8615.50'), 259.65999999999997]\n",
      "['Supplier#000000290', 2037, 'FRANCE', Decimal('167.56'), 339.06]\n",
      "['Supplier#000000509', 18972, 'FRANCE', Decimal('4315.15'), 794.2600000000001]\n",
      "['Supplier#000000690', 9430, 'ROMANIA', Decimal('7448.46'), 602.73]\n",
      "['Supplier#000000563', 5797, 'GERMANY', Decimal('-942.73'), 628.11]\n",
      "['Supplier#000000954', 4191, 'FRANCE', Decimal('6721.70'), 579.6800000000002]\n",
      "['Supplier#000000149', 18344, 'FRANCE', Decimal('4518.31'), 712.75]\n",
      "['Supplier#000000311', 13784, 'RUSSIA', Decimal('7431.00'), 650.34]\n",
      "['Supplier#000000070', 17268, 'FRANCE', Decimal('9508.37'), 738.2800000000002]\n",
      "['Supplier#000000409', 2156, 'GERMANY', Decimal('-820.89'), 218.3999999999998]\n",
      "['Supplier#000000104', 18103, 'FRANCE', Decimal('1381.97'), 515.38]\n",
      "['Supplier#000000771', 13981, 'ROMANIA', Decimal('2221.25'), 342.07]\n",
      "['Supplier#000000016', 1015, 'RUSSIA', Decimal('2972.26'), 795.39]\n",
      "['Supplier#000000121', 13120, 'FRANCE', Decimal('5733.61'), 535.0200000000002]\n",
      "['Supplier#000000647', 13120, 'UNITED KINGDOM', Decimal('9828.21'), 115.28999999999999]\n",
      "['Supplier#000000053', 5797, 'GERMANY', Decimal('6177.35'), 976.76]\n",
      "['Supplier#000000812', 13811, 'FRANCE', Decimal('8615.50'), 268.73999999999995]\n",
      "['Supplier#000000996', 10735, 'GERMANY', Decimal('6329.90'), 969.2700000000008]\n",
      "['Supplier#000000367', 6854, 'RUSSIA', Decimal('8488.53'), 229.80000000000007]\n",
      "['Supplier#000000802', 10021, 'ROMANIA', Decimal('9453.01'), 586.8199999999998]\n",
      "['Supplier#000000007', 13217, 'UNITED KINGDOM', Decimal('6820.35'), 672.09]\n",
      "['Supplier#000000553', 8036, 'FRANCE', Decimal('3526.53'), 291.29]\n",
      "['Supplier#000000646', 11384, 'FRANCE', Decimal('8430.52'), 954.7900000000004]\n",
      "['Supplier#000000959', 4958, 'GERMANY', Decimal('9032.15'), 682.03]\n",
      "['Supplier#000000785', 13784, 'RUSSIA', Decimal('5364.99'), 140.41999999999993]\n",
      "['Supplier#000000840', 3080, 'ROMANIA', Decimal('2963.09'), 410.85]\n",
      "['Supplier#000000295', 8036, 'UNITED KINGDOM', Decimal('-435.02'), 945.4599999999996]\n",
      "['Supplier#000000115', 13325, 'UNITED KINGDOM', Decimal('9192.10'), 45.45000000000001]\n",
      "['Supplier#000000044', 17242, 'GERMANY', Decimal('9759.38'), 783.6999999999997]\n",
      "['Supplier#000000651', 4888, 'RUSSIA', Decimal('683.07'), 915.3999999999999]\n",
      "['Supplier#000000146', 4637, 'RUSSIA', Decimal('8271.39'), 629.9299999999998]\n",
      "['Supplier#000000239', 12238, 'RUSSIA', Decimal('4672.25'), 209.27]\n",
      "['Supplier#000000350', 4841, 'GERMANY', Decimal('3294.68'), 249.91000000000003]\n",
      "['Supplier#000000333', 11810, 'RUSSIA', Decimal('8702.02'), 839.7699999999999]\n",
      "['Supplier#000000276', 13275, 'FRANCE', Decimal('7144.78'), 764.2599999999999]\n",
      "['Supplier#000000065', 13275, 'RUSSIA', Decimal('-963.79'), 624.33]\n",
      "['Supplier#000000326', 13325, 'GERMANY', Decimal('4680.75'), 536.86]\n",
      "['Supplier#000000243', 17242, 'FRANCE', Decimal('747.88'), 954.0100000000003]\n",
      "['Supplier#000000070', 3563, 'FRANCE', Decimal('9508.37'), 346.0199999999999]\n",
      "['Supplier#000000587', 3080, 'GERMANY', Decimal('5322.35'), 424.47]\n",
      "['Supplier#000000799', 11276, 'RUSSIA', Decimal('765.69'), 10.799999999999997]\n",
      "['Supplier#000000704', 9926, 'ROMANIA', Decimal('-845.44'), 89.07]\n",
      "['Supplier#000000802', 13275, 'ROMANIA', Decimal('9453.01'), 296.21]\n",
      "['Supplier#000000623', 6854, 'GERMANY', Decimal('5408.07'), 408.25]\n",
      "['Supplier#000000553', 17018, 'FRANCE', Decimal('3526.53'), 255.77]\n",
      "['Supplier#000000321', 7320, 'ROMANIA', Decimal('4941.88'), 35.37]\n",
      "['Supplier#000000025', 12238, 'RUSSIA', Decimal('9198.31'), 793.0900000000001]\n",
      "['Supplier#000000680', 5679, 'RUSSIA', Decimal('4586.49'), 19.04]\n",
      "['Supplier#000000170', 7655, 'UNITED KINGDOM', Decimal('7392.78'), 317.54]\n",
      "['Supplier#000000656', 7655, 'ROMANIA', Decimal('8069.74'), 799.17]\n",
      "['Supplier#000000769', 1015, 'FRANCE', Decimal('165.76'), 929.07]\n",
      "['Supplier#000000510', 17242, 'ROMANIA', Decimal('-314.06'), 191.94999999999996]\n",
      "['Supplier#000000328', 16327, 'GERMANY', Decimal('5069.27'), 804.4399999999996]\n",
      "['Supplier#000000574', 323, 'RUSSIA', Decimal('8096.98'), 574.84]\n",
      "['Supplier#000000408', 18139, 'RUSSIA', Decimal('6173.87'), 418.71]\n",
      "['Supplier#000000957', 10956, 'UNITED KINGDOM', Decimal('4324.51'), 893.8199999999996]\n",
      "['Supplier#000000384', 13120, 'GERMANY', Decimal('1342.17'), 280.36999999999995]\n",
      "['Supplier#000000477', 10956, 'GERMANY', Decimal('7205.20'), 765.75]\n"
     ]
    }
   ],
   "source": [
    "# Naive reconstruction based on the indices of the keys in the templatedf\n",
    "allcols = INDEX_COLS + OUTPUT_COLS\n",
    "allrows = allgroups.select(INDEX_COLS).to_numpy().tolist()\n",
    "\n",
    "allinfo2 = {\n",
    "    (rowidxes[tuple(adentry['row'].values())], colidxes[adentry['col']]): adentry['value'][0]\n",
    "    for adidx, adentry in alldata.items()\n",
    "}\n",
    "\n",
    "df2 = []\n",
    "print(allcols)\n",
    "for row in allrows:\n",
    "    print(row + [allinfo2.get((rowidxes[tuple(row)], colidxes[col]), None) for col in OUTPUT_COLS])\n",
    "    df2.append(row + [allinfo2.get((rowidxes[tuple(row)], colidxes[col]), None) for col in OUTPUT_COLS])"
   ]
  },
  {
   "cell_type": "code",
   "execution_count": 11,
   "id": "396c2efa",
   "metadata": {
    "execution": {
     "iopub.execute_input": "2025-04-25T05:04:47.760701Z",
     "iopub.status.busy": "2025-04-25T05:04:47.760244Z",
     "iopub.status.idle": "2025-04-25T05:04:47.774993Z",
     "shell.execute_reply": "2025-04-25T05:04:47.772316Z"
    },
    "papermill": {
     "duration": 0.026971,
     "end_time": "2025-04-25T05:04:47.778806",
     "exception": false,
     "start_time": "2025-04-25T05:04:47.751835",
     "status": "completed"
    },
    "tags": []
   },
   "outputs": [
    {
     "data": {
      "text/html": [
       "<div><style>\n",
       ".dataframe > thead > tr,\n",
       ".dataframe > tbody > tr {\n",
       "  text-align: right;\n",
       "  white-space: pre-wrap;\n",
       "}\n",
       "</style>\n",
       "<small>shape: (63, 5)</small><table border=\"1\" class=\"dataframe\"><thead><tr><th>s_name</th><th>p_partkey</th><th>n_name</th><th>s_acctbal</th><th>min(ps_supplycost)</th></tr><tr><td>str</td><td>i64</td><td>str</td><td>decimal[15,2]</td><td>decimal[15,2]</td></tr></thead><tbody><tr><td>&quot;Supplier#000000574&quot;</td><td>13784</td><td>&quot;RUSSIA&quot;</td><td>8096.98</td><td>398.27</td></tr><tr><td>&quot;Supplier#000000949&quot;</td><td>9430</td><td>&quot;UNITED KINGDOM&quot;</td><td>91.39</td><td>382.52</td></tr><tr><td>&quot;Supplier#000000470&quot;</td><td>6213</td><td>&quot;ROMANIA&quot;</td><td>727.89</td><td>601.78</td></tr><tr><td>&quot;Supplier#000000138&quot;</td><td>8363</td><td>&quot;ROMANIA&quot;</td><td>906.07</td><td>337.51</td></tr><tr><td>&quot;Supplier#000000323&quot;</td><td>3563</td><td>&quot;RUSSIA&quot;</td><td>704.83</td><td>651.30</td></tr><tr><td>&hellip;</td><td>&hellip;</td><td>&hellip;</td><td>&hellip;</td><td>&hellip;</td></tr><tr><td>&quot;Supplier#000000574&quot;</td><td>323</td><td>&quot;RUSSIA&quot;</td><td>8096.98</td><td>574.84</td></tr><tr><td>&quot;Supplier#000000408&quot;</td><td>18139</td><td>&quot;RUSSIA&quot;</td><td>6173.87</td><td>418.71</td></tr><tr><td>&quot;Supplier#000000957&quot;</td><td>10956</td><td>&quot;UNITED KINGDOM&quot;</td><td>4324.51</td><td>893.81</td></tr><tr><td>&quot;Supplier#000000384&quot;</td><td>13120</td><td>&quot;GERMANY&quot;</td><td>1342.17</td><td>280.36</td></tr><tr><td>&quot;Supplier#000000477&quot;</td><td>10956</td><td>&quot;GERMANY&quot;</td><td>7205.20</td><td>765.75</td></tr></tbody></table></div>"
      ],
      "text/plain": [
       "shape: (63, 5)\n",
       "┌────────────────────┬───────────┬────────────────┬───────────────┬────────────────────┐\n",
       "│ s_name             ┆ p_partkey ┆ n_name         ┆ s_acctbal     ┆ min(ps_supplycost) │\n",
       "│ ---                ┆ ---       ┆ ---            ┆ ---           ┆ ---                │\n",
       "│ str                ┆ i64       ┆ str            ┆ decimal[15,2] ┆ decimal[15,2]      │\n",
       "╞════════════════════╪═══════════╪════════════════╪═══════════════╪════════════════════╡\n",
       "│ Supplier#000000574 ┆ 13784     ┆ RUSSIA         ┆ 8096.98       ┆ 398.27             │\n",
       "│ Supplier#000000949 ┆ 9430      ┆ UNITED KINGDOM ┆ 91.39         ┆ 382.52             │\n",
       "│ Supplier#000000470 ┆ 6213      ┆ ROMANIA        ┆ 727.89        ┆ 601.78             │\n",
       "│ Supplier#000000138 ┆ 8363      ┆ ROMANIA        ┆ 906.07        ┆ 337.51             │\n",
       "│ Supplier#000000323 ┆ 3563      ┆ RUSSIA         ┆ 704.83        ┆ 651.30             │\n",
       "│ …                  ┆ …         ┆ …              ┆ …             ┆ …                  │\n",
       "│ Supplier#000000574 ┆ 323       ┆ RUSSIA         ┆ 8096.98       ┆ 574.84             │\n",
       "│ Supplier#000000408 ┆ 18139     ┆ RUSSIA         ┆ 6173.87       ┆ 418.71             │\n",
       "│ Supplier#000000957 ┆ 10956     ┆ UNITED KINGDOM ┆ 4324.51       ┆ 893.81             │\n",
       "│ Supplier#000000384 ┆ 13120     ┆ GERMANY        ┆ 1342.17       ┆ 280.36             │\n",
       "│ Supplier#000000477 ┆ 10956     ┆ GERMANY        ┆ 7205.20       ┆ 765.75             │\n",
       "└────────────────────┴───────────┴────────────────┴───────────────┴────────────────────┘"
      ]
     },
     "execution_count": 11,
     "metadata": {},
     "output_type": "execute_result"
    }
   ],
   "source": [
    "pl.DataFrame(df2, schema=allcols, orient='row').cast(templatedf.schema)"
   ]
  },
  {
   "cell_type": "code",
   "execution_count": 12,
   "id": "22658efb",
   "metadata": {
    "execution": {
     "iopub.execute_input": "2025-04-25T05:04:47.788110Z",
     "iopub.status.busy": "2025-04-25T05:04:47.787732Z",
     "iopub.status.idle": "2025-04-25T05:04:47.819515Z",
     "shell.execute_reply": "2025-04-25T05:04:47.818449Z"
    },
    "papermill": {
     "duration": 0.03818,
     "end_time": "2025-04-25T05:04:47.821674",
     "exception": false,
     "start_time": "2025-04-25T05:04:47.783494",
     "status": "completed"
    },
    "tags": []
   },
   "outputs": [],
   "source": [
    "pl.DataFrame(df2, schema=allcols, orient='row').cast(templatedf.schema).write_csv(os.path.join(OUTPUT_DIR, 'output.csv'))"
   ]
  },
  {
   "cell_type": "code",
   "execution_count": 13,
   "id": "fbf29824",
   "metadata": {
    "execution": {
     "iopub.execute_input": "2025-04-25T05:04:47.827458Z",
     "iopub.status.busy": "2025-04-25T05:04:47.827214Z",
     "iopub.status.idle": "2025-04-25T05:04:47.834362Z",
     "shell.execute_reply": "2025-04-25T05:04:47.833279Z"
    },
    "papermill": {
     "duration": 0.012376,
     "end_time": "2025-04-25T05:04:47.836274",
     "exception": false,
     "start_time": "2025-04-25T05:04:47.823898",
     "status": "completed"
    },
    "tags": []
   },
   "outputs": [
    {
     "data": {
      "text/plain": [
       "'/Users/michael/projects/dpdb/pacdb/outputs/ap-duckdb-q2-step3.zip'"
      ]
     },
     "execution_count": 13,
     "metadata": {},
     "output_type": "execute_result"
    }
   ],
   "source": [
    "# zip the OUTPUT_DIR\n",
    "shutil.make_archive(OUTPUT_DIR, 'zip', OUTPUT_DIR)"
   ]
  }
 ],
 "metadata": {
  "kernelspec": {
   "display_name": ".venv",
   "language": "python",
   "name": "python3"
  },
  "language_info": {
   "codemirror_mode": {
    "name": "ipython",
    "version": 3
   },
   "file_extension": ".py",
   "mimetype": "text/x-python",
   "name": "python",
   "nbconvert_exporter": "python",
   "pygments_lexer": "ipython3",
   "version": "3.11.7"
  },
  "papermill": {
   "default_parameters": {},
   "duration": 1.006286,
   "end_time": "2025-04-25T05:04:48.061045",
   "environment_variables": {},
   "exception": null,
   "input_path": "autopac-duckdb-step3.ipynb",
   "output_path": "./ap-duckdb-q2-step3.ipynb",
   "parameters": {
    "EXPERIMENT": "ap-duckdb-q2",
    "INDEX_COLS": [
     "s_name",
     "p_partkey",
     "n_name",
     "s_acctbal"
    ],
    "INPUT_ZIP": "./outputs/ap-duckdb-q2-step2.zip",
    "OUTPUT_COLS": [
     "min(ps_supplycost)"
    ],
    "OUTPUT_DIR": "./outputs/ap-duckdb-q2-step3",
    "templatedf_path": "./outputs/ap-duckdb-q2-step1/template.pkl"
   },
   "start_time": "2025-04-25T05:04:47.054759",
   "version": "2.6.0"
  }
 },
 "nbformat": 4,
 "nbformat_minor": 5
}