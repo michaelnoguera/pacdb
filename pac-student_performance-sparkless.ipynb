{
 "cells": [
  {
   "cell_type": "markdown",
   "metadata": {},
   "source": [
    "# Student Performance Microbenchmark\n",
    "Simple statistical queries about students in a Portuguese class.\n",
    "This file is adapted to use numpy only without Spark."
   ]
  },
  {
   "cell_type": "code",
   "execution_count": 1,
   "metadata": {},
   "outputs": [
    {
     "name": "stdout",
     "output_type": "stream",
     "text": [
      "GENERATE = True, so we will generate new samples.\n"
     ]
    }
   ],
   "source": [
    "EXPERIMENT = 'pac-student_performance-sparkless'\n",
    "OUTPUT_DIR = f'./outputs/{EXPERIMENT}'\n",
    "GENERATE = True\n",
    "USE_EVEN_NUMBER_OF_INPUT_ROWS = False\n",
    "SEED_RANDOM_NUMBER_GENERATOR = True\n",
    "\n",
    "if GENERATE:\n",
    "    print(\"GENERATE = True, so we will generate new samples.\")\n",
    "else:\n",
    "    print(\"GENERATE = False, so we will load saved output from files rather than recomputing.\")\n",
    "\n",
    "import os\n",
    "if not os.path.exists(OUTPUT_DIR):\n",
    "    os.makedirs(OUTPUT_DIR)\n",
    "\n"
   ]
  },
  {
   "cell_type": "markdown",
   "metadata": {},
   "source": [
    "### Running PAC"
   ]
  },
  {
   "cell_type": "code",
   "execution_count": 2,
   "metadata": {},
   "outputs": [],
   "source": [
    "from typing import Any, Callable, Dict, List, Tuple, Union\n",
    "\n",
    "import numpy as np\n",
    "if SEED_RANDOM_NUMBER_GENERATOR:\n",
    "    np.random.seed(0)\n",
    "\n",
    "import pandas as pd\n",
    "from pandas import DataFrame\n",
    "import concurrent.futures\n",
    "import pyarrow as pa\n",
    "import pyarrow.parquet as pq\n",
    "import pickle\n",
    "from numpy.random import laplace\n",
    "from functools import reduce\n",
    "import operator\n",
    "from scipy import special"
   ]
  },
  {
   "cell_type": "code",
   "execution_count": 3,
   "metadata": {},
   "outputs": [],
   "source": [
    "### Mayuri's conversion functions between DP epsilon and PAC MI using posterior advantage for equivalence\n",
    "def calc_posterior(mi, prior=0.5, prec = 100000):\n",
    "    test_vals = [x / prec for x in range(1, prec)]\n",
    "    max_t = None\n",
    "    for t in test_vals:\n",
    "        if t*np.log(t/prior)+(1-t)*np.log((1-t)/(1-prior)) <= mi:\n",
    "            if  max_t is None or t > max_t:\n",
    "                max_t = t\n",
    "    return max_t\n",
    "\n",
    "def dp_epsilon_to_posterior_success(epsilon):\n",
    "    return 1 - 1./(1+np.exp(epsilon))\n",
    "\n",
    "def dp_ps_to_epsilon(ps):\n",
    "    return np.log(ps / (1-ps))\n",
    "\n",
    "# example usage:\n"
   ]
  },
  {
   "cell_type": "code",
   "execution_count": 4,
   "metadata": {},
   "outputs": [
    {
     "data": {
      "text/plain": [
       "(649, 33)"
      ]
     },
     "execution_count": 4,
     "metadata": {},
     "output_type": "execute_result"
    }
   ],
   "source": [
    "### Data Setup\n",
    "por_df = pq.read_table(f\"./data/student_performance/student-por.parquet\").to_pandas()\n",
    "# drop last row\n",
    "if USE_EVEN_NUMBER_OF_INPUT_ROWS:\n",
    "    if por_df.shape[0] % 2 != 0:\n",
    "        print(f\"Input data has odd number of rows ({por_df.shape[0]}), dropping last row to make it even.\")\n",
    "        por_df = por_df.iloc[:-1]\n",
    "por_df.shape"
   ]
  },
  {
   "cell_type": "code",
   "execution_count": 5,
   "metadata": {},
   "outputs": [
    {
     "data": {
      "text/plain": [
       "32"
      ]
     },
     "execution_count": 5,
     "metadata": {},
     "output_type": "execute_result"
    }
   ],
   "source": [
    "max(por_df['absences'])"
   ]
  },
  {
   "cell_type": "code",
   "execution_count": 6,
   "metadata": {},
   "outputs": [
    {
     "data": {
      "text/plain": [
       "array([ 649.        , 2375.        ,    3.65947612])"
      ]
     },
     "execution_count": 6,
     "metadata": {},
     "output_type": "execute_result"
    }
   ],
   "source": [
    "true_result = por_df['absences'].agg(['count', 'sum', 'mean']).to_numpy()\n",
    "true_result"
   ]
  },
  {
   "cell_type": "code",
   "execution_count": 7,
   "metadata": {},
   "outputs": [],
   "source": [
    "### Query Setup\n",
    "SAMPLES = 10000\n",
    "assert SAMPLES % 2 == 0, \"We need an even number of samples for paired sampling.\"\n",
    "number_of_pairs = SAMPLES // 2\n",
    "\n",
    "true_result = por_df['absences'].agg(['count', 'sum', 'mean']).to_numpy() # Save the true result of the query for later\n",
    "number_of_contributing_rows = por_df['absences'].count()\n",
    "\n",
    "def paired_samples(df: DataFrame) -> Tuple[DataFrame, DataFrame]:\n",
    "    \"\"\"\n",
    "    This will select a subset of indices, where each index is selected with probability 0.5.\n",
    "    The first result is the dataframe composed of the selected rows.\n",
    "    The second result is the complement / the dataframe composed of the rows that were not selected.\n",
    "    \"\"\"\n",
    "    indices = []\n",
    "    n = len(df)\n",
    "    t=list(df.index)\n",
    "    np.random.shuffle(t)\n",
    "    selected = t[:int(n/2)]\n",
    "    not_indices = list(set(df.index) - set(selected))\n",
    "    selected: DataFrame = df.iloc[selected]\n",
    "    not_selected: DataFrame = df.iloc[not_indices]\n",
    "    return (selected, not_selected)\n",
    "\n",
    "def run_query(i: int) -> List[np.ndarray]:\n",
    "    # i is not used for anything, just to satisfy the map function.\n",
    "    # Returns two results each invocation as a result of paired sampling.\n",
    "    results = []\n",
    "    for temp_df in paired_samples(por_df):\n",
    "        out_df = temp_df['absences'].agg(['count', 'mean'])  # run the query\n",
    "        #out_df['count'] *= 2  # correct query result for the 50% subsampling\n",
    "        #out_df['sum'] *= 2  # correct query result for the 50% subsampling\n",
    "        results.append(out_df.to_numpy())\n",
    "    return results\n",
    "\n",
    "def generate_samples(laplace_lambda: float = 1.0, alpha: int = 10) -> List[np.ndarray]:\n",
    "    # thresholding happens here for PAC -- if there are less than alpha samples\n",
    "    # (with some Laplacian noise), then we don't subsample and return None.\n",
    "    laplace_noise: float = np.random.laplace(scale=laplace_lambda)\n",
    "    if number_of_contributing_rows + laplace_noise < alpha:  # if we don't get enough results from the query\n",
    "        print(\"There are not enough rows contributing to the result for PAC to be meaningful.\")\n",
    "        return []\n",
    "    \n",
    "    out_np: List[np.ndarray] = []\n",
    "    for i in range(number_of_pairs):\n",
    "        out_np.append(run_query(i))\n",
    "    out_np = reduce(operator.iconcat, out_np, [])\n",
    "    # https://stackoverflow.com/a/45323085\n",
    "\n",
    "    #with concurrent.futures.ThreadPoolExecutor() as executor:\n",
    "    #    out_np: List[np.ndarray] = list(executor.map(run_query, range(number_of_pairs)))\n",
    "    #    out_np = reduce(operator.iconcat, out_np, [])\n",
    "    #    # https://stackoverflow.com/a/45323085\n",
    "\n",
    "    return out_np"
   ]
  },
  {
   "cell_type": "code",
   "execution_count": 8,
   "metadata": {},
   "outputs": [],
   "source": [
    "#s = generate_samples()\n",
    "#s\n",
    "\n",
    "#pd.DataFrame(s, columns=['count', 'mean']).hist(\"count\")\n",
    "#pd.DataFrame(s, columns=['count', 'mean']).hist(\"sum\")\n",
    "#pd.DataFrame(s, columns=['count', 'mean']).hist(\"mean\")"
   ]
  },
  {
   "cell_type": "code",
   "execution_count": 9,
   "metadata": {},
   "outputs": [],
   "source": [
    "# compute variance of pd.DataFrame(s, columns=['count', 'mean'])['sum']\n",
    "#np.var(pd.DataFrame(s, columns=['count', 'mean'])['count'])"
   ]
  },
  {
   "cell_type": "code",
   "execution_count": 9,
   "metadata": {},
   "outputs": [],
   "source": [
    "### Compute PAC Noise\n",
    "def updateDataFrame(vec: np.ndarray, df: DataFrame) -> DataFrame:\n",
    "    \"\"\"\n",
    "    Update a DataFrame with a noisy output vector.\n",
    "    \"\"\"\n",
    "    noisy_output_df = df.copy()\n",
    "    noisy_output_df.loc[0] = vec\n",
    "    return noisy_output_df\n",
    "\n",
    "saved_pac_variables = []\n",
    "# (out_np[0], fin_var, sqrt_total_var, pac_noise, pac_noises_to_add, pac_release)\n",
    "\n",
    "def get_pac_noise(variance, max_mi):\n",
    "        \n",
    "    sqrt_total_var: np.floating[Any] = np.sum(np.sqrt(variance))\n",
    "    pac_noise: np.ndarray = (1./(2*max_mi)) * sqrt_total_var * np.sqrt(variance)  # variance of the PAC noise\n",
    "    return pac_noise\n",
    "\n",
    "def do_pac_and_release(variance: List[np.ndarray],\n",
    "                       max_mi: float,\n",
    "                       chosen_sample: List[np.ndarray],\n",
    "                       proj=None) -> np.ndarray:\n",
    "    pac_noise = get_pac_noise(variance, max_mi)\n",
    "    pac_noise = np.matmul(np.matmul(u, pac_noise), u.T)\n",
    "    pac_noises_to_add: np.ndarray = np.random.normal(loc=0, scale=pac_noise)\n",
    "\n",
    "    pac_release = chosen_sample + pac_noises_to_add\n",
    "    \n",
    "    return pac_release\n"
   ]
  },
  {
   "cell_type": "code",
   "execution_count": 10,
   "metadata": {},
   "outputs": [],
   "source": [
    "# def tv_pac_and_release(variance, max_mi, chosen_sample):\n",
    "#     pac_noise = get_pac_noise(variance, max_mi)\n",
    "#     pac_noise *= 2\n",
    "#     pac_noise = pac_noise**(0.5)\n",
    "#     pac_noise /= 2\n",
    "#     pac_noise = [special.erf(x) for x in pac_noise]\n",
    "#     pac_noises_to_add: np.ndarray = np.random.normal(loc=0, scale=pac_noise)\n",
    "\n",
    "#     pac_release = chosen_sample + pac_noises_to_add\n",
    "    \n",
    "#     return pac_release\n"
   ]
  },
  {
   "cell_type": "code",
   "execution_count": 11,
   "metadata": {},
   "outputs": [],
   "source": [
    "experiment_results = []\n",
    "experiment_results_unnoised = []\n",
    "\n",
    "out_np = generate_samples() # generate samples (results of running the query)\n",
    "dimensions: int = len(out_np[0])\n",
    "\n",
    "out_np_2darr = [np.atleast_2d(o) for o in out_np] # make sure all the DF -> np.ndarray conversions result in 2d arrays\n",
    "\n",
    "est_y: np.ndarray = np.stack(out_np_2darr, axis=-1).reshape(dimensions, SAMPLES)\n",
    "fin_var: np.ndarray = np.var(est_y, axis=1)  # shape (dimensions,)\n"
   ]
  },
  {
   "cell_type": "code",
   "execution_count": 12,
   "metadata": {},
   "outputs": [
    {
     "name": "stdout",
     "output_type": "stream",
     "text": [
      "[0.25002931 0.03364883]\n"
     ]
    }
   ],
   "source": [
    "use_svd=True\n",
    "if use_svd:\n",
    "    cov = np.cov(est_y)\n",
    "    fin_var, u = np.linalg.eig(cov)\n",
    "else:\n",
    "    u = None\n",
    "print(fin_var)"
   ]
  },
  {
   "cell_type": "code",
   "execution_count": 15,
   "metadata": {},
   "outputs": [
    {
     "data": {
      "text/plain": [
       "array([0.25002931, 0.03364883])"
      ]
     },
     "execution_count": 15,
     "metadata": {},
     "output_type": "execute_result"
    }
   ],
   "source": [
    "fin_var"
   ]
  },
  {
   "cell_type": "code",
   "execution_count": 14,
   "metadata": {},
   "outputs": [
    {
     "name": "stdout",
     "output_type": "stream",
     "text": [
      "[[ 0.99999004 -0.00446292]\n",
      " [ 0.00446292  0.99999004]]\n"
     ]
    }
   ],
   "source": [
    "print(u)"
   ]
  },
  {
   "cell_type": "code",
   "execution_count": 13,
   "metadata": {},
   "outputs": [],
   "source": [
    "# tv_pac_and_release(fin_var, 0.5, out_np[0])"
   ]
  },
  {
   "cell_type": "code",
   "execution_count": 16,
   "metadata": {},
   "outputs": [],
   "source": [
    "# MEAN\n",
    "mis = [2**x for x in range(-10, 3)]\n",
    "# dp = []\n",
    "pac = []\n",
    "for mi in mis:\n",
    "    # eps = dp_ps_to_epsilon(calc_posterior(mi))\n",
    "    # dp_sensitivity = max(por_df['absences']) / len(por_df)\n",
    "    # laplace_var = dp_sensitivity / eps\n",
    "    variance = np.array([fin_var[1]])\n",
    "    sqrt_total_var: np.floating[Any] = np.sum(np.sqrt(variance))\n",
    "    pac_var: np.ndarray = (1./(2*mi)) * sqrt_total_var * np.sqrt(variance)\n",
    "    # dp.append(laplace_var)\n",
    "    pac.append(pac_var)"
   ]
  },
  {
   "cell_type": "code",
   "execution_count": 18,
   "metadata": {},
   "outputs": [
    {
     "ename": "AttributeError",
     "evalue": "module 'matplotlib' has no attribute 'plot'",
     "output_type": "error",
     "traceback": [
      "\u001b[0;31m---------------------------------------------------------------------------\u001b[0m",
      "\u001b[0;31mAttributeError\u001b[0m                            Traceback (most recent call last)",
      "\u001b[1;32m/Users/chaitanyasuma/pac/pacdb/pac-student_performance-sparkless.ipynb Cell 20\u001b[0m line \u001b[0;36m4\n\u001b[1;32m      <a href='vscode-notebook-cell:/Users/chaitanyasuma/pac/pacdb/pac-student_performance-sparkless.ipynb#X24sZmlsZQ%3D%3D?line=1'>2</a>\u001b[0m xs \u001b[39m=\u001b[39m [x \u001b[39mfor\u001b[39;00m x \u001b[39min\u001b[39;00m \u001b[39mrange\u001b[39m(\u001b[39m-\u001b[39m\u001b[39m10\u001b[39m, \u001b[39m3\u001b[39m)]\n\u001b[1;32m      <a href='vscode-notebook-cell:/Users/chaitanyasuma/pac/pacdb/pac-student_performance-sparkless.ipynb#X24sZmlsZQ%3D%3D?line=2'>3</a>\u001b[0m \u001b[39m# plt.plot(xs, dp, label='DP')\u001b[39;00m\n\u001b[0;32m----> <a href='vscode-notebook-cell:/Users/chaitanyasuma/pac/pacdb/pac-student_performance-sparkless.ipynb#X24sZmlsZQ%3D%3D?line=3'>4</a>\u001b[0m plt\u001b[39m.\u001b[39;49mplot(xs, pac, label\u001b[39m=\u001b[39m\u001b[39m'\u001b[39m\u001b[39mPAC\u001b[39m\u001b[39m'\u001b[39m)\n\u001b[1;32m      <a href='vscode-notebook-cell:/Users/chaitanyasuma/pac/pacdb/pac-student_performance-sparkless.ipynb#X24sZmlsZQ%3D%3D?line=4'>5</a>\u001b[0m plt\u001b[39m.\u001b[39mlegend()\n\u001b[1;32m      <a href='vscode-notebook-cell:/Users/chaitanyasuma/pac/pacdb/pac-student_performance-sparkless.ipynb#X24sZmlsZQ%3D%3D?line=5'>6</a>\u001b[0m plt\u001b[39m.\u001b[39mtitle(\u001b[39m\"\u001b[39m\u001b[39mNoise for Mean Estimation\u001b[39m\u001b[39m\"\u001b[39m)\n",
      "File \u001b[0;32m~/Library/Python/3.9/lib/python/site-packages/matplotlib/_api/__init__.py:217\u001b[0m, in \u001b[0;36mcaching_module_getattr.<locals>.__getattr__\u001b[0;34m(name)\u001b[0m\n\u001b[1;32m    215\u001b[0m \u001b[39mif\u001b[39;00m name \u001b[39min\u001b[39;00m props:\n\u001b[1;32m    216\u001b[0m     \u001b[39mreturn\u001b[39;00m props[name]\u001b[39m.\u001b[39m\u001b[39m__get__\u001b[39m(instance)\n\u001b[0;32m--> 217\u001b[0m \u001b[39mraise\u001b[39;00m \u001b[39mAttributeError\u001b[39;00m(\n\u001b[1;32m    218\u001b[0m     \u001b[39mf\u001b[39m\u001b[39m\"\u001b[39m\u001b[39mmodule \u001b[39m\u001b[39m{\u001b[39;00m\u001b[39mcls\u001b[39m\u001b[39m.\u001b[39m\u001b[39m__module__\u001b[39m\u001b[39m!r}\u001b[39;00m\u001b[39m has no attribute \u001b[39m\u001b[39m{\u001b[39;00mname\u001b[39m!r}\u001b[39;00m\u001b[39m\"\u001b[39m)\n",
      "\u001b[0;31mAttributeError\u001b[0m: module 'matplotlib' has no attribute 'plot'"
     ]
    }
   ],
   "source": [
    "import matplotlib.pyplot as plt\n",
    "xs = [x for x in range(-10, 3)]\n",
    "# plt.plot(xs, dp, label='DP')\n",
    "plt.plot(xs, pac, label='PAC')\n",
    "plt.legend()\n",
    "plt.title(\"Noise for Mean Estimation\")"
   ]
  },
  {
   "cell_type": "code",
   "execution_count": 136,
   "metadata": {},
   "outputs": [],
   "source": [
    "# COUNT\n",
    "mis = [2**x for x in range(-10, 3)]\n",
    "dp = []\n",
    "pac = []\n",
    "for mi in mis:\n",
    "    eps = dp_ps_to_epsilon(calc_posterior(mi))\n",
    "    dp_sensitivity = 1.\n",
    "    laplace_var = dp_sensitivity / eps\n",
    "    variance = np.array([fin_var[0]])\n",
    "    sqrt_total_var: np.floating[Any] = np.sum(np.sqrt(variance))\n",
    "    pac_var: np.ndarray = (1./(2*mi)) * sqrt_total_var * np.sqrt(variance)\n",
    "    dp.append(laplace_var)\n",
    "    pac.append(pac_var)"
   ]
  },
  {
   "cell_type": "code",
   "execution_count": 141,
   "metadata": {},
   "outputs": [
    {
     "data": {
      "text/plain": [
       "Text(0.5, 1.0, 'Noise for Count Estimation')"
      ]
     },
     "execution_count": 141,
     "metadata": {},
     "output_type": "execute_result"
    },
    {
     "data": {
      "image/png": "[encoded data removed]",
      "text/plain": [
       "<Figure size 432x288 with 1 Axes>"
      ]
     },
     "metadata": {
      "needs_background": "light"
     },
     "output_type": "display_data"
    }
   ],
   "source": [
    "xs = [x for x in range(-10, 3)]\n",
    "plt.plot(xs, dp, label='DP')\n",
    "plt.plot(xs, pac, label='PAC')\n",
    "plt.legend()\n",
    "plt.title(\"Noise for Count Estimation\")"
   ]
  },
  {
   "cell_type": "code",
   "execution_count": 168,
   "metadata": {},
   "outputs": [
    {
     "data": {
      "text/plain": [
       "[<matplotlib.lines.Line2D at 0x16819bc40>]"
      ]
     },
     "execution_count": 168,
     "metadata": {},
     "output_type": "execute_result"
    },
    {
     "data": {
      "image/png": "[encoded data removed]",
      "text/plain": [
       "<Figure size 432x288 with 1 Axes>"
      ]
     },
     "metadata": {
      "needs_background": "light"
     },
     "output_type": "display_data"
    }
   ],
   "source": [
    "ys = [1./2**(x) for x in range(-10, 0)]\n",
    "orig = [2**x for x in range(-10, 0)]\n",
    "xs = [1./dp_ps_to_epsilon(calc_posterior(x)) for x in orig]\n",
    "plt.ylabel(\"1/MI\")\n",
    "plt.xlabel(\"1/eps\")\n",
    "plt.plot(xs, ys, 'o')"
   ]
  },
  {
   "cell_type": "code",
   "execution_count": 162,
   "metadata": {},
   "outputs": [
    {
     "data": {
      "text/plain": [
       "-1.4887432461805226"
      ]
     },
     "execution_count": 162,
     "metadata": {},
     "output_type": "execute_result"
    }
   ],
   "source": [
    "np.log2(dp_ps_to_epsilon(calc_posterior(2**-6)))"
   ]
  },
  {
   "cell_type": "code",
   "execution_count": 161,
   "metadata": {},
   "outputs": [
    {
     "data": {
      "text/plain": [
       "-2.4973520666824283"
      ]
     },
     "execution_count": 161,
     "metadata": {},
     "output_type": "execute_result"
    }
   ],
   "source": [
    "np.log2(dp_ps_to_epsilon(calc_posterior(2**-8)))"
   ]
  },
  {
   "cell_type": "code",
   "execution_count": null,
   "metadata": {},
   "outputs": [],
   "source": []
  }
 ],
 "metadata": {
  "kernelspec": {
   "display_name": "Python 3 (ipykernel)",
   "language": "python",
   "name": "python3"
  },
  "language_info": {
   "codemirror_mode": {
    "name": "ipython",
    "version": 3
   },
   "file_extension": ".py",
   "mimetype": "text/x-python",
   "name": "python",
   "nbconvert_exporter": "python",
   "pygments_lexer": "ipython3",
   "version": "3.9.6"
  }
 },
 "nbformat": 4,
 "nbformat_minor": 2
}
