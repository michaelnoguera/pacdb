{
 "cells": [
  {
   "cell_type": "code",
   "execution_count": 1,
   "id": "eba650e4",
   "metadata": {
    "execution": {
     "iopub.execute_input": "2025-05-01T09:14:56.750854Z",
     "iopub.status.busy": "2025-05-01T09:14:56.750653Z",
     "iopub.status.idle": "2025-05-01T09:14:56.795578Z",
     "shell.execute_reply": "2025-05-01T09:14:56.795228Z"
    },
    "papermill": {
     "duration": 0.048564,
     "end_time": "2025-05-01T09:14:56.796624",
     "exception": false,
     "start_time": "2025-05-01T09:14:56.748060",
     "status": "completed"
    },
    "tags": []
   },
   "outputs": [],
   "source": [
    "#!/usr/bin/env python\n",
    "# coding: utf-8\n",
    "\n",
    "import json\n",
    "import os\n",
    "import pickle\n",
    "import shutil\n",
    "import zipfile\n",
    "\n",
    "import parse\n",
    "import polars as pl"
   ]
  },
  {
   "cell_type": "code",
   "execution_count": 2,
   "id": "5bbee7d0",
   "metadata": {
    "execution": {
     "iopub.execute_input": "2025-05-01T09:14:56.800090Z",
     "iopub.status.busy": "2025-05-01T09:14:56.799958Z",
     "iopub.status.idle": "2025-05-01T09:14:56.802061Z",
     "shell.execute_reply": "2025-05-01T09:14:56.801785Z"
    },
    "papermill": {
     "duration": 0.004386,
     "end_time": "2025-05-01T09:14:56.802778",
     "exception": false,
     "start_time": "2025-05-01T09:14:56.798392",
     "status": "completed"
    },
    "tags": [
     "parameters"
    ]
   },
   "outputs": [],
   "source": [
    "#EXPERIMENT = \"asdf\"\n",
    "#INPUT_ZIP = f\"./outputs/{EXPERIMENT}-step2.zip\"\n",
    "#OUTPUT_DIR = f\"./outputs/{EXPERIMENT}-step3\"\n",
    "#INDEX_COLS = pickle.load(open(f'./outputs/{EXPERIMENT}-step1/INDEX_COLS.pkl', 'rb'))\n",
    "#OUTPUT_COLS = pickle.load(open(f'./outputs/{EXPERIMENT}-step1/OUTPUT_COLS.pkl', 'rb'))\n",
    "#templatedf_path = f\"./outputs/{EXPERIMENT}-step2/templatedf.csv\"\n",
    "EXPERIMENT = \"\"\n",
    "INPUT_ZIP = \"\"\n",
    "OUTPUT_DIR = \"\"\n",
    "INDEX_COLS = []\n",
    "OUTPUT_COLS = []\n",
    "templatedf_path = \"\""
   ]
  },
  {
   "cell_type": "code",
   "execution_count": 3,
   "id": "f7ec7811",
   "metadata": {
    "execution": {
     "iopub.execute_input": "2025-05-01T09:14:56.805723Z",
     "iopub.status.busy": "2025-05-01T09:14:56.805613Z",
     "iopub.status.idle": "2025-05-01T09:14:56.807412Z",
     "shell.execute_reply": "2025-05-01T09:14:56.807156Z"
    },
    "papermill": {
     "duration": 0.003944,
     "end_time": "2025-05-01T09:14:56.808066",
     "exception": false,
     "start_time": "2025-05-01T09:14:56.804122",
     "status": "completed"
    },
    "tags": [
     "injected-parameters"
    ]
   },
   "outputs": [],
   "source": [
    "# Parameters\n",
    "EXPERIMENT = \"ap-duckdb-q13-customer\"\n",
    "OUTPUT_DIR = \"./outputs/ap-duckdb-q13-customer-step3\"\n",
    "INPUT_ZIP = \"./outputs/ap-duckdb-q13-customer-step2.zip\"\n",
    "INDEX_COLS = [\"c_count\"]\n",
    "OUTPUT_COLS = [\"custdist\"]\n",
    "templatedf_path = \"./outputs/ap-duckdb-q13-customer-step1/template.pkl\"\n"
   ]
  },
  {
   "cell_type": "code",
   "execution_count": 4,
   "id": "7eeff702",
   "metadata": {
    "execution": {
     "iopub.execute_input": "2025-05-01T09:14:56.810815Z",
     "iopub.status.busy": "2025-05-01T09:14:56.810708Z",
     "iopub.status.idle": "2025-05-01T09:14:56.812742Z",
     "shell.execute_reply": "2025-05-01T09:14:56.812503Z"
    },
    "papermill": {
     "duration": 0.004165,
     "end_time": "2025-05-01T09:14:56.813412",
     "exception": false,
     "start_time": "2025-05-01T09:14:56.809247",
     "status": "completed"
    },
    "tags": []
   },
   "outputs": [],
   "source": [
    "INDEX_COLS = INDEX_COLS or [\"\"] # if no index cols are provided, then we make one up with empty string name in step 1\n",
    "\n",
    "if not os.path.exists(OUTPUT_DIR):\n",
    "    os.makedirs(OUTPUT_DIR)"
   ]
  },
  {
   "cell_type": "code",
   "execution_count": 5,
   "id": "257dec28",
   "metadata": {
    "execution": {
     "iopub.execute_input": "2025-05-01T09:14:56.816059Z",
     "iopub.status.busy": "2025-05-01T09:14:56.815962Z",
     "iopub.status.idle": "2025-05-01T09:14:56.817775Z",
     "shell.execute_reply": "2025-05-01T09:14:56.817581Z"
    },
    "papermill": {
     "duration": 0.003948,
     "end_time": "2025-05-01T09:14:56.818565",
     "exception": false,
     "start_time": "2025-05-01T09:14:56.814617",
     "status": "completed"
    },
    "tags": []
   },
   "outputs": [],
   "source": [
    "# Import saved variables from the first step\n",
    "templatedf: pl.DataFrame = pickle.load(open(templatedf_path, 'rb'))"
   ]
  },
  {
   "cell_type": "code",
   "execution_count": 6,
   "id": "ab3a80fe",
   "metadata": {
    "execution": {
     "iopub.execute_input": "2025-05-01T09:14:56.821933Z",
     "iopub.status.busy": "2025-05-01T09:14:56.821798Z",
     "iopub.status.idle": "2025-05-01T09:14:56.827247Z",
     "shell.execute_reply": "2025-05-01T09:14:56.827015Z"
    },
    "papermill": {
     "duration": 0.007974,
     "end_time": "2025-05-01T09:14:56.827887",
     "exception": false,
     "start_time": "2025-05-01T09:14:56.819913",
     "status": "completed"
    },
    "tags": []
   },
   "outputs": [
    {
     "data": {
      "text/plain": [
       "dict_keys([20, 36, 16, 6, 7, 17, 21, 10, 0, 26, 30, 31, 27, 1, 11, 2, 28, 12, 32, 24, 25, 33, 13, 29, 3, 34, 8, 22, 18, 4, 14, 15, 5, 19, 23, 9, 35])"
      ]
     },
     "execution_count": 6,
     "metadata": {},
     "output_type": "execute_result"
    }
   ],
   "source": [
    "# load the json input files from step 2\n",
    "# {'col': column name as string,\n",
    "#  'row': group-by column values as dict (effectively a row id),\n",
    "#  'values': [ 1000x values ] }\n",
    "alldata = {}\n",
    "\n",
    "pattern = parse.compile(\"{n}.json\")\n",
    "\n",
    "with zipfile.ZipFile(INPUT_ZIP, 'r') as zf:\n",
    "    for filename in zf.namelist():\n",
    "        if filename.endswith('.json'):\n",
    "            with zf.open(filename) as f:\n",
    "                filenumber = int(pattern.parse(filename).named['n'])\n",
    "                data = json.load(f)\n",
    "                d: dict = data\n",
    "                alldata[filenumber] = d\n",
    "alldata.keys()"
   ]
  },
  {
   "cell_type": "code",
   "execution_count": 7,
   "id": "fa47deff",
   "metadata": {
    "execution": {
     "iopub.execute_input": "2025-05-01T09:14:56.830689Z",
     "iopub.status.busy": "2025-05-01T09:14:56.830600Z",
     "iopub.status.idle": "2025-05-01T09:14:56.835047Z",
     "shell.execute_reply": "2025-05-01T09:14:56.834791Z"
    },
    "papermill": {
     "duration": 0.006815,
     "end_time": "2025-05-01T09:14:56.836025",
     "exception": false,
     "start_time": "2025-05-01T09:14:56.829210",
     "status": "completed"
    },
    "tags": []
   },
   "outputs": [],
   "source": [
    "# Make sure the data types of the row fields are correct\n",
    "for i in range(len(alldata)):\n",
    "    alldata[i]['row'] = pl.DataFrame(alldata[i]['row']).cast(templatedf.select(INDEX_COLS).schema).to_dicts()[0]"
   ]
  },
  {
   "cell_type": "code",
   "execution_count": 8,
   "id": "1d086fc3",
   "metadata": {
    "execution": {
     "iopub.execute_input": "2025-05-01T09:14:56.838967Z",
     "iopub.status.busy": "2025-05-01T09:14:56.838847Z",
     "iopub.status.idle": "2025-05-01T09:14:56.841390Z",
     "shell.execute_reply": "2025-05-01T09:14:56.841170Z"
    },
    "papermill": {
     "duration": 0.004652,
     "end_time": "2025-05-01T09:14:56.842009",
     "exception": false,
     "start_time": "2025-05-01T09:14:56.837357",
     "status": "completed"
    },
    "tags": []
   },
   "outputs": [
    {
     "data": {
      "text/html": [
       "<div><style>\n",
       ".dataframe > thead > tr,\n",
       ".dataframe > tbody > tr {\n",
       "  text-align: right;\n",
       "  white-space: pre-wrap;\n",
       "}\n",
       "</style>\n",
       "<small>shape: (37, 1)</small><table border=\"1\" class=\"dataframe\"><thead><tr><th>c_count</th></tr><tr><td>i64</td></tr></thead><tbody><tr><td>0</td></tr><tr><td>11</td></tr><tr><td>10</td></tr><tr><td>9</td></tr><tr><td>8</td></tr><tr><td>&hellip;</td></tr><tr><td>32</td></tr><tr><td>34</td></tr><tr><td>36</td></tr><tr><td>35</td></tr><tr><td>1</td></tr></tbody></table></div>"
      ],
      "text/plain": [
       "shape: (37, 1)\n",
       "┌─────────┐\n",
       "│ c_count │\n",
       "│ ---     │\n",
       "│ i64     │\n",
       "╞═════════╡\n",
       "│ 0       │\n",
       "│ 11      │\n",
       "│ 10      │\n",
       "│ 9       │\n",
       "│ 8       │\n",
       "│ …       │\n",
       "│ 32      │\n",
       "│ 34      │\n",
       "│ 36      │\n",
       "│ 35      │\n",
       "│ 1       │\n",
       "└─────────┘"
      ]
     },
     "execution_count": 8,
     "metadata": {},
     "output_type": "execute_result"
    }
   ],
   "source": [
    "allgroups = templatedf.select(INDEX_COLS)\n",
    "allgroups"
   ]
  },
  {
   "cell_type": "code",
   "execution_count": 9,
   "id": "0b249a7b",
   "metadata": {
    "execution": {
     "iopub.execute_input": "2025-05-01T09:14:56.844946Z",
     "iopub.status.busy": "2025-05-01T09:14:56.844858Z",
     "iopub.status.idle": "2025-05-01T09:14:56.852015Z",
     "shell.execute_reply": "2025-05-01T09:14:56.851726Z"
    },
    "papermill": {
     "duration": 0.00937,
     "end_time": "2025-05-01T09:14:56.852796",
     "exception": false,
     "start_time": "2025-05-01T09:14:56.843426",
     "status": "completed"
    },
    "tags": []
   },
   "outputs": [
    {
     "name": "stdout",
     "output_type": "stream",
     "text": [
      "{'c_count': 0}\n",
      "{'c_count': 11}\n",
      "{'c_count': 10}\n",
      "{'c_count': 9}\n",
      "{'c_count': 8}\n",
      "{'c_count': 12}\n",
      "{'c_count': 7}\n",
      "{'c_count': 13}\n",
      "{'c_count': 20}\n",
      "{'c_count': 19}\n",
      "{'c_count': 18}\n",
      "{'c_count': 14}\n",
      "{'c_count': 17}\n",
      "{'c_count': 16}\n",
      "{'c_count': 15}\n",
      "{'c_count': 21}\n",
      "{'c_count': 22}\n",
      "{'c_count': 6}\n",
      "{'c_count': 23}\n",
      "{'c_count': 24}\n",
      "{'c_count': 5}\n",
      "{'c_count': 25}\n",
      "{'c_count': 26}\n",
      "{'c_count': 27}\n",
      "{'c_count': 4}\n",
      "{'c_count': 28}\n",
      "{'c_count': 29}\n",
      "{'c_count': 3}\n",
      "{'c_count': 30}\n",
      "{'c_count': 31}\n",
      "{'c_count': 33}\n",
      "{'c_count': 2}\n",
      "{'c_count': 32}\n",
      "{'c_count': 34}\n",
      "{'c_count': 36}\n",
      "{'c_count': 35}\n",
      "{'c_count': 1}\n"
     ]
    }
   ],
   "source": [
    "# Cursed data shuffling to reidentify what row goes where, what column goes where, and what the labels should be on everything\n",
    "colidxes = {}\n",
    "for col in OUTPUT_COLS:\n",
    "    colidxes[col] = templatedf.get_column_index(col)\n",
    "rowidxes = {}\n",
    "for row in templatedf.select(INDEX_COLS).iter_rows(named=True):\n",
    "    rowidxes[tuple(row.values())] = allgroups.with_row_index().filter(\n",
    "        pl.col(k).eq(v)\n",
    "        for k, v in row.items()\n",
    "    ).select(\"index\").item()\n",
    "    print(row)\n",
    "\n",
    "allinfo = [\n",
    "    {\"colname\": adentry['col'],\n",
    "    \"rowid\": tuple(adentry['row'].values()),\n",
    "    \"value\": adentry['value'][0],\n",
    "    \"colidx\": colidxes[adentry['col']],\n",
    "    \"rowidx\": rowidxes[tuple(adentry['row'].values())]}\n",
    "    for adidx, adentry in alldata.items()\n",
    "]\n",
    "\n",
    "colnames = {}\n",
    "rownames = {}\n",
    "for entry in allinfo:\n",
    "    colnames[entry['colidx']] = entry['colname']\n",
    "    rownames[entry['rowidx']] = entry['rowid']"
   ]
  },
  {
   "cell_type": "markdown",
   "id": "61e58b37",
   "metadata": {
    "papermill": {
     "duration": 0.001174,
     "end_time": "2025-05-01T09:14:56.855475",
     "exception": false,
     "start_time": "2025-05-01T09:14:56.854301",
     "status": "completed"
    },
    "tags": []
   },
   "source": [
    "Naive reconstruction"
   ]
  },
  {
   "cell_type": "code",
   "execution_count": 10,
   "id": "c6da70b0",
   "metadata": {
    "execution": {
     "iopub.execute_input": "2025-05-01T09:14:56.858394Z",
     "iopub.status.busy": "2025-05-01T09:14:56.858287Z",
     "iopub.status.idle": "2025-05-01T09:14:56.898421Z",
     "shell.execute_reply": "2025-05-01T09:14:56.897265Z"
    },
    "papermill": {
     "duration": 0.043367,
     "end_time": "2025-05-01T09:14:56.900030",
     "exception": false,
     "start_time": "2025-05-01T09:14:56.856663",
     "status": "completed"
    },
    "tags": []
   },
   "outputs": [
    {
     "name": "stdout",
     "output_type": "stream",
     "text": [
      "['c_count', 'custdist']\n",
      "[0, 2417.483121303556]\n",
      "[11, 347.77725249173966]\n",
      "[10, 332.59308386379394]\n",
      "[9, 346.8435083335815]\n",
      "[8, 291.7196481534941]\n",
      "[12, 301.00022899829696]\n",
      "[7, 233.7701585486316]\n",
      "[13, 234.72793437010594]\n",
      "[20, 199.49988758033106]\n",
      "[19, 231.38228744551455]\n",
      "[18, 183.81995340899172]\n",
      "[14, 235.6371198051787]\n",
      "[17, 208.4371738162276]\n",
      "[16, 195.8441283749067]\n",
      "[15, 238.6706165838613]\n",
      "[21, 200.73800571459782]\n",
      "[22, 191.09187119215454]\n",
      "[6, 170.89148444978187]\n",
      "[23, 170.19427387045639]\n",
      "[24, 156.09896304593371]\n",
      "[5, 112.28351675876094]\n",
      "[25, 114.15479540838882]\n",
      "[26, 100.13316402498367]\n",
      "[27, 69.81810910879021]\n",
      "[4, 44.038027530518164]\n",
      "[28, 50.996766938065015]\n",
      "[29, 34.16727619837069]\n",
      "[3, 18.750101445763566]\n",
      "[30, 12.935605005910388]\n",
      "[31, 7.946456339213468]\n",
      "[33, 9.197615910838344]\n",
      "[2, 7.686303069414674]\n",
      "[32, 3.4087493802728717]\n",
      "[34, 5.523401675578198]\n",
      "[36, 0.20702345643320796]\n",
      "[35, -1.4199527452072775]\n",
      "[1, 1.67167422909908]\n"
     ]
    }
   ],
   "source": [
    "# Naive reconstruction based on the indices of the keys in the templatedf\n",
    "allcols = INDEX_COLS + OUTPUT_COLS\n",
    "allrows = allgroups.select(INDEX_COLS).to_numpy().tolist()\n",
    "\n",
    "allinfo2 = {\n",
    "    (rowidxes[tuple(adentry['row'].values())], colidxes[adentry['col']]): adentry['value'][0]\n",
    "    for adidx, adentry in alldata.items()\n",
    "}\n",
    "\n",
    "df2 = []\n",
    "print(allcols)\n",
    "for row in allrows:\n",
    "    print(row + [allinfo2.get((rowidxes[tuple(row)], colidxes[col]), None) for col in OUTPUT_COLS])\n",
    "    df2.append(row + [allinfo2.get((rowidxes[tuple(row)], colidxes[col]), None) for col in OUTPUT_COLS])"
   ]
  },
  {
   "cell_type": "code",
   "execution_count": 11,
   "id": "396c2efa",
   "metadata": {
    "execution": {
     "iopub.execute_input": "2025-05-01T09:14:56.908607Z",
     "iopub.status.busy": "2025-05-01T09:14:56.907820Z",
     "iopub.status.idle": "2025-05-01T09:14:56.931991Z",
     "shell.execute_reply": "2025-05-01T09:14:56.929826Z"
    },
    "papermill": {
     "duration": 0.031266,
     "end_time": "2025-05-01T09:14:56.935370",
     "exception": false,
     "start_time": "2025-05-01T09:14:56.904104",
     "status": "completed"
    },
    "tags": []
   },
   "outputs": [
    {
     "data": {
      "text/html": [
       "<div><style>\n",
       ".dataframe > thead > tr,\n",
       ".dataframe > tbody > tr {\n",
       "  text-align: right;\n",
       "  white-space: pre-wrap;\n",
       "}\n",
       "</style>\n",
       "<small>shape: (37, 2)</small><table border=\"1\" class=\"dataframe\"><thead><tr><th>c_count</th><th>custdist</th></tr><tr><td>i64</td><td>i64</td></tr></thead><tbody><tr><td>0</td><td>2417</td></tr><tr><td>11</td><td>347</td></tr><tr><td>10</td><td>332</td></tr><tr><td>9</td><td>346</td></tr><tr><td>8</td><td>291</td></tr><tr><td>&hellip;</td><td>&hellip;</td></tr><tr><td>32</td><td>3</td></tr><tr><td>34</td><td>5</td></tr><tr><td>36</td><td>0</td></tr><tr><td>35</td><td>-1</td></tr><tr><td>1</td><td>1</td></tr></tbody></table></div>"
      ],
      "text/plain": [
       "shape: (37, 2)\n",
       "┌─────────┬──────────┐\n",
       "│ c_count ┆ custdist │\n",
       "│ ---     ┆ ---      │\n",
       "│ i64     ┆ i64      │\n",
       "╞═════════╪══════════╡\n",
       "│ 0       ┆ 2417     │\n",
       "│ 11      ┆ 347      │\n",
       "│ 10      ┆ 332      │\n",
       "│ 9       ┆ 346      │\n",
       "│ 8       ┆ 291      │\n",
       "│ …       ┆ …        │\n",
       "│ 32      ┆ 3        │\n",
       "│ 34      ┆ 5        │\n",
       "│ 36      ┆ 0        │\n",
       "│ 35      ┆ -1       │\n",
       "│ 1       ┆ 1        │\n",
       "└─────────┴──────────┘"
      ]
     },
     "execution_count": 11,
     "metadata": {},
     "output_type": "execute_result"
    }
   ],
   "source": [
    "pl.DataFrame(df2, schema=allcols, orient='row').cast(templatedf.schema)"
   ]
  },
  {
   "cell_type": "code",
   "execution_count": 12,
   "id": "22658efb",
   "metadata": {
    "execution": {
     "iopub.execute_input": "2025-05-01T09:14:56.940361Z",
     "iopub.status.busy": "2025-05-01T09:14:56.939753Z",
     "iopub.status.idle": "2025-05-01T09:14:56.949854Z",
     "shell.execute_reply": "2025-05-01T09:14:56.949056Z"
    },
    "papermill": {
     "duration": 0.014839,
     "end_time": "2025-05-01T09:14:56.951967",
     "exception": false,
     "start_time": "2025-05-01T09:14:56.937128",
     "status": "completed"
    },
    "tags": []
   },
   "outputs": [],
   "source": [
    "pl.DataFrame(df2, schema=allcols, orient='row').cast(templatedf.schema).write_csv(os.path.join(OUTPUT_DIR, 'output.csv'))"
   ]
  },
  {
   "cell_type": "code",
   "execution_count": 13,
   "id": "fbf29824",
   "metadata": {
    "execution": {
     "iopub.execute_input": "2025-05-01T09:14:56.956604Z",
     "iopub.status.busy": "2025-05-01T09:14:56.956318Z",
     "iopub.status.idle": "2025-05-01T09:14:56.963381Z",
     "shell.execute_reply": "2025-05-01T09:14:56.962605Z"
    },
    "papermill": {
     "duration": 0.011457,
     "end_time": "2025-05-01T09:14:56.965283",
     "exception": false,
     "start_time": "2025-05-01T09:14:56.953826",
     "status": "completed"
    },
    "tags": []
   },
   "outputs": [
    {
     "data": {
      "text/plain": [
       "'/Users/michael/projects/dpdb/pacdb/outputs/ap-duckdb-q13-customer-step3.zip'"
      ]
     },
     "execution_count": 13,
     "metadata": {},
     "output_type": "execute_result"
    }
   ],
   "source": [
    "# zip the OUTPUT_DIR\n",
    "shutil.make_archive(OUTPUT_DIR, 'zip', OUTPUT_DIR)"
   ]
  }
 ],
 "metadata": {
  "kernelspec": {
   "display_name": ".venv",
   "language": "python",
   "name": "python3"
  },
  "language_info": {
   "codemirror_mode": {
    "name": "ipython",
    "version": 3
   },
   "file_extension": ".py",
   "mimetype": "text/x-python",
   "name": "python",
   "nbconvert_exporter": "python",
   "pygments_lexer": "ipython3",
   "version": "3.11.7"
  },
  "papermill": {
   "default_parameters": {},
   "duration": 1.240118,
   "end_time": "2025-05-01T09:14:57.187866",
   "environment_variables": {},
   "exception": null,
   "input_path": "autopac-duckdb-step3.ipynb",
   "output_path": "./ap-duckdb-q13-customer-step3.ipynb",
   "parameters": {
    "EXPERIMENT": "ap-duckdb-q13-customer",
    "INDEX_COLS": [
     "c_count"
    ],
    "INPUT_ZIP": "./outputs/ap-duckdb-q13-customer-step2.zip",
    "OUTPUT_COLS": [
     "custdist"
    ],
    "OUTPUT_DIR": "./outputs/ap-duckdb-q13-customer-step3",
    "templatedf_path": "./outputs/ap-duckdb-q13-customer-step1/template.pkl"
   },
   "start_time": "2025-05-01T09:14:55.947748",
   "version": "2.6.0"
  }
 },
 "nbformat": 4,
 "nbformat_minor": 5
}