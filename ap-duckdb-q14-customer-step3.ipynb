{
 "cells": [
  {
   "cell_type": "code",
   "execution_count": 1,
   "id": "eba650e4",
   "metadata": {
    "execution": {
     "iopub.execute_input": "2025-05-01T09:28:10.752139Z",
     "iopub.status.busy": "2025-05-01T09:28:10.751618Z",
     "iopub.status.idle": "2025-05-01T09:28:10.804384Z",
     "shell.execute_reply": "2025-05-01T09:28:10.804040Z"
    },
    "papermill": {
     "duration": 0.067042,
     "end_time": "2025-05-01T09:28:10.805348",
     "exception": false,
     "start_time": "2025-05-01T09:28:10.738306",
     "status": "completed"
    },
    "tags": []
   },
   "outputs": [],
   "source": [
    "#!/usr/bin/env python\n",
    "# coding: utf-8\n",
    "\n",
    "import json\n",
    "import os\n",
    "import pickle\n",
    "import shutil\n",
    "import zipfile\n",
    "\n",
    "import parse\n",
    "import polars as pl"
   ]
  },
  {
   "cell_type": "code",
   "execution_count": 2,
   "id": "5bbee7d0",
   "metadata": {
    "execution": {
     "iopub.execute_input": "2025-05-01T09:28:10.808730Z",
     "iopub.status.busy": "2025-05-01T09:28:10.808601Z",
     "iopub.status.idle": "2025-05-01T09:28:10.810565Z",
     "shell.execute_reply": "2025-05-01T09:28:10.810342Z"
    },
    "papermill": {
     "duration": 0.004194,
     "end_time": "2025-05-01T09:28:10.811168",
     "exception": false,
     "start_time": "2025-05-01T09:28:10.806974",
     "status": "completed"
    },
    "tags": [
     "parameters"
    ]
   },
   "outputs": [],
   "source": [
    "#EXPERIMENT = \"asdf\"\n",
    "#INPUT_ZIP = f\"./outputs/{EXPERIMENT}-step2.zip\"\n",
    "#OUTPUT_DIR = f\"./outputs/{EXPERIMENT}-step3\"\n",
    "#INDEX_COLS = pickle.load(open(f'./outputs/{EXPERIMENT}-step1/INDEX_COLS.pkl', 'rb'))\n",
    "#OUTPUT_COLS = pickle.load(open(f'./outputs/{EXPERIMENT}-step1/OUTPUT_COLS.pkl', 'rb'))\n",
    "#templatedf_path = f\"./outputs/{EXPERIMENT}-step2/templatedf.csv\"\n",
    "EXPERIMENT = \"\"\n",
    "INPUT_ZIP = \"\"\n",
    "OUTPUT_DIR = \"\"\n",
    "INDEX_COLS = []\n",
    "OUTPUT_COLS = []\n",
    "templatedf_path = \"\""
   ]
  },
  {
   "cell_type": "code",
   "execution_count": 3,
   "id": "b382d972",
   "metadata": {
    "execution": {
     "iopub.execute_input": "2025-05-01T09:28:10.813852Z",
     "iopub.status.busy": "2025-05-01T09:28:10.813751Z",
     "iopub.status.idle": "2025-05-01T09:28:10.815585Z",
     "shell.execute_reply": "2025-05-01T09:28:10.815260Z"
    },
    "papermill": {
     "duration": 0.003908,
     "end_time": "2025-05-01T09:28:10.816270",
     "exception": false,
     "start_time": "2025-05-01T09:28:10.812362",
     "status": "completed"
    },
    "tags": [
     "injected-parameters"
    ]
   },
   "outputs": [],
   "source": [
    "# Parameters\n",
    "EXPERIMENT = \"ap-duckdb-q14-customer\"\n",
    "OUTPUT_DIR = \"./outputs/ap-duckdb-q14-customer-step3\"\n",
    "INPUT_ZIP = \"./outputs/ap-duckdb-q14-customer-step2.zip\"\n",
    "INDEX_COLS = []\n",
    "OUTPUT_COLS = [\"promo_revenue\"]\n",
    "templatedf_path = \"./outputs/ap-duckdb-q14-customer-step1/template.pkl\"\n"
   ]
  },
  {
   "cell_type": "code",
   "execution_count": 4,
   "id": "7eeff702",
   "metadata": {
    "execution": {
     "iopub.execute_input": "2025-05-01T09:28:10.819342Z",
     "iopub.status.busy": "2025-05-01T09:28:10.819217Z",
     "iopub.status.idle": "2025-05-01T09:28:10.820984Z",
     "shell.execute_reply": "2025-05-01T09:28:10.820768Z"
    },
    "papermill": {
     "duration": 0.004084,
     "end_time": "2025-05-01T09:28:10.821568",
     "exception": false,
     "start_time": "2025-05-01T09:28:10.817484",
     "status": "completed"
    },
    "tags": []
   },
   "outputs": [],
   "source": [
    "INDEX_COLS = INDEX_COLS or [\"\"] # if no index cols are provided, then we make one up with empty string name in step 1\n",
    "\n",
    "if not os.path.exists(OUTPUT_DIR):\n",
    "    os.makedirs(OUTPUT_DIR)"
   ]
  },
  {
   "cell_type": "code",
   "execution_count": 5,
   "id": "257dec28",
   "metadata": {
    "execution": {
     "iopub.execute_input": "2025-05-01T09:28:10.824175Z",
     "iopub.status.busy": "2025-05-01T09:28:10.824091Z",
     "iopub.status.idle": "2025-05-01T09:28:10.825806Z",
     "shell.execute_reply": "2025-05-01T09:28:10.825594Z"
    },
    "papermill": {
     "duration": 0.003666,
     "end_time": "2025-05-01T09:28:10.826424",
     "exception": false,
     "start_time": "2025-05-01T09:28:10.822758",
     "status": "completed"
    },
    "tags": []
   },
   "outputs": [],
   "source": [
    "# Import saved variables from the first step\n",
    "templatedf: pl.DataFrame = pickle.load(open(templatedf_path, 'rb'))"
   ]
  },
  {
   "cell_type": "code",
   "execution_count": 6,
   "id": "ab3a80fe",
   "metadata": {
    "execution": {
     "iopub.execute_input": "2025-05-01T09:28:10.828904Z",
     "iopub.status.busy": "2025-05-01T09:28:10.828817Z",
     "iopub.status.idle": "2025-05-01T09:28:10.833232Z",
     "shell.execute_reply": "2025-05-01T09:28:10.832983Z"
    },
    "papermill": {
     "duration": 0.006394,
     "end_time": "2025-05-01T09:28:10.833907",
     "exception": false,
     "start_time": "2025-05-01T09:28:10.827513",
     "status": "completed"
    },
    "tags": []
   },
   "outputs": [
    {
     "data": {
      "text/plain": [
       "dict_keys([0])"
      ]
     },
     "execution_count": 6,
     "metadata": {},
     "output_type": "execute_result"
    }
   ],
   "source": [
    "# load the json input files from step 2\n",
    "# {'col': column name as string,\n",
    "#  'row': group-by column values as dict (effectively a row id),\n",
    "#  'values': [ 1000x values ] }\n",
    "alldata = {}\n",
    "\n",
    "pattern = parse.compile(\"{n}.json\")\n",
    "\n",
    "with zipfile.ZipFile(INPUT_ZIP, 'r') as zf:\n",
    "    for filename in zf.namelist():\n",
    "        if filename.endswith('.json'):\n",
    "            with zf.open(filename) as f:\n",
    "                filenumber = int(pattern.parse(filename).named['n'])\n",
    "                data = json.load(f)\n",
    "                d: dict = data\n",
    "                alldata[filenumber] = d\n",
    "alldata.keys()"
   ]
  },
  {
   "cell_type": "code",
   "execution_count": 7,
   "id": "fa47deff",
   "metadata": {
    "execution": {
     "iopub.execute_input": "2025-05-01T09:28:10.836842Z",
     "iopub.status.busy": "2025-05-01T09:28:10.836742Z",
     "iopub.status.idle": "2025-05-01T09:28:10.839596Z",
     "shell.execute_reply": "2025-05-01T09:28:10.839380Z"
    },
    "papermill": {
     "duration": 0.004911,
     "end_time": "2025-05-01T09:28:10.840207",
     "exception": false,
     "start_time": "2025-05-01T09:28:10.835296",
     "status": "completed"
    },
    "tags": []
   },
   "outputs": [],
   "source": [
    "# Make sure the data types of the row fields are correct\n",
    "for i in range(len(alldata)):\n",
    "    alldata[i]['row'] = pl.DataFrame(alldata[i]['row']).cast(templatedf.select(INDEX_COLS).schema).to_dicts()[0]"
   ]
  },
  {
   "cell_type": "code",
   "execution_count": 8,
   "id": "1d086fc3",
   "metadata": {
    "execution": {
     "iopub.execute_input": "2025-05-01T09:28:10.842870Z",
     "iopub.status.busy": "2025-05-01T09:28:10.842784Z",
     "iopub.status.idle": "2025-05-01T09:28:10.844844Z",
     "shell.execute_reply": "2025-05-01T09:28:10.844651Z"
    },
    "papermill": {
     "duration": 0.004021,
     "end_time": "2025-05-01T09:28:10.845436",
     "exception": false,
     "start_time": "2025-05-01T09:28:10.841415",
     "status": "completed"
    },
    "tags": []
   },
   "outputs": [
    {
     "data": {
      "text/html": [
       "<div><style>\n",
       ".dataframe > thead > tr,\n",
       ".dataframe > tbody > tr {\n",
       "  text-align: right;\n",
       "  white-space: pre-wrap;\n",
       "}\n",
       "</style>\n",
       "<small>shape: (1, 1)</small><table border=\"1\" class=\"dataframe\"><thead><tr><th></th></tr><tr><td>i32</td></tr></thead><tbody><tr><td>0</td></tr></tbody></table></div>"
      ],
      "text/plain": [
       "shape: (1, 1)\n",
       "┌─────┐\n",
       "│     │\n",
       "│ --- │\n",
       "│ i32 │\n",
       "╞═════╡\n",
       "│ 0   │\n",
       "└─────┘"
      ]
     },
     "execution_count": 8,
     "metadata": {},
     "output_type": "execute_result"
    }
   ],
   "source": [
    "allgroups = templatedf.select(INDEX_COLS)\n",
    "allgroups"
   ]
  },
  {
   "cell_type": "code",
   "execution_count": 9,
   "id": "0b249a7b",
   "metadata": {
    "execution": {
     "iopub.execute_input": "2025-05-01T09:28:10.848328Z",
     "iopub.status.busy": "2025-05-01T09:28:10.848221Z",
     "iopub.status.idle": "2025-05-01T09:28:10.851728Z",
     "shell.execute_reply": "2025-05-01T09:28:10.851504Z"
    },
    "papermill": {
     "duration": 0.005683,
     "end_time": "2025-05-01T09:28:10.852341",
     "exception": false,
     "start_time": "2025-05-01T09:28:10.846658",
     "status": "completed"
    },
    "tags": []
   },
   "outputs": [
    {
     "name": "stdout",
     "output_type": "stream",
     "text": [
      "{'': 0}\n"
     ]
    }
   ],
   "source": [
    "# Cursed data shuffling to reidentify what row goes where, what column goes where, and what the labels should be on everything\n",
    "colidxes = {}\n",
    "for col in OUTPUT_COLS:\n",
    "    colidxes[col] = templatedf.get_column_index(col)\n",
    "rowidxes = {}\n",
    "for row in templatedf.select(INDEX_COLS).iter_rows(named=True):\n",
    "    rowidxes[tuple(row.values())] = allgroups.with_row_index().filter(\n",
    "        pl.col(k).eq(v)\n",
    "        for k, v in row.items()\n",
    "    ).select(\"index\").item()\n",
    "    print(row)\n",
    "\n",
    "allinfo = [\n",
    "    {\"colname\": adentry['col'],\n",
    "    \"rowid\": tuple(adentry['row'].values()),\n",
    "    \"value\": adentry['value'][0],\n",
    "    \"colidx\": colidxes[adentry['col']],\n",
    "    \"rowidx\": rowidxes[tuple(adentry['row'].values())]}\n",
    "    for adidx, adentry in alldata.items()\n",
    "]\n",
    "\n",
    "colnames = {}\n",
    "rownames = {}\n",
    "for entry in allinfo:\n",
    "    colnames[entry['colidx']] = entry['colname']\n",
    "    rownames[entry['rowidx']] = entry['rowid']"
   ]
  },
  {
   "cell_type": "markdown",
   "id": "61e58b37",
   "metadata": {
    "papermill": {
     "duration": 0.001145,
     "end_time": "2025-05-01T09:28:10.854864",
     "exception": false,
     "start_time": "2025-05-01T09:28:10.853719",
     "status": "completed"
    },
    "tags": []
   },
   "source": [
    "Naive reconstruction"
   ]
  },
  {
   "cell_type": "code",
   "execution_count": 10,
   "id": "c6da70b0",
   "metadata": {
    "execution": {
     "iopub.execute_input": "2025-05-01T09:28:10.857525Z",
     "iopub.status.busy": "2025-05-01T09:28:10.857435Z",
     "iopub.status.idle": "2025-05-01T09:28:10.901930Z",
     "shell.execute_reply": "2025-05-01T09:28:10.901175Z"
    },
    "papermill": {
     "duration": 0.048041,
     "end_time": "2025-05-01T09:28:10.904042",
     "exception": false,
     "start_time": "2025-05-01T09:28:10.856001",
     "status": "completed"
    },
    "tags": []
   },
   "outputs": [
    {
     "name": "stdout",
     "output_type": "stream",
     "text": [
      "['', 'promo_revenue']\n",
      "[0, 16.061390743883543]\n"
     ]
    }
   ],
   "source": [
    "# Naive reconstruction based on the indices of the keys in the templatedf\n",
    "allcols = INDEX_COLS + OUTPUT_COLS\n",
    "allrows = allgroups.select(INDEX_COLS).to_numpy().tolist()\n",
    "\n",
    "allinfo2 = {\n",
    "    (rowidxes[tuple(adentry['row'].values())], colidxes[adentry['col']]): adentry['value'][0]\n",
    "    for adidx, adentry in alldata.items()\n",
    "}\n",
    "\n",
    "df2 = []\n",
    "print(allcols)\n",
    "for row in allrows:\n",
    "    print(row + [allinfo2.get((rowidxes[tuple(row)], colidxes[col]), None) for col in OUTPUT_COLS])\n",
    "    df2.append(row + [allinfo2.get((rowidxes[tuple(row)], colidxes[col]), None) for col in OUTPUT_COLS])"
   ]
  },
  {
   "cell_type": "code",
   "execution_count": 11,
   "id": "396c2efa",
   "metadata": {
    "execution": {
     "iopub.execute_input": "2025-05-01T09:28:10.912722Z",
     "iopub.status.busy": "2025-05-01T09:28:10.911975Z",
     "iopub.status.idle": "2025-05-01T09:28:10.918068Z",
     "shell.execute_reply": "2025-05-01T09:28:10.917463Z"
    },
    "papermill": {
     "duration": 0.01022,
     "end_time": "2025-05-01T09:28:10.919663",
     "exception": false,
     "start_time": "2025-05-01T09:28:10.909443",
     "status": "completed"
    },
    "tags": []
   },
   "outputs": [
    {
     "data": {
      "text/html": [
       "<div><style>\n",
       ".dataframe > thead > tr,\n",
       ".dataframe > tbody > tr {\n",
       "  text-align: right;\n",
       "  white-space: pre-wrap;\n",
       "}\n",
       "</style>\n",
       "<small>shape: (1, 2)</small><table border=\"1\" class=\"dataframe\"><thead><tr><th>column_0</th><th>promo_revenue</th></tr><tr><td>i64</td><td>f64</td></tr></thead><tbody><tr><td>0</td><td>16.061391</td></tr></tbody></table></div>"
      ],
      "text/plain": [
       "shape: (1, 2)\n",
       "┌──────────┬───────────────┐\n",
       "│ column_0 ┆ promo_revenue │\n",
       "│ ---      ┆ ---           │\n",
       "│ i64      ┆ f64           │\n",
       "╞══════════╪═══════════════╡\n",
       "│ 0        ┆ 16.061391     │\n",
       "└──────────┴───────────────┘"
      ]
     },
     "execution_count": 11,
     "metadata": {},
     "output_type": "execute_result"
    }
   ],
   "source": [
    "pl.DataFrame(df2, schema=allcols, orient='row').cast(templatedf.schema)"
   ]
  },
  {
   "cell_type": "code",
   "execution_count": 12,
   "id": "22658efb",
   "metadata": {
    "execution": {
     "iopub.execute_input": "2025-05-01T09:28:10.926797Z",
     "iopub.status.busy": "2025-05-01T09:28:10.926171Z",
     "iopub.status.idle": "2025-05-01T09:28:10.945135Z",
     "shell.execute_reply": "2025-05-01T09:28:10.944426Z"
    },
    "papermill": {
     "duration": 0.024627,
     "end_time": "2025-05-01T09:28:10.946875",
     "exception": false,
     "start_time": "2025-05-01T09:28:10.922248",
     "status": "completed"
    },
    "tags": []
   },
   "outputs": [],
   "source": [
    "pl.DataFrame(df2, schema=allcols, orient='row').cast(templatedf.schema).write_csv(os.path.join(OUTPUT_DIR, 'output.csv'))"
   ]
  },
  {
   "cell_type": "code",
   "execution_count": 13,
   "id": "fbf29824",
   "metadata": {
    "execution": {
     "iopub.execute_input": "2025-05-01T09:28:10.952909Z",
     "iopub.status.busy": "2025-05-01T09:28:10.952611Z",
     "iopub.status.idle": "2025-05-01T09:28:10.961710Z",
     "shell.execute_reply": "2025-05-01T09:28:10.961112Z"
    },
    "papermill": {
     "duration": 0.013035,
     "end_time": "2025-05-01T09:28:10.963235",
     "exception": false,
     "start_time": "2025-05-01T09:28:10.950200",
     "status": "completed"
    },
    "tags": []
   },
   "outputs": [
    {
     "data": {
      "text/plain": [
       "'/Users/michael/projects/dpdb/pacdb/outputs/ap-duckdb-q14-customer-step3.zip'"
      ]
     },
     "execution_count": 13,
     "metadata": {},
     "output_type": "execute_result"
    }
   ],
   "source": [
    "# zip the OUTPUT_DIR\n",
    "shutil.make_archive(OUTPUT_DIR, 'zip', OUTPUT_DIR)"
   ]
  }
 ],
 "metadata": {
  "kernelspec": {
   "display_name": ".venv",
   "language": "python",
   "name": "python3"
  },
  "language_info": {
   "codemirror_mode": {
    "name": "ipython",
    "version": 3
   },
   "file_extension": ".py",
   "mimetype": "text/x-python",
   "name": "python",
   "nbconvert_exporter": "python",
   "pygments_lexer": "ipython3",
   "version": "3.11.7"
  },
  "papermill": {
   "default_parameters": {},
   "duration": 1.070475,
   "end_time": "2025-05-01T09:28:11.186668",
   "environment_variables": {},
   "exception": null,
   "input_path": "autopac-duckdb-step3.ipynb",
   "output_path": "./ap-duckdb-q14-customer-step3.ipynb",
   "parameters": {
    "EXPERIMENT": "ap-duckdb-q14-customer",
    "INDEX_COLS": [],
    "INPUT_ZIP": "./outputs/ap-duckdb-q14-customer-step2.zip",
    "OUTPUT_COLS": [
     "promo_revenue"
    ],
    "OUTPUT_DIR": "./outputs/ap-duckdb-q14-customer-step3",
    "templatedf_path": "./outputs/ap-duckdb-q14-customer-step1/template.pkl"
   },
   "start_time": "2025-05-01T09:28:10.116193",
   "version": "2.6.0"
  }
 },
 "nbformat": 4,
 "nbformat_minor": 5
}