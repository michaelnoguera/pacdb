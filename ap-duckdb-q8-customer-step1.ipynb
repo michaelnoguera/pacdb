{
 "cells": [
  {
   "cell_type": "markdown",
   "id": "8d164139",
   "metadata": {
    "papermill": {
     "duration": 0.012247,
     "end_time": "2025-05-01T08:49:02.337657",
     "exception": false,
     "start_time": "2025-05-01T08:49:02.325410",
     "status": "completed"
    },
    "tags": []
   },
   "source": [
    "## DuckDB Notebook\n",
    "\n",
    "This notebook generates a bunch of raw outputs, without applying PAC, to be consumed by a second stage."
   ]
  },
  {
   "cell_type": "markdown",
   "id": "dbbc4106",
   "metadata": {
    "papermill": {
     "duration": 0.002739,
     "end_time": "2025-05-01T08:49:02.344086",
     "exception": false,
     "start_time": "2025-05-01T08:49:02.341347",
     "status": "completed"
    },
    "tags": []
   },
   "source": [
    "```\n",
    " group by              output cols                        \n",
    " key cols ┌────────┬────────┬────────┬────────┐           \n",
    "        │ │   A    │   B    │   C    │   D    │           \n",
    "      ┌─▼─┼────────┼────────┼────────┼────────┤           \n",
    "      │ 1 │   2    │        │        │        │           \n",
    "      ├───┼───|────┼────────┼────────┼────────┤           \n",
    "      │ 2 │   │    │        │        │        │           \n",
    "      ├───┼───┼────┼────────┼────────┼────────┤           \n",
    "      │ 3 │   │    │        │        │        │           \n",
    "      └───┴───┼────┴────────┴────────┴────────┘           \n",
    "              ▼                 A_1.json                  \n",
    "       Sample 0:   A1=2        ┌─────────────────────────┐\n",
    "       Sample 1:   A1=4  ───▶  │{                        │\n",
    "             ...               │    col: A               │\n",
    "       Sample 999: A1=3        │    row: 1               │\n",
    "                               │    value: [2, 4, ... 3] │\n",
    "                               │}                        │\n",
    "                               └─────────────────────────┘\n",
    "```"
   ]
  },
  {
   "cell_type": "code",
   "execution_count": 1,
   "id": "f54019a9",
   "metadata": {
    "execution": {
     "iopub.execute_input": "2025-05-01T08:49:02.351908Z",
     "iopub.status.busy": "2025-05-01T08:49:02.351537Z",
     "iopub.status.idle": "2025-05-01T08:49:02.457974Z",
     "shell.execute_reply": "2025-05-01T08:49:02.457672Z"
    },
    "papermill": {
     "duration": 0.112108,
     "end_time": "2025-05-01T08:49:02.458809",
     "exception": false,
     "start_time": "2025-05-01T08:49:02.346701",
     "status": "completed"
    },
    "tags": []
   },
   "outputs": [],
   "source": [
    "#!/usr/bin/env python\n",
    "# coding: utf-8\n",
    "\n",
    "import os\n",
    "import pickle\n",
    "import shutil\n",
    "\n",
    "import duckdb\n",
    "import polars as pl"
   ]
  },
  {
   "cell_type": "code",
   "execution_count": 2,
   "id": "48f552de",
   "metadata": {
    "execution": {
     "iopub.execute_input": "2025-05-01T08:49:02.462026Z",
     "iopub.status.busy": "2025-05-01T08:49:02.461909Z",
     "iopub.status.idle": "2025-05-01T08:49:02.464470Z",
     "shell.execute_reply": "2025-05-01T08:49:02.464260Z"
    },
    "papermill": {
     "duration": 0.004779,
     "end_time": "2025-05-01T08:49:02.465088",
     "exception": false,
     "start_time": "2025-05-01T08:49:02.460309",
     "status": "completed"
    },
    "tags": [
     "parameters"
    ]
   },
   "outputs": [],
   "source": [
    "EXPERIMENT = \"pac-duckdb-q1\"\n",
    "OUTPUT_DIR = f\"./outputs/{EXPERIMENT}-step1\"\n",
    "SAMPLES = 1024\n",
    "\n",
    "SAMPLE_STEP = f\"\"\"\n",
    "DROP TABLE IF EXISTS random_samples;\n",
    "\n",
    "CREATE TABLE random_samples AS\n",
    "WITH sample_numbers AS MATERIALIZED (\n",
    "    SELECT range AS sample_id FROM range({SAMPLES//2})\n",
    "), random_values AS MATERIALIZED (\n",
    "    SELECT \n",
    "        sample_numbers.sample_id,\n",
    "        customer.rowid AS row_id,\n",
    "        (RANDOM() > 0.5)::BOOLEAN AS random_binary\n",
    "    FROM sample_numbers\n",
    "    JOIN customer ON TRUE  -- Cross join to duplicate rows for each sample\n",
    ")\n",
    "SELECT\n",
    "    sample_id,\n",
    "    row_id,\n",
    "    random_binary\n",
    "FROM random_values\n",
    "UNION ALL\n",
    "SELECT -- select the complementary samples too\n",
    "    ({SAMPLES//2}) + sample_id,\n",
    "    row_id,\n",
    "    NOT random_binary  -- Inverse the random_binary to get the complementary sample\n",
    "FROM random_values\n",
    "ORDER BY sample_id, row_id;\n",
    "\"\"\"\n",
    "\n",
    "PREPARE_STEP = \"\"\"\n",
    "DEALLOCATE PREPARE run_query;\n",
    "\n",
    "PREPARE run_query AS \n",
    "SELECT\n",
    "    l_returnflag,\n",
    "    l_linestatus,\n",
    "    2*sum(l_quantity) AS sum_qty,\n",
    "    2*sum(l_extendedprice) AS sum_base_price,\n",
    "    2*sum(l_extendedprice * (1 - l_discount)) AS sum_disc_price,\n",
    "    2*sum(l_extendedprice * (1 - l_discount) * (1 + l_tax)) AS sum_charge,\n",
    "    avg(l_quantity) AS avg_qty,\n",
    "    avg(l_extendedprice) AS avg_price,\n",
    "    avg(l_discount) AS avg_disc,\n",
    "    2*count(*) AS count_order\n",
    "FROM\n",
    "    lineitem\n",
    "JOIN orders ON lineitem.l_orderkey = orders.o_orderkey\n",
    "JOIN customer ON orders.o_custkey = customer.c_custkey\n",
    "JOIN random_samples AS rs\n",
    "    ON rs.row_id = customer.rowid\n",
    "WHERE\n",
    "    l_shipdate <= CAST('1998-09-02' AS date)\n",
    "    AND rs.random_binary = TRUE\n",
    "    AND rs.sample_id = $sample\n",
    "GROUP BY\n",
    "    l_returnflag,\n",
    "    l_linestatus\n",
    "ORDER BY\n",
    "    l_returnflag,\n",
    "    l_linestatus;\n",
    "\"\"\"\n",
    "\n",
    "INDEX_COLS = ['l_returnflag', 'l_linestatus']\n",
    "OUTPUT_COLS = ['sum_qty', 'sum_base_price', 'sum_disc_price', 'sum_charge', 'avg_qty', 'avg_price', 'avg_disc', 'count_order']"
   ]
  },
  {
   "cell_type": "code",
   "execution_count": 3,
   "id": "fc5dd8bb",
   "metadata": {
    "execution": {
     "iopub.execute_input": "2025-05-01T08:49:02.468312Z",
     "iopub.status.busy": "2025-05-01T08:49:02.468202Z",
     "iopub.status.idle": "2025-05-01T08:49:02.470275Z",
     "shell.execute_reply": "2025-05-01T08:49:02.470059Z"
    },
    "papermill": {
     "duration": 0.004411,
     "end_time": "2025-05-01T08:49:02.470876",
     "exception": false,
     "start_time": "2025-05-01T08:49:02.466465",
     "status": "completed"
    },
    "tags": [
     "injected-parameters"
    ]
   },
   "outputs": [],
   "source": [
    "# Parameters\n",
    "EXPERIMENT = \"ap-duckdb-q8-customer\"\n",
    "OUTPUT_DIR = \"./outputs/ap-duckdb-q8-customer-step1\"\n",
    "SAMPLES = 1024\n",
    "SAMPLE_STEP = \"DROP TABLE IF EXISTS random_samples;\\n\\nCREATE TABLE random_samples AS\\nWITH sample_numbers AS MATERIALIZED (\\n    SELECT range AS sample_id FROM range(1024 // 2)\\n), random_values AS MATERIALIZED (\\n    SELECT \\n        sample_numbers.sample_id,\\n        customer.rowid AS row_id,\\n        (RANDOM() > 0.5)::BOOLEAN AS random_binary\\n    FROM sample_numbers\\n    JOIN customer ON TRUE  -- Cross join to duplicate rows for each sample\\n)\\nSELECT\\n    sample_id,\\n    row_id,\\n    random_binary\\nFROM random_values\\nUNION ALL\\nSELECT -- select the complementary samples too\\n    (1024 // 2) + sample_id,\\n    row_id,\\n    NOT random_binary  -- Inverse the random_binary to get the complementary sample\\nFROM random_values\\nORDER BY sample_id, row_id;\"\n",
    "PREPARE_STEP = \"DEALLOCATE PREPARE run_query;\\n\\nPREPARE run_query AS \\nSELECT\\n    o_year,\\n    sum(\\n        CASE WHEN nation = 'BRAZIL' THEN\\n            volume\\n        ELSE\\n            0\\n        END) / sum(volume) AS mkt_share\\nFROM (\\n    SELECT\\n        extract(year FROM o_orderdate) AS o_year,\\n        l_extendedprice * (1 - l_discount) AS volume,\\n        n2.n_name AS nation\\n    FROM\\n        part,\\n        supplier,\\n        lineitem,\\n        orders,\\n        (SELECT * FROM customer\\n        JOIN random_samples AS rs ON rs.row_id = customer.rowid\\n        AND rs.random_binary = TRUE\\n        AND rs.sample_id = $sample) AS customer,\\n        nation n1,\\n        nation n2,\\n        region\\n    WHERE\\n        p_partkey = l_partkey\\n        AND s_suppkey = l_suppkey\\n        AND l_orderkey = o_orderkey\\n        AND o_custkey = c_custkey\\n        AND c_nationkey = n1.n_nationkey\\n        AND n1.n_regionkey = r_regionkey\\n        AND r_name = 'AMERICA'\\n        AND s_nationkey = n2.n_nationkey\\n        AND o_orderdate BETWEEN CAST('1995-01-01' AS date)\\n        AND CAST('1996-12-31' AS date)\\n        AND p_type = 'ECONOMY ANODIZED STEEL') AS all_nations\\nGROUP BY\\n    o_year\\nORDER BY\\n    o_year;\"\n",
    "INDEX_COLS = [\"o_year\"]\n",
    "OUTPUT_COLS = [\"mkt_share\"]\n"
   ]
  },
  {
   "cell_type": "code",
   "execution_count": 4,
   "id": "8b57085d",
   "metadata": {
    "execution": {
     "iopub.execute_input": "2025-05-01T08:49:02.473817Z",
     "iopub.status.busy": "2025-05-01T08:49:02.473724Z",
     "iopub.status.idle": "2025-05-01T08:49:02.475277Z",
     "shell.execute_reply": "2025-05-01T08:49:02.475067Z"
    },
    "papermill": {
     "duration": 0.003751,
     "end_time": "2025-05-01T08:49:02.475907",
     "exception": false,
     "start_time": "2025-05-01T08:49:02.472156",
     "status": "completed"
    },
    "tags": []
   },
   "outputs": [],
   "source": [
    "if not os.path.exists(OUTPUT_DIR):\n",
    "    os.makedirs(OUTPUT_DIR)"
   ]
  },
  {
   "cell_type": "code",
   "execution_count": 5,
   "id": "d66c5f27",
   "metadata": {
    "execution": {
     "iopub.execute_input": "2025-05-01T08:49:02.478698Z",
     "iopub.status.busy": "2025-05-01T08:49:02.478616Z",
     "iopub.status.idle": "2025-05-01T08:49:02.803945Z",
     "shell.execute_reply": "2025-05-01T08:49:02.803644Z"
    },
    "papermill": {
     "duration": 0.32762,
     "end_time": "2025-05-01T08:49:02.804750",
     "exception": false,
     "start_time": "2025-05-01T08:49:02.477130",
     "status": "completed"
    },
    "tags": []
   },
   "outputs": [],
   "source": [
    "# duckdb load data/tpch/tpch.duckdb into the temporary in-memory database\n",
    "con = duckdb.connect(database=':memory:')\n",
    "tables = [\"customer\", \"lineitem\", \"nation\", \"orders\", \"part\", \"partsupp\", \"region\", \"supplier\"]\n",
    "for t in tables:\n",
    "    con.execute(f\"CREATE TABLE {t} AS SELECT * FROM 'data/tpch/{t}.parquet'\")"
   ]
  },
  {
   "cell_type": "code",
   "execution_count": 6,
   "id": "a56ea807",
   "metadata": {
    "execution": {
     "iopub.execute_input": "2025-05-01T08:49:02.808091Z",
     "iopub.status.busy": "2025-05-01T08:49:02.807983Z",
     "iopub.status.idle": "2025-05-01T08:49:03.849085Z",
     "shell.execute_reply": "2025-05-01T08:49:03.848680Z"
    },
    "papermill": {
     "duration": 1.043619,
     "end_time": "2025-05-01T08:49:03.850010",
     "exception": false,
     "start_time": "2025-05-01T08:49:02.806391",
     "status": "completed"
    },
    "tags": []
   },
   "outputs": [],
   "source": [
    "# Construct the table of random samples\n",
    "# to use, join it with the lineitem table (for specific sample # s) and filter to just the\n",
    "# rows where random_binary = 1.0\n",
    "# This will give us a 50% sample of the lineitem table for each sample # s\n",
    "\n",
    "assert SAMPLES % 2 == 0, \"SAMPLES must be even to create complementary samples.\"\n",
    "\n",
    "random_samples = con.execute(SAMPLE_STEP)"
   ]
  },
  {
   "cell_type": "markdown",
   "id": "0c997caf",
   "metadata": {
    "papermill": {
     "duration": 0.001201,
     "end_time": "2025-05-01T08:49:03.852717",
     "exception": false,
     "start_time": "2025-05-01T08:49:03.851516",
     "status": "completed"
    },
    "tags": []
   },
   "source": [
    "The randomness of what rows are chosen is saved to disk in `random_binary.json`. For each sample #, there is an array with one entry per row, where 1 means the row was chosen and 0 means it was not."
   ]
  },
  {
   "cell_type": "code",
   "execution_count": 7,
   "id": "6d8eabf9",
   "metadata": {
    "execution": {
     "iopub.execute_input": "2025-05-01T08:49:03.855685Z",
     "iopub.status.busy": "2025-05-01T08:49:03.855583Z",
     "iopub.status.idle": "2025-05-01T08:49:04.204503Z",
     "shell.execute_reply": "2025-05-01T08:49:04.204152Z"
    },
    "papermill": {
     "duration": 0.35132,
     "end_time": "2025-05-01T08:49:04.205319",
     "exception": false,
     "start_time": "2025-05-01T08:49:03.853999",
     "status": "completed"
    },
    "tags": []
   },
   "outputs": [],
   "source": [
    "con.execute(\"\"\"\n",
    "SELECT sample_id, array_agg(random_binary::TINYINT) as random_binary\n",
    "FROM random_samples\n",
    "GROUP BY sample_id;\n",
    "\"\"\").pl().write_json(f\"{OUTPUT_DIR}/random_binary.json\")"
   ]
  },
  {
   "cell_type": "markdown",
   "id": "668723a0",
   "metadata": {
    "papermill": {
     "duration": 0.001355,
     "end_time": "2025-05-01T08:49:04.208315",
     "exception": false,
     "start_time": "2025-05-01T08:49:04.206960",
     "status": "completed"
    },
    "tags": []
   },
   "source": [
    "Query is specified as a prepared statement. We will then execute it once per sample."
   ]
  },
  {
   "cell_type": "code",
   "execution_count": 8,
   "id": "dca94ebb",
   "metadata": {
    "execution": {
     "iopub.execute_input": "2025-05-01T08:49:04.211492Z",
     "iopub.status.busy": "2025-05-01T08:49:04.211235Z",
     "iopub.status.idle": "2025-05-01T08:49:04.282610Z",
     "shell.execute_reply": "2025-05-01T08:49:04.282362Z"
    },
    "papermill": {
     "duration": 0.073707,
     "end_time": "2025-05-01T08:49:04.283291",
     "exception": false,
     "start_time": "2025-05-01T08:49:04.209584",
     "status": "completed"
    },
    "tags": []
   },
   "outputs": [
    {
     "data": {
      "text/html": [
       "<div><style>\n",
       ".dataframe > thead > tr,\n",
       ".dataframe > tbody > tr {\n",
       "  text-align: right;\n",
       "  white-space: pre-wrap;\n",
       "}\n",
       "</style>\n",
       "<small>shape: (2, 2)</small><table border=\"1\" class=\"dataframe\"><thead><tr><th>o_year</th><th>mkt_share</th></tr><tr><td>i64</td><td>f64</td></tr></thead><tbody><tr><td>1995</td><td>0.000913</td></tr><tr><td>1996</td><td>0.024111</td></tr></tbody></table></div>"
      ],
      "text/plain": [
       "shape: (2, 2)\n",
       "┌────────┬───────────┐\n",
       "│ o_year ┆ mkt_share │\n",
       "│ ---    ┆ ---       │\n",
       "│ i64    ┆ f64       │\n",
       "╞════════╪═══════════╡\n",
       "│ 1995   ┆ 0.000913  │\n",
       "│ 1996   ┆ 0.024111  │\n",
       "└────────┴───────────┘"
      ]
     },
     "execution_count": 8,
     "metadata": {},
     "output_type": "execute_result"
    }
   ],
   "source": [
    "# Query\n",
    "con.execute(PREPARE_STEP)\n",
    "\n",
    "# Run query to see output\n",
    "dfs0 = con.execute(f\"EXECUTE run_query(sample := {0});\").pl()\n",
    "\n",
    "# Save csv copies of the first 5 samples\n",
    "os.makedirs(f\"{OUTPUT_DIR}/csv\", exist_ok=True)\n",
    "for s in range(5):\n",
    "    con.execute(f\"EXECUTE run_query(sample := {s});\").pl().write_csv(f\"{OUTPUT_DIR}/csv/sample_{s}.csv\")\n",
    "\n",
    "dfs0"
   ]
  },
  {
   "cell_type": "code",
   "execution_count": 9,
   "id": "fa3d32e2",
   "metadata": {
    "execution": {
     "iopub.execute_input": "2025-05-01T08:49:04.286549Z",
     "iopub.status.busy": "2025-05-01T08:49:04.286456Z",
     "iopub.status.idle": "2025-05-01T08:49:11.843578Z",
     "shell.execute_reply": "2025-05-01T08:49:11.843350Z"
    },
    "papermill": {
     "duration": 7.559437,
     "end_time": "2025-05-01T08:49:11.844272",
     "exception": false,
     "start_time": "2025-05-01T08:49:04.284835",
     "status": "completed"
    },
    "tags": []
   },
   "outputs": [
    {
     "data": {
      "text/html": [
       "<div><style>\n",
       ".dataframe > thead > tr,\n",
       ".dataframe > tbody > tr {\n",
       "  text-align: right;\n",
       "  white-space: pre-wrap;\n",
       "}\n",
       "</style>\n",
       "<small>shape: (2_048, 3)</small><table border=\"1\" class=\"dataframe\"><thead><tr><th>sample</th><th>o_year</th><th>mkt_share</th></tr><tr><td>i32</td><td>i64</td><td>f64</td></tr></thead><tbody><tr><td>0</td><td>1995</td><td>0.000913</td></tr><tr><td>0</td><td>1996</td><td>0.024111</td></tr><tr><td>1</td><td>1995</td><td>0.010191</td></tr><tr><td>1</td><td>1996</td><td>0.023039</td></tr><tr><td>2</td><td>1995</td><td>0.033464</td></tr><tr><td>&hellip;</td><td>&hellip;</td><td>&hellip;</td></tr><tr><td>1021</td><td>1996</td><td>0.007418</td></tr><tr><td>1022</td><td>1995</td><td>0.02424</td></tr><tr><td>1022</td><td>1996</td><td>0.0296</td></tr><tr><td>1023</td><td>1995</td><td>0.025921</td></tr><tr><td>1023</td><td>1996</td><td>0.029514</td></tr></tbody></table></div>"
      ],
      "text/plain": [
       "shape: (2_048, 3)\n",
       "┌────────┬────────┬───────────┐\n",
       "│ sample ┆ o_year ┆ mkt_share │\n",
       "│ ---    ┆ ---    ┆ ---       │\n",
       "│ i32    ┆ i64    ┆ f64       │\n",
       "╞════════╪════════╪═══════════╡\n",
       "│ 0      ┆ 1995   ┆ 0.000913  │\n",
       "│ 0      ┆ 1996   ┆ 0.024111  │\n",
       "│ 1      ┆ 1995   ┆ 0.010191  │\n",
       "│ 1      ┆ 1996   ┆ 0.023039  │\n",
       "│ 2      ┆ 1995   ┆ 0.033464  │\n",
       "│ …      ┆ …      ┆ …         │\n",
       "│ 1021   ┆ 1996   ┆ 0.007418  │\n",
       "│ 1022   ┆ 1995   ┆ 0.02424   │\n",
       "│ 1022   ┆ 1996   ┆ 0.0296    │\n",
       "│ 1023   ┆ 1995   ┆ 0.025921  │\n",
       "│ 1023   ┆ 1996   ┆ 0.029514  │\n",
       "└────────┴────────┴───────────┘"
      ]
     },
     "execution_count": 9,
     "metadata": {},
     "output_type": "execute_result"
    }
   ],
   "source": [
    "# Run the query for each sample, but accumulate in a pl.DataFrame instead of a list\n",
    "dfsdf: pl.DataFrame = pl.concat(\n",
    "    con.execute(f\"EXECUTE run_query(sample := {s});\").pl().insert_column(0, pl.lit(s).alias(\"sample\"))\n",
    "    for s in range(SAMPLES)\n",
    ")\n",
    "dfsdf"
   ]
  },
  {
   "cell_type": "code",
   "execution_count": 10,
   "id": "ef8b2680",
   "metadata": {
    "execution": {
     "iopub.execute_input": "2025-05-01T08:49:11.847965Z",
     "iopub.status.busy": "2025-05-01T08:49:11.847859Z",
     "iopub.status.idle": "2025-05-01T08:49:11.850464Z",
     "shell.execute_reply": "2025-05-01T08:49:11.850240Z"
    },
    "papermill": {
     "duration": 0.005064,
     "end_time": "2025-05-01T08:49:11.851114",
     "exception": false,
     "start_time": "2025-05-01T08:49:11.846050",
     "status": "completed"
    },
    "tags": []
   },
   "outputs": [],
   "source": [
    "# Define which columns are the group-by keys (INDEX_COLS) and which are the output columns (OUTPUT_COLS)\n",
    "# - moved to parameters cell at top of notebook\n",
    "\n",
    "# Save these to disk for later use\n",
    "with open(f\"{OUTPUT_DIR}/INDEX_COLS.pkl\", 'wb') as f:\n",
    "    pickle.dump(INDEX_COLS, f)\n",
    "with open(f\"{OUTPUT_DIR}/OUTPUT_COLS.pkl\", 'wb') as f:\n",
    "    pickle.dump(OUTPUT_COLS, f)"
   ]
  },
  {
   "cell_type": "code",
   "execution_count": 11,
   "id": "fdef9605",
   "metadata": {
    "execution": {
     "iopub.execute_input": "2025-05-01T08:49:11.854738Z",
     "iopub.status.busy": "2025-05-01T08:49:11.854637Z",
     "iopub.status.idle": "2025-05-01T08:49:11.861030Z",
     "shell.execute_reply": "2025-05-01T08:49:11.860790Z"
    },
    "papermill": {
     "duration": 0.009158,
     "end_time": "2025-05-01T08:49:11.861679",
     "exception": false,
     "start_time": "2025-05-01T08:49:11.852521",
     "status": "completed"
    },
    "tags": []
   },
   "outputs": [
    {
     "data": {
      "text/html": [
       "<div><style>\n",
       ".dataframe > thead > tr,\n",
       ".dataframe > tbody > tr {\n",
       "  text-align: right;\n",
       "  white-space: pre-wrap;\n",
       "}\n",
       "</style>\n",
       "<small>shape: (2, 2)</small><table border=\"1\" class=\"dataframe\"><thead><tr><th>o_year</th><th>mkt_share</th></tr><tr><td>i64</td><td>list[f64]</td></tr></thead><tbody><tr><td>1995</td><td>[0.000913, 0.010191, … 0.025921]</td></tr><tr><td>1996</td><td>[0.024111, 0.023039, … 0.029514]</td></tr></tbody></table></div>"
      ],
      "text/plain": [
       "shape: (2, 2)\n",
       "┌────────┬─────────────────────────────────┐\n",
       "│ o_year ┆ mkt_share                       │\n",
       "│ ---    ┆ ---                             │\n",
       "│ i64    ┆ list[f64]                       │\n",
       "╞════════╪═════════════════════════════════╡\n",
       "│ 1995   ┆ [0.000913, 0.010191, … 0.02592… │\n",
       "│ 1996   ┆ [0.024111, 0.023039, … 0.02951… │\n",
       "└────────┴─────────────────────────────────┘"
      ]
     },
     "execution_count": 11,
     "metadata": {},
     "output_type": "execute_result"
    }
   ],
   "source": [
    "# Combine all the samples into one table, grouped-by the group-by keys. Each cell contains an n <= # of samples length array of values.\n",
    "listdf = dfsdf.drop(\"sample\").group_by(INDEX_COLS or pl.lit(0).alias(\"\"), maintain_order=True).all()\n",
    "listdf"
   ]
  },
  {
   "cell_type": "code",
   "execution_count": 12,
   "id": "e2d8f8f2",
   "metadata": {
    "execution": {
     "iopub.execute_input": "2025-05-01T08:49:11.865265Z",
     "iopub.status.busy": "2025-05-01T08:49:11.865169Z",
     "iopub.status.idle": "2025-05-01T08:49:11.867271Z",
     "shell.execute_reply": "2025-05-01T08:49:11.867084Z"
    },
    "papermill": {
     "duration": 0.004479,
     "end_time": "2025-05-01T08:49:11.867898",
     "exception": false,
     "start_time": "2025-05-01T08:49:11.863419",
     "status": "completed"
    },
    "tags": []
   },
   "outputs": [
    {
     "data": {
      "text/plain": [
       "[{'o_year': 1995}, {'o_year': 1996}]"
      ]
     },
     "execution_count": 12,
     "metadata": {},
     "output_type": "execute_result"
    }
   ],
   "source": [
    "# What are all the possible group-by key combinations?\n",
    "allgroups: pl.DataFrame = listdf.select(INDEX_COLS or pl.lit(0).alias(\"\"))\n",
    "allgroups.to_dicts()"
   ]
  },
  {
   "cell_type": "code",
   "execution_count": 13,
   "id": "461e362a",
   "metadata": {
    "execution": {
     "iopub.execute_input": "2025-05-01T08:49:11.871406Z",
     "iopub.status.busy": "2025-05-01T08:49:11.871314Z",
     "iopub.status.idle": "2025-05-01T08:49:11.877143Z",
     "shell.execute_reply": "2025-05-01T08:49:11.876919Z"
    },
    "papermill": {
     "duration": 0.008362,
     "end_time": "2025-05-01T08:49:11.877769",
     "exception": false,
     "start_time": "2025-05-01T08:49:11.869407",
     "status": "completed"
    },
    "tags": []
   },
   "outputs": [],
   "source": [
    "# Template for the final output, including all possible group-by groups\n",
    "# Obtained by collecting all the samples in a big table and then keeping only the first occurrence of each groupby key.\n",
    "# Then, fill all OUTPUT_COLS with nulls\n",
    "templatedf = dfsdf.drop(\"sample\").group_by(INDEX_COLS or pl.lit(0).alias(\"\"), maintain_order=True).first()\n",
    "templatedf = templatedf.clear(n=len(allgroups)).with_columns(allgroups)\n",
    "templatedf\n",
    "\n",
    "with open(f\"{OUTPUT_DIR}/template.pkl\", \"wb\") as f:\n",
    "    pickle.dump(templatedf, f)"
   ]
  },
  {
   "cell_type": "code",
   "execution_count": 14,
   "id": "a939c8c2",
   "metadata": {
    "execution": {
     "iopub.execute_input": "2025-05-01T08:49:11.881196Z",
     "iopub.status.busy": "2025-05-01T08:49:11.881109Z",
     "iopub.status.idle": "2025-05-01T08:49:11.885690Z",
     "shell.execute_reply": "2025-05-01T08:49:11.885446Z"
    },
    "papermill": {
     "duration": 0.007043,
     "end_time": "2025-05-01T08:49:11.886347",
     "exception": false,
     "start_time": "2025-05-01T08:49:11.879304",
     "status": "completed"
    },
    "tags": []
   },
   "outputs": [],
   "source": [
    "# Write all table entries in the output table to their own JSON files. Each file has a number, the information of which file corresponds to which table entry\n",
    "# is stored in reverse_map.json (as well as in the files themselves)\n",
    "os.makedirs(f\"{OUTPUT_DIR}/json\", exist_ok=True)\n",
    "i: int = 0\n",
    "for col in OUTPUT_COLS:\n",
    "    for group in allgroups.iter_rows(named=True):\n",
    "        values = listdf.filter(pl.col(k).eq(v) for k, v in group.items()).select(col).to_series()\n",
    "        j = pl.DataFrame().with_columns([\n",
    "            pl.lit(col).alias(\"col\"),\n",
    "            pl.lit(group).alias(\"row\"),\n",
    "            pl.lit(values.explode().dtype.__repr__()).alias(\"dtype\"),\n",
    "            values.alias(\"values\"),\n",
    "        ])\n",
    "        j.write_json(f\"{OUTPUT_DIR}/json/{i}.json\")\n",
    "        i+=1"
   ]
  },
  {
   "cell_type": "code",
   "execution_count": 15,
   "id": "3ff41176",
   "metadata": {
    "execution": {
     "iopub.execute_input": "2025-05-01T08:49:11.889949Z",
     "iopub.status.busy": "2025-05-01T08:49:11.889846Z",
     "iopub.status.idle": "2025-05-01T08:49:13.968160Z",
     "shell.execute_reply": "2025-05-01T08:49:13.967885Z"
    },
    "papermill": {
     "duration": 2.080934,
     "end_time": "2025-05-01T08:49:13.968903",
     "exception": false,
     "start_time": "2025-05-01T08:49:11.887969",
     "status": "completed"
    },
    "tags": []
   },
   "outputs": [
    {
     "data": {
      "text/plain": [
       "'/Users/michael/projects/dpdb/pacdb/outputs/ap-duckdb-q8-customer-step1.zip'"
      ]
     },
     "execution_count": 15,
     "metadata": {},
     "output_type": "execute_result"
    }
   ],
   "source": [
    "# zip the OUTPUT_DIR\n",
    "shutil.make_archive(OUTPUT_DIR, 'zip', OUTPUT_DIR)"
   ]
  }
 ],
 "metadata": {
  "kernelspec": {
   "display_name": ".venv",
   "language": "python",
   "name": "python3"
  },
  "language_info": {
   "codemirror_mode": {
    "name": "ipython",
    "version": 3
   },
   "file_extension": ".py",
   "mimetype": "text/x-python",
   "name": "python",
   "nbconvert_exporter": "python",
   "pygments_lexer": "ipython3",
   "version": "3.11.7"
  },
  "papermill": {
   "default_parameters": {},
   "duration": 12.649498,
   "end_time": "2025-05-01T08:49:14.287233",
   "environment_variables": {},
   "exception": null,
   "input_path": "autopac-duckdb-step1.ipynb",
   "output_path": "./ap-duckdb-q8-customer-step1.ipynb",
   "parameters": {
    "EXPERIMENT": "ap-duckdb-q8-customer",
    "INDEX_COLS": [
     "o_year"
    ],
    "OUTPUT_COLS": [
     "mkt_share"
    ],
    "OUTPUT_DIR": "./outputs/ap-duckdb-q8-customer-step1",
    "PREPARE_STEP": "DEALLOCATE PREPARE run_query;\n\nPREPARE run_query AS \nSELECT\n    o_year,\n    sum(\n        CASE WHEN nation = 'BRAZIL' THEN\n            volume\n        ELSE\n            0\n        END) / sum(volume) AS mkt_share\nFROM (\n    SELECT\n        extract(year FROM o_orderdate) AS o_year,\n        l_extendedprice * (1 - l_discount) AS volume,\n        n2.n_name AS nation\n    FROM\n        part,\n        supplier,\n        lineitem,\n        orders,\n        (SELECT * FROM customer\n        JOIN random_samples AS rs ON rs.row_id = customer.rowid\n        AND rs.random_binary = TRUE\n        AND rs.sample_id = $sample) AS customer,\n        nation n1,\n        nation n2,\n        region\n    WHERE\n        p_partkey = l_partkey\n        AND s_suppkey = l_suppkey\n        AND l_orderkey = o_orderkey\n        AND o_custkey = c_custkey\n        AND c_nationkey = n1.n_nationkey\n        AND n1.n_regionkey = r_regionkey\n        AND r_name = 'AMERICA'\n        AND s_nationkey = n2.n_nationkey\n        AND o_orderdate BETWEEN CAST('1995-01-01' AS date)\n        AND CAST('1996-12-31' AS date)\n        AND p_type = 'ECONOMY ANODIZED STEEL') AS all_nations\nGROUP BY\n    o_year\nORDER BY\n    o_year;",
    "SAMPLES": 1024,
    "SAMPLE_STEP": "DROP TABLE IF EXISTS random_samples;\n\nCREATE TABLE random_samples AS\nWITH sample_numbers AS MATERIALIZED (\n    SELECT range AS sample_id FROM range(1024 // 2)\n), random_values AS MATERIALIZED (\n    SELECT \n        sample_numbers.sample_id,\n        customer.rowid AS row_id,\n        (RANDOM() > 0.5)::BOOLEAN AS random_binary\n    FROM sample_numbers\n    JOIN customer ON TRUE  -- Cross join to duplicate rows for each sample\n)\nSELECT\n    sample_id,\n    row_id,\n    random_binary\nFROM random_values\nUNION ALL\nSELECT -- select the complementary samples too\n    (1024 // 2) + sample_id,\n    row_id,\n    NOT random_binary  -- Inverse the random_binary to get the complementary sample\nFROM random_values\nORDER BY sample_id, row_id;"
   },
   "start_time": "2025-05-01T08:49:01.637735",
   "version": "2.6.0"
  }
 },
 "nbformat": 4,
 "nbformat_minor": 5
}