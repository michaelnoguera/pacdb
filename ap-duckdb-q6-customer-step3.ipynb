{
 "cells": [
  {
   "cell_type": "code",
   "execution_count": 1,
   "id": "eba650e4",
   "metadata": {
    "execution": {
     "iopub.execute_input": "2025-05-01T08:19:32.880254Z",
     "iopub.status.busy": "2025-05-01T08:19:32.880082Z",
     "iopub.status.idle": "2025-05-01T08:19:32.918482Z",
     "shell.execute_reply": "2025-05-01T08:19:32.918190Z"
    },
    "papermill": {
     "duration": 0.044471,
     "end_time": "2025-05-01T08:19:32.919395",
     "exception": false,
     "start_time": "2025-05-01T08:19:32.874924",
     "status": "completed"
    },
    "tags": []
   },
   "outputs": [],
   "source": [
    "#!/usr/bin/env python\n",
    "# coding: utf-8\n",
    "\n",
    "import json\n",
    "import os\n",
    "import pickle\n",
    "import shutil\n",
    "import zipfile\n",
    "\n",
    "import parse\n",
    "import polars as pl"
   ]
  },
  {
   "cell_type": "code",
   "execution_count": 2,
   "id": "5bbee7d0",
   "metadata": {
    "execution": {
     "iopub.execute_input": "2025-05-01T08:19:32.922504Z",
     "iopub.status.busy": "2025-05-01T08:19:32.922389Z",
     "iopub.status.idle": "2025-05-01T08:19:32.924271Z",
     "shell.execute_reply": "2025-05-01T08:19:32.924045Z"
    },
    "papermill": {
     "duration": 0.003909,
     "end_time": "2025-05-01T08:19:32.924874",
     "exception": false,
     "start_time": "2025-05-01T08:19:32.920965",
     "status": "completed"
    },
    "tags": [
     "parameters"
    ]
   },
   "outputs": [],
   "source": [
    "#EXPERIMENT = \"asdf\"\n",
    "#INPUT_ZIP = f\"./outputs/{EXPERIMENT}-step2.zip\"\n",
    "#OUTPUT_DIR = f\"./outputs/{EXPERIMENT}-step3\"\n",
    "#INDEX_COLS = pickle.load(open(f'./outputs/{EXPERIMENT}-step1/INDEX_COLS.pkl', 'rb'))\n",
    "#OUTPUT_COLS = pickle.load(open(f'./outputs/{EXPERIMENT}-step1/OUTPUT_COLS.pkl', 'rb'))\n",
    "#templatedf_path = f\"./outputs/{EXPERIMENT}-step2/templatedf.csv\"\n",
    "EXPERIMENT = \"\"\n",
    "INPUT_ZIP = \"\"\n",
    "OUTPUT_DIR = \"\"\n",
    "INDEX_COLS = []\n",
    "OUTPUT_COLS = []\n",
    "templatedf_path = \"\""
   ]
  },
  {
   "cell_type": "code",
   "execution_count": 3,
   "id": "6f4acbc7",
   "metadata": {
    "execution": {
     "iopub.execute_input": "2025-05-01T08:19:32.927643Z",
     "iopub.status.busy": "2025-05-01T08:19:32.927520Z",
     "iopub.status.idle": "2025-05-01T08:19:32.929642Z",
     "shell.execute_reply": "2025-05-01T08:19:32.929356Z"
    },
    "papermill": {
     "duration": 0.00444,
     "end_time": "2025-05-01T08:19:32.930483",
     "exception": false,
     "start_time": "2025-05-01T08:19:32.926043",
     "status": "completed"
    },
    "tags": [
     "injected-parameters"
    ]
   },
   "outputs": [],
   "source": [
    "# Parameters\n",
    "EXPERIMENT = \"ap-duckdb-q6-customer\"\n",
    "OUTPUT_DIR = \"./outputs/ap-duckdb-q6-customer-step3\"\n",
    "INPUT_ZIP = \"./outputs/ap-duckdb-q6-customer-step2.zip\"\n",
    "INDEX_COLS = []\n",
    "OUTPUT_COLS = [\"revenue\"]\n",
    "templatedf_path = \"./outputs/ap-duckdb-q6-customer-step1/template.pkl\"\n"
   ]
  },
  {
   "cell_type": "code",
   "execution_count": 4,
   "id": "7eeff702",
   "metadata": {
    "execution": {
     "iopub.execute_input": "2025-05-01T08:19:32.933580Z",
     "iopub.status.busy": "2025-05-01T08:19:32.933456Z",
     "iopub.status.idle": "2025-05-01T08:19:32.935248Z",
     "shell.execute_reply": "2025-05-01T08:19:32.935010Z"
    },
    "papermill": {
     "duration": 0.004127,
     "end_time": "2025-05-01T08:19:32.935877",
     "exception": false,
     "start_time": "2025-05-01T08:19:32.931750",
     "status": "completed"
    },
    "tags": []
   },
   "outputs": [],
   "source": [
    "INDEX_COLS = INDEX_COLS or [\"\"] # if no index cols are provided, then we make one up with empty string name in step 1\n",
    "\n",
    "if not os.path.exists(OUTPUT_DIR):\n",
    "    os.makedirs(OUTPUT_DIR)"
   ]
  },
  {
   "cell_type": "code",
   "execution_count": 5,
   "id": "257dec28",
   "metadata": {
    "execution": {
     "iopub.execute_input": "2025-05-01T08:19:32.939019Z",
     "iopub.status.busy": "2025-05-01T08:19:32.938886Z",
     "iopub.status.idle": "2025-05-01T08:19:32.940943Z",
     "shell.execute_reply": "2025-05-01T08:19:32.940698Z"
    },
    "papermill": {
     "duration": 0.004514,
     "end_time": "2025-05-01T08:19:32.941720",
     "exception": false,
     "start_time": "2025-05-01T08:19:32.937206",
     "status": "completed"
    },
    "tags": []
   },
   "outputs": [],
   "source": [
    "# Import saved variables from the first step\n",
    "templatedf: pl.DataFrame = pickle.load(open(templatedf_path, 'rb'))"
   ]
  },
  {
   "cell_type": "code",
   "execution_count": 6,
   "id": "ab3a80fe",
   "metadata": {
    "execution": {
     "iopub.execute_input": "2025-05-01T08:19:32.944599Z",
     "iopub.status.busy": "2025-05-01T08:19:32.944501Z",
     "iopub.status.idle": "2025-05-01T08:19:32.949010Z",
     "shell.execute_reply": "2025-05-01T08:19:32.948776Z"
    },
    "papermill": {
     "duration": 0.00674,
     "end_time": "2025-05-01T08:19:32.949764",
     "exception": false,
     "start_time": "2025-05-01T08:19:32.943024",
     "status": "completed"
    },
    "tags": []
   },
   "outputs": [
    {
     "data": {
      "text/plain": [
       "dict_keys([0])"
      ]
     },
     "execution_count": 6,
     "metadata": {},
     "output_type": "execute_result"
    }
   ],
   "source": [
    "# load the json input files from step 2\n",
    "# {'col': column name as string,\n",
    "#  'row': group-by column values as dict (effectively a row id),\n",
    "#  'values': [ 1000x values ] }\n",
    "alldata = {}\n",
    "\n",
    "pattern = parse.compile(\"{n}.json\")\n",
    "\n",
    "with zipfile.ZipFile(INPUT_ZIP, 'r') as zf:\n",
    "    for filename in zf.namelist():\n",
    "        if filename.endswith('.json'):\n",
    "            with zf.open(filename) as f:\n",
    "                filenumber = int(pattern.parse(filename).named['n'])\n",
    "                data = json.load(f)\n",
    "                d: dict = data\n",
    "                alldata[filenumber] = d\n",
    "alldata.keys()"
   ]
  },
  {
   "cell_type": "code",
   "execution_count": 7,
   "id": "fa47deff",
   "metadata": {
    "execution": {
     "iopub.execute_input": "2025-05-01T08:19:32.952670Z",
     "iopub.status.busy": "2025-05-01T08:19:32.952574Z",
     "iopub.status.idle": "2025-05-01T08:19:32.954962Z",
     "shell.execute_reply": "2025-05-01T08:19:32.954705Z"
    },
    "papermill": {
     "duration": 0.004403,
     "end_time": "2025-05-01T08:19:32.955626",
     "exception": false,
     "start_time": "2025-05-01T08:19:32.951223",
     "status": "completed"
    },
    "tags": []
   },
   "outputs": [],
   "source": [
    "# Make sure the data types of the row fields are correct\n",
    "for i in range(len(alldata)):\n",
    "    alldata[i]['row'] = pl.DataFrame(alldata[i]['row']).cast(templatedf.select(INDEX_COLS).schema).to_dicts()[0]"
   ]
  },
  {
   "cell_type": "code",
   "execution_count": 8,
   "id": "1d086fc3",
   "metadata": {
    "execution": {
     "iopub.execute_input": "2025-05-01T08:19:32.958481Z",
     "iopub.status.busy": "2025-05-01T08:19:32.958378Z",
     "iopub.status.idle": "2025-05-01T08:19:32.960659Z",
     "shell.execute_reply": "2025-05-01T08:19:32.960456Z"
    },
    "papermill": {
     "duration": 0.004385,
     "end_time": "2025-05-01T08:19:32.961307",
     "exception": false,
     "start_time": "2025-05-01T08:19:32.956922",
     "status": "completed"
    },
    "tags": []
   },
   "outputs": [
    {
     "data": {
      "text/html": [
       "<div><style>\n",
       ".dataframe > thead > tr,\n",
       ".dataframe > tbody > tr {\n",
       "  text-align: right;\n",
       "  white-space: pre-wrap;\n",
       "}\n",
       "</style>\n",
       "<small>shape: (1, 1)</small><table border=\"1\" class=\"dataframe\"><thead><tr><th></th></tr><tr><td>i32</td></tr></thead><tbody><tr><td>0</td></tr></tbody></table></div>"
      ],
      "text/plain": [
       "shape: (1, 1)\n",
       "┌─────┐\n",
       "│     │\n",
       "│ --- │\n",
       "│ i32 │\n",
       "╞═════╡\n",
       "│ 0   │\n",
       "└─────┘"
      ]
     },
     "execution_count": 8,
     "metadata": {},
     "output_type": "execute_result"
    }
   ],
   "source": [
    "allgroups = templatedf.select(INDEX_COLS)\n",
    "allgroups"
   ]
  },
  {
   "cell_type": "code",
   "execution_count": 9,
   "id": "0b249a7b",
   "metadata": {
    "execution": {
     "iopub.execute_input": "2025-05-01T08:19:32.964286Z",
     "iopub.status.busy": "2025-05-01T08:19:32.964185Z",
     "iopub.status.idle": "2025-05-01T08:19:32.967952Z",
     "shell.execute_reply": "2025-05-01T08:19:32.967681Z"
    },
    "papermill": {
     "duration": 0.005948,
     "end_time": "2025-05-01T08:19:32.968619",
     "exception": false,
     "start_time": "2025-05-01T08:19:32.962671",
     "status": "completed"
    },
    "tags": []
   },
   "outputs": [
    {
     "name": "stdout",
     "output_type": "stream",
     "text": [
      "{'': 0}\n"
     ]
    }
   ],
   "source": [
    "# Cursed data shuffling to reidentify what row goes where, what column goes where, and what the labels should be on everything\n",
    "colidxes = {}\n",
    "for col in OUTPUT_COLS:\n",
    "    colidxes[col] = templatedf.get_column_index(col)\n",
    "rowidxes = {}\n",
    "for row in templatedf.select(INDEX_COLS).iter_rows(named=True):\n",
    "    rowidxes[tuple(row.values())] = allgroups.with_row_index().filter(\n",
    "        pl.col(k).eq(v)\n",
    "        for k, v in row.items()\n",
    "    ).select(\"index\").item()\n",
    "    print(row)\n",
    "\n",
    "allinfo = [\n",
    "    {\"colname\": adentry['col'],\n",
    "    \"rowid\": tuple(adentry['row'].values()),\n",
    "    \"value\": adentry['value'][0],\n",
    "    \"colidx\": colidxes[adentry['col']],\n",
    "    \"rowidx\": rowidxes[tuple(adentry['row'].values())]}\n",
    "    for adidx, adentry in alldata.items()\n",
    "]\n",
    "\n",
    "colnames = {}\n",
    "rownames = {}\n",
    "for entry in allinfo:\n",
    "    colnames[entry['colidx']] = entry['colname']\n",
    "    rownames[entry['rowidx']] = entry['rowid']"
   ]
  },
  {
   "cell_type": "markdown",
   "id": "61e58b37",
   "metadata": {
    "papermill": {
     "duration": 0.001181,
     "end_time": "2025-05-01T08:19:32.971202",
     "exception": false,
     "start_time": "2025-05-01T08:19:32.970021",
     "status": "completed"
    },
    "tags": []
   },
   "source": [
    "Naive reconstruction"
   ]
  },
  {
   "cell_type": "code",
   "execution_count": 10,
   "id": "c6da70b0",
   "metadata": {
    "execution": {
     "iopub.execute_input": "2025-05-01T08:19:32.973949Z",
     "iopub.status.busy": "2025-05-01T08:19:32.973845Z",
     "iopub.status.idle": "2025-05-01T08:19:33.011720Z",
     "shell.execute_reply": "2025-05-01T08:19:33.011062Z"
    },
    "papermill": {
     "duration": 0.041105,
     "end_time": "2025-05-01T08:19:33.013471",
     "exception": false,
     "start_time": "2025-05-01T08:19:32.972366",
     "status": "completed"
    },
    "tags": []
   },
   "outputs": [
    {
     "name": "stdout",
     "output_type": "stream",
     "text": [
      "['', 'revenue']\n",
      "[0, 5789844.521679444]\n"
     ]
    }
   ],
   "source": [
    "# Naive reconstruction based on the indices of the keys in the templatedf\n",
    "allcols = INDEX_COLS + OUTPUT_COLS\n",
    "allrows = allgroups.select(INDEX_COLS).to_numpy().tolist()\n",
    "\n",
    "allinfo2 = {\n",
    "    (rowidxes[tuple(adentry['row'].values())], colidxes[adentry['col']]): adentry['value'][0]\n",
    "    for adidx, adentry in alldata.items()\n",
    "}\n",
    "\n",
    "df2 = []\n",
    "print(allcols)\n",
    "for row in allrows:\n",
    "    print(row + [allinfo2.get((rowidxes[tuple(row)], colidxes[col]), None) for col in OUTPUT_COLS])\n",
    "    df2.append(row + [allinfo2.get((rowidxes[tuple(row)], colidxes[col]), None) for col in OUTPUT_COLS])"
   ]
  },
  {
   "cell_type": "code",
   "execution_count": 11,
   "id": "396c2efa",
   "metadata": {
    "execution": {
     "iopub.execute_input": "2025-05-01T08:19:33.020381Z",
     "iopub.status.busy": "2025-05-01T08:19:33.020038Z",
     "iopub.status.idle": "2025-05-01T08:19:33.028047Z",
     "shell.execute_reply": "2025-05-01T08:19:33.027398Z"
    },
    "papermill": {
     "duration": 0.01291,
     "end_time": "2025-05-01T08:19:33.030542",
     "exception": false,
     "start_time": "2025-05-01T08:19:33.017632",
     "status": "completed"
    },
    "tags": []
   },
   "outputs": [
    {
     "data": {
      "text/html": [
       "<div><style>\n",
       ".dataframe > thead > tr,\n",
       ".dataframe > tbody > tr {\n",
       "  text-align: right;\n",
       "  white-space: pre-wrap;\n",
       "}\n",
       "</style>\n",
       "<small>shape: (1, 2)</small><table border=\"1\" class=\"dataframe\"><thead><tr><th>column_0</th><th>revenue</th></tr><tr><td>i64</td><td>decimal[38,4]</td></tr></thead><tbody><tr><td>0</td><td>5789844.5216</td></tr></tbody></table></div>"
      ],
      "text/plain": [
       "shape: (1, 2)\n",
       "┌──────────┬───────────────┐\n",
       "│ column_0 ┆ revenue       │\n",
       "│ ---      ┆ ---           │\n",
       "│ i64      ┆ decimal[38,4] │\n",
       "╞══════════╪═══════════════╡\n",
       "│ 0        ┆ 5789844.5216  │\n",
       "└──────────┴───────────────┘"
      ]
     },
     "execution_count": 11,
     "metadata": {},
     "output_type": "execute_result"
    }
   ],
   "source": [
    "pl.DataFrame(df2, schema=allcols, orient='row').cast(templatedf.schema)"
   ]
  },
  {
   "cell_type": "code",
   "execution_count": 12,
   "id": "22658efb",
   "metadata": {
    "execution": {
     "iopub.execute_input": "2025-05-01T08:19:33.039180Z",
     "iopub.status.busy": "2025-05-01T08:19:33.038900Z",
     "iopub.status.idle": "2025-05-01T08:19:33.059671Z",
     "shell.execute_reply": "2025-05-01T08:19:33.056625Z"
    },
    "papermill": {
     "duration": 0.027995,
     "end_time": "2025-05-01T08:19:33.062978",
     "exception": false,
     "start_time": "2025-05-01T08:19:33.034983",
     "status": "completed"
    },
    "tags": []
   },
   "outputs": [],
   "source": [
    "pl.DataFrame(df2, schema=allcols, orient='row').cast(templatedf.schema).write_csv(os.path.join(OUTPUT_DIR, 'output.csv'))"
   ]
  },
  {
   "cell_type": "code",
   "execution_count": 13,
   "id": "fbf29824",
   "metadata": {
    "execution": {
     "iopub.execute_input": "2025-05-01T08:19:33.073738Z",
     "iopub.status.busy": "2025-05-01T08:19:33.073372Z",
     "iopub.status.idle": "2025-05-01T08:19:33.082541Z",
     "shell.execute_reply": "2025-05-01T08:19:33.081821Z"
    },
    "papermill": {
     "duration": 0.016309,
     "end_time": "2025-05-01T08:19:33.084502",
     "exception": false,
     "start_time": "2025-05-01T08:19:33.068193",
     "status": "completed"
    },
    "tags": []
   },
   "outputs": [
    {
     "data": {
      "text/plain": [
       "'/Users/michael/projects/dpdb/pacdb/outputs/ap-duckdb-q6-customer-step3.zip'"
      ]
     },
     "execution_count": 13,
     "metadata": {},
     "output_type": "execute_result"
    }
   ],
   "source": [
    "# zip the OUTPUT_DIR\n",
    "shutil.make_archive(OUTPUT_DIR, 'zip', OUTPUT_DIR)"
   ]
  }
 ],
 "metadata": {
  "kernelspec": {
   "display_name": ".venv",
   "language": "python",
   "name": "python3"
  },
  "language_info": {
   "codemirror_mode": {
    "name": "ipython",
    "version": 3
   },
   "file_extension": ".py",
   "mimetype": "text/x-python",
   "name": "python",
   "nbconvert_exporter": "python",
   "pygments_lexer": "ipython3",
   "version": "3.11.7"
  },
  "papermill": {
   "default_parameters": {},
   "duration": 1.229074,
   "end_time": "2025-05-01T08:19:33.308564",
   "environment_variables": {},
   "exception": null,
   "input_path": "autopac-duckdb-step3.ipynb",
   "output_path": "./ap-duckdb-q6-customer-step3.ipynb",
   "parameters": {
    "EXPERIMENT": "ap-duckdb-q6-customer",
    "INDEX_COLS": [],
    "INPUT_ZIP": "./outputs/ap-duckdb-q6-customer-step2.zip",
    "OUTPUT_COLS": [
     "revenue"
    ],
    "OUTPUT_DIR": "./outputs/ap-duckdb-q6-customer-step3",
    "templatedf_path": "./outputs/ap-duckdb-q6-customer-step1/template.pkl"
   },
   "start_time": "2025-05-01T08:19:32.079490",
   "version": "2.6.0"
  }
 },
 "nbformat": 4,
 "nbformat_minor": 5
}