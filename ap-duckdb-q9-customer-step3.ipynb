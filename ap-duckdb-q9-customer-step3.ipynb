{
 "cells": [
  {
   "cell_type": "code",
   "execution_count": 1,
   "id": "eba650e4",
   "metadata": {
    "execution": {
     "iopub.execute_input": "2025-05-01T08:54:46.621022Z",
     "iopub.status.busy": "2025-05-01T08:54:46.620824Z",
     "iopub.status.idle": "2025-05-01T08:54:46.663697Z",
     "shell.execute_reply": "2025-05-01T08:54:46.663371Z"
    },
    "papermill": {
     "duration": 0.047023,
     "end_time": "2025-05-01T08:54:46.664772",
     "exception": false,
     "start_time": "2025-05-01T08:54:46.617749",
     "status": "completed"
    },
    "tags": []
   },
   "outputs": [],
   "source": [
    "#!/usr/bin/env python\n",
    "# coding: utf-8\n",
    "\n",
    "import json\n",
    "import os\n",
    "import pickle\n",
    "import shutil\n",
    "import zipfile\n",
    "\n",
    "import parse\n",
    "import polars as pl"
   ]
  },
  {
   "cell_type": "code",
   "execution_count": 2,
   "id": "5bbee7d0",
   "metadata": {
    "execution": {
     "iopub.execute_input": "2025-05-01T08:54:46.668085Z",
     "iopub.status.busy": "2025-05-01T08:54:46.667968Z",
     "iopub.status.idle": "2025-05-01T08:54:46.669924Z",
     "shell.execute_reply": "2025-05-01T08:54:46.669688Z"
    },
    "papermill": {
     "duration": 0.00415,
     "end_time": "2025-05-01T08:54:46.670598",
     "exception": false,
     "start_time": "2025-05-01T08:54:46.666448",
     "status": "completed"
    },
    "tags": [
     "parameters"
    ]
   },
   "outputs": [],
   "source": [
    "#EXPERIMENT = \"asdf\"\n",
    "#INPUT_ZIP = f\"./outputs/{EXPERIMENT}-step2.zip\"\n",
    "#OUTPUT_DIR = f\"./outputs/{EXPERIMENT}-step3\"\n",
    "#INDEX_COLS = pickle.load(open(f'./outputs/{EXPERIMENT}-step1/INDEX_COLS.pkl', 'rb'))\n",
    "#OUTPUT_COLS = pickle.load(open(f'./outputs/{EXPERIMENT}-step1/OUTPUT_COLS.pkl', 'rb'))\n",
    "#templatedf_path = f\"./outputs/{EXPERIMENT}-step2/templatedf.csv\"\n",
    "EXPERIMENT = \"\"\n",
    "INPUT_ZIP = \"\"\n",
    "OUTPUT_DIR = \"\"\n",
    "INDEX_COLS = []\n",
    "OUTPUT_COLS = []\n",
    "templatedf_path = \"\""
   ]
  },
  {
   "cell_type": "code",
   "execution_count": 3,
   "id": "5ca7269d",
   "metadata": {
    "execution": {
     "iopub.execute_input": "2025-05-01T08:54:46.673361Z",
     "iopub.status.busy": "2025-05-01T08:54:46.673257Z",
     "iopub.status.idle": "2025-05-01T08:54:46.675179Z",
     "shell.execute_reply": "2025-05-01T08:54:46.674919Z"
    },
    "papermill": {
     "duration": 0.004126,
     "end_time": "2025-05-01T08:54:46.675886",
     "exception": false,
     "start_time": "2025-05-01T08:54:46.671760",
     "status": "completed"
    },
    "tags": [
     "injected-parameters"
    ]
   },
   "outputs": [],
   "source": [
    "# Parameters\n",
    "EXPERIMENT = \"ap-duckdb-q9-customer\"\n",
    "OUTPUT_DIR = \"./outputs/ap-duckdb-q9-customer-step3\"\n",
    "INPUT_ZIP = \"./outputs/ap-duckdb-q9-customer-step2.zip\"\n",
    "INDEX_COLS = [\"nation\", \"o_year\"]\n",
    "OUTPUT_COLS = [\"sum_profit\"]\n",
    "templatedf_path = \"./outputs/ap-duckdb-q9-customer-step1/template.pkl\"\n"
   ]
  },
  {
   "cell_type": "code",
   "execution_count": 4,
   "id": "7eeff702",
   "metadata": {
    "execution": {
     "iopub.execute_input": "2025-05-01T08:54:46.678697Z",
     "iopub.status.busy": "2025-05-01T08:54:46.678579Z",
     "iopub.status.idle": "2025-05-01T08:54:46.680485Z",
     "shell.execute_reply": "2025-05-01T08:54:46.680221Z"
    },
    "papermill": {
     "duration": 0.00407,
     "end_time": "2025-05-01T08:54:46.681147",
     "exception": false,
     "start_time": "2025-05-01T08:54:46.677077",
     "status": "completed"
    },
    "tags": []
   },
   "outputs": [],
   "source": [
    "INDEX_COLS = INDEX_COLS or [\"\"] # if no index cols are provided, then we make one up with empty string name in step 1\n",
    "\n",
    "if not os.path.exists(OUTPUT_DIR):\n",
    "    os.makedirs(OUTPUT_DIR)"
   ]
  },
  {
   "cell_type": "code",
   "execution_count": 5,
   "id": "257dec28",
   "metadata": {
    "execution": {
     "iopub.execute_input": "2025-05-01T08:54:46.683722Z",
     "iopub.status.busy": "2025-05-01T08:54:46.683622Z",
     "iopub.status.idle": "2025-05-01T08:54:46.685569Z",
     "shell.execute_reply": "2025-05-01T08:54:46.685335Z"
    },
    "papermill": {
     "duration": 0.003898,
     "end_time": "2025-05-01T08:54:46.686197",
     "exception": false,
     "start_time": "2025-05-01T08:54:46.682299",
     "status": "completed"
    },
    "tags": []
   },
   "outputs": [],
   "source": [
    "# Import saved variables from the first step\n",
    "templatedf: pl.DataFrame = pickle.load(open(templatedf_path, 'rb'))"
   ]
  },
  {
   "cell_type": "code",
   "execution_count": 6,
   "id": "ab3a80fe",
   "metadata": {
    "execution": {
     "iopub.execute_input": "2025-05-01T08:54:46.688901Z",
     "iopub.status.busy": "2025-05-01T08:54:46.688788Z",
     "iopub.status.idle": "2025-05-01T08:54:46.696094Z",
     "shell.execute_reply": "2025-05-01T08:54:46.695844Z"
    },
    "papermill": {
     "duration": 0.009391,
     "end_time": "2025-05-01T08:54:46.696748",
     "exception": false,
     "start_time": "2025-05-01T08:54:46.687357",
     "status": "completed"
    },
    "tags": []
   },
   "outputs": [
    {
     "data": {
      "text/plain": [
       "dict_keys([115, 142, 154, 103, 20, 98, 77, 139, 61, 36, 119, 41, 16, 158, 57, 174, 94, 123, 82, 6, 135, 162, 163, 7, 83, 134, 95, 122, 56, 159, 17, 118, 40, 37, 138, 60, 99, 76, 21, 102, 155, 143, 114, 47, 148, 10, 109, 51, 172, 92, 125, 84, 0, 133, 164, 113, 144, 152, 105, 26, 129, 71, 88, 67, 168, 30, 169, 31, 89, 66, 128, 70, 27, 104, 153, 145, 112, 165, 1, 85, 132, 93, 124, 173, 108, 50, 149, 11, 46, 166, 69, 131, 2, 86, 127, 90, 28, 170, 53, 12, 45, 32, 65, 73, 24, 107, 150, 146, 49, 111, 48, 110, 147, 151, 106, 25, 72, 64, 33, 44, 13, 52, 29, 171, 126, 91, 68, 130, 87, 3, 167, 34, 63, 8, 75, 22, 59, 101, 156, 18, 140, 117, 38, 160, 137, 4, 80, 79, 121, 96, 55, 14, 43, 42, 15, 54, 78, 120, 97, 136, 81, 5, 39, 161, 116, 19, 141, 157, 58, 100, 23, 74, 62, 9, 35])"
      ]
     },
     "execution_count": 6,
     "metadata": {},
     "output_type": "execute_result"
    }
   ],
   "source": [
    "# load the json input files from step 2\n",
    "# {'col': column name as string,\n",
    "#  'row': group-by column values as dict (effectively a row id),\n",
    "#  'values': [ 1000x values ] }\n",
    "alldata = {}\n",
    "\n",
    "pattern = parse.compile(\"{n}.json\")\n",
    "\n",
    "with zipfile.ZipFile(INPUT_ZIP, 'r') as zf:\n",
    "    for filename in zf.namelist():\n",
    "        if filename.endswith('.json'):\n",
    "            with zf.open(filename) as f:\n",
    "                filenumber = int(pattern.parse(filename).named['n'])\n",
    "                data = json.load(f)\n",
    "                d: dict = data\n",
    "                alldata[filenumber] = d\n",
    "alldata.keys()"
   ]
  },
  {
   "cell_type": "code",
   "execution_count": 7,
   "id": "fa47deff",
   "metadata": {
    "execution": {
     "iopub.execute_input": "2025-05-01T08:54:46.699621Z",
     "iopub.status.busy": "2025-05-01T08:54:46.699451Z",
     "iopub.status.idle": "2025-05-01T08:54:46.716075Z",
     "shell.execute_reply": "2025-05-01T08:54:46.715831Z"
    },
    "papermill": {
     "duration": 0.018762,
     "end_time": "2025-05-01T08:54:46.716854",
     "exception": false,
     "start_time": "2025-05-01T08:54:46.698092",
     "status": "completed"
    },
    "tags": []
   },
   "outputs": [],
   "source": [
    "# Make sure the data types of the row fields are correct\n",
    "for i in range(len(alldata)):\n",
    "    alldata[i]['row'] = pl.DataFrame(alldata[i]['row']).cast(templatedf.select(INDEX_COLS).schema).to_dicts()[0]"
   ]
  },
  {
   "cell_type": "code",
   "execution_count": 8,
   "id": "1d086fc3",
   "metadata": {
    "execution": {
     "iopub.execute_input": "2025-05-01T08:54:46.719603Z",
     "iopub.status.busy": "2025-05-01T08:54:46.719502Z",
     "iopub.status.idle": "2025-05-01T08:54:46.721986Z",
     "shell.execute_reply": "2025-05-01T08:54:46.721771Z"
    },
    "papermill": {
     "duration": 0.004518,
     "end_time": "2025-05-01T08:54:46.722634",
     "exception": false,
     "start_time": "2025-05-01T08:54:46.718116",
     "status": "completed"
    },
    "tags": []
   },
   "outputs": [
    {
     "data": {
      "text/html": [
       "<div><style>\n",
       ".dataframe > thead > tr,\n",
       ".dataframe > tbody > tr {\n",
       "  text-align: right;\n",
       "  white-space: pre-wrap;\n",
       "}\n",
       "</style>\n",
       "<small>shape: (175, 2)</small><table border=\"1\" class=\"dataframe\"><thead><tr><th>nation</th><th>o_year</th></tr><tr><td>str</td><td>i64</td></tr></thead><tbody><tr><td>&quot;ALGERIA&quot;</td><td>1998</td></tr><tr><td>&quot;ALGERIA&quot;</td><td>1997</td></tr><tr><td>&quot;ALGERIA&quot;</td><td>1996</td></tr><tr><td>&quot;ALGERIA&quot;</td><td>1995</td></tr><tr><td>&quot;ALGERIA&quot;</td><td>1994</td></tr><tr><td>&hellip;</td><td>&hellip;</td></tr><tr><td>&quot;VIETNAM&quot;</td><td>1996</td></tr><tr><td>&quot;VIETNAM&quot;</td><td>1995</td></tr><tr><td>&quot;VIETNAM&quot;</td><td>1994</td></tr><tr><td>&quot;VIETNAM&quot;</td><td>1993</td></tr><tr><td>&quot;VIETNAM&quot;</td><td>1992</td></tr></tbody></table></div>"
      ],
      "text/plain": [
       "shape: (175, 2)\n",
       "┌─────────┬────────┐\n",
       "│ nation  ┆ o_year │\n",
       "│ ---     ┆ ---    │\n",
       "│ str     ┆ i64    │\n",
       "╞═════════╪════════╡\n",
       "│ ALGERIA ┆ 1998   │\n",
       "│ ALGERIA ┆ 1997   │\n",
       "│ ALGERIA ┆ 1996   │\n",
       "│ ALGERIA ┆ 1995   │\n",
       "│ ALGERIA ┆ 1994   │\n",
       "│ …       ┆ …      │\n",
       "│ VIETNAM ┆ 1996   │\n",
       "│ VIETNAM ┆ 1995   │\n",
       "│ VIETNAM ┆ 1994   │\n",
       "│ VIETNAM ┆ 1993   │\n",
       "│ VIETNAM ┆ 1992   │\n",
       "└─────────┴────────┘"
      ]
     },
     "execution_count": 8,
     "metadata": {},
     "output_type": "execute_result"
    }
   ],
   "source": [
    "allgroups = templatedf.select(INDEX_COLS)\n",
    "allgroups"
   ]
  },
  {
   "cell_type": "code",
   "execution_count": 9,
   "id": "0b249a7b",
   "metadata": {
    "execution": {
     "iopub.execute_input": "2025-05-01T08:54:46.725515Z",
     "iopub.status.busy": "2025-05-01T08:54:46.725421Z",
     "iopub.status.idle": "2025-05-01T08:54:46.744014Z",
     "shell.execute_reply": "2025-05-01T08:54:46.743803Z"
    },
    "papermill": {
     "duration": 0.02073,
     "end_time": "2025-05-01T08:54:46.744659",
     "exception": false,
     "start_time": "2025-05-01T08:54:46.723929",
     "status": "completed"
    },
    "tags": []
   },
   "outputs": [
    {
     "name": "stdout",
     "output_type": "stream",
     "text": [
      "{'nation': 'ALGERIA', 'o_year': 1998}\n",
      "{'nation': 'ALGERIA', 'o_year': 1997}\n",
      "{'nation': 'ALGERIA', 'o_year': 1996}\n",
      "{'nation': 'ALGERIA', 'o_year': 1995}\n",
      "{'nation': 'ALGERIA', 'o_year': 1994}\n",
      "{'nation': 'ALGERIA', 'o_year': 1993}\n",
      "{'nation': 'ALGERIA', 'o_year': 1992}\n",
      "{'nation': 'ARGENTINA', 'o_year': 1998}\n",
      "{'nation': 'ARGENTINA', 'o_year': 1997}\n",
      "{'nation': 'ARGENTINA', 'o_year': 1996}\n",
      "{'nation': 'ARGENTINA', 'o_year': 1995}\n",
      "{'nation': 'ARGENTINA', 'o_year': 1994}\n",
      "{'nation': 'ARGENTINA', 'o_year': 1993}\n",
      "{'nation': 'ARGENTINA', 'o_year': 1992}\n",
      "{'nation': 'BRAZIL', 'o_year': 1998}\n",
      "{'nation': 'BRAZIL', 'o_year': 1997}\n",
      "{'nation': 'BRAZIL', 'o_year': 1996}\n",
      "{'nation': 'BRAZIL', 'o_year': 1995}\n",
      "{'nation': 'BRAZIL', 'o_year': 1994}\n",
      "{'nation': 'BRAZIL', 'o_year': 1993}\n",
      "{'nation': 'BRAZIL', 'o_year': 1992}\n",
      "{'nation': 'CANADA', 'o_year': 1998}\n",
      "{'nation': 'CANADA', 'o_year': 1997}\n",
      "{'nation': 'CANADA', 'o_year': 1996}\n",
      "{'nation': 'CANADA', 'o_year': 1995}\n",
      "{'nation': 'CANADA', 'o_year': 1994}\n",
      "{'nation': 'CANADA', 'o_year': 1993}\n",
      "{'nation': 'CANADA', 'o_year': 1992}\n",
      "{'nation': 'CHINA', 'o_year': 1998}\n",
      "{'nation': 'CHINA', 'o_year': 1997}\n",
      "{'nation': 'CHINA', 'o_year': 1996}\n",
      "{'nation': 'CHINA', 'o_year': 1995}\n",
      "{'nation': 'CHINA', 'o_year': 1994}\n",
      "{'nation': 'CHINA', 'o_year': 1993}\n",
      "{'nation': 'CHINA', 'o_year': 1992}\n",
      "{'nation': 'EGYPT', 'o_year': 1998}\n",
      "{'nation': 'EGYPT', 'o_year': 1997}\n",
      "{'nation': 'EGYPT', 'o_year': 1996}\n",
      "{'nation': 'EGYPT', 'o_year': 1995}\n",
      "{'nation': 'EGYPT', 'o_year': 1994}\n",
      "{'nation': 'EGYPT', 'o_year': 1993}\n",
      "{'nation': 'EGYPT', 'o_year': 1992}\n",
      "{'nation': 'ETHIOPIA', 'o_year': 1998}\n",
      "{'nation': 'ETHIOPIA', 'o_year': 1997}\n",
      "{'nation': 'ETHIOPIA', 'o_year': 1996}\n",
      "{'nation': 'ETHIOPIA', 'o_year': 1995}\n",
      "{'nation': 'ETHIOPIA', 'o_year': 1994}\n",
      "{'nation': 'ETHIOPIA', 'o_year': 1993}\n",
      "{'nation': 'ETHIOPIA', 'o_year': 1992}\n",
      "{'nation': 'FRANCE', 'o_year': 1998}\n",
      "{'nation': 'FRANCE', 'o_year': 1997}\n",
      "{'nation': 'FRANCE', 'o_year': 1996}\n",
      "{'nation': 'FRANCE', 'o_year': 1995}\n",
      "{'nation': 'FRANCE', 'o_year': 1994}\n",
      "{'nation': 'FRANCE', 'o_year': 1993}\n",
      "{'nation': 'FRANCE', 'o_year': 1992}\n",
      "{'nation': 'GERMANY', 'o_year': 1998}\n",
      "{'nation': 'GERMANY', 'o_year': 1997}\n",
      "{'nation': 'GERMANY', 'o_year': 1996}\n",
      "{'nation': 'GERMANY', 'o_year': 1995}\n",
      "{'nation': 'GERMANY', 'o_year': 1994}\n",
      "{'nation': 'GERMANY', 'o_year': 1993}\n",
      "{'nation': 'GERMANY', 'o_year': 1992}\n",
      "{'nation': 'INDIA', 'o_year': 1998}\n",
      "{'nation': 'INDIA', 'o_year': 1997}\n",
      "{'nation': 'INDIA', 'o_year': 1996}\n",
      "{'nation': 'INDIA', 'o_year': 1995}\n",
      "{'nation': 'INDIA', 'o_year': 1994}\n",
      "{'nation': 'INDIA', 'o_year': 1993}\n",
      "{'nation': 'INDIA', 'o_year': 1992}\n",
      "{'nation': 'INDONESIA', 'o_year': 1998}\n",
      "{'nation': 'INDONESIA', 'o_year': 1997}\n",
      "{'nation': 'INDONESIA', 'o_year': 1996}\n",
      "{'nation': 'INDONESIA', 'o_year': 1995}\n",
      "{'nation': 'INDONESIA', 'o_year': 1994}\n",
      "{'nation': 'INDONESIA', 'o_year': 1993}\n",
      "{'nation': 'INDONESIA', 'o_year': 1992}\n",
      "{'nation': 'IRAN', 'o_year': 1998}\n",
      "{'nation': 'IRAN', 'o_year': 1997}\n",
      "{'nation': 'IRAN', 'o_year': 1996}\n",
      "{'nation': 'IRAN', 'o_year': 1995}\n",
      "{'nation': 'IRAN', 'o_year': 1994}\n",
      "{'nation': 'IRAN', 'o_year': 1993}\n",
      "{'nation': 'IRAN', 'o_year': 1992}\n",
      "{'nation': 'IRAQ', 'o_year': 1998}\n",
      "{'nation': 'IRAQ', 'o_year': 1997}\n",
      "{'nation': 'IRAQ', 'o_year': 1996}\n",
      "{'nation': 'IRAQ', 'o_year': 1995}\n",
      "{'nation': 'IRAQ', 'o_year': 1994}\n",
      "{'nation': 'IRAQ', 'o_year': 1993}\n",
      "{'nation': 'IRAQ', 'o_year': 1992}\n",
      "{'nation': 'JAPAN', 'o_year': 1998}\n",
      "{'nation': 'JAPAN', 'o_year': 1997}\n",
      "{'nation': 'JAPAN', 'o_year': 1996}\n",
      "{'nation': 'JAPAN', 'o_year': 1995}\n",
      "{'nation': 'JAPAN', 'o_year': 1994}\n",
      "{'nation': 'JAPAN', 'o_year': 1993}\n",
      "{'nation': 'JAPAN', 'o_year': 1992}\n",
      "{'nation': 'JORDAN', 'o_year': 1998}\n",
      "{'nation': 'JORDAN', 'o_year': 1997}\n",
      "{'nation': 'JORDAN', 'o_year': 1996}\n",
      "{'nation': 'JORDAN', 'o_year': 1995}\n",
      "{'nation': 'JORDAN', 'o_year': 1994}\n",
      "{'nation': 'JORDAN', 'o_year': 1993}\n",
      "{'nation': 'JORDAN', 'o_year': 1992}\n",
      "{'nation': 'KENYA', 'o_year': 1998}\n",
      "{'nation': 'KENYA', 'o_year': 1997}\n",
      "{'nation': 'KENYA', 'o_year': 1996}\n",
      "{'nation': 'KENYA', 'o_year': 1995}\n",
      "{'nation': 'KENYA', 'o_year': 1994}\n",
      "{'nation': 'KENYA', 'o_year': 1993}\n",
      "{'nation': 'KENYA', 'o_year': 1992}\n",
      "{'nation': 'MOROCCO', 'o_year': 1998}\n",
      "{'nation': 'MOROCCO', 'o_year': 1997}\n",
      "{'nation': 'MOROCCO', 'o_year': 1996}\n",
      "{'nation': 'MOROCCO', 'o_year': 1995}\n",
      "{'nation': 'MOROCCO', 'o_year': 1994}\n",
      "{'nation': 'MOROCCO', 'o_year': 1993}\n",
      "{'nation': 'MOROCCO', 'o_year': 1992}\n",
      "{'nation': 'MOZAMBIQUE', 'o_year': 1998}\n",
      "{'nation': 'MOZAMBIQUE', 'o_year': 1997}\n",
      "{'nation': 'MOZAMBIQUE', 'o_year': 1996}\n",
      "{'nation': 'MOZAMBIQUE', 'o_year': 1995}\n",
      "{'nation': 'MOZAMBIQUE', 'o_year': 1994}\n",
      "{'nation': 'MOZAMBIQUE', 'o_year': 1993}\n",
      "{'nation': 'MOZAMBIQUE', 'o_year': 1992}\n",
      "{'nation': 'PERU', 'o_year': 1998}\n",
      "{'nation': 'PERU', 'o_year': 1997}\n",
      "{'nation': 'PERU', 'o_year': 1996}\n",
      "{'nation': 'PERU', 'o_year': 1995}\n",
      "{'nation': 'PERU', 'o_year': 1994}\n",
      "{'nation': 'PERU', 'o_year': 1993}\n",
      "{'nation': 'PERU', 'o_year': 1992}\n",
      "{'nation': 'ROMANIA', 'o_year': 1998}\n",
      "{'nation': 'ROMANIA', 'o_year': 1997}\n",
      "{'nation': 'ROMANIA', 'o_year': 1996}\n",
      "{'nation': 'ROMANIA', 'o_year': 1995}\n",
      "{'nation': 'ROMANIA', 'o_year': 1994}\n",
      "{'nation': 'ROMANIA', 'o_year': 1993}\n",
      "{'nation': 'ROMANIA', 'o_year': 1992}\n",
      "{'nation': 'RUSSIA', 'o_year': 1998}\n",
      "{'nation': 'RUSSIA', 'o_year': 1997}\n",
      "{'nation': 'RUSSIA', 'o_year': 1996}\n",
      "{'nation': 'RUSSIA', 'o_year': 1995}\n",
      "{'nation': 'RUSSIA', 'o_year': 1994}\n",
      "{'nation': 'RUSSIA', 'o_year': 1993}\n",
      "{'nation': 'RUSSIA', 'o_year': 1992}\n",
      "{'nation': 'SAUDI ARABIA', 'o_year': 1998}\n",
      "{'nation': 'SAUDI ARABIA', 'o_year': 1997}\n",
      "{'nation': 'SAUDI ARABIA', 'o_year': 1996}\n",
      "{'nation': 'SAUDI ARABIA', 'o_year': 1995}\n",
      "{'nation': 'SAUDI ARABIA', 'o_year': 1994}\n",
      "{'nation': 'SAUDI ARABIA', 'o_year': 1993}\n",
      "{'nation': 'SAUDI ARABIA', 'o_year': 1992}\n",
      "{'nation': 'UNITED KINGDOM', 'o_year': 1998}\n",
      "{'nation': 'UNITED KINGDOM', 'o_year': 1997}\n",
      "{'nation': 'UNITED KINGDOM', 'o_year': 1996}\n",
      "{'nation': 'UNITED KINGDOM', 'o_year': 1995}\n",
      "{'nation': 'UNITED KINGDOM', 'o_year': 1994}\n",
      "{'nation': 'UNITED KINGDOM', 'o_year': 1993}\n",
      "{'nation': 'UNITED KINGDOM', 'o_year': 1992}\n",
      "{'nation': 'UNITED STATES', 'o_year': 1998}\n",
      "{'nation': 'UNITED STATES', 'o_year': 1997}\n",
      "{'nation': 'UNITED STATES', 'o_year': 1996}\n",
      "{'nation': 'UNITED STATES', 'o_year': 1995}\n",
      "{'nation': 'UNITED STATES', 'o_year': 1994}\n",
      "{'nation': 'UNITED STATES', 'o_year': 1993}\n",
      "{'nation': 'UNITED STATES', 'o_year': 1992}\n",
      "{'nation': 'VIETNAM', 'o_year': 1998}\n",
      "{'nation': 'VIETNAM', 'o_year': 1997}\n",
      "{'nation': 'VIETNAM', 'o_year': 1996}\n",
      "{'nation': 'VIETNAM', 'o_year': 1995}\n",
      "{'nation': 'VIETNAM', 'o_year': 1994}\n",
      "{'nation': 'VIETNAM', 'o_year': 1993}\n",
      "{'nation': 'VIETNAM', 'o_year': 1992}\n"
     ]
    }
   ],
   "source": [
    "# Cursed data shuffling to reidentify what row goes where, what column goes where, and what the labels should be on everything\n",
    "colidxes = {}\n",
    "for col in OUTPUT_COLS:\n",
    "    colidxes[col] = templatedf.get_column_index(col)\n",
    "rowidxes = {}\n",
    "for row in templatedf.select(INDEX_COLS).iter_rows(named=True):\n",
    "    rowidxes[tuple(row.values())] = allgroups.with_row_index().filter(\n",
    "        pl.col(k).eq(v)\n",
    "        for k, v in row.items()\n",
    "    ).select(\"index\").item()\n",
    "    print(row)\n",
    "\n",
    "allinfo = [\n",
    "    {\"colname\": adentry['col'],\n",
    "    \"rowid\": tuple(adentry['row'].values()),\n",
    "    \"value\": adentry['value'][0],\n",
    "    \"colidx\": colidxes[adentry['col']],\n",
    "    \"rowidx\": rowidxes[tuple(adentry['row'].values())]}\n",
    "    for adidx, adentry in alldata.items()\n",
    "]\n",
    "\n",
    "colnames = {}\n",
    "rownames = {}\n",
    "for entry in allinfo:\n",
    "    colnames[entry['colidx']] = entry['colname']\n",
    "    rownames[entry['rowidx']] = entry['rowid']"
   ]
  },
  {
   "cell_type": "markdown",
   "id": "61e58b37",
   "metadata": {
    "papermill": {
     "duration": 0.001187,
     "end_time": "2025-05-01T08:54:46.747201",
     "exception": false,
     "start_time": "2025-05-01T08:54:46.746014",
     "status": "completed"
    },
    "tags": []
   },
   "source": [
    "Naive reconstruction"
   ]
  },
  {
   "cell_type": "code",
   "execution_count": 10,
   "id": "c6da70b0",
   "metadata": {
    "execution": {
     "iopub.execute_input": "2025-05-01T08:54:46.750011Z",
     "iopub.status.busy": "2025-05-01T08:54:46.749909Z",
     "iopub.status.idle": "2025-05-01T08:54:46.803874Z",
     "shell.execute_reply": "2025-05-01T08:54:46.798717Z"
    },
    "papermill": {
     "duration": 0.058476,
     "end_time": "2025-05-01T08:54:46.806863",
     "exception": false,
     "start_time": "2025-05-01T08:54:46.748387",
     "status": "completed"
    },
    "tags": []
   },
   "outputs": [
    {
     "name": "stdout",
     "output_type": "stream",
     "text": [
      "['nation', 'o_year', 'sum_profit']\n",
      "['ALGERIA', 1998, 786167.5160316498]\n",
      "['ALGERIA', 1997, 1792640.498654827]\n",
      "['ALGERIA', 1996, 1771126.4985583997]\n",
      "['ALGERIA', 1995, 2335994.3030150593]\n",
      "['ALGERIA', 1994, 1701953.5640502202]\n",
      "['ALGERIA', 1993, 1907427.5977554666]\n",
      "['ALGERIA', 1992, 1909404.2500511943]\n",
      "['ARGENTINA', 1998, 1261378.3868255268]\n",
      "['ARGENTINA', 1997, 2612503.293244797]\n",
      "['ARGENTINA', 1996, 3026761.1213749573]\n",
      "['ARGENTINA', 1995, 2492367.845750657]\n",
      "['ARGENTINA', 1994, 1172221.0907070204]\n",
      "['ARGENTINA', 1993, 2108785.2284152796]\n",
      "['ARGENTINA', 1992, 2571396.2680789977]\n",
      "['BRAZIL', 1998, 1718074.471984651]\n",
      "['BRAZIL', 1997, 2269677.7492079325]\n",
      "['BRAZIL', 1996, 2105743.713220573]\n",
      "['BRAZIL', 1995, 1587289.7301208787]\n",
      "['BRAZIL', 1994, 2967580.953208946]\n",
      "['BRAZIL', 1993, 1991285.4071051974]\n",
      "['BRAZIL', 1992, 1983421.7926812293]\n",
      "['CANADA', 1998, 869294.2054759802]\n",
      "['CANADA', 1997, 1291879.6468158094]\n",
      "['CANADA', 1996, 2277738.1291544875]\n",
      "['CANADA', 1995, 2017243.905785383]\n",
      "['CANADA', 1994, 2296828.966305896]\n",
      "['CANADA', 1993, 2235100.465098781]\n",
      "['CANADA', 1992, 1531936.904381405]\n",
      "['CHINA', 1998, 1342467.6342025138]\n",
      "['CHINA', 1997, 2664717.905560482]\n",
      "['CHINA', 1996, 3273504.318429142]\n",
      "['CHINA', 1995, 3495730.2478584438]\n",
      "['CHINA', 1994, 3616085.612928254]\n",
      "['CHINA', 1993, 3757976.2312089354]\n",
      "['CHINA', 1992, 3479158.0451018782]\n",
      "['EGYPT', 1998, 865920.0832385131]\n",
      "['EGYPT', 1997, 1592062.5822338143]\n",
      "['EGYPT', 1996, 1249900.4519747011]\n",
      "['EGYPT', 1995, 1899667.490736105]\n",
      "['EGYPT', 1994, 2126870.857387077]\n",
      "['EGYPT', 1993, 2215081.413453211]\n",
      "['EGYPT', 1992, 2099633.994820591]\n",
      "['ETHIOPIA', 1998, 1171676.5359464067]\n",
      "['ETHIOPIA', 1997, 1306017.816874622]\n",
      "['ETHIOPIA', 1996, 1687957.3629917384]\n",
      "['ETHIOPIA', 1995, 2070420.105823923]\n",
      "['ETHIOPIA', 1994, 1755831.3900513481]\n",
      "['ETHIOPIA', 1993, 1519897.631961607]\n",
      "['ETHIOPIA', 1992, 1475170.8057086342]\n",
      "['FRANCE', 1998, 1338214.5393422758]\n",
      "['FRANCE', 1997, 1966975.870025194]\n",
      "['FRANCE', 1996, 2010127.8090262823]\n",
      "['FRANCE', 1995, 2596351.0494437497]\n",
      "['FRANCE', 1994, 1912831.297799198]\n",
      "['FRANCE', 1993, 2539948.923382117]\n",
      "['FRANCE', 1992, 1498413.613395172]\n",
      "['GERMANY', 1998, 1455221.958374037]\n",
      "['GERMANY', 1997, 2110789.3713423978]\n",
      "['GERMANY', 1996, 2594365.9297499014]\n",
      "['GERMANY', 1995, 3055995.4574923567]\n",
      "['GERMANY', 1994, 2200694.225318333]\n",
      "['GERMANY', 1993, 2069651.1005540479]\n",
      "['GERMANY', 1992, 2938341.65450798]\n",
      "['INDIA', 1998, 1339134.8358987297]\n",
      "['INDIA', 1997, 2586025.242678389]\n",
      "['INDIA', 1996, 2678569.362100721]\n",
      "['INDIA', 1995, 2838335.4677168843]\n",
      "['INDIA', 1994, 1625964.3756402857]\n",
      "['INDIA', 1993, 2372894.425336672]\n",
      "['INDIA', 1992, 2706864.7693034518]\n",
      "['INDONESIA', 1998, 1924822.4612228388]\n",
      "['INDONESIA', 1997, 2209932.461509966]\n",
      "['INDONESIA', 1996, 3090855.0328359273]\n",
      "['INDONESIA', 1995, 2230711.8717662683]\n",
      "['INDONESIA', 1994, 3236839.8283352875]\n",
      "['INDONESIA', 1993, 3020119.9123104447]\n",
      "['INDONESIA', 1992, 2618574.1393570206]\n",
      "['IRAN', 1998, 1322101.4085367986]\n",
      "['IRAN', 1997, 1276096.3463417566]\n",
      "['IRAN', 1996, 1817770.8921094364]\n",
      "['IRAN', 1995, 1959998.0556517735]\n",
      "['IRAN', 1994, 2182552.4276683084]\n",
      "['IRAN', 1993, 1815819.953509719]\n",
      "['IRAN', 1992, 2633841.769450008]\n",
      "['IRAQ', 1998, 1369627.3766209013]\n",
      "['IRAQ', 1997, 1663843.1483697542]\n",
      "['IRAQ', 1996, 2561459.2537476383]\n",
      "['IRAQ', 1995, 2249709.9702553544]\n",
      "['IRAQ', 1994, 2806722.743731169]\n",
      "['IRAQ', 1993, 1984526.41321713]\n",
      "['IRAQ', 1992, 1892906.917915699]\n",
      "['JAPAN', 1998, 720981.189206848]\n",
      "['JAPAN', 1997, 2085277.8117385397]\n",
      "['JAPAN', 1996, 2107453.4786298308]\n",
      "['JAPAN', 1995, 2518196.6973765437]\n",
      "['JAPAN', 1994, 1891696.8703680194]\n",
      "['JAPAN', 1993, 1574650.5894004265]\n",
      "['JAPAN', 1992, 2419064.2099325]\n",
      "['JORDAN', 1998, 718234.2899984423]\n",
      "['JORDAN', 1997, 1444306.6356661192]\n",
      "['JORDAN', 1996, 2048018.637130517]\n",
      "['JORDAN', 1995, 1871225.7819306417]\n",
      "['JORDAN', 1994, 825394.0782058358]\n",
      "['JORDAN', 1993, 1965641.2730563013]\n",
      "['JORDAN', 1992, 2202030.585804555]\n",
      "['KENYA', 1998, 1449936.8051211569]\n",
      "['KENYA', 1997, 1028617.7616739725]\n",
      "['KENYA', 1996, 2032439.0942555543]\n",
      "['KENYA', 1995, 1167075.958821082]\n",
      "['KENYA', 1994, 2095167.3196445615]\n",
      "['KENYA', 1993, 1984254.1877918115]\n",
      "['KENYA', 1992, 1860581.0357561698]\n",
      "['MOROCCO', 1998, 1038135.1635932536]\n",
      "['MOROCCO', 1997, 1692594.719582084]\n",
      "['MOROCCO', 1996, 2252925.59178105]\n",
      "['MOROCCO', 1995, 1785171.1784070788]\n",
      "['MOROCCO', 1994, 1709569.7824232676]\n",
      "['MOROCCO', 1993, 2195739.8517886554]\n",
      "['MOROCCO', 1992, 1932784.8552392165]\n",
      "['MOZAMBIQUE', 1998, 801121.1779171776]\n",
      "['MOZAMBIQUE', 1997, 1217196.1203042867]\n",
      "['MOZAMBIQUE', 1996, 1250833.3383227268]\n",
      "['MOZAMBIQUE', 1995, 1485060.6200182983]\n",
      "['MOZAMBIQUE', 1994, 1051291.8485800128]\n",
      "['MOZAMBIQUE', 1993, 1228571.1107010199]\n",
      "['MOZAMBIQUE', 1992, 1195295.2838262382]\n",
      "['PERU', 1998, 1347106.0406761908]\n",
      "['PERU', 1997, 2101775.207104355]\n",
      "['PERU', 1996, 2035230.729851471]\n",
      "['PERU', 1995, 2291390.0600151327]\n",
      "['PERU', 1994, 2503725.1519667828]\n",
      "['PERU', 1993, 2410796.054212313]\n",
      "['PERU', 1992, 1816849.7270897822]\n",
      "['ROMANIA', 1998, 854491.2431397481]\n",
      "['ROMANIA', 1997, 1178254.5923233777]\n",
      "['ROMANIA', 1996, 1551757.972073133]\n",
      "['ROMANIA', 1995, 1792736.068661241]\n",
      "['ROMANIA', 1994, 1522685.654729522]\n",
      "['ROMANIA', 1993, 966130.2956506411]\n",
      "['ROMANIA', 1992, 1949586.0032947476]\n",
      "['RUSSIA', 1998, 1105503.4564802307]\n",
      "['RUSSIA', 1997, 2119787.733997733]\n",
      "['RUSSIA', 1996, 2033899.5074531175]\n",
      "['RUSSIA', 1995, 2523241.0256982143]\n",
      "['RUSSIA', 1994, 1752696.5495635243]\n",
      "['RUSSIA', 1993, 2667733.1632387615]\n",
      "['RUSSIA', 1992, 2204897.501416653]\n",
      "['SAUDI ARABIA', 1998, 2030105.3078699363]\n",
      "['SAUDI ARABIA', 1997, 2853742.7507215273]\n",
      "['SAUDI ARABIA', 1996, 2664729.313005409]\n",
      "['SAUDI ARABIA', 1995, 1920815.9097002086]\n",
      "['SAUDI ARABIA', 1994, 2345616.815703687]\n",
      "['SAUDI ARABIA', 1993, 2500101.168625246]\n",
      "['SAUDI ARABIA', 1992, 2453761.3575380147]\n",
      "['UNITED KINGDOM', 1998, 1036196.5829186377]\n",
      "['UNITED KINGDOM', 1997, 2824665.3369017174]\n",
      "['UNITED KINGDOM', 1996, 1953886.2715558528]\n",
      "['UNITED KINGDOM', 1995, 2057793.509433321]\n",
      "['UNITED KINGDOM', 1994, 1874277.7221875202]\n",
      "['UNITED KINGDOM', 1993, 2513077.4202138023]\n",
      "['UNITED KINGDOM', 1992, 2102060.740821007]\n",
      "['UNITED STATES', 1998, 1246574.037343245]\n",
      "['UNITED STATES', 1997, 2137029.0138467792]\n",
      "['UNITED STATES', 1996, 1913933.4376944157]\n",
      "['UNITED STATES', 1995, 2423850.7052519936]\n",
      "['UNITED STATES', 1994, 1638486.5609518164]\n",
      "['UNITED STATES', 1993, 1314719.7302617962]\n",
      "['UNITED STATES', 1992, 1819856.270110256]\n",
      "['VIETNAM', 1998, 673764.514944929]\n",
      "['VIETNAM', 1997, 1663844.5198435897]\n",
      "['VIETNAM', 1996, 1651122.7410089686]\n",
      "['VIETNAM', 1995, 1290217.1503437618]\n",
      "['VIETNAM', 1994, 2609674.6842670785]\n",
      "['VIETNAM', 1993, 1671397.8171795874]\n",
      "['VIETNAM', 1992, 2063748.4465603903]\n"
     ]
    }
   ],
   "source": [
    "# Naive reconstruction based on the indices of the keys in the templatedf\n",
    "allcols = INDEX_COLS + OUTPUT_COLS\n",
    "allrows = allgroups.select(INDEX_COLS).to_numpy().tolist()\n",
    "\n",
    "allinfo2 = {\n",
    "    (rowidxes[tuple(adentry['row'].values())], colidxes[adentry['col']]): adentry['value'][0]\n",
    "    for adidx, adentry in alldata.items()\n",
    "}\n",
    "\n",
    "df2 = []\n",
    "print(allcols)\n",
    "for row in allrows:\n",
    "    print(row + [allinfo2.get((rowidxes[tuple(row)], colidxes[col]), None) for col in OUTPUT_COLS])\n",
    "    df2.append(row + [allinfo2.get((rowidxes[tuple(row)], colidxes[col]), None) for col in OUTPUT_COLS])"
   ]
  },
  {
   "cell_type": "code",
   "execution_count": 11,
   "id": "396c2efa",
   "metadata": {
    "execution": {
     "iopub.execute_input": "2025-05-01T08:54:46.815181Z",
     "iopub.status.busy": "2025-05-01T08:54:46.814712Z",
     "iopub.status.idle": "2025-05-01T08:54:46.824807Z",
     "shell.execute_reply": "2025-05-01T08:54:46.823984Z"
    },
    "papermill": {
     "duration": 0.015719,
     "end_time": "2025-05-01T08:54:46.827313",
     "exception": false,
     "start_time": "2025-05-01T08:54:46.811594",
     "status": "completed"
    },
    "tags": []
   },
   "outputs": [
    {
     "data": {
      "text/html": [
       "<div><style>\n",
       ".dataframe > thead > tr,\n",
       ".dataframe > tbody > tr {\n",
       "  text-align: right;\n",
       "  white-space: pre-wrap;\n",
       "}\n",
       "</style>\n",
       "<small>shape: (175, 3)</small><table border=\"1\" class=\"dataframe\"><thead><tr><th>nation</th><th>o_year</th><th>sum_profit</th></tr><tr><td>str</td><td>i64</td><td>decimal[38,4]</td></tr></thead><tbody><tr><td>&quot;ALGERIA&quot;</td><td>1998</td><td>786167.5160</td></tr><tr><td>&quot;ALGERIA&quot;</td><td>1997</td><td>1792640.4986</td></tr><tr><td>&quot;ALGERIA&quot;</td><td>1996</td><td>1771126.4985</td></tr><tr><td>&quot;ALGERIA&quot;</td><td>1995</td><td>2335994.3030</td></tr><tr><td>&quot;ALGERIA&quot;</td><td>1994</td><td>1701953.5640</td></tr><tr><td>&hellip;</td><td>&hellip;</td><td>&hellip;</td></tr><tr><td>&quot;VIETNAM&quot;</td><td>1996</td><td>1651122.7410</td></tr><tr><td>&quot;VIETNAM&quot;</td><td>1995</td><td>1290217.1503</td></tr><tr><td>&quot;VIETNAM&quot;</td><td>1994</td><td>2609674.6842</td></tr><tr><td>&quot;VIETNAM&quot;</td><td>1993</td><td>1671397.8171</td></tr><tr><td>&quot;VIETNAM&quot;</td><td>1992</td><td>2063748.4465</td></tr></tbody></table></div>"
      ],
      "text/plain": [
       "shape: (175, 3)\n",
       "┌─────────┬────────┬───────────────┐\n",
       "│ nation  ┆ o_year ┆ sum_profit    │\n",
       "│ ---     ┆ ---    ┆ ---           │\n",
       "│ str     ┆ i64    ┆ decimal[38,4] │\n",
       "╞═════════╪════════╪═══════════════╡\n",
       "│ ALGERIA ┆ 1998   ┆ 786167.5160   │\n",
       "│ ALGERIA ┆ 1997   ┆ 1792640.4986  │\n",
       "│ ALGERIA ┆ 1996   ┆ 1771126.4985  │\n",
       "│ ALGERIA ┆ 1995   ┆ 2335994.3030  │\n",
       "│ ALGERIA ┆ 1994   ┆ 1701953.5640  │\n",
       "│ …       ┆ …      ┆ …             │\n",
       "│ VIETNAM ┆ 1996   ┆ 1651122.7410  │\n",
       "│ VIETNAM ┆ 1995   ┆ 1290217.1503  │\n",
       "│ VIETNAM ┆ 1994   ┆ 2609674.6842  │\n",
       "│ VIETNAM ┆ 1993   ┆ 1671397.8171  │\n",
       "│ VIETNAM ┆ 1992   ┆ 2063748.4465  │\n",
       "└─────────┴────────┴───────────────┘"
      ]
     },
     "execution_count": 11,
     "metadata": {},
     "output_type": "execute_result"
    }
   ],
   "source": [
    "pl.DataFrame(df2, schema=allcols, orient='row').cast(templatedf.schema)"
   ]
  },
  {
   "cell_type": "code",
   "execution_count": 12,
   "id": "22658efb",
   "metadata": {
    "execution": {
     "iopub.execute_input": "2025-05-01T08:54:46.839201Z",
     "iopub.status.busy": "2025-05-01T08:54:46.838600Z",
     "iopub.status.idle": "2025-05-01T08:54:46.851762Z",
     "shell.execute_reply": "2025-05-01T08:54:46.851114Z"
    },
    "papermill": {
     "duration": 0.019173,
     "end_time": "2025-05-01T08:54:46.854118",
     "exception": false,
     "start_time": "2025-05-01T08:54:46.834945",
     "status": "completed"
    },
    "tags": []
   },
   "outputs": [],
   "source": [
    "pl.DataFrame(df2, schema=allcols, orient='row').cast(templatedf.schema).write_csv(os.path.join(OUTPUT_DIR, 'output.csv'))"
   ]
  },
  {
   "cell_type": "code",
   "execution_count": 13,
   "id": "fbf29824",
   "metadata": {
    "execution": {
     "iopub.execute_input": "2025-05-01T08:54:46.862138Z",
     "iopub.status.busy": "2025-05-01T08:54:46.861748Z",
     "iopub.status.idle": "2025-05-01T08:54:46.869119Z",
     "shell.execute_reply": "2025-05-01T08:54:46.868207Z"
    },
    "papermill": {
     "duration": 0.016979,
     "end_time": "2025-05-01T08:54:46.873295",
     "exception": false,
     "start_time": "2025-05-01T08:54:46.856316",
     "status": "completed"
    },
    "tags": []
   },
   "outputs": [
    {
     "data": {
      "text/plain": [
       "'/Users/michael/projects/dpdb/pacdb/outputs/ap-duckdb-q9-customer-step3.zip'"
      ]
     },
     "execution_count": 13,
     "metadata": {},
     "output_type": "execute_result"
    }
   ],
   "source": [
    "# zip the OUTPUT_DIR\n",
    "shutil.make_archive(OUTPUT_DIR, 'zip', OUTPUT_DIR)"
   ]
  }
 ],
 "metadata": {
  "kernelspec": {
   "display_name": ".venv",
   "language": "python",
   "name": "python3"
  },
  "language_info": {
   "codemirror_mode": {
    "name": "ipython",
    "version": 3
   },
   "file_extension": ".py",
   "mimetype": "text/x-python",
   "name": "python",
   "nbconvert_exporter": "python",
   "pygments_lexer": "ipython3",
   "version": "3.11.7"
  },
  "papermill": {
   "default_parameters": {},
   "duration": 1.330778,
   "end_time": "2025-05-01T08:54:47.127605",
   "environment_variables": {},
   "exception": null,
   "input_path": "autopac-duckdb-step3.ipynb",
   "output_path": "./ap-duckdb-q9-customer-step3.ipynb",
   "parameters": {
    "EXPERIMENT": "ap-duckdb-q9-customer",
    "INDEX_COLS": [
     "nation",
     "o_year"
    ],
    "INPUT_ZIP": "./outputs/ap-duckdb-q9-customer-step2.zip",
    "OUTPUT_COLS": [
     "sum_profit"
    ],
    "OUTPUT_DIR": "./outputs/ap-duckdb-q9-customer-step3",
    "templatedf_path": "./outputs/ap-duckdb-q9-customer-step1/template.pkl"
   },
   "start_time": "2025-05-01T08:54:45.796827",
   "version": "2.6.0"
  }
 },
 "nbformat": 4,
 "nbformat_minor": 5
}