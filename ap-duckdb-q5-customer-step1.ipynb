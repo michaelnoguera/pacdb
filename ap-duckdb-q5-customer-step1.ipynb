{
 "cells": [
  {
   "cell_type": "markdown",
   "id": "5215b69c",
   "metadata": {
    "papermill": {
     "duration": 0.002998,
     "end_time": "2025-04-25T05:57:28.106772",
     "exception": false,
     "start_time": "2025-04-25T05:57:28.103774",
     "status": "completed"
    },
    "tags": []
   },
   "source": [
    "## DuckDB Notebook\n",
    "\n",
    "This notebook generates a bunch of raw outputs, without applying PAC, to be consumed by a second stage."
   ]
  },
  {
   "cell_type": "markdown",
   "id": "12d399fe",
   "metadata": {
    "papermill": {
     "duration": 0.00163,
     "end_time": "2025-04-25T05:57:28.110773",
     "exception": false,
     "start_time": "2025-04-25T05:57:28.109143",
     "status": "completed"
    },
    "tags": []
   },
   "source": [
    "```\n",
    " group by              output cols                        \n",
    " key cols ┌────────┬────────┬────────┬────────┐           \n",
    "        │ │   A    │   B    │   C    │   D    │           \n",
    "      ┌─▼─┼────────┼────────┼────────┼────────┤           \n",
    "      │ 1 │   2    │        │        │        │           \n",
    "      ├───┼───|────┼────────┼────────┼────────┤           \n",
    "      │ 2 │   │    │        │        │        │           \n",
    "      ├───┼───┼────┼────────┼────────┼────────┤           \n",
    "      │ 3 │   │    │        │        │        │           \n",
    "      └───┴───┼────┴────────┴────────┴────────┘           \n",
    "              ▼                 A_1.json                  \n",
    "       Sample 0:   A1=2        ┌─────────────────────────┐\n",
    "       Sample 1:   A1=4  ───▶  │{                        │\n",
    "             ...               │    col: A               │\n",
    "       Sample 999: A1=3        │    row: 1               │\n",
    "                               │    value: [2, 4, ... 3] │\n",
    "                               │}                        │\n",
    "                               └─────────────────────────┘\n",
    "```"
   ]
  },
  {
   "cell_type": "code",
   "execution_count": 1,
   "id": "b65efc34",
   "metadata": {
    "execution": {
     "iopub.execute_input": "2025-04-25T05:57:28.114957Z",
     "iopub.status.busy": "2025-04-25T05:57:28.114700Z",
     "iopub.status.idle": "2025-04-25T05:57:28.180451Z",
     "shell.execute_reply": "2025-04-25T05:57:28.180110Z"
    },
    "papermill": {
     "duration": 0.068946,
     "end_time": "2025-04-25T05:57:28.181324",
     "exception": false,
     "start_time": "2025-04-25T05:57:28.112378",
     "status": "completed"
    },
    "tags": []
   },
   "outputs": [],
   "source": [
    "#!/usr/bin/env python\n",
    "# coding: utf-8\n",
    "\n",
    "import os\n",
    "import pickle\n",
    "import shutil\n",
    "\n",
    "import duckdb\n",
    "import polars as pl"
   ]
  },
  {
   "cell_type": "code",
   "execution_count": 2,
   "id": "34d37b5a",
   "metadata": {
    "execution": {
     "iopub.execute_input": "2025-04-25T05:57:28.184528Z",
     "iopub.status.busy": "2025-04-25T05:57:28.184412Z",
     "iopub.status.idle": "2025-04-25T05:57:28.186938Z",
     "shell.execute_reply": "2025-04-25T05:57:28.186722Z"
    },
    "papermill": {
     "duration": 0.004792,
     "end_time": "2025-04-25T05:57:28.187599",
     "exception": false,
     "start_time": "2025-04-25T05:57:28.182807",
     "status": "completed"
    },
    "tags": [
     "parameters"
    ]
   },
   "outputs": [],
   "source": [
    "EXPERIMENT = \"pac-duckdb-q1\"\n",
    "OUTPUT_DIR = f\"./outputs/{EXPERIMENT}-step1\"\n",
    "SAMPLES = 1024\n",
    "\n",
    "SAMPLE_STEP = f\"\"\"\n",
    "DROP TABLE IF EXISTS random_samples;\n",
    "\n",
    "CREATE TABLE random_samples AS\n",
    "WITH sample_numbers AS MATERIALIZED (\n",
    "    SELECT range AS sample_id FROM range({SAMPLES//2})\n",
    "), random_values AS MATERIALIZED (\n",
    "    SELECT \n",
    "        sample_numbers.sample_id,\n",
    "        customer.rowid AS row_id,\n",
    "        (RANDOM() > 0.5)::BOOLEAN AS random_binary\n",
    "    FROM sample_numbers\n",
    "    JOIN customer ON TRUE  -- Cross join to duplicate rows for each sample\n",
    ")\n",
    "SELECT\n",
    "    sample_id,\n",
    "    row_id,\n",
    "    random_binary\n",
    "FROM random_values\n",
    "UNION ALL\n",
    "SELECT -- select the complementary samples too\n",
    "    ({SAMPLES//2}) + sample_id,\n",
    "    row_id,\n",
    "    NOT random_binary  -- Inverse the random_binary to get the complementary sample\n",
    "FROM random_values\n",
    "ORDER BY sample_id, row_id;\n",
    "\"\"\"\n",
    "\n",
    "PREPARE_STEP = \"\"\"\n",
    "DEALLOCATE PREPARE run_query;\n",
    "\n",
    "PREPARE run_query AS \n",
    "SELECT\n",
    "    l_returnflag,\n",
    "    l_linestatus,\n",
    "    2*sum(l_quantity) AS sum_qty,\n",
    "    2*sum(l_extendedprice) AS sum_base_price,\n",
    "    2*sum(l_extendedprice * (1 - l_discount)) AS sum_disc_price,\n",
    "    2*sum(l_extendedprice * (1 - l_discount) * (1 + l_tax)) AS sum_charge,\n",
    "    avg(l_quantity) AS avg_qty,\n",
    "    avg(l_extendedprice) AS avg_price,\n",
    "    avg(l_discount) AS avg_disc,\n",
    "    2*count(*) AS count_order\n",
    "FROM\n",
    "    lineitem\n",
    "JOIN orders ON lineitem.l_orderkey = orders.o_orderkey\n",
    "JOIN customer ON orders.o_custkey = customer.c_custkey\n",
    "JOIN random_samples AS rs\n",
    "    ON rs.row_id = customer.rowid\n",
    "WHERE\n",
    "    l_shipdate <= CAST('1998-09-02' AS date)\n",
    "    AND rs.random_binary = TRUE\n",
    "    AND rs.sample_id = $sample\n",
    "GROUP BY\n",
    "    l_returnflag,\n",
    "    l_linestatus\n",
    "ORDER BY\n",
    "    l_returnflag,\n",
    "    l_linestatus;\n",
    "\"\"\"\n",
    "\n",
    "INDEX_COLS = ['l_returnflag', 'l_linestatus']\n",
    "OUTPUT_COLS = ['sum_qty', 'sum_base_price', 'sum_disc_price', 'sum_charge', 'avg_qty', 'avg_price', 'avg_disc', 'count_order']"
   ]
  },
  {
   "cell_type": "code",
   "execution_count": 3,
   "id": "1f0466ab",
   "metadata": {
    "execution": {
     "iopub.execute_input": "2025-04-25T05:57:28.190481Z",
     "iopub.status.busy": "2025-04-25T05:57:28.190376Z",
     "iopub.status.idle": "2025-04-25T05:57:28.192303Z",
     "shell.execute_reply": "2025-04-25T05:57:28.192107Z"
    },
    "papermill": {
     "duration": 0.004122,
     "end_time": "2025-04-25T05:57:28.192951",
     "exception": false,
     "start_time": "2025-04-25T05:57:28.188829",
     "status": "completed"
    },
    "tags": [
     "injected-parameters"
    ]
   },
   "outputs": [],
   "source": [
    "# Parameters\n",
    "EXPERIMENT = \"ap-duckdb-q5-customer\"\n",
    "OUTPUT_DIR = \"./outputs/ap-duckdb-q5-customer-step1\"\n",
    "SAMPLES = 1024\n",
    "SAMPLE_STEP = \"DROP TABLE IF EXISTS random_samples;\\n\\nCREATE TABLE random_samples AS\\nWITH sample_numbers AS MATERIALIZED (\\n    SELECT range AS sample_id FROM range(1024 // 2)\\n), random_values AS MATERIALIZED (\\n    SELECT \\n        sample_numbers.sample_id,\\n        customer.rowid AS row_id,\\n        (RANDOM() > 0.5)::BOOLEAN AS random_binary\\n    FROM sample_numbers\\n    JOIN customer ON TRUE  -- Cross join to duplicate rows for each sample\\n)\\nSELECT\\n    sample_id,\\n    row_id,\\n    random_binary\\nFROM random_values\\nUNION ALL\\nSELECT -- select the complementary samples too\\n    (1024 // 2) + sample_id,\\n    row_id,\\n    NOT random_binary  -- Inverse the random_binary to get the complementary sample\\nFROM random_values\\nORDER BY sample_id, row_id;\"\n",
    "PREPARE_STEP = \"DEALLOCATE PREPARE run_query;\\n\\nPREPARE run_query AS \\nSELECT\\n    n_name,\\n    sum(l_extendedprice * (1 - l_discount)) AS revenue\\nFROM\\n    (SELECT * FROM customer\\n              JOIN random_samples AS rs ON rs.row_id = customer.rowid\\n              AND rs.random_binary = TRUE\\n              AND rs.sample_id = $sample) as customer,\\n    orders,\\n    lineitem,\\n    supplier,\\n    nation,\\n    region\\nWHERE\\n    c_custkey = o_custkey\\n    AND l_orderkey = o_orderkey\\n    AND l_suppkey = s_suppkey\\n    AND c_nationkey = s_nationkey\\n    AND s_nationkey = n_nationkey\\n    AND n_regionkey = r_regionkey\\n    AND r_name = 'ASIA'\\n    AND o_orderdate >= CAST('1994-01-01' AS date)\\n    AND o_orderdate < CAST('1995-01-01' AS date)\\nGROUP BY\\n    n_name\\nORDER BY\\n    revenue DESC;\"\n",
    "INDEX_COLS = [\"n_name\"]\n",
    "OUTPUT_COLS = [\"revenue\"]\n"
   ]
  },
  {
   "cell_type": "code",
   "execution_count": 4,
   "id": "8b210d6c",
   "metadata": {
    "execution": {
     "iopub.execute_input": "2025-04-25T05:57:28.196410Z",
     "iopub.status.busy": "2025-04-25T05:57:28.196274Z",
     "iopub.status.idle": "2025-04-25T05:57:28.197893Z",
     "shell.execute_reply": "2025-04-25T05:57:28.197695Z"
    },
    "papermill": {
     "duration": 0.00423,
     "end_time": "2025-04-25T05:57:28.198523",
     "exception": false,
     "start_time": "2025-04-25T05:57:28.194293",
     "status": "completed"
    },
    "tags": []
   },
   "outputs": [],
   "source": [
    "if not os.path.exists(OUTPUT_DIR):\n",
    "    os.makedirs(OUTPUT_DIR)"
   ]
  },
  {
   "cell_type": "code",
   "execution_count": 5,
   "id": "3c17bb26",
   "metadata": {
    "execution": {
     "iopub.execute_input": "2025-04-25T05:57:28.201518Z",
     "iopub.status.busy": "2025-04-25T05:57:28.201428Z",
     "iopub.status.idle": "2025-04-25T05:57:28.507492Z",
     "shell.execute_reply": "2025-04-25T05:57:28.507205Z"
    },
    "papermill": {
     "duration": 0.308349,
     "end_time": "2025-04-25T05:57:28.508279",
     "exception": false,
     "start_time": "2025-04-25T05:57:28.199930",
     "status": "completed"
    },
    "tags": []
   },
   "outputs": [],
   "source": [
    "# duckdb load data/tpch/tpch.duckdb into the temporary in-memory database\n",
    "con = duckdb.connect(database=':memory:')\n",
    "tables = [\"customer\", \"lineitem\", \"nation\", \"orders\", \"part\", \"partsupp\", \"region\", \"supplier\"]\n",
    "for t in tables:\n",
    "    con.execute(f\"CREATE TABLE {t} AS SELECT * FROM 'data/tpch/{t}.parquet'\")"
   ]
  },
  {
   "cell_type": "code",
   "execution_count": 6,
   "id": "575b6976",
   "metadata": {
    "execution": {
     "iopub.execute_input": "2025-04-25T05:57:28.511721Z",
     "iopub.status.busy": "2025-04-25T05:57:28.511605Z",
     "iopub.status.idle": "2025-04-25T05:57:29.526972Z",
     "shell.execute_reply": "2025-04-25T05:57:29.526636Z"
    },
    "papermill": {
     "duration": 1.017873,
     "end_time": "2025-04-25T05:57:29.527790",
     "exception": false,
     "start_time": "2025-04-25T05:57:28.509917",
     "status": "completed"
    },
    "tags": []
   },
   "outputs": [],
   "source": [
    "# Construct the table of random samples\n",
    "# to use, join it with the lineitem table (for specific sample # s) and filter to just the\n",
    "# rows where random_binary = 1.0\n",
    "# This will give us a 50% sample of the lineitem table for each sample # s\n",
    "\n",
    "assert SAMPLES % 2 == 0, \"SAMPLES must be even to create complementary samples.\"\n",
    "\n",
    "random_samples = con.execute(SAMPLE_STEP)"
   ]
  },
  {
   "cell_type": "markdown",
   "id": "702b7166",
   "metadata": {
    "papermill": {
     "duration": 0.001236,
     "end_time": "2025-04-25T05:57:29.530657",
     "exception": false,
     "start_time": "2025-04-25T05:57:29.529421",
     "status": "completed"
    },
    "tags": []
   },
   "source": [
    "The randomness of what rows are chosen is saved to disk in `random_binary.json`. For each sample #, there is an array with one entry per row, where 1 means the row was chosen and 0 means it was not."
   ]
  },
  {
   "cell_type": "code",
   "execution_count": 7,
   "id": "ac9f8a0b",
   "metadata": {
    "execution": {
     "iopub.execute_input": "2025-04-25T05:57:29.533483Z",
     "iopub.status.busy": "2025-04-25T05:57:29.533381Z",
     "iopub.status.idle": "2025-04-25T05:57:29.893540Z",
     "shell.execute_reply": "2025-04-25T05:57:29.893268Z"
    },
    "papermill": {
     "duration": 0.362553,
     "end_time": "2025-04-25T05:57:29.894417",
     "exception": false,
     "start_time": "2025-04-25T05:57:29.531864",
     "status": "completed"
    },
    "tags": []
   },
   "outputs": [],
   "source": [
    "con.execute(\"\"\"\n",
    "SELECT sample_id, array_agg(random_binary::TINYINT) as random_binary\n",
    "FROM random_samples\n",
    "GROUP BY sample_id;\n",
    "\"\"\").pl().write_json(f\"{OUTPUT_DIR}/random_binary.json\")"
   ]
  },
  {
   "cell_type": "markdown",
   "id": "60a13caf",
   "metadata": {
    "papermill": {
     "duration": 0.001274,
     "end_time": "2025-04-25T05:57:29.897294",
     "exception": false,
     "start_time": "2025-04-25T05:57:29.896020",
     "status": "completed"
    },
    "tags": []
   },
   "source": [
    "Query is specified as a prepared statement. We will then execute it once per sample."
   ]
  },
  {
   "cell_type": "code",
   "execution_count": 8,
   "id": "760c229a",
   "metadata": {
    "execution": {
     "iopub.execute_input": "2025-04-25T05:57:29.900460Z",
     "iopub.status.busy": "2025-04-25T05:57:29.900222Z",
     "iopub.status.idle": "2025-04-25T05:57:29.966029Z",
     "shell.execute_reply": "2025-04-25T05:57:29.965788Z"
    },
    "papermill": {
     "duration": 0.06811,
     "end_time": "2025-04-25T05:57:29.966689",
     "exception": false,
     "start_time": "2025-04-25T05:57:29.898579",
     "status": "completed"
    },
    "tags": []
   },
   "outputs": [
    {
     "data": {
      "text/html": [
       "<div><style>\n",
       ".dataframe > thead > tr,\n",
       ".dataframe > tbody > tr {\n",
       "  text-align: right;\n",
       "  white-space: pre-wrap;\n",
       "}\n",
       "</style>\n",
       "<small>shape: (5, 2)</small><table border=\"1\" class=\"dataframe\"><thead><tr><th>n_name</th><th>revenue</th></tr><tr><td>str</td><td>decimal[38,4]</td></tr></thead><tbody><tr><td>&quot;CHINA&quot;</td><td>3839760.8699</td></tr><tr><td>&quot;INDIA&quot;</td><td>3087498.1380</td></tr><tr><td>&quot;INDONESIA&quot;</td><td>2955282.3734</td></tr><tr><td>&quot;JAPAN&quot;</td><td>2670700.6029</td></tr><tr><td>&quot;VIETNAM&quot;</td><td>2146906.6153</td></tr></tbody></table></div>"
      ],
      "text/plain": [
       "shape: (5, 2)\n",
       "┌───────────┬───────────────┐\n",
       "│ n_name    ┆ revenue       │\n",
       "│ ---       ┆ ---           │\n",
       "│ str       ┆ decimal[38,4] │\n",
       "╞═══════════╪═══════════════╡\n",
       "│ CHINA     ┆ 3839760.8699  │\n",
       "│ INDIA     ┆ 3087498.1380  │\n",
       "│ INDONESIA ┆ 2955282.3734  │\n",
       "│ JAPAN     ┆ 2670700.6029  │\n",
       "│ VIETNAM   ┆ 2146906.6153  │\n",
       "└───────────┴───────────────┘"
      ]
     },
     "execution_count": 8,
     "metadata": {},
     "output_type": "execute_result"
    }
   ],
   "source": [
    "# Query\n",
    "con.execute(PREPARE_STEP)\n",
    "\n",
    "# Run query to see output\n",
    "dfs0 = con.execute(f\"EXECUTE run_query(sample := {0});\").pl()\n",
    "\n",
    "# Save csv copies of the first 5 samples\n",
    "os.makedirs(f\"{OUTPUT_DIR}/csv\", exist_ok=True)\n",
    "for s in range(5):\n",
    "    con.execute(f\"EXECUTE run_query(sample := {s});\").pl().write_csv(f\"{OUTPUT_DIR}/csv/sample_{s}.csv\")\n",
    "\n",
    "dfs0"
   ]
  },
  {
   "cell_type": "code",
   "execution_count": 9,
   "id": "e6facb6b",
   "metadata": {
    "execution": {
     "iopub.execute_input": "2025-04-25T05:57:29.969973Z",
     "iopub.status.busy": "2025-04-25T05:57:29.969872Z",
     "iopub.status.idle": "2025-04-25T05:57:37.274132Z",
     "shell.execute_reply": "2025-04-25T05:57:37.273905Z"
    },
    "papermill": {
     "duration": 7.306588,
     "end_time": "2025-04-25T05:57:37.274795",
     "exception": false,
     "start_time": "2025-04-25T05:57:29.968207",
     "status": "completed"
    },
    "tags": []
   },
   "outputs": [
    {
     "data": {
      "text/html": [
       "<div><style>\n",
       ".dataframe > thead > tr,\n",
       ".dataframe > tbody > tr {\n",
       "  text-align: right;\n",
       "  white-space: pre-wrap;\n",
       "}\n",
       "</style>\n",
       "<small>shape: (5_120, 3)</small><table border=\"1\" class=\"dataframe\"><thead><tr><th>sample</th><th>n_name</th><th>revenue</th></tr><tr><td>i32</td><td>str</td><td>decimal[38,4]</td></tr></thead><tbody><tr><td>0</td><td>&quot;CHINA&quot;</td><td>3839760.8699</td></tr><tr><td>0</td><td>&quot;INDIA&quot;</td><td>3087498.1380</td></tr><tr><td>0</td><td>&quot;INDONESIA&quot;</td><td>2955282.3734</td></tr><tr><td>0</td><td>&quot;JAPAN&quot;</td><td>2670700.6029</td></tr><tr><td>0</td><td>&quot;VIETNAM&quot;</td><td>2146906.6153</td></tr><tr><td>&hellip;</td><td>&hellip;</td><td>&hellip;</td></tr><tr><td>1023</td><td>&quot;CHINA&quot;</td><td>3631774.1362</td></tr><tr><td>1023</td><td>&quot;JAPAN&quot;</td><td>3000187.4303</td></tr><tr><td>1023</td><td>&quot;INDONESIA&quot;</td><td>2977410.4521</td></tr><tr><td>1023</td><td>&quot;INDIA&quot;</td><td>2953965.5498</td></tr><tr><td>1023</td><td>&quot;VIETNAM&quot;</td><td>2174788.4820</td></tr></tbody></table></div>"
      ],
      "text/plain": [
       "shape: (5_120, 3)\n",
       "┌────────┬───────────┬───────────────┐\n",
       "│ sample ┆ n_name    ┆ revenue       │\n",
       "│ ---    ┆ ---       ┆ ---           │\n",
       "│ i32    ┆ str       ┆ decimal[38,4] │\n",
       "╞════════╪═══════════╪═══════════════╡\n",
       "│ 0      ┆ CHINA     ┆ 3839760.8699  │\n",
       "│ 0      ┆ INDIA     ┆ 3087498.1380  │\n",
       "│ 0      ┆ INDONESIA ┆ 2955282.3734  │\n",
       "│ 0      ┆ JAPAN     ┆ 2670700.6029  │\n",
       "│ 0      ┆ VIETNAM   ┆ 2146906.6153  │\n",
       "│ …      ┆ …         ┆ …             │\n",
       "│ 1023   ┆ CHINA     ┆ 3631774.1362  │\n",
       "│ 1023   ┆ JAPAN     ┆ 3000187.4303  │\n",
       "│ 1023   ┆ INDONESIA ┆ 2977410.4521  │\n",
       "│ 1023   ┆ INDIA     ┆ 2953965.5498  │\n",
       "│ 1023   ┆ VIETNAM   ┆ 2174788.4820  │\n",
       "└────────┴───────────┴───────────────┘"
      ]
     },
     "execution_count": 9,
     "metadata": {},
     "output_type": "execute_result"
    }
   ],
   "source": [
    "# Run the query for each sample, but accumulate in a pl.DataFrame instead of a list\n",
    "dfsdf: pl.DataFrame = pl.concat(\n",
    "    con.execute(f\"EXECUTE run_query(sample := {s});\").pl().insert_column(0, pl.lit(s).alias(\"sample\"))\n",
    "    for s in range(SAMPLES)\n",
    ")\n",
    "dfsdf"
   ]
  },
  {
   "cell_type": "code",
   "execution_count": 10,
   "id": "338d4565",
   "metadata": {
    "execution": {
     "iopub.execute_input": "2025-04-25T05:57:37.278452Z",
     "iopub.status.busy": "2025-04-25T05:57:37.278354Z",
     "iopub.status.idle": "2025-04-25T05:57:37.280479Z",
     "shell.execute_reply": "2025-04-25T05:57:37.280258Z"
    },
    "papermill": {
     "duration": 0.004529,
     "end_time": "2025-04-25T05:57:37.281102",
     "exception": false,
     "start_time": "2025-04-25T05:57:37.276573",
     "status": "completed"
    },
    "tags": []
   },
   "outputs": [],
   "source": [
    "# Define which columns are the group-by keys (INDEX_COLS) and which are the output columns (OUTPUT_COLS)\n",
    "# - moved to parameters cell at top of notebook\n",
    "\n",
    "# Save these to disk for later use\n",
    "with open(f\"{OUTPUT_DIR}/INDEX_COLS.pkl\", 'wb') as f:\n",
    "    pickle.dump(INDEX_COLS, f)\n",
    "with open(f\"{OUTPUT_DIR}/OUTPUT_COLS.pkl\", 'wb') as f:\n",
    "    pickle.dump(OUTPUT_COLS, f)"
   ]
  },
  {
   "cell_type": "code",
   "execution_count": 11,
   "id": "00530e09",
   "metadata": {
    "execution": {
     "iopub.execute_input": "2025-04-25T05:57:37.284625Z",
     "iopub.status.busy": "2025-04-25T05:57:37.284504Z",
     "iopub.status.idle": "2025-04-25T05:57:37.289872Z",
     "shell.execute_reply": "2025-04-25T05:57:37.289589Z"
    },
    "papermill": {
     "duration": 0.007995,
     "end_time": "2025-04-25T05:57:37.290586",
     "exception": false,
     "start_time": "2025-04-25T05:57:37.282591",
     "status": "completed"
    },
    "tags": []
   },
   "outputs": [
    {
     "data": {
      "text/html": [
       "<div><style>\n",
       ".dataframe > thead > tr,\n",
       ".dataframe > tbody > tr {\n",
       "  text-align: right;\n",
       "  white-space: pre-wrap;\n",
       "}\n",
       "</style>\n",
       "<small>shape: (5, 2)</small><table border=\"1\" class=\"dataframe\"><thead><tr><th>n_name</th><th>revenue</th></tr><tr><td>str</td><td>list[decimal[38,4]]</td></tr></thead><tbody><tr><td>&quot;CHINA&quot;</td><td>[3839760.8699, 4358391.2375, … 3631774.1362]</td></tr><tr><td>&quot;INDIA&quot;</td><td>[3087498.1380, 2923897.0093, … 2953965.5498]</td></tr><tr><td>&quot;INDONESIA&quot;</td><td>[2955282.3734, 3233744.8241, … 2977410.4521]</td></tr><tr><td>&quot;JAPAN&quot;</td><td>[2670700.6029, 3203852.6888, … 3000187.4303]</td></tr><tr><td>&quot;VIETNAM&quot;</td><td>[2146906.6153, 2310859.6642, … 2174788.4820]</td></tr></tbody></table></div>"
      ],
      "text/plain": [
       "shape: (5, 2)\n",
       "┌───────────┬─────────────────────────────────┐\n",
       "│ n_name    ┆ revenue                         │\n",
       "│ ---       ┆ ---                             │\n",
       "│ str       ┆ list[decimal[38,4]]             │\n",
       "╞═══════════╪═════════════════════════════════╡\n",
       "│ CHINA     ┆ [3839760.8699, 4358391.2375, …… │\n",
       "│ INDIA     ┆ [3087498.1380, 2923897.0093, …… │\n",
       "│ INDONESIA ┆ [2955282.3734, 3233744.8241, …… │\n",
       "│ JAPAN     ┆ [2670700.6029, 3203852.6888, …… │\n",
       "│ VIETNAM   ┆ [2146906.6153, 2310859.6642, …… │\n",
       "└───────────┴─────────────────────────────────┘"
      ]
     },
     "execution_count": 11,
     "metadata": {},
     "output_type": "execute_result"
    }
   ],
   "source": [
    "# Combine all the samples into one table, grouped-by the group-by keys. Each cell contains an n <= # of samples length array of values.\n",
    "listdf = dfsdf.drop(\"sample\").group_by(INDEX_COLS, maintain_order=True).all()\n",
    "listdf"
   ]
  },
  {
   "cell_type": "code",
   "execution_count": 12,
   "id": "18a175d8",
   "metadata": {
    "execution": {
     "iopub.execute_input": "2025-04-25T05:57:37.295184Z",
     "iopub.status.busy": "2025-04-25T05:57:37.295053Z",
     "iopub.status.idle": "2025-04-25T05:57:37.297622Z",
     "shell.execute_reply": "2025-04-25T05:57:37.297349Z"
    },
    "papermill": {
     "duration": 0.005741,
     "end_time": "2025-04-25T05:57:37.298409",
     "exception": false,
     "start_time": "2025-04-25T05:57:37.292668",
     "status": "completed"
    },
    "tags": []
   },
   "outputs": [
    {
     "data": {
      "text/plain": [
       "[{'n_name': 'CHINA'},\n",
       " {'n_name': 'INDIA'},\n",
       " {'n_name': 'INDONESIA'},\n",
       " {'n_name': 'JAPAN'},\n",
       " {'n_name': 'VIETNAM'}]"
      ]
     },
     "execution_count": 12,
     "metadata": {},
     "output_type": "execute_result"
    }
   ],
   "source": [
    "# What are all the possible group-by key combinations?\n",
    "allgroups: pl.DataFrame = listdf.select(INDEX_COLS)\n",
    "allgroups.to_dicts()"
   ]
  },
  {
   "cell_type": "code",
   "execution_count": 13,
   "id": "1e70fa97",
   "metadata": {
    "execution": {
     "iopub.execute_input": "2025-04-25T05:57:37.302335Z",
     "iopub.status.busy": "2025-04-25T05:57:37.302218Z",
     "iopub.status.idle": "2025-04-25T05:57:37.311834Z",
     "shell.execute_reply": "2025-04-25T05:57:37.311550Z"
    },
    "papermill": {
     "duration": 0.012434,
     "end_time": "2025-04-25T05:57:37.312626",
     "exception": false,
     "start_time": "2025-04-25T05:57:37.300192",
     "status": "completed"
    },
    "tags": []
   },
   "outputs": [],
   "source": [
    "# Template for the final output, including all possible group-by groups\n",
    "# Obtained by collecting all the samples in a big table and then keeping only the first occurrence of each groupby key.\n",
    "# Then, fill all OUTPUT_COLS with nulls\n",
    "templatedf = dfsdf.drop(\"sample\").group_by(INDEX_COLS, maintain_order=True).first()\n",
    "templatedf = templatedf.clear(n=len(allgroups)).with_columns(allgroups)\n",
    "templatedf\n",
    "\n",
    "with open(f\"{OUTPUT_DIR}/template.pkl\", \"wb\") as f:\n",
    "    pickle.dump(templatedf, f)"
   ]
  },
  {
   "cell_type": "code",
   "execution_count": 14,
   "id": "31898612",
   "metadata": {
    "execution": {
     "iopub.execute_input": "2025-04-25T05:57:37.316946Z",
     "iopub.status.busy": "2025-04-25T05:57:37.316729Z",
     "iopub.status.idle": "2025-04-25T05:57:37.323178Z",
     "shell.execute_reply": "2025-04-25T05:57:37.322864Z"
    },
    "papermill": {
     "duration": 0.009454,
     "end_time": "2025-04-25T05:57:37.323963",
     "exception": false,
     "start_time": "2025-04-25T05:57:37.314509",
     "status": "completed"
    },
    "tags": []
   },
   "outputs": [],
   "source": [
    "# Write all table entries in the output table to their own JSON files. Each file has a number, the information of which file corresponds to which table entry\n",
    "# is stored in reverse_map.json (as well as in the files themselves)\n",
    "os.makedirs(f\"{OUTPUT_DIR}/json\", exist_ok=True)\n",
    "i: int = 0\n",
    "for col in OUTPUT_COLS:\n",
    "    for group in allgroups.iter_rows(named=True):\n",
    "        values = listdf.filter(pl.col(k).eq(v) for k, v in group.items()).select(col).to_series()\n",
    "        j = pl.DataFrame().with_columns([\n",
    "            pl.lit(col).alias(\"col\"),\n",
    "            pl.lit(group).alias(\"row\"),\n",
    "            pl.lit(values.explode().dtype.__repr__()).alias(\"dtype\"),\n",
    "            values.alias(\"values\"),\n",
    "        ])\n",
    "        j.write_json(f\"{OUTPUT_DIR}/json/{i}.json\")\n",
    "        i+=1"
   ]
  },
  {
   "cell_type": "code",
   "execution_count": 15,
   "id": "465b59fd",
   "metadata": {
    "execution": {
     "iopub.execute_input": "2025-04-25T05:57:37.328193Z",
     "iopub.status.busy": "2025-04-25T05:57:37.328059Z",
     "iopub.status.idle": "2025-04-25T05:57:39.414794Z",
     "shell.execute_reply": "2025-04-25T05:57:39.414538Z"
    },
    "papermill": {
     "duration": 2.089654,
     "end_time": "2025-04-25T05:57:39.415467",
     "exception": false,
     "start_time": "2025-04-25T05:57:37.325813",
     "status": "completed"
    },
    "tags": []
   },
   "outputs": [
    {
     "data": {
      "text/plain": [
       "'/Users/michael/projects/dpdb/pacdb/outputs/ap-duckdb-q5-customer-step1.zip'"
      ]
     },
     "execution_count": 15,
     "metadata": {},
     "output_type": "execute_result"
    }
   ],
   "source": [
    "# zip the OUTPUT_DIR\n",
    "shutil.make_archive(OUTPUT_DIR, 'zip', OUTPUT_DIR)"
   ]
  }
 ],
 "metadata": {
  "kernelspec": {
   "display_name": ".venv",
   "language": "python",
   "name": "python3"
  },
  "language_info": {
   "codemirror_mode": {
    "name": "ipython",
    "version": 3
   },
   "file_extension": ".py",
   "mimetype": "text/x-python",
   "name": "python",
   "nbconvert_exporter": "python",
   "pygments_lexer": "ipython3",
   "version": "3.11.7"
  },
  "papermill": {
   "default_parameters": {},
   "duration": 12.437475,
   "end_time": "2025-04-25T05:57:39.734842",
   "environment_variables": {},
   "exception": null,
   "input_path": "autopac-duckdb-step1.ipynb",
   "output_path": "./ap-duckdb-q5-customer-step1.ipynb",
   "parameters": {
    "EXPERIMENT": "ap-duckdb-q5-customer",
    "INDEX_COLS": [
     "n_name"
    ],
    "OUTPUT_COLS": [
     "revenue"
    ],
    "OUTPUT_DIR": "./outputs/ap-duckdb-q5-customer-step1",
    "PREPARE_STEP": "DEALLOCATE PREPARE run_query;\n\nPREPARE run_query AS \nSELECT\n    n_name,\n    sum(l_extendedprice * (1 - l_discount)) AS revenue\nFROM\n    (SELECT * FROM customer\n              JOIN random_samples AS rs ON rs.row_id = customer.rowid\n              AND rs.random_binary = TRUE\n              AND rs.sample_id = $sample) as customer,\n    orders,\n    lineitem,\n    supplier,\n    nation,\n    region\nWHERE\n    c_custkey = o_custkey\n    AND l_orderkey = o_orderkey\n    AND l_suppkey = s_suppkey\n    AND c_nationkey = s_nationkey\n    AND s_nationkey = n_nationkey\n    AND n_regionkey = r_regionkey\n    AND r_name = 'ASIA'\n    AND o_orderdate >= CAST('1994-01-01' AS date)\n    AND o_orderdate < CAST('1995-01-01' AS date)\nGROUP BY\n    n_name\nORDER BY\n    revenue DESC;",
    "SAMPLES": 1024,
    "SAMPLE_STEP": "DROP TABLE IF EXISTS random_samples;\n\nCREATE TABLE random_samples AS\nWITH sample_numbers AS MATERIALIZED (\n    SELECT range AS sample_id FROM range(1024 // 2)\n), random_values AS MATERIALIZED (\n    SELECT \n        sample_numbers.sample_id,\n        customer.rowid AS row_id,\n        (RANDOM() > 0.5)::BOOLEAN AS random_binary\n    FROM sample_numbers\n    JOIN customer ON TRUE  -- Cross join to duplicate rows for each sample\n)\nSELECT\n    sample_id,\n    row_id,\n    random_binary\nFROM random_values\nUNION ALL\nSELECT -- select the complementary samples too\n    (1024 // 2) + sample_id,\n    row_id,\n    NOT random_binary  -- Inverse the random_binary to get the complementary sample\nFROM random_values\nORDER BY sample_id, row_id;"
   },
   "start_time": "2025-04-25T05:57:27.297367",
   "version": "2.6.0"
  }
 },
 "nbformat": 4,
 "nbformat_minor": 5
}