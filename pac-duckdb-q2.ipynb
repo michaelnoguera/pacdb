{
 "cells": [
  {
   "cell_type": "markdown",
   "metadata": {},
   "source": [
    "## DuckDB Notebook\n",
    "\n",
    "This notebook generates a bunch of raw outputs, without applying PAC, to be consumed by a second stage."
   ]
  },
  {
   "cell_type": "code",
   "execution_count": null,
   "metadata": {},
   "outputs": [
    {
     "name": "stdout",
     "output_type": "stream",
     "text": [
      "GENERATE = False, so we will load saved output from files rather than recomputing.\n"
     ]
    }
   ],
   "source": [
    "#!/usr/bin/env python\n",
    "# coding: utf-8\n",
    "\n",
    "import csv\n",
    "import os\n",
    "import pickle\n",
    "import shutil\n",
    "from typing import List\n",
    "\n",
    "import duckdb\n",
    "import numpy as np\n",
    "import polars as pl\n",
    "\n",
    "EXPERIMENT = 'pac-duckdb-q2'\n",
    "OUTPUT_DIR = f'./outputs/{EXPERIMENT}'\n",
    "GENERATE = False\n",
    "USE_EVEN_NUMBER_OF_INPUT_ROWS = False\n",
    "\n",
    "if GENERATE:\n",
    "    print(\"GENERATE = True, so we will generate new samples.\")\n",
    "else:\n",
    "    print(\"GENERATE = False, so we will load saved output from files rather than recomputing.\")\n",
    "\n",
    "if not os.path.exists(OUTPUT_DIR):\n",
    "    os.makedirs(OUTPUT_DIR)\n",
    "\n",
    "# duckdb load data/tpch/tpch.duckdb\n",
    "#con = duckdb.connect(database='data/tpch/tpch.duckdb', read_only=True)\n",
    "con = duckdb.connect(database=':memory:')\n",
    "tables = [\"customer\", \"lineitem\", \"nation\", \"orders\", \"part\", \"partsupp\", \"region\", \"supplier\"]\n",
    "#tables = [\"lineitem\", \"orders\"]\n",
    "for t in tables:\n",
    "    con.execute(f\"CREATE TABLE {t} AS SELECT * FROM 'data/tpch/{t}.parquet'\")\n",
    "\n",
    "lineitem_df = con.execute(\"SELECT * FROM lineitem\").fetchdf()\n",
    "orders_df = con.execute(\"SELECT * FROM orders\").fetchdf()\n",
    "\n",
    "row_count = lineitem_df.shape[0]"
   ]
  },
  {
   "cell_type": "code",
   "execution_count": 2,
   "metadata": {},
   "outputs": [],
   "source": [
    "# Construct the table of random samples\n",
    "# to use, join it with the lineitem table (for specific sample # s) and filter to just the\n",
    "# rows where random_binary = 1.0\n",
    "# This will give us a 50% sample of the lineitem table for each sample # s\n",
    "\n",
    "SAMPLES = 1024\n",
    "assert SAMPLES % 2 == 0, \"SAMPLES must be even to create complementary samples.\"\n",
    "\n",
    "random_samples = con.execute(f\"\"\"\n",
    "DROP TABLE IF EXISTS random_samples;\n",
    "\n",
    "CREATE TABLE random_samples AS\n",
    "WITH sample_numbers AS MATERIALIZED (\n",
    "    SELECT range AS sample_id FROM range({SAMPLES//2})\n",
    "), random_values AS MATERIALIZED (\n",
    "    SELECT \n",
    "        sample_numbers.sample_id,\n",
    "        supplier.rowid AS row_id,\n",
    "        (RANDOM() > 0.5)::BOOLEAN AS random_binary\n",
    "    FROM sample_numbers\n",
    "    JOIN supplier ON TRUE  -- Cross join to duplicate rows for each sample\n",
    ")\n",
    "SELECT\n",
    "    sample_id,\n",
    "    row_id,\n",
    "    random_binary\n",
    "FROM random_values\n",
    "UNION ALL\n",
    "SELECT -- select the complementary samples too\n",
    "    ({SAMPLES//2}) + sample_id,\n",
    "    row_id,\n",
    "    NOT random_binary  -- Inverse the random_binary to get the complementary sample\n",
    "FROM random_values\n",
    "ORDER BY sample_id, row_id;\n",
    "\"\"\")"
   ]
  },
  {
   "cell_type": "code",
   "execution_count": 3,
   "metadata": {},
   "outputs": [],
   "source": [
    "#sample_sizes = con.execute(\"\"\"\n",
    "#SELECT sample_id, SUM(random_binary) AS sample_size\n",
    "#FROM random_samples\n",
    "#GROUP BY sample_id;\n",
    "#\"\"\").pl()"
   ]
  },
  {
   "cell_type": "markdown",
   "metadata": {},
   "source": [
    "The randomness of what rows are chosen is saved to disk in `random_binary.json`. For each sample #, there is an array with one entry per row, where 1 means the row was chosen and 0 means it was not."
   ]
  },
  {
   "cell_type": "code",
   "execution_count": null,
   "metadata": {},
   "outputs": [],
   "source": [
    "con.execute(\"\"\"\n",
    "SELECT sample_id, array_agg(random_binary::TINYINT) as random_binary\n",
    "FROM random_samples\n",
    "GROUP BY sample_id;\n",
    "\"\"\").pl().write_json(f\"{OUTPUT_DIR}/random_binary.json\")"
   ]
  },
  {
   "cell_type": "markdown",
   "metadata": {},
   "source": [
    "Query is specified as a prepared statement. We will then execute it once per sample."
   ]
  },
  {
   "cell_type": "code",
   "execution_count": 5,
   "metadata": {},
   "outputs": [
    {
     "data": {
      "text/html": [
       "<div><style>\n",
       ".dataframe > thead > tr,\n",
       ".dataframe > tbody > tr {\n",
       "  text-align: right;\n",
       "  white-space: pre-wrap;\n",
       "}\n",
       "</style>\n",
       "<small>shape: (27, 8)</small><table border=\"1\" class=\"dataframe\"><thead><tr><th>s_acctbal</th><th>s_name</th><th>n_name</th><th>p_partkey</th><th>p_mfgr</th><th>s_address</th><th>s_phone</th><th>s_comment</th></tr><tr><td>decimal[15,2]</td><td>str</td><td>str</td><td>i64</td><td>str</td><td>str</td><td>str</td><td>str</td></tr></thead><tbody><tr><td>9508.37</td><td>&quot;Supplier#000000070&quot;</td><td>&quot;FRANCE&quot;</td><td>3563</td><td>&quot;Manufacturer#1&quot;</td><td>&quot;jd4djZv0cc5KdnA0q9oOqvceaPUbNl…</td><td>&quot;16-821-608-1166&quot;</td><td>&quot;n instructions are about the i…</td></tr><tr><td>9508.37</td><td>&quot;Supplier#000000070&quot;</td><td>&quot;FRANCE&quot;</td><td>17268</td><td>&quot;Manufacturer#4&quot;</td><td>&quot;jd4djZv0cc5KdnA0q9oOqvceaPUbNl…</td><td>&quot;16-821-608-1166&quot;</td><td>&quot;n instructions are about the i…</td></tr><tr><td>9453.01</td><td>&quot;Supplier#000000802&quot;</td><td>&quot;ROMANIA&quot;</td><td>10021</td><td>&quot;Manufacturer#5&quot;</td><td>&quot;1Uj23QWxQjj7EyeqHWqGWTbN&quot;</td><td>&quot;29-342-882-6463&quot;</td><td>&quot;s according to the even deposi…</td></tr><tr><td>9453.01</td><td>&quot;Supplier#000000802&quot;</td><td>&quot;ROMANIA&quot;</td><td>13275</td><td>&quot;Manufacturer#4&quot;</td><td>&quot;1Uj23QWxQjj7EyeqHWqGWTbN&quot;</td><td>&quot;29-342-882-6463&quot;</td><td>&quot;s according to the even deposi…</td></tr><tr><td>9198.31</td><td>&quot;Supplier#000000025&quot;</td><td>&quot;RUSSIA&quot;</td><td>12238</td><td>&quot;Manufacturer#1&quot;</td><td>&quot;aoagce3elDACNssVvTLcQl55Up6EYA&quot;</td><td>&quot;32-431-945-3541&quot;</td><td>&quot;quickly pending accounts cajol…</td></tr><tr><td>&hellip;</td><td>&hellip;</td><td>&hellip;</td><td>&hellip;</td><td>&hellip;</td><td>&hellip;</td><td>&hellip;</td><td>&hellip;</td></tr><tr><td>683.07</td><td>&quot;Supplier#000000651&quot;</td><td>&quot;RUSSIA&quot;</td><td>4888</td><td>&quot;Manufacturer#4&quot;</td><td>&quot;D4MGIq5Uz0,K&quot;</td><td>&quot;32-181-426-4490&quot;</td><td>&quot;ve to are slyly ironic asympto…</td></tr><tr><td>167.56</td><td>&quot;Supplier#000000290&quot;</td><td>&quot;FRANCE&quot;</td><td>2037</td><td>&quot;Manufacturer#1&quot;</td><td>&quot;VpG,Ul5yv1RgAK,,&quot;</td><td>&quot;16-675-286-5102&quot;</td><td>&quot; carefully furiously stealthy …</td></tr><tr><td>91.39</td><td>&quot;Supplier#000000949&quot;</td><td>&quot;UNITED KINGDOM&quot;</td><td>9430</td><td>&quot;Manufacturer#2&quot;</td><td>&quot;R06m0VD95FZLoBJHcCMyaZQHitqmhZ…</td><td>&quot;33-332-697-2768&quot;</td><td>&quot;sual requests. carefully regul…</td></tr><tr><td>-314.06</td><td>&quot;Supplier#000000510&quot;</td><td>&quot;ROMANIA&quot;</td><td>17242</td><td>&quot;Manufacturer#4&quot;</td><td>&quot;6E3aFs0w2SiImzMDSewWtzOwdpLz2&quot;</td><td>&quot;29-207-852-3454&quot;</td><td>&quot;lyly regular accounts. deposit…</td></tr><tr><td>-845.44</td><td>&quot;Supplier#000000704&quot;</td><td>&quot;ROMANIA&quot;</td><td>9926</td><td>&quot;Manufacturer#5&quot;</td><td>&quot;KawFpBPAADrVnKC,pLL9q3TSyHG9x&quot;</td><td>&quot;29-300-896-5991&quot;</td><td>&quot;ous pearls boost carefully&quot;</td></tr></tbody></table></div>"
      ],
      "text/plain": [
       "shape: (27, 8)\n",
       "┌────────────┬────────────┬────────────┬───────────┬───────────┬───────────┬───────────┬───────────┐\n",
       "│ s_acctbal  ┆ s_name     ┆ n_name     ┆ p_partkey ┆ p_mfgr    ┆ s_address ┆ s_phone   ┆ s_comment │\n",
       "│ ---        ┆ ---        ┆ ---        ┆ ---       ┆ ---       ┆ ---       ┆ ---       ┆ ---       │\n",
       "│ decimal[15 ┆ str        ┆ str        ┆ i64       ┆ str       ┆ str       ┆ str       ┆ str       │\n",
       "│ ,2]        ┆            ┆            ┆           ┆           ┆           ┆           ┆           │\n",
       "╞════════════╪════════════╪════════════╪═══════════╪═══════════╪═══════════╪═══════════╪═══════════╡\n",
       "│ 9508.37    ┆ Supplier#0 ┆ FRANCE     ┆ 3563      ┆ Manufactu ┆ jd4djZv0c ┆ 16-821-60 ┆ n instruc │\n",
       "│            ┆ 00000070   ┆            ┆           ┆ rer#1     ┆ c5KdnA0q9 ┆ 8-1166    ┆ tions are │\n",
       "│            ┆            ┆            ┆           ┆           ┆ oOqvceaPU ┆           ┆ about the │\n",
       "│            ┆            ┆            ┆           ┆           ┆ bNl…      ┆           ┆ i…        │\n",
       "│ 9508.37    ┆ Supplier#0 ┆ FRANCE     ┆ 17268     ┆ Manufactu ┆ jd4djZv0c ┆ 16-821-60 ┆ n instruc │\n",
       "│            ┆ 00000070   ┆            ┆           ┆ rer#4     ┆ c5KdnA0q9 ┆ 8-1166    ┆ tions are │\n",
       "│            ┆            ┆            ┆           ┆           ┆ oOqvceaPU ┆           ┆ about the │\n",
       "│            ┆            ┆            ┆           ┆           ┆ bNl…      ┆           ┆ i…        │\n",
       "│ 9453.01    ┆ Supplier#0 ┆ ROMANIA    ┆ 10021     ┆ Manufactu ┆ 1Uj23QWxQ ┆ 29-342-88 ┆ s         │\n",
       "│            ┆ 00000802   ┆            ┆           ┆ rer#5     ┆ jj7EyeqHW ┆ 2-6463    ┆ according │\n",
       "│            ┆            ┆            ┆           ┆           ┆ qGWTbN    ┆           ┆ to the    │\n",
       "│            ┆            ┆            ┆           ┆           ┆           ┆           ┆ even      │\n",
       "│            ┆            ┆            ┆           ┆           ┆           ┆           ┆ deposi…   │\n",
       "│ 9453.01    ┆ Supplier#0 ┆ ROMANIA    ┆ 13275     ┆ Manufactu ┆ 1Uj23QWxQ ┆ 29-342-88 ┆ s         │\n",
       "│            ┆ 00000802   ┆            ┆           ┆ rer#4     ┆ jj7EyeqHW ┆ 2-6463    ┆ according │\n",
       "│            ┆            ┆            ┆           ┆           ┆ qGWTbN    ┆           ┆ to the    │\n",
       "│            ┆            ┆            ┆           ┆           ┆           ┆           ┆ even      │\n",
       "│            ┆            ┆            ┆           ┆           ┆           ┆           ┆ deposi…   │\n",
       "│ 9198.31    ┆ Supplier#0 ┆ RUSSIA     ┆ 12238     ┆ Manufactu ┆ aoagce3el ┆ 32-431-94 ┆ quickly   │\n",
       "│            ┆ 00000025   ┆            ┆           ┆ rer#1     ┆ DACNssVvT ┆ 5-3541    ┆ pending   │\n",
       "│            ┆            ┆            ┆           ┆           ┆ LcQl55Up6 ┆           ┆ accounts  │\n",
       "│            ┆            ┆            ┆           ┆           ┆ EYA       ┆           ┆ cajol…    │\n",
       "│ …          ┆ …          ┆ …          ┆ …         ┆ …         ┆ …         ┆ …         ┆ …         │\n",
       "│ 683.07     ┆ Supplier#0 ┆ RUSSIA     ┆ 4888      ┆ Manufactu ┆ D4MGIq5Uz ┆ 32-181-42 ┆ ve to are │\n",
       "│            ┆ 00000651   ┆            ┆           ┆ rer#4     ┆ 0,K       ┆ 6-4490    ┆ slyly     │\n",
       "│            ┆            ┆            ┆           ┆           ┆           ┆           ┆ ironic    │\n",
       "│            ┆            ┆            ┆           ┆           ┆           ┆           ┆ asympto…  │\n",
       "│ 167.56     ┆ Supplier#0 ┆ FRANCE     ┆ 2037      ┆ Manufactu ┆ VpG,Ul5yv ┆ 16-675-28 ┆ carefully │\n",
       "│            ┆ 00000290   ┆            ┆           ┆ rer#1     ┆ 1RgAK,,   ┆ 6-5102    ┆ furiously │\n",
       "│            ┆            ┆            ┆           ┆           ┆           ┆           ┆ stealthy  │\n",
       "│            ┆            ┆            ┆           ┆           ┆           ┆           ┆ …         │\n",
       "│ 91.39      ┆ Supplier#0 ┆ UNITED     ┆ 9430      ┆ Manufactu ┆ R06m0VD95 ┆ 33-332-69 ┆ sual      │\n",
       "│            ┆ 00000949   ┆ KINGDOM    ┆           ┆ rer#2     ┆ FZLoBJHcC ┆ 7-2768    ┆ requests. │\n",
       "│            ┆            ┆            ┆           ┆           ┆ MyaZQHitq ┆           ┆ carefully │\n",
       "│            ┆            ┆            ┆           ┆           ┆ mhZ…      ┆           ┆ regul…    │\n",
       "│ -314.06    ┆ Supplier#0 ┆ ROMANIA    ┆ 17242     ┆ Manufactu ┆ 6E3aFs0w2 ┆ 29-207-85 ┆ lyly      │\n",
       "│            ┆ 00000510   ┆            ┆           ┆ rer#4     ┆ SiImzMDSe ┆ 2-3454    ┆ regular   │\n",
       "│            ┆            ┆            ┆           ┆           ┆ wWtzOwdpL ┆           ┆ accounts. │\n",
       "│            ┆            ┆            ┆           ┆           ┆ z2        ┆           ┆ deposit…  │\n",
       "│ -845.44    ┆ Supplier#0 ┆ ROMANIA    ┆ 9926      ┆ Manufactu ┆ KawFpBPAA ┆ 29-300-89 ┆ ous       │\n",
       "│            ┆ 00000704   ┆            ┆           ┆ rer#5     ┆ DrVnKC,pL ┆ 6-5991    ┆ pearls    │\n",
       "│            ┆            ┆            ┆           ┆           ┆ L9q3TSyHG ┆           ┆ boost     │\n",
       "│            ┆            ┆            ┆           ┆           ┆ 9x        ┆           ┆ carefully │\n",
       "└────────────┴────────────┴────────────┴───────────┴───────────┴───────────┴───────────┴───────────┘"
      ]
     },
     "execution_count": 5,
     "metadata": {},
     "output_type": "execute_result"
    }
   ],
   "source": [
    "# Query\n",
    "con.execute(\"\"\"\n",
    "DEALLOCATE PREPARE run_query;\n",
    "\n",
    "PREPARE run_query AS \n",
    "SELECT\n",
    "    s_acctbal,\n",
    "    s_name,\n",
    "    n_name,\n",
    "    p_partkey,\n",
    "    p_mfgr,\n",
    "    s_address,\n",
    "    s_phone,\n",
    "    s_comment\n",
    "FROM\n",
    "    part,\n",
    "    supplier,\n",
    "    partsupp,\n",
    "    nation,\n",
    "    region\n",
    "WHERE\n",
    "    p_partkey = ps_partkey\n",
    "    AND s_suppkey = ps_suppkey\n",
    "    AND p_size = 15\n",
    "    AND p_type LIKE '%BRASS'\n",
    "    AND s_nationkey = n_nationkey\n",
    "    AND n_regionkey = r_regionkey\n",
    "    AND r_name = 'EUROPE'\n",
    "    AND ps_supplycost = (\n",
    "        SELECT\n",
    "            min(ps_supplycost)\n",
    "        FROM\n",
    "            partsupp,\n",
    "            supplier,\n",
    "            nation,\n",
    "            region\n",
    "        JOIN random_samples AS rs ON rs.row_id = supplier.rowid\n",
    "        WHERE\n",
    "            p_partkey = ps_partkey\n",
    "            AND s_suppkey = ps_suppkey\n",
    "            AND s_nationkey = n_nationkey\n",
    "            AND n_regionkey = r_regionkey\n",
    "            AND r_name = 'EUROPE'\n",
    "            AND rs.random_binary = TRUE\n",
    "            AND rs.sample_id = $sample\n",
    "        )\n",
    "ORDER BY\n",
    "    s_acctbal DESC,\n",
    "    n_name,\n",
    "    s_name,\n",
    "    p_partkey\n",
    "LIMIT 100;\n",
    "\"\"\")\n",
    "\n",
    "con.execute(f\"EXECUTE run_query(sample := {0});\").pl()"
   ]
  },
  {
   "cell_type": "markdown",
   "metadata": {},
   "source": [
    "We now generate the query result for each sample. The query output of each sample is saved to disk in multiple formats:\n",
    "- `csv` contains one file per sample, with the table written in CSV format. This does not preserve data type information.\n",
    "- `parquet` contains one file per sample, with the table written in Parquet format. This preserves data type information as apache arrow converted types.\n",
    "- `dfs.pkl` contains the python list of polars dataframes in a binary format. This could be used to resume the notebook with the exact same previously-used randomness."
   ]
  },
  {
   "cell_type": "code",
   "execution_count": 6,
   "metadata": {},
   "outputs": [],
   "source": [
    "# Run all the queries\n",
    "dfs: List[pl.DataFrame] = []\n",
    "for s in range(SAMPLES):\n",
    "    dfs.append(con.execute(f\"EXECUTE run_query(sample := {s});\").pl())\n",
    "\n",
    "# Save the results to disk\n",
    "os.makedirs(f\"{OUTPUT_DIR}/csv\", exist_ok=True)\n",
    "os.makedirs(f\"{OUTPUT_DIR}/parquet\", exist_ok=True)\n",
    "for i, df in enumerate(dfs):\n",
    "    df.write_csv(f\"{OUTPUT_DIR}/csv/sample_{i}.csv\")\n",
    "    df.write_parquet(f\"{OUTPUT_DIR}/parquet/sample_{i}.parquet\")\n",
    "with open(f\"{OUTPUT_DIR}/dfs.pkl\", \"wb\") as f:\n",
    "    pickle.dump(dfs, f)"
   ]
  },
  {
   "cell_type": "markdown",
   "metadata": {},
   "source": [
    "The samples have been generated and stored in `outputs/{OUTPUT_DIR}/csv/sample_{i}.csv`."
   ]
  },
  {
   "cell_type": "code",
   "execution_count": 7,
   "metadata": {},
   "outputs": [
    {
     "data": {
      "text/plain": [
       "['s_acctbal',\n",
       " 's_name',\n",
       " 'n_name',\n",
       " 'p_partkey',\n",
       " 'p_mfgr',\n",
       " 's_address',\n",
       " 's_phone',\n",
       " 's_comment']"
      ]
     },
     "execution_count": 7,
     "metadata": {},
     "output_type": "execute_result"
    }
   ],
   "source": [
    "dfs[0].columns"
   ]
  },
  {
   "cell_type": "code",
   "execution_count": 10,
   "metadata": {},
   "outputs": [
    {
     "name": "stdout",
     "output_type": "stream",
     "text": [
      "Output schema: Schema([('s_acctbal', Decimal(precision=15, scale=2)), ('s_name', String), ('n_name', String), ('p_partkey', Int64), ('p_mfgr', String), ('s_address', String), ('s_phone', String), ('s_comment', String)])\n",
      "Output shape: (27, 8)\n"
     ]
    }
   ],
   "source": [
    "INDEX_COLS = []\n",
    "OUTPUT_COLS = ['s_acctbal', 's_name', 'n_name', 'p_partkey', 'p_mfgr', 's_address', 's_phone', 's_comment']\n",
    "OUTPUT_SCHEMA = dfs[0].select(OUTPUT_COLS).collect_schema()\n",
    "OUTPUT_SHAPE = dfs[0].select(OUTPUT_COLS).to_numpy().shape\n",
    "with open(f\"{OUTPUT_DIR}/schema.txt\", \"w\") as f:\n",
    "    f.write(str(OUTPUT_SCHEMA))\n",
    "print(f\"Output schema: {OUTPUT_SCHEMA}\")\n",
    "print(f\"Output shape: {OUTPUT_SHAPE}\")"
   ]
  },
  {
   "cell_type": "code",
   "execution_count": 11,
   "metadata": {},
   "outputs": [
    {
     "data": {
      "text/html": [
       "<div><style>\n",
       ".dataframe > thead > tr,\n",
       ".dataframe > tbody > tr {\n",
       "  text-align: right;\n",
       "  white-space: pre-wrap;\n",
       "}\n",
       "</style>\n",
       "<small>shape: (27, 8)</small><table border=\"1\" class=\"dataframe\"><thead><tr><th>s_acctbal</th><th>s_name</th><th>n_name</th><th>p_partkey</th><th>p_mfgr</th><th>s_address</th><th>s_phone</th><th>s_comment</th></tr><tr><td>decimal[15,2]</td><td>str</td><td>str</td><td>i64</td><td>str</td><td>str</td><td>str</td><td>str</td></tr></thead><tbody><tr><td>9508.37</td><td>&quot;Supplier#000000070&quot;</td><td>&quot;FRANCE&quot;</td><td>3563</td><td>&quot;Manufacturer#1&quot;</td><td>&quot;jd4djZv0cc5KdnA0q9oOqvceaPUbNl…</td><td>&quot;16-821-608-1166&quot;</td><td>&quot;n instructions are about the i…</td></tr><tr><td>9508.37</td><td>&quot;Supplier#000000070&quot;</td><td>&quot;FRANCE&quot;</td><td>17268</td><td>&quot;Manufacturer#4&quot;</td><td>&quot;jd4djZv0cc5KdnA0q9oOqvceaPUbNl…</td><td>&quot;16-821-608-1166&quot;</td><td>&quot;n instructions are about the i…</td></tr><tr><td>9453.01</td><td>&quot;Supplier#000000802&quot;</td><td>&quot;ROMANIA&quot;</td><td>10021</td><td>&quot;Manufacturer#5&quot;</td><td>&quot;1Uj23QWxQjj7EyeqHWqGWTbN&quot;</td><td>&quot;29-342-882-6463&quot;</td><td>&quot;s according to the even deposi…</td></tr><tr><td>9453.01</td><td>&quot;Supplier#000000802&quot;</td><td>&quot;ROMANIA&quot;</td><td>13275</td><td>&quot;Manufacturer#4&quot;</td><td>&quot;1Uj23QWxQjj7EyeqHWqGWTbN&quot;</td><td>&quot;29-342-882-6463&quot;</td><td>&quot;s according to the even deposi…</td></tr><tr><td>9198.31</td><td>&quot;Supplier#000000025&quot;</td><td>&quot;RUSSIA&quot;</td><td>12238</td><td>&quot;Manufacturer#1&quot;</td><td>&quot;aoagce3elDACNssVvTLcQl55Up6EYA&quot;</td><td>&quot;32-431-945-3541&quot;</td><td>&quot;quickly pending accounts cajol…</td></tr><tr><td>&hellip;</td><td>&hellip;</td><td>&hellip;</td><td>&hellip;</td><td>&hellip;</td><td>&hellip;</td><td>&hellip;</td><td>&hellip;</td></tr><tr><td>683.07</td><td>&quot;Supplier#000000651&quot;</td><td>&quot;RUSSIA&quot;</td><td>4888</td><td>&quot;Manufacturer#4&quot;</td><td>&quot;D4MGIq5Uz0,K&quot;</td><td>&quot;32-181-426-4490&quot;</td><td>&quot;ve to are slyly ironic asympto…</td></tr><tr><td>167.56</td><td>&quot;Supplier#000000290&quot;</td><td>&quot;FRANCE&quot;</td><td>2037</td><td>&quot;Manufacturer#1&quot;</td><td>&quot;VpG,Ul5yv1RgAK,,&quot;</td><td>&quot;16-675-286-5102&quot;</td><td>&quot; carefully furiously stealthy …</td></tr><tr><td>91.39</td><td>&quot;Supplier#000000949&quot;</td><td>&quot;UNITED KINGDOM&quot;</td><td>9430</td><td>&quot;Manufacturer#2&quot;</td><td>&quot;R06m0VD95FZLoBJHcCMyaZQHitqmhZ…</td><td>&quot;33-332-697-2768&quot;</td><td>&quot;sual requests. carefully regul…</td></tr><tr><td>-314.06</td><td>&quot;Supplier#000000510&quot;</td><td>&quot;ROMANIA&quot;</td><td>17242</td><td>&quot;Manufacturer#4&quot;</td><td>&quot;6E3aFs0w2SiImzMDSewWtzOwdpLz2&quot;</td><td>&quot;29-207-852-3454&quot;</td><td>&quot;lyly regular accounts. deposit…</td></tr><tr><td>-845.44</td><td>&quot;Supplier#000000704&quot;</td><td>&quot;ROMANIA&quot;</td><td>9926</td><td>&quot;Manufacturer#5&quot;</td><td>&quot;KawFpBPAADrVnKC,pLL9q3TSyHG9x&quot;</td><td>&quot;29-300-896-5991&quot;</td><td>&quot;ous pearls boost carefully&quot;</td></tr></tbody></table></div>"
      ],
      "text/plain": [
       "shape: (27, 8)\n",
       "┌────────────┬────────────┬────────────┬───────────┬───────────┬───────────┬───────────┬───────────┐\n",
       "│ s_acctbal  ┆ s_name     ┆ n_name     ┆ p_partkey ┆ p_mfgr    ┆ s_address ┆ s_phone   ┆ s_comment │\n",
       "│ ---        ┆ ---        ┆ ---        ┆ ---       ┆ ---       ┆ ---       ┆ ---       ┆ ---       │\n",
       "│ decimal[15 ┆ str        ┆ str        ┆ i64       ┆ str       ┆ str       ┆ str       ┆ str       │\n",
       "│ ,2]        ┆            ┆            ┆           ┆           ┆           ┆           ┆           │\n",
       "╞════════════╪════════════╪════════════╪═══════════╪═══════════╪═══════════╪═══════════╪═══════════╡\n",
       "│ 9508.37    ┆ Supplier#0 ┆ FRANCE     ┆ 3563      ┆ Manufactu ┆ jd4djZv0c ┆ 16-821-60 ┆ n instruc │\n",
       "│            ┆ 00000070   ┆            ┆           ┆ rer#1     ┆ c5KdnA0q9 ┆ 8-1166    ┆ tions are │\n",
       "│            ┆            ┆            ┆           ┆           ┆ oOqvceaPU ┆           ┆ about the │\n",
       "│            ┆            ┆            ┆           ┆           ┆ bNl…      ┆           ┆ i…        │\n",
       "│ 9508.37    ┆ Supplier#0 ┆ FRANCE     ┆ 17268     ┆ Manufactu ┆ jd4djZv0c ┆ 16-821-60 ┆ n instruc │\n",
       "│            ┆ 00000070   ┆            ┆           ┆ rer#4     ┆ c5KdnA0q9 ┆ 8-1166    ┆ tions are │\n",
       "│            ┆            ┆            ┆           ┆           ┆ oOqvceaPU ┆           ┆ about the │\n",
       "│            ┆            ┆            ┆           ┆           ┆ bNl…      ┆           ┆ i…        │\n",
       "│ 9453.01    ┆ Supplier#0 ┆ ROMANIA    ┆ 10021     ┆ Manufactu ┆ 1Uj23QWxQ ┆ 29-342-88 ┆ s         │\n",
       "│            ┆ 00000802   ┆            ┆           ┆ rer#5     ┆ jj7EyeqHW ┆ 2-6463    ┆ according │\n",
       "│            ┆            ┆            ┆           ┆           ┆ qGWTbN    ┆           ┆ to the    │\n",
       "│            ┆            ┆            ┆           ┆           ┆           ┆           ┆ even      │\n",
       "│            ┆            ┆            ┆           ┆           ┆           ┆           ┆ deposi…   │\n",
       "│ 9453.01    ┆ Supplier#0 ┆ ROMANIA    ┆ 13275     ┆ Manufactu ┆ 1Uj23QWxQ ┆ 29-342-88 ┆ s         │\n",
       "│            ┆ 00000802   ┆            ┆           ┆ rer#4     ┆ jj7EyeqHW ┆ 2-6463    ┆ according │\n",
       "│            ┆            ┆            ┆           ┆           ┆ qGWTbN    ┆           ┆ to the    │\n",
       "│            ┆            ┆            ┆           ┆           ┆           ┆           ┆ even      │\n",
       "│            ┆            ┆            ┆           ┆           ┆           ┆           ┆ deposi…   │\n",
       "│ 9198.31    ┆ Supplier#0 ┆ RUSSIA     ┆ 12238     ┆ Manufactu ┆ aoagce3el ┆ 32-431-94 ┆ quickly   │\n",
       "│            ┆ 00000025   ┆            ┆           ┆ rer#1     ┆ DACNssVvT ┆ 5-3541    ┆ pending   │\n",
       "│            ┆            ┆            ┆           ┆           ┆ LcQl55Up6 ┆           ┆ accounts  │\n",
       "│            ┆            ┆            ┆           ┆           ┆ EYA       ┆           ┆ cajol…    │\n",
       "│ …          ┆ …          ┆ …          ┆ …         ┆ …         ┆ …         ┆ …         ┆ …         │\n",
       "│ 683.07     ┆ Supplier#0 ┆ RUSSIA     ┆ 4888      ┆ Manufactu ┆ D4MGIq5Uz ┆ 32-181-42 ┆ ve to are │\n",
       "│            ┆ 00000651   ┆            ┆           ┆ rer#4     ┆ 0,K       ┆ 6-4490    ┆ slyly     │\n",
       "│            ┆            ┆            ┆           ┆           ┆           ┆           ┆ ironic    │\n",
       "│            ┆            ┆            ┆           ┆           ┆           ┆           ┆ asympto…  │\n",
       "│ 167.56     ┆ Supplier#0 ┆ FRANCE     ┆ 2037      ┆ Manufactu ┆ VpG,Ul5yv ┆ 16-675-28 ┆ carefully │\n",
       "│            ┆ 00000290   ┆            ┆           ┆ rer#1     ┆ 1RgAK,,   ┆ 6-5102    ┆ furiously │\n",
       "│            ┆            ┆            ┆           ┆           ┆           ┆           ┆ stealthy  │\n",
       "│            ┆            ┆            ┆           ┆           ┆           ┆           ┆ …         │\n",
       "│ 91.39      ┆ Supplier#0 ┆ UNITED     ┆ 9430      ┆ Manufactu ┆ R06m0VD95 ┆ 33-332-69 ┆ sual      │\n",
       "│            ┆ 00000949   ┆ KINGDOM    ┆           ┆ rer#2     ┆ FZLoBJHcC ┆ 7-2768    ┆ requests. │\n",
       "│            ┆            ┆            ┆           ┆           ┆ MyaZQHitq ┆           ┆ carefully │\n",
       "│            ┆            ┆            ┆           ┆           ┆ mhZ…      ┆           ┆ regul…    │\n",
       "│ -314.06    ┆ Supplier#0 ┆ ROMANIA    ┆ 17242     ┆ Manufactu ┆ 6E3aFs0w2 ┆ 29-207-85 ┆ lyly      │\n",
       "│            ┆ 00000510   ┆            ┆           ┆ rer#4     ┆ SiImzMDSe ┆ 2-3454    ┆ regular   │\n",
       "│            ┆            ┆            ┆           ┆           ┆ wWtzOwdpL ┆           ┆ accounts. │\n",
       "│            ┆            ┆            ┆           ┆           ┆ z2        ┆           ┆ deposit…  │\n",
       "│ -845.44    ┆ Supplier#0 ┆ ROMANIA    ┆ 9926      ┆ Manufactu ┆ KawFpBPAA ┆ 29-300-89 ┆ ous       │\n",
       "│            ┆ 00000704   ┆            ┆           ┆ rer#5     ┆ DrVnKC,pL ┆ 6-5991    ┆ pearls    │\n",
       "│            ┆            ┆            ┆           ┆           ┆ L9q3TSyHG ┆           ┆ boost     │\n",
       "│            ┆            ┆            ┆           ┆           ┆ 9x        ┆           ┆ carefully │\n",
       "└────────────┴────────────┴────────────┴───────────┴───────────┴───────────┴───────────┴───────────┘"
      ]
     },
     "execution_count": 11,
     "metadata": {},
     "output_type": "execute_result"
    }
   ],
   "source": [
    "dfs[0].select(OUTPUT_COLS)"
   ]
  },
  {
   "cell_type": "code",
   "execution_count": 12,
   "metadata": {},
   "outputs": [],
   "source": [
    "def numpyify(df: pl.DataFrame) -> np.ndarray:\n",
    "    return df.select(OUTPUT_COLS).to_numpy().flatten()"
   ]
  },
  {
   "cell_type": "code",
   "execution_count": 13,
   "metadata": {},
   "outputs": [
    {
     "data": {
      "text/html": [
       "<div><style>\n",
       ".dataframe > thead > tr,\n",
       ".dataframe > tbody > tr {\n",
       "  text-align: right;\n",
       "  white-space: pre-wrap;\n",
       "}\n",
       "</style>\n",
       "<small>shape: (27, 8)</small><table border=\"1\" class=\"dataframe\"><thead><tr><th>s_acctbal</th><th>s_name</th><th>n_name</th><th>p_partkey</th><th>p_mfgr</th><th>s_address</th><th>s_phone</th><th>s_comment</th></tr><tr><td>decimal[15,2]</td><td>str</td><td>str</td><td>i64</td><td>str</td><td>str</td><td>str</td><td>str</td></tr></thead><tbody><tr><td>9508.37</td><td>&quot;Supplier#000000070&quot;</td><td>&quot;FRANCE&quot;</td><td>3563</td><td>&quot;Manufacturer#1&quot;</td><td>&quot;jd4djZv0cc5KdnA0q9oOqvceaPUbNl…</td><td>&quot;16-821-608-1166&quot;</td><td>&quot;n instructions are about the i…</td></tr><tr><td>9508.37</td><td>&quot;Supplier#000000070&quot;</td><td>&quot;FRANCE&quot;</td><td>17268</td><td>&quot;Manufacturer#4&quot;</td><td>&quot;jd4djZv0cc5KdnA0q9oOqvceaPUbNl…</td><td>&quot;16-821-608-1166&quot;</td><td>&quot;n instructions are about the i…</td></tr><tr><td>9453.01</td><td>&quot;Supplier#000000802&quot;</td><td>&quot;ROMANIA&quot;</td><td>10021</td><td>&quot;Manufacturer#5&quot;</td><td>&quot;1Uj23QWxQjj7EyeqHWqGWTbN&quot;</td><td>&quot;29-342-882-6463&quot;</td><td>&quot;s according to the even deposi…</td></tr><tr><td>9453.01</td><td>&quot;Supplier#000000802&quot;</td><td>&quot;ROMANIA&quot;</td><td>13275</td><td>&quot;Manufacturer#4&quot;</td><td>&quot;1Uj23QWxQjj7EyeqHWqGWTbN&quot;</td><td>&quot;29-342-882-6463&quot;</td><td>&quot;s according to the even deposi…</td></tr><tr><td>9198.31</td><td>&quot;Supplier#000000025&quot;</td><td>&quot;RUSSIA&quot;</td><td>12238</td><td>&quot;Manufacturer#1&quot;</td><td>&quot;aoagce3elDACNssVvTLcQl55Up6EYA&quot;</td><td>&quot;32-431-945-3541&quot;</td><td>&quot;quickly pending accounts cajol…</td></tr><tr><td>&hellip;</td><td>&hellip;</td><td>&hellip;</td><td>&hellip;</td><td>&hellip;</td><td>&hellip;</td><td>&hellip;</td><td>&hellip;</td></tr><tr><td>683.07</td><td>&quot;Supplier#000000651&quot;</td><td>&quot;RUSSIA&quot;</td><td>4888</td><td>&quot;Manufacturer#4&quot;</td><td>&quot;D4MGIq5Uz0,K&quot;</td><td>&quot;32-181-426-4490&quot;</td><td>&quot;ve to are slyly ironic asympto…</td></tr><tr><td>167.56</td><td>&quot;Supplier#000000290&quot;</td><td>&quot;FRANCE&quot;</td><td>2037</td><td>&quot;Manufacturer#1&quot;</td><td>&quot;VpG,Ul5yv1RgAK,,&quot;</td><td>&quot;16-675-286-5102&quot;</td><td>&quot; carefully furiously stealthy …</td></tr><tr><td>91.39</td><td>&quot;Supplier#000000949&quot;</td><td>&quot;UNITED KINGDOM&quot;</td><td>9430</td><td>&quot;Manufacturer#2&quot;</td><td>&quot;R06m0VD95FZLoBJHcCMyaZQHitqmhZ…</td><td>&quot;33-332-697-2768&quot;</td><td>&quot;sual requests. carefully regul…</td></tr><tr><td>-314.06</td><td>&quot;Supplier#000000510&quot;</td><td>&quot;ROMANIA&quot;</td><td>17242</td><td>&quot;Manufacturer#4&quot;</td><td>&quot;6E3aFs0w2SiImzMDSewWtzOwdpLz2&quot;</td><td>&quot;29-207-852-3454&quot;</td><td>&quot;lyly regular accounts. deposit…</td></tr><tr><td>-845.44</td><td>&quot;Supplier#000000704&quot;</td><td>&quot;ROMANIA&quot;</td><td>9926</td><td>&quot;Manufacturer#5&quot;</td><td>&quot;KawFpBPAADrVnKC,pLL9q3TSyHG9x&quot;</td><td>&quot;29-300-896-5991&quot;</td><td>&quot;ous pearls boost carefully&quot;</td></tr></tbody></table></div>"
      ],
      "text/plain": [
       "shape: (27, 8)\n",
       "┌────────────┬────────────┬────────────┬───────────┬───────────┬───────────┬───────────┬───────────┐\n",
       "│ s_acctbal  ┆ s_name     ┆ n_name     ┆ p_partkey ┆ p_mfgr    ┆ s_address ┆ s_phone   ┆ s_comment │\n",
       "│ ---        ┆ ---        ┆ ---        ┆ ---       ┆ ---       ┆ ---       ┆ ---       ┆ ---       │\n",
       "│ decimal[15 ┆ str        ┆ str        ┆ i64       ┆ str       ┆ str       ┆ str       ┆ str       │\n",
       "│ ,2]        ┆            ┆            ┆           ┆           ┆           ┆           ┆           │\n",
       "╞════════════╪════════════╪════════════╪═══════════╪═══════════╪═══════════╪═══════════╪═══════════╡\n",
       "│ 9508.37    ┆ Supplier#0 ┆ FRANCE     ┆ 3563      ┆ Manufactu ┆ jd4djZv0c ┆ 16-821-60 ┆ n instruc │\n",
       "│            ┆ 00000070   ┆            ┆           ┆ rer#1     ┆ c5KdnA0q9 ┆ 8-1166    ┆ tions are │\n",
       "│            ┆            ┆            ┆           ┆           ┆ oOqvceaPU ┆           ┆ about the │\n",
       "│            ┆            ┆            ┆           ┆           ┆ bNl…      ┆           ┆ i…        │\n",
       "│ 9508.37    ┆ Supplier#0 ┆ FRANCE     ┆ 17268     ┆ Manufactu ┆ jd4djZv0c ┆ 16-821-60 ┆ n instruc │\n",
       "│            ┆ 00000070   ┆            ┆           ┆ rer#4     ┆ c5KdnA0q9 ┆ 8-1166    ┆ tions are │\n",
       "│            ┆            ┆            ┆           ┆           ┆ oOqvceaPU ┆           ┆ about the │\n",
       "│            ┆            ┆            ┆           ┆           ┆ bNl…      ┆           ┆ i…        │\n",
       "│ 9453.01    ┆ Supplier#0 ┆ ROMANIA    ┆ 10021     ┆ Manufactu ┆ 1Uj23QWxQ ┆ 29-342-88 ┆ s         │\n",
       "│            ┆ 00000802   ┆            ┆           ┆ rer#5     ┆ jj7EyeqHW ┆ 2-6463    ┆ according │\n",
       "│            ┆            ┆            ┆           ┆           ┆ qGWTbN    ┆           ┆ to the    │\n",
       "│            ┆            ┆            ┆           ┆           ┆           ┆           ┆ even      │\n",
       "│            ┆            ┆            ┆           ┆           ┆           ┆           ┆ deposi…   │\n",
       "│ 9453.01    ┆ Supplier#0 ┆ ROMANIA    ┆ 13275     ┆ Manufactu ┆ 1Uj23QWxQ ┆ 29-342-88 ┆ s         │\n",
       "│            ┆ 00000802   ┆            ┆           ┆ rer#4     ┆ jj7EyeqHW ┆ 2-6463    ┆ according │\n",
       "│            ┆            ┆            ┆           ┆           ┆ qGWTbN    ┆           ┆ to the    │\n",
       "│            ┆            ┆            ┆           ┆           ┆           ┆           ┆ even      │\n",
       "│            ┆            ┆            ┆           ┆           ┆           ┆           ┆ deposi…   │\n",
       "│ 9198.31    ┆ Supplier#0 ┆ RUSSIA     ┆ 12238     ┆ Manufactu ┆ aoagce3el ┆ 32-431-94 ┆ quickly   │\n",
       "│            ┆ 00000025   ┆            ┆           ┆ rer#1     ┆ DACNssVvT ┆ 5-3541    ┆ pending   │\n",
       "│            ┆            ┆            ┆           ┆           ┆ LcQl55Up6 ┆           ┆ accounts  │\n",
       "│            ┆            ┆            ┆           ┆           ┆ EYA       ┆           ┆ cajol…    │\n",
       "│ …          ┆ …          ┆ …          ┆ …         ┆ …         ┆ …         ┆ …         ┆ …         │\n",
       "│ 683.07     ┆ Supplier#0 ┆ RUSSIA     ┆ 4888      ┆ Manufactu ┆ D4MGIq5Uz ┆ 32-181-42 ┆ ve to are │\n",
       "│            ┆ 00000651   ┆            ┆           ┆ rer#4     ┆ 0,K       ┆ 6-4490    ┆ slyly     │\n",
       "│            ┆            ┆            ┆           ┆           ┆           ┆           ┆ ironic    │\n",
       "│            ┆            ┆            ┆           ┆           ┆           ┆           ┆ asympto…  │\n",
       "│ 167.56     ┆ Supplier#0 ┆ FRANCE     ┆ 2037      ┆ Manufactu ┆ VpG,Ul5yv ┆ 16-675-28 ┆ carefully │\n",
       "│            ┆ 00000290   ┆            ┆           ┆ rer#1     ┆ 1RgAK,,   ┆ 6-5102    ┆ furiously │\n",
       "│            ┆            ┆            ┆           ┆           ┆           ┆           ┆ stealthy  │\n",
       "│            ┆            ┆            ┆           ┆           ┆           ┆           ┆ …         │\n",
       "│ 91.39      ┆ Supplier#0 ┆ UNITED     ┆ 9430      ┆ Manufactu ┆ R06m0VD95 ┆ 33-332-69 ┆ sual      │\n",
       "│            ┆ 00000949   ┆ KINGDOM    ┆           ┆ rer#2     ┆ FZLoBJHcC ┆ 7-2768    ┆ requests. │\n",
       "│            ┆            ┆            ┆           ┆           ┆ MyaZQHitq ┆           ┆ carefully │\n",
       "│            ┆            ┆            ┆           ┆           ┆ mhZ…      ┆           ┆ regul…    │\n",
       "│ -314.06    ┆ Supplier#0 ┆ ROMANIA    ┆ 17242     ┆ Manufactu ┆ 6E3aFs0w2 ┆ 29-207-85 ┆ lyly      │\n",
       "│            ┆ 00000510   ┆            ┆           ┆ rer#4     ┆ SiImzMDSe ┆ 2-3454    ┆ regular   │\n",
       "│            ┆            ┆            ┆           ┆           ┆ wWtzOwdpL ┆           ┆ accounts. │\n",
       "│            ┆            ┆            ┆           ┆           ┆ z2        ┆           ┆ deposit…  │\n",
       "│ -845.44    ┆ Supplier#0 ┆ ROMANIA    ┆ 9926      ┆ Manufactu ┆ KawFpBPAA ┆ 29-300-89 ┆ ous       │\n",
       "│            ┆ 00000704   ┆            ┆           ┆ rer#5     ┆ DrVnKC,pL ┆ 6-5991    ┆ pearls    │\n",
       "│            ┆            ┆            ┆           ┆           ┆ L9q3TSyHG ┆           ┆ boost     │\n",
       "│            ┆            ┆            ┆           ┆           ┆ 9x        ┆           ┆ carefully │\n",
       "└────────────┴────────────┴────────────┴───────────┴───────────┴───────────┴───────────┴───────────┘"
      ]
     },
     "execution_count": 13,
     "metadata": {},
     "output_type": "execute_result"
    }
   ],
   "source": [
    "dfs[0]"
   ]
  },
  {
   "cell_type": "code",
   "execution_count": 14,
   "metadata": {},
   "outputs": [],
   "source": [
    "def tablify(arr: np.ndarray) -> pl.DataFrame:\n",
    "    global OUTPUT_SHAPE, OUTPUT_SCHEMA\n",
    "    return dfs[0].update( # put values back into the original dataframe\n",
    "        pl.DataFrame(\n",
    "            arr.reshape(OUTPUT_SHAPE), # reshape to the original shape\n",
    "            schema=OUTPUT_SCHEMA # coerce numpy array to the correct schema\n",
    "        ) # index cols will be left unchanged (not updated b/c we only update output_cols)\n",
    "    )"
   ]
  },
  {
   "cell_type": "markdown",
   "metadata": {},
   "source": [
    "Samples in numpy format are saved to disk in a variety of ways, all of which contain the same data:\n",
    "- `npy` contains arrays saved in the Numpy format. See https://numpy.org/doc/stable/reference/generated/numpy.lib.format.html\n",
    "- `npcsv` contains numpy arrays saved in the CSV format. These are 1D arrays of whatever data type (probably float) is in the table.\n",
    "- `nparr.npz` contains all the numpy arrays saved in the Numpy format for saving multiple arrays in one file. See https://numpy.org/doc/stable/reference/generated/numpy.savez.html\n",
    "- `nparr.pkl` contains the python list of numpy arrays in a binary format, if you don't want to use the numpy format for some reason."
   ]
  },
  {
   "cell_type": "code",
   "execution_count": 15,
   "metadata": {},
   "outputs": [],
   "source": [
    "# Convert the DataFrames to numpy arrays\n",
    "nparr = [numpyify(df) for df in dfs]\n",
    "\n",
    "# Save the numpy arrays to disk\n",
    "os.makedirs(f\"{OUTPUT_DIR}/npy\", exist_ok=True)\n",
    "os.makedirs(f\"{OUTPUT_DIR}/npcsv\", exist_ok=True)\n",
    "for i, arr in enumerate(nparr):\n",
    "    np.save(f\"{OUTPUT_DIR}/npy/arr_{i}.npy\", arr)\n",
    "for i, arr in enumerate(nparr):\n",
    "    with open(f\"{OUTPUT_DIR}/npcsv/arr_{i}.csv\", \"w\", newline='') as f:\n",
    "        writer = csv.writer(f)\n",
    "        writer.writerow(arr)\n",
    "np.savez(f\"{OUTPUT_DIR}/nparr.npz\", *nparr)\n",
    "with open(f\"{OUTPUT_DIR}/nparr.pkl\", \"wb\") as f:\n",
    "    pickle.dump(nparr, f)"
   ]
  },
  {
   "cell_type": "markdown",
   "metadata": {},
   "source": [
    "Here is an example of how to load the `npz` file into an array of 'samples' where the samples are each a 1d numpy array.\n",
    "```python\n",
    "test = np.load(f\"{OUTPUT_DIR}/nparr.npz\")\n",
    "npsamples = [test[f'arr_{i}'] for i in range(SAMPLES)]\n",
    "```"
   ]
  },
  {
   "cell_type": "code",
   "execution_count": 16,
   "metadata": {},
   "outputs": [
    {
     "data": {
      "text/plain": [
       "(216,)"
      ]
     },
     "execution_count": 16,
     "metadata": {},
     "output_type": "execute_result"
    }
   ],
   "source": [
    "test = np.load(f\"{OUTPUT_DIR}/nparr.npz\", allow_pickle=True)\n",
    "npsamples = [test[f'arr_{i}'] for i in range(SAMPLES)]\n",
    "npsamples[0].shape"
   ]
  },
  {
   "cell_type": "code",
   "execution_count": null,
   "metadata": {},
   "outputs": [
    {
     "data": {
      "text/plain": [
       "'/Users/michael/projects/dpdb/pacdb/outputs/pac-duckdb-q2.zip'"
      ]
     },
     "execution_count": 17,
     "metadata": {},
     "output_type": "execute_result"
    }
   ],
   "source": [
    "# zip the OUTPUT_DIR\n",
    "shutil.make_archive(OUTPUT_DIR, \"zip\", OUTPUT_DIR)"
   ]
  }
 ],
 "metadata": {
  "kernelspec": {
   "display_name": ".venv",
   "language": "python",
   "name": "python3"
  },
  "language_info": {
   "codemirror_mode": {
    "name": "ipython",
    "version": 3
   },
   "file_extension": ".py",
   "mimetype": "text/x-python",
   "name": "python",
   "nbconvert_exporter": "python",
   "pygments_lexer": "ipython3",
   "version": "3.11.7"
  }
 },
 "nbformat": 4,
 "nbformat_minor": 2
}
