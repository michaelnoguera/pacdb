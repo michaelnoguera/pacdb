{
 "cells": [
  {
   "cell_type": "code",
   "execution_count": 1,
   "id": "eba650e4",
   "metadata": {
    "execution": {
     "iopub.execute_input": "2025-05-01T08:50:04.503503Z",
     "iopub.status.busy": "2025-05-01T08:50:04.503207Z",
     "iopub.status.idle": "2025-05-01T08:50:04.549512Z",
     "shell.execute_reply": "2025-05-01T08:50:04.549121Z"
    },
    "papermill": {
     "duration": 0.052386,
     "end_time": "2025-05-01T08:50:04.550439",
     "exception": false,
     "start_time": "2025-05-01T08:50:04.498053",
     "status": "completed"
    },
    "tags": []
   },
   "outputs": [],
   "source": [
    "#!/usr/bin/env python\n",
    "# coding: utf-8\n",
    "\n",
    "import json\n",
    "import os\n",
    "import pickle\n",
    "import shutil\n",
    "import zipfile\n",
    "\n",
    "import parse\n",
    "import polars as pl"
   ]
  },
  {
   "cell_type": "code",
   "execution_count": 2,
   "id": "5bbee7d0",
   "metadata": {
    "execution": {
     "iopub.execute_input": "2025-05-01T08:50:04.554004Z",
     "iopub.status.busy": "2025-05-01T08:50:04.553879Z",
     "iopub.status.idle": "2025-05-01T08:50:04.555973Z",
     "shell.execute_reply": "2025-05-01T08:50:04.555683Z"
    },
    "papermill": {
     "duration": 0.004546,
     "end_time": "2025-05-01T08:50:04.556778",
     "exception": false,
     "start_time": "2025-05-01T08:50:04.552232",
     "status": "completed"
    },
    "tags": [
     "parameters"
    ]
   },
   "outputs": [],
   "source": [
    "#EXPERIMENT = \"asdf\"\n",
    "#INPUT_ZIP = f\"./outputs/{EXPERIMENT}-step2.zip\"\n",
    "#OUTPUT_DIR = f\"./outputs/{EXPERIMENT}-step3\"\n",
    "#INDEX_COLS = pickle.load(open(f'./outputs/{EXPERIMENT}-step1/INDEX_COLS.pkl', 'rb'))\n",
    "#OUTPUT_COLS = pickle.load(open(f'./outputs/{EXPERIMENT}-step1/OUTPUT_COLS.pkl', 'rb'))\n",
    "#templatedf_path = f\"./outputs/{EXPERIMENT}-step2/templatedf.csv\"\n",
    "EXPERIMENT = \"\"\n",
    "INPUT_ZIP = \"\"\n",
    "OUTPUT_DIR = \"\"\n",
    "INDEX_COLS = []\n",
    "OUTPUT_COLS = []\n",
    "templatedf_path = \"\""
   ]
  },
  {
   "cell_type": "code",
   "execution_count": 3,
   "id": "0066dcd9",
   "metadata": {
    "execution": {
     "iopub.execute_input": "2025-05-01T08:50:04.560038Z",
     "iopub.status.busy": "2025-05-01T08:50:04.559824Z",
     "iopub.status.idle": "2025-05-01T08:50:04.561678Z",
     "shell.execute_reply": "2025-05-01T08:50:04.561452Z"
    },
    "papermill": {
     "duration": 0.004081,
     "end_time": "2025-05-01T08:50:04.562337",
     "exception": false,
     "start_time": "2025-05-01T08:50:04.558256",
     "status": "completed"
    },
    "tags": [
     "injected-parameters"
    ]
   },
   "outputs": [],
   "source": [
    "# Parameters\n",
    "EXPERIMENT = \"ap-duckdb-q8-customer\"\n",
    "OUTPUT_DIR = \"./outputs/ap-duckdb-q8-customer-step3\"\n",
    "INPUT_ZIP = \"./outputs/ap-duckdb-q8-customer-step2.zip\"\n",
    "INDEX_COLS = [\"o_year\"]\n",
    "OUTPUT_COLS = [\"mkt_share\"]\n",
    "templatedf_path = \"./outputs/ap-duckdb-q8-customer-step1/template.pkl\"\n"
   ]
  },
  {
   "cell_type": "code",
   "execution_count": 4,
   "id": "7eeff702",
   "metadata": {
    "execution": {
     "iopub.execute_input": "2025-05-01T08:50:04.565589Z",
     "iopub.status.busy": "2025-05-01T08:50:04.565485Z",
     "iopub.status.idle": "2025-05-01T08:50:04.567171Z",
     "shell.execute_reply": "2025-05-01T08:50:04.566962Z"
    },
    "papermill": {
     "duration": 0.004338,
     "end_time": "2025-05-01T08:50:04.567941",
     "exception": false,
     "start_time": "2025-05-01T08:50:04.563603",
     "status": "completed"
    },
    "tags": []
   },
   "outputs": [],
   "source": [
    "INDEX_COLS = INDEX_COLS or [\"\"] # if no index cols are provided, then we make one up with empty string name in step 1\n",
    "\n",
    "if not os.path.exists(OUTPUT_DIR):\n",
    "    os.makedirs(OUTPUT_DIR)"
   ]
  },
  {
   "cell_type": "code",
   "execution_count": 5,
   "id": "257dec28",
   "metadata": {
    "execution": {
     "iopub.execute_input": "2025-05-01T08:50:04.571715Z",
     "iopub.status.busy": "2025-05-01T08:50:04.571607Z",
     "iopub.status.idle": "2025-05-01T08:50:04.574524Z",
     "shell.execute_reply": "2025-05-01T08:50:04.574310Z"
    },
    "papermill": {
     "duration": 0.00555,
     "end_time": "2025-05-01T08:50:04.575177",
     "exception": false,
     "start_time": "2025-05-01T08:50:04.569627",
     "status": "completed"
    },
    "tags": []
   },
   "outputs": [],
   "source": [
    "# Import saved variables from the first step\n",
    "templatedf: pl.DataFrame = pickle.load(open(templatedf_path, 'rb'))"
   ]
  },
  {
   "cell_type": "code",
   "execution_count": 6,
   "id": "ab3a80fe",
   "metadata": {
    "execution": {
     "iopub.execute_input": "2025-05-01T08:50:04.578459Z",
     "iopub.status.busy": "2025-05-01T08:50:04.578351Z",
     "iopub.status.idle": "2025-05-01T08:50:04.582832Z",
     "shell.execute_reply": "2025-05-01T08:50:04.582585Z"
    },
    "papermill": {
     "duration": 0.006813,
     "end_time": "2025-05-01T08:50:04.583508",
     "exception": false,
     "start_time": "2025-05-01T08:50:04.576695",
     "status": "completed"
    },
    "tags": []
   },
   "outputs": [
    {
     "data": {
      "text/plain": [
       "dict_keys([0, 1])"
      ]
     },
     "execution_count": 6,
     "metadata": {},
     "output_type": "execute_result"
    }
   ],
   "source": [
    "# load the json input files from step 2\n",
    "# {'col': column name as string,\n",
    "#  'row': group-by column values as dict (effectively a row id),\n",
    "#  'values': [ 1000x values ] }\n",
    "alldata = {}\n",
    "\n",
    "pattern = parse.compile(\"{n}.json\")\n",
    "\n",
    "with zipfile.ZipFile(INPUT_ZIP, 'r') as zf:\n",
    "    for filename in zf.namelist():\n",
    "        if filename.endswith('.json'):\n",
    "            with zf.open(filename) as f:\n",
    "                filenumber = int(pattern.parse(filename).named['n'])\n",
    "                data = json.load(f)\n",
    "                d: dict = data\n",
    "                alldata[filenumber] = d\n",
    "alldata.keys()"
   ]
  },
  {
   "cell_type": "code",
   "execution_count": 7,
   "id": "fa47deff",
   "metadata": {
    "execution": {
     "iopub.execute_input": "2025-05-01T08:50:04.586983Z",
     "iopub.status.busy": "2025-05-01T08:50:04.586873Z",
     "iopub.status.idle": "2025-05-01T08:50:04.590262Z",
     "shell.execute_reply": "2025-05-01T08:50:04.589992Z"
    },
    "papermill": {
     "duration": 0.006076,
     "end_time": "2025-05-01T08:50:04.590942",
     "exception": false,
     "start_time": "2025-05-01T08:50:04.584866",
     "status": "completed"
    },
    "tags": []
   },
   "outputs": [],
   "source": [
    "# Make sure the data types of the row fields are correct\n",
    "for i in range(len(alldata)):\n",
    "    alldata[i]['row'] = pl.DataFrame(alldata[i]['row']).cast(templatedf.select(INDEX_COLS).schema).to_dicts()[0]"
   ]
  },
  {
   "cell_type": "code",
   "execution_count": 8,
   "id": "1d086fc3",
   "metadata": {
    "execution": {
     "iopub.execute_input": "2025-05-01T08:50:04.593709Z",
     "iopub.status.busy": "2025-05-01T08:50:04.593612Z",
     "iopub.status.idle": "2025-05-01T08:50:04.595910Z",
     "shell.execute_reply": "2025-05-01T08:50:04.595695Z"
    },
    "papermill": {
     "duration": 0.004321,
     "end_time": "2025-05-01T08:50:04.596524",
     "exception": false,
     "start_time": "2025-05-01T08:50:04.592203",
     "status": "completed"
    },
    "tags": []
   },
   "outputs": [
    {
     "data": {
      "text/html": [
       "<div><style>\n",
       ".dataframe > thead > tr,\n",
       ".dataframe > tbody > tr {\n",
       "  text-align: right;\n",
       "  white-space: pre-wrap;\n",
       "}\n",
       "</style>\n",
       "<small>shape: (2, 1)</small><table border=\"1\" class=\"dataframe\"><thead><tr><th>o_year</th></tr><tr><td>i64</td></tr></thead><tbody><tr><td>1995</td></tr><tr><td>1996</td></tr></tbody></table></div>"
      ],
      "text/plain": [
       "shape: (2, 1)\n",
       "┌────────┐\n",
       "│ o_year │\n",
       "│ ---    │\n",
       "│ i64    │\n",
       "╞════════╡\n",
       "│ 1995   │\n",
       "│ 1996   │\n",
       "└────────┘"
      ]
     },
     "execution_count": 8,
     "metadata": {},
     "output_type": "execute_result"
    }
   ],
   "source": [
    "allgroups = templatedf.select(INDEX_COLS)\n",
    "allgroups"
   ]
  },
  {
   "cell_type": "code",
   "execution_count": 9,
   "id": "0b249a7b",
   "metadata": {
    "execution": {
     "iopub.execute_input": "2025-05-01T08:50:04.599390Z",
     "iopub.status.busy": "2025-05-01T08:50:04.599300Z",
     "iopub.status.idle": "2025-05-01T08:50:04.603494Z",
     "shell.execute_reply": "2025-05-01T08:50:04.603238Z"
    },
    "papermill": {
     "duration": 0.006321,
     "end_time": "2025-05-01T08:50:04.604123",
     "exception": false,
     "start_time": "2025-05-01T08:50:04.597802",
     "status": "completed"
    },
    "tags": []
   },
   "outputs": [
    {
     "name": "stdout",
     "output_type": "stream",
     "text": [
      "{'o_year': 1995}\n",
      "{'o_year': 1996}\n"
     ]
    }
   ],
   "source": [
    "# Cursed data shuffling to reidentify what row goes where, what column goes where, and what the labels should be on everything\n",
    "colidxes = {}\n",
    "for col in OUTPUT_COLS:\n",
    "    colidxes[col] = templatedf.get_column_index(col)\n",
    "rowidxes = {}\n",
    "for row in templatedf.select(INDEX_COLS).iter_rows(named=True):\n",
    "    rowidxes[tuple(row.values())] = allgroups.with_row_index().filter(\n",
    "        pl.col(k).eq(v)\n",
    "        for k, v in row.items()\n",
    "    ).select(\"index\").item()\n",
    "    print(row)\n",
    "\n",
    "allinfo = [\n",
    "    {\"colname\": adentry['col'],\n",
    "    \"rowid\": tuple(adentry['row'].values()),\n",
    "    \"value\": adentry['value'][0],\n",
    "    \"colidx\": colidxes[adentry['col']],\n",
    "    \"rowidx\": rowidxes[tuple(adentry['row'].values())]}\n",
    "    for adidx, adentry in alldata.items()\n",
    "]\n",
    "\n",
    "colnames = {}\n",
    "rownames = {}\n",
    "for entry in allinfo:\n",
    "    colnames[entry['colidx']] = entry['colname']\n",
    "    rownames[entry['rowidx']] = entry['rowid']"
   ]
  },
  {
   "cell_type": "markdown",
   "id": "61e58b37",
   "metadata": {
    "papermill": {
     "duration": 0.00121,
     "end_time": "2025-05-01T08:50:04.606744",
     "exception": false,
     "start_time": "2025-05-01T08:50:04.605534",
     "status": "completed"
    },
    "tags": []
   },
   "source": [
    "Naive reconstruction"
   ]
  },
  {
   "cell_type": "code",
   "execution_count": 10,
   "id": "c6da70b0",
   "metadata": {
    "execution": {
     "iopub.execute_input": "2025-05-01T08:50:04.609603Z",
     "iopub.status.busy": "2025-05-01T08:50:04.609487Z",
     "iopub.status.idle": "2025-05-01T08:50:04.665006Z",
     "shell.execute_reply": "2025-05-01T08:50:04.663987Z"
    },
    "papermill": {
     "duration": 0.058995,
     "end_time": "2025-05-01T08:50:04.666918",
     "exception": false,
     "start_time": "2025-05-01T08:50:04.607923",
     "status": "completed"
    },
    "tags": []
   },
   "outputs": [
    {
     "name": "stdout",
     "output_type": "stream",
     "text": [
      "['o_year', 'mkt_share']\n",
      "[1995, 0.06347608430323982]\n",
      "[1996, -0.0032429737199120255]\n"
     ]
    }
   ],
   "source": [
    "# Naive reconstruction based on the indices of the keys in the templatedf\n",
    "allcols = INDEX_COLS + OUTPUT_COLS\n",
    "allrows = allgroups.select(INDEX_COLS).to_numpy().tolist()\n",
    "\n",
    "allinfo2 = {\n",
    "    (rowidxes[tuple(adentry['row'].values())], colidxes[adentry['col']]): adentry['value'][0]\n",
    "    for adidx, adentry in alldata.items()\n",
    "}\n",
    "\n",
    "df2 = []\n",
    "print(allcols)\n",
    "for row in allrows:\n",
    "    print(row + [allinfo2.get((rowidxes[tuple(row)], colidxes[col]), None) for col in OUTPUT_COLS])\n",
    "    df2.append(row + [allinfo2.get((rowidxes[tuple(row)], colidxes[col]), None) for col in OUTPUT_COLS])"
   ]
  },
  {
   "cell_type": "code",
   "execution_count": 11,
   "id": "396c2efa",
   "metadata": {
    "execution": {
     "iopub.execute_input": "2025-05-01T08:50:04.676323Z",
     "iopub.status.busy": "2025-05-01T08:50:04.675823Z",
     "iopub.status.idle": "2025-05-01T08:50:04.687470Z",
     "shell.execute_reply": "2025-05-01T08:50:04.686142Z"
    },
    "papermill": {
     "duration": 0.01803,
     "end_time": "2025-05-01T08:50:04.689741",
     "exception": false,
     "start_time": "2025-05-01T08:50:04.671711",
     "status": "completed"
    },
    "tags": []
   },
   "outputs": [
    {
     "data": {
      "text/html": [
       "<div><style>\n",
       ".dataframe > thead > tr,\n",
       ".dataframe > tbody > tr {\n",
       "  text-align: right;\n",
       "  white-space: pre-wrap;\n",
       "}\n",
       "</style>\n",
       "<small>shape: (2, 2)</small><table border=\"1\" class=\"dataframe\"><thead><tr><th>o_year</th><th>mkt_share</th></tr><tr><td>i64</td><td>f64</td></tr></thead><tbody><tr><td>1995</td><td>0.063476</td></tr><tr><td>1996</td><td>-0.003243</td></tr></tbody></table></div>"
      ],
      "text/plain": [
       "shape: (2, 2)\n",
       "┌────────┬───────────┐\n",
       "│ o_year ┆ mkt_share │\n",
       "│ ---    ┆ ---       │\n",
       "│ i64    ┆ f64       │\n",
       "╞════════╪═══════════╡\n",
       "│ 1995   ┆ 0.063476  │\n",
       "│ 1996   ┆ -0.003243 │\n",
       "└────────┴───────────┘"
      ]
     },
     "execution_count": 11,
     "metadata": {},
     "output_type": "execute_result"
    }
   ],
   "source": [
    "pl.DataFrame(df2, schema=allcols, orient='row').cast(templatedf.schema)"
   ]
  },
  {
   "cell_type": "code",
   "execution_count": 12,
   "id": "22658efb",
   "metadata": {
    "execution": {
     "iopub.execute_input": "2025-05-01T08:50:04.699652Z",
     "iopub.status.busy": "2025-05-01T08:50:04.699296Z",
     "iopub.status.idle": "2025-05-01T08:50:04.710076Z",
     "shell.execute_reply": "2025-05-01T08:50:04.708873Z"
    },
    "papermill": {
     "duration": 0.016235,
     "end_time": "2025-05-01T08:50:04.712132",
     "exception": false,
     "start_time": "2025-05-01T08:50:04.695897",
     "status": "completed"
    },
    "tags": []
   },
   "outputs": [],
   "source": [
    "pl.DataFrame(df2, schema=allcols, orient='row').cast(templatedf.schema).write_csv(os.path.join(OUTPUT_DIR, 'output.csv'))"
   ]
  },
  {
   "cell_type": "code",
   "execution_count": 13,
   "id": "fbf29824",
   "metadata": {
    "execution": {
     "iopub.execute_input": "2025-05-01T08:50:04.722774Z",
     "iopub.status.busy": "2025-05-01T08:50:04.722488Z",
     "iopub.status.idle": "2025-05-01T08:50:04.729748Z",
     "shell.execute_reply": "2025-05-01T08:50:04.728999Z"
    },
    "papermill": {
     "duration": 0.016678,
     "end_time": "2025-05-01T08:50:04.733333",
     "exception": false,
     "start_time": "2025-05-01T08:50:04.716655",
     "status": "completed"
    },
    "tags": []
   },
   "outputs": [
    {
     "data": {
      "text/plain": [
       "'/Users/michael/projects/dpdb/pacdb/outputs/ap-duckdb-q8-customer-step3.zip'"
      ]
     },
     "execution_count": 13,
     "metadata": {},
     "output_type": "execute_result"
    }
   ],
   "source": [
    "# zip the OUTPUT_DIR\n",
    "shutil.make_archive(OUTPUT_DIR, 'zip', OUTPUT_DIR)"
   ]
  }
 ],
 "metadata": {
  "kernelspec": {
   "display_name": ".venv",
   "language": "python",
   "name": "python3"
  },
  "language_info": {
   "codemirror_mode": {
    "name": "ipython",
    "version": 3
   },
   "file_extension": ".py",
   "mimetype": "text/x-python",
   "name": "python",
   "nbconvert_exporter": "python",
   "pygments_lexer": "ipython3",
   "version": "3.11.7"
  },
  "papermill": {
   "default_parameters": {},
   "duration": 1.077753,
   "end_time": "2025-05-01T08:50:04.956112",
   "environment_variables": {},
   "exception": null,
   "input_path": "autopac-duckdb-step3.ipynb",
   "output_path": "./ap-duckdb-q8-customer-step3.ipynb",
   "parameters": {
    "EXPERIMENT": "ap-duckdb-q8-customer",
    "INDEX_COLS": [
     "o_year"
    ],
    "INPUT_ZIP": "./outputs/ap-duckdb-q8-customer-step2.zip",
    "OUTPUT_COLS": [
     "mkt_share"
    ],
    "OUTPUT_DIR": "./outputs/ap-duckdb-q8-customer-step3",
    "templatedf_path": "./outputs/ap-duckdb-q8-customer-step1/template.pkl"
   },
   "start_time": "2025-05-01T08:50:03.878359",
   "version": "2.6.0"
  }
 },
 "nbformat": 4,
 "nbformat_minor": 5
}