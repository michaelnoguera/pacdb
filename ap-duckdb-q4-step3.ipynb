{
 "cells": [
  {
   "cell_type": "code",
   "execution_count": 1,
   "id": "eba650e4",
   "metadata": {
    "execution": {
     "iopub.execute_input": "2025-04-25T05:46:58.966260Z",
     "iopub.status.busy": "2025-04-25T05:46:58.966025Z",
     "iopub.status.idle": "2025-04-25T05:46:59.014645Z",
     "shell.execute_reply": "2025-04-25T05:46:59.014295Z"
    },
    "papermill": {
     "duration": 0.05348,
     "end_time": "2025-04-25T05:46:59.015533",
     "exception": false,
     "start_time": "2025-04-25T05:46:58.962053",
     "status": "completed"
    },
    "tags": []
   },
   "outputs": [],
   "source": [
    "#!/usr/bin/env python\n",
    "# coding: utf-8\n",
    "\n",
    "import json\n",
    "import os\n",
    "import pickle\n",
    "import shutil\n",
    "import zipfile\n",
    "\n",
    "import parse\n",
    "import polars as pl"
   ]
  },
  {
   "cell_type": "code",
   "execution_count": 2,
   "id": "5bbee7d0",
   "metadata": {
    "execution": {
     "iopub.execute_input": "2025-04-25T05:46:59.018817Z",
     "iopub.status.busy": "2025-04-25T05:46:59.018695Z",
     "iopub.status.idle": "2025-04-25T05:46:59.020614Z",
     "shell.execute_reply": "2025-04-25T05:46:59.020398Z"
    },
    "papermill": {
     "duration": 0.004021,
     "end_time": "2025-04-25T05:46:59.021231",
     "exception": false,
     "start_time": "2025-04-25T05:46:59.017210",
     "status": "completed"
    },
    "tags": [
     "parameters"
    ]
   },
   "outputs": [],
   "source": [
    "#EXPERIMENT = \"asdf\"\n",
    "#INPUT_ZIP = f\"./outputs/{EXPERIMENT}-step2.zip\"\n",
    "#OUTPUT_DIR = f\"./outputs/{EXPERIMENT}-step3\"\n",
    "#INDEX_COLS = pickle.load(open(f'./outputs/{EXPERIMENT}-step1/INDEX_COLS.pkl', 'rb'))\n",
    "#OUTPUT_COLS = pickle.load(open(f'./outputs/{EXPERIMENT}-step1/OUTPUT_COLS.pkl', 'rb'))\n",
    "#templatedf_path = f\"./outputs/{EXPERIMENT}-step2/templatedf.csv\"\n",
    "EXPERIMENT = \"\"\n",
    "INPUT_ZIP = \"\"\n",
    "OUTPUT_DIR = \"\"\n",
    "INDEX_COLS = []\n",
    "OUTPUT_COLS = []\n",
    "templatedf_path = \"\""
   ]
  },
  {
   "cell_type": "code",
   "execution_count": 3,
   "id": "cd674c4c",
   "metadata": {
    "execution": {
     "iopub.execute_input": "2025-04-25T05:46:59.023760Z",
     "iopub.status.busy": "2025-04-25T05:46:59.023655Z",
     "iopub.status.idle": "2025-04-25T05:46:59.025395Z",
     "shell.execute_reply": "2025-04-25T05:46:59.025130Z"
    },
    "papermill": {
     "duration": 0.003763,
     "end_time": "2025-04-25T05:46:59.026107",
     "exception": false,
     "start_time": "2025-04-25T05:46:59.022344",
     "status": "completed"
    },
    "tags": [
     "injected-parameters"
    ]
   },
   "outputs": [],
   "source": [
    "# Parameters\n",
    "EXPERIMENT = \"ap-duckdb-q4\"\n",
    "OUTPUT_DIR = \"./outputs/ap-duckdb-q4-step3\"\n",
    "INPUT_ZIP = \"./outputs/ap-duckdb-q4-step2.zip\"\n",
    "INDEX_COLS = [\"o_orderpriority\"]\n",
    "OUTPUT_COLS = [\"order_count\"]\n",
    "templatedf_path = \"./outputs/ap-duckdb-q4-step1/template.pkl\"\n"
   ]
  },
  {
   "cell_type": "code",
   "execution_count": 4,
   "id": "7eeff702",
   "metadata": {
    "execution": {
     "iopub.execute_input": "2025-04-25T05:46:59.028832Z",
     "iopub.status.busy": "2025-04-25T05:46:59.028736Z",
     "iopub.status.idle": "2025-04-25T05:46:59.030422Z",
     "shell.execute_reply": "2025-04-25T05:46:59.030171Z"
    },
    "papermill": {
     "duration": 0.003754,
     "end_time": "2025-04-25T05:46:59.031058",
     "exception": false,
     "start_time": "2025-04-25T05:46:59.027304",
     "status": "completed"
    },
    "tags": []
   },
   "outputs": [],
   "source": [
    "if not os.path.exists(OUTPUT_DIR):\n",
    "    os.makedirs(OUTPUT_DIR)"
   ]
  },
  {
   "cell_type": "code",
   "execution_count": 5,
   "id": "257dec28",
   "metadata": {
    "execution": {
     "iopub.execute_input": "2025-04-25T05:46:59.033553Z",
     "iopub.status.busy": "2025-04-25T05:46:59.033463Z",
     "iopub.status.idle": "2025-04-25T05:46:59.035835Z",
     "shell.execute_reply": "2025-04-25T05:46:59.035620Z"
    },
    "papermill": {
     "duration": 0.004297,
     "end_time": "2025-04-25T05:46:59.036473",
     "exception": false,
     "start_time": "2025-04-25T05:46:59.032176",
     "status": "completed"
    },
    "tags": []
   },
   "outputs": [],
   "source": [
    "# Import saved variables from the first step\n",
    "templatedf: pl.DataFrame = pickle.load(open(templatedf_path, 'rb'))"
   ]
  },
  {
   "cell_type": "code",
   "execution_count": 6,
   "id": "ab3a80fe",
   "metadata": {
    "execution": {
     "iopub.execute_input": "2025-04-25T05:46:59.039090Z",
     "iopub.status.busy": "2025-04-25T05:46:59.038997Z",
     "iopub.status.idle": "2025-04-25T05:46:59.043261Z",
     "shell.execute_reply": "2025-04-25T05:46:59.043065Z"
    },
    "papermill": {
     "duration": 0.006251,
     "end_time": "2025-04-25T05:46:59.043866",
     "exception": false,
     "start_time": "2025-04-25T05:46:59.037615",
     "status": "completed"
    },
    "tags": []
   },
   "outputs": [
    {
     "data": {
      "text/plain": [
       "dict_keys([0, 1, 2, 3, 4])"
      ]
     },
     "execution_count": 6,
     "metadata": {},
     "output_type": "execute_result"
    }
   ],
   "source": [
    "# load the json input files from step 2\n",
    "# {'col': column name as string,\n",
    "#  'row': group-by column values as dict (effectively a row id),\n",
    "#  'values': [ 1000x values ] }\n",
    "alldata = {}\n",
    "\n",
    "pattern = parse.compile(\"{n}.json\")\n",
    "\n",
    "with zipfile.ZipFile(INPUT_ZIP, 'r') as zf:\n",
    "    for filename in zf.namelist():\n",
    "        if filename.endswith('.json'):\n",
    "            with zf.open(filename) as f:\n",
    "                filenumber = int(pattern.parse(filename).named['n'])\n",
    "                data = json.load(f)\n",
    "                d: dict = data\n",
    "                alldata[filenumber] = d\n",
    "alldata.keys()"
   ]
  },
  {
   "cell_type": "code",
   "execution_count": 7,
   "id": "fa47deff",
   "metadata": {
    "execution": {
     "iopub.execute_input": "2025-04-25T05:46:59.046465Z",
     "iopub.status.busy": "2025-04-25T05:46:59.046369Z",
     "iopub.status.idle": "2025-04-25T05:46:59.049326Z",
     "shell.execute_reply": "2025-04-25T05:46:59.049130Z"
    },
    "papermill": {
     "duration": 0.00492,
     "end_time": "2025-04-25T05:46:59.049946",
     "exception": false,
     "start_time": "2025-04-25T05:46:59.045026",
     "status": "completed"
    },
    "tags": []
   },
   "outputs": [],
   "source": [
    "# Make sure the data types of the row fields are correct\n",
    "for i in range(len(alldata)):\n",
    "    alldata[i]['row'] = pl.DataFrame(alldata[i]['row']).cast(templatedf.select(INDEX_COLS).schema).to_dicts()[0]"
   ]
  },
  {
   "cell_type": "code",
   "execution_count": 8,
   "id": "1d086fc3",
   "metadata": {
    "execution": {
     "iopub.execute_input": "2025-04-25T05:46:59.052689Z",
     "iopub.status.busy": "2025-04-25T05:46:59.052595Z",
     "iopub.status.idle": "2025-04-25T05:46:59.055012Z",
     "shell.execute_reply": "2025-04-25T05:46:59.054801Z"
    },
    "papermill": {
     "duration": 0.004515,
     "end_time": "2025-04-25T05:46:59.055608",
     "exception": false,
     "start_time": "2025-04-25T05:46:59.051093",
     "status": "completed"
    },
    "tags": []
   },
   "outputs": [
    {
     "data": {
      "text/html": [
       "<div><style>\n",
       ".dataframe > thead > tr,\n",
       ".dataframe > tbody > tr {\n",
       "  text-align: right;\n",
       "  white-space: pre-wrap;\n",
       "}\n",
       "</style>\n",
       "<small>shape: (5, 1)</small><table border=\"1\" class=\"dataframe\"><thead><tr><th>o_orderpriority</th></tr><tr><td>str</td></tr></thead><tbody><tr><td>&quot;1-URGENT&quot;</td></tr><tr><td>&quot;2-HIGH&quot;</td></tr><tr><td>&quot;3-MEDIUM&quot;</td></tr><tr><td>&quot;4-NOT SPECIFIED&quot;</td></tr><tr><td>&quot;5-LOW&quot;</td></tr></tbody></table></div>"
      ],
      "text/plain": [
       "shape: (5, 1)\n",
       "┌─────────────────┐\n",
       "│ o_orderpriority │\n",
       "│ ---             │\n",
       "│ str             │\n",
       "╞═════════════════╡\n",
       "│ 1-URGENT        │\n",
       "│ 2-HIGH          │\n",
       "│ 3-MEDIUM        │\n",
       "│ 4-NOT SPECIFIED │\n",
       "│ 5-LOW           │\n",
       "└─────────────────┘"
      ]
     },
     "execution_count": 8,
     "metadata": {},
     "output_type": "execute_result"
    }
   ],
   "source": [
    "allgroups = templatedf.select(INDEX_COLS)\n",
    "allgroups"
   ]
  },
  {
   "cell_type": "code",
   "execution_count": 9,
   "id": "0b249a7b",
   "metadata": {
    "execution": {
     "iopub.execute_input": "2025-04-25T05:46:59.058492Z",
     "iopub.status.busy": "2025-04-25T05:46:59.058397Z",
     "iopub.status.idle": "2025-04-25T05:46:59.062486Z",
     "shell.execute_reply": "2025-04-25T05:46:59.062284Z"
    },
    "papermill": {
     "duration": 0.006184,
     "end_time": "2025-04-25T05:46:59.063089",
     "exception": false,
     "start_time": "2025-04-25T05:46:59.056905",
     "status": "completed"
    },
    "tags": []
   },
   "outputs": [
    {
     "name": "stdout",
     "output_type": "stream",
     "text": [
      "{'o_orderpriority': '1-URGENT'}\n",
      "{'o_orderpriority': '2-HIGH'}\n",
      "{'o_orderpriority': '3-MEDIUM'}\n",
      "{'o_orderpriority': '4-NOT SPECIFIED'}\n",
      "{'o_orderpriority': '5-LOW'}\n"
     ]
    }
   ],
   "source": [
    "# Cursed data shuffling to reidentify what row goes where, what column goes where, and what the labels should be on everything\n",
    "colidxes = {}\n",
    "for col in OUTPUT_COLS:\n",
    "    colidxes[col] = templatedf.get_column_index(col)\n",
    "rowidxes = {}\n",
    "for row in templatedf.select(INDEX_COLS).iter_rows(named=True):\n",
    "    rowidxes[tuple(row.values())] = allgroups.with_row_index().filter(\n",
    "        pl.col(k).eq(v)\n",
    "        for k, v in row.items()\n",
    "    ).select(\"index\").item()\n",
    "    print(row)\n",
    "\n",
    "allinfo = [\n",
    "    {\"colname\": adentry['col'],\n",
    "    \"rowid\": tuple(adentry['row'].values()),\n",
    "    \"value\": adentry['value'][0],\n",
    "    \"colidx\": colidxes[adentry['col']],\n",
    "    \"rowidx\": rowidxes[tuple(adentry['row'].values())]}\n",
    "    for adidx, adentry in alldata.items()\n",
    "]\n",
    "\n",
    "colnames = {}\n",
    "rownames = {}\n",
    "for entry in allinfo:\n",
    "    colnames[entry['colidx']] = entry['colname']\n",
    "    rownames[entry['rowidx']] = entry['rowid']"
   ]
  },
  {
   "cell_type": "markdown",
   "id": "61e58b37",
   "metadata": {
    "papermill": {
     "duration": 0.001084,
     "end_time": "2025-04-25T05:46:59.065373",
     "exception": false,
     "start_time": "2025-04-25T05:46:59.064289",
     "status": "completed"
    },
    "tags": []
   },
   "source": [
    "Naive reconstruction"
   ]
  },
  {
   "cell_type": "code",
   "execution_count": 10,
   "id": "c6da70b0",
   "metadata": {
    "execution": {
     "iopub.execute_input": "2025-04-25T05:46:59.067936Z",
     "iopub.status.busy": "2025-04-25T05:46:59.067848Z",
     "iopub.status.idle": "2025-04-25T05:46:59.108513Z",
     "shell.execute_reply": "2025-04-25T05:46:59.107895Z"
    },
    "papermill": {
     "duration": 0.043774,
     "end_time": "2025-04-25T05:46:59.110218",
     "exception": false,
     "start_time": "2025-04-25T05:46:59.066444",
     "status": "completed"
    },
    "tags": []
   },
   "outputs": [
    {
     "name": "stdout",
     "output_type": "stream",
     "text": [
      "['o_orderpriority', 'order_count']\n",
      "['1-URGENT', 548.4610587431772]\n",
      "['2-HIGH', 536.4561219866389]\n",
      "['3-MEDIUM', 497.88190314159203]\n",
      "['4-NOT SPECIFIED', 462.46858103528535]\n",
      "['5-LOW', 510.4297496415337]\n"
     ]
    }
   ],
   "source": [
    "# Naive reconstruction based on the indices of the keys in the templatedf\n",
    "allcols = INDEX_COLS + OUTPUT_COLS\n",
    "allrows = allgroups.select(INDEX_COLS).to_numpy().tolist()\n",
    "\n",
    "allinfo2 = {\n",
    "    (rowidxes[tuple(adentry['row'].values())], colidxes[adentry['col']]): adentry['value'][0]\n",
    "    for adidx, adentry in alldata.items()\n",
    "}\n",
    "\n",
    "df2 = []\n",
    "print(allcols)\n",
    "for row in allrows:\n",
    "    print(row + [allinfo2.get((rowidxes[tuple(row)], colidxes[col]), None) for col in OUTPUT_COLS])\n",
    "    df2.append(row + [allinfo2.get((rowidxes[tuple(row)], colidxes[col]), None) for col in OUTPUT_COLS])"
   ]
  },
  {
   "cell_type": "code",
   "execution_count": 11,
   "id": "396c2efa",
   "metadata": {
    "execution": {
     "iopub.execute_input": "2025-04-25T05:46:59.115633Z",
     "iopub.status.busy": "2025-04-25T05:46:59.115309Z",
     "iopub.status.idle": "2025-04-25T05:46:59.121243Z",
     "shell.execute_reply": "2025-04-25T05:46:59.120607Z"
    },
    "papermill": {
     "duration": 0.009926,
     "end_time": "2025-04-25T05:46:59.122958",
     "exception": false,
     "start_time": "2025-04-25T05:46:59.113032",
     "status": "completed"
    },
    "tags": []
   },
   "outputs": [
    {
     "data": {
      "text/html": [
       "<div><style>\n",
       ".dataframe > thead > tr,\n",
       ".dataframe > tbody > tr {\n",
       "  text-align: right;\n",
       "  white-space: pre-wrap;\n",
       "}\n",
       "</style>\n",
       "<small>shape: (5, 2)</small><table border=\"1\" class=\"dataframe\"><thead><tr><th>o_orderpriority</th><th>order_count</th></tr><tr><td>str</td><td>i64</td></tr></thead><tbody><tr><td>&quot;1-URGENT&quot;</td><td>548</td></tr><tr><td>&quot;2-HIGH&quot;</td><td>536</td></tr><tr><td>&quot;3-MEDIUM&quot;</td><td>497</td></tr><tr><td>&quot;4-NOT SPECIFIED&quot;</td><td>462</td></tr><tr><td>&quot;5-LOW&quot;</td><td>510</td></tr></tbody></table></div>"
      ],
      "text/plain": [
       "shape: (5, 2)\n",
       "┌─────────────────┬─────────────┐\n",
       "│ o_orderpriority ┆ order_count │\n",
       "│ ---             ┆ ---         │\n",
       "│ str             ┆ i64         │\n",
       "╞═════════════════╪═════════════╡\n",
       "│ 1-URGENT        ┆ 548         │\n",
       "│ 2-HIGH          ┆ 536         │\n",
       "│ 3-MEDIUM        ┆ 497         │\n",
       "│ 4-NOT SPECIFIED ┆ 462         │\n",
       "│ 5-LOW           ┆ 510         │\n",
       "└─────────────────┴─────────────┘"
      ]
     },
     "execution_count": 11,
     "metadata": {},
     "output_type": "execute_result"
    }
   ],
   "source": [
    "pl.DataFrame(df2, schema=allcols, orient='row').cast(templatedf.schema)"
   ]
  },
  {
   "cell_type": "code",
   "execution_count": 12,
   "id": "22658efb",
   "metadata": {
    "execution": {
     "iopub.execute_input": "2025-04-25T05:46:59.130691Z",
     "iopub.status.busy": "2025-04-25T05:46:59.130250Z",
     "iopub.status.idle": "2025-04-25T05:46:59.144735Z",
     "shell.execute_reply": "2025-04-25T05:46:59.143992Z"
    },
    "papermill": {
     "duration": 0.019792,
     "end_time": "2025-04-25T05:46:59.147757",
     "exception": false,
     "start_time": "2025-04-25T05:46:59.127965",
     "status": "completed"
    },
    "tags": []
   },
   "outputs": [],
   "source": [
    "pl.DataFrame(df2, schema=allcols, orient='row').cast(templatedf.schema).write_csv(os.path.join(OUTPUT_DIR, 'output.csv'))"
   ]
  },
  {
   "cell_type": "code",
   "execution_count": 13,
   "id": "fbf29824",
   "metadata": {
    "execution": {
     "iopub.execute_input": "2025-04-25T05:46:59.156246Z",
     "iopub.status.busy": "2025-04-25T05:46:59.155476Z",
     "iopub.status.idle": "2025-04-25T05:46:59.163511Z",
     "shell.execute_reply": "2025-04-25T05:46:59.160776Z"
    },
    "papermill": {
     "duration": 0.012467,
     "end_time": "2025-04-25T05:46:59.165436",
     "exception": false,
     "start_time": "2025-04-25T05:46:59.152969",
     "status": "completed"
    },
    "tags": []
   },
   "outputs": [
    {
     "data": {
      "text/plain": [
       "'/Users/michael/projects/dpdb/pacdb/outputs/ap-duckdb-q4-step3.zip'"
      ]
     },
     "execution_count": 13,
     "metadata": {},
     "output_type": "execute_result"
    }
   ],
   "source": [
    "# zip the OUTPUT_DIR\n",
    "shutil.make_archive(OUTPUT_DIR, 'zip', OUTPUT_DIR)"
   ]
  }
 ],
 "metadata": {
  "kernelspec": {
   "display_name": ".venv",
   "language": "python",
   "name": "python3"
  },
  "language_info": {
   "codemirror_mode": {
    "name": "ipython",
    "version": 3
   },
   "file_extension": ".py",
   "mimetype": "text/x-python",
   "name": "python",
   "nbconvert_exporter": "python",
   "pygments_lexer": "ipython3",
   "version": "3.11.7"
  },
  "papermill": {
   "default_parameters": {},
   "duration": 1.254668,
   "end_time": "2025-04-25T05:46:59.389324",
   "environment_variables": {},
   "exception": null,
   "input_path": "autopac-duckdb-step3.ipynb",
   "output_path": "./ap-duckdb-q4-step3.ipynb",
   "parameters": {
    "EXPERIMENT": "ap-duckdb-q4",
    "INDEX_COLS": [
     "o_orderpriority"
    ],
    "INPUT_ZIP": "./outputs/ap-duckdb-q4-step2.zip",
    "OUTPUT_COLS": [
     "order_count"
    ],
    "OUTPUT_DIR": "./outputs/ap-duckdb-q4-step3",
    "templatedf_path": "./outputs/ap-duckdb-q4-step1/template.pkl"
   },
   "start_time": "2025-04-25T05:46:58.134656",
   "version": "2.6.0"
  }
 },
 "nbformat": 4,
 "nbformat_minor": 5
}